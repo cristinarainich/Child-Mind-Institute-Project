{
  "nbformat": 4,
  "nbformat_minor": 0,
  "metadata": {
    "colab": {
      "provenance": [],
      "authorship_tag": "ABX9TyN4WoezDVrAYx4fcH9xaEHt",
      "include_colab_link": true
    },
    "kernelspec": {
      "name": "python3",
      "display_name": "Python 3"
    },
    "language_info": {
      "name": "python"
    }
  },
  "cells": [
    {
      "cell_type": "markdown",
      "metadata": {
        "id": "view-in-github",
        "colab_type": "text"
      },
      "source": [
        "<a href=\"https://colab.research.google.com/github/cristinarainich/Child-Mind-Institute-Project/blob/main/Pheno_data.ipynb\" target=\"_parent\"><img src=\"https://colab.research.google.com/assets/colab-badge.svg\" alt=\"Open In Colab\"/></a>"
      ]
    },
    {
      "cell_type": "code",
      "execution_count": 1,
      "metadata": {
        "colab": {
          "base_uri": "https://localhost:8080/"
        },
        "id": "7sLM_aBE1XSO",
        "outputId": "8e7b99df-ddef-4fb4-855c-0208c5db8b72"
      },
      "outputs": [
        {
          "output_type": "stream",
          "name": "stdout",
          "text": [
            "Mounted at /content/drive\n"
          ]
        }
      ],
      "source": [
        "from google.colab import drive\n",
        "drive.mount('/content/drive')"
      ]
    },
    {
      "cell_type": "code",
      "source": [
        "from pathlib import Path\n",
        "import pandas as pd\n",
        "import numpy as np\n",
        "import pylab as pl\n",
        "import seaborn as sns\n",
        "%pylab inline"
      ],
      "metadata": {
        "colab": {
          "base_uri": "https://localhost:8080/"
        },
        "id": "aaZC6otb1s12",
        "outputId": "f76d6c5a-f55d-40cc-9c47-4870e21848b8"
      },
      "execution_count": 2,
      "outputs": [
        {
          "output_type": "stream",
          "name": "stdout",
          "text": [
            "Populating the interactive namespace from numpy and matplotlib\n"
          ]
        }
      ]
    },
    {
      "cell_type": "code",
      "source": [
        "sns.set()"
      ],
      "metadata": {
        "id": "lAeNDY5uJvVf"
      },
      "execution_count": 3,
      "outputs": []
    },
    {
      "cell_type": "code",
      "source": [
        "working_path = Path('/content/drive/MyDrive/KKNV')"
      ],
      "metadata": {
        "id": "aonUk2xG1llO"
      },
      "execution_count": 4,
      "outputs": []
    },
    {
      "cell_type": "code",
      "source": [
        "cd /content/drive/MyDrive/KKNV"
      ],
      "metadata": {
        "colab": {
          "base_uri": "https://localhost:8080/"
        },
        "id": "z9Xbaxjz1yH3",
        "outputId": "58808d69-7033-4e98-e561-444fa01270e4"
      },
      "execution_count": 5,
      "outputs": [
        {
          "output_type": "stream",
          "name": "stdout",
          "text": [
            "/content/drive/MyDrive/KKNV\n"
          ]
        }
      ]
    },
    {
      "cell_type": "markdown",
      "source": [
        "## File informations from different releases"
      ],
      "metadata": {
        "id": "CtAp_u7jXWtt"
      }
    },
    {
      "cell_type": "code",
      "source": [
        "!ls /content/drive/MyDrive/KKNV"
      ],
      "metadata": {
        "colab": {
          "base_uri": "https://localhost:8080/"
        },
        "id": "q3nRWl5Ku-95",
        "outputId": "8e1ca0f1-a394-438e-9f5f-a04098ad0ec4"
      },
      "execution_count": null,
      "outputs": [
        {
          "output_type": "stream",
          "name": "stdout",
          "text": [
            "HBN_R10_Pheno.csv   HBN_R3_Pheno.csv  HBN_R6_Pheno.csv\tHBN_R9_Pheno.csv\n",
            "HBN_R1_1_Pheno.csv  HBN_R4_Pheno.csv  HBN_R7_Pheno.csv\tPheno.csv\n",
            "HBN_R2_1_Pheno.csv  HBN_R5_Pheno.csv  HBN_R8_Pheno.csv\tQuery1.csv\n"
          ]
        }
      ]
    },
    {
      "cell_type": "code",
      "source": [
        "# info on whether there are phenotypical full files and imaging data availale\n",
        "file1 = pd.read_csv(\n",
        "    working_path.joinpath('HBN_R1_1_Pheno.csv'),\n",
        "    index_col=None\n",
        ")\n",
        "file2 = pd.read_csv(\n",
        "    working_path.joinpath('HBN_R2_1_Pheno.csv'),\n",
        "    index_col=None\n",
        ")\n",
        "file3 = pd.read_csv(\n",
        "    working_path.joinpath('HBN_R3_Pheno.csv'),\n",
        "    index_col=None\n",
        ")\n",
        "file4 = pd.read_csv(\n",
        "    working_path.joinpath('HBN_R4_Pheno.csv'),\n",
        "    index_col=None\n",
        ")\n",
        "file5 = pd.read_csv(\n",
        "    working_path.joinpath('HBN_R5_Pheno.csv'),\n",
        "    index_col=None\n",
        ")\n",
        "file6 = pd.read_csv(\n",
        "    working_path.joinpath('HBN_R6_Pheno.csv'),\n",
        "    index_col=None\n",
        ")\n",
        "file7 = pd.read_csv(\n",
        "    working_path.joinpath('HBN_R7_Pheno.csv'),\n",
        "    index_col=None\n",
        ")\n",
        "file8 = pd.read_csv(\n",
        "    working_path.joinpath('HBN_R8_Pheno.csv'),\n",
        "    index_col=None\n",
        ")\n",
        "file9 = pd.read_csv(\n",
        "    working_path.joinpath('HBN_R9_Pheno.csv'),\n",
        "    index_col=None\n",
        ")\n",
        "file10 = pd.read_csv(\n",
        "    working_path.joinpath('HBN_R10_Pheno.csv'),\n",
        "    index_col=None\n",
        ")"
      ],
      "metadata": {
        "id": "HAn8D8FMVav4"
      },
      "execution_count": null,
      "outputs": []
    },
    {
      "cell_type": "code",
      "source": [
        "fullpheno = pd.concat([file1, file2])\n",
        "fullpheno = pd.concat([fullpheno, file3])\n",
        "fullpheno = pd.concat([fullpheno, file4])\n",
        "fullpheno = pd.concat([fullpheno, file5])\n",
        "fullpheno = pd.concat([fullpheno, file6])\n",
        "fullpheno = pd.concat([fullpheno, file7])\n",
        "fullpheno = pd.concat([fullpheno, file8])\n",
        "fullpheno = pd.concat([fullpheno, file9])\n",
        "fullpheno = pd.concat([fullpheno, file10])"
      ],
      "metadata": {
        "id": "kQmGWLmVXjhC"
      },
      "execution_count": null,
      "outputs": []
    },
    {
      "cell_type": "code",
      "source": [
        "fullpheno.to_csv(\n",
        "    Path(working_path).joinpath('full_pheno.csv')\n",
        ")"
      ],
      "metadata": {
        "id": "3wpGbu9YXZHb"
      },
      "execution_count": null,
      "outputs": []
    },
    {
      "cell_type": "markdown",
      "source": [
        "## Creating a file on MRI and full pheno information"
      ],
      "metadata": {
        "id": "iv1DcB3tXfv3"
      }
    },
    {
      "cell_type": "code",
      "source": [
        "# file with the identifiers that have mri imaging\n",
        "fullpheno = pd.read_csv(\n",
        "    working_path.joinpath('full_pheno.csv'),\n",
        "    index_col=None\n",
        ")"
      ],
      "metadata": {
        "id": "ZvqVNi2FYC4w"
      },
      "execution_count": 6,
      "outputs": []
    },
    {
      "cell_type": "code",
      "source": [
        "fullpheno.head()"
      ],
      "metadata": {
        "id": "40B35TbWY8MJ",
        "outputId": "98793cbc-b12e-4f96-b133-f11da4c8e6fb",
        "colab": {
          "base_uri": "https://localhost:8080/",
          "height": 206
        }
      },
      "execution_count": 7,
      "outputs": [
        {
          "output_type": "execute_result",
          "data": {
            "text/plain": [
              "   Unnamed: 0           EID  Sex        Age  EHQ_Total Commercial_Use  \\\n",
              "0           0  NDARYM832PX3  1.0   7.048254     -33.35             No   \n",
              "1           1  NDARNJ687DMC  1.0   6.348163      46.67             No   \n",
              "2           2  NDARFM080VAF  1.0   7.623203    -100.00             No   \n",
              "3           3  NDARFW130NGG  1.0   8.316107      93.34             No   \n",
              "4           4  NDARDT800YVF  0.0  17.510381      86.67             No   \n",
              "\n",
              "  Full_Pheno  \n",
              "0        Yes  \n",
              "1        Yes  \n",
              "2        Yes  \n",
              "3        Yes  \n",
              "4        Yes  "
            ],
            "text/html": [
              "\n",
              "  <div id=\"df-cf3d7188-5b0b-445c-8c43-3e56c7c53d62\">\n",
              "    <div class=\"colab-df-container\">\n",
              "      <div>\n",
              "<style scoped>\n",
              "    .dataframe tbody tr th:only-of-type {\n",
              "        vertical-align: middle;\n",
              "    }\n",
              "\n",
              "    .dataframe tbody tr th {\n",
              "        vertical-align: top;\n",
              "    }\n",
              "\n",
              "    .dataframe thead th {\n",
              "        text-align: right;\n",
              "    }\n",
              "</style>\n",
              "<table border=\"1\" class=\"dataframe\">\n",
              "  <thead>\n",
              "    <tr style=\"text-align: right;\">\n",
              "      <th></th>\n",
              "      <th>Unnamed: 0</th>\n",
              "      <th>EID</th>\n",
              "      <th>Sex</th>\n",
              "      <th>Age</th>\n",
              "      <th>EHQ_Total</th>\n",
              "      <th>Commercial_Use</th>\n",
              "      <th>Full_Pheno</th>\n",
              "    </tr>\n",
              "  </thead>\n",
              "  <tbody>\n",
              "    <tr>\n",
              "      <th>0</th>\n",
              "      <td>0</td>\n",
              "      <td>NDARYM832PX3</td>\n",
              "      <td>1.0</td>\n",
              "      <td>7.048254</td>\n",
              "      <td>-33.35</td>\n",
              "      <td>No</td>\n",
              "      <td>Yes</td>\n",
              "    </tr>\n",
              "    <tr>\n",
              "      <th>1</th>\n",
              "      <td>1</td>\n",
              "      <td>NDARNJ687DMC</td>\n",
              "      <td>1.0</td>\n",
              "      <td>6.348163</td>\n",
              "      <td>46.67</td>\n",
              "      <td>No</td>\n",
              "      <td>Yes</td>\n",
              "    </tr>\n",
              "    <tr>\n",
              "      <th>2</th>\n",
              "      <td>2</td>\n",
              "      <td>NDARFM080VAF</td>\n",
              "      <td>1.0</td>\n",
              "      <td>7.623203</td>\n",
              "      <td>-100.00</td>\n",
              "      <td>No</td>\n",
              "      <td>Yes</td>\n",
              "    </tr>\n",
              "    <tr>\n",
              "      <th>3</th>\n",
              "      <td>3</td>\n",
              "      <td>NDARFW130NGG</td>\n",
              "      <td>1.0</td>\n",
              "      <td>8.316107</td>\n",
              "      <td>93.34</td>\n",
              "      <td>No</td>\n",
              "      <td>Yes</td>\n",
              "    </tr>\n",
              "    <tr>\n",
              "      <th>4</th>\n",
              "      <td>4</td>\n",
              "      <td>NDARDT800YVF</td>\n",
              "      <td>0.0</td>\n",
              "      <td>17.510381</td>\n",
              "      <td>86.67</td>\n",
              "      <td>No</td>\n",
              "      <td>Yes</td>\n",
              "    </tr>\n",
              "  </tbody>\n",
              "</table>\n",
              "</div>\n",
              "      <button class=\"colab-df-convert\" onclick=\"convertToInteractive('df-cf3d7188-5b0b-445c-8c43-3e56c7c53d62')\"\n",
              "              title=\"Convert this dataframe to an interactive table.\"\n",
              "              style=\"display:none;\">\n",
              "        \n",
              "  <svg xmlns=\"http://www.w3.org/2000/svg\" height=\"24px\"viewBox=\"0 0 24 24\"\n",
              "       width=\"24px\">\n",
              "    <path d=\"M0 0h24v24H0V0z\" fill=\"none\"/>\n",
              "    <path d=\"M18.56 5.44l.94 2.06.94-2.06 2.06-.94-2.06-.94-.94-2.06-.94 2.06-2.06.94zm-11 1L8.5 8.5l.94-2.06 2.06-.94-2.06-.94L8.5 2.5l-.94 2.06-2.06.94zm10 10l.94 2.06.94-2.06 2.06-.94-2.06-.94-.94-2.06-.94 2.06-2.06.94z\"/><path d=\"M17.41 7.96l-1.37-1.37c-.4-.4-.92-.59-1.43-.59-.52 0-1.04.2-1.43.59L10.3 9.45l-7.72 7.72c-.78.78-.78 2.05 0 2.83L4 21.41c.39.39.9.59 1.41.59.51 0 1.02-.2 1.41-.59l7.78-7.78 2.81-2.81c.8-.78.8-2.07 0-2.86zM5.41 20L4 18.59l7.72-7.72 1.47 1.35L5.41 20z\"/>\n",
              "  </svg>\n",
              "      </button>\n",
              "      \n",
              "  <style>\n",
              "    .colab-df-container {\n",
              "      display:flex;\n",
              "      flex-wrap:wrap;\n",
              "      gap: 12px;\n",
              "    }\n",
              "\n",
              "    .colab-df-convert {\n",
              "      background-color: #E8F0FE;\n",
              "      border: none;\n",
              "      border-radius: 50%;\n",
              "      cursor: pointer;\n",
              "      display: none;\n",
              "      fill: #1967D2;\n",
              "      height: 32px;\n",
              "      padding: 0 0 0 0;\n",
              "      width: 32px;\n",
              "    }\n",
              "\n",
              "    .colab-df-convert:hover {\n",
              "      background-color: #E2EBFA;\n",
              "      box-shadow: 0px 1px 2px rgba(60, 64, 67, 0.3), 0px 1px 3px 1px rgba(60, 64, 67, 0.15);\n",
              "      fill: #174EA6;\n",
              "    }\n",
              "\n",
              "    [theme=dark] .colab-df-convert {\n",
              "      background-color: #3B4455;\n",
              "      fill: #D2E3FC;\n",
              "    }\n",
              "\n",
              "    [theme=dark] .colab-df-convert:hover {\n",
              "      background-color: #434B5C;\n",
              "      box-shadow: 0px 1px 3px 1px rgba(0, 0, 0, 0.15);\n",
              "      filter: drop-shadow(0px 1px 2px rgba(0, 0, 0, 0.3));\n",
              "      fill: #FFFFFF;\n",
              "    }\n",
              "  </style>\n",
              "\n",
              "      <script>\n",
              "        const buttonEl =\n",
              "          document.querySelector('#df-cf3d7188-5b0b-445c-8c43-3e56c7c53d62 button.colab-df-convert');\n",
              "        buttonEl.style.display =\n",
              "          google.colab.kernel.accessAllowed ? 'block' : 'none';\n",
              "\n",
              "        async function convertToInteractive(key) {\n",
              "          const element = document.querySelector('#df-cf3d7188-5b0b-445c-8c43-3e56c7c53d62');\n",
              "          const dataTable =\n",
              "            await google.colab.kernel.invokeFunction('convertToInteractive',\n",
              "                                                     [key], {});\n",
              "          if (!dataTable) return;\n",
              "\n",
              "          const docLinkHtml = 'Like what you see? Visit the ' +\n",
              "            '<a target=\"_blank\" href=https://colab.research.google.com/notebooks/data_table.ipynb>data table notebook</a>'\n",
              "            + ' to learn more about interactive tables.';\n",
              "          element.innerHTML = '';\n",
              "          dataTable['output_type'] = 'display_data';\n",
              "          await google.colab.output.renderOutput(dataTable, element);\n",
              "          const docLink = document.createElement('div');\n",
              "          docLink.innerHTML = docLinkHtml;\n",
              "          element.appendChild(docLink);\n",
              "        }\n",
              "      </script>\n",
              "    </div>\n",
              "  </div>\n",
              "  "
            ]
          },
          "metadata": {},
          "execution_count": 7
        }
      ]
    },
    {
      "cell_type": "code",
      "source": [
        "print(fullpheno.shape)\n",
        "print(len(fullpheno.EID.unique()))\n",
        "# there are some identifiers that are repeated in the table"
      ],
      "metadata": {
        "id": "61ut-oUNZQT9",
        "outputId": "60f15b65-5b67-40c2-b14b-d7fa0f2fceb9",
        "colab": {
          "base_uri": "https://localhost:8080/"
        }
      },
      "execution_count": 8,
      "outputs": [
        {
          "output_type": "stream",
          "name": "stdout",
          "text": [
            "(5106, 7)\n",
            "4245\n"
          ]
        }
      ]
    },
    {
      "cell_type": "code",
      "source": [
        "unique = []\n",
        "repetition = []\n",
        "for i in fullpheno.EID.values:\n",
        "  if i not in unique:\n",
        "    unique.append(i)\n",
        "  else:\n",
        "    repetition.append(i)\n",
        "print(fullpheno.shape[0])\n",
        "print(len(unique))\n",
        "print(len(repetition))"
      ],
      "metadata": {
        "id": "n27542-KsZVK",
        "outputId": "ad93d085-50cf-4d5f-bc80-be2c5aa52685",
        "colab": {
          "base_uri": "https://localhost:8080/"
        }
      },
      "execution_count": 9,
      "outputs": [
        {
          "output_type": "stream",
          "name": "stdout",
          "text": [
            "5106\n",
            "4245\n",
            "861\n"
          ]
        }
      ]
    },
    {
      "cell_type": "code",
      "source": [
        "full_no_doubles = fullpheno.drop_duplicates()"
      ],
      "metadata": {
        "id": "LN5Z-Sq3CQKO"
      },
      "execution_count": 10,
      "outputs": []
    },
    {
      "cell_type": "code",
      "source": [
        "unique = []\n",
        "repetition = []\n",
        "for i in full_no_doubles.EID.values:\n",
        "  if i not in unique:\n",
        "    unique.append(i)\n",
        "  else:\n",
        "    repetition.append(i)\n",
        "print(full_no_doubles.shape[0])\n",
        "print(len(unique))\n",
        "print(len(repetition))\n",
        "# still there is some repetition but let's see whether something disappears when we clean data"
      ],
      "metadata": {
        "id": "o6Uf2r-hCwNB",
        "outputId": "f6c8d4fc-4ad0-41a4-8f01-91e7b4f88d61",
        "colab": {
          "base_uri": "https://localhost:8080/"
        }
      },
      "execution_count": 11,
      "outputs": [
        {
          "output_type": "stream",
          "name": "stdout",
          "text": [
            "5105\n",
            "4245\n",
            "860\n"
          ]
        }
      ]
    },
    {
      "cell_type": "code",
      "source": [
        "full_no_doubles.groupby(['Full_Pheno']).count()"
      ],
      "metadata": {
        "id": "67BBaILqDPD6",
        "outputId": "9c42e0c3-0a23-4e4a-cb81-71b964b44320",
        "colab": {
          "base_uri": "https://localhost:8080/",
          "height": 143
        }
      },
      "execution_count": 12,
      "outputs": [
        {
          "output_type": "execute_result",
          "data": {
            "text/plain": [
              "            Unnamed: 0   EID   Sex   Age  EHQ_Total  Commercial_Use\n",
              "Full_Pheno                                                         \n",
              "No                 760   760   760   760        757             760\n",
              "Yes               4344  4344  4344  4344       4264            4344"
            ],
            "text/html": [
              "\n",
              "  <div id=\"df-b7e82bb7-1ba7-4b0b-abff-23fa488582f9\">\n",
              "    <div class=\"colab-df-container\">\n",
              "      <div>\n",
              "<style scoped>\n",
              "    .dataframe tbody tr th:only-of-type {\n",
              "        vertical-align: middle;\n",
              "    }\n",
              "\n",
              "    .dataframe tbody tr th {\n",
              "        vertical-align: top;\n",
              "    }\n",
              "\n",
              "    .dataframe thead th {\n",
              "        text-align: right;\n",
              "    }\n",
              "</style>\n",
              "<table border=\"1\" class=\"dataframe\">\n",
              "  <thead>\n",
              "    <tr style=\"text-align: right;\">\n",
              "      <th></th>\n",
              "      <th>Unnamed: 0</th>\n",
              "      <th>EID</th>\n",
              "      <th>Sex</th>\n",
              "      <th>Age</th>\n",
              "      <th>EHQ_Total</th>\n",
              "      <th>Commercial_Use</th>\n",
              "    </tr>\n",
              "    <tr>\n",
              "      <th>Full_Pheno</th>\n",
              "      <th></th>\n",
              "      <th></th>\n",
              "      <th></th>\n",
              "      <th></th>\n",
              "      <th></th>\n",
              "      <th></th>\n",
              "    </tr>\n",
              "  </thead>\n",
              "  <tbody>\n",
              "    <tr>\n",
              "      <th>No</th>\n",
              "      <td>760</td>\n",
              "      <td>760</td>\n",
              "      <td>760</td>\n",
              "      <td>760</td>\n",
              "      <td>757</td>\n",
              "      <td>760</td>\n",
              "    </tr>\n",
              "    <tr>\n",
              "      <th>Yes</th>\n",
              "      <td>4344</td>\n",
              "      <td>4344</td>\n",
              "      <td>4344</td>\n",
              "      <td>4344</td>\n",
              "      <td>4264</td>\n",
              "      <td>4344</td>\n",
              "    </tr>\n",
              "  </tbody>\n",
              "</table>\n",
              "</div>\n",
              "      <button class=\"colab-df-convert\" onclick=\"convertToInteractive('df-b7e82bb7-1ba7-4b0b-abff-23fa488582f9')\"\n",
              "              title=\"Convert this dataframe to an interactive table.\"\n",
              "              style=\"display:none;\">\n",
              "        \n",
              "  <svg xmlns=\"http://www.w3.org/2000/svg\" height=\"24px\"viewBox=\"0 0 24 24\"\n",
              "       width=\"24px\">\n",
              "    <path d=\"M0 0h24v24H0V0z\" fill=\"none\"/>\n",
              "    <path d=\"M18.56 5.44l.94 2.06.94-2.06 2.06-.94-2.06-.94-.94-2.06-.94 2.06-2.06.94zm-11 1L8.5 8.5l.94-2.06 2.06-.94-2.06-.94L8.5 2.5l-.94 2.06-2.06.94zm10 10l.94 2.06.94-2.06 2.06-.94-2.06-.94-.94-2.06-.94 2.06-2.06.94z\"/><path d=\"M17.41 7.96l-1.37-1.37c-.4-.4-.92-.59-1.43-.59-.52 0-1.04.2-1.43.59L10.3 9.45l-7.72 7.72c-.78.78-.78 2.05 0 2.83L4 21.41c.39.39.9.59 1.41.59.51 0 1.02-.2 1.41-.59l7.78-7.78 2.81-2.81c.8-.78.8-2.07 0-2.86zM5.41 20L4 18.59l7.72-7.72 1.47 1.35L5.41 20z\"/>\n",
              "  </svg>\n",
              "      </button>\n",
              "      \n",
              "  <style>\n",
              "    .colab-df-container {\n",
              "      display:flex;\n",
              "      flex-wrap:wrap;\n",
              "      gap: 12px;\n",
              "    }\n",
              "\n",
              "    .colab-df-convert {\n",
              "      background-color: #E8F0FE;\n",
              "      border: none;\n",
              "      border-radius: 50%;\n",
              "      cursor: pointer;\n",
              "      display: none;\n",
              "      fill: #1967D2;\n",
              "      height: 32px;\n",
              "      padding: 0 0 0 0;\n",
              "      width: 32px;\n",
              "    }\n",
              "\n",
              "    .colab-df-convert:hover {\n",
              "      background-color: #E2EBFA;\n",
              "      box-shadow: 0px 1px 2px rgba(60, 64, 67, 0.3), 0px 1px 3px 1px rgba(60, 64, 67, 0.15);\n",
              "      fill: #174EA6;\n",
              "    }\n",
              "\n",
              "    [theme=dark] .colab-df-convert {\n",
              "      background-color: #3B4455;\n",
              "      fill: #D2E3FC;\n",
              "    }\n",
              "\n",
              "    [theme=dark] .colab-df-convert:hover {\n",
              "      background-color: #434B5C;\n",
              "      box-shadow: 0px 1px 3px 1px rgba(0, 0, 0, 0.15);\n",
              "      filter: drop-shadow(0px 1px 2px rgba(0, 0, 0, 0.3));\n",
              "      fill: #FFFFFF;\n",
              "    }\n",
              "  </style>\n",
              "\n",
              "      <script>\n",
              "        const buttonEl =\n",
              "          document.querySelector('#df-b7e82bb7-1ba7-4b0b-abff-23fa488582f9 button.colab-df-convert');\n",
              "        buttonEl.style.display =\n",
              "          google.colab.kernel.accessAllowed ? 'block' : 'none';\n",
              "\n",
              "        async function convertToInteractive(key) {\n",
              "          const element = document.querySelector('#df-b7e82bb7-1ba7-4b0b-abff-23fa488582f9');\n",
              "          const dataTable =\n",
              "            await google.colab.kernel.invokeFunction('convertToInteractive',\n",
              "                                                     [key], {});\n",
              "          if (!dataTable) return;\n",
              "\n",
              "          const docLinkHtml = 'Like what you see? Visit the ' +\n",
              "            '<a target=\"_blank\" href=https://colab.research.google.com/notebooks/data_table.ipynb>data table notebook</a>'\n",
              "            + ' to learn more about interactive tables.';\n",
              "          element.innerHTML = '';\n",
              "          dataTable['output_type'] = 'display_data';\n",
              "          await google.colab.output.renderOutput(dataTable, element);\n",
              "          const docLink = document.createElement('div');\n",
              "          docLink.innerHTML = docLinkHtml;\n",
              "          element.appendChild(docLink);\n",
              "        }\n",
              "      </script>\n",
              "    </div>\n",
              "  </div>\n",
              "  "
            ]
          },
          "metadata": {},
          "execution_count": 12
        }
      ]
    },
    {
      "cell_type": "code",
      "source": [
        "pheno_mri = full_no_doubles[full_no_doubles['Full_Pheno'] == 'Yes']\n",
        "print(pheno_mri.shape)"
      ],
      "metadata": {
        "id": "MJ66Mkz1Dr-n",
        "outputId": "9bd77895-cf5c-4481-dc2d-59b27344a1c5",
        "colab": {
          "base_uri": "https://localhost:8080/"
        }
      },
      "execution_count": 13,
      "outputs": [
        {
          "output_type": "stream",
          "name": "stdout",
          "text": [
            "(4344, 7)\n"
          ]
        }
      ]
    },
    {
      "cell_type": "code",
      "source": [
        "pheno_mri.groupby(['Sex']).count()\n",
        "# Sex 1 - female, 0 - male"
      ],
      "metadata": {
        "id": "KwTWekG4EA7W",
        "outputId": "e502c096-4f00-4854-e39f-39e0711586b2",
        "colab": {
          "base_uri": "https://localhost:8080/",
          "height": 143
        }
      },
      "execution_count": 14,
      "outputs": [
        {
          "output_type": "execute_result",
          "data": {
            "text/plain": [
              "     Unnamed: 0   EID   Age  EHQ_Total  Commercial_Use  Full_Pheno\n",
              "Sex                                                               \n",
              "0.0        2797  2797  2797       2741            2797        2797\n",
              "1.0        1547  1547  1547       1523            1547        1547"
            ],
            "text/html": [
              "\n",
              "  <div id=\"df-040ff83d-7744-4df4-be9b-21db24a98f40\">\n",
              "    <div class=\"colab-df-container\">\n",
              "      <div>\n",
              "<style scoped>\n",
              "    .dataframe tbody tr th:only-of-type {\n",
              "        vertical-align: middle;\n",
              "    }\n",
              "\n",
              "    .dataframe tbody tr th {\n",
              "        vertical-align: top;\n",
              "    }\n",
              "\n",
              "    .dataframe thead th {\n",
              "        text-align: right;\n",
              "    }\n",
              "</style>\n",
              "<table border=\"1\" class=\"dataframe\">\n",
              "  <thead>\n",
              "    <tr style=\"text-align: right;\">\n",
              "      <th></th>\n",
              "      <th>Unnamed: 0</th>\n",
              "      <th>EID</th>\n",
              "      <th>Age</th>\n",
              "      <th>EHQ_Total</th>\n",
              "      <th>Commercial_Use</th>\n",
              "      <th>Full_Pheno</th>\n",
              "    </tr>\n",
              "    <tr>\n",
              "      <th>Sex</th>\n",
              "      <th></th>\n",
              "      <th></th>\n",
              "      <th></th>\n",
              "      <th></th>\n",
              "      <th></th>\n",
              "      <th></th>\n",
              "    </tr>\n",
              "  </thead>\n",
              "  <tbody>\n",
              "    <tr>\n",
              "      <th>0.0</th>\n",
              "      <td>2797</td>\n",
              "      <td>2797</td>\n",
              "      <td>2797</td>\n",
              "      <td>2741</td>\n",
              "      <td>2797</td>\n",
              "      <td>2797</td>\n",
              "    </tr>\n",
              "    <tr>\n",
              "      <th>1.0</th>\n",
              "      <td>1547</td>\n",
              "      <td>1547</td>\n",
              "      <td>1547</td>\n",
              "      <td>1523</td>\n",
              "      <td>1547</td>\n",
              "      <td>1547</td>\n",
              "    </tr>\n",
              "  </tbody>\n",
              "</table>\n",
              "</div>\n",
              "      <button class=\"colab-df-convert\" onclick=\"convertToInteractive('df-040ff83d-7744-4df4-be9b-21db24a98f40')\"\n",
              "              title=\"Convert this dataframe to an interactive table.\"\n",
              "              style=\"display:none;\">\n",
              "        \n",
              "  <svg xmlns=\"http://www.w3.org/2000/svg\" height=\"24px\"viewBox=\"0 0 24 24\"\n",
              "       width=\"24px\">\n",
              "    <path d=\"M0 0h24v24H0V0z\" fill=\"none\"/>\n",
              "    <path d=\"M18.56 5.44l.94 2.06.94-2.06 2.06-.94-2.06-.94-.94-2.06-.94 2.06-2.06.94zm-11 1L8.5 8.5l.94-2.06 2.06-.94-2.06-.94L8.5 2.5l-.94 2.06-2.06.94zm10 10l.94 2.06.94-2.06 2.06-.94-2.06-.94-.94-2.06-.94 2.06-2.06.94z\"/><path d=\"M17.41 7.96l-1.37-1.37c-.4-.4-.92-.59-1.43-.59-.52 0-1.04.2-1.43.59L10.3 9.45l-7.72 7.72c-.78.78-.78 2.05 0 2.83L4 21.41c.39.39.9.59 1.41.59.51 0 1.02-.2 1.41-.59l7.78-7.78 2.81-2.81c.8-.78.8-2.07 0-2.86zM5.41 20L4 18.59l7.72-7.72 1.47 1.35L5.41 20z\"/>\n",
              "  </svg>\n",
              "      </button>\n",
              "      \n",
              "  <style>\n",
              "    .colab-df-container {\n",
              "      display:flex;\n",
              "      flex-wrap:wrap;\n",
              "      gap: 12px;\n",
              "    }\n",
              "\n",
              "    .colab-df-convert {\n",
              "      background-color: #E8F0FE;\n",
              "      border: none;\n",
              "      border-radius: 50%;\n",
              "      cursor: pointer;\n",
              "      display: none;\n",
              "      fill: #1967D2;\n",
              "      height: 32px;\n",
              "      padding: 0 0 0 0;\n",
              "      width: 32px;\n",
              "    }\n",
              "\n",
              "    .colab-df-convert:hover {\n",
              "      background-color: #E2EBFA;\n",
              "      box-shadow: 0px 1px 2px rgba(60, 64, 67, 0.3), 0px 1px 3px 1px rgba(60, 64, 67, 0.15);\n",
              "      fill: #174EA6;\n",
              "    }\n",
              "\n",
              "    [theme=dark] .colab-df-convert {\n",
              "      background-color: #3B4455;\n",
              "      fill: #D2E3FC;\n",
              "    }\n",
              "\n",
              "    [theme=dark] .colab-df-convert:hover {\n",
              "      background-color: #434B5C;\n",
              "      box-shadow: 0px 1px 3px 1px rgba(0, 0, 0, 0.15);\n",
              "      filter: drop-shadow(0px 1px 2px rgba(0, 0, 0, 0.3));\n",
              "      fill: #FFFFFF;\n",
              "    }\n",
              "  </style>\n",
              "\n",
              "      <script>\n",
              "        const buttonEl =\n",
              "          document.querySelector('#df-040ff83d-7744-4df4-be9b-21db24a98f40 button.colab-df-convert');\n",
              "        buttonEl.style.display =\n",
              "          google.colab.kernel.accessAllowed ? 'block' : 'none';\n",
              "\n",
              "        async function convertToInteractive(key) {\n",
              "          const element = document.querySelector('#df-040ff83d-7744-4df4-be9b-21db24a98f40');\n",
              "          const dataTable =\n",
              "            await google.colab.kernel.invokeFunction('convertToInteractive',\n",
              "                                                     [key], {});\n",
              "          if (!dataTable) return;\n",
              "\n",
              "          const docLinkHtml = 'Like what you see? Visit the ' +\n",
              "            '<a target=\"_blank\" href=https://colab.research.google.com/notebooks/data_table.ipynb>data table notebook</a>'\n",
              "            + ' to learn more about interactive tables.';\n",
              "          element.innerHTML = '';\n",
              "          dataTable['output_type'] = 'display_data';\n",
              "          await google.colab.output.renderOutput(dataTable, element);\n",
              "          const docLink = document.createElement('div');\n",
              "          docLink.innerHTML = docLinkHtml;\n",
              "          element.appendChild(docLink);\n",
              "        }\n",
              "      </script>\n",
              "    </div>\n",
              "  </div>\n",
              "  "
            ]
          },
          "metadata": {},
          "execution_count": 14
        }
      ]
    },
    {
      "cell_type": "code",
      "source": [
        "pheno_mri.groupby(['Commercial_Use']).count()"
      ],
      "metadata": {
        "id": "0H1qLG6zETad",
        "outputId": "ddebc6d4-211e-453d-eeb9-e89459c31972",
        "colab": {
          "base_uri": "https://localhost:8080/",
          "height": 143
        }
      },
      "execution_count": 15,
      "outputs": [
        {
          "output_type": "execute_result",
          "data": {
            "text/plain": [
              "                Unnamed: 0   EID   Sex   Age  EHQ_Total  Full_Pheno\n",
              "Commercial_Use                                                     \n",
              "No                     565   565   565   565        530         565\n",
              "Yes                   3779  3779  3779  3779       3734        3779"
            ],
            "text/html": [
              "\n",
              "  <div id=\"df-729e08bb-d964-4824-a93e-0ea3ee043694\">\n",
              "    <div class=\"colab-df-container\">\n",
              "      <div>\n",
              "<style scoped>\n",
              "    .dataframe tbody tr th:only-of-type {\n",
              "        vertical-align: middle;\n",
              "    }\n",
              "\n",
              "    .dataframe tbody tr th {\n",
              "        vertical-align: top;\n",
              "    }\n",
              "\n",
              "    .dataframe thead th {\n",
              "        text-align: right;\n",
              "    }\n",
              "</style>\n",
              "<table border=\"1\" class=\"dataframe\">\n",
              "  <thead>\n",
              "    <tr style=\"text-align: right;\">\n",
              "      <th></th>\n",
              "      <th>Unnamed: 0</th>\n",
              "      <th>EID</th>\n",
              "      <th>Sex</th>\n",
              "      <th>Age</th>\n",
              "      <th>EHQ_Total</th>\n",
              "      <th>Full_Pheno</th>\n",
              "    </tr>\n",
              "    <tr>\n",
              "      <th>Commercial_Use</th>\n",
              "      <th></th>\n",
              "      <th></th>\n",
              "      <th></th>\n",
              "      <th></th>\n",
              "      <th></th>\n",
              "      <th></th>\n",
              "    </tr>\n",
              "  </thead>\n",
              "  <tbody>\n",
              "    <tr>\n",
              "      <th>No</th>\n",
              "      <td>565</td>\n",
              "      <td>565</td>\n",
              "      <td>565</td>\n",
              "      <td>565</td>\n",
              "      <td>530</td>\n",
              "      <td>565</td>\n",
              "    </tr>\n",
              "    <tr>\n",
              "      <th>Yes</th>\n",
              "      <td>3779</td>\n",
              "      <td>3779</td>\n",
              "      <td>3779</td>\n",
              "      <td>3779</td>\n",
              "      <td>3734</td>\n",
              "      <td>3779</td>\n",
              "    </tr>\n",
              "  </tbody>\n",
              "</table>\n",
              "</div>\n",
              "      <button class=\"colab-df-convert\" onclick=\"convertToInteractive('df-729e08bb-d964-4824-a93e-0ea3ee043694')\"\n",
              "              title=\"Convert this dataframe to an interactive table.\"\n",
              "              style=\"display:none;\">\n",
              "        \n",
              "  <svg xmlns=\"http://www.w3.org/2000/svg\" height=\"24px\"viewBox=\"0 0 24 24\"\n",
              "       width=\"24px\">\n",
              "    <path d=\"M0 0h24v24H0V0z\" fill=\"none\"/>\n",
              "    <path d=\"M18.56 5.44l.94 2.06.94-2.06 2.06-.94-2.06-.94-.94-2.06-.94 2.06-2.06.94zm-11 1L8.5 8.5l.94-2.06 2.06-.94-2.06-.94L8.5 2.5l-.94 2.06-2.06.94zm10 10l.94 2.06.94-2.06 2.06-.94-2.06-.94-.94-2.06-.94 2.06-2.06.94z\"/><path d=\"M17.41 7.96l-1.37-1.37c-.4-.4-.92-.59-1.43-.59-.52 0-1.04.2-1.43.59L10.3 9.45l-7.72 7.72c-.78.78-.78 2.05 0 2.83L4 21.41c.39.39.9.59 1.41.59.51 0 1.02-.2 1.41-.59l7.78-7.78 2.81-2.81c.8-.78.8-2.07 0-2.86zM5.41 20L4 18.59l7.72-7.72 1.47 1.35L5.41 20z\"/>\n",
              "  </svg>\n",
              "      </button>\n",
              "      \n",
              "  <style>\n",
              "    .colab-df-container {\n",
              "      display:flex;\n",
              "      flex-wrap:wrap;\n",
              "      gap: 12px;\n",
              "    }\n",
              "\n",
              "    .colab-df-convert {\n",
              "      background-color: #E8F0FE;\n",
              "      border: none;\n",
              "      border-radius: 50%;\n",
              "      cursor: pointer;\n",
              "      display: none;\n",
              "      fill: #1967D2;\n",
              "      height: 32px;\n",
              "      padding: 0 0 0 0;\n",
              "      width: 32px;\n",
              "    }\n",
              "\n",
              "    .colab-df-convert:hover {\n",
              "      background-color: #E2EBFA;\n",
              "      box-shadow: 0px 1px 2px rgba(60, 64, 67, 0.3), 0px 1px 3px 1px rgba(60, 64, 67, 0.15);\n",
              "      fill: #174EA6;\n",
              "    }\n",
              "\n",
              "    [theme=dark] .colab-df-convert {\n",
              "      background-color: #3B4455;\n",
              "      fill: #D2E3FC;\n",
              "    }\n",
              "\n",
              "    [theme=dark] .colab-df-convert:hover {\n",
              "      background-color: #434B5C;\n",
              "      box-shadow: 0px 1px 3px 1px rgba(0, 0, 0, 0.15);\n",
              "      filter: drop-shadow(0px 1px 2px rgba(0, 0, 0, 0.3));\n",
              "      fill: #FFFFFF;\n",
              "    }\n",
              "  </style>\n",
              "\n",
              "      <script>\n",
              "        const buttonEl =\n",
              "          document.querySelector('#df-729e08bb-d964-4824-a93e-0ea3ee043694 button.colab-df-convert');\n",
              "        buttonEl.style.display =\n",
              "          google.colab.kernel.accessAllowed ? 'block' : 'none';\n",
              "\n",
              "        async function convertToInteractive(key) {\n",
              "          const element = document.querySelector('#df-729e08bb-d964-4824-a93e-0ea3ee043694');\n",
              "          const dataTable =\n",
              "            await google.colab.kernel.invokeFunction('convertToInteractive',\n",
              "                                                     [key], {});\n",
              "          if (!dataTable) return;\n",
              "\n",
              "          const docLinkHtml = 'Like what you see? Visit the ' +\n",
              "            '<a target=\"_blank\" href=https://colab.research.google.com/notebooks/data_table.ipynb>data table notebook</a>'\n",
              "            + ' to learn more about interactive tables.';\n",
              "          element.innerHTML = '';\n",
              "          dataTable['output_type'] = 'display_data';\n",
              "          await google.colab.output.renderOutput(dataTable, element);\n",
              "          const docLink = document.createElement('div');\n",
              "          docLink.innerHTML = docLinkHtml;\n",
              "          element.appendChild(docLink);\n",
              "        }\n",
              "      </script>\n",
              "    </div>\n",
              "  </div>\n",
              "  "
            ]
          },
          "metadata": {},
          "execution_count": 15
        }
      ]
    },
    {
      "cell_type": "code",
      "source": [
        "sns.displot(pheno_mri[pheno_mri['EHQ_Total'] >= 40].Age)\n",
        "pl.title('Age distribution for right handed people');"
      ],
      "metadata": {
        "id": "0jP8eEc6F0hn",
        "outputId": "a1cbdafe-ae7f-4942-e1e9-b9702e72147d",
        "colab": {
          "base_uri": "https://localhost:8080/",
          "height": 381
        }
      },
      "execution_count": 16,
      "outputs": [
        {
          "output_type": "display_data",
          "data": {
            "text/plain": [
              "<Figure size 360x360 with 1 Axes>"
            ],
            "image/png": "[encoded data removed]"
          },
          "metadata": {}
        }
      ]
    },
    {
      "cell_type": "code",
      "source": [
        "unique = []\n",
        "repetition = []\n",
        "for i in pheno_mri[pheno_mri['EHQ_Total'] >= 40].EID.values:\n",
        "  if i not in unique:\n",
        "    unique.append(i)\n",
        "  else:\n",
        "    repetition.append(i)\n",
        "print(pheno_mri[pheno_mri['EHQ_Total'] >= 40].shape[0])\n",
        "print(len(unique))\n",
        "print(len(repetition))\n",
        "# There will be no repetition if we clean the data"
      ],
      "metadata": {
        "id": "xPu8lRcKGL37",
        "outputId": "0c53d46d-b560-4559-f75b-cc42f6c306dd",
        "colab": {
          "base_uri": "https://localhost:8080/"
        }
      },
      "execution_count": 17,
      "outputs": [
        {
          "output_type": "stream",
          "name": "stdout",
          "text": [
            "3303\n",
            "2684\n",
            "619\n"
          ]
        }
      ]
    },
    {
      "cell_type": "code",
      "source": [
        "pheno_mri.to_csv(\n",
        "    Path(working_path).joinpath('pheno_mri.csv')\n",
        ")"
      ],
      "metadata": {
        "id": "wJchXp3wGjc7"
      },
      "execution_count": null,
      "outputs": []
    },
    {
      "cell_type": "markdown",
      "source": [
        "## Pipeline to make the data convinient to use"
      ],
      "metadata": {
        "id": "nLkYOzzUGnRy"
      }
    },
    {
      "cell_type": "code",
      "source": [
        "# file with the identifiers that have mri imaging\n",
        "pheno_mri = pd.read_csv(\n",
        "    working_path.joinpath('pheno_mri.csv'),\n",
        "    index_col=None\n",
        ")"
      ],
      "metadata": {
        "id": "QScqpmDeEExy"
      },
      "execution_count": 18,
      "outputs": []
    },
    {
      "cell_type": "code",
      "source": [
        "pheno_mri.drop(['Unnamed: 0'], axis=1, inplace=True)"
      ],
      "metadata": {
        "id": "MRfJJF3TEM7D"
      },
      "execution_count": 22,
      "outputs": []
    },
    {
      "cell_type": "code",
      "source": [
        "pheno_mri.head()"
      ],
      "metadata": {
        "id": "HfYdEtPVGXY8",
        "outputId": "efeecb86-805e-4984-d18e-26e8e7ed2860",
        "colab": {
          "base_uri": "https://localhost:8080/",
          "height": 206
        }
      },
      "execution_count": 23,
      "outputs": [
        {
          "output_type": "execute_result",
          "data": {
            "text/plain": [
              "            EID  Sex        Age  EHQ_Total Commercial_Use Full_Pheno\n",
              "0  NDARYM832PX3  1.0   7.048254     -33.35             No        Yes\n",
              "1  NDARNJ687DMC  1.0   6.348163      46.67             No        Yes\n",
              "2  NDARFM080VAF  1.0   7.623203    -100.00             No        Yes\n",
              "3  NDARFW130NGG  1.0   8.316107      93.34             No        Yes\n",
              "4  NDARDT800YVF  0.0  17.510381      86.67             No        Yes"
            ],
            "text/html": [
              "\n",
              "  <div id=\"df-e9ef5ae2-fe0c-434a-b7b8-3fa1a96f87af\">\n",
              "    <div class=\"colab-df-container\">\n",
              "      <div>\n",
              "<style scoped>\n",
              "    .dataframe tbody tr th:only-of-type {\n",
              "        vertical-align: middle;\n",
              "    }\n",
              "\n",
              "    .dataframe tbody tr th {\n",
              "        vertical-align: top;\n",
              "    }\n",
              "\n",
              "    .dataframe thead th {\n",
              "        text-align: right;\n",
              "    }\n",
              "</style>\n",
              "<table border=\"1\" class=\"dataframe\">\n",
              "  <thead>\n",
              "    <tr style=\"text-align: right;\">\n",
              "      <th></th>\n",
              "      <th>EID</th>\n",
              "      <th>Sex</th>\n",
              "      <th>Age</th>\n",
              "      <th>EHQ_Total</th>\n",
              "      <th>Commercial_Use</th>\n",
              "      <th>Full_Pheno</th>\n",
              "    </tr>\n",
              "  </thead>\n",
              "  <tbody>\n",
              "    <tr>\n",
              "      <th>0</th>\n",
              "      <td>NDARYM832PX3</td>\n",
              "      <td>1.0</td>\n",
              "      <td>7.048254</td>\n",
              "      <td>-33.35</td>\n",
              "      <td>No</td>\n",
              "      <td>Yes</td>\n",
              "    </tr>\n",
              "    <tr>\n",
              "      <th>1</th>\n",
              "      <td>NDARNJ687DMC</td>\n",
              "      <td>1.0</td>\n",
              "      <td>6.348163</td>\n",
              "      <td>46.67</td>\n",
              "      <td>No</td>\n",
              "      <td>Yes</td>\n",
              "    </tr>\n",
              "    <tr>\n",
              "      <th>2</th>\n",
              "      <td>NDARFM080VAF</td>\n",
              "      <td>1.0</td>\n",
              "      <td>7.623203</td>\n",
              "      <td>-100.00</td>\n",
              "      <td>No</td>\n",
              "      <td>Yes</td>\n",
              "    </tr>\n",
              "    <tr>\n",
              "      <th>3</th>\n",
              "      <td>NDARFW130NGG</td>\n",
              "      <td>1.0</td>\n",
              "      <td>8.316107</td>\n",
              "      <td>93.34</td>\n",
              "      <td>No</td>\n",
              "      <td>Yes</td>\n",
              "    </tr>\n",
              "    <tr>\n",
              "      <th>4</th>\n",
              "      <td>NDARDT800YVF</td>\n",
              "      <td>0.0</td>\n",
              "      <td>17.510381</td>\n",
              "      <td>86.67</td>\n",
              "      <td>No</td>\n",
              "      <td>Yes</td>\n",
              "    </tr>\n",
              "  </tbody>\n",
              "</table>\n",
              "</div>\n",
              "      <button class=\"colab-df-convert\" onclick=\"convertToInteractive('df-e9ef5ae2-fe0c-434a-b7b8-3fa1a96f87af')\"\n",
              "              title=\"Convert this dataframe to an interactive table.\"\n",
              "              style=\"display:none;\">\n",
              "        \n",
              "  <svg xmlns=\"http://www.w3.org/2000/svg\" height=\"24px\"viewBox=\"0 0 24 24\"\n",
              "       width=\"24px\">\n",
              "    <path d=\"M0 0h24v24H0V0z\" fill=\"none\"/>\n",
              "    <path d=\"M18.56 5.44l.94 2.06.94-2.06 2.06-.94-2.06-.94-.94-2.06-.94 2.06-2.06.94zm-11 1L8.5 8.5l.94-2.06 2.06-.94-2.06-.94L8.5 2.5l-.94 2.06-2.06.94zm10 10l.94 2.06.94-2.06 2.06-.94-2.06-.94-.94-2.06-.94 2.06-2.06.94z\"/><path d=\"M17.41 7.96l-1.37-1.37c-.4-.4-.92-.59-1.43-.59-.52 0-1.04.2-1.43.59L10.3 9.45l-7.72 7.72c-.78.78-.78 2.05 0 2.83L4 21.41c.39.39.9.59 1.41.59.51 0 1.02-.2 1.41-.59l7.78-7.78 2.81-2.81c.8-.78.8-2.07 0-2.86zM5.41 20L4 18.59l7.72-7.72 1.47 1.35L5.41 20z\"/>\n",
              "  </svg>\n",
              "      </button>\n",
              "      \n",
              "  <style>\n",
              "    .colab-df-container {\n",
              "      display:flex;\n",
              "      flex-wrap:wrap;\n",
              "      gap: 12px;\n",
              "    }\n",
              "\n",
              "    .colab-df-convert {\n",
              "      background-color: #E8F0FE;\n",
              "      border: none;\n",
              "      border-radius: 50%;\n",
              "      cursor: pointer;\n",
              "      display: none;\n",
              "      fill: #1967D2;\n",
              "      height: 32px;\n",
              "      padding: 0 0 0 0;\n",
              "      width: 32px;\n",
              "    }\n",
              "\n",
              "    .colab-df-convert:hover {\n",
              "      background-color: #E2EBFA;\n",
              "      box-shadow: 0px 1px 2px rgba(60, 64, 67, 0.3), 0px 1px 3px 1px rgba(60, 64, 67, 0.15);\n",
              "      fill: #174EA6;\n",
              "    }\n",
              "\n",
              "    [theme=dark] .colab-df-convert {\n",
              "      background-color: #3B4455;\n",
              "      fill: #D2E3FC;\n",
              "    }\n",
              "\n",
              "    [theme=dark] .colab-df-convert:hover {\n",
              "      background-color: #434B5C;\n",
              "      box-shadow: 0px 1px 3px 1px rgba(0, 0, 0, 0.15);\n",
              "      filter: drop-shadow(0px 1px 2px rgba(0, 0, 0, 0.3));\n",
              "      fill: #FFFFFF;\n",
              "    }\n",
              "  </style>\n",
              "\n",
              "      <script>\n",
              "        const buttonEl =\n",
              "          document.querySelector('#df-e9ef5ae2-fe0c-434a-b7b8-3fa1a96f87af button.colab-df-convert');\n",
              "        buttonEl.style.display =\n",
              "          google.colab.kernel.accessAllowed ? 'block' : 'none';\n",
              "\n",
              "        async function convertToInteractive(key) {\n",
              "          const element = document.querySelector('#df-e9ef5ae2-fe0c-434a-b7b8-3fa1a96f87af');\n",
              "          const dataTable =\n",
              "            await google.colab.kernel.invokeFunction('convertToInteractive',\n",
              "                                                     [key], {});\n",
              "          if (!dataTable) return;\n",
              "\n",
              "          const docLinkHtml = 'Like what you see? Visit the ' +\n",
              "            '<a target=\"_blank\" href=https://colab.research.google.com/notebooks/data_table.ipynb>data table notebook</a>'\n",
              "            + ' to learn more about interactive tables.';\n",
              "          element.innerHTML = '';\n",
              "          dataTable['output_type'] = 'display_data';\n",
              "          await google.colab.output.renderOutput(dataTable, element);\n",
              "          const docLink = document.createElement('div');\n",
              "          docLink.innerHTML = docLinkHtml;\n",
              "          element.appendChild(docLink);\n",
              "        }\n",
              "      </script>\n",
              "    </div>\n",
              "  </div>\n",
              "  "
            ]
          },
          "metadata": {},
          "execution_count": 23
        }
      ]
    },
    {
      "cell_type": "code",
      "source": [
        "data = pd.read_csv(\n",
        "    working_path.joinpath('Query1.csv'),\n",
        "    index_col=None\n",
        ")"
      ],
      "metadata": {
        "id": "_nucsmphMicH"
      },
      "execution_count": 24,
      "outputs": []
    },
    {
      "cell_type": "code",
      "source": [
        "# work on Identifiers column\n",
        "ids = data.Identifiers.values\n",
        "new_ids = []\n",
        "for i in ids:\n",
        "  new_i = i.replace(',assessment', '')\n",
        "  new_ids.append(new_i)\t\n",
        "print(len(ids))\n",
        "print(len(new_ids))\n",
        "\n",
        "data['Identifiers'] = new_ids"
      ],
      "metadata": {
        "id": "f6aJNMtGMcA5",
        "outputId": "24ac0570-49de-443e-e931-e61901b3553f",
        "colab": {
          "base_uri": "https://localhost:8080/"
        }
      },
      "execution_count": 25,
      "outputs": [
        {
          "output_type": "stream",
          "name": "stdout",
          "text": [
            "8210\n",
            "8210\n"
          ]
        }
      ]
    },
    {
      "cell_type": "markdown",
      "source": [
        "**Crossreferencing to understand who has the full pheno**"
      ],
      "metadata": {
        "id": "zQ5-gjZkW_w6"
      }
    },
    {
      "cell_type": "code",
      "source": [
        "print(pheno_mri.shape)\n",
        "print(data.shape)"
      ],
      "metadata": {
        "id": "mZStsdf7ZUQH",
        "outputId": "db726a2c-47c5-468f-a03c-d695097ddfae",
        "colab": {
          "base_uri": "https://localhost:8080/"
        }
      },
      "execution_count": 26,
      "outputs": [
        {
          "output_type": "stream",
          "name": "stdout",
          "text": [
            "(3539, 6)\n",
            "(8210, 88)\n"
          ]
        }
      ]
    },
    {
      "cell_type": "code",
      "source": [
        "full_ids = pheno_mri.EID.values\n",
        "data_ids = data.Identifiers.values.tolist()\n",
        "hits = []\n",
        "misses = []\n",
        "indices = []\n",
        "for i in data_ids:\n",
        "  if i in full_ids:\n",
        "    hits.append(i)\n",
        "  elif i not in full_ids:\n",
        "    misses.append(i)\n",
        "    indices.append(data_ids.index(i))\n",
        "print(len(hits))"
      ],
      "metadata": {
        "id": "auEmLb4JZwOq",
        "outputId": "e180b96a-d8b8-4113-d0f5-bc417a7606d5",
        "colab": {
          "base_uri": "https://localhost:8080/"
        }
      },
      "execution_count": 27,
      "outputs": [
        {
          "output_type": "stream",
          "name": "stdout",
          "text": [
            "3538\n"
          ]
        }
      ]
    },
    {
      "cell_type": "code",
      "source": [
        "# One participant is missing from the data. It could be the case that the experiment is nor over.\n",
        "for i in full_ids:\n",
        "  if i not in hits:\n",
        "    print(i)"
      ],
      "metadata": {
        "id": "HGgvf1JUZwRG",
        "outputId": "3fc033a7-0a1f-40ac-9534-f2444cafdeda",
        "colab": {
          "base_uri": "https://localhost:8080/"
        }
      },
      "execution_count": 28,
      "outputs": [
        {
          "output_type": "stream",
          "name": "stdout",
          "text": [
            "NDARAL828WXM\n"
          ]
        }
      ]
    },
    {
      "cell_type": "code",
      "source": [
        "pheno_mri[pheno_mri['EID'] == 'NDARAL828WXM']"
      ],
      "metadata": {
        "id": "Uo6t3sQxZwUB",
        "outputId": "43f77dbc-7ecf-40a8-c053-1c46f56ad18c",
        "colab": {
          "base_uri": "https://localhost:8080/",
          "height": 81
        }
      },
      "execution_count": 29,
      "outputs": [
        {
          "output_type": "execute_result",
          "data": {
            "text/plain": [
              "               EID  Sex        Age  EHQ_Total Commercial_Use Full_Pheno\n",
              "2601  NDARAL828WXM  0.0  15.188569      63.34            Yes        Yes"
            ],
            "text/html": [
              "\n",
              "  <div id=\"df-157d242c-32f4-4e36-91ef-0117c72810c4\">\n",
              "    <div class=\"colab-df-container\">\n",
              "      <div>\n",
              "<style scoped>\n",
              "    .dataframe tbody tr th:only-of-type {\n",
              "        vertical-align: middle;\n",
              "    }\n",
              "\n",
              "    .dataframe tbody tr th {\n",
              "        vertical-align: top;\n",
              "    }\n",
              "\n",
              "    .dataframe thead th {\n",
              "        text-align: right;\n",
              "    }\n",
              "</style>\n",
              "<table border=\"1\" class=\"dataframe\">\n",
              "  <thead>\n",
              "    <tr style=\"text-align: right;\">\n",
              "      <th></th>\n",
              "      <th>EID</th>\n",
              "      <th>Sex</th>\n",
              "      <th>Age</th>\n",
              "      <th>EHQ_Total</th>\n",
              "      <th>Commercial_Use</th>\n",
              "      <th>Full_Pheno</th>\n",
              "    </tr>\n",
              "  </thead>\n",
              "  <tbody>\n",
              "    <tr>\n",
              "      <th>2601</th>\n",
              "      <td>NDARAL828WXM</td>\n",
              "      <td>0.0</td>\n",
              "      <td>15.188569</td>\n",
              "      <td>63.34</td>\n",
              "      <td>Yes</td>\n",
              "      <td>Yes</td>\n",
              "    </tr>\n",
              "  </tbody>\n",
              "</table>\n",
              "</div>\n",
              "      <button class=\"colab-df-convert\" onclick=\"convertToInteractive('df-157d242c-32f4-4e36-91ef-0117c72810c4')\"\n",
              "              title=\"Convert this dataframe to an interactive table.\"\n",
              "              style=\"display:none;\">\n",
              "        \n",
              "  <svg xmlns=\"http://www.w3.org/2000/svg\" height=\"24px\"viewBox=\"0 0 24 24\"\n",
              "       width=\"24px\">\n",
              "    <path d=\"M0 0h24v24H0V0z\" fill=\"none\"/>\n",
              "    <path d=\"M18.56 5.44l.94 2.06.94-2.06 2.06-.94-2.06-.94-.94-2.06-.94 2.06-2.06.94zm-11 1L8.5 8.5l.94-2.06 2.06-.94-2.06-.94L8.5 2.5l-.94 2.06-2.06.94zm10 10l.94 2.06.94-2.06 2.06-.94-2.06-.94-.94-2.06-.94 2.06-2.06.94z\"/><path d=\"M17.41 7.96l-1.37-1.37c-.4-.4-.92-.59-1.43-.59-.52 0-1.04.2-1.43.59L10.3 9.45l-7.72 7.72c-.78.78-.78 2.05 0 2.83L4 21.41c.39.39.9.59 1.41.59.51 0 1.02-.2 1.41-.59l7.78-7.78 2.81-2.81c.8-.78.8-2.07 0-2.86zM5.41 20L4 18.59l7.72-7.72 1.47 1.35L5.41 20z\"/>\n",
              "  </svg>\n",
              "      </button>\n",
              "      \n",
              "  <style>\n",
              "    .colab-df-container {\n",
              "      display:flex;\n",
              "      flex-wrap:wrap;\n",
              "      gap: 12px;\n",
              "    }\n",
              "\n",
              "    .colab-df-convert {\n",
              "      background-color: #E8F0FE;\n",
              "      border: none;\n",
              "      border-radius: 50%;\n",
              "      cursor: pointer;\n",
              "      display: none;\n",
              "      fill: #1967D2;\n",
              "      height: 32px;\n",
              "      padding: 0 0 0 0;\n",
              "      width: 32px;\n",
              "    }\n",
              "\n",
              "    .colab-df-convert:hover {\n",
              "      background-color: #E2EBFA;\n",
              "      box-shadow: 0px 1px 2px rgba(60, 64, 67, 0.3), 0px 1px 3px 1px rgba(60, 64, 67, 0.15);\n",
              "      fill: #174EA6;\n",
              "    }\n",
              "\n",
              "    [theme=dark] .colab-df-convert {\n",
              "      background-color: #3B4455;\n",
              "      fill: #D2E3FC;\n",
              "    }\n",
              "\n",
              "    [theme=dark] .colab-df-convert:hover {\n",
              "      background-color: #434B5C;\n",
              "      box-shadow: 0px 1px 3px 1px rgba(0, 0, 0, 0.15);\n",
              "      filter: drop-shadow(0px 1px 2px rgba(0, 0, 0, 0.3));\n",
              "      fill: #FFFFFF;\n",
              "    }\n",
              "  </style>\n",
              "\n",
              "      <script>\n",
              "        const buttonEl =\n",
              "          document.querySelector('#df-157d242c-32f4-4e36-91ef-0117c72810c4 button.colab-df-convert');\n",
              "        buttonEl.style.display =\n",
              "          google.colab.kernel.accessAllowed ? 'block' : 'none';\n",
              "\n",
              "        async function convertToInteractive(key) {\n",
              "          const element = document.querySelector('#df-157d242c-32f4-4e36-91ef-0117c72810c4');\n",
              "          const dataTable =\n",
              "            await google.colab.kernel.invokeFunction('convertToInteractive',\n",
              "                                                     [key], {});\n",
              "          if (!dataTable) return;\n",
              "\n",
              "          const docLinkHtml = 'Like what you see? Visit the ' +\n",
              "            '<a target=\"_blank\" href=https://colab.research.google.com/notebooks/data_table.ipynb>data table notebook</a>'\n",
              "            + ' to learn more about interactive tables.';\n",
              "          element.innerHTML = '';\n",
              "          dataTable['output_type'] = 'display_data';\n",
              "          await google.colab.output.renderOutput(dataTable, element);\n",
              "          const docLink = document.createElement('div');\n",
              "          docLink.innerHTML = docLinkHtml;\n",
              "          element.appendChild(docLink);\n",
              "        }\n",
              "      </script>\n",
              "    </div>\n",
              "  </div>\n",
              "  "
            ]
          },
          "metadata": {},
          "execution_count": 29
        }
      ]
    },
    {
      "cell_type": "code",
      "source": [
        "data_pheno = data.copy()"
      ],
      "metadata": {
        "id": "xc30-BWKbtgi"
      },
      "execution_count": 30,
      "outputs": []
    },
    {
      "cell_type": "code",
      "source": [
        "for i in indices:\n",
        "  data_pheno.drop([i], axis=0, inplace=True)"
      ],
      "metadata": {
        "id": "u36lpdZbbKAq"
      },
      "execution_count": 31,
      "outputs": []
    },
    {
      "cell_type": "code",
      "source": [
        "data_pheno.shape"
      ],
      "metadata": {
        "id": "mX3ruxuaclUI",
        "outputId": "44583f38-054c-476a-a89d-4af6ef60dffa",
        "colab": {
          "base_uri": "https://localhost:8080/"
        }
      },
      "execution_count": 32,
      "outputs": [
        {
          "output_type": "execute_result",
          "data": {
            "text/plain": [
              "(3538, 88)"
            ]
          },
          "metadata": {},
          "execution_count": 32
        }
      ]
    },
    {
      "cell_type": "markdown",
      "source": [
        "Here is our reduced data frame with participant who has the full phenotypic file. Let's now choose only right handed participants."
      ],
      "metadata": {
        "id": "pE_RygKEc2ww"
      }
    },
    {
      "cell_type": "markdown",
      "source": [
        "We have 72 participants with no information on their handedness. Deleting them"
      ],
      "metadata": {
        "id": "BjhXW69ReuOg"
      }
    },
    {
      "cell_type": "code",
      "source": [
        "data_pheno = data_pheno[data_pheno['EHQ,EHQ_Total'] != '.']"
      ],
      "metadata": {
        "id": "o4bLMFAveIIw"
      },
      "execution_count": 33,
      "outputs": []
    },
    {
      "cell_type": "code",
      "source": [
        "data_pheno['EHQ,EHQ_Total'] = data_pheno['EHQ,EHQ_Total'].astype(float)"
      ],
      "metadata": {
        "id": "afErb5UweBD7"
      },
      "execution_count": 34,
      "outputs": []
    },
    {
      "cell_type": "code",
      "source": [
        "data_pheno = data_pheno[data_pheno['EHQ,EHQ_Total'] >= 40]"
      ],
      "metadata": {
        "id": "T78TAKQnc0mw"
      },
      "execution_count": 35,
      "outputs": []
    },
    {
      "cell_type": "code",
      "source": [
        "data_pheno.shape"
      ],
      "metadata": {
        "id": "Nj5tOQhPe_Xh",
        "outputId": "ca36c552-c8d0-454b-d093-324f804c1000",
        "colab": {
          "base_uri": "https://localhost:8080/"
        }
      },
      "execution_count": 36,
      "outputs": [
        {
          "output_type": "execute_result",
          "data": {
            "text/plain": [
              "(2683, 88)"
            ]
          },
          "metadata": {},
          "execution_count": 36
        }
      ]
    },
    {
      "cell_type": "code",
      "source": [
        "# work on Age column\n",
        "data_pheno['Basic_Demos,Age'] = data_pheno['Basic_Demos,Age'].astype(float)"
      ],
      "metadata": {
        "id": "Fsbq32NVOUbG"
      },
      "execution_count": 37,
      "outputs": []
    },
    {
      "cell_type": "code",
      "source": [
        "# work on Sex column\n",
        "data_pheno['Basic_Demos,Sex'] = data_pheno['Basic_Demos,Sex'].astype(int)"
      ],
      "metadata": {
        "id": "3xJBdz9Bfg2t"
      },
      "execution_count": 38,
      "outputs": []
    },
    {
      "cell_type": "code",
      "source": [
        "# work on Site column\n",
        "data_pheno.drop(['Basic_Demos,Site'], axis=1, inplace=True)"
      ],
      "metadata": {
        "id": "87ptehgEfsu_"
      },
      "execution_count": 39,
      "outputs": []
    },
    {
      "cell_type": "code",
      "source": [
        "data_pheno.head()"
      ],
      "metadata": {
        "id": "nEvyzf6zfDR1",
        "outputId": "88b93c0b-0965-4991-ac11-b0f400e27f6e",
        "colab": {
          "base_uri": "https://localhost:8080/",
          "height": 352
        }
      },
      "execution_count": 40,
      "outputs": [
        {
          "output_type": "execute_result",
          "data": {
            "text/plain": [
              "    Identifiers  Basic_Demos,Age  Basic_Demos,Sex CELF,CELF_Total  \\\n",
              "0  NDARAA112DMH         5.545744                0              11   \n",
              "1  NDARAA117NEJ         7.475929                0              11   \n",
              "2  NDARAA504CRN         9.165297                1              12   \n",
              "3  NDARAA947ZG5        13.627880                0              16   \n",
              "4  NDARAA948VFH         7.982660                1              14   \n",
              "\n",
              "    ConsensusDx,DX_01 ConsensusDx,DX_01_Code ConsensusDx,DX_01_Confirmed  \\\n",
              "0  ADHD-Combined Type                  F90.2                         NaN   \n",
              "1  ADHD-Combined Type                  F90.2                         NaN   \n",
              "2                   .                      .                           .   \n",
              "3                   .                      .                           .   \n",
              "4  ADHD-Combined Type                  F90.2                         NaN   \n",
              "\n",
              "  ConsensusDx,DX_02 ConsensusDx,DX_02_Code ConsensusDx,DX_02_Confirmed  ...  \\\n",
              "0               NaN                    NaN                         NaN  ...   \n",
              "1               NaN                    NaN                         NaN  ...   \n",
              "2                 .                      .                           .  ...   \n",
              "3                 .                      .                           .  ...   \n",
              "4          Enuresis                  F98.0                         NaN  ...   \n",
              "\n",
              "  WIAT,WIAT_Num_Stnd WIAT,WIAT_Pseudo_Stnd WIAT,WIAT_RC_Stnd  \\\n",
              "0                121                   NaN               NaN   \n",
              "1                 99                    85                89   \n",
              "2                107                    73                85   \n",
              "3                 53                    92                93   \n",
              "4                 96                    94                95   \n",
              "\n",
              "  WIAT,WIAT_Spell_Stnd WIAT,WIAT_Word_Stnd WISC,WISC_FSIQ WISC,WISC_PSI  \\\n",
              "0                   87                 NaN              .             .   \n",
              "1                   96                  85             88            77   \n",
              "2                   80                  83            100           111   \n",
              "3                   91                 100             87            86   \n",
              "4                   99                  96             95            98   \n",
              "\n",
              "  WISC,WISC_VCI WISC,WISC_VSI WISC,WISC_WMI  \n",
              "0             .             .             .  \n",
              "1           108            84            85  \n",
              "2            95           102            97  \n",
              "3            92            84            97  \n",
              "4           111            94            97  \n",
              "\n",
              "[5 rows x 87 columns]"
            ],
            "text/html": [
              "\n",
              "  <div id=\"df-b12400b7-1326-486f-bf23-ea88c0128ad8\">\n",
              "    <div class=\"colab-df-container\">\n",
              "      <div>\n",
              "<style scoped>\n",
              "    .dataframe tbody tr th:only-of-type {\n",
              "        vertical-align: middle;\n",
              "    }\n",
              "\n",
              "    .dataframe tbody tr th {\n",
              "        vertical-align: top;\n",
              "    }\n",
              "\n",
              "    .dataframe thead th {\n",
              "        text-align: right;\n",
              "    }\n",
              "</style>\n",
              "<table border=\"1\" class=\"dataframe\">\n",
              "  <thead>\n",
              "    <tr style=\"text-align: right;\">\n",
              "      <th></th>\n",
              "      <th>Identifiers</th>\n",
              "      <th>Basic_Demos,Age</th>\n",
              "      <th>Basic_Demos,Sex</th>\n",
              "      <th>CELF,CELF_Total</th>\n",
              "      <th>ConsensusDx,DX_01</th>\n",
              "      <th>ConsensusDx,DX_01_Code</th>\n",
              "      <th>ConsensusDx,DX_01_Confirmed</th>\n",
              "      <th>ConsensusDx,DX_02</th>\n",
              "      <th>ConsensusDx,DX_02_Code</th>\n",
              "      <th>ConsensusDx,DX_02_Confirmed</th>\n",
              "      <th>...</th>\n",
              "      <th>WIAT,WIAT_Num_Stnd</th>\n",
              "      <th>WIAT,WIAT_Pseudo_Stnd</th>\n",
              "      <th>WIAT,WIAT_RC_Stnd</th>\n",
              "      <th>WIAT,WIAT_Spell_Stnd</th>\n",
              "      <th>WIAT,WIAT_Word_Stnd</th>\n",
              "      <th>WISC,WISC_FSIQ</th>\n",
              "      <th>WISC,WISC_PSI</th>\n",
              "      <th>WISC,WISC_VCI</th>\n",
              "      <th>WISC,WISC_VSI</th>\n",
              "      <th>WISC,WISC_WMI</th>\n",
              "    </tr>\n",
              "  </thead>\n",
              "  <tbody>\n",
              "    <tr>\n",
              "      <th>0</th>\n",
              "      <td>NDARAA112DMH</td>\n",
              "      <td>5.545744</td>\n",
              "      <td>0</td>\n",
              "      <td>11</td>\n",
              "      <td>ADHD-Combined Type</td>\n",
              "      <td>F90.2</td>\n",
              "      <td>NaN</td>\n",
              "      <td>NaN</td>\n",
              "      <td>NaN</td>\n",
              "      <td>NaN</td>\n",
              "      <td>...</td>\n",
              "      <td>121</td>\n",
              "      <td>NaN</td>\n",
              "      <td>NaN</td>\n",
              "      <td>87</td>\n",
              "      <td>NaN</td>\n",
              "      <td>.</td>\n",
              "      <td>.</td>\n",
              "      <td>.</td>\n",
              "      <td>.</td>\n",
              "      <td>.</td>\n",
              "    </tr>\n",
              "    <tr>\n",
              "      <th>1</th>\n",
              "      <td>NDARAA117NEJ</td>\n",
              "      <td>7.475929</td>\n",
              "      <td>0</td>\n",
              "      <td>11</td>\n",
              "      <td>ADHD-Combined Type</td>\n",
              "      <td>F90.2</td>\n",
              "      <td>NaN</td>\n",
              "      <td>NaN</td>\n",
              "      <td>NaN</td>\n",
              "      <td>NaN</td>\n",
              "      <td>...</td>\n",
              "      <td>99</td>\n",
              "      <td>85</td>\n",
              "      <td>89</td>\n",
              "      <td>96</td>\n",
              "      <td>85</td>\n",
              "      <td>88</td>\n",
              "      <td>77</td>\n",
              "      <td>108</td>\n",
              "      <td>84</td>\n",
              "      <td>85</td>\n",
              "    </tr>\n",
              "    <tr>\n",
              "      <th>2</th>\n",
              "      <td>NDARAA504CRN</td>\n",
              "      <td>9.165297</td>\n",
              "      <td>1</td>\n",
              "      <td>12</td>\n",
              "      <td>.</td>\n",
              "      <td>.</td>\n",
              "      <td>.</td>\n",
              "      <td>.</td>\n",
              "      <td>.</td>\n",
              "      <td>.</td>\n",
              "      <td>...</td>\n",
              "      <td>107</td>\n",
              "      <td>73</td>\n",
              "      <td>85</td>\n",
              "      <td>80</td>\n",
              "      <td>83</td>\n",
              "      <td>100</td>\n",
              "      <td>111</td>\n",
              "      <td>95</td>\n",
              "      <td>102</td>\n",
              "      <td>97</td>\n",
              "    </tr>\n",
              "    <tr>\n",
              "      <th>3</th>\n",
              "      <td>NDARAA947ZG5</td>\n",
              "      <td>13.627880</td>\n",
              "      <td>0</td>\n",
              "      <td>16</td>\n",
              "      <td>.</td>\n",
              "      <td>.</td>\n",
              "      <td>.</td>\n",
              "      <td>.</td>\n",
              "      <td>.</td>\n",
              "      <td>.</td>\n",
              "      <td>...</td>\n",
              "      <td>53</td>\n",
              "      <td>92</td>\n",
              "      <td>93</td>\n",
              "      <td>91</td>\n",
              "      <td>100</td>\n",
              "      <td>87</td>\n",
              "      <td>86</td>\n",
              "      <td>92</td>\n",
              "      <td>84</td>\n",
              "      <td>97</td>\n",
              "    </tr>\n",
              "    <tr>\n",
              "      <th>4</th>\n",
              "      <td>NDARAA948VFH</td>\n",
              "      <td>7.982660</td>\n",
              "      <td>1</td>\n",
              "      <td>14</td>\n",
              "      <td>ADHD-Combined Type</td>\n",
              "      <td>F90.2</td>\n",
              "      <td>NaN</td>\n",
              "      <td>Enuresis</td>\n",
              "      <td>F98.0</td>\n",
              "      <td>NaN</td>\n",
              "      <td>...</td>\n",
              "      <td>96</td>\n",
              "      <td>94</td>\n",
              "      <td>95</td>\n",
              "      <td>99</td>\n",
              "      <td>96</td>\n",
              "      <td>95</td>\n",
              "      <td>98</td>\n",
              "      <td>111</td>\n",
              "      <td>94</td>\n",
              "      <td>97</td>\n",
              "    </tr>\n",
              "  </tbody>\n",
              "</table>\n",
              "<p>5 rows × 87 columns</p>\n",
              "</div>\n",
              "      <button class=\"colab-df-convert\" onclick=\"convertToInteractive('df-b12400b7-1326-486f-bf23-ea88c0128ad8')\"\n",
              "              title=\"Convert this dataframe to an interactive table.\"\n",
              "              style=\"display:none;\">\n",
              "        \n",
              "  <svg xmlns=\"http://www.w3.org/2000/svg\" height=\"24px\"viewBox=\"0 0 24 24\"\n",
              "       width=\"24px\">\n",
              "    <path d=\"M0 0h24v24H0V0z\" fill=\"none\"/>\n",
              "    <path d=\"M18.56 5.44l.94 2.06.94-2.06 2.06-.94-2.06-.94-.94-2.06-.94 2.06-2.06.94zm-11 1L8.5 8.5l.94-2.06 2.06-.94-2.06-.94L8.5 2.5l-.94 2.06-2.06.94zm10 10l.94 2.06.94-2.06 2.06-.94-2.06-.94-.94-2.06-.94 2.06-2.06.94z\"/><path d=\"M17.41 7.96l-1.37-1.37c-.4-.4-.92-.59-1.43-.59-.52 0-1.04.2-1.43.59L10.3 9.45l-7.72 7.72c-.78.78-.78 2.05 0 2.83L4 21.41c.39.39.9.59 1.41.59.51 0 1.02-.2 1.41-.59l7.78-7.78 2.81-2.81c.8-.78.8-2.07 0-2.86zM5.41 20L4 18.59l7.72-7.72 1.47 1.35L5.41 20z\"/>\n",
              "  </svg>\n",
              "      </button>\n",
              "      \n",
              "  <style>\n",
              "    .colab-df-container {\n",
              "      display:flex;\n",
              "      flex-wrap:wrap;\n",
              "      gap: 12px;\n",
              "    }\n",
              "\n",
              "    .colab-df-convert {\n",
              "      background-color: #E8F0FE;\n",
              "      border: none;\n",
              "      border-radius: 50%;\n",
              "      cursor: pointer;\n",
              "      display: none;\n",
              "      fill: #1967D2;\n",
              "      height: 32px;\n",
              "      padding: 0 0 0 0;\n",
              "      width: 32px;\n",
              "    }\n",
              "\n",
              "    .colab-df-convert:hover {\n",
              "      background-color: #E2EBFA;\n",
              "      box-shadow: 0px 1px 2px rgba(60, 64, 67, 0.3), 0px 1px 3px 1px rgba(60, 64, 67, 0.15);\n",
              "      fill: #174EA6;\n",
              "    }\n",
              "\n",
              "    [theme=dark] .colab-df-convert {\n",
              "      background-color: #3B4455;\n",
              "      fill: #D2E3FC;\n",
              "    }\n",
              "\n",
              "    [theme=dark] .colab-df-convert:hover {\n",
              "      background-color: #434B5C;\n",
              "      box-shadow: 0px 1px 3px 1px rgba(0, 0, 0, 0.15);\n",
              "      filter: drop-shadow(0px 1px 2px rgba(0, 0, 0, 0.3));\n",
              "      fill: #FFFFFF;\n",
              "    }\n",
              "  </style>\n",
              "\n",
              "      <script>\n",
              "        const buttonEl =\n",
              "          document.querySelector('#df-b12400b7-1326-486f-bf23-ea88c0128ad8 button.colab-df-convert');\n",
              "        buttonEl.style.display =\n",
              "          google.colab.kernel.accessAllowed ? 'block' : 'none';\n",
              "\n",
              "        async function convertToInteractive(key) {\n",
              "          const element = document.querySelector('#df-b12400b7-1326-486f-bf23-ea88c0128ad8');\n",
              "          const dataTable =\n",
              "            await google.colab.kernel.invokeFunction('convertToInteractive',\n",
              "                                                     [key], {});\n",
              "          if (!dataTable) return;\n",
              "\n",
              "          const docLinkHtml = 'Like what you see? Visit the ' +\n",
              "            '<a target=\"_blank\" href=https://colab.research.google.com/notebooks/data_table.ipynb>data table notebook</a>'\n",
              "            + ' to learn more about interactive tables.';\n",
              "          element.innerHTML = '';\n",
              "          dataTable['output_type'] = 'display_data';\n",
              "          await google.colab.output.renderOutput(dataTable, element);\n",
              "          const docLink = document.createElement('div');\n",
              "          docLink.innerHTML = docLinkHtml;\n",
              "          element.appendChild(docLink);\n",
              "        }\n",
              "      </script>\n",
              "    </div>\n",
              "  </div>\n",
              "  "
            ]
          },
          "metadata": {},
          "execution_count": 40
        }
      ]
    },
    {
      "cell_type": "code",
      "source": [
        "# work on Diagnosis column\n",
        "data_pheno.groupby(['ConsensusDx,DX_01_Confirmed']).count()"
      ],
      "metadata": {
        "id": "QVbnLuo6f3it",
        "outputId": "6ab39a5c-bcbb-4e18-ece0-9bac955a8cbb",
        "colab": {
          "base_uri": "https://localhost:8080/",
          "height": 268
        }
      },
      "execution_count": 41,
      "outputs": [
        {
          "output_type": "execute_result",
          "data": {
            "text/plain": [
              "                             Identifiers  Basic_Demos,Age  Basic_Demos,Sex  \\\n",
              "ConsensusDx,DX_01_Confirmed                                                  \n",
              ".                                   1546             1546             1546   \n",
              "0                                     72               72               72   \n",
              "1                                    173              173              173   \n",
              "\n",
              "                             CELF,CELF_Total  ConsensusDx,DX_01  \\\n",
              "ConsensusDx,DX_01_Confirmed                                       \n",
              ".                                       1468               1546   \n",
              "0                                         54                 72   \n",
              "1                                        172                173   \n",
              "\n",
              "                             ConsensusDx,DX_01_Code  ConsensusDx,DX_02  \\\n",
              "ConsensusDx,DX_01_Confirmed                                              \n",
              ".                                              1546               1546   \n",
              "0                                                70                 21   \n",
              "1                                               172                112   \n",
              "\n",
              "                             ConsensusDx,DX_02_Code  \\\n",
              "ConsensusDx,DX_01_Confirmed                           \n",
              ".                                              1546   \n",
              "0                                                20   \n",
              "1                                               107   \n",
              "\n",
              "                             ConsensusDx,DX_02_Confirmed  ConsensusDx,DX_03  \\\n",
              "ConsensusDx,DX_01_Confirmed                                                   \n",
              ".                                                   1546               1546   \n",
              "0                                                     21                 11   \n",
              "1                                                    108                 55   \n",
              "\n",
              "                             ...  WIAT,WIAT_Num_Stnd  WIAT,WIAT_Pseudo_Stnd  \\\n",
              "ConsensusDx,DX_01_Confirmed  ...                                              \n",
              ".                            ...                1467                   1415   \n",
              "0                            ...                  55                     53   \n",
              "1                            ...                 173                    166   \n",
              "\n",
              "                             WIAT,WIAT_RC_Stnd  WIAT,WIAT_Spell_Stnd  \\\n",
              "ConsensusDx,DX_01_Confirmed                                            \n",
              ".                                         1399                  1486   \n",
              "0                                           52                    55   \n",
              "1                                          165                   173   \n",
              "\n",
              "                             WIAT,WIAT_Word_Stnd  WISC,WISC_FSIQ  \\\n",
              "ConsensusDx,DX_01_Confirmed                                        \n",
              ".                                           1414            1456   \n",
              "0                                             53              68   \n",
              "1                                            167             170   \n",
              "\n",
              "                             WISC,WISC_PSI  WISC,WISC_VCI  WISC,WISC_VSI  \\\n",
              "ConsensusDx,DX_01_Confirmed                                                \n",
              ".                                     1454           1457           1455   \n",
              "0                                       68             68             68   \n",
              "1                                      170            170            170   \n",
              "\n",
              "                             WISC,WISC_WMI  \n",
              "ConsensusDx,DX_01_Confirmed                 \n",
              ".                                     1454  \n",
              "0                                       68  \n",
              "1                                      170  \n",
              "\n",
              "[3 rows x 86 columns]"
            ],
            "text/html": [
              "\n",
              "  <div id=\"df-efa2970f-d1cc-4fd8-9e13-fa7acce8af63\">\n",
              "    <div class=\"colab-df-container\">\n",
              "      <div>\n",
              "<style scoped>\n",
              "    .dataframe tbody tr th:only-of-type {\n",
              "        vertical-align: middle;\n",
              "    }\n",
              "\n",
              "    .dataframe tbody tr th {\n",
              "        vertical-align: top;\n",
              "    }\n",
              "\n",
              "    .dataframe thead th {\n",
              "        text-align: right;\n",
              "    }\n",
              "</style>\n",
              "<table border=\"1\" class=\"dataframe\">\n",
              "  <thead>\n",
              "    <tr style=\"text-align: right;\">\n",
              "      <th></th>\n",
              "      <th>Identifiers</th>\n",
              "      <th>Basic_Demos,Age</th>\n",
              "      <th>Basic_Demos,Sex</th>\n",
              "      <th>CELF,CELF_Total</th>\n",
              "      <th>ConsensusDx,DX_01</th>\n",
              "      <th>ConsensusDx,DX_01_Code</th>\n",
              "      <th>ConsensusDx,DX_02</th>\n",
              "      <th>ConsensusDx,DX_02_Code</th>\n",
              "      <th>ConsensusDx,DX_02_Confirmed</th>\n",
              "      <th>ConsensusDx,DX_03</th>\n",
              "      <th>...</th>\n",
              "      <th>WIAT,WIAT_Num_Stnd</th>\n",
              "      <th>WIAT,WIAT_Pseudo_Stnd</th>\n",
              "      <th>WIAT,WIAT_RC_Stnd</th>\n",
              "      <th>WIAT,WIAT_Spell_Stnd</th>\n",
              "      <th>WIAT,WIAT_Word_Stnd</th>\n",
              "      <th>WISC,WISC_FSIQ</th>\n",
              "      <th>WISC,WISC_PSI</th>\n",
              "      <th>WISC,WISC_VCI</th>\n",
              "      <th>WISC,WISC_VSI</th>\n",
              "      <th>WISC,WISC_WMI</th>\n",
              "    </tr>\n",
              "    <tr>\n",
              "      <th>ConsensusDx,DX_01_Confirmed</th>\n",
              "      <th></th>\n",
              "      <th></th>\n",
              "      <th></th>\n",
              "      <th></th>\n",
              "      <th></th>\n",
              "      <th></th>\n",
              "      <th></th>\n",
              "      <th></th>\n",
              "      <th></th>\n",
              "      <th></th>\n",
              "      <th></th>\n",
              "      <th></th>\n",
              "      <th></th>\n",
              "      <th></th>\n",
              "      <th></th>\n",
              "      <th></th>\n",
              "      <th></th>\n",
              "      <th></th>\n",
              "      <th></th>\n",
              "      <th></th>\n",
              "      <th></th>\n",
              "    </tr>\n",
              "  </thead>\n",
              "  <tbody>\n",
              "    <tr>\n",
              "      <th>.</th>\n",
              "      <td>1546</td>\n",
              "      <td>1546</td>\n",
              "      <td>1546</td>\n",
              "      <td>1468</td>\n",
              "      <td>1546</td>\n",
              "      <td>1546</td>\n",
              "      <td>1546</td>\n",
              "      <td>1546</td>\n",
              "      <td>1546</td>\n",
              "      <td>1546</td>\n",
              "      <td>...</td>\n",
              "      <td>1467</td>\n",
              "      <td>1415</td>\n",
              "      <td>1399</td>\n",
              "      <td>1486</td>\n",
              "      <td>1414</td>\n",
              "      <td>1456</td>\n",
              "      <td>1454</td>\n",
              "      <td>1457</td>\n",
              "      <td>1455</td>\n",
              "      <td>1454</td>\n",
              "    </tr>\n",
              "    <tr>\n",
              "      <th>0</th>\n",
              "      <td>72</td>\n",
              "      <td>72</td>\n",
              "      <td>72</td>\n",
              "      <td>54</td>\n",
              "      <td>72</td>\n",
              "      <td>70</td>\n",
              "      <td>21</td>\n",
              "      <td>20</td>\n",
              "      <td>21</td>\n",
              "      <td>11</td>\n",
              "      <td>...</td>\n",
              "      <td>55</td>\n",
              "      <td>53</td>\n",
              "      <td>52</td>\n",
              "      <td>55</td>\n",
              "      <td>53</td>\n",
              "      <td>68</td>\n",
              "      <td>68</td>\n",
              "      <td>68</td>\n",
              "      <td>68</td>\n",
              "      <td>68</td>\n",
              "    </tr>\n",
              "    <tr>\n",
              "      <th>1</th>\n",
              "      <td>173</td>\n",
              "      <td>173</td>\n",
              "      <td>173</td>\n",
              "      <td>172</td>\n",
              "      <td>173</td>\n",
              "      <td>172</td>\n",
              "      <td>112</td>\n",
              "      <td>107</td>\n",
              "      <td>108</td>\n",
              "      <td>55</td>\n",
              "      <td>...</td>\n",
              "      <td>173</td>\n",
              "      <td>166</td>\n",
              "      <td>165</td>\n",
              "      <td>173</td>\n",
              "      <td>167</td>\n",
              "      <td>170</td>\n",
              "      <td>170</td>\n",
              "      <td>170</td>\n",
              "      <td>170</td>\n",
              "      <td>170</td>\n",
              "    </tr>\n",
              "  </tbody>\n",
              "</table>\n",
              "<p>3 rows × 86 columns</p>\n",
              "</div>\n",
              "      <button class=\"colab-df-convert\" onclick=\"convertToInteractive('df-efa2970f-d1cc-4fd8-9e13-fa7acce8af63')\"\n",
              "              title=\"Convert this dataframe to an interactive table.\"\n",
              "              style=\"display:none;\">\n",
              "        \n",
              "  <svg xmlns=\"http://www.w3.org/2000/svg\" height=\"24px\"viewBox=\"0 0 24 24\"\n",
              "       width=\"24px\">\n",
              "    <path d=\"M0 0h24v24H0V0z\" fill=\"none\"/>\n",
              "    <path d=\"M18.56 5.44l.94 2.06.94-2.06 2.06-.94-2.06-.94-.94-2.06-.94 2.06-2.06.94zm-11 1L8.5 8.5l.94-2.06 2.06-.94-2.06-.94L8.5 2.5l-.94 2.06-2.06.94zm10 10l.94 2.06.94-2.06 2.06-.94-2.06-.94-.94-2.06-.94 2.06-2.06.94z\"/><path d=\"M17.41 7.96l-1.37-1.37c-.4-.4-.92-.59-1.43-.59-.52 0-1.04.2-1.43.59L10.3 9.45l-7.72 7.72c-.78.78-.78 2.05 0 2.83L4 21.41c.39.39.9.59 1.41.59.51 0 1.02-.2 1.41-.59l7.78-7.78 2.81-2.81c.8-.78.8-2.07 0-2.86zM5.41 20L4 18.59l7.72-7.72 1.47 1.35L5.41 20z\"/>\n",
              "  </svg>\n",
              "      </button>\n",
              "      \n",
              "  <style>\n",
              "    .colab-df-container {\n",
              "      display:flex;\n",
              "      flex-wrap:wrap;\n",
              "      gap: 12px;\n",
              "    }\n",
              "\n",
              "    .colab-df-convert {\n",
              "      background-color: #E8F0FE;\n",
              "      border: none;\n",
              "      border-radius: 50%;\n",
              "      cursor: pointer;\n",
              "      display: none;\n",
              "      fill: #1967D2;\n",
              "      height: 32px;\n",
              "      padding: 0 0 0 0;\n",
              "      width: 32px;\n",
              "    }\n",
              "\n",
              "    .colab-df-convert:hover {\n",
              "      background-color: #E2EBFA;\n",
              "      box-shadow: 0px 1px 2px rgba(60, 64, 67, 0.3), 0px 1px 3px 1px rgba(60, 64, 67, 0.15);\n",
              "      fill: #174EA6;\n",
              "    }\n",
              "\n",
              "    [theme=dark] .colab-df-convert {\n",
              "      background-color: #3B4455;\n",
              "      fill: #D2E3FC;\n",
              "    }\n",
              "\n",
              "    [theme=dark] .colab-df-convert:hover {\n",
              "      background-color: #434B5C;\n",
              "      box-shadow: 0px 1px 3px 1px rgba(0, 0, 0, 0.15);\n",
              "      filter: drop-shadow(0px 1px 2px rgba(0, 0, 0, 0.3));\n",
              "      fill: #FFFFFF;\n",
              "    }\n",
              "  </style>\n",
              "\n",
              "      <script>\n",
              "        const buttonEl =\n",
              "          document.querySelector('#df-efa2970f-d1cc-4fd8-9e13-fa7acce8af63 button.colab-df-convert');\n",
              "        buttonEl.style.display =\n",
              "          google.colab.kernel.accessAllowed ? 'block' : 'none';\n",
              "\n",
              "        async function convertToInteractive(key) {\n",
              "          const element = document.querySelector('#df-efa2970f-d1cc-4fd8-9e13-fa7acce8af63');\n",
              "          const dataTable =\n",
              "            await google.colab.kernel.invokeFunction('convertToInteractive',\n",
              "                                                     [key], {});\n",
              "          if (!dataTable) return;\n",
              "\n",
              "          const docLinkHtml = 'Like what you see? Visit the ' +\n",
              "            '<a target=\"_blank\" href=https://colab.research.google.com/notebooks/data_table.ipynb>data table notebook</a>'\n",
              "            + ' to learn more about interactive tables.';\n",
              "          element.innerHTML = '';\n",
              "          dataTable['output_type'] = 'display_data';\n",
              "          await google.colab.output.renderOutput(dataTable, element);\n",
              "          const docLink = document.createElement('div');\n",
              "          docLink.innerHTML = docLinkHtml;\n",
              "          element.appendChild(docLink);\n",
              "        }\n",
              "      </script>\n",
              "    </div>\n",
              "  </div>\n",
              "  "
            ]
          },
          "metadata": {},
          "execution_count": 41
        }
      ]
    },
    {
      "cell_type": "code",
      "source": [
        "data_pheno['ConsensusDx,DX_01_Confirmed'].unique()"
      ],
      "metadata": {
        "id": "KV2SXmvaWUSu",
        "outputId": "7761a10f-9430-4934-cb52-f0a0c317d29a",
        "colab": {
          "base_uri": "https://localhost:8080/"
        }
      },
      "execution_count": 42,
      "outputs": [
        {
          "output_type": "execute_result",
          "data": {
            "text/plain": [
              "array([nan, '.', '1', '0'], dtype=object)"
            ]
          },
          "metadata": {},
          "execution_count": 42
        }
      ]
    },
    {
      "cell_type": "code",
      "source": [],
      "metadata": {
        "id": "WpfxfYoizvkc"
      },
      "execution_count": null,
      "outputs": []
    },
    {
      "cell_type": "code",
      "source": [
        "diag1 = data['ConsensusDx,DX_01'].values\n",
        "conf1 = data['ConsensusDx,DX_01'].values"
      ],
      "metadata": {
        "id": "uDUHzWmeWBh4"
      },
      "execution_count": null,
      "outputs": []
    },
    {
      "cell_type": "markdown",
      "source": [
        "Only 333 out of 852 have the full phenotypical file. All of them signed up for commercial use.\n"
      ],
      "metadata": {
        "id": "yW3aSd28JWjX"
      }
    },
    {
      "cell_type": "code",
      "source": [
        "age = full_right.Age.values\n",
        "up_to_7 = []\n",
        "in_between = []\n",
        "after_10 = []\n",
        "for i in range(0, len(age)):\n",
        "  if age[i] < 7:\n",
        "    up_to_7.append(age[i])\n",
        "  elif 7 <= age[i] <= 10:\n",
        "    in_between.append(age[i])\n",
        "  elif age[i] > 10:\n",
        "    after_10.append(age[i])"
      ],
      "metadata": {
        "id": "s83LUCbt7U3j"
      },
      "execution_count": null,
      "outputs": []
    },
    {
      "cell_type": "code",
      "source": [
        "print(len(up_to_7))\n",
        "print(len(in_between))\n",
        "print(len(after_10))"
      ],
      "metadata": {
        "id": "X0mnFlJR8hC7",
        "outputId": "e6a15d5b-4c74-4ac4-a969-c02b2f51662e",
        "colab": {
          "base_uri": "https://localhost:8080/"
        }
      },
      "execution_count": null,
      "outputs": [
        {
          "output_type": "stream",
          "name": "stdout",
          "text": [
            "40\n",
            "113\n",
            "109\n"
          ]
        }
      ]
    },
    {
      "cell_type": "code",
      "source": [
        "data.columns"
      ],
      "metadata": {
        "colab": {
          "base_uri": "https://localhost:8080/"
        },
        "id": "UO-31FP2v7_N",
        "outputId": "68952b06-94d9-40c7-d9cc-63f96c622e84"
      },
      "execution_count": null,
      "outputs": [
        {
          "output_type": "execute_result",
          "data": {
            "text/plain": [
              "Index(['Identifiers', 'Basic_Demos,Age', 'Basic_Demos,Sex', 'Basic_Demos,Site',\n",
              "       'CELF,CELF_Total', 'ConsensusDx,DX_01', 'ConsensusDx,DX_01_Code',\n",
              "       'ConsensusDx,DX_01_Confirmed', 'ConsensusDx,DX_02',\n",
              "       'ConsensusDx,DX_02_Code', 'ConsensusDx,DX_02_Confirmed',\n",
              "       'ConsensusDx,DX_03', 'ConsensusDx,DX_03_Code',\n",
              "       'ConsensusDx,DX_03_Confirmed', 'ConsensusDx,DX_04',\n",
              "       'ConsensusDx,DX_04_Code', 'ConsensusDx,DX_04_Confirmed',\n",
              "       'ConsensusDx,DX_05', 'ConsensusDx,DX_05_Code',\n",
              "       'ConsensusDx,DX_05_Confirmed', 'ConsensusDx,DX_06',\n",
              "       'ConsensusDx,DX_06_Code', 'ConsensusDx,DX_06_Confirmed',\n",
              "       'ConsensusDx,DX_07', 'ConsensusDx,DX_07_Code',\n",
              "       'ConsensusDx,DX_07_Confirmed', 'ConsensusDx,DX_08',\n",
              "       'ConsensusDx,DX_08_Code', 'ConsensusDx,DX_08_Confirmed',\n",
              "       'ConsensusDx,DX_09', 'ConsensusDx,DX_09_Code',\n",
              "       'ConsensusDx,DX_09_Confirmed', 'ConsensusDx,DX_10',\n",
              "       'ConsensusDx,DX_10_Code', 'ConsensusDx,DX_10_Confirmed',\n",
              "       'DailyMeds,med_dose_01', 'DailyMeds,med_dose_02',\n",
              "       'DailyMeds,med_dose_03', 'DailyMeds,med_name_01',\n",
              "       'DailyMeds,med_name_02', 'DailyMeds,med_name_03', 'EHQ,EHQ_Total',\n",
              "       'EVT,EVT2_StandardScore', 'GFTA,GFTA_SIS_Stnd', 'GFTA,GFTA_SIW_Stnd',\n",
              "       'KBIT,KBIT_IQ_Comp', 'KBIT,KBIT_NV_Standard', 'KBIT,KBIT_V_Standard',\n",
              "       'NIH,NIH_Card_Sort_Age_Corr_Stnd', 'NIH,NIH_Card_Sort_Uncorr_Stnd',\n",
              "       'NIH,NIH_Flanker_Age_Corr_Stnd', 'NIH,NIH_Flanker_Uncorr_Stnd',\n",
              "       'NIH,NIH_List_Sort_Age_Corr_Stnd', 'NIH,NIH_List_Sort_Uncorr_Stnd',\n",
              "       'NIH,NIH_Processing_Age_Corr_Stnd', 'NIH,NIH_Processing_Uncorr_Stnd',\n",
              "       'PPVT,PPVT4_StandardScore', 'PreInt_Lang,Child_Lang_Understood',\n",
              "       'PreInt_Lang,Child_Primary_Lang', 'SWAN,SWAN_HY', 'SWAN,SWAN_IN',\n",
              "       'SWAN,SWAN_Total', 'TOWRE,TOWRE_PDE_Scaled', 'TOWRE,TOWRE_SWE_Scaled',\n",
              "       'TOWRE,TOWRE_Total_Scaled', 'TRF,TRF_Total_T',\n",
              "       'Vineland,VL_Social_Stnd', 'WAIS,WAIS_FSIQ_COMP',\n",
              "       'WAIS,WAIS_FSIQ_SCALE', 'WAIS,WAIS_PRI_COMP', 'WAIS,WAIS_PSI_COMP',\n",
              "       'WAIS,WAIS_VCI_COMP', 'WAIS,WAIS_WMI_COMP', 'WASI,WASI_FSIQ',\n",
              "       'WIAT,WIAT_LCODC_Stnd', 'WIAT,WIAT_LCRV_Std', 'WIAT,WIAT_LC_Stnd',\n",
              "       'WIAT,WIAT_MP_Stnd', 'WIAT,WIAT_Num_Stnd', 'WIAT,WIAT_Pseudo_Stnd',\n",
              "       'WIAT,WIAT_RC_Stnd', 'WIAT,WIAT_Spell_Stnd', 'WIAT,WIAT_Word_Stnd',\n",
              "       'WISC,WISC_FSIQ', 'WISC,WISC_PSI', 'WISC,WISC_VCI', 'WISC,WISC_VSI',\n",
              "       'WISC,WISC_WMI'],\n",
              "      dtype='object')"
            ]
          },
          "metadata": {},
          "execution_count": 8
        }
      ]
    },
    {
      "cell_type": "code",
      "source": [
        "data.shape"
      ],
      "metadata": {
        "colab": {
          "base_uri": "https://localhost:8080/"
        },
        "id": "TpP11T6Ev9Qo",
        "outputId": "9eb2535b-4c9d-4d98-8c5b-98fa2e5e81aa"
      },
      "execution_count": null,
      "outputs": [
        {
          "output_type": "execute_result",
          "data": {
            "text/plain": [
              "(8210, 88)"
            ]
          },
          "metadata": {},
          "execution_count": 9
        }
      ]
    },
    {
      "cell_type": "code",
      "source": [
        "subset = data[[\n",
        "    'Basic_Demos,Age', 'Basic_Demos,Sex',\n",
        "    'EHQ,EHQ_Total', 'DailyMeds,med_dose_01', 'DailyMeds,med_dose_02',\n",
        "       'DailyMeds,med_dose_03', 'DailyMeds,med_name_01',\n",
        "       'DailyMeds,med_name_02', 'DailyMeds,med_name_03',\n",
        "       'ConsensusDx,DX_01', 'ConsensusDx,DX_01_Code',\n",
        "       'ConsensusDx,DX_01_Confirmed', 'ConsensusDx,DX_02',\n",
        "       'ConsensusDx,DX_02_Code', 'ConsensusDx,DX_02_Confirmed',\n",
        "       'ConsensusDx,DX_03', 'ConsensusDx,DX_03_Code',\n",
        "       'ConsensusDx,DX_03_Confirmed', 'ConsensusDx,DX_04',\n",
        "       'ConsensusDx,DX_04_Code', 'ConsensusDx,DX_04_Confirmed',\n",
        "       'ConsensusDx,DX_05', 'ConsensusDx,DX_05_Code',\n",
        "       'ConsensusDx,DX_05_Confirmed', 'ConsensusDx,DX_06',\n",
        "       'ConsensusDx,DX_06_Code', 'ConsensusDx,DX_06_Confirmed',\n",
        "       'ConsensusDx,DX_07', 'ConsensusDx,DX_07_Code',\n",
        "       'ConsensusDx,DX_07_Confirmed', 'ConsensusDx,DX_08',\n",
        "       'ConsensusDx,DX_08_Code', 'ConsensusDx,DX_08_Confirmed',\n",
        "       'ConsensusDx,DX_09', 'ConsensusDx,DX_09_Code',\n",
        "       'ConsensusDx,DX_09_Confirmed'\n",
        "]]"
      ],
      "metadata": {
        "id": "2OD_6llVv_Zx"
      },
      "execution_count": null,
      "outputs": []
    },
    {
      "cell_type": "code",
      "source": [
        "subset.head()"
      ],
      "metadata": {
        "colab": {
          "base_uri": "https://localhost:8080/",
          "height": 352
        },
        "id": "aUrYaTy9wUvk",
        "outputId": "f031bd09-896d-4d0f-db43-704756d81052"
      },
      "execution_count": null,
      "outputs": [
        {
          "output_type": "execute_result",
          "data": {
            "text/plain": [
              "  Basic_Demos,Age Basic_Demos,Sex EHQ,EHQ_Total DailyMeds,med_dose_01  \\\n",
              "0        5.545744               0            40                   NaN   \n",
              "1        7.475929               0          62.2          40mg- 1 puff   \n",
              "2        9.165297               1         73.34                     .   \n",
              "3        13.62788               0            80                     .   \n",
              "4         7.98266               1            90                     .   \n",
              "\n",
              "  DailyMeds,med_dose_02 DailyMeds,med_dose_03 DailyMeds,med_name_01  \\\n",
              "0                   NaN                   NaN                   NaN   \n",
              "1                   NaN                   NaN                  Qvar   \n",
              "2                     .                     .                     .   \n",
              "3                     .                     .                     .   \n",
              "4                     .                     .                     .   \n",
              "\n",
              "  DailyMeds,med_name_02 DailyMeds,med_name_03   ConsensusDx,DX_01  ...  \\\n",
              "0                   NaN                   NaN  ADHD-Combined Type  ...   \n",
              "1                   NaN                   NaN  ADHD-Combined Type  ...   \n",
              "2                     .                     .                   .  ...   \n",
              "3                     .                     .                   .  ...   \n",
              "4                     .                     .  ADHD-Combined Type  ...   \n",
              "\n",
              "  ConsensusDx,DX_07_Confirmed ConsensusDx,DX_08 ConsensusDx,DX_08_Code  \\\n",
              "0                         NaN               NaN                    NaN   \n",
              "1                         NaN               NaN                    NaN   \n",
              "2                           .                 .                      .   \n",
              "3                           .                 .                      .   \n",
              "4                         NaN               NaN                    NaN   \n",
              "\n",
              "  ConsensusDx,DX_08_Confirmed ConsensusDx,DX_09 ConsensusDx,DX_09_Code  \\\n",
              "0                         NaN               NaN                    NaN   \n",
              "1                         NaN               NaN                    NaN   \n",
              "2                           .                 .                      .   \n",
              "3                           .                 .                      .   \n",
              "4                         NaN               NaN                    NaN   \n",
              "\n",
              "  ConsensusDx,DX_09_Confirmed ConsensusDx,DX_10 ConsensusDx,DX_10_Code  \\\n",
              "0                         NaN               NaN                    NaN   \n",
              "1                         NaN               NaN                    NaN   \n",
              "2                           .                 .                      .   \n",
              "3                           .                 .                      .   \n",
              "4                         NaN               NaN                    NaN   \n",
              "\n",
              "  ConsensusDx,DX_10_Confirmed  \n",
              "0                         NaN  \n",
              "1                         NaN  \n",
              "2                           .  \n",
              "3                           .  \n",
              "4                         NaN  \n",
              "\n",
              "[5 rows x 39 columns]"
            ],
            "text/html": [
              "\n",
              "  <div id=\"df-70803dd4-c708-4494-9bd0-ce87759092ed\">\n",
              "    <div class=\"colab-df-container\">\n",
              "      <div>\n",
              "<style scoped>\n",
              "    .dataframe tbody tr th:only-of-type {\n",
              "        vertical-align: middle;\n",
              "    }\n",
              "\n",
              "    .dataframe tbody tr th {\n",
              "        vertical-align: top;\n",
              "    }\n",
              "\n",
              "    .dataframe thead th {\n",
              "        text-align: right;\n",
              "    }\n",
              "</style>\n",
              "<table border=\"1\" class=\"dataframe\">\n",
              "  <thead>\n",
              "    <tr style=\"text-align: right;\">\n",
              "      <th></th>\n",
              "      <th>Basic_Demos,Age</th>\n",
              "      <th>Basic_Demos,Sex</th>\n",
              "      <th>EHQ,EHQ_Total</th>\n",
              "      <th>DailyMeds,med_dose_01</th>\n",
              "      <th>DailyMeds,med_dose_02</th>\n",
              "      <th>DailyMeds,med_dose_03</th>\n",
              "      <th>DailyMeds,med_name_01</th>\n",
              "      <th>DailyMeds,med_name_02</th>\n",
              "      <th>DailyMeds,med_name_03</th>\n",
              "      <th>ConsensusDx,DX_01</th>\n",
              "      <th>...</th>\n",
              "      <th>ConsensusDx,DX_07_Confirmed</th>\n",
              "      <th>ConsensusDx,DX_08</th>\n",
              "      <th>ConsensusDx,DX_08_Code</th>\n",
              "      <th>ConsensusDx,DX_08_Confirmed</th>\n",
              "      <th>ConsensusDx,DX_09</th>\n",
              "      <th>ConsensusDx,DX_09_Code</th>\n",
              "      <th>ConsensusDx,DX_09_Confirmed</th>\n",
              "      <th>ConsensusDx,DX_10</th>\n",
              "      <th>ConsensusDx,DX_10_Code</th>\n",
              "      <th>ConsensusDx,DX_10_Confirmed</th>\n",
              "    </tr>\n",
              "  </thead>\n",
              "  <tbody>\n",
              "    <tr>\n",
              "      <th>0</th>\n",
              "      <td>5.545744</td>\n",
              "      <td>0</td>\n",
              "      <td>40</td>\n",
              "      <td>NaN</td>\n",
              "      <td>NaN</td>\n",
              "      <td>NaN</td>\n",
              "      <td>NaN</td>\n",
              "      <td>NaN</td>\n",
              "      <td>NaN</td>\n",
              "      <td>ADHD-Combined Type</td>\n",
              "      <td>...</td>\n",
              "      <td>NaN</td>\n",
              "      <td>NaN</td>\n",
              "      <td>NaN</td>\n",
              "      <td>NaN</td>\n",
              "      <td>NaN</td>\n",
              "      <td>NaN</td>\n",
              "      <td>NaN</td>\n",
              "      <td>NaN</td>\n",
              "      <td>NaN</td>\n",
              "      <td>NaN</td>\n",
              "    </tr>\n",
              "    <tr>\n",
              "      <th>1</th>\n",
              "      <td>7.475929</td>\n",
              "      <td>0</td>\n",
              "      <td>62.2</td>\n",
              "      <td>40mg- 1 puff</td>\n",
              "      <td>NaN</td>\n",
              "      <td>NaN</td>\n",
              "      <td>Qvar</td>\n",
              "      <td>NaN</td>\n",
              "      <td>NaN</td>\n",
              "      <td>ADHD-Combined Type</td>\n",
              "      <td>...</td>\n",
              "      <td>NaN</td>\n",
              "      <td>NaN</td>\n",
              "      <td>NaN</td>\n",
              "      <td>NaN</td>\n",
              "      <td>NaN</td>\n",
              "      <td>NaN</td>\n",
              "      <td>NaN</td>\n",
              "      <td>NaN</td>\n",
              "      <td>NaN</td>\n",
              "      <td>NaN</td>\n",
              "    </tr>\n",
              "    <tr>\n",
              "      <th>2</th>\n",
              "      <td>9.165297</td>\n",
              "      <td>1</td>\n",
              "      <td>73.34</td>\n",
              "      <td>.</td>\n",
              "      <td>.</td>\n",
              "      <td>.</td>\n",
              "      <td>.</td>\n",
              "      <td>.</td>\n",
              "      <td>.</td>\n",
              "      <td>.</td>\n",
              "      <td>...</td>\n",
              "      <td>.</td>\n",
              "      <td>.</td>\n",
              "      <td>.</td>\n",
              "      <td>.</td>\n",
              "      <td>.</td>\n",
              "      <td>.</td>\n",
              "      <td>.</td>\n",
              "      <td>.</td>\n",
              "      <td>.</td>\n",
              "      <td>.</td>\n",
              "    </tr>\n",
              "    <tr>\n",
              "      <th>3</th>\n",
              "      <td>13.62788</td>\n",
              "      <td>0</td>\n",
              "      <td>80</td>\n",
              "      <td>.</td>\n",
              "      <td>.</td>\n",
              "      <td>.</td>\n",
              "      <td>.</td>\n",
              "      <td>.</td>\n",
              "      <td>.</td>\n",
              "      <td>.</td>\n",
              "      <td>...</td>\n",
              "      <td>.</td>\n",
              "      <td>.</td>\n",
              "      <td>.</td>\n",
              "      <td>.</td>\n",
              "      <td>.</td>\n",
              "      <td>.</td>\n",
              "      <td>.</td>\n",
              "      <td>.</td>\n",
              "      <td>.</td>\n",
              "      <td>.</td>\n",
              "    </tr>\n",
              "    <tr>\n",
              "      <th>4</th>\n",
              "      <td>7.98266</td>\n",
              "      <td>1</td>\n",
              "      <td>90</td>\n",
              "      <td>.</td>\n",
              "      <td>.</td>\n",
              "      <td>.</td>\n",
              "      <td>.</td>\n",
              "      <td>.</td>\n",
              "      <td>.</td>\n",
              "      <td>ADHD-Combined Type</td>\n",
              "      <td>...</td>\n",
              "      <td>NaN</td>\n",
              "      <td>NaN</td>\n",
              "      <td>NaN</td>\n",
              "      <td>NaN</td>\n",
              "      <td>NaN</td>\n",
              "      <td>NaN</td>\n",
              "      <td>NaN</td>\n",
              "      <td>NaN</td>\n",
              "      <td>NaN</td>\n",
              "      <td>NaN</td>\n",
              "    </tr>\n",
              "  </tbody>\n",
              "</table>\n",
              "<p>5 rows × 39 columns</p>\n",
              "</div>\n",
              "      <button class=\"colab-df-convert\" onclick=\"convertToInteractive('df-70803dd4-c708-4494-9bd0-ce87759092ed')\"\n",
              "              title=\"Convert this dataframe to an interactive table.\"\n",
              "              style=\"display:none;\">\n",
              "        \n",
              "  <svg xmlns=\"http://www.w3.org/2000/svg\" height=\"24px\"viewBox=\"0 0 24 24\"\n",
              "       width=\"24px\">\n",
              "    <path d=\"M0 0h24v24H0V0z\" fill=\"none\"/>\n",
              "    <path d=\"M18.56 5.44l.94 2.06.94-2.06 2.06-.94-2.06-.94-.94-2.06-.94 2.06-2.06.94zm-11 1L8.5 8.5l.94-2.06 2.06-.94-2.06-.94L8.5 2.5l-.94 2.06-2.06.94zm10 10l.94 2.06.94-2.06 2.06-.94-2.06-.94-.94-2.06-.94 2.06-2.06.94z\"/><path d=\"M17.41 7.96l-1.37-1.37c-.4-.4-.92-.59-1.43-.59-.52 0-1.04.2-1.43.59L10.3 9.45l-7.72 7.72c-.78.78-.78 2.05 0 2.83L4 21.41c.39.39.9.59 1.41.59.51 0 1.02-.2 1.41-.59l7.78-7.78 2.81-2.81c.8-.78.8-2.07 0-2.86zM5.41 20L4 18.59l7.72-7.72 1.47 1.35L5.41 20z\"/>\n",
              "  </svg>\n",
              "      </button>\n",
              "      \n",
              "  <style>\n",
              "    .colab-df-container {\n",
              "      display:flex;\n",
              "      flex-wrap:wrap;\n",
              "      gap: 12px;\n",
              "    }\n",
              "\n",
              "    .colab-df-convert {\n",
              "      background-color: #E8F0FE;\n",
              "      border: none;\n",
              "      border-radius: 50%;\n",
              "      cursor: pointer;\n",
              "      display: none;\n",
              "      fill: #1967D2;\n",
              "      height: 32px;\n",
              "      padding: 0 0 0 0;\n",
              "      width: 32px;\n",
              "    }\n",
              "\n",
              "    .colab-df-convert:hover {\n",
              "      background-color: #E2EBFA;\n",
              "      box-shadow: 0px 1px 2px rgba(60, 64, 67, 0.3), 0px 1px 3px 1px rgba(60, 64, 67, 0.15);\n",
              "      fill: #174EA6;\n",
              "    }\n",
              "\n",
              "    [theme=dark] .colab-df-convert {\n",
              "      background-color: #3B4455;\n",
              "      fill: #D2E3FC;\n",
              "    }\n",
              "\n",
              "    [theme=dark] .colab-df-convert:hover {\n",
              "      background-color: #434B5C;\n",
              "      box-shadow: 0px 1px 3px 1px rgba(0, 0, 0, 0.15);\n",
              "      filter: drop-shadow(0px 1px 2px rgba(0, 0, 0, 0.3));\n",
              "      fill: #FFFFFF;\n",
              "    }\n",
              "  </style>\n",
              "\n",
              "      <script>\n",
              "        const buttonEl =\n",
              "          document.querySelector('#df-70803dd4-c708-4494-9bd0-ce87759092ed button.colab-df-convert');\n",
              "        buttonEl.style.display =\n",
              "          google.colab.kernel.accessAllowed ? 'block' : 'none';\n",
              "\n",
              "        async function convertToInteractive(key) {\n",
              "          const element = document.querySelector('#df-70803dd4-c708-4494-9bd0-ce87759092ed');\n",
              "          const dataTable =\n",
              "            await google.colab.kernel.invokeFunction('convertToInteractive',\n",
              "                                                     [key], {});\n",
              "          if (!dataTable) return;\n",
              "\n",
              "          const docLinkHtml = 'Like what you see? Visit the ' +\n",
              "            '<a target=\"_blank\" href=https://colab.research.google.com/notebooks/data_table.ipynb>data table notebook</a>'\n",
              "            + ' to learn more about interactive tables.';\n",
              "          element.innerHTML = '';\n",
              "          dataTable['output_type'] = 'display_data';\n",
              "          await google.colab.output.renderOutput(dataTable, element);\n",
              "          const docLink = document.createElement('div');\n",
              "          docLink.innerHTML = docLinkHtml;\n",
              "          element.appendChild(docLink);\n",
              "        }\n",
              "      </script>\n",
              "    </div>\n",
              "  </div>\n",
              "  "
            ]
          },
          "metadata": {},
          "execution_count": 15
        }
      ]
    },
    {
      "cell_type": "code",
      "source": [
        "subset['EHQ,EHQ_Total'].values[0]"
      ],
      "metadata": {
        "colab": {
          "base_uri": "https://localhost:8080/",
          "height": 35
        },
        "id": "XpZDRMcY28JN",
        "outputId": "04036397-552d-47a6-e871-18519e3d5862"
      },
      "execution_count": null,
      "outputs": [
        {
          "output_type": "execute_result",
          "data": {
            "text/plain": [
              "'40'"
            ],
            "application/vnd.google.colaboratory.intrinsic+json": {
              "type": "string"
            }
          },
          "metadata": {},
          "execution_count": 32
        }
      ]
    },
    {
      "cell_type": "code",
      "source": [
        "# create a code that will identify all the drugs here\n",
        "print(subset['DailyMeds,med_name_01'].unique())\n",
        "print(subset['DailyMeds,med_name_02'].unique())\n",
        "print(subset['DailyMeds,med_name_03'].unique())"
      ],
      "metadata": {
        "colab": {
          "base_uri": "https://localhost:8080/"
        },
        "id": "bXiybpmfxVTG",
        "outputId": "78fb1c0a-fcb5-4ce6-bf4d-255491fc8ca4"
      },
      "execution_count": null,
      "outputs": [
        {
          "output_type": "stream",
          "name": "stdout",
          "text": [
            "[nan 'Qvar' '.' 'Zoloft' 'Depakote' 'Methylphenidate' 'Focalin'\n",
            " 'amoxicillian' 'Abilify' 'vyvanse' 'Strattera' 'Concerta' 'abilify'\n",
            " 'Budesonide' 'Prozac' 'diphacalydramine' 'Folcaline XR' 'conerta'\n",
            " 'Dramamine' 'Detrol LA' 'Claritin' 'Celexa' 'Focalin XR' 'Tenex'\n",
            " 'concerta' 'Ibuprofen ' 'Guanfacine' 'Singular' 'Antiobiotic' 'Symbacort'\n",
            " 'Singulair' 'Topomax' 'Robitussin' 'Albuterol' 'Fluoxetine (Prozac)'\n",
            " 'Zyrtec' 'Allegra' 'Vyvanse' 'Vitamin D Drops' 'dimetapp' 'Zyrtec '\n",
            " 'prozac' 'Iron' 'Benadryl ' 'Gildess' 'Zyrteck' 'Fluoxetine' 'Respadone'\n",
            " 'Antacid (Pepcid)' 'Trileptal' 'cefdinir' 'Zyrtek' 'Zyrte C' 'Quillivant'\n",
            " 'Antibiotic' 'Oneaday vitamin' 'Tylenol' 'Risperidone'\n",
            " 'Stimulant (Update later once parent remembers' 'risperidone'\n",
            " 'Prednisone' 'Wellbutrinxz' 'Amoxicillin' 'Straterra'\n",
            " 'Birth Control (GILDES)' 'Intuniv' 'Focelin' 'Effexor' 'strattera'\n",
            " 'Strattera ' 'amoxil' 'Methyl B12' 'quillavant' 'Vyvance' 'adderall'\n",
            " 'Flovent' 'Amphetamine Salt ER' 'Benadryl' 'Strattera (last night)'\n",
            " 'Adderall' 'zoloft' 'Ranitidine' 'Zantac' 'Estrodial' 'Metadate'\n",
            " 'Synthroid' 'synthroid' 'Adderal' 'Sertraline' 'detrol la' 'Medadate'\n",
            " 'Risperdone' 'Risperidone ODT' 'claritin' 'Alyacen' 'Folin'\n",
            " 'Cetirizini Hydrochloride' 'Zertec' 'magnesium, GABA' 'Gaba/CNS Formula '\n",
            " 'CNS Formula' 'citrucel' 'Seroquel' 'guanfacine' 'Sudafed' 'Cough Syrup'\n",
            " 'Lithium' 'Allegra Indoor/Outdoor' 'Risperdal' 'Oxcarbazepine'\n",
            " 'Oxcargabazeping' 'Oxcarbazepin' 'Lamictal' 'Intuniv (last night)'\n",
            " 'Aripiprazole' 'Levothyroxine' 'Levithyroxine' 'Prednisolne'\n",
            " 'Depakote Sprinkles' 'depakote' ' ' 'Tamiflu' 'Allegra Liquid'\n",
            " 'Budnesonide' 'Budensonide' 'Vitamin D' 'Dexmethylphenide ER'\n",
            " 'Depakote sprinkles' 'fluoxotine' 'Concerca' 'Aluvet' 'Adderall xr'\n",
            " 'Adderall XR' 'Does not know name of medication' 'zyrtec']\n",
            "[nan '.' 'Lamictal' 'Focalin' 'Focalin XR' 'propranolol' 'Abilify'\n",
            " 'trihexyphenidyl' 'Albuterol' 'Estrogen' 'zyrtec' 'Atarax' 'Intuitiv'\n",
            " 'Geodon' 'zyrteck' 'Robitussin' 'Wellbutrin' 'Flonase ' 'Risperidone'\n",
            " 'QVAR' 'Vyvanse' 'Guanfacine' 'Methylphenidate' 'Vitamin' 'Depakote'\n",
            " 'Buspar' 'faxil' 'Olopatadine' 'Synaptol' 'Qvar' 'Zyrtek' 'tylenol'\n",
            " 'Ritalin' 'straferra' 'Flonase' 'Lexapro' 'Sertraline' 'Focalin ER'\n",
            " 'Zofran' 'Focelin' 'Concerta' 'Melatonin' 'prozac' 'abilify' 'Zopenix'\n",
            " 'Alegra' 'Allegra' 'Fluoxetine HCL' 'trihexyphenedyl' 'Strattera'\n",
            " 'Budesonide' 'Fluoxetine' 'estrogen' 'Adderall' 'adderall'\n",
            " 'Day Quil Cough Syrup' 'Trileptal' 'Exlax' 'Folin ' 'Magnesium'\n",
            " 'Fish Oil' 'Intuniv' 'Tenex' 'Neurontin' 'Lithium' 'Nasalcort'\n",
            " 'Risperdal' 'Risperdone' 'Ibuprofen' 'Fluoxile' 'Flouxetine' 'Rispeidol'\n",
            " 'Zoloft (last night)' 'Albuteroc' 'Depakote Sprinkles' 'oscella'\n",
            " 'singular' 'Adderal extended' 'adderall XR' 'Prozac' 'Iron']\n",
            "[nan '.' 'Sertraline (last night)' 'BusPar' 'Trileptal' 'Singular'\n",
            " 'Multivitamin, probiotic' 'Synthroid' 'Adderall XR' 'Loratadine'\n",
            " 'Concerta' 'lamictal' 'Mucinex' 'Birth control' 'Focalin' 'Risperidone'\n",
            " 'BuSpar' 'guavacine' 'Flovent' 'Amphetamine Salt ER' 'Clonidine'\n",
            " 'DayQuil Liquigels' 'Atarax' 'Singulair' 'Provera' 'Fish oil '\n",
            " 'Magnesium' 'Trazodone' 'Neurontin' 'Lithium' 'Padaday Eyedrops'\n",
            " 'Flonase' 'Melatonin' 'Albuterol' 'Claritin' 'Claritin fish oil']\n"
          ]
        }
      ]
    },
    {
      "cell_type": "code",
      "source": [
        "# create a code that will identify all the drugs here\n",
        "print(subset['ConsensusDx,DX_02'].unique())\n",
        "#print(subset['ConsensusDx,DX_01_Code'].unique())\n",
        "#print(subset['ConsensusDx,DX_01_Confirmed'].unique())"
      ],
      "metadata": {
        "colab": {
          "base_uri": "https://localhost:8080/"
        },
        "id": "LIHm2t2HyD4v",
        "outputId": "0088cd0d-b75e-4d83-ba5c-49a552b6ca5e"
      },
      "execution_count": null,
      "outputs": [
        {
          "output_type": "stream",
          "name": "stdout",
          "text": [
            "[nan '.' 'Enuresis' 'ADHD-Combined Type'\n",
            " 'Other Specified Feeding or Eating Disorder' 'Separation Anxiety'\n",
            " 'Autism Spectrum Disorder'\n",
            " 'Specific Learning Disorder with Impairment in Reading'\n",
            " 'Social Anxiety (Social Phobia)' 'Developmental Coordination Disorder'\n",
            " 'Generalized Anxiety Disorder' 'Acute Stress Disorder'\n",
            " 'Intellectual Disability-Mild' 'Language Disorder'\n",
            " 'Major Depressive Disorder' 'ADHD-Inattentive Type'\n",
            " 'Other Specified Insomnia Disorder'\n",
            " 'Other Specified Trauma- and Stressor-Related Disorder' 'Encopresis'\n",
            " 'Hoarding Disorder' 'Other Specified Depressive Disorder'\n",
            " 'Tourettes Disorder' 'Agoraphobia' 'Adjustment Disorders'\n",
            " 'Specific Phobia' 'Other Specified Anxiety Disorder'\n",
            " 'Obsessive-Compulsive Disorder' 'Disruptive Mood Dysregulation Disorder'\n",
            " 'Other Specified Attention-Deficit/Hyperactivity Disorder'\n",
            " 'Specific Learning Disorder with Impairment in Mathematics'\n",
            " 'Speech Sound Disorder' 'Excoriation (Skin-Picking) Disorder'\n",
            " 'Unspecified Intellectual Disability'\n",
            " 'Borderline Intellectual Functioning'\n",
            " 'Specific Learning Disorder with Impairment in Written Expression'\n",
            " 'Persistent (Chronic) Motor or Vocal Tic Disorder'\n",
            " 'Social (Pragmatic) Communication Disorder'\n",
            " 'Unspecified Anxiety Disorder'\n",
            " 'Other Specified Neurodevelopmental Disorder' 'Selective Mutism'\n",
            " 'ADHD-Hyperactive/Impulsive Type'\n",
            " 'Persistent Depressive Disorder (Dysthymia)'\n",
            " 'Other Specified Elimination Disorder with Urinary Symptoms' ' '\n",
            " 'Unspecified Attention-Deficit/Hyperactivity Disorder'\n",
            " 'Child Onset Fluency Disorder (Stuttering)' 'Bipolar I Disorder'\n",
            " 'Narcolepsy' 'Trichotillomania (Hair-Pulling Disorder)'\n",
            " 'Obsessive-Compulsive Disorder ' 'Parent-Child Relational Problem'\n",
            " 'Provisional Tic Disorder'\n",
            " 'Specific Learning Disorder with Impairment in Mathematics '\n",
            " 'Panic Disorder' 'Intellectual Disability-Moderate'\n",
            " 'Neurobehavioral Disorder Associated with Prenatal Alcohol Exposure (ND-PAE) '\n",
            " 'Reactive Attachment Disorder' 'Bipolar II Disorder'\n",
            " 'Other Specified Schizophrenia Spectrum and Other Psychotic Disorder'\n",
            " 'Alcohol Use Disorder']\n"
          ]
        }
      ]
    },
    {
      "cell_type": "code",
      "source": [
        "print(subset['ConsensusDx,DX_01'].unique())\n",
        "print(subset['ConsensusDx,DX_02'].unique())\n",
        "print(subset['ConsensusDx,DX_03'].unique())\n",
        "print(subset['ConsensusDx,DX_04'].unique())\n",
        "print(subset['ConsensusDx,DX_05'].unique())\n",
        "print(subset['ConsensusDx,DX_06'].unique())\n",
        "print(subset['ConsensusDx,DX_07'].unique())\n",
        "print(subset['ConsensusDx,DX_08'].unique())\n",
        "print(subset['ConsensusDx,DX_09'].unique())"
      ],
      "metadata": {
        "colab": {
          "base_uri": "https://localhost:8080/"
        },
        "id": "BaiNFQaeyjt7",
        "outputId": "f30b096c-f227-438b-be02-3501f78599da"
      },
      "execution_count": null,
      "outputs": [
        {
          "output_type": "stream",
          "name": "stdout",
          "text": [
            "['ADHD-Combined Type' '.' 'Disruptive Mood Dysregulation Disorder'\n",
            " 'ADHD-Inattentive Type' 'Tourettes Disorder' 'No Diagnosis Given'\n",
            " 'Autism Spectrum Disorder'\n",
            " 'Other Specified Attention-Deficit/Hyperactivity Disorder'\n",
            " 'Specific Learning Disorder with Impairment in Reading'\n",
            " 'No Diagnosis Given: Incomplete Eval' 'Specific Phobia'\n",
            " 'ADHD-Hyperactive/Impulsive Type' 'Generalized Anxiety Disorder'\n",
            " 'Specific Learning Disorder with Impairment in Mathematics'\n",
            " 'Other Specified Anxiety Disorder' 'Intellectual Disability-Mild'\n",
            " 'Bipolar I Disorder' nan 'Obsessive-Compulsive Disorder'\n",
            " 'Other Specified Depressive Disorder'\n",
            " 'Unspecified Attention-Deficit/Hyperactivity Disorder'\n",
            " 'Social Anxiety (Social Phobia)' 'Separation Anxiety'\n",
            " 'Major Depressive Disorder' 'Persistent Depressive Disorder (Dysthymia)'\n",
            " 'Other Specified Tic Disorder' 'Language Disorder'\n",
            " 'Specific Learning Disorder with Impairment in Written Expression'\n",
            " 'Enuresis' 'Major Neurocognitive Disorder Due to Epilepsy' 'Encopresis'\n",
            " 'Intellectual Disability-Moderate'\n",
            " 'Other Specified Trauma- and Stressor-Related Disorder'\n",
            " 'Social (Pragmatic) Communication Disorder'\n",
            " 'Other Specified Neurodevelopmental Disorder' 'Adjustment Disorders'\n",
            " 'Persistent (Chronic) Motor or Vocal Tic Disorder' ' '\n",
            " 'Speech Sound Disorder' 'Unspecified Neurodevelopmental Disorder'\n",
            " 'Acute Stress Disorder' 'Posttraumatic Stress Disorder'\n",
            " 'Selective Mutism' 'Borderline Intellectual Functioning'\n",
            " 'Unspecified Anxiety Disorder'\n",
            " 'Specific Learning Disorder with Impairment in Reading ' 'Schizophrenia'\n",
            " 'Other Specified Schizophrenia Spectrum and Other Psychotic Disorder'\n",
            " 'Reactive Attachment Disorder' 'Agoraphobia'\n",
            " 'Intellectual Disability-Severe' 'Gender Dysphoria in Children'\n",
            " 'Bipolar II Disorder' 'Panic Disorder' 'Parent-Child Relational Problem'\n",
            " 'Cannabis Use Disorder' 'Provisional Tic Disorder']\n",
            "[nan '.' 'Enuresis' 'ADHD-Combined Type'\n",
            " 'Other Specified Feeding or Eating Disorder' 'Separation Anxiety'\n",
            " 'Autism Spectrum Disorder'\n",
            " 'Specific Learning Disorder with Impairment in Reading'\n",
            " 'Social Anxiety (Social Phobia)' 'Developmental Coordination Disorder'\n",
            " 'Generalized Anxiety Disorder' 'Acute Stress Disorder'\n",
            " 'Intellectual Disability-Mild' 'Language Disorder'\n",
            " 'Major Depressive Disorder' 'ADHD-Inattentive Type'\n",
            " 'Other Specified Insomnia Disorder'\n",
            " 'Other Specified Trauma- and Stressor-Related Disorder' 'Encopresis'\n",
            " 'Hoarding Disorder' 'Other Specified Depressive Disorder'\n",
            " 'Tourettes Disorder' 'Agoraphobia' 'Adjustment Disorders'\n",
            " 'Specific Phobia' 'Other Specified Anxiety Disorder'\n",
            " 'Obsessive-Compulsive Disorder' 'Disruptive Mood Dysregulation Disorder'\n",
            " 'Other Specified Attention-Deficit/Hyperactivity Disorder'\n",
            " 'Specific Learning Disorder with Impairment in Mathematics'\n",
            " 'Speech Sound Disorder' 'Excoriation (Skin-Picking) Disorder'\n",
            " 'Unspecified Intellectual Disability'\n",
            " 'Borderline Intellectual Functioning'\n",
            " 'Specific Learning Disorder with Impairment in Written Expression'\n",
            " 'Persistent (Chronic) Motor or Vocal Tic Disorder'\n",
            " 'Social (Pragmatic) Communication Disorder'\n",
            " 'Unspecified Anxiety Disorder'\n",
            " 'Other Specified Neurodevelopmental Disorder' 'Selective Mutism'\n",
            " 'ADHD-Hyperactive/Impulsive Type'\n",
            " 'Persistent Depressive Disorder (Dysthymia)'\n",
            " 'Other Specified Elimination Disorder with Urinary Symptoms' ' '\n",
            " 'Unspecified Attention-Deficit/Hyperactivity Disorder'\n",
            " 'Child Onset Fluency Disorder (Stuttering)' 'Bipolar I Disorder'\n",
            " 'Narcolepsy' 'Trichotillomania (Hair-Pulling Disorder)'\n",
            " 'Obsessive-Compulsive Disorder ' 'Parent-Child Relational Problem'\n",
            " 'Provisional Tic Disorder'\n",
            " 'Specific Learning Disorder with Impairment in Mathematics '\n",
            " 'Panic Disorder' 'Intellectual Disability-Moderate'\n",
            " 'Neurobehavioral Disorder Associated with Prenatal Alcohol Exposure (ND-PAE) '\n",
            " 'Reactive Attachment Disorder' 'Bipolar II Disorder'\n",
            " 'Other Specified Schizophrenia Spectrum and Other Psychotic Disorder'\n",
            " 'Alcohol Use Disorder']\n",
            "[nan '.' 'Specific Learning Disorder with Impairment in Reading'\n",
            " 'Enuresis' 'Generalized Anxiety Disorder' 'Language Disorder'\n",
            " 'Specific Phobia' 'ADHD-Combined Type' 'Obsessive-Compulsive Disorder'\n",
            " 'Separation Anxiety' 'Provisional Tic Disorder'\n",
            " 'Borderline Intellectual Functioning' 'Autism Spectrum Disorder'\n",
            " 'Social (Pragmatic) Communication Disorder'\n",
            " 'Other Specified Feeding or Eating Disorder' 'ADHD-Inattentive Type'\n",
            " 'Major Depressive Disorder' 'Intellectual Disability-Mild'\n",
            " 'Specific Learning Disorder with Impairment in Written Expression'\n",
            " 'Developmental Coordination Disorder' 'Adjustment Disorders'\n",
            " 'Insomnia Disorder'\n",
            " 'Other Specified Schizophrenia Spectrum and Other Psychotic Disorder'\n",
            " 'Social Anxiety (Social Phobia)' 'Encopresis' 'Pica in Children' ' '\n",
            " 'Specific Learning Disorder with Impairment in Mathematics'\n",
            " 'Speech Sound Disorder' 'Other Specified Anxiety Disorder'\n",
            " 'Persistent Depressive Disorder (Dysthymia)'\n",
            " 'Other Specified Tic Disorder' 'Conversion Disorder'\n",
            " 'Persistent (Chronic) Motor or Vocal Tic Disorder'\n",
            " 'Child Onset Fluency Disorder (Stuttering)'\n",
            " 'Disruptive Mood Dysregulation Disorder'\n",
            " 'Intellectual Disability-Moderate' 'Unspecified Anxiety Disorder'\n",
            " 'Other Specified Attention-Deficit/Hyperactivity Disorder' 'Agoraphobia'\n",
            " 'Other Specified Depressive Disorder'\n",
            " 'Other Specified Bipolar and Related Disorder' 'Alcohol Use Disorder'\n",
            " 'Posttraumatic Stress Disorder' 'Excoriation (Skin-Picking) Disorder'\n",
            " 'Panic Disorder' 'Tourettes Disorder' 'Binge-Eating Disorder'\n",
            " 'Reactive Attachment Disorder' 'Trichotillomania (Hair-Pulling Disorder)'\n",
            " 'Parent-Child Relational Problem' 'Tobacco Use Disorder' 'Child Neglect'\n",
            " 'Unspecified Bipolar and Related Disorder']\n",
            "[nan '.'\n",
            " 'Specific Learning Disorder with Impairment in Written Expression'\n",
            " 'Encopresis' 'Separation Anxiety' 'Social Anxiety (Social Phobia)'\n",
            " 'Specific Phobia' 'Generalized Anxiety Disorder'\n",
            " 'Developmental Coordination Disorder' 'Language Disorder' 'Enuresis'\n",
            " 'Provisional Tic Disorder' 'ADHD-Inattentive Type'\n",
            " 'Disruptive Mood Dysregulation Disorder'\n",
            " 'Specific Learning Disorder with Impairment in Mathematics'\n",
            " 'Major Depressive Disorder'\n",
            " 'Other Specified Trauma- and Stressor-Related Disorder'\n",
            " 'Specific Learning Disorder with Impairment in Reading'\n",
            " 'Other Specified Attention-Deficit/Hyperactivity Disorder'\n",
            " 'Speech Sound Disorder' 'Avoidant/Restrictive Food Intake Disorder'\n",
            " 'Social (Pragmatic) Communication Disorder'\n",
            " 'Persistent (Chronic) Motor or Vocal Tic Disorder'\n",
            " 'Autism Spectrum Disorder' ' ' 'Obsessive-Compulsive Disorder'\n",
            " 'Excoriation (Skin-Picking) Disorder' 'Adjustment Disorders'\n",
            " 'Trichotillomania (Hair-Pulling Disorder)'\n",
            " 'Unspecified Depressive Disorder' 'ADHD-Combined Type'\n",
            " 'Tobacco Use Disorder' 'Agoraphobia' 'Tourettes Disorder'\n",
            " 'Cannabis Use Disorder' 'Borderline Intellectual Functioning'\n",
            " 'Persistent Depressive Disorder (Dysthymia)'\n",
            " 'Other Specified Depressive Disorder' 'Binge-Eating Disorder'\n",
            " 'Unspecified Tic Disorder' 'Other Specified Anxiety Disorder'\n",
            " 'Bulimia Nervosa'\n",
            " 'Other Specified Schizophrenia Spectrum and Other Psychotic Disorder']\n",
            "[nan '.' 'Specific Learning Disorder with Impairment in Mathematics'\n",
            " 'Specific Phobia' 'Obsessive-Compulsive Disorder' 'Enuresis'\n",
            " 'Social Anxiety (Social Phobia)'\n",
            " 'Specific Learning Disorder with Impairment in Reading'\n",
            " 'Social (Pragmatic) Communication Disorder'\n",
            " 'Specific Learning Disorder with Impairment in Written Expression'\n",
            " 'Autism Spectrum Disorder' 'Language Disorder' 'Encopresis'\n",
            " 'Major Depressive Disorder'\n",
            " 'Persistent (Chronic) Motor or Vocal Tic Disorder'\n",
            " 'Generalized Anxiety Disorder' 'Posttraumatic Stress Disorder'\n",
            " 'ADHD-Inattentive Type' 'Speech Sound Disorder'\n",
            " 'Other Specified Anxiety Disorder' 'Unspecified Anxiety Disorder'\n",
            " 'Developmental Coordination Disorder' 'Binge-Eating Disorder'\n",
            " 'Other Specified Attention-Deficit/Hyperactivity Disorder'\n",
            " 'Other Specified Schizophrenia Spectrum and Other Psychotic Disorder'\n",
            " 'Separation Anxiety' 'ADHD-Combined Type']\n",
            "[nan '.' 'Developmental Coordination Disorder' 'Specific Phobia'\n",
            " 'Enuresis' 'Specific Learning Disorder with Impairment in Mathematics'\n",
            " 'Specific Learning Disorder with Impairment in Reading'\n",
            " 'Adjustment Disorders' 'Social Anxiety (Social Phobia)'\n",
            " 'Tourettes Disorder' 'Autism Spectrum Disorder'\n",
            " 'Excoriation (Skin-Picking) Disorder' 'Language Disorder']\n",
            "[nan '.' 'Unspecified Intellectual Disability'\n",
            " 'Other Specified Schizophrenia Spectrum and Other Psychotic Disorder'\n",
            " 'Specific Learning Disorder with Impairment in Mathematics'\n",
            " 'Developmental Coordination Disorder'\n",
            " 'Other Specified Trauma- and Stressor-Related Disorder' 'Agoraphobia'\n",
            " 'Specific Learning Disorder with Impairment in Written Expression'\n",
            " 'Specific Learning Disorder with Impairment in Reading'\n",
            " 'Language Disorder' 'Enuresis' 'Obsessive-Compulsive Disorder']\n",
            "[nan '.' 'Provisional Tic Disorder' 'Autism Spectrum Disorder'\n",
            " 'Obsessive-Compulsive Disorder'\n",
            " 'Specific Learning Disorder with Impairment in Mathematics' 'Enuresis']\n",
            "[nan '.' 'Social (Pragmatic) Communication Disorder']\n"
          ]
        }
      ]
    }
  ]
}