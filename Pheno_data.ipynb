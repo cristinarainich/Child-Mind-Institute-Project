{
  "nbformat": 4,
  "nbformat_minor": 0,
  "metadata": {
    "colab": {
      "provenance": [],
      "toc_visible": true,
      "authorship_tag": "ABX9TyM4a6lVG8fNpI9I6Jamo/RS",
      "include_colab_link": true
    },
    "kernelspec": {
      "name": "python3",
      "display_name": "Python 3"
    },
    "language_info": {
      "name": "python"
    }
  },
  "cells": [
    {
      "cell_type": "markdown",
      "metadata": {
        "id": "view-in-github",
        "colab_type": "text"
      },
      "source": [
        "<a href=\"https://colab.research.google.com/github/cristinarainich/Child-Mind-Institute-Project/blob/main/Pheno_data.ipynb\" target=\"_parent\"><img src=\"https://colab.research.google.com/assets/colab-badge.svg\" alt=\"Open In Colab\"/></a>"
      ]
    },
    {
      "cell_type": "code",
      "execution_count": 1,
      "metadata": {
        "colab": {
          "base_uri": "https://localhost:8080/"
        },
        "id": "7sLM_aBE1XSO",
        "outputId": "94badd7e-1466-425b-fc06-80d39eb08e46"
      },
      "outputs": [
        {
          "output_type": "stream",
          "name": "stdout",
          "text": [
            "Mounted at /content/drive\n"
          ]
        }
      ],
      "source": [
        "from google.colab import drive\n",
        "drive.mount('/content/drive')"
      ]
    },
    {
      "cell_type": "code",
      "source": [
        "from pathlib import Path\n",
        "import pandas as pd\n",
        "import numpy as np\n",
        "import pylab as pl\n",
        "import seaborn as sns\n",
        "%pylab inline"
      ],
      "metadata": {
        "colab": {
          "base_uri": "https://localhost:8080/"
        },
        "id": "aaZC6otb1s12",
        "outputId": "12462cc1-37e4-431a-b080-91b9516e1179"
      },
      "execution_count": 2,
      "outputs": [
        {
          "output_type": "stream",
          "name": "stdout",
          "text": [
            "Populating the interactive namespace from numpy and matplotlib\n"
          ]
        }
      ]
    },
    {
      "cell_type": "code",
      "source": [
        "sns.set()"
      ],
      "metadata": {
        "id": "lAeNDY5uJvVf"
      },
      "execution_count": 3,
      "outputs": []
    },
    {
      "cell_type": "code",
      "source": [
        "working_path = Path('/content/drive/MyDrive/KKNV')"
      ],
      "metadata": {
        "id": "aonUk2xG1llO"
      },
      "execution_count": 4,
      "outputs": []
    },
    {
      "cell_type": "code",
      "source": [
        "cd /content/drive/MyDrive/KKNV"
      ],
      "metadata": {
        "colab": {
          "base_uri": "https://localhost:8080/"
        },
        "id": "z9Xbaxjz1yH3",
        "outputId": "f69f0ecf-5f8c-4703-e061-c9e377622ea4"
      },
      "execution_count": 5,
      "outputs": [
        {
          "output_type": "stream",
          "name": "stdout",
          "text": [
            "/content/drive/MyDrive/KKNV\n"
          ]
        }
      ]
    },
    {
      "cell_type": "code",
      "source": [
        "!ls /content/drive/MyDrive/KKNV"
      ],
      "metadata": {
        "colab": {
          "base_uri": "https://localhost:8080/"
        },
        "id": "5zZW_4I4NS1u",
        "outputId": "91f46bac-796a-45cd-d136-1013914ee830"
      },
      "execution_count": 6,
      "outputs": [
        {
          "output_type": "stream",
          "name": "stdout",
          "text": [
            " full_pheno.csv       HBN_R6_Pheno.csv\t   pheno_mri.csv\n",
            " HBN_R10_Pheno.csv    HBN_R7_Pheno.csv\t   Query1.csv\n",
            " HBN_R1_1_Pheno.csv   HBN_R8_Pheno.csv\t  'Query 1.Dot values.csv'\n",
            " HBN_R2_1_Pheno.csv   HBN_R9_Pheno.csv\t   Query2.csv\n",
            " HBN_R3_Pheno.csv     iq_overview.csv\t  'Query 2.Dot values.csv'\n",
            " HBN_R4_Pheno.csv     iq_overview.gsheet   Query_final.csv\n",
            " HBN_R5_Pheno.csv     Pheno.csv\t\t   sites.csv\n"
          ]
        }
      ]
    },
    {
      "cell_type": "markdown",
      "source": [
        "## File informations from different releases"
      ],
      "metadata": {
        "id": "CtAp_u7jXWtt"
      }
    },
    {
      "cell_type": "code",
      "source": [
        "!ls /content/drive/MyDrive/KKNV"
      ],
      "metadata": {
        "id": "q3nRWl5Ku-95",
        "colab": {
          "base_uri": "https://localhost:8080/"
        },
        "outputId": "10400925-f049-4fac-9a88-68650a2e2f47"
      },
      "execution_count": null,
      "outputs": [
        {
          "output_type": "stream",
          "name": "stdout",
          "text": [
            "full_pheno.csv\t    HBN_R4_Pheno.csv  HBN_R9_Pheno.csv\t  Query1.csv\n",
            "HBN_R10_Pheno.csv   HBN_R5_Pheno.csv  iq_overview.csv\t  Query2.csv\n",
            "HBN_R1_1_Pheno.csv  HBN_R6_Pheno.csv  iq_overview.gsheet  Query_final.csv\n",
            "HBN_R2_1_Pheno.csv  HBN_R7_Pheno.csv  Pheno.csv\t\t  sites.csv\n",
            "HBN_R3_Pheno.csv    HBN_R8_Pheno.csv  pheno_mri.csv\n"
          ]
        }
      ]
    },
    {
      "cell_type": "code",
      "source": [
        "# info on whether there are phenotypical full files and imaging data availale\n",
        "file1 = pd.read_csv(\n",
        "    working_path.joinpath('HBN_R1_1_Pheno.csv'),\n",
        "    index_col=None\n",
        ")\n",
        "file2 = pd.read_csv(\n",
        "    working_path.joinpath('HBN_R2_1_Pheno.csv'),\n",
        "    index_col=None\n",
        ")\n",
        "file3 = pd.read_csv(\n",
        "    working_path.joinpath('HBN_R3_Pheno.csv'),\n",
        "    index_col=None\n",
        ")\n",
        "file4 = pd.read_csv(\n",
        "    working_path.joinpath('HBN_R4_Pheno.csv'),\n",
        "    index_col=None\n",
        ")\n",
        "file5 = pd.read_csv(\n",
        "    working_path.joinpath('HBN_R5_Pheno.csv'),\n",
        "    index_col=None\n",
        ")\n",
        "file6 = pd.read_csv(\n",
        "    working_path.joinpath('HBN_R6_Pheno.csv'),\n",
        "    index_col=None\n",
        ")\n",
        "file7 = pd.read_csv(\n",
        "    working_path.joinpath('HBN_R7_Pheno.csv'),\n",
        "    index_col=None\n",
        ")\n",
        "file8 = pd.read_csv(\n",
        "    working_path.joinpath('HBN_R8_Pheno.csv'),\n",
        "    index_col=None\n",
        ")\n",
        "file9 = pd.read_csv(\n",
        "    working_path.joinpath('HBN_R9_Pheno.csv'),\n",
        "    index_col=None\n",
        ")\n",
        "file10 = pd.read_csv(\n",
        "    working_path.joinpath('HBN_R10_Pheno.csv'),\n",
        "    index_col=None\n",
        ")"
      ],
      "metadata": {
        "id": "HAn8D8FMVav4"
      },
      "execution_count": null,
      "outputs": []
    },
    {
      "cell_type": "code",
      "source": [
        "fullpheno = pd.concat([file1, file2])\n",
        "fullpheno = pd.concat([fullpheno, file3])\n",
        "fullpheno = pd.concat([fullpheno, file4])\n",
        "fullpheno = pd.concat([fullpheno, file5])\n",
        "fullpheno = pd.concat([fullpheno, file6])\n",
        "fullpheno = pd.concat([fullpheno, file7])\n",
        "fullpheno = pd.concat([fullpheno, file8])\n",
        "fullpheno = pd.concat([fullpheno, file9])\n",
        "fullpheno = pd.concat([fullpheno, file10])"
      ],
      "metadata": {
        "id": "kQmGWLmVXjhC"
      },
      "execution_count": null,
      "outputs": []
    },
    {
      "cell_type": "code",
      "source": [
        "fullpheno.to_csv(\n",
        "    Path(working_path).joinpath('full_pheno.csv')\n",
        ")"
      ],
      "metadata": {
        "id": "3wpGbu9YXZHb"
      },
      "execution_count": null,
      "outputs": []
    },
    {
      "cell_type": "markdown",
      "source": [
        "## Creating a file on MRI and full pheno information"
      ],
      "metadata": {
        "id": "iv1DcB3tXfv3"
      }
    },
    {
      "cell_type": "code",
      "source": [
        "# file with the identifiers that have mri imaging\n",
        "fullpheno = pd.read_csv(\n",
        "    working_path.joinpath('full_pheno.csv'),\n",
        "    index_col=None\n",
        ")"
      ],
      "metadata": {
        "id": "ZvqVNi2FYC4w"
      },
      "execution_count": null,
      "outputs": []
    },
    {
      "cell_type": "code",
      "source": [
        "fullpheno.head()"
      ],
      "metadata": {
        "id": "40B35TbWY8MJ",
        "outputId": "d57ff444-0b1a-4afa-95b6-fb21647a2580",
        "colab": {
          "base_uri": "https://localhost:8080/",
          "height": 206
        }
      },
      "execution_count": null,
      "outputs": [
        {
          "output_type": "execute_result",
          "data": {
            "text/plain": [
              "            EID  Sex        Age  EHQ_Total Commercial_Use Full_Pheno\n",
              "0  NDARYM832PX3  1.0   7.048254     -33.35             No        Yes\n",
              "1  NDARNJ687DMC  1.0   6.348163      46.67             No        Yes\n",
              "2  NDARFM080VAF  1.0   7.623203    -100.00             No        Yes\n",
              "3  NDARFW130NGG  1.0   8.316107      93.34             No        Yes\n",
              "4  NDARDT800YVF  0.0  17.510381      86.67             No        Yes"
            ],
            "text/html": [
              "\n",
              "  <div id=\"df-d877bc36-1a95-41b2-bc2a-0f4684d47efd\">\n",
              "    <div class=\"colab-df-container\">\n",
              "      <div>\n",
              "<style scoped>\n",
              "    .dataframe tbody tr th:only-of-type {\n",
              "        vertical-align: middle;\n",
              "    }\n",
              "\n",
              "    .dataframe tbody tr th {\n",
              "        vertical-align: top;\n",
              "    }\n",
              "\n",
              "    .dataframe thead th {\n",
              "        text-align: right;\n",
              "    }\n",
              "</style>\n",
              "<table border=\"1\" class=\"dataframe\">\n",
              "  <thead>\n",
              "    <tr style=\"text-align: right;\">\n",
              "      <th></th>\n",
              "      <th>EID</th>\n",
              "      <th>Sex</th>\n",
              "      <th>Age</th>\n",
              "      <th>EHQ_Total</th>\n",
              "      <th>Commercial_Use</th>\n",
              "      <th>Full_Pheno</th>\n",
              "    </tr>\n",
              "  </thead>\n",
              "  <tbody>\n",
              "    <tr>\n",
              "      <th>0</th>\n",
              "      <td>NDARYM832PX3</td>\n",
              "      <td>1.0</td>\n",
              "      <td>7.048254</td>\n",
              "      <td>-33.35</td>\n",
              "      <td>No</td>\n",
              "      <td>Yes</td>\n",
              "    </tr>\n",
              "    <tr>\n",
              "      <th>1</th>\n",
              "      <td>NDARNJ687DMC</td>\n",
              "      <td>1.0</td>\n",
              "      <td>6.348163</td>\n",
              "      <td>46.67</td>\n",
              "      <td>No</td>\n",
              "      <td>Yes</td>\n",
              "    </tr>\n",
              "    <tr>\n",
              "      <th>2</th>\n",
              "      <td>NDARFM080VAF</td>\n",
              "      <td>1.0</td>\n",
              "      <td>7.623203</td>\n",
              "      <td>-100.00</td>\n",
              "      <td>No</td>\n",
              "      <td>Yes</td>\n",
              "    </tr>\n",
              "    <tr>\n",
              "      <th>3</th>\n",
              "      <td>NDARFW130NGG</td>\n",
              "      <td>1.0</td>\n",
              "      <td>8.316107</td>\n",
              "      <td>93.34</td>\n",
              "      <td>No</td>\n",
              "      <td>Yes</td>\n",
              "    </tr>\n",
              "    <tr>\n",
              "      <th>4</th>\n",
              "      <td>NDARDT800YVF</td>\n",
              "      <td>0.0</td>\n",
              "      <td>17.510381</td>\n",
              "      <td>86.67</td>\n",
              "      <td>No</td>\n",
              "      <td>Yes</td>\n",
              "    </tr>\n",
              "  </tbody>\n",
              "</table>\n",
              "</div>\n",
              "      <button class=\"colab-df-convert\" onclick=\"convertToInteractive('df-d877bc36-1a95-41b2-bc2a-0f4684d47efd')\"\n",
              "              title=\"Convert this dataframe to an interactive table.\"\n",
              "              style=\"display:none;\">\n",
              "        \n",
              "  <svg xmlns=\"http://www.w3.org/2000/svg\" height=\"24px\"viewBox=\"0 0 24 24\"\n",
              "       width=\"24px\">\n",
              "    <path d=\"M0 0h24v24H0V0z\" fill=\"none\"/>\n",
              "    <path d=\"M18.56 5.44l.94 2.06.94-2.06 2.06-.94-2.06-.94-.94-2.06-.94 2.06-2.06.94zm-11 1L8.5 8.5l.94-2.06 2.06-.94-2.06-.94L8.5 2.5l-.94 2.06-2.06.94zm10 10l.94 2.06.94-2.06 2.06-.94-2.06-.94-.94-2.06-.94 2.06-2.06.94z\"/><path d=\"M17.41 7.96l-1.37-1.37c-.4-.4-.92-.59-1.43-.59-.52 0-1.04.2-1.43.59L10.3 9.45l-7.72 7.72c-.78.78-.78 2.05 0 2.83L4 21.41c.39.39.9.59 1.41.59.51 0 1.02-.2 1.41-.59l7.78-7.78 2.81-2.81c.8-.78.8-2.07 0-2.86zM5.41 20L4 18.59l7.72-7.72 1.47 1.35L5.41 20z\"/>\n",
              "  </svg>\n",
              "      </button>\n",
              "      \n",
              "  <style>\n",
              "    .colab-df-container {\n",
              "      display:flex;\n",
              "      flex-wrap:wrap;\n",
              "      gap: 12px;\n",
              "    }\n",
              "\n",
              "    .colab-df-convert {\n",
              "      background-color: #E8F0FE;\n",
              "      border: none;\n",
              "      border-radius: 50%;\n",
              "      cursor: pointer;\n",
              "      display: none;\n",
              "      fill: #1967D2;\n",
              "      height: 32px;\n",
              "      padding: 0 0 0 0;\n",
              "      width: 32px;\n",
              "    }\n",
              "\n",
              "    .colab-df-convert:hover {\n",
              "      background-color: #E2EBFA;\n",
              "      box-shadow: 0px 1px 2px rgba(60, 64, 67, 0.3), 0px 1px 3px 1px rgba(60, 64, 67, 0.15);\n",
              "      fill: #174EA6;\n",
              "    }\n",
              "\n",
              "    [theme=dark] .colab-df-convert {\n",
              "      background-color: #3B4455;\n",
              "      fill: #D2E3FC;\n",
              "    }\n",
              "\n",
              "    [theme=dark] .colab-df-convert:hover {\n",
              "      background-color: #434B5C;\n",
              "      box-shadow: 0px 1px 3px 1px rgba(0, 0, 0, 0.15);\n",
              "      filter: drop-shadow(0px 1px 2px rgba(0, 0, 0, 0.3));\n",
              "      fill: #FFFFFF;\n",
              "    }\n",
              "  </style>\n",
              "\n",
              "      <script>\n",
              "        const buttonEl =\n",
              "          document.querySelector('#df-d877bc36-1a95-41b2-bc2a-0f4684d47efd button.colab-df-convert');\n",
              "        buttonEl.style.display =\n",
              "          google.colab.kernel.accessAllowed ? 'block' : 'none';\n",
              "\n",
              "        async function convertToInteractive(key) {\n",
              "          const element = document.querySelector('#df-d877bc36-1a95-41b2-bc2a-0f4684d47efd');\n",
              "          const dataTable =\n",
              "            await google.colab.kernel.invokeFunction('convertToInteractive',\n",
              "                                                     [key], {});\n",
              "          if (!dataTable) return;\n",
              "\n",
              "          const docLinkHtml = 'Like what you see? Visit the ' +\n",
              "            '<a target=\"_blank\" href=https://colab.research.google.com/notebooks/data_table.ipynb>data table notebook</a>'\n",
              "            + ' to learn more about interactive tables.';\n",
              "          element.innerHTML = '';\n",
              "          dataTable['output_type'] = 'display_data';\n",
              "          await google.colab.output.renderOutput(dataTable, element);\n",
              "          const docLink = document.createElement('div');\n",
              "          docLink.innerHTML = docLinkHtml;\n",
              "          element.appendChild(docLink);\n",
              "        }\n",
              "      </script>\n",
              "    </div>\n",
              "  </div>\n",
              "  "
            ]
          },
          "metadata": {},
          "execution_count": 66
        }
      ]
    },
    {
      "cell_type": "code",
      "source": [
        "print(fullpheno.shape)\n",
        "print(len(fullpheno.EID.unique()))\n",
        "# there are some identifiers that are repeated in the table"
      ],
      "metadata": {
        "id": "61ut-oUNZQT9",
        "outputId": "c3dd7476-b5cd-4e71-9699-118e389b0ab0",
        "colab": {
          "base_uri": "https://localhost:8080/"
        }
      },
      "execution_count": null,
      "outputs": [
        {
          "output_type": "stream",
          "name": "stdout",
          "text": [
            "(5106, 6)\n",
            "4245\n"
          ]
        }
      ]
    },
    {
      "cell_type": "code",
      "source": [
        "unique = []\n",
        "repetition = []\n",
        "for i in fullpheno.EID.values:\n",
        "  if i not in unique:\n",
        "    unique.append(i)\n",
        "  else:\n",
        "    repetition.append(i)\n",
        "print(fullpheno.shape[0])\n",
        "print(len(unique))\n",
        "print(len(repetition))"
      ],
      "metadata": {
        "id": "n27542-KsZVK",
        "outputId": "e7b2de43-1547-4c23-e211-df9640023f4b",
        "colab": {
          "base_uri": "https://localhost:8080/"
        }
      },
      "execution_count": null,
      "outputs": [
        {
          "output_type": "stream",
          "name": "stdout",
          "text": [
            "5106\n",
            "4245\n",
            "861\n"
          ]
        }
      ]
    },
    {
      "cell_type": "code",
      "source": [
        "full_no_doubles = fullpheno.drop_duplicates()"
      ],
      "metadata": {
        "id": "LN5Z-Sq3CQKO"
      },
      "execution_count": null,
      "outputs": []
    },
    {
      "cell_type": "code",
      "source": [
        "unique = []\n",
        "repetition = []\n",
        "for i in full_no_doubles.EID.values:\n",
        "  if i not in unique:\n",
        "    unique.append(i)\n",
        "  else:\n",
        "    if i not in repetition:\n",
        "      repetition.append(i)\n",
        "print(full_no_doubles.shape[0])\n",
        "print(len(unique))\n",
        "print(len(repetition))\n",
        "# still there is some repetition but let's see whether something disappears when we clean data"
      ],
      "metadata": {
        "id": "o6Uf2r-hCwNB",
        "outputId": "8ef53298-38a1-4873-fb76-b4aa61b6c110",
        "colab": {
          "base_uri": "https://localhost:8080/"
        }
      },
      "execution_count": null,
      "outputs": [
        {
          "output_type": "stream",
          "name": "stdout",
          "text": [
            "4263\n",
            "4245\n",
            "18\n"
          ]
        }
      ]
    },
    {
      "cell_type": "code",
      "source": [
        "full_no_doubles.groupby(['Full_Pheno']).count()"
      ],
      "metadata": {
        "id": "67BBaILqDPD6",
        "outputId": "4e6d722e-97e6-4fb0-c570-4f605fa9d3aa",
        "colab": {
          "base_uri": "https://localhost:8080/",
          "height": 143
        }
      },
      "execution_count": null,
      "outputs": [
        {
          "output_type": "execute_result",
          "data": {
            "text/plain": [
              "             EID   Sex   Age  EHQ_Total  Commercial_Use\n",
              "Full_Pheno                                             \n",
              "No           723   723   723        720             723\n",
              "Yes         3539  3539  3539       3466            3539"
            ],
            "text/html": [
              "\n",
              "  <div id=\"df-76026d14-18a9-4f88-b279-a05e18c3db8c\">\n",
              "    <div class=\"colab-df-container\">\n",
              "      <div>\n",
              "<style scoped>\n",
              "    .dataframe tbody tr th:only-of-type {\n",
              "        vertical-align: middle;\n",
              "    }\n",
              "\n",
              "    .dataframe tbody tr th {\n",
              "        vertical-align: top;\n",
              "    }\n",
              "\n",
              "    .dataframe thead th {\n",
              "        text-align: right;\n",
              "    }\n",
              "</style>\n",
              "<table border=\"1\" class=\"dataframe\">\n",
              "  <thead>\n",
              "    <tr style=\"text-align: right;\">\n",
              "      <th></th>\n",
              "      <th>EID</th>\n",
              "      <th>Sex</th>\n",
              "      <th>Age</th>\n",
              "      <th>EHQ_Total</th>\n",
              "      <th>Commercial_Use</th>\n",
              "    </tr>\n",
              "    <tr>\n",
              "      <th>Full_Pheno</th>\n",
              "      <th></th>\n",
              "      <th></th>\n",
              "      <th></th>\n",
              "      <th></th>\n",
              "      <th></th>\n",
              "    </tr>\n",
              "  </thead>\n",
              "  <tbody>\n",
              "    <tr>\n",
              "      <th>No</th>\n",
              "      <td>723</td>\n",
              "      <td>723</td>\n",
              "      <td>723</td>\n",
              "      <td>720</td>\n",
              "      <td>723</td>\n",
              "    </tr>\n",
              "    <tr>\n",
              "      <th>Yes</th>\n",
              "      <td>3539</td>\n",
              "      <td>3539</td>\n",
              "      <td>3539</td>\n",
              "      <td>3466</td>\n",
              "      <td>3539</td>\n",
              "    </tr>\n",
              "  </tbody>\n",
              "</table>\n",
              "</div>\n",
              "      <button class=\"colab-df-convert\" onclick=\"convertToInteractive('df-76026d14-18a9-4f88-b279-a05e18c3db8c')\"\n",
              "              title=\"Convert this dataframe to an interactive table.\"\n",
              "              style=\"display:none;\">\n",
              "        \n",
              "  <svg xmlns=\"http://www.w3.org/2000/svg\" height=\"24px\"viewBox=\"0 0 24 24\"\n",
              "       width=\"24px\">\n",
              "    <path d=\"M0 0h24v24H0V0z\" fill=\"none\"/>\n",
              "    <path d=\"M18.56 5.44l.94 2.06.94-2.06 2.06-.94-2.06-.94-.94-2.06-.94 2.06-2.06.94zm-11 1L8.5 8.5l.94-2.06 2.06-.94-2.06-.94L8.5 2.5l-.94 2.06-2.06.94zm10 10l.94 2.06.94-2.06 2.06-.94-2.06-.94-.94-2.06-.94 2.06-2.06.94z\"/><path d=\"M17.41 7.96l-1.37-1.37c-.4-.4-.92-.59-1.43-.59-.52 0-1.04.2-1.43.59L10.3 9.45l-7.72 7.72c-.78.78-.78 2.05 0 2.83L4 21.41c.39.39.9.59 1.41.59.51 0 1.02-.2 1.41-.59l7.78-7.78 2.81-2.81c.8-.78.8-2.07 0-2.86zM5.41 20L4 18.59l7.72-7.72 1.47 1.35L5.41 20z\"/>\n",
              "  </svg>\n",
              "      </button>\n",
              "      \n",
              "  <style>\n",
              "    .colab-df-container {\n",
              "      display:flex;\n",
              "      flex-wrap:wrap;\n",
              "      gap: 12px;\n",
              "    }\n",
              "\n",
              "    .colab-df-convert {\n",
              "      background-color: #E8F0FE;\n",
              "      border: none;\n",
              "      border-radius: 50%;\n",
              "      cursor: pointer;\n",
              "      display: none;\n",
              "      fill: #1967D2;\n",
              "      height: 32px;\n",
              "      padding: 0 0 0 0;\n",
              "      width: 32px;\n",
              "    }\n",
              "\n",
              "    .colab-df-convert:hover {\n",
              "      background-color: #E2EBFA;\n",
              "      box-shadow: 0px 1px 2px rgba(60, 64, 67, 0.3), 0px 1px 3px 1px rgba(60, 64, 67, 0.15);\n",
              "      fill: #174EA6;\n",
              "    }\n",
              "\n",
              "    [theme=dark] .colab-df-convert {\n",
              "      background-color: #3B4455;\n",
              "      fill: #D2E3FC;\n",
              "    }\n",
              "\n",
              "    [theme=dark] .colab-df-convert:hover {\n",
              "      background-color: #434B5C;\n",
              "      box-shadow: 0px 1px 3px 1px rgba(0, 0, 0, 0.15);\n",
              "      filter: drop-shadow(0px 1px 2px rgba(0, 0, 0, 0.3));\n",
              "      fill: #FFFFFF;\n",
              "    }\n",
              "  </style>\n",
              "\n",
              "      <script>\n",
              "        const buttonEl =\n",
              "          document.querySelector('#df-76026d14-18a9-4f88-b279-a05e18c3db8c button.colab-df-convert');\n",
              "        buttonEl.style.display =\n",
              "          google.colab.kernel.accessAllowed ? 'block' : 'none';\n",
              "\n",
              "        async function convertToInteractive(key) {\n",
              "          const element = document.querySelector('#df-76026d14-18a9-4f88-b279-a05e18c3db8c');\n",
              "          const dataTable =\n",
              "            await google.colab.kernel.invokeFunction('convertToInteractive',\n",
              "                                                     [key], {});\n",
              "          if (!dataTable) return;\n",
              "\n",
              "          const docLinkHtml = 'Like what you see? Visit the ' +\n",
              "            '<a target=\"_blank\" href=https://colab.research.google.com/notebooks/data_table.ipynb>data table notebook</a>'\n",
              "            + ' to learn more about interactive tables.';\n",
              "          element.innerHTML = '';\n",
              "          dataTable['output_type'] = 'display_data';\n",
              "          await google.colab.output.renderOutput(dataTable, element);\n",
              "          const docLink = document.createElement('div');\n",
              "          docLink.innerHTML = docLinkHtml;\n",
              "          element.appendChild(docLink);\n",
              "        }\n",
              "      </script>\n",
              "    </div>\n",
              "  </div>\n",
              "  "
            ]
          },
          "metadata": {},
          "execution_count": 121
        }
      ]
    },
    {
      "cell_type": "code",
      "source": [
        "pheno_mri = full_no_doubles[full_no_doubles['Full_Pheno'] == 'Yes']\n",
        "print(pheno_mri.shape)"
      ],
      "metadata": {
        "id": "MJ66Mkz1Dr-n",
        "outputId": "b06dc929-9b2b-4101-b782-3e2ac7b2b21a",
        "colab": {
          "base_uri": "https://localhost:8080/"
        }
      },
      "execution_count": null,
      "outputs": [
        {
          "output_type": "stream",
          "name": "stdout",
          "text": [
            "(3539, 6)\n"
          ]
        }
      ]
    },
    {
      "cell_type": "code",
      "source": [
        "pheno_mri.groupby(['Sex']).count()\n",
        "# Sex 1 - female, 0 - male"
      ],
      "metadata": {
        "id": "KwTWekG4EA7W",
        "outputId": "b4e928b1-5869-4a25-a112-5c029f8e7f88",
        "colab": {
          "base_uri": "https://localhost:8080/",
          "height": 143
        }
      },
      "execution_count": null,
      "outputs": [
        {
          "output_type": "execute_result",
          "data": {
            "text/plain": [
              "      EID   Age  EHQ_Total  Commercial_Use  Full_Pheno\n",
              "Sex                                                   \n",
              "0.0  2272  2272       2223            2272        2272\n",
              "1.0  1267  1267       1243            1267        1267"
            ],
            "text/html": [
              "\n",
              "  <div id=\"df-c6552932-1650-4c44-ae93-8a724e54bcc9\">\n",
              "    <div class=\"colab-df-container\">\n",
              "      <div>\n",
              "<style scoped>\n",
              "    .dataframe tbody tr th:only-of-type {\n",
              "        vertical-align: middle;\n",
              "    }\n",
              "\n",
              "    .dataframe tbody tr th {\n",
              "        vertical-align: top;\n",
              "    }\n",
              "\n",
              "    .dataframe thead th {\n",
              "        text-align: right;\n",
              "    }\n",
              "</style>\n",
              "<table border=\"1\" class=\"dataframe\">\n",
              "  <thead>\n",
              "    <tr style=\"text-align: right;\">\n",
              "      <th></th>\n",
              "      <th>EID</th>\n",
              "      <th>Age</th>\n",
              "      <th>EHQ_Total</th>\n",
              "      <th>Commercial_Use</th>\n",
              "      <th>Full_Pheno</th>\n",
              "    </tr>\n",
              "    <tr>\n",
              "      <th>Sex</th>\n",
              "      <th></th>\n",
              "      <th></th>\n",
              "      <th></th>\n",
              "      <th></th>\n",
              "      <th></th>\n",
              "    </tr>\n",
              "  </thead>\n",
              "  <tbody>\n",
              "    <tr>\n",
              "      <th>0.0</th>\n",
              "      <td>2272</td>\n",
              "      <td>2272</td>\n",
              "      <td>2223</td>\n",
              "      <td>2272</td>\n",
              "      <td>2272</td>\n",
              "    </tr>\n",
              "    <tr>\n",
              "      <th>1.0</th>\n",
              "      <td>1267</td>\n",
              "      <td>1267</td>\n",
              "      <td>1243</td>\n",
              "      <td>1267</td>\n",
              "      <td>1267</td>\n",
              "    </tr>\n",
              "  </tbody>\n",
              "</table>\n",
              "</div>\n",
              "      <button class=\"colab-df-convert\" onclick=\"convertToInteractive('df-c6552932-1650-4c44-ae93-8a724e54bcc9')\"\n",
              "              title=\"Convert this dataframe to an interactive table.\"\n",
              "              style=\"display:none;\">\n",
              "        \n",
              "  <svg xmlns=\"http://www.w3.org/2000/svg\" height=\"24px\"viewBox=\"0 0 24 24\"\n",
              "       width=\"24px\">\n",
              "    <path d=\"M0 0h24v24H0V0z\" fill=\"none\"/>\n",
              "    <path d=\"M18.56 5.44l.94 2.06.94-2.06 2.06-.94-2.06-.94-.94-2.06-.94 2.06-2.06.94zm-11 1L8.5 8.5l.94-2.06 2.06-.94-2.06-.94L8.5 2.5l-.94 2.06-2.06.94zm10 10l.94 2.06.94-2.06 2.06-.94-2.06-.94-.94-2.06-.94 2.06-2.06.94z\"/><path d=\"M17.41 7.96l-1.37-1.37c-.4-.4-.92-.59-1.43-.59-.52 0-1.04.2-1.43.59L10.3 9.45l-7.72 7.72c-.78.78-.78 2.05 0 2.83L4 21.41c.39.39.9.59 1.41.59.51 0 1.02-.2 1.41-.59l7.78-7.78 2.81-2.81c.8-.78.8-2.07 0-2.86zM5.41 20L4 18.59l7.72-7.72 1.47 1.35L5.41 20z\"/>\n",
              "  </svg>\n",
              "      </button>\n",
              "      \n",
              "  <style>\n",
              "    .colab-df-container {\n",
              "      display:flex;\n",
              "      flex-wrap:wrap;\n",
              "      gap: 12px;\n",
              "    }\n",
              "\n",
              "    .colab-df-convert {\n",
              "      background-color: #E8F0FE;\n",
              "      border: none;\n",
              "      border-radius: 50%;\n",
              "      cursor: pointer;\n",
              "      display: none;\n",
              "      fill: #1967D2;\n",
              "      height: 32px;\n",
              "      padding: 0 0 0 0;\n",
              "      width: 32px;\n",
              "    }\n",
              "\n",
              "    .colab-df-convert:hover {\n",
              "      background-color: #E2EBFA;\n",
              "      box-shadow: 0px 1px 2px rgba(60, 64, 67, 0.3), 0px 1px 3px 1px rgba(60, 64, 67, 0.15);\n",
              "      fill: #174EA6;\n",
              "    }\n",
              "\n",
              "    [theme=dark] .colab-df-convert {\n",
              "      background-color: #3B4455;\n",
              "      fill: #D2E3FC;\n",
              "    }\n",
              "\n",
              "    [theme=dark] .colab-df-convert:hover {\n",
              "      background-color: #434B5C;\n",
              "      box-shadow: 0px 1px 3px 1px rgba(0, 0, 0, 0.15);\n",
              "      filter: drop-shadow(0px 1px 2px rgba(0, 0, 0, 0.3));\n",
              "      fill: #FFFFFF;\n",
              "    }\n",
              "  </style>\n",
              "\n",
              "      <script>\n",
              "        const buttonEl =\n",
              "          document.querySelector('#df-c6552932-1650-4c44-ae93-8a724e54bcc9 button.colab-df-convert');\n",
              "        buttonEl.style.display =\n",
              "          google.colab.kernel.accessAllowed ? 'block' : 'none';\n",
              "\n",
              "        async function convertToInteractive(key) {\n",
              "          const element = document.querySelector('#df-c6552932-1650-4c44-ae93-8a724e54bcc9');\n",
              "          const dataTable =\n",
              "            await google.colab.kernel.invokeFunction('convertToInteractive',\n",
              "                                                     [key], {});\n",
              "          if (!dataTable) return;\n",
              "\n",
              "          const docLinkHtml = 'Like what you see? Visit the ' +\n",
              "            '<a target=\"_blank\" href=https://colab.research.google.com/notebooks/data_table.ipynb>data table notebook</a>'\n",
              "            + ' to learn more about interactive tables.';\n",
              "          element.innerHTML = '';\n",
              "          dataTable['output_type'] = 'display_data';\n",
              "          await google.colab.output.renderOutput(dataTable, element);\n",
              "          const docLink = document.createElement('div');\n",
              "          docLink.innerHTML = docLinkHtml;\n",
              "          element.appendChild(docLink);\n",
              "        }\n",
              "      </script>\n",
              "    </div>\n",
              "  </div>\n",
              "  "
            ]
          },
          "metadata": {},
          "execution_count": 122
        }
      ]
    },
    {
      "cell_type": "code",
      "source": [
        "pheno_mri.groupby(['Commercial_Use']).count()"
      ],
      "metadata": {
        "id": "0H1qLG6zETad",
        "outputId": "9e48be17-283d-42c0-9da7-0adc72cbf67a",
        "colab": {
          "base_uri": "https://localhost:8080/",
          "height": 143
        }
      },
      "execution_count": null,
      "outputs": [
        {
          "output_type": "execute_result",
          "data": {
            "text/plain": [
              "                 EID   Sex   Age  EHQ_Total  Full_Pheno\n",
              "Commercial_Use                                         \n",
              "No               561   561   561        526         561\n",
              "Yes             2978  2978  2978       2940        2978"
            ],
            "text/html": [
              "\n",
              "  <div id=\"df-19f8c75f-f509-446a-b3d7-8dbdf9271e38\">\n",
              "    <div class=\"colab-df-container\">\n",
              "      <div>\n",
              "<style scoped>\n",
              "    .dataframe tbody tr th:only-of-type {\n",
              "        vertical-align: middle;\n",
              "    }\n",
              "\n",
              "    .dataframe tbody tr th {\n",
              "        vertical-align: top;\n",
              "    }\n",
              "\n",
              "    .dataframe thead th {\n",
              "        text-align: right;\n",
              "    }\n",
              "</style>\n",
              "<table border=\"1\" class=\"dataframe\">\n",
              "  <thead>\n",
              "    <tr style=\"text-align: right;\">\n",
              "      <th></th>\n",
              "      <th>EID</th>\n",
              "      <th>Sex</th>\n",
              "      <th>Age</th>\n",
              "      <th>EHQ_Total</th>\n",
              "      <th>Full_Pheno</th>\n",
              "    </tr>\n",
              "    <tr>\n",
              "      <th>Commercial_Use</th>\n",
              "      <th></th>\n",
              "      <th></th>\n",
              "      <th></th>\n",
              "      <th></th>\n",
              "      <th></th>\n",
              "    </tr>\n",
              "  </thead>\n",
              "  <tbody>\n",
              "    <tr>\n",
              "      <th>No</th>\n",
              "      <td>561</td>\n",
              "      <td>561</td>\n",
              "      <td>561</td>\n",
              "      <td>526</td>\n",
              "      <td>561</td>\n",
              "    </tr>\n",
              "    <tr>\n",
              "      <th>Yes</th>\n",
              "      <td>2978</td>\n",
              "      <td>2978</td>\n",
              "      <td>2978</td>\n",
              "      <td>2940</td>\n",
              "      <td>2978</td>\n",
              "    </tr>\n",
              "  </tbody>\n",
              "</table>\n",
              "</div>\n",
              "      <button class=\"colab-df-convert\" onclick=\"convertToInteractive('df-19f8c75f-f509-446a-b3d7-8dbdf9271e38')\"\n",
              "              title=\"Convert this dataframe to an interactive table.\"\n",
              "              style=\"display:none;\">\n",
              "        \n",
              "  <svg xmlns=\"http://www.w3.org/2000/svg\" height=\"24px\"viewBox=\"0 0 24 24\"\n",
              "       width=\"24px\">\n",
              "    <path d=\"M0 0h24v24H0V0z\" fill=\"none\"/>\n",
              "    <path d=\"M18.56 5.44l.94 2.06.94-2.06 2.06-.94-2.06-.94-.94-2.06-.94 2.06-2.06.94zm-11 1L8.5 8.5l.94-2.06 2.06-.94-2.06-.94L8.5 2.5l-.94 2.06-2.06.94zm10 10l.94 2.06.94-2.06 2.06-.94-2.06-.94-.94-2.06-.94 2.06-2.06.94z\"/><path d=\"M17.41 7.96l-1.37-1.37c-.4-.4-.92-.59-1.43-.59-.52 0-1.04.2-1.43.59L10.3 9.45l-7.72 7.72c-.78.78-.78 2.05 0 2.83L4 21.41c.39.39.9.59 1.41.59.51 0 1.02-.2 1.41-.59l7.78-7.78 2.81-2.81c.8-.78.8-2.07 0-2.86zM5.41 20L4 18.59l7.72-7.72 1.47 1.35L5.41 20z\"/>\n",
              "  </svg>\n",
              "      </button>\n",
              "      \n",
              "  <style>\n",
              "    .colab-df-container {\n",
              "      display:flex;\n",
              "      flex-wrap:wrap;\n",
              "      gap: 12px;\n",
              "    }\n",
              "\n",
              "    .colab-df-convert {\n",
              "      background-color: #E8F0FE;\n",
              "      border: none;\n",
              "      border-radius: 50%;\n",
              "      cursor: pointer;\n",
              "      display: none;\n",
              "      fill: #1967D2;\n",
              "      height: 32px;\n",
              "      padding: 0 0 0 0;\n",
              "      width: 32px;\n",
              "    }\n",
              "\n",
              "    .colab-df-convert:hover {\n",
              "      background-color: #E2EBFA;\n",
              "      box-shadow: 0px 1px 2px rgba(60, 64, 67, 0.3), 0px 1px 3px 1px rgba(60, 64, 67, 0.15);\n",
              "      fill: #174EA6;\n",
              "    }\n",
              "\n",
              "    [theme=dark] .colab-df-convert {\n",
              "      background-color: #3B4455;\n",
              "      fill: #D2E3FC;\n",
              "    }\n",
              "\n",
              "    [theme=dark] .colab-df-convert:hover {\n",
              "      background-color: #434B5C;\n",
              "      box-shadow: 0px 1px 3px 1px rgba(0, 0, 0, 0.15);\n",
              "      filter: drop-shadow(0px 1px 2px rgba(0, 0, 0, 0.3));\n",
              "      fill: #FFFFFF;\n",
              "    }\n",
              "  </style>\n",
              "\n",
              "      <script>\n",
              "        const buttonEl =\n",
              "          document.querySelector('#df-19f8c75f-f509-446a-b3d7-8dbdf9271e38 button.colab-df-convert');\n",
              "        buttonEl.style.display =\n",
              "          google.colab.kernel.accessAllowed ? 'block' : 'none';\n",
              "\n",
              "        async function convertToInteractive(key) {\n",
              "          const element = document.querySelector('#df-19f8c75f-f509-446a-b3d7-8dbdf9271e38');\n",
              "          const dataTable =\n",
              "            await google.colab.kernel.invokeFunction('convertToInteractive',\n",
              "                                                     [key], {});\n",
              "          if (!dataTable) return;\n",
              "\n",
              "          const docLinkHtml = 'Like what you see? Visit the ' +\n",
              "            '<a target=\"_blank\" href=https://colab.research.google.com/notebooks/data_table.ipynb>data table notebook</a>'\n",
              "            + ' to learn more about interactive tables.';\n",
              "          element.innerHTML = '';\n",
              "          dataTable['output_type'] = 'display_data';\n",
              "          await google.colab.output.renderOutput(dataTable, element);\n",
              "          const docLink = document.createElement('div');\n",
              "          docLink.innerHTML = docLinkHtml;\n",
              "          element.appendChild(docLink);\n",
              "        }\n",
              "      </script>\n",
              "    </div>\n",
              "  </div>\n",
              "  "
            ]
          },
          "metadata": {},
          "execution_count": 123
        }
      ]
    },
    {
      "cell_type": "code",
      "source": [
        "sns.displot(pheno_mri[pheno_mri['EHQ_Total'] >= 40].Age)\n",
        "pl.title('Age distribution for right handed people');"
      ],
      "metadata": {
        "id": "0jP8eEc6F0hn",
        "outputId": "b28afdf6-bf10-40c8-969e-0cea0a02adc9",
        "colab": {
          "base_uri": "https://localhost:8080/",
          "height": 381
        }
      },
      "execution_count": null,
      "outputs": [
        {
          "output_type": "display_data",
          "data": {
            "text/plain": [
              "<Figure size 360x360 with 1 Axes>"
            ],
            "image/png": "[encoded data removed]"
          },
          "metadata": {}
        }
      ]
    },
    {
      "cell_type": "code",
      "source": [
        "unique = []\n",
        "repetition = []\n",
        "for i in pheno_mri[pheno_mri['EHQ_Total'] >= 40].EID.values:\n",
        "  if i not in unique:\n",
        "    unique.append(i)\n",
        "  else:\n",
        "    repetition.append(i)\n",
        "print(pheno_mri[pheno_mri['EHQ_Total'] >= 40].shape[0])\n",
        "print(len(unique))\n",
        "print(len(repetition))\n",
        "# There will be no repetition if we clean the data"
      ],
      "metadata": {
        "id": "xPu8lRcKGL37",
        "outputId": "b7dd3149-6a7b-40e1-c8c2-1854ab2cd29a",
        "colab": {
          "base_uri": "https://localhost:8080/"
        }
      },
      "execution_count": null,
      "outputs": [
        {
          "output_type": "stream",
          "name": "stdout",
          "text": [
            "2684\n",
            "2684\n",
            "0\n"
          ]
        }
      ]
    },
    {
      "cell_type": "code",
      "source": [
        "pheno_mri.to_csv(\n",
        "    Path(working_path).joinpath('pheno_mri.csv')\n",
        ")"
      ],
      "metadata": {
        "id": "wJchXp3wGjc7"
      },
      "execution_count": null,
      "outputs": []
    },
    {
      "cell_type": "markdown",
      "source": [
        "## For CMI"
      ],
      "metadata": {
        "id": "bJU46LfRY0AT"
      }
    },
    {
      "cell_type": "code",
      "source": [
        "data_1 = pd.read_csv(\n",
        "    working_path.joinpath('Query1.csv'),\n",
        "    index_col=None,\n",
        "    low_memory=False\n",
        ")\n",
        "data_2 = pd.read_csv(\n",
        "    working_path.joinpath('Query_final.csv'),\n",
        "    index_col=None,\n",
        "    low_memory=False\n",
        ")"
      ],
      "metadata": {
        "id": "CQRAVu-yY2W6"
      },
      "execution_count": 7,
      "outputs": []
    },
    {
      "cell_type": "code",
      "source": [
        "# work on Identifiers column\n",
        "ids = data_1.Identifiers.values\n",
        "new_ids = []\n",
        "for i in ids:\n",
        "  new_i = i.replace(',assessment', '')\n",
        "  new_ids.append(new_i)\t\n",
        "print(len(ids))\n",
        "print(len(new_ids))\n",
        "\n",
        "data_1['Identifiers'] = new_ids"
      ],
      "metadata": {
        "id": "g_IIWJd0Y2ZK",
        "outputId": "b2df7bb0-cade-4759-fba0-5a4d234cbc7b",
        "colab": {
          "base_uri": "https://localhost:8080/"
        }
      },
      "execution_count": 8,
      "outputs": [
        {
          "output_type": "stream",
          "name": "stdout",
          "text": [
            "8210\n",
            "8210\n"
          ]
        }
      ]
    },
    {
      "cell_type": "code",
      "source": [
        "ids = data_2.Identifiers.values\n",
        "new_ids = []\n",
        "for i in ids:\n",
        "  new_i = i.replace(',assessment', '')\n",
        "  new_ids.append(new_i)\t\n",
        "print(len(ids))\n",
        "print(len(new_ids))\n",
        "\n",
        "data_2['Identifiers'] = new_ids"
      ],
      "metadata": {
        "id": "-dKWb7n4ZgyS",
        "outputId": "669de03f-45b1-4337-cd7d-0c2f7b27fb0b",
        "colab": {
          "base_uri": "https://localhost:8080/"
        }
      },
      "execution_count": 9,
      "outputs": [
        {
          "output_type": "stream",
          "name": "stdout",
          "text": [
            "8732\n",
            "8732\n"
          ]
        }
      ]
    },
    {
      "cell_type": "code",
      "source": [
        "# data_2 contains an empty row as a first row\n",
        "# let's delete it\n",
        "data_2 = data_2.drop(labels=0, axis=0)"
      ],
      "metadata": {
        "id": "9ROuCAqXZ226"
      },
      "execution_count": 10,
      "outputs": []
    },
    {
      "cell_type": "code",
      "source": [
        "print(data_1.shape)\n",
        "print(data_2.shape)"
      ],
      "metadata": {
        "id": "XmjH_e0vY2dx",
        "outputId": "c011f36b-c37d-4dbb-b8c4-23e4438df9e0",
        "colab": {
          "base_uri": "https://localhost:8080/"
        }
      },
      "execution_count": 11,
      "outputs": [
        {
          "output_type": "stream",
          "name": "stdout",
          "text": [
            "(8210, 88)\n",
            "(8731, 168)\n"
          ]
        }
      ]
    },
    {
      "cell_type": "markdown",
      "source": [
        "The difference in the shape could be partially explained by the new rows with the other versions of the same identifiers that have been already used in the database: identifier_1, identifier_2, identifier_3 etc."
      ],
      "metadata": {
        "id": "Eno58Yqwa_EE"
      }
    },
    {
      "cell_type": "code",
      "source": [
        "# data 1\n",
        "versions_1 = []\n",
        "for i in data_1.Identifiers.values.tolist():\n",
        "  if '_' in i:\n",
        "    versions_1.append(i)\n",
        "print(len(versions_1))\n",
        "\n",
        "# data 2\n",
        "versions_2 = []\n",
        "for i in data_2.Identifiers.values.tolist():\n",
        "  if '_' in i:\n",
        "    versions_2.append(i)\n",
        "print(len(versions_2))"
      ],
      "metadata": {
        "id": "kQcBqc0jbM4T",
        "outputId": "ebad1585-ad38-45a8-9627-eb849a04ca8b",
        "colab": {
          "base_uri": "https://localhost:8080/"
        }
      },
      "execution_count": 12,
      "outputs": [
        {
          "output_type": "stream",
          "name": "stdout",
          "text": [
            "3341\n",
            "3862\n"
          ]
        }
      ]
    },
    {
      "cell_type": "code",
      "source": [
        "# data 1 \n",
        "data_upd_1 = data_1.copy()\n",
        "columns = data_upd_1.columns\n",
        "i = 0\n",
        "for id in versions_1:\n",
        "  values = data_upd_1[data_upd_1['Identifiers'] == id].values.tolist()\n",
        "  while len(values) == 1:\n",
        "    values = values[0]\n",
        "  for value in values[1:]:\n",
        "    if value != '.':\n",
        "      if type(value) == str:\n",
        "        column_number = values.index(value)\n",
        "        row_number = data_upd_1[data_upd_1['Identifiers'] == id[:12]].index[0]\n",
        "        data_upd_1.at[row_number, columns[column_number]] = value\n",
        "      elif type(value) != str and math.isnan(value) is not True:\n",
        "        column_number = values.index(value)\n",
        "        row_number = data_upd_1[data_upd_1['Identifiers'] == id[:12]].index[0]\n",
        "        data_upd_1.at[row_number, columns[column_number]] = value\n",
        "      else:\n",
        "        if math.isnan(value) is not True:\n",
        "          print(value, type(value))\n",
        "  i += 1\n",
        "print(i)"
      ],
      "metadata": {
        "id": "S-CfmSoG0sgn",
        "outputId": "8a7c663f-9709-4b31-c57b-9a9b3e49c7af",
        "colab": {
          "base_uri": "https://localhost:8080/"
        }
      },
      "execution_count": 13,
      "outputs": [
        {
          "output_type": "stream",
          "name": "stdout",
          "text": [
            "3341\n"
          ]
        }
      ]
    },
    {
      "cell_type": "code",
      "source": [
        "for id in versions_1:\n",
        "  data_upd_1 = data_upd_1[data_upd_1['Identifiers'] != id]\n",
        "data_upd_1.shape"
      ],
      "metadata": {
        "id": "91ZYglzq-PuI",
        "outputId": "e93c47f0-19ce-4662-cac2-67b38696fe5b",
        "colab": {
          "base_uri": "https://localhost:8080/"
        }
      },
      "execution_count": 14,
      "outputs": [
        {
          "output_type": "execute_result",
          "data": {
            "text/plain": [
              "(4869, 88)"
            ]
          },
          "metadata": {},
          "execution_count": 14
        }
      ]
    },
    {
      "cell_type": "code",
      "source": [
        "# data 2\n",
        "data_upd_2 = data_2.copy()\n",
        "columns = data_upd_2.columns\n",
        "i = 0\n",
        "for id in versions_2:\n",
        "  values = data_upd_2[data_upd_2['Identifiers'] == id].values.tolist()\n",
        "  while len(values) == 1:\n",
        "    values = values[0]\n",
        "  for value in values[1:]:\n",
        "    if value != '.':\n",
        "      if type(value) == str:\n",
        "        column_number = values.index(value)\n",
        "        row_number = data_upd_2[data_upd_2['Identifiers'] == id[:12]].index[0]\n",
        "        data_upd_2.at[row_number, columns[column_number]] = value\n",
        "      elif type(value) != str and math.isnan(value) is not True:\n",
        "        column_number = values.index(value)\n",
        "        row_number = data_upd_2[data_upd_2['Identifiers'] == id[:12]].index[0]\n",
        "        data_upd_2.at[row_number, columns[column_number]] = value\n",
        "      else:\n",
        "        if math.isnan(value) is not True:\n",
        "          print(value, type(value))\n",
        "  i += 1\n",
        "print(i)"
      ],
      "metadata": {
        "id": "fP1GQ_ieAORo",
        "outputId": "ec9f6a59-5636-4177-803a-7b8f04270b12",
        "colab": {
          "base_uri": "https://localhost:8080/"
        }
      },
      "execution_count": 15,
      "outputs": [
        {
          "output_type": "stream",
          "name": "stdout",
          "text": [
            "3862\n"
          ]
        }
      ]
    },
    {
      "cell_type": "code",
      "source": [
        "for id in versions_2:\n",
        "  data_upd_2 = data_upd_2[data_upd_2['Identifiers'] != id]\n",
        "data_upd_2.shape"
      ],
      "metadata": {
        "id": "NjjtzGEEAeuJ",
        "outputId": "a8fc38ba-e9a0-415c-e681-d70698b365b1",
        "colab": {
          "base_uri": "https://localhost:8080/"
        }
      },
      "execution_count": 16,
      "outputs": [
        {
          "output_type": "execute_result",
          "data": {
            "text/plain": [
              "(4869, 168)"
            ]
          },
          "metadata": {},
          "execution_count": 16
        }
      ]
    },
    {
      "cell_type": "markdown",
      "source": [
        "Checking whether in this additional visits rows there were any information on a new diagnosis update. No diagnosis updates were in the additional visits of participants already included in the database (neither in query 1 nor 2)"
      ],
      "metadata": {
        "id": "GLKsnjmMHcwk"
      }
    },
    {
      "cell_type": "code",
      "source": [
        "for id in versions_1:\n",
        "  for number in range(1, 10):\n",
        "    column = 'ConsensusDx,DX_0' + str(number)\n",
        "    if data_1[data_1['Identifiers'] == id][column].values[0] != '.':\n",
        "      print(data_1[data_1['Identifiers'] == id][column].values)\n",
        "    if data_1[data_1['Identifiers'] == id]['ConsensusDx,DX_10'].values[0] != '.':\n",
        "      print(data_1[data_1['Identifiers'] == id]['ConsensusDx,DX_10'].values)"
      ],
      "metadata": {
        "id": "ain7rVMCHLJU"
      },
      "execution_count": 17,
      "outputs": []
    },
    {
      "cell_type": "code",
      "source": [
        "for id in versions_2:\n",
        "  for number in range(1, 10):\n",
        "    column = 'Diagnosis_ClinicianConsensus,DX_0' + str(number)\n",
        "    if data_2[data_2['Identifiers'] == id][column].values[0] != '.':\n",
        "      print(data_2[data_2['Identifiers'] == id][column].values)\n",
        "    if data_2[data_2['Identifiers'] == id]['Diagnosis_ClinicianConsensus,DX_10'].values[0] != '.':\n",
        "      print(data_2[data_2['Identifiers'] == id]['Diagnosis_ClinicianConsensus,DX_10'].values)\n"
      ],
      "metadata": {
        "id": "hTccoG5wEzQv"
      },
      "execution_count": 18,
      "outputs": []
    },
    {
      "cell_type": "markdown",
      "source": [
        "Checking whether two inquires have the same identifiers"
      ],
      "metadata": {
        "id": "Ehn4Sl-EHlqc"
      }
    },
    {
      "cell_type": "code",
      "source": [
        "ids1 = data_upd_1['Identifiers'].values.tolist()\n",
        "ids2 = data_upd_2['Identifiers'].values.tolist()\n",
        "\n",
        "different = []\n",
        "for i in range(0, 4869):\n",
        "  if ids1[i] not in ids2:\n",
        "    different.append(ids1[i])\n",
        "  if ids2[i] not in ids1:\n",
        "    if ids2[i] not in different:\n",
        "      different.append(ids2[i])\n",
        "print(different)"
      ],
      "metadata": {
        "id": "7DS1UV6eJ2-y",
        "outputId": "3b050bcb-6e6f-4c6d-ae80-7654a18ed7e9",
        "colab": {
          "base_uri": "https://localhost:8080/"
        }
      },
      "execution_count": 19,
      "outputs": [
        {
          "output_type": "stream",
          "name": "stdout",
          "text": [
            "['', 'NDARXP325YLV']\n"
          ]
        }
      ]
    },
    {
      "cell_type": "code",
      "source": [
        "data_upd_1[data_upd_1['Identifiers'] == '']"
      ],
      "metadata": {
        "id": "08zMF3Z8Kt2Y",
        "outputId": "538fb290-746d-432f-ac0d-1a16476240ea",
        "colab": {
          "base_uri": "https://localhost:8080/",
          "height": 174
        }
      },
      "execution_count": 20,
      "outputs": [
        {
          "output_type": "execute_result",
          "data": {
            "text/plain": [
              "     Identifiers Basic_Demos,Age Basic_Demos,Sex Basic_Demos,Site  \\\n",
              "2175                         NaN             NaN              NaN   \n",
              "\n",
              "     CELF,CELF_Total ConsensusDx,DX_01 ConsensusDx,DX_01_Code  \\\n",
              "2175             NaN                 .                      .   \n",
              "\n",
              "     ConsensusDx,DX_01_Confirmed ConsensusDx,DX_02 ConsensusDx,DX_02_Code  \\\n",
              "2175                           .                 .                      .   \n",
              "\n",
              "      ... WIAT,WIAT_Num_Stnd WIAT,WIAT_Pseudo_Stnd WIAT,WIAT_RC_Stnd  \\\n",
              "2175  ...                NaN                   NaN               NaN   \n",
              "\n",
              "     WIAT,WIAT_Spell_Stnd WIAT,WIAT_Word_Stnd WISC,WISC_FSIQ WISC,WISC_PSI  \\\n",
              "2175                  NaN                 NaN            NaN           NaN   \n",
              "\n",
              "     WISC,WISC_VCI WISC,WISC_VSI WISC,WISC_WMI  \n",
              "2175           NaN           NaN           NaN  \n",
              "\n",
              "[1 rows x 88 columns]"
            ],
            "text/html": [
              "\n",
              "  <div id=\"df-3b390e13-18d0-46c8-82ef-c514b957a8d3\">\n",
              "    <div class=\"colab-df-container\">\n",
              "      <div>\n",
              "<style scoped>\n",
              "    .dataframe tbody tr th:only-of-type {\n",
              "        vertical-align: middle;\n",
              "    }\n",
              "\n",
              "    .dataframe tbody tr th {\n",
              "        vertical-align: top;\n",
              "    }\n",
              "\n",
              "    .dataframe thead th {\n",
              "        text-align: right;\n",
              "    }\n",
              "</style>\n",
              "<table border=\"1\" class=\"dataframe\">\n",
              "  <thead>\n",
              "    <tr style=\"text-align: right;\">\n",
              "      <th></th>\n",
              "      <th>Identifiers</th>\n",
              "      <th>Basic_Demos,Age</th>\n",
              "      <th>Basic_Demos,Sex</th>\n",
              "      <th>Basic_Demos,Site</th>\n",
              "      <th>CELF,CELF_Total</th>\n",
              "      <th>ConsensusDx,DX_01</th>\n",
              "      <th>ConsensusDx,DX_01_Code</th>\n",
              "      <th>ConsensusDx,DX_01_Confirmed</th>\n",
              "      <th>ConsensusDx,DX_02</th>\n",
              "      <th>ConsensusDx,DX_02_Code</th>\n",
              "      <th>...</th>\n",
              "      <th>WIAT,WIAT_Num_Stnd</th>\n",
              "      <th>WIAT,WIAT_Pseudo_Stnd</th>\n",
              "      <th>WIAT,WIAT_RC_Stnd</th>\n",
              "      <th>WIAT,WIAT_Spell_Stnd</th>\n",
              "      <th>WIAT,WIAT_Word_Stnd</th>\n",
              "      <th>WISC,WISC_FSIQ</th>\n",
              "      <th>WISC,WISC_PSI</th>\n",
              "      <th>WISC,WISC_VCI</th>\n",
              "      <th>WISC,WISC_VSI</th>\n",
              "      <th>WISC,WISC_WMI</th>\n",
              "    </tr>\n",
              "  </thead>\n",
              "  <tbody>\n",
              "    <tr>\n",
              "      <th>2175</th>\n",
              "      <td></td>\n",
              "      <td>NaN</td>\n",
              "      <td>NaN</td>\n",
              "      <td>NaN</td>\n",
              "      <td>NaN</td>\n",
              "      <td>.</td>\n",
              "      <td>.</td>\n",
              "      <td>.</td>\n",
              "      <td>.</td>\n",
              "      <td>.</td>\n",
              "      <td>...</td>\n",
              "      <td>NaN</td>\n",
              "      <td>NaN</td>\n",
              "      <td>NaN</td>\n",
              "      <td>NaN</td>\n",
              "      <td>NaN</td>\n",
              "      <td>NaN</td>\n",
              "      <td>NaN</td>\n",
              "      <td>NaN</td>\n",
              "      <td>NaN</td>\n",
              "      <td>NaN</td>\n",
              "    </tr>\n",
              "  </tbody>\n",
              "</table>\n",
              "<p>1 rows × 88 columns</p>\n",
              "</div>\n",
              "      <button class=\"colab-df-convert\" onclick=\"convertToInteractive('df-3b390e13-18d0-46c8-82ef-c514b957a8d3')\"\n",
              "              title=\"Convert this dataframe to an interactive table.\"\n",
              "              style=\"display:none;\">\n",
              "        \n",
              "  <svg xmlns=\"http://www.w3.org/2000/svg\" height=\"24px\"viewBox=\"0 0 24 24\"\n",
              "       width=\"24px\">\n",
              "    <path d=\"M0 0h24v24H0V0z\" fill=\"none\"/>\n",
              "    <path d=\"M18.56 5.44l.94 2.06.94-2.06 2.06-.94-2.06-.94-.94-2.06-.94 2.06-2.06.94zm-11 1L8.5 8.5l.94-2.06 2.06-.94-2.06-.94L8.5 2.5l-.94 2.06-2.06.94zm10 10l.94 2.06.94-2.06 2.06-.94-2.06-.94-.94-2.06-.94 2.06-2.06.94z\"/><path d=\"M17.41 7.96l-1.37-1.37c-.4-.4-.92-.59-1.43-.59-.52 0-1.04.2-1.43.59L10.3 9.45l-7.72 7.72c-.78.78-.78 2.05 0 2.83L4 21.41c.39.39.9.59 1.41.59.51 0 1.02-.2 1.41-.59l7.78-7.78 2.81-2.81c.8-.78.8-2.07 0-2.86zM5.41 20L4 18.59l7.72-7.72 1.47 1.35L5.41 20z\"/>\n",
              "  </svg>\n",
              "      </button>\n",
              "      \n",
              "  <style>\n",
              "    .colab-df-container {\n",
              "      display:flex;\n",
              "      flex-wrap:wrap;\n",
              "      gap: 12px;\n",
              "    }\n",
              "\n",
              "    .colab-df-convert {\n",
              "      background-color: #E8F0FE;\n",
              "      border: none;\n",
              "      border-radius: 50%;\n",
              "      cursor: pointer;\n",
              "      display: none;\n",
              "      fill: #1967D2;\n",
              "      height: 32px;\n",
              "      padding: 0 0 0 0;\n",
              "      width: 32px;\n",
              "    }\n",
              "\n",
              "    .colab-df-convert:hover {\n",
              "      background-color: #E2EBFA;\n",
              "      box-shadow: 0px 1px 2px rgba(60, 64, 67, 0.3), 0px 1px 3px 1px rgba(60, 64, 67, 0.15);\n",
              "      fill: #174EA6;\n",
              "    }\n",
              "\n",
              "    [theme=dark] .colab-df-convert {\n",
              "      background-color: #3B4455;\n",
              "      fill: #D2E3FC;\n",
              "    }\n",
              "\n",
              "    [theme=dark] .colab-df-convert:hover {\n",
              "      background-color: #434B5C;\n",
              "      box-shadow: 0px 1px 3px 1px rgba(0, 0, 0, 0.15);\n",
              "      filter: drop-shadow(0px 1px 2px rgba(0, 0, 0, 0.3));\n",
              "      fill: #FFFFFF;\n",
              "    }\n",
              "  </style>\n",
              "\n",
              "      <script>\n",
              "        const buttonEl =\n",
              "          document.querySelector('#df-3b390e13-18d0-46c8-82ef-c514b957a8d3 button.colab-df-convert');\n",
              "        buttonEl.style.display =\n",
              "          google.colab.kernel.accessAllowed ? 'block' : 'none';\n",
              "\n",
              "        async function convertToInteractive(key) {\n",
              "          const element = document.querySelector('#df-3b390e13-18d0-46c8-82ef-c514b957a8d3');\n",
              "          const dataTable =\n",
              "            await google.colab.kernel.invokeFunction('convertToInteractive',\n",
              "                                                     [key], {});\n",
              "          if (!dataTable) return;\n",
              "\n",
              "          const docLinkHtml = 'Like what you see? Visit the ' +\n",
              "            '<a target=\"_blank\" href=https://colab.research.google.com/notebooks/data_table.ipynb>data table notebook</a>'\n",
              "            + ' to learn more about interactive tables.';\n",
              "          element.innerHTML = '';\n",
              "          dataTable['output_type'] = 'display_data';\n",
              "          await google.colab.output.renderOutput(dataTable, element);\n",
              "          const docLink = document.createElement('div');\n",
              "          docLink.innerHTML = docLinkHtml;\n",
              "          element.appendChild(docLink);\n",
              "        }\n",
              "      </script>\n",
              "    </div>\n",
              "  </div>\n",
              "  "
            ]
          },
          "metadata": {},
          "execution_count": 20
        }
      ]
    },
    {
      "cell_type": "code",
      "source": [
        "data_upd_2[data_upd_2['Identifiers'] == 'NDARXP325YLV']"
      ],
      "metadata": {
        "id": "l8cZu_TQKmQ0",
        "outputId": "2df0d915-3724-46f2-a5ab-ffdeea9f698d",
        "colab": {
          "base_uri": "https://localhost:8080/",
          "height": 174
        }
      },
      "execution_count": 21,
      "outputs": [
        {
          "output_type": "execute_result",
          "data": {
            "text/plain": [
              "       Identifiers Audit,AUDIT_Total_Score Barratt,Barratt_Total  \\\n",
              "8731  NDARXP325YLV                       4                     .   \n",
              "\n",
              "     Barratt,Barratt_Total_Edu Barratt,Barratt_Total_Occ Basic_Demos,Age  \\\n",
              "8731                         .                         .               .   \n",
              "\n",
              "     Basic_Demos,Sex Basic_Demos,Site CELF,CELF_Total CTOPP,CTOPP_BW_D  ...  \\\n",
              "8731               .                .               .                .  ...   \n",
              "\n",
              "     WIAT,WIAT_Num_Stnd WIAT,WIAT_Pseudo_Stnd WIAT,WIAT_RC_Stnd  \\\n",
              "8731                  .                     .                 .   \n",
              "\n",
              "     WIAT,WIAT_Spell_Stnd WIAT,WIAT_Word_Stnd WISC,WISC_FSIQ WISC,WISC_PSI  \\\n",
              "8731                    .                   .              .             .   \n",
              "\n",
              "     WISC,WISC_VCI WISC,WISC_VSI WISC,WISC_WMI  \n",
              "8731             .             .             .  \n",
              "\n",
              "[1 rows x 168 columns]"
            ],
            "text/html": [
              "\n",
              "  <div id=\"df-15e0f261-f738-44a7-8a4a-8677a29ab85a\">\n",
              "    <div class=\"colab-df-container\">\n",
              "      <div>\n",
              "<style scoped>\n",
              "    .dataframe tbody tr th:only-of-type {\n",
              "        vertical-align: middle;\n",
              "    }\n",
              "\n",
              "    .dataframe tbody tr th {\n",
              "        vertical-align: top;\n",
              "    }\n",
              "\n",
              "    .dataframe thead th {\n",
              "        text-align: right;\n",
              "    }\n",
              "</style>\n",
              "<table border=\"1\" class=\"dataframe\">\n",
              "  <thead>\n",
              "    <tr style=\"text-align: right;\">\n",
              "      <th></th>\n",
              "      <th>Identifiers</th>\n",
              "      <th>Audit,AUDIT_Total_Score</th>\n",
              "      <th>Barratt,Barratt_Total</th>\n",
              "      <th>Barratt,Barratt_Total_Edu</th>\n",
              "      <th>Barratt,Barratt_Total_Occ</th>\n",
              "      <th>Basic_Demos,Age</th>\n",
              "      <th>Basic_Demos,Sex</th>\n",
              "      <th>Basic_Demos,Site</th>\n",
              "      <th>CELF,CELF_Total</th>\n",
              "      <th>CTOPP,CTOPP_BW_D</th>\n",
              "      <th>...</th>\n",
              "      <th>WIAT,WIAT_Num_Stnd</th>\n",
              "      <th>WIAT,WIAT_Pseudo_Stnd</th>\n",
              "      <th>WIAT,WIAT_RC_Stnd</th>\n",
              "      <th>WIAT,WIAT_Spell_Stnd</th>\n",
              "      <th>WIAT,WIAT_Word_Stnd</th>\n",
              "      <th>WISC,WISC_FSIQ</th>\n",
              "      <th>WISC,WISC_PSI</th>\n",
              "      <th>WISC,WISC_VCI</th>\n",
              "      <th>WISC,WISC_VSI</th>\n",
              "      <th>WISC,WISC_WMI</th>\n",
              "    </tr>\n",
              "  </thead>\n",
              "  <tbody>\n",
              "    <tr>\n",
              "      <th>8731</th>\n",
              "      <td>NDARXP325YLV</td>\n",
              "      <td>4</td>\n",
              "      <td>.</td>\n",
              "      <td>.</td>\n",
              "      <td>.</td>\n",
              "      <td>.</td>\n",
              "      <td>.</td>\n",
              "      <td>.</td>\n",
              "      <td>.</td>\n",
              "      <td>.</td>\n",
              "      <td>...</td>\n",
              "      <td>.</td>\n",
              "      <td>.</td>\n",
              "      <td>.</td>\n",
              "      <td>.</td>\n",
              "      <td>.</td>\n",
              "      <td>.</td>\n",
              "      <td>.</td>\n",
              "      <td>.</td>\n",
              "      <td>.</td>\n",
              "      <td>.</td>\n",
              "    </tr>\n",
              "  </tbody>\n",
              "</table>\n",
              "<p>1 rows × 168 columns</p>\n",
              "</div>\n",
              "      <button class=\"colab-df-convert\" onclick=\"convertToInteractive('df-15e0f261-f738-44a7-8a4a-8677a29ab85a')\"\n",
              "              title=\"Convert this dataframe to an interactive table.\"\n",
              "              style=\"display:none;\">\n",
              "        \n",
              "  <svg xmlns=\"http://www.w3.org/2000/svg\" height=\"24px\"viewBox=\"0 0 24 24\"\n",
              "       width=\"24px\">\n",
              "    <path d=\"M0 0h24v24H0V0z\" fill=\"none\"/>\n",
              "    <path d=\"M18.56 5.44l.94 2.06.94-2.06 2.06-.94-2.06-.94-.94-2.06-.94 2.06-2.06.94zm-11 1L8.5 8.5l.94-2.06 2.06-.94-2.06-.94L8.5 2.5l-.94 2.06-2.06.94zm10 10l.94 2.06.94-2.06 2.06-.94-2.06-.94-.94-2.06-.94 2.06-2.06.94z\"/><path d=\"M17.41 7.96l-1.37-1.37c-.4-.4-.92-.59-1.43-.59-.52 0-1.04.2-1.43.59L10.3 9.45l-7.72 7.72c-.78.78-.78 2.05 0 2.83L4 21.41c.39.39.9.59 1.41.59.51 0 1.02-.2 1.41-.59l7.78-7.78 2.81-2.81c.8-.78.8-2.07 0-2.86zM5.41 20L4 18.59l7.72-7.72 1.47 1.35L5.41 20z\"/>\n",
              "  </svg>\n",
              "      </button>\n",
              "      \n",
              "  <style>\n",
              "    .colab-df-container {\n",
              "      display:flex;\n",
              "      flex-wrap:wrap;\n",
              "      gap: 12px;\n",
              "    }\n",
              "\n",
              "    .colab-df-convert {\n",
              "      background-color: #E8F0FE;\n",
              "      border: none;\n",
              "      border-radius: 50%;\n",
              "      cursor: pointer;\n",
              "      display: none;\n",
              "      fill: #1967D2;\n",
              "      height: 32px;\n",
              "      padding: 0 0 0 0;\n",
              "      width: 32px;\n",
              "    }\n",
              "\n",
              "    .colab-df-convert:hover {\n",
              "      background-color: #E2EBFA;\n",
              "      box-shadow: 0px 1px 2px rgba(60, 64, 67, 0.3), 0px 1px 3px 1px rgba(60, 64, 67, 0.15);\n",
              "      fill: #174EA6;\n",
              "    }\n",
              "\n",
              "    [theme=dark] .colab-df-convert {\n",
              "      background-color: #3B4455;\n",
              "      fill: #D2E3FC;\n",
              "    }\n",
              "\n",
              "    [theme=dark] .colab-df-convert:hover {\n",
              "      background-color: #434B5C;\n",
              "      box-shadow: 0px 1px 3px 1px rgba(0, 0, 0, 0.15);\n",
              "      filter: drop-shadow(0px 1px 2px rgba(0, 0, 0, 0.3));\n",
              "      fill: #FFFFFF;\n",
              "    }\n",
              "  </style>\n",
              "\n",
              "      <script>\n",
              "        const buttonEl =\n",
              "          document.querySelector('#df-15e0f261-f738-44a7-8a4a-8677a29ab85a button.colab-df-convert');\n",
              "        buttonEl.style.display =\n",
              "          google.colab.kernel.accessAllowed ? 'block' : 'none';\n",
              "\n",
              "        async function convertToInteractive(key) {\n",
              "          const element = document.querySelector('#df-15e0f261-f738-44a7-8a4a-8677a29ab85a');\n",
              "          const dataTable =\n",
              "            await google.colab.kernel.invokeFunction('convertToInteractive',\n",
              "                                                     [key], {});\n",
              "          if (!dataTable) return;\n",
              "\n",
              "          const docLinkHtml = 'Like what you see? Visit the ' +\n",
              "            '<a target=\"_blank\" href=https://colab.research.google.com/notebooks/data_table.ipynb>data table notebook</a>'\n",
              "            + ' to learn more about interactive tables.';\n",
              "          element.innerHTML = '';\n",
              "          dataTable['output_type'] = 'display_data';\n",
              "          await google.colab.output.renderOutput(dataTable, element);\n",
              "          const docLink = document.createElement('div');\n",
              "          docLink.innerHTML = docLinkHtml;\n",
              "          element.appendChild(docLink);\n",
              "        }\n",
              "      </script>\n",
              "    </div>\n",
              "  </div>\n",
              "  "
            ]
          },
          "metadata": {},
          "execution_count": 21
        }
      ]
    },
    {
      "cell_type": "code",
      "source": [
        "# droping this cases as we won't include them in the comparison\n",
        "data_upd_1.drop([2175], axis=0, inplace=True)\n",
        "data_upd_2.drop([8731], axis=0, inplace=True)"
      ],
      "metadata": {
        "id": "iqlpzXGwwspl"
      },
      "execution_count": 22,
      "outputs": []
    },
    {
      "cell_type": "markdown",
      "source": [
        "Checking whether all of the undentifiers are unique"
      ],
      "metadata": {
        "id": "GKpTPMIMOX9d"
      }
    },
    {
      "cell_type": "code",
      "source": [
        "print(data_upd_1.shape)\n",
        "print(len(data_upd_1.Identifiers.unique()))"
      ],
      "metadata": {
        "id": "2fJSu0YaOQbV",
        "outputId": "5ff0735d-0054-4b43-d613-16204cb1d509",
        "colab": {
          "base_uri": "https://localhost:8080/"
        }
      },
      "execution_count": 23,
      "outputs": [
        {
          "output_type": "stream",
          "name": "stdout",
          "text": [
            "(4868, 88)\n",
            "4868\n"
          ]
        }
      ]
    },
    {
      "cell_type": "code",
      "source": [
        "print(data_upd_2.shape)\n",
        "print(len(data_upd_2.Identifiers.unique()))"
      ],
      "metadata": {
        "id": "PE40-pUpOPuO",
        "outputId": "77caaac5-434b-4f4e-9831-971513766c67",
        "colab": {
          "base_uri": "https://localhost:8080/"
        }
      },
      "execution_count": 24,
      "outputs": [
        {
          "output_type": "stream",
          "name": "stdout",
          "text": [
            "(4868, 168)\n",
            "4868\n"
          ]
        }
      ]
    },
    {
      "cell_type": "markdown",
      "source": [
        "Checking the amount of each category for the Consensus Diagnosis in query 1 and 2."
      ],
      "metadata": {
        "id": "P88BSuPABi45"
      }
    },
    {
      "cell_type": "code",
      "source": [
        "# diagnosis 1 \n",
        "query_1 = data_upd_1.groupby(['ConsensusDx,DX_01'])['Identifiers'].count()\n",
        "query_2 = data_upd_2.groupby(['Diagnosis_ClinicianConsensus,DX_01'])['Identifiers'].count()"
      ],
      "metadata": {
        "id": "1UXg6_6DBqAw"
      },
      "execution_count": 25,
      "outputs": []
    },
    {
      "cell_type": "code",
      "source": [
        "diag1 = query_1.index\n",
        "diag2 = query_2.index\n",
        "\n",
        "# in the first list but not in the second\n",
        "diag_name_1 = []\n",
        "for i in diag1:\n",
        "  if i not in diag2:\n",
        "    if i not in diag_name_1:\n",
        "      diag_name_1.append(i)\n",
        "print(diag_name_1)\n",
        "\n",
        "#in second list but not in the first\n",
        "diag_name_2 = []\n",
        "for i in diag2:\n",
        "  if i not in diag1:\n",
        "    if i not in diag_name_2:\n",
        "      diag_name_2.append(i)\n",
        "print(diag_name_2)"
      ],
      "metadata": {
        "id": "h9MogA6FB_7h",
        "outputId": "9a9549a1-e924-4d7d-bc71-d8f13f37d9c4",
        "colab": {
          "base_uri": "https://localhost:8080/"
        }
      },
      "execution_count": 26,
      "outputs": [
        {
          "output_type": "stream",
          "name": "stdout",
          "text": [
            "[]\n",
            "['Alcohol Use Disorder', 'Avoidant/Restrictive Food Intake Disorder', 'Bulimia Nervosa', 'Conduct Disorder-Childhood-onset type', 'Cyclothymic Disorder', 'Delirium due to another medical condition', 'Delirium due to multiple etiologies', 'Depressive Disorder Due to Another Medical Condition', 'Developmental Coordination Disorder', 'Excoriation (Skin-Picking) Disorder', 'Gender Dysphoria in Adolescents and Adults', 'Intermittent Explosive Disorder', 'Oppositional Defiant Disorder', 'Other Specified Disruptive, Impulse-Control, and Conduct Disorder', 'Other Specified Feeding or Eating Disorder', 'Other Specified Obsessive-Compulsive and Related Disorder', 'Substance/Medication-Induced Bipolar and Related Disorder']\n"
          ]
        }
      ]
    },
    {
      "cell_type": "code",
      "source": [
        "# diagnosis 2 \n",
        "query_1 = data_upd_1.groupby(['ConsensusDx,DX_02'])['Identifiers'].count()\n",
        "query_2 = data_upd_2.groupby(['Diagnosis_ClinicianConsensus,DX_02'])['Identifiers'].count()"
      ],
      "metadata": {
        "id": "fLdKOdFmA4lv"
      },
      "execution_count": null,
      "outputs": []
    },
    {
      "cell_type": "code",
      "source": [
        "diag1 = query_1.index\n",
        "diag2 = query_2.index\n",
        "\n",
        "# in the first list but not in the second\n",
        "diag_name_1 = []\n",
        "for i in diag1:\n",
        "  if i not in diag2:\n",
        "    if i not in diag_name_1:\n",
        "      diag_name_1.append(i)\n",
        "print(diag_name_1)\n",
        "\n",
        "#in second list but not in the first\n",
        "diag_name_2 = []\n",
        "for i in diag2:\n",
        "  if i not in diag1:\n",
        "    if i not in diag_name_2:\n",
        "      diag_name_2.append(i)\n",
        "print(diag_name_2)"
      ],
      "metadata": {
        "id": "dTMmwoLL8LIk",
        "outputId": "e1f1d237-b025-4296-e51f-eba3441f0299",
        "colab": {
          "base_uri": "https://localhost:8080/"
        }
      },
      "execution_count": null,
      "outputs": [
        {
          "output_type": "stream",
          "name": "stdout",
          "text": [
            "[]\n",
            "['Anorexia Nervosa-Restricting Type', 'Avoidant/Restrictive Food Intake Disorder', 'Binge-Eating Disorder', 'Cannabis Use Disorder', 'Conduct Disorder-Adolescent-onset type', 'Conduct Disorder-Childhood-onset type', 'Illness Anxiety Disorder', 'Insomnia Disorder', 'Intermittent Explosive Disorder', 'Non-Rapid Eye Movement Sleep Arousal Disorders', 'Oppositional Defiant Disorder', 'Other (or Unknown) Substance-Induced Disorders', 'Other Specified Disruptive, Impulse-Control, and Conduct Disorder', 'Other Specified Elimination Disorder with Fecal Symptoms', 'Other Specified Obsessive-Compulsive and Related Disorder', 'Other Specified Tic Disorder', 'Pica in Children', 'Posttraumatic Stress Disorder', 'Sibling Relational Problem', 'Somatic Symptom Disorder', 'Unspecified Depressive Disorder', 'Unspecified Feeding or Eating Disorder']\n"
          ]
        }
      ]
    },
    {
      "cell_type": "code",
      "source": [
        "# diagnosis 3\n",
        "query_1 = data_upd_1.groupby(['ConsensusDx,DX_03'])['Identifiers'].count()\n",
        "query_2 = data_upd_2.groupby(['Diagnosis_ClinicianConsensus,DX_03'])['Identifiers'].count()"
      ],
      "metadata": {
        "id": "C7OVSVaFCGdz"
      },
      "execution_count": null,
      "outputs": []
    },
    {
      "cell_type": "code",
      "source": [
        "# diagnosis 4\n",
        "query_1 = data_upd_1.groupby(['ConsensusDx,DX_04'])['Identifiers'].count()\n",
        "query_2 = data_upd_2.groupby(['Diagnosis_ClinicianConsensus,DX_04'])['Identifiers'].count()"
      ],
      "metadata": {
        "id": "JIkGFFtvEODI"
      },
      "execution_count": null,
      "outputs": []
    },
    {
      "cell_type": "code",
      "source": [
        "# diagnosis 5\n",
        "query_1 = data_upd_1.groupby(['ConsensusDx,DX_05'])['Identifiers'].count()\n",
        "query_2 = data_upd_2.groupby(['Diagnosis_ClinicianConsensus,DX_05'])['Identifiers'].count()"
      ],
      "metadata": {
        "id": "vCDh_ONCF6uN"
      },
      "execution_count": null,
      "outputs": []
    },
    {
      "cell_type": "code",
      "source": [
        "# diagnosis 6\n",
        "query_1 = data_upd_1.groupby(['ConsensusDx,DX_06'])['Identifiers'].count()\n",
        "query_2 = data_upd_2.groupby(['Diagnosis_ClinicianConsensus,DX_06'])['Identifiers'].count()"
      ],
      "metadata": {
        "id": "3F6dJk8AHJAD"
      },
      "execution_count": null,
      "outputs": []
    },
    {
      "cell_type": "code",
      "source": [
        "# diagnosis 7\n",
        "query_1 = data_upd_1.groupby(['ConsensusDx,DX_07'])['Identifiers'].count()\n",
        "query_2 = data_upd_2.groupby(['Diagnosis_ClinicianConsensus,DX_07'])['Identifiers'].count()"
      ],
      "metadata": {
        "id": "WfZRN61ZH8zL"
      },
      "execution_count": null,
      "outputs": []
    },
    {
      "cell_type": "code",
      "source": [
        "# diagnosis 8\n",
        "query_1 = data_upd_1.groupby(['ConsensusDx,DX_08'])['Identifiers'].count()\n",
        "query_2 = data_upd_2.groupby(['Diagnosis_ClinicianConsensus,DX_08'])['Identifiers'].count()"
      ],
      "metadata": {
        "id": "hxeBq00QIujx"
      },
      "execution_count": null,
      "outputs": []
    },
    {
      "cell_type": "code",
      "source": [
        "# diagnosis 9\n",
        "query_1 = data_upd_1.groupby(['ConsensusDx,DX_09'])['Identifiers'].count()\n",
        "query_2 = data_upd_2.groupby(['Diagnosis_ClinicianConsensus,DX_09'])['Identifiers'].count()"
      ],
      "metadata": {
        "id": "vpnfkADdJ0zo"
      },
      "execution_count": null,
      "outputs": []
    },
    {
      "cell_type": "code",
      "source": [
        "# diagnosis 10\n",
        "query_1 = data_upd_1.groupby(['ConsensusDx,DX_10'])['Identifiers'].count()\n",
        "query_2 = data_upd_2.groupby(['Diagnosis_ClinicianConsensus,DX_10'])['Identifiers'].count()"
      ],
      "metadata": {
        "id": "pXXae53AKHrY"
      },
      "execution_count": null,
      "outputs": []
    },
    {
      "cell_type": "markdown",
      "source": [
        "Now, we would look into what ids changed their status"
      ],
      "metadata": {
        "id": "kR3pi3bXP6XP"
      }
    },
    {
      "cell_type": "code",
      "source": [
        "ids_1 = data_upd_1[['Identifiers', 'ConsensusDx,DX_01', 'ConsensusDx,DX_02', \n",
        "                    'ConsensusDx,DX_03', 'ConsensusDx,DX_04', 'ConsensusDx,DX_05',\n",
        "                    'ConsensusDx,DX_06', 'ConsensusDx,DX_07', 'ConsensusDx,DX_08',\n",
        "                    'ConsensusDx,DX_09', 'ConsensusDx,DX_10']]"
      ],
      "metadata": {
        "id": "a2LYnc4aP-co"
      },
      "execution_count": 27,
      "outputs": []
    },
    {
      "cell_type": "code",
      "source": [
        "ids_2 = data_upd_2[['Identifiers', 'Diagnosis_ClinicianConsensus,DX_01', 'Diagnosis_ClinicianConsensus,DX_02',\n",
        "            'Diagnosis_ClinicianConsensus,DX_03', 'Diagnosis_ClinicianConsensus,DX_04', 'Diagnosis_ClinicianConsensus,DX_05',\n",
        "            'Diagnosis_ClinicianConsensus,DX_06', 'Diagnosis_ClinicianConsensus,DX_07', 'Diagnosis_ClinicianConsensus,DX_08', \n",
        "            'Diagnosis_ClinicianConsensus,DX_09', 'Diagnosis_ClinicianConsensus,DX_10']]"
      ],
      "metadata": {
        "id": "lNSTKnpYQArw"
      },
      "execution_count": 28,
      "outputs": []
    },
    {
      "cell_type": "code",
      "source": [
        "ids_1 = ids_1.fillna(0)\n",
        "ids_2 = ids_2.fillna(0)"
      ],
      "metadata": {
        "id": "OjU8ppqajYaY"
      },
      "execution_count": 29,
      "outputs": []
    },
    {
      "cell_type": "code",
      "source": [
        "ids_1 = ids_1.reset_index(drop = True)\n",
        "ids_2 = ids_2.reset_index(drop = True)"
      ],
      "metadata": {
        "id": "JXwADUQb5rA-"
      },
      "execution_count": 30,
      "outputs": []
    },
    {
      "cell_type": "code",
      "source": [
        "ids_1[ids_1['ConsensusDx,DX_01'] == '.'].to_csv(\n",
        "    Path(working_path).joinpath('Query 1.Dot values.csv')\n",
        ")"
      ],
      "metadata": {
        "id": "6YCLg1fdEEaj"
      },
      "execution_count": null,
      "outputs": []
    },
    {
      "cell_type": "code",
      "source": [
        "ids_2[ids_2['Diagnosis_ClinicianConsensus,DX_01'] == '.'].to_csv(\n",
        "    Path(working_path).joinpath('Query 2.Dot values.csv')\n",
        ")"
      ],
      "metadata": {
        "id": "Bvapl4wKGFQe"
      },
      "execution_count": null,
      "outputs": []
    },
    {
      "cell_type": "code",
      "source": [
        "diagnoses = ['Unknown', 'ADHD-Combined Type', 'ADHD-Hyperactive/Impulsive Type', 'ADHD-Inattentive Type', 'Acute Stress Disorder',\n",
        "             'Adjustment Disorders', 'Agoraphobia', 'Alcohol Use Disorder', 'Anorexia Nervosa-Restricting Type', 'Anorexia Nervosa-Binge Eating/Purging Type',\n",
        "             'Autism Spectrum Disorder', 'Avoidant/Restrictive Food Intake Disorder', 'Binge-Eating Disorder', 'Bipolar I Disorder', 'Bipolar II Disorder',\n",
        "  'Body Dysmorphic Disorder', 'Borderline Intellectual Functioning', 'Borderline Personality Disorder', 'Bulimia Nervosa',\n",
        "  'Cannabis Use Disorder', 'Child Neglect', 'Child Onset Fluency Disorder (Stuttering)', 'Conduct Disorder-Adolescent-onset type',\n",
        "  'Conduct Disorder-Childhood-onset type', 'Conduct Disorder-Unspecified onset', 'Conversion Disorder', 'Cyclothymic Disorder',\n",
        "  'Delirium due to another medical condition', 'Delirium due to multiple etiologies', 'Depressive Disorder Due to Another Medical Condition',\n",
        "  'Developmental Coordination Disorder', 'Disruptive Mood Dysregulation Disorder', 'Disinhibited Social Engagement Disorder', 'Encopresis',\n",
        "  'Enuresis', 'Excoriation (Skin-Picking) Disorder', 'Gender Dysphoria in Adolescents and Adults',\n",
        "  'Gender Dysphoria in Children', 'Generalized Anxiety Disorder', 'Hoarding Disorder', 'Illness Anxiety Disorder',\n",
        "  'Insomnia Disorder', 'Intellectual Disability-Mild', 'Intellectual Disability-Moderate', 'Intellectual Disability-Severe',\n",
        "  'Intermittent Explosive Disorder', 'Language Disorder', 'Major Depressive Disorder', 'Major Neurocognitive Disorder Due to Epilepsy',\n",
        "  'Narcolepsy', 'Neurobehavioral Disorder Associated with Prenatal Alcohol Exposure (ND-PAE)', 'No Diagnosis Given', 'No Diagnosis Given: Incomplete Eval',\n",
        "  'Non-Rapid Eye Movement Sleep Arousal Disorders', 'Obsessive-Compulsive Disorder', 'Oppositional Defiant Disorder',\n",
        "  'Other (or Unknown) Substance Use Disorder', 'Other (or Unknown) Substance-Induced Disorders',\n",
        " 'Other Specified Anxiety Disorder', 'Other Specified Attention-Deficit/Hyperactivity Disorder', 'Other Specified Bipolar and Related Disorder',\n",
        "  'Other Specified Depressive Disorder', 'Other Specified Disruptive, Impulse-Control, and Conduct Disorder', \n",
        "  'Other Specified Elimination Disorder with Fecal Symptoms', 'Other Specified Elimination Disorder with Urinary Symptoms',\n",
        "  'Other Specified Feeding or Eating Disorder', 'Other Specified Insomnia Disorder',\n",
        "  'Other Specified Neurodevelopmental Disorder', 'Other Specified Obsessive-Compulsive and Related Disorder',\n",
        "  'Other Specified Schizophrenia Spectrum and Other Psychotic Disorder', 'Other Specified Tic Disorder',\n",
        "  'Other Specified Trauma- and Stressor-Related Disorder', 'Panic Disorder', 'Parent-Child Relational Problem',\n",
        "  'Persistent (Chronic) Motor or Vocal Tic Disorder', 'Persistent Depressive Disorder (Dysthymia)', 'Pica in Children',\n",
        "  'Posttraumatic Stress Disorder', 'Provisional Tic Disorder', 'Reactive Attachment Disorder', 'Schizophrenia',\n",
        "  'Selective Mutism', 'Separation Anxiety', 'Sibling Relational Problem', 'Social (Pragmatic) Communication Disorder',\n",
        "  'Social Anxiety (Social Phobia)', 'Somatic Symptom Disorder', 'Specific Learning Disorder with Impairment in Mathematics',\n",
        "  'Specific Learning Disorder with Impairment in Reading', 'Specific Learning Disorder with Impairment in Written Expression',\n",
        "  'Specific Phobia', 'Speech Sound Disorder', 'Substance/Medication-Induced Bipolar and Related Disorder',\n",
        "  'Substance/Medication-Induced Depressive Disorder', \n",
        "  'Tobacco Use Disorder', 'Tourettes Disorder', 'Trichotillomania (Hair-Pulling Disorder)', 'Unspecified Anxiety Disorder',\n",
        "  'Unspecified Attention-Deficit/Hyperactivity Disorder', 'Unspecified Bipolar and Related Disorder', 'Unspecified Depressive Disorder',\n",
        "  'Unspecified Feeding or Eating Disorder', 'Unspecified Intellectual Disability', 'Unspecified Neurodevelopmental Disorder',\n",
        "  'Unspecified Tic Disorder', 'Unspecified Trauma- and Stressor-Related Disorder'\n",
        "             ]"
      ],
      "metadata": {
        "id": "VjX1f3acQAuK"
      },
      "execution_count": 31,
      "outputs": []
    },
    {
      "cell_type": "code",
      "source": [
        "data_count_1 = pd.DataFrame(columns=diagnoses)\n",
        "data_count_2 = pd.DataFrame(columns=diagnoses)\n",
        "data_count_1['ID'] = ids_1['Identifiers']\n",
        "data_count_2['ID'] = ids_2['Identifiers']"
      ],
      "metadata": {
        "id": "udEbFHbsWCNv"
      },
      "execution_count": 32,
      "outputs": []
    },
    {
      "cell_type": "code",
      "source": [
        "print(ids_1.shape)\n",
        "print(data_count_1.shape)\n",
        "print(ids_2.shape)\n",
        "print(data_count_2.shape)"
      ],
      "metadata": {
        "id": "Ej6hK_oj0Lyo",
        "outputId": "0286bc14-3ea0-4d3d-9571-f3009950222b",
        "colab": {
          "base_uri": "https://localhost:8080/"
        }
      },
      "execution_count": 33,
      "outputs": [
        {
          "output_type": "stream",
          "name": "stdout",
          "text": [
            "(4868, 11)\n",
            "(4868, 107)\n",
            "(4868, 11)\n",
            "(4868, 107)\n"
          ]
        }
      ]
    },
    {
      "cell_type": "code",
      "source": [
        "# data 1\n",
        "ids = ids_1['Identifiers'].values.tolist()\n",
        "for id in ids:\n",
        "  subset = ids_1[ids_1['Identifiers'] == id].values.tolist()[0]\n",
        "  disorders = []\n",
        "  for element in subset[1:]:\n",
        "    if element == '.' or element == ' ' or element == 0:\n",
        "      disorders.append('Unknown')\n",
        "    elif type(element) is str:\n",
        "      if element == 'Specific Learning Disorder with Impairment in Reading ':\n",
        "        disorders.append('Specific Learning Disorder with Impairment in Reading')\n",
        "      elif element == 'Obsessive-Compulsive Disorder ':\n",
        "        disorders.append('Obsessive-Compulsive Disorder')\n",
        "      elif element == 'Specific Learning Disorder with Impairment in Mathematics ':\n",
        "        disorders.append('Specific Learning Disorder with Impairment in Mathematics')\n",
        "      elif element == 'Neurobehavioral Disorder Associated with Prenatal Alcohol Exposure (ND-PAE) ':\n",
        "        disorders.append('Neurobehavioral Disorder Associated with Prenatal Alcohol Exposure (ND-PAE)')\n",
        "      else:\n",
        "        disorders.append(element)\n",
        "    else:\n",
        "      break\n",
        "      print(element)\n",
        "      print(subset)\n",
        "      print(disorders)\n",
        "\n",
        "  for disorder in disorders:\n",
        "    counter = 0\n",
        "    for diagnos in diagnoses:\n",
        "      if disorder == diagnos:\n",
        "        data_count_1.at[ids.index(id), diagnos] = 1\n",
        "        counter += 1   \n",
        "    if counter == 0:\n",
        "      print(disorders)\n",
        "      print(disorder)\n",
        "      break"
      ],
      "metadata": {
        "id": "i_C4kJdp1BH1"
      },
      "execution_count": 34,
      "outputs": []
    },
    {
      "cell_type": "code",
      "source": [
        "# data 2\n",
        "ids = ids_2['Identifiers'].values.tolist()\n",
        "for id in ids:\n",
        "  subset = ids_2[ids_2['Identifiers'] == id].values.tolist()[0]\n",
        "  disorders = []\n",
        "  for element in subset[1:]:\n",
        "    if element == '.' or element == ' ' or element == 0:\n",
        "      disorders.append('Unknown')\n",
        "    elif type(element) is str:\n",
        "      if element == 'Specific Learning Disorder with Impairment in Reading ':\n",
        "        disorders.append('Specific Learning Disorder with Impairment in Reading')\n",
        "      elif element == 'Obsessive-Compulsive Disorder ':\n",
        "        disorders.append('Obsessive-Compulsive Disorder')\n",
        "      elif element == 'Specific Learning Disorder with Impairment in Mathematics ':\n",
        "        disorders.append('Specific Learning Disorder with Impairment in Mathematics')\n",
        "      elif element == 'Neurobehavioral Disorder Associated with Prenatal Alcohol Exposure (ND-PAE) ':\n",
        "        disorders.append('Neurobehavioral Disorder Associated with Prenatal Alcohol Exposure (ND-PAE)')\n",
        "      elif element == 'Child Neglect, Suspected':\n",
        "        disorders.append('Child Neglect')\n",
        "      else:\n",
        "        disorders.append(element)\n",
        "    else:\n",
        "      break\n",
        "      print(element)\n",
        "      print(subset)\n",
        "      print(disorders)\n",
        "\n",
        "  for disorder in disorders:\n",
        "    counter = 0\n",
        "    for diagnos in diagnoses:\n",
        "      if disorder == diagnos:\n",
        "        data_count_2.at[ids.index(id), diagnos] = 1\n",
        "        counter += 1\n",
        "    if counter == 0:\n",
        "      print(disorders)\n",
        "      print(disorder)\n",
        "      break"
      ],
      "metadata": {
        "id": "J44C6aH6fylE"
      },
      "execution_count": 35,
      "outputs": []
    },
    {
      "cell_type": "code",
      "source": [
        "print(ids_1.shape)\n",
        "print(data_count_1.shape)"
      ],
      "metadata": {
        "id": "1RP_Txw8rtLs",
        "outputId": "2aed49f1-90ab-44cb-93f8-142cecec36f0",
        "colab": {
          "base_uri": "https://localhost:8080/"
        }
      },
      "execution_count": 36,
      "outputs": [
        {
          "output_type": "stream",
          "name": "stdout",
          "text": [
            "(4868, 11)\n",
            "(4868, 107)\n"
          ]
        }
      ]
    },
    {
      "cell_type": "code",
      "source": [
        "print(ids_2.shape)\n",
        "print(data_count_2.shape)"
      ],
      "metadata": {
        "id": "s9XjmrjIrx4N",
        "outputId": "359a169e-9179-452b-b602-53f8e2cfbc79",
        "colab": {
          "base_uri": "https://localhost:8080/"
        }
      },
      "execution_count": 37,
      "outputs": [
        {
          "output_type": "stream",
          "name": "stdout",
          "text": [
            "(4868, 11)\n",
            "(4868, 107)\n"
          ]
        }
      ]
    },
    {
      "cell_type": "code",
      "source": [
        "data_count_1 = data_count_1.fillna(0)\n",
        "data_count_2 = data_count_2.fillna(0)"
      ],
      "metadata": {
        "id": "H_UIdLzyZoU1"
      },
      "execution_count": 38,
      "outputs": []
    },
    {
      "cell_type": "code",
      "source": [
        "ids = data_count_1['ID'].values.tolist()\n",
        "change_adds = []\n",
        "adds = []\n",
        "change_deletes = []\n",
        "deletes = []\n",
        "unique = []\n",
        "\n",
        "for id in ids:\n",
        "  diag1 = data_count_1[data_count_1['ID'] == id].values.tolist()[0]\n",
        "  diag2 = data_count_2[data_count_2['ID'] == id].values.tolist()[0]\n",
        "  for i in range(0, len(diag1)):\n",
        "    if diag1[i] != diag2[i]:\n",
        "      if diag1[i] == 0 and diag2[i] == 1:\n",
        "        change_adds.append(id)\n",
        "        adds.append(diagnoses[i])\n",
        "        if id not in unique:\n",
        "          unique.append(id)\n",
        "      elif diag1[i] == 1 and diag2[i] == 0:\n",
        "        change_deletes.append(id)\n",
        "        deletes.append(diagnoses[i])\n",
        "        if id not in unique:\n",
        "          unique.append(id)\n",
        "    \n",
        "      else:\n",
        "        print(id)\n",
        "        print(diag1[i], diag2[i])\n",
        "        break"
      ],
      "metadata": {
        "id": "Kuf1rvsn77wr"
      },
      "execution_count": 39,
      "outputs": []
    },
    {
      "cell_type": "code",
      "source": [
        "print(len(change_adds))\n",
        "print(len(adds))\n",
        "print(len(change_deletes))\n",
        "print(len(deletes))\n",
        "print(len(unique))"
      ],
      "metadata": {
        "id": "uiO-SJjxszN4",
        "outputId": "135ce696-9968-4cf0-bde8-8a82aede1a38",
        "colab": {
          "base_uri": "https://localhost:8080/"
        }
      },
      "execution_count": 40,
      "outputs": [
        {
          "output_type": "stream",
          "name": "stdout",
          "text": [
            "8401\n",
            "8401\n",
            "11\n",
            "11\n",
            "3280\n"
          ]
        }
      ]
    },
    {
      "cell_type": "code",
      "source": [
        "df = pd.DataFrame(columns=['ID', 'additions', 'deletions'])"
      ],
      "metadata": {
        "id": "2vlEf6EuHebK"
      },
      "execution_count": 41,
      "outputs": []
    },
    {
      "cell_type": "code",
      "source": [
        "df['ID'] = change_adds\n",
        "df['additions'] = adds"
      ],
      "metadata": {
        "id": "rFZzJ8_7Fmj1"
      },
      "execution_count": 43,
      "outputs": []
    },
    {
      "cell_type": "code",
      "source": [
        "df.shape"
      ],
      "metadata": {
        "id": "8ZEYJN94HOzs",
        "outputId": "50496ff9-4389-481a-c1bc-11de3c077911",
        "colab": {
          "base_uri": "https://localhost:8080/"
        }
      },
      "execution_count": 45,
      "outputs": [
        {
          "output_type": "execute_result",
          "data": {
            "text/plain": [
              "(8401, 3)"
            ]
          },
          "metadata": {},
          "execution_count": 45
        }
      ]
    },
    {
      "cell_type": "code",
      "source": [
        "# among unique ids there is one identifier who has only the deletions\n",
        "# and doesn't have any addditions\n",
        "# this is why the groupby method results in the length of 3279 \n",
        "change_of_diagnosis = df.groupby(['ID', 'additions']).count()"
      ],
      "metadata": {
        "id": "dYY1QeyNHTn7"
      },
      "execution_count": 50,
      "outputs": []
    },
    {
      "cell_type": "code",
      "source": [
        "change_of_diagnosis.to_csv(\n",
        "    Path(working_path).joinpath('change_of_diagnosis.csv')\n",
        ")"
      ],
      "metadata": {
        "id": "RMRtwHd2Ixzu"
      },
      "execution_count": 61,
      "outputs": []
    },
    {
      "cell_type": "code",
      "source": [
        "change_of_diagnosis"
      ],
      "metadata": {
        "id": "zH_QdGcHIQeu",
        "outputId": "d642e3e4-5fc6-4205-a7d6-1d2a7f90f38e",
        "colab": {
          "base_uri": "https://localhost:8080/",
          "height": 455
        }
      },
      "execution_count": 53,
      "outputs": [
        {
          "output_type": "execute_result",
          "data": {
            "text/plain": [
              "                                                                 deletions\n",
              "ID           additions                                                    \n",
              "NDARAA112DMH Other Specified Disruptive, Impulse-Control, an...          0\n",
              "NDARAA117NEJ Oppositional Defiant Disorder                               0\n",
              "NDARAA306NT2 ADHD-Inattentive Type                                       0\n",
              "             Generalized Anxiety Disorder                                0\n",
              "             Language Disorder                                           0\n",
              "...                                                                    ...\n",
              "ndarvn280jtn ADHD-Combined Type                                          0\n",
              "             Language Disorder                                           0\n",
              "             Specific Learning Disorder with Impairment in M...          0\n",
              "             Specific Learning Disorder with Impairment in R...          0\n",
              "             Specific Learning Disorder with Impairment in W...          0\n",
              "\n",
              "[8401 rows x 1 columns]"
            ],
            "text/html": [
              "\n",
              "  <div id=\"df-9ba01bc4-7e3e-4be5-ac6a-f6ecbc396bcd\">\n",
              "    <div class=\"colab-df-container\">\n",
              "      <div>\n",
              "<style scoped>\n",
              "    .dataframe tbody tr th:only-of-type {\n",
              "        vertical-align: middle;\n",
              "    }\n",
              "\n",
              "    .dataframe tbody tr th {\n",
              "        vertical-align: top;\n",
              "    }\n",
              "\n",
              "    .dataframe thead th {\n",
              "        text-align: right;\n",
              "    }\n",
              "</style>\n",
              "<table border=\"1\" class=\"dataframe\">\n",
              "  <thead>\n",
              "    <tr style=\"text-align: right;\">\n",
              "      <th></th>\n",
              "      <th></th>\n",
              "      <th>deletions</th>\n",
              "    </tr>\n",
              "    <tr>\n",
              "      <th>ID</th>\n",
              "      <th>additions</th>\n",
              "      <th></th>\n",
              "    </tr>\n",
              "  </thead>\n",
              "  <tbody>\n",
              "    <tr>\n",
              "      <th>NDARAA112DMH</th>\n",
              "      <th>Other Specified Disruptive, Impulse-Control, and Conduct Disorder</th>\n",
              "      <td>0</td>\n",
              "    </tr>\n",
              "    <tr>\n",
              "      <th>NDARAA117NEJ</th>\n",
              "      <th>Oppositional Defiant Disorder</th>\n",
              "      <td>0</td>\n",
              "    </tr>\n",
              "    <tr>\n",
              "      <th rowspan=\"3\" valign=\"top\">NDARAA306NT2</th>\n",
              "      <th>ADHD-Inattentive Type</th>\n",
              "      <td>0</td>\n",
              "    </tr>\n",
              "    <tr>\n",
              "      <th>Generalized Anxiety Disorder</th>\n",
              "      <td>0</td>\n",
              "    </tr>\n",
              "    <tr>\n",
              "      <th>Language Disorder</th>\n",
              "      <td>0</td>\n",
              "    </tr>\n",
              "    <tr>\n",
              "      <th>...</th>\n",
              "      <th>...</th>\n",
              "      <td>...</td>\n",
              "    </tr>\n",
              "    <tr>\n",
              "      <th rowspan=\"5\" valign=\"top\">ndarvn280jtn</th>\n",
              "      <th>ADHD-Combined Type</th>\n",
              "      <td>0</td>\n",
              "    </tr>\n",
              "    <tr>\n",
              "      <th>Language Disorder</th>\n",
              "      <td>0</td>\n",
              "    </tr>\n",
              "    <tr>\n",
              "      <th>Specific Learning Disorder with Impairment in Mathematics</th>\n",
              "      <td>0</td>\n",
              "    </tr>\n",
              "    <tr>\n",
              "      <th>Specific Learning Disorder with Impairment in Reading</th>\n",
              "      <td>0</td>\n",
              "    </tr>\n",
              "    <tr>\n",
              "      <th>Specific Learning Disorder with Impairment in Written Expression</th>\n",
              "      <td>0</td>\n",
              "    </tr>\n",
              "  </tbody>\n",
              "</table>\n",
              "<p>8401 rows × 1 columns</p>\n",
              "</div>\n",
              "      <button class=\"colab-df-convert\" onclick=\"convertToInteractive('df-9ba01bc4-7e3e-4be5-ac6a-f6ecbc396bcd')\"\n",
              "              title=\"Convert this dataframe to an interactive table.\"\n",
              "              style=\"display:none;\">\n",
              "        \n",
              "  <svg xmlns=\"http://www.w3.org/2000/svg\" height=\"24px\"viewBox=\"0 0 24 24\"\n",
              "       width=\"24px\">\n",
              "    <path d=\"M0 0h24v24H0V0z\" fill=\"none\"/>\n",
              "    <path d=\"M18.56 5.44l.94 2.06.94-2.06 2.06-.94-2.06-.94-.94-2.06-.94 2.06-2.06.94zm-11 1L8.5 8.5l.94-2.06 2.06-.94-2.06-.94L8.5 2.5l-.94 2.06-2.06.94zm10 10l.94 2.06.94-2.06 2.06-.94-2.06-.94-.94-2.06-.94 2.06-2.06.94z\"/><path d=\"M17.41 7.96l-1.37-1.37c-.4-.4-.92-.59-1.43-.59-.52 0-1.04.2-1.43.59L10.3 9.45l-7.72 7.72c-.78.78-.78 2.05 0 2.83L4 21.41c.39.39.9.59 1.41.59.51 0 1.02-.2 1.41-.59l7.78-7.78 2.81-2.81c.8-.78.8-2.07 0-2.86zM5.41 20L4 18.59l7.72-7.72 1.47 1.35L5.41 20z\"/>\n",
              "  </svg>\n",
              "      </button>\n",
              "      \n",
              "  <style>\n",
              "    .colab-df-container {\n",
              "      display:flex;\n",
              "      flex-wrap:wrap;\n",
              "      gap: 12px;\n",
              "    }\n",
              "\n",
              "    .colab-df-convert {\n",
              "      background-color: #E8F0FE;\n",
              "      border: none;\n",
              "      border-radius: 50%;\n",
              "      cursor: pointer;\n",
              "      display: none;\n",
              "      fill: #1967D2;\n",
              "      height: 32px;\n",
              "      padding: 0 0 0 0;\n",
              "      width: 32px;\n",
              "    }\n",
              "\n",
              "    .colab-df-convert:hover {\n",
              "      background-color: #E2EBFA;\n",
              "      box-shadow: 0px 1px 2px rgba(60, 64, 67, 0.3), 0px 1px 3px 1px rgba(60, 64, 67, 0.15);\n",
              "      fill: #174EA6;\n",
              "    }\n",
              "\n",
              "    [theme=dark] .colab-df-convert {\n",
              "      background-color: #3B4455;\n",
              "      fill: #D2E3FC;\n",
              "    }\n",
              "\n",
              "    [theme=dark] .colab-df-convert:hover {\n",
              "      background-color: #434B5C;\n",
              "      box-shadow: 0px 1px 3px 1px rgba(0, 0, 0, 0.15);\n",
              "      filter: drop-shadow(0px 1px 2px rgba(0, 0, 0, 0.3));\n",
              "      fill: #FFFFFF;\n",
              "    }\n",
              "  </style>\n",
              "\n",
              "      <script>\n",
              "        const buttonEl =\n",
              "          document.querySelector('#df-9ba01bc4-7e3e-4be5-ac6a-f6ecbc396bcd button.colab-df-convert');\n",
              "        buttonEl.style.display =\n",
              "          google.colab.kernel.accessAllowed ? 'block' : 'none';\n",
              "\n",
              "        async function convertToInteractive(key) {\n",
              "          const element = document.querySelector('#df-9ba01bc4-7e3e-4be5-ac6a-f6ecbc396bcd');\n",
              "          const dataTable =\n",
              "            await google.colab.kernel.invokeFunction('convertToInteractive',\n",
              "                                                     [key], {});\n",
              "          if (!dataTable) return;\n",
              "\n",
              "          const docLinkHtml = 'Like what you see? Visit the ' +\n",
              "            '<a target=\"_blank\" href=https://colab.research.google.com/notebooks/data_table.ipynb>data table notebook</a>'\n",
              "            + ' to learn more about interactive tables.';\n",
              "          element.innerHTML = '';\n",
              "          dataTable['output_type'] = 'display_data';\n",
              "          await google.colab.output.renderOutput(dataTable, element);\n",
              "          const docLink = document.createElement('div');\n",
              "          docLink.innerHTML = docLinkHtml;\n",
              "          element.appendChild(docLink);\n",
              "        }\n",
              "      </script>\n",
              "    </div>\n",
              "  </div>\n",
              "  "
            ]
          },
          "metadata": {},
          "execution_count": 53
        }
      ]
    },
    {
      "cell_type": "code",
      "source": [
        "deletes"
      ],
      "metadata": {
        "id": "pGTSQV-FwvgQ",
        "outputId": "22c91797-9016-471a-c13d-114ccc9e2fae",
        "colab": {
          "base_uri": "https://localhost:8080/"
        }
      },
      "execution_count": 94,
      "outputs": [
        {
          "output_type": "execute_result",
          "data": {
            "text/plain": [
              "['No Diagnosis Given',\n",
              " 'Unknown',\n",
              " 'No Diagnosis Given: Incomplete Eval',\n",
              " 'No Diagnosis Given: Incomplete Eval',\n",
              " 'Unknown',\n",
              " 'Unknown',\n",
              " 'Unknown',\n",
              " 'No Diagnosis Given: Incomplete Eval',\n",
              " 'Unknown',\n",
              " 'No Diagnosis Given',\n",
              " 'Unknown']"
            ]
          },
          "metadata": {},
          "execution_count": 94
        }
      ]
    },
    {
      "cell_type": "code",
      "source": [
        "change_deletes"
      ],
      "metadata": {
        "id": "6mBlnJaXwxGg",
        "outputId": "8b33ac7a-8dc5-4f5e-b362-b5968965f378",
        "colab": {
          "base_uri": "https://localhost:8080/"
        }
      },
      "execution_count": 95,
      "outputs": [
        {
          "output_type": "execute_result",
          "data": {
            "text/plain": [
              "['NDARDM118LR6',\n",
              " 'NDARLA048NYE',\n",
              " 'NDARPL406KX4',\n",
              " 'NDARRY006EMB',\n",
              " 'NDARXR250LW3',\n",
              " 'NDARZT957CWG',\n",
              " 'NDARUR202RX7',\n",
              " 'NDARFF988YMA',\n",
              " 'NDARNN761ZPA',\n",
              " 'NDARRG499ZWN',\n",
              " 'NDARTM712HBD']"
            ]
          },
          "metadata": {},
          "execution_count": 95
        }
      ]
    },
    {
      "cell_type": "markdown",
      "source": [
        "## Pipeline to make the data convinient to use"
      ],
      "metadata": {
        "id": "nLkYOzzUGnRy"
      }
    },
    {
      "cell_type": "markdown",
      "source": [
        "Here we are going to work on the database from the 2nd query where all of the visits are combined within their original identifier."
      ],
      "metadata": {
        "id": "D2gWtrKvyMr-"
      }
    },
    {
      "cell_type": "code",
      "source": [
        "# file with the identifiers that have mri imaging\n",
        "pheno_mri = pd.read_csv(\n",
        "    working_path.joinpath('pheno_mri.csv'),\n",
        "    index_col=None\n",
        ")"
      ],
      "metadata": {
        "id": "QScqpmDeEExy"
      },
      "execution_count": 109,
      "outputs": []
    },
    {
      "cell_type": "code",
      "source": [
        "pheno_mri.drop(['Unnamed: 0'], axis=1, inplace=True)"
      ],
      "metadata": {
        "id": "MRfJJF3TEM7D"
      },
      "execution_count": 111,
      "outputs": []
    },
    {
      "cell_type": "code",
      "source": [
        "pheno_mri.drop(['Unnamed: 0.1'], axis=1, inplace=True)"
      ],
      "metadata": {
        "id": "zETR4M4UI-6v"
      },
      "execution_count": 113,
      "outputs": []
    },
    {
      "cell_type": "code",
      "source": [
        "pheno_mri.head()"
      ],
      "metadata": {
        "id": "HfYdEtPVGXY8",
        "outputId": "847e9652-cbf2-4e7b-9e6d-a7e0b2a8fc71",
        "colab": {
          "base_uri": "https://localhost:8080/",
          "height": 206
        }
      },
      "execution_count": 114,
      "outputs": [
        {
          "output_type": "execute_result",
          "data": {
            "text/plain": [
              "            EID  Sex        Age  EHQ_Total Commercial_Use Full_Pheno\n",
              "0  NDARYM832PX3  1.0   7.048254     -33.35             No        Yes\n",
              "1  NDARNJ687DMC  1.0   6.348163      46.67             No        Yes\n",
              "2  NDARFM080VAF  1.0   7.623203    -100.00             No        Yes\n",
              "3  NDARFW130NGG  1.0   8.316107      93.34             No        Yes\n",
              "4  NDARDT800YVF  0.0  17.510381      86.67             No        Yes"
            ],
            "text/html": [
              "\n",
              "  <div id=\"df-c7bf201c-8113-4eaa-a849-1d4ef0931e99\">\n",
              "    <div class=\"colab-df-container\">\n",
              "      <div>\n",
              "<style scoped>\n",
              "    .dataframe tbody tr th:only-of-type {\n",
              "        vertical-align: middle;\n",
              "    }\n",
              "\n",
              "    .dataframe tbody tr th {\n",
              "        vertical-align: top;\n",
              "    }\n",
              "\n",
              "    .dataframe thead th {\n",
              "        text-align: right;\n",
              "    }\n",
              "</style>\n",
              "<table border=\"1\" class=\"dataframe\">\n",
              "  <thead>\n",
              "    <tr style=\"text-align: right;\">\n",
              "      <th></th>\n",
              "      <th>EID</th>\n",
              "      <th>Sex</th>\n",
              "      <th>Age</th>\n",
              "      <th>EHQ_Total</th>\n",
              "      <th>Commercial_Use</th>\n",
              "      <th>Full_Pheno</th>\n",
              "    </tr>\n",
              "  </thead>\n",
              "  <tbody>\n",
              "    <tr>\n",
              "      <th>0</th>\n",
              "      <td>NDARYM832PX3</td>\n",
              "      <td>1.0</td>\n",
              "      <td>7.048254</td>\n",
              "      <td>-33.35</td>\n",
              "      <td>No</td>\n",
              "      <td>Yes</td>\n",
              "    </tr>\n",
              "    <tr>\n",
              "      <th>1</th>\n",
              "      <td>NDARNJ687DMC</td>\n",
              "      <td>1.0</td>\n",
              "      <td>6.348163</td>\n",
              "      <td>46.67</td>\n",
              "      <td>No</td>\n",
              "      <td>Yes</td>\n",
              "    </tr>\n",
              "    <tr>\n",
              "      <th>2</th>\n",
              "      <td>NDARFM080VAF</td>\n",
              "      <td>1.0</td>\n",
              "      <td>7.623203</td>\n",
              "      <td>-100.00</td>\n",
              "      <td>No</td>\n",
              "      <td>Yes</td>\n",
              "    </tr>\n",
              "    <tr>\n",
              "      <th>3</th>\n",
              "      <td>NDARFW130NGG</td>\n",
              "      <td>1.0</td>\n",
              "      <td>8.316107</td>\n",
              "      <td>93.34</td>\n",
              "      <td>No</td>\n",
              "      <td>Yes</td>\n",
              "    </tr>\n",
              "    <tr>\n",
              "      <th>4</th>\n",
              "      <td>NDARDT800YVF</td>\n",
              "      <td>0.0</td>\n",
              "      <td>17.510381</td>\n",
              "      <td>86.67</td>\n",
              "      <td>No</td>\n",
              "      <td>Yes</td>\n",
              "    </tr>\n",
              "  </tbody>\n",
              "</table>\n",
              "</div>\n",
              "      <button class=\"colab-df-convert\" onclick=\"convertToInteractive('df-c7bf201c-8113-4eaa-a849-1d4ef0931e99')\"\n",
              "              title=\"Convert this dataframe to an interactive table.\"\n",
              "              style=\"display:none;\">\n",
              "        \n",
              "  <svg xmlns=\"http://www.w3.org/2000/svg\" height=\"24px\"viewBox=\"0 0 24 24\"\n",
              "       width=\"24px\">\n",
              "    <path d=\"M0 0h24v24H0V0z\" fill=\"none\"/>\n",
              "    <path d=\"M18.56 5.44l.94 2.06.94-2.06 2.06-.94-2.06-.94-.94-2.06-.94 2.06-2.06.94zm-11 1L8.5 8.5l.94-2.06 2.06-.94-2.06-.94L8.5 2.5l-.94 2.06-2.06.94zm10 10l.94 2.06.94-2.06 2.06-.94-2.06-.94-.94-2.06-.94 2.06-2.06.94z\"/><path d=\"M17.41 7.96l-1.37-1.37c-.4-.4-.92-.59-1.43-.59-.52 0-1.04.2-1.43.59L10.3 9.45l-7.72 7.72c-.78.78-.78 2.05 0 2.83L4 21.41c.39.39.9.59 1.41.59.51 0 1.02-.2 1.41-.59l7.78-7.78 2.81-2.81c.8-.78.8-2.07 0-2.86zM5.41 20L4 18.59l7.72-7.72 1.47 1.35L5.41 20z\"/>\n",
              "  </svg>\n",
              "      </button>\n",
              "      \n",
              "  <style>\n",
              "    .colab-df-container {\n",
              "      display:flex;\n",
              "      flex-wrap:wrap;\n",
              "      gap: 12px;\n",
              "    }\n",
              "\n",
              "    .colab-df-convert {\n",
              "      background-color: #E8F0FE;\n",
              "      border: none;\n",
              "      border-radius: 50%;\n",
              "      cursor: pointer;\n",
              "      display: none;\n",
              "      fill: #1967D2;\n",
              "      height: 32px;\n",
              "      padding: 0 0 0 0;\n",
              "      width: 32px;\n",
              "    }\n",
              "\n",
              "    .colab-df-convert:hover {\n",
              "      background-color: #E2EBFA;\n",
              "      box-shadow: 0px 1px 2px rgba(60, 64, 67, 0.3), 0px 1px 3px 1px rgba(60, 64, 67, 0.15);\n",
              "      fill: #174EA6;\n",
              "    }\n",
              "\n",
              "    [theme=dark] .colab-df-convert {\n",
              "      background-color: #3B4455;\n",
              "      fill: #D2E3FC;\n",
              "    }\n",
              "\n",
              "    [theme=dark] .colab-df-convert:hover {\n",
              "      background-color: #434B5C;\n",
              "      box-shadow: 0px 1px 3px 1px rgba(0, 0, 0, 0.15);\n",
              "      filter: drop-shadow(0px 1px 2px rgba(0, 0, 0, 0.3));\n",
              "      fill: #FFFFFF;\n",
              "    }\n",
              "  </style>\n",
              "\n",
              "      <script>\n",
              "        const buttonEl =\n",
              "          document.querySelector('#df-c7bf201c-8113-4eaa-a849-1d4ef0931e99 button.colab-df-convert');\n",
              "        buttonEl.style.display =\n",
              "          google.colab.kernel.accessAllowed ? 'block' : 'none';\n",
              "\n",
              "        async function convertToInteractive(key) {\n",
              "          const element = document.querySelector('#df-c7bf201c-8113-4eaa-a849-1d4ef0931e99');\n",
              "          const dataTable =\n",
              "            await google.colab.kernel.invokeFunction('convertToInteractive',\n",
              "                                                     [key], {});\n",
              "          if (!dataTable) return;\n",
              "\n",
              "          const docLinkHtml = 'Like what you see? Visit the ' +\n",
              "            '<a target=\"_blank\" href=https://colab.research.google.com/notebooks/data_table.ipynb>data table notebook</a>'\n",
              "            + ' to learn more about interactive tables.';\n",
              "          element.innerHTML = '';\n",
              "          dataTable['output_type'] = 'display_data';\n",
              "          await google.colab.output.renderOutput(dataTable, element);\n",
              "          const docLink = document.createElement('div');\n",
              "          docLink.innerHTML = docLinkHtml;\n",
              "          element.appendChild(docLink);\n",
              "        }\n",
              "      </script>\n",
              "    </div>\n",
              "  </div>\n",
              "  "
            ]
          },
          "metadata": {},
          "execution_count": 114
        }
      ]
    },
    {
      "cell_type": "code",
      "source": [
        "# our dataset\n",
        "data_upd_2.shape"
      ],
      "metadata": {
        "id": "V4z2UsT-zTlp",
        "outputId": "483efa24-738a-4797-a8f1-3d5907d6337b",
        "colab": {
          "base_uri": "https://localhost:8080/"
        }
      },
      "execution_count": 115,
      "outputs": [
        {
          "output_type": "execute_result",
          "data": {
            "text/plain": [
              "(4868, 168)"
            ]
          },
          "metadata": {},
          "execution_count": 115
        }
      ]
    },
    {
      "cell_type": "code",
      "source": [
        "data = data_upd_2.copy()"
      ],
      "metadata": {
        "id": "_nEaJwRgzb2N"
      },
      "execution_count": 116,
      "outputs": []
    },
    {
      "cell_type": "code",
      "source": [
        "data_site = pd.read_csv(\n",
        "    working_path.joinpath('sites.csv'),\n",
        "    index_col=None,\n",
        "    low_memory=False\n",
        ")"
      ],
      "metadata": {
        "id": "-Uq3wBq08bsI"
      },
      "execution_count": 117,
      "outputs": []
    },
    {
      "cell_type": "code",
      "source": [
        "# the first row is empty so let's drop it\n",
        "data_site.drop([0], axis=0, inplace=True)"
      ],
      "metadata": {
        "id": "3qxEiyExPes4"
      },
      "execution_count": 121,
      "outputs": []
    },
    {
      "cell_type": "code",
      "source": [
        "# work on Identifiers column\n",
        "ids = data_site.Identifiers.values\n",
        "new_ids = []\n",
        "for i in ids:\n",
        "  new_i = i.replace(',assessment', '')\n",
        "  new_ids.append(new_i)\t\n",
        "print(len(ids))\n",
        "print(len(new_ids))\n",
        "\n",
        "data_site['Identifiers'] = new_ids"
      ],
      "metadata": {
        "id": "f6aJNMtGMcA5",
        "outputId": "3803d4b8-a616-4cb8-8e2d-8cef7755d7ae",
        "colab": {
          "base_uri": "https://localhost:8080/"
        }
      },
      "execution_count": 123,
      "outputs": [
        {
          "output_type": "stream",
          "name": "stdout",
          "text": [
            "4868\n",
            "4868\n"
          ]
        }
      ]
    },
    {
      "cell_type": "code",
      "source": [
        "# let's add the site status to everyone in the data\n",
        "ids_site = data_site.Identifiers.values.tolist()\n",
        "ids_data = data.Identifiers.values.tolist()\n",
        "print(len(ids_site))\n",
        "print(len(ids_data))\n",
        "different = []\n",
        "for i in ids_site:\n",
        "  if i not in ids_data:\n",
        "    if i not in different:\n",
        "      different.append(i)\n",
        "for i in ids_data:\n",
        "  if i not in ids_site:\n",
        "    if i not in different:\n",
        "      different.append(i)\n",
        "print(different)\n",
        "# the identifiers are identical"
      ],
      "metadata": {
        "id": "MWJoPB7fP_AI",
        "outputId": "76926a23-99e8-46ee-c071-30c2aa0d47bc",
        "colab": {
          "base_uri": "https://localhost:8080/"
        }
      },
      "execution_count": 125,
      "outputs": [
        {
          "output_type": "stream",
          "name": "stdout",
          "text": [
            "4868\n",
            "4868\n",
            "[]\n"
          ]
        }
      ]
    },
    {
      "cell_type": "code",
      "source": [
        "new_site = []\n",
        "site = data_site['Basic_Demos,Study_Site'].values.tolist()\n",
        "for id in ids_data:\n",
        "  number = ids_site.index(id)\n",
        "  new_site.append(site[number])"
      ],
      "metadata": {
        "id": "Z_bMgcsRQqfP"
      },
      "execution_count": 129,
      "outputs": []
    },
    {
      "cell_type": "code",
      "source": [
        "data['Site'] = new_site"
      ],
      "metadata": {
        "id": "ulfDm8t0RN2n"
      },
      "execution_count": 131,
      "outputs": []
    },
    {
      "cell_type": "code",
      "source": [
        "data.head()"
      ],
      "metadata": {
        "id": "HEF1H2TRJT1O",
        "outputId": "007ca551-4d2d-4664-bb15-0aefee024e52",
        "colab": {
          "base_uri": "https://localhost:8080/",
          "height": 299
        }
      },
      "execution_count": 132,
      "outputs": [
        {
          "output_type": "execute_result",
          "data": {
            "text/plain": [
              "    Identifiers Audit,AUDIT_Total_Score Barratt,Barratt_Total  \\\n",
              "1  NDARAA075AMK                       .                  58.5   \n",
              "2  NDARAA112DMH                       .                  37.5   \n",
              "3  NDARAA117NEJ                       .                  12.5   \n",
              "4  NDARAA306NT2                       0                    33   \n",
              "5  NDARAA358BPN                       .                     .   \n",
              "\n",
              "  Barratt,Barratt_Total_Edu Barratt,Barratt_Total_Occ Basic_Demos,Age  \\\n",
              "1                        21                      37.5         6.72804   \n",
              "2                        15                      22.5        5.545744   \n",
              "3                       7.5                         5        7.475929   \n",
              "4                        18                        15       21.216746   \n",
              "5                         .                         .       11.853296   \n",
              "\n",
              "  Basic_Demos,Sex Basic_Demos,Site CELF,CELF_Total CTOPP,CTOPP_BW_D  ...  \\\n",
              "1               1              NaN              23              NaN  ...   \n",
              "2               0              NaN              11          average  ...   \n",
              "3               0              NaN              11          average  ...   \n",
              "4               1              NaN              16              low  ...   \n",
              "5               0              NaN             NaN              NaN  ...   \n",
              "\n",
              "  WIAT,WIAT_Pseudo_Stnd WIAT,WIAT_RC_Stnd WIAT,WIAT_Spell_Stnd  \\\n",
              "1                   143               134                  139   \n",
              "2                   NaN               NaN                   87   \n",
              "3                    85                89                   96   \n",
              "4                    80                77                   83   \n",
              "5                   NaN               NaN                  NaN   \n",
              "\n",
              "  WIAT,WIAT_Word_Stnd WISC,WISC_FSIQ WISC,WISC_PSI WISC,WISC_VCI  \\\n",
              "1                 146            140           148           142   \n",
              "2                 NaN              .             .             .   \n",
              "3                  85             88            77           108   \n",
              "4                  85              .             .             .   \n",
              "5                 NaN            NaN           NaN           NaN   \n",
              "\n",
              "  WISC,WISC_VSI WISC,WISC_WMI Site  \n",
              "1           122           155  2.0  \n",
              "2             .             .  1.0  \n",
              "3            84            85  1.0  \n",
              "4             .             .  3.0  \n",
              "5           NaN           NaN  1.0  \n",
              "\n",
              "[5 rows x 169 columns]"
            ],
            "text/html": [
              "\n",
              "  <div id=\"df-aa4332c4-3033-4af3-8b55-7ebda0ee7e8c\">\n",
              "    <div class=\"colab-df-container\">\n",
              "      <div>\n",
              "<style scoped>\n",
              "    .dataframe tbody tr th:only-of-type {\n",
              "        vertical-align: middle;\n",
              "    }\n",
              "\n",
              "    .dataframe tbody tr th {\n",
              "        vertical-align: top;\n",
              "    }\n",
              "\n",
              "    .dataframe thead th {\n",
              "        text-align: right;\n",
              "    }\n",
              "</style>\n",
              "<table border=\"1\" class=\"dataframe\">\n",
              "  <thead>\n",
              "    <tr style=\"text-align: right;\">\n",
              "      <th></th>\n",
              "      <th>Identifiers</th>\n",
              "      <th>Audit,AUDIT_Total_Score</th>\n",
              "      <th>Barratt,Barratt_Total</th>\n",
              "      <th>Barratt,Barratt_Total_Edu</th>\n",
              "      <th>Barratt,Barratt_Total_Occ</th>\n",
              "      <th>Basic_Demos,Age</th>\n",
              "      <th>Basic_Demos,Sex</th>\n",
              "      <th>Basic_Demos,Site</th>\n",
              "      <th>CELF,CELF_Total</th>\n",
              "      <th>CTOPP,CTOPP_BW_D</th>\n",
              "      <th>...</th>\n",
              "      <th>WIAT,WIAT_Pseudo_Stnd</th>\n",
              "      <th>WIAT,WIAT_RC_Stnd</th>\n",
              "      <th>WIAT,WIAT_Spell_Stnd</th>\n",
              "      <th>WIAT,WIAT_Word_Stnd</th>\n",
              "      <th>WISC,WISC_FSIQ</th>\n",
              "      <th>WISC,WISC_PSI</th>\n",
              "      <th>WISC,WISC_VCI</th>\n",
              "      <th>WISC,WISC_VSI</th>\n",
              "      <th>WISC,WISC_WMI</th>\n",
              "      <th>Site</th>\n",
              "    </tr>\n",
              "  </thead>\n",
              "  <tbody>\n",
              "    <tr>\n",
              "      <th>1</th>\n",
              "      <td>NDARAA075AMK</td>\n",
              "      <td>.</td>\n",
              "      <td>58.5</td>\n",
              "      <td>21</td>\n",
              "      <td>37.5</td>\n",
              "      <td>6.72804</td>\n",
              "      <td>1</td>\n",
              "      <td>NaN</td>\n",
              "      <td>23</td>\n",
              "      <td>NaN</td>\n",
              "      <td>...</td>\n",
              "      <td>143</td>\n",
              "      <td>134</td>\n",
              "      <td>139</td>\n",
              "      <td>146</td>\n",
              "      <td>140</td>\n",
              "      <td>148</td>\n",
              "      <td>142</td>\n",
              "      <td>122</td>\n",
              "      <td>155</td>\n",
              "      <td>2.0</td>\n",
              "    </tr>\n",
              "    <tr>\n",
              "      <th>2</th>\n",
              "      <td>NDARAA112DMH</td>\n",
              "      <td>.</td>\n",
              "      <td>37.5</td>\n",
              "      <td>15</td>\n",
              "      <td>22.5</td>\n",
              "      <td>5.545744</td>\n",
              "      <td>0</td>\n",
              "      <td>NaN</td>\n",
              "      <td>11</td>\n",
              "      <td>average</td>\n",
              "      <td>...</td>\n",
              "      <td>NaN</td>\n",
              "      <td>NaN</td>\n",
              "      <td>87</td>\n",
              "      <td>NaN</td>\n",
              "      <td>.</td>\n",
              "      <td>.</td>\n",
              "      <td>.</td>\n",
              "      <td>.</td>\n",
              "      <td>.</td>\n",
              "      <td>1.0</td>\n",
              "    </tr>\n",
              "    <tr>\n",
              "      <th>3</th>\n",
              "      <td>NDARAA117NEJ</td>\n",
              "      <td>.</td>\n",
              "      <td>12.5</td>\n",
              "      <td>7.5</td>\n",
              "      <td>5</td>\n",
              "      <td>7.475929</td>\n",
              "      <td>0</td>\n",
              "      <td>NaN</td>\n",
              "      <td>11</td>\n",
              "      <td>average</td>\n",
              "      <td>...</td>\n",
              "      <td>85</td>\n",
              "      <td>89</td>\n",
              "      <td>96</td>\n",
              "      <td>85</td>\n",
              "      <td>88</td>\n",
              "      <td>77</td>\n",
              "      <td>108</td>\n",
              "      <td>84</td>\n",
              "      <td>85</td>\n",
              "      <td>1.0</td>\n",
              "    </tr>\n",
              "    <tr>\n",
              "      <th>4</th>\n",
              "      <td>NDARAA306NT2</td>\n",
              "      <td>0</td>\n",
              "      <td>33</td>\n",
              "      <td>18</td>\n",
              "      <td>15</td>\n",
              "      <td>21.216746</td>\n",
              "      <td>1</td>\n",
              "      <td>NaN</td>\n",
              "      <td>16</td>\n",
              "      <td>low</td>\n",
              "      <td>...</td>\n",
              "      <td>80</td>\n",
              "      <td>77</td>\n",
              "      <td>83</td>\n",
              "      <td>85</td>\n",
              "      <td>.</td>\n",
              "      <td>.</td>\n",
              "      <td>.</td>\n",
              "      <td>.</td>\n",
              "      <td>.</td>\n",
              "      <td>3.0</td>\n",
              "    </tr>\n",
              "    <tr>\n",
              "      <th>5</th>\n",
              "      <td>NDARAA358BPN</td>\n",
              "      <td>.</td>\n",
              "      <td>.</td>\n",
              "      <td>.</td>\n",
              "      <td>.</td>\n",
              "      <td>11.853296</td>\n",
              "      <td>0</td>\n",
              "      <td>NaN</td>\n",
              "      <td>NaN</td>\n",
              "      <td>NaN</td>\n",
              "      <td>...</td>\n",
              "      <td>NaN</td>\n",
              "      <td>NaN</td>\n",
              "      <td>NaN</td>\n",
              "      <td>NaN</td>\n",
              "      <td>NaN</td>\n",
              "      <td>NaN</td>\n",
              "      <td>NaN</td>\n",
              "      <td>NaN</td>\n",
              "      <td>NaN</td>\n",
              "      <td>1.0</td>\n",
              "    </tr>\n",
              "  </tbody>\n",
              "</table>\n",
              "<p>5 rows × 169 columns</p>\n",
              "</div>\n",
              "      <button class=\"colab-df-convert\" onclick=\"convertToInteractive('df-aa4332c4-3033-4af3-8b55-7ebda0ee7e8c')\"\n",
              "              title=\"Convert this dataframe to an interactive table.\"\n",
              "              style=\"display:none;\">\n",
              "        \n",
              "  <svg xmlns=\"http://www.w3.org/2000/svg\" height=\"24px\"viewBox=\"0 0 24 24\"\n",
              "       width=\"24px\">\n",
              "    <path d=\"M0 0h24v24H0V0z\" fill=\"none\"/>\n",
              "    <path d=\"M18.56 5.44l.94 2.06.94-2.06 2.06-.94-2.06-.94-.94-2.06-.94 2.06-2.06.94zm-11 1L8.5 8.5l.94-2.06 2.06-.94-2.06-.94L8.5 2.5l-.94 2.06-2.06.94zm10 10l.94 2.06.94-2.06 2.06-.94-2.06-.94-.94-2.06-.94 2.06-2.06.94z\"/><path d=\"M17.41 7.96l-1.37-1.37c-.4-.4-.92-.59-1.43-.59-.52 0-1.04.2-1.43.59L10.3 9.45l-7.72 7.72c-.78.78-.78 2.05 0 2.83L4 21.41c.39.39.9.59 1.41.59.51 0 1.02-.2 1.41-.59l7.78-7.78 2.81-2.81c.8-.78.8-2.07 0-2.86zM5.41 20L4 18.59l7.72-7.72 1.47 1.35L5.41 20z\"/>\n",
              "  </svg>\n",
              "      </button>\n",
              "      \n",
              "  <style>\n",
              "    .colab-df-container {\n",
              "      display:flex;\n",
              "      flex-wrap:wrap;\n",
              "      gap: 12px;\n",
              "    }\n",
              "\n",
              "    .colab-df-convert {\n",
              "      background-color: #E8F0FE;\n",
              "      border: none;\n",
              "      border-radius: 50%;\n",
              "      cursor: pointer;\n",
              "      display: none;\n",
              "      fill: #1967D2;\n",
              "      height: 32px;\n",
              "      padding: 0 0 0 0;\n",
              "      width: 32px;\n",
              "    }\n",
              "\n",
              "    .colab-df-convert:hover {\n",
              "      background-color: #E2EBFA;\n",
              "      box-shadow: 0px 1px 2px rgba(60, 64, 67, 0.3), 0px 1px 3px 1px rgba(60, 64, 67, 0.15);\n",
              "      fill: #174EA6;\n",
              "    }\n",
              "\n",
              "    [theme=dark] .colab-df-convert {\n",
              "      background-color: #3B4455;\n",
              "      fill: #D2E3FC;\n",
              "    }\n",
              "\n",
              "    [theme=dark] .colab-df-convert:hover {\n",
              "      background-color: #434B5C;\n",
              "      box-shadow: 0px 1px 3px 1px rgba(0, 0, 0, 0.15);\n",
              "      filter: drop-shadow(0px 1px 2px rgba(0, 0, 0, 0.3));\n",
              "      fill: #FFFFFF;\n",
              "    }\n",
              "  </style>\n",
              "\n",
              "      <script>\n",
              "        const buttonEl =\n",
              "          document.querySelector('#df-aa4332c4-3033-4af3-8b55-7ebda0ee7e8c button.colab-df-convert');\n",
              "        buttonEl.style.display =\n",
              "          google.colab.kernel.accessAllowed ? 'block' : 'none';\n",
              "\n",
              "        async function convertToInteractive(key) {\n",
              "          const element = document.querySelector('#df-aa4332c4-3033-4af3-8b55-7ebda0ee7e8c');\n",
              "          const dataTable =\n",
              "            await google.colab.kernel.invokeFunction('convertToInteractive',\n",
              "                                                     [key], {});\n",
              "          if (!dataTable) return;\n",
              "\n",
              "          const docLinkHtml = 'Like what you see? Visit the ' +\n",
              "            '<a target=\"_blank\" href=https://colab.research.google.com/notebooks/data_table.ipynb>data table notebook</a>'\n",
              "            + ' to learn more about interactive tables.';\n",
              "          element.innerHTML = '';\n",
              "          dataTable['output_type'] = 'display_data';\n",
              "          await google.colab.output.renderOutput(dataTable, element);\n",
              "          const docLink = document.createElement('div');\n",
              "          docLink.innerHTML = docLinkHtml;\n",
              "          element.appendChild(docLink);\n",
              "        }\n",
              "      </script>\n",
              "    </div>\n",
              "  </div>\n",
              "  "
            ]
          },
          "metadata": {},
          "execution_count": 132
        }
      ]
    },
    {
      "cell_type": "markdown",
      "source": [
        "**Crossreferencing to understand who has the full pheno**"
      ],
      "metadata": {
        "id": "zQ5-gjZkW_w6"
      }
    },
    {
      "cell_type": "code",
      "source": [
        "print(pheno_mri.shape)\n",
        "print(data.shape)"
      ],
      "metadata": {
        "id": "mZStsdf7ZUQH",
        "outputId": "896659f7-13f2-4f62-deda-1a9157af16ac",
        "colab": {
          "base_uri": "https://localhost:8080/"
        }
      },
      "execution_count": 133,
      "outputs": [
        {
          "output_type": "stream",
          "name": "stdout",
          "text": [
            "(4344, 6)\n",
            "(4868, 169)\n"
          ]
        }
      ]
    },
    {
      "cell_type": "code",
      "source": [
        "# not all of the IDs in pheno_mri file are unique\n",
        "len(pheno_mri.EID.unique())"
      ],
      "metadata": {
        "id": "TBM3RTaLRofu",
        "outputId": "9b87b87f-2b38-4960-e49e-a52e59032ef7",
        "colab": {
          "base_uri": "https://localhost:8080/"
        }
      },
      "execution_count": 140,
      "outputs": [
        {
          "output_type": "execute_result",
          "data": {
            "text/plain": [
              "3539"
            ]
          },
          "metadata": {},
          "execution_count": 140
        }
      ]
    },
    {
      "cell_type": "code",
      "source": [
        "pheno_mri_no_duplicates = pheno_mri.drop_duplicates()"
      ],
      "metadata": {
        "id": "I3XW3HtZSsRU"
      },
      "execution_count": 143,
      "outputs": []
    },
    {
      "cell_type": "code",
      "source": [
        "print(pheno_mri_no_duplicates.shape)\n",
        "len(pheno_mri_no_duplicates.EID.unique())"
      ],
      "metadata": {
        "id": "n1xISUY5Sx3_",
        "outputId": "f259af6d-5488-4da4-ae43-f37fe1110249",
        "colab": {
          "base_uri": "https://localhost:8080/"
        }
      },
      "execution_count": 145,
      "outputs": [
        {
          "output_type": "stream",
          "name": "stdout",
          "text": [
            "(3539, 6)\n"
          ]
        },
        {
          "output_type": "execute_result",
          "data": {
            "text/plain": [
              "3539"
            ]
          },
          "metadata": {},
          "execution_count": 145
        }
      ]
    },
    {
      "cell_type": "code",
      "source": [
        "print(pheno_mri_no_duplicates.shape)\n",
        "print(data.shape)"
      ],
      "metadata": {
        "id": "ug8zrGBoS5NO",
        "outputId": "1d874600-0c8b-4f17-faa1-ee8e5b352dac",
        "colab": {
          "base_uri": "https://localhost:8080/"
        }
      },
      "execution_count": 146,
      "outputs": [
        {
          "output_type": "stream",
          "name": "stdout",
          "text": [
            "(3539, 6)\n",
            "(4868, 169)\n"
          ]
        }
      ]
    },
    {
      "cell_type": "code",
      "source": [
        "full_ids = pheno_mri_no_duplicates.EID.values.tolist()\n",
        "data_ids = data.Identifiers.values.tolist()\n",
        "hits = []\n",
        "misses = []\n",
        "indices = []\n",
        "for i in data_ids:\n",
        "  if i in full_ids:\n",
        "    hits.append(i)\n",
        "  elif i not in full_ids:\n",
        "    misses.append(i)\n",
        "    indices.append(data_ids.index(i))\n",
        "print(len(hits))"
      ],
      "metadata": {
        "id": "auEmLb4JZwOq",
        "outputId": "ca0d8145-0673-49e7-8848-feb847eb8850",
        "colab": {
          "base_uri": "https://localhost:8080/"
        }
      },
      "execution_count": 147,
      "outputs": [
        {
          "output_type": "stream",
          "name": "stdout",
          "text": [
            "3538\n"
          ]
        }
      ]
    },
    {
      "cell_type": "code",
      "source": [
        "# One participant is missing from the data. It could be the case that the experiment is nor over.\n",
        "for i in full_ids:\n",
        "  if i not in hits:\n",
        "    print(i)"
      ],
      "metadata": {
        "id": "HGgvf1JUZwRG",
        "outputId": "57e10648-93ff-42b0-9634-679a45720182",
        "colab": {
          "base_uri": "https://localhost:8080/"
        }
      },
      "execution_count": 149,
      "outputs": [
        {
          "output_type": "stream",
          "name": "stdout",
          "text": [
            "NDARAL828WXM\n"
          ]
        }
      ]
    },
    {
      "cell_type": "code",
      "source": [
        "pheno_mri[pheno_mri['EID'] == 'NDARAL828WXM']"
      ],
      "metadata": {
        "id": "Uo6t3sQxZwUB",
        "outputId": "d8161fda-8231-4dfb-9070-7541272f9ee9",
        "colab": {
          "base_uri": "https://localhost:8080/",
          "height": 81
        }
      },
      "execution_count": 150,
      "outputs": [
        {
          "output_type": "execute_result",
          "data": {
            "text/plain": [
              "               EID  Sex        Age  EHQ_Total Commercial_Use Full_Pheno\n",
              "3253  NDARAL828WXM  0.0  15.188569      63.34            Yes        Yes"
            ],
            "text/html": [
              "\n",
              "  <div id=\"df-71775738-723d-475f-bbaa-7eff4d773ae0\">\n",
              "    <div class=\"colab-df-container\">\n",
              "      <div>\n",
              "<style scoped>\n",
              "    .dataframe tbody tr th:only-of-type {\n",
              "        vertical-align: middle;\n",
              "    }\n",
              "\n",
              "    .dataframe tbody tr th {\n",
              "        vertical-align: top;\n",
              "    }\n",
              "\n",
              "    .dataframe thead th {\n",
              "        text-align: right;\n",
              "    }\n",
              "</style>\n",
              "<table border=\"1\" class=\"dataframe\">\n",
              "  <thead>\n",
              "    <tr style=\"text-align: right;\">\n",
              "      <th></th>\n",
              "      <th>EID</th>\n",
              "      <th>Sex</th>\n",
              "      <th>Age</th>\n",
              "      <th>EHQ_Total</th>\n",
              "      <th>Commercial_Use</th>\n",
              "      <th>Full_Pheno</th>\n",
              "    </tr>\n",
              "  </thead>\n",
              "  <tbody>\n",
              "    <tr>\n",
              "      <th>3253</th>\n",
              "      <td>NDARAL828WXM</td>\n",
              "      <td>0.0</td>\n",
              "      <td>15.188569</td>\n",
              "      <td>63.34</td>\n",
              "      <td>Yes</td>\n",
              "      <td>Yes</td>\n",
              "    </tr>\n",
              "  </tbody>\n",
              "</table>\n",
              "</div>\n",
              "      <button class=\"colab-df-convert\" onclick=\"convertToInteractive('df-71775738-723d-475f-bbaa-7eff4d773ae0')\"\n",
              "              title=\"Convert this dataframe to an interactive table.\"\n",
              "              style=\"display:none;\">\n",
              "        \n",
              "  <svg xmlns=\"http://www.w3.org/2000/svg\" height=\"24px\"viewBox=\"0 0 24 24\"\n",
              "       width=\"24px\">\n",
              "    <path d=\"M0 0h24v24H0V0z\" fill=\"none\"/>\n",
              "    <path d=\"M18.56 5.44l.94 2.06.94-2.06 2.06-.94-2.06-.94-.94-2.06-.94 2.06-2.06.94zm-11 1L8.5 8.5l.94-2.06 2.06-.94-2.06-.94L8.5 2.5l-.94 2.06-2.06.94zm10 10l.94 2.06.94-2.06 2.06-.94-2.06-.94-.94-2.06-.94 2.06-2.06.94z\"/><path d=\"M17.41 7.96l-1.37-1.37c-.4-.4-.92-.59-1.43-.59-.52 0-1.04.2-1.43.59L10.3 9.45l-7.72 7.72c-.78.78-.78 2.05 0 2.83L4 21.41c.39.39.9.59 1.41.59.51 0 1.02-.2 1.41-.59l7.78-7.78 2.81-2.81c.8-.78.8-2.07 0-2.86zM5.41 20L4 18.59l7.72-7.72 1.47 1.35L5.41 20z\"/>\n",
              "  </svg>\n",
              "      </button>\n",
              "      \n",
              "  <style>\n",
              "    .colab-df-container {\n",
              "      display:flex;\n",
              "      flex-wrap:wrap;\n",
              "      gap: 12px;\n",
              "    }\n",
              "\n",
              "    .colab-df-convert {\n",
              "      background-color: #E8F0FE;\n",
              "      border: none;\n",
              "      border-radius: 50%;\n",
              "      cursor: pointer;\n",
              "      display: none;\n",
              "      fill: #1967D2;\n",
              "      height: 32px;\n",
              "      padding: 0 0 0 0;\n",
              "      width: 32px;\n",
              "    }\n",
              "\n",
              "    .colab-df-convert:hover {\n",
              "      background-color: #E2EBFA;\n",
              "      box-shadow: 0px 1px 2px rgba(60, 64, 67, 0.3), 0px 1px 3px 1px rgba(60, 64, 67, 0.15);\n",
              "      fill: #174EA6;\n",
              "    }\n",
              "\n",
              "    [theme=dark] .colab-df-convert {\n",
              "      background-color: #3B4455;\n",
              "      fill: #D2E3FC;\n",
              "    }\n",
              "\n",
              "    [theme=dark] .colab-df-convert:hover {\n",
              "      background-color: #434B5C;\n",
              "      box-shadow: 0px 1px 3px 1px rgba(0, 0, 0, 0.15);\n",
              "      filter: drop-shadow(0px 1px 2px rgba(0, 0, 0, 0.3));\n",
              "      fill: #FFFFFF;\n",
              "    }\n",
              "  </style>\n",
              "\n",
              "      <script>\n",
              "        const buttonEl =\n",
              "          document.querySelector('#df-71775738-723d-475f-bbaa-7eff4d773ae0 button.colab-df-convert');\n",
              "        buttonEl.style.display =\n",
              "          google.colab.kernel.accessAllowed ? 'block' : 'none';\n",
              "\n",
              "        async function convertToInteractive(key) {\n",
              "          const element = document.querySelector('#df-71775738-723d-475f-bbaa-7eff4d773ae0');\n",
              "          const dataTable =\n",
              "            await google.colab.kernel.invokeFunction('convertToInteractive',\n",
              "                                                     [key], {});\n",
              "          if (!dataTable) return;\n",
              "\n",
              "          const docLinkHtml = 'Like what you see? Visit the ' +\n",
              "            '<a target=\"_blank\" href=https://colab.research.google.com/notebooks/data_table.ipynb>data table notebook</a>'\n",
              "            + ' to learn more about interactive tables.';\n",
              "          element.innerHTML = '';\n",
              "          dataTable['output_type'] = 'display_data';\n",
              "          await google.colab.output.renderOutput(dataTable, element);\n",
              "          const docLink = document.createElement('div');\n",
              "          docLink.innerHTML = docLinkHtml;\n",
              "          element.appendChild(docLink);\n",
              "        }\n",
              "      </script>\n",
              "    </div>\n",
              "  </div>\n",
              "  "
            ]
          },
          "metadata": {},
          "execution_count": 150
        }
      ]
    },
    {
      "cell_type": "code",
      "source": [
        "# so according to this dataset there are 1330 who doesn't have full phenotypical information\n",
        "# but we won't trust it so much\n",
        "data_pheno = data.copy()"
      ],
      "metadata": {
        "id": "mnXCqhwAUfDU"
      },
      "execution_count": 161,
      "outputs": []
    },
    {
      "cell_type": "code",
      "source": [
        "for i in misses:\n",
        "  data_pheno = data_pheno[data_pheno['Identifiers'] != i]"
      ],
      "metadata": {
        "id": "CDpeBPTIUqBV"
      },
      "execution_count": 162,
      "outputs": []
    },
    {
      "cell_type": "code",
      "source": [
        "print(data_pheno.shape)\n",
        "print(data.shape)"
      ],
      "metadata": {
        "id": "bvZ0eCtgYVaS",
        "outputId": "dd651740-992d-468a-fad9-418d549c48b1",
        "colab": {
          "base_uri": "https://localhost:8080/"
        }
      },
      "execution_count": 163,
      "outputs": [
        {
          "output_type": "stream",
          "name": "stdout",
          "text": [
            "(3538, 169)\n",
            "(4868, 169)\n"
          ]
        }
      ]
    },
    {
      "cell_type": "markdown",
      "source": [
        "Here is our reduced data frame with participant who has the full phenotypic file. Let's now choose only right handed participants."
      ],
      "metadata": {
        "id": "pE_RygKEc2ww"
      }
    },
    {
      "cell_type": "code",
      "source": [
        "# work on Age column\n",
        "data_pheno['Basic_Demos,Age'] = data_pheno['Basic_Demos,Age'].astype(float)\n",
        "data['Basic_Demos,Age'] = data['Basic_Demos,Age'].astype(float)"
      ],
      "metadata": {
        "id": "Fsbq32NVOUbG"
      },
      "execution_count": 166,
      "outputs": []
    },
    {
      "cell_type": "code",
      "source": [
        "# work on Sex column\n",
        "data_pheno['Basic_Demos,Sex'] = data_pheno['Basic_Demos,Sex'].astype(int)\n",
        "data['Basic_Demos,Sex'] = data['Basic_Demos,Sex'].astype(int)"
      ],
      "metadata": {
        "id": "3xJBdz9Bfg2t"
      },
      "execution_count": 167,
      "outputs": []
    },
    {
      "cell_type": "code",
      "source": [
        "# work on Site column\n",
        "data_pheno['Site'] = data_pheno['Site'].astype(int)\n",
        "data['Site'] = data['Site'].astype(int)\n",
        "\n",
        "data_pheno.drop(['Basic_Demos,Site'], axis=1, inplace=True)\n",
        "data.drop(['Basic_Demos,Site'], axis=1, inplace=True)"
      ],
      "metadata": {
        "id": "87ptehgEfsu_"
      },
      "execution_count": 168,
      "outputs": []
    },
    {
      "cell_type": "code",
      "source": [
        "# work on Diagnosis column\n",
        "# looks like a dot could be no diagnosis as it seems to be consistent across the columns\n",
        "# there are also nan values in confirmed column\n",
        "# throw away this 'No Diagnosis Given: Incomplete Eval'\n",
        "# give 0 to these 'No Diagnosis Given'\n",
        "def diagnosis(df, number):\n",
        "  name_diag = 'Diagnosis_ClinicianConsensus,DX_0' + str(number)\n",
        "  name_conf = 'Diagnosis_ClinicianConsensus,DX_0' + str(number) + '_Confirmed'\n",
        "  diagnosis = df[name_diag].values\n",
        "  confirmed = df[name_conf].values\n",
        "  \n",
        "  dyslexia = []\n",
        "  new_diagnosis = []\n",
        "  for i in range(0, df.shape[0]):\n",
        "    # if it's nan values\n",
        "    if type(diagnosis[i]) == float:\n",
        "      dyslexia.append(0)\n",
        "      new_diagnosis.append(0)\n",
        "    # if it's some type of LSD and \n",
        "    elif 'Specific Learning Disorder with' in diagnosis[i]:\n",
        "      if confirmed[i] != '0':\n",
        "        dyslexia.append(diagnosis[i])\n",
        "        new_diagnosis.append('dys')\n",
        "      elif confirmed[i] == '0':\n",
        "        dyslexia.append(0)\n",
        "        new_diagnosis.append(0)\n",
        "    # if it's a dot or empty space\n",
        "    elif diagnosis[i] == '.':\n",
        "      dyslexia.append(0)\n",
        "      new_diagnosis.append(0)\n",
        "    elif diagnosis[i] == ' ':\n",
        "      dyslexia.append(0)\n",
        "      new_diagnosis.append(0)\n",
        "    # if it's an incomplete inquery\n",
        "    elif 'Incomplete' in diagnosis[i]:\n",
        "      dyslexia.append('Incomplete')\n",
        "      new_diagnosis.append('Incomplete')\n",
        "    # if it's no diagnosis\n",
        "    elif diagnosis[i] == 'No Diagnosis Given':\n",
        "      dyslexia.append(0)\n",
        "      new_diagnosis.append(0)\n",
        "    # if it's some other disorder\n",
        "    else:\n",
        "      if confirmed[i] != '0':\n",
        "        dyslexia.append(0)\n",
        "        new_diagnosis.append(diagnosis[i])\n",
        "      elif confirmed[i] == '0':\n",
        "        dyslexia.append(0)\n",
        "        new_diagnosis.append(0)\n",
        "\n",
        "  return dyslexia, new_diagnosis"
      ],
      "metadata": {
        "id": "QVbnLuo6f3it"
      },
      "execution_count": null,
      "outputs": []
    },
    {
      "cell_type": "code",
      "source": [
        "all_diagnosis = {}\n",
        "all_dys = {}\n",
        "for i in range(1, 10):\n",
        "  dyslexia, new_diagnosis = diagnosis(data_pheno, i)\n",
        "  all_dys['diag_%s' % i] = dyslexia\n",
        "  all_diagnosis['diag_%s' % i] = new_diagnosis"
      ],
      "metadata": {
        "id": "EX9j62SAidNY"
      },
      "execution_count": null,
      "outputs": []
    },
    {
      "cell_type": "code",
      "source": [
        "dys_status = []\n",
        "for i in range(0, data_pheno.shape[0]):\n",
        "  participant = []\n",
        "  for sublist in all_dys:\n",
        "    subset = all_dys[sublist][i]\n",
        "    if type(subset) == str:\n",
        "      participant.append(subset)\n",
        "  if len(participant) == 0:\n",
        "    dys_status.append(0)\n",
        "  elif len(participant) == 1:\n",
        "    dys_status.append(participant[0])\n",
        "  else:\n",
        "    dys_status.append(participant)"
      ],
      "metadata": {
        "id": "1j1JtzGW2fB3"
      },
      "execution_count": null,
      "outputs": []
    },
    {
      "cell_type": "code",
      "source": [
        "all_status = []\n",
        "for i in range(0, data_pheno.shape[0]):\n",
        "  participant = []\n",
        "  for sublist in all_diagnosis:\n",
        "    subset = all_diagnosis[sublist][i]\n",
        "    if type(subset) == str:\n",
        "      participant.append(subset)\n",
        "  if len(participant) == 0:\n",
        "    all_status.append(0)\n",
        "  elif len(participant) == 1:\n",
        "    all_status.append(participant[0])\n",
        "  else:\n",
        "    all_status.append(participant)"
      ],
      "metadata": {
        "id": "f-ikTugOkZq5"
      },
      "execution_count": null,
      "outputs": []
    },
    {
      "cell_type": "code",
      "source": [
        "data_pheno['DD'] = dys_status\n",
        "data_pheno['Diagnosis'] = all_status"
      ],
      "metadata": {
        "id": "pir7LBYOSEkl"
      },
      "execution_count": null,
      "outputs": []
    },
    {
      "cell_type": "code",
      "source": [
        "for i in range(1,10):\n",
        "  name_diag = 'Diagnosis_ClinicianConsensus,DX_0' + str(i)\n",
        "  name_conf = 'Diagnosis_ClinicianConsensus,DX_0' + str(i) + '_Confirmed'\n",
        "  name_code = 'Diagnosis_ClinicianConsensus,DX_0' + str(i) + '_Code'\n",
        "  data_pheno.drop([name_diag], axis=1, inplace=True)\n",
        "  data_pheno.drop([name_conf], axis=1, inplace=True)\n",
        "  data_pheno.drop([name_code], axis=1, inplace=True)\n",
        "data_pheno.drop(['Diagnosis_ClinicianConsensus,DX_10'], axis=1, inplace=True)\n",
        "data_pheno.drop(['Diagnosis_ClinicianConsensus,DX_10_Code'], axis=1, inplace=True)\n",
        "data_pheno.drop(['Diagnosis_ClinicianConsensus,DX_10_Confirmed'], axis=1, inplace=True)"
      ],
      "metadata": {
        "id": "HhH0Gxpyl8KD"
      },
      "execution_count": null,
      "outputs": []
    },
    {
      "cell_type": "code",
      "source": [
        "print('Control subjects')\n",
        "print(data_pheno[(data_pheno['DD'] == 0) & (data_pheno['Diagnosis'] == 0)].shape[0])\n",
        "print('Disorders w/out DD')\n",
        "print(data_pheno[(data_pheno['DD'] == 0) & (data_pheno['Diagnosis'] != 0)].shape[0])\n",
        "print('Disorders w DD')\n",
        "print(data_pheno[data_pheno['DD'] != 0].shape[0])"
      ],
      "metadata": {
        "colab": {
          "base_uri": "https://localhost:8080/"
        },
        "id": "A58x8CIRWbnf",
        "outputId": "d3de3b10-a126-4e3e-9851-c8c0a6bedbaa"
      },
      "execution_count": null,
      "outputs": [
        {
          "output_type": "stream",
          "name": "stdout",
          "text": [
            "Control subjects\n",
            "465\n",
            "Disorders w/out DD\n",
            "2354\n",
            "Disorders w DD\n",
            "719\n"
          ]
        }
      ]
    },
    {
      "cell_type": "code",
      "source": [
        "new_dtypes = []\n",
        "dtypes = data_pheno.DD.values\n",
        "for i in dtypes:\n",
        "  if i == 0:\n",
        "    new_dtypes.append(i)\n",
        "  else:\n",
        "    if type(i) == str:\n",
        "      if 'Reading' in i:\n",
        "        new_dtypes.append('Reading')\n",
        "      elif 'Written' in i:\n",
        "        new_dtypes.append('Writing')\n",
        "      elif 'Mathematics' in i:\n",
        "        new_dtypes.append('Math')\n",
        "      elif 'Incomplete' in i:\n",
        "        new_dtypes.append('Incomplete')\n",
        "      else:\n",
        "        print(i)\n",
        "        break\n",
        "    elif type(i) == list:\n",
        "      if len(i) == 2:\n",
        "        name1 = i[0][46:]\n",
        "        name2 = i[1][46:]\n",
        "        new_dtypes.append(name1 + ' and ' + name2)\n",
        "      elif len(i) == 3:\n",
        "        name1 = i[0][46:]\n",
        "        name2 = i[1][46:]\n",
        "        name3 = i[2][46:]\n",
        "        new_dtypes.append(\n",
        "            name1 + ' and ' + name2 + ' and ' + name3\n",
        "            )\n",
        "      else:\n",
        "        print(i)\n",
        "        break\n",
        "    else:\n",
        "      print(i)\n",
        "      break"
      ],
      "metadata": {
        "id": "PinUl2XfbAcJ"
      },
      "execution_count": null,
      "outputs": []
    },
    {
      "cell_type": "code",
      "source": [
        "n_dtypes = []\n",
        "for i in new_dtypes:\n",
        "  if i == 'Reading and Written Expression and Mathematics' or i == 'Reading and Mathematics and Written Expression':\n",
        "    n_dtypes.append('Reading and Math and Written Expression')\n",
        "  elif i == 'Mathematics and Reading and Reading' or i == 'Mathematics and Reading':\n",
        "    n_dtypes.append('Reading and Math')\n",
        "  elif i == 'Reading and Mathematics ' or i == 'Reading and Mathematics' or i == 'Reading and Mathematics and Mathematics':\n",
        "    n_dtypes.append('Reading and Math')\n",
        "  elif i == 'Reading and Written Expression':\n",
        "    n_dtypes.append('Reading and Written Expression')\n",
        "  elif i == 'Mathematics and Written Expression' or i == 'Written Expression and Mathematics':\n",
        "    n_dtypes.append('Math and Written Expression')\n",
        "  elif i == 'Reading' or i == 'Reading and Reading':\n",
        "    n_dtypes.append('Reading')\n",
        "  elif i == 'Math':\n",
        "    n_dtypes.append('Math')\n",
        "  elif i == 'Writing':\n",
        "    n_dtypes.append('Writing')\n",
        "  elif i == 'Incomplete':\n",
        "    n_dtypes.append('Incomplete')\n",
        "  elif i == 0:\n",
        "    n_dtypes.append(0)\n",
        "  else:\n",
        "    print(i)\n",
        "    break"
      ],
      "metadata": {
        "id": "LeXq4L4nf2ee"
      },
      "execution_count": null,
      "outputs": []
    },
    {
      "cell_type": "code",
      "source": [
        "data_pheno['DD'] = n_dtypes"
      ],
      "metadata": {
        "id": "QGUw2Y1Re4Me"
      },
      "execution_count": null,
      "outputs": []
    },
    {
      "cell_type": "code",
      "source": [
        "data_pheno.groupby(['DD'])[['Identifiers']].count()"
      ],
      "metadata": {
        "colab": {
          "base_uri": "https://localhost:8080/"
        },
        "id": "Iaewe5H7bL5G",
        "outputId": "f6764e0b-e256-45ce-857a-055397bdb774"
      },
      "execution_count": null,
      "outputs": [
        {
          "output_type": "execute_result",
          "data": {
            "text/plain": [
              "                                         Identifiers\n",
              "DD                                                  \n",
              "0                                               2819\n",
              "Incomplete                                       195\n",
              "Math                                              68\n",
              "Math and Written Expression                        3\n",
              "Reading                                          352\n",
              "Reading and Math                                  61\n",
              "Reading and Math and Written Expression           16\n",
              "Reading and Written Expression                    15\n",
              "Writing                                            9"
            ],
            "text/html": [
              "\n",
              "  <div id=\"df-ee4e9a9f-7db3-439b-be31-dbfe08872b7a\">\n",
              "    <div class=\"colab-df-container\">\n",
              "      <div>\n",
              "<style scoped>\n",
              "    .dataframe tbody tr th:only-of-type {\n",
              "        vertical-align: middle;\n",
              "    }\n",
              "\n",
              "    .dataframe tbody tr th {\n",
              "        vertical-align: top;\n",
              "    }\n",
              "\n",
              "    .dataframe thead th {\n",
              "        text-align: right;\n",
              "    }\n",
              "</style>\n",
              "<table border=\"1\" class=\"dataframe\">\n",
              "  <thead>\n",
              "    <tr style=\"text-align: right;\">\n",
              "      <th></th>\n",
              "      <th>Identifiers</th>\n",
              "    </tr>\n",
              "    <tr>\n",
              "      <th>DD</th>\n",
              "      <th></th>\n",
              "    </tr>\n",
              "  </thead>\n",
              "  <tbody>\n",
              "    <tr>\n",
              "      <th>0</th>\n",
              "      <td>2819</td>\n",
              "    </tr>\n",
              "    <tr>\n",
              "      <th>Incomplete</th>\n",
              "      <td>195</td>\n",
              "    </tr>\n",
              "    <tr>\n",
              "      <th>Math</th>\n",
              "      <td>68</td>\n",
              "    </tr>\n",
              "    <tr>\n",
              "      <th>Math and Written Expression</th>\n",
              "      <td>3</td>\n",
              "    </tr>\n",
              "    <tr>\n",
              "      <th>Reading</th>\n",
              "      <td>352</td>\n",
              "    </tr>\n",
              "    <tr>\n",
              "      <th>Reading and Math</th>\n",
              "      <td>61</td>\n",
              "    </tr>\n",
              "    <tr>\n",
              "      <th>Reading and Math and Written Expression</th>\n",
              "      <td>16</td>\n",
              "    </tr>\n",
              "    <tr>\n",
              "      <th>Reading and Written Expression</th>\n",
              "      <td>15</td>\n",
              "    </tr>\n",
              "    <tr>\n",
              "      <th>Writing</th>\n",
              "      <td>9</td>\n",
              "    </tr>\n",
              "  </tbody>\n",
              "</table>\n",
              "</div>\n",
              "      <button class=\"colab-df-convert\" onclick=\"convertToInteractive('df-ee4e9a9f-7db3-439b-be31-dbfe08872b7a')\"\n",
              "              title=\"Convert this dataframe to an interactive table.\"\n",
              "              style=\"display:none;\">\n",
              "        \n",
              "  <svg xmlns=\"http://www.w3.org/2000/svg\" height=\"24px\"viewBox=\"0 0 24 24\"\n",
              "       width=\"24px\">\n",
              "    <path d=\"M0 0h24v24H0V0z\" fill=\"none\"/>\n",
              "    <path d=\"M18.56 5.44l.94 2.06.94-2.06 2.06-.94-2.06-.94-.94-2.06-.94 2.06-2.06.94zm-11 1L8.5 8.5l.94-2.06 2.06-.94-2.06-.94L8.5 2.5l-.94 2.06-2.06.94zm10 10l.94 2.06.94-2.06 2.06-.94-2.06-.94-.94-2.06-.94 2.06-2.06.94z\"/><path d=\"M17.41 7.96l-1.37-1.37c-.4-.4-.92-.59-1.43-.59-.52 0-1.04.2-1.43.59L10.3 9.45l-7.72 7.72c-.78.78-.78 2.05 0 2.83L4 21.41c.39.39.9.59 1.41.59.51 0 1.02-.2 1.41-.59l7.78-7.78 2.81-2.81c.8-.78.8-2.07 0-2.86zM5.41 20L4 18.59l7.72-7.72 1.47 1.35L5.41 20z\"/>\n",
              "  </svg>\n",
              "      </button>\n",
              "      \n",
              "  <style>\n",
              "    .colab-df-container {\n",
              "      display:flex;\n",
              "      flex-wrap:wrap;\n",
              "      gap: 12px;\n",
              "    }\n",
              "\n",
              "    .colab-df-convert {\n",
              "      background-color: #E8F0FE;\n",
              "      border: none;\n",
              "      border-radius: 50%;\n",
              "      cursor: pointer;\n",
              "      display: none;\n",
              "      fill: #1967D2;\n",
              "      height: 32px;\n",
              "      padding: 0 0 0 0;\n",
              "      width: 32px;\n",
              "    }\n",
              "\n",
              "    .colab-df-convert:hover {\n",
              "      background-color: #E2EBFA;\n",
              "      box-shadow: 0px 1px 2px rgba(60, 64, 67, 0.3), 0px 1px 3px 1px rgba(60, 64, 67, 0.15);\n",
              "      fill: #174EA6;\n",
              "    }\n",
              "\n",
              "    [theme=dark] .colab-df-convert {\n",
              "      background-color: #3B4455;\n",
              "      fill: #D2E3FC;\n",
              "    }\n",
              "\n",
              "    [theme=dark] .colab-df-convert:hover {\n",
              "      background-color: #434B5C;\n",
              "      box-shadow: 0px 1px 3px 1px rgba(0, 0, 0, 0.15);\n",
              "      filter: drop-shadow(0px 1px 2px rgba(0, 0, 0, 0.3));\n",
              "      fill: #FFFFFF;\n",
              "    }\n",
              "  </style>\n",
              "\n",
              "      <script>\n",
              "        const buttonEl =\n",
              "          document.querySelector('#df-ee4e9a9f-7db3-439b-be31-dbfe08872b7a button.colab-df-convert');\n",
              "        buttonEl.style.display =\n",
              "          google.colab.kernel.accessAllowed ? 'block' : 'none';\n",
              "\n",
              "        async function convertToInteractive(key) {\n",
              "          const element = document.querySelector('#df-ee4e9a9f-7db3-439b-be31-dbfe08872b7a');\n",
              "          const dataTable =\n",
              "            await google.colab.kernel.invokeFunction('convertToInteractive',\n",
              "                                                     [key], {});\n",
              "          if (!dataTable) return;\n",
              "\n",
              "          const docLinkHtml = 'Like what you see? Visit the ' +\n",
              "            '<a target=\"_blank\" href=https://colab.research.google.com/notebooks/data_table.ipynb>data table notebook</a>'\n",
              "            + ' to learn more about interactive tables.';\n",
              "          element.innerHTML = '';\n",
              "          dataTable['output_type'] = 'display_data';\n",
              "          await google.colab.output.renderOutput(dataTable, element);\n",
              "          const docLink = document.createElement('div');\n",
              "          docLink.innerHTML = docLinkHtml;\n",
              "          element.appendChild(docLink);\n",
              "        }\n",
              "      </script>\n",
              "    </div>\n",
              "  </div>\n",
              "  "
            ]
          },
          "metadata": {},
          "execution_count": 34
        }
      ]
    },
    {
      "cell_type": "code",
      "source": [
        "new_diag = []\n",
        "diag = data_pheno.Diagnosis.values\n",
        "for i in diag:\n",
        "  if i == 0:\n",
        "    new_diag.append(i)\n",
        "  elif i == 'dys':\n",
        "    new_diag.append(0)\n",
        "  elif type(i) == str:\n",
        "    new_diag.append(i)\n",
        "  elif type(i) == list:\n",
        "    if len(i) == 1:\n",
        "      if i[0] == 'dys':\n",
        "        new_diag.append(0)\n",
        "      else:\n",
        "        new_diag.append(i[0])\n",
        "    else:\n",
        "      name = ''\n",
        "      for element in i:\n",
        "        if element != 'dys':\n",
        "          name = name + element + '. '\n",
        "      new_diag.append(name)\n",
        "  else:\n",
        "    print(i)\n",
        "    break"
      ],
      "metadata": {
        "id": "Ppkcch2DT7_y"
      },
      "execution_count": null,
      "outputs": []
    },
    {
      "cell_type": "code",
      "source": [
        "data_pheno['Diagnosis'] = new_diag"
      ],
      "metadata": {
        "id": "1bkrEy9Uj28Q"
      },
      "execution_count": null,
      "outputs": []
    },
    {
      "cell_type": "code",
      "source": [
        "def meds(df, number):\n",
        "  medname = 'DailyMeds,med_name_0' + str(number)\n",
        "  meds = df[medname].values\n",
        "  new_meds = []\n",
        "\n",
        "  for i in range(0, df.shape[0]):\n",
        "    if meds[i] == '.':\n",
        "      new_meds.append(0)\n",
        "    elif type(meds[i]) == float:\n",
        "      new_meds.append(0)\n",
        "    elif type(meds[i]) == str:\n",
        "      new_meds.append(meds[i])\n",
        "    else:\n",
        "      print(meds[i], i)\n",
        "      break\n",
        "  return new_meds"
      ],
      "metadata": {
        "id": "y3Y8GkTGOOB9"
      },
      "execution_count": null,
      "outputs": []
    },
    {
      "cell_type": "code",
      "source": [
        "all_meds = {}\n",
        "for i in range(1, 4):\n",
        "  all_meds['med_%s' % i] = meds(data_pheno, i)"
      ],
      "metadata": {
        "id": "ufmhhKVvPHDa"
      },
      "execution_count": null,
      "outputs": []
    },
    {
      "cell_type": "code",
      "source": [
        "meds_in_one = []\n",
        "for i in range(0, data_pheno.shape[0]):\n",
        "  participant = []\n",
        "  for sublist in all_meds:\n",
        "    subset = all_meds[sublist][i]\n",
        "    if type(subset) == str:\n",
        "      participant.append(subset)\n",
        "  if len(participant) == 0:\n",
        "    meds_in_one.append(0)\n",
        "  elif len(participant) == 1:\n",
        "    meds_in_one.append(participant[0])\n",
        "  else:\n",
        "    name = ''\n",
        "    for part in participant:\n",
        "      name = name + part + ' '\n",
        "    meds_in_one.append(name)"
      ],
      "metadata": {
        "id": "NdsIsF2yP5xK"
      },
      "execution_count": null,
      "outputs": []
    },
    {
      "cell_type": "code",
      "source": [
        "data_pheno['Medicine'] = meds_in_one"
      ],
      "metadata": {
        "id": "nokonDf4RMXd"
      },
      "execution_count": null,
      "outputs": []
    },
    {
      "cell_type": "code",
      "source": [
        "data_pheno[data_pheno['Medicine'] != 0][['Diagnosis', 'DD', 'Medicine']]"
      ],
      "metadata": {
        "colab": {
          "base_uri": "https://localhost:8080/"
        },
        "id": "8Zygy8ClREhe",
        "outputId": "ffc4c892-f5aa-459f-daf1-4affdf2b7077"
      },
      "execution_count": null,
      "outputs": [
        {
          "output_type": "execute_result",
          "data": {
            "text/plain": [
              "                                              Diagnosis  \\\n",
              "1                                                     0   \n",
              "3     ADHD-Combined Type. Oppositional Defiant Disor...   \n",
              "102   Specific Phobia. Generalized Anxiety Disorder....   \n",
              "169   Generalized Anxiety Disorder. Major Depressive...   \n",
              "254                                  Bipolar I Disorder   \n",
              "292   ADHD-Hyperactive/Impulsive Type. Oppositional ...   \n",
              "469   ADHD-Combined Type. Other Specified Anxiety Di...   \n",
              "504   ADHD-Combined Type. Oppositional Defiant Disor...   \n",
              "569                                                   0   \n",
              "638   Autism Spectrum Disorder. ADHD-Inattentive Typ...   \n",
              "768      ADHD-Combined Type. Autism Spectrum Disorder.    \n",
              "807   ADHD-Combined Type. Generalized Anxiety Disord...   \n",
              "913      Autism Spectrum Disorder. ADHD-Combined Type.    \n",
              "934   Generalized Anxiety Disorder. ADHD-Combined Ty...   \n",
              "1019                                 ADHD-Combined Type   \n",
              "1022  Intellectual Disability-Moderate. ADHD-Combine...   \n",
              "1265  ADHD-Combined Type. Generalized Anxiety Disord...   \n",
              "1377  ADHD-Combined Type. Other Specified Anxiety Di...   \n",
              "1466  Autism Spectrum Disorder. Persistent Depressiv...   \n",
              "1495  Other Specified Attention-Deficit/Hyperactivit...   \n",
              "1669  Major Depressive Disorder. Conduct Disorder-Ch...   \n",
              "1771                            Speech Sound Disorder.    \n",
              "1858     ADHD-Combined Type. Autism Spectrum Disorder.    \n",
              "1901     ADHD-Combined Type. Autism Spectrum Disorder.    \n",
              "1918  ADHD-Combined Type. Language Disorder. Intelle...   \n",
              "1924                          Major Depressive Disorder   \n",
              "1940                                 ADHD-Combined Type   \n",
              "1951  ADHD-Combined Type. Oppositional Defiant Disor...   \n",
              "1991                                                  0   \n",
              "2056              Specific Phobia. Separation Anxiety.    \n",
              "2198  ADHD-Combined Type. Autism Spectrum Disorder. ...   \n",
              "2687  Autism Spectrum Disorder. ADHD-Inattentive Typ...   \n",
              "2697  ADHD-Combined Type. Autism Spectrum Disorder. ...   \n",
              "2760  Oppositional Defiant Disorder. ADHD-Combined T...   \n",
              "2779  Other Specified Anxiety Disorder. Speech Sound...   \n",
              "2794                  ADHD-Inattentive Type. Enuresis.    \n",
              "2967  ADHD-Hyperactive/Impulsive Type. Oppositional ...   \n",
              "3052                                                  0   \n",
              "3173                                 ADHD-Combined Type   \n",
              "3256                                 ADHD-Combined Type   \n",
              "3312                                                  0   \n",
              "3336  Generalized Anxiety Disorder. Conduct Disorder...   \n",
              "3425                                 ADHD-Combined Type   \n",
              "3445  ADHD-Combined Type. Oppositional Defiant Disor...   \n",
              "3551  Autism Spectrum Disorder. Major Depressive Dis...   \n",
              "3572  Persistent (Chronic) Motor or Vocal Tic Disord...   \n",
              "3962                                 ADHD-Combined Type   \n",
              "4087  Autism Spectrum Disorder. ADHD-Inattentive Type.    \n",
              "4092                                                  0   \n",
              "4191  Generalized Anxiety Disorder. Intermittent Exp...   \n",
              "4263  Generalized Anxiety Disorder. ADHD-Inattentive...   \n",
              "4398  Major Depressive Disorder. Persistent Depressi...   \n",
              "4405                       Generalized Anxiety Disorder   \n",
              "4483  Autism Spectrum Disorder. ADHD-Inattentive Type.    \n",
              "4490  ADHD-Combined Type. Oppositional Defiant Disor...   \n",
              "4590                               ADHD-Combined Type.    \n",
              "4593  ADHD-Inattentive Type. Other Specified Depress...   \n",
              "4610  ADHD-Inattentive Type. Other Specified Anxiety...   \n",
              "4674  ADHD-Combined Type. Separation Anxiety. Other ...   \n",
              "\n",
              "                                  DD  \\\n",
              "1                                  0   \n",
              "3                                  0   \n",
              "102                                0   \n",
              "169                                0   \n",
              "254                                0   \n",
              "292                                0   \n",
              "469                                0   \n",
              "504                                0   \n",
              "569                                0   \n",
              "638                                0   \n",
              "768                                0   \n",
              "807                                0   \n",
              "913                          Writing   \n",
              "934                          Reading   \n",
              "1019                               0   \n",
              "1022                               0   \n",
              "1265                               0   \n",
              "1377                               0   \n",
              "1466                         Reading   \n",
              "1495                               0   \n",
              "1669                               0   \n",
              "1771  Reading and Written Expression   \n",
              "1858                               0   \n",
              "1901                               0   \n",
              "1918                         Reading   \n",
              "1924                               0   \n",
              "1940                               0   \n",
              "1951                               0   \n",
              "1991                               0   \n",
              "2056                               0   \n",
              "2198                Reading and Math   \n",
              "2687                               0   \n",
              "2697                               0   \n",
              "2760                               0   \n",
              "2779                               0   \n",
              "2794  Reading and Written Expression   \n",
              "2967                               0   \n",
              "3052                               0   \n",
              "3173                               0   \n",
              "3256                               0   \n",
              "3312                               0   \n",
              "3336                               0   \n",
              "3425                               0   \n",
              "3445                               0   \n",
              "3551                               0   \n",
              "3572                               0   \n",
              "3962                               0   \n",
              "4087                               0   \n",
              "4092                               0   \n",
              "4191                               0   \n",
              "4263                               0   \n",
              "4398                               0   \n",
              "4405                               0   \n",
              "4483                               0   \n",
              "4490                               0   \n",
              "4590                         Reading   \n",
              "4593                               0   \n",
              "4610                               0   \n",
              "4674                               0   \n",
              "\n",
              "                                            Medicine  \n",
              "1                                      Zyrteck QVAR   \n",
              "3                                               Qvar  \n",
              "102                                           Zoloft  \n",
              "169                                           Zoloft  \n",
              "254                               Depakote Lamictal   \n",
              "292                                  Methylphenidate  \n",
              "469                                 Focalin Focalin   \n",
              "504                                     amoxicillian  \n",
              "569                                Qvar Olopatadine   \n",
              "638                                          Focalin  \n",
              "768      Abilify Focalin XR Sertraline (last night)   \n",
              "807                                          Gildess  \n",
              "913                                          Focalin  \n",
              "934                             vyvanse propranolol   \n",
              "1019                                       Strattera  \n",
              "1022                        Concerta Abilify BusPar   \n",
              "1265                                      Fluoxetine  \n",
              "1377                             Fluoxetine Vyvanse   \n",
              "1466                        abilify trihexyphenidyl   \n",
              "1495                           Budesonide Albuterol   \n",
              "1669                                Prozac Estrogen   \n",
              "1771                                diphacalydramine  \n",
              "1858                                    Folcaline XR  \n",
              "1901                                 conerta zyrtec   \n",
              "1918                                        Concerta  \n",
              "1924                                          Prozac  \n",
              "1940                                       Dramamine  \n",
              "1951                                       Detrol LA  \n",
              "1991                                        Claritin  \n",
              "2056                        Prozac Atarax Trileptal   \n",
              "2198                        Celexa Focalin Singular   \n",
              "2687                       Methylphenidate Intuitiv   \n",
              "2697                                   Tenex Geodon   \n",
              "2760                               concerta zyrteck   \n",
              "2779                                      Ibuprofen   \n",
              "2794  Guanfacine Robitussin Multivitamin, probiotic   \n",
              "2967                                           Tenex  \n",
              "3052                                        Singular  \n",
              "3173                                     Antiobiotic  \n",
              "3256            Antacid (Pepcid) Vitamin Loratadine   \n",
              "3312                                       Singulair  \n",
              "3336                   Topomax Wellbutrin Synthroid   \n",
              "3425                          Robitussin Robitussin   \n",
              "3445                                       Albuterol  \n",
              "3551                             Fluoxetine (Prozac)  \n",
              "3572                                          Zyrtec  \n",
              "3962                               Allegra Flonase    \n",
              "4087                            Vyvanse Risperidone   \n",
              "4092                                 Vitamin D Drops  \n",
              "4191                               Abilify Depakote   \n",
              "4263                                        dimetapp  \n",
              "4398                               Trileptal Buspar   \n",
              "4405                                         Zyrtec   \n",
              "4483                                          prozac  \n",
              "4490                                         Focalin  \n",
              "4590                                         Focalin  \n",
              "4593                                 cefdinir faxil   \n",
              "4610                                            Iron  \n",
              "4674                                       Benadryl   "
            ],
            "text/html": [
              "\n",
              "  <div id=\"df-a29f19e7-6992-45d1-ba3d-b999e0182d55\">\n",
              "    <div class=\"colab-df-container\">\n",
              "      <div>\n",
              "<style scoped>\n",
              "    .dataframe tbody tr th:only-of-type {\n",
              "        vertical-align: middle;\n",
              "    }\n",
              "\n",
              "    .dataframe tbody tr th {\n",
              "        vertical-align: top;\n",
              "    }\n",
              "\n",
              "    .dataframe thead th {\n",
              "        text-align: right;\n",
              "    }\n",
              "</style>\n",
              "<table border=\"1\" class=\"dataframe\">\n",
              "  <thead>\n",
              "    <tr style=\"text-align: right;\">\n",
              "      <th></th>\n",
              "      <th>Diagnosis</th>\n",
              "      <th>DD</th>\n",
              "      <th>Medicine</th>\n",
              "    </tr>\n",
              "  </thead>\n",
              "  <tbody>\n",
              "    <tr>\n",
              "      <th>1</th>\n",
              "      <td>0</td>\n",
              "      <td>0</td>\n",
              "      <td>Zyrteck QVAR</td>\n",
              "    </tr>\n",
              "    <tr>\n",
              "      <th>3</th>\n",
              "      <td>ADHD-Combined Type. Oppositional Defiant Disor...</td>\n",
              "      <td>0</td>\n",
              "      <td>Qvar</td>\n",
              "    </tr>\n",
              "    <tr>\n",
              "      <th>102</th>\n",
              "      <td>Specific Phobia. Generalized Anxiety Disorder....</td>\n",
              "      <td>0</td>\n",
              "      <td>Zoloft</td>\n",
              "    </tr>\n",
              "    <tr>\n",
              "      <th>169</th>\n",
              "      <td>Generalized Anxiety Disorder. Major Depressive...</td>\n",
              "      <td>0</td>\n",
              "      <td>Zoloft</td>\n",
              "    </tr>\n",
              "    <tr>\n",
              "      <th>254</th>\n",
              "      <td>Bipolar I Disorder</td>\n",
              "      <td>0</td>\n",
              "      <td>Depakote Lamictal</td>\n",
              "    </tr>\n",
              "    <tr>\n",
              "      <th>292</th>\n",
              "      <td>ADHD-Hyperactive/Impulsive Type. Oppositional ...</td>\n",
              "      <td>0</td>\n",
              "      <td>Methylphenidate</td>\n",
              "    </tr>\n",
              "    <tr>\n",
              "      <th>469</th>\n",
              "      <td>ADHD-Combined Type. Other Specified Anxiety Di...</td>\n",
              "      <td>0</td>\n",
              "      <td>Focalin Focalin</td>\n",
              "    </tr>\n",
              "    <tr>\n",
              "      <th>504</th>\n",
              "      <td>ADHD-Combined Type. Oppositional Defiant Disor...</td>\n",
              "      <td>0</td>\n",
              "      <td>amoxicillian</td>\n",
              "    </tr>\n",
              "    <tr>\n",
              "      <th>569</th>\n",
              "      <td>0</td>\n",
              "      <td>0</td>\n",
              "      <td>Qvar Olopatadine</td>\n",
              "    </tr>\n",
              "    <tr>\n",
              "      <th>638</th>\n",
              "      <td>Autism Spectrum Disorder. ADHD-Inattentive Typ...</td>\n",
              "      <td>0</td>\n",
              "      <td>Focalin</td>\n",
              "    </tr>\n",
              "    <tr>\n",
              "      <th>768</th>\n",
              "      <td>ADHD-Combined Type. Autism Spectrum Disorder.</td>\n",
              "      <td>0</td>\n",
              "      <td>Abilify Focalin XR Sertraline (last night)</td>\n",
              "    </tr>\n",
              "    <tr>\n",
              "      <th>807</th>\n",
              "      <td>ADHD-Combined Type. Generalized Anxiety Disord...</td>\n",
              "      <td>0</td>\n",
              "      <td>Gildess</td>\n",
              "    </tr>\n",
              "    <tr>\n",
              "      <th>913</th>\n",
              "      <td>Autism Spectrum Disorder. ADHD-Combined Type.</td>\n",
              "      <td>Writing</td>\n",
              "      <td>Focalin</td>\n",
              "    </tr>\n",
              "    <tr>\n",
              "      <th>934</th>\n",
              "      <td>Generalized Anxiety Disorder. ADHD-Combined Ty...</td>\n",
              "      <td>Reading</td>\n",
              "      <td>vyvanse propranolol</td>\n",
              "    </tr>\n",
              "    <tr>\n",
              "      <th>1019</th>\n",
              "      <td>ADHD-Combined Type</td>\n",
              "      <td>0</td>\n",
              "      <td>Strattera</td>\n",
              "    </tr>\n",
              "    <tr>\n",
              "      <th>1022</th>\n",
              "      <td>Intellectual Disability-Moderate. ADHD-Combine...</td>\n",
              "      <td>0</td>\n",
              "      <td>Concerta Abilify BusPar</td>\n",
              "    </tr>\n",
              "    <tr>\n",
              "      <th>1265</th>\n",
              "      <td>ADHD-Combined Type. Generalized Anxiety Disord...</td>\n",
              "      <td>0</td>\n",
              "      <td>Fluoxetine</td>\n",
              "    </tr>\n",
              "    <tr>\n",
              "      <th>1377</th>\n",
              "      <td>ADHD-Combined Type. Other Specified Anxiety Di...</td>\n",
              "      <td>0</td>\n",
              "      <td>Fluoxetine Vyvanse</td>\n",
              "    </tr>\n",
              "    <tr>\n",
              "      <th>1466</th>\n",
              "      <td>Autism Spectrum Disorder. Persistent Depressiv...</td>\n",
              "      <td>Reading</td>\n",
              "      <td>abilify trihexyphenidyl</td>\n",
              "    </tr>\n",
              "    <tr>\n",
              "      <th>1495</th>\n",
              "      <td>Other Specified Attention-Deficit/Hyperactivit...</td>\n",
              "      <td>0</td>\n",
              "      <td>Budesonide Albuterol</td>\n",
              "    </tr>\n",
              "    <tr>\n",
              "      <th>1669</th>\n",
              "      <td>Major Depressive Disorder. Conduct Disorder-Ch...</td>\n",
              "      <td>0</td>\n",
              "      <td>Prozac Estrogen</td>\n",
              "    </tr>\n",
              "    <tr>\n",
              "      <th>1771</th>\n",
              "      <td>Speech Sound Disorder.</td>\n",
              "      <td>Reading and Written Expression</td>\n",
              "      <td>diphacalydramine</td>\n",
              "    </tr>\n",
              "    <tr>\n",
              "      <th>1858</th>\n",
              "      <td>ADHD-Combined Type. Autism Spectrum Disorder.</td>\n",
              "      <td>0</td>\n",
              "      <td>Folcaline XR</td>\n",
              "    </tr>\n",
              "    <tr>\n",
              "      <th>1901</th>\n",
              "      <td>ADHD-Combined Type. Autism Spectrum Disorder.</td>\n",
              "      <td>0</td>\n",
              "      <td>conerta zyrtec</td>\n",
              "    </tr>\n",
              "    <tr>\n",
              "      <th>1918</th>\n",
              "      <td>ADHD-Combined Type. Language Disorder. Intelle...</td>\n",
              "      <td>Reading</td>\n",
              "      <td>Concerta</td>\n",
              "    </tr>\n",
              "    <tr>\n",
              "      <th>1924</th>\n",
              "      <td>Major Depressive Disorder</td>\n",
              "      <td>0</td>\n",
              "      <td>Prozac</td>\n",
              "    </tr>\n",
              "    <tr>\n",
              "      <th>1940</th>\n",
              "      <td>ADHD-Combined Type</td>\n",
              "      <td>0</td>\n",
              "      <td>Dramamine</td>\n",
              "    </tr>\n",
              "    <tr>\n",
              "      <th>1951</th>\n",
              "      <td>ADHD-Combined Type. Oppositional Defiant Disor...</td>\n",
              "      <td>0</td>\n",
              "      <td>Detrol LA</td>\n",
              "    </tr>\n",
              "    <tr>\n",
              "      <th>1991</th>\n",
              "      <td>0</td>\n",
              "      <td>0</td>\n",
              "      <td>Claritin</td>\n",
              "    </tr>\n",
              "    <tr>\n",
              "      <th>2056</th>\n",
              "      <td>Specific Phobia. Separation Anxiety.</td>\n",
              "      <td>0</td>\n",
              "      <td>Prozac Atarax Trileptal</td>\n",
              "    </tr>\n",
              "    <tr>\n",
              "      <th>2198</th>\n",
              "      <td>ADHD-Combined Type. Autism Spectrum Disorder. ...</td>\n",
              "      <td>Reading and Math</td>\n",
              "      <td>Celexa Focalin Singular</td>\n",
              "    </tr>\n",
              "    <tr>\n",
              "      <th>2687</th>\n",
              "      <td>Autism Spectrum Disorder. ADHD-Inattentive Typ...</td>\n",
              "      <td>0</td>\n",
              "      <td>Methylphenidate Intuitiv</td>\n",
              "    </tr>\n",
              "    <tr>\n",
              "      <th>2697</th>\n",
              "      <td>ADHD-Combined Type. Autism Spectrum Disorder. ...</td>\n",
              "      <td>0</td>\n",
              "      <td>Tenex Geodon</td>\n",
              "    </tr>\n",
              "    <tr>\n",
              "      <th>2760</th>\n",
              "      <td>Oppositional Defiant Disorder. ADHD-Combined T...</td>\n",
              "      <td>0</td>\n",
              "      <td>concerta zyrteck</td>\n",
              "    </tr>\n",
              "    <tr>\n",
              "      <th>2779</th>\n",
              "      <td>Other Specified Anxiety Disorder. Speech Sound...</td>\n",
              "      <td>0</td>\n",
              "      <td>Ibuprofen</td>\n",
              "    </tr>\n",
              "    <tr>\n",
              "      <th>2794</th>\n",
              "      <td>ADHD-Inattentive Type. Enuresis.</td>\n",
              "      <td>Reading and Written Expression</td>\n",
              "      <td>Guanfacine Robitussin Multivitamin, probiotic</td>\n",
              "    </tr>\n",
              "    <tr>\n",
              "      <th>2967</th>\n",
              "      <td>ADHD-Hyperactive/Impulsive Type. Oppositional ...</td>\n",
              "      <td>0</td>\n",
              "      <td>Tenex</td>\n",
              "    </tr>\n",
              "    <tr>\n",
              "      <th>3052</th>\n",
              "      <td>0</td>\n",
              "      <td>0</td>\n",
              "      <td>Singular</td>\n",
              "    </tr>\n",
              "    <tr>\n",
              "      <th>3173</th>\n",
              "      <td>ADHD-Combined Type</td>\n",
              "      <td>0</td>\n",
              "      <td>Antiobiotic</td>\n",
              "    </tr>\n",
              "    <tr>\n",
              "      <th>3256</th>\n",
              "      <td>ADHD-Combined Type</td>\n",
              "      <td>0</td>\n",
              "      <td>Antacid (Pepcid) Vitamin Loratadine</td>\n",
              "    </tr>\n",
              "    <tr>\n",
              "      <th>3312</th>\n",
              "      <td>0</td>\n",
              "      <td>0</td>\n",
              "      <td>Singulair</td>\n",
              "    </tr>\n",
              "    <tr>\n",
              "      <th>3336</th>\n",
              "      <td>Generalized Anxiety Disorder. Conduct Disorder...</td>\n",
              "      <td>0</td>\n",
              "      <td>Topomax Wellbutrin Synthroid</td>\n",
              "    </tr>\n",
              "    <tr>\n",
              "      <th>3425</th>\n",
              "      <td>ADHD-Combined Type</td>\n",
              "      <td>0</td>\n",
              "      <td>Robitussin Robitussin</td>\n",
              "    </tr>\n",
              "    <tr>\n",
              "      <th>3445</th>\n",
              "      <td>ADHD-Combined Type. Oppositional Defiant Disor...</td>\n",
              "      <td>0</td>\n",
              "      <td>Albuterol</td>\n",
              "    </tr>\n",
              "    <tr>\n",
              "      <th>3551</th>\n",
              "      <td>Autism Spectrum Disorder. Major Depressive Dis...</td>\n",
              "      <td>0</td>\n",
              "      <td>Fluoxetine (Prozac)</td>\n",
              "    </tr>\n",
              "    <tr>\n",
              "      <th>3572</th>\n",
              "      <td>Persistent (Chronic) Motor or Vocal Tic Disord...</td>\n",
              "      <td>0</td>\n",
              "      <td>Zyrtec</td>\n",
              "    </tr>\n",
              "    <tr>\n",
              "      <th>3962</th>\n",
              "      <td>ADHD-Combined Type</td>\n",
              "      <td>0</td>\n",
              "      <td>Allegra Flonase</td>\n",
              "    </tr>\n",
              "    <tr>\n",
              "      <th>4087</th>\n",
              "      <td>Autism Spectrum Disorder. ADHD-Inattentive Type.</td>\n",
              "      <td>0</td>\n",
              "      <td>Vyvanse Risperidone</td>\n",
              "    </tr>\n",
              "    <tr>\n",
              "      <th>4092</th>\n",
              "      <td>0</td>\n",
              "      <td>0</td>\n",
              "      <td>Vitamin D Drops</td>\n",
              "    </tr>\n",
              "    <tr>\n",
              "      <th>4191</th>\n",
              "      <td>Generalized Anxiety Disorder. Intermittent Exp...</td>\n",
              "      <td>0</td>\n",
              "      <td>Abilify Depakote</td>\n",
              "    </tr>\n",
              "    <tr>\n",
              "      <th>4263</th>\n",
              "      <td>Generalized Anxiety Disorder. ADHD-Inattentive...</td>\n",
              "      <td>0</td>\n",
              "      <td>dimetapp</td>\n",
              "    </tr>\n",
              "    <tr>\n",
              "      <th>4398</th>\n",
              "      <td>Major Depressive Disorder. Persistent Depressi...</td>\n",
              "      <td>0</td>\n",
              "      <td>Trileptal Buspar</td>\n",
              "    </tr>\n",
              "    <tr>\n",
              "      <th>4405</th>\n",
              "      <td>Generalized Anxiety Disorder</td>\n",
              "      <td>0</td>\n",
              "      <td>Zyrtec</td>\n",
              "    </tr>\n",
              "    <tr>\n",
              "      <th>4483</th>\n",
              "      <td>Autism Spectrum Disorder. ADHD-Inattentive Type.</td>\n",
              "      <td>0</td>\n",
              "      <td>prozac</td>\n",
              "    </tr>\n",
              "    <tr>\n",
              "      <th>4490</th>\n",
              "      <td>ADHD-Combined Type. Oppositional Defiant Disor...</td>\n",
              "      <td>0</td>\n",
              "      <td>Focalin</td>\n",
              "    </tr>\n",
              "    <tr>\n",
              "      <th>4590</th>\n",
              "      <td>ADHD-Combined Type.</td>\n",
              "      <td>Reading</td>\n",
              "      <td>Focalin</td>\n",
              "    </tr>\n",
              "    <tr>\n",
              "      <th>4593</th>\n",
              "      <td>ADHD-Inattentive Type. Other Specified Depress...</td>\n",
              "      <td>0</td>\n",
              "      <td>cefdinir faxil</td>\n",
              "    </tr>\n",
              "    <tr>\n",
              "      <th>4610</th>\n",
              "      <td>ADHD-Inattentive Type. Other Specified Anxiety...</td>\n",
              "      <td>0</td>\n",
              "      <td>Iron</td>\n",
              "    </tr>\n",
              "    <tr>\n",
              "      <th>4674</th>\n",
              "      <td>ADHD-Combined Type. Separation Anxiety. Other ...</td>\n",
              "      <td>0</td>\n",
              "      <td>Benadryl</td>\n",
              "    </tr>\n",
              "  </tbody>\n",
              "</table>\n",
              "</div>\n",
              "      <button class=\"colab-df-convert\" onclick=\"convertToInteractive('df-a29f19e7-6992-45d1-ba3d-b999e0182d55')\"\n",
              "              title=\"Convert this dataframe to an interactive table.\"\n",
              "              style=\"display:none;\">\n",
              "        \n",
              "  <svg xmlns=\"http://www.w3.org/2000/svg\" height=\"24px\"viewBox=\"0 0 24 24\"\n",
              "       width=\"24px\">\n",
              "    <path d=\"M0 0h24v24H0V0z\" fill=\"none\"/>\n",
              "    <path d=\"M18.56 5.44l.94 2.06.94-2.06 2.06-.94-2.06-.94-.94-2.06-.94 2.06-2.06.94zm-11 1L8.5 8.5l.94-2.06 2.06-.94-2.06-.94L8.5 2.5l-.94 2.06-2.06.94zm10 10l.94 2.06.94-2.06 2.06-.94-2.06-.94-.94-2.06-.94 2.06-2.06.94z\"/><path d=\"M17.41 7.96l-1.37-1.37c-.4-.4-.92-.59-1.43-.59-.52 0-1.04.2-1.43.59L10.3 9.45l-7.72 7.72c-.78.78-.78 2.05 0 2.83L4 21.41c.39.39.9.59 1.41.59.51 0 1.02-.2 1.41-.59l7.78-7.78 2.81-2.81c.8-.78.8-2.07 0-2.86zM5.41 20L4 18.59l7.72-7.72 1.47 1.35L5.41 20z\"/>\n",
              "  </svg>\n",
              "      </button>\n",
              "      \n",
              "  <style>\n",
              "    .colab-df-container {\n",
              "      display:flex;\n",
              "      flex-wrap:wrap;\n",
              "      gap: 12px;\n",
              "    }\n",
              "\n",
              "    .colab-df-convert {\n",
              "      background-color: #E8F0FE;\n",
              "      border: none;\n",
              "      border-radius: 50%;\n",
              "      cursor: pointer;\n",
              "      display: none;\n",
              "      fill: #1967D2;\n",
              "      height: 32px;\n",
              "      padding: 0 0 0 0;\n",
              "      width: 32px;\n",
              "    }\n",
              "\n",
              "    .colab-df-convert:hover {\n",
              "      background-color: #E2EBFA;\n",
              "      box-shadow: 0px 1px 2px rgba(60, 64, 67, 0.3), 0px 1px 3px 1px rgba(60, 64, 67, 0.15);\n",
              "      fill: #174EA6;\n",
              "    }\n",
              "\n",
              "    [theme=dark] .colab-df-convert {\n",
              "      background-color: #3B4455;\n",
              "      fill: #D2E3FC;\n",
              "    }\n",
              "\n",
              "    [theme=dark] .colab-df-convert:hover {\n",
              "      background-color: #434B5C;\n",
              "      box-shadow: 0px 1px 3px 1px rgba(0, 0, 0, 0.15);\n",
              "      filter: drop-shadow(0px 1px 2px rgba(0, 0, 0, 0.3));\n",
              "      fill: #FFFFFF;\n",
              "    }\n",
              "  </style>\n",
              "\n",
              "      <script>\n",
              "        const buttonEl =\n",
              "          document.querySelector('#df-a29f19e7-6992-45d1-ba3d-b999e0182d55 button.colab-df-convert');\n",
              "        buttonEl.style.display =\n",
              "          google.colab.kernel.accessAllowed ? 'block' : 'none';\n",
              "\n",
              "        async function convertToInteractive(key) {\n",
              "          const element = document.querySelector('#df-a29f19e7-6992-45d1-ba3d-b999e0182d55');\n",
              "          const dataTable =\n",
              "            await google.colab.kernel.invokeFunction('convertToInteractive',\n",
              "                                                     [key], {});\n",
              "          if (!dataTable) return;\n",
              "\n",
              "          const docLinkHtml = 'Like what you see? Visit the ' +\n",
              "            '<a target=\"_blank\" href=https://colab.research.google.com/notebooks/data_table.ipynb>data table notebook</a>'\n",
              "            + ' to learn more about interactive tables.';\n",
              "          element.innerHTML = '';\n",
              "          dataTable['output_type'] = 'display_data';\n",
              "          await google.colab.output.renderOutput(dataTable, element);\n",
              "          const docLink = document.createElement('div');\n",
              "          docLink.innerHTML = docLinkHtml;\n",
              "          element.appendChild(docLink);\n",
              "        }\n",
              "      </script>\n",
              "    </div>\n",
              "  </div>\n",
              "  "
            ]
          },
          "metadata": {},
          "execution_count": 41
        }
      ]
    },
    {
      "cell_type": "code",
      "source": [
        "for i in range(1,4):\n",
        "  name_med = 'DailyMeds,med_name_0' + str(i)\n",
        "  name_dose = 'DailyMeds,med_dose_0' + str(i)\n",
        "  data_pheno.drop([name_med], axis=1, inplace=True)\n",
        "  data_pheno.drop([name_dose], axis=1, inplace=True)"
      ],
      "metadata": {
        "id": "LJGsKx-JTm2h"
      },
      "execution_count": null,
      "outputs": []
    },
    {
      "cell_type": "code",
      "source": [
        "iq = data_pheno['WISC,WISC_FSIQ'].values\n",
        "new_iq = []\n",
        "for i in iq:\n",
        "  if i == '.':\n",
        "    new_iq.append('unknown')\n",
        "  elif type(i) == float:\n",
        "    new_iq.append('unknown')\n",
        "  elif i.isnumeric():\n",
        "    new_iq.append(int(i))\n",
        "  else:\n",
        "    print(i)\n",
        "    break"
      ],
      "metadata": {
        "id": "qeUB0KnpQWXa"
      },
      "execution_count": null,
      "outputs": []
    },
    {
      "cell_type": "code",
      "source": [
        "data_pheno['WISC,WISC_FSIQ'] = new_iq"
      ],
      "metadata": {
        "id": "7gChdcwaRicp"
      },
      "execution_count": null,
      "outputs": []
    },
    {
      "cell_type": "markdown",
      "source": [
        "## Exclusion"
      ],
      "metadata": {
        "id": "SKLY8kv0GHLO"
      }
    },
    {
      "cell_type": "code",
      "source": [
        "data_filtered = data_pheno.copy()"
      ],
      "metadata": {
        "id": "BDavNtBpXy1W"
      },
      "execution_count": null,
      "outputs": []
    },
    {
      "cell_type": "code",
      "source": [
        "# deleting incomplete clinical assessments\n",
        "data_filtered = data_filtered[data_filtered['DD'] != 'Incomplete']"
      ],
      "metadata": {
        "id": "XsOi4JHeXbrY"
      },
      "execution_count": null,
      "outputs": []
    },
    {
      "cell_type": "code",
      "source": [
        "# leaving only right-handed\n",
        "data_filtered = data_filtered[data_filtered['EHQ,EHQ_Total'] != '.']\n",
        "data_filtered['EHQ,EHQ_Total'] = data_filtered['EHQ,EHQ_Total'].astype(float)\n",
        "data_filtered = data_filtered[data_filtered['EHQ,EHQ_Total'] >= 40]"
      ],
      "metadata": {
        "id": "_tWi-3-jWxRg"
      },
      "execution_count": null,
      "outputs": []
    },
    {
      "cell_type": "code",
      "source": [
        "# without Math, Writing, Math+Writing\n",
        "data_filtered = data_filtered[data_filtered['DD'] != 'Math']\n",
        "data_filtered = data_filtered[data_filtered['DD'] != 'Writing']\n",
        "data_filtered = data_filtered[data_filtered['DD'] != 'Math and Written Expression']"
      ],
      "metadata": {
        "id": "i745Bkh9Ge7i"
      },
      "execution_count": null,
      "outputs": []
    },
    {
      "cell_type": "code",
      "source": [
        "dd = data_filtered['DD'].values\n",
        "diag = data_filtered['Diagnosis'].values\n",
        "status = []\n",
        "for i in range(0, data_filtered.shape[0]):\n",
        "  if dd[i] == 0 and diag[i] == 0:\n",
        "    status.append(0)\n",
        "  elif dd[i] != 0 and diag[i] == 0:\n",
        "    status.append(1)\n",
        "  elif dd[i] == 0 and diag[i] != 0:\n",
        "    status.append(2)\n",
        "  else:\n",
        "    status.append(1)"
      ],
      "metadata": {
        "id": "cXSIYs8mr2s_"
      },
      "execution_count": null,
      "outputs": []
    },
    {
      "cell_type": "code",
      "source": [
        "data_filtered['Status'] = status"
      ],
      "metadata": {
        "id": "vNStc2OGrzLn"
      },
      "execution_count": null,
      "outputs": []
    },
    {
      "cell_type": "code",
      "source": [
        "# without people who have other disorder than DD but no DD\n",
        "data_filtered = data_filtered[data_filtered['Status'] != 2]"
      ],
      "metadata": {
        "id": "OV_vdutIrACx"
      },
      "execution_count": null,
      "outputs": []
    },
    {
      "cell_type": "code",
      "source": [
        "# excluding people older than 18\n",
        "data_filtered = data_filtered[data_filtered['Basic_Demos,Age'] <= 18]"
      ],
      "metadata": {
        "id": "lF2nBql73xcc"
      },
      "execution_count": null,
      "outputs": []
    },
    {
      "cell_type": "code",
      "source": [
        "diag = data_filtered['Diagnosis'].values"
      ],
      "metadata": {
        "id": "PEfqRgZLt517"
      },
      "execution_count": null,
      "outputs": []
    },
    {
      "cell_type": "code",
      "source": [
        "new_d = []\n",
        "for i in diag:\n",
        "  if i == 0 or i == '' or i == ' ':\n",
        "    new_d.append(0)\n",
        "  elif type(i) == str:\n",
        "    i = i[:-2]\n",
        "    if 'Autism' in i:\n",
        "      new_d.append('Autism')\n",
        "    elif 'Borderline Intellectual Functioning' in i:\n",
        "      new_d.append('Intellectual')\n",
        "    else:\n",
        "      new_d.append(i)\n",
        "  else:\n",
        "    print(i)\n",
        "    break"
      ],
      "metadata": {
        "id": "BhYk7qg4uULK"
      },
      "execution_count": null,
      "outputs": []
    },
    {
      "cell_type": "code",
      "source": [
        "data_filtered['Diagnosis'] = new_d"
      ],
      "metadata": {
        "id": "UqejkjmrvKcx"
      },
      "execution_count": null,
      "outputs": []
    },
    {
      "cell_type": "code",
      "source": [
        "# excluding autism and intellectual disorder\n",
        "data_filtered = data_filtered[data_filtered['Diagnosis'] != 'Autism']\n",
        "data_filtered = data_filtered[data_filtered['Diagnosis'] != 'Intellectual']"
      ],
      "metadata": {
        "id": "RzZd0wwVvTix"
      },
      "execution_count": null,
      "outputs": []
    },
    {
      "cell_type": "code",
      "source": [
        "#excluding people who takes medicine\n",
        "data_filtered = data_filtered[data_filtered['Medicine'] == 0]"
      ],
      "metadata": {
        "id": "iO7S4qbNwoUs"
      },
      "execution_count": null,
      "outputs": []
    },
    {
      "cell_type": "markdown",
      "source": [
        "Standardizing the IQ scores and Excluding people with the IQ scores less than 70. The main test is WISC. All others are additional. "
      ],
      "metadata": {
        "id": "qssmlJVdWbYG"
      }
    },
    {
      "cell_type": "code",
      "source": [
        "# substituting rare nan values with '.' for the standardisation of missing values\n",
        "data_filtered['KBIT,KBIT_IQ_Comp'] = data_filtered['KBIT,KBIT_IQ_Comp'].fillna('.')\n",
        "data_filtered['WASI,WASI_FSIQ'] = data_filtered['WASI,WASI_FSIQ'].fillna('.')\n",
        "data_filtered['WAIS,WAIS_FSIQ_SCALE'] = data_filtered['WAIS,WAIS_FSIQ_SCALE'].fillna('.')"
      ],
      "metadata": {
        "id": "GE-mrHMjgzsG"
      },
      "execution_count": null,
      "outputs": []
    },
    {
      "cell_type": "code",
      "source": [
        "reference_test = []\n",
        "iq_value = []\n",
        "wisc = data_filtered['WISC,WISC_FSIQ'].values\n",
        "kbit = data_filtered['KBIT,KBIT_IQ_Comp'].values\n",
        "wasi = data_filtered['WASI,WASI_FSIQ'].values\n",
        "wais = data_filtered['WAIS,WAIS_FSIQ_SCALE'].values\n",
        "age = data_filtered['Basic_Demos,Age'].values\n",
        "\n",
        "for i in range(0, data_filtered.shape[0]):\n",
        "  # if there are no iq results\n",
        "  if wisc[i] == 'unknown' and kbit[i] == '.' and wais[i] == '.' and wasi[i] == '.':\n",
        "    iq_value.append('none')\n",
        "    reference_test.append('none')\n",
        "  # if we have wisc\n",
        "  elif wisc[i] != 'unknown':\n",
        "    if kbit[i] == '.':\n",
        "      iq_value.append(int(wisc[i]))\n",
        "      reference_test.append('wisc')\n",
        "    # if we also have kbit\n",
        "    else:\n",
        "      if age[i] < 6:\n",
        "        iq_value.append(int(kbit[i]))\n",
        "        reference_test.append('kbit')\n",
        "      else:\n",
        "        iq_value.append(int(wisc[i]))\n",
        "        reference_test.append('wisc')\n",
        "  # if we don't have wisc\n",
        "  else:\n",
        "    if kbit[i] != '.' and wasi[i] != '.':\n",
        "      if int(wasi[i]) > 70:\n",
        "        iq_value.append(int(wasi[i]))\n",
        "        reference_test.append('wasi')\n",
        "      else:\n",
        "        iq_value.append(int(kbit[i]))\n",
        "        reference_test.append('kbit')\n",
        "    elif kbit[i] != '.':\n",
        "      iq_value.append(int(kbit[i]))\n",
        "      reference_test.append('kbit')\n",
        "    elif wasi[i] != '.':\n",
        "      iq_value.append(int(wasi[i]))\n",
        "      reference_test.append('wasi')\n",
        "    elif wais[i] != '.':\n",
        "      iq_value.append(int(wais[i]))\n",
        "      reference_test.append('wais')"
      ],
      "metadata": {
        "id": "ISliL9sLYeWG"
      },
      "execution_count": null,
      "outputs": []
    },
    {
      "cell_type": "code",
      "source": [
        "data_filtered['IQ'] = iq_value\n",
        "data_filtered['Test'] = reference_test "
      ],
      "metadata": {
        "id": "4UJUqyl0pj5d"
      },
      "execution_count": null,
      "outputs": []
    },
    {
      "cell_type": "code",
      "source": [
        "# deleting people with no iq\n",
        "data_filtered = data_filtered[data_filtered['IQ'] != 'none']"
      ],
      "metadata": {
        "id": "TbJrfkf6REXe"
      },
      "execution_count": null,
      "outputs": []
    },
    {
      "cell_type": "code",
      "source": [
        "# deleting people with iq < 70\n",
        "data_filtered = data_filtered[data_filtered['IQ'] >= 70]"
      ],
      "metadata": {
        "id": "7BjXOm-WQDpH"
      },
      "execution_count": null,
      "outputs": []
    },
    {
      "cell_type": "code",
      "source": [
        "# checking whether someone has an alcohol abuse according to AUDIT test. Score 8 hazardous drinking\n",
        "# only one persone has a score of 11\n",
        "data_filtered.groupby(['Audit,AUDIT_Total_Score'])['Identifiers'].count()"
      ],
      "metadata": {
        "id": "stpPTFUg9Jnr",
        "outputId": "5b61b792-0d7c-4119-fd4a-8f98a863ec20",
        "colab": {
          "base_uri": "https://localhost:8080/"
        }
      },
      "execution_count": null,
      "outputs": [
        {
          "output_type": "execute_result",
          "data": {
            "text/plain": [
              "Audit,AUDIT_Total_Score\n",
              ".     426\n",
              "0     189\n",
              "1      10\n",
              "11      1\n",
              "2       3\n",
              "4       2\n",
              "5       1\n",
              "9       1\n",
              "Name: Identifiers, dtype: int64"
            ]
          },
          "metadata": {},
          "execution_count": 63
        }
      ]
    },
    {
      "cell_type": "code",
      "source": [
        "# checking how many people would miss baratt results\n",
        "data_filtered.groupby(['Barratt,Barratt_Total'])['Identifiers'].count()"
      ],
      "metadata": {
        "id": "eftW8Z2u-9d8",
        "outputId": "d82f5783-acf2-4434-997e-4e3bea34b48c",
        "colab": {
          "base_uri": "https://localhost:8080/"
        }
      },
      "execution_count": null,
      "outputs": [
        {
          "output_type": "execute_result",
          "data": {
            "text/plain": [
              "Barratt,Barratt_Total\n",
              ".        8\n",
              "10.5     1\n",
              "12       2\n",
              "14       2\n",
              "14.5     1\n",
              "        ..\n",
              "63      23\n",
              "63.5     9\n",
              "64.5    34\n",
              "66      50\n",
              "9        1\n",
              "Name: Identifiers, Length: 92, dtype: int64"
            ]
          },
          "metadata": {},
          "execution_count": 64
        }
      ]
    },
    {
      "cell_type": "code",
      "source": [
        "# 18 DD cases missing the information on CTOPP test\n",
        "data_filtered[(data_filtered['CTOPP,CTOPP_BW_D'] == '.') & (data_filtered['DD'] != 0)].shape"
      ],
      "metadata": {
        "id": "-xy2ZJCm_nQy",
        "outputId": "c1b675b2-7aca-40bf-8b22-b909e5ca6e72",
        "colab": {
          "base_uri": "https://localhost:8080/"
        }
      },
      "execution_count": null,
      "outputs": [
        {
          "output_type": "execute_result",
          "data": {
            "text/plain": [
              "(18, 137)"
            ]
          },
          "metadata": {},
          "execution_count": 84
        }
      ]
    },
    {
      "cell_type": "code",
      "source": [
        "# excluding people witt missing CTOPP scores\n",
        "data_filtered['CTOPP,CTOPP_BW_D'] = data_filtered['CTOPP,CTOPP_BW_D'].fillna('.')\n",
        "data_filtered = data_filtered[data_filtered['CTOPP,CTOPP_BW_D'] != '.']"
      ],
      "metadata": {
        "id": "4mgkJn-0HxXI"
      },
      "execution_count": null,
      "outputs": []
    },
    {
      "cell_type": "code",
      "source": [
        "# excluding amphetamines, benzaozepines, tca, thc\n",
        "data_filtered = data_filtered[data_filtered['DrugScreen,AMP500'] != '1']\n",
        "data_filtered = data_filtered[data_filtered['DrugScreen,BZO300'] != '1']\n",
        "data_filtered = data_filtered[data_filtered['DrugScreen,TCA1000'] != '1']\n",
        "data_filtered = data_filtered[data_filtered['DrugScreen,THC50'] != '1']\n"
      ],
      "metadata": {
        "id": "LjUjle3xAN1p"
      },
      "execution_count": null,
      "outputs": []
    },
    {
      "cell_type": "code",
      "source": [
        "# previous head injuries and psych meds\n",
        "data_filtered[(data_filtered['PreInt_TxHx,head_injuries'] == '1') & (data_filtered['DD'] != 0)].shape\n",
        "data_filtered[(data_filtered['PreInt_TxHx,psych_meds_past'] == '1') & (data_filtered['DD'] != 0)].shape"
      ],
      "metadata": {
        "id": "FtmdjAfIYTiS",
        "outputId": "cd792ac7-ead3-4775-96b7-42e9cb2f65c8",
        "colab": {
          "base_uri": "https://localhost:8080/"
        }
      },
      "execution_count": null,
      "outputs": [
        {
          "output_type": "execute_result",
          "data": {
            "text/plain": [
              "(34, 137)"
            ]
          },
          "metadata": {},
          "execution_count": 71
        }
      ]
    },
    {
      "cell_type": "code",
      "source": [
        "# exploring whether family members have neurological disorders\n",
        "data_filtered.groupby(['PreInt_FamHx_RDC,fepilep'])['Identifiers'].count()\n",
        "#data_filtered[data_filtered['PreInt_FamHx_RDC,fepilep'] == 'Definite/severe'].shape"
      ],
      "metadata": {
        "id": "Ue3VEB46AjZt",
        "outputId": "96807fc8-5828-42d3-f0ef-a3415f6518fc",
        "colab": {
          "base_uri": "https://localhost:8080/"
        }
      },
      "execution_count": null,
      "outputs": [
        {
          "output_type": "execute_result",
          "data": {
            "text/plain": [
              "PreInt_FamHx_RDC,fepilep\n",
              ".                   50\n",
              "Definite/severe      2\n",
              "No                 531\n",
              "No response         19\n",
              "Possible/mild        8\n",
              "Name: Identifiers, dtype: int64"
            ]
          },
          "metadata": {},
          "execution_count": 72
        }
      ]
    },
    {
      "cell_type": "code",
      "source": [
        "data_filtered.groupby(['PreInt_FamHx_RDC,ffhxautism'])['Identifiers'].count()"
      ],
      "metadata": {
        "id": "-NifkCZ2Zy11",
        "outputId": "759f17b6-488a-4af6-839b-6b548ee7a194",
        "colab": {
          "base_uri": "https://localhost:8080/"
        }
      },
      "execution_count": null,
      "outputs": [
        {
          "output_type": "execute_result",
          "data": {
            "text/plain": [
              "PreInt_FamHx_RDC,ffhxautism\n",
              ".                             50\n",
              "4None                          1\n",
              "In 1st degree relative        13\n",
              "In 2nd degree relative        14\n",
              "In 3rd degree relative        10\n",
              "In multiple 2nd degree re      4\n",
              "In multiple 3rd degree re      2\n",
              "No response                   31\n",
              "None                         485\n",
              "Name: Identifiers, dtype: int64"
            ]
          },
          "metadata": {},
          "execution_count": 73
        }
      ]
    },
    {
      "cell_type": "code",
      "source": [
        "data_filtered.groupby(['PreInt_FamHx_RDC,fmigrain'])['Identifiers'].count()"
      ],
      "metadata": {
        "id": "xnEHThbKaRKP",
        "outputId": "fca156b1-d133-4fe1-aa0b-8be70f3a7508",
        "colab": {
          "base_uri": "https://localhost:8080/"
        }
      },
      "execution_count": null,
      "outputs": [
        {
          "output_type": "execute_result",
          "data": {
            "text/plain": [
              "PreInt_FamHx_RDC,fmigrain\n",
              ".                   50\n",
              "Definite/severe     18\n",
              "No                 501\n",
              "No response         22\n",
              "Possible/mild       22\n",
              "Name: Identifiers, dtype: int64"
            ]
          },
          "metadata": {},
          "execution_count": 74
        }
      ]
    },
    {
      "cell_type": "code",
      "source": [
        "data_filtered.groupby(['PreInt_FamHx_RDC,fneurol'])['Identifiers'].count()"
      ],
      "metadata": {
        "colab": {
          "base_uri": "https://localhost:8080/"
        },
        "id": "qJiWZ4EoaZRe",
        "outputId": "602a9ea8-8d02-426a-d77b-12a34abb18a8"
      },
      "execution_count": null,
      "outputs": [
        {
          "output_type": "execute_result",
          "data": {
            "text/plain": [
              "PreInt_FamHx_RDC,fneurol\n",
              ".                   50\n",
              "Definite/severe      8\n",
              "No                 527\n",
              "No response         21\n",
              "Possible/mild        4\n",
              "Name: Identifiers, dtype: int64"
            ]
          },
          "metadata": {},
          "execution_count": 75
        }
      ]
    },
    {
      "cell_type": "code",
      "source": [
        "data_filtered.groupby(['PreInt_FamHx_RDC,mfhxautism'])['Identifiers'].count()"
      ],
      "metadata": {
        "outputId": "075a69a7-1518-4373-a3b1-187d4123f0d0",
        "colab": {
          "base_uri": "https://localhost:8080/"
        },
        "id": "fgzfzaolars6"
      },
      "execution_count": null,
      "outputs": [
        {
          "output_type": "execute_result",
          "data": {
            "text/plain": [
              "PreInt_FamHx_RDC,mfhxautism\n",
              ".                             50\n",
              "In 1st degree relative        14\n",
              "In 2nd degree relative        22\n",
              "In 3rd degree relative        24\n",
              "In multiple 2nd degree re      2\n",
              "In multiple 3rd degree re      1\n",
              "No response                   21\n",
              "None                         481\n",
              "Name: Identifiers, dtype: int64"
            ]
          },
          "metadata": {},
          "execution_count": 76
        }
      ]
    },
    {
      "cell_type": "code",
      "source": [
        "data_filtered.groupby(['PreInt_FamHx_RDC,mmigrain'])['Identifiers'].count()"
      ],
      "metadata": {
        "outputId": "634b8f7a-e811-4ade-dad0-528aff7ec8cf",
        "colab": {
          "base_uri": "https://localhost:8080/"
        },
        "id": "zRMmYAfTar4R"
      },
      "execution_count": null,
      "outputs": [
        {
          "output_type": "execute_result",
          "data": {
            "text/plain": [
              "PreInt_FamHx_RDC,mmigrain\n",
              ".                   50\n",
              "Definite/severe     53\n",
              "No                 437\n",
              "No response         12\n",
              "Possible/mild       66\n",
              "Name: Identifiers, dtype: int64"
            ]
          },
          "metadata": {},
          "execution_count": 77
        }
      ]
    },
    {
      "cell_type": "code",
      "source": [
        "data_filtered.groupby(['PreInt_FamHx_RDC,mneurol'])['Identifiers'].count()"
      ],
      "metadata": {
        "outputId": "f772a70e-5dc9-4fd4-d538-074fe3b72126",
        "colab": {
          "base_uri": "https://localhost:8080/"
        },
        "id": "RbghXqmmasA3"
      },
      "execution_count": null,
      "outputs": [
        {
          "output_type": "execute_result",
          "data": {
            "text/plain": [
              "PreInt_FamHx_RDC,mneurol\n",
              ".                   50\n",
              "Definite/severe      2\n",
              "No                 551\n",
              "No response         11\n",
              "Possible/mild        1\n",
              "Name: Identifiers, dtype: int64"
            ]
          },
          "metadata": {},
          "execution_count": 78
        }
      ]
    },
    {
      "cell_type": "code",
      "source": [
        "data_filtered.groupby(['PreInt_FamHx_RDC,sib1neurol'])['Identifiers'].count()"
      ],
      "metadata": {
        "outputId": "e6397b96-a269-4e24-fa58-109352d49db0",
        "colab": {
          "base_uri": "https://localhost:8080/"
        },
        "id": "9SDe1EtNbQ9t"
      },
      "execution_count": null,
      "outputs": [
        {
          "output_type": "execute_result",
          "data": {
            "text/plain": [
              "PreInt_FamHx_RDC,sib1neurol\n",
              ".                   50\n",
              "Definite/severe      1\n",
              "No                 402\n",
              "No response         15\n",
              "Possible/mild        1\n",
              "Name: Identifiers, dtype: int64"
            ]
          },
          "metadata": {},
          "execution_count": 79
        }
      ]
    },
    {
      "cell_type": "code",
      "source": [
        "data_filtered.groupby(['PreInt_FamHx_RDC,sib3epilep'])['Identifiers'].count()"
      ],
      "metadata": {
        "outputId": "b5498dc7-0de1-4342-fe3a-eb5d6768dfee",
        "colab": {
          "base_uri": "https://localhost:8080/"
        },
        "id": "_VPxr0wXbRKm"
      },
      "execution_count": null,
      "outputs": [
        {
          "output_type": "execute_result",
          "data": {
            "text/plain": [
              "PreInt_FamHx_RDC,sib3epilep\n",
              ".                  50\n",
              "Definite/severe     1\n",
              "No                 77\n",
              "No response         3\n",
              "Name: Identifiers, dtype: int64"
            ]
          },
          "metadata": {},
          "execution_count": 80
        }
      ]
    },
    {
      "cell_type": "code",
      "source": [
        "data_filtered.groupby(['PreInt_FamHx_RDC,sib5epilep'])['Identifiers'].count()"
      ],
      "metadata": {
        "outputId": "527821a0-d7c9-412e-dc69-4da05bb1d144",
        "colab": {
          "base_uri": "https://localhost:8080/"
        },
        "id": "kj8vcpSXboXB"
      },
      "execution_count": null,
      "outputs": [
        {
          "output_type": "execute_result",
          "data": {
            "text/plain": [
              "PreInt_FamHx_RDC,sib5epilep\n",
              ".                  50\n",
              "Definite/severe     1\n",
              "No                 14\n",
              "Name: Identifiers, dtype: int64"
            ]
          },
          "metadata": {},
          "execution_count": 81
        }
      ]
    },
    {
      "cell_type": "markdown",
      "source": [
        "# Characteristics of the ready dataset"
      ],
      "metadata": {
        "id": "6FVNklI1tBUP"
      }
    },
    {
      "cell_type": "code",
      "source": [
        "sns.displot(data_filtered[data_filtered['Status'] == 1]['Basic_Demos,Age'],\n",
        "             binwidth = 1)\n",
        "pl.title('Age distribution in DD group');"
      ],
      "metadata": {
        "id": "uT9jzc6Y75CJ",
        "outputId": "c9c2630b-23ce-41aa-c492-976677594443",
        "colab": {
          "base_uri": "https://localhost:8080/",
          "height": 381
        }
      },
      "execution_count": null,
      "outputs": [
        {
          "output_type": "display_data",
          "data": {
            "text/plain": [
              "<Figure size 360x360 with 1 Axes>"
            ],
            "image/png": "[encoded data removed]"
          },
          "metadata": {}
        }
      ]
    },
    {
      "cell_type": "code",
      "source": [
        "print('5-6 years old')\n",
        "print(data_filtered[(data_filtered['Basic_Demos,Age'] > 5) & (data_filtered['Basic_Demos,Age'] < 6) & (data_filtered['Status'] == 1)].shape[0])\n",
        "print('6-7 years old')\n",
        "print(data_filtered[(data_filtered['Basic_Demos,Age'] >= 6) & (data_filtered['Basic_Demos,Age'] < 7) & (data_filtered['Status'] == 1)].shape[0])\n",
        "print('7-8 years old')\n",
        "print(data_filtered[(data_filtered['Basic_Demos,Age'] >= 7) & (data_filtered['Basic_Demos,Age'] < 8) & (data_filtered['Status'] == 1)].shape[0])\n",
        "print('8-9 years old')\n",
        "print(data_filtered[(data_filtered['Basic_Demos,Age'] >= 8) & (data_filtered['Basic_Demos,Age'] < 9) & (data_filtered['Status'] == 1)].shape[0])\n",
        "print('9-10 years old')\n",
        "print(data_filtered[(data_filtered['Basic_Demos,Age'] >= 9) & (data_filtered['Basic_Demos,Age'] < 10) & (data_filtered['Status'] == 1)].shape[0])\n",
        "print('10-11 years old')\n",
        "print(data_filtered[(data_filtered['Basic_Demos,Age'] >= 10) & (data_filtered['Basic_Demos,Age'] < 11) & (data_filtered['Status'] == 1)].shape[0])\n",
        "print('11-12 years old')\n",
        "print(data_filtered[(data_filtered['Basic_Demos,Age'] >= 11) & (data_filtered['Basic_Demos,Age'] < 12) & (data_filtered['Status'] == 1)].shape[0])\n",
        "print('from 12 years old')\n",
        "print(data_filtered[(data_filtered['Basic_Demos,Age'] >= 12) & (data_filtered['Status'] == 1)].shape[0])"
      ],
      "metadata": {
        "id": "yJ2mRhHUtFUf",
        "outputId": "8e5682a5-14a5-4fe1-80a1-0fd838eaa29c",
        "colab": {
          "base_uri": "https://localhost:8080/"
        }
      },
      "execution_count": null,
      "outputs": [
        {
          "output_type": "stream",
          "name": "stdout",
          "text": [
            "5-6 years old\n",
            "2\n",
            "6-7 years old\n",
            "30\n",
            "7-8 years old\n",
            "49\n",
            "8-9 years old\n",
            "52\n",
            "9-10 years old\n",
            "46\n",
            "10-11 years old\n",
            "28\n",
            "11-12 years old\n",
            "26\n",
            "from 12 years old\n",
            "64\n"
          ]
        }
      ]
    },
    {
      "cell_type": "code",
      "source": [
        "data_filtered.columns[100:]"
      ],
      "metadata": {
        "id": "sVR1epA0JLl9",
        "outputId": "0586aef7-f70e-4291-d40c-d68cbf8454e8",
        "colab": {
          "base_uri": "https://localhost:8080/"
        }
      },
      "execution_count": null,
      "outputs": [
        {
          "output_type": "execute_result",
          "data": {
            "text/plain": [
              "Index(['PreInt_TxHx,head_injuries', 'PreInt_TxHx,psych_meds_past',\n",
              "       'SWAN,SWAN_HY', 'SWAN,SWAN_IN', 'SWAN,SWAN_Total',\n",
              "       'TOWRE,TOWRE_PDE_Scaled', 'TOWRE,TOWRE_SWE_Scaled',\n",
              "       'TOWRE,TOWRE_Total_Scaled', 'TRF,TRF_Total_T',\n",
              "       'Vineland,VL_Social_Stnd', 'WAIS,WAIS_FSIQ_COMP',\n",
              "       'WAIS,WAIS_FSIQ_SCALE', 'WAIS,WAIS_PRI_COMP', 'WAIS,WAIS_PSI_COMP',\n",
              "       'WAIS,WAIS_VCI_COMP', 'WAIS,WAIS_WMI_COMP', 'WASI,WASI_FSIQ',\n",
              "       'WIAT,WIAT_LCODC_Stnd', 'WIAT,WIAT_LCRV_Std', 'WIAT,WIAT_LC_Stnd',\n",
              "       'WIAT,WIAT_MP_Stnd', 'WIAT,WIAT_Num_Stnd', 'WIAT,WIAT_Pseudo_Stnd',\n",
              "       'WIAT,WIAT_RC_Stnd', 'WIAT,WIAT_Spell_Stnd', 'WIAT,WIAT_Word_Stnd',\n",
              "       'WISC,WISC_FSIQ', 'WISC,WISC_PSI', 'WISC,WISC_VCI', 'WISC,WISC_VSI',\n",
              "       'WISC,WISC_WMI', 'DD', 'Diagnosis', 'Medicine', 'Status', 'IQ', 'Test'],\n",
              "      dtype='object')"
            ]
          },
          "metadata": {},
          "execution_count": 98
        }
      ]
    },
    {
      "cell_type": "code",
      "source": [],
      "metadata": {
        "id": "213oW6hTKNLC"
      },
      "execution_count": null,
      "outputs": []
    }
  ]
}