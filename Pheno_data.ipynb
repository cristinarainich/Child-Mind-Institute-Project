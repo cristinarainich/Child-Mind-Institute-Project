{
  "nbformat": 4,
  "nbformat_minor": 0,
  "metadata": {
    "colab": {
      "provenance": [],
      "toc_visible": true,
      "authorship_tag": "ABX9TyPKiLLNUF9ls8qq6rkeG1jO",
      "include_colab_link": true
    },
    "kernelspec": {
      "name": "python3",
      "display_name": "Python 3"
    },
    "language_info": {
      "name": "python"
    }
  },
  "cells": [
    {
      "cell_type": "markdown",
      "metadata": {
        "id": "view-in-github",
        "colab_type": "text"
      },
      "source": [
        "<a href=\"https://colab.research.google.com/github/cristinarainich/Child-Mind-Institute-Project/blob/main/Pheno_data.ipynb\" target=\"_parent\"><img src=\"https://colab.research.google.com/assets/colab-badge.svg\" alt=\"Open In Colab\"/></a>"
      ]
    },
    {
      "cell_type": "code",
      "execution_count": 1,
      "metadata": {
        "colab": {
          "base_uri": "https://localhost:8080/"
        },
        "id": "7sLM_aBE1XSO",
        "outputId": "c7de4b5b-88f6-41df-f456-ad853baa5252"
      },
      "outputs": [
        {
          "output_type": "stream",
          "name": "stdout",
          "text": [
            "Mounted at /content/drive\n"
          ]
        }
      ],
      "source": [
        "from google.colab import drive\n",
        "drive.mount('/content/drive')"
      ]
    },
    {
      "cell_type": "code",
      "source": [
        "from pathlib import Path\n",
        "import pandas as pd\n",
        "import numpy as np\n",
        "import pylab as pl\n",
        "import seaborn as sns\n",
        "%pylab inline"
      ],
      "metadata": {
        "colab": {
          "base_uri": "https://localhost:8080/"
        },
        "id": "aaZC6otb1s12",
        "outputId": "5ca36932-134e-4c7d-fee1-eda38b47c987"
      },
      "execution_count": 2,
      "outputs": [
        {
          "output_type": "stream",
          "name": "stdout",
          "text": [
            "Populating the interactive namespace from numpy and matplotlib\n"
          ]
        }
      ]
    },
    {
      "cell_type": "code",
      "source": [
        "sns.set()"
      ],
      "metadata": {
        "id": "lAeNDY5uJvVf"
      },
      "execution_count": 3,
      "outputs": []
    },
    {
      "cell_type": "code",
      "source": [
        "working_path = Path('/content/drive/MyDrive/KKNV')"
      ],
      "metadata": {
        "id": "aonUk2xG1llO"
      },
      "execution_count": 4,
      "outputs": []
    },
    {
      "cell_type": "code",
      "source": [
        "cd /content/drive/MyDrive/KKNV"
      ],
      "metadata": {
        "colab": {
          "base_uri": "https://localhost:8080/"
        },
        "id": "z9Xbaxjz1yH3",
        "outputId": "2c2a802b-3d6a-4b39-e57b-ffead96c630c"
      },
      "execution_count": 5,
      "outputs": [
        {
          "output_type": "stream",
          "name": "stdout",
          "text": [
            "/content/drive/MyDrive/KKNV\n"
          ]
        }
      ]
    },
    {
      "cell_type": "code",
      "source": [
        "!ls /content/drive/MyDrive/KKNV"
      ],
      "metadata": {
        "colab": {
          "base_uri": "https://localhost:8080/"
        },
        "id": "5zZW_4I4NS1u",
        "outputId": "a61b2c8f-dcfd-4d1b-bf86-18989c2bf403"
      },
      "execution_count": 6,
      "outputs": [
        {
          "output_type": "stream",
          "name": "stdout",
          "text": [
            "full_pheno.csv\t    HBN_R4_Pheno.csv  HBN_R9_Pheno.csv\t  Query1.csv\n",
            "HBN_R10_Pheno.csv   HBN_R5_Pheno.csv  iq_overview.csv\t  Query2.csv\n",
            "HBN_R1_1_Pheno.csv  HBN_R6_Pheno.csv  iq_overview.gsheet  Query_final.csv\n",
            "HBN_R2_1_Pheno.csv  HBN_R7_Pheno.csv  Pheno.csv\t\t  sites.csv\n",
            "HBN_R3_Pheno.csv    HBN_R8_Pheno.csv  pheno_mri.csv\n"
          ]
        }
      ]
    },
    {
      "cell_type": "markdown",
      "source": [
        "## File informations from different releases"
      ],
      "metadata": {
        "id": "CtAp_u7jXWtt"
      }
    },
    {
      "cell_type": "code",
      "source": [
        "!ls /content/drive/MyDrive/KKNV"
      ],
      "metadata": {
        "id": "q3nRWl5Ku-95",
        "colab": {
          "base_uri": "https://localhost:8080/"
        },
        "outputId": "639004a8-3281-4eda-a18a-ab955c51098e"
      },
      "execution_count": null,
      "outputs": [
        {
          "output_type": "stream",
          "name": "stdout",
          "text": [
            "full_pheno.csv\t    HBN_R4_Pheno.csv  HBN_R9_Pheno.csv\t  Query1.csv\n",
            "HBN_R10_Pheno.csv   HBN_R5_Pheno.csv  iq_overview.csv\t  Query2.csv\n",
            "HBN_R1_1_Pheno.csv  HBN_R6_Pheno.csv  iq_overview.gsheet  Query_final.csv\n",
            "HBN_R2_1_Pheno.csv  HBN_R7_Pheno.csv  Pheno.csv\n",
            "HBN_R3_Pheno.csv    HBN_R8_Pheno.csv  pheno_mri.csv\n"
          ]
        }
      ]
    },
    {
      "cell_type": "code",
      "source": [
        "# info on whether there are phenotypical full files and imaging data availale\n",
        "file1 = pd.read_csv(\n",
        "    working_path.joinpath('HBN_R1_1_Pheno.csv'),\n",
        "    index_col=None\n",
        ")\n",
        "file2 = pd.read_csv(\n",
        "    working_path.joinpath('HBN_R2_1_Pheno.csv'),\n",
        "    index_col=None\n",
        ")\n",
        "file3 = pd.read_csv(\n",
        "    working_path.joinpath('HBN_R3_Pheno.csv'),\n",
        "    index_col=None\n",
        ")\n",
        "file4 = pd.read_csv(\n",
        "    working_path.joinpath('HBN_R4_Pheno.csv'),\n",
        "    index_col=None\n",
        ")\n",
        "file5 = pd.read_csv(\n",
        "    working_path.joinpath('HBN_R5_Pheno.csv'),\n",
        "    index_col=None\n",
        ")\n",
        "file6 = pd.read_csv(\n",
        "    working_path.joinpath('HBN_R6_Pheno.csv'),\n",
        "    index_col=None\n",
        ")\n",
        "file7 = pd.read_csv(\n",
        "    working_path.joinpath('HBN_R7_Pheno.csv'),\n",
        "    index_col=None\n",
        ")\n",
        "file8 = pd.read_csv(\n",
        "    working_path.joinpath('HBN_R8_Pheno.csv'),\n",
        "    index_col=None\n",
        ")\n",
        "file9 = pd.read_csv(\n",
        "    working_path.joinpath('HBN_R9_Pheno.csv'),\n",
        "    index_col=None\n",
        ")\n",
        "file10 = pd.read_csv(\n",
        "    working_path.joinpath('HBN_R10_Pheno.csv'),\n",
        "    index_col=None\n",
        ")"
      ],
      "metadata": {
        "id": "HAn8D8FMVav4"
      },
      "execution_count": null,
      "outputs": []
    },
    {
      "cell_type": "code",
      "source": [
        "fullpheno = pd.concat([file1, file2])\n",
        "fullpheno = pd.concat([fullpheno, file3])\n",
        "fullpheno = pd.concat([fullpheno, file4])\n",
        "fullpheno = pd.concat([fullpheno, file5])\n",
        "fullpheno = pd.concat([fullpheno, file6])\n",
        "fullpheno = pd.concat([fullpheno, file7])\n",
        "fullpheno = pd.concat([fullpheno, file8])\n",
        "fullpheno = pd.concat([fullpheno, file9])\n",
        "fullpheno = pd.concat([fullpheno, file10])"
      ],
      "metadata": {
        "id": "kQmGWLmVXjhC"
      },
      "execution_count": null,
      "outputs": []
    },
    {
      "cell_type": "code",
      "source": [
        "fullpheno.to_csv(\n",
        "    Path(working_path).joinpath('full_pheno.csv')\n",
        ")"
      ],
      "metadata": {
        "id": "3wpGbu9YXZHb"
      },
      "execution_count": null,
      "outputs": []
    },
    {
      "cell_type": "markdown",
      "source": [
        "## Creating a file on MRI and full pheno information"
      ],
      "metadata": {
        "id": "iv1DcB3tXfv3"
      }
    },
    {
      "cell_type": "code",
      "source": [
        "# file with the identifiers that have mri imaging\n",
        "fullpheno = pd.read_csv(\n",
        "    working_path.joinpath('full_pheno.csv'),\n",
        "    index_col=None\n",
        ")"
      ],
      "metadata": {
        "id": "ZvqVNi2FYC4w"
      },
      "execution_count": null,
      "outputs": []
    },
    {
      "cell_type": "code",
      "source": [
        "fullpheno.head()"
      ],
      "metadata": {
        "id": "40B35TbWY8MJ",
        "outputId": "d57ff444-0b1a-4afa-95b6-fb21647a2580",
        "colab": {
          "base_uri": "https://localhost:8080/",
          "height": 206
        }
      },
      "execution_count": null,
      "outputs": [
        {
          "output_type": "execute_result",
          "data": {
            "text/plain": [
              "            EID  Sex        Age  EHQ_Total Commercial_Use Full_Pheno\n",
              "0  NDARYM832PX3  1.0   7.048254     -33.35             No        Yes\n",
              "1  NDARNJ687DMC  1.0   6.348163      46.67             No        Yes\n",
              "2  NDARFM080VAF  1.0   7.623203    -100.00             No        Yes\n",
              "3  NDARFW130NGG  1.0   8.316107      93.34             No        Yes\n",
              "4  NDARDT800YVF  0.0  17.510381      86.67             No        Yes"
            ],
            "text/html": [
              "\n",
              "  <div id=\"df-d877bc36-1a95-41b2-bc2a-0f4684d47efd\">\n",
              "    <div class=\"colab-df-container\">\n",
              "      <div>\n",
              "<style scoped>\n",
              "    .dataframe tbody tr th:only-of-type {\n",
              "        vertical-align: middle;\n",
              "    }\n",
              "\n",
              "    .dataframe tbody tr th {\n",
              "        vertical-align: top;\n",
              "    }\n",
              "\n",
              "    .dataframe thead th {\n",
              "        text-align: right;\n",
              "    }\n",
              "</style>\n",
              "<table border=\"1\" class=\"dataframe\">\n",
              "  <thead>\n",
              "    <tr style=\"text-align: right;\">\n",
              "      <th></th>\n",
              "      <th>EID</th>\n",
              "      <th>Sex</th>\n",
              "      <th>Age</th>\n",
              "      <th>EHQ_Total</th>\n",
              "      <th>Commercial_Use</th>\n",
              "      <th>Full_Pheno</th>\n",
              "    </tr>\n",
              "  </thead>\n",
              "  <tbody>\n",
              "    <tr>\n",
              "      <th>0</th>\n",
              "      <td>NDARYM832PX3</td>\n",
              "      <td>1.0</td>\n",
              "      <td>7.048254</td>\n",
              "      <td>-33.35</td>\n",
              "      <td>No</td>\n",
              "      <td>Yes</td>\n",
              "    </tr>\n",
              "    <tr>\n",
              "      <th>1</th>\n",
              "      <td>NDARNJ687DMC</td>\n",
              "      <td>1.0</td>\n",
              "      <td>6.348163</td>\n",
              "      <td>46.67</td>\n",
              "      <td>No</td>\n",
              "      <td>Yes</td>\n",
              "    </tr>\n",
              "    <tr>\n",
              "      <th>2</th>\n",
              "      <td>NDARFM080VAF</td>\n",
              "      <td>1.0</td>\n",
              "      <td>7.623203</td>\n",
              "      <td>-100.00</td>\n",
              "      <td>No</td>\n",
              "      <td>Yes</td>\n",
              "    </tr>\n",
              "    <tr>\n",
              "      <th>3</th>\n",
              "      <td>NDARFW130NGG</td>\n",
              "      <td>1.0</td>\n",
              "      <td>8.316107</td>\n",
              "      <td>93.34</td>\n",
              "      <td>No</td>\n",
              "      <td>Yes</td>\n",
              "    </tr>\n",
              "    <tr>\n",
              "      <th>4</th>\n",
              "      <td>NDARDT800YVF</td>\n",
              "      <td>0.0</td>\n",
              "      <td>17.510381</td>\n",
              "      <td>86.67</td>\n",
              "      <td>No</td>\n",
              "      <td>Yes</td>\n",
              "    </tr>\n",
              "  </tbody>\n",
              "</table>\n",
              "</div>\n",
              "      <button class=\"colab-df-convert\" onclick=\"convertToInteractive('df-d877bc36-1a95-41b2-bc2a-0f4684d47efd')\"\n",
              "              title=\"Convert this dataframe to an interactive table.\"\n",
              "              style=\"display:none;\">\n",
              "        \n",
              "  <svg xmlns=\"http://www.w3.org/2000/svg\" height=\"24px\"viewBox=\"0 0 24 24\"\n",
              "       width=\"24px\">\n",
              "    <path d=\"M0 0h24v24H0V0z\" fill=\"none\"/>\n",
              "    <path d=\"M18.56 5.44l.94 2.06.94-2.06 2.06-.94-2.06-.94-.94-2.06-.94 2.06-2.06.94zm-11 1L8.5 8.5l.94-2.06 2.06-.94-2.06-.94L8.5 2.5l-.94 2.06-2.06.94zm10 10l.94 2.06.94-2.06 2.06-.94-2.06-.94-.94-2.06-.94 2.06-2.06.94z\"/><path d=\"M17.41 7.96l-1.37-1.37c-.4-.4-.92-.59-1.43-.59-.52 0-1.04.2-1.43.59L10.3 9.45l-7.72 7.72c-.78.78-.78 2.05 0 2.83L4 21.41c.39.39.9.59 1.41.59.51 0 1.02-.2 1.41-.59l7.78-7.78 2.81-2.81c.8-.78.8-2.07 0-2.86zM5.41 20L4 18.59l7.72-7.72 1.47 1.35L5.41 20z\"/>\n",
              "  </svg>\n",
              "      </button>\n",
              "      \n",
              "  <style>\n",
              "    .colab-df-container {\n",
              "      display:flex;\n",
              "      flex-wrap:wrap;\n",
              "      gap: 12px;\n",
              "    }\n",
              "\n",
              "    .colab-df-convert {\n",
              "      background-color: #E8F0FE;\n",
              "      border: none;\n",
              "      border-radius: 50%;\n",
              "      cursor: pointer;\n",
              "      display: none;\n",
              "      fill: #1967D2;\n",
              "      height: 32px;\n",
              "      padding: 0 0 0 0;\n",
              "      width: 32px;\n",
              "    }\n",
              "\n",
              "    .colab-df-convert:hover {\n",
              "      background-color: #E2EBFA;\n",
              "      box-shadow: 0px 1px 2px rgba(60, 64, 67, 0.3), 0px 1px 3px 1px rgba(60, 64, 67, 0.15);\n",
              "      fill: #174EA6;\n",
              "    }\n",
              "\n",
              "    [theme=dark] .colab-df-convert {\n",
              "      background-color: #3B4455;\n",
              "      fill: #D2E3FC;\n",
              "    }\n",
              "\n",
              "    [theme=dark] .colab-df-convert:hover {\n",
              "      background-color: #434B5C;\n",
              "      box-shadow: 0px 1px 3px 1px rgba(0, 0, 0, 0.15);\n",
              "      filter: drop-shadow(0px 1px 2px rgba(0, 0, 0, 0.3));\n",
              "      fill: #FFFFFF;\n",
              "    }\n",
              "  </style>\n",
              "\n",
              "      <script>\n",
              "        const buttonEl =\n",
              "          document.querySelector('#df-d877bc36-1a95-41b2-bc2a-0f4684d47efd button.colab-df-convert');\n",
              "        buttonEl.style.display =\n",
              "          google.colab.kernel.accessAllowed ? 'block' : 'none';\n",
              "\n",
              "        async function convertToInteractive(key) {\n",
              "          const element = document.querySelector('#df-d877bc36-1a95-41b2-bc2a-0f4684d47efd');\n",
              "          const dataTable =\n",
              "            await google.colab.kernel.invokeFunction('convertToInteractive',\n",
              "                                                     [key], {});\n",
              "          if (!dataTable) return;\n",
              "\n",
              "          const docLinkHtml = 'Like what you see? Visit the ' +\n",
              "            '<a target=\"_blank\" href=https://colab.research.google.com/notebooks/data_table.ipynb>data table notebook</a>'\n",
              "            + ' to learn more about interactive tables.';\n",
              "          element.innerHTML = '';\n",
              "          dataTable['output_type'] = 'display_data';\n",
              "          await google.colab.output.renderOutput(dataTable, element);\n",
              "          const docLink = document.createElement('div');\n",
              "          docLink.innerHTML = docLinkHtml;\n",
              "          element.appendChild(docLink);\n",
              "        }\n",
              "      </script>\n",
              "    </div>\n",
              "  </div>\n",
              "  "
            ]
          },
          "metadata": {},
          "execution_count": 66
        }
      ]
    },
    {
      "cell_type": "code",
      "source": [
        "print(fullpheno.shape)\n",
        "print(len(fullpheno.EID.unique()))\n",
        "# there are some identifiers that are repeated in the table"
      ],
      "metadata": {
        "id": "61ut-oUNZQT9",
        "outputId": "c3dd7476-b5cd-4e71-9699-118e389b0ab0",
        "colab": {
          "base_uri": "https://localhost:8080/"
        }
      },
      "execution_count": null,
      "outputs": [
        {
          "output_type": "stream",
          "name": "stdout",
          "text": [
            "(5106, 6)\n",
            "4245\n"
          ]
        }
      ]
    },
    {
      "cell_type": "code",
      "source": [
        "unique = []\n",
        "repetition = []\n",
        "for i in fullpheno.EID.values:\n",
        "  if i not in unique:\n",
        "    unique.append(i)\n",
        "  else:\n",
        "    repetition.append(i)\n",
        "print(fullpheno.shape[0])\n",
        "print(len(unique))\n",
        "print(len(repetition))"
      ],
      "metadata": {
        "id": "n27542-KsZVK",
        "outputId": "e7b2de43-1547-4c23-e211-df9640023f4b",
        "colab": {
          "base_uri": "https://localhost:8080/"
        }
      },
      "execution_count": null,
      "outputs": [
        {
          "output_type": "stream",
          "name": "stdout",
          "text": [
            "5106\n",
            "4245\n",
            "861\n"
          ]
        }
      ]
    },
    {
      "cell_type": "code",
      "source": [
        "full_no_doubles = fullpheno.drop_duplicates()"
      ],
      "metadata": {
        "id": "LN5Z-Sq3CQKO"
      },
      "execution_count": null,
      "outputs": []
    },
    {
      "cell_type": "code",
      "source": [
        "unique = []\n",
        "repetition = []\n",
        "for i in full_no_doubles.EID.values:\n",
        "  if i not in unique:\n",
        "    unique.append(i)\n",
        "  else:\n",
        "    if i not in repetition:\n",
        "      repetition.append(i)\n",
        "print(full_no_doubles.shape[0])\n",
        "print(len(unique))\n",
        "print(len(repetition))\n",
        "# still there is some repetition but let's see whether something disappears when we clean data"
      ],
      "metadata": {
        "id": "o6Uf2r-hCwNB",
        "outputId": "8ef53298-38a1-4873-fb76-b4aa61b6c110",
        "colab": {
          "base_uri": "https://localhost:8080/"
        }
      },
      "execution_count": null,
      "outputs": [
        {
          "output_type": "stream",
          "name": "stdout",
          "text": [
            "4263\n",
            "4245\n",
            "18\n"
          ]
        }
      ]
    },
    {
      "cell_type": "code",
      "source": [
        "full_no_doubles.groupby(['Full_Pheno']).count()"
      ],
      "metadata": {
        "id": "67BBaILqDPD6",
        "outputId": "4e6d722e-97e6-4fb0-c570-4f605fa9d3aa",
        "colab": {
          "base_uri": "https://localhost:8080/",
          "height": 143
        }
      },
      "execution_count": null,
      "outputs": [
        {
          "output_type": "execute_result",
          "data": {
            "text/plain": [
              "             EID   Sex   Age  EHQ_Total  Commercial_Use\n",
              "Full_Pheno                                             \n",
              "No           723   723   723        720             723\n",
              "Yes         3539  3539  3539       3466            3539"
            ],
            "text/html": [
              "\n",
              "  <div id=\"df-76026d14-18a9-4f88-b279-a05e18c3db8c\">\n",
              "    <div class=\"colab-df-container\">\n",
              "      <div>\n",
              "<style scoped>\n",
              "    .dataframe tbody tr th:only-of-type {\n",
              "        vertical-align: middle;\n",
              "    }\n",
              "\n",
              "    .dataframe tbody tr th {\n",
              "        vertical-align: top;\n",
              "    }\n",
              "\n",
              "    .dataframe thead th {\n",
              "        text-align: right;\n",
              "    }\n",
              "</style>\n",
              "<table border=\"1\" class=\"dataframe\">\n",
              "  <thead>\n",
              "    <tr style=\"text-align: right;\">\n",
              "      <th></th>\n",
              "      <th>EID</th>\n",
              "      <th>Sex</th>\n",
              "      <th>Age</th>\n",
              "      <th>EHQ_Total</th>\n",
              "      <th>Commercial_Use</th>\n",
              "    </tr>\n",
              "    <tr>\n",
              "      <th>Full_Pheno</th>\n",
              "      <th></th>\n",
              "      <th></th>\n",
              "      <th></th>\n",
              "      <th></th>\n",
              "      <th></th>\n",
              "    </tr>\n",
              "  </thead>\n",
              "  <tbody>\n",
              "    <tr>\n",
              "      <th>No</th>\n",
              "      <td>723</td>\n",
              "      <td>723</td>\n",
              "      <td>723</td>\n",
              "      <td>720</td>\n",
              "      <td>723</td>\n",
              "    </tr>\n",
              "    <tr>\n",
              "      <th>Yes</th>\n",
              "      <td>3539</td>\n",
              "      <td>3539</td>\n",
              "      <td>3539</td>\n",
              "      <td>3466</td>\n",
              "      <td>3539</td>\n",
              "    </tr>\n",
              "  </tbody>\n",
              "</table>\n",
              "</div>\n",
              "      <button class=\"colab-df-convert\" onclick=\"convertToInteractive('df-76026d14-18a9-4f88-b279-a05e18c3db8c')\"\n",
              "              title=\"Convert this dataframe to an interactive table.\"\n",
              "              style=\"display:none;\">\n",
              "        \n",
              "  <svg xmlns=\"http://www.w3.org/2000/svg\" height=\"24px\"viewBox=\"0 0 24 24\"\n",
              "       width=\"24px\">\n",
              "    <path d=\"M0 0h24v24H0V0z\" fill=\"none\"/>\n",
              "    <path d=\"M18.56 5.44l.94 2.06.94-2.06 2.06-.94-2.06-.94-.94-2.06-.94 2.06-2.06.94zm-11 1L8.5 8.5l.94-2.06 2.06-.94-2.06-.94L8.5 2.5l-.94 2.06-2.06.94zm10 10l.94 2.06.94-2.06 2.06-.94-2.06-.94-.94-2.06-.94 2.06-2.06.94z\"/><path d=\"M17.41 7.96l-1.37-1.37c-.4-.4-.92-.59-1.43-.59-.52 0-1.04.2-1.43.59L10.3 9.45l-7.72 7.72c-.78.78-.78 2.05 0 2.83L4 21.41c.39.39.9.59 1.41.59.51 0 1.02-.2 1.41-.59l7.78-7.78 2.81-2.81c.8-.78.8-2.07 0-2.86zM5.41 20L4 18.59l7.72-7.72 1.47 1.35L5.41 20z\"/>\n",
              "  </svg>\n",
              "      </button>\n",
              "      \n",
              "  <style>\n",
              "    .colab-df-container {\n",
              "      display:flex;\n",
              "      flex-wrap:wrap;\n",
              "      gap: 12px;\n",
              "    }\n",
              "\n",
              "    .colab-df-convert {\n",
              "      background-color: #E8F0FE;\n",
              "      border: none;\n",
              "      border-radius: 50%;\n",
              "      cursor: pointer;\n",
              "      display: none;\n",
              "      fill: #1967D2;\n",
              "      height: 32px;\n",
              "      padding: 0 0 0 0;\n",
              "      width: 32px;\n",
              "    }\n",
              "\n",
              "    .colab-df-convert:hover {\n",
              "      background-color: #E2EBFA;\n",
              "      box-shadow: 0px 1px 2px rgba(60, 64, 67, 0.3), 0px 1px 3px 1px rgba(60, 64, 67, 0.15);\n",
              "      fill: #174EA6;\n",
              "    }\n",
              "\n",
              "    [theme=dark] .colab-df-convert {\n",
              "      background-color: #3B4455;\n",
              "      fill: #D2E3FC;\n",
              "    }\n",
              "\n",
              "    [theme=dark] .colab-df-convert:hover {\n",
              "      background-color: #434B5C;\n",
              "      box-shadow: 0px 1px 3px 1px rgba(0, 0, 0, 0.15);\n",
              "      filter: drop-shadow(0px 1px 2px rgba(0, 0, 0, 0.3));\n",
              "      fill: #FFFFFF;\n",
              "    }\n",
              "  </style>\n",
              "\n",
              "      <script>\n",
              "        const buttonEl =\n",
              "          document.querySelector('#df-76026d14-18a9-4f88-b279-a05e18c3db8c button.colab-df-convert');\n",
              "        buttonEl.style.display =\n",
              "          google.colab.kernel.accessAllowed ? 'block' : 'none';\n",
              "\n",
              "        async function convertToInteractive(key) {\n",
              "          const element = document.querySelector('#df-76026d14-18a9-4f88-b279-a05e18c3db8c');\n",
              "          const dataTable =\n",
              "            await google.colab.kernel.invokeFunction('convertToInteractive',\n",
              "                                                     [key], {});\n",
              "          if (!dataTable) return;\n",
              "\n",
              "          const docLinkHtml = 'Like what you see? Visit the ' +\n",
              "            '<a target=\"_blank\" href=https://colab.research.google.com/notebooks/data_table.ipynb>data table notebook</a>'\n",
              "            + ' to learn more about interactive tables.';\n",
              "          element.innerHTML = '';\n",
              "          dataTable['output_type'] = 'display_data';\n",
              "          await google.colab.output.renderOutput(dataTable, element);\n",
              "          const docLink = document.createElement('div');\n",
              "          docLink.innerHTML = docLinkHtml;\n",
              "          element.appendChild(docLink);\n",
              "        }\n",
              "      </script>\n",
              "    </div>\n",
              "  </div>\n",
              "  "
            ]
          },
          "metadata": {},
          "execution_count": 121
        }
      ]
    },
    {
      "cell_type": "code",
      "source": [
        "pheno_mri = full_no_doubles[full_no_doubles['Full_Pheno'] == 'Yes']\n",
        "print(pheno_mri.shape)"
      ],
      "metadata": {
        "id": "MJ66Mkz1Dr-n",
        "outputId": "b06dc929-9b2b-4101-b782-3e2ac7b2b21a",
        "colab": {
          "base_uri": "https://localhost:8080/"
        }
      },
      "execution_count": null,
      "outputs": [
        {
          "output_type": "stream",
          "name": "stdout",
          "text": [
            "(3539, 6)\n"
          ]
        }
      ]
    },
    {
      "cell_type": "code",
      "source": [
        "pheno_mri.groupby(['Sex']).count()\n",
        "# Sex 1 - female, 0 - male"
      ],
      "metadata": {
        "id": "KwTWekG4EA7W",
        "outputId": "b4e928b1-5869-4a25-a112-5c029f8e7f88",
        "colab": {
          "base_uri": "https://localhost:8080/",
          "height": 143
        }
      },
      "execution_count": null,
      "outputs": [
        {
          "output_type": "execute_result",
          "data": {
            "text/plain": [
              "      EID   Age  EHQ_Total  Commercial_Use  Full_Pheno\n",
              "Sex                                                   \n",
              "0.0  2272  2272       2223            2272        2272\n",
              "1.0  1267  1267       1243            1267        1267"
            ],
            "text/html": [
              "\n",
              "  <div id=\"df-c6552932-1650-4c44-ae93-8a724e54bcc9\">\n",
              "    <div class=\"colab-df-container\">\n",
              "      <div>\n",
              "<style scoped>\n",
              "    .dataframe tbody tr th:only-of-type {\n",
              "        vertical-align: middle;\n",
              "    }\n",
              "\n",
              "    .dataframe tbody tr th {\n",
              "        vertical-align: top;\n",
              "    }\n",
              "\n",
              "    .dataframe thead th {\n",
              "        text-align: right;\n",
              "    }\n",
              "</style>\n",
              "<table border=\"1\" class=\"dataframe\">\n",
              "  <thead>\n",
              "    <tr style=\"text-align: right;\">\n",
              "      <th></th>\n",
              "      <th>EID</th>\n",
              "      <th>Age</th>\n",
              "      <th>EHQ_Total</th>\n",
              "      <th>Commercial_Use</th>\n",
              "      <th>Full_Pheno</th>\n",
              "    </tr>\n",
              "    <tr>\n",
              "      <th>Sex</th>\n",
              "      <th></th>\n",
              "      <th></th>\n",
              "      <th></th>\n",
              "      <th></th>\n",
              "      <th></th>\n",
              "    </tr>\n",
              "  </thead>\n",
              "  <tbody>\n",
              "    <tr>\n",
              "      <th>0.0</th>\n",
              "      <td>2272</td>\n",
              "      <td>2272</td>\n",
              "      <td>2223</td>\n",
              "      <td>2272</td>\n",
              "      <td>2272</td>\n",
              "    </tr>\n",
              "    <tr>\n",
              "      <th>1.0</th>\n",
              "      <td>1267</td>\n",
              "      <td>1267</td>\n",
              "      <td>1243</td>\n",
              "      <td>1267</td>\n",
              "      <td>1267</td>\n",
              "    </tr>\n",
              "  </tbody>\n",
              "</table>\n",
              "</div>\n",
              "      <button class=\"colab-df-convert\" onclick=\"convertToInteractive('df-c6552932-1650-4c44-ae93-8a724e54bcc9')\"\n",
              "              title=\"Convert this dataframe to an interactive table.\"\n",
              "              style=\"display:none;\">\n",
              "        \n",
              "  <svg xmlns=\"http://www.w3.org/2000/svg\" height=\"24px\"viewBox=\"0 0 24 24\"\n",
              "       width=\"24px\">\n",
              "    <path d=\"M0 0h24v24H0V0z\" fill=\"none\"/>\n",
              "    <path d=\"M18.56 5.44l.94 2.06.94-2.06 2.06-.94-2.06-.94-.94-2.06-.94 2.06-2.06.94zm-11 1L8.5 8.5l.94-2.06 2.06-.94-2.06-.94L8.5 2.5l-.94 2.06-2.06.94zm10 10l.94 2.06.94-2.06 2.06-.94-2.06-.94-.94-2.06-.94 2.06-2.06.94z\"/><path d=\"M17.41 7.96l-1.37-1.37c-.4-.4-.92-.59-1.43-.59-.52 0-1.04.2-1.43.59L10.3 9.45l-7.72 7.72c-.78.78-.78 2.05 0 2.83L4 21.41c.39.39.9.59 1.41.59.51 0 1.02-.2 1.41-.59l7.78-7.78 2.81-2.81c.8-.78.8-2.07 0-2.86zM5.41 20L4 18.59l7.72-7.72 1.47 1.35L5.41 20z\"/>\n",
              "  </svg>\n",
              "      </button>\n",
              "      \n",
              "  <style>\n",
              "    .colab-df-container {\n",
              "      display:flex;\n",
              "      flex-wrap:wrap;\n",
              "      gap: 12px;\n",
              "    }\n",
              "\n",
              "    .colab-df-convert {\n",
              "      background-color: #E8F0FE;\n",
              "      border: none;\n",
              "      border-radius: 50%;\n",
              "      cursor: pointer;\n",
              "      display: none;\n",
              "      fill: #1967D2;\n",
              "      height: 32px;\n",
              "      padding: 0 0 0 0;\n",
              "      width: 32px;\n",
              "    }\n",
              "\n",
              "    .colab-df-convert:hover {\n",
              "      background-color: #E2EBFA;\n",
              "      box-shadow: 0px 1px 2px rgba(60, 64, 67, 0.3), 0px 1px 3px 1px rgba(60, 64, 67, 0.15);\n",
              "      fill: #174EA6;\n",
              "    }\n",
              "\n",
              "    [theme=dark] .colab-df-convert {\n",
              "      background-color: #3B4455;\n",
              "      fill: #D2E3FC;\n",
              "    }\n",
              "\n",
              "    [theme=dark] .colab-df-convert:hover {\n",
              "      background-color: #434B5C;\n",
              "      box-shadow: 0px 1px 3px 1px rgba(0, 0, 0, 0.15);\n",
              "      filter: drop-shadow(0px 1px 2px rgba(0, 0, 0, 0.3));\n",
              "      fill: #FFFFFF;\n",
              "    }\n",
              "  </style>\n",
              "\n",
              "      <script>\n",
              "        const buttonEl =\n",
              "          document.querySelector('#df-c6552932-1650-4c44-ae93-8a724e54bcc9 button.colab-df-convert');\n",
              "        buttonEl.style.display =\n",
              "          google.colab.kernel.accessAllowed ? 'block' : 'none';\n",
              "\n",
              "        async function convertToInteractive(key) {\n",
              "          const element = document.querySelector('#df-c6552932-1650-4c44-ae93-8a724e54bcc9');\n",
              "          const dataTable =\n",
              "            await google.colab.kernel.invokeFunction('convertToInteractive',\n",
              "                                                     [key], {});\n",
              "          if (!dataTable) return;\n",
              "\n",
              "          const docLinkHtml = 'Like what you see? Visit the ' +\n",
              "            '<a target=\"_blank\" href=https://colab.research.google.com/notebooks/data_table.ipynb>data table notebook</a>'\n",
              "            + ' to learn more about interactive tables.';\n",
              "          element.innerHTML = '';\n",
              "          dataTable['output_type'] = 'display_data';\n",
              "          await google.colab.output.renderOutput(dataTable, element);\n",
              "          const docLink = document.createElement('div');\n",
              "          docLink.innerHTML = docLinkHtml;\n",
              "          element.appendChild(docLink);\n",
              "        }\n",
              "      </script>\n",
              "    </div>\n",
              "  </div>\n",
              "  "
            ]
          },
          "metadata": {},
          "execution_count": 122
        }
      ]
    },
    {
      "cell_type": "code",
      "source": [
        "pheno_mri.groupby(['Commercial_Use']).count()"
      ],
      "metadata": {
        "id": "0H1qLG6zETad",
        "outputId": "9e48be17-283d-42c0-9da7-0adc72cbf67a",
        "colab": {
          "base_uri": "https://localhost:8080/",
          "height": 143
        }
      },
      "execution_count": null,
      "outputs": [
        {
          "output_type": "execute_result",
          "data": {
            "text/plain": [
              "                 EID   Sex   Age  EHQ_Total  Full_Pheno\n",
              "Commercial_Use                                         \n",
              "No               561   561   561        526         561\n",
              "Yes             2978  2978  2978       2940        2978"
            ],
            "text/html": [
              "\n",
              "  <div id=\"df-19f8c75f-f509-446a-b3d7-8dbdf9271e38\">\n",
              "    <div class=\"colab-df-container\">\n",
              "      <div>\n",
              "<style scoped>\n",
              "    .dataframe tbody tr th:only-of-type {\n",
              "        vertical-align: middle;\n",
              "    }\n",
              "\n",
              "    .dataframe tbody tr th {\n",
              "        vertical-align: top;\n",
              "    }\n",
              "\n",
              "    .dataframe thead th {\n",
              "        text-align: right;\n",
              "    }\n",
              "</style>\n",
              "<table border=\"1\" class=\"dataframe\">\n",
              "  <thead>\n",
              "    <tr style=\"text-align: right;\">\n",
              "      <th></th>\n",
              "      <th>EID</th>\n",
              "      <th>Sex</th>\n",
              "      <th>Age</th>\n",
              "      <th>EHQ_Total</th>\n",
              "      <th>Full_Pheno</th>\n",
              "    </tr>\n",
              "    <tr>\n",
              "      <th>Commercial_Use</th>\n",
              "      <th></th>\n",
              "      <th></th>\n",
              "      <th></th>\n",
              "      <th></th>\n",
              "      <th></th>\n",
              "    </tr>\n",
              "  </thead>\n",
              "  <tbody>\n",
              "    <tr>\n",
              "      <th>No</th>\n",
              "      <td>561</td>\n",
              "      <td>561</td>\n",
              "      <td>561</td>\n",
              "      <td>526</td>\n",
              "      <td>561</td>\n",
              "    </tr>\n",
              "    <tr>\n",
              "      <th>Yes</th>\n",
              "      <td>2978</td>\n",
              "      <td>2978</td>\n",
              "      <td>2978</td>\n",
              "      <td>2940</td>\n",
              "      <td>2978</td>\n",
              "    </tr>\n",
              "  </tbody>\n",
              "</table>\n",
              "</div>\n",
              "      <button class=\"colab-df-convert\" onclick=\"convertToInteractive('df-19f8c75f-f509-446a-b3d7-8dbdf9271e38')\"\n",
              "              title=\"Convert this dataframe to an interactive table.\"\n",
              "              style=\"display:none;\">\n",
              "        \n",
              "  <svg xmlns=\"http://www.w3.org/2000/svg\" height=\"24px\"viewBox=\"0 0 24 24\"\n",
              "       width=\"24px\">\n",
              "    <path d=\"M0 0h24v24H0V0z\" fill=\"none\"/>\n",
              "    <path d=\"M18.56 5.44l.94 2.06.94-2.06 2.06-.94-2.06-.94-.94-2.06-.94 2.06-2.06.94zm-11 1L8.5 8.5l.94-2.06 2.06-.94-2.06-.94L8.5 2.5l-.94 2.06-2.06.94zm10 10l.94 2.06.94-2.06 2.06-.94-2.06-.94-.94-2.06-.94 2.06-2.06.94z\"/><path d=\"M17.41 7.96l-1.37-1.37c-.4-.4-.92-.59-1.43-.59-.52 0-1.04.2-1.43.59L10.3 9.45l-7.72 7.72c-.78.78-.78 2.05 0 2.83L4 21.41c.39.39.9.59 1.41.59.51 0 1.02-.2 1.41-.59l7.78-7.78 2.81-2.81c.8-.78.8-2.07 0-2.86zM5.41 20L4 18.59l7.72-7.72 1.47 1.35L5.41 20z\"/>\n",
              "  </svg>\n",
              "      </button>\n",
              "      \n",
              "  <style>\n",
              "    .colab-df-container {\n",
              "      display:flex;\n",
              "      flex-wrap:wrap;\n",
              "      gap: 12px;\n",
              "    }\n",
              "\n",
              "    .colab-df-convert {\n",
              "      background-color: #E8F0FE;\n",
              "      border: none;\n",
              "      border-radius: 50%;\n",
              "      cursor: pointer;\n",
              "      display: none;\n",
              "      fill: #1967D2;\n",
              "      height: 32px;\n",
              "      padding: 0 0 0 0;\n",
              "      width: 32px;\n",
              "    }\n",
              "\n",
              "    .colab-df-convert:hover {\n",
              "      background-color: #E2EBFA;\n",
              "      box-shadow: 0px 1px 2px rgba(60, 64, 67, 0.3), 0px 1px 3px 1px rgba(60, 64, 67, 0.15);\n",
              "      fill: #174EA6;\n",
              "    }\n",
              "\n",
              "    [theme=dark] .colab-df-convert {\n",
              "      background-color: #3B4455;\n",
              "      fill: #D2E3FC;\n",
              "    }\n",
              "\n",
              "    [theme=dark] .colab-df-convert:hover {\n",
              "      background-color: #434B5C;\n",
              "      box-shadow: 0px 1px 3px 1px rgba(0, 0, 0, 0.15);\n",
              "      filter: drop-shadow(0px 1px 2px rgba(0, 0, 0, 0.3));\n",
              "      fill: #FFFFFF;\n",
              "    }\n",
              "  </style>\n",
              "\n",
              "      <script>\n",
              "        const buttonEl =\n",
              "          document.querySelector('#df-19f8c75f-f509-446a-b3d7-8dbdf9271e38 button.colab-df-convert');\n",
              "        buttonEl.style.display =\n",
              "          google.colab.kernel.accessAllowed ? 'block' : 'none';\n",
              "\n",
              "        async function convertToInteractive(key) {\n",
              "          const element = document.querySelector('#df-19f8c75f-f509-446a-b3d7-8dbdf9271e38');\n",
              "          const dataTable =\n",
              "            await google.colab.kernel.invokeFunction('convertToInteractive',\n",
              "                                                     [key], {});\n",
              "          if (!dataTable) return;\n",
              "\n",
              "          const docLinkHtml = 'Like what you see? Visit the ' +\n",
              "            '<a target=\"_blank\" href=https://colab.research.google.com/notebooks/data_table.ipynb>data table notebook</a>'\n",
              "            + ' to learn more about interactive tables.';\n",
              "          element.innerHTML = '';\n",
              "          dataTable['output_type'] = 'display_data';\n",
              "          await google.colab.output.renderOutput(dataTable, element);\n",
              "          const docLink = document.createElement('div');\n",
              "          docLink.innerHTML = docLinkHtml;\n",
              "          element.appendChild(docLink);\n",
              "        }\n",
              "      </script>\n",
              "    </div>\n",
              "  </div>\n",
              "  "
            ]
          },
          "metadata": {},
          "execution_count": 123
        }
      ]
    },
    {
      "cell_type": "code",
      "source": [
        "sns.displot(pheno_mri[pheno_mri['EHQ_Total'] >= 40].Age)\n",
        "pl.title('Age distribution for right handed people');"
      ],
      "metadata": {
        "id": "0jP8eEc6F0hn",
        "outputId": "b28afdf6-bf10-40c8-969e-0cea0a02adc9",
        "colab": {
          "base_uri": "https://localhost:8080/",
          "height": 381
        }
      },
      "execution_count": null,
      "outputs": [
        {
          "output_type": "display_data",
          "data": {
            "text/plain": [
              "<Figure size 360x360 with 1 Axes>"
            ],
            "image/png": "[encoded data removed]"
          },
          "metadata": {}
        }
      ]
    },
    {
      "cell_type": "code",
      "source": [
        "unique = []\n",
        "repetition = []\n",
        "for i in pheno_mri[pheno_mri['EHQ_Total'] >= 40].EID.values:\n",
        "  if i not in unique:\n",
        "    unique.append(i)\n",
        "  else:\n",
        "    repetition.append(i)\n",
        "print(pheno_mri[pheno_mri['EHQ_Total'] >= 40].shape[0])\n",
        "print(len(unique))\n",
        "print(len(repetition))\n",
        "# There will be no repetition if we clean the data"
      ],
      "metadata": {
        "id": "xPu8lRcKGL37",
        "outputId": "b7dd3149-6a7b-40e1-c8c2-1854ab2cd29a",
        "colab": {
          "base_uri": "https://localhost:8080/"
        }
      },
      "execution_count": null,
      "outputs": [
        {
          "output_type": "stream",
          "name": "stdout",
          "text": [
            "2684\n",
            "2684\n",
            "0\n"
          ]
        }
      ]
    },
    {
      "cell_type": "code",
      "source": [
        "pheno_mri.to_csv(\n",
        "    Path(working_path).joinpath('pheno_mri.csv')\n",
        ")"
      ],
      "metadata": {
        "id": "wJchXp3wGjc7"
      },
      "execution_count": null,
      "outputs": []
    },
    {
      "cell_type": "markdown",
      "source": [
        "## For CMI"
      ],
      "metadata": {
        "id": "bJU46LfRY0AT"
      }
    },
    {
      "cell_type": "code",
      "source": [
        "data_1 = pd.read_csv(\n",
        "    working_path.joinpath('Query1.csv'),\n",
        "    index_col=None,\n",
        "    low_memory=False\n",
        ")\n",
        "data_2 = pd.read_csv(\n",
        "    working_path.joinpath('Query_final.csv'),\n",
        "    index_col=None,\n",
        "    low_memory=False\n",
        ")"
      ],
      "metadata": {
        "id": "CQRAVu-yY2W6"
      },
      "execution_count": 7,
      "outputs": []
    },
    {
      "cell_type": "code",
      "source": [
        "# work on Identifiers column\n",
        "ids = data_1.Identifiers.values\n",
        "new_ids = []\n",
        "for i in ids:\n",
        "  new_i = i.replace(',assessment', '')\n",
        "  new_ids.append(new_i)\t\n",
        "print(len(ids))\n",
        "print(len(new_ids))\n",
        "\n",
        "data_1['Identifiers'] = new_ids"
      ],
      "metadata": {
        "id": "g_IIWJd0Y2ZK",
        "outputId": "1e5a6c9f-88e9-460b-f049-82a895b04f19",
        "colab": {
          "base_uri": "https://localhost:8080/"
        }
      },
      "execution_count": 8,
      "outputs": [
        {
          "output_type": "stream",
          "name": "stdout",
          "text": [
            "8210\n",
            "8210\n"
          ]
        }
      ]
    },
    {
      "cell_type": "code",
      "source": [
        "ids = data_2.Identifiers.values\n",
        "new_ids = []\n",
        "for i in ids:\n",
        "  new_i = i.replace(',assessment', '')\n",
        "  new_ids.append(new_i)\t\n",
        "print(len(ids))\n",
        "print(len(new_ids))\n",
        "\n",
        "data_2['Identifiers'] = new_ids"
      ],
      "metadata": {
        "id": "-dKWb7n4ZgyS",
        "outputId": "e17a8faa-a0d8-48e7-d006-d0ee25d69655",
        "colab": {
          "base_uri": "https://localhost:8080/"
        }
      },
      "execution_count": 9,
      "outputs": [
        {
          "output_type": "stream",
          "name": "stdout",
          "text": [
            "8732\n",
            "8732\n"
          ]
        }
      ]
    },
    {
      "cell_type": "code",
      "source": [
        "# data_2 contains an empty row as a first row\n",
        "# let's delete it\n",
        "data_2 = data_2.drop(labels=0, axis=0)"
      ],
      "metadata": {
        "id": "9ROuCAqXZ226"
      },
      "execution_count": 10,
      "outputs": []
    },
    {
      "cell_type": "code",
      "source": [
        "print(data_1.shape)\n",
        "print(data_2.shape)"
      ],
      "metadata": {
        "id": "XmjH_e0vY2dx",
        "outputId": "8730e829-35d2-42b7-fa93-c57f7890b037",
        "colab": {
          "base_uri": "https://localhost:8080/"
        }
      },
      "execution_count": 11,
      "outputs": [
        {
          "output_type": "stream",
          "name": "stdout",
          "text": [
            "(8210, 88)\n",
            "(8731, 168)\n"
          ]
        }
      ]
    },
    {
      "cell_type": "markdown",
      "source": [
        "The difference in the shape could be partially explained by the new rows with the other versions of the same identifiers that have been already used in the database: identifier_1, identifier_2, identifier_3 etc."
      ],
      "metadata": {
        "id": "Eno58Yqwa_EE"
      }
    },
    {
      "cell_type": "code",
      "source": [
        "# data 1\n",
        "versions_1 = []\n",
        "for i in data_1.Identifiers.values.tolist():\n",
        "  if '_' in i:\n",
        "    versions_1.append(i)\n",
        "print(len(versions_1))\n",
        "\n",
        "# data 2\n",
        "versions_2 = []\n",
        "for i in data_2.Identifiers.values.tolist():\n",
        "  if '_' in i:\n",
        "    versions_2.append(i)\n",
        "print(len(versions_2))"
      ],
      "metadata": {
        "id": "kQcBqc0jbM4T",
        "outputId": "658b26db-b928-4030-c467-336a801aecb1",
        "colab": {
          "base_uri": "https://localhost:8080/"
        }
      },
      "execution_count": 12,
      "outputs": [
        {
          "output_type": "stream",
          "name": "stdout",
          "text": [
            "3341\n",
            "3862\n"
          ]
        }
      ]
    },
    {
      "cell_type": "code",
      "source": [
        "# data 1 \n",
        "data_upd_1 = data_1.copy()\n",
        "columns = data_upd_1.columns\n",
        "i = 0\n",
        "for id in versions_1:\n",
        "  values = data_upd_1[data_upd_1['Identifiers'] == id].values.tolist()\n",
        "  while len(values) == 1:\n",
        "    values = values[0]\n",
        "  for value in values[1:]:\n",
        "    if value != '.':\n",
        "      if type(value) == str:\n",
        "        column_number = values.index(value)\n",
        "        row_number = data_upd_1[data_upd_1['Identifiers'] == id[:12]].index[0]\n",
        "        data_upd_1.at[row_number, columns[column_number]] = value\n",
        "      elif type(value) != str and math.isnan(value) is not True:\n",
        "        column_number = values.index(value)\n",
        "        row_number = data_upd_1[data_upd_1['Identifiers'] == id[:12]].index[0]\n",
        "        data_upd_1.at[row_number, columns[column_number]] = value\n",
        "      else:\n",
        "        if math.isnan(value) is not True:\n",
        "          print(value, type(value))\n",
        "  i += 1\n",
        "print(i)"
      ],
      "metadata": {
        "id": "S-CfmSoG0sgn"
      },
      "execution_count": 81,
      "outputs": []
    },
    {
      "cell_type": "code",
      "source": [
        "for id in versions_1:\n",
        "  data_upd_1 = data_upd_1[data_upd_1['Identifiers'] != id]\n",
        "data_upd_1.shape"
      ],
      "metadata": {
        "id": "91ZYglzq-PuI",
        "outputId": "e5b7e354-9576-4d66-f841-e485bcfd9c6f",
        "colab": {
          "base_uri": "https://localhost:8080/"
        }
      },
      "execution_count": 87,
      "outputs": [
        {
          "output_type": "execute_result",
          "data": {
            "text/plain": [
              "(4869, 88)"
            ]
          },
          "metadata": {},
          "execution_count": 87
        }
      ]
    },
    {
      "cell_type": "code",
      "source": [
        "# data 2\n",
        "data_upd_2 = data_2.copy()\n",
        "columns = data_upd_2.columns\n",
        "i = 0\n",
        "for id in versions_2:\n",
        "  values = data_upd_2[data_upd_2['Identifiers'] == id].values.tolist()\n",
        "  while len(values) == 1:\n",
        "    values = values[0]\n",
        "  for value in values[1:]:\n",
        "    if value != '.':\n",
        "      if type(value) == str:\n",
        "        column_number = values.index(value)\n",
        "        row_number = data_upd_2[data_upd_2['Identifiers'] == id[:12]].index[0]\n",
        "        data_upd_2.at[row_number, columns[column_number]] = value\n",
        "      elif type(value) != str and math.isnan(value) is not True:\n",
        "        column_number = values.index(value)\n",
        "        row_number = data_upd_2[data_upd_2['Identifiers'] == id[:12]].index[0]\n",
        "        data_upd_2.at[row_number, columns[column_number]] = value\n",
        "      else:\n",
        "        if math.isnan(value) is not True:\n",
        "          print(value, type(value))\n",
        "  i += 1\n",
        "print(i)"
      ],
      "metadata": {
        "id": "fP1GQ_ieAORo",
        "outputId": "8bd2bc55-5eb8-47c2-da75-cdeb4f6c8edd",
        "colab": {
          "base_uri": "https://localhost:8080/"
        }
      },
      "execution_count": 88,
      "outputs": [
        {
          "output_type": "stream",
          "name": "stdout",
          "text": [
            "3862\n"
          ]
        }
      ]
    },
    {
      "cell_type": "code",
      "source": [
        "for id in versions_2:\n",
        "  data_upd_2 = data_upd_2[data_upd_2['Identifiers'] != id]\n",
        "data_upd_2.shape"
      ],
      "metadata": {
        "id": "NjjtzGEEAeuJ",
        "outputId": "fc1e6155-dcae-4ff0-9d81-f986699bb385",
        "colab": {
          "base_uri": "https://localhost:8080/"
        }
      },
      "execution_count": 90,
      "outputs": [
        {
          "output_type": "execute_result",
          "data": {
            "text/plain": [
              "(4869, 168)"
            ]
          },
          "metadata": {},
          "execution_count": 90
        }
      ]
    },
    {
      "cell_type": "markdown",
      "source": [
        "Checking whether in this additional visits rows there were any information on a new diagnosis update. No diagnosis updates were in the additional visits of participants already included in the database (neither in query 1 nor 2)"
      ],
      "metadata": {
        "id": "GLKsnjmMHcwk"
      }
    },
    {
      "cell_type": "code",
      "source": [
        "for id in versions_1:\n",
        "  for number in range(1, 10):\n",
        "    column = 'ConsensusDx,DX_0' + str(number)\n",
        "    if data_1[data_1['Identifiers'] == id][column].values[0] != '.':\n",
        "      print(data_1[data_1['Identifiers'] == id][column].values)\n",
        "    if data_1[data_1['Identifiers'] == id]['ConsensusDx,DX_10'].values[0] != '.':\n",
        "      print(data_1[data_1['Identifiers'] == id]['ConsensusDx,DX_10'].values)"
      ],
      "metadata": {
        "id": "ain7rVMCHLJU"
      },
      "execution_count": 146,
      "outputs": []
    },
    {
      "cell_type": "code",
      "source": [
        "for id in versions_2:\n",
        "  for number in range(1, 10):\n",
        "    column = 'Diagnosis_ClinicianConsensus,DX_0' + str(number)\n",
        "    if data_2[data_2['Identifiers'] == id][column].values[0] != '.':\n",
        "      print(data_2[data_2['Identifiers'] == id][column].values)\n",
        "    if data_2[data_2['Identifiers'] == id]['Diagnosis_ClinicianConsensus,DX_10'].values[0] != '.':\n",
        "      print(data_2[data_2['Identifiers'] == id]['Diagnosis_ClinicianConsensus,DX_10'].values)\n"
      ],
      "metadata": {
        "id": "hTccoG5wEzQv"
      },
      "execution_count": 145,
      "outputs": []
    },
    {
      "cell_type": "markdown",
      "source": [
        "Checking whether two inquires have the same identifiers"
      ],
      "metadata": {
        "id": "Ehn4Sl-EHlqc"
      }
    },
    {
      "cell_type": "code",
      "source": [
        "ids1 = data_upd_1['Identifiers'].values.tolist()\n",
        "ids2 = data_upd_2['Identifiers'].values.tolist()\n",
        "\n",
        "different = []\n",
        "for i in range(0, 4869):\n",
        "  if ids1[i] not in ids2:\n",
        "    different.append(ids1[i])\n",
        "  if ids2[i] not in ids1:\n",
        "    if ids2[i] not in different:\n",
        "      different.append(ids2[i])\n",
        "print(different)"
      ],
      "metadata": {
        "id": "7DS1UV6eJ2-y",
        "outputId": "cb59958b-35e3-4876-ca13-abbe1fe6e7c4",
        "colab": {
          "base_uri": "https://localhost:8080/"
        }
      },
      "execution_count": 147,
      "outputs": [
        {
          "output_type": "stream",
          "name": "stdout",
          "text": [
            "['', 'NDARXP325YLV']\n"
          ]
        }
      ]
    },
    {
      "cell_type": "code",
      "source": [
        "data_upd_1[data_upd_1['Identifiers'] == '']"
      ],
      "metadata": {
        "id": "08zMF3Z8Kt2Y",
        "outputId": "502c6a5d-57e7-4670-be50-66f96e8a6333",
        "colab": {
          "base_uri": "https://localhost:8080/",
          "height": 174
        }
      },
      "execution_count": 158,
      "outputs": [
        {
          "output_type": "execute_result",
          "data": {
            "text/plain": [
              "     Identifiers Basic_Demos,Age Basic_Demos,Sex Basic_Demos,Site  \\\n",
              "2175                         NaN             NaN              NaN   \n",
              "\n",
              "     CELF,CELF_Total ConsensusDx,DX_01 ConsensusDx,DX_01_Code  \\\n",
              "2175             NaN                 .                      .   \n",
              "\n",
              "     ConsensusDx,DX_01_Confirmed ConsensusDx,DX_02 ConsensusDx,DX_02_Code  \\\n",
              "2175                           .                 .                      .   \n",
              "\n",
              "      ... WIAT,WIAT_Num_Stnd WIAT,WIAT_Pseudo_Stnd WIAT,WIAT_RC_Stnd  \\\n",
              "2175  ...                NaN                   NaN               NaN   \n",
              "\n",
              "     WIAT,WIAT_Spell_Stnd WIAT,WIAT_Word_Stnd WISC,WISC_FSIQ WISC,WISC_PSI  \\\n",
              "2175                  NaN                 NaN            NaN           NaN   \n",
              "\n",
              "     WISC,WISC_VCI WISC,WISC_VSI WISC,WISC_WMI  \n",
              "2175           NaN           NaN           NaN  \n",
              "\n",
              "[1 rows x 88 columns]"
            ],
            "text/html": [
              "\n",
              "  <div id=\"df-0b8eeba8-abbd-48e1-81e2-93558e621308\">\n",
              "    <div class=\"colab-df-container\">\n",
              "      <div>\n",
              "<style scoped>\n",
              "    .dataframe tbody tr th:only-of-type {\n",
              "        vertical-align: middle;\n",
              "    }\n",
              "\n",
              "    .dataframe tbody tr th {\n",
              "        vertical-align: top;\n",
              "    }\n",
              "\n",
              "    .dataframe thead th {\n",
              "        text-align: right;\n",
              "    }\n",
              "</style>\n",
              "<table border=\"1\" class=\"dataframe\">\n",
              "  <thead>\n",
              "    <tr style=\"text-align: right;\">\n",
              "      <th></th>\n",
              "      <th>Identifiers</th>\n",
              "      <th>Basic_Demos,Age</th>\n",
              "      <th>Basic_Demos,Sex</th>\n",
              "      <th>Basic_Demos,Site</th>\n",
              "      <th>CELF,CELF_Total</th>\n",
              "      <th>ConsensusDx,DX_01</th>\n",
              "      <th>ConsensusDx,DX_01_Code</th>\n",
              "      <th>ConsensusDx,DX_01_Confirmed</th>\n",
              "      <th>ConsensusDx,DX_02</th>\n",
              "      <th>ConsensusDx,DX_02_Code</th>\n",
              "      <th>...</th>\n",
              "      <th>WIAT,WIAT_Num_Stnd</th>\n",
              "      <th>WIAT,WIAT_Pseudo_Stnd</th>\n",
              "      <th>WIAT,WIAT_RC_Stnd</th>\n",
              "      <th>WIAT,WIAT_Spell_Stnd</th>\n",
              "      <th>WIAT,WIAT_Word_Stnd</th>\n",
              "      <th>WISC,WISC_FSIQ</th>\n",
              "      <th>WISC,WISC_PSI</th>\n",
              "      <th>WISC,WISC_VCI</th>\n",
              "      <th>WISC,WISC_VSI</th>\n",
              "      <th>WISC,WISC_WMI</th>\n",
              "    </tr>\n",
              "  </thead>\n",
              "  <tbody>\n",
              "    <tr>\n",
              "      <th>2175</th>\n",
              "      <td></td>\n",
              "      <td>NaN</td>\n",
              "      <td>NaN</td>\n",
              "      <td>NaN</td>\n",
              "      <td>NaN</td>\n",
              "      <td>.</td>\n",
              "      <td>.</td>\n",
              "      <td>.</td>\n",
              "      <td>.</td>\n",
              "      <td>.</td>\n",
              "      <td>...</td>\n",
              "      <td>NaN</td>\n",
              "      <td>NaN</td>\n",
              "      <td>NaN</td>\n",
              "      <td>NaN</td>\n",
              "      <td>NaN</td>\n",
              "      <td>NaN</td>\n",
              "      <td>NaN</td>\n",
              "      <td>NaN</td>\n",
              "      <td>NaN</td>\n",
              "      <td>NaN</td>\n",
              "    </tr>\n",
              "  </tbody>\n",
              "</table>\n",
              "<p>1 rows × 88 columns</p>\n",
              "</div>\n",
              "      <button class=\"colab-df-convert\" onclick=\"convertToInteractive('df-0b8eeba8-abbd-48e1-81e2-93558e621308')\"\n",
              "              title=\"Convert this dataframe to an interactive table.\"\n",
              "              style=\"display:none;\">\n",
              "        \n",
              "  <svg xmlns=\"http://www.w3.org/2000/svg\" height=\"24px\"viewBox=\"0 0 24 24\"\n",
              "       width=\"24px\">\n",
              "    <path d=\"M0 0h24v24H0V0z\" fill=\"none\"/>\n",
              "    <path d=\"M18.56 5.44l.94 2.06.94-2.06 2.06-.94-2.06-.94-.94-2.06-.94 2.06-2.06.94zm-11 1L8.5 8.5l.94-2.06 2.06-.94-2.06-.94L8.5 2.5l-.94 2.06-2.06.94zm10 10l.94 2.06.94-2.06 2.06-.94-2.06-.94-.94-2.06-.94 2.06-2.06.94z\"/><path d=\"M17.41 7.96l-1.37-1.37c-.4-.4-.92-.59-1.43-.59-.52 0-1.04.2-1.43.59L10.3 9.45l-7.72 7.72c-.78.78-.78 2.05 0 2.83L4 21.41c.39.39.9.59 1.41.59.51 0 1.02-.2 1.41-.59l7.78-7.78 2.81-2.81c.8-.78.8-2.07 0-2.86zM5.41 20L4 18.59l7.72-7.72 1.47 1.35L5.41 20z\"/>\n",
              "  </svg>\n",
              "      </button>\n",
              "      \n",
              "  <style>\n",
              "    .colab-df-container {\n",
              "      display:flex;\n",
              "      flex-wrap:wrap;\n",
              "      gap: 12px;\n",
              "    }\n",
              "\n",
              "    .colab-df-convert {\n",
              "      background-color: #E8F0FE;\n",
              "      border: none;\n",
              "      border-radius: 50%;\n",
              "      cursor: pointer;\n",
              "      display: none;\n",
              "      fill: #1967D2;\n",
              "      height: 32px;\n",
              "      padding: 0 0 0 0;\n",
              "      width: 32px;\n",
              "    }\n",
              "\n",
              "    .colab-df-convert:hover {\n",
              "      background-color: #E2EBFA;\n",
              "      box-shadow: 0px 1px 2px rgba(60, 64, 67, 0.3), 0px 1px 3px 1px rgba(60, 64, 67, 0.15);\n",
              "      fill: #174EA6;\n",
              "    }\n",
              "\n",
              "    [theme=dark] .colab-df-convert {\n",
              "      background-color: #3B4455;\n",
              "      fill: #D2E3FC;\n",
              "    }\n",
              "\n",
              "    [theme=dark] .colab-df-convert:hover {\n",
              "      background-color: #434B5C;\n",
              "      box-shadow: 0px 1px 3px 1px rgba(0, 0, 0, 0.15);\n",
              "      filter: drop-shadow(0px 1px 2px rgba(0, 0, 0, 0.3));\n",
              "      fill: #FFFFFF;\n",
              "    }\n",
              "  </style>\n",
              "\n",
              "      <script>\n",
              "        const buttonEl =\n",
              "          document.querySelector('#df-0b8eeba8-abbd-48e1-81e2-93558e621308 button.colab-df-convert');\n",
              "        buttonEl.style.display =\n",
              "          google.colab.kernel.accessAllowed ? 'block' : 'none';\n",
              "\n",
              "        async function convertToInteractive(key) {\n",
              "          const element = document.querySelector('#df-0b8eeba8-abbd-48e1-81e2-93558e621308');\n",
              "          const dataTable =\n",
              "            await google.colab.kernel.invokeFunction('convertToInteractive',\n",
              "                                                     [key], {});\n",
              "          if (!dataTable) return;\n",
              "\n",
              "          const docLinkHtml = 'Like what you see? Visit the ' +\n",
              "            '<a target=\"_blank\" href=https://colab.research.google.com/notebooks/data_table.ipynb>data table notebook</a>'\n",
              "            + ' to learn more about interactive tables.';\n",
              "          element.innerHTML = '';\n",
              "          dataTable['output_type'] = 'display_data';\n",
              "          await google.colab.output.renderOutput(dataTable, element);\n",
              "          const docLink = document.createElement('div');\n",
              "          docLink.innerHTML = docLinkHtml;\n",
              "          element.appendChild(docLink);\n",
              "        }\n",
              "      </script>\n",
              "    </div>\n",
              "  </div>\n",
              "  "
            ]
          },
          "metadata": {},
          "execution_count": 158
        }
      ]
    },
    {
      "cell_type": "code",
      "source": [
        "data_upd_2[data_upd_2['Identifiers'] == 'NDARXP325YLV']"
      ],
      "metadata": {
        "id": "l8cZu_TQKmQ0",
        "outputId": "c2d5956c-ecc3-41bf-e4de-c5cdf039fe81",
        "colab": {
          "base_uri": "https://localhost:8080/",
          "height": 174
        }
      },
      "execution_count": 157,
      "outputs": [
        {
          "output_type": "execute_result",
          "data": {
            "text/plain": [
              "       Identifiers Audit,AUDIT_Total_Score Barratt,Barratt_Total  \\\n",
              "8731  NDARXP325YLV                       4                     .   \n",
              "\n",
              "     Barratt,Barratt_Total_Edu Barratt,Barratt_Total_Occ Basic_Demos,Age  \\\n",
              "8731                         .                         .               .   \n",
              "\n",
              "     Basic_Demos,Sex Basic_Demos,Site CELF,CELF_Total CTOPP,CTOPP_BW_D  ...  \\\n",
              "8731               .                .               .                .  ...   \n",
              "\n",
              "     WIAT,WIAT_Num_Stnd WIAT,WIAT_Pseudo_Stnd WIAT,WIAT_RC_Stnd  \\\n",
              "8731                  .                     .                 .   \n",
              "\n",
              "     WIAT,WIAT_Spell_Stnd WIAT,WIAT_Word_Stnd WISC,WISC_FSIQ WISC,WISC_PSI  \\\n",
              "8731                    .                   .              .             .   \n",
              "\n",
              "     WISC,WISC_VCI WISC,WISC_VSI WISC,WISC_WMI  \n",
              "8731             .             .             .  \n",
              "\n",
              "[1 rows x 168 columns]"
            ],
            "text/html": [
              "\n",
              "  <div id=\"df-05adfe23-8e7a-4ace-8369-16861fb88ae3\">\n",
              "    <div class=\"colab-df-container\">\n",
              "      <div>\n",
              "<style scoped>\n",
              "    .dataframe tbody tr th:only-of-type {\n",
              "        vertical-align: middle;\n",
              "    }\n",
              "\n",
              "    .dataframe tbody tr th {\n",
              "        vertical-align: top;\n",
              "    }\n",
              "\n",
              "    .dataframe thead th {\n",
              "        text-align: right;\n",
              "    }\n",
              "</style>\n",
              "<table border=\"1\" class=\"dataframe\">\n",
              "  <thead>\n",
              "    <tr style=\"text-align: right;\">\n",
              "      <th></th>\n",
              "      <th>Identifiers</th>\n",
              "      <th>Audit,AUDIT_Total_Score</th>\n",
              "      <th>Barratt,Barratt_Total</th>\n",
              "      <th>Barratt,Barratt_Total_Edu</th>\n",
              "      <th>Barratt,Barratt_Total_Occ</th>\n",
              "      <th>Basic_Demos,Age</th>\n",
              "      <th>Basic_Demos,Sex</th>\n",
              "      <th>Basic_Demos,Site</th>\n",
              "      <th>CELF,CELF_Total</th>\n",
              "      <th>CTOPP,CTOPP_BW_D</th>\n",
              "      <th>...</th>\n",
              "      <th>WIAT,WIAT_Num_Stnd</th>\n",
              "      <th>WIAT,WIAT_Pseudo_Stnd</th>\n",
              "      <th>WIAT,WIAT_RC_Stnd</th>\n",
              "      <th>WIAT,WIAT_Spell_Stnd</th>\n",
              "      <th>WIAT,WIAT_Word_Stnd</th>\n",
              "      <th>WISC,WISC_FSIQ</th>\n",
              "      <th>WISC,WISC_PSI</th>\n",
              "      <th>WISC,WISC_VCI</th>\n",
              "      <th>WISC,WISC_VSI</th>\n",
              "      <th>WISC,WISC_WMI</th>\n",
              "    </tr>\n",
              "  </thead>\n",
              "  <tbody>\n",
              "    <tr>\n",
              "      <th>8731</th>\n",
              "      <td>NDARXP325YLV</td>\n",
              "      <td>4</td>\n",
              "      <td>.</td>\n",
              "      <td>.</td>\n",
              "      <td>.</td>\n",
              "      <td>.</td>\n",
              "      <td>.</td>\n",
              "      <td>.</td>\n",
              "      <td>.</td>\n",
              "      <td>.</td>\n",
              "      <td>...</td>\n",
              "      <td>.</td>\n",
              "      <td>.</td>\n",
              "      <td>.</td>\n",
              "      <td>.</td>\n",
              "      <td>.</td>\n",
              "      <td>.</td>\n",
              "      <td>.</td>\n",
              "      <td>.</td>\n",
              "      <td>.</td>\n",
              "      <td>.</td>\n",
              "    </tr>\n",
              "  </tbody>\n",
              "</table>\n",
              "<p>1 rows × 168 columns</p>\n",
              "</div>\n",
              "      <button class=\"colab-df-convert\" onclick=\"convertToInteractive('df-05adfe23-8e7a-4ace-8369-16861fb88ae3')\"\n",
              "              title=\"Convert this dataframe to an interactive table.\"\n",
              "              style=\"display:none;\">\n",
              "        \n",
              "  <svg xmlns=\"http://www.w3.org/2000/svg\" height=\"24px\"viewBox=\"0 0 24 24\"\n",
              "       width=\"24px\">\n",
              "    <path d=\"M0 0h24v24H0V0z\" fill=\"none\"/>\n",
              "    <path d=\"M18.56 5.44l.94 2.06.94-2.06 2.06-.94-2.06-.94-.94-2.06-.94 2.06-2.06.94zm-11 1L8.5 8.5l.94-2.06 2.06-.94-2.06-.94L8.5 2.5l-.94 2.06-2.06.94zm10 10l.94 2.06.94-2.06 2.06-.94-2.06-.94-.94-2.06-.94 2.06-2.06.94z\"/><path d=\"M17.41 7.96l-1.37-1.37c-.4-.4-.92-.59-1.43-.59-.52 0-1.04.2-1.43.59L10.3 9.45l-7.72 7.72c-.78.78-.78 2.05 0 2.83L4 21.41c.39.39.9.59 1.41.59.51 0 1.02-.2 1.41-.59l7.78-7.78 2.81-2.81c.8-.78.8-2.07 0-2.86zM5.41 20L4 18.59l7.72-7.72 1.47 1.35L5.41 20z\"/>\n",
              "  </svg>\n",
              "      </button>\n",
              "      \n",
              "  <style>\n",
              "    .colab-df-container {\n",
              "      display:flex;\n",
              "      flex-wrap:wrap;\n",
              "      gap: 12px;\n",
              "    }\n",
              "\n",
              "    .colab-df-convert {\n",
              "      background-color: #E8F0FE;\n",
              "      border: none;\n",
              "      border-radius: 50%;\n",
              "      cursor: pointer;\n",
              "      display: none;\n",
              "      fill: #1967D2;\n",
              "      height: 32px;\n",
              "      padding: 0 0 0 0;\n",
              "      width: 32px;\n",
              "    }\n",
              "\n",
              "    .colab-df-convert:hover {\n",
              "      background-color: #E2EBFA;\n",
              "      box-shadow: 0px 1px 2px rgba(60, 64, 67, 0.3), 0px 1px 3px 1px rgba(60, 64, 67, 0.15);\n",
              "      fill: #174EA6;\n",
              "    }\n",
              "\n",
              "    [theme=dark] .colab-df-convert {\n",
              "      background-color: #3B4455;\n",
              "      fill: #D2E3FC;\n",
              "    }\n",
              "\n",
              "    [theme=dark] .colab-df-convert:hover {\n",
              "      background-color: #434B5C;\n",
              "      box-shadow: 0px 1px 3px 1px rgba(0, 0, 0, 0.15);\n",
              "      filter: drop-shadow(0px 1px 2px rgba(0, 0, 0, 0.3));\n",
              "      fill: #FFFFFF;\n",
              "    }\n",
              "  </style>\n",
              "\n",
              "      <script>\n",
              "        const buttonEl =\n",
              "          document.querySelector('#df-05adfe23-8e7a-4ace-8369-16861fb88ae3 button.colab-df-convert');\n",
              "        buttonEl.style.display =\n",
              "          google.colab.kernel.accessAllowed ? 'block' : 'none';\n",
              "\n",
              "        async function convertToInteractive(key) {\n",
              "          const element = document.querySelector('#df-05adfe23-8e7a-4ace-8369-16861fb88ae3');\n",
              "          const dataTable =\n",
              "            await google.colab.kernel.invokeFunction('convertToInteractive',\n",
              "                                                     [key], {});\n",
              "          if (!dataTable) return;\n",
              "\n",
              "          const docLinkHtml = 'Like what you see? Visit the ' +\n",
              "            '<a target=\"_blank\" href=https://colab.research.google.com/notebooks/data_table.ipynb>data table notebook</a>'\n",
              "            + ' to learn more about interactive tables.';\n",
              "          element.innerHTML = '';\n",
              "          dataTable['output_type'] = 'display_data';\n",
              "          await google.colab.output.renderOutput(dataTable, element);\n",
              "          const docLink = document.createElement('div');\n",
              "          docLink.innerHTML = docLinkHtml;\n",
              "          element.appendChild(docLink);\n",
              "        }\n",
              "      </script>\n",
              "    </div>\n",
              "  </div>\n",
              "  "
            ]
          },
          "metadata": {},
          "execution_count": 157
        }
      ]
    },
    {
      "cell_type": "markdown",
      "source": [
        "Checking whether all of the undentifiers are unique"
      ],
      "metadata": {
        "id": "GKpTPMIMOX9d"
      }
    },
    {
      "cell_type": "code",
      "source": [
        "print(data_upd_1.shape)\n",
        "print(len(data_upd_1.Identifiers.unique()))"
      ],
      "metadata": {
        "id": "2fJSu0YaOQbV",
        "outputId": "b564456b-4709-4698-da76-0900f3fd1da5",
        "colab": {
          "base_uri": "https://localhost:8080/"
        }
      },
      "execution_count": 159,
      "outputs": [
        {
          "output_type": "stream",
          "name": "stdout",
          "text": [
            "(4869, 88)\n",
            "4869\n"
          ]
        }
      ]
    },
    {
      "cell_type": "code",
      "source": [
        "print(data_upd_2.shape)\n",
        "print(len(data_upd_2.Identifiers.unique()))"
      ],
      "metadata": {
        "id": "PE40-pUpOPuO",
        "outputId": "d8e8b511-04f7-4871-c986-fb5ee1269502",
        "colab": {
          "base_uri": "https://localhost:8080/"
        }
      },
      "execution_count": 160,
      "outputs": [
        {
          "output_type": "stream",
          "name": "stdout",
          "text": [
            "(4869, 168)\n",
            "4869\n"
          ]
        }
      ]
    },
    {
      "cell_type": "markdown",
      "source": [
        "Checking the amount of each category for the Consensus Diagnosis in query 1 and 2."
      ],
      "metadata": {
        "id": "P88BSuPABi45"
      }
    },
    {
      "cell_type": "code",
      "source": [
        "query_1 = data_upd_1.groupby(['ConsensusDx,DX_01'])['Identifiers'].count()\n",
        "query_2 = data_upd_2.groupby(['Diagnosis_ClinicianConsensus,DX_01'])['Identifiers'].count()"
      ],
      "metadata": {
        "id": "1UXg6_6DBqAw"
      },
      "execution_count": 104,
      "outputs": []
    },
    {
      "cell_type": "code",
      "source": [
        "diag1 = query_1.index\n",
        "diag2 = query_2.index\n",
        "\n",
        "# in the first list but not in the second\n",
        "diag_name_1 = []\n",
        "for i in diag1:\n",
        "  if i not in diag2:\n",
        "    if i not in diag_name_1:\n",
        "      diag_name_1.append(i)\n",
        "print(diag_name_1)\n",
        "\n",
        "#in second list but not in the first\n",
        "diag_name_2 = []\n",
        "for i in diag2:\n",
        "  if i not in diag1:\n",
        "    if i not in diag_name_2:\n",
        "      diag_name_2.append(i)\n",
        "print(diag_name_2)"
      ],
      "metadata": {
        "id": "h9MogA6FB_7h",
        "outputId": "1f299de8-e360-4187-bb4e-5d6e4149664c",
        "colab": {
          "base_uri": "https://localhost:8080/"
        }
      },
      "execution_count": 114,
      "outputs": [
        {
          "output_type": "stream",
          "name": "stdout",
          "text": [
            "[]\n",
            "['Alcohol Use Disorder', 'Avoidant/Restrictive Food Intake Disorder', 'Bulimia Nervosa', 'Conduct Disorder-Childhood-onset type', 'Cyclothymic Disorder', 'Delirium due to another medical condition', 'Delirium due to multiple etiologies', 'Depressive Disorder Due to Another Medical Condition', 'Developmental Coordination Disorder', 'Excoriation (Skin-Picking) Disorder', 'Gender Dysphoria in Adolescents and Adults', 'Intermittent Explosive Disorder', 'Oppositional Defiant Disorder', 'Other Specified Disruptive, Impulse-Control, and Conduct Disorder', 'Other Specified Feeding or Eating Disorder', 'Other Specified Obsessive-Compulsive and Related Disorder', 'Substance/Medication-Induced Bipolar and Related Disorder']\n"
          ]
        }
      ]
    },
    {
      "cell_type": "code",
      "source": [
        "query_1"
      ],
      "metadata": {
        "id": "nFxzIzqhA4jX",
        "outputId": "a966237e-5a25-474e-d1a4-5bf0de38b57e",
        "colab": {
          "base_uri": "https://localhost:8080/"
        }
      },
      "execution_count": 119,
      "outputs": [
        {
          "output_type": "execute_result",
          "data": {
            "text/plain": [
              "ConsensusDx,DX_01\n",
              "                                                                          2\n",
              ".                                                                      3057\n",
              "ADHD-Combined Type                                                      345\n",
              "ADHD-Hyperactive/Impulsive Type                                          42\n",
              "ADHD-Inattentive Type                                                   245\n",
              "Acute Stress Disorder                                                     2\n",
              "Adjustment Disorders                                                     12\n",
              "Agoraphobia                                                               1\n",
              "Autism Spectrum Disorder                                                151\n",
              "Bipolar I Disorder                                                        3\n",
              "Bipolar II Disorder                                                       1\n",
              "Borderline Intellectual Functioning                                       5\n",
              "Cannabis Use Disorder                                                     1\n",
              "Disruptive Mood Dysregulation Disorder                                   12\n",
              "Encopresis                                                                1\n",
              "Enuresis                                                                  9\n",
              "Gender Dysphoria in Children                                              1\n",
              "Generalized Anxiety Disorder                                             61\n",
              "Intellectual Disability-Mild                                             22\n",
              "Intellectual Disability-Moderate                                          6\n",
              "Intellectual Disability-Severe                                            1\n",
              "Language Disorder                                                        39\n",
              "Major Depressive Disorder                                                55\n",
              "Major Neurocognitive Disorder Due to Epilepsy                             1\n",
              "No Diagnosis Given                                                      214\n",
              "No Diagnosis Given: Incomplete Eval                                     216\n",
              "Obsessive-Compulsive Disorder                                            13\n",
              "Other Specified Anxiety Disorder                                         27\n",
              "Other Specified Attention-Deficit/Hyperactivity Disorder                 46\n",
              "Other Specified Depressive Disorder                                       6\n",
              "Other Specified Neurodevelopmental Disorder                               1\n",
              "Other Specified Schizophrenia Spectrum and Other Psychotic Disorder       2\n",
              "Other Specified Tic Disorder                                              1\n",
              "Other Specified Trauma- and Stressor-Related Disorder                     5\n",
              "Panic Disorder                                                            2\n",
              "Parent-Child Relational Problem                                           1\n",
              "Persistent (Chronic) Motor or Vocal Tic Disorder                          3\n",
              "Persistent Depressive Disorder (Dysthymia)                               15\n",
              "Posttraumatic Stress Disorder                                             8\n",
              "Provisional Tic Disorder                                                  1\n",
              "Reactive Attachment Disorder                                              3\n",
              "Schizophrenia                                                             1\n",
              "Selective Mutism                                                          3\n",
              "Separation Anxiety                                                       15\n",
              "Social (Pragmatic) Communication Disorder                                 1\n",
              "Social Anxiety (Social Phobia)                                           40\n",
              "Specific Learning Disorder with Impairment in Mathematics                 7\n",
              "Specific Learning Disorder with Impairment in Reading                    83\n",
              "Specific Learning Disorder with Impairment in Reading                     1\n",
              "Specific Learning Disorder with Impairment in Written Expression          4\n",
              "Specific Phobia                                                          11\n",
              "Speech Sound Disorder                                                     3\n",
              "Tourettes Disorder                                                       13\n",
              "Unspecified Anxiety Disorder                                              2\n",
              "Unspecified Attention-Deficit/Hyperactivity Disorder                      5\n",
              "Unspecified Neurodevelopmental Disorder                                   1\n",
              "Name: Identifiers, dtype: int64"
            ]
          },
          "metadata": {},
          "execution_count": 119
        }
      ]
    },
    {
      "cell_type": "code",
      "source": [
        "print(query_2[:20])\n",
        "print(query_2[20:])"
      ],
      "metadata": {
        "id": "_FZhf1kXDkzA",
        "outputId": "fe1f093c-2133-4bee-e717-a00760a6f957",
        "colab": {
          "base_uri": "https://localhost:8080/"
        }
      },
      "execution_count": 124,
      "outputs": [
        {
          "output_type": "stream",
          "name": "stdout",
          "text": [
            "Diagnosis_ClinicianConsensus,DX_01\n",
            "                                               5\n",
            ".                                            102\n",
            "ADHD-Combined Type                           865\n",
            "ADHD-Hyperactive/Impulsive Type              127\n",
            "ADHD-Inattentive Type                        798\n",
            "Acute Stress Disorder                          2\n",
            "Adjustment Disorders                          29\n",
            "Agoraphobia                                    4\n",
            "Alcohol Use Disorder                           1\n",
            "Autism Spectrum Disorder                     329\n",
            "Avoidant/Restrictive Food Intake Disorder      1\n",
            "Bipolar I Disorder                             4\n",
            "Bipolar II Disorder                            3\n",
            "Borderline Intellectual Functioning           18\n",
            "Bulimia Nervosa                                1\n",
            "Cannabis Use Disorder                          2\n",
            "Conduct Disorder-Childhood-onset type          3\n",
            "Cyclothymic Disorder                           1\n",
            "Delirium due to another medical condition      1\n",
            "Delirium due to multiple etiologies            1\n",
            "Name: Identifiers, dtype: int64\n",
            "Diagnosis_ClinicianConsensus,DX_01\n",
            "Depressive Disorder Due to Another Medical Condition                     1\n",
            "Developmental Coordination Disorder                                      1\n",
            "Disruptive Mood Dysregulation Disorder                                  19\n",
            "Encopresis                                                               9\n",
            "Enuresis                                                                34\n",
            "Excoriation (Skin-Picking) Disorder                                      3\n",
            "Gender Dysphoria in Adolescents and Adults                               2\n",
            "Gender Dysphoria in Children                                             1\n",
            "Generalized Anxiety Disorder                                           288\n",
            "Intellectual Disability-Mild                                            53\n",
            "Intellectual Disability-Moderate                                        13\n",
            "Intellectual Disability-Severe                                           1\n",
            "Intermittent Explosive Disorder                                          6\n",
            "Language Disorder                                                      105\n",
            "Major Depressive Disorder                                              125\n",
            "Major Neurocognitive Disorder Due to Epilepsy                            1\n",
            "No Diagnosis Given                                                     373\n",
            "No Diagnosis Given: Incomplete Eval                                    526\n",
            "Obsessive-Compulsive Disorder                                           30\n",
            "Oppositional Defiant Disorder                                           78\n",
            "Other Specified Anxiety Disorder                                        82\n",
            "Other Specified Attention-Deficit/Hyperactivity Disorder               115\n",
            "Other Specified Depressive Disorder                                     11\n",
            "Other Specified Disruptive, Impulse-Control, and Conduct Disorder        6\n",
            "Other Specified Feeding or Eating Disorder                               1\n",
            "Other Specified Neurodevelopmental Disorder                              2\n",
            "Other Specified Obsessive-Compulsive and Related Disorder                1\n",
            "Other Specified Schizophrenia Spectrum and Other Psychotic Disorder      2\n",
            "Other Specified Tic Disorder                                             2\n",
            "Other Specified Trauma- and Stressor-Related Disorder                   11\n",
            "Panic Disorder                                                           2\n",
            "Parent-Child Relational Problem                                          1\n",
            "Persistent (Chronic) Motor or Vocal Tic Disorder                         9\n",
            "Persistent Depressive Disorder (Dysthymia)                              24\n",
            "Posttraumatic Stress Disorder                                           14\n",
            "Provisional Tic Disorder                                                 5\n",
            "Reactive Attachment Disorder                                             5\n",
            "Schizophrenia                                                            3\n",
            "Selective Mutism                                                         8\n",
            "Separation Anxiety                                                      44\n",
            "Social (Pragmatic) Communication Disorder                                6\n",
            "Social Anxiety (Social Phobia)                                         141\n",
            "Specific Learning Disorder with Impairment in Mathematics               35\n",
            "Specific Learning Disorder with Impairment in Reading                  285\n",
            "Specific Learning Disorder with Impairment in Reading                    1\n",
            "Specific Learning Disorder with Impairment in Written Expression        12\n",
            "Specific Phobia                                                         32\n",
            "Speech Sound Disorder                                                   15\n",
            "Substance/Medication-Induced Bipolar and Related Disorder                1\n",
            "Tourettes Disorder                                                      16\n",
            "Unspecified Anxiety Disorder                                             5\n",
            "Unspecified Attention-Deficit/Hyperactivity Disorder                     5\n",
            "Unspecified Neurodevelopmental Disorder                                  1\n",
            "Name: Identifiers, dtype: int64\n"
          ]
        }
      ]
    },
    {
      "cell_type": "code",
      "source": [],
      "metadata": {
        "id": "fLdKOdFmA4lv"
      },
      "execution_count": null,
      "outputs": []
    },
    {
      "cell_type": "code",
      "source": [],
      "metadata": {
        "id": "RB0FE3I_A4oA"
      },
      "execution_count": null,
      "outputs": []
    },
    {
      "cell_type": "markdown",
      "source": [
        "## Pipeline to make the data convinient to use"
      ],
      "metadata": {
        "id": "nLkYOzzUGnRy"
      }
    },
    {
      "cell_type": "code",
      "source": [
        "# file with the identifiers that have mri imaging\n",
        "pheno_mri = pd.read_csv(\n",
        "    working_path.joinpath('pheno_mri.csv'),\n",
        "    index_col=None\n",
        ")"
      ],
      "metadata": {
        "id": "QScqpmDeEExy"
      },
      "execution_count": null,
      "outputs": []
    },
    {
      "cell_type": "code",
      "source": [
        "sns.displot(pheno_mri[pheno_mri['EHQ_Total'] >= 40].Age)\n",
        "pl.title('Age distribution for right handed people');"
      ],
      "metadata": {
        "colab": {
          "base_uri": "https://localhost:8080/",
          "height": 523
        },
        "id": "r5dXE3wqX-HX",
        "outputId": "dfc602e6-f742-427a-9b64-cd98a8e78fec"
      },
      "execution_count": null,
      "outputs": [
        {
          "output_type": "display_data",
          "data": {
            "text/plain": [
              "<Figure size 500x500 with 1 Axes>"
            ],
            "image/png": "[encoded data removed]"
          },
          "metadata": {}
        }
      ]
    },
    {
      "cell_type": "code",
      "source": [
        "pheno_mri.drop(['Unnamed: 0'], axis=1, inplace=True)"
      ],
      "metadata": {
        "id": "MRfJJF3TEM7D"
      },
      "execution_count": null,
      "outputs": []
    },
    {
      "cell_type": "code",
      "source": [
        "pheno_mri.head()"
      ],
      "metadata": {
        "id": "HfYdEtPVGXY8",
        "outputId": "4437d68d-7b59-48a6-9761-e71c7f656788",
        "colab": {
          "base_uri": "https://localhost:8080/",
          "height": 206
        }
      },
      "execution_count": null,
      "outputs": [
        {
          "output_type": "execute_result",
          "data": {
            "text/plain": [
              "            EID  Sex        Age  EHQ_Total Commercial_Use Full_Pheno\n",
              "0  NDARYM832PX3  1.0   7.048254     -33.35             No        Yes\n",
              "1  NDARNJ687DMC  1.0   6.348163      46.67             No        Yes\n",
              "2  NDARFM080VAF  1.0   7.623203    -100.00             No        Yes\n",
              "3  NDARFW130NGG  1.0   8.316107      93.34             No        Yes\n",
              "4  NDARDT800YVF  0.0  17.510381      86.67             No        Yes"
            ],
            "text/html": [
              "\n",
              "  <div id=\"df-50d4b04a-4c24-4d7f-8d5a-3bdcb3501c65\">\n",
              "    <div class=\"colab-df-container\">\n",
              "      <div>\n",
              "<style scoped>\n",
              "    .dataframe tbody tr th:only-of-type {\n",
              "        vertical-align: middle;\n",
              "    }\n",
              "\n",
              "    .dataframe tbody tr th {\n",
              "        vertical-align: top;\n",
              "    }\n",
              "\n",
              "    .dataframe thead th {\n",
              "        text-align: right;\n",
              "    }\n",
              "</style>\n",
              "<table border=\"1\" class=\"dataframe\">\n",
              "  <thead>\n",
              "    <tr style=\"text-align: right;\">\n",
              "      <th></th>\n",
              "      <th>EID</th>\n",
              "      <th>Sex</th>\n",
              "      <th>Age</th>\n",
              "      <th>EHQ_Total</th>\n",
              "      <th>Commercial_Use</th>\n",
              "      <th>Full_Pheno</th>\n",
              "    </tr>\n",
              "  </thead>\n",
              "  <tbody>\n",
              "    <tr>\n",
              "      <th>0</th>\n",
              "      <td>NDARYM832PX3</td>\n",
              "      <td>1.0</td>\n",
              "      <td>7.048254</td>\n",
              "      <td>-33.35</td>\n",
              "      <td>No</td>\n",
              "      <td>Yes</td>\n",
              "    </tr>\n",
              "    <tr>\n",
              "      <th>1</th>\n",
              "      <td>NDARNJ687DMC</td>\n",
              "      <td>1.0</td>\n",
              "      <td>6.348163</td>\n",
              "      <td>46.67</td>\n",
              "      <td>No</td>\n",
              "      <td>Yes</td>\n",
              "    </tr>\n",
              "    <tr>\n",
              "      <th>2</th>\n",
              "      <td>NDARFM080VAF</td>\n",
              "      <td>1.0</td>\n",
              "      <td>7.623203</td>\n",
              "      <td>-100.00</td>\n",
              "      <td>No</td>\n",
              "      <td>Yes</td>\n",
              "    </tr>\n",
              "    <tr>\n",
              "      <th>3</th>\n",
              "      <td>NDARFW130NGG</td>\n",
              "      <td>1.0</td>\n",
              "      <td>8.316107</td>\n",
              "      <td>93.34</td>\n",
              "      <td>No</td>\n",
              "      <td>Yes</td>\n",
              "    </tr>\n",
              "    <tr>\n",
              "      <th>4</th>\n",
              "      <td>NDARDT800YVF</td>\n",
              "      <td>0.0</td>\n",
              "      <td>17.510381</td>\n",
              "      <td>86.67</td>\n",
              "      <td>No</td>\n",
              "      <td>Yes</td>\n",
              "    </tr>\n",
              "  </tbody>\n",
              "</table>\n",
              "</div>\n",
              "      <button class=\"colab-df-convert\" onclick=\"convertToInteractive('df-50d4b04a-4c24-4d7f-8d5a-3bdcb3501c65')\"\n",
              "              title=\"Convert this dataframe to an interactive table.\"\n",
              "              style=\"display:none;\">\n",
              "        \n",
              "  <svg xmlns=\"http://www.w3.org/2000/svg\" height=\"24px\"viewBox=\"0 0 24 24\"\n",
              "       width=\"24px\">\n",
              "    <path d=\"M0 0h24v24H0V0z\" fill=\"none\"/>\n",
              "    <path d=\"M18.56 5.44l.94 2.06.94-2.06 2.06-.94-2.06-.94-.94-2.06-.94 2.06-2.06.94zm-11 1L8.5 8.5l.94-2.06 2.06-.94-2.06-.94L8.5 2.5l-.94 2.06-2.06.94zm10 10l.94 2.06.94-2.06 2.06-.94-2.06-.94-.94-2.06-.94 2.06-2.06.94z\"/><path d=\"M17.41 7.96l-1.37-1.37c-.4-.4-.92-.59-1.43-.59-.52 0-1.04.2-1.43.59L10.3 9.45l-7.72 7.72c-.78.78-.78 2.05 0 2.83L4 21.41c.39.39.9.59 1.41.59.51 0 1.02-.2 1.41-.59l7.78-7.78 2.81-2.81c.8-.78.8-2.07 0-2.86zM5.41 20L4 18.59l7.72-7.72 1.47 1.35L5.41 20z\"/>\n",
              "  </svg>\n",
              "      </button>\n",
              "      \n",
              "  <style>\n",
              "    .colab-df-container {\n",
              "      display:flex;\n",
              "      flex-wrap:wrap;\n",
              "      gap: 12px;\n",
              "    }\n",
              "\n",
              "    .colab-df-convert {\n",
              "      background-color: #E8F0FE;\n",
              "      border: none;\n",
              "      border-radius: 50%;\n",
              "      cursor: pointer;\n",
              "      display: none;\n",
              "      fill: #1967D2;\n",
              "      height: 32px;\n",
              "      padding: 0 0 0 0;\n",
              "      width: 32px;\n",
              "    }\n",
              "\n",
              "    .colab-df-convert:hover {\n",
              "      background-color: #E2EBFA;\n",
              "      box-shadow: 0px 1px 2px rgba(60, 64, 67, 0.3), 0px 1px 3px 1px rgba(60, 64, 67, 0.15);\n",
              "      fill: #174EA6;\n",
              "    }\n",
              "\n",
              "    [theme=dark] .colab-df-convert {\n",
              "      background-color: #3B4455;\n",
              "      fill: #D2E3FC;\n",
              "    }\n",
              "\n",
              "    [theme=dark] .colab-df-convert:hover {\n",
              "      background-color: #434B5C;\n",
              "      box-shadow: 0px 1px 3px 1px rgba(0, 0, 0, 0.15);\n",
              "      filter: drop-shadow(0px 1px 2px rgba(0, 0, 0, 0.3));\n",
              "      fill: #FFFFFF;\n",
              "    }\n",
              "  </style>\n",
              "\n",
              "      <script>\n",
              "        const buttonEl =\n",
              "          document.querySelector('#df-50d4b04a-4c24-4d7f-8d5a-3bdcb3501c65 button.colab-df-convert');\n",
              "        buttonEl.style.display =\n",
              "          google.colab.kernel.accessAllowed ? 'block' : 'none';\n",
              "\n",
              "        async function convertToInteractive(key) {\n",
              "          const element = document.querySelector('#df-50d4b04a-4c24-4d7f-8d5a-3bdcb3501c65');\n",
              "          const dataTable =\n",
              "            await google.colab.kernel.invokeFunction('convertToInteractive',\n",
              "                                                     [key], {});\n",
              "          if (!dataTable) return;\n",
              "\n",
              "          const docLinkHtml = 'Like what you see? Visit the ' +\n",
              "            '<a target=\"_blank\" href=https://colab.research.google.com/notebooks/data_table.ipynb>data table notebook</a>'\n",
              "            + ' to learn more about interactive tables.';\n",
              "          element.innerHTML = '';\n",
              "          dataTable['output_type'] = 'display_data';\n",
              "          await google.colab.output.renderOutput(dataTable, element);\n",
              "          const docLink = document.createElement('div');\n",
              "          docLink.innerHTML = docLinkHtml;\n",
              "          element.appendChild(docLink);\n",
              "        }\n",
              "      </script>\n",
              "    </div>\n",
              "  </div>\n",
              "  "
            ]
          },
          "metadata": {},
          "execution_count": 81
        }
      ]
    },
    {
      "cell_type": "code",
      "source": [
        "data = pd.read_csv(\n",
        "    working_path.joinpath('Query_final.csv'),\n",
        "    index_col=None,\n",
        "    low_memory=False\n",
        ")"
      ],
      "metadata": {
        "id": "_nucsmphMicH"
      },
      "execution_count": null,
      "outputs": []
    },
    {
      "cell_type": "code",
      "source": [
        "data_site = pd.read_csv(\n",
        "    working_path.joinpath('sites.csv'),\n",
        "    index_col=None,\n",
        "    low_memory=False\n",
        ")"
      ],
      "metadata": {
        "id": "-Uq3wBq08bsI"
      },
      "execution_count": null,
      "outputs": []
    },
    {
      "cell_type": "code",
      "source": [
        "ids = data.Identifiers.values.tolist()\n",
        "ids_1 = data_site.Identifiers.values.tolist()\n",
        "site_1 = data_site['Basic_Demos,Study_Site'].values\n",
        "site = []\n",
        "c = 0\n",
        "for i in ids:\n",
        "  if i in ids_1:\n",
        "    site.append(site_1[ids_1.index(i)])\n",
        "    c += 1\n",
        "  else:\n",
        "    site.append(np.nan)\n",
        "print(c)\n",
        "print(len(site))"
      ],
      "metadata": {
        "id": "GIXBIJUB9JUo",
        "outputId": "954aef26-7c63-42be-cd7e-4676369c36bf",
        "colab": {
          "base_uri": "https://localhost:8080/"
        }
      },
      "execution_count": null,
      "outputs": [
        {
          "output_type": "stream",
          "name": "stdout",
          "text": [
            "4869\n",
            "8732\n"
          ]
        }
      ]
    },
    {
      "cell_type": "code",
      "source": [
        "data['Site'] = site"
      ],
      "metadata": {
        "id": "fUcIqHkc-8eH"
      },
      "execution_count": null,
      "outputs": []
    },
    {
      "cell_type": "code",
      "source": [
        "# work on Identifiers column\n",
        "ids = data.Identifiers.values\n",
        "new_ids = []\n",
        "for i in ids:\n",
        "  new_i = i.replace(',assessment', '')\n",
        "  new_ids.append(new_i)\t\n",
        "print(len(ids))\n",
        "print(len(new_ids))\n",
        "\n",
        "data['Identifiers'] = new_ids"
      ],
      "metadata": {
        "id": "f6aJNMtGMcA5",
        "outputId": "af08baf4-c3c2-4b70-fc69-639ddd42c076",
        "colab": {
          "base_uri": "https://localhost:8080/"
        }
      },
      "execution_count": null,
      "outputs": [
        {
          "output_type": "stream",
          "name": "stdout",
          "text": [
            "8732\n",
            "8732\n"
          ]
        }
      ]
    },
    {
      "cell_type": "markdown",
      "source": [
        "**Crossreferencing to understand who has the full pheno**"
      ],
      "metadata": {
        "id": "zQ5-gjZkW_w6"
      }
    },
    {
      "cell_type": "code",
      "source": [
        "print(pheno_mri.shape)\n",
        "print(data.shape)"
      ],
      "metadata": {
        "id": "mZStsdf7ZUQH",
        "outputId": "142ac11c-8fce-466f-da81-a1ae9c7d74e3",
        "colab": {
          "base_uri": "https://localhost:8080/"
        }
      },
      "execution_count": null,
      "outputs": [
        {
          "output_type": "stream",
          "name": "stdout",
          "text": [
            "(3539, 6)\n",
            "(8732, 168)\n"
          ]
        }
      ]
    },
    {
      "cell_type": "code",
      "source": [
        "full_ids = pheno_mri.EID.values\n",
        "data_ids = data.Identifiers.values.tolist()\n",
        "hits = []\n",
        "misses = []\n",
        "indices = []\n",
        "for i in data_ids:\n",
        "  if i in full_ids:\n",
        "    hits.append(i)\n",
        "  elif i not in full_ids:\n",
        "    misses.append(i)\n",
        "    indices.append(data_ids.index(i))\n",
        "print(len(hits))"
      ],
      "metadata": {
        "id": "auEmLb4JZwOq",
        "outputId": "cc542c22-dd1e-446b-c8f1-0dcc460003c2",
        "colab": {
          "base_uri": "https://localhost:8080/"
        }
      },
      "execution_count": null,
      "outputs": [
        {
          "output_type": "stream",
          "name": "stdout",
          "text": [
            "3538\n"
          ]
        }
      ]
    },
    {
      "cell_type": "code",
      "source": [
        "# One participant is missing from the data. It could be the case that the experiment is nor over.\n",
        "for i in full_ids:\n",
        "  if i not in hits:\n",
        "    print(i)"
      ],
      "metadata": {
        "id": "HGgvf1JUZwRG",
        "outputId": "2eb12093-e58e-4dbd-a633-294aeef2b9de",
        "colab": {
          "base_uri": "https://localhost:8080/"
        }
      },
      "execution_count": null,
      "outputs": [
        {
          "output_type": "stream",
          "name": "stdout",
          "text": [
            "NDARAL828WXM\n"
          ]
        }
      ]
    },
    {
      "cell_type": "code",
      "source": [
        "pheno_mri[pheno_mri['EID'] == 'NDARAL828WXM']"
      ],
      "metadata": {
        "id": "Uo6t3sQxZwUB",
        "outputId": "056d33ed-79b7-41c7-c711-9bb3788940c7",
        "colab": {
          "base_uri": "https://localhost:8080/"
        }
      },
      "execution_count": null,
      "outputs": [
        {
          "output_type": "execute_result",
          "data": {
            "text/plain": [
              "               EID  Sex        Age  EHQ_Total Commercial_Use Full_Pheno\n",
              "2601  NDARAL828WXM  0.0  15.188569      63.34            Yes        Yes"
            ],
            "text/html": [
              "\n",
              "  <div id=\"df-cbaee60d-a686-4f89-91f2-492c885c3118\">\n",
              "    <div class=\"colab-df-container\">\n",
              "      <div>\n",
              "<style scoped>\n",
              "    .dataframe tbody tr th:only-of-type {\n",
              "        vertical-align: middle;\n",
              "    }\n",
              "\n",
              "    .dataframe tbody tr th {\n",
              "        vertical-align: top;\n",
              "    }\n",
              "\n",
              "    .dataframe thead th {\n",
              "        text-align: right;\n",
              "    }\n",
              "</style>\n",
              "<table border=\"1\" class=\"dataframe\">\n",
              "  <thead>\n",
              "    <tr style=\"text-align: right;\">\n",
              "      <th></th>\n",
              "      <th>EID</th>\n",
              "      <th>Sex</th>\n",
              "      <th>Age</th>\n",
              "      <th>EHQ_Total</th>\n",
              "      <th>Commercial_Use</th>\n",
              "      <th>Full_Pheno</th>\n",
              "    </tr>\n",
              "  </thead>\n",
              "  <tbody>\n",
              "    <tr>\n",
              "      <th>2601</th>\n",
              "      <td>NDARAL828WXM</td>\n",
              "      <td>0.0</td>\n",
              "      <td>15.188569</td>\n",
              "      <td>63.34</td>\n",
              "      <td>Yes</td>\n",
              "      <td>Yes</td>\n",
              "    </tr>\n",
              "  </tbody>\n",
              "</table>\n",
              "</div>\n",
              "      <button class=\"colab-df-convert\" onclick=\"convertToInteractive('df-cbaee60d-a686-4f89-91f2-492c885c3118')\"\n",
              "              title=\"Convert this dataframe to an interactive table.\"\n",
              "              style=\"display:none;\">\n",
              "        \n",
              "  <svg xmlns=\"http://www.w3.org/2000/svg\" height=\"24px\"viewBox=\"0 0 24 24\"\n",
              "       width=\"24px\">\n",
              "    <path d=\"M0 0h24v24H0V0z\" fill=\"none\"/>\n",
              "    <path d=\"M18.56 5.44l.94 2.06.94-2.06 2.06-.94-2.06-.94-.94-2.06-.94 2.06-2.06.94zm-11 1L8.5 8.5l.94-2.06 2.06-.94-2.06-.94L8.5 2.5l-.94 2.06-2.06.94zm10 10l.94 2.06.94-2.06 2.06-.94-2.06-.94-.94-2.06-.94 2.06-2.06.94z\"/><path d=\"M17.41 7.96l-1.37-1.37c-.4-.4-.92-.59-1.43-.59-.52 0-1.04.2-1.43.59L10.3 9.45l-7.72 7.72c-.78.78-.78 2.05 0 2.83L4 21.41c.39.39.9.59 1.41.59.51 0 1.02-.2 1.41-.59l7.78-7.78 2.81-2.81c.8-.78.8-2.07 0-2.86zM5.41 20L4 18.59l7.72-7.72 1.47 1.35L5.41 20z\"/>\n",
              "  </svg>\n",
              "      </button>\n",
              "      \n",
              "  <style>\n",
              "    .colab-df-container {\n",
              "      display:flex;\n",
              "      flex-wrap:wrap;\n",
              "      gap: 12px;\n",
              "    }\n",
              "\n",
              "    .colab-df-convert {\n",
              "      background-color: #E8F0FE;\n",
              "      border: none;\n",
              "      border-radius: 50%;\n",
              "      cursor: pointer;\n",
              "      display: none;\n",
              "      fill: #1967D2;\n",
              "      height: 32px;\n",
              "      padding: 0 0 0 0;\n",
              "      width: 32px;\n",
              "    }\n",
              "\n",
              "    .colab-df-convert:hover {\n",
              "      background-color: #E2EBFA;\n",
              "      box-shadow: 0px 1px 2px rgba(60, 64, 67, 0.3), 0px 1px 3px 1px rgba(60, 64, 67, 0.15);\n",
              "      fill: #174EA6;\n",
              "    }\n",
              "\n",
              "    [theme=dark] .colab-df-convert {\n",
              "      background-color: #3B4455;\n",
              "      fill: #D2E3FC;\n",
              "    }\n",
              "\n",
              "    [theme=dark] .colab-df-convert:hover {\n",
              "      background-color: #434B5C;\n",
              "      box-shadow: 0px 1px 3px 1px rgba(0, 0, 0, 0.15);\n",
              "      filter: drop-shadow(0px 1px 2px rgba(0, 0, 0, 0.3));\n",
              "      fill: #FFFFFF;\n",
              "    }\n",
              "  </style>\n",
              "\n",
              "      <script>\n",
              "        const buttonEl =\n",
              "          document.querySelector('#df-cbaee60d-a686-4f89-91f2-492c885c3118 button.colab-df-convert');\n",
              "        buttonEl.style.display =\n",
              "          google.colab.kernel.accessAllowed ? 'block' : 'none';\n",
              "\n",
              "        async function convertToInteractive(key) {\n",
              "          const element = document.querySelector('#df-cbaee60d-a686-4f89-91f2-492c885c3118');\n",
              "          const dataTable =\n",
              "            await google.colab.kernel.invokeFunction('convertToInteractive',\n",
              "                                                     [key], {});\n",
              "          if (!dataTable) return;\n",
              "\n",
              "          const docLinkHtml = 'Like what you see? Visit the ' +\n",
              "            '<a target=\"_blank\" href=https://colab.research.google.com/notebooks/data_table.ipynb>data table notebook</a>'\n",
              "            + ' to learn more about interactive tables.';\n",
              "          element.innerHTML = '';\n",
              "          dataTable['output_type'] = 'display_data';\n",
              "          await google.colab.output.renderOutput(dataTable, element);\n",
              "          const docLink = document.createElement('div');\n",
              "          docLink.innerHTML = docLinkHtml;\n",
              "          element.appendChild(docLink);\n",
              "        }\n",
              "      </script>\n",
              "    </div>\n",
              "  </div>\n",
              "  "
            ]
          },
          "metadata": {},
          "execution_count": 16
        }
      ]
    },
    {
      "cell_type": "code",
      "source": [
        "data_pheno = data.copy()"
      ],
      "metadata": {
        "id": "xc30-BWKbtgi"
      },
      "execution_count": null,
      "outputs": []
    },
    {
      "cell_type": "code",
      "source": [
        "for i in indices:\n",
        "  data_pheno.drop([i], axis=0, inplace=True)"
      ],
      "metadata": {
        "id": "u36lpdZbbKAq"
      },
      "execution_count": null,
      "outputs": []
    },
    {
      "cell_type": "code",
      "source": [
        "data_pheno.shape"
      ],
      "metadata": {
        "id": "mX3ruxuaclUI",
        "outputId": "550725bc-d3d9-4916-b854-a7f9e6faa977",
        "colab": {
          "base_uri": "https://localhost:8080/"
        }
      },
      "execution_count": null,
      "outputs": [
        {
          "output_type": "execute_result",
          "data": {
            "text/plain": [
              "(3538, 168)"
            ]
          },
          "metadata": {},
          "execution_count": 19
        }
      ]
    },
    {
      "cell_type": "markdown",
      "source": [
        "Here is our reduced data frame with participant who has the full phenotypic file. Let's now choose only right handed participants."
      ],
      "metadata": {
        "id": "pE_RygKEc2ww"
      }
    },
    {
      "cell_type": "code",
      "source": [
        "# work on Age column\n",
        "data_pheno['Basic_Demos,Age'] = data_pheno['Basic_Demos,Age'].astype(float)"
      ],
      "metadata": {
        "id": "Fsbq32NVOUbG"
      },
      "execution_count": null,
      "outputs": []
    },
    {
      "cell_type": "code",
      "source": [
        "# work on Sex column\n",
        "data_pheno['Basic_Demos,Sex'] = data_pheno['Basic_Demos,Sex'].astype(int)"
      ],
      "metadata": {
        "id": "3xJBdz9Bfg2t"
      },
      "execution_count": null,
      "outputs": []
    },
    {
      "cell_type": "code",
      "source": [
        "# work on Site column\n",
        "data_pheno.drop(['Basic_Demos,Site'], axis=1, inplace=True)"
      ],
      "metadata": {
        "id": "87ptehgEfsu_"
      },
      "execution_count": null,
      "outputs": []
    },
    {
      "cell_type": "code",
      "source": [
        "data_pheno['Diagnosis_ClinicianConsensus,DX_01_Confirmed'].unique()"
      ],
      "metadata": {
        "id": "b2OtDcRGMmhP",
        "outputId": "de5b2ecb-6963-4986-a1ed-22bc9d8d8d59",
        "colab": {
          "base_uri": "https://localhost:8080/"
        }
      },
      "execution_count": null,
      "outputs": [
        {
          "output_type": "execute_result",
          "data": {
            "text/plain": [
              "array([nan, '1', '0', '.'], dtype=object)"
            ]
          },
          "metadata": {},
          "execution_count": 23
        }
      ]
    },
    {
      "cell_type": "code",
      "source": [
        "# work on Diagnosis column\n",
        "# looks like a dot could be no diagnosis as it seems to be consistent across the columns\n",
        "# there are also nan values in confirmed column\n",
        "# throw away this 'No Diagnosis Given: Incomplete Eval'\n",
        "# give 0 to these 'No Diagnosis Given'\n",
        "def diagnosis(df, number):\n",
        "  name_diag = 'Diagnosis_ClinicianConsensus,DX_0' + str(number)\n",
        "  name_conf = 'Diagnosis_ClinicianConsensus,DX_0' + str(number) + '_Confirmed'\n",
        "  diagnosis = df[name_diag].values\n",
        "  confirmed = df[name_conf].values\n",
        "  \n",
        "  dyslexia = []\n",
        "  new_diagnosis = []\n",
        "  for i in range(0, df.shape[0]):\n",
        "    # if it's nan values\n",
        "    if type(diagnosis[i]) == float:\n",
        "      dyslexia.append(0)\n",
        "      new_diagnosis.append(0)\n",
        "    # if it's some type of LSD and \n",
        "    elif 'Specific Learning Disorder with' in diagnosis[i]:\n",
        "      if confirmed[i] != '0':\n",
        "        dyslexia.append(diagnosis[i])\n",
        "        new_diagnosis.append('dys')\n",
        "      elif confirmed[i] == '0':\n",
        "        dyslexia.append(0)\n",
        "        new_diagnosis.append(0)\n",
        "    # if it's a dot or empty space\n",
        "    elif diagnosis[i] == '.':\n",
        "      dyslexia.append(0)\n",
        "      new_diagnosis.append(0)\n",
        "    elif diagnosis[i] == ' ':\n",
        "      dyslexia.append(0)\n",
        "      new_diagnosis.append(0)\n",
        "    # if it's an incomplete inquery\n",
        "    elif 'Incomplete' in diagnosis[i]:\n",
        "      dyslexia.append('Incomplete')\n",
        "      new_diagnosis.append('Incomplete')\n",
        "    # if it's no diagnosis\n",
        "    elif diagnosis[i] == 'No Diagnosis Given':\n",
        "      dyslexia.append(0)\n",
        "      new_diagnosis.append(0)\n",
        "    # if it's some other disorder\n",
        "    else:\n",
        "      if confirmed[i] != '0':\n",
        "        dyslexia.append(0)\n",
        "        new_diagnosis.append(diagnosis[i])\n",
        "      elif confirmed[i] == '0':\n",
        "        dyslexia.append(0)\n",
        "        new_diagnosis.append(0)\n",
        "\n",
        "  return dyslexia, new_diagnosis"
      ],
      "metadata": {
        "id": "QVbnLuo6f3it"
      },
      "execution_count": null,
      "outputs": []
    },
    {
      "cell_type": "code",
      "source": [
        "all_diagnosis = {}\n",
        "all_dys = {}\n",
        "for i in range(1, 10):\n",
        "  dyslexia, new_diagnosis = diagnosis(data_pheno, i)\n",
        "  all_dys['diag_%s' % i] = dyslexia\n",
        "  all_diagnosis['diag_%s' % i] = new_diagnosis"
      ],
      "metadata": {
        "id": "EX9j62SAidNY"
      },
      "execution_count": null,
      "outputs": []
    },
    {
      "cell_type": "code",
      "source": [
        "dys_status = []\n",
        "for i in range(0, data_pheno.shape[0]):\n",
        "  participant = []\n",
        "  for sublist in all_dys:\n",
        "    subset = all_dys[sublist][i]\n",
        "    if type(subset) == str:\n",
        "      participant.append(subset)\n",
        "  if len(participant) == 0:\n",
        "    dys_status.append(0)\n",
        "  elif len(participant) == 1:\n",
        "    dys_status.append(participant[0])\n",
        "  else:\n",
        "    dys_status.append(participant)"
      ],
      "metadata": {
        "id": "1j1JtzGW2fB3"
      },
      "execution_count": null,
      "outputs": []
    },
    {
      "cell_type": "code",
      "source": [
        "all_status = []\n",
        "for i in range(0, data_pheno.shape[0]):\n",
        "  participant = []\n",
        "  for sublist in all_diagnosis:\n",
        "    subset = all_diagnosis[sublist][i]\n",
        "    if type(subset) == str:\n",
        "      participant.append(subset)\n",
        "  if len(participant) == 0:\n",
        "    all_status.append(0)\n",
        "  elif len(participant) == 1:\n",
        "    all_status.append(participant[0])\n",
        "  else:\n",
        "    all_status.append(participant)"
      ],
      "metadata": {
        "id": "f-ikTugOkZq5"
      },
      "execution_count": null,
      "outputs": []
    },
    {
      "cell_type": "code",
      "source": [
        "data_pheno['DD'] = dys_status\n",
        "data_pheno['Diagnosis'] = all_status"
      ],
      "metadata": {
        "id": "pir7LBYOSEkl"
      },
      "execution_count": null,
      "outputs": []
    },
    {
      "cell_type": "code",
      "source": [
        "for i in range(1,10):\n",
        "  name_diag = 'Diagnosis_ClinicianConsensus,DX_0' + str(i)\n",
        "  name_conf = 'Diagnosis_ClinicianConsensus,DX_0' + str(i) + '_Confirmed'\n",
        "  name_code = 'Diagnosis_ClinicianConsensus,DX_0' + str(i) + '_Code'\n",
        "  data_pheno.drop([name_diag], axis=1, inplace=True)\n",
        "  data_pheno.drop([name_conf], axis=1, inplace=True)\n",
        "  data_pheno.drop([name_code], axis=1, inplace=True)\n",
        "data_pheno.drop(['Diagnosis_ClinicianConsensus,DX_10'], axis=1, inplace=True)\n",
        "data_pheno.drop(['Diagnosis_ClinicianConsensus,DX_10_Code'], axis=1, inplace=True)\n",
        "data_pheno.drop(['Diagnosis_ClinicianConsensus,DX_10_Confirmed'], axis=1, inplace=True)"
      ],
      "metadata": {
        "id": "HhH0Gxpyl8KD"
      },
      "execution_count": null,
      "outputs": []
    },
    {
      "cell_type": "code",
      "source": [
        "print('Control subjects')\n",
        "print(data_pheno[(data_pheno['DD'] == 0) & (data_pheno['Diagnosis'] == 0)].shape[0])\n",
        "print('Disorders w/out DD')\n",
        "print(data_pheno[(data_pheno['DD'] == 0) & (data_pheno['Diagnosis'] != 0)].shape[0])\n",
        "print('Disorders w DD')\n",
        "print(data_pheno[data_pheno['DD'] != 0].shape[0])"
      ],
      "metadata": {
        "colab": {
          "base_uri": "https://localhost:8080/"
        },
        "id": "A58x8CIRWbnf",
        "outputId": "d3de3b10-a126-4e3e-9851-c8c0a6bedbaa"
      },
      "execution_count": null,
      "outputs": [
        {
          "output_type": "stream",
          "name": "stdout",
          "text": [
            "Control subjects\n",
            "465\n",
            "Disorders w/out DD\n",
            "2354\n",
            "Disorders w DD\n",
            "719\n"
          ]
        }
      ]
    },
    {
      "cell_type": "code",
      "source": [
        "new_dtypes = []\n",
        "dtypes = data_pheno.DD.values\n",
        "for i in dtypes:\n",
        "  if i == 0:\n",
        "    new_dtypes.append(i)\n",
        "  else:\n",
        "    if type(i) == str:\n",
        "      if 'Reading' in i:\n",
        "        new_dtypes.append('Reading')\n",
        "      elif 'Written' in i:\n",
        "        new_dtypes.append('Writing')\n",
        "      elif 'Mathematics' in i:\n",
        "        new_dtypes.append('Math')\n",
        "      elif 'Incomplete' in i:\n",
        "        new_dtypes.append('Incomplete')\n",
        "      else:\n",
        "        print(i)\n",
        "        break\n",
        "    elif type(i) == list:\n",
        "      if len(i) == 2:\n",
        "        name1 = i[0][46:]\n",
        "        name2 = i[1][46:]\n",
        "        new_dtypes.append(name1 + ' and ' + name2)\n",
        "      elif len(i) == 3:\n",
        "        name1 = i[0][46:]\n",
        "        name2 = i[1][46:]\n",
        "        name3 = i[2][46:]\n",
        "        new_dtypes.append(\n",
        "            name1 + ' and ' + name2 + ' and ' + name3\n",
        "            )\n",
        "      else:\n",
        "        print(i)\n",
        "        break\n",
        "    else:\n",
        "      print(i)\n",
        "      break"
      ],
      "metadata": {
        "id": "PinUl2XfbAcJ"
      },
      "execution_count": null,
      "outputs": []
    },
    {
      "cell_type": "code",
      "source": [
        "n_dtypes = []\n",
        "for i in new_dtypes:\n",
        "  if i == 'Reading and Written Expression and Mathematics' or i == 'Reading and Mathematics and Written Expression':\n",
        "    n_dtypes.append('Reading and Math and Written Expression')\n",
        "  elif i == 'Mathematics and Reading and Reading' or i == 'Mathematics and Reading':\n",
        "    n_dtypes.append('Reading and Math')\n",
        "  elif i == 'Reading and Mathematics ' or i == 'Reading and Mathematics' or i == 'Reading and Mathematics and Mathematics':\n",
        "    n_dtypes.append('Reading and Math')\n",
        "  elif i == 'Reading and Written Expression':\n",
        "    n_dtypes.append('Reading and Written Expression')\n",
        "  elif i == 'Mathematics and Written Expression' or i == 'Written Expression and Mathematics':\n",
        "    n_dtypes.append('Math and Written Expression')\n",
        "  elif i == 'Reading' or i == 'Reading and Reading':\n",
        "    n_dtypes.append('Reading')\n",
        "  elif i == 'Math':\n",
        "    n_dtypes.append('Math')\n",
        "  elif i == 'Writing':\n",
        "    n_dtypes.append('Writing')\n",
        "  elif i == 'Incomplete':\n",
        "    n_dtypes.append('Incomplete')\n",
        "  elif i == 0:\n",
        "    n_dtypes.append(0)\n",
        "  else:\n",
        "    print(i)\n",
        "    break"
      ],
      "metadata": {
        "id": "LeXq4L4nf2ee"
      },
      "execution_count": null,
      "outputs": []
    },
    {
      "cell_type": "code",
      "source": [
        "data_pheno['DD'] = n_dtypes"
      ],
      "metadata": {
        "id": "QGUw2Y1Re4Me"
      },
      "execution_count": null,
      "outputs": []
    },
    {
      "cell_type": "code",
      "source": [
        "data_pheno.groupby(['DD'])[['Identifiers']].count()"
      ],
      "metadata": {
        "colab": {
          "base_uri": "https://localhost:8080/"
        },
        "id": "Iaewe5H7bL5G",
        "outputId": "f6764e0b-e256-45ce-857a-055397bdb774"
      },
      "execution_count": null,
      "outputs": [
        {
          "output_type": "execute_result",
          "data": {
            "text/plain": [
              "                                         Identifiers\n",
              "DD                                                  \n",
              "0                                               2819\n",
              "Incomplete                                       195\n",
              "Math                                              68\n",
              "Math and Written Expression                        3\n",
              "Reading                                          352\n",
              "Reading and Math                                  61\n",
              "Reading and Math and Written Expression           16\n",
              "Reading and Written Expression                    15\n",
              "Writing                                            9"
            ],
            "text/html": [
              "\n",
              "  <div id=\"df-ee4e9a9f-7db3-439b-be31-dbfe08872b7a\">\n",
              "    <div class=\"colab-df-container\">\n",
              "      <div>\n",
              "<style scoped>\n",
              "    .dataframe tbody tr th:only-of-type {\n",
              "        vertical-align: middle;\n",
              "    }\n",
              "\n",
              "    .dataframe tbody tr th {\n",
              "        vertical-align: top;\n",
              "    }\n",
              "\n",
              "    .dataframe thead th {\n",
              "        text-align: right;\n",
              "    }\n",
              "</style>\n",
              "<table border=\"1\" class=\"dataframe\">\n",
              "  <thead>\n",
              "    <tr style=\"text-align: right;\">\n",
              "      <th></th>\n",
              "      <th>Identifiers</th>\n",
              "    </tr>\n",
              "    <tr>\n",
              "      <th>DD</th>\n",
              "      <th></th>\n",
              "    </tr>\n",
              "  </thead>\n",
              "  <tbody>\n",
              "    <tr>\n",
              "      <th>0</th>\n",
              "      <td>2819</td>\n",
              "    </tr>\n",
              "    <tr>\n",
              "      <th>Incomplete</th>\n",
              "      <td>195</td>\n",
              "    </tr>\n",
              "    <tr>\n",
              "      <th>Math</th>\n",
              "      <td>68</td>\n",
              "    </tr>\n",
              "    <tr>\n",
              "      <th>Math and Written Expression</th>\n",
              "      <td>3</td>\n",
              "    </tr>\n",
              "    <tr>\n",
              "      <th>Reading</th>\n",
              "      <td>352</td>\n",
              "    </tr>\n",
              "    <tr>\n",
              "      <th>Reading and Math</th>\n",
              "      <td>61</td>\n",
              "    </tr>\n",
              "    <tr>\n",
              "      <th>Reading and Math and Written Expression</th>\n",
              "      <td>16</td>\n",
              "    </tr>\n",
              "    <tr>\n",
              "      <th>Reading and Written Expression</th>\n",
              "      <td>15</td>\n",
              "    </tr>\n",
              "    <tr>\n",
              "      <th>Writing</th>\n",
              "      <td>9</td>\n",
              "    </tr>\n",
              "  </tbody>\n",
              "</table>\n",
              "</div>\n",
              "      <button class=\"colab-df-convert\" onclick=\"convertToInteractive('df-ee4e9a9f-7db3-439b-be31-dbfe08872b7a')\"\n",
              "              title=\"Convert this dataframe to an interactive table.\"\n",
              "              style=\"display:none;\">\n",
              "        \n",
              "  <svg xmlns=\"http://www.w3.org/2000/svg\" height=\"24px\"viewBox=\"0 0 24 24\"\n",
              "       width=\"24px\">\n",
              "    <path d=\"M0 0h24v24H0V0z\" fill=\"none\"/>\n",
              "    <path d=\"M18.56 5.44l.94 2.06.94-2.06 2.06-.94-2.06-.94-.94-2.06-.94 2.06-2.06.94zm-11 1L8.5 8.5l.94-2.06 2.06-.94-2.06-.94L8.5 2.5l-.94 2.06-2.06.94zm10 10l.94 2.06.94-2.06 2.06-.94-2.06-.94-.94-2.06-.94 2.06-2.06.94z\"/><path d=\"M17.41 7.96l-1.37-1.37c-.4-.4-.92-.59-1.43-.59-.52 0-1.04.2-1.43.59L10.3 9.45l-7.72 7.72c-.78.78-.78 2.05 0 2.83L4 21.41c.39.39.9.59 1.41.59.51 0 1.02-.2 1.41-.59l7.78-7.78 2.81-2.81c.8-.78.8-2.07 0-2.86zM5.41 20L4 18.59l7.72-7.72 1.47 1.35L5.41 20z\"/>\n",
              "  </svg>\n",
              "      </button>\n",
              "      \n",
              "  <style>\n",
              "    .colab-df-container {\n",
              "      display:flex;\n",
              "      flex-wrap:wrap;\n",
              "      gap: 12px;\n",
              "    }\n",
              "\n",
              "    .colab-df-convert {\n",
              "      background-color: #E8F0FE;\n",
              "      border: none;\n",
              "      border-radius: 50%;\n",
              "      cursor: pointer;\n",
              "      display: none;\n",
              "      fill: #1967D2;\n",
              "      height: 32px;\n",
              "      padding: 0 0 0 0;\n",
              "      width: 32px;\n",
              "    }\n",
              "\n",
              "    .colab-df-convert:hover {\n",
              "      background-color: #E2EBFA;\n",
              "      box-shadow: 0px 1px 2px rgba(60, 64, 67, 0.3), 0px 1px 3px 1px rgba(60, 64, 67, 0.15);\n",
              "      fill: #174EA6;\n",
              "    }\n",
              "\n",
              "    [theme=dark] .colab-df-convert {\n",
              "      background-color: #3B4455;\n",
              "      fill: #D2E3FC;\n",
              "    }\n",
              "\n",
              "    [theme=dark] .colab-df-convert:hover {\n",
              "      background-color: #434B5C;\n",
              "      box-shadow: 0px 1px 3px 1px rgba(0, 0, 0, 0.15);\n",
              "      filter: drop-shadow(0px 1px 2px rgba(0, 0, 0, 0.3));\n",
              "      fill: #FFFFFF;\n",
              "    }\n",
              "  </style>\n",
              "\n",
              "      <script>\n",
              "        const buttonEl =\n",
              "          document.querySelector('#df-ee4e9a9f-7db3-439b-be31-dbfe08872b7a button.colab-df-convert');\n",
              "        buttonEl.style.display =\n",
              "          google.colab.kernel.accessAllowed ? 'block' : 'none';\n",
              "\n",
              "        async function convertToInteractive(key) {\n",
              "          const element = document.querySelector('#df-ee4e9a9f-7db3-439b-be31-dbfe08872b7a');\n",
              "          const dataTable =\n",
              "            await google.colab.kernel.invokeFunction('convertToInteractive',\n",
              "                                                     [key], {});\n",
              "          if (!dataTable) return;\n",
              "\n",
              "          const docLinkHtml = 'Like what you see? Visit the ' +\n",
              "            '<a target=\"_blank\" href=https://colab.research.google.com/notebooks/data_table.ipynb>data table notebook</a>'\n",
              "            + ' to learn more about interactive tables.';\n",
              "          element.innerHTML = '';\n",
              "          dataTable['output_type'] = 'display_data';\n",
              "          await google.colab.output.renderOutput(dataTable, element);\n",
              "          const docLink = document.createElement('div');\n",
              "          docLink.innerHTML = docLinkHtml;\n",
              "          element.appendChild(docLink);\n",
              "        }\n",
              "      </script>\n",
              "    </div>\n",
              "  </div>\n",
              "  "
            ]
          },
          "metadata": {},
          "execution_count": 34
        }
      ]
    },
    {
      "cell_type": "code",
      "source": [
        "new_diag = []\n",
        "diag = data_pheno.Diagnosis.values\n",
        "for i in diag:\n",
        "  if i == 0:\n",
        "    new_diag.append(i)\n",
        "  elif i == 'dys':\n",
        "    new_diag.append(0)\n",
        "  elif type(i) == str:\n",
        "    new_diag.append(i)\n",
        "  elif type(i) == list:\n",
        "    if len(i) == 1:\n",
        "      if i[0] == 'dys':\n",
        "        new_diag.append(0)\n",
        "      else:\n",
        "        new_diag.append(i[0])\n",
        "    else:\n",
        "      name = ''\n",
        "      for element in i:\n",
        "        if element != 'dys':\n",
        "          name = name + element + '. '\n",
        "      new_diag.append(name)\n",
        "  else:\n",
        "    print(i)\n",
        "    break"
      ],
      "metadata": {
        "id": "Ppkcch2DT7_y"
      },
      "execution_count": null,
      "outputs": []
    },
    {
      "cell_type": "code",
      "source": [
        "data_pheno['Diagnosis'] = new_diag"
      ],
      "metadata": {
        "id": "1bkrEy9Uj28Q"
      },
      "execution_count": null,
      "outputs": []
    },
    {
      "cell_type": "code",
      "source": [
        "def meds(df, number):\n",
        "  medname = 'DailyMeds,med_name_0' + str(number)\n",
        "  meds = df[medname].values\n",
        "  new_meds = []\n",
        "\n",
        "  for i in range(0, df.shape[0]):\n",
        "    if meds[i] == '.':\n",
        "      new_meds.append(0)\n",
        "    elif type(meds[i]) == float:\n",
        "      new_meds.append(0)\n",
        "    elif type(meds[i]) == str:\n",
        "      new_meds.append(meds[i])\n",
        "    else:\n",
        "      print(meds[i], i)\n",
        "      break\n",
        "  return new_meds"
      ],
      "metadata": {
        "id": "y3Y8GkTGOOB9"
      },
      "execution_count": null,
      "outputs": []
    },
    {
      "cell_type": "code",
      "source": [
        "all_meds = {}\n",
        "for i in range(1, 4):\n",
        "  all_meds['med_%s' % i] = meds(data_pheno, i)"
      ],
      "metadata": {
        "id": "ufmhhKVvPHDa"
      },
      "execution_count": null,
      "outputs": []
    },
    {
      "cell_type": "code",
      "source": [
        "meds_in_one = []\n",
        "for i in range(0, data_pheno.shape[0]):\n",
        "  participant = []\n",
        "  for sublist in all_meds:\n",
        "    subset = all_meds[sublist][i]\n",
        "    if type(subset) == str:\n",
        "      participant.append(subset)\n",
        "  if len(participant) == 0:\n",
        "    meds_in_one.append(0)\n",
        "  elif len(participant) == 1:\n",
        "    meds_in_one.append(participant[0])\n",
        "  else:\n",
        "    name = ''\n",
        "    for part in participant:\n",
        "      name = name + part + ' '\n",
        "    meds_in_one.append(name)"
      ],
      "metadata": {
        "id": "NdsIsF2yP5xK"
      },
      "execution_count": null,
      "outputs": []
    },
    {
      "cell_type": "code",
      "source": [
        "data_pheno['Medicine'] = meds_in_one"
      ],
      "metadata": {
        "id": "nokonDf4RMXd"
      },
      "execution_count": null,
      "outputs": []
    },
    {
      "cell_type": "code",
      "source": [
        "data_pheno[data_pheno['Medicine'] != 0][['Diagnosis', 'DD', 'Medicine']]"
      ],
      "metadata": {
        "colab": {
          "base_uri": "https://localhost:8080/"
        },
        "id": "8Zygy8ClREhe",
        "outputId": "ffc4c892-f5aa-459f-daf1-4affdf2b7077"
      },
      "execution_count": null,
      "outputs": [
        {
          "output_type": "execute_result",
          "data": {
            "text/plain": [
              "                                              Diagnosis  \\\n",
              "1                                                     0   \n",
              "3     ADHD-Combined Type. Oppositional Defiant Disor...   \n",
              "102   Specific Phobia. Generalized Anxiety Disorder....   \n",
              "169   Generalized Anxiety Disorder. Major Depressive...   \n",
              "254                                  Bipolar I Disorder   \n",
              "292   ADHD-Hyperactive/Impulsive Type. Oppositional ...   \n",
              "469   ADHD-Combined Type. Other Specified Anxiety Di...   \n",
              "504   ADHD-Combined Type. Oppositional Defiant Disor...   \n",
              "569                                                   0   \n",
              "638   Autism Spectrum Disorder. ADHD-Inattentive Typ...   \n",
              "768      ADHD-Combined Type. Autism Spectrum Disorder.    \n",
              "807   ADHD-Combined Type. Generalized Anxiety Disord...   \n",
              "913      Autism Spectrum Disorder. ADHD-Combined Type.    \n",
              "934   Generalized Anxiety Disorder. ADHD-Combined Ty...   \n",
              "1019                                 ADHD-Combined Type   \n",
              "1022  Intellectual Disability-Moderate. ADHD-Combine...   \n",
              "1265  ADHD-Combined Type. Generalized Anxiety Disord...   \n",
              "1377  ADHD-Combined Type. Other Specified Anxiety Di...   \n",
              "1466  Autism Spectrum Disorder. Persistent Depressiv...   \n",
              "1495  Other Specified Attention-Deficit/Hyperactivit...   \n",
              "1669  Major Depressive Disorder. Conduct Disorder-Ch...   \n",
              "1771                            Speech Sound Disorder.    \n",
              "1858     ADHD-Combined Type. Autism Spectrum Disorder.    \n",
              "1901     ADHD-Combined Type. Autism Spectrum Disorder.    \n",
              "1918  ADHD-Combined Type. Language Disorder. Intelle...   \n",
              "1924                          Major Depressive Disorder   \n",
              "1940                                 ADHD-Combined Type   \n",
              "1951  ADHD-Combined Type. Oppositional Defiant Disor...   \n",
              "1991                                                  0   \n",
              "2056              Specific Phobia. Separation Anxiety.    \n",
              "2198  ADHD-Combined Type. Autism Spectrum Disorder. ...   \n",
              "2687  Autism Spectrum Disorder. ADHD-Inattentive Typ...   \n",
              "2697  ADHD-Combined Type. Autism Spectrum Disorder. ...   \n",
              "2760  Oppositional Defiant Disorder. ADHD-Combined T...   \n",
              "2779  Other Specified Anxiety Disorder. Speech Sound...   \n",
              "2794                  ADHD-Inattentive Type. Enuresis.    \n",
              "2967  ADHD-Hyperactive/Impulsive Type. Oppositional ...   \n",
              "3052                                                  0   \n",
              "3173                                 ADHD-Combined Type   \n",
              "3256                                 ADHD-Combined Type   \n",
              "3312                                                  0   \n",
              "3336  Generalized Anxiety Disorder. Conduct Disorder...   \n",
              "3425                                 ADHD-Combined Type   \n",
              "3445  ADHD-Combined Type. Oppositional Defiant Disor...   \n",
              "3551  Autism Spectrum Disorder. Major Depressive Dis...   \n",
              "3572  Persistent (Chronic) Motor or Vocal Tic Disord...   \n",
              "3962                                 ADHD-Combined Type   \n",
              "4087  Autism Spectrum Disorder. ADHD-Inattentive Type.    \n",
              "4092                                                  0   \n",
              "4191  Generalized Anxiety Disorder. Intermittent Exp...   \n",
              "4263  Generalized Anxiety Disorder. ADHD-Inattentive...   \n",
              "4398  Major Depressive Disorder. Persistent Depressi...   \n",
              "4405                       Generalized Anxiety Disorder   \n",
              "4483  Autism Spectrum Disorder. ADHD-Inattentive Type.    \n",
              "4490  ADHD-Combined Type. Oppositional Defiant Disor...   \n",
              "4590                               ADHD-Combined Type.    \n",
              "4593  ADHD-Inattentive Type. Other Specified Depress...   \n",
              "4610  ADHD-Inattentive Type. Other Specified Anxiety...   \n",
              "4674  ADHD-Combined Type. Separation Anxiety. Other ...   \n",
              "\n",
              "                                  DD  \\\n",
              "1                                  0   \n",
              "3                                  0   \n",
              "102                                0   \n",
              "169                                0   \n",
              "254                                0   \n",
              "292                                0   \n",
              "469                                0   \n",
              "504                                0   \n",
              "569                                0   \n",
              "638                                0   \n",
              "768                                0   \n",
              "807                                0   \n",
              "913                          Writing   \n",
              "934                          Reading   \n",
              "1019                               0   \n",
              "1022                               0   \n",
              "1265                               0   \n",
              "1377                               0   \n",
              "1466                         Reading   \n",
              "1495                               0   \n",
              "1669                               0   \n",
              "1771  Reading and Written Expression   \n",
              "1858                               0   \n",
              "1901                               0   \n",
              "1918                         Reading   \n",
              "1924                               0   \n",
              "1940                               0   \n",
              "1951                               0   \n",
              "1991                               0   \n",
              "2056                               0   \n",
              "2198                Reading and Math   \n",
              "2687                               0   \n",
              "2697                               0   \n",
              "2760                               0   \n",
              "2779                               0   \n",
              "2794  Reading and Written Expression   \n",
              "2967                               0   \n",
              "3052                               0   \n",
              "3173                               0   \n",
              "3256                               0   \n",
              "3312                               0   \n",
              "3336                               0   \n",
              "3425                               0   \n",
              "3445                               0   \n",
              "3551                               0   \n",
              "3572                               0   \n",
              "3962                               0   \n",
              "4087                               0   \n",
              "4092                               0   \n",
              "4191                               0   \n",
              "4263                               0   \n",
              "4398                               0   \n",
              "4405                               0   \n",
              "4483                               0   \n",
              "4490                               0   \n",
              "4590                         Reading   \n",
              "4593                               0   \n",
              "4610                               0   \n",
              "4674                               0   \n",
              "\n",
              "                                            Medicine  \n",
              "1                                      Zyrteck QVAR   \n",
              "3                                               Qvar  \n",
              "102                                           Zoloft  \n",
              "169                                           Zoloft  \n",
              "254                               Depakote Lamictal   \n",
              "292                                  Methylphenidate  \n",
              "469                                 Focalin Focalin   \n",
              "504                                     amoxicillian  \n",
              "569                                Qvar Olopatadine   \n",
              "638                                          Focalin  \n",
              "768      Abilify Focalin XR Sertraline (last night)   \n",
              "807                                          Gildess  \n",
              "913                                          Focalin  \n",
              "934                             vyvanse propranolol   \n",
              "1019                                       Strattera  \n",
              "1022                        Concerta Abilify BusPar   \n",
              "1265                                      Fluoxetine  \n",
              "1377                             Fluoxetine Vyvanse   \n",
              "1466                        abilify trihexyphenidyl   \n",
              "1495                           Budesonide Albuterol   \n",
              "1669                                Prozac Estrogen   \n",
              "1771                                diphacalydramine  \n",
              "1858                                    Folcaline XR  \n",
              "1901                                 conerta zyrtec   \n",
              "1918                                        Concerta  \n",
              "1924                                          Prozac  \n",
              "1940                                       Dramamine  \n",
              "1951                                       Detrol LA  \n",
              "1991                                        Claritin  \n",
              "2056                        Prozac Atarax Trileptal   \n",
              "2198                        Celexa Focalin Singular   \n",
              "2687                       Methylphenidate Intuitiv   \n",
              "2697                                   Tenex Geodon   \n",
              "2760                               concerta zyrteck   \n",
              "2779                                      Ibuprofen   \n",
              "2794  Guanfacine Robitussin Multivitamin, probiotic   \n",
              "2967                                           Tenex  \n",
              "3052                                        Singular  \n",
              "3173                                     Antiobiotic  \n",
              "3256            Antacid (Pepcid) Vitamin Loratadine   \n",
              "3312                                       Singulair  \n",
              "3336                   Topomax Wellbutrin Synthroid   \n",
              "3425                          Robitussin Robitussin   \n",
              "3445                                       Albuterol  \n",
              "3551                             Fluoxetine (Prozac)  \n",
              "3572                                          Zyrtec  \n",
              "3962                               Allegra Flonase    \n",
              "4087                            Vyvanse Risperidone   \n",
              "4092                                 Vitamin D Drops  \n",
              "4191                               Abilify Depakote   \n",
              "4263                                        dimetapp  \n",
              "4398                               Trileptal Buspar   \n",
              "4405                                         Zyrtec   \n",
              "4483                                          prozac  \n",
              "4490                                         Focalin  \n",
              "4590                                         Focalin  \n",
              "4593                                 cefdinir faxil   \n",
              "4610                                            Iron  \n",
              "4674                                       Benadryl   "
            ],
            "text/html": [
              "\n",
              "  <div id=\"df-a29f19e7-6992-45d1-ba3d-b999e0182d55\">\n",
              "    <div class=\"colab-df-container\">\n",
              "      <div>\n",
              "<style scoped>\n",
              "    .dataframe tbody tr th:only-of-type {\n",
              "        vertical-align: middle;\n",
              "    }\n",
              "\n",
              "    .dataframe tbody tr th {\n",
              "        vertical-align: top;\n",
              "    }\n",
              "\n",
              "    .dataframe thead th {\n",
              "        text-align: right;\n",
              "    }\n",
              "</style>\n",
              "<table border=\"1\" class=\"dataframe\">\n",
              "  <thead>\n",
              "    <tr style=\"text-align: right;\">\n",
              "      <th></th>\n",
              "      <th>Diagnosis</th>\n",
              "      <th>DD</th>\n",
              "      <th>Medicine</th>\n",
              "    </tr>\n",
              "  </thead>\n",
              "  <tbody>\n",
              "    <tr>\n",
              "      <th>1</th>\n",
              "      <td>0</td>\n",
              "      <td>0</td>\n",
              "      <td>Zyrteck QVAR</td>\n",
              "    </tr>\n",
              "    <tr>\n",
              "      <th>3</th>\n",
              "      <td>ADHD-Combined Type. Oppositional Defiant Disor...</td>\n",
              "      <td>0</td>\n",
              "      <td>Qvar</td>\n",
              "    </tr>\n",
              "    <tr>\n",
              "      <th>102</th>\n",
              "      <td>Specific Phobia. Generalized Anxiety Disorder....</td>\n",
              "      <td>0</td>\n",
              "      <td>Zoloft</td>\n",
              "    </tr>\n",
              "    <tr>\n",
              "      <th>169</th>\n",
              "      <td>Generalized Anxiety Disorder. Major Depressive...</td>\n",
              "      <td>0</td>\n",
              "      <td>Zoloft</td>\n",
              "    </tr>\n",
              "    <tr>\n",
              "      <th>254</th>\n",
              "      <td>Bipolar I Disorder</td>\n",
              "      <td>0</td>\n",
              "      <td>Depakote Lamictal</td>\n",
              "    </tr>\n",
              "    <tr>\n",
              "      <th>292</th>\n",
              "      <td>ADHD-Hyperactive/Impulsive Type. Oppositional ...</td>\n",
              "      <td>0</td>\n",
              "      <td>Methylphenidate</td>\n",
              "    </tr>\n",
              "    <tr>\n",
              "      <th>469</th>\n",
              "      <td>ADHD-Combined Type. Other Specified Anxiety Di...</td>\n",
              "      <td>0</td>\n",
              "      <td>Focalin Focalin</td>\n",
              "    </tr>\n",
              "    <tr>\n",
              "      <th>504</th>\n",
              "      <td>ADHD-Combined Type. Oppositional Defiant Disor...</td>\n",
              "      <td>0</td>\n",
              "      <td>amoxicillian</td>\n",
              "    </tr>\n",
              "    <tr>\n",
              "      <th>569</th>\n",
              "      <td>0</td>\n",
              "      <td>0</td>\n",
              "      <td>Qvar Olopatadine</td>\n",
              "    </tr>\n",
              "    <tr>\n",
              "      <th>638</th>\n",
              "      <td>Autism Spectrum Disorder. ADHD-Inattentive Typ...</td>\n",
              "      <td>0</td>\n",
              "      <td>Focalin</td>\n",
              "    </tr>\n",
              "    <tr>\n",
              "      <th>768</th>\n",
              "      <td>ADHD-Combined Type. Autism Spectrum Disorder.</td>\n",
              "      <td>0</td>\n",
              "      <td>Abilify Focalin XR Sertraline (last night)</td>\n",
              "    </tr>\n",
              "    <tr>\n",
              "      <th>807</th>\n",
              "      <td>ADHD-Combined Type. Generalized Anxiety Disord...</td>\n",
              "      <td>0</td>\n",
              "      <td>Gildess</td>\n",
              "    </tr>\n",
              "    <tr>\n",
              "      <th>913</th>\n",
              "      <td>Autism Spectrum Disorder. ADHD-Combined Type.</td>\n",
              "      <td>Writing</td>\n",
              "      <td>Focalin</td>\n",
              "    </tr>\n",
              "    <tr>\n",
              "      <th>934</th>\n",
              "      <td>Generalized Anxiety Disorder. ADHD-Combined Ty...</td>\n",
              "      <td>Reading</td>\n",
              "      <td>vyvanse propranolol</td>\n",
              "    </tr>\n",
              "    <tr>\n",
              "      <th>1019</th>\n",
              "      <td>ADHD-Combined Type</td>\n",
              "      <td>0</td>\n",
              "      <td>Strattera</td>\n",
              "    </tr>\n",
              "    <tr>\n",
              "      <th>1022</th>\n",
              "      <td>Intellectual Disability-Moderate. ADHD-Combine...</td>\n",
              "      <td>0</td>\n",
              "      <td>Concerta Abilify BusPar</td>\n",
              "    </tr>\n",
              "    <tr>\n",
              "      <th>1265</th>\n",
              "      <td>ADHD-Combined Type. Generalized Anxiety Disord...</td>\n",
              "      <td>0</td>\n",
              "      <td>Fluoxetine</td>\n",
              "    </tr>\n",
              "    <tr>\n",
              "      <th>1377</th>\n",
              "      <td>ADHD-Combined Type. Other Specified Anxiety Di...</td>\n",
              "      <td>0</td>\n",
              "      <td>Fluoxetine Vyvanse</td>\n",
              "    </tr>\n",
              "    <tr>\n",
              "      <th>1466</th>\n",
              "      <td>Autism Spectrum Disorder. Persistent Depressiv...</td>\n",
              "      <td>Reading</td>\n",
              "      <td>abilify trihexyphenidyl</td>\n",
              "    </tr>\n",
              "    <tr>\n",
              "      <th>1495</th>\n",
              "      <td>Other Specified Attention-Deficit/Hyperactivit...</td>\n",
              "      <td>0</td>\n",
              "      <td>Budesonide Albuterol</td>\n",
              "    </tr>\n",
              "    <tr>\n",
              "      <th>1669</th>\n",
              "      <td>Major Depressive Disorder. Conduct Disorder-Ch...</td>\n",
              "      <td>0</td>\n",
              "      <td>Prozac Estrogen</td>\n",
              "    </tr>\n",
              "    <tr>\n",
              "      <th>1771</th>\n",
              "      <td>Speech Sound Disorder.</td>\n",
              "      <td>Reading and Written Expression</td>\n",
              "      <td>diphacalydramine</td>\n",
              "    </tr>\n",
              "    <tr>\n",
              "      <th>1858</th>\n",
              "      <td>ADHD-Combined Type. Autism Spectrum Disorder.</td>\n",
              "      <td>0</td>\n",
              "      <td>Folcaline XR</td>\n",
              "    </tr>\n",
              "    <tr>\n",
              "      <th>1901</th>\n",
              "      <td>ADHD-Combined Type. Autism Spectrum Disorder.</td>\n",
              "      <td>0</td>\n",
              "      <td>conerta zyrtec</td>\n",
              "    </tr>\n",
              "    <tr>\n",
              "      <th>1918</th>\n",
              "      <td>ADHD-Combined Type. Language Disorder. Intelle...</td>\n",
              "      <td>Reading</td>\n",
              "      <td>Concerta</td>\n",
              "    </tr>\n",
              "    <tr>\n",
              "      <th>1924</th>\n",
              "      <td>Major Depressive Disorder</td>\n",
              "      <td>0</td>\n",
              "      <td>Prozac</td>\n",
              "    </tr>\n",
              "    <tr>\n",
              "      <th>1940</th>\n",
              "      <td>ADHD-Combined Type</td>\n",
              "      <td>0</td>\n",
              "      <td>Dramamine</td>\n",
              "    </tr>\n",
              "    <tr>\n",
              "      <th>1951</th>\n",
              "      <td>ADHD-Combined Type. Oppositional Defiant Disor...</td>\n",
              "      <td>0</td>\n",
              "      <td>Detrol LA</td>\n",
              "    </tr>\n",
              "    <tr>\n",
              "      <th>1991</th>\n",
              "      <td>0</td>\n",
              "      <td>0</td>\n",
              "      <td>Claritin</td>\n",
              "    </tr>\n",
              "    <tr>\n",
              "      <th>2056</th>\n",
              "      <td>Specific Phobia. Separation Anxiety.</td>\n",
              "      <td>0</td>\n",
              "      <td>Prozac Atarax Trileptal</td>\n",
              "    </tr>\n",
              "    <tr>\n",
              "      <th>2198</th>\n",
              "      <td>ADHD-Combined Type. Autism Spectrum Disorder. ...</td>\n",
              "      <td>Reading and Math</td>\n",
              "      <td>Celexa Focalin Singular</td>\n",
              "    </tr>\n",
              "    <tr>\n",
              "      <th>2687</th>\n",
              "      <td>Autism Spectrum Disorder. ADHD-Inattentive Typ...</td>\n",
              "      <td>0</td>\n",
              "      <td>Methylphenidate Intuitiv</td>\n",
              "    </tr>\n",
              "    <tr>\n",
              "      <th>2697</th>\n",
              "      <td>ADHD-Combined Type. Autism Spectrum Disorder. ...</td>\n",
              "      <td>0</td>\n",
              "      <td>Tenex Geodon</td>\n",
              "    </tr>\n",
              "    <tr>\n",
              "      <th>2760</th>\n",
              "      <td>Oppositional Defiant Disorder. ADHD-Combined T...</td>\n",
              "      <td>0</td>\n",
              "      <td>concerta zyrteck</td>\n",
              "    </tr>\n",
              "    <tr>\n",
              "      <th>2779</th>\n",
              "      <td>Other Specified Anxiety Disorder. Speech Sound...</td>\n",
              "      <td>0</td>\n",
              "      <td>Ibuprofen</td>\n",
              "    </tr>\n",
              "    <tr>\n",
              "      <th>2794</th>\n",
              "      <td>ADHD-Inattentive Type. Enuresis.</td>\n",
              "      <td>Reading and Written Expression</td>\n",
              "      <td>Guanfacine Robitussin Multivitamin, probiotic</td>\n",
              "    </tr>\n",
              "    <tr>\n",
              "      <th>2967</th>\n",
              "      <td>ADHD-Hyperactive/Impulsive Type. Oppositional ...</td>\n",
              "      <td>0</td>\n",
              "      <td>Tenex</td>\n",
              "    </tr>\n",
              "    <tr>\n",
              "      <th>3052</th>\n",
              "      <td>0</td>\n",
              "      <td>0</td>\n",
              "      <td>Singular</td>\n",
              "    </tr>\n",
              "    <tr>\n",
              "      <th>3173</th>\n",
              "      <td>ADHD-Combined Type</td>\n",
              "      <td>0</td>\n",
              "      <td>Antiobiotic</td>\n",
              "    </tr>\n",
              "    <tr>\n",
              "      <th>3256</th>\n",
              "      <td>ADHD-Combined Type</td>\n",
              "      <td>0</td>\n",
              "      <td>Antacid (Pepcid) Vitamin Loratadine</td>\n",
              "    </tr>\n",
              "    <tr>\n",
              "      <th>3312</th>\n",
              "      <td>0</td>\n",
              "      <td>0</td>\n",
              "      <td>Singulair</td>\n",
              "    </tr>\n",
              "    <tr>\n",
              "      <th>3336</th>\n",
              "      <td>Generalized Anxiety Disorder. Conduct Disorder...</td>\n",
              "      <td>0</td>\n",
              "      <td>Topomax Wellbutrin Synthroid</td>\n",
              "    </tr>\n",
              "    <tr>\n",
              "      <th>3425</th>\n",
              "      <td>ADHD-Combined Type</td>\n",
              "      <td>0</td>\n",
              "      <td>Robitussin Robitussin</td>\n",
              "    </tr>\n",
              "    <tr>\n",
              "      <th>3445</th>\n",
              "      <td>ADHD-Combined Type. Oppositional Defiant Disor...</td>\n",
              "      <td>0</td>\n",
              "      <td>Albuterol</td>\n",
              "    </tr>\n",
              "    <tr>\n",
              "      <th>3551</th>\n",
              "      <td>Autism Spectrum Disorder. Major Depressive Dis...</td>\n",
              "      <td>0</td>\n",
              "      <td>Fluoxetine (Prozac)</td>\n",
              "    </tr>\n",
              "    <tr>\n",
              "      <th>3572</th>\n",
              "      <td>Persistent (Chronic) Motor or Vocal Tic Disord...</td>\n",
              "      <td>0</td>\n",
              "      <td>Zyrtec</td>\n",
              "    </tr>\n",
              "    <tr>\n",
              "      <th>3962</th>\n",
              "      <td>ADHD-Combined Type</td>\n",
              "      <td>0</td>\n",
              "      <td>Allegra Flonase</td>\n",
              "    </tr>\n",
              "    <tr>\n",
              "      <th>4087</th>\n",
              "      <td>Autism Spectrum Disorder. ADHD-Inattentive Type.</td>\n",
              "      <td>0</td>\n",
              "      <td>Vyvanse Risperidone</td>\n",
              "    </tr>\n",
              "    <tr>\n",
              "      <th>4092</th>\n",
              "      <td>0</td>\n",
              "      <td>0</td>\n",
              "      <td>Vitamin D Drops</td>\n",
              "    </tr>\n",
              "    <tr>\n",
              "      <th>4191</th>\n",
              "      <td>Generalized Anxiety Disorder. Intermittent Exp...</td>\n",
              "      <td>0</td>\n",
              "      <td>Abilify Depakote</td>\n",
              "    </tr>\n",
              "    <tr>\n",
              "      <th>4263</th>\n",
              "      <td>Generalized Anxiety Disorder. ADHD-Inattentive...</td>\n",
              "      <td>0</td>\n",
              "      <td>dimetapp</td>\n",
              "    </tr>\n",
              "    <tr>\n",
              "      <th>4398</th>\n",
              "      <td>Major Depressive Disorder. Persistent Depressi...</td>\n",
              "      <td>0</td>\n",
              "      <td>Trileptal Buspar</td>\n",
              "    </tr>\n",
              "    <tr>\n",
              "      <th>4405</th>\n",
              "      <td>Generalized Anxiety Disorder</td>\n",
              "      <td>0</td>\n",
              "      <td>Zyrtec</td>\n",
              "    </tr>\n",
              "    <tr>\n",
              "      <th>4483</th>\n",
              "      <td>Autism Spectrum Disorder. ADHD-Inattentive Type.</td>\n",
              "      <td>0</td>\n",
              "      <td>prozac</td>\n",
              "    </tr>\n",
              "    <tr>\n",
              "      <th>4490</th>\n",
              "      <td>ADHD-Combined Type. Oppositional Defiant Disor...</td>\n",
              "      <td>0</td>\n",
              "      <td>Focalin</td>\n",
              "    </tr>\n",
              "    <tr>\n",
              "      <th>4590</th>\n",
              "      <td>ADHD-Combined Type.</td>\n",
              "      <td>Reading</td>\n",
              "      <td>Focalin</td>\n",
              "    </tr>\n",
              "    <tr>\n",
              "      <th>4593</th>\n",
              "      <td>ADHD-Inattentive Type. Other Specified Depress...</td>\n",
              "      <td>0</td>\n",
              "      <td>cefdinir faxil</td>\n",
              "    </tr>\n",
              "    <tr>\n",
              "      <th>4610</th>\n",
              "      <td>ADHD-Inattentive Type. Other Specified Anxiety...</td>\n",
              "      <td>0</td>\n",
              "      <td>Iron</td>\n",
              "    </tr>\n",
              "    <tr>\n",
              "      <th>4674</th>\n",
              "      <td>ADHD-Combined Type. Separation Anxiety. Other ...</td>\n",
              "      <td>0</td>\n",
              "      <td>Benadryl</td>\n",
              "    </tr>\n",
              "  </tbody>\n",
              "</table>\n",
              "</div>\n",
              "      <button class=\"colab-df-convert\" onclick=\"convertToInteractive('df-a29f19e7-6992-45d1-ba3d-b999e0182d55')\"\n",
              "              title=\"Convert this dataframe to an interactive table.\"\n",
              "              style=\"display:none;\">\n",
              "        \n",
              "  <svg xmlns=\"http://www.w3.org/2000/svg\" height=\"24px\"viewBox=\"0 0 24 24\"\n",
              "       width=\"24px\">\n",
              "    <path d=\"M0 0h24v24H0V0z\" fill=\"none\"/>\n",
              "    <path d=\"M18.56 5.44l.94 2.06.94-2.06 2.06-.94-2.06-.94-.94-2.06-.94 2.06-2.06.94zm-11 1L8.5 8.5l.94-2.06 2.06-.94-2.06-.94L8.5 2.5l-.94 2.06-2.06.94zm10 10l.94 2.06.94-2.06 2.06-.94-2.06-.94-.94-2.06-.94 2.06-2.06.94z\"/><path d=\"M17.41 7.96l-1.37-1.37c-.4-.4-.92-.59-1.43-.59-.52 0-1.04.2-1.43.59L10.3 9.45l-7.72 7.72c-.78.78-.78 2.05 0 2.83L4 21.41c.39.39.9.59 1.41.59.51 0 1.02-.2 1.41-.59l7.78-7.78 2.81-2.81c.8-.78.8-2.07 0-2.86zM5.41 20L4 18.59l7.72-7.72 1.47 1.35L5.41 20z\"/>\n",
              "  </svg>\n",
              "      </button>\n",
              "      \n",
              "  <style>\n",
              "    .colab-df-container {\n",
              "      display:flex;\n",
              "      flex-wrap:wrap;\n",
              "      gap: 12px;\n",
              "    }\n",
              "\n",
              "    .colab-df-convert {\n",
              "      background-color: #E8F0FE;\n",
              "      border: none;\n",
              "      border-radius: 50%;\n",
              "      cursor: pointer;\n",
              "      display: none;\n",
              "      fill: #1967D2;\n",
              "      height: 32px;\n",
              "      padding: 0 0 0 0;\n",
              "      width: 32px;\n",
              "    }\n",
              "\n",
              "    .colab-df-convert:hover {\n",
              "      background-color: #E2EBFA;\n",
              "      box-shadow: 0px 1px 2px rgba(60, 64, 67, 0.3), 0px 1px 3px 1px rgba(60, 64, 67, 0.15);\n",
              "      fill: #174EA6;\n",
              "    }\n",
              "\n",
              "    [theme=dark] .colab-df-convert {\n",
              "      background-color: #3B4455;\n",
              "      fill: #D2E3FC;\n",
              "    }\n",
              "\n",
              "    [theme=dark] .colab-df-convert:hover {\n",
              "      background-color: #434B5C;\n",
              "      box-shadow: 0px 1px 3px 1px rgba(0, 0, 0, 0.15);\n",
              "      filter: drop-shadow(0px 1px 2px rgba(0, 0, 0, 0.3));\n",
              "      fill: #FFFFFF;\n",
              "    }\n",
              "  </style>\n",
              "\n",
              "      <script>\n",
              "        const buttonEl =\n",
              "          document.querySelector('#df-a29f19e7-6992-45d1-ba3d-b999e0182d55 button.colab-df-convert');\n",
              "        buttonEl.style.display =\n",
              "          google.colab.kernel.accessAllowed ? 'block' : 'none';\n",
              "\n",
              "        async function convertToInteractive(key) {\n",
              "          const element = document.querySelector('#df-a29f19e7-6992-45d1-ba3d-b999e0182d55');\n",
              "          const dataTable =\n",
              "            await google.colab.kernel.invokeFunction('convertToInteractive',\n",
              "                                                     [key], {});\n",
              "          if (!dataTable) return;\n",
              "\n",
              "          const docLinkHtml = 'Like what you see? Visit the ' +\n",
              "            '<a target=\"_blank\" href=https://colab.research.google.com/notebooks/data_table.ipynb>data table notebook</a>'\n",
              "            + ' to learn more about interactive tables.';\n",
              "          element.innerHTML = '';\n",
              "          dataTable['output_type'] = 'display_data';\n",
              "          await google.colab.output.renderOutput(dataTable, element);\n",
              "          const docLink = document.createElement('div');\n",
              "          docLink.innerHTML = docLinkHtml;\n",
              "          element.appendChild(docLink);\n",
              "        }\n",
              "      </script>\n",
              "    </div>\n",
              "  </div>\n",
              "  "
            ]
          },
          "metadata": {},
          "execution_count": 41
        }
      ]
    },
    {
      "cell_type": "code",
      "source": [
        "for i in range(1,4):\n",
        "  name_med = 'DailyMeds,med_name_0' + str(i)\n",
        "  name_dose = 'DailyMeds,med_dose_0' + str(i)\n",
        "  data_pheno.drop([name_med], axis=1, inplace=True)\n",
        "  data_pheno.drop([name_dose], axis=1, inplace=True)"
      ],
      "metadata": {
        "id": "LJGsKx-JTm2h"
      },
      "execution_count": null,
      "outputs": []
    },
    {
      "cell_type": "code",
      "source": [
        "iq = data_pheno['WISC,WISC_FSIQ'].values\n",
        "new_iq = []\n",
        "for i in iq:\n",
        "  if i == '.':\n",
        "    new_iq.append('unknown')\n",
        "  elif type(i) == float:\n",
        "    new_iq.append('unknown')\n",
        "  elif i.isnumeric():\n",
        "    new_iq.append(int(i))\n",
        "  else:\n",
        "    print(i)\n",
        "    break"
      ],
      "metadata": {
        "id": "qeUB0KnpQWXa"
      },
      "execution_count": null,
      "outputs": []
    },
    {
      "cell_type": "code",
      "source": [
        "data_pheno['WISC,WISC_FSIQ'] = new_iq"
      ],
      "metadata": {
        "id": "7gChdcwaRicp"
      },
      "execution_count": null,
      "outputs": []
    },
    {
      "cell_type": "markdown",
      "source": [
        "## Exclusion"
      ],
      "metadata": {
        "id": "SKLY8kv0GHLO"
      }
    },
    {
      "cell_type": "code",
      "source": [
        "data_filtered = data_pheno.copy()"
      ],
      "metadata": {
        "id": "BDavNtBpXy1W"
      },
      "execution_count": null,
      "outputs": []
    },
    {
      "cell_type": "code",
      "source": [
        "# deleting incomplete clinical assessments\n",
        "data_filtered = data_filtered[data_filtered['DD'] != 'Incomplete']"
      ],
      "metadata": {
        "id": "XsOi4JHeXbrY"
      },
      "execution_count": null,
      "outputs": []
    },
    {
      "cell_type": "code",
      "source": [
        "# leaving only right-handed\n",
        "data_filtered = data_filtered[data_filtered['EHQ,EHQ_Total'] != '.']\n",
        "data_filtered['EHQ,EHQ_Total'] = data_filtered['EHQ,EHQ_Total'].astype(float)\n",
        "data_filtered = data_filtered[data_filtered['EHQ,EHQ_Total'] >= 40]"
      ],
      "metadata": {
        "id": "_tWi-3-jWxRg"
      },
      "execution_count": null,
      "outputs": []
    },
    {
      "cell_type": "code",
      "source": [
        "# without Math, Writing, Math+Writing\n",
        "data_filtered = data_filtered[data_filtered['DD'] != 'Math']\n",
        "data_filtered = data_filtered[data_filtered['DD'] != 'Writing']\n",
        "data_filtered = data_filtered[data_filtered['DD'] != 'Math and Written Expression']"
      ],
      "metadata": {
        "id": "i745Bkh9Ge7i"
      },
      "execution_count": null,
      "outputs": []
    },
    {
      "cell_type": "code",
      "source": [
        "dd = data_filtered['DD'].values\n",
        "diag = data_filtered['Diagnosis'].values\n",
        "status = []\n",
        "for i in range(0, data_filtered.shape[0]):\n",
        "  if dd[i] == 0 and diag[i] == 0:\n",
        "    status.append(0)\n",
        "  elif dd[i] != 0 and diag[i] == 0:\n",
        "    status.append(1)\n",
        "  elif dd[i] == 0 and diag[i] != 0:\n",
        "    status.append(2)\n",
        "  else:\n",
        "    status.append(1)"
      ],
      "metadata": {
        "id": "cXSIYs8mr2s_"
      },
      "execution_count": null,
      "outputs": []
    },
    {
      "cell_type": "code",
      "source": [
        "data_filtered['Status'] = status"
      ],
      "metadata": {
        "id": "vNStc2OGrzLn"
      },
      "execution_count": null,
      "outputs": []
    },
    {
      "cell_type": "code",
      "source": [
        "# without people who have other disorder than DD but no DD\n",
        "data_filtered = data_filtered[data_filtered['Status'] != 2]"
      ],
      "metadata": {
        "id": "OV_vdutIrACx"
      },
      "execution_count": null,
      "outputs": []
    },
    {
      "cell_type": "code",
      "source": [
        "# excluding people older than 18\n",
        "data_filtered = data_filtered[data_filtered['Basic_Demos,Age'] <= 18]"
      ],
      "metadata": {
        "id": "lF2nBql73xcc"
      },
      "execution_count": null,
      "outputs": []
    },
    {
      "cell_type": "code",
      "source": [
        "diag = data_filtered['Diagnosis'].values"
      ],
      "metadata": {
        "id": "PEfqRgZLt517"
      },
      "execution_count": null,
      "outputs": []
    },
    {
      "cell_type": "code",
      "source": [
        "new_d = []\n",
        "for i in diag:\n",
        "  if i == 0 or i == '' or i == ' ':\n",
        "    new_d.append(0)\n",
        "  elif type(i) == str:\n",
        "    i = i[:-2]\n",
        "    if 'Autism' in i:\n",
        "      new_d.append('Autism')\n",
        "    elif 'Borderline Intellectual Functioning' in i:\n",
        "      new_d.append('Intellectual')\n",
        "    else:\n",
        "      new_d.append(i)\n",
        "  else:\n",
        "    print(i)\n",
        "    break"
      ],
      "metadata": {
        "id": "BhYk7qg4uULK"
      },
      "execution_count": null,
      "outputs": []
    },
    {
      "cell_type": "code",
      "source": [
        "data_filtered['Diagnosis'] = new_d"
      ],
      "metadata": {
        "id": "UqejkjmrvKcx"
      },
      "execution_count": null,
      "outputs": []
    },
    {
      "cell_type": "code",
      "source": [
        "# excluding autism and intellectual disorder\n",
        "data_filtered = data_filtered[data_filtered['Diagnosis'] != 'Autism']\n",
        "data_filtered = data_filtered[data_filtered['Diagnosis'] != 'Intellectual']"
      ],
      "metadata": {
        "id": "RzZd0wwVvTix"
      },
      "execution_count": null,
      "outputs": []
    },
    {
      "cell_type": "code",
      "source": [
        "#excluding people who takes medicine\n",
        "data_filtered = data_filtered[data_filtered['Medicine'] == 0]"
      ],
      "metadata": {
        "id": "iO7S4qbNwoUs"
      },
      "execution_count": null,
      "outputs": []
    },
    {
      "cell_type": "markdown",
      "source": [
        "Standardizing the IQ scores and Excluding people with the IQ scores less than 70. The main test is WISC. All others are additional. "
      ],
      "metadata": {
        "id": "qssmlJVdWbYG"
      }
    },
    {
      "cell_type": "code",
      "source": [
        "# substituting rare nan values with '.' for the standardisation of missing values\n",
        "data_filtered['KBIT,KBIT_IQ_Comp'] = data_filtered['KBIT,KBIT_IQ_Comp'].fillna('.')\n",
        "data_filtered['WASI,WASI_FSIQ'] = data_filtered['WASI,WASI_FSIQ'].fillna('.')\n",
        "data_filtered['WAIS,WAIS_FSIQ_SCALE'] = data_filtered['WAIS,WAIS_FSIQ_SCALE'].fillna('.')"
      ],
      "metadata": {
        "id": "GE-mrHMjgzsG"
      },
      "execution_count": null,
      "outputs": []
    },
    {
      "cell_type": "code",
      "source": [
        "reference_test = []\n",
        "iq_value = []\n",
        "wisc = data_filtered['WISC,WISC_FSIQ'].values\n",
        "kbit = data_filtered['KBIT,KBIT_IQ_Comp'].values\n",
        "wasi = data_filtered['WASI,WASI_FSIQ'].values\n",
        "wais = data_filtered['WAIS,WAIS_FSIQ_SCALE'].values\n",
        "age = data_filtered['Basic_Demos,Age'].values\n",
        "\n",
        "for i in range(0, data_filtered.shape[0]):\n",
        "  # if there are no iq results\n",
        "  if wisc[i] == 'unknown' and kbit[i] == '.' and wais[i] == '.' and wasi[i] == '.':\n",
        "    iq_value.append('none')\n",
        "    reference_test.append('none')\n",
        "  # if we have wisc\n",
        "  elif wisc[i] != 'unknown':\n",
        "    if kbit[i] == '.':\n",
        "      iq_value.append(int(wisc[i]))\n",
        "      reference_test.append('wisc')\n",
        "    # if we also have kbit\n",
        "    else:\n",
        "      if age[i] < 6:\n",
        "        iq_value.append(int(kbit[i]))\n",
        "        reference_test.append('kbit')\n",
        "      else:\n",
        "        iq_value.append(int(wisc[i]))\n",
        "        reference_test.append('wisc')\n",
        "  # if we don't have wisc\n",
        "  else:\n",
        "    if kbit[i] != '.' and wasi[i] != '.':\n",
        "      if int(wasi[i]) > 70:\n",
        "        iq_value.append(int(wasi[i]))\n",
        "        reference_test.append('wasi')\n",
        "      else:\n",
        "        iq_value.append(int(kbit[i]))\n",
        "        reference_test.append('kbit')\n",
        "    elif kbit[i] != '.':\n",
        "      iq_value.append(int(kbit[i]))\n",
        "      reference_test.append('kbit')\n",
        "    elif wasi[i] != '.':\n",
        "      iq_value.append(int(wasi[i]))\n",
        "      reference_test.append('wasi')\n",
        "    elif wais[i] != '.':\n",
        "      iq_value.append(int(wais[i]))\n",
        "      reference_test.append('wais')"
      ],
      "metadata": {
        "id": "ISliL9sLYeWG"
      },
      "execution_count": null,
      "outputs": []
    },
    {
      "cell_type": "code",
      "source": [
        "data_filtered['IQ'] = iq_value\n",
        "data_filtered['Test'] = reference_test "
      ],
      "metadata": {
        "id": "4UJUqyl0pj5d"
      },
      "execution_count": null,
      "outputs": []
    },
    {
      "cell_type": "code",
      "source": [
        "# deleting people with no iq\n",
        "data_filtered = data_filtered[data_filtered['IQ'] != 'none']"
      ],
      "metadata": {
        "id": "TbJrfkf6REXe"
      },
      "execution_count": null,
      "outputs": []
    },
    {
      "cell_type": "code",
      "source": [
        "# deleting people with iq < 70\n",
        "data_filtered = data_filtered[data_filtered['IQ'] >= 70]"
      ],
      "metadata": {
        "id": "7BjXOm-WQDpH"
      },
      "execution_count": null,
      "outputs": []
    },
    {
      "cell_type": "code",
      "source": [
        "# checking whether someone has an alcohol abuse according to AUDIT test. Score 8 hazardous drinking\n",
        "# only one persone has a score of 11\n",
        "data_filtered.groupby(['Audit,AUDIT_Total_Score'])['Identifiers'].count()"
      ],
      "metadata": {
        "id": "stpPTFUg9Jnr",
        "outputId": "5b61b792-0d7c-4119-fd4a-8f98a863ec20",
        "colab": {
          "base_uri": "https://localhost:8080/"
        }
      },
      "execution_count": null,
      "outputs": [
        {
          "output_type": "execute_result",
          "data": {
            "text/plain": [
              "Audit,AUDIT_Total_Score\n",
              ".     426\n",
              "0     189\n",
              "1      10\n",
              "11      1\n",
              "2       3\n",
              "4       2\n",
              "5       1\n",
              "9       1\n",
              "Name: Identifiers, dtype: int64"
            ]
          },
          "metadata": {},
          "execution_count": 63
        }
      ]
    },
    {
      "cell_type": "code",
      "source": [
        "# checking how many people would miss baratt results\n",
        "data_filtered.groupby(['Barratt,Barratt_Total'])['Identifiers'].count()"
      ],
      "metadata": {
        "id": "eftW8Z2u-9d8",
        "outputId": "d82f5783-acf2-4434-997e-4e3bea34b48c",
        "colab": {
          "base_uri": "https://localhost:8080/"
        }
      },
      "execution_count": null,
      "outputs": [
        {
          "output_type": "execute_result",
          "data": {
            "text/plain": [
              "Barratt,Barratt_Total\n",
              ".        8\n",
              "10.5     1\n",
              "12       2\n",
              "14       2\n",
              "14.5     1\n",
              "        ..\n",
              "63      23\n",
              "63.5     9\n",
              "64.5    34\n",
              "66      50\n",
              "9        1\n",
              "Name: Identifiers, Length: 92, dtype: int64"
            ]
          },
          "metadata": {},
          "execution_count": 64
        }
      ]
    },
    {
      "cell_type": "code",
      "source": [
        "# 18 DD cases missing the information on CTOPP test\n",
        "data_filtered[(data_filtered['CTOPP,CTOPP_BW_D'] == '.') & (data_filtered['DD'] != 0)].shape"
      ],
      "metadata": {
        "id": "-xy2ZJCm_nQy",
        "outputId": "c1b675b2-7aca-40bf-8b22-b909e5ca6e72",
        "colab": {
          "base_uri": "https://localhost:8080/"
        }
      },
      "execution_count": null,
      "outputs": [
        {
          "output_type": "execute_result",
          "data": {
            "text/plain": [
              "(18, 137)"
            ]
          },
          "metadata": {},
          "execution_count": 84
        }
      ]
    },
    {
      "cell_type": "code",
      "source": [
        "# excluding people witt missing CTOPP scores\n",
        "data_filtered['CTOPP,CTOPP_BW_D'] = data_filtered['CTOPP,CTOPP_BW_D'].fillna('.')\n",
        "data_filtered = data_filtered[data_filtered['CTOPP,CTOPP_BW_D'] != '.']"
      ],
      "metadata": {
        "id": "4mgkJn-0HxXI"
      },
      "execution_count": null,
      "outputs": []
    },
    {
      "cell_type": "code",
      "source": [
        "# excluding amphetamines, benzaozepines, tca, thc\n",
        "data_filtered = data_filtered[data_filtered['DrugScreen,AMP500'] != '1']\n",
        "data_filtered = data_filtered[data_filtered['DrugScreen,BZO300'] != '1']\n",
        "data_filtered = data_filtered[data_filtered['DrugScreen,TCA1000'] != '1']\n",
        "data_filtered = data_filtered[data_filtered['DrugScreen,THC50'] != '1']\n"
      ],
      "metadata": {
        "id": "LjUjle3xAN1p"
      },
      "execution_count": null,
      "outputs": []
    },
    {
      "cell_type": "code",
      "source": [
        "# previous head injuries and psych meds\n",
        "data_filtered[(data_filtered['PreInt_TxHx,head_injuries'] == '1') & (data_filtered['DD'] != 0)].shape\n",
        "data_filtered[(data_filtered['PreInt_TxHx,psych_meds_past'] == '1') & (data_filtered['DD'] != 0)].shape"
      ],
      "metadata": {
        "id": "FtmdjAfIYTiS",
        "outputId": "cd792ac7-ead3-4775-96b7-42e9cb2f65c8",
        "colab": {
          "base_uri": "https://localhost:8080/"
        }
      },
      "execution_count": null,
      "outputs": [
        {
          "output_type": "execute_result",
          "data": {
            "text/plain": [
              "(34, 137)"
            ]
          },
          "metadata": {},
          "execution_count": 71
        }
      ]
    },
    {
      "cell_type": "code",
      "source": [
        "# exploring whether family members have neurological disorders\n",
        "data_filtered.groupby(['PreInt_FamHx_RDC,fepilep'])['Identifiers'].count()\n",
        "#data_filtered[data_filtered['PreInt_FamHx_RDC,fepilep'] == 'Definite/severe'].shape"
      ],
      "metadata": {
        "id": "Ue3VEB46AjZt",
        "outputId": "96807fc8-5828-42d3-f0ef-a3415f6518fc",
        "colab": {
          "base_uri": "https://localhost:8080/"
        }
      },
      "execution_count": null,
      "outputs": [
        {
          "output_type": "execute_result",
          "data": {
            "text/plain": [
              "PreInt_FamHx_RDC,fepilep\n",
              ".                   50\n",
              "Definite/severe      2\n",
              "No                 531\n",
              "No response         19\n",
              "Possible/mild        8\n",
              "Name: Identifiers, dtype: int64"
            ]
          },
          "metadata": {},
          "execution_count": 72
        }
      ]
    },
    {
      "cell_type": "code",
      "source": [
        "data_filtered.groupby(['PreInt_FamHx_RDC,ffhxautism'])['Identifiers'].count()"
      ],
      "metadata": {
        "id": "-NifkCZ2Zy11",
        "outputId": "759f17b6-488a-4af6-839b-6b548ee7a194",
        "colab": {
          "base_uri": "https://localhost:8080/"
        }
      },
      "execution_count": null,
      "outputs": [
        {
          "output_type": "execute_result",
          "data": {
            "text/plain": [
              "PreInt_FamHx_RDC,ffhxautism\n",
              ".                             50\n",
              "4None                          1\n",
              "In 1st degree relative        13\n",
              "In 2nd degree relative        14\n",
              "In 3rd degree relative        10\n",
              "In multiple 2nd degree re      4\n",
              "In multiple 3rd degree re      2\n",
              "No response                   31\n",
              "None                         485\n",
              "Name: Identifiers, dtype: int64"
            ]
          },
          "metadata": {},
          "execution_count": 73
        }
      ]
    },
    {
      "cell_type": "code",
      "source": [
        "data_filtered.groupby(['PreInt_FamHx_RDC,fmigrain'])['Identifiers'].count()"
      ],
      "metadata": {
        "id": "xnEHThbKaRKP",
        "outputId": "fca156b1-d133-4fe1-aa0b-8be70f3a7508",
        "colab": {
          "base_uri": "https://localhost:8080/"
        }
      },
      "execution_count": null,
      "outputs": [
        {
          "output_type": "execute_result",
          "data": {
            "text/plain": [
              "PreInt_FamHx_RDC,fmigrain\n",
              ".                   50\n",
              "Definite/severe     18\n",
              "No                 501\n",
              "No response         22\n",
              "Possible/mild       22\n",
              "Name: Identifiers, dtype: int64"
            ]
          },
          "metadata": {},
          "execution_count": 74
        }
      ]
    },
    {
      "cell_type": "code",
      "source": [
        "data_filtered.groupby(['PreInt_FamHx_RDC,fneurol'])['Identifiers'].count()"
      ],
      "metadata": {
        "colab": {
          "base_uri": "https://localhost:8080/"
        },
        "id": "qJiWZ4EoaZRe",
        "outputId": "602a9ea8-8d02-426a-d77b-12a34abb18a8"
      },
      "execution_count": null,
      "outputs": [
        {
          "output_type": "execute_result",
          "data": {
            "text/plain": [
              "PreInt_FamHx_RDC,fneurol\n",
              ".                   50\n",
              "Definite/severe      8\n",
              "No                 527\n",
              "No response         21\n",
              "Possible/mild        4\n",
              "Name: Identifiers, dtype: int64"
            ]
          },
          "metadata": {},
          "execution_count": 75
        }
      ]
    },
    {
      "cell_type": "code",
      "source": [
        "data_filtered.groupby(['PreInt_FamHx_RDC,mfhxautism'])['Identifiers'].count()"
      ],
      "metadata": {
        "outputId": "075a69a7-1518-4373-a3b1-187d4123f0d0",
        "colab": {
          "base_uri": "https://localhost:8080/"
        },
        "id": "fgzfzaolars6"
      },
      "execution_count": null,
      "outputs": [
        {
          "output_type": "execute_result",
          "data": {
            "text/plain": [
              "PreInt_FamHx_RDC,mfhxautism\n",
              ".                             50\n",
              "In 1st degree relative        14\n",
              "In 2nd degree relative        22\n",
              "In 3rd degree relative        24\n",
              "In multiple 2nd degree re      2\n",
              "In multiple 3rd degree re      1\n",
              "No response                   21\n",
              "None                         481\n",
              "Name: Identifiers, dtype: int64"
            ]
          },
          "metadata": {},
          "execution_count": 76
        }
      ]
    },
    {
      "cell_type": "code",
      "source": [
        "data_filtered.groupby(['PreInt_FamHx_RDC,mmigrain'])['Identifiers'].count()"
      ],
      "metadata": {
        "outputId": "634b8f7a-e811-4ade-dad0-528aff7ec8cf",
        "colab": {
          "base_uri": "https://localhost:8080/"
        },
        "id": "zRMmYAfTar4R"
      },
      "execution_count": null,
      "outputs": [
        {
          "output_type": "execute_result",
          "data": {
            "text/plain": [
              "PreInt_FamHx_RDC,mmigrain\n",
              ".                   50\n",
              "Definite/severe     53\n",
              "No                 437\n",
              "No response         12\n",
              "Possible/mild       66\n",
              "Name: Identifiers, dtype: int64"
            ]
          },
          "metadata": {},
          "execution_count": 77
        }
      ]
    },
    {
      "cell_type": "code",
      "source": [
        "data_filtered.groupby(['PreInt_FamHx_RDC,mneurol'])['Identifiers'].count()"
      ],
      "metadata": {
        "outputId": "f772a70e-5dc9-4fd4-d538-074fe3b72126",
        "colab": {
          "base_uri": "https://localhost:8080/"
        },
        "id": "RbghXqmmasA3"
      },
      "execution_count": null,
      "outputs": [
        {
          "output_type": "execute_result",
          "data": {
            "text/plain": [
              "PreInt_FamHx_RDC,mneurol\n",
              ".                   50\n",
              "Definite/severe      2\n",
              "No                 551\n",
              "No response         11\n",
              "Possible/mild        1\n",
              "Name: Identifiers, dtype: int64"
            ]
          },
          "metadata": {},
          "execution_count": 78
        }
      ]
    },
    {
      "cell_type": "code",
      "source": [
        "data_filtered.groupby(['PreInt_FamHx_RDC,sib1neurol'])['Identifiers'].count()"
      ],
      "metadata": {
        "outputId": "e6397b96-a269-4e24-fa58-109352d49db0",
        "colab": {
          "base_uri": "https://localhost:8080/"
        },
        "id": "9SDe1EtNbQ9t"
      },
      "execution_count": null,
      "outputs": [
        {
          "output_type": "execute_result",
          "data": {
            "text/plain": [
              "PreInt_FamHx_RDC,sib1neurol\n",
              ".                   50\n",
              "Definite/severe      1\n",
              "No                 402\n",
              "No response         15\n",
              "Possible/mild        1\n",
              "Name: Identifiers, dtype: int64"
            ]
          },
          "metadata": {},
          "execution_count": 79
        }
      ]
    },
    {
      "cell_type": "code",
      "source": [
        "data_filtered.groupby(['PreInt_FamHx_RDC,sib3epilep'])['Identifiers'].count()"
      ],
      "metadata": {
        "outputId": "b5498dc7-0de1-4342-fe3a-eb5d6768dfee",
        "colab": {
          "base_uri": "https://localhost:8080/"
        },
        "id": "_VPxr0wXbRKm"
      },
      "execution_count": null,
      "outputs": [
        {
          "output_type": "execute_result",
          "data": {
            "text/plain": [
              "PreInt_FamHx_RDC,sib3epilep\n",
              ".                  50\n",
              "Definite/severe     1\n",
              "No                 77\n",
              "No response         3\n",
              "Name: Identifiers, dtype: int64"
            ]
          },
          "metadata": {},
          "execution_count": 80
        }
      ]
    },
    {
      "cell_type": "code",
      "source": [
        "data_filtered.groupby(['PreInt_FamHx_RDC,sib5epilep'])['Identifiers'].count()"
      ],
      "metadata": {
        "outputId": "527821a0-d7c9-412e-dc69-4da05bb1d144",
        "colab": {
          "base_uri": "https://localhost:8080/"
        },
        "id": "kj8vcpSXboXB"
      },
      "execution_count": null,
      "outputs": [
        {
          "output_type": "execute_result",
          "data": {
            "text/plain": [
              "PreInt_FamHx_RDC,sib5epilep\n",
              ".                  50\n",
              "Definite/severe     1\n",
              "No                 14\n",
              "Name: Identifiers, dtype: int64"
            ]
          },
          "metadata": {},
          "execution_count": 81
        }
      ]
    },
    {
      "cell_type": "markdown",
      "source": [
        "# Characteristics of the ready dataset"
      ],
      "metadata": {
        "id": "6FVNklI1tBUP"
      }
    },
    {
      "cell_type": "code",
      "source": [
        "sns.displot(data_filtered[data_filtered['Status'] == 1]['Basic_Demos,Age'],\n",
        "             binwidth = 1)\n",
        "pl.title('Age distribution in DD group');"
      ],
      "metadata": {
        "id": "uT9jzc6Y75CJ",
        "outputId": "c9c2630b-23ce-41aa-c492-976677594443",
        "colab": {
          "base_uri": "https://localhost:8080/",
          "height": 381
        }
      },
      "execution_count": null,
      "outputs": [
        {
          "output_type": "display_data",
          "data": {
            "text/plain": [
              "<Figure size 360x360 with 1 Axes>"
            ],
            "image/png": "[encoded data removed]"
          },
          "metadata": {}
        }
      ]
    },
    {
      "cell_type": "code",
      "source": [
        "print('5-6 years old')\n",
        "print(data_filtered[(data_filtered['Basic_Demos,Age'] > 5) & (data_filtered['Basic_Demos,Age'] < 6) & (data_filtered['Status'] == 1)].shape[0])\n",
        "print('6-7 years old')\n",
        "print(data_filtered[(data_filtered['Basic_Demos,Age'] >= 6) & (data_filtered['Basic_Demos,Age'] < 7) & (data_filtered['Status'] == 1)].shape[0])\n",
        "print('7-8 years old')\n",
        "print(data_filtered[(data_filtered['Basic_Demos,Age'] >= 7) & (data_filtered['Basic_Demos,Age'] < 8) & (data_filtered['Status'] == 1)].shape[0])\n",
        "print('8-9 years old')\n",
        "print(data_filtered[(data_filtered['Basic_Demos,Age'] >= 8) & (data_filtered['Basic_Demos,Age'] < 9) & (data_filtered['Status'] == 1)].shape[0])\n",
        "print('9-10 years old')\n",
        "print(data_filtered[(data_filtered['Basic_Demos,Age'] >= 9) & (data_filtered['Basic_Demos,Age'] < 10) & (data_filtered['Status'] == 1)].shape[0])\n",
        "print('10-11 years old')\n",
        "print(data_filtered[(data_filtered['Basic_Demos,Age'] >= 10) & (data_filtered['Basic_Demos,Age'] < 11) & (data_filtered['Status'] == 1)].shape[0])\n",
        "print('11-12 years old')\n",
        "print(data_filtered[(data_filtered['Basic_Demos,Age'] >= 11) & (data_filtered['Basic_Demos,Age'] < 12) & (data_filtered['Status'] == 1)].shape[0])\n",
        "print('from 12 years old')\n",
        "print(data_filtered[(data_filtered['Basic_Demos,Age'] >= 12) & (data_filtered['Status'] == 1)].shape[0])"
      ],
      "metadata": {
        "id": "yJ2mRhHUtFUf",
        "outputId": "8e5682a5-14a5-4fe1-80a1-0fd838eaa29c",
        "colab": {
          "base_uri": "https://localhost:8080/"
        }
      },
      "execution_count": null,
      "outputs": [
        {
          "output_type": "stream",
          "name": "stdout",
          "text": [
            "5-6 years old\n",
            "2\n",
            "6-7 years old\n",
            "30\n",
            "7-8 years old\n",
            "49\n",
            "8-9 years old\n",
            "52\n",
            "9-10 years old\n",
            "46\n",
            "10-11 years old\n",
            "28\n",
            "11-12 years old\n",
            "26\n",
            "from 12 years old\n",
            "64\n"
          ]
        }
      ]
    },
    {
      "cell_type": "code",
      "source": [
        "data_filtered.columns[100:]"
      ],
      "metadata": {
        "id": "sVR1epA0JLl9",
        "outputId": "0586aef7-f70e-4291-d40c-d68cbf8454e8",
        "colab": {
          "base_uri": "https://localhost:8080/"
        }
      },
      "execution_count": null,
      "outputs": [
        {
          "output_type": "execute_result",
          "data": {
            "text/plain": [
              "Index(['PreInt_TxHx,head_injuries', 'PreInt_TxHx,psych_meds_past',\n",
              "       'SWAN,SWAN_HY', 'SWAN,SWAN_IN', 'SWAN,SWAN_Total',\n",
              "       'TOWRE,TOWRE_PDE_Scaled', 'TOWRE,TOWRE_SWE_Scaled',\n",
              "       'TOWRE,TOWRE_Total_Scaled', 'TRF,TRF_Total_T',\n",
              "       'Vineland,VL_Social_Stnd', 'WAIS,WAIS_FSIQ_COMP',\n",
              "       'WAIS,WAIS_FSIQ_SCALE', 'WAIS,WAIS_PRI_COMP', 'WAIS,WAIS_PSI_COMP',\n",
              "       'WAIS,WAIS_VCI_COMP', 'WAIS,WAIS_WMI_COMP', 'WASI,WASI_FSIQ',\n",
              "       'WIAT,WIAT_LCODC_Stnd', 'WIAT,WIAT_LCRV_Std', 'WIAT,WIAT_LC_Stnd',\n",
              "       'WIAT,WIAT_MP_Stnd', 'WIAT,WIAT_Num_Stnd', 'WIAT,WIAT_Pseudo_Stnd',\n",
              "       'WIAT,WIAT_RC_Stnd', 'WIAT,WIAT_Spell_Stnd', 'WIAT,WIAT_Word_Stnd',\n",
              "       'WISC,WISC_FSIQ', 'WISC,WISC_PSI', 'WISC,WISC_VCI', 'WISC,WISC_VSI',\n",
              "       'WISC,WISC_WMI', 'DD', 'Diagnosis', 'Medicine', 'Status', 'IQ', 'Test'],\n",
              "      dtype='object')"
            ]
          },
          "metadata": {},
          "execution_count": 98
        }
      ]
    },
    {
      "cell_type": "code",
      "source": [],
      "metadata": {
        "id": "213oW6hTKNLC"
      },
      "execution_count": null,
      "outputs": []
    }
  ]
}