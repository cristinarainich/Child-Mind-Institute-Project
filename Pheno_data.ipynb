{
  "nbformat": 4,
  "nbformat_minor": 0,
  "metadata": {
    "colab": {
      "provenance": [],
      "toc_visible": true,
      "authorship_tag": "ABX9TyPsi5vQCzjsoaWq+E5sAw+1",
      "include_colab_link": true
    },
    "kernelspec": {
      "name": "python3",
      "display_name": "Python 3"
    },
    "language_info": {
      "name": "python"
    }
  },
  "cells": [
    {
      "cell_type": "markdown",
      "metadata": {
        "id": "view-in-github",
        "colab_type": "text"
      },
      "source": [
        "<a href=\"https://colab.research.google.com/github/cristinarainich/Child-Mind-Institute-Project/blob/main/Pheno_data.ipynb\" target=\"_parent\"><img src=\"https://colab.research.google.com/assets/colab-badge.svg\" alt=\"Open In Colab\"/></a>"
      ]
    },
    {
      "cell_type": "markdown",
      "source": [
        "Updated 22/06/2023 20:00"
      ],
      "metadata": {
        "id": "R1aQIcWPJsdR"
      }
    },
    {
      "cell_type": "code",
      "execution_count": 1,
      "metadata": {
        "colab": {
          "base_uri": "https://localhost:8080/"
        },
        "id": "7sLM_aBE1XSO",
        "outputId": "68597f97-47e2-4d55-87b1-d2f946a2c6de"
      },
      "outputs": [
        {
          "output_type": "stream",
          "name": "stdout",
          "text": [
            "Mounted at /content/drive\n"
          ]
        }
      ],
      "source": [
        "from google.colab import drive\n",
        "drive.mount('/content/drive')"
      ]
    },
    {
      "cell_type": "code",
      "source": [
        "from pathlib import Path\n",
        "import pandas as pd\n",
        "import numpy as np\n",
        "import pylab as pl\n",
        "import seaborn as sns\n",
        "%pylab inline"
      ],
      "metadata": {
        "colab": {
          "base_uri": "https://localhost:8080/"
        },
        "id": "aaZC6otb1s12",
        "outputId": "512296c7-a2b3-4255-8830-9e6e7db0d16f"
      },
      "execution_count": 2,
      "outputs": [
        {
          "output_type": "stream",
          "name": "stdout",
          "text": [
            "Populating the interactive namespace from numpy and matplotlib\n"
          ]
        }
      ]
    },
    {
      "cell_type": "code",
      "source": [
        "sns.set()"
      ],
      "metadata": {
        "id": "lAeNDY5uJvVf"
      },
      "execution_count": 3,
      "outputs": []
    },
    {
      "cell_type": "code",
      "source": [
        "working_path = Path('/content/drive/MyDrive/KKNV')"
      ],
      "metadata": {
        "id": "aonUk2xG1llO"
      },
      "execution_count": 4,
      "outputs": []
    },
    {
      "cell_type": "code",
      "source": [
        "cd /content/drive/MyDrive/KKNV"
      ],
      "metadata": {
        "colab": {
          "base_uri": "https://localhost:8080/"
        },
        "id": "z9Xbaxjz1yH3",
        "outputId": "73b5fe00-404d-4e26-81ef-251ca4a0fe8c"
      },
      "execution_count": 5,
      "outputs": [
        {
          "output_type": "stream",
          "name": "stdout",
          "text": [
            "/content/drive/MyDrive/KKNV\n"
          ]
        }
      ]
    },
    {
      "cell_type": "code",
      "source": [
        "!ls /content/drive/MyDrive/KKNV"
      ],
      "metadata": {
        "colab": {
          "base_uri": "https://localhost:8080/"
        },
        "id": "5zZW_4I4NS1u",
        "outputId": "1c32335d-ea10-4737-e732-7eda56167258"
      },
      "execution_count": 6,
      "outputs": [
        {
          "output_type": "stream",
          "name": "stdout",
          "text": [
            " change_of_diagnosis.csv   HBN_R5_Pheno.csv     pheno_mri.csv\n",
            " diagnoses_1906.csv\t   HBN_R6_Pheno.csv    'Pilot reading task.gsheet'\n",
            " full_pheno.csv\t\t   HBN_R7_Pheno.csv     Query1.csv\n",
            " HBN_R10_Pheno.csv\t   HBN_R8_Pheno.csv    'Query 1.Dot values.csv'\n",
            " HBN_R1_1_Pheno.csv\t   HBN_R9_Pheno.csv     Query2.csv\n",
            " HBN_R2_1_Pheno.csv\t   iq_overview.csv     'Query 2.Dot values.csv'\n",
            " HBN_R3_Pheno.csv\t   iq_overview.gsheet   Query_final.csv\n",
            " HBN_R4_Pheno.csv\t   Pheno.csv\t        sites.csv\n"
          ]
        }
      ]
    },
    {
      "cell_type": "markdown",
      "source": [
        "## File informations from different releases"
      ],
      "metadata": {
        "id": "CtAp_u7jXWtt"
      }
    },
    {
      "cell_type": "code",
      "source": [
        "!ls /content/drive/MyDrive/KKNV"
      ],
      "metadata": {
        "id": "q3nRWl5Ku-95",
        "colab": {
          "base_uri": "https://localhost:8080/"
        },
        "outputId": "10400925-f049-4fac-9a88-68650a2e2f47"
      },
      "execution_count": null,
      "outputs": [
        {
          "output_type": "stream",
          "name": "stdout",
          "text": [
            "full_pheno.csv\t    HBN_R4_Pheno.csv  HBN_R9_Pheno.csv\t  Query1.csv\n",
            "HBN_R10_Pheno.csv   HBN_R5_Pheno.csv  iq_overview.csv\t  Query2.csv\n",
            "HBN_R1_1_Pheno.csv  HBN_R6_Pheno.csv  iq_overview.gsheet  Query_final.csv\n",
            "HBN_R2_1_Pheno.csv  HBN_R7_Pheno.csv  Pheno.csv\t\t  sites.csv\n",
            "HBN_R3_Pheno.csv    HBN_R8_Pheno.csv  pheno_mri.csv\n"
          ]
        }
      ]
    },
    {
      "cell_type": "code",
      "source": [
        "# info on whether there are phenotypical full files and imaging data availale\n",
        "file1 = pd.read_csv(\n",
        "    working_path.joinpath('HBN_R1_1_Pheno.csv'),\n",
        "    index_col=None\n",
        ")\n",
        "file2 = pd.read_csv(\n",
        "    working_path.joinpath('HBN_R2_1_Pheno.csv'),\n",
        "    index_col=None\n",
        ")\n",
        "file3 = pd.read_csv(\n",
        "    working_path.joinpath('HBN_R3_Pheno.csv'),\n",
        "    index_col=None\n",
        ")\n",
        "file4 = pd.read_csv(\n",
        "    working_path.joinpath('HBN_R4_Pheno.csv'),\n",
        "    index_col=None\n",
        ")\n",
        "file5 = pd.read_csv(\n",
        "    working_path.joinpath('HBN_R5_Pheno.csv'),\n",
        "    index_col=None\n",
        ")\n",
        "file6 = pd.read_csv(\n",
        "    working_path.joinpath('HBN_R6_Pheno.csv'),\n",
        "    index_col=None\n",
        ")\n",
        "file7 = pd.read_csv(\n",
        "    working_path.joinpath('HBN_R7_Pheno.csv'),\n",
        "    index_col=None\n",
        ")\n",
        "file8 = pd.read_csv(\n",
        "    working_path.joinpath('HBN_R8_Pheno.csv'),\n",
        "    index_col=None\n",
        ")\n",
        "file9 = pd.read_csv(\n",
        "    working_path.joinpath('HBN_R9_Pheno.csv'),\n",
        "    index_col=None\n",
        ")\n",
        "file10 = pd.read_csv(\n",
        "    working_path.joinpath('HBN_R10_Pheno.csv'),\n",
        "    index_col=None\n",
        ")"
      ],
      "metadata": {
        "id": "HAn8D8FMVav4"
      },
      "execution_count": null,
      "outputs": []
    },
    {
      "cell_type": "code",
      "source": [
        "fullpheno = pd.concat([file1, file2])\n",
        "fullpheno = pd.concat([fullpheno, file3])\n",
        "fullpheno = pd.concat([fullpheno, file4])\n",
        "fullpheno = pd.concat([fullpheno, file5])\n",
        "fullpheno = pd.concat([fullpheno, file6])\n",
        "fullpheno = pd.concat([fullpheno, file7])\n",
        "fullpheno = pd.concat([fullpheno, file8])\n",
        "fullpheno = pd.concat([fullpheno, file9])\n",
        "fullpheno = pd.concat([fullpheno, file10])"
      ],
      "metadata": {
        "id": "kQmGWLmVXjhC"
      },
      "execution_count": null,
      "outputs": []
    },
    {
      "cell_type": "code",
      "source": [
        "fullpheno.to_csv(\n",
        "    Path(working_path).joinpath('full_pheno.csv')\n",
        ")"
      ],
      "metadata": {
        "id": "3wpGbu9YXZHb"
      },
      "execution_count": null,
      "outputs": []
    },
    {
      "cell_type": "markdown",
      "source": [
        "## Creating a file on MRI and full pheno information"
      ],
      "metadata": {
        "id": "iv1DcB3tXfv3"
      }
    },
    {
      "cell_type": "code",
      "source": [
        "# file with the identifiers that have mri imaging\n",
        "fullpheno = pd.read_csv(\n",
        "    working_path.joinpath('full_pheno.csv'),\n",
        "    index_col=None\n",
        ")"
      ],
      "metadata": {
        "id": "ZvqVNi2FYC4w"
      },
      "execution_count": null,
      "outputs": []
    },
    {
      "cell_type": "code",
      "source": [
        "fullpheno.head()"
      ],
      "metadata": {
        "id": "40B35TbWY8MJ",
        "outputId": "d57ff444-0b1a-4afa-95b6-fb21647a2580",
        "colab": {
          "base_uri": "https://localhost:8080/",
          "height": 206
        }
      },
      "execution_count": null,
      "outputs": [
        {
          "output_type": "execute_result",
          "data": {
            "text/plain": [
              "            EID  Sex        Age  EHQ_Total Commercial_Use Full_Pheno\n",
              "0  NDARYM832PX3  1.0   7.048254     -33.35             No        Yes\n",
              "1  NDARNJ687DMC  1.0   6.348163      46.67             No        Yes\n",
              "2  NDARFM080VAF  1.0   7.623203    -100.00             No        Yes\n",
              "3  NDARFW130NGG  1.0   8.316107      93.34             No        Yes\n",
              "4  NDARDT800YVF  0.0  17.510381      86.67             No        Yes"
            ],
            "text/html": [
              "\n",
              "  <div id=\"df-d877bc36-1a95-41b2-bc2a-0f4684d47efd\">\n",
              "    <div class=\"colab-df-container\">\n",
              "      <div>\n",
              "<style scoped>\n",
              "    .dataframe tbody tr th:only-of-type {\n",
              "        vertical-align: middle;\n",
              "    }\n",
              "\n",
              "    .dataframe tbody tr th {\n",
              "        vertical-align: top;\n",
              "    }\n",
              "\n",
              "    .dataframe thead th {\n",
              "        text-align: right;\n",
              "    }\n",
              "</style>\n",
              "<table border=\"1\" class=\"dataframe\">\n",
              "  <thead>\n",
              "    <tr style=\"text-align: right;\">\n",
              "      <th></th>\n",
              "      <th>EID</th>\n",
              "      <th>Sex</th>\n",
              "      <th>Age</th>\n",
              "      <th>EHQ_Total</th>\n",
              "      <th>Commercial_Use</th>\n",
              "      <th>Full_Pheno</th>\n",
              "    </tr>\n",
              "  </thead>\n",
              "  <tbody>\n",
              "    <tr>\n",
              "      <th>0</th>\n",
              "      <td>NDARYM832PX3</td>\n",
              "      <td>1.0</td>\n",
              "      <td>7.048254</td>\n",
              "      <td>-33.35</td>\n",
              "      <td>No</td>\n",
              "      <td>Yes</td>\n",
              "    </tr>\n",
              "    <tr>\n",
              "      <th>1</th>\n",
              "      <td>NDARNJ687DMC</td>\n",
              "      <td>1.0</td>\n",
              "      <td>6.348163</td>\n",
              "      <td>46.67</td>\n",
              "      <td>No</td>\n",
              "      <td>Yes</td>\n",
              "    </tr>\n",
              "    <tr>\n",
              "      <th>2</th>\n",
              "      <td>NDARFM080VAF</td>\n",
              "      <td>1.0</td>\n",
              "      <td>7.623203</td>\n",
              "      <td>-100.00</td>\n",
              "      <td>No</td>\n",
              "      <td>Yes</td>\n",
              "    </tr>\n",
              "    <tr>\n",
              "      <th>3</th>\n",
              "      <td>NDARFW130NGG</td>\n",
              "      <td>1.0</td>\n",
              "      <td>8.316107</td>\n",
              "      <td>93.34</td>\n",
              "      <td>No</td>\n",
              "      <td>Yes</td>\n",
              "    </tr>\n",
              "    <tr>\n",
              "      <th>4</th>\n",
              "      <td>NDARDT800YVF</td>\n",
              "      <td>0.0</td>\n",
              "      <td>17.510381</td>\n",
              "      <td>86.67</td>\n",
              "      <td>No</td>\n",
              "      <td>Yes</td>\n",
              "    </tr>\n",
              "  </tbody>\n",
              "</table>\n",
              "</div>\n",
              "      <button class=\"colab-df-convert\" onclick=\"convertToInteractive('df-d877bc36-1a95-41b2-bc2a-0f4684d47efd')\"\n",
              "              title=\"Convert this dataframe to an interactive table.\"\n",
              "              style=\"display:none;\">\n",
              "        \n",
              "  <svg xmlns=\"http://www.w3.org/2000/svg\" height=\"24px\"viewBox=\"0 0 24 24\"\n",
              "       width=\"24px\">\n",
              "    <path d=\"M0 0h24v24H0V0z\" fill=\"none\"/>\n",
              "    <path d=\"M18.56 5.44l.94 2.06.94-2.06 2.06-.94-2.06-.94-.94-2.06-.94 2.06-2.06.94zm-11 1L8.5 8.5l.94-2.06 2.06-.94-2.06-.94L8.5 2.5l-.94 2.06-2.06.94zm10 10l.94 2.06.94-2.06 2.06-.94-2.06-.94-.94-2.06-.94 2.06-2.06.94z\"/><path d=\"M17.41 7.96l-1.37-1.37c-.4-.4-.92-.59-1.43-.59-.52 0-1.04.2-1.43.59L10.3 9.45l-7.72 7.72c-.78.78-.78 2.05 0 2.83L4 21.41c.39.39.9.59 1.41.59.51 0 1.02-.2 1.41-.59l7.78-7.78 2.81-2.81c.8-.78.8-2.07 0-2.86zM5.41 20L4 18.59l7.72-7.72 1.47 1.35L5.41 20z\"/>\n",
              "  </svg>\n",
              "      </button>\n",
              "      \n",
              "  <style>\n",
              "    .colab-df-container {\n",
              "      display:flex;\n",
              "      flex-wrap:wrap;\n",
              "      gap: 12px;\n",
              "    }\n",
              "\n",
              "    .colab-df-convert {\n",
              "      background-color: #E8F0FE;\n",
              "      border: none;\n",
              "      border-radius: 50%;\n",
              "      cursor: pointer;\n",
              "      display: none;\n",
              "      fill: #1967D2;\n",
              "      height: 32px;\n",
              "      padding: 0 0 0 0;\n",
              "      width: 32px;\n",
              "    }\n",
              "\n",
              "    .colab-df-convert:hover {\n",
              "      background-color: #E2EBFA;\n",
              "      box-shadow: 0px 1px 2px rgba(60, 64, 67, 0.3), 0px 1px 3px 1px rgba(60, 64, 67, 0.15);\n",
              "      fill: #174EA6;\n",
              "    }\n",
              "\n",
              "    [theme=dark] .colab-df-convert {\n",
              "      background-color: #3B4455;\n",
              "      fill: #D2E3FC;\n",
              "    }\n",
              "\n",
              "    [theme=dark] .colab-df-convert:hover {\n",
              "      background-color: #434B5C;\n",
              "      box-shadow: 0px 1px 3px 1px rgba(0, 0, 0, 0.15);\n",
              "      filter: drop-shadow(0px 1px 2px rgba(0, 0, 0, 0.3));\n",
              "      fill: #FFFFFF;\n",
              "    }\n",
              "  </style>\n",
              "\n",
              "      <script>\n",
              "        const buttonEl =\n",
              "          document.querySelector('#df-d877bc36-1a95-41b2-bc2a-0f4684d47efd button.colab-df-convert');\n",
              "        buttonEl.style.display =\n",
              "          google.colab.kernel.accessAllowed ? 'block' : 'none';\n",
              "\n",
              "        async function convertToInteractive(key) {\n",
              "          const element = document.querySelector('#df-d877bc36-1a95-41b2-bc2a-0f4684d47efd');\n",
              "          const dataTable =\n",
              "            await google.colab.kernel.invokeFunction('convertToInteractive',\n",
              "                                                     [key], {});\n",
              "          if (!dataTable) return;\n",
              "\n",
              "          const docLinkHtml = 'Like what you see? Visit the ' +\n",
              "            '<a target=\"_blank\" href=https://colab.research.google.com/notebooks/data_table.ipynb>data table notebook</a>'\n",
              "            + ' to learn more about interactive tables.';\n",
              "          element.innerHTML = '';\n",
              "          dataTable['output_type'] = 'display_data';\n",
              "          await google.colab.output.renderOutput(dataTable, element);\n",
              "          const docLink = document.createElement('div');\n",
              "          docLink.innerHTML = docLinkHtml;\n",
              "          element.appendChild(docLink);\n",
              "        }\n",
              "      </script>\n",
              "    </div>\n",
              "  </div>\n",
              "  "
            ]
          },
          "metadata": {},
          "execution_count": 66
        }
      ]
    },
    {
      "cell_type": "code",
      "source": [
        "print(fullpheno.shape)\n",
        "print(len(fullpheno.EID.unique()))\n",
        "# there are some identifiers that are repeated in the table"
      ],
      "metadata": {
        "id": "61ut-oUNZQT9",
        "outputId": "c3dd7476-b5cd-4e71-9699-118e389b0ab0",
        "colab": {
          "base_uri": "https://localhost:8080/"
        }
      },
      "execution_count": null,
      "outputs": [
        {
          "output_type": "stream",
          "name": "stdout",
          "text": [
            "(5106, 6)\n",
            "4245\n"
          ]
        }
      ]
    },
    {
      "cell_type": "code",
      "source": [
        "unique = []\n",
        "repetition = []\n",
        "for i in fullpheno.EID.values:\n",
        "  if i not in unique:\n",
        "    unique.append(i)\n",
        "  else:\n",
        "    repetition.append(i)\n",
        "print(fullpheno.shape[0])\n",
        "print(len(unique))\n",
        "print(len(repetition))"
      ],
      "metadata": {
        "id": "n27542-KsZVK",
        "outputId": "e7b2de43-1547-4c23-e211-df9640023f4b",
        "colab": {
          "base_uri": "https://localhost:8080/"
        }
      },
      "execution_count": null,
      "outputs": [
        {
          "output_type": "stream",
          "name": "stdout",
          "text": [
            "5106\n",
            "4245\n",
            "861\n"
          ]
        }
      ]
    },
    {
      "cell_type": "code",
      "source": [
        "full_no_doubles = fullpheno.drop_duplicates()"
      ],
      "metadata": {
        "id": "LN5Z-Sq3CQKO"
      },
      "execution_count": null,
      "outputs": []
    },
    {
      "cell_type": "code",
      "source": [
        "unique = []\n",
        "repetition = []\n",
        "for i in full_no_doubles.EID.values:\n",
        "  if i not in unique:\n",
        "    unique.append(i)\n",
        "  else:\n",
        "    if i not in repetition:\n",
        "      repetition.append(i)\n",
        "print(full_no_doubles.shape[0])\n",
        "print(len(unique))\n",
        "print(len(repetition))\n",
        "# still there is some repetition but let's see whether something disappears when we clean data"
      ],
      "metadata": {
        "id": "o6Uf2r-hCwNB",
        "outputId": "8ef53298-38a1-4873-fb76-b4aa61b6c110",
        "colab": {
          "base_uri": "https://localhost:8080/"
        }
      },
      "execution_count": null,
      "outputs": [
        {
          "output_type": "stream",
          "name": "stdout",
          "text": [
            "4263\n",
            "4245\n",
            "18\n"
          ]
        }
      ]
    },
    {
      "cell_type": "code",
      "source": [
        "full_no_doubles.groupby(['Full_Pheno']).count()"
      ],
      "metadata": {
        "id": "67BBaILqDPD6",
        "outputId": "4e6d722e-97e6-4fb0-c570-4f605fa9d3aa",
        "colab": {
          "base_uri": "https://localhost:8080/",
          "height": 143
        }
      },
      "execution_count": null,
      "outputs": [
        {
          "output_type": "execute_result",
          "data": {
            "text/plain": [
              "             EID   Sex   Age  EHQ_Total  Commercial_Use\n",
              "Full_Pheno                                             \n",
              "No           723   723   723        720             723\n",
              "Yes         3539  3539  3539       3466            3539"
            ],
            "text/html": [
              "\n",
              "  <div id=\"df-76026d14-18a9-4f88-b279-a05e18c3db8c\">\n",
              "    <div class=\"colab-df-container\">\n",
              "      <div>\n",
              "<style scoped>\n",
              "    .dataframe tbody tr th:only-of-type {\n",
              "        vertical-align: middle;\n",
              "    }\n",
              "\n",
              "    .dataframe tbody tr th {\n",
              "        vertical-align: top;\n",
              "    }\n",
              "\n",
              "    .dataframe thead th {\n",
              "        text-align: right;\n",
              "    }\n",
              "</style>\n",
              "<table border=\"1\" class=\"dataframe\">\n",
              "  <thead>\n",
              "    <tr style=\"text-align: right;\">\n",
              "      <th></th>\n",
              "      <th>EID</th>\n",
              "      <th>Sex</th>\n",
              "      <th>Age</th>\n",
              "      <th>EHQ_Total</th>\n",
              "      <th>Commercial_Use</th>\n",
              "    </tr>\n",
              "    <tr>\n",
              "      <th>Full_Pheno</th>\n",
              "      <th></th>\n",
              "      <th></th>\n",
              "      <th></th>\n",
              "      <th></th>\n",
              "      <th></th>\n",
              "    </tr>\n",
              "  </thead>\n",
              "  <tbody>\n",
              "    <tr>\n",
              "      <th>No</th>\n",
              "      <td>723</td>\n",
              "      <td>723</td>\n",
              "      <td>723</td>\n",
              "      <td>720</td>\n",
              "      <td>723</td>\n",
              "    </tr>\n",
              "    <tr>\n",
              "      <th>Yes</th>\n",
              "      <td>3539</td>\n",
              "      <td>3539</td>\n",
              "      <td>3539</td>\n",
              "      <td>3466</td>\n",
              "      <td>3539</td>\n",
              "    </tr>\n",
              "  </tbody>\n",
              "</table>\n",
              "</div>\n",
              "      <button class=\"colab-df-convert\" onclick=\"convertToInteractive('df-76026d14-18a9-4f88-b279-a05e18c3db8c')\"\n",
              "              title=\"Convert this dataframe to an interactive table.\"\n",
              "              style=\"display:none;\">\n",
              "        \n",
              "  <svg xmlns=\"http://www.w3.org/2000/svg\" height=\"24px\"viewBox=\"0 0 24 24\"\n",
              "       width=\"24px\">\n",
              "    <path d=\"M0 0h24v24H0V0z\" fill=\"none\"/>\n",
              "    <path d=\"M18.56 5.44l.94 2.06.94-2.06 2.06-.94-2.06-.94-.94-2.06-.94 2.06-2.06.94zm-11 1L8.5 8.5l.94-2.06 2.06-.94-2.06-.94L8.5 2.5l-.94 2.06-2.06.94zm10 10l.94 2.06.94-2.06 2.06-.94-2.06-.94-.94-2.06-.94 2.06-2.06.94z\"/><path d=\"M17.41 7.96l-1.37-1.37c-.4-.4-.92-.59-1.43-.59-.52 0-1.04.2-1.43.59L10.3 9.45l-7.72 7.72c-.78.78-.78 2.05 0 2.83L4 21.41c.39.39.9.59 1.41.59.51 0 1.02-.2 1.41-.59l7.78-7.78 2.81-2.81c.8-.78.8-2.07 0-2.86zM5.41 20L4 18.59l7.72-7.72 1.47 1.35L5.41 20z\"/>\n",
              "  </svg>\n",
              "      </button>\n",
              "      \n",
              "  <style>\n",
              "    .colab-df-container {\n",
              "      display:flex;\n",
              "      flex-wrap:wrap;\n",
              "      gap: 12px;\n",
              "    }\n",
              "\n",
              "    .colab-df-convert {\n",
              "      background-color: #E8F0FE;\n",
              "      border: none;\n",
              "      border-radius: 50%;\n",
              "      cursor: pointer;\n",
              "      display: none;\n",
              "      fill: #1967D2;\n",
              "      height: 32px;\n",
              "      padding: 0 0 0 0;\n",
              "      width: 32px;\n",
              "    }\n",
              "\n",
              "    .colab-df-convert:hover {\n",
              "      background-color: #E2EBFA;\n",
              "      box-shadow: 0px 1px 2px rgba(60, 64, 67, 0.3), 0px 1px 3px 1px rgba(60, 64, 67, 0.15);\n",
              "      fill: #174EA6;\n",
              "    }\n",
              "\n",
              "    [theme=dark] .colab-df-convert {\n",
              "      background-color: #3B4455;\n",
              "      fill: #D2E3FC;\n",
              "    }\n",
              "\n",
              "    [theme=dark] .colab-df-convert:hover {\n",
              "      background-color: #434B5C;\n",
              "      box-shadow: 0px 1px 3px 1px rgba(0, 0, 0, 0.15);\n",
              "      filter: drop-shadow(0px 1px 2px rgba(0, 0, 0, 0.3));\n",
              "      fill: #FFFFFF;\n",
              "    }\n",
              "  </style>\n",
              "\n",
              "      <script>\n",
              "        const buttonEl =\n",
              "          document.querySelector('#df-76026d14-18a9-4f88-b279-a05e18c3db8c button.colab-df-convert');\n",
              "        buttonEl.style.display =\n",
              "          google.colab.kernel.accessAllowed ? 'block' : 'none';\n",
              "\n",
              "        async function convertToInteractive(key) {\n",
              "          const element = document.querySelector('#df-76026d14-18a9-4f88-b279-a05e18c3db8c');\n",
              "          const dataTable =\n",
              "            await google.colab.kernel.invokeFunction('convertToInteractive',\n",
              "                                                     [key], {});\n",
              "          if (!dataTable) return;\n",
              "\n",
              "          const docLinkHtml = 'Like what you see? Visit the ' +\n",
              "            '<a target=\"_blank\" href=https://colab.research.google.com/notebooks/data_table.ipynb>data table notebook</a>'\n",
              "            + ' to learn more about interactive tables.';\n",
              "          element.innerHTML = '';\n",
              "          dataTable['output_type'] = 'display_data';\n",
              "          await google.colab.output.renderOutput(dataTable, element);\n",
              "          const docLink = document.createElement('div');\n",
              "          docLink.innerHTML = docLinkHtml;\n",
              "          element.appendChild(docLink);\n",
              "        }\n",
              "      </script>\n",
              "    </div>\n",
              "  </div>\n",
              "  "
            ]
          },
          "metadata": {},
          "execution_count": 121
        }
      ]
    },
    {
      "cell_type": "code",
      "source": [
        "pheno_mri = full_no_doubles[full_no_doubles['Full_Pheno'] == 'Yes']\n",
        "print(pheno_mri.shape)"
      ],
      "metadata": {
        "id": "MJ66Mkz1Dr-n",
        "outputId": "b06dc929-9b2b-4101-b782-3e2ac7b2b21a",
        "colab": {
          "base_uri": "https://localhost:8080/"
        }
      },
      "execution_count": null,
      "outputs": [
        {
          "output_type": "stream",
          "name": "stdout",
          "text": [
            "(3539, 6)\n"
          ]
        }
      ]
    },
    {
      "cell_type": "code",
      "source": [
        "pheno_mri.groupby(['Sex']).count()\n",
        "# Sex 1 - female, 0 - male"
      ],
      "metadata": {
        "id": "KwTWekG4EA7W",
        "outputId": "b4e928b1-5869-4a25-a112-5c029f8e7f88",
        "colab": {
          "base_uri": "https://localhost:8080/",
          "height": 143
        }
      },
      "execution_count": null,
      "outputs": [
        {
          "output_type": "execute_result",
          "data": {
            "text/plain": [
              "      EID   Age  EHQ_Total  Commercial_Use  Full_Pheno\n",
              "Sex                                                   \n",
              "0.0  2272  2272       2223            2272        2272\n",
              "1.0  1267  1267       1243            1267        1267"
            ],
            "text/html": [
              "\n",
              "  <div id=\"df-c6552932-1650-4c44-ae93-8a724e54bcc9\">\n",
              "    <div class=\"colab-df-container\">\n",
              "      <div>\n",
              "<style scoped>\n",
              "    .dataframe tbody tr th:only-of-type {\n",
              "        vertical-align: middle;\n",
              "    }\n",
              "\n",
              "    .dataframe tbody tr th {\n",
              "        vertical-align: top;\n",
              "    }\n",
              "\n",
              "    .dataframe thead th {\n",
              "        text-align: right;\n",
              "    }\n",
              "</style>\n",
              "<table border=\"1\" class=\"dataframe\">\n",
              "  <thead>\n",
              "    <tr style=\"text-align: right;\">\n",
              "      <th></th>\n",
              "      <th>EID</th>\n",
              "      <th>Age</th>\n",
              "      <th>EHQ_Total</th>\n",
              "      <th>Commercial_Use</th>\n",
              "      <th>Full_Pheno</th>\n",
              "    </tr>\n",
              "    <tr>\n",
              "      <th>Sex</th>\n",
              "      <th></th>\n",
              "      <th></th>\n",
              "      <th></th>\n",
              "      <th></th>\n",
              "      <th></th>\n",
              "    </tr>\n",
              "  </thead>\n",
              "  <tbody>\n",
              "    <tr>\n",
              "      <th>0.0</th>\n",
              "      <td>2272</td>\n",
              "      <td>2272</td>\n",
              "      <td>2223</td>\n",
              "      <td>2272</td>\n",
              "      <td>2272</td>\n",
              "    </tr>\n",
              "    <tr>\n",
              "      <th>1.0</th>\n",
              "      <td>1267</td>\n",
              "      <td>1267</td>\n",
              "      <td>1243</td>\n",
              "      <td>1267</td>\n",
              "      <td>1267</td>\n",
              "    </tr>\n",
              "  </tbody>\n",
              "</table>\n",
              "</div>\n",
              "      <button class=\"colab-df-convert\" onclick=\"convertToInteractive('df-c6552932-1650-4c44-ae93-8a724e54bcc9')\"\n",
              "              title=\"Convert this dataframe to an interactive table.\"\n",
              "              style=\"display:none;\">\n",
              "        \n",
              "  <svg xmlns=\"http://www.w3.org/2000/svg\" height=\"24px\"viewBox=\"0 0 24 24\"\n",
              "       width=\"24px\">\n",
              "    <path d=\"M0 0h24v24H0V0z\" fill=\"none\"/>\n",
              "    <path d=\"M18.56 5.44l.94 2.06.94-2.06 2.06-.94-2.06-.94-.94-2.06-.94 2.06-2.06.94zm-11 1L8.5 8.5l.94-2.06 2.06-.94-2.06-.94L8.5 2.5l-.94 2.06-2.06.94zm10 10l.94 2.06.94-2.06 2.06-.94-2.06-.94-.94-2.06-.94 2.06-2.06.94z\"/><path d=\"M17.41 7.96l-1.37-1.37c-.4-.4-.92-.59-1.43-.59-.52 0-1.04.2-1.43.59L10.3 9.45l-7.72 7.72c-.78.78-.78 2.05 0 2.83L4 21.41c.39.39.9.59 1.41.59.51 0 1.02-.2 1.41-.59l7.78-7.78 2.81-2.81c.8-.78.8-2.07 0-2.86zM5.41 20L4 18.59l7.72-7.72 1.47 1.35L5.41 20z\"/>\n",
              "  </svg>\n",
              "      </button>\n",
              "      \n",
              "  <style>\n",
              "    .colab-df-container {\n",
              "      display:flex;\n",
              "      flex-wrap:wrap;\n",
              "      gap: 12px;\n",
              "    }\n",
              "\n",
              "    .colab-df-convert {\n",
              "      background-color: #E8F0FE;\n",
              "      border: none;\n",
              "      border-radius: 50%;\n",
              "      cursor: pointer;\n",
              "      display: none;\n",
              "      fill: #1967D2;\n",
              "      height: 32px;\n",
              "      padding: 0 0 0 0;\n",
              "      width: 32px;\n",
              "    }\n",
              "\n",
              "    .colab-df-convert:hover {\n",
              "      background-color: #E2EBFA;\n",
              "      box-shadow: 0px 1px 2px rgba(60, 64, 67, 0.3), 0px 1px 3px 1px rgba(60, 64, 67, 0.15);\n",
              "      fill: #174EA6;\n",
              "    }\n",
              "\n",
              "    [theme=dark] .colab-df-convert {\n",
              "      background-color: #3B4455;\n",
              "      fill: #D2E3FC;\n",
              "    }\n",
              "\n",
              "    [theme=dark] .colab-df-convert:hover {\n",
              "      background-color: #434B5C;\n",
              "      box-shadow: 0px 1px 3px 1px rgba(0, 0, 0, 0.15);\n",
              "      filter: drop-shadow(0px 1px 2px rgba(0, 0, 0, 0.3));\n",
              "      fill: #FFFFFF;\n",
              "    }\n",
              "  </style>\n",
              "\n",
              "      <script>\n",
              "        const buttonEl =\n",
              "          document.querySelector('#df-c6552932-1650-4c44-ae93-8a724e54bcc9 button.colab-df-convert');\n",
              "        buttonEl.style.display =\n",
              "          google.colab.kernel.accessAllowed ? 'block' : 'none';\n",
              "\n",
              "        async function convertToInteractive(key) {\n",
              "          const element = document.querySelector('#df-c6552932-1650-4c44-ae93-8a724e54bcc9');\n",
              "          const dataTable =\n",
              "            await google.colab.kernel.invokeFunction('convertToInteractive',\n",
              "                                                     [key], {});\n",
              "          if (!dataTable) return;\n",
              "\n",
              "          const docLinkHtml = 'Like what you see? Visit the ' +\n",
              "            '<a target=\"_blank\" href=https://colab.research.google.com/notebooks/data_table.ipynb>data table notebook</a>'\n",
              "            + ' to learn more about interactive tables.';\n",
              "          element.innerHTML = '';\n",
              "          dataTable['output_type'] = 'display_data';\n",
              "          await google.colab.output.renderOutput(dataTable, element);\n",
              "          const docLink = document.createElement('div');\n",
              "          docLink.innerHTML = docLinkHtml;\n",
              "          element.appendChild(docLink);\n",
              "        }\n",
              "      </script>\n",
              "    </div>\n",
              "  </div>\n",
              "  "
            ]
          },
          "metadata": {},
          "execution_count": 122
        }
      ]
    },
    {
      "cell_type": "code",
      "source": [
        "pheno_mri.groupby(['Commercial_Use']).count()"
      ],
      "metadata": {
        "id": "0H1qLG6zETad",
        "outputId": "9e48be17-283d-42c0-9da7-0adc72cbf67a",
        "colab": {
          "base_uri": "https://localhost:8080/",
          "height": 143
        }
      },
      "execution_count": null,
      "outputs": [
        {
          "output_type": "execute_result",
          "data": {
            "text/plain": [
              "                 EID   Sex   Age  EHQ_Total  Full_Pheno\n",
              "Commercial_Use                                         \n",
              "No               561   561   561        526         561\n",
              "Yes             2978  2978  2978       2940        2978"
            ],
            "text/html": [
              "\n",
              "  <div id=\"df-19f8c75f-f509-446a-b3d7-8dbdf9271e38\">\n",
              "    <div class=\"colab-df-container\">\n",
              "      <div>\n",
              "<style scoped>\n",
              "    .dataframe tbody tr th:only-of-type {\n",
              "        vertical-align: middle;\n",
              "    }\n",
              "\n",
              "    .dataframe tbody tr th {\n",
              "        vertical-align: top;\n",
              "    }\n",
              "\n",
              "    .dataframe thead th {\n",
              "        text-align: right;\n",
              "    }\n",
              "</style>\n",
              "<table border=\"1\" class=\"dataframe\">\n",
              "  <thead>\n",
              "    <tr style=\"text-align: right;\">\n",
              "      <th></th>\n",
              "      <th>EID</th>\n",
              "      <th>Sex</th>\n",
              "      <th>Age</th>\n",
              "      <th>EHQ_Total</th>\n",
              "      <th>Full_Pheno</th>\n",
              "    </tr>\n",
              "    <tr>\n",
              "      <th>Commercial_Use</th>\n",
              "      <th></th>\n",
              "      <th></th>\n",
              "      <th></th>\n",
              "      <th></th>\n",
              "      <th></th>\n",
              "    </tr>\n",
              "  </thead>\n",
              "  <tbody>\n",
              "    <tr>\n",
              "      <th>No</th>\n",
              "      <td>561</td>\n",
              "      <td>561</td>\n",
              "      <td>561</td>\n",
              "      <td>526</td>\n",
              "      <td>561</td>\n",
              "    </tr>\n",
              "    <tr>\n",
              "      <th>Yes</th>\n",
              "      <td>2978</td>\n",
              "      <td>2978</td>\n",
              "      <td>2978</td>\n",
              "      <td>2940</td>\n",
              "      <td>2978</td>\n",
              "    </tr>\n",
              "  </tbody>\n",
              "</table>\n",
              "</div>\n",
              "      <button class=\"colab-df-convert\" onclick=\"convertToInteractive('df-19f8c75f-f509-446a-b3d7-8dbdf9271e38')\"\n",
              "              title=\"Convert this dataframe to an interactive table.\"\n",
              "              style=\"display:none;\">\n",
              "        \n",
              "  <svg xmlns=\"http://www.w3.org/2000/svg\" height=\"24px\"viewBox=\"0 0 24 24\"\n",
              "       width=\"24px\">\n",
              "    <path d=\"M0 0h24v24H0V0z\" fill=\"none\"/>\n",
              "    <path d=\"M18.56 5.44l.94 2.06.94-2.06 2.06-.94-2.06-.94-.94-2.06-.94 2.06-2.06.94zm-11 1L8.5 8.5l.94-2.06 2.06-.94-2.06-.94L8.5 2.5l-.94 2.06-2.06.94zm10 10l.94 2.06.94-2.06 2.06-.94-2.06-.94-.94-2.06-.94 2.06-2.06.94z\"/><path d=\"M17.41 7.96l-1.37-1.37c-.4-.4-.92-.59-1.43-.59-.52 0-1.04.2-1.43.59L10.3 9.45l-7.72 7.72c-.78.78-.78 2.05 0 2.83L4 21.41c.39.39.9.59 1.41.59.51 0 1.02-.2 1.41-.59l7.78-7.78 2.81-2.81c.8-.78.8-2.07 0-2.86zM5.41 20L4 18.59l7.72-7.72 1.47 1.35L5.41 20z\"/>\n",
              "  </svg>\n",
              "      </button>\n",
              "      \n",
              "  <style>\n",
              "    .colab-df-container {\n",
              "      display:flex;\n",
              "      flex-wrap:wrap;\n",
              "      gap: 12px;\n",
              "    }\n",
              "\n",
              "    .colab-df-convert {\n",
              "      background-color: #E8F0FE;\n",
              "      border: none;\n",
              "      border-radius: 50%;\n",
              "      cursor: pointer;\n",
              "      display: none;\n",
              "      fill: #1967D2;\n",
              "      height: 32px;\n",
              "      padding: 0 0 0 0;\n",
              "      width: 32px;\n",
              "    }\n",
              "\n",
              "    .colab-df-convert:hover {\n",
              "      background-color: #E2EBFA;\n",
              "      box-shadow: 0px 1px 2px rgba(60, 64, 67, 0.3), 0px 1px 3px 1px rgba(60, 64, 67, 0.15);\n",
              "      fill: #174EA6;\n",
              "    }\n",
              "\n",
              "    [theme=dark] .colab-df-convert {\n",
              "      background-color: #3B4455;\n",
              "      fill: #D2E3FC;\n",
              "    }\n",
              "\n",
              "    [theme=dark] .colab-df-convert:hover {\n",
              "      background-color: #434B5C;\n",
              "      box-shadow: 0px 1px 3px 1px rgba(0, 0, 0, 0.15);\n",
              "      filter: drop-shadow(0px 1px 2px rgba(0, 0, 0, 0.3));\n",
              "      fill: #FFFFFF;\n",
              "    }\n",
              "  </style>\n",
              "\n",
              "      <script>\n",
              "        const buttonEl =\n",
              "          document.querySelector('#df-19f8c75f-f509-446a-b3d7-8dbdf9271e38 button.colab-df-convert');\n",
              "        buttonEl.style.display =\n",
              "          google.colab.kernel.accessAllowed ? 'block' : 'none';\n",
              "\n",
              "        async function convertToInteractive(key) {\n",
              "          const element = document.querySelector('#df-19f8c75f-f509-446a-b3d7-8dbdf9271e38');\n",
              "          const dataTable =\n",
              "            await google.colab.kernel.invokeFunction('convertToInteractive',\n",
              "                                                     [key], {});\n",
              "          if (!dataTable) return;\n",
              "\n",
              "          const docLinkHtml = 'Like what you see? Visit the ' +\n",
              "            '<a target=\"_blank\" href=https://colab.research.google.com/notebooks/data_table.ipynb>data table notebook</a>'\n",
              "            + ' to learn more about interactive tables.';\n",
              "          element.innerHTML = '';\n",
              "          dataTable['output_type'] = 'display_data';\n",
              "          await google.colab.output.renderOutput(dataTable, element);\n",
              "          const docLink = document.createElement('div');\n",
              "          docLink.innerHTML = docLinkHtml;\n",
              "          element.appendChild(docLink);\n",
              "        }\n",
              "      </script>\n",
              "    </div>\n",
              "  </div>\n",
              "  "
            ]
          },
          "metadata": {},
          "execution_count": 123
        }
      ]
    },
    {
      "cell_type": "code",
      "source": [
        "sns.displot(pheno_mri[pheno_mri['EHQ_Total'] >= 40].Age)\n",
        "pl.title('Age distribution for right handed people');"
      ],
      "metadata": {
        "id": "0jP8eEc6F0hn",
        "outputId": "b28afdf6-bf10-40c8-969e-0cea0a02adc9",
        "colab": {
          "base_uri": "https://localhost:8080/",
          "height": 381
        }
      },
      "execution_count": null,
      "outputs": [
        {
          "output_type": "display_data",
          "data": {
            "text/plain": [
              "<Figure size 360x360 with 1 Axes>"
            ],
            "image/png": "[encoded data removed]"
          },
          "metadata": {}
        }
      ]
    },
    {
      "cell_type": "code",
      "source": [
        "unique = []\n",
        "repetition = []\n",
        "for i in pheno_mri[pheno_mri['EHQ_Total'] >= 40].EID.values:\n",
        "  if i not in unique:\n",
        "    unique.append(i)\n",
        "  else:\n",
        "    repetition.append(i)\n",
        "print(pheno_mri[pheno_mri['EHQ_Total'] >= 40].shape[0])\n",
        "print(len(unique))\n",
        "print(len(repetition))\n",
        "# There will be no repetition if we clean the data"
      ],
      "metadata": {
        "id": "xPu8lRcKGL37",
        "outputId": "b7dd3149-6a7b-40e1-c8c2-1854ab2cd29a",
        "colab": {
          "base_uri": "https://localhost:8080/"
        }
      },
      "execution_count": null,
      "outputs": [
        {
          "output_type": "stream",
          "name": "stdout",
          "text": [
            "2684\n",
            "2684\n",
            "0\n"
          ]
        }
      ]
    },
    {
      "cell_type": "code",
      "source": [
        "pheno_mri.to_csv(\n",
        "    Path(working_path).joinpath('pheno_mri.csv')\n",
        ")"
      ],
      "metadata": {
        "id": "wJchXp3wGjc7"
      },
      "execution_count": null,
      "outputs": []
    },
    {
      "cell_type": "markdown",
      "source": [
        "## For CMI"
      ],
      "metadata": {
        "id": "bJU46LfRY0AT"
      }
    },
    {
      "cell_type": "code",
      "source": [
        "data_1 = pd.read_csv(\n",
        "    working_path.joinpath('Query1.csv'),\n",
        "    index_col=None,\n",
        "    low_memory=False\n",
        ")\n",
        "data_2 = pd.read_csv(\n",
        "    working_path.joinpath('Query_final.csv'),\n",
        "    index_col=None,\n",
        "    low_memory=False\n",
        ")"
      ],
      "metadata": {
        "id": "CQRAVu-yY2W6"
      },
      "execution_count": null,
      "outputs": []
    },
    {
      "cell_type": "code",
      "source": [
        "# work on Identifiers column\n",
        "ids = data_1.Identifiers.values\n",
        "new_ids = []\n",
        "for i in ids:\n",
        "  new_i = i.replace(',assessment', '')\n",
        "  new_ids.append(new_i)\n",
        "print(len(ids))\n",
        "print(len(new_ids))\n",
        "\n",
        "data_1['Identifiers'] = new_ids"
      ],
      "metadata": {
        "id": "g_IIWJd0Y2ZK",
        "outputId": "1d6f0cf8-f543-49e7-9b87-3a06f4c9f5f4",
        "colab": {
          "base_uri": "https://localhost:8080/"
        }
      },
      "execution_count": null,
      "outputs": [
        {
          "output_type": "stream",
          "name": "stdout",
          "text": [
            "8210\n",
            "8210\n"
          ]
        }
      ]
    },
    {
      "cell_type": "code",
      "source": [
        "ids = data_2.Identifiers.values\n",
        "new_ids = []\n",
        "for i in ids:\n",
        "  new_i = i.replace(',assessment', '')\n",
        "  new_ids.append(new_i)\n",
        "print(len(ids))\n",
        "print(len(new_ids))\n",
        "\n",
        "data_2['Identifiers'] = new_ids"
      ],
      "metadata": {
        "id": "-dKWb7n4ZgyS",
        "outputId": "d263ae6d-a127-4788-ff48-69d7b5e87126",
        "colab": {
          "base_uri": "https://localhost:8080/"
        }
      },
      "execution_count": null,
      "outputs": [
        {
          "output_type": "stream",
          "name": "stdout",
          "text": [
            "8732\n",
            "8732\n"
          ]
        }
      ]
    },
    {
      "cell_type": "code",
      "source": [
        "# data_2 contains an empty row as a first row\n",
        "# let's delete it\n",
        "data_2 = data_2.drop(labels=0, axis=0)"
      ],
      "metadata": {
        "id": "9ROuCAqXZ226"
      },
      "execution_count": null,
      "outputs": []
    },
    {
      "cell_type": "code",
      "source": [
        "print(data_1.shape)\n",
        "print(data_2.shape)"
      ],
      "metadata": {
        "id": "XmjH_e0vY2dx",
        "outputId": "7d34610b-93fa-4b32-f897-e24976652494",
        "colab": {
          "base_uri": "https://localhost:8080/"
        }
      },
      "execution_count": null,
      "outputs": [
        {
          "output_type": "stream",
          "name": "stdout",
          "text": [
            "(8210, 88)\n",
            "(8731, 168)\n"
          ]
        }
      ]
    },
    {
      "cell_type": "markdown",
      "source": [
        "The difference in the shape could be partially explained by the new rows with the other versions of the same identifiers that have been already used in the database: identifier_1, identifier_2, identifier_3 etc."
      ],
      "metadata": {
        "id": "Eno58Yqwa_EE"
      }
    },
    {
      "cell_type": "code",
      "source": [
        "# data 1\n",
        "versions_1 = []\n",
        "for i in data_1.Identifiers.values.tolist():\n",
        "  if '_' in i:\n",
        "    versions_1.append(i)\n",
        "print(len(versions_1))\n",
        "\n",
        "# data 2\n",
        "versions_2 = []\n",
        "for i in data_2.Identifiers.values.tolist():\n",
        "  if '_' in i:\n",
        "    versions_2.append(i)\n",
        "print(len(versions_2))"
      ],
      "metadata": {
        "id": "kQcBqc0jbM4T",
        "outputId": "0675eb98-62cd-4c0a-db73-062d5267ddbf",
        "colab": {
          "base_uri": "https://localhost:8080/"
        }
      },
      "execution_count": null,
      "outputs": [
        {
          "output_type": "stream",
          "name": "stdout",
          "text": [
            "3341\n",
            "3862\n"
          ]
        }
      ]
    },
    {
      "cell_type": "code",
      "source": [
        "# data 1\n",
        "data_upd_1 = data_1.copy()\n",
        "columns = data_upd_1.columns\n",
        "i = 0\n",
        "for id in versions_1:\n",
        "  values = data_upd_1[data_upd_1['Identifiers'] == id].values.tolist()\n",
        "  while len(values) == 1:\n",
        "    values = values[0]\n",
        "  for value in values[1:]:\n",
        "    if value != '.':\n",
        "      if type(value) == str:\n",
        "        column_number = values.index(value)\n",
        "        row_number = data_upd_1[data_upd_1['Identifiers'] == id[:12]].index[0]\n",
        "        data_upd_1.at[row_number, columns[column_number]] = value\n",
        "      elif type(value) != str and math.isnan(value) is not True:\n",
        "        column_number = values.index(value)\n",
        "        row_number = data_upd_1[data_upd_1['Identifiers'] == id[:12]].index[0]\n",
        "        data_upd_1.at[row_number, columns[column_number]] = value\n",
        "      else:\n",
        "        if math.isnan(value) is not True:\n",
        "          print(value, type(value))\n",
        "  i += 1\n",
        "print(i)"
      ],
      "metadata": {
        "id": "S-CfmSoG0sgn",
        "outputId": "080109dc-5d5d-46fa-8eb9-dde095bacf5f",
        "colab": {
          "base_uri": "https://localhost:8080/"
        }
      },
      "execution_count": null,
      "outputs": [
        {
          "output_type": "stream",
          "name": "stdout",
          "text": [
            "3341\n"
          ]
        }
      ]
    },
    {
      "cell_type": "code",
      "source": [
        "for id in versions_1:\n",
        "  data_upd_1 = data_upd_1[data_upd_1['Identifiers'] != id]\n",
        "data_upd_1.shape"
      ],
      "metadata": {
        "id": "91ZYglzq-PuI",
        "outputId": "5c266de7-a621-4dc1-d058-02aef30b802f",
        "colab": {
          "base_uri": "https://localhost:8080/"
        }
      },
      "execution_count": null,
      "outputs": [
        {
          "output_type": "execute_result",
          "data": {
            "text/plain": [
              "(4869, 88)"
            ]
          },
          "metadata": {},
          "execution_count": 23
        }
      ]
    },
    {
      "cell_type": "code",
      "source": [
        "# data 2\n",
        "data_upd_2 = data_2.copy()\n",
        "columns = data_upd_2.columns\n",
        "i = 0\n",
        "for id in versions_2:\n",
        "  values = data_upd_2[data_upd_2['Identifiers'] == id].values.tolist()\n",
        "  while len(values) == 1:\n",
        "    values = values[0]\n",
        "  for value in values[1:]:\n",
        "    if value != '.':\n",
        "      if type(value) == str:\n",
        "        column_number = values.index(value)\n",
        "        row_number = data_upd_2[data_upd_2['Identifiers'] == id[:12]].index[0]\n",
        "        data_upd_2.at[row_number, columns[column_number]] = value\n",
        "      elif type(value) != str and math.isnan(value) is not True:\n",
        "        column_number = values.index(value)\n",
        "        row_number = data_upd_2[data_upd_2['Identifiers'] == id[:12]].index[0]\n",
        "        data_upd_2.at[row_number, columns[column_number]] = value\n",
        "      else:\n",
        "        if math.isnan(value) is not True:\n",
        "          print(value, type(value))\n",
        "  i += 1\n",
        "print(i)"
      ],
      "metadata": {
        "id": "fP1GQ_ieAORo",
        "outputId": "86990857-c64d-415f-c4aa-82d968735a86",
        "colab": {
          "base_uri": "https://localhost:8080/"
        }
      },
      "execution_count": null,
      "outputs": [
        {
          "output_type": "stream",
          "name": "stdout",
          "text": [
            "3862\n"
          ]
        }
      ]
    },
    {
      "cell_type": "code",
      "source": [
        "for id in versions_2:\n",
        "  data_upd_2 = data_upd_2[data_upd_2['Identifiers'] != id]\n",
        "data_upd_2.shape"
      ],
      "metadata": {
        "id": "NjjtzGEEAeuJ",
        "outputId": "42ab0a71-2ade-41f0-c83a-6922276faced",
        "colab": {
          "base_uri": "https://localhost:8080/"
        }
      },
      "execution_count": null,
      "outputs": [
        {
          "output_type": "execute_result",
          "data": {
            "text/plain": [
              "(4869, 168)"
            ]
          },
          "metadata": {},
          "execution_count": 25
        }
      ]
    },
    {
      "cell_type": "markdown",
      "source": [
        "Checking whether in this additional visits rows there were any information on a new diagnosis update. No diagnosis updates were in the additional visits of participants already included in the database (neither in query 1 nor 2)"
      ],
      "metadata": {
        "id": "GLKsnjmMHcwk"
      }
    },
    {
      "cell_type": "code",
      "source": [
        "for id in versions_1:\n",
        "  for number in range(1, 10):\n",
        "    column = 'ConsensusDx,DX_0' + str(number)\n",
        "    if data_1[data_1['Identifiers'] == id][column].values[0] != '.':\n",
        "      print(data_1[data_1['Identifiers'] == id][column].values)\n",
        "    if data_1[data_1['Identifiers'] == id]['ConsensusDx,DX_10'].values[0] != '.':\n",
        "      print(data_1[data_1['Identifiers'] == id]['ConsensusDx,DX_10'].values)"
      ],
      "metadata": {
        "id": "ain7rVMCHLJU"
      },
      "execution_count": null,
      "outputs": []
    },
    {
      "cell_type": "code",
      "source": [
        "for id in versions_2:\n",
        "  for number in range(1, 10):\n",
        "    column = 'Diagnosis_ClinicianConsensus,DX_0' + str(number)\n",
        "    if data_2[data_2['Identifiers'] == id][column].values[0] != '.':\n",
        "      print(data_2[data_2['Identifiers'] == id][column].values)\n",
        "    if data_2[data_2['Identifiers'] == id]['Diagnosis_ClinicianConsensus,DX_10'].values[0] != '.':\n",
        "      print(data_2[data_2['Identifiers'] == id]['Diagnosis_ClinicianConsensus,DX_10'].values)\n"
      ],
      "metadata": {
        "id": "hTccoG5wEzQv"
      },
      "execution_count": null,
      "outputs": []
    },
    {
      "cell_type": "markdown",
      "source": [
        "Checking whether two inquires have the same identifiers"
      ],
      "metadata": {
        "id": "Ehn4Sl-EHlqc"
      }
    },
    {
      "cell_type": "code",
      "source": [
        "ids1 = data_upd_1['Identifiers'].values.tolist()\n",
        "ids2 = data_upd_2['Identifiers'].values.tolist()\n",
        "\n",
        "different = []\n",
        "for i in range(0, 4869):\n",
        "  if ids1[i] not in ids2:\n",
        "    different.append(ids1[i])\n",
        "  if ids2[i] not in ids1:\n",
        "    if ids2[i] not in different:\n",
        "      different.append(ids2[i])\n",
        "print(different)"
      ],
      "metadata": {
        "id": "7DS1UV6eJ2-y",
        "outputId": "1e52894d-3184-4a96-ca0a-49e367b170c2",
        "colab": {
          "base_uri": "https://localhost:8080/"
        }
      },
      "execution_count": null,
      "outputs": [
        {
          "output_type": "stream",
          "name": "stdout",
          "text": [
            "['', 'NDARXP325YLV']\n"
          ]
        }
      ]
    },
    {
      "cell_type": "code",
      "source": [
        "data_upd_1[data_upd_1['Identifiers'] == '']"
      ],
      "metadata": {
        "id": "08zMF3Z8Kt2Y",
        "outputId": "ac1afadc-f121-4674-cbb8-24afd2fd0ac2",
        "colab": {
          "base_uri": "https://localhost:8080/",
          "height": 174
        }
      },
      "execution_count": null,
      "outputs": [
        {
          "output_type": "execute_result",
          "data": {
            "text/plain": [
              "     Identifiers Basic_Demos,Age Basic_Demos,Sex Basic_Demos,Site  \\\n",
              "2175                         NaN             NaN              NaN   \n",
              "\n",
              "     CELF,CELF_Total ConsensusDx,DX_01 ConsensusDx,DX_01_Code  \\\n",
              "2175             NaN                 .                      .   \n",
              "\n",
              "     ConsensusDx,DX_01_Confirmed ConsensusDx,DX_02 ConsensusDx,DX_02_Code  \\\n",
              "2175                           .                 .                      .   \n",
              "\n",
              "      ... WIAT,WIAT_Num_Stnd WIAT,WIAT_Pseudo_Stnd WIAT,WIAT_RC_Stnd  \\\n",
              "2175  ...                NaN                   NaN               NaN   \n",
              "\n",
              "     WIAT,WIAT_Spell_Stnd WIAT,WIAT_Word_Stnd WISC,WISC_FSIQ WISC,WISC_PSI  \\\n",
              "2175                  NaN                 NaN            NaN           NaN   \n",
              "\n",
              "     WISC,WISC_VCI WISC,WISC_VSI WISC,WISC_WMI  \n",
              "2175           NaN           NaN           NaN  \n",
              "\n",
              "[1 rows x 88 columns]"
            ],
            "text/html": [
              "\n",
              "  <div id=\"df-eeeef45c-2812-47e5-9356-5091f58c763b\">\n",
              "    <div class=\"colab-df-container\">\n",
              "      <div>\n",
              "<style scoped>\n",
              "    .dataframe tbody tr th:only-of-type {\n",
              "        vertical-align: middle;\n",
              "    }\n",
              "\n",
              "    .dataframe tbody tr th {\n",
              "        vertical-align: top;\n",
              "    }\n",
              "\n",
              "    .dataframe thead th {\n",
              "        text-align: right;\n",
              "    }\n",
              "</style>\n",
              "<table border=\"1\" class=\"dataframe\">\n",
              "  <thead>\n",
              "    <tr style=\"text-align: right;\">\n",
              "      <th></th>\n",
              "      <th>Identifiers</th>\n",
              "      <th>Basic_Demos,Age</th>\n",
              "      <th>Basic_Demos,Sex</th>\n",
              "      <th>Basic_Demos,Site</th>\n",
              "      <th>CELF,CELF_Total</th>\n",
              "      <th>ConsensusDx,DX_01</th>\n",
              "      <th>ConsensusDx,DX_01_Code</th>\n",
              "      <th>ConsensusDx,DX_01_Confirmed</th>\n",
              "      <th>ConsensusDx,DX_02</th>\n",
              "      <th>ConsensusDx,DX_02_Code</th>\n",
              "      <th>...</th>\n",
              "      <th>WIAT,WIAT_Num_Stnd</th>\n",
              "      <th>WIAT,WIAT_Pseudo_Stnd</th>\n",
              "      <th>WIAT,WIAT_RC_Stnd</th>\n",
              "      <th>WIAT,WIAT_Spell_Stnd</th>\n",
              "      <th>WIAT,WIAT_Word_Stnd</th>\n",
              "      <th>WISC,WISC_FSIQ</th>\n",
              "      <th>WISC,WISC_PSI</th>\n",
              "      <th>WISC,WISC_VCI</th>\n",
              "      <th>WISC,WISC_VSI</th>\n",
              "      <th>WISC,WISC_WMI</th>\n",
              "    </tr>\n",
              "  </thead>\n",
              "  <tbody>\n",
              "    <tr>\n",
              "      <th>2175</th>\n",
              "      <td></td>\n",
              "      <td>NaN</td>\n",
              "      <td>NaN</td>\n",
              "      <td>NaN</td>\n",
              "      <td>NaN</td>\n",
              "      <td>.</td>\n",
              "      <td>.</td>\n",
              "      <td>.</td>\n",
              "      <td>.</td>\n",
              "      <td>.</td>\n",
              "      <td>...</td>\n",
              "      <td>NaN</td>\n",
              "      <td>NaN</td>\n",
              "      <td>NaN</td>\n",
              "      <td>NaN</td>\n",
              "      <td>NaN</td>\n",
              "      <td>NaN</td>\n",
              "      <td>NaN</td>\n",
              "      <td>NaN</td>\n",
              "      <td>NaN</td>\n",
              "      <td>NaN</td>\n",
              "    </tr>\n",
              "  </tbody>\n",
              "</table>\n",
              "<p>1 rows × 88 columns</p>\n",
              "</div>\n",
              "      <button class=\"colab-df-convert\" onclick=\"convertToInteractive('df-eeeef45c-2812-47e5-9356-5091f58c763b')\"\n",
              "              title=\"Convert this dataframe to an interactive table.\"\n",
              "              style=\"display:none;\">\n",
              "        \n",
              "  <svg xmlns=\"http://www.w3.org/2000/svg\" height=\"24px\"viewBox=\"0 0 24 24\"\n",
              "       width=\"24px\">\n",
              "    <path d=\"M0 0h24v24H0V0z\" fill=\"none\"/>\n",
              "    <path d=\"M18.56 5.44l.94 2.06.94-2.06 2.06-.94-2.06-.94-.94-2.06-.94 2.06-2.06.94zm-11 1L8.5 8.5l.94-2.06 2.06-.94-2.06-.94L8.5 2.5l-.94 2.06-2.06.94zm10 10l.94 2.06.94-2.06 2.06-.94-2.06-.94-.94-2.06-.94 2.06-2.06.94z\"/><path d=\"M17.41 7.96l-1.37-1.37c-.4-.4-.92-.59-1.43-.59-.52 0-1.04.2-1.43.59L10.3 9.45l-7.72 7.72c-.78.78-.78 2.05 0 2.83L4 21.41c.39.39.9.59 1.41.59.51 0 1.02-.2 1.41-.59l7.78-7.78 2.81-2.81c.8-.78.8-2.07 0-2.86zM5.41 20L4 18.59l7.72-7.72 1.47 1.35L5.41 20z\"/>\n",
              "  </svg>\n",
              "      </button>\n",
              "      \n",
              "  <style>\n",
              "    .colab-df-container {\n",
              "      display:flex;\n",
              "      flex-wrap:wrap;\n",
              "      gap: 12px;\n",
              "    }\n",
              "\n",
              "    .colab-df-convert {\n",
              "      background-color: #E8F0FE;\n",
              "      border: none;\n",
              "      border-radius: 50%;\n",
              "      cursor: pointer;\n",
              "      display: none;\n",
              "      fill: #1967D2;\n",
              "      height: 32px;\n",
              "      padding: 0 0 0 0;\n",
              "      width: 32px;\n",
              "    }\n",
              "\n",
              "    .colab-df-convert:hover {\n",
              "      background-color: #E2EBFA;\n",
              "      box-shadow: 0px 1px 2px rgba(60, 64, 67, 0.3), 0px 1px 3px 1px rgba(60, 64, 67, 0.15);\n",
              "      fill: #174EA6;\n",
              "    }\n",
              "\n",
              "    [theme=dark] .colab-df-convert {\n",
              "      background-color: #3B4455;\n",
              "      fill: #D2E3FC;\n",
              "    }\n",
              "\n",
              "    [theme=dark] .colab-df-convert:hover {\n",
              "      background-color: #434B5C;\n",
              "      box-shadow: 0px 1px 3px 1px rgba(0, 0, 0, 0.15);\n",
              "      filter: drop-shadow(0px 1px 2px rgba(0, 0, 0, 0.3));\n",
              "      fill: #FFFFFF;\n",
              "    }\n",
              "  </style>\n",
              "\n",
              "      <script>\n",
              "        const buttonEl =\n",
              "          document.querySelector('#df-eeeef45c-2812-47e5-9356-5091f58c763b button.colab-df-convert');\n",
              "        buttonEl.style.display =\n",
              "          google.colab.kernel.accessAllowed ? 'block' : 'none';\n",
              "\n",
              "        async function convertToInteractive(key) {\n",
              "          const element = document.querySelector('#df-eeeef45c-2812-47e5-9356-5091f58c763b');\n",
              "          const dataTable =\n",
              "            await google.colab.kernel.invokeFunction('convertToInteractive',\n",
              "                                                     [key], {});\n",
              "          if (!dataTable) return;\n",
              "\n",
              "          const docLinkHtml = 'Like what you see? Visit the ' +\n",
              "            '<a target=\"_blank\" href=https://colab.research.google.com/notebooks/data_table.ipynb>data table notebook</a>'\n",
              "            + ' to learn more about interactive tables.';\n",
              "          element.innerHTML = '';\n",
              "          dataTable['output_type'] = 'display_data';\n",
              "          await google.colab.output.renderOutput(dataTable, element);\n",
              "          const docLink = document.createElement('div');\n",
              "          docLink.innerHTML = docLinkHtml;\n",
              "          element.appendChild(docLink);\n",
              "        }\n",
              "      </script>\n",
              "    </div>\n",
              "  </div>\n",
              "  "
            ]
          },
          "metadata": {},
          "execution_count": 29
        }
      ]
    },
    {
      "cell_type": "code",
      "source": [
        "data_upd_2[data_upd_2['Identifiers'] == 'NDARXP325YLV']"
      ],
      "metadata": {
        "id": "l8cZu_TQKmQ0",
        "outputId": "63d5a4b9-9da3-4d1c-dd66-8f56da40bf9b",
        "colab": {
          "base_uri": "https://localhost:8080/",
          "height": 174
        }
      },
      "execution_count": null,
      "outputs": [
        {
          "output_type": "execute_result",
          "data": {
            "text/plain": [
              "       Identifiers Audit,AUDIT_Total_Score Barratt,Barratt_Total  \\\n",
              "8731  NDARXP325YLV                       4                     .   \n",
              "\n",
              "     Barratt,Barratt_Total_Edu Barratt,Barratt_Total_Occ Basic_Demos,Age  \\\n",
              "8731                         .                         .               .   \n",
              "\n",
              "     Basic_Demos,Sex Basic_Demos,Site CELF,CELF_Total CTOPP,CTOPP_BW_D  ...  \\\n",
              "8731               .                .               .                .  ...   \n",
              "\n",
              "     WIAT,WIAT_Num_Stnd WIAT,WIAT_Pseudo_Stnd WIAT,WIAT_RC_Stnd  \\\n",
              "8731                  .                     .                 .   \n",
              "\n",
              "     WIAT,WIAT_Spell_Stnd WIAT,WIAT_Word_Stnd WISC,WISC_FSIQ WISC,WISC_PSI  \\\n",
              "8731                    .                   .              .             .   \n",
              "\n",
              "     WISC,WISC_VCI WISC,WISC_VSI WISC,WISC_WMI  \n",
              "8731             .             .             .  \n",
              "\n",
              "[1 rows x 168 columns]"
            ],
            "text/html": [
              "\n",
              "  <div id=\"df-a8cf1556-c002-4baf-b4ea-d974a1b42125\">\n",
              "    <div class=\"colab-df-container\">\n",
              "      <div>\n",
              "<style scoped>\n",
              "    .dataframe tbody tr th:only-of-type {\n",
              "        vertical-align: middle;\n",
              "    }\n",
              "\n",
              "    .dataframe tbody tr th {\n",
              "        vertical-align: top;\n",
              "    }\n",
              "\n",
              "    .dataframe thead th {\n",
              "        text-align: right;\n",
              "    }\n",
              "</style>\n",
              "<table border=\"1\" class=\"dataframe\">\n",
              "  <thead>\n",
              "    <tr style=\"text-align: right;\">\n",
              "      <th></th>\n",
              "      <th>Identifiers</th>\n",
              "      <th>Audit,AUDIT_Total_Score</th>\n",
              "      <th>Barratt,Barratt_Total</th>\n",
              "      <th>Barratt,Barratt_Total_Edu</th>\n",
              "      <th>Barratt,Barratt_Total_Occ</th>\n",
              "      <th>Basic_Demos,Age</th>\n",
              "      <th>Basic_Demos,Sex</th>\n",
              "      <th>Basic_Demos,Site</th>\n",
              "      <th>CELF,CELF_Total</th>\n",
              "      <th>CTOPP,CTOPP_BW_D</th>\n",
              "      <th>...</th>\n",
              "      <th>WIAT,WIAT_Num_Stnd</th>\n",
              "      <th>WIAT,WIAT_Pseudo_Stnd</th>\n",
              "      <th>WIAT,WIAT_RC_Stnd</th>\n",
              "      <th>WIAT,WIAT_Spell_Stnd</th>\n",
              "      <th>WIAT,WIAT_Word_Stnd</th>\n",
              "      <th>WISC,WISC_FSIQ</th>\n",
              "      <th>WISC,WISC_PSI</th>\n",
              "      <th>WISC,WISC_VCI</th>\n",
              "      <th>WISC,WISC_VSI</th>\n",
              "      <th>WISC,WISC_WMI</th>\n",
              "    </tr>\n",
              "  </thead>\n",
              "  <tbody>\n",
              "    <tr>\n",
              "      <th>8731</th>\n",
              "      <td>NDARXP325YLV</td>\n",
              "      <td>4</td>\n",
              "      <td>.</td>\n",
              "      <td>.</td>\n",
              "      <td>.</td>\n",
              "      <td>.</td>\n",
              "      <td>.</td>\n",
              "      <td>.</td>\n",
              "      <td>.</td>\n",
              "      <td>.</td>\n",
              "      <td>...</td>\n",
              "      <td>.</td>\n",
              "      <td>.</td>\n",
              "      <td>.</td>\n",
              "      <td>.</td>\n",
              "      <td>.</td>\n",
              "      <td>.</td>\n",
              "      <td>.</td>\n",
              "      <td>.</td>\n",
              "      <td>.</td>\n",
              "      <td>.</td>\n",
              "    </tr>\n",
              "  </tbody>\n",
              "</table>\n",
              "<p>1 rows × 168 columns</p>\n",
              "</div>\n",
              "      <button class=\"colab-df-convert\" onclick=\"convertToInteractive('df-a8cf1556-c002-4baf-b4ea-d974a1b42125')\"\n",
              "              title=\"Convert this dataframe to an interactive table.\"\n",
              "              style=\"display:none;\">\n",
              "        \n",
              "  <svg xmlns=\"http://www.w3.org/2000/svg\" height=\"24px\"viewBox=\"0 0 24 24\"\n",
              "       width=\"24px\">\n",
              "    <path d=\"M0 0h24v24H0V0z\" fill=\"none\"/>\n",
              "    <path d=\"M18.56 5.44l.94 2.06.94-2.06 2.06-.94-2.06-.94-.94-2.06-.94 2.06-2.06.94zm-11 1L8.5 8.5l.94-2.06 2.06-.94-2.06-.94L8.5 2.5l-.94 2.06-2.06.94zm10 10l.94 2.06.94-2.06 2.06-.94-2.06-.94-.94-2.06-.94 2.06-2.06.94z\"/><path d=\"M17.41 7.96l-1.37-1.37c-.4-.4-.92-.59-1.43-.59-.52 0-1.04.2-1.43.59L10.3 9.45l-7.72 7.72c-.78.78-.78 2.05 0 2.83L4 21.41c.39.39.9.59 1.41.59.51 0 1.02-.2 1.41-.59l7.78-7.78 2.81-2.81c.8-.78.8-2.07 0-2.86zM5.41 20L4 18.59l7.72-7.72 1.47 1.35L5.41 20z\"/>\n",
              "  </svg>\n",
              "      </button>\n",
              "      \n",
              "  <style>\n",
              "    .colab-df-container {\n",
              "      display:flex;\n",
              "      flex-wrap:wrap;\n",
              "      gap: 12px;\n",
              "    }\n",
              "\n",
              "    .colab-df-convert {\n",
              "      background-color: #E8F0FE;\n",
              "      border: none;\n",
              "      border-radius: 50%;\n",
              "      cursor: pointer;\n",
              "      display: none;\n",
              "      fill: #1967D2;\n",
              "      height: 32px;\n",
              "      padding: 0 0 0 0;\n",
              "      width: 32px;\n",
              "    }\n",
              "\n",
              "    .colab-df-convert:hover {\n",
              "      background-color: #E2EBFA;\n",
              "      box-shadow: 0px 1px 2px rgba(60, 64, 67, 0.3), 0px 1px 3px 1px rgba(60, 64, 67, 0.15);\n",
              "      fill: #174EA6;\n",
              "    }\n",
              "\n",
              "    [theme=dark] .colab-df-convert {\n",
              "      background-color: #3B4455;\n",
              "      fill: #D2E3FC;\n",
              "    }\n",
              "\n",
              "    [theme=dark] .colab-df-convert:hover {\n",
              "      background-color: #434B5C;\n",
              "      box-shadow: 0px 1px 3px 1px rgba(0, 0, 0, 0.15);\n",
              "      filter: drop-shadow(0px 1px 2px rgba(0, 0, 0, 0.3));\n",
              "      fill: #FFFFFF;\n",
              "    }\n",
              "  </style>\n",
              "\n",
              "      <script>\n",
              "        const buttonEl =\n",
              "          document.querySelector('#df-a8cf1556-c002-4baf-b4ea-d974a1b42125 button.colab-df-convert');\n",
              "        buttonEl.style.display =\n",
              "          google.colab.kernel.accessAllowed ? 'block' : 'none';\n",
              "\n",
              "        async function convertToInteractive(key) {\n",
              "          const element = document.querySelector('#df-a8cf1556-c002-4baf-b4ea-d974a1b42125');\n",
              "          const dataTable =\n",
              "            await google.colab.kernel.invokeFunction('convertToInteractive',\n",
              "                                                     [key], {});\n",
              "          if (!dataTable) return;\n",
              "\n",
              "          const docLinkHtml = 'Like what you see? Visit the ' +\n",
              "            '<a target=\"_blank\" href=https://colab.research.google.com/notebooks/data_table.ipynb>data table notebook</a>'\n",
              "            + ' to learn more about interactive tables.';\n",
              "          element.innerHTML = '';\n",
              "          dataTable['output_type'] = 'display_data';\n",
              "          await google.colab.output.renderOutput(dataTable, element);\n",
              "          const docLink = document.createElement('div');\n",
              "          docLink.innerHTML = docLinkHtml;\n",
              "          element.appendChild(docLink);\n",
              "        }\n",
              "      </script>\n",
              "    </div>\n",
              "  </div>\n",
              "  "
            ]
          },
          "metadata": {},
          "execution_count": 30
        }
      ]
    },
    {
      "cell_type": "code",
      "source": [
        "# droping this cases as we won't include them in the comparison\n",
        "data_upd_1.drop([2175], axis=0, inplace=True)\n",
        "data_upd_2.drop([8731], axis=0, inplace=True)"
      ],
      "metadata": {
        "id": "iqlpzXGwwspl"
      },
      "execution_count": null,
      "outputs": []
    },
    {
      "cell_type": "markdown",
      "source": [
        "Checking whether all of the undentifiers are unique"
      ],
      "metadata": {
        "id": "GKpTPMIMOX9d"
      }
    },
    {
      "cell_type": "code",
      "source": [
        "print(data_upd_1.shape)\n",
        "print(len(data_upd_1.Identifiers.unique()))"
      ],
      "metadata": {
        "id": "2fJSu0YaOQbV",
        "outputId": "cb9362d7-1404-4623-d1f6-4bfeb91cf63b",
        "colab": {
          "base_uri": "https://localhost:8080/"
        }
      },
      "execution_count": null,
      "outputs": [
        {
          "output_type": "stream",
          "name": "stdout",
          "text": [
            "(4868, 88)\n",
            "4868\n"
          ]
        }
      ]
    },
    {
      "cell_type": "code",
      "source": [
        "print(data_upd_2.shape)\n",
        "print(len(data_upd_2.Identifiers.unique()))"
      ],
      "metadata": {
        "id": "PE40-pUpOPuO",
        "outputId": "71498da1-03bc-4b05-b9b0-79ecde0832e1",
        "colab": {
          "base_uri": "https://localhost:8080/"
        }
      },
      "execution_count": null,
      "outputs": [
        {
          "output_type": "stream",
          "name": "stdout",
          "text": [
            "(4868, 168)\n",
            "4868\n"
          ]
        }
      ]
    },
    {
      "cell_type": "markdown",
      "source": [
        "Checking the amount of each category for the Consensus Diagnosis in query 1 and 2."
      ],
      "metadata": {
        "id": "P88BSuPABi45"
      }
    },
    {
      "cell_type": "code",
      "source": [
        "# diagnosis 1\n",
        "query_1 = data_upd_1.groupby(['ConsensusDx,DX_01'])['Identifiers'].count()\n",
        "query_2 = data_upd_2.groupby(['Diagnosis_ClinicianConsensus,DX_01'])['Identifiers'].count()"
      ],
      "metadata": {
        "id": "1UXg6_6DBqAw"
      },
      "execution_count": null,
      "outputs": []
    },
    {
      "cell_type": "code",
      "source": [
        "diag1 = query_1.index\n",
        "diag2 = query_2.index\n",
        "\n",
        "# in the first list but not in the second\n",
        "diag_name_1 = []\n",
        "for i in diag1:\n",
        "  if i not in diag2:\n",
        "    if i not in diag_name_1:\n",
        "      diag_name_1.append(i)\n",
        "print(diag_name_1)\n",
        "\n",
        "#in second list but not in the first\n",
        "diag_name_2 = []\n",
        "for i in diag2:\n",
        "  if i not in diag1:\n",
        "    if i not in diag_name_2:\n",
        "      diag_name_2.append(i)\n",
        "print(diag_name_2)"
      ],
      "metadata": {
        "id": "h9MogA6FB_7h",
        "outputId": "b1342bf2-f5d1-422e-ce77-9a305b0bdfc8",
        "colab": {
          "base_uri": "https://localhost:8080/"
        }
      },
      "execution_count": null,
      "outputs": [
        {
          "output_type": "stream",
          "name": "stdout",
          "text": [
            "[]\n",
            "['Alcohol Use Disorder', 'Avoidant/Restrictive Food Intake Disorder', 'Bulimia Nervosa', 'Conduct Disorder-Childhood-onset type', 'Cyclothymic Disorder', 'Delirium due to another medical condition', 'Delirium due to multiple etiologies', 'Depressive Disorder Due to Another Medical Condition', 'Developmental Coordination Disorder', 'Excoriation (Skin-Picking) Disorder', 'Gender Dysphoria in Adolescents and Adults', 'Intermittent Explosive Disorder', 'Oppositional Defiant Disorder', 'Other Specified Disruptive, Impulse-Control, and Conduct Disorder', 'Other Specified Feeding or Eating Disorder', 'Other Specified Obsessive-Compulsive and Related Disorder', 'Substance/Medication-Induced Bipolar and Related Disorder']\n"
          ]
        }
      ]
    },
    {
      "cell_type": "code",
      "source": [
        "# diagnosis 2\n",
        "query_1 = data_upd_1.groupby(['ConsensusDx,DX_02'])['Identifiers'].count()\n",
        "query_2 = data_upd_2.groupby(['Diagnosis_ClinicianConsensus,DX_02'])['Identifiers'].count()"
      ],
      "metadata": {
        "id": "fLdKOdFmA4lv"
      },
      "execution_count": null,
      "outputs": []
    },
    {
      "cell_type": "code",
      "source": [
        "diag1 = query_1.index\n",
        "diag2 = query_2.index\n",
        "\n",
        "# in the first list but not in the second\n",
        "diag_name_1 = []\n",
        "for i in diag1:\n",
        "  if i not in diag2:\n",
        "    if i not in diag_name_1:\n",
        "      diag_name_1.append(i)\n",
        "print(diag_name_1)\n",
        "\n",
        "#in second list but not in the first\n",
        "diag_name_2 = []\n",
        "for i in diag2:\n",
        "  if i not in diag1:\n",
        "    if i not in diag_name_2:\n",
        "      diag_name_2.append(i)\n",
        "print(diag_name_2)"
      ],
      "metadata": {
        "id": "dTMmwoLL8LIk",
        "outputId": "da1b1f3c-3dbe-4b25-e3d8-b44ddac6eb1e",
        "colab": {
          "base_uri": "https://localhost:8080/"
        }
      },
      "execution_count": null,
      "outputs": [
        {
          "output_type": "stream",
          "name": "stdout",
          "text": [
            "[]\n",
            "['Anorexia Nervosa-Restricting Type', 'Avoidant/Restrictive Food Intake Disorder', 'Binge-Eating Disorder', 'Cannabis Use Disorder', 'Conduct Disorder-Adolescent-onset type', 'Conduct Disorder-Childhood-onset type', 'Illness Anxiety Disorder', 'Insomnia Disorder', 'Intermittent Explosive Disorder', 'Non-Rapid Eye Movement Sleep Arousal Disorders', 'Oppositional Defiant Disorder', 'Other (or Unknown) Substance-Induced Disorders', 'Other Specified Disruptive, Impulse-Control, and Conduct Disorder', 'Other Specified Elimination Disorder with Fecal Symptoms', 'Other Specified Obsessive-Compulsive and Related Disorder', 'Other Specified Tic Disorder', 'Pica in Children', 'Posttraumatic Stress Disorder', 'Sibling Relational Problem', 'Somatic Symptom Disorder', 'Unspecified Depressive Disorder', 'Unspecified Feeding or Eating Disorder']\n"
          ]
        }
      ]
    },
    {
      "cell_type": "code",
      "source": [
        "# diagnosis 3\n",
        "query_1 = data_upd_1.groupby(['ConsensusDx,DX_03'])['Identifiers'].count()\n",
        "query_2 = data_upd_2.groupby(['Diagnosis_ClinicianConsensus,DX_03'])['Identifiers'].count()"
      ],
      "metadata": {
        "id": "C7OVSVaFCGdz"
      },
      "execution_count": null,
      "outputs": []
    },
    {
      "cell_type": "code",
      "source": [
        "# diagnosis 4\n",
        "query_1 = data_upd_1.groupby(['ConsensusDx,DX_04'])['Identifiers'].count()\n",
        "query_2 = data_upd_2.groupby(['Diagnosis_ClinicianConsensus,DX_04'])['Identifiers'].count()"
      ],
      "metadata": {
        "id": "JIkGFFtvEODI"
      },
      "execution_count": null,
      "outputs": []
    },
    {
      "cell_type": "code",
      "source": [
        "# diagnosis 5\n",
        "query_1 = data_upd_1.groupby(['ConsensusDx,DX_05'])['Identifiers'].count()\n",
        "query_2 = data_upd_2.groupby(['Diagnosis_ClinicianConsensus,DX_05'])['Identifiers'].count()"
      ],
      "metadata": {
        "id": "vCDh_ONCF6uN"
      },
      "execution_count": null,
      "outputs": []
    },
    {
      "cell_type": "code",
      "source": [
        "# diagnosis 6\n",
        "query_1 = data_upd_1.groupby(['ConsensusDx,DX_06'])['Identifiers'].count()\n",
        "query_2 = data_upd_2.groupby(['Diagnosis_ClinicianConsensus,DX_06'])['Identifiers'].count()"
      ],
      "metadata": {
        "id": "3F6dJk8AHJAD"
      },
      "execution_count": null,
      "outputs": []
    },
    {
      "cell_type": "code",
      "source": [
        "# diagnosis 7\n",
        "query_1 = data_upd_1.groupby(['ConsensusDx,DX_07'])['Identifiers'].count()\n",
        "query_2 = data_upd_2.groupby(['Diagnosis_ClinicianConsensus,DX_07'])['Identifiers'].count()"
      ],
      "metadata": {
        "id": "WfZRN61ZH8zL"
      },
      "execution_count": null,
      "outputs": []
    },
    {
      "cell_type": "code",
      "source": [
        "# diagnosis 8\n",
        "query_1 = data_upd_1.groupby(['ConsensusDx,DX_08'])['Identifiers'].count()\n",
        "query_2 = data_upd_2.groupby(['Diagnosis_ClinicianConsensus,DX_08'])['Identifiers'].count()"
      ],
      "metadata": {
        "id": "hxeBq00QIujx"
      },
      "execution_count": null,
      "outputs": []
    },
    {
      "cell_type": "code",
      "source": [
        "# diagnosis 9\n",
        "query_1 = data_upd_1.groupby(['ConsensusDx,DX_09'])['Identifiers'].count()\n",
        "query_2 = data_upd_2.groupby(['Diagnosis_ClinicianConsensus,DX_09'])['Identifiers'].count()"
      ],
      "metadata": {
        "id": "vpnfkADdJ0zo"
      },
      "execution_count": null,
      "outputs": []
    },
    {
      "cell_type": "code",
      "source": [
        "# diagnosis 10\n",
        "query_1 = data_upd_1.groupby(['ConsensusDx,DX_10'])['Identifiers'].count()\n",
        "query_2 = data_upd_2.groupby(['Diagnosis_ClinicianConsensus,DX_10'])['Identifiers'].count()"
      ],
      "metadata": {
        "id": "pXXae53AKHrY"
      },
      "execution_count": null,
      "outputs": []
    },
    {
      "cell_type": "markdown",
      "source": [
        "Now, we would look into what ids changed their status"
      ],
      "metadata": {
        "id": "kR3pi3bXP6XP"
      }
    },
    {
      "cell_type": "code",
      "source": [
        "ids_1 = data_upd_1[['Identifiers', 'ConsensusDx,DX_01', 'ConsensusDx,DX_02',\n",
        "                    'ConsensusDx,DX_03', 'ConsensusDx,DX_04', 'ConsensusDx,DX_05',\n",
        "                    'ConsensusDx,DX_06', 'ConsensusDx,DX_07', 'ConsensusDx,DX_08',\n",
        "                    'ConsensusDx,DX_09', 'ConsensusDx,DX_10']]"
      ],
      "metadata": {
        "id": "a2LYnc4aP-co"
      },
      "execution_count": null,
      "outputs": []
    },
    {
      "cell_type": "code",
      "source": [
        "ids_2 = data_upd_2[['Identifiers', 'Diagnosis_ClinicianConsensus,DX_01', 'Diagnosis_ClinicianConsensus,DX_02',\n",
        "            'Diagnosis_ClinicianConsensus,DX_03', 'Diagnosis_ClinicianConsensus,DX_04', 'Diagnosis_ClinicianConsensus,DX_05',\n",
        "            'Diagnosis_ClinicianConsensus,DX_06', 'Diagnosis_ClinicianConsensus,DX_07', 'Diagnosis_ClinicianConsensus,DX_08',\n",
        "            'Diagnosis_ClinicianConsensus,DX_09', 'Diagnosis_ClinicianConsensus,DX_10']]"
      ],
      "metadata": {
        "id": "lNSTKnpYQArw"
      },
      "execution_count": null,
      "outputs": []
    },
    {
      "cell_type": "code",
      "source": [
        "ids_1 = ids_1.fillna(0)\n",
        "ids_2 = ids_2.fillna(0)"
      ],
      "metadata": {
        "id": "OjU8ppqajYaY"
      },
      "execution_count": null,
      "outputs": []
    },
    {
      "cell_type": "code",
      "source": [
        "ids_1 = ids_1.reset_index(drop = True)\n",
        "ids_2 = ids_2.reset_index(drop = True)"
      ],
      "metadata": {
        "id": "JXwADUQb5rA-"
      },
      "execution_count": null,
      "outputs": []
    },
    {
      "cell_type": "code",
      "source": [
        "ids_1[ids_1['ConsensusDx,DX_01'] == '.'].to_csv(\n",
        "    Path(working_path).joinpath('Query 1.Dot values.csv')\n",
        ")"
      ],
      "metadata": {
        "id": "6YCLg1fdEEaj"
      },
      "execution_count": null,
      "outputs": []
    },
    {
      "cell_type": "code",
      "source": [
        "ids_2[ids_2['Diagnosis_ClinicianConsensus,DX_01'] == '.'].to_csv(\n",
        "    Path(working_path).joinpath('Query 2.Dot values.csv')\n",
        ")"
      ],
      "metadata": {
        "id": "Bvapl4wKGFQe"
      },
      "execution_count": null,
      "outputs": []
    },
    {
      "cell_type": "code",
      "source": [
        "diagnoses = ['Unknown', 'ADHD-Combined Type', 'ADHD-Hyperactive/Impulsive Type', 'ADHD-Inattentive Type', 'Acute Stress Disorder',\n",
        "             'Adjustment Disorders', 'Agoraphobia', 'Alcohol Use Disorder', 'Anorexia Nervosa-Restricting Type', 'Anorexia Nervosa-Binge Eating/Purging Type',\n",
        "             'Autism Spectrum Disorder', 'Avoidant/Restrictive Food Intake Disorder', 'Binge-Eating Disorder', 'Bipolar I Disorder', 'Bipolar II Disorder',\n",
        "  'Body Dysmorphic Disorder', 'Borderline Intellectual Functioning', 'Borderline Personality Disorder', 'Bulimia Nervosa',\n",
        "  'Cannabis Use Disorder', 'Child Neglect', 'Child Onset Fluency Disorder (Stuttering)', 'Conduct Disorder-Adolescent-onset type',\n",
        "  'Conduct Disorder-Childhood-onset type', 'Conduct Disorder-Unspecified onset', 'Conversion Disorder', 'Cyclothymic Disorder',\n",
        "  'Delirium due to another medical condition', 'Delirium due to multiple etiologies', 'Depressive Disorder Due to Another Medical Condition',\n",
        "  'Developmental Coordination Disorder', 'Disruptive Mood Dysregulation Disorder', 'Disinhibited Social Engagement Disorder', 'Encopresis',\n",
        "  'Enuresis', 'Excoriation (Skin-Picking) Disorder', 'Gender Dysphoria in Adolescents and Adults',\n",
        "  'Gender Dysphoria in Children', 'Generalized Anxiety Disorder', 'Hoarding Disorder', 'Illness Anxiety Disorder',\n",
        "  'Insomnia Disorder', 'Intellectual Disability-Mild', 'Intellectual Disability-Moderate', 'Intellectual Disability-Severe',\n",
        "  'Intermittent Explosive Disorder', 'Language Disorder', 'Major Depressive Disorder', 'Major Neurocognitive Disorder Due to Epilepsy',\n",
        "  'Narcolepsy', 'Neurobehavioral Disorder Associated with Prenatal Alcohol Exposure (ND-PAE)', 'No Diagnosis Given', 'No Diagnosis Given: Incomplete Eval',\n",
        "  'Non-Rapid Eye Movement Sleep Arousal Disorders', 'Obsessive-Compulsive Disorder', 'Oppositional Defiant Disorder',\n",
        "  'Other (or Unknown) Substance Use Disorder', 'Other (or Unknown) Substance-Induced Disorders',\n",
        " 'Other Specified Anxiety Disorder', 'Other Specified Attention-Deficit/Hyperactivity Disorder', 'Other Specified Bipolar and Related Disorder',\n",
        "  'Other Specified Depressive Disorder', 'Other Specified Disruptive, Impulse-Control, and Conduct Disorder',\n",
        "  'Other Specified Elimination Disorder with Fecal Symptoms', 'Other Specified Elimination Disorder with Urinary Symptoms',\n",
        "  'Other Specified Feeding or Eating Disorder', 'Other Specified Insomnia Disorder',\n",
        "  'Other Specified Neurodevelopmental Disorder', 'Other Specified Obsessive-Compulsive and Related Disorder',\n",
        "  'Other Specified Schizophrenia Spectrum and Other Psychotic Disorder', 'Other Specified Tic Disorder',\n",
        "  'Other Specified Trauma- and Stressor-Related Disorder', 'Panic Disorder', 'Parent-Child Relational Problem',\n",
        "  'Persistent (Chronic) Motor or Vocal Tic Disorder', 'Persistent Depressive Disorder (Dysthymia)', 'Pica in Children',\n",
        "  'Posttraumatic Stress Disorder', 'Provisional Tic Disorder', 'Reactive Attachment Disorder', 'Schizophrenia',\n",
        "  'Selective Mutism', 'Separation Anxiety', 'Sibling Relational Problem', 'Social (Pragmatic) Communication Disorder',\n",
        "  'Social Anxiety (Social Phobia)', 'Somatic Symptom Disorder', 'Specific Learning Disorder with Impairment in Mathematics',\n",
        "  'Specific Learning Disorder with Impairment in Reading', 'Specific Learning Disorder with Impairment in Written Expression',\n",
        "  'Specific Phobia', 'Speech Sound Disorder', 'Substance/Medication-Induced Bipolar and Related Disorder',\n",
        "  'Substance/Medication-Induced Depressive Disorder',\n",
        "  'Tobacco Use Disorder', 'Tourettes Disorder', 'Trichotillomania (Hair-Pulling Disorder)', 'Unspecified Anxiety Disorder',\n",
        "  'Unspecified Attention-Deficit/Hyperactivity Disorder', 'Unspecified Bipolar and Related Disorder', 'Unspecified Depressive Disorder',\n",
        "  'Unspecified Feeding or Eating Disorder', 'Unspecified Intellectual Disability', 'Unspecified Neurodevelopmental Disorder',\n",
        "  'Unspecified Tic Disorder', 'Unspecified Trauma- and Stressor-Related Disorder'\n",
        "             ]"
      ],
      "metadata": {
        "id": "VjX1f3acQAuK"
      },
      "execution_count": null,
      "outputs": []
    },
    {
      "cell_type": "code",
      "source": [
        "data_count_1 = pd.DataFrame(columns=diagnoses)\n",
        "data_count_2 = pd.DataFrame(columns=diagnoses)\n",
        "data_count_1['ID'] = ids_1['Identifiers']\n",
        "data_count_2['ID'] = ids_2['Identifiers']"
      ],
      "metadata": {
        "id": "udEbFHbsWCNv"
      },
      "execution_count": null,
      "outputs": []
    },
    {
      "cell_type": "code",
      "source": [
        "print(ids_1.shape)\n",
        "print(data_count_1.shape)\n",
        "print(ids_2.shape)\n",
        "print(data_count_2.shape)"
      ],
      "metadata": {
        "id": "Ej6hK_oj0Lyo",
        "outputId": "94647693-7508-459c-d327-25513fc0ddb7",
        "colab": {
          "base_uri": "https://localhost:8080/"
        }
      },
      "execution_count": null,
      "outputs": [
        {
          "output_type": "stream",
          "name": "stdout",
          "text": [
            "(4868, 11)\n",
            "(4868, 107)\n",
            "(4868, 11)\n",
            "(4868, 107)\n"
          ]
        }
      ]
    },
    {
      "cell_type": "code",
      "source": [
        "# data 1\n",
        "ids = ids_1['Identifiers'].values.tolist()\n",
        "for id in ids:\n",
        "  subset = ids_1[ids_1['Identifiers'] == id].values.tolist()[0]\n",
        "  disorders = []\n",
        "  for element in subset[1:]:\n",
        "    if element == '.' or element == ' ' or element == 0:\n",
        "      disorders.append('Unknown')\n",
        "    elif type(element) is str:\n",
        "      if element == 'Specific Learning Disorder with Impairment in Reading ':\n",
        "        disorders.append('Specific Learning Disorder with Impairment in Reading')\n",
        "      elif element == 'Obsessive-Compulsive Disorder ':\n",
        "        disorders.append('Obsessive-Compulsive Disorder')\n",
        "      elif element == 'Specific Learning Disorder with Impairment in Mathematics ':\n",
        "        disorders.append('Specific Learning Disorder with Impairment in Mathematics')\n",
        "      elif element == 'Neurobehavioral Disorder Associated with Prenatal Alcohol Exposure (ND-PAE) ':\n",
        "        disorders.append('Neurobehavioral Disorder Associated with Prenatal Alcohol Exposure (ND-PAE)')\n",
        "      else:\n",
        "        disorders.append(element)\n",
        "    else:\n",
        "      break\n",
        "      print(element)\n",
        "      print(subset)\n",
        "      print(disorders)\n",
        "\n",
        "  for disorder in disorders:\n",
        "    counter = 0\n",
        "    for diagnos in diagnoses:\n",
        "      if disorder == diagnos:\n",
        "        data_count_1.at[ids.index(id), diagnos] = 1\n",
        "        counter += 1\n",
        "    if counter == 0:\n",
        "      print(disorders)\n",
        "      print(disorder)\n",
        "      break"
      ],
      "metadata": {
        "id": "i_C4kJdp1BH1"
      },
      "execution_count": null,
      "outputs": []
    },
    {
      "cell_type": "code",
      "source": [
        "# data 2\n",
        "ids = ids_2['Identifiers'].values.tolist()\n",
        "for id in ids:\n",
        "  subset = ids_2[ids_2['Identifiers'] == id].values.tolist()[0]\n",
        "  disorders = []\n",
        "  for element in subset[1:]:\n",
        "    if element == '.' or element == ' ' or element == 0:\n",
        "      disorders.append('Unknown')\n",
        "    elif type(element) is str:\n",
        "      if element == 'Specific Learning Disorder with Impairment in Reading ':\n",
        "        disorders.append('Specific Learning Disorder with Impairment in Reading')\n",
        "      elif element == 'Obsessive-Compulsive Disorder ':\n",
        "        disorders.append('Obsessive-Compulsive Disorder')\n",
        "      elif element == 'Specific Learning Disorder with Impairment in Mathematics ':\n",
        "        disorders.append('Specific Learning Disorder with Impairment in Mathematics')\n",
        "      elif element == 'Neurobehavioral Disorder Associated with Prenatal Alcohol Exposure (ND-PAE) ':\n",
        "        disorders.append('Neurobehavioral Disorder Associated with Prenatal Alcohol Exposure (ND-PAE)')\n",
        "      elif element == 'Child Neglect, Suspected':\n",
        "        disorders.append('Child Neglect')\n",
        "      else:\n",
        "        disorders.append(element)\n",
        "    else:\n",
        "      break\n",
        "      print(element)\n",
        "      print(subset)\n",
        "      print(disorders)\n",
        "\n",
        "  for disorder in disorders:\n",
        "    counter = 0\n",
        "    for diagnos in diagnoses:\n",
        "      if disorder == diagnos:\n",
        "        data_count_2.at[ids.index(id), diagnos] = 1\n",
        "        counter += 1\n",
        "    if counter == 0:\n",
        "      print(disorders)\n",
        "      print(disorder)\n",
        "      break"
      ],
      "metadata": {
        "id": "J44C6aH6fylE"
      },
      "execution_count": null,
      "outputs": []
    },
    {
      "cell_type": "code",
      "source": [
        "print(ids_1.shape)\n",
        "print(data_count_1.shape)"
      ],
      "metadata": {
        "id": "1RP_Txw8rtLs",
        "outputId": "b16c08eb-a9a9-4736-c699-aa31fb200ce1",
        "colab": {
          "base_uri": "https://localhost:8080/"
        }
      },
      "execution_count": null,
      "outputs": [
        {
          "output_type": "stream",
          "name": "stdout",
          "text": [
            "(4868, 11)\n",
            "(4868, 107)\n"
          ]
        }
      ]
    },
    {
      "cell_type": "code",
      "source": [
        "print(ids_2.shape)\n",
        "print(data_count_2.shape)"
      ],
      "metadata": {
        "id": "s9XjmrjIrx4N",
        "outputId": "68128f25-f23d-4070-bc4e-e04575030905",
        "colab": {
          "base_uri": "https://localhost:8080/"
        }
      },
      "execution_count": null,
      "outputs": [
        {
          "output_type": "stream",
          "name": "stdout",
          "text": [
            "(4868, 11)\n",
            "(4868, 107)\n"
          ]
        }
      ]
    },
    {
      "cell_type": "code",
      "source": [
        "data_count_1 = data_count_1.fillna(0)\n",
        "data_count_2 = data_count_2.fillna(0)"
      ],
      "metadata": {
        "id": "H_UIdLzyZoU1"
      },
      "execution_count": null,
      "outputs": []
    },
    {
      "cell_type": "code",
      "source": [
        "ids = data_count_1['ID'].values.tolist()\n",
        "change_adds = []\n",
        "adds = []\n",
        "change_deletes = []\n",
        "deletes = []\n",
        "unique = []\n",
        "\n",
        "for id in ids:\n",
        "  diag1 = data_count_1[data_count_1['ID'] == id].values.tolist()[0]\n",
        "  diag2 = data_count_2[data_count_2['ID'] == id].values.tolist()[0]\n",
        "  for i in range(0, len(diag1)):\n",
        "    if diag1[i] != diag2[i]:\n",
        "      if diag1[i] == 0 and diag2[i] == 1:\n",
        "        change_adds.append(id)\n",
        "        adds.append(diagnoses[i])\n",
        "        if id not in unique:\n",
        "          unique.append(id)\n",
        "      elif diag1[i] == 1 and diag2[i] == 0:\n",
        "        change_deletes.append(id)\n",
        "        deletes.append(diagnoses[i])\n",
        "        if id not in unique:\n",
        "          unique.append(id)\n",
        "\n",
        "      else:\n",
        "        print(id)\n",
        "        print(diag1[i], diag2[i])\n",
        "        break"
      ],
      "metadata": {
        "id": "Kuf1rvsn77wr"
      },
      "execution_count": null,
      "outputs": []
    },
    {
      "cell_type": "code",
      "source": [
        "print(len(change_adds))\n",
        "print(len(adds))\n",
        "print(len(change_deletes))\n",
        "print(len(deletes))\n",
        "print(len(unique))"
      ],
      "metadata": {
        "id": "uiO-SJjxszN4",
        "outputId": "512c9d79-057d-47cd-c2c6-7ce3c5a24cc3",
        "colab": {
          "base_uri": "https://localhost:8080/"
        }
      },
      "execution_count": null,
      "outputs": [
        {
          "output_type": "stream",
          "name": "stdout",
          "text": [
            "8401\n",
            "8401\n",
            "11\n",
            "11\n",
            "3280\n"
          ]
        }
      ]
    },
    {
      "cell_type": "code",
      "source": [
        "df = pd.DataFrame(columns=['ID', 'additions', 'deletions'])"
      ],
      "metadata": {
        "id": "2vlEf6EuHebK"
      },
      "execution_count": null,
      "outputs": []
    },
    {
      "cell_type": "code",
      "source": [
        "df['ID'] = change_adds\n",
        "df['additions'] = adds"
      ],
      "metadata": {
        "id": "rFZzJ8_7Fmj1"
      },
      "execution_count": null,
      "outputs": []
    },
    {
      "cell_type": "code",
      "source": [
        "df.shape"
      ],
      "metadata": {
        "id": "8ZEYJN94HOzs",
        "outputId": "e3d82106-6289-419c-b211-ca3878ed0785",
        "colab": {
          "base_uri": "https://localhost:8080/"
        }
      },
      "execution_count": null,
      "outputs": [
        {
          "output_type": "execute_result",
          "data": {
            "text/plain": [
              "(8401, 3)"
            ]
          },
          "metadata": {},
          "execution_count": 64
        }
      ]
    },
    {
      "cell_type": "code",
      "source": [
        "# among unique ids there is one identifier who has only the deletions\n",
        "# and doesn't have any addditions\n",
        "# this is why the groupby method results in the length of 3279\n",
        "change_of_diagnosis = df.groupby(['ID', 'additions']).count()"
      ],
      "metadata": {
        "id": "dYY1QeyNHTn7"
      },
      "execution_count": null,
      "outputs": []
    },
    {
      "cell_type": "code",
      "source": [
        "change_of_diagnosis.to_csv(\n",
        "    Path(working_path).joinpath('change_of_diagnosis.csv')\n",
        ")"
      ],
      "metadata": {
        "id": "RMRtwHd2Ixzu"
      },
      "execution_count": null,
      "outputs": []
    },
    {
      "cell_type": "code",
      "source": [
        "change_of_diagnosis"
      ],
      "metadata": {
        "id": "zH_QdGcHIQeu",
        "outputId": "467df796-e8e8-4c83-dcf0-d5f3bbe56c02",
        "colab": {
          "base_uri": "https://localhost:8080/",
          "height": 455
        }
      },
      "execution_count": null,
      "outputs": [
        {
          "output_type": "execute_result",
          "data": {
            "text/plain": [
              "                                                                 deletions\n",
              "ID           additions                                                    \n",
              "NDARAA112DMH Other Specified Disruptive, Impulse-Control, an...          0\n",
              "NDARAA117NEJ Oppositional Defiant Disorder                               0\n",
              "NDARAA306NT2 ADHD-Inattentive Type                                       0\n",
              "             Generalized Anxiety Disorder                                0\n",
              "             Language Disorder                                           0\n",
              "...                                                                    ...\n",
              "ndarvn280jtn ADHD-Combined Type                                          0\n",
              "             Language Disorder                                           0\n",
              "             Specific Learning Disorder with Impairment in M...          0\n",
              "             Specific Learning Disorder with Impairment in R...          0\n",
              "             Specific Learning Disorder with Impairment in W...          0\n",
              "\n",
              "[8401 rows x 1 columns]"
            ],
            "text/html": [
              "\n",
              "  <div id=\"df-42b24f3d-8ee4-4375-9484-a3d4dbb3c5a4\">\n",
              "    <div class=\"colab-df-container\">\n",
              "      <div>\n",
              "<style scoped>\n",
              "    .dataframe tbody tr th:only-of-type {\n",
              "        vertical-align: middle;\n",
              "    }\n",
              "\n",
              "    .dataframe tbody tr th {\n",
              "        vertical-align: top;\n",
              "    }\n",
              "\n",
              "    .dataframe thead th {\n",
              "        text-align: right;\n",
              "    }\n",
              "</style>\n",
              "<table border=\"1\" class=\"dataframe\">\n",
              "  <thead>\n",
              "    <tr style=\"text-align: right;\">\n",
              "      <th></th>\n",
              "      <th></th>\n",
              "      <th>deletions</th>\n",
              "    </tr>\n",
              "    <tr>\n",
              "      <th>ID</th>\n",
              "      <th>additions</th>\n",
              "      <th></th>\n",
              "    </tr>\n",
              "  </thead>\n",
              "  <tbody>\n",
              "    <tr>\n",
              "      <th>NDARAA112DMH</th>\n",
              "      <th>Other Specified Disruptive, Impulse-Control, and Conduct Disorder</th>\n",
              "      <td>0</td>\n",
              "    </tr>\n",
              "    <tr>\n",
              "      <th>NDARAA117NEJ</th>\n",
              "      <th>Oppositional Defiant Disorder</th>\n",
              "      <td>0</td>\n",
              "    </tr>\n",
              "    <tr>\n",
              "      <th rowspan=\"3\" valign=\"top\">NDARAA306NT2</th>\n",
              "      <th>ADHD-Inattentive Type</th>\n",
              "      <td>0</td>\n",
              "    </tr>\n",
              "    <tr>\n",
              "      <th>Generalized Anxiety Disorder</th>\n",
              "      <td>0</td>\n",
              "    </tr>\n",
              "    <tr>\n",
              "      <th>Language Disorder</th>\n",
              "      <td>0</td>\n",
              "    </tr>\n",
              "    <tr>\n",
              "      <th>...</th>\n",
              "      <th>...</th>\n",
              "      <td>...</td>\n",
              "    </tr>\n",
              "    <tr>\n",
              "      <th rowspan=\"5\" valign=\"top\">ndarvn280jtn</th>\n",
              "      <th>ADHD-Combined Type</th>\n",
              "      <td>0</td>\n",
              "    </tr>\n",
              "    <tr>\n",
              "      <th>Language Disorder</th>\n",
              "      <td>0</td>\n",
              "    </tr>\n",
              "    <tr>\n",
              "      <th>Specific Learning Disorder with Impairment in Mathematics</th>\n",
              "      <td>0</td>\n",
              "    </tr>\n",
              "    <tr>\n",
              "      <th>Specific Learning Disorder with Impairment in Reading</th>\n",
              "      <td>0</td>\n",
              "    </tr>\n",
              "    <tr>\n",
              "      <th>Specific Learning Disorder with Impairment in Written Expression</th>\n",
              "      <td>0</td>\n",
              "    </tr>\n",
              "  </tbody>\n",
              "</table>\n",
              "<p>8401 rows × 1 columns</p>\n",
              "</div>\n",
              "      <button class=\"colab-df-convert\" onclick=\"convertToInteractive('df-42b24f3d-8ee4-4375-9484-a3d4dbb3c5a4')\"\n",
              "              title=\"Convert this dataframe to an interactive table.\"\n",
              "              style=\"display:none;\">\n",
              "        \n",
              "  <svg xmlns=\"http://www.w3.org/2000/svg\" height=\"24px\"viewBox=\"0 0 24 24\"\n",
              "       width=\"24px\">\n",
              "    <path d=\"M0 0h24v24H0V0z\" fill=\"none\"/>\n",
              "    <path d=\"M18.56 5.44l.94 2.06.94-2.06 2.06-.94-2.06-.94-.94-2.06-.94 2.06-2.06.94zm-11 1L8.5 8.5l.94-2.06 2.06-.94-2.06-.94L8.5 2.5l-.94 2.06-2.06.94zm10 10l.94 2.06.94-2.06 2.06-.94-2.06-.94-.94-2.06-.94 2.06-2.06.94z\"/><path d=\"M17.41 7.96l-1.37-1.37c-.4-.4-.92-.59-1.43-.59-.52 0-1.04.2-1.43.59L10.3 9.45l-7.72 7.72c-.78.78-.78 2.05 0 2.83L4 21.41c.39.39.9.59 1.41.59.51 0 1.02-.2 1.41-.59l7.78-7.78 2.81-2.81c.8-.78.8-2.07 0-2.86zM5.41 20L4 18.59l7.72-7.72 1.47 1.35L5.41 20z\"/>\n",
              "  </svg>\n",
              "      </button>\n",
              "      \n",
              "  <style>\n",
              "    .colab-df-container {\n",
              "      display:flex;\n",
              "      flex-wrap:wrap;\n",
              "      gap: 12px;\n",
              "    }\n",
              "\n",
              "    .colab-df-convert {\n",
              "      background-color: #E8F0FE;\n",
              "      border: none;\n",
              "      border-radius: 50%;\n",
              "      cursor: pointer;\n",
              "      display: none;\n",
              "      fill: #1967D2;\n",
              "      height: 32px;\n",
              "      padding: 0 0 0 0;\n",
              "      width: 32px;\n",
              "    }\n",
              "\n",
              "    .colab-df-convert:hover {\n",
              "      background-color: #E2EBFA;\n",
              "      box-shadow: 0px 1px 2px rgba(60, 64, 67, 0.3), 0px 1px 3px 1px rgba(60, 64, 67, 0.15);\n",
              "      fill: #174EA6;\n",
              "    }\n",
              "\n",
              "    [theme=dark] .colab-df-convert {\n",
              "      background-color: #3B4455;\n",
              "      fill: #D2E3FC;\n",
              "    }\n",
              "\n",
              "    [theme=dark] .colab-df-convert:hover {\n",
              "      background-color: #434B5C;\n",
              "      box-shadow: 0px 1px 3px 1px rgba(0, 0, 0, 0.15);\n",
              "      filter: drop-shadow(0px 1px 2px rgba(0, 0, 0, 0.3));\n",
              "      fill: #FFFFFF;\n",
              "    }\n",
              "  </style>\n",
              "\n",
              "      <script>\n",
              "        const buttonEl =\n",
              "          document.querySelector('#df-42b24f3d-8ee4-4375-9484-a3d4dbb3c5a4 button.colab-df-convert');\n",
              "        buttonEl.style.display =\n",
              "          google.colab.kernel.accessAllowed ? 'block' : 'none';\n",
              "\n",
              "        async function convertToInteractive(key) {\n",
              "          const element = document.querySelector('#df-42b24f3d-8ee4-4375-9484-a3d4dbb3c5a4');\n",
              "          const dataTable =\n",
              "            await google.colab.kernel.invokeFunction('convertToInteractive',\n",
              "                                                     [key], {});\n",
              "          if (!dataTable) return;\n",
              "\n",
              "          const docLinkHtml = 'Like what you see? Visit the ' +\n",
              "            '<a target=\"_blank\" href=https://colab.research.google.com/notebooks/data_table.ipynb>data table notebook</a>'\n",
              "            + ' to learn more about interactive tables.';\n",
              "          element.innerHTML = '';\n",
              "          dataTable['output_type'] = 'display_data';\n",
              "          await google.colab.output.renderOutput(dataTable, element);\n",
              "          const docLink = document.createElement('div');\n",
              "          docLink.innerHTML = docLinkHtml;\n",
              "          element.appendChild(docLink);\n",
              "        }\n",
              "      </script>\n",
              "    </div>\n",
              "  </div>\n",
              "  "
            ]
          },
          "metadata": {},
          "execution_count": 67
        }
      ]
    },
    {
      "cell_type": "code",
      "source": [
        "deletes"
      ],
      "metadata": {
        "id": "pGTSQV-FwvgQ",
        "outputId": "6e7e332c-d4dd-479f-d6a1-dfc325dbea65",
        "colab": {
          "base_uri": "https://localhost:8080/"
        }
      },
      "execution_count": null,
      "outputs": [
        {
          "output_type": "execute_result",
          "data": {
            "text/plain": [
              "['No Diagnosis Given',\n",
              " 'Unknown',\n",
              " 'No Diagnosis Given: Incomplete Eval',\n",
              " 'No Diagnosis Given: Incomplete Eval',\n",
              " 'Unknown',\n",
              " 'Unknown',\n",
              " 'Unknown',\n",
              " 'No Diagnosis Given: Incomplete Eval',\n",
              " 'Unknown',\n",
              " 'No Diagnosis Given',\n",
              " 'Unknown']"
            ]
          },
          "metadata": {},
          "execution_count": 68
        }
      ]
    },
    {
      "cell_type": "code",
      "source": [
        "change_deletes"
      ],
      "metadata": {
        "id": "6mBlnJaXwxGg",
        "outputId": "e81ecefb-87b6-44c5-e33a-bf131bda2347",
        "colab": {
          "base_uri": "https://localhost:8080/"
        }
      },
      "execution_count": null,
      "outputs": [
        {
          "output_type": "execute_result",
          "data": {
            "text/plain": [
              "['NDARDM118LR6',\n",
              " 'NDARLA048NYE',\n",
              " 'NDARPL406KX4',\n",
              " 'NDARRY006EMB',\n",
              " 'NDARXR250LW3',\n",
              " 'NDARZT957CWG',\n",
              " 'NDARUR202RX7',\n",
              " 'NDARFF988YMA',\n",
              " 'NDARNN761ZPA',\n",
              " 'NDARRG499ZWN',\n",
              " 'NDARTM712HBD']"
            ]
          },
          "metadata": {},
          "execution_count": 69
        }
      ]
    },
    {
      "cell_type": "markdown",
      "source": [
        "## Pipeline to make the data convinient to use"
      ],
      "metadata": {
        "id": "nLkYOzzUGnRy"
      }
    },
    {
      "cell_type": "markdown",
      "source": [
        "Here we are going to work on the database from the 2nd query where all of the visits are combined within their original identifier."
      ],
      "metadata": {
        "id": "D2gWtrKvyMr-"
      }
    },
    {
      "cell_type": "code",
      "source": [
        "# file with the identifiers that have mri imaging\n",
        "pheno_mri = pd.read_csv(\n",
        "    working_path.joinpath('pheno_mri.csv'),\n",
        "    index_col=None\n",
        ")"
      ],
      "metadata": {
        "id": "QScqpmDeEExy"
      },
      "execution_count": 7,
      "outputs": []
    },
    {
      "cell_type": "code",
      "source": [
        "pheno_mri.drop(['Unnamed: 0'], axis=1, inplace=True)"
      ],
      "metadata": {
        "id": "MRfJJF3TEM7D"
      },
      "execution_count": 8,
      "outputs": []
    },
    {
      "cell_type": "code",
      "source": [
        "pheno_mri.drop(['Unnamed: 0.1'], axis=1, inplace=True)"
      ],
      "metadata": {
        "id": "zETR4M4UI-6v"
      },
      "execution_count": 9,
      "outputs": []
    },
    {
      "cell_type": "code",
      "source": [
        "pheno_mri.head()"
      ],
      "metadata": {
        "id": "HfYdEtPVGXY8",
        "outputId": "20fc54c7-45fc-476b-fc08-7fce0d3cf2f5",
        "colab": {
          "base_uri": "https://localhost:8080/",
          "height": 206
        }
      },
      "execution_count": 10,
      "outputs": [
        {
          "output_type": "execute_result",
          "data": {
            "text/plain": [
              "            EID  Sex        Age  EHQ_Total Commercial_Use Full_Pheno\n",
              "0  NDARYM832PX3  1.0   7.048254     -33.35             No        Yes\n",
              "1  NDARNJ687DMC  1.0   6.348163      46.67             No        Yes\n",
              "2  NDARFM080VAF  1.0   7.623203    -100.00             No        Yes\n",
              "3  NDARFW130NGG  1.0   8.316107      93.34             No        Yes\n",
              "4  NDARDT800YVF  0.0  17.510381      86.67             No        Yes"
            ],
            "text/html": [
              "\n",
              "  <div id=\"df-24d8f63d-5ef5-497c-9ea0-12e5e8743947\">\n",
              "    <div class=\"colab-df-container\">\n",
              "      <div>\n",
              "<style scoped>\n",
              "    .dataframe tbody tr th:only-of-type {\n",
              "        vertical-align: middle;\n",
              "    }\n",
              "\n",
              "    .dataframe tbody tr th {\n",
              "        vertical-align: top;\n",
              "    }\n",
              "\n",
              "    .dataframe thead th {\n",
              "        text-align: right;\n",
              "    }\n",
              "</style>\n",
              "<table border=\"1\" class=\"dataframe\">\n",
              "  <thead>\n",
              "    <tr style=\"text-align: right;\">\n",
              "      <th></th>\n",
              "      <th>EID</th>\n",
              "      <th>Sex</th>\n",
              "      <th>Age</th>\n",
              "      <th>EHQ_Total</th>\n",
              "      <th>Commercial_Use</th>\n",
              "      <th>Full_Pheno</th>\n",
              "    </tr>\n",
              "  </thead>\n",
              "  <tbody>\n",
              "    <tr>\n",
              "      <th>0</th>\n",
              "      <td>NDARYM832PX3</td>\n",
              "      <td>1.0</td>\n",
              "      <td>7.048254</td>\n",
              "      <td>-33.35</td>\n",
              "      <td>No</td>\n",
              "      <td>Yes</td>\n",
              "    </tr>\n",
              "    <tr>\n",
              "      <th>1</th>\n",
              "      <td>NDARNJ687DMC</td>\n",
              "      <td>1.0</td>\n",
              "      <td>6.348163</td>\n",
              "      <td>46.67</td>\n",
              "      <td>No</td>\n",
              "      <td>Yes</td>\n",
              "    </tr>\n",
              "    <tr>\n",
              "      <th>2</th>\n",
              "      <td>NDARFM080VAF</td>\n",
              "      <td>1.0</td>\n",
              "      <td>7.623203</td>\n",
              "      <td>-100.00</td>\n",
              "      <td>No</td>\n",
              "      <td>Yes</td>\n",
              "    </tr>\n",
              "    <tr>\n",
              "      <th>3</th>\n",
              "      <td>NDARFW130NGG</td>\n",
              "      <td>1.0</td>\n",
              "      <td>8.316107</td>\n",
              "      <td>93.34</td>\n",
              "      <td>No</td>\n",
              "      <td>Yes</td>\n",
              "    </tr>\n",
              "    <tr>\n",
              "      <th>4</th>\n",
              "      <td>NDARDT800YVF</td>\n",
              "      <td>0.0</td>\n",
              "      <td>17.510381</td>\n",
              "      <td>86.67</td>\n",
              "      <td>No</td>\n",
              "      <td>Yes</td>\n",
              "    </tr>\n",
              "  </tbody>\n",
              "</table>\n",
              "</div>\n",
              "      <button class=\"colab-df-convert\" onclick=\"convertToInteractive('df-24d8f63d-5ef5-497c-9ea0-12e5e8743947')\"\n",
              "              title=\"Convert this dataframe to an interactive table.\"\n",
              "              style=\"display:none;\">\n",
              "        \n",
              "  <svg xmlns=\"http://www.w3.org/2000/svg\" height=\"24px\"viewBox=\"0 0 24 24\"\n",
              "       width=\"24px\">\n",
              "    <path d=\"M0 0h24v24H0V0z\" fill=\"none\"/>\n",
              "    <path d=\"M18.56 5.44l.94 2.06.94-2.06 2.06-.94-2.06-.94-.94-2.06-.94 2.06-2.06.94zm-11 1L8.5 8.5l.94-2.06 2.06-.94-2.06-.94L8.5 2.5l-.94 2.06-2.06.94zm10 10l.94 2.06.94-2.06 2.06-.94-2.06-.94-.94-2.06-.94 2.06-2.06.94z\"/><path d=\"M17.41 7.96l-1.37-1.37c-.4-.4-.92-.59-1.43-.59-.52 0-1.04.2-1.43.59L10.3 9.45l-7.72 7.72c-.78.78-.78 2.05 0 2.83L4 21.41c.39.39.9.59 1.41.59.51 0 1.02-.2 1.41-.59l7.78-7.78 2.81-2.81c.8-.78.8-2.07 0-2.86zM5.41 20L4 18.59l7.72-7.72 1.47 1.35L5.41 20z\"/>\n",
              "  </svg>\n",
              "      </button>\n",
              "      \n",
              "  <style>\n",
              "    .colab-df-container {\n",
              "      display:flex;\n",
              "      flex-wrap:wrap;\n",
              "      gap: 12px;\n",
              "    }\n",
              "\n",
              "    .colab-df-convert {\n",
              "      background-color: #E8F0FE;\n",
              "      border: none;\n",
              "      border-radius: 50%;\n",
              "      cursor: pointer;\n",
              "      display: none;\n",
              "      fill: #1967D2;\n",
              "      height: 32px;\n",
              "      padding: 0 0 0 0;\n",
              "      width: 32px;\n",
              "    }\n",
              "\n",
              "    .colab-df-convert:hover {\n",
              "      background-color: #E2EBFA;\n",
              "      box-shadow: 0px 1px 2px rgba(60, 64, 67, 0.3), 0px 1px 3px 1px rgba(60, 64, 67, 0.15);\n",
              "      fill: #174EA6;\n",
              "    }\n",
              "\n",
              "    [theme=dark] .colab-df-convert {\n",
              "      background-color: #3B4455;\n",
              "      fill: #D2E3FC;\n",
              "    }\n",
              "\n",
              "    [theme=dark] .colab-df-convert:hover {\n",
              "      background-color: #434B5C;\n",
              "      box-shadow: 0px 1px 3px 1px rgba(0, 0, 0, 0.15);\n",
              "      filter: drop-shadow(0px 1px 2px rgba(0, 0, 0, 0.3));\n",
              "      fill: #FFFFFF;\n",
              "    }\n",
              "  </style>\n",
              "\n",
              "      <script>\n",
              "        const buttonEl =\n",
              "          document.querySelector('#df-24d8f63d-5ef5-497c-9ea0-12e5e8743947 button.colab-df-convert');\n",
              "        buttonEl.style.display =\n",
              "          google.colab.kernel.accessAllowed ? 'block' : 'none';\n",
              "\n",
              "        async function convertToInteractive(key) {\n",
              "          const element = document.querySelector('#df-24d8f63d-5ef5-497c-9ea0-12e5e8743947');\n",
              "          const dataTable =\n",
              "            await google.colab.kernel.invokeFunction('convertToInteractive',\n",
              "                                                     [key], {});\n",
              "          if (!dataTable) return;\n",
              "\n",
              "          const docLinkHtml = 'Like what you see? Visit the ' +\n",
              "            '<a target=\"_blank\" href=https://colab.research.google.com/notebooks/data_table.ipynb>data table notebook</a>'\n",
              "            + ' to learn more about interactive tables.';\n",
              "          element.innerHTML = '';\n",
              "          dataTable['output_type'] = 'display_data';\n",
              "          await google.colab.output.renderOutput(dataTable, element);\n",
              "          const docLink = document.createElement('div');\n",
              "          docLink.innerHTML = docLinkHtml;\n",
              "          element.appendChild(docLink);\n",
              "        }\n",
              "      </script>\n",
              "    </div>\n",
              "  </div>\n",
              "  "
            ]
          },
          "metadata": {},
          "execution_count": 10
        }
      ]
    },
    {
      "cell_type": "code",
      "source": [
        "# our dataset\n",
        "data = pd.read_csv(\n",
        "    working_path.joinpath('Query_final.csv'),\n",
        "    index_col=None,\n",
        "    low_memory=False\n",
        ")"
      ],
      "metadata": {
        "id": "V4z2UsT-zTlp"
      },
      "execution_count": 11,
      "outputs": []
    },
    {
      "cell_type": "code",
      "source": [
        "ids = data.Identifiers.values\n",
        "new_ids = []\n",
        "for i in ids:\n",
        "  new_i = i.replace(',assessment', '')\n",
        "  new_ids.append(new_i)\n",
        "print(len(ids))\n",
        "print(len(new_ids))\n",
        "\n",
        "data['Identifiers'] = new_ids"
      ],
      "metadata": {
        "id": "jjGb6Cr0HxgJ",
        "outputId": "d11fd3c0-61fb-4379-916f-1ac8bb80a1d4",
        "colab": {
          "base_uri": "https://localhost:8080/"
        }
      },
      "execution_count": 12,
      "outputs": [
        {
          "output_type": "stream",
          "name": "stdout",
          "text": [
            "8732\n",
            "8732\n"
          ]
        }
      ]
    },
    {
      "cell_type": "code",
      "source": [
        "data = data.drop(labels=0, axis=0)"
      ],
      "metadata": {
        "id": "guq6tU-bH1Z6"
      },
      "execution_count": 13,
      "outputs": []
    },
    {
      "cell_type": "code",
      "source": [
        "versions = []\n",
        "for i in data.Identifiers.values.tolist():\n",
        "  if '_' in i:\n",
        "    versions.append(i)\n",
        "print(len(versions))"
      ],
      "metadata": {
        "id": "jiE0_9kVIeRS",
        "outputId": "5d75e3ad-c3d1-4913-ecde-e856baf02957",
        "colab": {
          "base_uri": "https://localhost:8080/"
        }
      },
      "execution_count": 15,
      "outputs": [
        {
          "output_type": "stream",
          "name": "stdout",
          "text": [
            "3862\n"
          ]
        }
      ]
    },
    {
      "cell_type": "code",
      "source": [
        "columns = data.columns\n",
        "i = 0\n",
        "for id in versions:\n",
        "  values = data[data['Identifiers'] == id].values.tolist()\n",
        "  while len(values) == 1:\n",
        "    values = values[0]\n",
        "  for value in values[1:]:\n",
        "    if value != '.':\n",
        "      if type(value) == str:\n",
        "        column_number = values.index(value)\n",
        "        row_number = data[data['Identifiers'] == id[:12]].index[0]\n",
        "        data.at[row_number, columns[column_number]] = value\n",
        "      elif type(value) != str and math.isnan(value) is not True:\n",
        "        column_number = values.index(value)\n",
        "        row_number = data[data['Identifiers'] == id[:12]].index[0]\n",
        "        data.at[row_number, columns[column_number]] = value\n",
        "      else:\n",
        "        if math.isnan(value) is not True:\n",
        "          print(value, type(value))\n",
        "  i += 1\n",
        "print(i)"
      ],
      "metadata": {
        "id": "i4bFXlFQH1cX",
        "outputId": "825a5ee7-4cdb-410d-8c83-083e3352643d",
        "colab": {
          "base_uri": "https://localhost:8080/"
        }
      },
      "execution_count": 16,
      "outputs": [
        {
          "output_type": "stream",
          "name": "stdout",
          "text": [
            "3862\n"
          ]
        }
      ]
    },
    {
      "cell_type": "code",
      "source": [
        "for id in versions:\n",
        "  data = data[data['Identifiers'] != id]\n",
        "data.shape"
      ],
      "metadata": {
        "id": "dCCDlIDLH_HE",
        "outputId": "adff53dc-dddc-488d-f329-8574ab44d9f8",
        "colab": {
          "base_uri": "https://localhost:8080/"
        }
      },
      "execution_count": 17,
      "outputs": [
        {
          "output_type": "execute_result",
          "data": {
            "text/plain": [
              "(4869, 168)"
            ]
          },
          "metadata": {},
          "execution_count": 17
        }
      ]
    },
    {
      "cell_type": "code",
      "source": [
        "data_site = pd.read_csv(\n",
        "    working_path.joinpath('sites.csv'),\n",
        "    index_col=None,\n",
        "    low_memory=False\n",
        ")"
      ],
      "metadata": {
        "id": "-Uq3wBq08bsI"
      },
      "execution_count": 18,
      "outputs": []
    },
    {
      "cell_type": "code",
      "source": [
        "# the first row is empty so let's drop it\n",
        "data_site.drop([0], axis=0, inplace=True)"
      ],
      "metadata": {
        "id": "3qxEiyExPes4"
      },
      "execution_count": 19,
      "outputs": []
    },
    {
      "cell_type": "code",
      "source": [
        "# work on Identifiers column\n",
        "ids = data_site.Identifiers.values\n",
        "new_ids = []\n",
        "for i in ids:\n",
        "  new_i = i.replace(',assessment', '')\n",
        "  new_ids.append(new_i)\n",
        "print(len(ids))\n",
        "print(len(new_ids))\n",
        "\n",
        "data_site['Identifiers'] = new_ids"
      ],
      "metadata": {
        "id": "f6aJNMtGMcA5",
        "outputId": "fe56beb1-8b0e-4288-ebb2-2385f7763633",
        "colab": {
          "base_uri": "https://localhost:8080/"
        }
      },
      "execution_count": 20,
      "outputs": [
        {
          "output_type": "stream",
          "name": "stdout",
          "text": [
            "4868\n",
            "4868\n"
          ]
        }
      ]
    },
    {
      "cell_type": "code",
      "source": [
        "# weird subject\n",
        "data = data[data['Identifiers'] != 'NDARXP325YLV']"
      ],
      "metadata": {
        "id": "lp7OR10yJM0V"
      },
      "execution_count": 25,
      "outputs": []
    },
    {
      "cell_type": "code",
      "source": [
        "# let's add the site status to everyone in the data\n",
        "ids_site = data_site.Identifiers.values.tolist()\n",
        "ids_data = data.Identifiers.values.tolist()\n",
        "print(len(ids_site))\n",
        "print(len(ids_data))\n",
        "different = []\n",
        "for i in ids_site:\n",
        "  if i not in ids_data:\n",
        "    if i not in different:\n",
        "      different.append(i)\n",
        "for i in ids_data:\n",
        "  if i not in ids_site:\n",
        "    if i not in different:\n",
        "      different.append(i)\n",
        "print(different)\n",
        "# the identifiers are identical"
      ],
      "metadata": {
        "id": "MWJoPB7fP_AI",
        "outputId": "bd225a5c-b20e-4419-b941-85a6f5817006",
        "colab": {
          "base_uri": "https://localhost:8080/"
        }
      },
      "execution_count": 26,
      "outputs": [
        {
          "output_type": "stream",
          "name": "stdout",
          "text": [
            "4868\n",
            "4868\n",
            "[]\n"
          ]
        }
      ]
    },
    {
      "cell_type": "code",
      "source": [
        "new_site = []\n",
        "site = data_site['Basic_Demos,Study_Site'].values.tolist()\n",
        "for id in ids_data:\n",
        "  number = ids_site.index(id)\n",
        "  new_site.append(site[number])"
      ],
      "metadata": {
        "id": "Z_bMgcsRQqfP"
      },
      "execution_count": 27,
      "outputs": []
    },
    {
      "cell_type": "code",
      "source": [
        "data['Site'] = new_site"
      ],
      "metadata": {
        "id": "ulfDm8t0RN2n"
      },
      "execution_count": 28,
      "outputs": []
    },
    {
      "cell_type": "markdown",
      "source": [
        "**Crossreferencing to understand who has the full pheno**"
      ],
      "metadata": {
        "id": "zQ5-gjZkW_w6"
      }
    },
    {
      "cell_type": "code",
      "source": [
        "print(pheno_mri.shape)\n",
        "print(data.shape)"
      ],
      "metadata": {
        "id": "mZStsdf7ZUQH",
        "outputId": "aebe8b8a-d126-4761-afd4-15e65ebc0307",
        "colab": {
          "base_uri": "https://localhost:8080/"
        }
      },
      "execution_count": 29,
      "outputs": [
        {
          "output_type": "stream",
          "name": "stdout",
          "text": [
            "(4344, 6)\n",
            "(4868, 169)\n"
          ]
        }
      ]
    },
    {
      "cell_type": "code",
      "source": [
        "# not all of the IDs in pheno_mri file are unique\n",
        "len(pheno_mri.EID.unique())"
      ],
      "metadata": {
        "id": "TBM3RTaLRofu",
        "outputId": "28480cee-7f07-444e-ddb5-4b406e3f17e1",
        "colab": {
          "base_uri": "https://localhost:8080/"
        }
      },
      "execution_count": 30,
      "outputs": [
        {
          "output_type": "execute_result",
          "data": {
            "text/plain": [
              "3539"
            ]
          },
          "metadata": {},
          "execution_count": 30
        }
      ]
    },
    {
      "cell_type": "code",
      "source": [
        "pheno_mri_no_duplicates = pheno_mri.drop_duplicates()"
      ],
      "metadata": {
        "id": "I3XW3HtZSsRU"
      },
      "execution_count": 31,
      "outputs": []
    },
    {
      "cell_type": "code",
      "source": [
        "print(pheno_mri_no_duplicates.shape)\n",
        "len(pheno_mri_no_duplicates.EID.unique())"
      ],
      "metadata": {
        "id": "n1xISUY5Sx3_",
        "outputId": "32523ac0-911e-4b2f-c787-2dd61bb37de5",
        "colab": {
          "base_uri": "https://localhost:8080/"
        }
      },
      "execution_count": 32,
      "outputs": [
        {
          "output_type": "stream",
          "name": "stdout",
          "text": [
            "(3539, 6)\n"
          ]
        },
        {
          "output_type": "execute_result",
          "data": {
            "text/plain": [
              "3539"
            ]
          },
          "metadata": {},
          "execution_count": 32
        }
      ]
    },
    {
      "cell_type": "code",
      "source": [
        "print(pheno_mri_no_duplicates.shape)\n",
        "print(data.shape)"
      ],
      "metadata": {
        "id": "ug8zrGBoS5NO",
        "outputId": "111cbc84-e7ac-4a49-87ef-69a2bd7d334d",
        "colab": {
          "base_uri": "https://localhost:8080/"
        }
      },
      "execution_count": 33,
      "outputs": [
        {
          "output_type": "stream",
          "name": "stdout",
          "text": [
            "(3539, 6)\n",
            "(4868, 169)\n"
          ]
        }
      ]
    },
    {
      "cell_type": "code",
      "source": [
        "full_ids = pheno_mri_no_duplicates.EID.values.tolist()\n",
        "data_ids = data.Identifiers.values.tolist()\n",
        "hits = []\n",
        "misses = []\n",
        "indices = []\n",
        "for i in data_ids:\n",
        "  if i in full_ids:\n",
        "    hits.append(i)\n",
        "  elif i not in full_ids:\n",
        "    misses.append(i)\n",
        "    indices.append(data_ids.index(i))\n",
        "print(len(hits))"
      ],
      "metadata": {
        "id": "auEmLb4JZwOq",
        "outputId": "a7b8c959-8dbf-4db6-e43a-c8ee3faf64b9",
        "colab": {
          "base_uri": "https://localhost:8080/"
        }
      },
      "execution_count": 34,
      "outputs": [
        {
          "output_type": "stream",
          "name": "stdout",
          "text": [
            "3538\n"
          ]
        }
      ]
    },
    {
      "cell_type": "code",
      "source": [
        "# One participant is missing from the data. It could be the case that the experiment is nor over.\n",
        "for i in full_ids:\n",
        "  if i not in hits:\n",
        "    print(i)"
      ],
      "metadata": {
        "id": "HGgvf1JUZwRG",
        "outputId": "5e4544d7-8d1d-474c-a850-c93d8a8375ba",
        "colab": {
          "base_uri": "https://localhost:8080/"
        }
      },
      "execution_count": 35,
      "outputs": [
        {
          "output_type": "stream",
          "name": "stdout",
          "text": [
            "NDARAL828WXM\n"
          ]
        }
      ]
    },
    {
      "cell_type": "code",
      "source": [
        "pheno_mri[pheno_mri['EID'] == 'NDARAL828WXM']"
      ],
      "metadata": {
        "id": "Uo6t3sQxZwUB",
        "outputId": "6bc143cf-5628-4e05-af97-757e46b32b46",
        "colab": {
          "base_uri": "https://localhost:8080/",
          "height": 81
        }
      },
      "execution_count": 36,
      "outputs": [
        {
          "output_type": "execute_result",
          "data": {
            "text/plain": [
              "               EID  Sex        Age  EHQ_Total Commercial_Use Full_Pheno\n",
              "3253  NDARAL828WXM  0.0  15.188569      63.34            Yes        Yes"
            ],
            "text/html": [
              "\n",
              "  <div id=\"df-220b9f47-c7ed-4281-8107-4da8d6395a13\">\n",
              "    <div class=\"colab-df-container\">\n",
              "      <div>\n",
              "<style scoped>\n",
              "    .dataframe tbody tr th:only-of-type {\n",
              "        vertical-align: middle;\n",
              "    }\n",
              "\n",
              "    .dataframe tbody tr th {\n",
              "        vertical-align: top;\n",
              "    }\n",
              "\n",
              "    .dataframe thead th {\n",
              "        text-align: right;\n",
              "    }\n",
              "</style>\n",
              "<table border=\"1\" class=\"dataframe\">\n",
              "  <thead>\n",
              "    <tr style=\"text-align: right;\">\n",
              "      <th></th>\n",
              "      <th>EID</th>\n",
              "      <th>Sex</th>\n",
              "      <th>Age</th>\n",
              "      <th>EHQ_Total</th>\n",
              "      <th>Commercial_Use</th>\n",
              "      <th>Full_Pheno</th>\n",
              "    </tr>\n",
              "  </thead>\n",
              "  <tbody>\n",
              "    <tr>\n",
              "      <th>3253</th>\n",
              "      <td>NDARAL828WXM</td>\n",
              "      <td>0.0</td>\n",
              "      <td>15.188569</td>\n",
              "      <td>63.34</td>\n",
              "      <td>Yes</td>\n",
              "      <td>Yes</td>\n",
              "    </tr>\n",
              "  </tbody>\n",
              "</table>\n",
              "</div>\n",
              "      <button class=\"colab-df-convert\" onclick=\"convertToInteractive('df-220b9f47-c7ed-4281-8107-4da8d6395a13')\"\n",
              "              title=\"Convert this dataframe to an interactive table.\"\n",
              "              style=\"display:none;\">\n",
              "        \n",
              "  <svg xmlns=\"http://www.w3.org/2000/svg\" height=\"24px\"viewBox=\"0 0 24 24\"\n",
              "       width=\"24px\">\n",
              "    <path d=\"M0 0h24v24H0V0z\" fill=\"none\"/>\n",
              "    <path d=\"M18.56 5.44l.94 2.06.94-2.06 2.06-.94-2.06-.94-.94-2.06-.94 2.06-2.06.94zm-11 1L8.5 8.5l.94-2.06 2.06-.94-2.06-.94L8.5 2.5l-.94 2.06-2.06.94zm10 10l.94 2.06.94-2.06 2.06-.94-2.06-.94-.94-2.06-.94 2.06-2.06.94z\"/><path d=\"M17.41 7.96l-1.37-1.37c-.4-.4-.92-.59-1.43-.59-.52 0-1.04.2-1.43.59L10.3 9.45l-7.72 7.72c-.78.78-.78 2.05 0 2.83L4 21.41c.39.39.9.59 1.41.59.51 0 1.02-.2 1.41-.59l7.78-7.78 2.81-2.81c.8-.78.8-2.07 0-2.86zM5.41 20L4 18.59l7.72-7.72 1.47 1.35L5.41 20z\"/>\n",
              "  </svg>\n",
              "      </button>\n",
              "      \n",
              "  <style>\n",
              "    .colab-df-container {\n",
              "      display:flex;\n",
              "      flex-wrap:wrap;\n",
              "      gap: 12px;\n",
              "    }\n",
              "\n",
              "    .colab-df-convert {\n",
              "      background-color: #E8F0FE;\n",
              "      border: none;\n",
              "      border-radius: 50%;\n",
              "      cursor: pointer;\n",
              "      display: none;\n",
              "      fill: #1967D2;\n",
              "      height: 32px;\n",
              "      padding: 0 0 0 0;\n",
              "      width: 32px;\n",
              "    }\n",
              "\n",
              "    .colab-df-convert:hover {\n",
              "      background-color: #E2EBFA;\n",
              "      box-shadow: 0px 1px 2px rgba(60, 64, 67, 0.3), 0px 1px 3px 1px rgba(60, 64, 67, 0.15);\n",
              "      fill: #174EA6;\n",
              "    }\n",
              "\n",
              "    [theme=dark] .colab-df-convert {\n",
              "      background-color: #3B4455;\n",
              "      fill: #D2E3FC;\n",
              "    }\n",
              "\n",
              "    [theme=dark] .colab-df-convert:hover {\n",
              "      background-color: #434B5C;\n",
              "      box-shadow: 0px 1px 3px 1px rgba(0, 0, 0, 0.15);\n",
              "      filter: drop-shadow(0px 1px 2px rgba(0, 0, 0, 0.3));\n",
              "      fill: #FFFFFF;\n",
              "    }\n",
              "  </style>\n",
              "\n",
              "      <script>\n",
              "        const buttonEl =\n",
              "          document.querySelector('#df-220b9f47-c7ed-4281-8107-4da8d6395a13 button.colab-df-convert');\n",
              "        buttonEl.style.display =\n",
              "          google.colab.kernel.accessAllowed ? 'block' : 'none';\n",
              "\n",
              "        async function convertToInteractive(key) {\n",
              "          const element = document.querySelector('#df-220b9f47-c7ed-4281-8107-4da8d6395a13');\n",
              "          const dataTable =\n",
              "            await google.colab.kernel.invokeFunction('convertToInteractive',\n",
              "                                                     [key], {});\n",
              "          if (!dataTable) return;\n",
              "\n",
              "          const docLinkHtml = 'Like what you see? Visit the ' +\n",
              "            '<a target=\"_blank\" href=https://colab.research.google.com/notebooks/data_table.ipynb>data table notebook</a>'\n",
              "            + ' to learn more about interactive tables.';\n",
              "          element.innerHTML = '';\n",
              "          dataTable['output_type'] = 'display_data';\n",
              "          await google.colab.output.renderOutput(dataTable, element);\n",
              "          const docLink = document.createElement('div');\n",
              "          docLink.innerHTML = docLinkHtml;\n",
              "          element.appendChild(docLink);\n",
              "        }\n",
              "      </script>\n",
              "    </div>\n",
              "  </div>\n",
              "  "
            ]
          },
          "metadata": {},
          "execution_count": 36
        }
      ]
    },
    {
      "cell_type": "code",
      "source": [
        "# so according to this dataset there are 1330 who doesn't have full phenotypical information\n",
        "# but we won't trust it so much\n",
        "data_pheno = data.copy()"
      ],
      "metadata": {
        "id": "mnXCqhwAUfDU"
      },
      "execution_count": 37,
      "outputs": []
    },
    {
      "cell_type": "code",
      "source": [
        "for i in misses:\n",
        "  data_pheno = data_pheno[data_pheno['Identifiers'] != i]"
      ],
      "metadata": {
        "id": "CDpeBPTIUqBV"
      },
      "execution_count": 38,
      "outputs": []
    },
    {
      "cell_type": "code",
      "source": [
        "print(data_pheno.shape)\n",
        "print(data.shape)"
      ],
      "metadata": {
        "id": "bvZ0eCtgYVaS",
        "outputId": "89cd2e30-c920-4d66-d0ec-6cf8cd721031",
        "colab": {
          "base_uri": "https://localhost:8080/"
        }
      },
      "execution_count": 39,
      "outputs": [
        {
          "output_type": "stream",
          "name": "stdout",
          "text": [
            "(3538, 169)\n",
            "(4868, 169)\n"
          ]
        }
      ]
    },
    {
      "cell_type": "markdown",
      "source": [
        "Here is our reduced data frame with participant who has the full phenotypic file. Let's now choose only right handed participants."
      ],
      "metadata": {
        "id": "pE_RygKEc2ww"
      }
    },
    {
      "cell_type": "code",
      "source": [
        "# work on Age column\n",
        "data_pheno['Basic_Demos,Age'] = data_pheno['Basic_Demos,Age'].astype(float)\n",
        "data['Basic_Demos,Age'] = data['Basic_Demos,Age'].astype(float)"
      ],
      "metadata": {
        "id": "Fsbq32NVOUbG"
      },
      "execution_count": 40,
      "outputs": []
    },
    {
      "cell_type": "code",
      "source": [
        "# work on Sex column\n",
        "data_pheno['Basic_Demos,Sex'] = data_pheno['Basic_Demos,Sex'].astype(int)\n",
        "data['Basic_Demos,Sex'] = data['Basic_Demos,Sex'].astype(int)"
      ],
      "metadata": {
        "id": "3xJBdz9Bfg2t"
      },
      "execution_count": 41,
      "outputs": []
    },
    {
      "cell_type": "code",
      "source": [
        "# work on Site column\n",
        "data_pheno['Site'] = data_pheno['Site'].astype(int)\n",
        "data['Site'] = data['Site'].astype(int)\n",
        "\n",
        "data_pheno.drop(['Basic_Demos,Site'], axis=1, inplace=True)\n",
        "data.drop(['Basic_Demos,Site'], axis=1, inplace=True)"
      ],
      "metadata": {
        "id": "87ptehgEfsu_"
      },
      "execution_count": 42,
      "outputs": []
    },
    {
      "cell_type": "code",
      "source": [
        "data['Diagnosis_ClinicianConsensus,DX_01'] = data['Diagnosis_ClinicianConsensus,DX_01'].fillna('.')\n",
        "data['Diagnosis_ClinicianConsensus,DX_02'] = data['Diagnosis_ClinicianConsensus,DX_02'].fillna('.')\n",
        "data['Diagnosis_ClinicianConsensus,DX_03'] = data['Diagnosis_ClinicianConsensus,DX_03'].fillna('.')\n",
        "data['Diagnosis_ClinicianConsensus,DX_04'] = data['Diagnosis_ClinicianConsensus,DX_04'].fillna('.')\n",
        "data['Diagnosis_ClinicianConsensus,DX_05'] = data['Diagnosis_ClinicianConsensus,DX_05'].fillna('.')\n",
        "data['Diagnosis_ClinicianConsensus,DX_06'] = data['Diagnosis_ClinicianConsensus,DX_06'].fillna('.')\n",
        "data['Diagnosis_ClinicianConsensus,DX_07'] = data['Diagnosis_ClinicianConsensus,DX_07'].fillna('.')\n",
        "data['Diagnosis_ClinicianConsensus,DX_08'] = data['Diagnosis_ClinicianConsensus,DX_08'].fillna('.')\n",
        "data['Diagnosis_ClinicianConsensus,DX_09'] = data['Diagnosis_ClinicianConsensus,DX_09'].fillna('.')\n",
        "data['Diagnosis_ClinicianConsensus,DX_10'] = data['Diagnosis_ClinicianConsensus,DX_10'].fillna('.')"
      ],
      "metadata": {
        "id": "9sdk9Fi1J0be"
      },
      "execution_count": 43,
      "outputs": []
    },
    {
      "cell_type": "code",
      "source": [
        "data_pheno['Diagnosis_ClinicianConsensus,DX_01'] = data_pheno['Diagnosis_ClinicianConsensus,DX_01'].fillna('.')\n",
        "data_pheno['Diagnosis_ClinicianConsensus,DX_02'] = data_pheno['Diagnosis_ClinicianConsensus,DX_02'].fillna('.')\n",
        "data_pheno['Diagnosis_ClinicianConsensus,DX_03'] = data_pheno['Diagnosis_ClinicianConsensus,DX_03'].fillna('.')\n",
        "data_pheno['Diagnosis_ClinicianConsensus,DX_04'] = data_pheno['Diagnosis_ClinicianConsensus,DX_04'].fillna('.')\n",
        "data_pheno['Diagnosis_ClinicianConsensus,DX_05'] = data_pheno['Diagnosis_ClinicianConsensus,DX_05'].fillna('.')\n",
        "data_pheno['Diagnosis_ClinicianConsensus,DX_06'] = data_pheno['Diagnosis_ClinicianConsensus,DX_06'].fillna('.')\n",
        "data_pheno['Diagnosis_ClinicianConsensus,DX_07'] = data_pheno['Diagnosis_ClinicianConsensus,DX_07'].fillna('.')\n",
        "data_pheno['Diagnosis_ClinicianConsensus,DX_08'] = data_pheno['Diagnosis_ClinicianConsensus,DX_08'].fillna('.')\n",
        "data_pheno['Diagnosis_ClinicianConsensus,DX_09'] = data_pheno['Diagnosis_ClinicianConsensus,DX_09'].fillna('.')\n",
        "data_pheno['Diagnosis_ClinicianConsensus,DX_10'] = data_pheno['Diagnosis_ClinicianConsensus,DX_10'].fillna('.')"
      ],
      "metadata": {
        "id": "ne73zVW0J9hN"
      },
      "execution_count": 44,
      "outputs": []
    },
    {
      "cell_type": "code",
      "source": [
        "# work on Diagnosis column\n",
        "# looks like a dot could be no diagnosis as it seems to be consistent across the columns\n",
        "# there are also nan values in confirmed column\n",
        "# throw away this 'No Diagnosis Given: Incomplete Eval'\n",
        "# give 0 to these 'No Diagnosis Given'\n",
        "def diagnosis(df, number):\n",
        "  name_diag = 'Diagnosis_ClinicianConsensus,DX_0' + str(number)\n",
        "  name_conf = 'Diagnosis_ClinicianConsensus,DX_0' + str(number) + '_Confirmed'\n",
        "  diagnosis = df[name_diag].values\n",
        "  confirmed = df[name_conf].values\n",
        "\n",
        "  dyslexia = []\n",
        "  new_diagnosis = []\n",
        "  for i in range(0, df.shape[0]):\n",
        "    # if it's '.', ' ' value or incomplete eval\n",
        "    if diagnosis[i] == '.' or diagnosis[i] == ' ':\n",
        "      dyslexia.append('.')\n",
        "      new_diagnosis.append('.')\n",
        "    elif  'Incomplete' in diagnosis[i]:\n",
        "      dyslexia.append('Incomplete')\n",
        "      new_diagnosis.append('Incomplete')\n",
        "    # if it is no diagnisis given\n",
        "    elif diagnosis[i] == 'No Diagnosis Given':\n",
        "      dyslexia.append('Control')\n",
        "      new_diagnosis.append('Control')\n",
        "    # if it's SLD\n",
        "    elif 'Specific Learning Disorder with' in diagnosis[i]:\n",
        "      if confirmed[i] != '0':\n",
        "        dyslexia.append('dys')\n",
        "        new_diagnosis.append(diagnosis[i])\n",
        "      elif confirmed[i] == '0':\n",
        "        dyslexia.append(0)\n",
        "        new_diagnosis.append(0)\n",
        "    # if some other diagnosis\n",
        "    else:\n",
        "      if confirmed[i] != '0':\n",
        "        dyslexia.append(0)\n",
        "        new_diagnosis.append(diagnosis[i])\n",
        "      elif confirmed[i] == '0':\n",
        "        dyslexia.append(0)\n",
        "        new_diagnosis.append(0)\n",
        "\n",
        "  return dyslexia, new_diagnosis"
      ],
      "metadata": {
        "id": "QVbnLuo6f3it"
      },
      "execution_count": 45,
      "outputs": []
    },
    {
      "cell_type": "code",
      "source": [
        "all_diagnosis = {}\n",
        "all_dys = {}\n",
        "for i in range(1, 10):\n",
        "  dyslexia, new_diagnosis = diagnosis(data_pheno, i)\n",
        "  all_dys['diag_%s' % i] = dyslexia\n",
        "  all_diagnosis['diag_%s' % i] = new_diagnosis"
      ],
      "metadata": {
        "id": "EX9j62SAidNY"
      },
      "execution_count": 46,
      "outputs": []
    },
    {
      "cell_type": "code",
      "source": [
        "# for pheno data\n",
        "dys_status = []\n",
        "for i in range(0, data_pheno.shape[0]):\n",
        "  participant = []\n",
        "  for sublist in all_dys:\n",
        "    subset = all_dys[sublist][i]\n",
        "    participant.append(subset)\n",
        "\n",
        "  if 'Incomplete' in participant:\n",
        "    dys_status.append('Incomplete')\n",
        "  elif 'Control' in participant:\n",
        "    dys_status.append(0)\n",
        "  elif 'dys' in participant:\n",
        "    dys_status.append(1)\n",
        "  else:\n",
        "    dys_status.append(0)"
      ],
      "metadata": {
        "id": "1j1JtzGW2fB3"
      },
      "execution_count": 47,
      "outputs": []
    },
    {
      "cell_type": "code",
      "source": [
        "# for pheno data\n",
        "all_status = []\n",
        "for i in range(0, data_pheno.shape[0]):\n",
        "  participant = []\n",
        "  add = []\n",
        "  for sublist in all_diagnosis:\n",
        "    subset = all_diagnosis[sublist][i]\n",
        "    participant.append(subset)\n",
        "\n",
        "  if 'Incomplete' in participant:\n",
        "    all_status.append('Incomplete')\n",
        "  elif 'Control' in participant:\n",
        "    all_status.append(0)\n",
        "  else:\n",
        "    for each in participant:\n",
        "      if each != '.' and each != 0:\n",
        "        add.append(each)\n",
        "    if len(add) == 0:\n",
        "      if (i == '.' for i in participant):\n",
        "        all_status.append('.')\n",
        "      else:\n",
        "        print(participant)\n",
        "        print(add)\n",
        "        break\n",
        "    elif len(add) == 1:\n",
        "      all_status.append(add[0])\n",
        "    else:\n",
        "      all_status.append(add)"
      ],
      "metadata": {
        "id": "f-ikTugOkZq5"
      },
      "execution_count": 48,
      "outputs": []
    },
    {
      "cell_type": "code",
      "source": [
        "data_pheno['DD'] = dys_status\n",
        "data_pheno['Diagnosis'] = all_status"
      ],
      "metadata": {
        "id": "pir7LBYOSEkl"
      },
      "execution_count": 49,
      "outputs": []
    },
    {
      "cell_type": "code",
      "source": [
        "# for all data\n",
        "all_diagnosis = {}\n",
        "all_dys = {}\n",
        "for i in range(1, 10):\n",
        "  dyslexia, new_diagnosis = diagnosis(data, i)\n",
        "  all_dys['diag_%s' % i] = dyslexia\n",
        "  all_diagnosis['diag_%s' % i] = new_diagnosis\n",
        "\n",
        "dys_status = []\n",
        "for i in range(0, data.shape[0]):\n",
        "  participant = []\n",
        "  for sublist in all_dys:\n",
        "    subset = all_dys[sublist][i]\n",
        "    participant.append(subset)\n",
        "\n",
        "  if 'Incomplete' in participant:\n",
        "    dys_status.append('Incomplete')\n",
        "  elif 'Control' in participant:\n",
        "    dys_status.append(0)\n",
        "  elif 'dys' in participant:\n",
        "    dys_status.append(1)\n",
        "  else:\n",
        "    dys_status.append(0)\n",
        "\n",
        "all_status = []\n",
        "for i in range(0, data.shape[0]):\n",
        "  participant = []\n",
        "  add = []\n",
        "  for sublist in all_diagnosis:\n",
        "    subset = all_diagnosis[sublist][i]\n",
        "    participant.append(subset)\n",
        "\n",
        "  if 'Incomplete' in participant:\n",
        "    all_status.append('Incomplete')\n",
        "  elif 'Control' in participant:\n",
        "    all_status.append(0)\n",
        "  else:\n",
        "    for each in participant:\n",
        "      if each != '.' and each != 0:\n",
        "        add.append(each)\n",
        "    if len(add) == 0:\n",
        "      if (i == '.' for i in participant):\n",
        "        all_status.append('.')\n",
        "      else:\n",
        "        print(participant)\n",
        "        print(add)\n",
        "        break\n",
        "    elif len(add) == 1:\n",
        "      all_status.append(add[0])\n",
        "    else:\n",
        "      all_status.append(add)"
      ],
      "metadata": {
        "id": "bJNFKETQVhgX"
      },
      "execution_count": 50,
      "outputs": []
    },
    {
      "cell_type": "code",
      "source": [
        "data['DD'] = dys_status\n",
        "data['Diagnosis'] = all_status"
      ],
      "metadata": {
        "id": "XdoRP9DWVizk"
      },
      "execution_count": 51,
      "outputs": []
    },
    {
      "cell_type": "code",
      "source": [
        "for i in range(1,10):\n",
        "  name_diag = 'Diagnosis_ClinicianConsensus,DX_0' + str(i)\n",
        "  name_conf = 'Diagnosis_ClinicianConsensus,DX_0' + str(i) + '_Confirmed'\n",
        "  name_code = 'Diagnosis_ClinicianConsensus,DX_0' + str(i) + '_Code'\n",
        "  data_pheno.drop([name_diag], axis=1, inplace=True)\n",
        "  data_pheno.drop([name_conf], axis=1, inplace=True)\n",
        "  data_pheno.drop([name_code], axis=1, inplace=True)\n",
        "data_pheno.drop(['Diagnosis_ClinicianConsensus,DX_10'], axis=1, inplace=True)\n",
        "data_pheno.drop(['Diagnosis_ClinicianConsensus,DX_10_Code'], axis=1, inplace=True)\n",
        "data_pheno.drop(['Diagnosis_ClinicianConsensus,DX_10_Confirmed'], axis=1, inplace=True)"
      ],
      "metadata": {
        "id": "HhH0Gxpyl8KD"
      },
      "execution_count": 52,
      "outputs": []
    },
    {
      "cell_type": "code",
      "source": [
        "for i in range(1,10):\n",
        "  name_diag = 'Diagnosis_ClinicianConsensus,DX_0' + str(i)\n",
        "  name_conf = 'Diagnosis_ClinicianConsensus,DX_0' + str(i) + '_Confirmed'\n",
        "  name_code = 'Diagnosis_ClinicianConsensus,DX_0' + str(i) + '_Code'\n",
        "  data.drop([name_diag], axis=1, inplace=True)\n",
        "  data.drop([name_conf], axis=1, inplace=True)\n",
        "  data.drop([name_code], axis=1, inplace=True)\n",
        "data.drop(['Diagnosis_ClinicianConsensus,DX_10'], axis=1, inplace=True)\n",
        "data.drop(['Diagnosis_ClinicianConsensus,DX_10_Code'], axis=1, inplace=True)\n",
        "data.drop(['Diagnosis_ClinicianConsensus,DX_10_Confirmed'], axis=1, inplace=True)"
      ],
      "metadata": {
        "id": "ULH8IqPOWllD"
      },
      "execution_count": 53,
      "outputs": []
    },
    {
      "cell_type": "code",
      "source": [
        "print('Control subjects')\n",
        "print(data[(data['DD'] == 0) & (data['Diagnosis'] == 0)].shape[0])\n",
        "print('Disorders w/out DD')\n",
        "print(data[(data['DD'] == 0) & (data['Diagnosis'] != 0)].shape[0])\n",
        "print('Disorders w DD')\n",
        "print(data[data['DD'] == 1].shape[0])"
      ],
      "metadata": {
        "id": "95ks0qPKZjZB",
        "outputId": "f6e722a1-4917-4280-89d2-27b986b07801",
        "colab": {
          "base_uri": "https://localhost:8080/"
        }
      },
      "execution_count": 54,
      "outputs": [
        {
          "output_type": "stream",
          "name": "stdout",
          "text": [
            "Control subjects\n",
            "373\n",
            "Disorders w/out DD\n",
            "3320\n",
            "Disorders w DD\n",
            "649\n"
          ]
        }
      ]
    },
    {
      "cell_type": "code",
      "source": [
        "print('Control subjects')\n",
        "print(data_pheno[(data_pheno['DD'] == 0) & (data_pheno['Diagnosis'] == 0)].shape[0])\n",
        "print('Disorders w/out DD')\n",
        "print(data_pheno[(data_pheno['DD'] == 0) & (data_pheno['Diagnosis'] != 0)].shape[0])\n",
        "print('Disorders w DD')\n",
        "print(data_pheno[data_pheno['DD'] == 1].shape[0])"
      ],
      "metadata": {
        "id": "pXtfy0QQZz0R",
        "outputId": "5efbfcc2-ea41-426a-add9-7ed06fdfda20",
        "colab": {
          "base_uri": "https://localhost:8080/"
        }
      },
      "execution_count": 55,
      "outputs": [
        {
          "output_type": "stream",
          "name": "stdout",
          "text": [
            "Control subjects\n",
            "307\n",
            "Disorders w/out DD\n",
            "2512\n",
            "Disorders w DD\n",
            "524\n"
          ]
        }
      ]
    },
    {
      "cell_type": "code",
      "source": [
        "new_diag = []\n",
        "new_dtypes = []\n",
        "diag = data.Diagnosis.values\n",
        "for i in diag:\n",
        "  if i == 0:\n",
        "    new_diag.append(i)\n",
        "    new_dtypes.append(i)\n",
        "  # one diagnosis\n",
        "  elif type(i) == str:\n",
        "    if 'Specific Learning Disorder with Impairment' in i:\n",
        "      new_diag.append('SLD')\n",
        "      if 'Reading' in i:\n",
        "        new_dtypes.append('Reading')\n",
        "      elif 'Written' in i:\n",
        "        new_dtypes.append('Writing')\n",
        "      elif 'Mathematics' in i:\n",
        "        new_dtypes.append('Math')\n",
        "    else:\n",
        "      new_diag.append(i)\n",
        "      new_dtypes.append(0)\n",
        "  # multiple diagnoses\n",
        "  elif type(i) == list:\n",
        "    name_diag = ''\n",
        "    name_dys = ''\n",
        "    for element in i:\n",
        "      if 'Specific Learning Disorder with Impairment' in element:\n",
        "        name_diag = name_diag + 'SLD' + '. '\n",
        "        if 'Reading' in element:\n",
        "          name_dys = name_dys + 'Reading '\n",
        "        elif 'Written' in element:\n",
        "          name_dys = name_dys + 'Writing '\n",
        "        elif 'Mathematics' in element:\n",
        "          name_dys = name_dys + 'Math '\n",
        "      elif type(element) is str:\n",
        "        name_diag = name_diag + element + '.'\n",
        "      else:\n",
        "        print(i)\n",
        "        break\n",
        "    if name_diag == '':\n",
        "      print(i)\n",
        "      break\n",
        "    new_diag.append(name_diag)\n",
        "\n",
        "    if name_dys == '':\n",
        "      new_dtypes.append(0)\n",
        "    else:\n",
        "      new_dtypes.append(name_dys)"
      ],
      "metadata": {
        "id": "9DBzegrJahCQ"
      },
      "execution_count": 56,
      "outputs": []
    },
    {
      "cell_type": "code",
      "source": [
        "data['Diagnosis'] = new_diag\n",
        "data['DD type'] = new_dtypes"
      ],
      "metadata": {
        "id": "3F_wRREne6dT"
      },
      "execution_count": 57,
      "outputs": []
    },
    {
      "cell_type": "code",
      "source": [
        "#for pheno data\n",
        "new_diag = []\n",
        "new_dtypes = []\n",
        "diag = data_pheno.Diagnosis.values\n",
        "for i in diag:\n",
        "  if i == 0:\n",
        "    new_diag.append(i)\n",
        "    new_dtypes.append(i)\n",
        "  # one diagnosis\n",
        "  elif type(i) == str:\n",
        "    if 'Specific Learning Disorder with Impairment' in i:\n",
        "      new_diag.append('SLD')\n",
        "      if 'Reading' in i:\n",
        "        new_dtypes.append('Reading')\n",
        "      elif 'Written' in i:\n",
        "        new_dtypes.append('Writing')\n",
        "      elif 'Mathematics' in i:\n",
        "        new_dtypes.append('Math')\n",
        "    else:\n",
        "      new_diag.append(i)\n",
        "      new_dtypes.append(0)\n",
        "  # multiple diagnoses\n",
        "  elif type(i) == list:\n",
        "    name_diag = ''\n",
        "    name_dys = ''\n",
        "    for element in i:\n",
        "      if 'Specific Learning Disorder with Impairment' in element:\n",
        "        name_diag = name_diag + 'SLD' + '. '\n",
        "        if 'Reading' in element:\n",
        "          name_dys = name_dys + 'Reading '\n",
        "        elif 'Written' in element:\n",
        "          name_dys = name_dys + 'Writing '\n",
        "        elif 'Mathematics' in element:\n",
        "          name_dys = name_dys + 'Math '\n",
        "      elif type(element) is str:\n",
        "        name_diag = name_diag + element + '.'\n",
        "      else:\n",
        "        print(i)\n",
        "        break\n",
        "    if name_diag == '':\n",
        "      print(i)\n",
        "      break\n",
        "    new_diag.append(name_diag)\n",
        "\n",
        "    if name_dys == '':\n",
        "      new_dtypes.append(0)\n",
        "    else:\n",
        "      new_dtypes.append(name_dys)"
      ],
      "metadata": {
        "id": "uJpRuGOQfDvz"
      },
      "execution_count": 58,
      "outputs": []
    },
    {
      "cell_type": "code",
      "source": [
        "data_pheno['Diagnosis'] = new_diag\n",
        "data_pheno['DD type'] = new_dtypes"
      ],
      "metadata": {
        "id": "3wG0qNZRfHvC"
      },
      "execution_count": 59,
      "outputs": []
    },
    {
      "cell_type": "code",
      "source": [
        "def meds(df, number):\n",
        "  medname = 'DailyMeds,med_name_0' + str(number)\n",
        "  meds = df[medname].values\n",
        "  new_meds = []\n",
        "\n",
        "  for i in range(0, df.shape[0]):\n",
        "    if meds[i] == '.':\n",
        "      new_meds.append(0)\n",
        "    elif type(meds[i]) == float:\n",
        "      new_meds.append(0)\n",
        "    elif type(meds[i]) == str:\n",
        "      new_meds.append(meds[i])\n",
        "    else:\n",
        "      print(meds[i], i)\n",
        "      break\n",
        "  return new_meds"
      ],
      "metadata": {
        "id": "y3Y8GkTGOOB9"
      },
      "execution_count": 60,
      "outputs": []
    },
    {
      "cell_type": "code",
      "source": [
        "all_meds = {}\n",
        "for i in range(1, 4):\n",
        "  all_meds['med_%s' % i] = meds(data, i)"
      ],
      "metadata": {
        "id": "ufmhhKVvPHDa"
      },
      "execution_count": 61,
      "outputs": []
    },
    {
      "cell_type": "code",
      "source": [
        "meds_in_one = []\n",
        "for i in range(0, data.shape[0]):\n",
        "  participant = []\n",
        "  for sublist in all_meds:\n",
        "    subset = all_meds[sublist][i]\n",
        "    if type(subset) == str:\n",
        "      participant.append(subset)\n",
        "  if len(participant) == 0:\n",
        "    meds_in_one.append(0)\n",
        "  elif len(participant) == 1:\n",
        "    meds_in_one.append(participant[0])\n",
        "  else:\n",
        "    name = ''\n",
        "    for part in participant:\n",
        "      name = name + part + ' '\n",
        "    meds_in_one.append(name)"
      ],
      "metadata": {
        "id": "NdsIsF2yP5xK"
      },
      "execution_count": 62,
      "outputs": []
    },
    {
      "cell_type": "code",
      "source": [
        "data['Medicine'] = meds_in_one"
      ],
      "metadata": {
        "id": "nokonDf4RMXd"
      },
      "execution_count": 63,
      "outputs": []
    },
    {
      "cell_type": "code",
      "source": [
        "# for pheno data\n",
        "all_meds = {}\n",
        "for i in range(1, 4):\n",
        "  all_meds['med_%s' % i] = meds(data_pheno, i)\n",
        "\n",
        "meds_in_one = []\n",
        "for i in range(0, data_pheno.shape[0]):\n",
        "  participant = []\n",
        "  for sublist in all_meds:\n",
        "    subset = all_meds[sublist][i]\n",
        "    if type(subset) == str:\n",
        "      participant.append(subset)\n",
        "  if len(participant) == 0:\n",
        "    meds_in_one.append(0)\n",
        "  elif len(participant) == 1:\n",
        "    meds_in_one.append(participant[0])\n",
        "  else:\n",
        "    name = ''\n",
        "    for part in participant:\n",
        "      name = name + part + ' '\n",
        "    meds_in_one.append(name)"
      ],
      "metadata": {
        "id": "2rpbWTO1gnTO"
      },
      "execution_count": 64,
      "outputs": []
    },
    {
      "cell_type": "code",
      "source": [
        "data_pheno['Medicine'] = meds_in_one"
      ],
      "metadata": {
        "id": "Iek1Sa_cgu4U"
      },
      "execution_count": 65,
      "outputs": []
    },
    {
      "cell_type": "code",
      "source": [
        "for i in range(1,4):\n",
        "  name_med = 'DailyMeds,med_name_0' + str(i)\n",
        "  name_dose = 'DailyMeds,med_dose_0' + str(i)\n",
        "  data_pheno.drop([name_med], axis=1, inplace=True)\n",
        "  data_pheno.drop([name_dose], axis=1, inplace=True)"
      ],
      "metadata": {
        "id": "LJGsKx-JTm2h"
      },
      "execution_count": 66,
      "outputs": []
    },
    {
      "cell_type": "markdown",
      "source": [
        "Working with the DD type columns"
      ],
      "metadata": {
        "id": "49bc1LLWDJZb"
      }
    },
    {
      "cell_type": "code",
      "source": [
        "dd = data['DD type'].values\n",
        "new_dd = []\n",
        "for i in dd:\n",
        "  if i == 'Reading ' or i == 'Reading Reading ':\n",
        "    new_dd.append('Reading')\n",
        "  elif i == 'Reading Writing Math ' or i == 'Reading Math Writing ':\n",
        "    new_dd.append('Reading, Writing, Math')\n",
        "  elif i == 'Reading Math ' or i == 'Reading Math Math ' or i == 'Math Reading Reading ' or i == 'Math Reading ':\n",
        "    new_dd.append('Reading, Math')\n",
        "  elif i == 'Math ':\n",
        "    new_dd.append('Math')\n",
        "  elif i == 'Writing ':\n",
        "    new_dd.append('Writing')\n",
        "  elif i == 'Reading Writing ':\n",
        "    new_dd.append('Reading, Writing')\n",
        "  elif i == 'Math Writing ' or i == 'Writing Math ':\n",
        "    new_dd.append('Writing, Math')\n",
        "  else:\n",
        "    new_dd.append(i)"
      ],
      "metadata": {
        "id": "23OMCV6gDPXr"
      },
      "execution_count": 67,
      "outputs": []
    },
    {
      "cell_type": "code",
      "source": [
        "data['DD type'] = new_dd"
      ],
      "metadata": {
        "id": "QpB_bk5FHXH1"
      },
      "execution_count": 68,
      "outputs": []
    },
    {
      "cell_type": "code",
      "source": [
        "dd = data_pheno['DD type'].values\n",
        "new_dd = []\n",
        "for i in dd:\n",
        "  if i == 'Reading ' or i == 'Reading Reading ':\n",
        "    new_dd.append('Reading')\n",
        "  elif i == 'Reading Writing Math ' or i == 'Reading Math Writing ':\n",
        "    new_dd.append('Reading, Writing, Math')\n",
        "  elif i == 'Reading Math ' or i == 'Reading Math Math ' or i == 'Math Reading Reading ' or i == 'Math Reading ':\n",
        "    new_dd.append('Reading, Math')\n",
        "  elif i == 'Math ':\n",
        "    new_dd.append('Math')\n",
        "  elif i == 'Writing ':\n",
        "    new_dd.append('Writing')\n",
        "  elif i == 'Reading Writing ':\n",
        "    new_dd.append('Reading, Writing')\n",
        "  elif i == 'Math Writing ' or i == 'Writing Math ':\n",
        "    new_dd.append('Writing, Math')\n",
        "  else:\n",
        "    new_dd.append(i)"
      ],
      "metadata": {
        "id": "CSK_q2fiHd0d"
      },
      "execution_count": 69,
      "outputs": []
    },
    {
      "cell_type": "code",
      "source": [
        "data_pheno['DD type'] = new_dd"
      ],
      "metadata": {
        "id": "_GhzrhELHgCP"
      },
      "execution_count": 70,
      "outputs": []
    },
    {
      "cell_type": "code",
      "source": [
        "# adding the status of patients to exclude the cases with the diagnosis but w/out DD\n",
        "status = []\n",
        "dd = data['DD'].values\n",
        "diag = data['Diagnosis'].values\n",
        "for i in range(0, data.shape[0]):\n",
        "  if dd[i] == 1:\n",
        "    if diag[i] == 'SLD':\n",
        "      status.append('only DD')\n",
        "    elif 'Autism' in diag[i] or 'Intellectual' in diag[i]:\n",
        "      status.append('DD with autism or intellectual')\n",
        "    else:\n",
        "      status.append('DD with comorbidities')\n",
        "  else:\n",
        "    if diag[i] == 0:\n",
        "      status.append('control')\n",
        "    else:\n",
        "      status.append('without DD')"
      ],
      "metadata": {
        "id": "Aa1-s-AwIsSS"
      },
      "execution_count": 71,
      "outputs": []
    },
    {
      "cell_type": "code",
      "source": [
        "data['Status'] = status"
      ],
      "metadata": {
        "id": "aQhEIZ1HNHRV"
      },
      "execution_count": 72,
      "outputs": []
    },
    {
      "cell_type": "code",
      "source": [
        "status = []\n",
        "dd = data_pheno['DD'].values\n",
        "diag = data_pheno['Diagnosis'].values\n",
        "for i in range(0, data_pheno.shape[0]):\n",
        "  if dd[i] == 1:\n",
        "    if diag[i] == 'SLD':\n",
        "      status.append('only DD')\n",
        "    elif 'Autism' in diag[i] or 'Intellectual' in diag[i]:\n",
        "      status.append('DD with autism or intellectual')\n",
        "    else:\n",
        "      status.append('DD with comorbidities')\n",
        "  else:\n",
        "    if diag[i] == 0:\n",
        "      status.append('control')\n",
        "    else:\n",
        "      status.append('without DD')"
      ],
      "metadata": {
        "id": "i2dnDwi7NfUk"
      },
      "execution_count": 73,
      "outputs": []
    },
    {
      "cell_type": "code",
      "source": [
        "data_pheno['Status'] = status"
      ],
      "metadata": {
        "id": "Ofq2vS1pNWjH"
      },
      "execution_count": 74,
      "outputs": []
    },
    {
      "cell_type": "markdown",
      "source": [
        "## Exclusion"
      ],
      "metadata": {
        "id": "SKLY8kv0GHLO"
      }
    },
    {
      "cell_type": "markdown",
      "source": [
        "From now on let's just work with the full version. Reduced version is the following"
      ],
      "metadata": {
        "id": "Us0ZpbnUBiU0"
      }
    },
    {
      "cell_type": "code",
      "source": [
        "data_filtered = data.copy() # full\n",
        "data_filtered_pheno = data_pheno.copy() # reduced"
      ],
      "metadata": {
        "id": "BDavNtBpXy1W"
      },
      "execution_count": 75,
      "outputs": []
    },
    {
      "cell_type": "code",
      "source": [
        "# data full\n",
        "# leaving only right-handed\n",
        "data_filtered = data_filtered[data_filtered['EHQ,EHQ_Total'] != '.']\n",
        "data_filtered['EHQ,EHQ_Total'] = data_filtered['EHQ,EHQ_Total'].astype(float)\n",
        "data_filtered = data_filtered[data_filtered['EHQ,EHQ_Total'] >= 40]\n",
        "\n",
        "# data reduced\n",
        "# leaving only right-handed\n",
        "data_filtered_pheno = data_filtered_pheno[data_filtered_pheno['EHQ,EHQ_Total'] != '.']\n",
        "data_filtered_pheno['EHQ,EHQ_Total'] = data_filtered_pheno['EHQ,EHQ_Total'].astype(float)\n",
        "data_filtered_pheno = data_filtered_pheno[data_filtered_pheno['EHQ,EHQ_Total'] >= 40]"
      ],
      "metadata": {
        "id": "_tWi-3-jWxRg",
        "outputId": "f79541f4-213d-437c-f4ca-ed44fb2200ee",
        "colab": {
          "base_uri": "https://localhost:8080/"
        }
      },
      "execution_count": 76,
      "outputs": [
        {
          "output_type": "stream",
          "name": "stderr",
          "text": [
            "<ipython-input-76-0b34ac848839>:4: SettingWithCopyWarning: \n",
            "A value is trying to be set on a copy of a slice from a DataFrame.\n",
            "Try using .loc[row_indexer,col_indexer] = value instead\n",
            "\n",
            "See the caveats in the documentation: https://pandas.pydata.org/pandas-docs/stable/user_guide/indexing.html#returning-a-view-versus-a-copy\n",
            "  data_filtered['EHQ,EHQ_Total'] = data_filtered['EHQ,EHQ_Total'].astype(float)\n"
          ]
        }
      ]
    },
    {
      "cell_type": "code",
      "source": [
        "# data full\n",
        "# without Math, Writing, Math+Writing in DD diagnosis\n",
        "data_filtered = data_filtered[data_filtered['DD type'] != 'Math']\n",
        "data_filtered = data_filtered[data_filtered['DD type'] != 'Writing']\n",
        "data_filtered = data_filtered[data_filtered['DD type'] != 'Writing, Math']\n",
        "\n",
        "# data reduced\n",
        "# without Math, Writing, Math+Writing in DD diagnosis\n",
        "data_filtered_pheno = data_filtered_pheno[data_filtered_pheno['DD type'] != 'Math']\n",
        "data_filtered_pheno = data_filtered_pheno[data_filtered_pheno['DD type'] != 'Writing']\n",
        "data_filtered_pheno = data_filtered_pheno[data_filtered_pheno['DD type'] != 'Writing, Math']"
      ],
      "metadata": {
        "id": "cd8tC0UBH95E"
      },
      "execution_count": 77,
      "outputs": []
    },
    {
      "cell_type": "code",
      "source": [
        "# data full\n",
        "# excluding people older than 18\n",
        "data_filtered = data_filtered[data_filtered['Basic_Demos,Age'] <= 18]\n",
        "\n",
        "# data reduced\n",
        "data_filtered_pheno = data_filtered_pheno[data_filtered_pheno['Basic_Demos,Age'] <= 18]"
      ],
      "metadata": {
        "id": "p1HIlfhAIP67"
      },
      "execution_count": 78,
      "outputs": []
    },
    {
      "cell_type": "code",
      "source": [
        "# data full\n",
        "# excluding people who have some medicine recorded\n",
        "data_filtered = data_filtered[data_filtered['Medicine'] == 0]\n",
        "\n",
        "# data reduced\n",
        "data_filtered_pheno = data_filtered_pheno[data_filtered_pheno['Medicine'] == 0]"
      ],
      "metadata": {
        "id": "MQLMitlBIV5a"
      },
      "execution_count": 79,
      "outputs": []
    },
    {
      "cell_type": "code",
      "source": [
        "# data full\n",
        "# excluding those who are not controls or people with dd\n",
        "data_filtered = data_filtered[data_filtered['Status'] != 'without DD']\n",
        "\n",
        "# data reduced\n",
        "data_filtered_pheno = data_filtered_pheno[data_filtered_pheno['Status'] != 'without DD']"
      ],
      "metadata": {
        "id": "lNyLp8vRIi57"
      },
      "execution_count": 80,
      "outputs": []
    },
    {
      "cell_type": "code",
      "source": [
        "# data full\n",
        "# excluding those with autism and intellectual disorder\n",
        "data_filtered = data_filtered[data_filtered['Status'] != 'DD with autism or intellectual']\n",
        "\n",
        "# data reduced\n",
        "data_filtered_pheno = data_filtered_pheno[data_filtered_pheno['Status'] != 'DD with autism or intellectual']"
      ],
      "metadata": {
        "id": "ClHulJ4RObos"
      },
      "execution_count": 81,
      "outputs": []
    },
    {
      "cell_type": "markdown",
      "source": [
        "Standardizing the IQ scores and Excluding people with the IQ scores less than 70. The main test is WISC. All others are additional."
      ],
      "metadata": {
        "id": "qssmlJVdWbYG"
      }
    },
    {
      "cell_type": "code",
      "source": [
        "# data full\n",
        "# substituting rare nan values with '.' for the standardisation of missing values\n",
        "data_filtered['KBIT,KBIT_IQ_Comp'] = data_filtered['KBIT,KBIT_IQ_Comp'].fillna('.')\n",
        "data_filtered['WASI,WASI_FSIQ'] = data_filtered['WASI,WASI_FSIQ'].fillna('.')\n",
        "data_filtered['WAIS,WAIS_FSIQ_SCALE'] = data_filtered['WAIS,WAIS_FSIQ_SCALE'].fillna('.')\n",
        "data_filtered['WISC,WISC_FSIQ'] = data_filtered['WISC,WISC_FSIQ'].fillna('.')"
      ],
      "metadata": {
        "id": "GE-mrHMjgzsG"
      },
      "execution_count": 82,
      "outputs": []
    },
    {
      "cell_type": "code",
      "source": [
        "# data reduced\n",
        "data_filtered_pheno['KBIT,KBIT_IQ_Comp'] = data_filtered_pheno['KBIT,KBIT_IQ_Comp'].fillna('.')\n",
        "data_filtered_pheno['WASI,WASI_FSIQ'] = data_filtered_pheno['WASI,WASI_FSIQ'].fillna('.')\n",
        "data_filtered_pheno['WAIS,WAIS_FSIQ_SCALE'] = data_filtered_pheno['WAIS,WAIS_FSIQ_SCALE'].fillna('.')\n",
        "data_filtered_pheno['WISC,WISC_FSIQ'] = data_filtered_pheno['WISC,WISC_FSIQ'].fillna('.')"
      ],
      "metadata": {
        "id": "5-2pgqe3KnKB"
      },
      "execution_count": 93,
      "outputs": []
    },
    {
      "cell_type": "code",
      "source": [
        "# data full\n",
        "reference_test = []\n",
        "iq_value = []\n",
        "wisc = data_filtered['WISC,WISC_FSIQ'].values\n",
        "kbit = data_filtered['KBIT,KBIT_IQ_Comp'].values\n",
        "wasi = data_filtered['WASI,WASI_FSIQ'].values\n",
        "wais = data_filtered['WAIS,WAIS_FSIQ_SCALE'].values\n",
        "age = data_filtered['Basic_Demos,Age'].values\n",
        "\n",
        "for i in range(0, data_filtered.shape[0]):\n",
        "  # if there are no iq results\n",
        "  if wisc[i] == '.' and kbit[i] == '.' and wais[i] == '.' and wasi[i] == '.':\n",
        "    iq_value.append('none')\n",
        "    reference_test.append('none')\n",
        "  # if we have wisc\n",
        "  elif wisc[i] != '.':\n",
        "    if kbit[i] == '.':\n",
        "      iq_value.append(int(wisc[i]))\n",
        "      reference_test.append('wisc')\n",
        "    # if we also have kbit\n",
        "    else:\n",
        "      if age[i] < 6:\n",
        "        iq_value.append(int(kbit[i]))\n",
        "        reference_test.append('kbit')\n",
        "      else:\n",
        "        iq_value.append(int(wisc[i]))\n",
        "        reference_test.append('wisc')\n",
        "  # if we don't have wisc\n",
        "  else:\n",
        "    if kbit[i] != '.' and wasi[i] != '.':\n",
        "      if int(wasi[i]) > 70:\n",
        "        iq_value.append(int(wasi[i]))\n",
        "        reference_test.append('wasi')\n",
        "      else:\n",
        "        iq_value.append(int(kbit[i]))\n",
        "        reference_test.append('kbit')\n",
        "    elif kbit[i] != '.':\n",
        "      iq_value.append(int(kbit[i]))\n",
        "      reference_test.append('kbit')\n",
        "    elif wasi[i] != '.':\n",
        "      iq_value.append(int(wasi[i]))\n",
        "      reference_test.append('wasi')\n",
        "    elif wais[i] != '.':\n",
        "      iq_value.append(int(wais[i]))\n",
        "      reference_test.append('wais')"
      ],
      "metadata": {
        "id": "ISliL9sLYeWG"
      },
      "execution_count": 83,
      "outputs": []
    },
    {
      "cell_type": "code",
      "source": [
        "data_filtered['IQ'] = iq_value\n",
        "data_filtered['Test'] = reference_test"
      ],
      "metadata": {
        "id": "4UJUqyl0pj5d"
      },
      "execution_count": 84,
      "outputs": []
    },
    {
      "cell_type": "code",
      "source": [
        "# data reduced\n",
        "reference_test = []\n",
        "iq_value = []\n",
        "wisc = data_filtered_pheno['WISC,WISC_FSIQ'].values\n",
        "kbit = data_filtered_pheno['KBIT,KBIT_IQ_Comp'].values\n",
        "wasi = data_filtered_pheno['WASI,WASI_FSIQ'].values\n",
        "wais = data_filtered_pheno['WAIS,WAIS_FSIQ_SCALE'].values\n",
        "age = data_filtered_pheno['Basic_Demos,Age'].values\n",
        "\n",
        "for i in range(0, data_filtered_pheno.shape[0]):\n",
        "  # if there are no iq results\n",
        "  if wisc[i] == '.' and kbit[i] == '.' and wais[i] == '.' and wasi[i] == '.':\n",
        "    iq_value.append('none')\n",
        "    reference_test.append('none')\n",
        "  # if we have wisc\n",
        "  elif wisc[i] != '.':\n",
        "    if kbit[i] == '.':\n",
        "      iq_value.append(int(wisc[i]))\n",
        "      reference_test.append('wisc')\n",
        "    # if we also have kbit\n",
        "    else:\n",
        "      if age[i] < 6:\n",
        "        iq_value.append(int(kbit[i]))\n",
        "        reference_test.append('kbit')\n",
        "      else:\n",
        "        iq_value.append(int(wisc[i]))\n",
        "        reference_test.append('wisc')\n",
        "  # if we don't have wisc\n",
        "  else:\n",
        "    if kbit[i] != '.' and wasi[i] != '.':\n",
        "      if int(wasi[i]) > 70:\n",
        "        iq_value.append(int(wasi[i]))\n",
        "        reference_test.append('wasi')\n",
        "      else:\n",
        "        iq_value.append(int(kbit[i]))\n",
        "        reference_test.append('kbit')\n",
        "    elif kbit[i] != '.':\n",
        "      iq_value.append(int(kbit[i]))\n",
        "      reference_test.append('kbit')\n",
        "    elif wasi[i] != '.':\n",
        "      iq_value.append(int(wasi[i]))\n",
        "      reference_test.append('wasi')\n",
        "    elif wais[i] != '.':\n",
        "      iq_value.append(int(wais[i]))\n",
        "      reference_test.append('wais')"
      ],
      "metadata": {
        "id": "275YtIKNKuep"
      },
      "execution_count": 94,
      "outputs": []
    },
    {
      "cell_type": "code",
      "source": [
        "data_filtered_pheno['IQ'] = iq_value\n",
        "data_filtered_pheno['Test'] = reference_test"
      ],
      "metadata": {
        "id": "PmDsYBgNKyDB"
      },
      "execution_count": 95,
      "outputs": []
    },
    {
      "cell_type": "code",
      "source": [
        "# data full\n",
        "# deleting people with no iq\n",
        "data_filtered = data_filtered[data_filtered['IQ'] != 'none']\n",
        "\n",
        "# data reduced\n",
        "data_filtered_pheno = data_filtered_pheno[data_filtered_pheno['IQ'] != 'none']"
      ],
      "metadata": {
        "id": "TbJrfkf6REXe"
      },
      "execution_count": 85,
      "outputs": []
    },
    {
      "cell_type": "code",
      "source": [
        "# data full\n",
        "# deleting people with iq < 70\n",
        "data_filtered = data_filtered[data_filtered['IQ'] >= 70]\n",
        "\n",
        "# data reduced\n",
        "data_filtered_pheno = data_filtered_pheno[data_filtered_pheno['IQ'] >= 70]"
      ],
      "metadata": {
        "id": "7BjXOm-WQDpH"
      },
      "execution_count": 86,
      "outputs": []
    },
    {
      "cell_type": "code",
      "source": [
        "# data full\n",
        "# excluding amphetamines, benzaozepines, tca, thc\n",
        "data_filtered = data_filtered[data_filtered['DrugScreen,AMP500'] != '1']\n",
        "data_filtered = data_filtered[data_filtered['DrugScreen,TCA1000'] != '1']\n",
        "data_filtered = data_filtered[data_filtered['DrugScreen,THC50'] != '1']\n",
        "\n",
        "# data reduced\n",
        "data_filtered_pheno = data_filtered_pheno[data_filtered_pheno['DrugScreen,AMP500'] != '1']\n",
        "data_filtered_pheno = data_filtered_pheno[data_filtered_pheno['DrugScreen,TCA1000'] != '1']\n",
        "data_filtered_pheno = data_filtered_pheno[data_filtered_pheno['DrugScreen,THC50'] != '1']"
      ],
      "metadata": {
        "id": "LjUjle3xAN1p"
      },
      "execution_count": 98,
      "outputs": []
    },
    {
      "cell_type": "code",
      "source": [
        "# checking the CTOPP results\n",
        "# 68 people do not have CTOPP results\n",
        "# excluding people with missing results\n",
        "names = ['CTOPP,CTOPP_BW_D', 'CTOPP,CTOPP_BW_P', 'CTOPP,CTOPP_BW_R',\n",
        "       'CTOPP,CTOPP_BW_S', 'CTOPP,CTOPP_EL_D', 'CTOPP,CTOPP_EL_P',\n",
        "       'CTOPP,CTOPP_EL_R', 'CTOPP,CTOPP_EL_S', 'CTOPP,CTOPP_NR_D',\n",
        "       'CTOPP,CTOPP_NR_P', 'CTOPP,CTOPP_NR_R', 'CTOPP,CTOPP_NR_S',\n",
        "       'CTOPP,CTOPP_RD_D', 'CTOPP,CTOPP_RD_P', 'CTOPP,CTOPP_RD_R',\n",
        "       'CTOPP,CTOPP_RD_S', 'CTOPP,CTOPP_RL_D', 'CTOPP,CTOPP_RL_P',\n",
        "       'CTOPP,CTOPP_RL_R', 'CTOPP,CTOPP_RL_S', 'CTOPP,CTOPP_RO_D',\n",
        "       'CTOPP,CTOPP_RO_P', 'CTOPP,CTOPP_RO_R', 'CTOPP,CTOPP_RO_S',\n",
        "       'CTOPP,CTOPP_RSN_Comp', 'CTOPP,CTOPP_RSN_D', 'CTOPP,CTOPP_RSN_P',\n",
        "       'CTOPP,CTOPP_RSN_Sum']\n",
        "\n",
        "# data full\n",
        "for i in names:\n",
        "  data_filtered[i] = data_filtered[i].fillna('.')\n",
        "\n",
        "# data reduced\n",
        "for i in names:\n",
        "  data_filtered_pheno[i] = data_filtered_pheno[i].fillna('.')"
      ],
      "metadata": {
        "id": "ATqoET4CRyUI"
      },
      "execution_count": 99,
      "outputs": []
    },
    {
      "cell_type": "code",
      "source": [
        "# let's figure out which identifiers are missing all of the data points\n",
        "data_list = []\n",
        "\n",
        "for name in names:\n",
        "\n",
        "\n",
        "    # Create a dictionary with column names as keys and corresponding values from the split string\n",
        "    data = {\n",
        "        'Column 1': split_string[0],\n",
        "        'Column 2': split_string[1],\n",
        "        'Column 3': split_string[2],\n",
        "        'Column 4': split_string[3],\n",
        "        'Column 5': split_string[4],\n",
        "        'Column 6': split_string[5],\n",
        "        'Column 7': split_string[6],\n",
        "        'Column 8': split_string[7],\n",
        "        'Column 9': split_string[8],\n",
        "        'Column 10': split_string[9],\n",
        "        'Column 11': split_string[10],\n",
        "        'Column 12': split_string[11],\n",
        "        'Column 13': split_string[12],\n",
        "        'Column 14': split_string[13],\n",
        "        'Column 15': split_string[14],\n",
        "        'Column 16': split_string[15],\n",
        "        'Column 17': split_string[16],\n",
        "        'Column 18': split_string[17],\n",
        "        'Column 19': split_string[18],\n",
        "        'Column 20': split_string[19],\n",
        "        'Column 21': split_string[20]\n",
        "    }"
      ],
      "metadata": {
        "id": "EfEX7qRkMR3i"
      },
      "execution_count": null,
      "outputs": []
    },
    {
      "cell_type": "code",
      "source": [
        "data_filtered[['Identifiers', 'CTOPP,CTOPP_BW_D', 'CTOPP,CTOPP_BW_P', 'CTOPP,CTOPP_BW_R',\n",
        "       'CTOPP,CTOPP_BW_S', 'CTOPP,CTOPP_EL_D', 'CTOPP,CTOPP_EL_P',\n",
        "       'CTOPP,CTOPP_EL_R', 'CTOPP,CTOPP_EL_S', 'CTOPP,CTOPP_NR_D',\n",
        "       'CTOPP,CTOPP_NR_P', 'CTOPP,CTOPP_NR_R', 'CTOPP,CTOPP_NR_S',\n",
        "       'CTOPP,CTOPP_RD_D', 'CTOPP,CTOPP_RD_P', 'CTOPP,CTOPP_RD_R',\n",
        "       'CTOPP,CTOPP_RD_S', 'CTOPP,CTOPP_RL_D', 'CTOPP,CTOPP_RL_P',\n",
        "       'CTOPP,CTOPP_RL_R', 'CTOPP,CTOPP_RL_S', 'CTOPP,CTOPP_RO_D',\n",
        "       'CTOPP,CTOPP_RO_P', 'CTOPP,CTOPP_RO_R', 'CTOPP,CTOPP_RO_S',\n",
        "       'CTOPP,CTOPP_RSN_Comp', 'CTOPP,CTOPP_RSN_D', 'CTOPP,CTOPP_RSN_P',\n",
        "       'CTOPP,CTOPP_RSN_Sum']]"
      ],
      "metadata": {
        "id": "D3Yfp7c3Ld_l",
        "outputId": "4b095882-edd4-4cc5-c414-a90220069f9a",
        "colab": {
          "base_uri": "https://localhost:8080/",
          "height": 488
        }
      },
      "execution_count": 101,
      "outputs": [
        {
          "output_type": "execute_result",
          "data": {
            "text/plain": [
              "       Identifiers CTOPP,CTOPP_BW_D CTOPP,CTOPP_BW_P CTOPP,CTOPP_BW_R  \\\n",
              "6     NDARAA504CRN      low average                9               17   \n",
              "8     NDARAA773LUW          average               63               26   \n",
              "19    NDARAB653ZXP      low average                9               19   \n",
              "29    NDARAC350XUM              low                2               13   \n",
              "30    NDARAC462DZH         very low                5               15   \n",
              "...            ...              ...              ...              ...   \n",
              "6612  NDARNH342XLK                .                .                .   \n",
              "6665  NDARYE814TBX                .                .                .   \n",
              "6668  NDARYP516VUU                .                .                .   \n",
              "6670  NDARYU290HJ3                .                .                .   \n",
              "6677  NDARZT011LBZ                .                .                .   \n",
              "\n",
              "     CTOPP,CTOPP_BW_S CTOPP,CTOPP_EL_D CTOPP,CTOPP_EL_P CTOPP,CTOPP_EL_R  \\\n",
              "6                   6              low                5               15   \n",
              "8                  11          average               50               30   \n",
              "19                  6          average               50               30   \n",
              "29                  4      low average                9               13   \n",
              "30                  5         very low                5               10   \n",
              "...               ...              ...              ...              ...   \n",
              "6612                .                .                .                .   \n",
              "6665                .                .                .                .   \n",
              "6668                .                .                .                .   \n",
              "6670                .                .                .                .   \n",
              "6677                .                .                .                .   \n",
              "\n",
              "     CTOPP,CTOPP_EL_S CTOPP,CTOPP_NR_D  ... CTOPP,CTOPP_RL_R CTOPP,CTOPP_RL_S  \\\n",
              "6                   5          average  ...               19                9   \n",
              "8                  10          average  ...               10               13   \n",
              "19                 10      low average  ...               15                9   \n",
              "29                  6          average  ...               22                8   \n",
              "30                  5         very low  ...               33                7   \n",
              "...               ...              ...  ...              ...              ...   \n",
              "6612                .                .  ...                .                .   \n",
              "6665                .                .  ...                .                .   \n",
              "6668                .                .  ...                .                .   \n",
              "6670                .                .  ...                .                .   \n",
              "6677                .                .  ...                .                .   \n",
              "\n",
              "     CTOPP,CTOPP_RO_D CTOPP,CTOPP_RO_P CTOPP,CTOPP_RO_R CTOPP,CTOPP_RO_S  \\\n",
              "6                   .                .                .                .   \n",
              "8                   .                .                .                .   \n",
              "19                  .                .                .                .   \n",
              "29                  .                .                .                .   \n",
              "30                  .                .                .                .   \n",
              "...               ...              ...              ...              ...   \n",
              "6612                .                .                .                .   \n",
              "6665                .                .                .                .   \n",
              "6668                .                .                .                .   \n",
              "6670                .                .                .                .   \n",
              "6677                .                .                .                .   \n",
              "\n",
              "     CTOPP,CTOPP_RSN_Comp CTOPP,CTOPP_RSN_D CTOPP,CTOPP_RSN_P  \\\n",
              "6                      95           average                37   \n",
              "8                     116      high average                86   \n",
              "19                    101           average                53   \n",
              "29                     88       low average                21   \n",
              "30                     85       low average                16   \n",
              "...                   ...               ...               ...   \n",
              "6612                    .                 .                 .   \n",
              "6665                    .                 .                 .   \n",
              "6668                    .                 .                 .   \n",
              "6670                    .                 .                 .   \n",
              "6677                    .                 .                 .   \n",
              "\n",
              "     CTOPP,CTOPP_RSN_Sum  \n",
              "6                     18  \n",
              "8                     25  \n",
              "19                    20  \n",
              "29                    16  \n",
              "30                    15  \n",
              "...                  ...  \n",
              "6612                   .  \n",
              "6665                   .  \n",
              "6668                   .  \n",
              "6670                   .  \n",
              "6677                   .  \n",
              "\n",
              "[618 rows x 29 columns]"
            ],
            "text/html": [
              "\n",
              "  <div id=\"df-d7cee2e8-1e75-4df9-915b-d0a843acb843\">\n",
              "    <div class=\"colab-df-container\">\n",
              "      <div>\n",
              "<style scoped>\n",
              "    .dataframe tbody tr th:only-of-type {\n",
              "        vertical-align: middle;\n",
              "    }\n",
              "\n",
              "    .dataframe tbody tr th {\n",
              "        vertical-align: top;\n",
              "    }\n",
              "\n",
              "    .dataframe thead th {\n",
              "        text-align: right;\n",
              "    }\n",
              "</style>\n",
              "<table border=\"1\" class=\"dataframe\">\n",
              "  <thead>\n",
              "    <tr style=\"text-align: right;\">\n",
              "      <th></th>\n",
              "      <th>Identifiers</th>\n",
              "      <th>CTOPP,CTOPP_BW_D</th>\n",
              "      <th>CTOPP,CTOPP_BW_P</th>\n",
              "      <th>CTOPP,CTOPP_BW_R</th>\n",
              "      <th>CTOPP,CTOPP_BW_S</th>\n",
              "      <th>CTOPP,CTOPP_EL_D</th>\n",
              "      <th>CTOPP,CTOPP_EL_P</th>\n",
              "      <th>CTOPP,CTOPP_EL_R</th>\n",
              "      <th>CTOPP,CTOPP_EL_S</th>\n",
              "      <th>CTOPP,CTOPP_NR_D</th>\n",
              "      <th>...</th>\n",
              "      <th>CTOPP,CTOPP_RL_R</th>\n",
              "      <th>CTOPP,CTOPP_RL_S</th>\n",
              "      <th>CTOPP,CTOPP_RO_D</th>\n",
              "      <th>CTOPP,CTOPP_RO_P</th>\n",
              "      <th>CTOPP,CTOPP_RO_R</th>\n",
              "      <th>CTOPP,CTOPP_RO_S</th>\n",
              "      <th>CTOPP,CTOPP_RSN_Comp</th>\n",
              "      <th>CTOPP,CTOPP_RSN_D</th>\n",
              "      <th>CTOPP,CTOPP_RSN_P</th>\n",
              "      <th>CTOPP,CTOPP_RSN_Sum</th>\n",
              "    </tr>\n",
              "  </thead>\n",
              "  <tbody>\n",
              "    <tr>\n",
              "      <th>6</th>\n",
              "      <td>NDARAA504CRN</td>\n",
              "      <td>low average</td>\n",
              "      <td>9</td>\n",
              "      <td>17</td>\n",
              "      <td>6</td>\n",
              "      <td>low</td>\n",
              "      <td>5</td>\n",
              "      <td>15</td>\n",
              "      <td>5</td>\n",
              "      <td>average</td>\n",
              "      <td>...</td>\n",
              "      <td>19</td>\n",
              "      <td>9</td>\n",
              "      <td>.</td>\n",
              "      <td>.</td>\n",
              "      <td>.</td>\n",
              "      <td>.</td>\n",
              "      <td>95</td>\n",
              "      <td>average</td>\n",
              "      <td>37</td>\n",
              "      <td>18</td>\n",
              "    </tr>\n",
              "    <tr>\n",
              "      <th>8</th>\n",
              "      <td>NDARAA773LUW</td>\n",
              "      <td>average</td>\n",
              "      <td>63</td>\n",
              "      <td>26</td>\n",
              "      <td>11</td>\n",
              "      <td>average</td>\n",
              "      <td>50</td>\n",
              "      <td>30</td>\n",
              "      <td>10</td>\n",
              "      <td>average</td>\n",
              "      <td>...</td>\n",
              "      <td>10</td>\n",
              "      <td>13</td>\n",
              "      <td>.</td>\n",
              "      <td>.</td>\n",
              "      <td>.</td>\n",
              "      <td>.</td>\n",
              "      <td>116</td>\n",
              "      <td>high average</td>\n",
              "      <td>86</td>\n",
              "      <td>25</td>\n",
              "    </tr>\n",
              "    <tr>\n",
              "      <th>19</th>\n",
              "      <td>NDARAB653ZXP</td>\n",
              "      <td>low average</td>\n",
              "      <td>9</td>\n",
              "      <td>19</td>\n",
              "      <td>6</td>\n",
              "      <td>average</td>\n",
              "      <td>50</td>\n",
              "      <td>30</td>\n",
              "      <td>10</td>\n",
              "      <td>low average</td>\n",
              "      <td>...</td>\n",
              "      <td>15</td>\n",
              "      <td>9</td>\n",
              "      <td>.</td>\n",
              "      <td>.</td>\n",
              "      <td>.</td>\n",
              "      <td>.</td>\n",
              "      <td>101</td>\n",
              "      <td>average</td>\n",
              "      <td>53</td>\n",
              "      <td>20</td>\n",
              "    </tr>\n",
              "    <tr>\n",
              "      <th>29</th>\n",
              "      <td>NDARAC350XUM</td>\n",
              "      <td>low</td>\n",
              "      <td>2</td>\n",
              "      <td>13</td>\n",
              "      <td>4</td>\n",
              "      <td>low average</td>\n",
              "      <td>9</td>\n",
              "      <td>13</td>\n",
              "      <td>6</td>\n",
              "      <td>average</td>\n",
              "      <td>...</td>\n",
              "      <td>22</td>\n",
              "      <td>8</td>\n",
              "      <td>.</td>\n",
              "      <td>.</td>\n",
              "      <td>.</td>\n",
              "      <td>.</td>\n",
              "      <td>88</td>\n",
              "      <td>low average</td>\n",
              "      <td>21</td>\n",
              "      <td>16</td>\n",
              "    </tr>\n",
              "    <tr>\n",
              "      <th>30</th>\n",
              "      <td>NDARAC462DZH</td>\n",
              "      <td>very low</td>\n",
              "      <td>5</td>\n",
              "      <td>15</td>\n",
              "      <td>5</td>\n",
              "      <td>very low</td>\n",
              "      <td>5</td>\n",
              "      <td>10</td>\n",
              "      <td>5</td>\n",
              "      <td>very low</td>\n",
              "      <td>...</td>\n",
              "      <td>33</td>\n",
              "      <td>7</td>\n",
              "      <td>.</td>\n",
              "      <td>.</td>\n",
              "      <td>.</td>\n",
              "      <td>.</td>\n",
              "      <td>85</td>\n",
              "      <td>low average</td>\n",
              "      <td>16</td>\n",
              "      <td>15</td>\n",
              "    </tr>\n",
              "    <tr>\n",
              "      <th>...</th>\n",
              "      <td>...</td>\n",
              "      <td>...</td>\n",
              "      <td>...</td>\n",
              "      <td>...</td>\n",
              "      <td>...</td>\n",
              "      <td>...</td>\n",
              "      <td>...</td>\n",
              "      <td>...</td>\n",
              "      <td>...</td>\n",
              "      <td>...</td>\n",
              "      <td>...</td>\n",
              "      <td>...</td>\n",
              "      <td>...</td>\n",
              "      <td>...</td>\n",
              "      <td>...</td>\n",
              "      <td>...</td>\n",
              "      <td>...</td>\n",
              "      <td>...</td>\n",
              "      <td>...</td>\n",
              "      <td>...</td>\n",
              "      <td>...</td>\n",
              "    </tr>\n",
              "    <tr>\n",
              "      <th>6612</th>\n",
              "      <td>NDARNH342XLK</td>\n",
              "      <td>.</td>\n",
              "      <td>.</td>\n",
              "      <td>.</td>\n",
              "      <td>.</td>\n",
              "      <td>.</td>\n",
              "      <td>.</td>\n",
              "      <td>.</td>\n",
              "      <td>.</td>\n",
              "      <td>.</td>\n",
              "      <td>...</td>\n",
              "      <td>.</td>\n",
              "      <td>.</td>\n",
              "      <td>.</td>\n",
              "      <td>.</td>\n",
              "      <td>.</td>\n",
              "      <td>.</td>\n",
              "      <td>.</td>\n",
              "      <td>.</td>\n",
              "      <td>.</td>\n",
              "      <td>.</td>\n",
              "    </tr>\n",
              "    <tr>\n",
              "      <th>6665</th>\n",
              "      <td>NDARYE814TBX</td>\n",
              "      <td>.</td>\n",
              "      <td>.</td>\n",
              "      <td>.</td>\n",
              "      <td>.</td>\n",
              "      <td>.</td>\n",
              "      <td>.</td>\n",
              "      <td>.</td>\n",
              "      <td>.</td>\n",
              "      <td>.</td>\n",
              "      <td>...</td>\n",
              "      <td>.</td>\n",
              "      <td>.</td>\n",
              "      <td>.</td>\n",
              "      <td>.</td>\n",
              "      <td>.</td>\n",
              "      <td>.</td>\n",
              "      <td>.</td>\n",
              "      <td>.</td>\n",
              "      <td>.</td>\n",
              "      <td>.</td>\n",
              "    </tr>\n",
              "    <tr>\n",
              "      <th>6668</th>\n",
              "      <td>NDARYP516VUU</td>\n",
              "      <td>.</td>\n",
              "      <td>.</td>\n",
              "      <td>.</td>\n",
              "      <td>.</td>\n",
              "      <td>.</td>\n",
              "      <td>.</td>\n",
              "      <td>.</td>\n",
              "      <td>.</td>\n",
              "      <td>.</td>\n",
              "      <td>...</td>\n",
              "      <td>.</td>\n",
              "      <td>.</td>\n",
              "      <td>.</td>\n",
              "      <td>.</td>\n",
              "      <td>.</td>\n",
              "      <td>.</td>\n",
              "      <td>.</td>\n",
              "      <td>.</td>\n",
              "      <td>.</td>\n",
              "      <td>.</td>\n",
              "    </tr>\n",
              "    <tr>\n",
              "      <th>6670</th>\n",
              "      <td>NDARYU290HJ3</td>\n",
              "      <td>.</td>\n",
              "      <td>.</td>\n",
              "      <td>.</td>\n",
              "      <td>.</td>\n",
              "      <td>.</td>\n",
              "      <td>.</td>\n",
              "      <td>.</td>\n",
              "      <td>.</td>\n",
              "      <td>.</td>\n",
              "      <td>...</td>\n",
              "      <td>.</td>\n",
              "      <td>.</td>\n",
              "      <td>.</td>\n",
              "      <td>.</td>\n",
              "      <td>.</td>\n",
              "      <td>.</td>\n",
              "      <td>.</td>\n",
              "      <td>.</td>\n",
              "      <td>.</td>\n",
              "      <td>.</td>\n",
              "    </tr>\n",
              "    <tr>\n",
              "      <th>6677</th>\n",
              "      <td>NDARZT011LBZ</td>\n",
              "      <td>.</td>\n",
              "      <td>.</td>\n",
              "      <td>.</td>\n",
              "      <td>.</td>\n",
              "      <td>.</td>\n",
              "      <td>.</td>\n",
              "      <td>.</td>\n",
              "      <td>.</td>\n",
              "      <td>.</td>\n",
              "      <td>...</td>\n",
              "      <td>.</td>\n",
              "      <td>.</td>\n",
              "      <td>.</td>\n",
              "      <td>.</td>\n",
              "      <td>.</td>\n",
              "      <td>.</td>\n",
              "      <td>.</td>\n",
              "      <td>.</td>\n",
              "      <td>.</td>\n",
              "      <td>.</td>\n",
              "    </tr>\n",
              "  </tbody>\n",
              "</table>\n",
              "<p>618 rows × 29 columns</p>\n",
              "</div>\n",
              "      <button class=\"colab-df-convert\" onclick=\"convertToInteractive('df-d7cee2e8-1e75-4df9-915b-d0a843acb843')\"\n",
              "              title=\"Convert this dataframe to an interactive table.\"\n",
              "              style=\"display:none;\">\n",
              "        \n",
              "  <svg xmlns=\"http://www.w3.org/2000/svg\" height=\"24px\"viewBox=\"0 0 24 24\"\n",
              "       width=\"24px\">\n",
              "    <path d=\"M0 0h24v24H0V0z\" fill=\"none\"/>\n",
              "    <path d=\"M18.56 5.44l.94 2.06.94-2.06 2.06-.94-2.06-.94-.94-2.06-.94 2.06-2.06.94zm-11 1L8.5 8.5l.94-2.06 2.06-.94-2.06-.94L8.5 2.5l-.94 2.06-2.06.94zm10 10l.94 2.06.94-2.06 2.06-.94-2.06-.94-.94-2.06-.94 2.06-2.06.94z\"/><path d=\"M17.41 7.96l-1.37-1.37c-.4-.4-.92-.59-1.43-.59-.52 0-1.04.2-1.43.59L10.3 9.45l-7.72 7.72c-.78.78-.78 2.05 0 2.83L4 21.41c.39.39.9.59 1.41.59.51 0 1.02-.2 1.41-.59l7.78-7.78 2.81-2.81c.8-.78.8-2.07 0-2.86zM5.41 20L4 18.59l7.72-7.72 1.47 1.35L5.41 20z\"/>\n",
              "  </svg>\n",
              "      </button>\n",
              "      \n",
              "  <style>\n",
              "    .colab-df-container {\n",
              "      display:flex;\n",
              "      flex-wrap:wrap;\n",
              "      gap: 12px;\n",
              "    }\n",
              "\n",
              "    .colab-df-convert {\n",
              "      background-color: #E8F0FE;\n",
              "      border: none;\n",
              "      border-radius: 50%;\n",
              "      cursor: pointer;\n",
              "      display: none;\n",
              "      fill: #1967D2;\n",
              "      height: 32px;\n",
              "      padding: 0 0 0 0;\n",
              "      width: 32px;\n",
              "    }\n",
              "\n",
              "    .colab-df-convert:hover {\n",
              "      background-color: #E2EBFA;\n",
              "      box-shadow: 0px 1px 2px rgba(60, 64, 67, 0.3), 0px 1px 3px 1px rgba(60, 64, 67, 0.15);\n",
              "      fill: #174EA6;\n",
              "    }\n",
              "\n",
              "    [theme=dark] .colab-df-convert {\n",
              "      background-color: #3B4455;\n",
              "      fill: #D2E3FC;\n",
              "    }\n",
              "\n",
              "    [theme=dark] .colab-df-convert:hover {\n",
              "      background-color: #434B5C;\n",
              "      box-shadow: 0px 1px 3px 1px rgba(0, 0, 0, 0.15);\n",
              "      filter: drop-shadow(0px 1px 2px rgba(0, 0, 0, 0.3));\n",
              "      fill: #FFFFFF;\n",
              "    }\n",
              "  </style>\n",
              "\n",
              "      <script>\n",
              "        const buttonEl =\n",
              "          document.querySelector('#df-d7cee2e8-1e75-4df9-915b-d0a843acb843 button.colab-df-convert');\n",
              "        buttonEl.style.display =\n",
              "          google.colab.kernel.accessAllowed ? 'block' : 'none';\n",
              "\n",
              "        async function convertToInteractive(key) {\n",
              "          const element = document.querySelector('#df-d7cee2e8-1e75-4df9-915b-d0a843acb843');\n",
              "          const dataTable =\n",
              "            await google.colab.kernel.invokeFunction('convertToInteractive',\n",
              "                                                     [key], {});\n",
              "          if (!dataTable) return;\n",
              "\n",
              "          const docLinkHtml = 'Like what you see? Visit the ' +\n",
              "            '<a target=\"_blank\" href=https://colab.research.google.com/notebooks/data_table.ipynb>data table notebook</a>'\n",
              "            + ' to learn more about interactive tables.';\n",
              "          element.innerHTML = '';\n",
              "          dataTable['output_type'] = 'display_data';\n",
              "          await google.colab.output.renderOutput(dataTable, element);\n",
              "          const docLink = document.createElement('div');\n",
              "          docLink.innerHTML = docLinkHtml;\n",
              "          element.appendChild(docLink);\n",
              "        }\n",
              "      </script>\n",
              "    </div>\n",
              "  </div>\n",
              "  "
            ]
          },
          "metadata": {},
          "execution_count": 101
        }
      ]
    },
    {
      "cell_type": "markdown",
      "source": [
        "# Characteristics of the ready dataset"
      ],
      "metadata": {
        "id": "6FVNklI1tBUP"
      }
    },
    {
      "cell_type": "code",
      "source": [
        "print('Full dataset')\n",
        "print('Controls')\n",
        "print(data_filtered[data_filtered['Status'] == 'control'].shape[0])\n",
        "print('DD without comorbidities')\n",
        "print(data_filtered[data_filtered['Status'] == 'only DD'].shape[0])\n",
        "print('DD with comorbidities')\n",
        "print(data_filtered[data_filtered['Status'] == 'DD with comorbidities'].shape[0])"
      ],
      "metadata": {
        "id": "S-ZOMySlUyJL",
        "outputId": "230db2af-7059-400b-cf60-9fca7437cc77",
        "colab": {
          "base_uri": "https://localhost:8080/"
        }
      },
      "execution_count": null,
      "outputs": [
        {
          "output_type": "stream",
          "name": "stdout",
          "text": [
            "Controls\n",
            "219\n",
            "DD without comorbidities\n",
            "64\n",
            "DD with comorbidities\n",
            "269\n"
          ]
        }
      ]
    },
    {
      "cell_type": "code",
      "source": [
        "print('Reduced dataset')\n",
        "print('Controls')\n",
        "print(data_filtered_pheno[data_filtered_pheno['Status'] == 'control'].shape[0])\n",
        "print('DD without comorbidities')\n",
        "print(data_filtered_pheno[data_filtered_pheno['Status'] == 'only DD'].shape[0])\n",
        "print('DD with comorbidities')\n",
        "print(data_filtered_pheno[data_filtered_pheno['Status'] == 'DD with comorbidities'].shape[0])"
      ],
      "metadata": {
        "id": "sMsCKjnLLTCG"
      },
      "execution_count": null,
      "outputs": []
    },
    {
      "cell_type": "code",
      "source": [
        "reduced_all = data_filtered[data_filtered['Status'] != 'control'][['CTOPP,CTOPP_BW_D', 'CTOPP,CTOPP_BW_P', 'CTOPP,CTOPP_BW_R',\n",
        "       'CTOPP,CTOPP_BW_S', 'CTOPP,CTOPP_EL_D', 'CTOPP,CTOPP_EL_P',\n",
        "       'CTOPP,CTOPP_EL_R', 'CTOPP,CTOPP_EL_S', 'CTOPP,CTOPP_NR_D',\n",
        "       'CTOPP,CTOPP_NR_P', 'CTOPP,CTOPP_NR_R', 'CTOPP,CTOPP_NR_S',\n",
        "       'CTOPP,CTOPP_RD_D', 'CTOPP,CTOPP_RD_P', 'CTOPP,CTOPP_RD_R',\n",
        "       'CTOPP,CTOPP_RD_S', 'CTOPP,CTOPP_RL_D', 'CTOPP,CTOPP_RL_P',\n",
        "       'CTOPP,CTOPP_RL_R', 'CTOPP,CTOPP_RL_S', 'CTOPP,CTOPP_RO_D',\n",
        "       'CTOPP,CTOPP_RO_P', 'CTOPP,CTOPP_RO_R', 'CTOPP,CTOPP_RO_S',\n",
        "       'CTOPP,CTOPP_RSN_Comp', 'CTOPP,CTOPP_RSN_D', 'CTOPP,CTOPP_RSN_P',\n",
        "       'CTOPP,CTOPP_RSN_Sum', 'EVT,EVT2_StandardScore', 'PPVT,PPVT4_StandardScore', 'Basic_Demos,Age']]"
      ],
      "metadata": {
        "id": "DRpfQFbgLvCw"
      },
      "execution_count": null,
      "outputs": []
    },
    {
      "cell_type": "code",
      "source": [
        "names = ['CTOPP,CTOPP_BW_D', 'CTOPP,CTOPP_BW_P', 'CTOPP,CTOPP_BW_R',\n",
        "       'CTOPP,CTOPP_BW_S', 'CTOPP,CTOPP_EL_D', 'CTOPP,CTOPP_EL_P',\n",
        "       'CTOPP,CTOPP_EL_R', 'CTOPP,CTOPP_EL_S', 'CTOPP,CTOPP_NR_D',\n",
        "       'CTOPP,CTOPP_NR_P', 'CTOPP,CTOPP_NR_R', 'CTOPP,CTOPP_NR_S',\n",
        "       'CTOPP,CTOPP_RD_D', 'CTOPP,CTOPP_RD_P', 'CTOPP,CTOPP_RD_R',\n",
        "       'CTOPP,CTOPP_RD_S', 'CTOPP,CTOPP_RL_D', 'CTOPP,CTOPP_RL_P',\n",
        "       'CTOPP,CTOPP_RL_R', 'CTOPP,CTOPP_RL_S', 'CTOPP,CTOPP_RO_D',\n",
        "       'CTOPP,CTOPP_RO_P', 'CTOPP,CTOPP_RO_R', 'CTOPP,CTOPP_RO_S',\n",
        "       'CTOPP,CTOPP_RSN_Comp', 'CTOPP,CTOPP_RSN_D', 'CTOPP,CTOPP_RSN_P',\n",
        "       'CTOPP,CTOPP_RSN_Sum']\n",
        "for name in names:\n",
        "  reduced_all[name] = reduced_all[name].fillna('.')"
      ],
      "metadata": {
        "id": "73WhSctcL4yR"
      },
      "execution_count": null,
      "outputs": []
    },
    {
      "cell_type": "code",
      "source": [
        "reduced_all[(reduced_all['CTOPP,CTOPP_RD_D'] != '.') &\n",
        "        (reduced_all['CTOPP,CTOPP_RL_D'] != '.') &\n",
        "        (reduced_all['CTOPP,CTOPP_RO_D'] != '.') &\n",
        "        (reduced_all['CTOPP,CTOPP_RSN_D'] != '.')]"
      ],
      "metadata": {
        "id": "VpeKYbuWL8UG",
        "outputId": "de9e7888-a044-442d-bded-72e555fddfbd",
        "colab": {
          "base_uri": "https://localhost:8080/",
          "height": 581
        }
      },
      "execution_count": null,
      "outputs": [
        {
          "output_type": "execute_result",
          "data": {
            "text/plain": [
              "     CTOPP,CTOPP_BW_D CTOPP,CTOPP_BW_P CTOPP,CTOPP_BW_R CTOPP,CTOPP_BW_S  \\\n",
              "133           average               25               16                8   \n",
              "187       low average               16               13                7   \n",
              "1491          average               25               13                8   \n",
              "1632      low average               16               13                7   \n",
              "1772          average               37               16                9   \n",
              "1863          average               37               15                9   \n",
              "2818    extremely low                1                0                1   \n",
              "2826          average               37               18                9   \n",
              "3025              low                5                7                5   \n",
              "3212          average               37               18                9   \n",
              "3252          average               37               15                9   \n",
              "3881     high average               75               23               12   \n",
              "3900      low average               16               12                7   \n",
              "3985              low                2                7                4   \n",
              "\n",
              "     CTOPP,CTOPP_EL_D CTOPP,CTOPP_EL_P CTOPP,CTOPP_EL_R CTOPP,CTOPP_EL_S  \\\n",
              "133       low average               16                9                7   \n",
              "187       low average               16                8                7   \n",
              "1491          average               63               16               11   \n",
              "1632      low average               16                9                7   \n",
              "1772          average               50               13               10   \n",
              "1863          average               25                8                8   \n",
              "2818         very low                1                1                3   \n",
              "2826          average               37               14                9   \n",
              "3025         very low                1                0                3   \n",
              "3212          average               37               14                9   \n",
              "3252          average               37               10                9   \n",
              "3881      low average               16                8                7   \n",
              "3900      low average                9                5                6   \n",
              "3985      low average               16                8                7   \n",
              "\n",
              "     CTOPP,CTOPP_NR_D CTOPP,CTOPP_NR_P  ... CTOPP,CTOPP_RO_P CTOPP,CTOPP_RO_R  \\\n",
              "133               low                5  ...               63               41   \n",
              "187               low                5  ...                2               73   \n",
              "1491              low                2  ...               50               48   \n",
              "1632      low average                9  ...               16               57   \n",
              "1772          average               50  ...               37               52   \n",
              "1863              low                5  ...                5               70   \n",
              "2818    extremely low                1  ...               16               57   \n",
              "2826    extremely low                1  ...                5               69   \n",
              "3025          average               50  ...               50               48   \n",
              "3212      low average               16  ...               84               33   \n",
              "3252          average               37  ...                5               75   \n",
              "3881      low average               16  ...               63               34   \n",
              "3900      low average               16  ...               37               51   \n",
              "3985    extremely low                1  ...               16               58   \n",
              "\n",
              "     CTOPP,CTOPP_RO_S CTOPP,CTOPP_RSN_Comp CTOPP,CTOPP_RSN_D  \\\n",
              "133                11                   98           average   \n",
              "187                 4                   79               low   \n",
              "1491               10                  119        Above Aver   \n",
              "1632                7                   95           average   \n",
              "1772                9                   79               low   \n",
              "1863                5                   58     extremely low   \n",
              "2818                7                   88       low average   \n",
              "2826                5                   98           average   \n",
              "3025               10                  104           average   \n",
              "3212               13                  104           average   \n",
              "3252                5                  107           average   \n",
              "3881               11                   98           average   \n",
              "3900                9                  104           average   \n",
              "3985                7                   82       low average   \n",
              "\n",
              "     CTOPP,CTOPP_RSN_P CTOPP,CTOPP_RSN_Sum EVT,EVT2_StandardScore  \\\n",
              "133                 45                  19                     93   \n",
              "187                  8                  13                      .   \n",
              "1491                90                  26                      .   \n",
              "1632                37                  18                      .   \n",
              "1772                 8                  13                      .   \n",
              "1863                 1                   6                      .   \n",
              "2818                21                  16                      .   \n",
              "2826                45                  19                      .   \n",
              "3025                61                  21                      .   \n",
              "3212                61                  21                      .   \n",
              "3252                68                  22                     96   \n",
              "3881                45                  19                      .   \n",
              "3900                61                  21                      .   \n",
              "3985                12                  14                    110   \n",
              "\n",
              "     PPVT,PPVT4_StandardScore Basic_Demos,Age  \n",
              "133                        92        6.476614  \n",
              "187                         .        6.564339  \n",
              "1491                        .        6.443303  \n",
              "1632                        .        6.501254  \n",
              "1772                        .        5.838923  \n",
              "1863                        .        5.748231  \n",
              "2818                        .        6.818275  \n",
              "2826                        .        6.816221  \n",
              "3025                        .        6.437827  \n",
              "3212                        .        6.815537  \n",
              "3252                      103        6.024982  \n",
              "3881                        .        6.766255  \n",
              "3900                        .        6.816221  \n",
              "3985                      110        6.515058  \n",
              "\n",
              "[14 rows x 31 columns]"
            ],
            "text/html": [
              "\n",
              "  <div id=\"df-5acfeab1-828a-4987-8354-bb8d81dd92ba\">\n",
              "    <div class=\"colab-df-container\">\n",
              "      <div>\n",
              "<style scoped>\n",
              "    .dataframe tbody tr th:only-of-type {\n",
              "        vertical-align: middle;\n",
              "    }\n",
              "\n",
              "    .dataframe tbody tr th {\n",
              "        vertical-align: top;\n",
              "    }\n",
              "\n",
              "    .dataframe thead th {\n",
              "        text-align: right;\n",
              "    }\n",
              "</style>\n",
              "<table border=\"1\" class=\"dataframe\">\n",
              "  <thead>\n",
              "    <tr style=\"text-align: right;\">\n",
              "      <th></th>\n",
              "      <th>CTOPP,CTOPP_BW_D</th>\n",
              "      <th>CTOPP,CTOPP_BW_P</th>\n",
              "      <th>CTOPP,CTOPP_BW_R</th>\n",
              "      <th>CTOPP,CTOPP_BW_S</th>\n",
              "      <th>CTOPP,CTOPP_EL_D</th>\n",
              "      <th>CTOPP,CTOPP_EL_P</th>\n",
              "      <th>CTOPP,CTOPP_EL_R</th>\n",
              "      <th>CTOPP,CTOPP_EL_S</th>\n",
              "      <th>CTOPP,CTOPP_NR_D</th>\n",
              "      <th>CTOPP,CTOPP_NR_P</th>\n",
              "      <th>...</th>\n",
              "      <th>CTOPP,CTOPP_RO_P</th>\n",
              "      <th>CTOPP,CTOPP_RO_R</th>\n",
              "      <th>CTOPP,CTOPP_RO_S</th>\n",
              "      <th>CTOPP,CTOPP_RSN_Comp</th>\n",
              "      <th>CTOPP,CTOPP_RSN_D</th>\n",
              "      <th>CTOPP,CTOPP_RSN_P</th>\n",
              "      <th>CTOPP,CTOPP_RSN_Sum</th>\n",
              "      <th>EVT,EVT2_StandardScore</th>\n",
              "      <th>PPVT,PPVT4_StandardScore</th>\n",
              "      <th>Basic_Demos,Age</th>\n",
              "    </tr>\n",
              "  </thead>\n",
              "  <tbody>\n",
              "    <tr>\n",
              "      <th>133</th>\n",
              "      <td>average</td>\n",
              "      <td>25</td>\n",
              "      <td>16</td>\n",
              "      <td>8</td>\n",
              "      <td>low average</td>\n",
              "      <td>16</td>\n",
              "      <td>9</td>\n",
              "      <td>7</td>\n",
              "      <td>low</td>\n",
              "      <td>5</td>\n",
              "      <td>...</td>\n",
              "      <td>63</td>\n",
              "      <td>41</td>\n",
              "      <td>11</td>\n",
              "      <td>98</td>\n",
              "      <td>average</td>\n",
              "      <td>45</td>\n",
              "      <td>19</td>\n",
              "      <td>93</td>\n",
              "      <td>92</td>\n",
              "      <td>6.476614</td>\n",
              "    </tr>\n",
              "    <tr>\n",
              "      <th>187</th>\n",
              "      <td>low average</td>\n",
              "      <td>16</td>\n",
              "      <td>13</td>\n",
              "      <td>7</td>\n",
              "      <td>low average</td>\n",
              "      <td>16</td>\n",
              "      <td>8</td>\n",
              "      <td>7</td>\n",
              "      <td>low</td>\n",
              "      <td>5</td>\n",
              "      <td>...</td>\n",
              "      <td>2</td>\n",
              "      <td>73</td>\n",
              "      <td>4</td>\n",
              "      <td>79</td>\n",
              "      <td>low</td>\n",
              "      <td>8</td>\n",
              "      <td>13</td>\n",
              "      <td>.</td>\n",
              "      <td>.</td>\n",
              "      <td>6.564339</td>\n",
              "    </tr>\n",
              "    <tr>\n",
              "      <th>1491</th>\n",
              "      <td>average</td>\n",
              "      <td>25</td>\n",
              "      <td>13</td>\n",
              "      <td>8</td>\n",
              "      <td>average</td>\n",
              "      <td>63</td>\n",
              "      <td>16</td>\n",
              "      <td>11</td>\n",
              "      <td>low</td>\n",
              "      <td>2</td>\n",
              "      <td>...</td>\n",
              "      <td>50</td>\n",
              "      <td>48</td>\n",
              "      <td>10</td>\n",
              "      <td>119</td>\n",
              "      <td>Above Aver</td>\n",
              "      <td>90</td>\n",
              "      <td>26</td>\n",
              "      <td>.</td>\n",
              "      <td>.</td>\n",
              "      <td>6.443303</td>\n",
              "    </tr>\n",
              "    <tr>\n",
              "      <th>1632</th>\n",
              "      <td>low average</td>\n",
              "      <td>16</td>\n",
              "      <td>13</td>\n",
              "      <td>7</td>\n",
              "      <td>low average</td>\n",
              "      <td>16</td>\n",
              "      <td>9</td>\n",
              "      <td>7</td>\n",
              "      <td>low average</td>\n",
              "      <td>9</td>\n",
              "      <td>...</td>\n",
              "      <td>16</td>\n",
              "      <td>57</td>\n",
              "      <td>7</td>\n",
              "      <td>95</td>\n",
              "      <td>average</td>\n",
              "      <td>37</td>\n",
              "      <td>18</td>\n",
              "      <td>.</td>\n",
              "      <td>.</td>\n",
              "      <td>6.501254</td>\n",
              "    </tr>\n",
              "    <tr>\n",
              "      <th>1772</th>\n",
              "      <td>average</td>\n",
              "      <td>37</td>\n",
              "      <td>16</td>\n",
              "      <td>9</td>\n",
              "      <td>average</td>\n",
              "      <td>50</td>\n",
              "      <td>13</td>\n",
              "      <td>10</td>\n",
              "      <td>average</td>\n",
              "      <td>50</td>\n",
              "      <td>...</td>\n",
              "      <td>37</td>\n",
              "      <td>52</td>\n",
              "      <td>9</td>\n",
              "      <td>79</td>\n",
              "      <td>low</td>\n",
              "      <td>8</td>\n",
              "      <td>13</td>\n",
              "      <td>.</td>\n",
              "      <td>.</td>\n",
              "      <td>5.838923</td>\n",
              "    </tr>\n",
              "    <tr>\n",
              "      <th>1863</th>\n",
              "      <td>average</td>\n",
              "      <td>37</td>\n",
              "      <td>15</td>\n",
              "      <td>9</td>\n",
              "      <td>average</td>\n",
              "      <td>25</td>\n",
              "      <td>8</td>\n",
              "      <td>8</td>\n",
              "      <td>low</td>\n",
              "      <td>5</td>\n",
              "      <td>...</td>\n",
              "      <td>5</td>\n",
              "      <td>70</td>\n",
              "      <td>5</td>\n",
              "      <td>58</td>\n",
              "      <td>extremely low</td>\n",
              "      <td>1</td>\n",
              "      <td>6</td>\n",
              "      <td>.</td>\n",
              "      <td>.</td>\n",
              "      <td>5.748231</td>\n",
              "    </tr>\n",
              "    <tr>\n",
              "      <th>2818</th>\n",
              "      <td>extremely low</td>\n",
              "      <td>1</td>\n",
              "      <td>0</td>\n",
              "      <td>1</td>\n",
              "      <td>very low</td>\n",
              "      <td>1</td>\n",
              "      <td>1</td>\n",
              "      <td>3</td>\n",
              "      <td>extremely low</td>\n",
              "      <td>1</td>\n",
              "      <td>...</td>\n",
              "      <td>16</td>\n",
              "      <td>57</td>\n",
              "      <td>7</td>\n",
              "      <td>88</td>\n",
              "      <td>low average</td>\n",
              "      <td>21</td>\n",
              "      <td>16</td>\n",
              "      <td>.</td>\n",
              "      <td>.</td>\n",
              "      <td>6.818275</td>\n",
              "    </tr>\n",
              "    <tr>\n",
              "      <th>2826</th>\n",
              "      <td>average</td>\n",
              "      <td>37</td>\n",
              "      <td>18</td>\n",
              "      <td>9</td>\n",
              "      <td>average</td>\n",
              "      <td>37</td>\n",
              "      <td>14</td>\n",
              "      <td>9</td>\n",
              "      <td>extremely low</td>\n",
              "      <td>1</td>\n",
              "      <td>...</td>\n",
              "      <td>5</td>\n",
              "      <td>69</td>\n",
              "      <td>5</td>\n",
              "      <td>98</td>\n",
              "      <td>average</td>\n",
              "      <td>45</td>\n",
              "      <td>19</td>\n",
              "      <td>.</td>\n",
              "      <td>.</td>\n",
              "      <td>6.816221</td>\n",
              "    </tr>\n",
              "    <tr>\n",
              "      <th>3025</th>\n",
              "      <td>low</td>\n",
              "      <td>5</td>\n",
              "      <td>7</td>\n",
              "      <td>5</td>\n",
              "      <td>very low</td>\n",
              "      <td>1</td>\n",
              "      <td>0</td>\n",
              "      <td>3</td>\n",
              "      <td>average</td>\n",
              "      <td>50</td>\n",
              "      <td>...</td>\n",
              "      <td>50</td>\n",
              "      <td>48</td>\n",
              "      <td>10</td>\n",
              "      <td>104</td>\n",
              "      <td>average</td>\n",
              "      <td>61</td>\n",
              "      <td>21</td>\n",
              "      <td>.</td>\n",
              "      <td>.</td>\n",
              "      <td>6.437827</td>\n",
              "    </tr>\n",
              "    <tr>\n",
              "      <th>3212</th>\n",
              "      <td>average</td>\n",
              "      <td>37</td>\n",
              "      <td>18</td>\n",
              "      <td>9</td>\n",
              "      <td>average</td>\n",
              "      <td>37</td>\n",
              "      <td>14</td>\n",
              "      <td>9</td>\n",
              "      <td>low average</td>\n",
              "      <td>16</td>\n",
              "      <td>...</td>\n",
              "      <td>84</td>\n",
              "      <td>33</td>\n",
              "      <td>13</td>\n",
              "      <td>104</td>\n",
              "      <td>average</td>\n",
              "      <td>61</td>\n",
              "      <td>21</td>\n",
              "      <td>.</td>\n",
              "      <td>.</td>\n",
              "      <td>6.815537</td>\n",
              "    </tr>\n",
              "    <tr>\n",
              "      <th>3252</th>\n",
              "      <td>average</td>\n",
              "      <td>37</td>\n",
              "      <td>15</td>\n",
              "      <td>9</td>\n",
              "      <td>average</td>\n",
              "      <td>37</td>\n",
              "      <td>10</td>\n",
              "      <td>9</td>\n",
              "      <td>average</td>\n",
              "      <td>37</td>\n",
              "      <td>...</td>\n",
              "      <td>5</td>\n",
              "      <td>75</td>\n",
              "      <td>5</td>\n",
              "      <td>107</td>\n",
              "      <td>average</td>\n",
              "      <td>68</td>\n",
              "      <td>22</td>\n",
              "      <td>96</td>\n",
              "      <td>103</td>\n",
              "      <td>6.024982</td>\n",
              "    </tr>\n",
              "    <tr>\n",
              "      <th>3881</th>\n",
              "      <td>high average</td>\n",
              "      <td>75</td>\n",
              "      <td>23</td>\n",
              "      <td>12</td>\n",
              "      <td>low average</td>\n",
              "      <td>16</td>\n",
              "      <td>8</td>\n",
              "      <td>7</td>\n",
              "      <td>low average</td>\n",
              "      <td>16</td>\n",
              "      <td>...</td>\n",
              "      <td>63</td>\n",
              "      <td>34</td>\n",
              "      <td>11</td>\n",
              "      <td>98</td>\n",
              "      <td>average</td>\n",
              "      <td>45</td>\n",
              "      <td>19</td>\n",
              "      <td>.</td>\n",
              "      <td>.</td>\n",
              "      <td>6.766255</td>\n",
              "    </tr>\n",
              "    <tr>\n",
              "      <th>3900</th>\n",
              "      <td>low average</td>\n",
              "      <td>16</td>\n",
              "      <td>12</td>\n",
              "      <td>7</td>\n",
              "      <td>low average</td>\n",
              "      <td>9</td>\n",
              "      <td>5</td>\n",
              "      <td>6</td>\n",
              "      <td>low average</td>\n",
              "      <td>16</td>\n",
              "      <td>...</td>\n",
              "      <td>37</td>\n",
              "      <td>51</td>\n",
              "      <td>9</td>\n",
              "      <td>104</td>\n",
              "      <td>average</td>\n",
              "      <td>61</td>\n",
              "      <td>21</td>\n",
              "      <td>.</td>\n",
              "      <td>.</td>\n",
              "      <td>6.816221</td>\n",
              "    </tr>\n",
              "    <tr>\n",
              "      <th>3985</th>\n",
              "      <td>low</td>\n",
              "      <td>2</td>\n",
              "      <td>7</td>\n",
              "      <td>4</td>\n",
              "      <td>low average</td>\n",
              "      <td>16</td>\n",
              "      <td>8</td>\n",
              "      <td>7</td>\n",
              "      <td>extremely low</td>\n",
              "      <td>1</td>\n",
              "      <td>...</td>\n",
              "      <td>16</td>\n",
              "      <td>58</td>\n",
              "      <td>7</td>\n",
              "      <td>82</td>\n",
              "      <td>low average</td>\n",
              "      <td>12</td>\n",
              "      <td>14</td>\n",
              "      <td>110</td>\n",
              "      <td>110</td>\n",
              "      <td>6.515058</td>\n",
              "    </tr>\n",
              "  </tbody>\n",
              "</table>\n",
              "<p>14 rows × 31 columns</p>\n",
              "</div>\n",
              "      <button class=\"colab-df-convert\" onclick=\"convertToInteractive('df-5acfeab1-828a-4987-8354-bb8d81dd92ba')\"\n",
              "              title=\"Convert this dataframe to an interactive table.\"\n",
              "              style=\"display:none;\">\n",
              "        \n",
              "  <svg xmlns=\"http://www.w3.org/2000/svg\" height=\"24px\"viewBox=\"0 0 24 24\"\n",
              "       width=\"24px\">\n",
              "    <path d=\"M0 0h24v24H0V0z\" fill=\"none\"/>\n",
              "    <path d=\"M18.56 5.44l.94 2.06.94-2.06 2.06-.94-2.06-.94-.94-2.06-.94 2.06-2.06.94zm-11 1L8.5 8.5l.94-2.06 2.06-.94-2.06-.94L8.5 2.5l-.94 2.06-2.06.94zm10 10l.94 2.06.94-2.06 2.06-.94-2.06-.94-.94-2.06-.94 2.06-2.06.94z\"/><path d=\"M17.41 7.96l-1.37-1.37c-.4-.4-.92-.59-1.43-.59-.52 0-1.04.2-1.43.59L10.3 9.45l-7.72 7.72c-.78.78-.78 2.05 0 2.83L4 21.41c.39.39.9.59 1.41.59.51 0 1.02-.2 1.41-.59l7.78-7.78 2.81-2.81c.8-.78.8-2.07 0-2.86zM5.41 20L4 18.59l7.72-7.72 1.47 1.35L5.41 20z\"/>\n",
              "  </svg>\n",
              "      </button>\n",
              "      \n",
              "  <style>\n",
              "    .colab-df-container {\n",
              "      display:flex;\n",
              "      flex-wrap:wrap;\n",
              "      gap: 12px;\n",
              "    }\n",
              "\n",
              "    .colab-df-convert {\n",
              "      background-color: #E8F0FE;\n",
              "      border: none;\n",
              "      border-radius: 50%;\n",
              "      cursor: pointer;\n",
              "      display: none;\n",
              "      fill: #1967D2;\n",
              "      height: 32px;\n",
              "      padding: 0 0 0 0;\n",
              "      width: 32px;\n",
              "    }\n",
              "\n",
              "    .colab-df-convert:hover {\n",
              "      background-color: #E2EBFA;\n",
              "      box-shadow: 0px 1px 2px rgba(60, 64, 67, 0.3), 0px 1px 3px 1px rgba(60, 64, 67, 0.15);\n",
              "      fill: #174EA6;\n",
              "    }\n",
              "\n",
              "    [theme=dark] .colab-df-convert {\n",
              "      background-color: #3B4455;\n",
              "      fill: #D2E3FC;\n",
              "    }\n",
              "\n",
              "    [theme=dark] .colab-df-convert:hover {\n",
              "      background-color: #434B5C;\n",
              "      box-shadow: 0px 1px 3px 1px rgba(0, 0, 0, 0.15);\n",
              "      filter: drop-shadow(0px 1px 2px rgba(0, 0, 0, 0.3));\n",
              "      fill: #FFFFFF;\n",
              "    }\n",
              "  </style>\n",
              "\n",
              "      <script>\n",
              "        const buttonEl =\n",
              "          document.querySelector('#df-5acfeab1-828a-4987-8354-bb8d81dd92ba button.colab-df-convert');\n",
              "        buttonEl.style.display =\n",
              "          google.colab.kernel.accessAllowed ? 'block' : 'none';\n",
              "\n",
              "        async function convertToInteractive(key) {\n",
              "          const element = document.querySelector('#df-5acfeab1-828a-4987-8354-bb8d81dd92ba');\n",
              "          const dataTable =\n",
              "            await google.colab.kernel.invokeFunction('convertToInteractive',\n",
              "                                                     [key], {});\n",
              "          if (!dataTable) return;\n",
              "\n",
              "          const docLinkHtml = 'Like what you see? Visit the ' +\n",
              "            '<a target=\"_blank\" href=https://colab.research.google.com/notebooks/data_table.ipynb>data table notebook</a>'\n",
              "            + ' to learn more about interactive tables.';\n",
              "          element.innerHTML = '';\n",
              "          dataTable['output_type'] = 'display_data';\n",
              "          await google.colab.output.renderOutput(dataTable, element);\n",
              "          const docLink = document.createElement('div');\n",
              "          docLink.innerHTML = docLinkHtml;\n",
              "          element.appendChild(docLink);\n",
              "        }\n",
              "      </script>\n",
              "    </div>\n",
              "  </div>\n",
              "  "
            ]
          },
          "metadata": {},
          "execution_count": 173
        }
      ]
    },
    {
      "cell_type": "code",
      "source": [
        "reduced = data_filtered[(data_filtered['Basic_Demos,Age'] < 8) & (data_filtered['Status'] != 'control')][['CTOPP,CTOPP_BW_D', 'CTOPP,CTOPP_BW_P', 'CTOPP,CTOPP_BW_R',\n",
        "       'CTOPP,CTOPP_BW_S', 'CTOPP,CTOPP_EL_D', 'CTOPP,CTOPP_EL_P',\n",
        "       'CTOPP,CTOPP_EL_R', 'CTOPP,CTOPP_EL_S', 'CTOPP,CTOPP_NR_D',\n",
        "       'CTOPP,CTOPP_NR_P', 'CTOPP,CTOPP_NR_R', 'CTOPP,CTOPP_NR_S',\n",
        "       'CTOPP,CTOPP_RD_D', 'CTOPP,CTOPP_RD_P', 'CTOPP,CTOPP_RD_R',\n",
        "       'CTOPP,CTOPP_RD_S', 'CTOPP,CTOPP_RL_D', 'CTOPP,CTOPP_RL_P',\n",
        "       'CTOPP,CTOPP_RL_R', 'CTOPP,CTOPP_RL_S', 'CTOPP,CTOPP_RO_D',\n",
        "       'CTOPP,CTOPP_RO_P', 'CTOPP,CTOPP_RO_R', 'CTOPP,CTOPP_RO_S',\n",
        "       'CTOPP,CTOPP_RSN_Comp', 'CTOPP,CTOPP_RSN_D', 'CTOPP,CTOPP_RSN_P',\n",
        "       'CTOPP,CTOPP_RSN_Sum', 'EVT,EVT2_StandardScore', 'PPVT,PPVT4_StandardScore']]"
      ],
      "metadata": {
        "id": "uhfLrhOMHlxt"
      },
      "execution_count": null,
      "outputs": []
    },
    {
      "cell_type": "code",
      "source": [
        "names = ['CTOPP,CTOPP_BW_D', 'CTOPP,CTOPP_BW_P', 'CTOPP,CTOPP_BW_R',\n",
        "       'CTOPP,CTOPP_BW_S', 'CTOPP,CTOPP_EL_D', 'CTOPP,CTOPP_EL_P',\n",
        "       'CTOPP,CTOPP_EL_R', 'CTOPP,CTOPP_EL_S', 'CTOPP,CTOPP_NR_D',\n",
        "       'CTOPP,CTOPP_NR_P', 'CTOPP,CTOPP_NR_R', 'CTOPP,CTOPP_NR_S',\n",
        "       'CTOPP,CTOPP_RD_D', 'CTOPP,CTOPP_RD_P', 'CTOPP,CTOPP_RD_R',\n",
        "       'CTOPP,CTOPP_RD_S', 'CTOPP,CTOPP_RL_D', 'CTOPP,CTOPP_RL_P',\n",
        "       'CTOPP,CTOPP_RL_R', 'CTOPP,CTOPP_RL_S', 'CTOPP,CTOPP_RO_D',\n",
        "       'CTOPP,CTOPP_RO_P', 'CTOPP,CTOPP_RO_R', 'CTOPP,CTOPP_RO_S',\n",
        "       'CTOPP,CTOPP_RSN_Comp', 'CTOPP,CTOPP_RSN_D', 'CTOPP,CTOPP_RSN_P',\n",
        "       'CTOPP,CTOPP_RSN_Sum']\n",
        "for name in names:\n",
        "  reduced[name] = reduced[name].fillna('.')"
      ],
      "metadata": {
        "id": "LENjOp5wIZ4j"
      },
      "execution_count": null,
      "outputs": []
    },
    {
      "cell_type": "code",
      "source": [
        "reduced['CTOPP,CTOPP_RL_S'].unique()"
      ],
      "metadata": {
        "id": "Tg5H2s7JICjj",
        "outputId": "46676a42-157d-4fe0-a7fe-7377a6296f8b",
        "colab": {
          "base_uri": "https://localhost:8080/"
        }
      },
      "execution_count": null,
      "outputs": [
        {
          "output_type": "execute_result",
          "data": {
            "text/plain": [
              "array(['7', '6', '10', '9', '5', '3', '8', '11', '.', '14', '13', '2',\n",
              "       '12', '1'], dtype=object)"
            ]
          },
          "metadata": {},
          "execution_count": 169
        }
      ]
    },
    {
      "cell_type": "code",
      "source": [
        "reduced[(reduced['CTOPP,CTOPP_RD_D'] != '.') &\n",
        "        (reduced['CTOPP,CTOPP_RL_D'] != '.') &\n",
        "        (reduced['CTOPP,CTOPP_RO_D'] != '.') &\n",
        "        (reduced['CTOPP,CTOPP_RSN_D'] != '.')]"
      ],
      "metadata": {
        "id": "pg3h1amZK2V6",
        "outputId": "d07a54d2-ff1c-4122-b918-a7e1173d548e",
        "colab": {
          "base_uri": "https://localhost:8080/",
          "height": 581
        }
      },
      "execution_count": null,
      "outputs": [
        {
          "output_type": "execute_result",
          "data": {
            "text/plain": [
              "     CTOPP,CTOPP_BW_D CTOPP,CTOPP_BW_P CTOPP,CTOPP_BW_R CTOPP,CTOPP_BW_S  \\\n",
              "133           average               25               16                8   \n",
              "187       low average               16               13                7   \n",
              "1491          average               25               13                8   \n",
              "1632      low average               16               13                7   \n",
              "1772          average               37               16                9   \n",
              "1863          average               37               15                9   \n",
              "2818    extremely low                1                0                1   \n",
              "2826          average               37               18                9   \n",
              "3025              low                5                7                5   \n",
              "3212          average               37               18                9   \n",
              "3252          average               37               15                9   \n",
              "3881     high average               75               23               12   \n",
              "3900      low average               16               12                7   \n",
              "3985              low                2                7                4   \n",
              "\n",
              "     CTOPP,CTOPP_EL_D CTOPP,CTOPP_EL_P CTOPP,CTOPP_EL_R CTOPP,CTOPP_EL_S  \\\n",
              "133       low average               16                9                7   \n",
              "187       low average               16                8                7   \n",
              "1491          average               63               16               11   \n",
              "1632      low average               16                9                7   \n",
              "1772          average               50               13               10   \n",
              "1863          average               25                8                8   \n",
              "2818         very low                1                1                3   \n",
              "2826          average               37               14                9   \n",
              "3025         very low                1                0                3   \n",
              "3212          average               37               14                9   \n",
              "3252          average               37               10                9   \n",
              "3881      low average               16                8                7   \n",
              "3900      low average                9                5                6   \n",
              "3985      low average               16                8                7   \n",
              "\n",
              "     CTOPP,CTOPP_NR_D CTOPP,CTOPP_NR_P  ... CTOPP,CTOPP_RO_D CTOPP,CTOPP_RO_P  \\\n",
              "133               low                5  ...          average               63   \n",
              "187               low                5  ...              low                2   \n",
              "1491              low                2  ...          average               50   \n",
              "1632      low average                9  ...      low average               16   \n",
              "1772          average               50  ...          average               37   \n",
              "1863              low                5  ...              low                5   \n",
              "2818    extremely low                1  ...      low average               16   \n",
              "2826    extremely low                1  ...         very low                5   \n",
              "3025          average               50  ...          average               50   \n",
              "3212      low average               16  ...     high average               84   \n",
              "3252          average               37  ...              low                5   \n",
              "3881      low average               16  ...          average               63   \n",
              "3900      low average               16  ...          average               37   \n",
              "3985    extremely low                1  ...      low average               16   \n",
              "\n",
              "     CTOPP,CTOPP_RO_R CTOPP,CTOPP_RO_S CTOPP,CTOPP_RSN_Comp CTOPP,CTOPP_RSN_D  \\\n",
              "133                41               11                   98           average   \n",
              "187                73                4                   79               low   \n",
              "1491               48               10                  119        Above Aver   \n",
              "1632               57                7                   95           average   \n",
              "1772               52                9                   79               low   \n",
              "1863               70                5                   58     extremely low   \n",
              "2818               57                7                   88       low average   \n",
              "2826               69                5                   98           average   \n",
              "3025               48               10                  104           average   \n",
              "3212               33               13                  104           average   \n",
              "3252               75                5                  107           average   \n",
              "3881               34               11                   98           average   \n",
              "3900               51                9                  104           average   \n",
              "3985               58                7                   82       low average   \n",
              "\n",
              "     CTOPP,CTOPP_RSN_P CTOPP,CTOPP_RSN_Sum EVT,EVT2_StandardScore  \\\n",
              "133                 45                  19                     93   \n",
              "187                  8                  13                      .   \n",
              "1491                90                  26                      .   \n",
              "1632                37                  18                      .   \n",
              "1772                 8                  13                      .   \n",
              "1863                 1                   6                      .   \n",
              "2818                21                  16                      .   \n",
              "2826                45                  19                      .   \n",
              "3025                61                  21                      .   \n",
              "3212                61                  21                      .   \n",
              "3252                68                  22                     96   \n",
              "3881                45                  19                      .   \n",
              "3900                61                  21                      .   \n",
              "3985                12                  14                    110   \n",
              "\n",
              "     PPVT,PPVT4_StandardScore  \n",
              "133                        92  \n",
              "187                         .  \n",
              "1491                        .  \n",
              "1632                        .  \n",
              "1772                        .  \n",
              "1863                        .  \n",
              "2818                        .  \n",
              "2826                        .  \n",
              "3025                        .  \n",
              "3212                        .  \n",
              "3252                      103  \n",
              "3881                        .  \n",
              "3900                        .  \n",
              "3985                      110  \n",
              "\n",
              "[14 rows x 30 columns]"
            ],
            "text/html": [
              "\n",
              "  <div id=\"df-98bde2ca-52e8-495e-85ed-99354fcde49a\">\n",
              "    <div class=\"colab-df-container\">\n",
              "      <div>\n",
              "<style scoped>\n",
              "    .dataframe tbody tr th:only-of-type {\n",
              "        vertical-align: middle;\n",
              "    }\n",
              "\n",
              "    .dataframe tbody tr th {\n",
              "        vertical-align: top;\n",
              "    }\n",
              "\n",
              "    .dataframe thead th {\n",
              "        text-align: right;\n",
              "    }\n",
              "</style>\n",
              "<table border=\"1\" class=\"dataframe\">\n",
              "  <thead>\n",
              "    <tr style=\"text-align: right;\">\n",
              "      <th></th>\n",
              "      <th>CTOPP,CTOPP_BW_D</th>\n",
              "      <th>CTOPP,CTOPP_BW_P</th>\n",
              "      <th>CTOPP,CTOPP_BW_R</th>\n",
              "      <th>CTOPP,CTOPP_BW_S</th>\n",
              "      <th>CTOPP,CTOPP_EL_D</th>\n",
              "      <th>CTOPP,CTOPP_EL_P</th>\n",
              "      <th>CTOPP,CTOPP_EL_R</th>\n",
              "      <th>CTOPP,CTOPP_EL_S</th>\n",
              "      <th>CTOPP,CTOPP_NR_D</th>\n",
              "      <th>CTOPP,CTOPP_NR_P</th>\n",
              "      <th>...</th>\n",
              "      <th>CTOPP,CTOPP_RO_D</th>\n",
              "      <th>CTOPP,CTOPP_RO_P</th>\n",
              "      <th>CTOPP,CTOPP_RO_R</th>\n",
              "      <th>CTOPP,CTOPP_RO_S</th>\n",
              "      <th>CTOPP,CTOPP_RSN_Comp</th>\n",
              "      <th>CTOPP,CTOPP_RSN_D</th>\n",
              "      <th>CTOPP,CTOPP_RSN_P</th>\n",
              "      <th>CTOPP,CTOPP_RSN_Sum</th>\n",
              "      <th>EVT,EVT2_StandardScore</th>\n",
              "      <th>PPVT,PPVT4_StandardScore</th>\n",
              "    </tr>\n",
              "  </thead>\n",
              "  <tbody>\n",
              "    <tr>\n",
              "      <th>133</th>\n",
              "      <td>average</td>\n",
              "      <td>25</td>\n",
              "      <td>16</td>\n",
              "      <td>8</td>\n",
              "      <td>low average</td>\n",
              "      <td>16</td>\n",
              "      <td>9</td>\n",
              "      <td>7</td>\n",
              "      <td>low</td>\n",
              "      <td>5</td>\n",
              "      <td>...</td>\n",
              "      <td>average</td>\n",
              "      <td>63</td>\n",
              "      <td>41</td>\n",
              "      <td>11</td>\n",
              "      <td>98</td>\n",
              "      <td>average</td>\n",
              "      <td>45</td>\n",
              "      <td>19</td>\n",
              "      <td>93</td>\n",
              "      <td>92</td>\n",
              "    </tr>\n",
              "    <tr>\n",
              "      <th>187</th>\n",
              "      <td>low average</td>\n",
              "      <td>16</td>\n",
              "      <td>13</td>\n",
              "      <td>7</td>\n",
              "      <td>low average</td>\n",
              "      <td>16</td>\n",
              "      <td>8</td>\n",
              "      <td>7</td>\n",
              "      <td>low</td>\n",
              "      <td>5</td>\n",
              "      <td>...</td>\n",
              "      <td>low</td>\n",
              "      <td>2</td>\n",
              "      <td>73</td>\n",
              "      <td>4</td>\n",
              "      <td>79</td>\n",
              "      <td>low</td>\n",
              "      <td>8</td>\n",
              "      <td>13</td>\n",
              "      <td>.</td>\n",
              "      <td>.</td>\n",
              "    </tr>\n",
              "    <tr>\n",
              "      <th>1491</th>\n",
              "      <td>average</td>\n",
              "      <td>25</td>\n",
              "      <td>13</td>\n",
              "      <td>8</td>\n",
              "      <td>average</td>\n",
              "      <td>63</td>\n",
              "      <td>16</td>\n",
              "      <td>11</td>\n",
              "      <td>low</td>\n",
              "      <td>2</td>\n",
              "      <td>...</td>\n",
              "      <td>average</td>\n",
              "      <td>50</td>\n",
              "      <td>48</td>\n",
              "      <td>10</td>\n",
              "      <td>119</td>\n",
              "      <td>Above Aver</td>\n",
              "      <td>90</td>\n",
              "      <td>26</td>\n",
              "      <td>.</td>\n",
              "      <td>.</td>\n",
              "    </tr>\n",
              "    <tr>\n",
              "      <th>1632</th>\n",
              "      <td>low average</td>\n",
              "      <td>16</td>\n",
              "      <td>13</td>\n",
              "      <td>7</td>\n",
              "      <td>low average</td>\n",
              "      <td>16</td>\n",
              "      <td>9</td>\n",
              "      <td>7</td>\n",
              "      <td>low average</td>\n",
              "      <td>9</td>\n",
              "      <td>...</td>\n",
              "      <td>low average</td>\n",
              "      <td>16</td>\n",
              "      <td>57</td>\n",
              "      <td>7</td>\n",
              "      <td>95</td>\n",
              "      <td>average</td>\n",
              "      <td>37</td>\n",
              "      <td>18</td>\n",
              "      <td>.</td>\n",
              "      <td>.</td>\n",
              "    </tr>\n",
              "    <tr>\n",
              "      <th>1772</th>\n",
              "      <td>average</td>\n",
              "      <td>37</td>\n",
              "      <td>16</td>\n",
              "      <td>9</td>\n",
              "      <td>average</td>\n",
              "      <td>50</td>\n",
              "      <td>13</td>\n",
              "      <td>10</td>\n",
              "      <td>average</td>\n",
              "      <td>50</td>\n",
              "      <td>...</td>\n",
              "      <td>average</td>\n",
              "      <td>37</td>\n",
              "      <td>52</td>\n",
              "      <td>9</td>\n",
              "      <td>79</td>\n",
              "      <td>low</td>\n",
              "      <td>8</td>\n",
              "      <td>13</td>\n",
              "      <td>.</td>\n",
              "      <td>.</td>\n",
              "    </tr>\n",
              "    <tr>\n",
              "      <th>1863</th>\n",
              "      <td>average</td>\n",
              "      <td>37</td>\n",
              "      <td>15</td>\n",
              "      <td>9</td>\n",
              "      <td>average</td>\n",
              "      <td>25</td>\n",
              "      <td>8</td>\n",
              "      <td>8</td>\n",
              "      <td>low</td>\n",
              "      <td>5</td>\n",
              "      <td>...</td>\n",
              "      <td>low</td>\n",
              "      <td>5</td>\n",
              "      <td>70</td>\n",
              "      <td>5</td>\n",
              "      <td>58</td>\n",
              "      <td>extremely low</td>\n",
              "      <td>1</td>\n",
              "      <td>6</td>\n",
              "      <td>.</td>\n",
              "      <td>.</td>\n",
              "    </tr>\n",
              "    <tr>\n",
              "      <th>2818</th>\n",
              "      <td>extremely low</td>\n",
              "      <td>1</td>\n",
              "      <td>0</td>\n",
              "      <td>1</td>\n",
              "      <td>very low</td>\n",
              "      <td>1</td>\n",
              "      <td>1</td>\n",
              "      <td>3</td>\n",
              "      <td>extremely low</td>\n",
              "      <td>1</td>\n",
              "      <td>...</td>\n",
              "      <td>low average</td>\n",
              "      <td>16</td>\n",
              "      <td>57</td>\n",
              "      <td>7</td>\n",
              "      <td>88</td>\n",
              "      <td>low average</td>\n",
              "      <td>21</td>\n",
              "      <td>16</td>\n",
              "      <td>.</td>\n",
              "      <td>.</td>\n",
              "    </tr>\n",
              "    <tr>\n",
              "      <th>2826</th>\n",
              "      <td>average</td>\n",
              "      <td>37</td>\n",
              "      <td>18</td>\n",
              "      <td>9</td>\n",
              "      <td>average</td>\n",
              "      <td>37</td>\n",
              "      <td>14</td>\n",
              "      <td>9</td>\n",
              "      <td>extremely low</td>\n",
              "      <td>1</td>\n",
              "      <td>...</td>\n",
              "      <td>very low</td>\n",
              "      <td>5</td>\n",
              "      <td>69</td>\n",
              "      <td>5</td>\n",
              "      <td>98</td>\n",
              "      <td>average</td>\n",
              "      <td>45</td>\n",
              "      <td>19</td>\n",
              "      <td>.</td>\n",
              "      <td>.</td>\n",
              "    </tr>\n",
              "    <tr>\n",
              "      <th>3025</th>\n",
              "      <td>low</td>\n",
              "      <td>5</td>\n",
              "      <td>7</td>\n",
              "      <td>5</td>\n",
              "      <td>very low</td>\n",
              "      <td>1</td>\n",
              "      <td>0</td>\n",
              "      <td>3</td>\n",
              "      <td>average</td>\n",
              "      <td>50</td>\n",
              "      <td>...</td>\n",
              "      <td>average</td>\n",
              "      <td>50</td>\n",
              "      <td>48</td>\n",
              "      <td>10</td>\n",
              "      <td>104</td>\n",
              "      <td>average</td>\n",
              "      <td>61</td>\n",
              "      <td>21</td>\n",
              "      <td>.</td>\n",
              "      <td>.</td>\n",
              "    </tr>\n",
              "    <tr>\n",
              "      <th>3212</th>\n",
              "      <td>average</td>\n",
              "      <td>37</td>\n",
              "      <td>18</td>\n",
              "      <td>9</td>\n",
              "      <td>average</td>\n",
              "      <td>37</td>\n",
              "      <td>14</td>\n",
              "      <td>9</td>\n",
              "      <td>low average</td>\n",
              "      <td>16</td>\n",
              "      <td>...</td>\n",
              "      <td>high average</td>\n",
              "      <td>84</td>\n",
              "      <td>33</td>\n",
              "      <td>13</td>\n",
              "      <td>104</td>\n",
              "      <td>average</td>\n",
              "      <td>61</td>\n",
              "      <td>21</td>\n",
              "      <td>.</td>\n",
              "      <td>.</td>\n",
              "    </tr>\n",
              "    <tr>\n",
              "      <th>3252</th>\n",
              "      <td>average</td>\n",
              "      <td>37</td>\n",
              "      <td>15</td>\n",
              "      <td>9</td>\n",
              "      <td>average</td>\n",
              "      <td>37</td>\n",
              "      <td>10</td>\n",
              "      <td>9</td>\n",
              "      <td>average</td>\n",
              "      <td>37</td>\n",
              "      <td>...</td>\n",
              "      <td>low</td>\n",
              "      <td>5</td>\n",
              "      <td>75</td>\n",
              "      <td>5</td>\n",
              "      <td>107</td>\n",
              "      <td>average</td>\n",
              "      <td>68</td>\n",
              "      <td>22</td>\n",
              "      <td>96</td>\n",
              "      <td>103</td>\n",
              "    </tr>\n",
              "    <tr>\n",
              "      <th>3881</th>\n",
              "      <td>high average</td>\n",
              "      <td>75</td>\n",
              "      <td>23</td>\n",
              "      <td>12</td>\n",
              "      <td>low average</td>\n",
              "      <td>16</td>\n",
              "      <td>8</td>\n",
              "      <td>7</td>\n",
              "      <td>low average</td>\n",
              "      <td>16</td>\n",
              "      <td>...</td>\n",
              "      <td>average</td>\n",
              "      <td>63</td>\n",
              "      <td>34</td>\n",
              "      <td>11</td>\n",
              "      <td>98</td>\n",
              "      <td>average</td>\n",
              "      <td>45</td>\n",
              "      <td>19</td>\n",
              "      <td>.</td>\n",
              "      <td>.</td>\n",
              "    </tr>\n",
              "    <tr>\n",
              "      <th>3900</th>\n",
              "      <td>low average</td>\n",
              "      <td>16</td>\n",
              "      <td>12</td>\n",
              "      <td>7</td>\n",
              "      <td>low average</td>\n",
              "      <td>9</td>\n",
              "      <td>5</td>\n",
              "      <td>6</td>\n",
              "      <td>low average</td>\n",
              "      <td>16</td>\n",
              "      <td>...</td>\n",
              "      <td>average</td>\n",
              "      <td>37</td>\n",
              "      <td>51</td>\n",
              "      <td>9</td>\n",
              "      <td>104</td>\n",
              "      <td>average</td>\n",
              "      <td>61</td>\n",
              "      <td>21</td>\n",
              "      <td>.</td>\n",
              "      <td>.</td>\n",
              "    </tr>\n",
              "    <tr>\n",
              "      <th>3985</th>\n",
              "      <td>low</td>\n",
              "      <td>2</td>\n",
              "      <td>7</td>\n",
              "      <td>4</td>\n",
              "      <td>low average</td>\n",
              "      <td>16</td>\n",
              "      <td>8</td>\n",
              "      <td>7</td>\n",
              "      <td>extremely low</td>\n",
              "      <td>1</td>\n",
              "      <td>...</td>\n",
              "      <td>low average</td>\n",
              "      <td>16</td>\n",
              "      <td>58</td>\n",
              "      <td>7</td>\n",
              "      <td>82</td>\n",
              "      <td>low average</td>\n",
              "      <td>12</td>\n",
              "      <td>14</td>\n",
              "      <td>110</td>\n",
              "      <td>110</td>\n",
              "    </tr>\n",
              "  </tbody>\n",
              "</table>\n",
              "<p>14 rows × 30 columns</p>\n",
              "</div>\n",
              "      <button class=\"colab-df-convert\" onclick=\"convertToInteractive('df-98bde2ca-52e8-495e-85ed-99354fcde49a')\"\n",
              "              title=\"Convert this dataframe to an interactive table.\"\n",
              "              style=\"display:none;\">\n",
              "        \n",
              "  <svg xmlns=\"http://www.w3.org/2000/svg\" height=\"24px\"viewBox=\"0 0 24 24\"\n",
              "       width=\"24px\">\n",
              "    <path d=\"M0 0h24v24H0V0z\" fill=\"none\"/>\n",
              "    <path d=\"M18.56 5.44l.94 2.06.94-2.06 2.06-.94-2.06-.94-.94-2.06-.94 2.06-2.06.94zm-11 1L8.5 8.5l.94-2.06 2.06-.94-2.06-.94L8.5 2.5l-.94 2.06-2.06.94zm10 10l.94 2.06.94-2.06 2.06-.94-2.06-.94-.94-2.06-.94 2.06-2.06.94z\"/><path d=\"M17.41 7.96l-1.37-1.37c-.4-.4-.92-.59-1.43-.59-.52 0-1.04.2-1.43.59L10.3 9.45l-7.72 7.72c-.78.78-.78 2.05 0 2.83L4 21.41c.39.39.9.59 1.41.59.51 0 1.02-.2 1.41-.59l7.78-7.78 2.81-2.81c.8-.78.8-2.07 0-2.86zM5.41 20L4 18.59l7.72-7.72 1.47 1.35L5.41 20z\"/>\n",
              "  </svg>\n",
              "      </button>\n",
              "      \n",
              "  <style>\n",
              "    .colab-df-container {\n",
              "      display:flex;\n",
              "      flex-wrap:wrap;\n",
              "      gap: 12px;\n",
              "    }\n",
              "\n",
              "    .colab-df-convert {\n",
              "      background-color: #E8F0FE;\n",
              "      border: none;\n",
              "      border-radius: 50%;\n",
              "      cursor: pointer;\n",
              "      display: none;\n",
              "      fill: #1967D2;\n",
              "      height: 32px;\n",
              "      padding: 0 0 0 0;\n",
              "      width: 32px;\n",
              "    }\n",
              "\n",
              "    .colab-df-convert:hover {\n",
              "      background-color: #E2EBFA;\n",
              "      box-shadow: 0px 1px 2px rgba(60, 64, 67, 0.3), 0px 1px 3px 1px rgba(60, 64, 67, 0.15);\n",
              "      fill: #174EA6;\n",
              "    }\n",
              "\n",
              "    [theme=dark] .colab-df-convert {\n",
              "      background-color: #3B4455;\n",
              "      fill: #D2E3FC;\n",
              "    }\n",
              "\n",
              "    [theme=dark] .colab-df-convert:hover {\n",
              "      background-color: #434B5C;\n",
              "      box-shadow: 0px 1px 3px 1px rgba(0, 0, 0, 0.15);\n",
              "      filter: drop-shadow(0px 1px 2px rgba(0, 0, 0, 0.3));\n",
              "      fill: #FFFFFF;\n",
              "    }\n",
              "  </style>\n",
              "\n",
              "      <script>\n",
              "        const buttonEl =\n",
              "          document.querySelector('#df-98bde2ca-52e8-495e-85ed-99354fcde49a button.colab-df-convert');\n",
              "        buttonEl.style.display =\n",
              "          google.colab.kernel.accessAllowed ? 'block' : 'none';\n",
              "\n",
              "        async function convertToInteractive(key) {\n",
              "          const element = document.querySelector('#df-98bde2ca-52e8-495e-85ed-99354fcde49a');\n",
              "          const dataTable =\n",
              "            await google.colab.kernel.invokeFunction('convertToInteractive',\n",
              "                                                     [key], {});\n",
              "          if (!dataTable) return;\n",
              "\n",
              "          const docLinkHtml = 'Like what you see? Visit the ' +\n",
              "            '<a target=\"_blank\" href=https://colab.research.google.com/notebooks/data_table.ipynb>data table notebook</a>'\n",
              "            + ' to learn more about interactive tables.';\n",
              "          element.innerHTML = '';\n",
              "          dataTable['output_type'] = 'display_data';\n",
              "          await google.colab.output.renderOutput(dataTable, element);\n",
              "          const docLink = document.createElement('div');\n",
              "          docLink.innerHTML = docLinkHtml;\n",
              "          element.appendChild(docLink);\n",
              "        }\n",
              "      </script>\n",
              "    </div>\n",
              "  </div>\n",
              "  "
            ]
          },
          "metadata": {},
          "execution_count": 170
        }
      ]
    },
    {
      "cell_type": "code",
      "source": [
        "reduced[reduced['EVT,EVT2_StandardScore'] == '.']"
      ],
      "metadata": {
        "id": "u7GmlEPdIG_S",
        "outputId": "5fe82ea4-95bc-4669-934d-71368b8f36d8",
        "colab": {
          "base_uri": "https://localhost:8080/",
          "height": 487
        }
      },
      "execution_count": null,
      "outputs": [
        {
          "output_type": "execute_result",
          "data": {
            "text/plain": [
              "     CTOPP,CTOPP_BW_D CTOPP,CTOPP_BW_P CTOPP,CTOPP_BW_R CTOPP,CTOPP_BW_S  \\\n",
              "30           very low                5               15                5   \n",
              "82            average               25               19                8   \n",
              "162          very low                1               10                3   \n",
              "178       low average                6               16                7   \n",
              "179          very low                1                5                2   \n",
              "...               ...              ...              ...              ...   \n",
              "4383         very low                1                1                2   \n",
              "4477      low average               16               20                7   \n",
              "4507      low average                9               16                6   \n",
              "4611          average               37               23                9   \n",
              "4658         very low                1                7                3   \n",
              "\n",
              "     CTOPP,CTOPP_EL_D CTOPP,CTOPP_EL_P CTOPP,CTOPP_EL_R CTOPP,CTOPP_EL_S  \\\n",
              "30           very low                5               10                5   \n",
              "82        low average               16               15                7   \n",
              "162       low average               16               16                7   \n",
              "178               low                5                6                5   \n",
              "179               low                2                3                4   \n",
              "...               ...              ...              ...              ...   \n",
              "4383              low                5                3                5   \n",
              "4477      low average               16               18                7   \n",
              "4507      low average               16               15                7   \n",
              "4611          average               25               19                8   \n",
              "4658      low average                9                7                6   \n",
              "\n",
              "     CTOPP,CTOPP_NR_D CTOPP,CTOPP_NR_P  ... CTOPP,CTOPP_RO_D CTOPP,CTOPP_RO_P  \\\n",
              "30           very low                2  ...              NaN              NaN   \n",
              "82            average               25  ...              NaN              NaN   \n",
              "162      high average               75  ...              NaN              NaN   \n",
              "178           average               25  ...              NaN              NaN   \n",
              "179     extremely low                1  ...              NaN              NaN   \n",
              "...               ...              ...  ...              ...              ...   \n",
              "4383         very low                1  ...              NaN              NaN   \n",
              "4477          average               63  ...              NaN              NaN   \n",
              "4507         very low                1  ...              NaN              NaN   \n",
              "4611      low average                9  ...              NaN              NaN   \n",
              "4658              low                5  ...              NaN              NaN   \n",
              "\n",
              "     CTOPP,CTOPP_RO_R CTOPP,CTOPP_RO_S CTOPP,CTOPP_RSN_Comp CTOPP,CTOPP_RSN_D  \\\n",
              "30                NaN              NaN                   85       low average   \n",
              "82                NaN              NaN                   73               low   \n",
              "162               NaN              NaN                   85       low average   \n",
              "178               NaN              NaN                   95           average   \n",
              "179               NaN              NaN                   95           average   \n",
              "...               ...              ...                  ...               ...   \n",
              "4383              NaN              NaN                   95           average   \n",
              "4477              NaN              NaN                  101           average   \n",
              "4507              NaN              NaN                  104           average   \n",
              "4611              NaN              NaN                   82       low average   \n",
              "4658              NaN              NaN                   55     extremely low   \n",
              "\n",
              "     CTOPP,CTOPP_RSN_P CTOPP,CTOPP_RSN_Sum EVT,EVT2_StandardScore  \\\n",
              "30                  16                  15                      .   \n",
              "82                   3                  11                      .   \n",
              "162                 16                  15                      .   \n",
              "178                 37                  18                      .   \n",
              "179                 37                  18                      .   \n",
              "...                ...                 ...                    ...   \n",
              "4383                37                  18                      .   \n",
              "4477                53                  20                      .   \n",
              "4507                61                  21                      .   \n",
              "4611                12                  14                      .   \n",
              "4658                 1                   5                      .   \n",
              "\n",
              "     PPVT,PPVT4_StandardScore  \n",
              "30                          .  \n",
              "82                          .  \n",
              "162                         .  \n",
              "178                         .  \n",
              "179                         .  \n",
              "...                       ...  \n",
              "4383                        .  \n",
              "4477                        .  \n",
              "4507                        .  \n",
              "4611                        .  \n",
              "4658                        .  \n",
              "\n",
              "[81 rows x 30 columns]"
            ],
            "text/html": [
              "\n",
              "  <div id=\"df-17c505c3-fa69-4dbf-883e-db6c69ab961a\">\n",
              "    <div class=\"colab-df-container\">\n",
              "      <div>\n",
              "<style scoped>\n",
              "    .dataframe tbody tr th:only-of-type {\n",
              "        vertical-align: middle;\n",
              "    }\n",
              "\n",
              "    .dataframe tbody tr th {\n",
              "        vertical-align: top;\n",
              "    }\n",
              "\n",
              "    .dataframe thead th {\n",
              "        text-align: right;\n",
              "    }\n",
              "</style>\n",
              "<table border=\"1\" class=\"dataframe\">\n",
              "  <thead>\n",
              "    <tr style=\"text-align: right;\">\n",
              "      <th></th>\n",
              "      <th>CTOPP,CTOPP_BW_D</th>\n",
              "      <th>CTOPP,CTOPP_BW_P</th>\n",
              "      <th>CTOPP,CTOPP_BW_R</th>\n",
              "      <th>CTOPP,CTOPP_BW_S</th>\n",
              "      <th>CTOPP,CTOPP_EL_D</th>\n",
              "      <th>CTOPP,CTOPP_EL_P</th>\n",
              "      <th>CTOPP,CTOPP_EL_R</th>\n",
              "      <th>CTOPP,CTOPP_EL_S</th>\n",
              "      <th>CTOPP,CTOPP_NR_D</th>\n",
              "      <th>CTOPP,CTOPP_NR_P</th>\n",
              "      <th>...</th>\n",
              "      <th>CTOPP,CTOPP_RO_D</th>\n",
              "      <th>CTOPP,CTOPP_RO_P</th>\n",
              "      <th>CTOPP,CTOPP_RO_R</th>\n",
              "      <th>CTOPP,CTOPP_RO_S</th>\n",
              "      <th>CTOPP,CTOPP_RSN_Comp</th>\n",
              "      <th>CTOPP,CTOPP_RSN_D</th>\n",
              "      <th>CTOPP,CTOPP_RSN_P</th>\n",
              "      <th>CTOPP,CTOPP_RSN_Sum</th>\n",
              "      <th>EVT,EVT2_StandardScore</th>\n",
              "      <th>PPVT,PPVT4_StandardScore</th>\n",
              "    </tr>\n",
              "  </thead>\n",
              "  <tbody>\n",
              "    <tr>\n",
              "      <th>30</th>\n",
              "      <td>very low</td>\n",
              "      <td>5</td>\n",
              "      <td>15</td>\n",
              "      <td>5</td>\n",
              "      <td>very low</td>\n",
              "      <td>5</td>\n",
              "      <td>10</td>\n",
              "      <td>5</td>\n",
              "      <td>very low</td>\n",
              "      <td>2</td>\n",
              "      <td>...</td>\n",
              "      <td>NaN</td>\n",
              "      <td>NaN</td>\n",
              "      <td>NaN</td>\n",
              "      <td>NaN</td>\n",
              "      <td>85</td>\n",
              "      <td>low average</td>\n",
              "      <td>16</td>\n",
              "      <td>15</td>\n",
              "      <td>.</td>\n",
              "      <td>.</td>\n",
              "    </tr>\n",
              "    <tr>\n",
              "      <th>82</th>\n",
              "      <td>average</td>\n",
              "      <td>25</td>\n",
              "      <td>19</td>\n",
              "      <td>8</td>\n",
              "      <td>low average</td>\n",
              "      <td>16</td>\n",
              "      <td>15</td>\n",
              "      <td>7</td>\n",
              "      <td>average</td>\n",
              "      <td>25</td>\n",
              "      <td>...</td>\n",
              "      <td>NaN</td>\n",
              "      <td>NaN</td>\n",
              "      <td>NaN</td>\n",
              "      <td>NaN</td>\n",
              "      <td>73</td>\n",
              "      <td>low</td>\n",
              "      <td>3</td>\n",
              "      <td>11</td>\n",
              "      <td>.</td>\n",
              "      <td>.</td>\n",
              "    </tr>\n",
              "    <tr>\n",
              "      <th>162</th>\n",
              "      <td>very low</td>\n",
              "      <td>1</td>\n",
              "      <td>10</td>\n",
              "      <td>3</td>\n",
              "      <td>low average</td>\n",
              "      <td>16</td>\n",
              "      <td>16</td>\n",
              "      <td>7</td>\n",
              "      <td>high average</td>\n",
              "      <td>75</td>\n",
              "      <td>...</td>\n",
              "      <td>NaN</td>\n",
              "      <td>NaN</td>\n",
              "      <td>NaN</td>\n",
              "      <td>NaN</td>\n",
              "      <td>85</td>\n",
              "      <td>low average</td>\n",
              "      <td>16</td>\n",
              "      <td>15</td>\n",
              "      <td>.</td>\n",
              "      <td>.</td>\n",
              "    </tr>\n",
              "    <tr>\n",
              "      <th>178</th>\n",
              "      <td>low average</td>\n",
              "      <td>6</td>\n",
              "      <td>16</td>\n",
              "      <td>7</td>\n",
              "      <td>low</td>\n",
              "      <td>5</td>\n",
              "      <td>6</td>\n",
              "      <td>5</td>\n",
              "      <td>average</td>\n",
              "      <td>25</td>\n",
              "      <td>...</td>\n",
              "      <td>NaN</td>\n",
              "      <td>NaN</td>\n",
              "      <td>NaN</td>\n",
              "      <td>NaN</td>\n",
              "      <td>95</td>\n",
              "      <td>average</td>\n",
              "      <td>37</td>\n",
              "      <td>18</td>\n",
              "      <td>.</td>\n",
              "      <td>.</td>\n",
              "    </tr>\n",
              "    <tr>\n",
              "      <th>179</th>\n",
              "      <td>very low</td>\n",
              "      <td>1</td>\n",
              "      <td>5</td>\n",
              "      <td>2</td>\n",
              "      <td>low</td>\n",
              "      <td>2</td>\n",
              "      <td>3</td>\n",
              "      <td>4</td>\n",
              "      <td>extremely low</td>\n",
              "      <td>1</td>\n",
              "      <td>...</td>\n",
              "      <td>NaN</td>\n",
              "      <td>NaN</td>\n",
              "      <td>NaN</td>\n",
              "      <td>NaN</td>\n",
              "      <td>95</td>\n",
              "      <td>average</td>\n",
              "      <td>37</td>\n",
              "      <td>18</td>\n",
              "      <td>.</td>\n",
              "      <td>.</td>\n",
              "    </tr>\n",
              "    <tr>\n",
              "      <th>...</th>\n",
              "      <td>...</td>\n",
              "      <td>...</td>\n",
              "      <td>...</td>\n",
              "      <td>...</td>\n",
              "      <td>...</td>\n",
              "      <td>...</td>\n",
              "      <td>...</td>\n",
              "      <td>...</td>\n",
              "      <td>...</td>\n",
              "      <td>...</td>\n",
              "      <td>...</td>\n",
              "      <td>...</td>\n",
              "      <td>...</td>\n",
              "      <td>...</td>\n",
              "      <td>...</td>\n",
              "      <td>...</td>\n",
              "      <td>...</td>\n",
              "      <td>...</td>\n",
              "      <td>...</td>\n",
              "      <td>...</td>\n",
              "      <td>...</td>\n",
              "    </tr>\n",
              "    <tr>\n",
              "      <th>4383</th>\n",
              "      <td>very low</td>\n",
              "      <td>1</td>\n",
              "      <td>1</td>\n",
              "      <td>2</td>\n",
              "      <td>low</td>\n",
              "      <td>5</td>\n",
              "      <td>3</td>\n",
              "      <td>5</td>\n",
              "      <td>very low</td>\n",
              "      <td>1</td>\n",
              "      <td>...</td>\n",
              "      <td>NaN</td>\n",
              "      <td>NaN</td>\n",
              "      <td>NaN</td>\n",
              "      <td>NaN</td>\n",
              "      <td>95</td>\n",
              "      <td>average</td>\n",
              "      <td>37</td>\n",
              "      <td>18</td>\n",
              "      <td>.</td>\n",
              "      <td>.</td>\n",
              "    </tr>\n",
              "    <tr>\n",
              "      <th>4477</th>\n",
              "      <td>low average</td>\n",
              "      <td>16</td>\n",
              "      <td>20</td>\n",
              "      <td>7</td>\n",
              "      <td>low average</td>\n",
              "      <td>16</td>\n",
              "      <td>18</td>\n",
              "      <td>7</td>\n",
              "      <td>average</td>\n",
              "      <td>63</td>\n",
              "      <td>...</td>\n",
              "      <td>NaN</td>\n",
              "      <td>NaN</td>\n",
              "      <td>NaN</td>\n",
              "      <td>NaN</td>\n",
              "      <td>101</td>\n",
              "      <td>average</td>\n",
              "      <td>53</td>\n",
              "      <td>20</td>\n",
              "      <td>.</td>\n",
              "      <td>.</td>\n",
              "    </tr>\n",
              "    <tr>\n",
              "      <th>4507</th>\n",
              "      <td>low average</td>\n",
              "      <td>9</td>\n",
              "      <td>16</td>\n",
              "      <td>6</td>\n",
              "      <td>low average</td>\n",
              "      <td>16</td>\n",
              "      <td>15</td>\n",
              "      <td>7</td>\n",
              "      <td>very low</td>\n",
              "      <td>1</td>\n",
              "      <td>...</td>\n",
              "      <td>NaN</td>\n",
              "      <td>NaN</td>\n",
              "      <td>NaN</td>\n",
              "      <td>NaN</td>\n",
              "      <td>104</td>\n",
              "      <td>average</td>\n",
              "      <td>61</td>\n",
              "      <td>21</td>\n",
              "      <td>.</td>\n",
              "      <td>.</td>\n",
              "    </tr>\n",
              "    <tr>\n",
              "      <th>4611</th>\n",
              "      <td>average</td>\n",
              "      <td>37</td>\n",
              "      <td>23</td>\n",
              "      <td>9</td>\n",
              "      <td>average</td>\n",
              "      <td>25</td>\n",
              "      <td>19</td>\n",
              "      <td>8</td>\n",
              "      <td>low average</td>\n",
              "      <td>9</td>\n",
              "      <td>...</td>\n",
              "      <td>NaN</td>\n",
              "      <td>NaN</td>\n",
              "      <td>NaN</td>\n",
              "      <td>NaN</td>\n",
              "      <td>82</td>\n",
              "      <td>low average</td>\n",
              "      <td>12</td>\n",
              "      <td>14</td>\n",
              "      <td>.</td>\n",
              "      <td>.</td>\n",
              "    </tr>\n",
              "    <tr>\n",
              "      <th>4658</th>\n",
              "      <td>very low</td>\n",
              "      <td>1</td>\n",
              "      <td>7</td>\n",
              "      <td>3</td>\n",
              "      <td>low average</td>\n",
              "      <td>9</td>\n",
              "      <td>7</td>\n",
              "      <td>6</td>\n",
              "      <td>low</td>\n",
              "      <td>5</td>\n",
              "      <td>...</td>\n",
              "      <td>NaN</td>\n",
              "      <td>NaN</td>\n",
              "      <td>NaN</td>\n",
              "      <td>NaN</td>\n",
              "      <td>55</td>\n",
              "      <td>extremely low</td>\n",
              "      <td>1</td>\n",
              "      <td>5</td>\n",
              "      <td>.</td>\n",
              "      <td>.</td>\n",
              "    </tr>\n",
              "  </tbody>\n",
              "</table>\n",
              "<p>81 rows × 30 columns</p>\n",
              "</div>\n",
              "      <button class=\"colab-df-convert\" onclick=\"convertToInteractive('df-17c505c3-fa69-4dbf-883e-db6c69ab961a')\"\n",
              "              title=\"Convert this dataframe to an interactive table.\"\n",
              "              style=\"display:none;\">\n",
              "        \n",
              "  <svg xmlns=\"http://www.w3.org/2000/svg\" height=\"24px\"viewBox=\"0 0 24 24\"\n",
              "       width=\"24px\">\n",
              "    <path d=\"M0 0h24v24H0V0z\" fill=\"none\"/>\n",
              "    <path d=\"M18.56 5.44l.94 2.06.94-2.06 2.06-.94-2.06-.94-.94-2.06-.94 2.06-2.06.94zm-11 1L8.5 8.5l.94-2.06 2.06-.94-2.06-.94L8.5 2.5l-.94 2.06-2.06.94zm10 10l.94 2.06.94-2.06 2.06-.94-2.06-.94-.94-2.06-.94 2.06-2.06.94z\"/><path d=\"M17.41 7.96l-1.37-1.37c-.4-.4-.92-.59-1.43-.59-.52 0-1.04.2-1.43.59L10.3 9.45l-7.72 7.72c-.78.78-.78 2.05 0 2.83L4 21.41c.39.39.9.59 1.41.59.51 0 1.02-.2 1.41-.59l7.78-7.78 2.81-2.81c.8-.78.8-2.07 0-2.86zM5.41 20L4 18.59l7.72-7.72 1.47 1.35L5.41 20z\"/>\n",
              "  </svg>\n",
              "      </button>\n",
              "      \n",
              "  <style>\n",
              "    .colab-df-container {\n",
              "      display:flex;\n",
              "      flex-wrap:wrap;\n",
              "      gap: 12px;\n",
              "    }\n",
              "\n",
              "    .colab-df-convert {\n",
              "      background-color: #E8F0FE;\n",
              "      border: none;\n",
              "      border-radius: 50%;\n",
              "      cursor: pointer;\n",
              "      display: none;\n",
              "      fill: #1967D2;\n",
              "      height: 32px;\n",
              "      padding: 0 0 0 0;\n",
              "      width: 32px;\n",
              "    }\n",
              "\n",
              "    .colab-df-convert:hover {\n",
              "      background-color: #E2EBFA;\n",
              "      box-shadow: 0px 1px 2px rgba(60, 64, 67, 0.3), 0px 1px 3px 1px rgba(60, 64, 67, 0.15);\n",
              "      fill: #174EA6;\n",
              "    }\n",
              "\n",
              "    [theme=dark] .colab-df-convert {\n",
              "      background-color: #3B4455;\n",
              "      fill: #D2E3FC;\n",
              "    }\n",
              "\n",
              "    [theme=dark] .colab-df-convert:hover {\n",
              "      background-color: #434B5C;\n",
              "      box-shadow: 0px 1px 3px 1px rgba(0, 0, 0, 0.15);\n",
              "      filter: drop-shadow(0px 1px 2px rgba(0, 0, 0, 0.3));\n",
              "      fill: #FFFFFF;\n",
              "    }\n",
              "  </style>\n",
              "\n",
              "      <script>\n",
              "        const buttonEl =\n",
              "          document.querySelector('#df-17c505c3-fa69-4dbf-883e-db6c69ab961a button.colab-df-convert');\n",
              "        buttonEl.style.display =\n",
              "          google.colab.kernel.accessAllowed ? 'block' : 'none';\n",
              "\n",
              "        async function convertToInteractive(key) {\n",
              "          const element = document.querySelector('#df-17c505c3-fa69-4dbf-883e-db6c69ab961a');\n",
              "          const dataTable =\n",
              "            await google.colab.kernel.invokeFunction('convertToInteractive',\n",
              "                                                     [key], {});\n",
              "          if (!dataTable) return;\n",
              "\n",
              "          const docLinkHtml = 'Like what you see? Visit the ' +\n",
              "            '<a target=\"_blank\" href=https://colab.research.google.com/notebooks/data_table.ipynb>data table notebook</a>'\n",
              "            + ' to learn more about interactive tables.';\n",
              "          element.innerHTML = '';\n",
              "          dataTable['output_type'] = 'display_data';\n",
              "          await google.colab.output.renderOutput(dataTable, element);\n",
              "          const docLink = document.createElement('div');\n",
              "          docLink.innerHTML = docLinkHtml;\n",
              "          element.appendChild(docLink);\n",
              "        }\n",
              "      </script>\n",
              "    </div>\n",
              "  </div>\n",
              "  "
            ]
          },
          "metadata": {},
          "execution_count": 163
        }
      ]
    },
    {
      "cell_type": "code",
      "source": [
        "data_filtered[data_filtered['DD'] == 1].groupby(['DD type'])[['Identifiers']].count()"
      ],
      "metadata": {
        "id": "9z3GH4VTVTma",
        "outputId": "b371b878-347d-4cfd-d85b-2a239a25c407",
        "colab": {
          "base_uri": "https://localhost:8080/",
          "height": 206
        }
      },
      "execution_count": null,
      "outputs": [
        {
          "output_type": "execute_result",
          "data": {
            "text/plain": [
              "                        Identifiers\n",
              "DD type                            \n",
              "Reading                         283\n",
              "Reading, Math                    41\n",
              "Reading, Writing                  6\n",
              "Reading, Writing, Math            3"
            ],
            "text/html": [
              "\n",
              "  <div id=\"df-5987ae59-6fc3-4b36-99cf-669ed0fc7bab\">\n",
              "    <div class=\"colab-df-container\">\n",
              "      <div>\n",
              "<style scoped>\n",
              "    .dataframe tbody tr th:only-of-type {\n",
              "        vertical-align: middle;\n",
              "    }\n",
              "\n",
              "    .dataframe tbody tr th {\n",
              "        vertical-align: top;\n",
              "    }\n",
              "\n",
              "    .dataframe thead th {\n",
              "        text-align: right;\n",
              "    }\n",
              "</style>\n",
              "<table border=\"1\" class=\"dataframe\">\n",
              "  <thead>\n",
              "    <tr style=\"text-align: right;\">\n",
              "      <th></th>\n",
              "      <th>Identifiers</th>\n",
              "    </tr>\n",
              "    <tr>\n",
              "      <th>DD type</th>\n",
              "      <th></th>\n",
              "    </tr>\n",
              "  </thead>\n",
              "  <tbody>\n",
              "    <tr>\n",
              "      <th>Reading</th>\n",
              "      <td>283</td>\n",
              "    </tr>\n",
              "    <tr>\n",
              "      <th>Reading, Math</th>\n",
              "      <td>41</td>\n",
              "    </tr>\n",
              "    <tr>\n",
              "      <th>Reading, Writing</th>\n",
              "      <td>6</td>\n",
              "    </tr>\n",
              "    <tr>\n",
              "      <th>Reading, Writing, Math</th>\n",
              "      <td>3</td>\n",
              "    </tr>\n",
              "  </tbody>\n",
              "</table>\n",
              "</div>\n",
              "      <button class=\"colab-df-convert\" onclick=\"convertToInteractive('df-5987ae59-6fc3-4b36-99cf-669ed0fc7bab')\"\n",
              "              title=\"Convert this dataframe to an interactive table.\"\n",
              "              style=\"display:none;\">\n",
              "        \n",
              "  <svg xmlns=\"http://www.w3.org/2000/svg\" height=\"24px\"viewBox=\"0 0 24 24\"\n",
              "       width=\"24px\">\n",
              "    <path d=\"M0 0h24v24H0V0z\" fill=\"none\"/>\n",
              "    <path d=\"M18.56 5.44l.94 2.06.94-2.06 2.06-.94-2.06-.94-.94-2.06-.94 2.06-2.06.94zm-11 1L8.5 8.5l.94-2.06 2.06-.94-2.06-.94L8.5 2.5l-.94 2.06-2.06.94zm10 10l.94 2.06.94-2.06 2.06-.94-2.06-.94-.94-2.06-.94 2.06-2.06.94z\"/><path d=\"M17.41 7.96l-1.37-1.37c-.4-.4-.92-.59-1.43-.59-.52 0-1.04.2-1.43.59L10.3 9.45l-7.72 7.72c-.78.78-.78 2.05 0 2.83L4 21.41c.39.39.9.59 1.41.59.51 0 1.02-.2 1.41-.59l7.78-7.78 2.81-2.81c.8-.78.8-2.07 0-2.86zM5.41 20L4 18.59l7.72-7.72 1.47 1.35L5.41 20z\"/>\n",
              "  </svg>\n",
              "      </button>\n",
              "      \n",
              "  <style>\n",
              "    .colab-df-container {\n",
              "      display:flex;\n",
              "      flex-wrap:wrap;\n",
              "      gap: 12px;\n",
              "    }\n",
              "\n",
              "    .colab-df-convert {\n",
              "      background-color: #E8F0FE;\n",
              "      border: none;\n",
              "      border-radius: 50%;\n",
              "      cursor: pointer;\n",
              "      display: none;\n",
              "      fill: #1967D2;\n",
              "      height: 32px;\n",
              "      padding: 0 0 0 0;\n",
              "      width: 32px;\n",
              "    }\n",
              "\n",
              "    .colab-df-convert:hover {\n",
              "      background-color: #E2EBFA;\n",
              "      box-shadow: 0px 1px 2px rgba(60, 64, 67, 0.3), 0px 1px 3px 1px rgba(60, 64, 67, 0.15);\n",
              "      fill: #174EA6;\n",
              "    }\n",
              "\n",
              "    [theme=dark] .colab-df-convert {\n",
              "      background-color: #3B4455;\n",
              "      fill: #D2E3FC;\n",
              "    }\n",
              "\n",
              "    [theme=dark] .colab-df-convert:hover {\n",
              "      background-color: #434B5C;\n",
              "      box-shadow: 0px 1px 3px 1px rgba(0, 0, 0, 0.15);\n",
              "      filter: drop-shadow(0px 1px 2px rgba(0, 0, 0, 0.3));\n",
              "      fill: #FFFFFF;\n",
              "    }\n",
              "  </style>\n",
              "\n",
              "      <script>\n",
              "        const buttonEl =\n",
              "          document.querySelector('#df-5987ae59-6fc3-4b36-99cf-669ed0fc7bab button.colab-df-convert');\n",
              "        buttonEl.style.display =\n",
              "          google.colab.kernel.accessAllowed ? 'block' : 'none';\n",
              "\n",
              "        async function convertToInteractive(key) {\n",
              "          const element = document.querySelector('#df-5987ae59-6fc3-4b36-99cf-669ed0fc7bab');\n",
              "          const dataTable =\n",
              "            await google.colab.kernel.invokeFunction('convertToInteractive',\n",
              "                                                     [key], {});\n",
              "          if (!dataTable) return;\n",
              "\n",
              "          const docLinkHtml = 'Like what you see? Visit the ' +\n",
              "            '<a target=\"_blank\" href=https://colab.research.google.com/notebooks/data_table.ipynb>data table notebook</a>'\n",
              "            + ' to learn more about interactive tables.';\n",
              "          element.innerHTML = '';\n",
              "          dataTable['output_type'] = 'display_data';\n",
              "          await google.colab.output.renderOutput(dataTable, element);\n",
              "          const docLink = document.createElement('div');\n",
              "          docLink.innerHTML = docLinkHtml;\n",
              "          element.appendChild(docLink);\n",
              "        }\n",
              "      </script>\n",
              "    </div>\n",
              "  </div>\n",
              "  "
            ]
          },
          "metadata": {},
          "execution_count": 570
        }
      ]
    },
    {
      "cell_type": "code",
      "source": [
        "sns.displot(data_filtered[data_filtered['DD'] == 1]['Basic_Demos,Age'],\n",
        "             binwidth = 1)\n",
        "pl.title('Age distribution in DD group');"
      ],
      "metadata": {
        "id": "uT9jzc6Y75CJ",
        "outputId": "7afc0239-7747-4994-cce9-4e4df11d9af5",
        "colab": {
          "base_uri": "https://localhost:8080/",
          "height": 523
        }
      },
      "execution_count": null,
      "outputs": [
        {
          "output_type": "display_data",
          "data": {
            "text/plain": [
              "<Figure size 500x500 with 1 Axes>"
            ],
            "image/png": "[encoded data removed]"
          },
          "metadata": {}
        }
      ]
    },
    {
      "cell_type": "code",
      "source": [
        "sns.displot(data_filtered[data_filtered['Status'] == 'control']['Basic_Demos,Age'],\n",
        "             binwidth = 1)\n",
        "pl.title('Age distribution in TD group');"
      ],
      "metadata": {
        "id": "0zf_Vly3VsAZ",
        "outputId": "b6aadd9e-dbfc-4f00-e2b7-6201a18533ff",
        "colab": {
          "base_uri": "https://localhost:8080/",
          "height": 523
        }
      },
      "execution_count": null,
      "outputs": [
        {
          "output_type": "display_data",
          "data": {
            "text/plain": [
              "<Figure size 500x500 with 1 Axes>"
            ],
            "image/png": "[encoded data removed]"
          },
          "metadata": {}
        }
      ]
    },
    {
      "cell_type": "code",
      "source": [
        "print('5-6 years old')\n",
        "print(data_filtered[(data_filtered['Basic_Demos,Age'] > 5) & (data_filtered['Basic_Demos,Age'] < 6) & (data_filtered['Status'] != 'control')].shape[0])\n",
        "print('6-7 years old')\n",
        "print(data_filtered[(data_filtered['Basic_Demos,Age'] >= 6) & (data_filtered['Basic_Demos,Age'] < 7) & (data_filtered['Status'] != 'control')].shape[0])\n",
        "print('7-8 years old')\n",
        "print(data_filtered[(data_filtered['Basic_Demos,Age'] >= 7) & (data_filtered['Basic_Demos,Age'] < 8) & (data_filtered['Status'] != 'control')].shape[0])\n",
        "print('8-9 years old')\n",
        "print(data_filtered[(data_filtered['Basic_Demos,Age'] >= 8) & (data_filtered['Basic_Demos,Age'] < 9) & (data_filtered['Status'] != 'control')].shape[0])\n",
        "print('9-10 years old')\n",
        "print(data_filtered[(data_filtered['Basic_Demos,Age'] >= 9) & (data_filtered['Basic_Demos,Age'] < 10) & (data_filtered['Status'] != 'control')].shape[0])\n",
        "print('10-11 years old')\n",
        "print(data_filtered[(data_filtered['Basic_Demos,Age'] >= 10) & (data_filtered['Basic_Demos,Age'] < 11) & (data_filtered['Status'] != 'control')].shape[0])\n",
        "print('11-12 years old')\n",
        "print(data_filtered[(data_filtered['Basic_Demos,Age'] >= 11) & (data_filtered['Basic_Demos,Age'] < 12) & (data_filtered['Status'] != 'control')].shape[0])\n",
        "print('from 12 years old')\n",
        "print(data_filtered[(data_filtered['Basic_Demos,Age'] >= 12) & (data_filtered['Status'] != 'control')].shape[0])"
      ],
      "metadata": {
        "id": "yJ2mRhHUtFUf",
        "outputId": "84ca588b-1f3c-4a80-c451-fc83dfc438b0",
        "colab": {
          "base_uri": "https://localhost:8080/"
        }
      },
      "execution_count": null,
      "outputs": [
        {
          "output_type": "stream",
          "name": "stdout",
          "text": [
            "5-6 years old\n",
            "3\n",
            "6-7 years old\n",
            "34\n",
            "7-8 years old\n",
            "55\n",
            "8-9 years old\n",
            "62\n",
            "9-10 years old\n",
            "50\n",
            "10-11 years old\n",
            "35\n",
            "11-12 years old\n",
            "27\n",
            "from 12 years old\n",
            "67\n"
          ]
        }
      ]
    },
    {
      "cell_type": "code",
      "source": [
        "print('5-6 years old')\n",
        "print(data_filtered[(data_filtered['Basic_Demos,Age'] > 5) & (data_filtered['Basic_Demos,Age'] < 6) & (data_filtered['Status'] == 'control')].shape[0])\n",
        "print('6-7 years old')\n",
        "print(data_filtered[(data_filtered['Basic_Demos,Age'] >= 6) & (data_filtered['Basic_Demos,Age'] < 7) & (data_filtered['Status'] == 'control')].shape[0])\n",
        "print('7-8 years old')\n",
        "print(data_filtered[(data_filtered['Basic_Demos,Age'] >= 7) & (data_filtered['Basic_Demos,Age'] < 8) & (data_filtered['Status'] == 'control')].shape[0])\n",
        "print('8-9 years old')\n",
        "print(data_filtered[(data_filtered['Basic_Demos,Age'] >= 8) & (data_filtered['Basic_Demos,Age'] < 9) & (data_filtered['Status'] == 'control')].shape[0])\n",
        "print('9-10 years old')\n",
        "print(data_filtered[(data_filtered['Basic_Demos,Age'] >= 9) & (data_filtered['Basic_Demos,Age'] < 10) & (data_filtered['Status'] == 'control')].shape[0])\n",
        "print('10-11 years old')\n",
        "print(data_filtered[(data_filtered['Basic_Demos,Age'] >= 10) & (data_filtered['Basic_Demos,Age'] < 11) & (data_filtered['Status'] == 'control')].shape[0])\n",
        "print('11-12 years old')\n",
        "print(data_filtered[(data_filtered['Basic_Demos,Age'] >= 11) & (data_filtered['Basic_Demos,Age'] < 12) & (data_filtered['Status'] == 'control')].shape[0])\n",
        "print('from 12 years old')\n",
        "print(data_filtered[(data_filtered['Basic_Demos,Age'] >= 12) & (data_filtered['Status'] == 'control')].shape[0])"
      ],
      "metadata": {
        "id": "f1EVHKHuV9J5",
        "outputId": "746c21c0-5acf-43d5-8da9-316ad7382259",
        "colab": {
          "base_uri": "https://localhost:8080/"
        }
      },
      "execution_count": null,
      "outputs": [
        {
          "output_type": "stream",
          "name": "stdout",
          "text": [
            "5-6 years old\n",
            "22\n",
            "6-7 years old\n",
            "28\n",
            "7-8 years old\n",
            "31\n",
            "8-9 years old\n",
            "20\n",
            "9-10 years old\n",
            "22\n",
            "10-11 years old\n",
            "26\n",
            "11-12 years old\n",
            "21\n",
            "from 12 years old\n",
            "49\n"
          ]
        }
      ]
    },
    {
      "cell_type": "code",
      "source": [
        "diag = data_filtered.Diagnosis.values\n",
        "adhd = []\n",
        "for i in diag:\n",
        "  if i == 0:\n",
        "    adhd.append(0)\n",
        "  elif 'ADHD' in i:\n",
        "    if 'ADHD-Inattentive Type' in i:\n",
        "      adhd.append('ADHD-Inattentive Type')\n",
        "    elif 'ADHD-Combined Type' in i:\n",
        "      adhd.append('ADHD-Combined Type')\n",
        "    elif 'ADHD-Hyperactive/Impulsive Type' in i:\n",
        "      adhd.append('ADHD-Hyperactive/Impulsive Type')\n",
        "    elif 'Unspecified Attention-Deficit/Hyperactivity Disorder' in i:\n",
        "      adhd.append('Unspecified ADHD')\n",
        "    elif 'Other Specified Attention-Deficit/Hyperactivity Disorder' in i:\n",
        "      adhd.append('Specified ADHD')\n",
        "  else:\n",
        "    adhd.append(0)"
      ],
      "metadata": {
        "id": "XVncSNs0e2bv"
      },
      "execution_count": null,
      "outputs": []
    },
    {
      "cell_type": "code",
      "source": [
        "data_filtered['ADHD'] = adhd"
      ],
      "metadata": {
        "id": "hyYlSFW3f8LF"
      },
      "execution_count": null,
      "outputs": []
    },
    {
      "cell_type": "code",
      "source": [
        "data_filtered.ADHD.unique()"
      ],
      "metadata": {
        "id": "qbXXoAXwUe7b",
        "outputId": "0a2cd5d6-5bd2-4f91-9cb7-2b6c4457182b",
        "colab": {
          "base_uri": "https://localhost:8080/"
        }
      },
      "execution_count": null,
      "outputs": [
        {
          "output_type": "execute_result",
          "data": {
            "text/plain": [
              "array(['ADHD-Inattentive Type', 0, 'ADHD-Combined Type',\n",
              "       'ADHD-Hyperactive/Impulsive Type'], dtype=object)"
            ]
          },
          "metadata": {},
          "execution_count": 581
        }
      ]
    },
    {
      "cell_type": "code",
      "source": [
        "data_filtered[data_filtered['ADHD'] != 0].groupby(['ADHD'])[['Identifiers']].count()"
      ],
      "metadata": {
        "id": "213oW6hTKNLC",
        "outputId": "0ae4d15a-d06d-4f53-e03d-97e1558a942b",
        "colab": {
          "base_uri": "https://localhost:8080/",
          "height": 175
        }
      },
      "execution_count": null,
      "outputs": [
        {
          "output_type": "execute_result",
          "data": {
            "text/plain": [
              "                                 Identifiers\n",
              "ADHD                                        \n",
              "ADHD-Combined Type                        78\n",
              "ADHD-Hyperactive/Impulsive Type            7\n",
              "ADHD-Inattentive Type                     91"
            ],
            "text/html": [
              "\n",
              "  <div id=\"df-2e2135cc-d7ab-453a-b39c-b0f72e2a0bf6\">\n",
              "    <div class=\"colab-df-container\">\n",
              "      <div>\n",
              "<style scoped>\n",
              "    .dataframe tbody tr th:only-of-type {\n",
              "        vertical-align: middle;\n",
              "    }\n",
              "\n",
              "    .dataframe tbody tr th {\n",
              "        vertical-align: top;\n",
              "    }\n",
              "\n",
              "    .dataframe thead th {\n",
              "        text-align: right;\n",
              "    }\n",
              "</style>\n",
              "<table border=\"1\" class=\"dataframe\">\n",
              "  <thead>\n",
              "    <tr style=\"text-align: right;\">\n",
              "      <th></th>\n",
              "      <th>Identifiers</th>\n",
              "    </tr>\n",
              "    <tr>\n",
              "      <th>ADHD</th>\n",
              "      <th></th>\n",
              "    </tr>\n",
              "  </thead>\n",
              "  <tbody>\n",
              "    <tr>\n",
              "      <th>ADHD-Combined Type</th>\n",
              "      <td>78</td>\n",
              "    </tr>\n",
              "    <tr>\n",
              "      <th>ADHD-Hyperactive/Impulsive Type</th>\n",
              "      <td>7</td>\n",
              "    </tr>\n",
              "    <tr>\n",
              "      <th>ADHD-Inattentive Type</th>\n",
              "      <td>91</td>\n",
              "    </tr>\n",
              "  </tbody>\n",
              "</table>\n",
              "</div>\n",
              "      <button class=\"colab-df-convert\" onclick=\"convertToInteractive('df-2e2135cc-d7ab-453a-b39c-b0f72e2a0bf6')\"\n",
              "              title=\"Convert this dataframe to an interactive table.\"\n",
              "              style=\"display:none;\">\n",
              "        \n",
              "  <svg xmlns=\"http://www.w3.org/2000/svg\" height=\"24px\"viewBox=\"0 0 24 24\"\n",
              "       width=\"24px\">\n",
              "    <path d=\"M0 0h24v24H0V0z\" fill=\"none\"/>\n",
              "    <path d=\"M18.56 5.44l.94 2.06.94-2.06 2.06-.94-2.06-.94-.94-2.06-.94 2.06-2.06.94zm-11 1L8.5 8.5l.94-2.06 2.06-.94-2.06-.94L8.5 2.5l-.94 2.06-2.06.94zm10 10l.94 2.06.94-2.06 2.06-.94-2.06-.94-.94-2.06-.94 2.06-2.06.94z\"/><path d=\"M17.41 7.96l-1.37-1.37c-.4-.4-.92-.59-1.43-.59-.52 0-1.04.2-1.43.59L10.3 9.45l-7.72 7.72c-.78.78-.78 2.05 0 2.83L4 21.41c.39.39.9.59 1.41.59.51 0 1.02-.2 1.41-.59l7.78-7.78 2.81-2.81c.8-.78.8-2.07 0-2.86zM5.41 20L4 18.59l7.72-7.72 1.47 1.35L5.41 20z\"/>\n",
              "  </svg>\n",
              "      </button>\n",
              "      \n",
              "  <style>\n",
              "    .colab-df-container {\n",
              "      display:flex;\n",
              "      flex-wrap:wrap;\n",
              "      gap: 12px;\n",
              "    }\n",
              "\n",
              "    .colab-df-convert {\n",
              "      background-color: #E8F0FE;\n",
              "      border: none;\n",
              "      border-radius: 50%;\n",
              "      cursor: pointer;\n",
              "      display: none;\n",
              "      fill: #1967D2;\n",
              "      height: 32px;\n",
              "      padding: 0 0 0 0;\n",
              "      width: 32px;\n",
              "    }\n",
              "\n",
              "    .colab-df-convert:hover {\n",
              "      background-color: #E2EBFA;\n",
              "      box-shadow: 0px 1px 2px rgba(60, 64, 67, 0.3), 0px 1px 3px 1px rgba(60, 64, 67, 0.15);\n",
              "      fill: #174EA6;\n",
              "    }\n",
              "\n",
              "    [theme=dark] .colab-df-convert {\n",
              "      background-color: #3B4455;\n",
              "      fill: #D2E3FC;\n",
              "    }\n",
              "\n",
              "    [theme=dark] .colab-df-convert:hover {\n",
              "      background-color: #434B5C;\n",
              "      box-shadow: 0px 1px 3px 1px rgba(0, 0, 0, 0.15);\n",
              "      filter: drop-shadow(0px 1px 2px rgba(0, 0, 0, 0.3));\n",
              "      fill: #FFFFFF;\n",
              "    }\n",
              "  </style>\n",
              "\n",
              "      <script>\n",
              "        const buttonEl =\n",
              "          document.querySelector('#df-2e2135cc-d7ab-453a-b39c-b0f72e2a0bf6 button.colab-df-convert');\n",
              "        buttonEl.style.display =\n",
              "          google.colab.kernel.accessAllowed ? 'block' : 'none';\n",
              "\n",
              "        async function convertToInteractive(key) {\n",
              "          const element = document.querySelector('#df-2e2135cc-d7ab-453a-b39c-b0f72e2a0bf6');\n",
              "          const dataTable =\n",
              "            await google.colab.kernel.invokeFunction('convertToInteractive',\n",
              "                                                     [key], {});\n",
              "          if (!dataTable) return;\n",
              "\n",
              "          const docLinkHtml = 'Like what you see? Visit the ' +\n",
              "            '<a target=\"_blank\" href=https://colab.research.google.com/notebooks/data_table.ipynb>data table notebook</a>'\n",
              "            + ' to learn more about interactive tables.';\n",
              "          element.innerHTML = '';\n",
              "          dataTable['output_type'] = 'display_data';\n",
              "          await google.colab.output.renderOutput(dataTable, element);\n",
              "          const docLink = document.createElement('div');\n",
              "          docLink.innerHTML = docLinkHtml;\n",
              "          element.appendChild(docLink);\n",
              "        }\n",
              "      </script>\n",
              "    </div>\n",
              "  </div>\n",
              "  "
            ]
          },
          "metadata": {},
          "execution_count": 583
        }
      ]
    }
  ]
}