{
  "nbformat": 4,
  "nbformat_minor": 0,
  "metadata": {
    "colab": {
      "provenance": [],
      "authorship_tag": "ABX9TyN3q08ObRLV57eCfTgW6bAU",
      "include_colab_link": true
    },
    "kernelspec": {
      "name": "python3",
      "display_name": "Python 3"
    },
    "language_info": {
      "name": "python"
    }
  },
  "cells": [
    {
      "cell_type": "markdown",
      "metadata": {
        "id": "view-in-github",
        "colab_type": "text"
      },
      "source": [
        "<a href=\"https://colab.research.google.com/github/cristinarainich/Child-Mind-Institute-Project/blob/main/Pheno_data.ipynb\" target=\"_parent\"><img src=\"https://colab.research.google.com/assets/colab-badge.svg\" alt=\"Open In Colab\"/></a>"
      ]
    },
    {
      "cell_type": "code",
      "execution_count": 1,
      "metadata": {
        "colab": {
          "base_uri": "https://localhost:8080/"
        },
        "id": "7sLM_aBE1XSO",
        "outputId": "6ca72021-b242-414e-8ee4-6ebe8beb6747"
      },
      "outputs": [
        {
          "output_type": "stream",
          "name": "stdout",
          "text": [
            "Mounted at /content/drive\n"
          ]
        }
      ],
      "source": [
        "from google.colab import drive\n",
        "drive.mount('/content/drive')"
      ]
    },
    {
      "cell_type": "code",
      "source": [
        "from pathlib import Path\n",
        "import pandas as pd\n",
        "import numpy as np\n",
        "import pylab as pl\n",
        "import seaborn as sns\n",
        "%pylab inline"
      ],
      "metadata": {
        "colab": {
          "base_uri": "https://localhost:8080/"
        },
        "id": "aaZC6otb1s12",
        "outputId": "f8c628ae-6249-4a32-df40-dc3c8d97f404"
      },
      "execution_count": 2,
      "outputs": [
        {
          "output_type": "stream",
          "name": "stdout",
          "text": [
            "Populating the interactive namespace from numpy and matplotlib\n"
          ]
        }
      ]
    },
    {
      "cell_type": "code",
      "source": [
        "sns.set()"
      ],
      "metadata": {
        "id": "lAeNDY5uJvVf"
      },
      "execution_count": 3,
      "outputs": []
    },
    {
      "cell_type": "code",
      "source": [
        "working_path = Path('/content/drive/MyDrive/KKNV')"
      ],
      "metadata": {
        "id": "aonUk2xG1llO"
      },
      "execution_count": 4,
      "outputs": []
    },
    {
      "cell_type": "code",
      "source": [
        "cd /content/drive/MyDrive/KKNV"
      ],
      "metadata": {
        "colab": {
          "base_uri": "https://localhost:8080/"
        },
        "id": "z9Xbaxjz1yH3",
        "outputId": "d3e45fc6-33c3-48b6-9fd4-5a93cda82455"
      },
      "execution_count": 5,
      "outputs": [
        {
          "output_type": "stream",
          "name": "stdout",
          "text": [
            "/content/drive/MyDrive/KKNV\n"
          ]
        }
      ]
    },
    {
      "cell_type": "code",
      "source": [
        "!ls /content/drive/MyDrive/KKNV"
      ],
      "metadata": {
        "id": "q3nRWl5Ku-95",
        "outputId": "9d9efe3f-99e9-40ad-e5ab-9485d9801c3b",
        "colab": {
          "base_uri": "https://localhost:8080/"
        }
      },
      "execution_count": 6,
      "outputs": [
        {
          "output_type": "stream",
          "name": "stdout",
          "text": [
            "CMIHBN_pheno_R8.csv  Pheno.csv\tQuery1.csv\n"
          ]
        }
      ]
    },
    {
      "cell_type": "code",
      "source": [
        "xx = pd.read_csv(\n",
        "    working_path.joinpath('Pheno.csv'),\n",
        "    index_col=None\n",
        ")"
      ],
      "metadata": {
        "id": "iBUQnyhg1lqH"
      },
      "execution_count": 35,
      "outputs": []
    },
    {
      "cell_type": "code",
      "source": [
        "xx.head()"
      ],
      "metadata": {
        "colab": {
          "base_uri": "https://localhost:8080/",
          "height": 206
        },
        "id": "9l-Czbij2BG1",
        "outputId": "2aa06ae6-db7a-489b-c5c8-68887f4f9d5c"
      },
      "execution_count": 36,
      "outputs": [
        {
          "output_type": "execute_result",
          "data": {
            "text/plain": [
              "            EID  Sex       Age  EHQ_Total Commercial_Use Full_Pheno\n",
              "0  NDARJK487UCN    0  9.942276      83.34            Yes        Yes\n",
              "1  NDARFW670TY2    0  8.792835      80.00            Yes        Yes\n",
              "2  NDARHU395FP0    0  7.407027      76.67            Yes        Yes\n",
              "3  NDARHV885JFU    0  8.893794      44.47            Yes        Yes\n",
              "4  NDARCP753UEW    0  8.135295     100.00            Yes        Yes"
            ],
            "text/html": [
              "\n",
              "  <div id=\"df-db3a9070-cac5-4f6c-9e7b-79846172653f\">\n",
              "    <div class=\"colab-df-container\">\n",
              "      <div>\n",
              "<style scoped>\n",
              "    .dataframe tbody tr th:only-of-type {\n",
              "        vertical-align: middle;\n",
              "    }\n",
              "\n",
              "    .dataframe tbody tr th {\n",
              "        vertical-align: top;\n",
              "    }\n",
              "\n",
              "    .dataframe thead th {\n",
              "        text-align: right;\n",
              "    }\n",
              "</style>\n",
              "<table border=\"1\" class=\"dataframe\">\n",
              "  <thead>\n",
              "    <tr style=\"text-align: right;\">\n",
              "      <th></th>\n",
              "      <th>EID</th>\n",
              "      <th>Sex</th>\n",
              "      <th>Age</th>\n",
              "      <th>EHQ_Total</th>\n",
              "      <th>Commercial_Use</th>\n",
              "      <th>Full_Pheno</th>\n",
              "    </tr>\n",
              "  </thead>\n",
              "  <tbody>\n",
              "    <tr>\n",
              "      <th>0</th>\n",
              "      <td>NDARJK487UCN</td>\n",
              "      <td>0</td>\n",
              "      <td>9.942276</td>\n",
              "      <td>83.34</td>\n",
              "      <td>Yes</td>\n",
              "      <td>Yes</td>\n",
              "    </tr>\n",
              "    <tr>\n",
              "      <th>1</th>\n",
              "      <td>NDARFW670TY2</td>\n",
              "      <td>0</td>\n",
              "      <td>8.792835</td>\n",
              "      <td>80.00</td>\n",
              "      <td>Yes</td>\n",
              "      <td>Yes</td>\n",
              "    </tr>\n",
              "    <tr>\n",
              "      <th>2</th>\n",
              "      <td>NDARHU395FP0</td>\n",
              "      <td>0</td>\n",
              "      <td>7.407027</td>\n",
              "      <td>76.67</td>\n",
              "      <td>Yes</td>\n",
              "      <td>Yes</td>\n",
              "    </tr>\n",
              "    <tr>\n",
              "      <th>3</th>\n",
              "      <td>NDARHV885JFU</td>\n",
              "      <td>0</td>\n",
              "      <td>8.893794</td>\n",
              "      <td>44.47</td>\n",
              "      <td>Yes</td>\n",
              "      <td>Yes</td>\n",
              "    </tr>\n",
              "    <tr>\n",
              "      <th>4</th>\n",
              "      <td>NDARCP753UEW</td>\n",
              "      <td>0</td>\n",
              "      <td>8.135295</td>\n",
              "      <td>100.00</td>\n",
              "      <td>Yes</td>\n",
              "      <td>Yes</td>\n",
              "    </tr>\n",
              "  </tbody>\n",
              "</table>\n",
              "</div>\n",
              "      <button class=\"colab-df-convert\" onclick=\"convertToInteractive('df-db3a9070-cac5-4f6c-9e7b-79846172653f')\"\n",
              "              title=\"Convert this dataframe to an interactive table.\"\n",
              "              style=\"display:none;\">\n",
              "        \n",
              "  <svg xmlns=\"http://www.w3.org/2000/svg\" height=\"24px\"viewBox=\"0 0 24 24\"\n",
              "       width=\"24px\">\n",
              "    <path d=\"M0 0h24v24H0V0z\" fill=\"none\"/>\n",
              "    <path d=\"M18.56 5.44l.94 2.06.94-2.06 2.06-.94-2.06-.94-.94-2.06-.94 2.06-2.06.94zm-11 1L8.5 8.5l.94-2.06 2.06-.94-2.06-.94L8.5 2.5l-.94 2.06-2.06.94zm10 10l.94 2.06.94-2.06 2.06-.94-2.06-.94-.94-2.06-.94 2.06-2.06.94z\"/><path d=\"M17.41 7.96l-1.37-1.37c-.4-.4-.92-.59-1.43-.59-.52 0-1.04.2-1.43.59L10.3 9.45l-7.72 7.72c-.78.78-.78 2.05 0 2.83L4 21.41c.39.39.9.59 1.41.59.51 0 1.02-.2 1.41-.59l7.78-7.78 2.81-2.81c.8-.78.8-2.07 0-2.86zM5.41 20L4 18.59l7.72-7.72 1.47 1.35L5.41 20z\"/>\n",
              "  </svg>\n",
              "      </button>\n",
              "      \n",
              "  <style>\n",
              "    .colab-df-container {\n",
              "      display:flex;\n",
              "      flex-wrap:wrap;\n",
              "      gap: 12px;\n",
              "    }\n",
              "\n",
              "    .colab-df-convert {\n",
              "      background-color: #E8F0FE;\n",
              "      border: none;\n",
              "      border-radius: 50%;\n",
              "      cursor: pointer;\n",
              "      display: none;\n",
              "      fill: #1967D2;\n",
              "      height: 32px;\n",
              "      padding: 0 0 0 0;\n",
              "      width: 32px;\n",
              "    }\n",
              "\n",
              "    .colab-df-convert:hover {\n",
              "      background-color: #E2EBFA;\n",
              "      box-shadow: 0px 1px 2px rgba(60, 64, 67, 0.3), 0px 1px 3px 1px rgba(60, 64, 67, 0.15);\n",
              "      fill: #174EA6;\n",
              "    }\n",
              "\n",
              "    [theme=dark] .colab-df-convert {\n",
              "      background-color: #3B4455;\n",
              "      fill: #D2E3FC;\n",
              "    }\n",
              "\n",
              "    [theme=dark] .colab-df-convert:hover {\n",
              "      background-color: #434B5C;\n",
              "      box-shadow: 0px 1px 3px 1px rgba(0, 0, 0, 0.15);\n",
              "      filter: drop-shadow(0px 1px 2px rgba(0, 0, 0, 0.3));\n",
              "      fill: #FFFFFF;\n",
              "    }\n",
              "  </style>\n",
              "\n",
              "      <script>\n",
              "        const buttonEl =\n",
              "          document.querySelector('#df-db3a9070-cac5-4f6c-9e7b-79846172653f button.colab-df-convert');\n",
              "        buttonEl.style.display =\n",
              "          google.colab.kernel.accessAllowed ? 'block' : 'none';\n",
              "\n",
              "        async function convertToInteractive(key) {\n",
              "          const element = document.querySelector('#df-db3a9070-cac5-4f6c-9e7b-79846172653f');\n",
              "          const dataTable =\n",
              "            await google.colab.kernel.invokeFunction('convertToInteractive',\n",
              "                                                     [key], {});\n",
              "          if (!dataTable) return;\n",
              "\n",
              "          const docLinkHtml = 'Like what you see? Visit the ' +\n",
              "            '<a target=\"_blank\" href=https://colab.research.google.com/notebooks/data_table.ipynb>data table notebook</a>'\n",
              "            + ' to learn more about interactive tables.';\n",
              "          element.innerHTML = '';\n",
              "          dataTable['output_type'] = 'display_data';\n",
              "          await google.colab.output.renderOutput(dataTable, element);\n",
              "          const docLink = document.createElement('div');\n",
              "          docLink.innerHTML = docLinkHtml;\n",
              "          element.appendChild(docLink);\n",
              "        }\n",
              "      </script>\n",
              "    </div>\n",
              "  </div>\n",
              "  "
            ]
          },
          "metadata": {},
          "execution_count": 36
        }
      ]
    },
    {
      "cell_type": "code",
      "source": [
        "xx.shape"
      ],
      "metadata": {
        "colab": {
          "base_uri": "https://localhost:8080/"
        },
        "id": "ra-l-EPW2hm2",
        "outputId": "0cf17c90-b78f-4e6d-e542-cc73833eaf79"
      },
      "execution_count": 37,
      "outputs": [
        {
          "output_type": "execute_result",
          "data": {
            "text/plain": [
              "(852, 6)"
            ]
          },
          "metadata": {},
          "execution_count": 37
        }
      ]
    },
    {
      "cell_type": "markdown",
      "source": [
        "Sex 1 - female, 0 - male; EHQ_Total: +100 = Fully Right-Handed, -100 = Fully Left-Handed; full_pheno: Does the participant have a full phenotypic file?"
      ],
      "metadata": {
        "id": "DMU_gX7M2tJe"
      }
    },
    {
      "cell_type": "markdown",
      "source": [
        "Only 333 out of 852 have the full phenotypical file. All of them signed up for commercial use.\n"
      ],
      "metadata": {
        "id": "yW3aSd28JWjX"
      }
    },
    {
      "cell_type": "code",
      "source": [
        "full = xx[xx['Full_Pheno'] == 'Yes']"
      ],
      "metadata": {
        "id": "W6XaETK22iTO"
      },
      "execution_count": null,
      "outputs": []
    },
    {
      "cell_type": "code",
      "source": [
        "# how many males and females \n",
        "full.groupby(['Sex'])[['Full_Pheno']].count()"
      ],
      "metadata": {
        "colab": {
          "base_uri": "https://localhost:8080/",
          "height": 143
        },
        "id": "2Irf7qbGKMoL",
        "outputId": "cf1ab525-a289-4772-fd80-93e3e2f0ee1a"
      },
      "execution_count": null,
      "outputs": [
        {
          "output_type": "execute_result",
          "data": {
            "text/plain": [
              "     Full_Pheno\n",
              "Sex            \n",
              "0           209\n",
              "1           124"
            ],
            "text/html": [
              "\n",
              "  <div id=\"df-328b3cc9-6d8c-4e07-999a-7c4f7e9a513e\">\n",
              "    <div class=\"colab-df-container\">\n",
              "      <div>\n",
              "<style scoped>\n",
              "    .dataframe tbody tr th:only-of-type {\n",
              "        vertical-align: middle;\n",
              "    }\n",
              "\n",
              "    .dataframe tbody tr th {\n",
              "        vertical-align: top;\n",
              "    }\n",
              "\n",
              "    .dataframe thead th {\n",
              "        text-align: right;\n",
              "    }\n",
              "</style>\n",
              "<table border=\"1\" class=\"dataframe\">\n",
              "  <thead>\n",
              "    <tr style=\"text-align: right;\">\n",
              "      <th></th>\n",
              "      <th>Full_Pheno</th>\n",
              "    </tr>\n",
              "    <tr>\n",
              "      <th>Sex</th>\n",
              "      <th></th>\n",
              "    </tr>\n",
              "  </thead>\n",
              "  <tbody>\n",
              "    <tr>\n",
              "      <th>0</th>\n",
              "      <td>209</td>\n",
              "    </tr>\n",
              "    <tr>\n",
              "      <th>1</th>\n",
              "      <td>124</td>\n",
              "    </tr>\n",
              "  </tbody>\n",
              "</table>\n",
              "</div>\n",
              "      <button class=\"colab-df-convert\" onclick=\"convertToInteractive('df-328b3cc9-6d8c-4e07-999a-7c4f7e9a513e')\"\n",
              "              title=\"Convert this dataframe to an interactive table.\"\n",
              "              style=\"display:none;\">\n",
              "        \n",
              "  <svg xmlns=\"http://www.w3.org/2000/svg\" height=\"24px\"viewBox=\"0 0 24 24\"\n",
              "       width=\"24px\">\n",
              "    <path d=\"M0 0h24v24H0V0z\" fill=\"none\"/>\n",
              "    <path d=\"M18.56 5.44l.94 2.06.94-2.06 2.06-.94-2.06-.94-.94-2.06-.94 2.06-2.06.94zm-11 1L8.5 8.5l.94-2.06 2.06-.94-2.06-.94L8.5 2.5l-.94 2.06-2.06.94zm10 10l.94 2.06.94-2.06 2.06-.94-2.06-.94-.94-2.06-.94 2.06-2.06.94z\"/><path d=\"M17.41 7.96l-1.37-1.37c-.4-.4-.92-.59-1.43-.59-.52 0-1.04.2-1.43.59L10.3 9.45l-7.72 7.72c-.78.78-.78 2.05 0 2.83L4 21.41c.39.39.9.59 1.41.59.51 0 1.02-.2 1.41-.59l7.78-7.78 2.81-2.81c.8-.78.8-2.07 0-2.86zM5.41 20L4 18.59l7.72-7.72 1.47 1.35L5.41 20z\"/>\n",
              "  </svg>\n",
              "      </button>\n",
              "      \n",
              "  <style>\n",
              "    .colab-df-container {\n",
              "      display:flex;\n",
              "      flex-wrap:wrap;\n",
              "      gap: 12px;\n",
              "    }\n",
              "\n",
              "    .colab-df-convert {\n",
              "      background-color: #E8F0FE;\n",
              "      border: none;\n",
              "      border-radius: 50%;\n",
              "      cursor: pointer;\n",
              "      display: none;\n",
              "      fill: #1967D2;\n",
              "      height: 32px;\n",
              "      padding: 0 0 0 0;\n",
              "      width: 32px;\n",
              "    }\n",
              "\n",
              "    .colab-df-convert:hover {\n",
              "      background-color: #E2EBFA;\n",
              "      box-shadow: 0px 1px 2px rgba(60, 64, 67, 0.3), 0px 1px 3px 1px rgba(60, 64, 67, 0.15);\n",
              "      fill: #174EA6;\n",
              "    }\n",
              "\n",
              "    [theme=dark] .colab-df-convert {\n",
              "      background-color: #3B4455;\n",
              "      fill: #D2E3FC;\n",
              "    }\n",
              "\n",
              "    [theme=dark] .colab-df-convert:hover {\n",
              "      background-color: #434B5C;\n",
              "      box-shadow: 0px 1px 3px 1px rgba(0, 0, 0, 0.15);\n",
              "      filter: drop-shadow(0px 1px 2px rgba(0, 0, 0, 0.3));\n",
              "      fill: #FFFFFF;\n",
              "    }\n",
              "  </style>\n",
              "\n",
              "      <script>\n",
              "        const buttonEl =\n",
              "          document.querySelector('#df-328b3cc9-6d8c-4e07-999a-7c4f7e9a513e button.colab-df-convert');\n",
              "        buttonEl.style.display =\n",
              "          google.colab.kernel.accessAllowed ? 'block' : 'none';\n",
              "\n",
              "        async function convertToInteractive(key) {\n",
              "          const element = document.querySelector('#df-328b3cc9-6d8c-4e07-999a-7c4f7e9a513e');\n",
              "          const dataTable =\n",
              "            await google.colab.kernel.invokeFunction('convertToInteractive',\n",
              "                                                     [key], {});\n",
              "          if (!dataTable) return;\n",
              "\n",
              "          const docLinkHtml = 'Like what you see? Visit the ' +\n",
              "            '<a target=\"_blank\" href=https://colab.research.google.com/notebooks/data_table.ipynb>data table notebook</a>'\n",
              "            + ' to learn more about interactive tables.';\n",
              "          element.innerHTML = '';\n",
              "          dataTable['output_type'] = 'display_data';\n",
              "          await google.colab.output.renderOutput(dataTable, element);\n",
              "          const docLink = document.createElement('div');\n",
              "          docLink.innerHTML = docLinkHtml;\n",
              "          element.appendChild(docLink);\n",
              "        }\n",
              "      </script>\n",
              "    </div>\n",
              "  </div>\n",
              "  "
            ]
          },
          "metadata": {},
          "execution_count": 12
        }
      ]
    },
    {
      "cell_type": "code",
      "source": [
        "sns.displot(full.Age)\n",
        "pl.title('Age distribution');"
      ],
      "metadata": {
        "colab": {
          "base_uri": "https://localhost:8080/",
          "height": 381
        },
        "id": "8BSb2G6dKS9E",
        "outputId": "bfcc75dc-de49-4602-ef6d-3e96e9515839"
      },
      "execution_count": null,
      "outputs": [
        {
          "output_type": "display_data",
          "data": {
            "text/plain": [
              "<Figure size 360x360 with 1 Axes>"
            ],
            "image/png": "[encoded data removed]"
          },
          "metadata": {}
        }
      ]
    },
    {
      "cell_type": "code",
      "source": [
        "sns.displot(full.EHQ_Total)\n",
        "pl.title('Handedness distribution');"
      ],
      "metadata": {
        "colab": {
          "base_uri": "https://localhost:8080/",
          "height": 381
        },
        "id": "LVARCISpMQAZ",
        "outputId": "af34fcc8-a617-4fea-f0c8-04cbe5b2f912"
      },
      "execution_count": null,
      "outputs": [
        {
          "output_type": "display_data",
          "data": {
            "text/plain": [
              "<Figure size 360x360 with 1 Axes>"
            ],
            "image/png": "[encoded data removed]"
          },
          "metadata": {}
        }
      ]
    },
    {
      "cell_type": "markdown",
      "source": [
        "Right-handedness = More than +40"
      ],
      "metadata": {
        "id": "_oP7p2vZ401P"
      }
    },
    {
      "cell_type": "code",
      "source": [
        "# number of people whose handedness score is greater than 50\n",
        "print(full[full['EHQ_Total'] >= 40].shape[0])\n",
        "sns.displot(full[full['EHQ_Total'] >= 40].EHQ_Total)\n",
        "pl.title('Handedness distribution after the score 40');"
      ],
      "metadata": {
        "colab": {
          "base_uri": "https://localhost:8080/",
          "height": 398
        },
        "id": "0DmVR2MKMd4z",
        "outputId": "5e14f0ea-4103-43c1-ac84-1b17ae91c8c4"
      },
      "execution_count": null,
      "outputs": [
        {
          "output_type": "stream",
          "name": "stdout",
          "text": [
            "262\n"
          ]
        },
        {
          "output_type": "display_data",
          "data": {
            "text/plain": [
              "<Figure size 360x360 with 1 Axes>"
            ],
            "image/png": "[encoded data removed]"
          },
          "metadata": {}
        }
      ]
    },
    {
      "cell_type": "code",
      "source": [
        "full_right = full[full['EHQ_Total'] >= 40]"
      ],
      "metadata": {
        "id": "Oc4murbGNAJR"
      },
      "execution_count": null,
      "outputs": []
    },
    {
      "cell_type": "code",
      "source": [
        "full_right.shape"
      ],
      "metadata": {
        "id": "PHBOJNXf5GH4",
        "outputId": "58aac693-4614-4c79-8212-8ffe597f8496",
        "colab": {
          "base_uri": "https://localhost:8080/"
        }
      },
      "execution_count": null,
      "outputs": [
        {
          "output_type": "execute_result",
          "data": {
            "text/plain": [
              "(262, 6)"
            ]
          },
          "metadata": {},
          "execution_count": 22
        }
      ]
    },
    {
      "cell_type": "code",
      "source": [
        "sns.displot(full_right.Age)\n",
        "pl.title('Age distribution for right handed only');"
      ],
      "metadata": {
        "id": "k_eB9oc15JE3",
        "outputId": "60e9c998-38ae-49d3-9bbf-d9a3c3b7901c",
        "colab": {
          "base_uri": "https://localhost:8080/",
          "height": 379
        }
      },
      "execution_count": null,
      "outputs": [
        {
          "output_type": "display_data",
          "data": {
            "text/plain": [
              "<Figure size 360x360 with 1 Axes>"
            ],
            "image/png": "[encoded data removed]"
          },
          "metadata": {}
        }
      ]
    },
    {
      "cell_type": "code",
      "source": [
        "full_right.columns"
      ],
      "metadata": {
        "id": "WItw7jiR5TMK",
        "outputId": "13793b28-3a86-4989-87cb-cbad2e4b11c4",
        "colab": {
          "base_uri": "https://localhost:8080/"
        }
      },
      "execution_count": null,
      "outputs": [
        {
          "output_type": "execute_result",
          "data": {
            "text/plain": [
              "Index(['EID', 'Sex', 'Age', 'EHQ_Total', 'Commercial_Use', 'Full_Pheno'], dtype='object')"
            ]
          },
          "metadata": {},
          "execution_count": 24
        }
      ]
    },
    {
      "cell_type": "code",
      "source": [
        "age = full_right.Age.values\n",
        "up_to_7 = []\n",
        "in_between = []\n",
        "after_10 = []\n",
        "for i in range(0, len(age)):\n",
        "  if age[i] < 7:\n",
        "    up_to_7.append(age[i])\n",
        "  elif 7 <= age[i] <= 10:\n",
        "    in_between.append(age[i])\n",
        "  elif age[i] > 10:\n",
        "    after_10.append(age[i])"
      ],
      "metadata": {
        "id": "s83LUCbt7U3j"
      },
      "execution_count": null,
      "outputs": []
    },
    {
      "cell_type": "code",
      "source": [
        "print(len(up_to_7))\n",
        "print(len(in_between))\n",
        "print(len(after_10))"
      ],
      "metadata": {
        "id": "X0mnFlJR8hC7",
        "outputId": "e6a15d5b-4c74-4ac4-a969-c02b2f51662e",
        "colab": {
          "base_uri": "https://localhost:8080/"
        }
      },
      "execution_count": null,
      "outputs": [
        {
          "output_type": "stream",
          "name": "stdout",
          "text": [
            "40\n",
            "113\n",
            "109\n"
          ]
        }
      ]
    },
    {
      "cell_type": "code",
      "source": [
        "data = pd.read_csv(\n",
        "    working_path.joinpath('Query1.csv'),\n",
        "    index_col=None\n",
        ")"
      ],
      "metadata": {
        "id": "xctXvEU-v4z-"
      },
      "execution_count": 7,
      "outputs": []
    },
    {
      "cell_type": "code",
      "source": [
        "data.head()"
      ],
      "metadata": {
        "id": "y7N2xLZ-3zGO",
        "outputId": "fbfc8689-05ca-49e4-c199-47cd8336a69d",
        "colab": {
          "base_uri": "https://localhost:8080/",
          "height": 352
        }
      },
      "execution_count": 39,
      "outputs": [
        {
          "output_type": "execute_result",
          "data": {
            "text/plain": [
              "               Identifiers Basic_Demos,Age Basic_Demos,Sex Basic_Demos,Site  \\\n",
              "0  NDARAA112DMH,assessment        5.545744               0              NaN   \n",
              "1  NDARAA117NEJ,assessment        7.475929               0              NaN   \n",
              "2  NDARAA504CRN,assessment        9.165297               1              NaN   \n",
              "3  NDARAA947ZG5,assessment        13.62788               0              NaN   \n",
              "4  NDARAA948VFH,assessment         7.98266               1              NaN   \n",
              "\n",
              "  CELF,CELF_Total   ConsensusDx,DX_01 ConsensusDx,DX_01_Code  \\\n",
              "0              11  ADHD-Combined Type                  F90.2   \n",
              "1              11  ADHD-Combined Type                  F90.2   \n",
              "2              12                   .                      .   \n",
              "3              16                   .                      .   \n",
              "4              14  ADHD-Combined Type                  F90.2   \n",
              "\n",
              "  ConsensusDx,DX_01_Confirmed ConsensusDx,DX_02 ConsensusDx,DX_02_Code  ...  \\\n",
              "0                         NaN               NaN                    NaN  ...   \n",
              "1                         NaN               NaN                    NaN  ...   \n",
              "2                           .                 .                      .  ...   \n",
              "3                           .                 .                      .  ...   \n",
              "4                         NaN          Enuresis                  F98.0  ...   \n",
              "\n",
              "  WIAT,WIAT_Num_Stnd WIAT,WIAT_Pseudo_Stnd WIAT,WIAT_RC_Stnd  \\\n",
              "0                121                   NaN               NaN   \n",
              "1                 99                    85                89   \n",
              "2                107                    73                85   \n",
              "3                 53                    92                93   \n",
              "4                 96                    94                95   \n",
              "\n",
              "  WIAT,WIAT_Spell_Stnd WIAT,WIAT_Word_Stnd WISC,WISC_FSIQ WISC,WISC_PSI  \\\n",
              "0                   87                 NaN              .             .   \n",
              "1                   96                  85             88            77   \n",
              "2                   80                  83            100           111   \n",
              "3                   91                 100             87            86   \n",
              "4                   99                  96             95            98   \n",
              "\n",
              "  WISC,WISC_VCI WISC,WISC_VSI WISC,WISC_WMI  \n",
              "0             .             .             .  \n",
              "1           108            84            85  \n",
              "2            95           102            97  \n",
              "3            92            84            97  \n",
              "4           111            94            97  \n",
              "\n",
              "[5 rows x 88 columns]"
            ],
            "text/html": [
              "\n",
              "  <div id=\"df-08ccaac5-e427-481e-aee7-df079255018f\">\n",
              "    <div class=\"colab-df-container\">\n",
              "      <div>\n",
              "<style scoped>\n",
              "    .dataframe tbody tr th:only-of-type {\n",
              "        vertical-align: middle;\n",
              "    }\n",
              "\n",
              "    .dataframe tbody tr th {\n",
              "        vertical-align: top;\n",
              "    }\n",
              "\n",
              "    .dataframe thead th {\n",
              "        text-align: right;\n",
              "    }\n",
              "</style>\n",
              "<table border=\"1\" class=\"dataframe\">\n",
              "  <thead>\n",
              "    <tr style=\"text-align: right;\">\n",
              "      <th></th>\n",
              "      <th>Identifiers</th>\n",
              "      <th>Basic_Demos,Age</th>\n",
              "      <th>Basic_Demos,Sex</th>\n",
              "      <th>Basic_Demos,Site</th>\n",
              "      <th>CELF,CELF_Total</th>\n",
              "      <th>ConsensusDx,DX_01</th>\n",
              "      <th>ConsensusDx,DX_01_Code</th>\n",
              "      <th>ConsensusDx,DX_01_Confirmed</th>\n",
              "      <th>ConsensusDx,DX_02</th>\n",
              "      <th>ConsensusDx,DX_02_Code</th>\n",
              "      <th>...</th>\n",
              "      <th>WIAT,WIAT_Num_Stnd</th>\n",
              "      <th>WIAT,WIAT_Pseudo_Stnd</th>\n",
              "      <th>WIAT,WIAT_RC_Stnd</th>\n",
              "      <th>WIAT,WIAT_Spell_Stnd</th>\n",
              "      <th>WIAT,WIAT_Word_Stnd</th>\n",
              "      <th>WISC,WISC_FSIQ</th>\n",
              "      <th>WISC,WISC_PSI</th>\n",
              "      <th>WISC,WISC_VCI</th>\n",
              "      <th>WISC,WISC_VSI</th>\n",
              "      <th>WISC,WISC_WMI</th>\n",
              "    </tr>\n",
              "  </thead>\n",
              "  <tbody>\n",
              "    <tr>\n",
              "      <th>0</th>\n",
              "      <td>NDARAA112DMH,assessment</td>\n",
              "      <td>5.545744</td>\n",
              "      <td>0</td>\n",
              "      <td>NaN</td>\n",
              "      <td>11</td>\n",
              "      <td>ADHD-Combined Type</td>\n",
              "      <td>F90.2</td>\n",
              "      <td>NaN</td>\n",
              "      <td>NaN</td>\n",
              "      <td>NaN</td>\n",
              "      <td>...</td>\n",
              "      <td>121</td>\n",
              "      <td>NaN</td>\n",
              "      <td>NaN</td>\n",
              "      <td>87</td>\n",
              "      <td>NaN</td>\n",
              "      <td>.</td>\n",
              "      <td>.</td>\n",
              "      <td>.</td>\n",
              "      <td>.</td>\n",
              "      <td>.</td>\n",
              "    </tr>\n",
              "    <tr>\n",
              "      <th>1</th>\n",
              "      <td>NDARAA117NEJ,assessment</td>\n",
              "      <td>7.475929</td>\n",
              "      <td>0</td>\n",
              "      <td>NaN</td>\n",
              "      <td>11</td>\n",
              "      <td>ADHD-Combined Type</td>\n",
              "      <td>F90.2</td>\n",
              "      <td>NaN</td>\n",
              "      <td>NaN</td>\n",
              "      <td>NaN</td>\n",
              "      <td>...</td>\n",
              "      <td>99</td>\n",
              "      <td>85</td>\n",
              "      <td>89</td>\n",
              "      <td>96</td>\n",
              "      <td>85</td>\n",
              "      <td>88</td>\n",
              "      <td>77</td>\n",
              "      <td>108</td>\n",
              "      <td>84</td>\n",
              "      <td>85</td>\n",
              "    </tr>\n",
              "    <tr>\n",
              "      <th>2</th>\n",
              "      <td>NDARAA504CRN,assessment</td>\n",
              "      <td>9.165297</td>\n",
              "      <td>1</td>\n",
              "      <td>NaN</td>\n",
              "      <td>12</td>\n",
              "      <td>.</td>\n",
              "      <td>.</td>\n",
              "      <td>.</td>\n",
              "      <td>.</td>\n",
              "      <td>.</td>\n",
              "      <td>...</td>\n",
              "      <td>107</td>\n",
              "      <td>73</td>\n",
              "      <td>85</td>\n",
              "      <td>80</td>\n",
              "      <td>83</td>\n",
              "      <td>100</td>\n",
              "      <td>111</td>\n",
              "      <td>95</td>\n",
              "      <td>102</td>\n",
              "      <td>97</td>\n",
              "    </tr>\n",
              "    <tr>\n",
              "      <th>3</th>\n",
              "      <td>NDARAA947ZG5,assessment</td>\n",
              "      <td>13.62788</td>\n",
              "      <td>0</td>\n",
              "      <td>NaN</td>\n",
              "      <td>16</td>\n",
              "      <td>.</td>\n",
              "      <td>.</td>\n",
              "      <td>.</td>\n",
              "      <td>.</td>\n",
              "      <td>.</td>\n",
              "      <td>...</td>\n",
              "      <td>53</td>\n",
              "      <td>92</td>\n",
              "      <td>93</td>\n",
              "      <td>91</td>\n",
              "      <td>100</td>\n",
              "      <td>87</td>\n",
              "      <td>86</td>\n",
              "      <td>92</td>\n",
              "      <td>84</td>\n",
              "      <td>97</td>\n",
              "    </tr>\n",
              "    <tr>\n",
              "      <th>4</th>\n",
              "      <td>NDARAA948VFH,assessment</td>\n",
              "      <td>7.98266</td>\n",
              "      <td>1</td>\n",
              "      <td>NaN</td>\n",
              "      <td>14</td>\n",
              "      <td>ADHD-Combined Type</td>\n",
              "      <td>F90.2</td>\n",
              "      <td>NaN</td>\n",
              "      <td>Enuresis</td>\n",
              "      <td>F98.0</td>\n",
              "      <td>...</td>\n",
              "      <td>96</td>\n",
              "      <td>94</td>\n",
              "      <td>95</td>\n",
              "      <td>99</td>\n",
              "      <td>96</td>\n",
              "      <td>95</td>\n",
              "      <td>98</td>\n",
              "      <td>111</td>\n",
              "      <td>94</td>\n",
              "      <td>97</td>\n",
              "    </tr>\n",
              "  </tbody>\n",
              "</table>\n",
              "<p>5 rows × 88 columns</p>\n",
              "</div>\n",
              "      <button class=\"colab-df-convert\" onclick=\"convertToInteractive('df-08ccaac5-e427-481e-aee7-df079255018f')\"\n",
              "              title=\"Convert this dataframe to an interactive table.\"\n",
              "              style=\"display:none;\">\n",
              "        \n",
              "  <svg xmlns=\"http://www.w3.org/2000/svg\" height=\"24px\"viewBox=\"0 0 24 24\"\n",
              "       width=\"24px\">\n",
              "    <path d=\"M0 0h24v24H0V0z\" fill=\"none\"/>\n",
              "    <path d=\"M18.56 5.44l.94 2.06.94-2.06 2.06-.94-2.06-.94-.94-2.06-.94 2.06-2.06.94zm-11 1L8.5 8.5l.94-2.06 2.06-.94-2.06-.94L8.5 2.5l-.94 2.06-2.06.94zm10 10l.94 2.06.94-2.06 2.06-.94-2.06-.94-.94-2.06-.94 2.06-2.06.94z\"/><path d=\"M17.41 7.96l-1.37-1.37c-.4-.4-.92-.59-1.43-.59-.52 0-1.04.2-1.43.59L10.3 9.45l-7.72 7.72c-.78.78-.78 2.05 0 2.83L4 21.41c.39.39.9.59 1.41.59.51 0 1.02-.2 1.41-.59l7.78-7.78 2.81-2.81c.8-.78.8-2.07 0-2.86zM5.41 20L4 18.59l7.72-7.72 1.47 1.35L5.41 20z\"/>\n",
              "  </svg>\n",
              "      </button>\n",
              "      \n",
              "  <style>\n",
              "    .colab-df-container {\n",
              "      display:flex;\n",
              "      flex-wrap:wrap;\n",
              "      gap: 12px;\n",
              "    }\n",
              "\n",
              "    .colab-df-convert {\n",
              "      background-color: #E8F0FE;\n",
              "      border: none;\n",
              "      border-radius: 50%;\n",
              "      cursor: pointer;\n",
              "      display: none;\n",
              "      fill: #1967D2;\n",
              "      height: 32px;\n",
              "      padding: 0 0 0 0;\n",
              "      width: 32px;\n",
              "    }\n",
              "\n",
              "    .colab-df-convert:hover {\n",
              "      background-color: #E2EBFA;\n",
              "      box-shadow: 0px 1px 2px rgba(60, 64, 67, 0.3), 0px 1px 3px 1px rgba(60, 64, 67, 0.15);\n",
              "      fill: #174EA6;\n",
              "    }\n",
              "\n",
              "    [theme=dark] .colab-df-convert {\n",
              "      background-color: #3B4455;\n",
              "      fill: #D2E3FC;\n",
              "    }\n",
              "\n",
              "    [theme=dark] .colab-df-convert:hover {\n",
              "      background-color: #434B5C;\n",
              "      box-shadow: 0px 1px 3px 1px rgba(0, 0, 0, 0.15);\n",
              "      filter: drop-shadow(0px 1px 2px rgba(0, 0, 0, 0.3));\n",
              "      fill: #FFFFFF;\n",
              "    }\n",
              "  </style>\n",
              "\n",
              "      <script>\n",
              "        const buttonEl =\n",
              "          document.querySelector('#df-08ccaac5-e427-481e-aee7-df079255018f button.colab-df-convert');\n",
              "        buttonEl.style.display =\n",
              "          google.colab.kernel.accessAllowed ? 'block' : 'none';\n",
              "\n",
              "        async function convertToInteractive(key) {\n",
              "          const element = document.querySelector('#df-08ccaac5-e427-481e-aee7-df079255018f');\n",
              "          const dataTable =\n",
              "            await google.colab.kernel.invokeFunction('convertToInteractive',\n",
              "                                                     [key], {});\n",
              "          if (!dataTable) return;\n",
              "\n",
              "          const docLinkHtml = 'Like what you see? Visit the ' +\n",
              "            '<a target=\"_blank\" href=https://colab.research.google.com/notebooks/data_table.ipynb>data table notebook</a>'\n",
              "            + ' to learn more about interactive tables.';\n",
              "          element.innerHTML = '';\n",
              "          dataTable['output_type'] = 'display_data';\n",
              "          await google.colab.output.renderOutput(dataTable, element);\n",
              "          const docLink = document.createElement('div');\n",
              "          docLink.innerHTML = docLinkHtml;\n",
              "          element.appendChild(docLink);\n",
              "        }\n",
              "      </script>\n",
              "    </div>\n",
              "  </div>\n",
              "  "
            ]
          },
          "metadata": {},
          "execution_count": 39
        }
      ]
    },
    {
      "cell_type": "code",
      "source": [
        "data.columns"
      ],
      "metadata": {
        "id": "UO-31FP2v7_N",
        "outputId": "68952b06-94d9-40c7-d9cc-63f96c622e84",
        "colab": {
          "base_uri": "https://localhost:8080/"
        }
      },
      "execution_count": 8,
      "outputs": [
        {
          "output_type": "execute_result",
          "data": {
            "text/plain": [
              "Index(['Identifiers', 'Basic_Demos,Age', 'Basic_Demos,Sex', 'Basic_Demos,Site',\n",
              "       'CELF,CELF_Total', 'ConsensusDx,DX_01', 'ConsensusDx,DX_01_Code',\n",
              "       'ConsensusDx,DX_01_Confirmed', 'ConsensusDx,DX_02',\n",
              "       'ConsensusDx,DX_02_Code', 'ConsensusDx,DX_02_Confirmed',\n",
              "       'ConsensusDx,DX_03', 'ConsensusDx,DX_03_Code',\n",
              "       'ConsensusDx,DX_03_Confirmed', 'ConsensusDx,DX_04',\n",
              "       'ConsensusDx,DX_04_Code', 'ConsensusDx,DX_04_Confirmed',\n",
              "       'ConsensusDx,DX_05', 'ConsensusDx,DX_05_Code',\n",
              "       'ConsensusDx,DX_05_Confirmed', 'ConsensusDx,DX_06',\n",
              "       'ConsensusDx,DX_06_Code', 'ConsensusDx,DX_06_Confirmed',\n",
              "       'ConsensusDx,DX_07', 'ConsensusDx,DX_07_Code',\n",
              "       'ConsensusDx,DX_07_Confirmed', 'ConsensusDx,DX_08',\n",
              "       'ConsensusDx,DX_08_Code', 'ConsensusDx,DX_08_Confirmed',\n",
              "       'ConsensusDx,DX_09', 'ConsensusDx,DX_09_Code',\n",
              "       'ConsensusDx,DX_09_Confirmed', 'ConsensusDx,DX_10',\n",
              "       'ConsensusDx,DX_10_Code', 'ConsensusDx,DX_10_Confirmed',\n",
              "       'DailyMeds,med_dose_01', 'DailyMeds,med_dose_02',\n",
              "       'DailyMeds,med_dose_03', 'DailyMeds,med_name_01',\n",
              "       'DailyMeds,med_name_02', 'DailyMeds,med_name_03', 'EHQ,EHQ_Total',\n",
              "       'EVT,EVT2_StandardScore', 'GFTA,GFTA_SIS_Stnd', 'GFTA,GFTA_SIW_Stnd',\n",
              "       'KBIT,KBIT_IQ_Comp', 'KBIT,KBIT_NV_Standard', 'KBIT,KBIT_V_Standard',\n",
              "       'NIH,NIH_Card_Sort_Age_Corr_Stnd', 'NIH,NIH_Card_Sort_Uncorr_Stnd',\n",
              "       'NIH,NIH_Flanker_Age_Corr_Stnd', 'NIH,NIH_Flanker_Uncorr_Stnd',\n",
              "       'NIH,NIH_List_Sort_Age_Corr_Stnd', 'NIH,NIH_List_Sort_Uncorr_Stnd',\n",
              "       'NIH,NIH_Processing_Age_Corr_Stnd', 'NIH,NIH_Processing_Uncorr_Stnd',\n",
              "       'PPVT,PPVT4_StandardScore', 'PreInt_Lang,Child_Lang_Understood',\n",
              "       'PreInt_Lang,Child_Primary_Lang', 'SWAN,SWAN_HY', 'SWAN,SWAN_IN',\n",
              "       'SWAN,SWAN_Total', 'TOWRE,TOWRE_PDE_Scaled', 'TOWRE,TOWRE_SWE_Scaled',\n",
              "       'TOWRE,TOWRE_Total_Scaled', 'TRF,TRF_Total_T',\n",
              "       'Vineland,VL_Social_Stnd', 'WAIS,WAIS_FSIQ_COMP',\n",
              "       'WAIS,WAIS_FSIQ_SCALE', 'WAIS,WAIS_PRI_COMP', 'WAIS,WAIS_PSI_COMP',\n",
              "       'WAIS,WAIS_VCI_COMP', 'WAIS,WAIS_WMI_COMP', 'WASI,WASI_FSIQ',\n",
              "       'WIAT,WIAT_LCODC_Stnd', 'WIAT,WIAT_LCRV_Std', 'WIAT,WIAT_LC_Stnd',\n",
              "       'WIAT,WIAT_MP_Stnd', 'WIAT,WIAT_Num_Stnd', 'WIAT,WIAT_Pseudo_Stnd',\n",
              "       'WIAT,WIAT_RC_Stnd', 'WIAT,WIAT_Spell_Stnd', 'WIAT,WIAT_Word_Stnd',\n",
              "       'WISC,WISC_FSIQ', 'WISC,WISC_PSI', 'WISC,WISC_VCI', 'WISC,WISC_VSI',\n",
              "       'WISC,WISC_WMI'],\n",
              "      dtype='object')"
            ]
          },
          "metadata": {},
          "execution_count": 8
        }
      ]
    },
    {
      "cell_type": "code",
      "source": [
        "data.shape"
      ],
      "metadata": {
        "id": "TpP11T6Ev9Qo",
        "outputId": "9eb2535b-4c9d-4d98-8c5b-98fa2e5e81aa",
        "colab": {
          "base_uri": "https://localhost:8080/"
        }
      },
      "execution_count": 9,
      "outputs": [
        {
          "output_type": "execute_result",
          "data": {
            "text/plain": [
              "(8210, 88)"
            ]
          },
          "metadata": {},
          "execution_count": 9
        }
      ]
    },
    {
      "cell_type": "code",
      "source": [
        "subset = data[[\n",
        "    'Basic_Demos,Age', 'Basic_Demos,Sex',\n",
        "    'EHQ,EHQ_Total', 'DailyMeds,med_dose_01', 'DailyMeds,med_dose_02',\n",
        "       'DailyMeds,med_dose_03', 'DailyMeds,med_name_01',\n",
        "       'DailyMeds,med_name_02', 'DailyMeds,med_name_03',\n",
        "       'ConsensusDx,DX_01', 'ConsensusDx,DX_01_Code',\n",
        "       'ConsensusDx,DX_01_Confirmed', 'ConsensusDx,DX_02',\n",
        "       'ConsensusDx,DX_02_Code', 'ConsensusDx,DX_02_Confirmed',\n",
        "       'ConsensusDx,DX_03', 'ConsensusDx,DX_03_Code',\n",
        "       'ConsensusDx,DX_03_Confirmed', 'ConsensusDx,DX_04',\n",
        "       'ConsensusDx,DX_04_Code', 'ConsensusDx,DX_04_Confirmed',\n",
        "       'ConsensusDx,DX_05', 'ConsensusDx,DX_05_Code',\n",
        "       'ConsensusDx,DX_05_Confirmed', 'ConsensusDx,DX_06',\n",
        "       'ConsensusDx,DX_06_Code', 'ConsensusDx,DX_06_Confirmed',\n",
        "       'ConsensusDx,DX_07', 'ConsensusDx,DX_07_Code',\n",
        "       'ConsensusDx,DX_07_Confirmed', 'ConsensusDx,DX_08',\n",
        "       'ConsensusDx,DX_08_Code', 'ConsensusDx,DX_08_Confirmed',\n",
        "       'ConsensusDx,DX_09', 'ConsensusDx,DX_09_Code',\n",
        "       'ConsensusDx,DX_09_Confirmed'\n",
        "]]"
      ],
      "metadata": {
        "id": "2OD_6llVv_Zx"
      },
      "execution_count": 14,
      "outputs": []
    },
    {
      "cell_type": "code",
      "source": [
        "subset.head()"
      ],
      "metadata": {
        "id": "aUrYaTy9wUvk",
        "outputId": "f031bd09-896d-4d0f-db43-704756d81052",
        "colab": {
          "base_uri": "https://localhost:8080/",
          "height": 352
        }
      },
      "execution_count": 15,
      "outputs": [
        {
          "output_type": "execute_result",
          "data": {
            "text/plain": [
              "  Basic_Demos,Age Basic_Demos,Sex EHQ,EHQ_Total DailyMeds,med_dose_01  \\\n",
              "0        5.545744               0            40                   NaN   \n",
              "1        7.475929               0          62.2          40mg- 1 puff   \n",
              "2        9.165297               1         73.34                     .   \n",
              "3        13.62788               0            80                     .   \n",
              "4         7.98266               1            90                     .   \n",
              "\n",
              "  DailyMeds,med_dose_02 DailyMeds,med_dose_03 DailyMeds,med_name_01  \\\n",
              "0                   NaN                   NaN                   NaN   \n",
              "1                   NaN                   NaN                  Qvar   \n",
              "2                     .                     .                     .   \n",
              "3                     .                     .                     .   \n",
              "4                     .                     .                     .   \n",
              "\n",
              "  DailyMeds,med_name_02 DailyMeds,med_name_03   ConsensusDx,DX_01  ...  \\\n",
              "0                   NaN                   NaN  ADHD-Combined Type  ...   \n",
              "1                   NaN                   NaN  ADHD-Combined Type  ...   \n",
              "2                     .                     .                   .  ...   \n",
              "3                     .                     .                   .  ...   \n",
              "4                     .                     .  ADHD-Combined Type  ...   \n",
              "\n",
              "  ConsensusDx,DX_07_Confirmed ConsensusDx,DX_08 ConsensusDx,DX_08_Code  \\\n",
              "0                         NaN               NaN                    NaN   \n",
              "1                         NaN               NaN                    NaN   \n",
              "2                           .                 .                      .   \n",
              "3                           .                 .                      .   \n",
              "4                         NaN               NaN                    NaN   \n",
              "\n",
              "  ConsensusDx,DX_08_Confirmed ConsensusDx,DX_09 ConsensusDx,DX_09_Code  \\\n",
              "0                         NaN               NaN                    NaN   \n",
              "1                         NaN               NaN                    NaN   \n",
              "2                           .                 .                      .   \n",
              "3                           .                 .                      .   \n",
              "4                         NaN               NaN                    NaN   \n",
              "\n",
              "  ConsensusDx,DX_09_Confirmed ConsensusDx,DX_10 ConsensusDx,DX_10_Code  \\\n",
              "0                         NaN               NaN                    NaN   \n",
              "1                         NaN               NaN                    NaN   \n",
              "2                           .                 .                      .   \n",
              "3                           .                 .                      .   \n",
              "4                         NaN               NaN                    NaN   \n",
              "\n",
              "  ConsensusDx,DX_10_Confirmed  \n",
              "0                         NaN  \n",
              "1                         NaN  \n",
              "2                           .  \n",
              "3                           .  \n",
              "4                         NaN  \n",
              "\n",
              "[5 rows x 39 columns]"
            ],
            "text/html": [
              "\n",
              "  <div id=\"df-70803dd4-c708-4494-9bd0-ce87759092ed\">\n",
              "    <div class=\"colab-df-container\">\n",
              "      <div>\n",
              "<style scoped>\n",
              "    .dataframe tbody tr th:only-of-type {\n",
              "        vertical-align: middle;\n",
              "    }\n",
              "\n",
              "    .dataframe tbody tr th {\n",
              "        vertical-align: top;\n",
              "    }\n",
              "\n",
              "    .dataframe thead th {\n",
              "        text-align: right;\n",
              "    }\n",
              "</style>\n",
              "<table border=\"1\" class=\"dataframe\">\n",
              "  <thead>\n",
              "    <tr style=\"text-align: right;\">\n",
              "      <th></th>\n",
              "      <th>Basic_Demos,Age</th>\n",
              "      <th>Basic_Demos,Sex</th>\n",
              "      <th>EHQ,EHQ_Total</th>\n",
              "      <th>DailyMeds,med_dose_01</th>\n",
              "      <th>DailyMeds,med_dose_02</th>\n",
              "      <th>DailyMeds,med_dose_03</th>\n",
              "      <th>DailyMeds,med_name_01</th>\n",
              "      <th>DailyMeds,med_name_02</th>\n",
              "      <th>DailyMeds,med_name_03</th>\n",
              "      <th>ConsensusDx,DX_01</th>\n",
              "      <th>...</th>\n",
              "      <th>ConsensusDx,DX_07_Confirmed</th>\n",
              "      <th>ConsensusDx,DX_08</th>\n",
              "      <th>ConsensusDx,DX_08_Code</th>\n",
              "      <th>ConsensusDx,DX_08_Confirmed</th>\n",
              "      <th>ConsensusDx,DX_09</th>\n",
              "      <th>ConsensusDx,DX_09_Code</th>\n",
              "      <th>ConsensusDx,DX_09_Confirmed</th>\n",
              "      <th>ConsensusDx,DX_10</th>\n",
              "      <th>ConsensusDx,DX_10_Code</th>\n",
              "      <th>ConsensusDx,DX_10_Confirmed</th>\n",
              "    </tr>\n",
              "  </thead>\n",
              "  <tbody>\n",
              "    <tr>\n",
              "      <th>0</th>\n",
              "      <td>5.545744</td>\n",
              "      <td>0</td>\n",
              "      <td>40</td>\n",
              "      <td>NaN</td>\n",
              "      <td>NaN</td>\n",
              "      <td>NaN</td>\n",
              "      <td>NaN</td>\n",
              "      <td>NaN</td>\n",
              "      <td>NaN</td>\n",
              "      <td>ADHD-Combined Type</td>\n",
              "      <td>...</td>\n",
              "      <td>NaN</td>\n",
              "      <td>NaN</td>\n",
              "      <td>NaN</td>\n",
              "      <td>NaN</td>\n",
              "      <td>NaN</td>\n",
              "      <td>NaN</td>\n",
              "      <td>NaN</td>\n",
              "      <td>NaN</td>\n",
              "      <td>NaN</td>\n",
              "      <td>NaN</td>\n",
              "    </tr>\n",
              "    <tr>\n",
              "      <th>1</th>\n",
              "      <td>7.475929</td>\n",
              "      <td>0</td>\n",
              "      <td>62.2</td>\n",
              "      <td>40mg- 1 puff</td>\n",
              "      <td>NaN</td>\n",
              "      <td>NaN</td>\n",
              "      <td>Qvar</td>\n",
              "      <td>NaN</td>\n",
              "      <td>NaN</td>\n",
              "      <td>ADHD-Combined Type</td>\n",
              "      <td>...</td>\n",
              "      <td>NaN</td>\n",
              "      <td>NaN</td>\n",
              "      <td>NaN</td>\n",
              "      <td>NaN</td>\n",
              "      <td>NaN</td>\n",
              "      <td>NaN</td>\n",
              "      <td>NaN</td>\n",
              "      <td>NaN</td>\n",
              "      <td>NaN</td>\n",
              "      <td>NaN</td>\n",
              "    </tr>\n",
              "    <tr>\n",
              "      <th>2</th>\n",
              "      <td>9.165297</td>\n",
              "      <td>1</td>\n",
              "      <td>73.34</td>\n",
              "      <td>.</td>\n",
              "      <td>.</td>\n",
              "      <td>.</td>\n",
              "      <td>.</td>\n",
              "      <td>.</td>\n",
              "      <td>.</td>\n",
              "      <td>.</td>\n",
              "      <td>...</td>\n",
              "      <td>.</td>\n",
              "      <td>.</td>\n",
              "      <td>.</td>\n",
              "      <td>.</td>\n",
              "      <td>.</td>\n",
              "      <td>.</td>\n",
              "      <td>.</td>\n",
              "      <td>.</td>\n",
              "      <td>.</td>\n",
              "      <td>.</td>\n",
              "    </tr>\n",
              "    <tr>\n",
              "      <th>3</th>\n",
              "      <td>13.62788</td>\n",
              "      <td>0</td>\n",
              "      <td>80</td>\n",
              "      <td>.</td>\n",
              "      <td>.</td>\n",
              "      <td>.</td>\n",
              "      <td>.</td>\n",
              "      <td>.</td>\n",
              "      <td>.</td>\n",
              "      <td>.</td>\n",
              "      <td>...</td>\n",
              "      <td>.</td>\n",
              "      <td>.</td>\n",
              "      <td>.</td>\n",
              "      <td>.</td>\n",
              "      <td>.</td>\n",
              "      <td>.</td>\n",
              "      <td>.</td>\n",
              "      <td>.</td>\n",
              "      <td>.</td>\n",
              "      <td>.</td>\n",
              "    </tr>\n",
              "    <tr>\n",
              "      <th>4</th>\n",
              "      <td>7.98266</td>\n",
              "      <td>1</td>\n",
              "      <td>90</td>\n",
              "      <td>.</td>\n",
              "      <td>.</td>\n",
              "      <td>.</td>\n",
              "      <td>.</td>\n",
              "      <td>.</td>\n",
              "      <td>.</td>\n",
              "      <td>ADHD-Combined Type</td>\n",
              "      <td>...</td>\n",
              "      <td>NaN</td>\n",
              "      <td>NaN</td>\n",
              "      <td>NaN</td>\n",
              "      <td>NaN</td>\n",
              "      <td>NaN</td>\n",
              "      <td>NaN</td>\n",
              "      <td>NaN</td>\n",
              "      <td>NaN</td>\n",
              "      <td>NaN</td>\n",
              "      <td>NaN</td>\n",
              "    </tr>\n",
              "  </tbody>\n",
              "</table>\n",
              "<p>5 rows × 39 columns</p>\n",
              "</div>\n",
              "      <button class=\"colab-df-convert\" onclick=\"convertToInteractive('df-70803dd4-c708-4494-9bd0-ce87759092ed')\"\n",
              "              title=\"Convert this dataframe to an interactive table.\"\n",
              "              style=\"display:none;\">\n",
              "        \n",
              "  <svg xmlns=\"http://www.w3.org/2000/svg\" height=\"24px\"viewBox=\"0 0 24 24\"\n",
              "       width=\"24px\">\n",
              "    <path d=\"M0 0h24v24H0V0z\" fill=\"none\"/>\n",
              "    <path d=\"M18.56 5.44l.94 2.06.94-2.06 2.06-.94-2.06-.94-.94-2.06-.94 2.06-2.06.94zm-11 1L8.5 8.5l.94-2.06 2.06-.94-2.06-.94L8.5 2.5l-.94 2.06-2.06.94zm10 10l.94 2.06.94-2.06 2.06-.94-2.06-.94-.94-2.06-.94 2.06-2.06.94z\"/><path d=\"M17.41 7.96l-1.37-1.37c-.4-.4-.92-.59-1.43-.59-.52 0-1.04.2-1.43.59L10.3 9.45l-7.72 7.72c-.78.78-.78 2.05 0 2.83L4 21.41c.39.39.9.59 1.41.59.51 0 1.02-.2 1.41-.59l7.78-7.78 2.81-2.81c.8-.78.8-2.07 0-2.86zM5.41 20L4 18.59l7.72-7.72 1.47 1.35L5.41 20z\"/>\n",
              "  </svg>\n",
              "      </button>\n",
              "      \n",
              "  <style>\n",
              "    .colab-df-container {\n",
              "      display:flex;\n",
              "      flex-wrap:wrap;\n",
              "      gap: 12px;\n",
              "    }\n",
              "\n",
              "    .colab-df-convert {\n",
              "      background-color: #E8F0FE;\n",
              "      border: none;\n",
              "      border-radius: 50%;\n",
              "      cursor: pointer;\n",
              "      display: none;\n",
              "      fill: #1967D2;\n",
              "      height: 32px;\n",
              "      padding: 0 0 0 0;\n",
              "      width: 32px;\n",
              "    }\n",
              "\n",
              "    .colab-df-convert:hover {\n",
              "      background-color: #E2EBFA;\n",
              "      box-shadow: 0px 1px 2px rgba(60, 64, 67, 0.3), 0px 1px 3px 1px rgba(60, 64, 67, 0.15);\n",
              "      fill: #174EA6;\n",
              "    }\n",
              "\n",
              "    [theme=dark] .colab-df-convert {\n",
              "      background-color: #3B4455;\n",
              "      fill: #D2E3FC;\n",
              "    }\n",
              "\n",
              "    [theme=dark] .colab-df-convert:hover {\n",
              "      background-color: #434B5C;\n",
              "      box-shadow: 0px 1px 3px 1px rgba(0, 0, 0, 0.15);\n",
              "      filter: drop-shadow(0px 1px 2px rgba(0, 0, 0, 0.3));\n",
              "      fill: #FFFFFF;\n",
              "    }\n",
              "  </style>\n",
              "\n",
              "      <script>\n",
              "        const buttonEl =\n",
              "          document.querySelector('#df-70803dd4-c708-4494-9bd0-ce87759092ed button.colab-df-convert');\n",
              "        buttonEl.style.display =\n",
              "          google.colab.kernel.accessAllowed ? 'block' : 'none';\n",
              "\n",
              "        async function convertToInteractive(key) {\n",
              "          const element = document.querySelector('#df-70803dd4-c708-4494-9bd0-ce87759092ed');\n",
              "          const dataTable =\n",
              "            await google.colab.kernel.invokeFunction('convertToInteractive',\n",
              "                                                     [key], {});\n",
              "          if (!dataTable) return;\n",
              "\n",
              "          const docLinkHtml = 'Like what you see? Visit the ' +\n",
              "            '<a target=\"_blank\" href=https://colab.research.google.com/notebooks/data_table.ipynb>data table notebook</a>'\n",
              "            + ' to learn more about interactive tables.';\n",
              "          element.innerHTML = '';\n",
              "          dataTable['output_type'] = 'display_data';\n",
              "          await google.colab.output.renderOutput(dataTable, element);\n",
              "          const docLink = document.createElement('div');\n",
              "          docLink.innerHTML = docLinkHtml;\n",
              "          element.appendChild(docLink);\n",
              "        }\n",
              "      </script>\n",
              "    </div>\n",
              "  </div>\n",
              "  "
            ]
          },
          "metadata": {},
          "execution_count": 15
        }
      ]
    },
    {
      "cell_type": "code",
      "source": [
        "subset['EHQ,EHQ_Total'].values[0]"
      ],
      "metadata": {
        "id": "XpZDRMcY28JN",
        "outputId": "04036397-552d-47a6-e871-18519e3d5862",
        "colab": {
          "base_uri": "https://localhost:8080/",
          "height": 35
        }
      },
      "execution_count": 32,
      "outputs": [
        {
          "output_type": "execute_result",
          "data": {
            "text/plain": [
              "'40'"
            ],
            "application/vnd.google.colaboratory.intrinsic+json": {
              "type": "string"
            }
          },
          "metadata": {},
          "execution_count": 32
        }
      ]
    },
    {
      "cell_type": "code",
      "source": [
        "# create a code that will identify all the drugs here\n",
        "print(subset['DailyMeds,med_name_01'].unique())\n",
        "print(subset['DailyMeds,med_name_02'].unique())\n",
        "print(subset['DailyMeds,med_name_03'].unique())"
      ],
      "metadata": {
        "id": "bXiybpmfxVTG",
        "outputId": "78fb1c0a-fcb5-4ce6-bf4d-255491fc8ca4",
        "colab": {
          "base_uri": "https://localhost:8080/"
        }
      },
      "execution_count": 25,
      "outputs": [
        {
          "output_type": "stream",
          "name": "stdout",
          "text": [
            "[nan 'Qvar' '.' 'Zoloft' 'Depakote' 'Methylphenidate' 'Focalin'\n",
            " 'amoxicillian' 'Abilify' 'vyvanse' 'Strattera' 'Concerta' 'abilify'\n",
            " 'Budesonide' 'Prozac' 'diphacalydramine' 'Folcaline XR' 'conerta'\n",
            " 'Dramamine' 'Detrol LA' 'Claritin' 'Celexa' 'Focalin XR' 'Tenex'\n",
            " 'concerta' 'Ibuprofen ' 'Guanfacine' 'Singular' 'Antiobiotic' 'Symbacort'\n",
            " 'Singulair' 'Topomax' 'Robitussin' 'Albuterol' 'Fluoxetine (Prozac)'\n",
            " 'Zyrtec' 'Allegra' 'Vyvanse' 'Vitamin D Drops' 'dimetapp' 'Zyrtec '\n",
            " 'prozac' 'Iron' 'Benadryl ' 'Gildess' 'Zyrteck' 'Fluoxetine' 'Respadone'\n",
            " 'Antacid (Pepcid)' 'Trileptal' 'cefdinir' 'Zyrtek' 'Zyrte C' 'Quillivant'\n",
            " 'Antibiotic' 'Oneaday vitamin' 'Tylenol' 'Risperidone'\n",
            " 'Stimulant (Update later once parent remembers' 'risperidone'\n",
            " 'Prednisone' 'Wellbutrinxz' 'Amoxicillin' 'Straterra'\n",
            " 'Birth Control (GILDES)' 'Intuniv' 'Focelin' 'Effexor' 'strattera'\n",
            " 'Strattera ' 'amoxil' 'Methyl B12' 'quillavant' 'Vyvance' 'adderall'\n",
            " 'Flovent' 'Amphetamine Salt ER' 'Benadryl' 'Strattera (last night)'\n",
            " 'Adderall' 'zoloft' 'Ranitidine' 'Zantac' 'Estrodial' 'Metadate'\n",
            " 'Synthroid' 'synthroid' 'Adderal' 'Sertraline' 'detrol la' 'Medadate'\n",
            " 'Risperdone' 'Risperidone ODT' 'claritin' 'Alyacen' 'Folin'\n",
            " 'Cetirizini Hydrochloride' 'Zertec' 'magnesium, GABA' 'Gaba/CNS Formula '\n",
            " 'CNS Formula' 'citrucel' 'Seroquel' 'guanfacine' 'Sudafed' 'Cough Syrup'\n",
            " 'Lithium' 'Allegra Indoor/Outdoor' 'Risperdal' 'Oxcarbazepine'\n",
            " 'Oxcargabazeping' 'Oxcarbazepin' 'Lamictal' 'Intuniv (last night)'\n",
            " 'Aripiprazole' 'Levothyroxine' 'Levithyroxine' 'Prednisolne'\n",
            " 'Depakote Sprinkles' 'depakote' ' ' 'Tamiflu' 'Allegra Liquid'\n",
            " 'Budnesonide' 'Budensonide' 'Vitamin D' 'Dexmethylphenide ER'\n",
            " 'Depakote sprinkles' 'fluoxotine' 'Concerca' 'Aluvet' 'Adderall xr'\n",
            " 'Adderall XR' 'Does not know name of medication' 'zyrtec']\n",
            "[nan '.' 'Lamictal' 'Focalin' 'Focalin XR' 'propranolol' 'Abilify'\n",
            " 'trihexyphenidyl' 'Albuterol' 'Estrogen' 'zyrtec' 'Atarax' 'Intuitiv'\n",
            " 'Geodon' 'zyrteck' 'Robitussin' 'Wellbutrin' 'Flonase ' 'Risperidone'\n",
            " 'QVAR' 'Vyvanse' 'Guanfacine' 'Methylphenidate' 'Vitamin' 'Depakote'\n",
            " 'Buspar' 'faxil' 'Olopatadine' 'Synaptol' 'Qvar' 'Zyrtek' 'tylenol'\n",
            " 'Ritalin' 'straferra' 'Flonase' 'Lexapro' 'Sertraline' 'Focalin ER'\n",
            " 'Zofran' 'Focelin' 'Concerta' 'Melatonin' 'prozac' 'abilify' 'Zopenix'\n",
            " 'Alegra' 'Allegra' 'Fluoxetine HCL' 'trihexyphenedyl' 'Strattera'\n",
            " 'Budesonide' 'Fluoxetine' 'estrogen' 'Adderall' 'adderall'\n",
            " 'Day Quil Cough Syrup' 'Trileptal' 'Exlax' 'Folin ' 'Magnesium'\n",
            " 'Fish Oil' 'Intuniv' 'Tenex' 'Neurontin' 'Lithium' 'Nasalcort'\n",
            " 'Risperdal' 'Risperdone' 'Ibuprofen' 'Fluoxile' 'Flouxetine' 'Rispeidol'\n",
            " 'Zoloft (last night)' 'Albuteroc' 'Depakote Sprinkles' 'oscella'\n",
            " 'singular' 'Adderal extended' 'adderall XR' 'Prozac' 'Iron']\n",
            "[nan '.' 'Sertraline (last night)' 'BusPar' 'Trileptal' 'Singular'\n",
            " 'Multivitamin, probiotic' 'Synthroid' 'Adderall XR' 'Loratadine'\n",
            " 'Concerta' 'lamictal' 'Mucinex' 'Birth control' 'Focalin' 'Risperidone'\n",
            " 'BuSpar' 'guavacine' 'Flovent' 'Amphetamine Salt ER' 'Clonidine'\n",
            " 'DayQuil Liquigels' 'Atarax' 'Singulair' 'Provera' 'Fish oil '\n",
            " 'Magnesium' 'Trazodone' 'Neurontin' 'Lithium' 'Padaday Eyedrops'\n",
            " 'Flonase' 'Melatonin' 'Albuterol' 'Claritin' 'Claritin fish oil']\n"
          ]
        }
      ]
    },
    {
      "cell_type": "code",
      "source": [
        "# create a code that will identify all the drugs here\n",
        "print(subset['ConsensusDx,DX_02'].unique())\n",
        "#print(subset['ConsensusDx,DX_01_Code'].unique())\n",
        "#print(subset['ConsensusDx,DX_01_Confirmed'].unique())"
      ],
      "metadata": {
        "id": "LIHm2t2HyD4v",
        "outputId": "0088cd0d-b75e-4d83-ba5c-49a552b6ca5e",
        "colab": {
          "base_uri": "https://localhost:8080/"
        }
      },
      "execution_count": 28,
      "outputs": [
        {
          "output_type": "stream",
          "name": "stdout",
          "text": [
            "[nan '.' 'Enuresis' 'ADHD-Combined Type'\n",
            " 'Other Specified Feeding or Eating Disorder' 'Separation Anxiety'\n",
            " 'Autism Spectrum Disorder'\n",
            " 'Specific Learning Disorder with Impairment in Reading'\n",
            " 'Social Anxiety (Social Phobia)' 'Developmental Coordination Disorder'\n",
            " 'Generalized Anxiety Disorder' 'Acute Stress Disorder'\n",
            " 'Intellectual Disability-Mild' 'Language Disorder'\n",
            " 'Major Depressive Disorder' 'ADHD-Inattentive Type'\n",
            " 'Other Specified Insomnia Disorder'\n",
            " 'Other Specified Trauma- and Stressor-Related Disorder' 'Encopresis'\n",
            " 'Hoarding Disorder' 'Other Specified Depressive Disorder'\n",
            " 'Tourettes Disorder' 'Agoraphobia' 'Adjustment Disorders'\n",
            " 'Specific Phobia' 'Other Specified Anxiety Disorder'\n",
            " 'Obsessive-Compulsive Disorder' 'Disruptive Mood Dysregulation Disorder'\n",
            " 'Other Specified Attention-Deficit/Hyperactivity Disorder'\n",
            " 'Specific Learning Disorder with Impairment in Mathematics'\n",
            " 'Speech Sound Disorder' 'Excoriation (Skin-Picking) Disorder'\n",
            " 'Unspecified Intellectual Disability'\n",
            " 'Borderline Intellectual Functioning'\n",
            " 'Specific Learning Disorder with Impairment in Written Expression'\n",
            " 'Persistent (Chronic) Motor or Vocal Tic Disorder'\n",
            " 'Social (Pragmatic) Communication Disorder'\n",
            " 'Unspecified Anxiety Disorder'\n",
            " 'Other Specified Neurodevelopmental Disorder' 'Selective Mutism'\n",
            " 'ADHD-Hyperactive/Impulsive Type'\n",
            " 'Persistent Depressive Disorder (Dysthymia)'\n",
            " 'Other Specified Elimination Disorder with Urinary Symptoms' ' '\n",
            " 'Unspecified Attention-Deficit/Hyperactivity Disorder'\n",
            " 'Child Onset Fluency Disorder (Stuttering)' 'Bipolar I Disorder'\n",
            " 'Narcolepsy' 'Trichotillomania (Hair-Pulling Disorder)'\n",
            " 'Obsessive-Compulsive Disorder ' 'Parent-Child Relational Problem'\n",
            " 'Provisional Tic Disorder'\n",
            " 'Specific Learning Disorder with Impairment in Mathematics '\n",
            " 'Panic Disorder' 'Intellectual Disability-Moderate'\n",
            " 'Neurobehavioral Disorder Associated with Prenatal Alcohol Exposure (ND-PAE) '\n",
            " 'Reactive Attachment Disorder' 'Bipolar II Disorder'\n",
            " 'Other Specified Schizophrenia Spectrum and Other Psychotic Disorder'\n",
            " 'Alcohol Use Disorder']\n"
          ]
        }
      ]
    },
    {
      "cell_type": "code",
      "source": [
        "print(subset['ConsensusDx,DX_01'].unique())\n",
        "print(subset['ConsensusDx,DX_02'].unique())\n",
        "print(subset['ConsensusDx,DX_03'].unique())\n",
        "print(subset['ConsensusDx,DX_04'].unique())\n",
        "print(subset['ConsensusDx,DX_05'].unique())\n",
        "print(subset['ConsensusDx,DX_06'].unique())\n",
        "print(subset['ConsensusDx,DX_07'].unique())\n",
        "print(subset['ConsensusDx,DX_08'].unique())\n",
        "print(subset['ConsensusDx,DX_09'].unique())"
      ],
      "metadata": {
        "id": "BaiNFQaeyjt7",
        "outputId": "f30b096c-f227-438b-be02-3501f78599da",
        "colab": {
          "base_uri": "https://localhost:8080/"
        }
      },
      "execution_count": 30,
      "outputs": [
        {
          "output_type": "stream",
          "name": "stdout",
          "text": [
            "['ADHD-Combined Type' '.' 'Disruptive Mood Dysregulation Disorder'\n",
            " 'ADHD-Inattentive Type' 'Tourettes Disorder' 'No Diagnosis Given'\n",
            " 'Autism Spectrum Disorder'\n",
            " 'Other Specified Attention-Deficit/Hyperactivity Disorder'\n",
            " 'Specific Learning Disorder with Impairment in Reading'\n",
            " 'No Diagnosis Given: Incomplete Eval' 'Specific Phobia'\n",
            " 'ADHD-Hyperactive/Impulsive Type' 'Generalized Anxiety Disorder'\n",
            " 'Specific Learning Disorder with Impairment in Mathematics'\n",
            " 'Other Specified Anxiety Disorder' 'Intellectual Disability-Mild'\n",
            " 'Bipolar I Disorder' nan 'Obsessive-Compulsive Disorder'\n",
            " 'Other Specified Depressive Disorder'\n",
            " 'Unspecified Attention-Deficit/Hyperactivity Disorder'\n",
            " 'Social Anxiety (Social Phobia)' 'Separation Anxiety'\n",
            " 'Major Depressive Disorder' 'Persistent Depressive Disorder (Dysthymia)'\n",
            " 'Other Specified Tic Disorder' 'Language Disorder'\n",
            " 'Specific Learning Disorder with Impairment in Written Expression'\n",
            " 'Enuresis' 'Major Neurocognitive Disorder Due to Epilepsy' 'Encopresis'\n",
            " 'Intellectual Disability-Moderate'\n",
            " 'Other Specified Trauma- and Stressor-Related Disorder'\n",
            " 'Social (Pragmatic) Communication Disorder'\n",
            " 'Other Specified Neurodevelopmental Disorder' 'Adjustment Disorders'\n",
            " 'Persistent (Chronic) Motor or Vocal Tic Disorder' ' '\n",
            " 'Speech Sound Disorder' 'Unspecified Neurodevelopmental Disorder'\n",
            " 'Acute Stress Disorder' 'Posttraumatic Stress Disorder'\n",
            " 'Selective Mutism' 'Borderline Intellectual Functioning'\n",
            " 'Unspecified Anxiety Disorder'\n",
            " 'Specific Learning Disorder with Impairment in Reading ' 'Schizophrenia'\n",
            " 'Other Specified Schizophrenia Spectrum and Other Psychotic Disorder'\n",
            " 'Reactive Attachment Disorder' 'Agoraphobia'\n",
            " 'Intellectual Disability-Severe' 'Gender Dysphoria in Children'\n",
            " 'Bipolar II Disorder' 'Panic Disorder' 'Parent-Child Relational Problem'\n",
            " 'Cannabis Use Disorder' 'Provisional Tic Disorder']\n",
            "[nan '.' 'Enuresis' 'ADHD-Combined Type'\n",
            " 'Other Specified Feeding or Eating Disorder' 'Separation Anxiety'\n",
            " 'Autism Spectrum Disorder'\n",
            " 'Specific Learning Disorder with Impairment in Reading'\n",
            " 'Social Anxiety (Social Phobia)' 'Developmental Coordination Disorder'\n",
            " 'Generalized Anxiety Disorder' 'Acute Stress Disorder'\n",
            " 'Intellectual Disability-Mild' 'Language Disorder'\n",
            " 'Major Depressive Disorder' 'ADHD-Inattentive Type'\n",
            " 'Other Specified Insomnia Disorder'\n",
            " 'Other Specified Trauma- and Stressor-Related Disorder' 'Encopresis'\n",
            " 'Hoarding Disorder' 'Other Specified Depressive Disorder'\n",
            " 'Tourettes Disorder' 'Agoraphobia' 'Adjustment Disorders'\n",
            " 'Specific Phobia' 'Other Specified Anxiety Disorder'\n",
            " 'Obsessive-Compulsive Disorder' 'Disruptive Mood Dysregulation Disorder'\n",
            " 'Other Specified Attention-Deficit/Hyperactivity Disorder'\n",
            " 'Specific Learning Disorder with Impairment in Mathematics'\n",
            " 'Speech Sound Disorder' 'Excoriation (Skin-Picking) Disorder'\n",
            " 'Unspecified Intellectual Disability'\n",
            " 'Borderline Intellectual Functioning'\n",
            " 'Specific Learning Disorder with Impairment in Written Expression'\n",
            " 'Persistent (Chronic) Motor or Vocal Tic Disorder'\n",
            " 'Social (Pragmatic) Communication Disorder'\n",
            " 'Unspecified Anxiety Disorder'\n",
            " 'Other Specified Neurodevelopmental Disorder' 'Selective Mutism'\n",
            " 'ADHD-Hyperactive/Impulsive Type'\n",
            " 'Persistent Depressive Disorder (Dysthymia)'\n",
            " 'Other Specified Elimination Disorder with Urinary Symptoms' ' '\n",
            " 'Unspecified Attention-Deficit/Hyperactivity Disorder'\n",
            " 'Child Onset Fluency Disorder (Stuttering)' 'Bipolar I Disorder'\n",
            " 'Narcolepsy' 'Trichotillomania (Hair-Pulling Disorder)'\n",
            " 'Obsessive-Compulsive Disorder ' 'Parent-Child Relational Problem'\n",
            " 'Provisional Tic Disorder'\n",
            " 'Specific Learning Disorder with Impairment in Mathematics '\n",
            " 'Panic Disorder' 'Intellectual Disability-Moderate'\n",
            " 'Neurobehavioral Disorder Associated with Prenatal Alcohol Exposure (ND-PAE) '\n",
            " 'Reactive Attachment Disorder' 'Bipolar II Disorder'\n",
            " 'Other Specified Schizophrenia Spectrum and Other Psychotic Disorder'\n",
            " 'Alcohol Use Disorder']\n",
            "[nan '.' 'Specific Learning Disorder with Impairment in Reading'\n",
            " 'Enuresis' 'Generalized Anxiety Disorder' 'Language Disorder'\n",
            " 'Specific Phobia' 'ADHD-Combined Type' 'Obsessive-Compulsive Disorder'\n",
            " 'Separation Anxiety' 'Provisional Tic Disorder'\n",
            " 'Borderline Intellectual Functioning' 'Autism Spectrum Disorder'\n",
            " 'Social (Pragmatic) Communication Disorder'\n",
            " 'Other Specified Feeding or Eating Disorder' 'ADHD-Inattentive Type'\n",
            " 'Major Depressive Disorder' 'Intellectual Disability-Mild'\n",
            " 'Specific Learning Disorder with Impairment in Written Expression'\n",
            " 'Developmental Coordination Disorder' 'Adjustment Disorders'\n",
            " 'Insomnia Disorder'\n",
            " 'Other Specified Schizophrenia Spectrum and Other Psychotic Disorder'\n",
            " 'Social Anxiety (Social Phobia)' 'Encopresis' 'Pica in Children' ' '\n",
            " 'Specific Learning Disorder with Impairment in Mathematics'\n",
            " 'Speech Sound Disorder' 'Other Specified Anxiety Disorder'\n",
            " 'Persistent Depressive Disorder (Dysthymia)'\n",
            " 'Other Specified Tic Disorder' 'Conversion Disorder'\n",
            " 'Persistent (Chronic) Motor or Vocal Tic Disorder'\n",
            " 'Child Onset Fluency Disorder (Stuttering)'\n",
            " 'Disruptive Mood Dysregulation Disorder'\n",
            " 'Intellectual Disability-Moderate' 'Unspecified Anxiety Disorder'\n",
            " 'Other Specified Attention-Deficit/Hyperactivity Disorder' 'Agoraphobia'\n",
            " 'Other Specified Depressive Disorder'\n",
            " 'Other Specified Bipolar and Related Disorder' 'Alcohol Use Disorder'\n",
            " 'Posttraumatic Stress Disorder' 'Excoriation (Skin-Picking) Disorder'\n",
            " 'Panic Disorder' 'Tourettes Disorder' 'Binge-Eating Disorder'\n",
            " 'Reactive Attachment Disorder' 'Trichotillomania (Hair-Pulling Disorder)'\n",
            " 'Parent-Child Relational Problem' 'Tobacco Use Disorder' 'Child Neglect'\n",
            " 'Unspecified Bipolar and Related Disorder']\n",
            "[nan '.'\n",
            " 'Specific Learning Disorder with Impairment in Written Expression'\n",
            " 'Encopresis' 'Separation Anxiety' 'Social Anxiety (Social Phobia)'\n",
            " 'Specific Phobia' 'Generalized Anxiety Disorder'\n",
            " 'Developmental Coordination Disorder' 'Language Disorder' 'Enuresis'\n",
            " 'Provisional Tic Disorder' 'ADHD-Inattentive Type'\n",
            " 'Disruptive Mood Dysregulation Disorder'\n",
            " 'Specific Learning Disorder with Impairment in Mathematics'\n",
            " 'Major Depressive Disorder'\n",
            " 'Other Specified Trauma- and Stressor-Related Disorder'\n",
            " 'Specific Learning Disorder with Impairment in Reading'\n",
            " 'Other Specified Attention-Deficit/Hyperactivity Disorder'\n",
            " 'Speech Sound Disorder' 'Avoidant/Restrictive Food Intake Disorder'\n",
            " 'Social (Pragmatic) Communication Disorder'\n",
            " 'Persistent (Chronic) Motor or Vocal Tic Disorder'\n",
            " 'Autism Spectrum Disorder' ' ' 'Obsessive-Compulsive Disorder'\n",
            " 'Excoriation (Skin-Picking) Disorder' 'Adjustment Disorders'\n",
            " 'Trichotillomania (Hair-Pulling Disorder)'\n",
            " 'Unspecified Depressive Disorder' 'ADHD-Combined Type'\n",
            " 'Tobacco Use Disorder' 'Agoraphobia' 'Tourettes Disorder'\n",
            " 'Cannabis Use Disorder' 'Borderline Intellectual Functioning'\n",
            " 'Persistent Depressive Disorder (Dysthymia)'\n",
            " 'Other Specified Depressive Disorder' 'Binge-Eating Disorder'\n",
            " 'Unspecified Tic Disorder' 'Other Specified Anxiety Disorder'\n",
            " 'Bulimia Nervosa'\n",
            " 'Other Specified Schizophrenia Spectrum and Other Psychotic Disorder']\n",
            "[nan '.' 'Specific Learning Disorder with Impairment in Mathematics'\n",
            " 'Specific Phobia' 'Obsessive-Compulsive Disorder' 'Enuresis'\n",
            " 'Social Anxiety (Social Phobia)'\n",
            " 'Specific Learning Disorder with Impairment in Reading'\n",
            " 'Social (Pragmatic) Communication Disorder'\n",
            " 'Specific Learning Disorder with Impairment in Written Expression'\n",
            " 'Autism Spectrum Disorder' 'Language Disorder' 'Encopresis'\n",
            " 'Major Depressive Disorder'\n",
            " 'Persistent (Chronic) Motor or Vocal Tic Disorder'\n",
            " 'Generalized Anxiety Disorder' 'Posttraumatic Stress Disorder'\n",
            " 'ADHD-Inattentive Type' 'Speech Sound Disorder'\n",
            " 'Other Specified Anxiety Disorder' 'Unspecified Anxiety Disorder'\n",
            " 'Developmental Coordination Disorder' 'Binge-Eating Disorder'\n",
            " 'Other Specified Attention-Deficit/Hyperactivity Disorder'\n",
            " 'Other Specified Schizophrenia Spectrum and Other Psychotic Disorder'\n",
            " 'Separation Anxiety' 'ADHD-Combined Type']\n",
            "[nan '.' 'Developmental Coordination Disorder' 'Specific Phobia'\n",
            " 'Enuresis' 'Specific Learning Disorder with Impairment in Mathematics'\n",
            " 'Specific Learning Disorder with Impairment in Reading'\n",
            " 'Adjustment Disorders' 'Social Anxiety (Social Phobia)'\n",
            " 'Tourettes Disorder' 'Autism Spectrum Disorder'\n",
            " 'Excoriation (Skin-Picking) Disorder' 'Language Disorder']\n",
            "[nan '.' 'Unspecified Intellectual Disability'\n",
            " 'Other Specified Schizophrenia Spectrum and Other Psychotic Disorder'\n",
            " 'Specific Learning Disorder with Impairment in Mathematics'\n",
            " 'Developmental Coordination Disorder'\n",
            " 'Other Specified Trauma- and Stressor-Related Disorder' 'Agoraphobia'\n",
            " 'Specific Learning Disorder with Impairment in Written Expression'\n",
            " 'Specific Learning Disorder with Impairment in Reading'\n",
            " 'Language Disorder' 'Enuresis' 'Obsessive-Compulsive Disorder']\n",
            "[nan '.' 'Provisional Tic Disorder' 'Autism Spectrum Disorder'\n",
            " 'Obsessive-Compulsive Disorder'\n",
            " 'Specific Learning Disorder with Impairment in Mathematics' 'Enuresis']\n",
            "[nan '.' 'Social (Pragmatic) Communication Disorder']\n"
          ]
        }
      ]
    }
  ]
}