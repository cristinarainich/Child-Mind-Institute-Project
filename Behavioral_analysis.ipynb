{
  "nbformat": 4,
  "nbformat_minor": 0,
  "metadata": {
    "colab": {
      "provenance": [],
      "authorship_tag": "ABX9TyOeS9WoLGhlIFN15ZfYXYvv",
      "include_colab_link": true
    },
    "kernelspec": {
      "name": "python3",
      "display_name": "Python 3"
    },
    "language_info": {
      "name": "python"
    }
  },
  "cells": [
    {
      "cell_type": "markdown",
      "metadata": {
        "id": "view-in-github",
        "colab_type": "text"
      },
      "source": [
        "<a href=\"https://colab.research.google.com/github/cristinarainich/Child-Mind-Institute-Project/blob/main/Behavioral_analysis.ipynb\" target=\"_parent\"><img src=\"https://colab.research.google.com/assets/colab-badge.svg\" alt=\"Open In Colab\"/></a>"
      ]
    },
    {
      "cell_type": "code",
      "execution_count": 1,
      "metadata": {
        "colab": {
          "base_uri": "https://localhost:8080/"
        },
        "id": "qHeFXTeN4M9g",
        "outputId": "e0d2f048-827b-4fa3-8116-8854bd69864e"
      },
      "outputs": [
        {
          "output_type": "stream",
          "name": "stdout",
          "text": [
            "Mounted at /content/drive\n"
          ]
        }
      ],
      "source": [
        "from google.colab import drive\n",
        "drive.mount('/content/drive')"
      ]
    },
    {
      "cell_type": "code",
      "source": [
        "from pathlib import Path\n",
        "import pandas as pd\n",
        "import numpy as np\n",
        "import math\n",
        "import pylab as pl\n",
        "import seaborn as sns\n",
        "from scipy import stats\n",
        "%pylab inline"
      ],
      "metadata": {
        "colab": {
          "base_uri": "https://localhost:8080/"
        },
        "id": "JIhyU4T84RHw",
        "outputId": "8824da09-ee52-4430-d827-afabf42e2e69"
      },
      "execution_count": 2,
      "outputs": [
        {
          "output_type": "stream",
          "name": "stdout",
          "text": [
            "Populating the interactive namespace from numpy and matplotlib\n"
          ]
        }
      ]
    },
    {
      "cell_type": "code",
      "source": [
        "sns.set()"
      ],
      "metadata": {
        "id": "19dPEskf4U_n"
      },
      "execution_count": 3,
      "outputs": []
    },
    {
      "cell_type": "code",
      "source": [
        "working_path = Path('/content/drive/MyDrive/KKNV')"
      ],
      "metadata": {
        "id": "pXVB7-AV4WF3"
      },
      "execution_count": 4,
      "outputs": []
    },
    {
      "cell_type": "code",
      "source": [
        "cd /content/drive/MyDrive/KKNV"
      ],
      "metadata": {
        "colab": {
          "base_uri": "https://localhost:8080/"
        },
        "id": "DqBlSCfl4Z33",
        "outputId": "8e41da32-18b1-4961-f42e-72e557d35c1d"
      },
      "execution_count": 5,
      "outputs": [
        {
          "output_type": "stream",
          "name": "stdout",
          "text": [
            "/content/drive/MyDrive/KKNV\n"
          ]
        }
      ]
    },
    {
      "cell_type": "code",
      "source": [
        "!ls /content/drive/MyDrive/KKNV"
      ],
      "metadata": {
        "colab": {
          "base_uri": "https://localhost:8080/"
        },
        "id": "LzoAsgwe4Z64",
        "outputId": "cbcdfeb3-1f33-4244-fcbb-7c59b41f54e1"
      },
      "execution_count": 6,
      "outputs": [
        {
          "output_type": "stream",
          "name": "stdout",
          "text": [
            " 11a5490b-0e2d-4fd7-b54e-e2ebd0a72df6.zip   Pilot.csv\n",
            " behaviorals\t\t\t\t   'Pilot reading task.gsheet'\n",
            " comorbidity\t\t\t\t    protocols\n",
            " data26.02.2024.csv\t\t\t    Query1.csv\n",
            " data_filtered_done.csv\t\t\t   'Query 1.Dot values.csv'\n",
            " ids.csv\t\t\t\t    Query2.csv\n",
            " iq_overview.csv\t\t\t   'Query 2.Dot values.csv'\n",
            " iq_overview.gsheet\t\t\t    Query_final.csv\n",
            " old\t\t\t\t\t    sites.csv\n",
            " Pheno.csv\t\t\t\t    tasks\n",
            " pheno_mri.csv\t\t\t\t    Temporal_Frequency_Staircase_V3_gamified_L2R_Ilia.eve\n"
          ]
        }
      ]
    },
    {
      "cell_type": "code",
      "source": [
        "# our dataset\n",
        "data = pd.read_csv(\n",
        "    working_path.joinpath('data_filtered_done.csv'),\n",
        "    index_col=None,\n",
        "    low_memory=False\n",
        ")"
      ],
      "metadata": {
        "id": "WdWWKXLr4aCX"
      },
      "execution_count": 7,
      "outputs": []
    },
    {
      "cell_type": "code",
      "source": [
        "data.shape"
      ],
      "metadata": {
        "colab": {
          "base_uri": "https://localhost:8080/"
        },
        "id": "DspHfKI64i1J",
        "outputId": "c6613258-9db0-4766-b698-32dbd4e1bfe2"
      },
      "execution_count": 8,
      "outputs": [
        {
          "output_type": "execute_result",
          "data": {
            "text/plain": [
              "(620, 551)"
            ]
          },
          "metadata": {},
          "execution_count": 8
        }
      ]
    },
    {
      "cell_type": "code",
      "source": [
        "# run a correlation between ctopp and RAN scores to see whether they correlate\n",
        "''' 'CTOPP', 'CTOPP,CTOPP_BW_D', 'CTOPP,CTOPP_BW_P',\n",
        "       'CTOPP,CTOPP_BW_R', 'CTOPP,CTOPP_BW_S', 'CTOPP,CTOPP_Complete',\n",
        "       'CTOPP,CTOPP_EL_D', 'CTOPP,CTOPP_EL_P', 'CTOPP,CTOPP_EL_R',\n",
        "       'CTOPP,CTOPP_EL_S', 'CTOPP,CTOPP_Incomplete_Reason',\n",
        "       'CTOPP,CTOPP_Invalid_Reason', 'CTOPP,CTOPP_NR_D', 'CTOPP,CTOPP_NR_P',\n",
        "       'CTOPP,CTOPP_NR_R', 'CTOPP,CTOPP_NR_S', 'CTOPP,CTOPP_RD_D',\n",
        "       'CTOPP,CTOPP_RD_P', 'CTOPP,CTOPP_RD_R', 'CTOPP,CTOPP_RD_S',\n",
        "       'CTOPP,CTOPP_RL_D', 'CTOPP,CTOPP_RL_P', 'CTOPP,CTOPP_RL_R',\n",
        "       'CTOPP,CTOPP_RL_S', 'CTOPP,CTOPP_RO_D', 'CTOPP,CTOPP_RO_P',\n",
        "       'CTOPP,CTOPP_RO_R', 'CTOPP,CTOPP_RO_S', 'CTOPP,CTOPP_RSN_Comp',\n",
        "       'CTOPP,CTOPP_RSN_D', 'CTOPP,CTOPP_RSN_P', 'CTOPP,CTOPP_RSN_Sum',\n",
        "       'CTOPP,CTOPP_Valid', 'CTOPP,EID'   '''\n",
        "\n",
        "'RANRAS,RR_Col_Desc', 'RANRAS,RR_Col_P',\n",
        "       'RANRAS,RR_Col_Raw', 'RANRAS,RR_Col_Stnd', 'RANRAS,RR_Let_Desc',\n",
        "       'RANRAS,RR_Let_P', 'RANRAS,RR_Let_Raw', 'RANRAS,RR_Let_Stnd',\n",
        "       'RANRAS,RR_Num_Desc', 'RANRAS,RR_Num_P', 'RANRAS,RR_Num_Raw',\n",
        "       'RANRAS,RR_Num_Stnd', 'RANRAS,RR_Obj_Desc', 'RANRAS,RR_Obj_P',\n",
        "       'RANRAS,RR_Obj_Raw', 'RANRAS,RR_Obj_Stnd', 'RANRAS,RR_Three_Desc',\n",
        "       'RANRAS,RR_Three_P', 'RANRAS,RR_Three_Raw', 'RANRAS,RR_Three_Stnd',\n",
        "       'RANRAS,RR_Two_Desc', 'RANRAS,RR_Two_P', 'RANRAS,RR_Two_Raw',\n",
        "       'RANRAS,RR_Two_Stnd'\n"
      ],
      "metadata": {
        "id": "AEIj7R8P4aEv"
      },
      "execution_count": null,
      "outputs": []
    },
    {
      "cell_type": "code",
      "source": [
        "ran_columns = ['RANRAS,RR_Col_Desc', 'RANRAS,RR_Col_P',\n",
        "       'RANRAS,RR_Col_Raw', 'RANRAS,RR_Col_Stnd', 'RANRAS,RR_Let_Desc',\n",
        "       'RANRAS,RR_Let_P', 'RANRAS,RR_Let_Raw', 'RANRAS,RR_Let_Stnd',\n",
        "       'RANRAS,RR_Num_Desc', 'RANRAS,RR_Num_P', 'RANRAS,RR_Num_Raw',\n",
        "       'RANRAS,RR_Num_Stnd', 'RANRAS,RR_Obj_Desc', 'RANRAS,RR_Obj_P',\n",
        "       'RANRAS,RR_Obj_Raw', 'RANRAS,RR_Obj_Stnd', 'RANRAS,RR_Three_Desc',\n",
        "       'RANRAS,RR_Three_P', 'RANRAS,RR_Three_Raw', 'RANRAS,RR_Three_Stnd',\n",
        "       'RANRAS,RR_Two_Desc', 'RANRAS,RR_Two_P', 'RANRAS,RR_Two_Raw',\n",
        "       'RANRAS,RR_Two_Stnd']\n",
        "# filling the nan values with '.' to be consistent and for easier exclusion\n",
        "for i in ran_columns:\n",
        "  data[i] = data[i].fillna('.')\n",
        "\n",
        "numbers = data[(data['RANRAS,RR_Num_Raw'] != '.') & (data['CTOPP,CTOPP_RD_R'] != '.')]\n",
        "letters = data[(data['RANRAS,RR_Let_Raw'] != '.') & (data['CTOPP,CTOPP_RL_R'] != '.')]\n",
        "\n",
        "# they do not overlap, so it was either ran or ctopp"
      ],
      "metadata": {
        "id": "4049h0KC9sKm"
      },
      "execution_count": 26,
      "outputs": []
    },
    {
      "cell_type": "code",
      "source": [
        "letters"
      ],
      "metadata": {
        "colab": {
          "base_uri": "https://localhost:8080/",
          "height": 116
        },
        "id": "tMct8pxw9SVt",
        "outputId": "e22da08c-78ec-4c81-bd6c-cd3873f8d60d"
      },
      "execution_count": 29,
      "outputs": [
        {
          "output_type": "execute_result",
          "data": {
            "text/plain": [
              "Empty DataFrame\n",
              "Columns: [Unnamed: 0, Identifiers, AUDIT,AUDIT_Total_Score, Audit,AUDIT_Total_Score, Barratt,Barratt_Total, Barratt,Barratt_Total_Edu, Barratt,Barratt_Total_Occ, Basic_Demos,Age, Basic_Demos,EID, Basic_Demos,Patient_ID, Basic_Demos,Sex, Site, CELF,CELF_Complete, CELF,CELF_Total, CELF5_Meta,CLEF5M_CS_Rank, CELF5_Meta,CLEF5M_CS_Raw, CELF5_Meta,CLEF5M_CS_Scale, CELF5_Meta,CLEF5M_FL_Rank, CELF5_Meta,CLEF5M_FL_Raw, CELF5_Meta,CLEF5M_FL_Scale, CELF5_Meta,CLEF5M_MI_Rank, CELF5_Meta,CLEF5M_MI_Raw, CELF5_Meta,CLEF5M_MI_S, CELF5_Meta,CLEF5M_MM_Rank, CELF5_Meta,CLEF5M_MM_Raw, CELF5_Meta,CLEF5M_MM_Scale, CELF5_Meta,CLEF5M_MPI_Rank, CELF5_Meta,CLEF5M_MPI_Stnd, CELF5_Meta,CLEF5M_MPI_Sum, CELF5_Meta,CLEF5M_MSI_Rank, CELF5_Meta,CLEF5M_MSI_Stnd, CELF5_Meta,CLEF5M_MSI_Sum, CELF5_Meta,CLEF5M_TMI_Rank, CELF5_Meta,CLEF5M_TMI_Stnd, CELF5_Meta,CLEF5M_TMI_Sum, CELF_Full_5to8,CELF_CLS_P, CELF_Full_5to8,CELF_CLS_Stnd, CELF_Full_5to8,CELF_Complete, CELF_Full_5to8,CELF_ELI_P, CELF_Full_5to8,CELF_ELI_Stnd, CELF_Full_5to8,CELF_FD_P, CELF_Full_5to8,CELF_FD_R, CELF_Full_5to8,CELF_FD_S, CELF_Full_5to8,CELF_FS_P, CELF_Full_5to8,CELF_FS_R, CELF_Full_5to8,CELF_FS_S, CELF_Full_5to8,CELF_Inc_Reason, CELF_Full_5to8,CELF_Invalid_Reason, CELF_Full_5to8,CELF_LCI_P, CELF_Full_5to8,CELF_LCI_Stnd, CELF_Full_5to8,CELF_LC_P, CELF_Full_5to8,CELF_LC_R, CELF_Full_5to8,CELF_LC_S, CELF_Full_5to8,CELF_LSI_P, CELF_Full_5to8,CELF_LSI_Stnd, CELF_Full_5to8,CELF_PP_P, CELF_Full_5to8,CELF_PP_R, CELF_Full_5to8,CELF_PP_S, CELF_Full_5to8,CELF_RLI_P, CELF_Full_5to8,CELF_RLI_Stnd, CELF_Full_5to8,CELF_RS_P, CELF_Full_5to8,CELF_RS_R, CELF_Full_5to8,CELF_RS_S, CELF_Full_5to8,CELF_SC_P, CELF_Full_5to8,CELF_SC_R, CELF_Full_5to8,CELF_SC_S, CELF_Full_5to8,CELF_USP_P, CELF_Full_5to8,CELF_USP_R, CELF_Full_5to8,CELF_USP_S, CELF_Full_5to8,CELF_Valid, CELF_Full_5to8,CELF_WC_P, CELF_Full_5to8,CELF_WC_R, CELF_Full_5to8,CELF_WC_S, CELF_Full_5to8,CELF_WS_P, CELF_Full_5to8,CELF_WS_R, CELF_Full_5to8,CELF_WS_S, CELF_Full_5to8,EID, CELF_Full_9to21,CELF_CLS_P, CELF_Full_9to21,CELF_CLS_Stnd, CELF_Full_9to21,CELF_Complete, CELF_Full_9to21,CELF_ELI_P, CELF_Full_9to21,CELF_ELI_Stnd, CELF_Full_9to21,CELF_FD_P, CELF_Full_9to21,CELF_FD_R, CELF_Full_9to21,CELF_FD_S, CELF_Full_9to21,CELF_FS_P, CELF_Full_9to21,CELF_FS_R, CELF_Full_9to21,CELF_FS_S, CELF_Full_9to21,CELF_LCI_P, CELF_Full_9to21,CELF_LCI_Stnd, CELF_Full_9to21,CELF_LMI_P, CELF_Full_9to21,CELF_LMI_Stnd, CELF_Full_9to21,CELF_RLI_P, CELF_Full_9to21,CELF_RLI_Stnd, CELF_Full_9to21,CELF_RS_P, CELF_Full_9to21,CELF_RS_R, CELF_Full_9to21,CELF_RS_S, CELF_Full_9to21,CELF_SA_P, CELF_Full_9to21,CELF_SA_R, CELF_Full_9to21,CELF_SA_S, ...]\n",
              "Index: []\n",
              "\n",
              "[0 rows x 551 columns]"
            ],
            "text/html": [
              "\n",
              "  <div id=\"df-5e754c5b-95c9-42f8-9d46-dcd8cbbd32a9\" class=\"colab-df-container\">\n",
              "    <div>\n",
              "<style scoped>\n",
              "    .dataframe tbody tr th:only-of-type {\n",
              "        vertical-align: middle;\n",
              "    }\n",
              "\n",
              "    .dataframe tbody tr th {\n",
              "        vertical-align: top;\n",
              "    }\n",
              "\n",
              "    .dataframe thead th {\n",
              "        text-align: right;\n",
              "    }\n",
              "</style>\n",
              "<table border=\"1\" class=\"dataframe\">\n",
              "  <thead>\n",
              "    <tr style=\"text-align: right;\">\n",
              "      <th></th>\n",
              "      <th>Unnamed: 0</th>\n",
              "      <th>Identifiers</th>\n",
              "      <th>AUDIT,AUDIT_Total_Score</th>\n",
              "      <th>Audit,AUDIT_Total_Score</th>\n",
              "      <th>Barratt,Barratt_Total</th>\n",
              "      <th>Barratt,Barratt_Total_Edu</th>\n",
              "      <th>Barratt,Barratt_Total_Occ</th>\n",
              "      <th>Basic_Demos,Age</th>\n",
              "      <th>Basic_Demos,EID</th>\n",
              "      <th>Basic_Demos,Patient_ID</th>\n",
              "      <th>...</th>\n",
              "      <th>WISC_Remote,WISC_complete</th>\n",
              "      <th>DD</th>\n",
              "      <th>Diagnosis</th>\n",
              "      <th>DD type</th>\n",
              "      <th>Medicine</th>\n",
              "      <th>Status</th>\n",
              "      <th>CTOPP</th>\n",
              "      <th>ADHD</th>\n",
              "      <th>IQ</th>\n",
              "      <th>Test</th>\n",
              "    </tr>\n",
              "  </thead>\n",
              "  <tbody>\n",
              "  </tbody>\n",
              "</table>\n",
              "<p>0 rows × 551 columns</p>\n",
              "</div>\n",
              "    <div class=\"colab-df-buttons\">\n",
              "\n",
              "  <div class=\"colab-df-container\">\n",
              "    <button class=\"colab-df-convert\" onclick=\"convertToInteractive('df-5e754c5b-95c9-42f8-9d46-dcd8cbbd32a9')\"\n",
              "            title=\"Convert this dataframe to an interactive table.\"\n",
              "            style=\"display:none;\">\n",
              "\n",
              "  <svg xmlns=\"http://www.w3.org/2000/svg\" height=\"24px\" viewBox=\"0 -960 960 960\">\n",
              "    <path d=\"M120-120v-720h720v720H120Zm60-500h600v-160H180v160Zm220 220h160v-160H400v160Zm0 220h160v-160H400v160ZM180-400h160v-160H180v160Zm440 0h160v-160H620v160ZM180-180h160v-160H180v160Zm440 0h160v-160H620v160Z\"/>\n",
              "  </svg>\n",
              "    </button>\n",
              "\n",
              "  <style>\n",
              "    .colab-df-container {\n",
              "      display:flex;\n",
              "      gap: 12px;\n",
              "    }\n",
              "\n",
              "    .colab-df-convert {\n",
              "      background-color: #E8F0FE;\n",
              "      border: none;\n",
              "      border-radius: 50%;\n",
              "      cursor: pointer;\n",
              "      display: none;\n",
              "      fill: #1967D2;\n",
              "      height: 32px;\n",
              "      padding: 0 0 0 0;\n",
              "      width: 32px;\n",
              "    }\n",
              "\n",
              "    .colab-df-convert:hover {\n",
              "      background-color: #E2EBFA;\n",
              "      box-shadow: 0px 1px 2px rgba(60, 64, 67, 0.3), 0px 1px 3px 1px rgba(60, 64, 67, 0.15);\n",
              "      fill: #174EA6;\n",
              "    }\n",
              "\n",
              "    .colab-df-buttons div {\n",
              "      margin-bottom: 4px;\n",
              "    }\n",
              "\n",
              "    [theme=dark] .colab-df-convert {\n",
              "      background-color: #3B4455;\n",
              "      fill: #D2E3FC;\n",
              "    }\n",
              "\n",
              "    [theme=dark] .colab-df-convert:hover {\n",
              "      background-color: #434B5C;\n",
              "      box-shadow: 0px 1px 3px 1px rgba(0, 0, 0, 0.15);\n",
              "      filter: drop-shadow(0px 1px 2px rgba(0, 0, 0, 0.3));\n",
              "      fill: #FFFFFF;\n",
              "    }\n",
              "  </style>\n",
              "\n",
              "    <script>\n",
              "      const buttonEl =\n",
              "        document.querySelector('#df-5e754c5b-95c9-42f8-9d46-dcd8cbbd32a9 button.colab-df-convert');\n",
              "      buttonEl.style.display =\n",
              "        google.colab.kernel.accessAllowed ? 'block' : 'none';\n",
              "\n",
              "      async function convertToInteractive(key) {\n",
              "        const element = document.querySelector('#df-5e754c5b-95c9-42f8-9d46-dcd8cbbd32a9');\n",
              "        const dataTable =\n",
              "          await google.colab.kernel.invokeFunction('convertToInteractive',\n",
              "                                                    [key], {});\n",
              "        if (!dataTable) return;\n",
              "\n",
              "        const docLinkHtml = 'Like what you see? Visit the ' +\n",
              "          '<a target=\"_blank\" href=https://colab.research.google.com/notebooks/data_table.ipynb>data table notebook</a>'\n",
              "          + ' to learn more about interactive tables.';\n",
              "        element.innerHTML = '';\n",
              "        dataTable['output_type'] = 'display_data';\n",
              "        await google.colab.output.renderOutput(dataTable, element);\n",
              "        const docLink = document.createElement('div');\n",
              "        docLink.innerHTML = docLinkHtml;\n",
              "        element.appendChild(docLink);\n",
              "      }\n",
              "    </script>\n",
              "  </div>\n",
              "\n",
              "    </div>\n",
              "  </div>\n"
            ],
            "application/vnd.google.colaboratory.intrinsic+json": {
              "type": "dataframe",
              "variable_name": "letters"
            }
          },
          "metadata": {},
          "execution_count": 29
        }
      ]
    },
    {
      "cell_type": "code",
      "source": [
        "data[data['RANRAS,RR_Let_Raw'] != '.']['CTOPP,CTOPP_RD_R']"
      ],
      "metadata": {
        "colab": {
          "base_uri": "https://localhost:8080/"
        },
        "id": "7Sn2EOo6Bskh",
        "outputId": "747b8d78-5bcf-4c23-9dac-02a67f64407d"
      },
      "execution_count": 31,
      "outputs": [
        {
          "output_type": "execute_result",
          "data": {
            "text/plain": [
              "8      .\n",
              "22     .\n",
              "49     .\n",
              "60     .\n",
              "118    .\n",
              "226    .\n",
              "236    .\n",
              "259    .\n",
              "261    .\n",
              "314    .\n",
              "322    .\n",
              "329    .\n",
              "337    .\n",
              "342    .\n",
              "367    .\n",
              "379    .\n",
              "397    .\n",
              "414    .\n",
              "423    .\n",
              "431    .\n",
              "433    .\n",
              "457    .\n",
              "478    .\n",
              "519    .\n",
              "522    .\n",
              "560    .\n",
              "565    .\n",
              "568    .\n",
              "579    .\n",
              "580    .\n",
              "603    .\n",
              "604    .\n",
              "605    .\n",
              "606    .\n",
              "607    .\n",
              "608    .\n",
              "609    .\n",
              "610    .\n",
              "611    .\n",
              "612    .\n",
              "613    .\n",
              "614    .\n",
              "615    .\n",
              "616    .\n",
              "617    .\n",
              "618    .\n",
              "619    .\n",
              "Name: CTOPP,CTOPP_RD_R, dtype: object"
            ]
          },
          "metadata": {},
          "execution_count": 31
        }
      ]
    },
    {
      "cell_type": "code",
      "source": [],
      "metadata": {
        "id": "s8QqO0lrB3Sg"
      },
      "execution_count": null,
      "outputs": []
    }
  ]
}