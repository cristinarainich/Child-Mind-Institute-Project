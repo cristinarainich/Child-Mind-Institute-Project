{
  "nbformat": 4,
  "nbformat_minor": 0,
  "metadata": {
    "colab": {
      "provenance": [],
      "authorship_tag": "ABX9TyOYZ2pJkL+eKpiSVDvcyHTI",
      "include_colab_link": true
    },
    "kernelspec": {
      "name": "python3",
      "display_name": "Python 3"
    },
    "language_info": {
      "name": "python"
    }
  },
  "cells": [
    {
      "cell_type": "markdown",
      "metadata": {
        "id": "view-in-github",
        "colab_type": "text"
      },
      "source": [
        "<a href=\"https://colab.research.google.com/github/cristinarainich/Child-Mind-Institute-Project/blob/main/Behavioral_analysis.ipynb\" target=\"_parent\"><img src=\"https://colab.research.google.com/assets/colab-badge.svg\" alt=\"Open In Colab\"/></a>"
      ]
    },
    {
      "cell_type": "code",
      "execution_count": 1,
      "metadata": {
        "colab": {
          "base_uri": "https://localhost:8080/"
        },
        "id": "qHeFXTeN4M9g",
        "outputId": "e1de278e-0e3c-4ba8-b6a0-7624aa6f4f12"
      },
      "outputs": [
        {
          "output_type": "stream",
          "name": "stdout",
          "text": [
            "Mounted at /content/drive\n"
          ]
        }
      ],
      "source": [
        "from google.colab import drive\n",
        "drive.mount('/content/drive')"
      ]
    },
    {
      "cell_type": "code",
      "source": [
        "from pathlib import Path\n",
        "import pandas as pd\n",
        "import numpy as np\n",
        "import math\n",
        "import pylab as pl\n",
        "import seaborn as sns\n",
        "from scipy import stats\n",
        "%pylab inline"
      ],
      "metadata": {
        "colab": {
          "base_uri": "https://localhost:8080/"
        },
        "id": "JIhyU4T84RHw",
        "outputId": "2c4555ce-04d6-4e53-ff85-51402fa6931e"
      },
      "execution_count": 2,
      "outputs": [
        {
          "output_type": "stream",
          "name": "stdout",
          "text": [
            "Populating the interactive namespace from numpy and matplotlib\n"
          ]
        }
      ]
    },
    {
      "cell_type": "code",
      "source": [
        "sns.set()"
      ],
      "metadata": {
        "id": "19dPEskf4U_n"
      },
      "execution_count": 3,
      "outputs": []
    },
    {
      "cell_type": "code",
      "source": [
        "working_path = Path('/content/drive/MyDrive/KKNV')"
      ],
      "metadata": {
        "id": "pXVB7-AV4WF3"
      },
      "execution_count": 4,
      "outputs": []
    },
    {
      "cell_type": "code",
      "source": [
        "cd /content/drive/MyDrive/KKNV"
      ],
      "metadata": {
        "colab": {
          "base_uri": "https://localhost:8080/"
        },
        "id": "DqBlSCfl4Z33",
        "outputId": "5e2b8bf6-f667-4500-e9f0-ac452d68bacd"
      },
      "execution_count": 5,
      "outputs": [
        {
          "output_type": "stream",
          "name": "stdout",
          "text": [
            "/content/drive/MyDrive/KKNV\n"
          ]
        }
      ]
    },
    {
      "cell_type": "code",
      "source": [
        "!ls /content/drive/MyDrive/KKNV"
      ],
      "metadata": {
        "colab": {
          "base_uri": "https://localhost:8080/"
        },
        "id": "LzoAsgwe4Z64",
        "outputId": "3be2c5d1-3f9d-4376-80ef-91a5f37f6006"
      },
      "execution_count": 6,
      "outputs": [
        {
          "output_type": "stream",
          "name": "stdout",
          "text": [
            " 11a5490b-0e2d-4fd7-b54e-e2ebd0a72df6.zip   Pilot.csv\n",
            " behaviorals\t\t\t\t   'Pilot reading task.gsheet'\n",
            " comorbidity\t\t\t\t    protocols\n",
            " data26.02.2024.csv\t\t\t    Query1.csv\n",
            " data_filtered_done.csv\t\t\t   'Query 1.Dot values.csv'\n",
            " ids.csv\t\t\t\t    Query2.csv\n",
            " iq_overview.csv\t\t\t   'Query 2.Dot values.csv'\n",
            " iq_overview.gsheet\t\t\t    Query_final.csv\n",
            " old\t\t\t\t\t    sites.csv\n",
            " Pheno.csv\t\t\t\t    tasks\n",
            " pheno_mri.csv\t\t\t\t    Temporal_Frequency_Staircase_V3_gamified_L2R_Ilia.eve\n"
          ]
        }
      ]
    },
    {
      "cell_type": "code",
      "source": [
        "# our dataset\n",
        "data = pd.read_csv(\n",
        "    working_path.joinpath('data_filtered_done.csv'),\n",
        "    index_col=None,\n",
        "    low_memory=False\n",
        ")"
      ],
      "metadata": {
        "id": "WdWWKXLr4aCX"
      },
      "execution_count": 7,
      "outputs": []
    },
    {
      "cell_type": "code",
      "source": [
        "data.shape"
      ],
      "metadata": {
        "colab": {
          "base_uri": "https://localhost:8080/"
        },
        "id": "DspHfKI64i1J",
        "outputId": "c63f4dc4-bf35-4e4f-d683-d9648f3b4421"
      },
      "execution_count": 8,
      "outputs": [
        {
          "output_type": "execute_result",
          "data": {
            "text/plain": [
              "(620, 551)"
            ]
          },
          "metadata": {},
          "execution_count": 8
        }
      ]
    },
    {
      "cell_type": "code",
      "source": [
        "ran_columns = ['RANRAS,RR_Col_Desc', 'RANRAS,RR_Col_P',\n",
        "       'RANRAS,RR_Col_Raw', 'RANRAS,RR_Col_Stnd', 'RANRAS,RR_Let_Desc',\n",
        "       'RANRAS,RR_Let_P', 'RANRAS,RR_Let_Raw', 'RANRAS,RR_Let_Stnd',\n",
        "       'RANRAS,RR_Num_Desc', 'RANRAS,RR_Num_P', 'RANRAS,RR_Num_Raw',\n",
        "       'RANRAS,RR_Num_Stnd', 'RANRAS,RR_Obj_Desc', 'RANRAS,RR_Obj_P',\n",
        "       'RANRAS,RR_Obj_Raw', 'RANRAS,RR_Obj_Stnd', 'RANRAS,RR_Three_Desc',\n",
        "       'RANRAS,RR_Three_P', 'RANRAS,RR_Three_Raw', 'RANRAS,RR_Three_Stnd',\n",
        "       'RANRAS,RR_Two_Desc', 'RANRAS,RR_Two_P', 'RANRAS,RR_Two_Raw',\n",
        "       'RANRAS,RR_Two_Stnd']\n",
        "# filling the nan values with '.' to be consistent and for easier exclusion\n",
        "for i in ran_columns:\n",
        "  data[i] = data[i].fillna('.')\n",
        "\n",
        "numbers = data[(data['RANRAS,RR_Num_Raw'] != '.') & (data['CTOPP,CTOPP_RD_R'] != '.')]\n",
        "letters = data[(data['RANRAS,RR_Let_Raw'] != '.') & (data['CTOPP,CTOPP_RL_R'] != '.')]\n",
        "\n",
        "# they do not overlap, so it was either ran or ctopp"
      ],
      "metadata": {
        "id": "4049h0KC9sKm"
      },
      "execution_count": 9,
      "outputs": []
    },
    {
      "cell_type": "code",
      "source": [
        "# run a correlation between ctopp and RAN scores to see whether they correlate\n",
        "''' 'CTOPP', 'CTOPP,CTOPP_BW_D', 'CTOPP,CTOPP_BW_P',\n",
        "       'CTOPP,CTOPP_BW_R', 'CTOPP,CTOPP_BW_S', 'CTOPP,CTOPP_Complete',\n",
        "       'CTOPP,CTOPP_EL_D', 'CTOPP,CTOPP_EL_P', 'CTOPP,CTOPP_EL_R',\n",
        "       'CTOPP,CTOPP_EL_S', 'CTOPP,CTOPP_Incomplete_Reason',\n",
        "       'CTOPP,CTOPP_Invalid_Reason', 'CTOPP,CTOPP_NR_D', 'CTOPP,CTOPP_NR_P',\n",
        "       'CTOPP,CTOPP_NR_R', 'CTOPP,CTOPP_NR_S', 'CTOPP,CTOPP_RD_D',\n",
        "       'CTOPP,CTOPP_RD_P', 'CTOPP,CTOPP_RD_R', 'CTOPP,CTOPP_RD_S',\n",
        "       'CTOPP,CTOPP_RL_D', 'CTOPP,CTOPP_RL_P', 'CTOPP,CTOPP_RL_R',\n",
        "       'CTOPP,CTOPP_RL_S', 'CTOPP,CTOPP_RO_D', 'CTOPP,CTOPP_RO_P',\n",
        "       'CTOPP,CTOPP_RO_R', 'CTOPP,CTOPP_RO_S', 'CTOPP,CTOPP_RSN_Comp',\n",
        "       'CTOPP,CTOPP_RSN_D', 'CTOPP,CTOPP_RSN_P', 'CTOPP,CTOPP_RSN_Sum',\n",
        "       'CTOPP,CTOPP_Valid', 'CTOPP,EID'   '''\n",
        "\n",
        "'RANRAS,RR_Col_Desc', 'RANRAS,RR_Col_P',\n",
        "       'RANRAS,RR_Col_Raw', 'RANRAS,RR_Col_Stnd', 'RANRAS,RR_Let_Desc',\n",
        "       'RANRAS,RR_Let_P', 'RANRAS,RR_Let_Raw', 'RANRAS,RR_Let_Stnd',\n",
        "       'RANRAS,RR_Num_Desc', 'RANRAS,RR_Num_P', 'RANRAS,RR_Num_Raw',\n",
        "       'RANRAS,RR_Num_Stnd', 'RANRAS,RR_Obj_Desc', 'RANRAS,RR_Obj_P',\n",
        "       'RANRAS,RR_Obj_Raw', 'RANRAS,RR_Obj_Stnd', 'RANRAS,RR_Three_Desc',\n",
        "       'RANRAS,RR_Three_P', 'RANRAS,RR_Three_Raw', 'RANRAS,RR_Three_Stnd',\n",
        "       'RANRAS,RR_Two_Desc', 'RANRAS,RR_Two_P', 'RANRAS,RR_Two_Raw',\n",
        "       'RANRAS,RR_Two_Stnd'\n"
      ],
      "metadata": {
        "id": "AEIj7R8P4aEv"
      },
      "execution_count": null,
      "outputs": []
    },
    {
      "cell_type": "code",
      "source": [
        "data[data['RANRAS,RR_Obj_Raw'] != '.']['CTOPP,CTOPP_RO_R']"
      ],
      "metadata": {
        "colab": {
          "base_uri": "https://localhost:8080/"
        },
        "id": "eCYKMoxlFcdt",
        "outputId": "dec57465-f710-44dc-dbc9-658f859a6f44"
      },
      "execution_count": 12,
      "outputs": [
        {
          "output_type": "execute_result",
          "data": {
            "text/plain": [
              "8      .\n",
              "22     .\n",
              "49     .\n",
              "60     .\n",
              "118    .\n",
              "226    .\n",
              "236    .\n",
              "259    .\n",
              "314    .\n",
              "322    .\n",
              "329    .\n",
              "337    .\n",
              "342    .\n",
              "367    .\n",
              "379    .\n",
              "397    .\n",
              "414    .\n",
              "423    .\n",
              "431    .\n",
              "433    .\n",
              "457    .\n",
              "478    .\n",
              "519    .\n",
              "522    .\n",
              "560    .\n",
              "565    .\n",
              "568    .\n",
              "579    .\n",
              "580    .\n",
              "603    .\n",
              "604    .\n",
              "605    .\n",
              "606    .\n",
              "607    .\n",
              "608    .\n",
              "609    .\n",
              "610    .\n",
              "611    .\n",
              "612    .\n",
              "613    .\n",
              "614    .\n",
              "615    .\n",
              "616    .\n",
              "617    .\n",
              "618    .\n",
              "619    .\n",
              "Name: CTOPP,CTOPP_RO_R, dtype: object"
            ]
          },
          "metadata": {},
          "execution_count": 12
        }
      ]
    },
    {
      "cell_type": "code",
      "source": [
        "data[data['RANRAS,RR_Col_Raw'] != '.']['CTOPP,CTOPP_RL_R']"
      ],
      "metadata": {
        "colab": {
          "base_uri": "https://localhost:8080/"
        },
        "id": "tMct8pxw9SVt",
        "outputId": "12d642ad-9550-4689-9dc8-cd96bcb89c7d"
      },
      "execution_count": 11,
      "outputs": [
        {
          "output_type": "execute_result",
          "data": {
            "text/plain": [
              "8      .\n",
              "22     .\n",
              "49     .\n",
              "60     .\n",
              "118    .\n",
              "226    .\n",
              "236    .\n",
              "259    .\n",
              "261    .\n",
              "314    .\n",
              "322    .\n",
              "329    .\n",
              "337    .\n",
              "342    .\n",
              "367    .\n",
              "379    .\n",
              "397    .\n",
              "414    .\n",
              "423    .\n",
              "431    .\n",
              "433    .\n",
              "457    .\n",
              "478    .\n",
              "519    .\n",
              "522    .\n",
              "560    .\n",
              "565    .\n",
              "568    .\n",
              "579    .\n",
              "580    .\n",
              "603    .\n",
              "604    .\n",
              "605    .\n",
              "606    .\n",
              "607    .\n",
              "608    .\n",
              "609    .\n",
              "610    .\n",
              "611    .\n",
              "612    .\n",
              "613    .\n",
              "614    .\n",
              "615    .\n",
              "616    .\n",
              "617    .\n",
              "618    .\n",
              "619    .\n",
              "Name: CTOPP,CTOPP_RL_R, dtype: object"
            ]
          },
          "metadata": {},
          "execution_count": 11
        }
      ]
    },
    {
      "cell_type": "code",
      "source": [],
      "metadata": {
        "id": "s8QqO0lrB3Sg"
      },
      "execution_count": null,
      "outputs": []
    }
  ]
}