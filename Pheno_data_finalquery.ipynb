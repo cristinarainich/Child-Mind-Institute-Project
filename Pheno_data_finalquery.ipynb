{
  "nbformat": 4,
  "nbformat_minor": 0,
  "metadata": {
    "colab": {
      "provenance": [],
      "toc_visible": true,
      "authorship_tag": "ABX9TyM4RwYYXmDu7B67IBsPDy2n",
      "include_colab_link": true
    },
    "kernelspec": {
      "name": "python3",
      "display_name": "Python 3"
    },
    "language_info": {
      "name": "python"
    }
  },
  "cells": [
    {
      "cell_type": "markdown",
      "metadata": {
        "id": "view-in-github",
        "colab_type": "text"
      },
      "source": [
        "<a href=\"https://colab.research.google.com/github/cristinarainich/Child-Mind-Institute-Project/blob/main/Pheno_data_finalquery.ipynb\" target=\"_parent\"><img src=\"https://colab.research.google.com/assets/colab-badge.svg\" alt=\"Open In Colab\"/></a>"
      ]
    },
    {
      "cell_type": "markdown",
      "source": [
        "**Updated** 22/10/2024 17:00"
      ],
      "metadata": {
        "id": "R1aQIcWPJsdR"
      }
    },
    {
      "cell_type": "code",
      "execution_count": 1,
      "metadata": {
        "colab": {
          "base_uri": "https://localhost:8080/"
        },
        "id": "7sLM_aBE1XSO",
        "outputId": "df9a8556-8e4b-4ee0-e336-8d7c0d4aefe0"
      },
      "outputs": [
        {
          "output_type": "stream",
          "name": "stdout",
          "text": [
            "Mounted at /content/drive\n"
          ]
        }
      ],
      "source": [
        "from google.colab import drive\n",
        "drive.mount('/content/drive')"
      ]
    },
    {
      "cell_type": "code",
      "source": [
        "from pathlib import Path\n",
        "import pandas as pd\n",
        "import numpy as np\n",
        "import math\n",
        "import re\n",
        "import pylab as pl\n",
        "from itertools import combinations\n",
        "import seaborn as sns\n",
        "from scipy import stats\n",
        "from collections import defaultdict\n",
        "%pylab inline"
      ],
      "metadata": {
        "colab": {
          "base_uri": "https://localhost:8080/"
        },
        "id": "aaZC6otb1s12",
        "outputId": "86f7e36a-4ee1-4855-cf6b-5f0043fa8cda"
      },
      "execution_count": 2,
      "outputs": [
        {
          "output_type": "stream",
          "name": "stdout",
          "text": [
            "Populating the interactive namespace from numpy and matplotlib\n"
          ]
        }
      ]
    },
    {
      "cell_type": "code",
      "source": [
        "sns.set()"
      ],
      "metadata": {
        "id": "lAeNDY5uJvVf"
      },
      "execution_count": 3,
      "outputs": []
    },
    {
      "cell_type": "code",
      "source": [
        "working_path = Path('/content/drive/MyDrive/KKNV')"
      ],
      "metadata": {
        "id": "aonUk2xG1llO"
      },
      "execution_count": 4,
      "outputs": []
    },
    {
      "cell_type": "code",
      "source": [
        "cd /content/drive/MyDrive/KKNV"
      ],
      "metadata": {
        "colab": {
          "base_uri": "https://localhost:8080/"
        },
        "id": "z9Xbaxjz1yH3",
        "outputId": "5989a9a5-1b15-4362-eee0-23561527ef37"
      },
      "execution_count": 5,
      "outputs": [
        {
          "output_type": "stream",
          "name": "stdout",
          "text": [
            "/content/drive/MyDrive/KKNV\n"
          ]
        }
      ]
    },
    {
      "cell_type": "code",
      "source": [
        "!ls /content/drive/MyDrive/KKNV"
      ],
      "metadata": {
        "colab": {
          "base_uri": "https://localhost:8080/"
        },
        "id": "5zZW_4I4NS1u",
        "outputId": "5a11a8e8-5383-49f8-9199-3a9e201d9ba7"
      },
      "execution_count": 6,
      "outputs": [
        {
          "output_type": "stream",
          "name": "stdout",
          "text": [
            " 11a5490b-0e2d-4fd7-b54e-e2ebd0a72df6.zip   pheno_mri.csv\n",
            "'CMI Project. Updates.gslides'\t\t    Pilot.csv\n",
            " comorbidity\t\t\t\t   'Pilot reading task.gsheet'\n",
            " data\t\t\t\t\t    protocols\n",
            " data26.02.2024.csv\t\t\t    Query1.csv\n",
            " data_filtered_done.csv\t\t\t   'Query 1.Dot values.csv'\n",
            "'files sharing.docx'\t\t\t    Query2.csv\n",
            " ids.csv\t\t\t\t   'Query 2.Dot values.csv'\n",
            " iq_overview.csv\t\t\t    Query_final.csv\n",
            " iq_overview.gsheet\t\t\t    query_September2024.csv\n",
            "'JC 1.10 AF.pptx'\t\t\t    sites.csv\n",
            " old\t\t\t\t\t    tasks\n",
            " Pheno.csv\t\t\t\t    Temporal_Frequency_Staircase_V3_gamified_L2R_Ilia.eve\n"
          ]
        }
      ]
    },
    {
      "cell_type": "markdown",
      "source": [
        "## Pipeline to make the data convinient to use"
      ],
      "metadata": {
        "id": "nLkYOzzUGnRy"
      }
    },
    {
      "cell_type": "markdown",
      "source": [
        "Here we are going to use the full and the most recent dataset."
      ],
      "metadata": {
        "id": "D2gWtrKvyMr-"
      }
    },
    {
      "cell_type": "code",
      "source": [
        "# our dataset\n",
        "data = pd.read_csv(\n",
        "    working_path.joinpath('query_September2024.csv'),\n",
        "    index_col=None,\n",
        "    low_memory=False\n",
        ")"
      ],
      "metadata": {
        "id": "V4z2UsT-zTlp"
      },
      "execution_count": 7,
      "outputs": []
    },
    {
      "cell_type": "code",
      "source": [
        "data.shape"
      ],
      "metadata": {
        "id": "Y_RRV98FUjpE",
        "outputId": "d86047fe-50bc-420f-ab4f-3b7cd0ffcf24",
        "colab": {
          "base_uri": "https://localhost:8080/"
        }
      },
      "execution_count": 8,
      "outputs": [
        {
          "output_type": "execute_result",
          "data": {
            "text/plain": [
              "(6687, 791)"
            ]
          },
          "metadata": {},
          "execution_count": 8
        }
      ]
    },
    {
      "cell_type": "code",
      "source": [
        "ids = data.Identifiers.values\n",
        "new_ids = []\n",
        "for i in ids:\n",
        "  new_i = i.replace(',assessment', '')\n",
        "  new_ids.append(new_i)\n",
        "print(len(ids))\n",
        "print(len(new_ids))\n",
        "\n",
        "data['Identifiers'] = new_ids"
      ],
      "metadata": {
        "id": "jjGb6Cr0HxgJ",
        "outputId": "db27685a-12b1-44ce-9f43-bc8f0dff7ae1",
        "colab": {
          "base_uri": "https://localhost:8080/"
        }
      },
      "execution_count": 9,
      "outputs": [
        {
          "output_type": "stream",
          "name": "stdout",
          "text": [
            "6687\n",
            "6687\n"
          ]
        }
      ]
    },
    {
      "cell_type": "code",
      "source": [
        "data = data.drop(labels=0, axis=0)"
      ],
      "metadata": {
        "id": "guq6tU-bH1Z6"
      },
      "execution_count": 10,
      "outputs": []
    },
    {
      "cell_type": "code",
      "source": [
        "data.head()"
      ],
      "metadata": {
        "id": "G_UNZ36Kntli",
        "outputId": "7215fecc-dbae-45de-ac05-fad44de31551",
        "colab": {
          "base_uri": "https://localhost:8080/",
          "height": 255
        }
      },
      "execution_count": 11,
      "outputs": [
        {
          "output_type": "execute_result",
          "data": {
            "text/plain": [
              "    Identifiers Barratt,Barratt_P1_Edu Barratt,Barratt_P1_Occ  \\\n",
              "1  NDARAA075AMK                     21                     30   \n",
              "2  NDARAA112DMH                     18                     30   \n",
              "3  NDARAA117NEJ                     12                      5   \n",
              "4  NDARAA306NT2                     21                     15   \n",
              "5  NDARAA504CRN                     21                     40   \n",
              "\n",
              "  Barratt,Barratt_P2_Edu Barratt,Barratt_P2_Occ Barratt,Barratt_Total  \\\n",
              "1                     21                     45                  58.5   \n",
              "2                     12                     15                  37.5   \n",
              "3                      3                      5                  12.5   \n",
              "4                     15                     15                    33   \n",
              "5                    NaN                    NaN                    61   \n",
              "\n",
              "  Barratt,Barratt_Total_Edu Barratt,Barratt_Total_Occ  \\\n",
              "1                        21                      37.5   \n",
              "2                        15                      22.5   \n",
              "3                       7.5                         5   \n",
              "4                        18                        15   \n",
              "5                        21                        40   \n",
              "\n",
              "  Barratt,financialsupport Basic_Demos,Age  ... WISC_Remote,WISC_VCI_Sum  \\\n",
              "1                        3         6.72804  ...                        .   \n",
              "2                        3        5.545744  ...                        .   \n",
              "3                        3        7.475929  ...                        .   \n",
              "4                        3       21.216746  ...                        .   \n",
              "5                        1        9.165297  ...                        .   \n",
              "\n",
              "  WISC_Remote,WISC_VP_Raw WISC_Remote,WISC_VP_Scaled  \\\n",
              "1                       .                          .   \n",
              "2                       .                          .   \n",
              "3                       .                          .   \n",
              "4                       .                          .   \n",
              "5                       .                          .   \n",
              "\n",
              "  WISC_Remote,WISC_Vocab_Raw WISC_Remote,WISC_Vocab_Scaled  \\\n",
              "1                          .                             .   \n",
              "2                          .                             .   \n",
              "3                          .                             .   \n",
              "4                          .                             .   \n",
              "5                          .                             .   \n",
              "\n",
              "  WISC_Remote,WISC_WMI WISC_Remote,WISC_WMI_Percentile  \\\n",
              "1                    .                               .   \n",
              "2                    .                               .   \n",
              "3                    .                               .   \n",
              "4                    .                               .   \n",
              "5                    .                               .   \n",
              "\n",
              "  WISC_Remote,WISC_WMI_Sum WISC_Remote,WISC_complete  \\\n",
              "1                        .                         .   \n",
              "2                        .                         .   \n",
              "3                        .                         .   \n",
              "4                        .                         .   \n",
              "5                        .                         .   \n",
              "\n",
              "  WISC_Remote,WISC_incomplete_reason  \n",
              "1                                  .  \n",
              "2                                  .  \n",
              "3                                  .  \n",
              "4                                  .  \n",
              "5                                  .  \n",
              "\n",
              "[5 rows x 791 columns]"
            ],
            "text/html": [
              "\n",
              "  <div id=\"df-67dea717-34a1-44b6-bceb-6a11463b1001\" class=\"colab-df-container\">\n",
              "    <div>\n",
              "<style scoped>\n",
              "    .dataframe tbody tr th:only-of-type {\n",
              "        vertical-align: middle;\n",
              "    }\n",
              "\n",
              "    .dataframe tbody tr th {\n",
              "        vertical-align: top;\n",
              "    }\n",
              "\n",
              "    .dataframe thead th {\n",
              "        text-align: right;\n",
              "    }\n",
              "</style>\n",
              "<table border=\"1\" class=\"dataframe\">\n",
              "  <thead>\n",
              "    <tr style=\"text-align: right;\">\n",
              "      <th></th>\n",
              "      <th>Identifiers</th>\n",
              "      <th>Barratt,Barratt_P1_Edu</th>\n",
              "      <th>Barratt,Barratt_P1_Occ</th>\n",
              "      <th>Barratt,Barratt_P2_Edu</th>\n",
              "      <th>Barratt,Barratt_P2_Occ</th>\n",
              "      <th>Barratt,Barratt_Total</th>\n",
              "      <th>Barratt,Barratt_Total_Edu</th>\n",
              "      <th>Barratt,Barratt_Total_Occ</th>\n",
              "      <th>Barratt,financialsupport</th>\n",
              "      <th>Basic_Demos,Age</th>\n",
              "      <th>...</th>\n",
              "      <th>WISC_Remote,WISC_VCI_Sum</th>\n",
              "      <th>WISC_Remote,WISC_VP_Raw</th>\n",
              "      <th>WISC_Remote,WISC_VP_Scaled</th>\n",
              "      <th>WISC_Remote,WISC_Vocab_Raw</th>\n",
              "      <th>WISC_Remote,WISC_Vocab_Scaled</th>\n",
              "      <th>WISC_Remote,WISC_WMI</th>\n",
              "      <th>WISC_Remote,WISC_WMI_Percentile</th>\n",
              "      <th>WISC_Remote,WISC_WMI_Sum</th>\n",
              "      <th>WISC_Remote,WISC_complete</th>\n",
              "      <th>WISC_Remote,WISC_incomplete_reason</th>\n",
              "    </tr>\n",
              "  </thead>\n",
              "  <tbody>\n",
              "    <tr>\n",
              "      <th>1</th>\n",
              "      <td>NDARAA075AMK</td>\n",
              "      <td>21</td>\n",
              "      <td>30</td>\n",
              "      <td>21</td>\n",
              "      <td>45</td>\n",
              "      <td>58.5</td>\n",
              "      <td>21</td>\n",
              "      <td>37.5</td>\n",
              "      <td>3</td>\n",
              "      <td>6.72804</td>\n",
              "      <td>...</td>\n",
              "      <td>.</td>\n",
              "      <td>.</td>\n",
              "      <td>.</td>\n",
              "      <td>.</td>\n",
              "      <td>.</td>\n",
              "      <td>.</td>\n",
              "      <td>.</td>\n",
              "      <td>.</td>\n",
              "      <td>.</td>\n",
              "      <td>.</td>\n",
              "    </tr>\n",
              "    <tr>\n",
              "      <th>2</th>\n",
              "      <td>NDARAA112DMH</td>\n",
              "      <td>18</td>\n",
              "      <td>30</td>\n",
              "      <td>12</td>\n",
              "      <td>15</td>\n",
              "      <td>37.5</td>\n",
              "      <td>15</td>\n",
              "      <td>22.5</td>\n",
              "      <td>3</td>\n",
              "      <td>5.545744</td>\n",
              "      <td>...</td>\n",
              "      <td>.</td>\n",
              "      <td>.</td>\n",
              "      <td>.</td>\n",
              "      <td>.</td>\n",
              "      <td>.</td>\n",
              "      <td>.</td>\n",
              "      <td>.</td>\n",
              "      <td>.</td>\n",
              "      <td>.</td>\n",
              "      <td>.</td>\n",
              "    </tr>\n",
              "    <tr>\n",
              "      <th>3</th>\n",
              "      <td>NDARAA117NEJ</td>\n",
              "      <td>12</td>\n",
              "      <td>5</td>\n",
              "      <td>3</td>\n",
              "      <td>5</td>\n",
              "      <td>12.5</td>\n",
              "      <td>7.5</td>\n",
              "      <td>5</td>\n",
              "      <td>3</td>\n",
              "      <td>7.475929</td>\n",
              "      <td>...</td>\n",
              "      <td>.</td>\n",
              "      <td>.</td>\n",
              "      <td>.</td>\n",
              "      <td>.</td>\n",
              "      <td>.</td>\n",
              "      <td>.</td>\n",
              "      <td>.</td>\n",
              "      <td>.</td>\n",
              "      <td>.</td>\n",
              "      <td>.</td>\n",
              "    </tr>\n",
              "    <tr>\n",
              "      <th>4</th>\n",
              "      <td>NDARAA306NT2</td>\n",
              "      <td>21</td>\n",
              "      <td>15</td>\n",
              "      <td>15</td>\n",
              "      <td>15</td>\n",
              "      <td>33</td>\n",
              "      <td>18</td>\n",
              "      <td>15</td>\n",
              "      <td>3</td>\n",
              "      <td>21.216746</td>\n",
              "      <td>...</td>\n",
              "      <td>.</td>\n",
              "      <td>.</td>\n",
              "      <td>.</td>\n",
              "      <td>.</td>\n",
              "      <td>.</td>\n",
              "      <td>.</td>\n",
              "      <td>.</td>\n",
              "      <td>.</td>\n",
              "      <td>.</td>\n",
              "      <td>.</td>\n",
              "    </tr>\n",
              "    <tr>\n",
              "      <th>5</th>\n",
              "      <td>NDARAA504CRN</td>\n",
              "      <td>21</td>\n",
              "      <td>40</td>\n",
              "      <td>NaN</td>\n",
              "      <td>NaN</td>\n",
              "      <td>61</td>\n",
              "      <td>21</td>\n",
              "      <td>40</td>\n",
              "      <td>1</td>\n",
              "      <td>9.165297</td>\n",
              "      <td>...</td>\n",
              "      <td>.</td>\n",
              "      <td>.</td>\n",
              "      <td>.</td>\n",
              "      <td>.</td>\n",
              "      <td>.</td>\n",
              "      <td>.</td>\n",
              "      <td>.</td>\n",
              "      <td>.</td>\n",
              "      <td>.</td>\n",
              "      <td>.</td>\n",
              "    </tr>\n",
              "  </tbody>\n",
              "</table>\n",
              "<p>5 rows × 791 columns</p>\n",
              "</div>\n",
              "    <div class=\"colab-df-buttons\">\n",
              "\n",
              "  <div class=\"colab-df-container\">\n",
              "    <button class=\"colab-df-convert\" onclick=\"convertToInteractive('df-67dea717-34a1-44b6-bceb-6a11463b1001')\"\n",
              "            title=\"Convert this dataframe to an interactive table.\"\n",
              "            style=\"display:none;\">\n",
              "\n",
              "  <svg xmlns=\"http://www.w3.org/2000/svg\" height=\"24px\" viewBox=\"0 -960 960 960\">\n",
              "    <path d=\"M120-120v-720h720v720H120Zm60-500h600v-160H180v160Zm220 220h160v-160H400v160Zm0 220h160v-160H400v160ZM180-400h160v-160H180v160Zm440 0h160v-160H620v160ZM180-180h160v-160H180v160Zm440 0h160v-160H620v160Z\"/>\n",
              "  </svg>\n",
              "    </button>\n",
              "\n",
              "  <style>\n",
              "    .colab-df-container {\n",
              "      display:flex;\n",
              "      gap: 12px;\n",
              "    }\n",
              "\n",
              "    .colab-df-convert {\n",
              "      background-color: #E8F0FE;\n",
              "      border: none;\n",
              "      border-radius: 50%;\n",
              "      cursor: pointer;\n",
              "      display: none;\n",
              "      fill: #1967D2;\n",
              "      height: 32px;\n",
              "      padding: 0 0 0 0;\n",
              "      width: 32px;\n",
              "    }\n",
              "\n",
              "    .colab-df-convert:hover {\n",
              "      background-color: #E2EBFA;\n",
              "      box-shadow: 0px 1px 2px rgba(60, 64, 67, 0.3), 0px 1px 3px 1px rgba(60, 64, 67, 0.15);\n",
              "      fill: #174EA6;\n",
              "    }\n",
              "\n",
              "    .colab-df-buttons div {\n",
              "      margin-bottom: 4px;\n",
              "    }\n",
              "\n",
              "    [theme=dark] .colab-df-convert {\n",
              "      background-color: #3B4455;\n",
              "      fill: #D2E3FC;\n",
              "    }\n",
              "\n",
              "    [theme=dark] .colab-df-convert:hover {\n",
              "      background-color: #434B5C;\n",
              "      box-shadow: 0px 1px 3px 1px rgba(0, 0, 0, 0.15);\n",
              "      filter: drop-shadow(0px 1px 2px rgba(0, 0, 0, 0.3));\n",
              "      fill: #FFFFFF;\n",
              "    }\n",
              "  </style>\n",
              "\n",
              "    <script>\n",
              "      const buttonEl =\n",
              "        document.querySelector('#df-67dea717-34a1-44b6-bceb-6a11463b1001 button.colab-df-convert');\n",
              "      buttonEl.style.display =\n",
              "        google.colab.kernel.accessAllowed ? 'block' : 'none';\n",
              "\n",
              "      async function convertToInteractive(key) {\n",
              "        const element = document.querySelector('#df-67dea717-34a1-44b6-bceb-6a11463b1001');\n",
              "        const dataTable =\n",
              "          await google.colab.kernel.invokeFunction('convertToInteractive',\n",
              "                                                    [key], {});\n",
              "        if (!dataTable) return;\n",
              "\n",
              "        const docLinkHtml = 'Like what you see? Visit the ' +\n",
              "          '<a target=\"_blank\" href=https://colab.research.google.com/notebooks/data_table.ipynb>data table notebook</a>'\n",
              "          + ' to learn more about interactive tables.';\n",
              "        element.innerHTML = '';\n",
              "        dataTable['output_type'] = 'display_data';\n",
              "        await google.colab.output.renderOutput(dataTable, element);\n",
              "        const docLink = document.createElement('div');\n",
              "        docLink.innerHTML = docLinkHtml;\n",
              "        element.appendChild(docLink);\n",
              "      }\n",
              "    </script>\n",
              "  </div>\n",
              "\n",
              "\n",
              "<div id=\"df-abb09ce9-3009-4d4b-a592-62a648a11a39\">\n",
              "  <button class=\"colab-df-quickchart\" onclick=\"quickchart('df-abb09ce9-3009-4d4b-a592-62a648a11a39')\"\n",
              "            title=\"Suggest charts\"\n",
              "            style=\"display:none;\">\n",
              "\n",
              "<svg xmlns=\"http://www.w3.org/2000/svg\" height=\"24px\"viewBox=\"0 0 24 24\"\n",
              "     width=\"24px\">\n",
              "    <g>\n",
              "        <path d=\"M19 3H5c-1.1 0-2 .9-2 2v14c0 1.1.9 2 2 2h14c1.1 0 2-.9 2-2V5c0-1.1-.9-2-2-2zM9 17H7v-7h2v7zm4 0h-2V7h2v10zm4 0h-2v-4h2v4z\"/>\n",
              "    </g>\n",
              "</svg>\n",
              "  </button>\n",
              "\n",
              "<style>\n",
              "  .colab-df-quickchart {\n",
              "      --bg-color: #E8F0FE;\n",
              "      --fill-color: #1967D2;\n",
              "      --hover-bg-color: #E2EBFA;\n",
              "      --hover-fill-color: #174EA6;\n",
              "      --disabled-fill-color: #AAA;\n",
              "      --disabled-bg-color: #DDD;\n",
              "  }\n",
              "\n",
              "  [theme=dark] .colab-df-quickchart {\n",
              "      --bg-color: #3B4455;\n",
              "      --fill-color: #D2E3FC;\n",
              "      --hover-bg-color: #434B5C;\n",
              "      --hover-fill-color: #FFFFFF;\n",
              "      --disabled-bg-color: #3B4455;\n",
              "      --disabled-fill-color: #666;\n",
              "  }\n",
              "\n",
              "  .colab-df-quickchart {\n",
              "    background-color: var(--bg-color);\n",
              "    border: none;\n",
              "    border-radius: 50%;\n",
              "    cursor: pointer;\n",
              "    display: none;\n",
              "    fill: var(--fill-color);\n",
              "    height: 32px;\n",
              "    padding: 0;\n",
              "    width: 32px;\n",
              "  }\n",
              "\n",
              "  .colab-df-quickchart:hover {\n",
              "    background-color: var(--hover-bg-color);\n",
              "    box-shadow: 0 1px 2px rgba(60, 64, 67, 0.3), 0 1px 3px 1px rgba(60, 64, 67, 0.15);\n",
              "    fill: var(--button-hover-fill-color);\n",
              "  }\n",
              "\n",
              "  .colab-df-quickchart-complete:disabled,\n",
              "  .colab-df-quickchart-complete:disabled:hover {\n",
              "    background-color: var(--disabled-bg-color);\n",
              "    fill: var(--disabled-fill-color);\n",
              "    box-shadow: none;\n",
              "  }\n",
              "\n",
              "  .colab-df-spinner {\n",
              "    border: 2px solid var(--fill-color);\n",
              "    border-color: transparent;\n",
              "    border-bottom-color: var(--fill-color);\n",
              "    animation:\n",
              "      spin 1s steps(1) infinite;\n",
              "  }\n",
              "\n",
              "  @keyframes spin {\n",
              "    0% {\n",
              "      border-color: transparent;\n",
              "      border-bottom-color: var(--fill-color);\n",
              "      border-left-color: var(--fill-color);\n",
              "    }\n",
              "    20% {\n",
              "      border-color: transparent;\n",
              "      border-left-color: var(--fill-color);\n",
              "      border-top-color: var(--fill-color);\n",
              "    }\n",
              "    30% {\n",
              "      border-color: transparent;\n",
              "      border-left-color: var(--fill-color);\n",
              "      border-top-color: var(--fill-color);\n",
              "      border-right-color: var(--fill-color);\n",
              "    }\n",
              "    40% {\n",
              "      border-color: transparent;\n",
              "      border-right-color: var(--fill-color);\n",
              "      border-top-color: var(--fill-color);\n",
              "    }\n",
              "    60% {\n",
              "      border-color: transparent;\n",
              "      border-right-color: var(--fill-color);\n",
              "    }\n",
              "    80% {\n",
              "      border-color: transparent;\n",
              "      border-right-color: var(--fill-color);\n",
              "      border-bottom-color: var(--fill-color);\n",
              "    }\n",
              "    90% {\n",
              "      border-color: transparent;\n",
              "      border-bottom-color: var(--fill-color);\n",
              "    }\n",
              "  }\n",
              "</style>\n",
              "\n",
              "  <script>\n",
              "    async function quickchart(key) {\n",
              "      const quickchartButtonEl =\n",
              "        document.querySelector('#' + key + ' button');\n",
              "      quickchartButtonEl.disabled = true;  // To prevent multiple clicks.\n",
              "      quickchartButtonEl.classList.add('colab-df-spinner');\n",
              "      try {\n",
              "        const charts = await google.colab.kernel.invokeFunction(\n",
              "            'suggestCharts', [key], {});\n",
              "      } catch (error) {\n",
              "        console.error('Error during call to suggestCharts:', error);\n",
              "      }\n",
              "      quickchartButtonEl.classList.remove('colab-df-spinner');\n",
              "      quickchartButtonEl.classList.add('colab-df-quickchart-complete');\n",
              "    }\n",
              "    (() => {\n",
              "      let quickchartButtonEl =\n",
              "        document.querySelector('#df-abb09ce9-3009-4d4b-a592-62a648a11a39 button');\n",
              "      quickchartButtonEl.style.display =\n",
              "        google.colab.kernel.accessAllowed ? 'block' : 'none';\n",
              "    })();\n",
              "  </script>\n",
              "</div>\n",
              "\n",
              "    </div>\n",
              "  </div>\n"
            ],
            "application/vnd.google.colaboratory.intrinsic+json": {
              "type": "dataframe",
              "variable_name": "data"
            }
          },
          "metadata": {},
          "execution_count": 11
        }
      ]
    },
    {
      "cell_type": "markdown",
      "source": [
        "The Identifiers at the end of the table contain additional visits of some of the subjects. We need to incorporate this information to the original data entries. The snap of the code below is an example of this occuring in the data."
      ],
      "metadata": {
        "id": "1E4y14VywHO5"
      }
    },
    {
      "cell_type": "code",
      "source": [
        "data['Identifiers'].values[6000:6200]"
      ],
      "metadata": {
        "id": "fSWigPsdv6XD",
        "outputId": "7ab66713-1ecb-4ea6-ef5f-09d7551f3be6",
        "colab": {
          "base_uri": "https://localhost:8080/"
        }
      },
      "execution_count": 12,
      "outputs": [
        {
          "output_type": "execute_result",
          "data": {
            "text/plain": [
              "array(['NDARPX155RF3_Visit_2', 'NDARPX155RF3_Visit_3',\n",
              "       'NDARPX219TW0_Visit_1', 'NDARPX219TW0_Visit_2',\n",
              "       'NDARPX219TW0_Visit_3', 'NDARPZ621ZLE_Visit_3',\n",
              "       'NDARRA717GYV_Visit_1', 'NDARRA717GYV_Visit_2',\n",
              "       'NDARRA733VWX_Visit_1', 'NDARRA733VWX_Visit_2',\n",
              "       'NDARRA733VWX_Visit_3', 'NDARRA733VWX_Visit_4',\n",
              "       'NDARRB942UWU_Visit_1', 'NDARRB942UWU_Visit_2',\n",
              "       'NDARRB942UWU_Visit_3', 'NDARRC190NKB_Visit_1',\n",
              "       'NDARRC190NKB_Visit_2', 'NDARRC190NKB_Visit_3',\n",
              "       'NDARRC819NLC_Visit_1', 'NDARRC819NLC_Visit_2',\n",
              "       'NDARRC819NLC_Visit_3', 'NDARRD326KB9_Visit_1',\n",
              "       'NDARRD326KB9_Visit_2', 'NDARRD326KB9_Visit_3',\n",
              "       'NDARRD720XZK_Visit_1', 'NDARRD720XZK_Visit_2',\n",
              "       'NDARRD720XZK_Visit_3', 'NDARRF897HB5_Visit_1',\n",
              "       'NDARRF897HB5_Visit_2', 'NDARRF897HB5_Visit_3',\n",
              "       'NDARRG199RU4_Visit_2', 'NDARRG199RU4_Visit_3',\n",
              "       'NDARRG415BJM_Visit_1', 'NDARRG415BJM_Visit_2',\n",
              "       'NDARRG415BJM_Visit_3', 'NDARRH407MEY_Visit_1',\n",
              "       'NDARRH407MEY_Visit_2', 'NDARRH407MEY_Visit_3',\n",
              "       'NDARRH725XYA_Visit_2', 'NDARRH725XYA_Visit_3',\n",
              "       'NDARRH725XYA_Visit_4', 'NDARRH732EVM_Visit_1',\n",
              "       'NDARRH732EVM_Visit_2', 'NDARRJ137CH3_Visit_1',\n",
              "       'NDARRJ137CH3_Visit_2', 'NDARRJ728NMD_Visit_1',\n",
              "       'NDARRJ728NMD_Visit_2', 'NDARRJ728NMD_Visit_3',\n",
              "       'NDARRJ989YPA_Visit_1', 'NDARRJ989YPA_Visit_2',\n",
              "       'NDARRK213WCF_Visit_1', 'NDARRL218DJ5_Visit_1',\n",
              "       'NDARRL218DJ5_Visit_2', 'NDARRL218DJ5_Visit_3',\n",
              "       'NDARRL660CME_No_Visi', 'NDARRL660CME_Visit_2',\n",
              "       'NDARRL660CME_Visit_3', 'NDARRL685WB7_Visit_1',\n",
              "       'NDARRL685WB7_Visit_2', 'NDARRM467NP2_SL_Eval',\n",
              "       'NDARRM467NP2_Visit_1', 'NDARRM467NP2_Visit_2',\n",
              "       'NDARRN444MJG_Visit_1', 'NDARRN444MJG_Visit_2',\n",
              "       'NDARRN444MJG_Visit_3', 'NDARRP163YRC_Visit_1',\n",
              "       'NDARRP163YRC_Visit_2', 'NDARRP163YRC_Visit_3',\n",
              "       'NDARRP818DWL_Visit_1', 'NDARRP818DWL_Visit_2',\n",
              "       'NDARRR450VUU_Visit_1', 'NDARRR450VUU_Visit_2',\n",
              "       'NDARRR450VUU_Visit_3', 'NDARRT038VG1_SL_Eval',\n",
              "       'NDARRT038VG1_Visit_2', 'NDARRT038VG1_Visit_3',\n",
              "       'NDARRU501YED_Visit_1', 'NDARRU501YED_Visit_2',\n",
              "       'NDARRU501YED_Visit_3', 'NDARRU720LG4_Visit_1',\n",
              "       'NDARRU720LG4_Visit_2', 'NDARRV480PU1_Visit_1',\n",
              "       'NDARRV480PU1_Visit_2', 'NDARRV638MJV_Visit_1',\n",
              "       'NDARRV638MJV_Visit_2', 'NDARRW100AU0_Visit_2',\n",
              "       'NDARRW100AU0_Visit_3', 'NDARRW940BL6_Visit_1',\n",
              "       'NDARRW940BL6_Visit_2', 'NDARRX999BX0_Visit_3',\n",
              "       'NDARRX999BX0_Visit_5', 'NDARRY006EMB_MRI', 'NDARRY112RAK_Visit_1',\n",
              "       'NDARRY112RAK_Visit_2', 'NDARRY112RAK_Visit_3',\n",
              "       'NDARRY280KNW_Visit_1', 'NDARRY280KNW_Visit_2',\n",
              "       'NDARRY280KNW_Visit_3', 'NDARRY715CY4_Visit_1',\n",
              "       'NDARRY867DY4_Visit_1', 'NDARRZ653HKY_Visit_1',\n",
              "       'NDARRZ653HKY_Visit_2', 'NDARRZ979FZ4_SL_Eval',\n",
              "       'NDARTA808DEQ_Visit_1', 'NDARTA808DEQ_Visit_3', 'NDARTB219AJV_SLP',\n",
              "       'NDARTB219AJV_Visit_1', 'NDARTB219AJV_Visit_2',\n",
              "       'NDARTB219AJV_Visit_3', 'NDARTB329GFY_SL_Eval',\n",
              "       'NDARTB329GFY_Visit_1', 'NDARTB329GFY_Visit_2',\n",
              "       'NDARTB329GFY_Visit_3', 'NDARTB552HP0_Visit_2',\n",
              "       'NDARTB552HP0_Visit_3', 'NDARTD468TUH_Visit_1',\n",
              "       'NDARTD468TUH_Visit_2', 'NDARTD468TUH_Visit_3',\n",
              "       'NDARTE785ZMJ_Visit_1', 'NDARTE785ZMJ_Visit_2',\n",
              "       'NDARTF133LLM_Visit_1', 'NDARTF133LLM_Visit_2',\n",
              "       'NDARTF133LLM_Visit_3', 'NDARTF833WXB_Visit_1',\n",
              "       'NDARTF833WXB_Visit_2', 'NDARTG035JK8_Visit_1',\n",
              "       'NDARTG464MWG_SL_Eval', 'NDARTG464MWG_Visit_1',\n",
              "       'NDARTG464MWG_Visit_2', 'NDARTG464MWG_Visit_3',\n",
              "       'NDARTG623PUH_Visit_1', 'NDARTG623PUH_Visit_2',\n",
              "       'NDARTG762KJC_Visit_1', 'NDARTG762KJC_Visit_2',\n",
              "       'NDARTG762KJC_Visit_4', 'NDARTH610GMK_Visit_1',\n",
              "       'NDARTH610GMK_Visit_2', 'NDARTH610GMK_Visit_3',\n",
              "       'NDARTJ032FJ2_Visit_1', 'NDARTJ032FJ2_Visit_2',\n",
              "       'NDARTJ418GP0_Visit_1', 'NDARTJ418GP0_Visit_2',\n",
              "       'NDARTJ418GP0_Visit_3', 'NDARTJ702KNP_Visit_1',\n",
              "       'NDARTJ702KNP_Visit_2', 'NDARTK435YWU_Visit_3',\n",
              "       'NDARTK882BHQ_Visit_1', 'NDARTK933KL9_Visit_1',\n",
              "       'NDARTK933KL9_Visit_2', 'NDARTK933KL9_Visit_3',\n",
              "       'NDARTL336THT_SL_Eval', 'NDARTL336THT_Visit_1',\n",
              "       'NDARTL336THT_Visit_2', 'NDARTN158LRF_Visit_1',\n",
              "       'NDARTN487KDK_Visit_1', 'NDARTP190KAN_Visit_1',\n",
              "       'NDARTP190KAN_Visit_2', 'NDARTP190KAN_Visit_3',\n",
              "       'NDARTP313AGH_Visit_2', 'NDARTP313AGH_Visit_3',\n",
              "       'NDARTR365NCY_Visit_1', 'NDARTR365NCY_Visit_2',\n",
              "       'NDARTR651DEH_Visit_1', 'NDARTR840XP1_Visit_1',\n",
              "       'NDARTR840XP1_Visit_2', 'NDARTR840XP1_Visit_3',\n",
              "       'NDARTT194LTU_Visit_1', 'NDARTT242GNN_Visit_1',\n",
              "       'NDARTT242GNN_Visit_2', 'NDARTT242GNN_Visit_3',\n",
              "       'NDARTT759PC5_Visit_1', 'NDARTT759PC5_Visit_2',\n",
              "       'NDARTU777GVV_Visit_1', 'NDARTU777GVV_Visit_2',\n",
              "       'NDARTU777GVV_Visit_3', 'NDARTW855BPJ_MRI', 'NDARTW855BPJ_No_Visi',\n",
              "       'NDARTW855BPJ_Visit_1', 'NDARTW855BPJ_Visit_2',\n",
              "       'NDARTX659HAF_Visit_1', 'NDARTX659HAF_Visit_3',\n",
              "       'NDARTX795AKR_Visit_1', 'NDARTX934NH6_Visit_1',\n",
              "       'NDARTX934NH6_Visit_2', 'NDARTX934NH6_Visit_3',\n",
              "       'NDARTZ634BAN_Visit_1', 'NDARTZ634BAN_Visit_2', 'NDARTZ926NMZ_SLP',\n",
              "       'NDARTZ926NMZ_Visit_1', 'NDARTZ926NMZ_Visit_2',\n",
              "       'NDARTZ926NMZ_Visit_3', 'NDARUA481FK4_Visit_1',\n",
              "       'NDARUA481FK4_Visit_2', 'NDARUD776KFT_COG', 'NDARUE533XNH_Visit_1',\n",
              "       'NDARUE533XNH_Visit_2', 'NDARUE533XNH_Visit_3',\n",
              "       'NDARUF069EHR_Visit_3', 'NDARUF069EHR_Visit_5',\n",
              "       'NDARUF389TXE_SL_Eval'], dtype=object)"
            ]
          },
          "metadata": {},
          "execution_count": 12
        }
      ]
    },
    {
      "cell_type": "code",
      "source": [
        "versions = []\n",
        "for i in data.Identifiers.values.tolist():\n",
        "  if '_' in i:\n",
        "    versions.append(i)\n",
        "print(len(versions))"
      ],
      "metadata": {
        "id": "jiE0_9kVIeRS",
        "outputId": "d8879d7e-877b-4ca8-bb0a-9a35645a3da3",
        "colab": {
          "base_uri": "https://localhost:8080/"
        }
      },
      "execution_count": 13,
      "outputs": [
        {
          "output_type": "stream",
          "name": "stdout",
          "text": [
            "1819\n"
          ]
        }
      ]
    },
    {
      "cell_type": "code",
      "source": [
        "columns = data.columns\n",
        "i = 0\n",
        "for id in versions:\n",
        "  values = data[data['Identifiers'] == id].values.tolist()\n",
        "  while len(values) == 1:\n",
        "    values = values[0]\n",
        "  for value in values[1:]:\n",
        "    if value != '.':\n",
        "      if type(value) == str:\n",
        "        column_number = values.index(value)\n",
        "        row_number = data[data['Identifiers'] == id[:12]].index[0]\n",
        "        data.at[row_number, columns[column_number]] = value\n",
        "      elif type(value) != str and math.isnan(value) is not True:\n",
        "        column_number = values.index(value)\n",
        "        row_number = data[data['Identifiers'] == id[:12]].index[0]\n",
        "        data.at[row_number, columns[column_number]] = value\n",
        "      else:\n",
        "        if math.isnan(value) is not True:\n",
        "          print(value, type(value))\n",
        "  i += 1\n",
        "print(i)"
      ],
      "metadata": {
        "id": "i4bFXlFQH1cX",
        "outputId": "7e1192f6-e6ce-49df-d904-9025c5f6c78c",
        "colab": {
          "base_uri": "https://localhost:8080/"
        }
      },
      "execution_count": 14,
      "outputs": [
        {
          "output_type": "stream",
          "name": "stdout",
          "text": [
            "1819\n"
          ]
        }
      ]
    },
    {
      "cell_type": "code",
      "source": [
        "for id in versions:\n",
        "  data = data[data['Identifiers'] != id]\n",
        "data.shape"
      ],
      "metadata": {
        "id": "dCCDlIDLH_HE",
        "outputId": "e7d0f1ef-4dc2-4761-ac1c-8d7b3231e31b",
        "colab": {
          "base_uri": "https://localhost:8080/"
        }
      },
      "execution_count": 15,
      "outputs": [
        {
          "output_type": "execute_result",
          "data": {
            "text/plain": [
              "(4867, 791)"
            ]
          },
          "metadata": {},
          "execution_count": 15
        }
      ]
    },
    {
      "cell_type": "code",
      "source": [
        "# checking for duplicates\n",
        "num_col_duplicates = data['Identifiers'].duplicated().sum()\n",
        "print(f'Number of duplicates in column \"Identifiers\": {num_col_duplicates}')"
      ],
      "metadata": {
        "id": "zCd3qYXkzuQB",
        "outputId": "b6f21ad1-ce7c-4213-c86c-061ecc7182e7",
        "colab": {
          "base_uri": "https://localhost:8080/"
        }
      },
      "execution_count": 16,
      "outputs": [
        {
          "output_type": "stream",
          "name": "stdout",
          "text": [
            "Number of duplicates in column \"Identifiers\": 0\n"
          ]
        }
      ]
    },
    {
      "cell_type": "code",
      "source": [
        "# we also have a column Basic Demos, EID that contain identifiers. Let's cross reference to check whether there are any discrepancies\n",
        "ids1 = data['Identifiers'].values\n",
        "ids2 = data['Basic_Demos,EID'].values\n",
        "print(len(ids1))\n",
        "print(len(ids2))\n",
        "for i in range(0, len(ids1)):\n",
        "  if ids1[i] != ids2[i]:\n",
        "    print(ids1, ids2)\n",
        "    break"
      ],
      "metadata": {
        "id": "hTtspmKKHKwA",
        "outputId": "6f448e81-018c-4de9-c13c-d5a441790ef8",
        "colab": {
          "base_uri": "https://localhost:8080/"
        }
      },
      "execution_count": 17,
      "outputs": [
        {
          "output_type": "stream",
          "name": "stdout",
          "text": [
            "4867\n",
            "4867\n"
          ]
        }
      ]
    },
    {
      "cell_type": "code",
      "source": [
        "# I noticed that some of the identifiers name might have an empty space in the name, let's check\n",
        "ids = data['Identifiers'].values\n",
        "with_space = []\n",
        "for i in ids:\n",
        "  if ' ' in i:\n",
        "    print(i)\n",
        "    with_space.append(i)\n",
        "for each in with_space:\n",
        "  ind = data[data['Identifiers'] == each].index[0]\n",
        "  data.loc[ind, 'Identifiers'] = each[:-1]\n"
      ],
      "metadata": {
        "colab": {
          "base_uri": "https://localhost:8080/"
        },
        "id": "czmg_PTAg3Rk",
        "outputId": "ae6312f3-91e8-404a-a17a-14d39e9ff437"
      },
      "execution_count": 18,
      "outputs": [
        {
          "output_type": "stream",
          "name": "stdout",
          "text": [
            "NDARAL828WXM \n",
            "NDARCP952HZA \n"
          ]
        }
      ]
    },
    {
      "cell_type": "code",
      "source": [
        "data.columns"
      ],
      "metadata": {
        "id": "voTcJ9yprtqv",
        "outputId": "6667725b-b253-4d96-df89-e9a70045118a",
        "colab": {
          "base_uri": "https://localhost:8080/"
        }
      },
      "execution_count": 19,
      "outputs": [
        {
          "output_type": "execute_result",
          "data": {
            "text/plain": [
              "Index(['Identifiers', 'Barratt,Barratt_P1_Edu', 'Barratt,Barratt_P1_Occ',\n",
              "       'Barratt,Barratt_P2_Edu', 'Barratt,Barratt_P2_Occ',\n",
              "       'Barratt,Barratt_Total', 'Barratt,Barratt_Total_Edu',\n",
              "       'Barratt,Barratt_Total_Occ', 'Barratt,financialsupport',\n",
              "       'Basic_Demos,Age',\n",
              "       ...\n",
              "       'WISC_Remote,WISC_VCI_Sum', 'WISC_Remote,WISC_VP_Raw',\n",
              "       'WISC_Remote,WISC_VP_Scaled', 'WISC_Remote,WISC_Vocab_Raw',\n",
              "       'WISC_Remote,WISC_Vocab_Scaled', 'WISC_Remote,WISC_WMI',\n",
              "       'WISC_Remote,WISC_WMI_Percentile', 'WISC_Remote,WISC_WMI_Sum',\n",
              "       'WISC_Remote,WISC_complete', 'WISC_Remote,WISC_incomplete_reason'],\n",
              "      dtype='object', length=791)"
            ]
          },
          "metadata": {},
          "execution_count": 19
        }
      ]
    },
    {
      "cell_type": "markdown",
      "source": [
        "Let's now work on individual columns to make them more convinient for screening"
      ],
      "metadata": {
        "id": "6Sq56HJ0GBBF"
      }
    },
    {
      "cell_type": "code",
      "source": [
        "# we have a column \"Participant Status\" that contains information on whether\n",
        "# a person dropped out or been lost to follow up\n",
        "status = data['Basic_Demos,Participant_Status'].unique()\n",
        "for each in status:\n",
        "  number = data[data['Basic_Demos,Participant_Status'] == each].shape[0]\n",
        "  print('Number of ' + each + ': ' + str(number))"
      ],
      "metadata": {
        "id": "aGyJtuXjIaSQ",
        "outputId": "106e689c-773d-4010-e640-73ceff3a1d52",
        "colab": {
          "base_uri": "https://localhost:8080/"
        }
      },
      "execution_count": 20,
      "outputs": [
        {
          "output_type": "stream",
          "name": "stdout",
          "text": [
            "Number of Complete: 4241\n",
            "Number of Lost to follow-up: 269\n",
            "Number of Dropout: 357\n"
          ]
        }
      ]
    },
    {
      "cell_type": "code",
      "source": [
        "#working on Basic_Demos columns\n",
        "data['Basic_Demos,Age'] = data['Basic_Demos,Age'].astype(float)\n",
        "data['Basic_Demos,Sex'] = data['Basic_Demos,Sex'].astype(int)\n",
        "data.drop(['Basic_Demos,Site'], axis=1, inplace = True) # contain only nan values\n",
        "data['Basic_Demos,Study_Site'] = data['Basic_Demos,Study_Site'].astype(int)"
      ],
      "metadata": {
        "id": "cHr_mN-E4tNS"
      },
      "execution_count": 21,
      "outputs": []
    },
    {
      "cell_type": "code",
      "source": [
        "# Barrat score\n",
        "number = data[data['Barratt,Barratt_Total'] == '.'].shape[0]\n",
        "print('Missing values for Barrat scores: ' + str(number) + ' out of ' + str(data.shape[0]))"
      ],
      "metadata": {
        "id": "apLu3SfCMMtQ",
        "outputId": "041c619a-4004-44a4-cec6-8e86c23b4882",
        "colab": {
          "base_uri": "https://localhost:8080/"
        }
      },
      "execution_count": 22,
      "outputs": [
        {
          "output_type": "stream",
          "name": "stdout",
          "text": [
            "Missing values for Barrat scores: 434 out of 4867\n"
          ]
        }
      ]
    },
    {
      "cell_type": "code",
      "source": [
        "# CELF tests\n",
        "# if we end up using it, it might make sense to check the validity first in CELF_Valid\n",
        "data['CELF,CELF_Total'] = data['CELF,CELF_Total'].fillna('.')\n",
        "number = data[data['CELF,CELF_Total'] == '.'].shape[0]\n",
        "print('Missing values for CELF scores: ' + str(number) + ' out of ' + str(data.shape[0]))"
      ],
      "metadata": {
        "id": "o73rj6_5MypJ",
        "outputId": "540e379e-183a-4e66-995c-eef3c0e2fbfd",
        "colab": {
          "base_uri": "https://localhost:8080/"
        }
      },
      "execution_count": 23,
      "outputs": [
        {
          "output_type": "stream",
          "name": "stdout",
          "text": [
            "Missing values for CELF scores: 662 out of 4867\n"
          ]
        }
      ]
    },
    {
      "cell_type": "code",
      "source": [
        "# CTOPP-2\n",
        "# don't trust the 'complete' field, the ones with number 2 are both who completed some sets and who did nothing\n",
        "data['CTOPP,CTOPP_Complete'] = data['CTOPP,CTOPP_Complete'].fillna('.')\n",
        "number = data[data['CTOPP,CTOPP_Complete'] != '1'].shape[0]\n",
        "print('Missing values for CTOPP-2 scores: ' + str(number) + ' out of ' + str(data.shape[0]))\n",
        "\n",
        "names = ['CTOPP,CTOPP_BW_D', 'CTOPP,CTOPP_BW_P',\n",
        "       'CTOPP,CTOPP_BW_R', 'CTOPP,CTOPP_BW_S',\n",
        "       'CTOPP,CTOPP_EL_D', 'CTOPP,CTOPP_EL_P', 'CTOPP,CTOPP_EL_R',\n",
        "       'CTOPP,CTOPP_EL_S', 'CTOPP,CTOPP_NR_D', 'CTOPP,CTOPP_NR_P',\n",
        "       'CTOPP,CTOPP_NR_R', 'CTOPP,CTOPP_NR_S', 'CTOPP,CTOPP_RD_D',\n",
        "       'CTOPP,CTOPP_RD_P', 'CTOPP,CTOPP_RD_R', 'CTOPP,CTOPP_RD_S',\n",
        "       'CTOPP,CTOPP_RL_D', 'CTOPP,CTOPP_RL_P', 'CTOPP,CTOPP_RL_R',\n",
        "       'CTOPP,CTOPP_RL_S', 'CTOPP,CTOPP_RO_D', 'CTOPP,CTOPP_RO_P',\n",
        "       'CTOPP,CTOPP_RO_R', 'CTOPP,CTOPP_RO_S', 'CTOPP,CTOPP_RSN_Comp',\n",
        "       'CTOPP,CTOPP_RSN_D', 'CTOPP,CTOPP_RSN_P', 'CTOPP,CTOPP_RSN_Sum']\n",
        "\n",
        "for name in names:\n",
        "  data[name] = data[name].fillna('.') # filling nan values if any\n",
        "\n",
        "ctopp = []\n",
        "ids = data.Identifiers.values.tolist()\n",
        "for id in ids:\n",
        "  subset = data[data['Identifiers'] == id]\n",
        "  tests = []\n",
        "  for name in names:\n",
        "    if subset[name].values[0] != '.':\n",
        "      tests.append(name)\n",
        "  if len(tests) == 28:\n",
        "    ctopp.append('full')\n",
        "  elif len(tests) == 0:\n",
        "    ctopp.append('missing')\n",
        "  else:\n",
        "    new_tests = ''\n",
        "    for each in tests:\n",
        "      new_tests = new_tests + each[12:] + ', '\n",
        "    ctopp.append(new_tests)\n",
        "data['CTOPP'] = ctopp"
      ],
      "metadata": {
        "id": "w3_oj5bWOFpX",
        "outputId": "d15ea8be-df86-40e0-cac4-c3e98ac31bd9",
        "colab": {
          "base_uri": "https://localhost:8080/"
        }
      },
      "execution_count": 24,
      "outputs": [
        {
          "output_type": "stream",
          "name": "stdout",
          "text": [
            "Missing values for CTOPP-2 scores: 805 out of 4867\n"
          ]
        }
      ]
    },
    {
      "cell_type": "code",
      "source": [
        "# DailyMeds\n",
        "# we have people who have taken medication, drugs, or alcohol\n",
        "\n",
        "print('Drugs: ', data['DailyMeds,drugs'].unique()) # value '.' and 2 contains only nan values and '.'\n",
        "#data[data['DailyMeds,drugs'] == '1'][['DailyMeds,drugs_01', 'DailyMeds,drugs_02']] # to check the drugs\n",
        "\n",
        "print('Alcohol: ', data['DailyMeds,alcohol'].unique()) # value '.' and 2 contains only nan values and '.'\n",
        "#data[data['DailyMeds,alcohol'] == '1'][['DailyMeds,alc_01', 'DailyMeds,alc_02']] # to check alcohol (only one person)\n",
        "\n",
        "print('Meds: ', data['DailyMeds,medications'].unique()) # DO NOT TRUST THE SCORES, only look at the names and doses\n",
        "\n",
        "data['DailyMeds,med_name_01'] = data['DailyMeds,med_name_01'].fillna('.') # have ' ', nan, and '.' values\n",
        "data['DailyMeds,med_name_02'] = data['DailyMeds,med_name_02'].fillna('.') # have '.' and nan values\n",
        "data['DailyMeds,med_name_03'] = data['DailyMeds,med_name_03'].fillna('.') # have '.' and nan values\n",
        "\n",
        "meds1 = data['DailyMeds,med_name_01'].values.tolist() # have ' ' and '.' values\n",
        "meds2 = data['DailyMeds,med_name_02'].values.tolist() # have '.' values\n",
        "meds3 = data['DailyMeds,med_name_03'].values.tolist() # have '.' values\n",
        "medications = []\n",
        "for i in range(0, data.shape[0]):\n",
        "  status = 0\n",
        "  if meds1[i] != '.':\n",
        "    if meds1[i] != ' ':\n",
        "      status += 1\n",
        "    elif meds1[i] == ' ':\n",
        "      status = 0\n",
        "  elif meds1[i] == '.':\n",
        "    if meds2[i] != '.':\n",
        "      status += 1\n",
        "    elif meds2[i] == '.':\n",
        "      if meds3[i] != '.':\n",
        "        status += 1\n",
        "  if status != 0:\n",
        "    medications.append(1)\n",
        "  else:\n",
        "    medications.append(0)\n",
        "\n",
        "data['DailyMeds,medications'] = medications # created a new coding depending on whether there are any entries in drug names"
      ],
      "metadata": {
        "id": "afrTD-ALXm0h",
        "outputId": "547f10f1-eeb2-474f-d4ae-cc9e7cfa97b0",
        "colab": {
          "base_uri": "https://localhost:8080/"
        }
      },
      "execution_count": 25,
      "outputs": [
        {
          "output_type": "stream",
          "name": "stdout",
          "text": [
            "Drugs:  ['2' '.' '0' '1']\n",
            "Alcohol:  ['2' '.' '0' '1']\n",
            "Meds:  ['1' '.' '0']\n"
          ]
        }
      ]
    },
    {
      "cell_type": "code",
      "source": [
        "# Diagnosis_ClinicianConsensus\n",
        "# getting rid of nan values everywhere\n",
        "names = ['ByHx', 'Cat', 'Code', 'Confirmed', 'New', 'PRem', 'Past_Doc', 'Presum', 'RC', 'Rem', 'RuleOut', 'Spec', 'Sub', 'Time']\n",
        "data['Diagnosis_ClinicianConsensus,NoDX'] = data['Diagnosis_ClinicianConsensus,NoDX'].fillna('.')\n",
        "for number in range(1, 11):\n",
        "  if number != 10:\n",
        "    column = 'Diagnosis_ClinicianConsensus,DX_0' + str(number)\n",
        "  else:\n",
        "    column = 'Diagnosis_ClinicianConsensus,DX_10'\n",
        "  data[column] = data[column].fillna('.') # here we deal with only main column names\n",
        "  for name in names:\n",
        "    column_add = column + '_' + name\n",
        "    data[column_add] = data[column_add].fillna('.')"
      ],
      "metadata": {
        "id": "9sdk9Fi1J0be"
      },
      "execution_count": 26,
      "outputs": []
    },
    {
      "cell_type": "markdown",
      "source": [
        "We need to identify who is control and who is dyslexic and who has nothing to do with these categories. Control participants have the status of 'No Diagnosis Given' in the DX_01 and in the NoDX (the indicator 1). We need to push together the diagnoses from all of the 10 columns, consider the degree of certainty for these diagnosis and whether it is a confirmed status or not, and then create the column with values stating what group a particular participant is attributed to. As a result, I would like to have a status column saying that it is a drop out, control, just dyslexic, dyslexic with comorbidities or orther disorder. And then I would like to have a separate column that would include all the list of diagnoses for people who are not drop outs and controls."
      ],
      "metadata": {
        "id": "OgcugYzyaf5G"
      }
    },
    {
      "cell_type": "markdown",
      "source": [
        "We have the following variabilities in the diagnosis of SLI: ['Specific Learning Disorder with Impairment in Reading',\n",
        " 'Specific Learning Disorder with Impairment in Mathematics',\n",
        " 'Specific Learning Disorder with Impairment in Written Expression',\n",
        " 'Specific Learning Disorder with Impairment in Reading ',\n",
        " 'Specific Learning Disorder with Impairment in Mathematics ']. In the code we will account for this, as we would like to have the specific type of DD known."
      ],
      "metadata": {
        "id": "60Prdf1BaIHC"
      }
    },
    {
      "cell_type": "code",
      "source": [
        "from types import EllipsisType\n",
        " # Diagnosis_ClinicianConsensus\n",
        "def diagnosis(df):\n",
        "  df['Diagnosis_ClinicianConsensus,NoDX'] = df['Diagnosis_ClinicianConsensus,NoDX'].fillna('.')\n",
        "\n",
        "  status = [] # will contain information on whether it is control, dropout, DD with/without comorbidities, other\n",
        "  all_diagnoses = [] # will contain all the diagnoses\n",
        "  type_DD = [] # will contain the type of DD\n",
        "  certainty_records = [] # will contain the info on whether the diagnosis is confirmed\n",
        "  adhd = [] # will contain the infor whether there is an adhd diagnosis\n",
        "  intel_disability = [] # intellectual disability or autism\n",
        "\n",
        "  sld_type_mapping = {\n",
        "    \"Specific Learning Disorder with Impairment in Reading\": \"Reading\",\n",
        "    \"Specific Learning Disorder with Impairment in Mathematics\": \"Math\",\n",
        "    \"Specific Learning Disorder with Impairment in Written Expression\": \"Writing\"\n",
        "    }\n",
        "\n",
        "  for i in range(0, data.shape[0]): # going through all the data\n",
        "    #print('New Subject')\n",
        "    subset = df.iloc[i] # a particular raw will all the values\n",
        "    #print(subset[['Diagnosis_ClinicianConsensus,DX_01', 'Diagnosis_ClinicianConsensus,DX_02', 'Diagnosis_ClinicianConsensus,DX_03',\n",
        "    #              'Diagnosis_ClinicianConsensus,DX_04', 'Diagnosis_ClinicianConsensus,DX_05', 'Diagnosis_ClinicianConsensus,DX_06',\n",
        "    #              'Diagnosis_ClinicianConsensus,DX_07', 'Diagnosis_ClinicianConsensus,DX_08', 'Diagnosis_ClinicianConsensus,DX_09',\n",
        "    #              'Diagnosis_ClinicianConsensus,DX_10']])\n",
        "    noDX = subset['Diagnosis_ClinicianConsensus,NoDX'] # 3 - drop out; 1 - control; 2, ' ', '.' - some diagnosis\n",
        "    if noDX == '3': # if subject is a drop out\n",
        "      status.append('Dropout')\n",
        "      all_diagnoses.append('N/A')\n",
        "      type_DD.append('N/A')\n",
        "      adhd.append('N/A')\n",
        "      intel_disability.append('N/A')\n",
        "      #DD_certainty.append('N/A')\n",
        "    elif noDX == '1': # No Diagnosis Given\n",
        "      status.append('Control')\n",
        "      all_diagnoses.append('N/A')\n",
        "      type_DD.append('N/A')\n",
        "      #DD_certainty.append('N/A')\n",
        "      adhd.append('N/A')\n",
        "      intel_disability.append('N/A')\n",
        "    else: # when noDX = 2, '.', or ' ' it has a diagnosis\n",
        "      # here we are going to consider all the columns that contain the name of diagnosis\n",
        "      subset_dys = 0 # a counter on how many dd types a person has\n",
        "      subset_dystype = '' # a string where dd type will be recorded\n",
        "      subset_diagnosis = '' # a string where all of the diagnoses will be recorded\n",
        "      index = 0 # just for simplicity of going through loops\n",
        "      subset_certainty = '' # records type of certainty of DD diagnosis\n",
        "      subset_certaintycount = 0 # counts\n",
        "      subset_adhd = 0 #adhd index\n",
        "      subset_disability = 0\n",
        "      for number in range(1, 11): # we are going one by one through all the diagnosis columns\n",
        "        if number != 10:\n",
        "          name_diag = 'Diagnosis_ClinicianConsensus,DX_0' + str(number)\n",
        "          name_conf = 'Diagnosis_ClinicianConsensus,DX_0' + str(number) + '_Confirmed'\n",
        "          name_presum = 'Diagnosis_ClinicianConsensus,DX_0' + str(number) + '_Presum'\n",
        "          name_rc = 'Diagnosis_ClinicianConsensus,DX_0' + str(number) + '_RC'\n",
        "          name_ruleout = 'Diagnosis_ClinicianConsensus,DX_0' + str(number) + '_RuleOut'\n",
        "        elif number == 10:\n",
        "          name_diag = 'Diagnosis_ClinicianConsensus,DX_10'\n",
        "          name_conf = 'Diagnosis_ClinicianConsensus,DX_10' + '_Confirmed'\n",
        "          name_presum = 'Diagnosis_ClinicianConsensus,DX_10' + '_Presum'\n",
        "          name_rc = 'Diagnosis_ClinicianConsensus,DX_10' + '_RC'\n",
        "          name_ruleout = 'Diagnosis_ClinicianConsensus,DX_10' + '_RuleOut'\n",
        "\n",
        "        diagnosis = subset[name_diag] # getting the name of the diagnosis\n",
        "        conf = subset[name_conf] # whether it is confirmed\n",
        "        presum = subset[name_presum] # whether it is presumptive\n",
        "        rc = subset[name_rc] # whether it requires confirmation\n",
        "        ruleout = subset[name_ruleout] # whether it needs to be ruled out\n",
        "\n",
        "        if 'No Diagnosis' in diagnosis: # when something is off and no diagnosis detected outside of the noDX values 1 and 3\n",
        "            print('ERROR: No Diagnosis detected')\n",
        "            print('The row: ', i, ' ', name_diag, diagnosis)\n",
        "            break\n",
        "        # now we should cover all the cases with the type of diagnosis\n",
        "        elif diagnosis == '.':\n",
        "            index += 1\n",
        "        elif diagnosis == ' ':\n",
        "            index += 1\n",
        "        else:\n",
        "          # if diagnosis variable contains an actual diagnosis\n",
        "          # if it's SLD with impairment in something\n",
        "          if 'Specific Learning Disorder with' in diagnosis:\n",
        "              subset_dys += 1 # adds to the counter of dyslexia types in the same participant\n",
        "              subset_dystype = subset_dystype + diagnosis + '; ' # records the type\n",
        "              # here we need to understand the certainty of the DD diagnosis\n",
        "              certainty_info = {\n",
        "                    'ID': subset['Identifiers'],\n",
        "                    'diagnosis': subset_dystype,\n",
        "                    'certainty': []\n",
        "              }\n",
        "              if conf == '1':\n",
        "                certainty_info['certainty'].append('Confirmed')\n",
        "              if presum == '1':\n",
        "                certainty_info['certainty'].append('Presumptive')\n",
        "              if rc == '1':\n",
        "                certainty_info['certainty'].append('Requires Confirmation')\n",
        "              if ruleout == '1':\n",
        "                certainty_info['certainty'].append('Ruleout')\n",
        "\n",
        "              # If no certainty level is provided, add 'No information'\n",
        "              if not certainty_info['certainty']:\n",
        "                certainty_info['certainty'].append('No information')\n",
        "\n",
        "              certainty_records.append(certainty_info)\n",
        "\n",
        "          # if diagnosis has nothing to do with SLD\n",
        "          else:\n",
        "            subset_diagnosis = subset_diagnosis + diagnosis + '; '\n",
        "            if 'Attention-Deficit' in diagnosis:\n",
        "              subset_adhd += 1\n",
        "            elif 'ADHD' in diagnosis:\n",
        "              subset_adhd += 1\n",
        "            if 'Intellectual Disability' in diagnosis:\n",
        "              subset_disability += 1\n",
        "            if 'Autism' in diagnosis:\n",
        "              subset_disability += 1\n",
        "\n",
        "      # We are now done withh all of the columns with diagnosis, now we need to form the following groups of subjects\n",
        "      # dyslexic without comorbidities\n",
        "      # dyslexic with comorbidities\n",
        "      # other diagnosis\n",
        "      counter = 0\n",
        "      if subset_dys == 0: # a person doesn't have DD\n",
        "        if subset_dystype == '':\n",
        "          type_DD.append('N/A')\n",
        "          #DD_certainty.append('N/A')\n",
        "          if subset_diagnosis != '':\n",
        "            status.append('Other diagnosis')\n",
        "            all_diagnoses.append(subset_diagnosis)\n",
        "          else:\n",
        "            status.append('All dots')\n",
        "            all_diagnoses.append('N/A')\n",
        "        else:\n",
        "          print('ERROR: dys = 0 but dys type not')\n",
        "          print(i, subset, subset_dystype, subset_dys, subset_diagnosis)\n",
        "          break\n",
        "\n",
        "      else: # if there is a DD diagnosis\n",
        "        # for us to differentiate between clear DD and DD with comorbidities\n",
        "        if subset_diagnosis == '': # only DD was detected in Diagnosis columns\n",
        "          status.append('DD')\n",
        "          all_diagnoses.append(subset_dystype)\n",
        "        elif subset_diagnosis != '':\n",
        "          status.append('DD with comorbidities')\n",
        "          new_inter_diag = subset_dystype + subset_diagnosis\n",
        "          all_diagnoses.append(new_inter_diag)\n",
        "\n",
        "        found_sld_types = []\n",
        "        for full_name, short_name in sld_type_mapping.items():\n",
        "          if re.search(full_name, subset_dystype):\n",
        "            found_sld_types.append(short_name)\n",
        "        # Get unique short SLD types.\n",
        "        found_sld_types = list(set(found_sld_types))\n",
        "\n",
        "        if len(found_sld_types) == 1:\n",
        "          type_DD.append(found_sld_types[0])\n",
        "          #DD_certainty.append(subset_certainty)\n",
        "        else:\n",
        "          new_sld_type = ''\n",
        "          for each in found_sld_types:\n",
        "            new_sld_type = new_sld_type + each + ' '\n",
        "          type_DD.append(new_sld_type)\n",
        "          #DD_certainty.append(subset_certainty)\n",
        "\n",
        "      if subset_adhd == 0:\n",
        "        adhd.append(0)\n",
        "      else:\n",
        "        adhd.append(subset_adhd)\n",
        "\n",
        "      if subset_disability == 0:\n",
        "        intel_disability.append(0)\n",
        "      else:\n",
        "        intel_disability.append(subset_disability)\n",
        "\n",
        "  return status, all_diagnoses, type_DD, certainty_records, adhd, intel_disability"
      ],
      "metadata": {
        "id": "QJcwHxq7aL9l"
      },
      "execution_count": 55,
      "outputs": []
    },
    {
      "cell_type": "code",
      "source": [
        " status, all_diagnoses, type_DD, certainty_records, adhd, intel_disability = diagnosis(data)\n",
        " data['Group'] = status\n",
        " data['Diagnosis'] = all_diagnoses\n",
        " data['DD'] = type_DD\n",
        " #data['DD_Certainty'] = DD_certainty\n",
        " data['ADHD'] = adhd\n",
        " data['Intellectual_Disability'] = intel_disability"
      ],
      "metadata": {
        "id": "ABqiIDuMPqcH",
        "outputId": "4762ba7a-73c1-4f21-dfb8-147c1b9dfe9d",
        "colab": {
          "base_uri": "https://localhost:8080/"
        }
      },
      "execution_count": 56,
      "outputs": [
        {
          "output_type": "stream",
          "name": "stderr",
          "text": [
            "<ipython-input-56-cf18fc4126fd>:2: PerformanceWarning: DataFrame is highly fragmented.  This is usually the result of calling `frame.insert` many times, which has poor performance.  Consider joining all columns at once using pd.concat(axis=1) instead. To get a de-fragmented frame, use `newframe = frame.copy()`\n",
            "  data['Group'] = status\n",
            "<ipython-input-56-cf18fc4126fd>:3: PerformanceWarning: DataFrame is highly fragmented.  This is usually the result of calling `frame.insert` many times, which has poor performance.  Consider joining all columns at once using pd.concat(axis=1) instead. To get a de-fragmented frame, use `newframe = frame.copy()`\n",
            "  data['Diagnosis'] = all_diagnoses\n",
            "<ipython-input-56-cf18fc4126fd>:4: PerformanceWarning: DataFrame is highly fragmented.  This is usually the result of calling `frame.insert` many times, which has poor performance.  Consider joining all columns at once using pd.concat(axis=1) instead. To get a de-fragmented frame, use `newframe = frame.copy()`\n",
            "  data['DD'] = type_DD\n",
            "<ipython-input-56-cf18fc4126fd>:6: PerformanceWarning: DataFrame is highly fragmented.  This is usually the result of calling `frame.insert` many times, which has poor performance.  Consider joining all columns at once using pd.concat(axis=1) instead. To get a de-fragmented frame, use `newframe = frame.copy()`\n",
            "  data['ADHD'] = adhd\n",
            "<ipython-input-56-cf18fc4126fd>:7: PerformanceWarning: DataFrame is highly fragmented.  This is usually the result of calling `frame.insert` many times, which has poor performance.  Consider joining all columns at once using pd.concat(axis=1) instead. To get a de-fragmented frame, use `newframe = frame.copy()`\n",
            "  data['Intellectual_Disability'] = intel_disability\n"
          ]
        }
      ]
    },
    {
      "cell_type": "code",
      "source": [
        "data.groupby(['Group'])[['Identifiers']].count()"
      ],
      "metadata": {
        "id": "5cmePo2sQqG2",
        "outputId": "1ea30eee-9d21-465c-a2b5-b1fa8496cff5",
        "colab": {
          "base_uri": "https://localhost:8080/",
          "height": 269
        }
      },
      "execution_count": 57,
      "outputs": [
        {
          "output_type": "execute_result",
          "data": {
            "text/plain": [
              "                       Identifiers\n",
              "Group                             \n",
              "All dots                       105\n",
              "Control                        373\n",
              "DD                             136\n",
              "DD with comorbidities          944\n",
              "Dropout                        526\n",
              "Other diagnosis               2783"
            ],
            "text/html": [
              "\n",
              "  <div id=\"df-16ed72cd-960f-43c6-9118-9d270a58d162\" class=\"colab-df-container\">\n",
              "    <div>\n",
              "<style scoped>\n",
              "    .dataframe tbody tr th:only-of-type {\n",
              "        vertical-align: middle;\n",
              "    }\n",
              "\n",
              "    .dataframe tbody tr th {\n",
              "        vertical-align: top;\n",
              "    }\n",
              "\n",
              "    .dataframe thead th {\n",
              "        text-align: right;\n",
              "    }\n",
              "</style>\n",
              "<table border=\"1\" class=\"dataframe\">\n",
              "  <thead>\n",
              "    <tr style=\"text-align: right;\">\n",
              "      <th></th>\n",
              "      <th>Identifiers</th>\n",
              "    </tr>\n",
              "    <tr>\n",
              "      <th>Group</th>\n",
              "      <th></th>\n",
              "    </tr>\n",
              "  </thead>\n",
              "  <tbody>\n",
              "    <tr>\n",
              "      <th>All dots</th>\n",
              "      <td>105</td>\n",
              "    </tr>\n",
              "    <tr>\n",
              "      <th>Control</th>\n",
              "      <td>373</td>\n",
              "    </tr>\n",
              "    <tr>\n",
              "      <th>DD</th>\n",
              "      <td>136</td>\n",
              "    </tr>\n",
              "    <tr>\n",
              "      <th>DD with comorbidities</th>\n",
              "      <td>944</td>\n",
              "    </tr>\n",
              "    <tr>\n",
              "      <th>Dropout</th>\n",
              "      <td>526</td>\n",
              "    </tr>\n",
              "    <tr>\n",
              "      <th>Other diagnosis</th>\n",
              "      <td>2783</td>\n",
              "    </tr>\n",
              "  </tbody>\n",
              "</table>\n",
              "</div>\n",
              "    <div class=\"colab-df-buttons\">\n",
              "\n",
              "  <div class=\"colab-df-container\">\n",
              "    <button class=\"colab-df-convert\" onclick=\"convertToInteractive('df-16ed72cd-960f-43c6-9118-9d270a58d162')\"\n",
              "            title=\"Convert this dataframe to an interactive table.\"\n",
              "            style=\"display:none;\">\n",
              "\n",
              "  <svg xmlns=\"http://www.w3.org/2000/svg\" height=\"24px\" viewBox=\"0 -960 960 960\">\n",
              "    <path d=\"M120-120v-720h720v720H120Zm60-500h600v-160H180v160Zm220 220h160v-160H400v160Zm0 220h160v-160H400v160ZM180-400h160v-160H180v160Zm440 0h160v-160H620v160ZM180-180h160v-160H180v160Zm440 0h160v-160H620v160Z\"/>\n",
              "  </svg>\n",
              "    </button>\n",
              "\n",
              "  <style>\n",
              "    .colab-df-container {\n",
              "      display:flex;\n",
              "      gap: 12px;\n",
              "    }\n",
              "\n",
              "    .colab-df-convert {\n",
              "      background-color: #E8F0FE;\n",
              "      border: none;\n",
              "      border-radius: 50%;\n",
              "      cursor: pointer;\n",
              "      display: none;\n",
              "      fill: #1967D2;\n",
              "      height: 32px;\n",
              "      padding: 0 0 0 0;\n",
              "      width: 32px;\n",
              "    }\n",
              "\n",
              "    .colab-df-convert:hover {\n",
              "      background-color: #E2EBFA;\n",
              "      box-shadow: 0px 1px 2px rgba(60, 64, 67, 0.3), 0px 1px 3px 1px rgba(60, 64, 67, 0.15);\n",
              "      fill: #174EA6;\n",
              "    }\n",
              "\n",
              "    .colab-df-buttons div {\n",
              "      margin-bottom: 4px;\n",
              "    }\n",
              "\n",
              "    [theme=dark] .colab-df-convert {\n",
              "      background-color: #3B4455;\n",
              "      fill: #D2E3FC;\n",
              "    }\n",
              "\n",
              "    [theme=dark] .colab-df-convert:hover {\n",
              "      background-color: #434B5C;\n",
              "      box-shadow: 0px 1px 3px 1px rgba(0, 0, 0, 0.15);\n",
              "      filter: drop-shadow(0px 1px 2px rgba(0, 0, 0, 0.3));\n",
              "      fill: #FFFFFF;\n",
              "    }\n",
              "  </style>\n",
              "\n",
              "    <script>\n",
              "      const buttonEl =\n",
              "        document.querySelector('#df-16ed72cd-960f-43c6-9118-9d270a58d162 button.colab-df-convert');\n",
              "      buttonEl.style.display =\n",
              "        google.colab.kernel.accessAllowed ? 'block' : 'none';\n",
              "\n",
              "      async function convertToInteractive(key) {\n",
              "        const element = document.querySelector('#df-16ed72cd-960f-43c6-9118-9d270a58d162');\n",
              "        const dataTable =\n",
              "          await google.colab.kernel.invokeFunction('convertToInteractive',\n",
              "                                                    [key], {});\n",
              "        if (!dataTable) return;\n",
              "\n",
              "        const docLinkHtml = 'Like what you see? Visit the ' +\n",
              "          '<a target=\"_blank\" href=https://colab.research.google.com/notebooks/data_table.ipynb>data table notebook</a>'\n",
              "          + ' to learn more about interactive tables.';\n",
              "        element.innerHTML = '';\n",
              "        dataTable['output_type'] = 'display_data';\n",
              "        await google.colab.output.renderOutput(dataTable, element);\n",
              "        const docLink = document.createElement('div');\n",
              "        docLink.innerHTML = docLinkHtml;\n",
              "        element.appendChild(docLink);\n",
              "      }\n",
              "    </script>\n",
              "  </div>\n",
              "\n",
              "\n",
              "<div id=\"df-bf6f26a2-f96a-4a82-8b7a-c1f9ff59ed52\">\n",
              "  <button class=\"colab-df-quickchart\" onclick=\"quickchart('df-bf6f26a2-f96a-4a82-8b7a-c1f9ff59ed52')\"\n",
              "            title=\"Suggest charts\"\n",
              "            style=\"display:none;\">\n",
              "\n",
              "<svg xmlns=\"http://www.w3.org/2000/svg\" height=\"24px\"viewBox=\"0 0 24 24\"\n",
              "     width=\"24px\">\n",
              "    <g>\n",
              "        <path d=\"M19 3H5c-1.1 0-2 .9-2 2v14c0 1.1.9 2 2 2h14c1.1 0 2-.9 2-2V5c0-1.1-.9-2-2-2zM9 17H7v-7h2v7zm4 0h-2V7h2v10zm4 0h-2v-4h2v4z\"/>\n",
              "    </g>\n",
              "</svg>\n",
              "  </button>\n",
              "\n",
              "<style>\n",
              "  .colab-df-quickchart {\n",
              "      --bg-color: #E8F0FE;\n",
              "      --fill-color: #1967D2;\n",
              "      --hover-bg-color: #E2EBFA;\n",
              "      --hover-fill-color: #174EA6;\n",
              "      --disabled-fill-color: #AAA;\n",
              "      --disabled-bg-color: #DDD;\n",
              "  }\n",
              "\n",
              "  [theme=dark] .colab-df-quickchart {\n",
              "      --bg-color: #3B4455;\n",
              "      --fill-color: #D2E3FC;\n",
              "      --hover-bg-color: #434B5C;\n",
              "      --hover-fill-color: #FFFFFF;\n",
              "      --disabled-bg-color: #3B4455;\n",
              "      --disabled-fill-color: #666;\n",
              "  }\n",
              "\n",
              "  .colab-df-quickchart {\n",
              "    background-color: var(--bg-color);\n",
              "    border: none;\n",
              "    border-radius: 50%;\n",
              "    cursor: pointer;\n",
              "    display: none;\n",
              "    fill: var(--fill-color);\n",
              "    height: 32px;\n",
              "    padding: 0;\n",
              "    width: 32px;\n",
              "  }\n",
              "\n",
              "  .colab-df-quickchart:hover {\n",
              "    background-color: var(--hover-bg-color);\n",
              "    box-shadow: 0 1px 2px rgba(60, 64, 67, 0.3), 0 1px 3px 1px rgba(60, 64, 67, 0.15);\n",
              "    fill: var(--button-hover-fill-color);\n",
              "  }\n",
              "\n",
              "  .colab-df-quickchart-complete:disabled,\n",
              "  .colab-df-quickchart-complete:disabled:hover {\n",
              "    background-color: var(--disabled-bg-color);\n",
              "    fill: var(--disabled-fill-color);\n",
              "    box-shadow: none;\n",
              "  }\n",
              "\n",
              "  .colab-df-spinner {\n",
              "    border: 2px solid var(--fill-color);\n",
              "    border-color: transparent;\n",
              "    border-bottom-color: var(--fill-color);\n",
              "    animation:\n",
              "      spin 1s steps(1) infinite;\n",
              "  }\n",
              "\n",
              "  @keyframes spin {\n",
              "    0% {\n",
              "      border-color: transparent;\n",
              "      border-bottom-color: var(--fill-color);\n",
              "      border-left-color: var(--fill-color);\n",
              "    }\n",
              "    20% {\n",
              "      border-color: transparent;\n",
              "      border-left-color: var(--fill-color);\n",
              "      border-top-color: var(--fill-color);\n",
              "    }\n",
              "    30% {\n",
              "      border-color: transparent;\n",
              "      border-left-color: var(--fill-color);\n",
              "      border-top-color: var(--fill-color);\n",
              "      border-right-color: var(--fill-color);\n",
              "    }\n",
              "    40% {\n",
              "      border-color: transparent;\n",
              "      border-right-color: var(--fill-color);\n",
              "      border-top-color: var(--fill-color);\n",
              "    }\n",
              "    60% {\n",
              "      border-color: transparent;\n",
              "      border-right-color: var(--fill-color);\n",
              "    }\n",
              "    80% {\n",
              "      border-color: transparent;\n",
              "      border-right-color: var(--fill-color);\n",
              "      border-bottom-color: var(--fill-color);\n",
              "    }\n",
              "    90% {\n",
              "      border-color: transparent;\n",
              "      border-bottom-color: var(--fill-color);\n",
              "    }\n",
              "  }\n",
              "</style>\n",
              "\n",
              "  <script>\n",
              "    async function quickchart(key) {\n",
              "      const quickchartButtonEl =\n",
              "        document.querySelector('#' + key + ' button');\n",
              "      quickchartButtonEl.disabled = true;  // To prevent multiple clicks.\n",
              "      quickchartButtonEl.classList.add('colab-df-spinner');\n",
              "      try {\n",
              "        const charts = await google.colab.kernel.invokeFunction(\n",
              "            'suggestCharts', [key], {});\n",
              "      } catch (error) {\n",
              "        console.error('Error during call to suggestCharts:', error);\n",
              "      }\n",
              "      quickchartButtonEl.classList.remove('colab-df-spinner');\n",
              "      quickchartButtonEl.classList.add('colab-df-quickchart-complete');\n",
              "    }\n",
              "    (() => {\n",
              "      let quickchartButtonEl =\n",
              "        document.querySelector('#df-bf6f26a2-f96a-4a82-8b7a-c1f9ff59ed52 button');\n",
              "      quickchartButtonEl.style.display =\n",
              "        google.colab.kernel.accessAllowed ? 'block' : 'none';\n",
              "    })();\n",
              "  </script>\n",
              "</div>\n",
              "\n",
              "    </div>\n",
              "  </div>\n"
            ],
            "application/vnd.google.colaboratory.intrinsic+json": {
              "type": "dataframe",
              "summary": "{\n  \"name\": \"data\",\n  \"rows\": 6,\n  \"fields\": [\n    {\n      \"column\": \"Group\",\n      \"properties\": {\n        \"dtype\": \"string\",\n        \"num_unique_values\": 6,\n        \"samples\": [\n          \"All dots\",\n          \"Control\",\n          \"Other diagnosis\"\n        ],\n        \"semantic_type\": \"\",\n        \"description\": \"\"\n      }\n    },\n    {\n      \"column\": \"Identifiers\",\n      \"properties\": {\n        \"dtype\": \"number\",\n        \"std\": 1013,\n        \"min\": 105,\n        \"max\": 2783,\n        \"num_unique_values\": 6,\n        \"samples\": [\n          105,\n          373,\n          2783\n        ],\n        \"semantic_type\": \"\",\n        \"description\": \"\"\n      }\n    }\n  ]\n}"
            }
          },
          "metadata": {},
          "execution_count": 57
        }
      ]
    },
    {
      "cell_type": "code",
      "source": [
        "# Drug Screen\n",
        "# 0 = negative, 1 = positive\n",
        "drugscreens = ['DrugScreen,AMP500', 'DrugScreen,BAR300', 'DrugScreen,BUP10',\n",
        "       'DrugScreen,BZO300', 'DrugScreen,COC150', 'DrugScreen,MAMP500',\n",
        "       'DrugScreen,MDMA500', 'DrugScreen,MTD300', 'DrugScreen,OPI300',\n",
        "       'DrugScreen,OXY100', 'DrugScreen,PCP25', 'DrugScreen,PPX300',\n",
        "       'DrugScreen,TCA1000', 'DrugScreen,THC50', 'DrugScreen,perscribed']\n",
        "for drug in drugscreens:\n",
        "  data[drug] = data[drug].fillna('.')\n",
        "  print('Name of the screen: ', drug, 'Number of subjects with positive test: ', data[data[drug] == '1'].shape[0])\n"
      ],
      "metadata": {
        "id": "CY7ty6g6RWMb",
        "outputId": "938b9453-22cc-438b-906d-2e71ecead702",
        "colab": {
          "base_uri": "https://localhost:8080/"
        }
      },
      "execution_count": 58,
      "outputs": [
        {
          "output_type": "stream",
          "name": "stdout",
          "text": [
            "Name of the screen:  DrugScreen,AMP500 Number of subjects with positive test:  51\n",
            "Name of the screen:  DrugScreen,BAR300 Number of subjects with positive test:  2\n",
            "Name of the screen:  DrugScreen,BUP10 Number of subjects with positive test:  1\n",
            "Name of the screen:  DrugScreen,BZO300 Number of subjects with positive test:  10\n",
            "Name of the screen:  DrugScreen,COC150 Number of subjects with positive test:  1\n",
            "Name of the screen:  DrugScreen,MAMP500 Number of subjects with positive test:  3\n",
            "Name of the screen:  DrugScreen,MDMA500 Number of subjects with positive test:  1\n",
            "Name of the screen:  DrugScreen,MTD300 Number of subjects with positive test:  1\n",
            "Name of the screen:  DrugScreen,OPI300 Number of subjects with positive test:  16\n",
            "Name of the screen:  DrugScreen,OXY100 Number of subjects with positive test:  2\n",
            "Name of the screen:  DrugScreen,PCP25 Number of subjects with positive test:  1\n",
            "Name of the screen:  DrugScreen,PPX300 Number of subjects with positive test:  1\n",
            "Name of the screen:  DrugScreen,TCA1000 Number of subjects with positive test:  5\n",
            "Name of the screen:  DrugScreen,THC50 Number of subjects with positive test:  49\n",
            "Name of the screen:  DrugScreen,perscribed Number of subjects with positive test:  41\n"
          ]
        }
      ]
    },
    {
      "cell_type": "code",
      "source": [
        "# EHQ\n",
        "handedness = data['EHQ,EHQ_Total'].values\n",
        "new_handedness = []\n",
        "for value in handedness:\n",
        "  if value != '.':\n",
        "    new_handedness.append(float(value))\n",
        "  else:\n",
        "    new_handedness.append(value)\n",
        "data['EHQ,EHQ_Total'] = new_handedness"
      ],
      "metadata": {
        "id": "S0Z2jmmJ9NDj"
      },
      "execution_count": 59,
      "outputs": []
    },
    {
      "cell_type": "code",
      "source": [
        "# EVT\n",
        "# if we end up using it, it might make sense to check the validity first in EVT_Valid\n",
        "data['EVT,EVT_Valid'] = data['EVT,EVT_Valid'].fillna('.')\n",
        "number = data[data['EVT,EVT_Complete'] != '1'].shape[0]\n",
        "print('Missing values for EVT scores: ' + str(number) + ' out of ' + str(data.shape[0]))"
      ],
      "metadata": {
        "colab": {
          "base_uri": "https://localhost:8080/"
        },
        "id": "bSYf2r1l_Eqw",
        "outputId": "ddd614a0-a0e4-43b4-d0b1-c3b5f5d17ead"
      },
      "execution_count": 60,
      "outputs": [
        {
          "output_type": "stream",
          "name": "stdout",
          "text": [
            "Missing values for EVT scores: 4528 out of 4867\n"
          ]
        }
      ]
    },
    {
      "cell_type": "code",
      "source": [
        "# GFTA\n",
        "data['GFTA,GFTA_2_Complete'] = data['GFTA,GFTA_2_Complete'].fillna('.')\n",
        "number = data[data['GFTA,GFTA_2_Complete'] != '1'].shape[0]\n",
        "print('Missing values for GFTA_2 scores: ' + str(number) + ' out of ' + str(data.shape[0]))"
      ],
      "metadata": {
        "colab": {
          "base_uri": "https://localhost:8080/"
        },
        "id": "GnAbvf_v_iLY",
        "outputId": "5e9fd595-cb33-4ba4-8f4b-0d02d721ebc4"
      },
      "execution_count": 61,
      "outputs": [
        {
          "output_type": "stream",
          "name": "stdout",
          "text": [
            "Missing values for GFTA_2 scores: 4832 out of 4867\n"
          ]
        }
      ]
    },
    {
      "cell_type": "code",
      "source": [
        "# MRI Track\n",
        "# Complete: 1 = All done, 2 = some scans complete, 3 = no scanc complete\n",
        "# Clinical Impression: 1 = Within Normal Limits, 2 = Findings Not Clinically Significant, 3 = Abnormal\n",
        "# RS: resting state complete 0 = No 1 = Yes 2 = Partial\n",
        "# Movie, T1-W, T2 Flair, DWI_PAAX, DWI_APAX\n",
        "names = ['Clinical_Impression', 'Complete', 'DKI64', 'DWI_APAX', 'DWI_PAAX', 'RS']\n",
        "for name in names:\n",
        "  col_name = 'MRI_Track,' + name\n",
        "  data[col_name] = data[col_name].fillna('.')\n",
        "  if name == 'Complete':\n",
        "    print('Completed ', data[data[col_name] == '1'].shape[0], ' participants out of ', data.shape[0])\n",
        "  elif name == 'Clinical_Impression':\n",
        "    print('Within normal limits: ', data[data[col_name] == '1'].shape[0])\n",
        "    print('Findings Not Clinically Significant: ', data[data[col_name] == '2'].shape[0])\n",
        "    print('Abnormal: ', data[data[col_name] == '3'].shape[0])\n",
        "  else:\n",
        "    print(name, 'done ', data[data[col_name] == '1'].shape[0], 'out of ', data.shape[0])"
      ],
      "metadata": {
        "id": "0g0sKMafBXio",
        "outputId": "37c1e204-83a2-4d01-e090-2ebcf6c4eef7",
        "colab": {
          "base_uri": "https://localhost:8080/"
        }
      },
      "execution_count": 62,
      "outputs": [
        {
          "output_type": "stream",
          "name": "stdout",
          "text": [
            "Within normal limits:  2924\n",
            "Findings Not Clinically Significant:  281\n",
            "Abnormal:  207\n",
            "Completed  2635  participants out of  4867\n",
            "DKI64 done  2968 out of  4867\n",
            "DWI_APAX done  682 out of  4867\n",
            "DWI_PAAX done  942 out of  4867\n",
            "RS done  3015 out of  4867\n"
          ]
        }
      ]
    },
    {
      "cell_type": "code",
      "source": [
        "# PreInt Language\n",
        "data['PreInt_Lang,Child_Primary_Lang'] = data['PreInt_Lang,Child_Primary_Lang'].fillna('.')\n",
        "data[data['PreInt_Lang,Child_Primary_Lang'] != '.'].groupby(['PreInt_Lang,Child_Primary_Lang'])['Identifiers'].count()"
      ],
      "metadata": {
        "id": "vGpQYthtiILH",
        "outputId": "0922db5c-5567-45b6-a6f3-57e5d3e93481",
        "colab": {
          "base_uri": "https://localhost:8080/",
          "height": 993
        }
      },
      "execution_count": 63,
      "outputs": [
        {
          "output_type": "execute_result",
          "data": {
            "text/plain": [
              "PreInt_Lang,Child_Primary_Lang\n",
              "Bilingual                1\n",
              "Bilungual                1\n",
              "Both (B+E)               1\n",
              "Bulgarian                1\n",
              "Chinese - Mandarin       1\n",
              "ENglish                  1\n",
              "English               3135\n",
              "English                 38\n",
              "English and French       1\n",
              "English/French           1\n",
              "Englsh                   1\n",
              "Englush                  1\n",
              "French                   4\n",
              "Hebrew                   1\n",
              "Hungarian                1\n",
              "Italian                  1\n",
              "Korean                   1\n",
              "Other                    2\n",
              "Polish                   1\n",
              "Portuguese               1\n",
              "Russian                  1\n",
              "Russian                  1\n",
              "Spanish                  7\n",
              "Turkish                  1\n",
              "both                     1\n",
              "both equally             1\n",
              "english                  3\n",
              "v                        1\n",
              "Name: Identifiers, dtype: int64"
            ],
            "text/html": [
              "<div>\n",
              "<style scoped>\n",
              "    .dataframe tbody tr th:only-of-type {\n",
              "        vertical-align: middle;\n",
              "    }\n",
              "\n",
              "    .dataframe tbody tr th {\n",
              "        vertical-align: top;\n",
              "    }\n",
              "\n",
              "    .dataframe thead th {\n",
              "        text-align: right;\n",
              "    }\n",
              "</style>\n",
              "<table border=\"1\" class=\"dataframe\">\n",
              "  <thead>\n",
              "    <tr style=\"text-align: right;\">\n",
              "      <th></th>\n",
              "      <th>Identifiers</th>\n",
              "    </tr>\n",
              "    <tr>\n",
              "      <th>PreInt_Lang,Child_Primary_Lang</th>\n",
              "      <th></th>\n",
              "    </tr>\n",
              "  </thead>\n",
              "  <tbody>\n",
              "    <tr>\n",
              "      <th>Bilingual</th>\n",
              "      <td>1</td>\n",
              "    </tr>\n",
              "    <tr>\n",
              "      <th>Bilungual</th>\n",
              "      <td>1</td>\n",
              "    </tr>\n",
              "    <tr>\n",
              "      <th>Both (B+E)</th>\n",
              "      <td>1</td>\n",
              "    </tr>\n",
              "    <tr>\n",
              "      <th>Bulgarian</th>\n",
              "      <td>1</td>\n",
              "    </tr>\n",
              "    <tr>\n",
              "      <th>Chinese - Mandarin</th>\n",
              "      <td>1</td>\n",
              "    </tr>\n",
              "    <tr>\n",
              "      <th>ENglish</th>\n",
              "      <td>1</td>\n",
              "    </tr>\n",
              "    <tr>\n",
              "      <th>English</th>\n",
              "      <td>3135</td>\n",
              "    </tr>\n",
              "    <tr>\n",
              "      <th>English</th>\n",
              "      <td>38</td>\n",
              "    </tr>\n",
              "    <tr>\n",
              "      <th>English and French</th>\n",
              "      <td>1</td>\n",
              "    </tr>\n",
              "    <tr>\n",
              "      <th>English/French</th>\n",
              "      <td>1</td>\n",
              "    </tr>\n",
              "    <tr>\n",
              "      <th>Englsh</th>\n",
              "      <td>1</td>\n",
              "    </tr>\n",
              "    <tr>\n",
              "      <th>Englush</th>\n",
              "      <td>1</td>\n",
              "    </tr>\n",
              "    <tr>\n",
              "      <th>French</th>\n",
              "      <td>4</td>\n",
              "    </tr>\n",
              "    <tr>\n",
              "      <th>Hebrew</th>\n",
              "      <td>1</td>\n",
              "    </tr>\n",
              "    <tr>\n",
              "      <th>Hungarian</th>\n",
              "      <td>1</td>\n",
              "    </tr>\n",
              "    <tr>\n",
              "      <th>Italian</th>\n",
              "      <td>1</td>\n",
              "    </tr>\n",
              "    <tr>\n",
              "      <th>Korean</th>\n",
              "      <td>1</td>\n",
              "    </tr>\n",
              "    <tr>\n",
              "      <th>Other</th>\n",
              "      <td>2</td>\n",
              "    </tr>\n",
              "    <tr>\n",
              "      <th>Polish</th>\n",
              "      <td>1</td>\n",
              "    </tr>\n",
              "    <tr>\n",
              "      <th>Portuguese</th>\n",
              "      <td>1</td>\n",
              "    </tr>\n",
              "    <tr>\n",
              "      <th>Russian</th>\n",
              "      <td>1</td>\n",
              "    </tr>\n",
              "    <tr>\n",
              "      <th>Russian</th>\n",
              "      <td>1</td>\n",
              "    </tr>\n",
              "    <tr>\n",
              "      <th>Spanish</th>\n",
              "      <td>7</td>\n",
              "    </tr>\n",
              "    <tr>\n",
              "      <th>Turkish</th>\n",
              "      <td>1</td>\n",
              "    </tr>\n",
              "    <tr>\n",
              "      <th>both</th>\n",
              "      <td>1</td>\n",
              "    </tr>\n",
              "    <tr>\n",
              "      <th>both equally</th>\n",
              "      <td>1</td>\n",
              "    </tr>\n",
              "    <tr>\n",
              "      <th>english</th>\n",
              "      <td>3</td>\n",
              "    </tr>\n",
              "    <tr>\n",
              "      <th>v</th>\n",
              "      <td>1</td>\n",
              "    </tr>\n",
              "  </tbody>\n",
              "</table>\n",
              "</div><br><label><b>dtype:</b> int64</label>"
            ]
          },
          "metadata": {},
          "execution_count": 63
        }
      ]
    },
    {
      "cell_type": "code",
      "source": [
        "# PreINT, past head injuries\n",
        "data['PreInt_TxHx,head_injuries'] = data['PreInt_TxHx,head_injuries'].fillna('.')\n",
        "print('Head injuries: ', data[data['PreInt_TxHx,head_injuries'] == '1'].shape[0])"
      ],
      "metadata": {
        "id": "O2RJ5Q09jNJF",
        "outputId": "9675305c-bfed-435f-ded1-1e8f03574afd",
        "colab": {
          "base_uri": "https://localhost:8080/"
        }
      },
      "execution_count": 64,
      "outputs": [
        {
          "output_type": "stream",
          "name": "stdout",
          "text": [
            "Head injuries:  629\n"
          ]
        }
      ]
    },
    {
      "cell_type": "code",
      "source": [
        "# PreInt psych meds curr\n",
        "data['PreInt_TxHx,psych_meds_cur'] = data['PreInt_TxHx,psych_meds_cur'].fillna('.')\n",
        "print('Psych meds: ', data[data['PreInt_TxHx,psych_meds_cur'] == '1'].shape[0])"
      ],
      "metadata": {
        "id": "8epbBLxvjnCd",
        "outputId": "11ec03be-053e-4adb-f36c-5417971ee6eb",
        "colab": {
          "base_uri": "https://localhost:8080/"
        }
      },
      "execution_count": 65,
      "outputs": [
        {
          "output_type": "stream",
          "name": "stdout",
          "text": [
            "Psych meds:  794\n"
          ]
        }
      ]
    },
    {
      "cell_type": "code",
      "source": [
        "# RAN-RAS\n",
        "# numbers:\n",
        "# letters:\n",
        "data['RANRAS,RR_Let_Stnd'] = data['RANRAS,RR_Let_Stnd'].fillna('.') # letters\n",
        "data['RANRAS,RR_Num_Stnd'] = data['RANRAS,RR_Num_Stnd'].fillna('.') # numbers\n",
        "data['RANRAS,RR_Let_Raw'] = data['RANRAS,RR_Let_Raw'].fillna('.')\n",
        "data['RANRAS,RR_Num_Raw'] = data['RANRAS,RR_Num_Raw'].fillna('.')\n",
        "\n",
        "print('RAN letters (stnd.): ', data[data['RANRAS,RR_Let_Stnd'] != '.'].shape[0], 'out of ', data.shape[0])\n",
        "print('RAN letters (raw): ', data[data['RANRAS,RR_Let_Raw'] != '.'].shape[0], 'out of ', data.shape[0])\n",
        "print('RAN numbers (stnd.): ', data[data['RANRAS,RR_Num_Stnd'] != '.'].shape[0], 'out of ', data.shape[0])\n",
        "print('RAN numbers (raw): ', data[data['RANRAS,RR_Num_Raw'] != '.'].shape[0], 'out of ', data.shape[0])"
      ],
      "metadata": {
        "id": "99JYvFw3iKBl",
        "colab": {
          "base_uri": "https://localhost:8080/"
        },
        "outputId": "700232dd-a503-499b-b191-b18e3de4aed7"
      },
      "execution_count": 66,
      "outputs": [
        {
          "output_type": "stream",
          "name": "stdout",
          "text": [
            "RAN letters (stnd.):  235 out of  4867\n",
            "RAN letters (raw):  235 out of  4867\n",
            "RAN numbers (stnd.):  51 out of  4867\n",
            "RAN numbers (raw):  51 out of  4867\n"
          ]
        }
      ]
    },
    {
      "cell_type": "code",
      "source": [
        "# IQ tests\n",
        "def IQ_tests(df):\n",
        "  kbit_columns = ['IQ_Comp', 'Incomplete_Reason', 'Invalid_Reason', 'Valid', 'Complete',\n",
        "             'NV_Standard', 'V_Standard']\n",
        "  wasi_columns = ['Complete', 'Valid', 'incomplete_reason', 'Invalid_Reason',\n",
        "                  'FSIQ', 'PRI_Comp', 'VCI_Comp']\n",
        "  wais_columns = ['Complete', 'Valid', 'Incomplete_Reason', 'Invalid_Reason',\n",
        "                  'FSIQ_COMP', 'PRI_COMP', 'VCI_COMP']\n",
        "  wisc_columns = ['complete', 'incomplete_reason', 'VCI', 'PSI', 'FSIQ']\n",
        "  wisc_remote_columns = ['complete', 'incomplete_reason', 'VCI', 'NSI', 'NMFSIQ'] # NSI instead of PSI, no processing speed in this one, only naming speed\n",
        "  wiat_columns = ['Complete', 'Valid', 'Incomplete_reason', 'Invalid_Reason',\n",
        "                  'Pseudo_Stnd', 'Word_Stnd', 'RC_Stnd'] # decide on the subtests and whether standard\n",
        "\n",
        "  columns = [kbit_columns, wasi_columns, wais_columns, wisc_columns, wisc_remote_columns, wiat_columns]\n",
        "  col_names = ['KBIT,KBIT_', 'WASI,WASI_', 'WAIS,WAIS_', 'WISC,WISC_', 'WISC_Remote,WISC_', 'WIAT,WIAT_']\n",
        "  for col_list in columns:\n",
        "    ind_name = columns.index(col_list)\n",
        "    for name in col_list:\n",
        "      col_name = col_names[ind_name] + name\n",
        "      df[col_name] = df[col_name].fillna('.')\n",
        "\n",
        "  all_iq_tests = []\n",
        "  iq_tests = []\n",
        "  iq_score = []\n",
        "  nv_iq = []\n",
        "  v_iq = []\n",
        "  status = []\n",
        "  total_reading = []\n",
        "  total_reading_status = []\n",
        "  for i in range(0, data.shape[0]):\n",
        "    subset = df.iloc[i] # a particular raw will all the values\n",
        "    age = subset['Basic_Demos,Age']\n",
        "    inter_iq_test = []\n",
        "    inter_iq_score = []\n",
        "    inter_iq_status = []\n",
        "    inter_nv = []\n",
        "    inter_v = []\n",
        "\n",
        "    # KBIT\n",
        "    kbit_score = subset['KBIT,KBIT_IQ_Comp']\n",
        "    kbit_complete = subset['KBIT,KBIT_Complete']\n",
        "    kbit_valid = subset['KBIT,KBIT_Valid']\n",
        "    kbit_nv = subset['KBIT,KBIT_NV_Standard']\n",
        "    kbit_v = subset['KBIT,KBIT_V_Standard']\n",
        "    if kbit_score != '.': # only if we have a calculated composite score\n",
        "      inter_iq_test.append('KBIT')\n",
        "      inter_iq_score.append(int(kbit_score))\n",
        "      inter_nv.append(int(kbit_nv)) # need to check whether there are cases where we have composite score, but do not have separate v erbal and non verbal scores\n",
        "      inter_v.append(int(kbit_v))\n",
        "      if kbit_complete == '1' and kbit_valid == '1':\n",
        "        inter_iq_status.append('Complete and Valid')\n",
        "      elif kbit_complete == '1' and kbit_valid == '0':\n",
        "        inter_iq_status.append('Complete and Not valid')\n",
        "      elif kbit_complete == '0' and kbit_valid == '0':\n",
        "        inter_iq_status.append('Not complete and Not valid')\n",
        "      else:\n",
        "         inter_iq_status.append('N/A')\n",
        "\n",
        "    # WASI\n",
        "    wasi_score = subset['WASI,WASI_FSIQ']\n",
        "    wasi_complete = subset['WASI,WASI_Complete']\n",
        "    wasi_valid = subset['WASI,WASI_Valid']\n",
        "    wasi_nv = subset['WASI,WASI_PRI_Comp']\n",
        "    wasi_v = subset['WASI,WASI_VCI_Comp']\n",
        "    if wasi_score != '.': # only if we have a calculated composite score\n",
        "      inter_iq_test.append('WASI')\n",
        "      inter_iq_score.append(int(wasi_score))\n",
        "      inter_nv.append(int(wasi_nv)) # need to check whether there are cases where we have composite score, but do not have separate v erbal and non verbal scores\n",
        "      inter_v.append(int(wasi_v))\n",
        "      if wasi_complete == '1' and wasi_valid == '1':\n",
        "        inter_iq_status.append('Complete and Valid')\n",
        "      elif wasi_complete == '1' and wasi_valid == '0':\n",
        "        inter_iq_status.append('Complete and Not valid')\n",
        "      elif wasi_complete == '0' and wasi_valid == '0':\n",
        "        inter_iq_status.append('Not complete and Not valid')\n",
        "      else:\n",
        "         inter_iq_status.append('N/A')\n",
        "\n",
        "    # WAIS\n",
        "    wais_score = subset['WAIS,WAIS_FSIQ_COMP']\n",
        "    wais_complete = subset['WAIS,WAIS_Complete']\n",
        "    wais_valid = subset['WAIS,WAIS_Valid']\n",
        "    wais_nv = subset['WAIS,WAIS_PRI_COMP']\n",
        "    wais_v = subset['WAIS,WAIS_VCI_COMP']\n",
        "    if wais_score != '.': # only if we have a calculated composite score\n",
        "      inter_iq_test.append('WAIS')\n",
        "      inter_iq_score.append(int(wais_score))\n",
        "      inter_nv.append(int(wais_nv)) # need to check whether there are cases where we have composite score, but do not have separate v erbal and non verbal scores\n",
        "      inter_v.append(int(wais_v))\n",
        "      if wais_complete == '1' and wais_valid == '1':\n",
        "        inter_iq_status.append('Complete and Valid')\n",
        "      elif wais_complete == '1' and wais_valid == '0':\n",
        "        inter_iq_status.append('Complete and Not valid')\n",
        "      elif wais_complete == '0' and wais_valid == '0':\n",
        "        inter_iq_status.append('Not complete and Not valid')\n",
        "      else:\n",
        "         inter_iq_status.append('N/A')\n",
        "\n",
        "    # WISC\n",
        "    wisc_score = subset['WISC,WISC_FSIQ']\n",
        "    wisc_complete = subset['WISC,WISC_complete']\n",
        "    wisc_nv = subset['WISC,WISC_PSI']\n",
        "    wisc_v = subset['WISC,WISC_VCI']\n",
        "    if wisc_score != '.': # only if we have a calculated composite score\n",
        "      inter_iq_test.append('WISC')\n",
        "      inter_iq_score.append(int(wisc_score))\n",
        "      if wisc_nv != '.':\n",
        "        inter_nv.append(int(wisc_nv)) # need to check whether there are cases where we have composite score, but do not have separate v erbal and non verbal scores\n",
        "      else:\n",
        "        inter_nv.append('N/A')\n",
        "      if wisc_v != '.':\n",
        "        inter_v.append(int(wisc_v))\n",
        "      else:\n",
        "        inter_v.append('N/A')\n",
        "      if wisc_complete == '0':\n",
        "        inter_iq_status.append('Not complete')\n",
        "      elif wisc_complete == '1':\n",
        "        inter_iq_status.append('Complete')\n",
        "      else:\n",
        "         inter_iq_status.append('N/A')\n",
        "\n",
        "\n",
        "    # WISC_Remote\n",
        "    wisc_remote_score = subset['WISC_Remote,WISC_NMFSIQ']\n",
        "    wisc_remote_complete = subset['WISC_Remote,WISC_complete']\n",
        "    wisc_remote_nv = subset['WISC_Remote,WISC_NSI']\n",
        "    wisc_remote_v = subset['WISC_Remote,WISC_VCI']\n",
        "    if wisc_remote_score != '.': # only if we have a calculated composite score\n",
        "      inter_iq_test.append('WISC')\n",
        "      inter_iq_score.append(int(wisc_remote_score))\n",
        "      if wisc_remote_nv != '.':\n",
        "        inter_nv.append(int(wisc_remote_nv)) # need to check whether there are cases where we have composite score, but do not have separate v erbal and non verbal scores\n",
        "      else:\n",
        "        inter_nv.append('N/A')\n",
        "      if wisc_remote_v != '.':\n",
        "        inter_v.append(int(wisc_remote_v))\n",
        "      else:\n",
        "        inter_v.append('N/A')\n",
        "      if wisc_remote_complete == '0':\n",
        "        inter_iq_status.append('Not complete')\n",
        "      elif wisc_remote_complete == '1':\n",
        "        inter_iq_status.append('Complete')\n",
        "      else:\n",
        "         inter_iq_status.append('N/A')\n",
        "\n",
        "    # outcome iq for each subject\n",
        "    if len(inter_iq_score) == 1:\n",
        "      all_iq_tests.append(inter_iq_test[0])\n",
        "      iq_tests.append(inter_iq_test[0])\n",
        "      iq_score.append(inter_iq_score[0])\n",
        "      status.append(inter_iq_status[0])\n",
        "      nv_iq.append(inter_nv[0])\n",
        "      v_iq.append(inter_v[0])\n",
        "    else:\n",
        "      if 'KBIT' and 'WISC' in inter_iq_test:\n",
        "        if age < 6:\n",
        "          all_iq_tests.append('KBIT, WISC')\n",
        "          ind = inter_iq_test.index('KBIT')\n",
        "          iq_tests.append(inter_iq_test[ind])\n",
        "          iq_score.append(inter_iq_score[ind])\n",
        "          status.append(inter_iq_status[ind])\n",
        "          nv_iq.append(inter_nv[ind])\n",
        "          v_iq.append(inter_v[ind])\n",
        "        else:\n",
        "          ind = inter_iq_test.index('WISC')\n",
        "          all_iq_tests.append('KBIT, WISC')\n",
        "          iq_tests.append(inter_iq_test[ind])\n",
        "          iq_score.append(inter_iq_score[ind])\n",
        "          status.append(inter_iq_status[ind])\n",
        "          nv_iq.append(inter_nv[ind])\n",
        "          v_iq.append(inter_v[ind])\n",
        "      elif 'KBIT' and 'WASI' in inter_iq_test:\n",
        "        if age < 6:\n",
        "          all_iq_tests.append('KBIT, WASI')\n",
        "          ind = inter_iq_test.index('KBIT')\n",
        "          iq_tests.append(inter_iq_test[ind])\n",
        "          iq_score.append(inter_iq_score[ind])\n",
        "          status.append(inter_iq_status[ind])\n",
        "          nv_iq.append(inter_nv[ind])\n",
        "          v_iq.append(inter_v[ind])\n",
        "        else:\n",
        "          all_iq_tests.append('KBIT, WASI')\n",
        "          ind = inter_iq_test.index('WASI')\n",
        "          iq_tests.append(inter_iq_test[ind])\n",
        "          iq_score.append(inter_iq_score[ind])\n",
        "          status.append(inter_iq_status[ind])\n",
        "          nv_iq.append(inter_nv[ind])\n",
        "          v_iq.append(inter_v[ind])\n",
        "      elif len(inter_iq_test) == 0:\n",
        "        all_iq_tests.append('No IQ')\n",
        "        iq_tests.append('No IQ')\n",
        "        iq_score.append('No IQ')\n",
        "        nv_iq.append('No IQ')\n",
        "        v_iq.append('No IQ')\n",
        "        status.append('No IQ')\n",
        "\n",
        "      else: # in case there are results on different tests - what do we do now\n",
        "        print('Subject ', subset['Identifiers'], 'Tests done: ', inter_iq_test)\n",
        "        print('Subject ', i, 'Score for the tests: ', inter_iq_score)\n",
        "        print('Subject ', i, 'Status of the test results: ', inter_iq_status)\n",
        "        print('Subject ', i, 'Nonverbal scores: ', inter_nv)\n",
        "        print('Subject ', i, 'Verbal scores: ', inter_v)\n",
        "        break\n",
        "\n",
        "      # WIAT\n",
        "      # Total Reading score calculation\n",
        "    wiat_pseudo = subset['WIAT,WIAT_Pseudo_Stnd']\n",
        "    wiat_word = subset['WIAT,WIAT_Word_Stnd']\n",
        "    wiat_complete = subset['WIAT,WIAT_Complete']\n",
        "    wiat_valid = subset['WIAT,WIAT_Valid']\n",
        "    if wiat_pseudo != '.' and wiat_word != '.':\n",
        "        score = (int(wiat_pseudo) + int(wiat_word) / 2\n",
        "        total_reading.append(score)\n",
        "    else:\n",
        "      elements = [('pseudo', wiat_pseudo), ('word', wiat_word)]\n",
        "      existing_elements = ', '.join(name for name, value in elements if value != '.')\n",
        "      total_reading.append(existing_elements)\n",
        "    if wiat_complete == '1' and wiat_valid == '1':\n",
        "          total_reading_status.append('Complete and Valid')\n",
        "    elif wiat_complete == '1' and wiat_valid == '3':\n",
        "          total_reading_status.append('Complete and Valid')\n",
        "    elif wiat_complete == '1' and wiat_valid == '0':\n",
        "          total_reading_status.append('Complete and Not valid')\n",
        "    elif wiat_complete == '0' and wiat_valid == '1':\n",
        "          total_reading_status.append('Not complete and Valid')\n",
        "    elif wiat_complete == '0' and wiat_valid == '0':\n",
        "          total_reading_status.append('Not complete and Not valid')\n",
        "    else:\n",
        "          total_reading_status.append('N/A')\n",
        "\n",
        "\n",
        "  return all_iq_tests, iq_tests, iq_score, nv_iq, v_iq, status, total_reading, total_reading_status"
      ],
      "metadata": {
        "id": "BngkfgIABVpx"
      },
      "execution_count": 67,
      "outputs": []
    },
    {
      "cell_type": "code",
      "source": [
        "all_iq_tests, iq_tests, iq_score, nv_iq, v_iq, status, total_reading, total_reading_status = IQ_tests(data)\n",
        "data['All_IQ_done'] = all_iq_tests\n",
        "data['IQ_test'] = iq_tests\n",
        "data['IQ'] = iq_score\n",
        "data['nvIQ'] = nv_iq\n",
        "data['vIQ'] = v_iq\n",
        "data['IQ_status'] = status\n",
        "data['Total_Reading'] = total_reading\n",
        "data['Total_Reading_Status'] = total_reading_status"
      ],
      "metadata": {
        "id": "CwRpnU51__ft",
        "colab": {
          "base_uri": "https://localhost:8080/"
        },
        "outputId": "b4a2de31-850c-49ad-ee07-a94dc2270577"
      },
      "execution_count": 68,
      "outputs": [
        {
          "output_type": "stream",
          "name": "stderr",
          "text": [
            "<ipython-input-68-845386b4e373>:2: PerformanceWarning: DataFrame is highly fragmented.  This is usually the result of calling `frame.insert` many times, which has poor performance.  Consider joining all columns at once using pd.concat(axis=1) instead. To get a de-fragmented frame, use `newframe = frame.copy()`\n",
            "  data['All_IQ_done'] = all_iq_tests\n",
            "<ipython-input-68-845386b4e373>:3: PerformanceWarning: DataFrame is highly fragmented.  This is usually the result of calling `frame.insert` many times, which has poor performance.  Consider joining all columns at once using pd.concat(axis=1) instead. To get a de-fragmented frame, use `newframe = frame.copy()`\n",
            "  data['IQ_test'] = iq_tests\n",
            "<ipython-input-68-845386b4e373>:4: PerformanceWarning: DataFrame is highly fragmented.  This is usually the result of calling `frame.insert` many times, which has poor performance.  Consider joining all columns at once using pd.concat(axis=1) instead. To get a de-fragmented frame, use `newframe = frame.copy()`\n",
            "  data['IQ'] = iq_score\n",
            "<ipython-input-68-845386b4e373>:5: PerformanceWarning: DataFrame is highly fragmented.  This is usually the result of calling `frame.insert` many times, which has poor performance.  Consider joining all columns at once using pd.concat(axis=1) instead. To get a de-fragmented frame, use `newframe = frame.copy()`\n",
            "  data['nvIQ'] = nv_iq\n",
            "<ipython-input-68-845386b4e373>:6: PerformanceWarning: DataFrame is highly fragmented.  This is usually the result of calling `frame.insert` many times, which has poor performance.  Consider joining all columns at once using pd.concat(axis=1) instead. To get a de-fragmented frame, use `newframe = frame.copy()`\n",
            "  data['vIQ'] = v_iq\n",
            "<ipython-input-68-845386b4e373>:7: PerformanceWarning: DataFrame is highly fragmented.  This is usually the result of calling `frame.insert` many times, which has poor performance.  Consider joining all columns at once using pd.concat(axis=1) instead. To get a de-fragmented frame, use `newframe = frame.copy()`\n",
            "  data['IQ_status'] = status\n",
            "<ipython-input-68-845386b4e373>:8: PerformanceWarning: DataFrame is highly fragmented.  This is usually the result of calling `frame.insert` many times, which has poor performance.  Consider joining all columns at once using pd.concat(axis=1) instead. To get a de-fragmented frame, use `newframe = frame.copy()`\n",
            "  data['Total_Reading'] = total_reading\n",
            "<ipython-input-68-845386b4e373>:9: PerformanceWarning: DataFrame is highly fragmented.  This is usually the result of calling `frame.insert` many times, which has poor performance.  Consider joining all columns at once using pd.concat(axis=1) instead. To get a de-fragmented frame, use `newframe = frame.copy()`\n",
            "  data['Total_Reading_Status'] = total_reading_status\n"
          ]
        }
      ]
    },
    {
      "cell_type": "markdown",
      "source": [
        "## Exclusion"
      ],
      "metadata": {
        "id": "SKLY8kv0GHLO"
      }
    },
    {
      "cell_type": "code",
      "source": [
        "data_filtered = data.copy() # full"
      ],
      "metadata": {
        "id": "BDavNtBpXy1W"
      },
      "execution_count": 69,
      "outputs": []
    },
    {
      "cell_type": "code",
      "source": [
        "# only right-handed\n",
        "# in the original test, people are considered to be right-handed when the score >= 40\n",
        "# in the materials to the dataset, people above 48 >= considered right-handed\n",
        "subset = data_filtered[(data_filtered['EHQ,EHQ_Total'] != '.') & (data_filtered['Group'].isin(['Control', 'DD', 'DD with comorbidities']))]\n",
        "print('Missing values for handedness who didnot dropped out, and control or DD: ',\n",
        "      data_filtered[(data_filtered['EHQ,EHQ_Total'] == '.') & (data_filtered['Basic_Demos,Participant_Status'] == 'Complete') &\n",
        "      (data_filtered['Group'].isin(['Control', 'DD', 'DD with comorbidities']))].shape[0])\n",
        "print('People with EHQ score above 40: ',\n",
        "    subset[subset['EHQ,EHQ_Total'] >= 40].shape[0])\n",
        "print('People with EHQ score above 48: ',\n",
        "    subset[subset['EHQ,EHQ_Total'] >= 48].shape[0])\n",
        "\n",
        "# So the difference is in 72 people. Let's stick to 40 for now:\n",
        "data_filtered = data_filtered[data_filtered['EHQ,EHQ_Total'] != '.'] # Losing 19 people from our sample here\n",
        "data_filtered = data_filtered[data_filtered['EHQ,EHQ_Total'] >= 40]"
      ],
      "metadata": {
        "colab": {
          "base_uri": "https://localhost:8080/"
        },
        "id": "4enadjWmla4z",
        "outputId": "1d9c8000-83c5-4709-edc9-d8fa5b5af137"
      },
      "execution_count": 70,
      "outputs": [
        {
          "output_type": "stream",
          "name": "stdout",
          "text": [
            "Missing values for handedness who didnot dropped out, and control or DD:  19\n",
            "People with EHQ score above 40:  1117\n",
            "People with EHQ score above 48:  1045\n"
          ]
        }
      ]
    },
    {
      "cell_type": "code",
      "source": [
        "# Age, not older than 18 years old\n",
        "data_filtered = data_filtered[data_filtered['Basic_Demos,Age'] <= 18]"
      ],
      "metadata": {
        "id": "8scSlXqJFsfH"
      },
      "execution_count": 71,
      "outputs": []
    },
    {
      "cell_type": "code",
      "source": [
        "# Choosing the ones with Dyslexia and comorbidities\n",
        "data_filtered.groupby(['Group'])[['Identifiers']].count()"
      ],
      "metadata": {
        "id": "jQgOhENiA79n",
        "outputId": "b81f437e-128d-49a3-bac0-6fb5798ce1df",
        "colab": {
          "base_uri": "https://localhost:8080/",
          "height": 269
        }
      },
      "execution_count": 72,
      "outputs": [
        {
          "output_type": "execute_result",
          "data": {
            "text/plain": [
              "                       Identifiers\n",
              "Group                             \n",
              "All dots                        72\n",
              "Control                        280\n",
              "DD                             105\n",
              "DD with comorbidities          712\n",
              "Dropout                        304\n",
              "Other diagnosis               2048"
            ],
            "text/html": [
              "\n",
              "  <div id=\"df-9d9641d7-7395-49c6-bc1e-305d1bb27fdc\" class=\"colab-df-container\">\n",
              "    <div>\n",
              "<style scoped>\n",
              "    .dataframe tbody tr th:only-of-type {\n",
              "        vertical-align: middle;\n",
              "    }\n",
              "\n",
              "    .dataframe tbody tr th {\n",
              "        vertical-align: top;\n",
              "    }\n",
              "\n",
              "    .dataframe thead th {\n",
              "        text-align: right;\n",
              "    }\n",
              "</style>\n",
              "<table border=\"1\" class=\"dataframe\">\n",
              "  <thead>\n",
              "    <tr style=\"text-align: right;\">\n",
              "      <th></th>\n",
              "      <th>Identifiers</th>\n",
              "    </tr>\n",
              "    <tr>\n",
              "      <th>Group</th>\n",
              "      <th></th>\n",
              "    </tr>\n",
              "  </thead>\n",
              "  <tbody>\n",
              "    <tr>\n",
              "      <th>All dots</th>\n",
              "      <td>72</td>\n",
              "    </tr>\n",
              "    <tr>\n",
              "      <th>Control</th>\n",
              "      <td>280</td>\n",
              "    </tr>\n",
              "    <tr>\n",
              "      <th>DD</th>\n",
              "      <td>105</td>\n",
              "    </tr>\n",
              "    <tr>\n",
              "      <th>DD with comorbidities</th>\n",
              "      <td>712</td>\n",
              "    </tr>\n",
              "    <tr>\n",
              "      <th>Dropout</th>\n",
              "      <td>304</td>\n",
              "    </tr>\n",
              "    <tr>\n",
              "      <th>Other diagnosis</th>\n",
              "      <td>2048</td>\n",
              "    </tr>\n",
              "  </tbody>\n",
              "</table>\n",
              "</div>\n",
              "    <div class=\"colab-df-buttons\">\n",
              "\n",
              "  <div class=\"colab-df-container\">\n",
              "    <button class=\"colab-df-convert\" onclick=\"convertToInteractive('df-9d9641d7-7395-49c6-bc1e-305d1bb27fdc')\"\n",
              "            title=\"Convert this dataframe to an interactive table.\"\n",
              "            style=\"display:none;\">\n",
              "\n",
              "  <svg xmlns=\"http://www.w3.org/2000/svg\" height=\"24px\" viewBox=\"0 -960 960 960\">\n",
              "    <path d=\"M120-120v-720h720v720H120Zm60-500h600v-160H180v160Zm220 220h160v-160H400v160Zm0 220h160v-160H400v160ZM180-400h160v-160H180v160Zm440 0h160v-160H620v160ZM180-180h160v-160H180v160Zm440 0h160v-160H620v160Z\"/>\n",
              "  </svg>\n",
              "    </button>\n",
              "\n",
              "  <style>\n",
              "    .colab-df-container {\n",
              "      display:flex;\n",
              "      gap: 12px;\n",
              "    }\n",
              "\n",
              "    .colab-df-convert {\n",
              "      background-color: #E8F0FE;\n",
              "      border: none;\n",
              "      border-radius: 50%;\n",
              "      cursor: pointer;\n",
              "      display: none;\n",
              "      fill: #1967D2;\n",
              "      height: 32px;\n",
              "      padding: 0 0 0 0;\n",
              "      width: 32px;\n",
              "    }\n",
              "\n",
              "    .colab-df-convert:hover {\n",
              "      background-color: #E2EBFA;\n",
              "      box-shadow: 0px 1px 2px rgba(60, 64, 67, 0.3), 0px 1px 3px 1px rgba(60, 64, 67, 0.15);\n",
              "      fill: #174EA6;\n",
              "    }\n",
              "\n",
              "    .colab-df-buttons div {\n",
              "      margin-bottom: 4px;\n",
              "    }\n",
              "\n",
              "    [theme=dark] .colab-df-convert {\n",
              "      background-color: #3B4455;\n",
              "      fill: #D2E3FC;\n",
              "    }\n",
              "\n",
              "    [theme=dark] .colab-df-convert:hover {\n",
              "      background-color: #434B5C;\n",
              "      box-shadow: 0px 1px 3px 1px rgba(0, 0, 0, 0.15);\n",
              "      filter: drop-shadow(0px 1px 2px rgba(0, 0, 0, 0.3));\n",
              "      fill: #FFFFFF;\n",
              "    }\n",
              "  </style>\n",
              "\n",
              "    <script>\n",
              "      const buttonEl =\n",
              "        document.querySelector('#df-9d9641d7-7395-49c6-bc1e-305d1bb27fdc button.colab-df-convert');\n",
              "      buttonEl.style.display =\n",
              "        google.colab.kernel.accessAllowed ? 'block' : 'none';\n",
              "\n",
              "      async function convertToInteractive(key) {\n",
              "        const element = document.querySelector('#df-9d9641d7-7395-49c6-bc1e-305d1bb27fdc');\n",
              "        const dataTable =\n",
              "          await google.colab.kernel.invokeFunction('convertToInteractive',\n",
              "                                                    [key], {});\n",
              "        if (!dataTable) return;\n",
              "\n",
              "        const docLinkHtml = 'Like what you see? Visit the ' +\n",
              "          '<a target=\"_blank\" href=https://colab.research.google.com/notebooks/data_table.ipynb>data table notebook</a>'\n",
              "          + ' to learn more about interactive tables.';\n",
              "        element.innerHTML = '';\n",
              "        dataTable['output_type'] = 'display_data';\n",
              "        await google.colab.output.renderOutput(dataTable, element);\n",
              "        const docLink = document.createElement('div');\n",
              "        docLink.innerHTML = docLinkHtml;\n",
              "        element.appendChild(docLink);\n",
              "      }\n",
              "    </script>\n",
              "  </div>\n",
              "\n",
              "\n",
              "<div id=\"df-a71b1b53-59a0-489c-92d3-69635196f36e\">\n",
              "  <button class=\"colab-df-quickchart\" onclick=\"quickchart('df-a71b1b53-59a0-489c-92d3-69635196f36e')\"\n",
              "            title=\"Suggest charts\"\n",
              "            style=\"display:none;\">\n",
              "\n",
              "<svg xmlns=\"http://www.w3.org/2000/svg\" height=\"24px\"viewBox=\"0 0 24 24\"\n",
              "     width=\"24px\">\n",
              "    <g>\n",
              "        <path d=\"M19 3H5c-1.1 0-2 .9-2 2v14c0 1.1.9 2 2 2h14c1.1 0 2-.9 2-2V5c0-1.1-.9-2-2-2zM9 17H7v-7h2v7zm4 0h-2V7h2v10zm4 0h-2v-4h2v4z\"/>\n",
              "    </g>\n",
              "</svg>\n",
              "  </button>\n",
              "\n",
              "<style>\n",
              "  .colab-df-quickchart {\n",
              "      --bg-color: #E8F0FE;\n",
              "      --fill-color: #1967D2;\n",
              "      --hover-bg-color: #E2EBFA;\n",
              "      --hover-fill-color: #174EA6;\n",
              "      --disabled-fill-color: #AAA;\n",
              "      --disabled-bg-color: #DDD;\n",
              "  }\n",
              "\n",
              "  [theme=dark] .colab-df-quickchart {\n",
              "      --bg-color: #3B4455;\n",
              "      --fill-color: #D2E3FC;\n",
              "      --hover-bg-color: #434B5C;\n",
              "      --hover-fill-color: #FFFFFF;\n",
              "      --disabled-bg-color: #3B4455;\n",
              "      --disabled-fill-color: #666;\n",
              "  }\n",
              "\n",
              "  .colab-df-quickchart {\n",
              "    background-color: var(--bg-color);\n",
              "    border: none;\n",
              "    border-radius: 50%;\n",
              "    cursor: pointer;\n",
              "    display: none;\n",
              "    fill: var(--fill-color);\n",
              "    height: 32px;\n",
              "    padding: 0;\n",
              "    width: 32px;\n",
              "  }\n",
              "\n",
              "  .colab-df-quickchart:hover {\n",
              "    background-color: var(--hover-bg-color);\n",
              "    box-shadow: 0 1px 2px rgba(60, 64, 67, 0.3), 0 1px 3px 1px rgba(60, 64, 67, 0.15);\n",
              "    fill: var(--button-hover-fill-color);\n",
              "  }\n",
              "\n",
              "  .colab-df-quickchart-complete:disabled,\n",
              "  .colab-df-quickchart-complete:disabled:hover {\n",
              "    background-color: var(--disabled-bg-color);\n",
              "    fill: var(--disabled-fill-color);\n",
              "    box-shadow: none;\n",
              "  }\n",
              "\n",
              "  .colab-df-spinner {\n",
              "    border: 2px solid var(--fill-color);\n",
              "    border-color: transparent;\n",
              "    border-bottom-color: var(--fill-color);\n",
              "    animation:\n",
              "      spin 1s steps(1) infinite;\n",
              "  }\n",
              "\n",
              "  @keyframes spin {\n",
              "    0% {\n",
              "      border-color: transparent;\n",
              "      border-bottom-color: var(--fill-color);\n",
              "      border-left-color: var(--fill-color);\n",
              "    }\n",
              "    20% {\n",
              "      border-color: transparent;\n",
              "      border-left-color: var(--fill-color);\n",
              "      border-top-color: var(--fill-color);\n",
              "    }\n",
              "    30% {\n",
              "      border-color: transparent;\n",
              "      border-left-color: var(--fill-color);\n",
              "      border-top-color: var(--fill-color);\n",
              "      border-right-color: var(--fill-color);\n",
              "    }\n",
              "    40% {\n",
              "      border-color: transparent;\n",
              "      border-right-color: var(--fill-color);\n",
              "      border-top-color: var(--fill-color);\n",
              "    }\n",
              "    60% {\n",
              "      border-color: transparent;\n",
              "      border-right-color: var(--fill-color);\n",
              "    }\n",
              "    80% {\n",
              "      border-color: transparent;\n",
              "      border-right-color: var(--fill-color);\n",
              "      border-bottom-color: var(--fill-color);\n",
              "    }\n",
              "    90% {\n",
              "      border-color: transparent;\n",
              "      border-bottom-color: var(--fill-color);\n",
              "    }\n",
              "  }\n",
              "</style>\n",
              "\n",
              "  <script>\n",
              "    async function quickchart(key) {\n",
              "      const quickchartButtonEl =\n",
              "        document.querySelector('#' + key + ' button');\n",
              "      quickchartButtonEl.disabled = true;  // To prevent multiple clicks.\n",
              "      quickchartButtonEl.classList.add('colab-df-spinner');\n",
              "      try {\n",
              "        const charts = await google.colab.kernel.invokeFunction(\n",
              "            'suggestCharts', [key], {});\n",
              "      } catch (error) {\n",
              "        console.error('Error during call to suggestCharts:', error);\n",
              "      }\n",
              "      quickchartButtonEl.classList.remove('colab-df-spinner');\n",
              "      quickchartButtonEl.classList.add('colab-df-quickchart-complete');\n",
              "    }\n",
              "    (() => {\n",
              "      let quickchartButtonEl =\n",
              "        document.querySelector('#df-a71b1b53-59a0-489c-92d3-69635196f36e button');\n",
              "      quickchartButtonEl.style.display =\n",
              "        google.colab.kernel.accessAllowed ? 'block' : 'none';\n",
              "    })();\n",
              "  </script>\n",
              "</div>\n",
              "\n",
              "    </div>\n",
              "  </div>\n"
            ],
            "application/vnd.google.colaboratory.intrinsic+json": {
              "type": "dataframe",
              "summary": "{\n  \"name\": \"data_filtered\",\n  \"rows\": 6,\n  \"fields\": [\n    {\n      \"column\": \"Group\",\n      \"properties\": {\n        \"dtype\": \"string\",\n        \"num_unique_values\": 6,\n        \"samples\": [\n          \"All dots\",\n          \"Control\",\n          \"Other diagnosis\"\n        ],\n        \"semantic_type\": \"\",\n        \"description\": \"\"\n      }\n    },\n    {\n      \"column\": \"Identifiers\",\n      \"properties\": {\n        \"dtype\": \"number\",\n        \"std\": 751,\n        \"min\": 72,\n        \"max\": 2048,\n        \"num_unique_values\": 6,\n        \"samples\": [\n          72,\n          280,\n          2048\n        ],\n        \"semantic_type\": \"\",\n        \"description\": \"\"\n      }\n    }\n  ]\n}"
            }
          },
          "metadata": {},
          "execution_count": 72
        }
      ]
    },
    {
      "cell_type": "code",
      "source": [
        "# Choosing the ones with Dyslexia and comorbidities\n",
        "data_filtered = data_filtered[data_filtered['Group'].isin(['Control', 'DD', 'DD with comorbidities'])]\n",
        "print('Participants with dyslexia: ', data_filtered[data_filtered['Group'] == 'DD'].shape[0])\n",
        "print('Participants with dyslexia with comorbidities: ', data_filtered[data_filtered['Group'] == 'DD with comorbidities'].shape[0])\n",
        "print('Controls: ', data_filtered[data_filtered['Group'] == 'Control'].shape[0])"
      ],
      "metadata": {
        "id": "4BAGfT6HFNhe",
        "outputId": "1bcb2ec4-7584-446e-94e0-c1895e851e2c",
        "colab": {
          "base_uri": "https://localhost:8080/"
        }
      },
      "execution_count": 73,
      "outputs": [
        {
          "output_type": "stream",
          "name": "stdout",
          "text": [
            "Participants with dyslexia:  105\n",
            "Participants with dyslexia with comorbidities:  712\n",
            "Controls:  280\n"
          ]
        }
      ]
    },
    {
      "cell_type": "code",
      "source": [
        "# Excluding people with intellectual disabilities and autism\n",
        "print(data_filtered[data_filtered['Intellectual_Disability'] == 1].shape[0])\n",
        "data_filtered = data_filtered[~data_filtered['Intellectual_Disability'].isin([1, 2])]"
      ],
      "metadata": {
        "id": "199IqIdMGOBM",
        "outputId": "a50e5465-e623-40dc-eb8e-8b538c7363ea",
        "colab": {
          "base_uri": "https://localhost:8080/"
        }
      },
      "execution_count": 74,
      "outputs": [
        {
          "output_type": "stream",
          "name": "stdout",
          "text": [
            "92\n"
          ]
        }
      ]
    },
    {
      "cell_type": "code",
      "source": [
        "# DD types\n",
        "# we are excluding pure math and writing, and combination of these two\n",
        "print('DD Math type: ', data_filtered[data_filtered['DD'] == 'Math'].shape[0])\n",
        "print('DD Writing type: ', data_filtered[data_filtered['DD'] == 'Writing'].shape[0])\n",
        "print('DD Math+Writing type: ', data_filtered[data_filtered['DD'] == 'Math Writing '].shape[0])\n",
        "\n",
        "data_filtered = data_filtered[data_filtered['DD'] != 'Math']\n",
        "data_filtered = data_filtered[data_filtered['DD'] != 'Writing']\n",
        "data_filtered = data_filtered[data_filtered['DD'] != 'Math Writing ']"
      ],
      "metadata": {
        "id": "1V7idvA4G4MZ",
        "outputId": "fa754569-78dd-424b-c52c-3e5bb35331b4",
        "colab": {
          "base_uri": "https://localhost:8080/"
        }
      },
      "execution_count": 75,
      "outputs": [
        {
          "output_type": "stream",
          "name": "stdout",
          "text": [
            "DD Math type:  105\n",
            "DD Writing type:  64\n",
            "DD Math+Writing type:  12\n"
          ]
        }
      ]
    },
    {
      "cell_type": "code",
      "source": [
        "# Medications\n",
        "print('People taking medications: ', data_filtered[data_filtered['DailyMeds,medications'] == 1].shape[0])\n",
        "data_filtered[data_filtered['DailyMeds,medications'] == 1][['Identifiers', 'DailyMeds,med_name_01',\n",
        "       'DailyMeds,med_name_02', 'DailyMeds,med_name_03',\n",
        "       'DailyMeds,med_type_01', 'DailyMeds,med_type_02',\n",
        "       'DailyMeds,med_type_03']]\n",
        "# NDARAA075AMK Zyrteck QVAR - antihistamine 2nd generation, less drowsiness; corticosteroid for asthma\n",
        "# NDARDJ825GBP Zyrtec - see above\n",
        "# NDAREM155HGQ OUT vyvanse propranolol - ADHD-stimulant; high blood pressure drug\n",
        "# NDARFG114VB1 OUT vyvanse - see above\n",
        "# NDARFN452VPC Flovent Alegra - corticosteroid for asthma; antihistamine 2nd generation\n",
        "# NDARFW292PBD Montelukast - asthma and allergy drug\n",
        "# NDARHN131ZP6 Zantac - ulcers, stomach issues\n",
        "# NDARJG821GH3 OUT diphacalydramine - antihistamine, 1st generation, sedation and drowsiness\n",
        "# NDARJW315BUA synthroid - thyroid drug\n",
        "# NDARKH837TB2 Claritin Flonase Ketotifen Fuarate Eyedrops - 2nd generation antihistamine; nasal corticosteroid; allergic symptoms\n",
        "# NDARLN658KCD Folin - folate deficiency drug\n",
        "# NDARMT784NED Claritin - see above\n",
        "# NDARNZ615UEU OUT guanfacine Robitussin Multivitamin, probiotic - anti-stimulant ADHD and hypertension; chest congestion\n",
        "# NDARPC817XZ5 Sudafed- decongestant to releave nasal and sinus congestion\n",
        "# NDARRG415BJM Singulair - asthma drug\n",
        "# NDARRW940BL6 Flovent - see above\n",
        "# NDARTH610GMK Zyrtek Ibuprofen - see above; anti-flammatory\n",
        "# NDARTN158LRF Zyrtek - see above\n",
        "# NDARUL224GN6 OUT Lamictal - antoconvulsant medication for epilepsy and bipolar disorder\n",
        "# NDARVP281CJ4 OUT Benadryl Albuteroc - 1st generation antihistamine; bronchodilator\n",
        "# NDARVX850JU5 OUT depakote - anticonvulsunt and mood stabilizer to treat epilepsy and bipolar disorder\n",
        "# NDARXK462WRZ Flovent - see above\n",
        "# NDARXR965TFK Motrin - non-steroid anti-inflammatory drug\n",
        "# NDARZL724HAX OUT Focalin - stimulant medication for ADHD\n",
        "\n",
        "data_filtered = data_filtered[~data_filtered['Identifiers'].isin(\n",
        "    ['NDAREM155HGQ', 'NDARFG114VB1', 'NDARJG821GH3',\n",
        "     'NDARNZ615UEU', 'NDARUL224GN6', 'NDARVP281CJ4', 'NDARVX850JU5', 'NDARZL724HAX'])]"
      ],
      "metadata": {
        "id": "Gv8tB4PThNZX",
        "outputId": "1a2d1864-e4dd-454c-ca2c-c93555368d25",
        "colab": {
          "base_uri": "https://localhost:8080/"
        }
      },
      "execution_count": 76,
      "outputs": [
        {
          "output_type": "stream",
          "name": "stdout",
          "text": [
            "People taking medications:  23\n"
          ]
        }
      ]
    },
    {
      "cell_type": "code",
      "source": [
        "# Drug Screen\n",
        "drugscreens = ['DrugScreen,AMP500', 'DrugScreen,BAR300', 'DrugScreen,BUP10',\n",
        "       'DrugScreen,BZO300', 'DrugScreen,COC150', 'DrugScreen,MAMP500',\n",
        "       'DrugScreen,MDMA500', 'DrugScreen,MTD300', 'DrugScreen,OPI300',\n",
        "       'DrugScreen,OXY100', 'DrugScreen,PCP25', 'DrugScreen,PPX300',\n",
        "       'DrugScreen,TCA1000', 'DrugScreen,THC50', 'DrugScreen,perscribed']\n",
        "for drug in drugscreens:\n",
        "  if data_filtered[data_filtered[drug] == '1'].shape[0] != 0:\n",
        "    print('Name of the screen: ', drug, 'Number of subjects with positive test: ', data_filtered[data_filtered[drug] == '1'].shape[0])\n",
        "data_filtered = data_filtered[data_filtered['DrugScreen,AMP500'] != '1']\n",
        "data_filtered = data_filtered[data_filtered['DrugScreen,TCA1000'] != '1']\n",
        "data_filtered = data_filtered[data_filtered['DrugScreen,THC50'] != '1']"
      ],
      "metadata": {
        "id": "jhOO_WVfoatX",
        "outputId": "1ee29590-88b0-4ca7-b572-613b0c4d6d54",
        "colab": {
          "base_uri": "https://localhost:8080/"
        }
      },
      "execution_count": 77,
      "outputs": [
        {
          "output_type": "stream",
          "name": "stdout",
          "text": [
            "Name of the screen:  DrugScreen,AMP500 Number of subjects with positive test:  5\n",
            "Name of the screen:  DrugScreen,TCA1000 Number of subjects with positive test:  1\n",
            "Name of the screen:  DrugScreen,THC50 Number of subjects with positive test:  5\n",
            "Name of the screen:  DrugScreen,perscribed Number of subjects with positive test:  4\n"
          ]
        }
      ]
    },
    {
      "cell_type": "code",
      "source": [
        "# IQ > 70\n",
        "print('No IQ done: ', data_filtered[data_filtered['IQ_test'] == 'No IQ'].shape[0])\n",
        "data_filtered = data_filtered[data_filtered['IQ_test'] != 'No IQ']\n",
        "\n",
        "print('IQ < 70: ', data_filtered[data_filtered['IQ'] < 70].shape[0])\n",
        "data_filtered = data_filtered[data_filtered['IQ'] >= 70]"
      ],
      "metadata": {
        "id": "DynVuGGdpJPn",
        "outputId": "837b7489-4f77-4f8e-e77e-9d29aee9a90e",
        "colab": {
          "base_uri": "https://localhost:8080/"
        }
      },
      "execution_count": 78,
      "outputs": [
        {
          "output_type": "stream",
          "name": "stdout",
          "text": [
            "No IQ done:  7\n",
            "IQ < 70:  9\n"
          ]
        }
      ]
    },
    {
      "cell_type": "code",
      "source": [
        "# PreInt Language\n",
        "data_filtered[data_filtered['PreInt_Lang,Child_Primary_Lang'] != '.'].groupby(['PreInt_Lang,Child_Primary_Lang'])['Identifiers'].count()"
      ],
      "metadata": {
        "id": "IODUmetopZwO",
        "colab": {
          "base_uri": "https://localhost:8080/",
          "height": 272
        },
        "outputId": "c2186ccb-fdab-4492-d294-f397115758bf"
      },
      "execution_count": 79,
      "outputs": [
        {
          "output_type": "execute_result",
          "data": {
            "text/plain": [
              "PreInt_Lang,Child_Primary_Lang\n",
              "English       502\n",
              "English         6\n",
              "Italian         1\n",
              "Portuguese      1\n",
              "Spanish         3\n",
              "Name: Identifiers, dtype: int64"
            ],
            "text/html": [
              "<div>\n",
              "<style scoped>\n",
              "    .dataframe tbody tr th:only-of-type {\n",
              "        vertical-align: middle;\n",
              "    }\n",
              "\n",
              "    .dataframe tbody tr th {\n",
              "        vertical-align: top;\n",
              "    }\n",
              "\n",
              "    .dataframe thead th {\n",
              "        text-align: right;\n",
              "    }\n",
              "</style>\n",
              "<table border=\"1\" class=\"dataframe\">\n",
              "  <thead>\n",
              "    <tr style=\"text-align: right;\">\n",
              "      <th></th>\n",
              "      <th>Identifiers</th>\n",
              "    </tr>\n",
              "    <tr>\n",
              "      <th>PreInt_Lang,Child_Primary_Lang</th>\n",
              "      <th></th>\n",
              "    </tr>\n",
              "  </thead>\n",
              "  <tbody>\n",
              "    <tr>\n",
              "      <th>English</th>\n",
              "      <td>502</td>\n",
              "    </tr>\n",
              "    <tr>\n",
              "      <th>English</th>\n",
              "      <td>6</td>\n",
              "    </tr>\n",
              "    <tr>\n",
              "      <th>Italian</th>\n",
              "      <td>1</td>\n",
              "    </tr>\n",
              "    <tr>\n",
              "      <th>Portuguese</th>\n",
              "      <td>1</td>\n",
              "    </tr>\n",
              "    <tr>\n",
              "      <th>Spanish</th>\n",
              "      <td>3</td>\n",
              "    </tr>\n",
              "  </tbody>\n",
              "</table>\n",
              "</div><br><label><b>dtype:</b> int64</label>"
            ]
          },
          "metadata": {},
          "execution_count": 79
        }
      ]
    },
    {
      "cell_type": "code",
      "source": [
        "# if we decide to delete non-native speakers of english then\n",
        "data_filtered = data_filtered[data_filtered['PreInt_Lang,Child_Primary_Lang'] != 'Spanish']\n",
        "data_filtered = data_filtered[data_filtered['PreInt_Lang,Child_Primary_Lang'] != 'Portuguese']\n",
        "data_filtered = data_filtered[data_filtered['PreInt_Lang,Child_Primary_Lang'] != 'Italian']"
      ],
      "metadata": {
        "id": "PXvkRUmYUuqy"
      },
      "execution_count": 80,
      "outputs": []
    },
    {
      "cell_type": "code",
      "source": [
        "# Initialize diagnosis statuses\n",
        "diagnosis_statuses = defaultdict(list)\n",
        "valid_identifiers = set(data_filtered['Identifiers'].values)\n",
        "\n",
        "# Loop through each record and filter based on valid identifiers\n",
        "for record in certainty_records:\n",
        "    if record['ID'] in valid_identifiers:\n",
        "        # Check if the diagnosis includes 'Impairment in Reading'\n",
        "        if 'Impairment in Reading' in record['diagnosis']:\n",
        "            # Add the certainty status for the ID and diagnosis\n",
        "            diagnosis_statuses[record['ID']].append(record['certainty'][0])  # Store the first element of the certainty list\n",
        "\n",
        "# Initialize counters and lists for identifiers with \"Ruleout\"\n",
        "single_status_count = 0\n",
        "single_status_distribution = defaultdict(int)\n",
        "multiple_status_distribution = defaultdict(int)\n",
        "ruleout_identifiers_v1 = set()  # Use a set to avoid duplicates\n",
        "ruleout_identifiers_v2 = set()  # Use a set to avoid duplicates\n",
        "\n",
        "# Analyze the collected statuses\n",
        "for id_, statuses in diagnosis_statuses.items():\n",
        "    unique_statuses = set(statuses)  # Get unique statuses\n",
        "\n",
        "    if len(unique_statuses) == 1:\n",
        "        single_status_count += 1  # Count cases with only one status\n",
        "        for status in unique_statuses:\n",
        "            single_status_distribution[status] += 1  # Count each specific single status\n",
        "            # Check if the single status is \"Ruleout\"\n",
        "            if status == \"Ruleout\":\n",
        "                ruleout_identifiers_v1.add(id_)  # Add the ID to v1\n",
        "                ruleout_identifiers_v2.add(id_)  # Add to v2 since it's strictly \"Ruleout\"\n",
        "    else:\n",
        "        # Create combinations of all unique statuses\n",
        "        for r in range(2, len(unique_statuses) + 1):  # Start from 2 up to the number of unique statuses\n",
        "            for comb in combinations(unique_statuses, r):\n",
        "                multiple_status_distribution[' + '.join(comb)] += 1  # Count the combination\n",
        "                # Check if \"Ruleout\" is in the combination\n",
        "                if \"Ruleout\" in comb:\n",
        "                    ruleout_identifiers_v1.add(id_)  # Add the ID to v1\n",
        "                    # Check for combinations including 'Ruleout' and 'No information'\n",
        "                    if \"No information\" in comb:\n",
        "                        ruleout_identifiers_v2.add(id_)  # Add the ID to v2 only if 'No information' is present\n",
        "\n",
        "# Print the statistics\n",
        "print(\"Statistics for SLD with Impairment in Reading (filtered by identifiers):\")\n",
        "print(f\"Number of cases with only one certainty status: {single_status_count}\")\n",
        "\n",
        "# Breakdown of single status distribution\n",
        "print(\"Out of this:\")\n",
        "for status, count in single_status_distribution.items():\n",
        "    print(f\" - {status}: {count}\")\n",
        "\n",
        "# Print the breakdown of multiple status combinations\n",
        "print('')\n",
        "print(\"Breakdown of statuses for multiple cases:\")\n",
        "for status_combination, count in multiple_status_distribution.items():\n",
        "    print(f\" - {status_combination}: {count} case(s)\")\n",
        "\n",
        "# Print the identifiers with \"Ruleout\" statuses\n",
        "print('')\n",
        "print(\"The number of Identifiers with 'Ruleout' status (v1):\")\n",
        "print(len(ruleout_identifiers_v1))\n",
        "print(\"The number of Identifiers with 'Ruleout' and 'No information' (v2):\")\n",
        "print(len(ruleout_identifiers_v2))\n"
      ],
      "metadata": {
        "colab": {
          "base_uri": "https://localhost:8080/"
        },
        "id": "0bY5b2oJZ1Xa",
        "outputId": "96f6d386-2540-4afb-aa2f-75e72dd72163"
      },
      "execution_count": 82,
      "outputs": [
        {
          "output_type": "stream",
          "name": "stdout",
          "text": [
            "Statistics for SLD with Impairment in Reading (filtered by identifiers):\n",
            "Number of cases with only one certainty status: 411\n",
            "Out of this:\n",
            " - Confirmed: 184\n",
            " - Presumptive: 32\n",
            " - Ruleout: 109\n",
            " - Requires Confirmation: 21\n",
            " - No information: 65\n",
            "\n",
            "Breakdown of statuses for multiple cases:\n",
            " - Requires Confirmation + Confirmed: 4 case(s)\n",
            " - Ruleout + Confirmed: 41 case(s)\n",
            " - Presumptive + Confirmed: 18 case(s)\n",
            " - No information + Confirmed: 25 case(s)\n",
            " - Ruleout + Presumptive: 9 case(s)\n",
            " - No information + Ruleout: 4 case(s)\n",
            " - No information + Requires Confirmation: 8 case(s)\n",
            " - Presumptive + Ruleout: 3 case(s)\n",
            " - Presumptive + Ruleout + Confirmed: 3 case(s)\n",
            " - Requires Confirmation + Ruleout: 4 case(s)\n",
            " - No information + Requires Confirmation + Confirmed: 1 case(s)\n",
            " - Requires Confirmation + Presumptive: 1 case(s)\n",
            " - Requires Confirmation + Ruleout + Presumptive: 1 case(s)\n",
            " - No information + Ruleout + Confirmed: 1 case(s)\n",
            "\n",
            "The number of Identifiers with 'Ruleout' status (v1):\n",
            "165\n",
            "The number of Identifiers with 'Ruleout' and 'No information' (v2):\n",
            "113\n"
          ]
        }
      ]
    },
    {
      "cell_type": "code",
      "source": [
        "# Working on Certainty\n",
        "df_cleaned_v1 = data_filtered[~data_filtered['Identifiers'].isin(ruleout_identifiers_v1)]\n",
        "df_cleaned_v2 = data_filtered[~data_filtered['Identifiers'].isin(ruleout_identifiers_v2)]"
      ],
      "metadata": {
        "id": "8PUQ3AgGU02R"
      },
      "execution_count": 83,
      "outputs": []
    },
    {
      "cell_type": "code",
      "source": [
        "print(df_cleaned_v1[df_cleaned_v1['Group'] != 'Control'].shape)\n",
        "print(df_cleaned_v2[df_cleaned_v2['Group'] != 'Control'].shape)\n",
        "# choose one"
      ],
      "metadata": {
        "colab": {
          "base_uri": "https://localhost:8080/"
        },
        "id": "b805OLc9VasM",
        "outputId": "cfdd8965-8037-472b-b1d1-f6ae16037546"
      },
      "execution_count": 84,
      "outputs": [
        {
          "output_type": "stream",
          "name": "stdout",
          "text": [
            "(351, 804)\n",
            "(403, 804)\n"
          ]
        }
      ]
    },
    {
      "cell_type": "code",
      "source": [
        "final_data = df_cleaned_v1.copy()"
      ],
      "metadata": {
        "id": "7xHm6KAGuAYW"
      },
      "execution_count": 85,
      "outputs": []
    },
    {
      "cell_type": "markdown",
      "source": [
        "# Characteristics of the ready dataset"
      ],
      "metadata": {
        "id": "6FVNklI1tBUP"
      }
    },
    {
      "cell_type": "code",
      "source": [
        "print('Full dataset')\n",
        "print('Controls: ', final_data[final_data['Group'] == 'Control'].shape[0])\n",
        "print('DD without comorbidities: ', final_data[final_data['Group'] == 'DD'].shape[0])\n",
        "print('DD with comorbidities', final_data[final_data['Group'] == 'DD with comorbidities'].shape[0])"
      ],
      "metadata": {
        "id": "S-ZOMySlUyJL",
        "outputId": "0623cb72-54a0-41c9-c8d7-df545f5dc025",
        "colab": {
          "base_uri": "https://localhost:8080/"
        }
      },
      "execution_count": 86,
      "outputs": [
        {
          "output_type": "stream",
          "name": "stdout",
          "text": [
            "Full dataset\n",
            "Controls:  268\n",
            "DD without comorbidities:  63\n",
            "DD with comorbidities 288\n"
          ]
        }
      ]
    },
    {
      "cell_type": "code",
      "source": [
        "# ADHD statistics\n",
        "# People who have ADHD\n",
        "final_data.groupby(['ADHD'])[['Identifiers']].count()\n",
        "print('DD with comorbid ADHD: ', final_data[final_data['ADHD'].isin([1, 2])].shape[0], ' out of ',\n",
        "      final_data[final_data['Group'] != 'Control'].shape[0])"
      ],
      "metadata": {
        "id": "sBo37GZRGaoP",
        "outputId": "1bcb5a7b-6daf-48ba-bcc6-0d2465fae71f",
        "colab": {
          "base_uri": "https://localhost:8080/"
        }
      },
      "execution_count": 87,
      "outputs": [
        {
          "output_type": "stream",
          "name": "stdout",
          "text": [
            "DD with comorbid ADHD:  204  out of  351\n"
          ]
        }
      ]
    },
    {
      "cell_type": "code",
      "source": [
        "# Types of DD stats\n",
        "final_data[final_data['Group'] != 'Control'].groupby(['DD'])[['Identifiers']].count()"
      ],
      "metadata": {
        "id": "9z3GH4VTVTma",
        "outputId": "7a7df617-b5e0-4d43-d7f8-5bf7fa36c3f6",
        "colab": {
          "base_uri": "https://localhost:8080/",
          "height": 206
        }
      },
      "execution_count": 88,
      "outputs": [
        {
          "output_type": "execute_result",
          "data": {
            "text/plain": [
              "                       Identifiers\n",
              "DD                                \n",
              "Math Reading                    42\n",
              "Math Reading Writing            22\n",
              "Reading                        269\n",
              "Reading Writing                 18"
            ],
            "text/html": [
              "\n",
              "  <div id=\"df-f82ba1b4-10ac-46d8-8c07-a9d552881348\" class=\"colab-df-container\">\n",
              "    <div>\n",
              "<style scoped>\n",
              "    .dataframe tbody tr th:only-of-type {\n",
              "        vertical-align: middle;\n",
              "    }\n",
              "\n",
              "    .dataframe tbody tr th {\n",
              "        vertical-align: top;\n",
              "    }\n",
              "\n",
              "    .dataframe thead th {\n",
              "        text-align: right;\n",
              "    }\n",
              "</style>\n",
              "<table border=\"1\" class=\"dataframe\">\n",
              "  <thead>\n",
              "    <tr style=\"text-align: right;\">\n",
              "      <th></th>\n",
              "      <th>Identifiers</th>\n",
              "    </tr>\n",
              "    <tr>\n",
              "      <th>DD</th>\n",
              "      <th></th>\n",
              "    </tr>\n",
              "  </thead>\n",
              "  <tbody>\n",
              "    <tr>\n",
              "      <th>Math Reading</th>\n",
              "      <td>42</td>\n",
              "    </tr>\n",
              "    <tr>\n",
              "      <th>Math Reading Writing</th>\n",
              "      <td>22</td>\n",
              "    </tr>\n",
              "    <tr>\n",
              "      <th>Reading</th>\n",
              "      <td>269</td>\n",
              "    </tr>\n",
              "    <tr>\n",
              "      <th>Reading Writing</th>\n",
              "      <td>18</td>\n",
              "    </tr>\n",
              "  </tbody>\n",
              "</table>\n",
              "</div>\n",
              "    <div class=\"colab-df-buttons\">\n",
              "\n",
              "  <div class=\"colab-df-container\">\n",
              "    <button class=\"colab-df-convert\" onclick=\"convertToInteractive('df-f82ba1b4-10ac-46d8-8c07-a9d552881348')\"\n",
              "            title=\"Convert this dataframe to an interactive table.\"\n",
              "            style=\"display:none;\">\n",
              "\n",
              "  <svg xmlns=\"http://www.w3.org/2000/svg\" height=\"24px\" viewBox=\"0 -960 960 960\">\n",
              "    <path d=\"M120-120v-720h720v720H120Zm60-500h600v-160H180v160Zm220 220h160v-160H400v160Zm0 220h160v-160H400v160ZM180-400h160v-160H180v160Zm440 0h160v-160H620v160ZM180-180h160v-160H180v160Zm440 0h160v-160H620v160Z\"/>\n",
              "  </svg>\n",
              "    </button>\n",
              "\n",
              "  <style>\n",
              "    .colab-df-container {\n",
              "      display:flex;\n",
              "      gap: 12px;\n",
              "    }\n",
              "\n",
              "    .colab-df-convert {\n",
              "      background-color: #E8F0FE;\n",
              "      border: none;\n",
              "      border-radius: 50%;\n",
              "      cursor: pointer;\n",
              "      display: none;\n",
              "      fill: #1967D2;\n",
              "      height: 32px;\n",
              "      padding: 0 0 0 0;\n",
              "      width: 32px;\n",
              "    }\n",
              "\n",
              "    .colab-df-convert:hover {\n",
              "      background-color: #E2EBFA;\n",
              "      box-shadow: 0px 1px 2px rgba(60, 64, 67, 0.3), 0px 1px 3px 1px rgba(60, 64, 67, 0.15);\n",
              "      fill: #174EA6;\n",
              "    }\n",
              "\n",
              "    .colab-df-buttons div {\n",
              "      margin-bottom: 4px;\n",
              "    }\n",
              "\n",
              "    [theme=dark] .colab-df-convert {\n",
              "      background-color: #3B4455;\n",
              "      fill: #D2E3FC;\n",
              "    }\n",
              "\n",
              "    [theme=dark] .colab-df-convert:hover {\n",
              "      background-color: #434B5C;\n",
              "      box-shadow: 0px 1px 3px 1px rgba(0, 0, 0, 0.15);\n",
              "      filter: drop-shadow(0px 1px 2px rgba(0, 0, 0, 0.3));\n",
              "      fill: #FFFFFF;\n",
              "    }\n",
              "  </style>\n",
              "\n",
              "    <script>\n",
              "      const buttonEl =\n",
              "        document.querySelector('#df-f82ba1b4-10ac-46d8-8c07-a9d552881348 button.colab-df-convert');\n",
              "      buttonEl.style.display =\n",
              "        google.colab.kernel.accessAllowed ? 'block' : 'none';\n",
              "\n",
              "      async function convertToInteractive(key) {\n",
              "        const element = document.querySelector('#df-f82ba1b4-10ac-46d8-8c07-a9d552881348');\n",
              "        const dataTable =\n",
              "          await google.colab.kernel.invokeFunction('convertToInteractive',\n",
              "                                                    [key], {});\n",
              "        if (!dataTable) return;\n",
              "\n",
              "        const docLinkHtml = 'Like what you see? Visit the ' +\n",
              "          '<a target=\"_blank\" href=https://colab.research.google.com/notebooks/data_table.ipynb>data table notebook</a>'\n",
              "          + ' to learn more about interactive tables.';\n",
              "        element.innerHTML = '';\n",
              "        dataTable['output_type'] = 'display_data';\n",
              "        await google.colab.output.renderOutput(dataTable, element);\n",
              "        const docLink = document.createElement('div');\n",
              "        docLink.innerHTML = docLinkHtml;\n",
              "        element.appendChild(docLink);\n",
              "      }\n",
              "    </script>\n",
              "  </div>\n",
              "\n",
              "\n",
              "<div id=\"df-1a096921-8e79-46bf-9d37-c8e21e6f4473\">\n",
              "  <button class=\"colab-df-quickchart\" onclick=\"quickchart('df-1a096921-8e79-46bf-9d37-c8e21e6f4473')\"\n",
              "            title=\"Suggest charts\"\n",
              "            style=\"display:none;\">\n",
              "\n",
              "<svg xmlns=\"http://www.w3.org/2000/svg\" height=\"24px\"viewBox=\"0 0 24 24\"\n",
              "     width=\"24px\">\n",
              "    <g>\n",
              "        <path d=\"M19 3H5c-1.1 0-2 .9-2 2v14c0 1.1.9 2 2 2h14c1.1 0 2-.9 2-2V5c0-1.1-.9-2-2-2zM9 17H7v-7h2v7zm4 0h-2V7h2v10zm4 0h-2v-4h2v4z\"/>\n",
              "    </g>\n",
              "</svg>\n",
              "  </button>\n",
              "\n",
              "<style>\n",
              "  .colab-df-quickchart {\n",
              "      --bg-color: #E8F0FE;\n",
              "      --fill-color: #1967D2;\n",
              "      --hover-bg-color: #E2EBFA;\n",
              "      --hover-fill-color: #174EA6;\n",
              "      --disabled-fill-color: #AAA;\n",
              "      --disabled-bg-color: #DDD;\n",
              "  }\n",
              "\n",
              "  [theme=dark] .colab-df-quickchart {\n",
              "      --bg-color: #3B4455;\n",
              "      --fill-color: #D2E3FC;\n",
              "      --hover-bg-color: #434B5C;\n",
              "      --hover-fill-color: #FFFFFF;\n",
              "      --disabled-bg-color: #3B4455;\n",
              "      --disabled-fill-color: #666;\n",
              "  }\n",
              "\n",
              "  .colab-df-quickchart {\n",
              "    background-color: var(--bg-color);\n",
              "    border: none;\n",
              "    border-radius: 50%;\n",
              "    cursor: pointer;\n",
              "    display: none;\n",
              "    fill: var(--fill-color);\n",
              "    height: 32px;\n",
              "    padding: 0;\n",
              "    width: 32px;\n",
              "  }\n",
              "\n",
              "  .colab-df-quickchart:hover {\n",
              "    background-color: var(--hover-bg-color);\n",
              "    box-shadow: 0 1px 2px rgba(60, 64, 67, 0.3), 0 1px 3px 1px rgba(60, 64, 67, 0.15);\n",
              "    fill: var(--button-hover-fill-color);\n",
              "  }\n",
              "\n",
              "  .colab-df-quickchart-complete:disabled,\n",
              "  .colab-df-quickchart-complete:disabled:hover {\n",
              "    background-color: var(--disabled-bg-color);\n",
              "    fill: var(--disabled-fill-color);\n",
              "    box-shadow: none;\n",
              "  }\n",
              "\n",
              "  .colab-df-spinner {\n",
              "    border: 2px solid var(--fill-color);\n",
              "    border-color: transparent;\n",
              "    border-bottom-color: var(--fill-color);\n",
              "    animation:\n",
              "      spin 1s steps(1) infinite;\n",
              "  }\n",
              "\n",
              "  @keyframes spin {\n",
              "    0% {\n",
              "      border-color: transparent;\n",
              "      border-bottom-color: var(--fill-color);\n",
              "      border-left-color: var(--fill-color);\n",
              "    }\n",
              "    20% {\n",
              "      border-color: transparent;\n",
              "      border-left-color: var(--fill-color);\n",
              "      border-top-color: var(--fill-color);\n",
              "    }\n",
              "    30% {\n",
              "      border-color: transparent;\n",
              "      border-left-color: var(--fill-color);\n",
              "      border-top-color: var(--fill-color);\n",
              "      border-right-color: var(--fill-color);\n",
              "    }\n",
              "    40% {\n",
              "      border-color: transparent;\n",
              "      border-right-color: var(--fill-color);\n",
              "      border-top-color: var(--fill-color);\n",
              "    }\n",
              "    60% {\n",
              "      border-color: transparent;\n",
              "      border-right-color: var(--fill-color);\n",
              "    }\n",
              "    80% {\n",
              "      border-color: transparent;\n",
              "      border-right-color: var(--fill-color);\n",
              "      border-bottom-color: var(--fill-color);\n",
              "    }\n",
              "    90% {\n",
              "      border-color: transparent;\n",
              "      border-bottom-color: var(--fill-color);\n",
              "    }\n",
              "  }\n",
              "</style>\n",
              "\n",
              "  <script>\n",
              "    async function quickchart(key) {\n",
              "      const quickchartButtonEl =\n",
              "        document.querySelector('#' + key + ' button');\n",
              "      quickchartButtonEl.disabled = true;  // To prevent multiple clicks.\n",
              "      quickchartButtonEl.classList.add('colab-df-spinner');\n",
              "      try {\n",
              "        const charts = await google.colab.kernel.invokeFunction(\n",
              "            'suggestCharts', [key], {});\n",
              "      } catch (error) {\n",
              "        console.error('Error during call to suggestCharts:', error);\n",
              "      }\n",
              "      quickchartButtonEl.classList.remove('colab-df-spinner');\n",
              "      quickchartButtonEl.classList.add('colab-df-quickchart-complete');\n",
              "    }\n",
              "    (() => {\n",
              "      let quickchartButtonEl =\n",
              "        document.querySelector('#df-1a096921-8e79-46bf-9d37-c8e21e6f4473 button');\n",
              "      quickchartButtonEl.style.display =\n",
              "        google.colab.kernel.accessAllowed ? 'block' : 'none';\n",
              "    })();\n",
              "  </script>\n",
              "</div>\n",
              "\n",
              "    </div>\n",
              "  </div>\n"
            ],
            "application/vnd.google.colaboratory.intrinsic+json": {
              "type": "dataframe",
              "summary": "{\n  \"name\": \"final_data[final_data['Group'] != 'Control']\",\n  \"rows\": 4,\n  \"fields\": [\n    {\n      \"column\": \"DD\",\n      \"properties\": {\n        \"dtype\": \"string\",\n        \"num_unique_values\": 4,\n        \"samples\": [\n          \"Math Reading Writing \",\n          \"Reading Writing \",\n          \"Math Reading \"\n        ],\n        \"semantic_type\": \"\",\n        \"description\": \"\"\n      }\n    },\n    {\n      \"column\": \"Identifiers\",\n      \"properties\": {\n        \"dtype\": \"number\",\n        \"std\": 121,\n        \"min\": 18,\n        \"max\": 269,\n        \"num_unique_values\": 4,\n        \"samples\": [\n          22,\n          18,\n          42\n        ],\n        \"semantic_type\": \"\",\n        \"description\": \"\"\n      }\n    }\n  ]\n}"
            }
          },
          "metadata": {},
          "execution_count": 88
        }
      ]
    },
    {
      "cell_type": "code",
      "source": [
        "# Drop outs and lost to follow up\n",
        "print('Lost or drop outs: ',\n",
        "      final_data[final_data['Basic_Demos,Participant_Status'].isin(['Lost to follow-up', 'Dropout'])].shape[0])"
      ],
      "metadata": {
        "id": "GQOfDZ43rzi2",
        "outputId": "5b9ad88e-b405-4e32-e0cb-37fefeece386",
        "colab": {
          "base_uri": "https://localhost:8080/"
        }
      },
      "execution_count": 90,
      "outputs": [
        {
          "output_type": "stream",
          "name": "stdout",
          "text": [
            "Lost or drop outs:  11\n"
          ]
        }
      ]
    },
    {
      "cell_type": "code",
      "source": [
        "# head injuries\n",
        "print('Head injuries: ', final_data[final_data['PreInt_TxHx,head_injuries'] == '1'].shape[0])"
      ],
      "metadata": {
        "id": "-92y0_W_sMr2",
        "outputId": "07e935e8-5c2e-439f-90e8-d5bb7b6e2f43",
        "colab": {
          "base_uri": "https://localhost:8080/"
        }
      },
      "execution_count": 89,
      "outputs": [
        {
          "output_type": "stream",
          "name": "stdout",
          "text": [
            "Head injuries:  68\n"
          ]
        }
      ]
    },
    {
      "cell_type": "code",
      "source": [
        "# the certainty and validity of the IQ tests\n",
        "final_data['IQ_status'].unique()"
      ],
      "metadata": {
        "id": "W9UD6_ovsbPd",
        "outputId": "44249290-3a85-4ab3-ca9f-52308bfc0fa3",
        "colab": {
          "base_uri": "https://localhost:8080/"
        }
      },
      "execution_count": 91,
      "outputs": [
        {
          "output_type": "execute_result",
          "data": {
            "text/plain": [
              "array(['Complete', 'N/A', 'Complete and Valid'], dtype=object)"
            ]
          },
          "metadata": {},
          "execution_count": 91
        }
      ]
    },
    {
      "cell_type": "code",
      "source": [
        "# nvIQ and vIQ\n",
        "print('No scores for nvIQ: ', final_data[final_data['nvIQ'] == 'N/A'].shape[0], ' IDs: ', final_data[final_data['nvIQ'] == 'N/A']['Identifiers'].values)\n",
        "print('No scores for vIQ: ', final_data[final_data['vIQ'] == 'N/A'].shape[0])\n",
        "# all three missing all the score for nvIQ in WISC, but the 1st and the last has non-verbal scores on KBIT"
      ],
      "metadata": {
        "id": "Wd3LsnIJt0Yb",
        "outputId": "cd3e87ba-49e4-426b-d9e0-503bb43e178a",
        "colab": {
          "base_uri": "https://localhost:8080/"
        }
      },
      "execution_count": 92,
      "outputs": [
        {
          "output_type": "stream",
          "name": "stdout",
          "text": [
            "No scores for nvIQ:  3  IDs:  ['NDARDC360DGB' 'NDAREA136BDX' 'NDARXJ799NEB']\n",
            "No scores for vIQ:  0\n"
          ]
        }
      ]
    },
    {
      "cell_type": "code",
      "source": [
        "# MRI Track\n",
        "names = ['Clinical_Impression', 'Complete', 'DKI64', 'DWI_APAX', 'DWI_PAAX', 'RS']\n",
        "for name in names:\n",
        "  if name == 'Complete':\n",
        "    print('Completed ', final_data[final_data[col_name] == '1'].shape[0], ' participants out of ', final_data.shape[0])\n",
        "  elif name == 'Clinical_Impression':\n",
        "    print('Within normal limits: ', final_data[final_data[col_name] == '1'].shape[0])\n",
        "    print('Findings Not Clinically Significant: ', final_data[final_data[col_name] == '2'].shape[0])\n",
        "    print('Abnormal: ', final_data[final_data[col_name] == '3'].shape[0])\n",
        "  else:\n",
        "    print(name, 'done ', final_data[final_data[col_name] == '1'].shape[0], 'out of ', final_data.shape[0])"
      ],
      "metadata": {
        "id": "00Vu0J-jur0E",
        "outputId": "1dac29af-c34c-4742-d32d-73ad587660b3",
        "colab": {
          "base_uri": "https://localhost:8080/"
        }
      },
      "execution_count": 93,
      "outputs": [
        {
          "output_type": "stream",
          "name": "stdout",
          "text": [
            "Within normal limits:  436\n",
            "Findings Not Clinically Significant:  9\n",
            "Abnormal:  0\n",
            "Completed  436  participants out of  619\n",
            "DKI64 done  436 out of  619\n",
            "DWI_APAX done  436 out of  619\n",
            "DWI_PAAX done  436 out of  619\n",
            "RS done  436 out of  619\n"
          ]
        }
      ]
    },
    {
      "cell_type": "code",
      "source": [
        "# CTOPP test\n",
        "# RL_raw, RL_scaled, RD_raw, RD_scaled\n",
        "print('All dataset: ', final_data.shape[0])\n",
        "print('Letters raw: ', final_data[final_data['CTOPP,CTOPP_RL_R'] != '.'].shape[0])\n",
        "print('Letters scaled: ', final_data[final_data['CTOPP,CTOPP_RL_S'] != '.'].shape[0])\n",
        "print('Numbers raw: ', final_data[final_data['CTOPP,CTOPP_RD_R'] != '.'].shape[0])\n",
        "print('Numbers scaled: ', final_data[final_data['CTOPP,CTOPP_RD_S'] != '.'].shape[0])"
      ],
      "metadata": {
        "id": "gpfpklxOtwu0",
        "outputId": "a9fcdf41-0973-4b30-d866-aee5307cc2b9",
        "colab": {
          "base_uri": "https://localhost:8080/"
        }
      },
      "execution_count": 94,
      "outputs": [
        {
          "output_type": "stream",
          "name": "stdout",
          "text": [
            "All dataset:  619\n",
            "Letters raw:  569\n",
            "Letters scaled:  570\n",
            "Numbers raw:  570\n",
            "Numbers scaled:  570\n"
          ]
        }
      ]
    },
    {
      "cell_type": "code",
      "source": [
        "# RANRAS\n",
        "print('RAN letters (stnd.): ', final_data[final_data['RANRAS,RR_Let_Stnd'] != '.'].shape[0], 'out of ', final_data.shape[0])\n",
        "print('RAN letters (raw): ',final_data[final_data['RANRAS,RR_Let_Raw'] != '.'].shape[0], 'out of ', final_data.shape[0])\n",
        "print('RAN numbers (stnd.): ', final_data[final_data['RANRAS,RR_Num_Stnd'] != '.'].shape[0], 'out of ', final_data.shape[0])\n",
        "print('RAN numbers (raw): ', final_data[final_data['RANRAS,RR_Num_Raw'] != '.'].shape[0], 'out of ', final_data.shape[0])"
      ],
      "metadata": {
        "id": "NK-KucastzA7",
        "outputId": "541bd599-c1a5-4d21-8b5c-25d2870618cb",
        "colab": {
          "base_uri": "https://localhost:8080/"
        }
      },
      "execution_count": 95,
      "outputs": [
        {
          "output_type": "stream",
          "name": "stdout",
          "text": [
            "RAN letters (stnd.):  36 out of  619\n",
            "RAN letters (raw):  36 out of  619\n",
            "RAN numbers (stnd.):  8 out of  619\n",
            "RAN numbers (raw):  8 out of  619\n"
          ]
        }
      ]
    },
    {
      "cell_type": "code",
      "source": [
        "sns.displot(final_data[final_data['Group'] == 'DD']['Basic_Demos,Age'],\n",
        "             binwidth = 1)\n",
        "pl.title('Age distribution in the DD group');"
      ],
      "metadata": {
        "id": "uT9jzc6Y75CJ",
        "outputId": "3e6e75e1-97a8-4d84-c78c-e94de17ea4d0",
        "colab": {
          "base_uri": "https://localhost:8080/",
          "height": 523
        }
      },
      "execution_count": 96,
      "outputs": [
        {
          "output_type": "display_data",
          "data": {
            "text/plain": [
              "<Figure size 500x500 with 1 Axes>"
            ],
            "image/png": "[encoded data removed]"
          },
          "metadata": {}
        }
      ]
    },
    {
      "cell_type": "code",
      "source": [
        "print('Number of DD participants: ', final_data[final_data['Group'] != 'Control'].shape[0])\n",
        "print('Number of DD participants younger than 8 y.o.: ', final_data[(final_data['Group'] != 'Control') & (final_data['Basic_Demos,Age'] < 8)].shape[0])\n",
        "print('Number of DD participants older than 8 y.o.: ', final_data[(final_data['Group'] != 'Control') & (final_data['Basic_Demos,Age'] >= 8)].shape[0])"
      ],
      "metadata": {
        "id": "njhhsdZfufnV",
        "outputId": "6d15ac46-2229-490c-c07a-0a088d822f8b",
        "colab": {
          "base_uri": "https://localhost:8080/"
        }
      },
      "execution_count": 97,
      "outputs": [
        {
          "output_type": "stream",
          "name": "stdout",
          "text": [
            "Number of DD participants:  351\n",
            "Number of DD participants younger than 8 y.o.:  104\n",
            "Number of DD participants older than 8 y.o.:  247\n"
          ]
        }
      ]
    },
    {
      "cell_type": "code",
      "source": [
        "final_data.to_csv(\n",
        "    Path(working_path).joinpath('final_data.csv')\n",
        ")\n",
        "final_data['Identifiers'].to_csv(\n",
        "    Path(working_path).joinpath('final_ids.csv')\n",
        ")"
      ],
      "metadata": {
        "id": "uz36YChcWxi9"
      },
      "execution_count": 113,
      "outputs": []
    },
    {
      "cell_type": "code",
      "source": [],
      "metadata": {
        "id": "KhJqTmwMwZlx"
      },
      "execution_count": null,
      "outputs": []
    }
  ]
}