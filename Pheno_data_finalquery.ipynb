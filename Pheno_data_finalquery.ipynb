{
  "nbformat": 4,
  "nbformat_minor": 0,
  "metadata": {
    "colab": {
      "provenance": [],
      "toc_visible": true,
      "authorship_tag": "ABX9TyOgapW1hYu8ZEZjHN9hT0u0",
      "include_colab_link": true
    },
    "kernelspec": {
      "name": "python3",
      "display_name": "Python 3"
    },
    "language_info": {
      "name": "python"
    }
  },
  "cells": [
    {
      "cell_type": "markdown",
      "metadata": {
        "id": "view-in-github",
        "colab_type": "text"
      },
      "source": [
        "<a href=\"https://colab.research.google.com/github/cristinarainich/Child-Mind-Institute-Project/blob/main/Pheno_data_finalquery.ipynb\" target=\"_parent\"><img src=\"https://colab.research.google.com/assets/colab-badge.svg\" alt=\"Open In Colab\"/></a>"
      ]
    },
    {
      "cell_type": "markdown",
      "source": [
        "**Updated** 26/02/2024"
      ],
      "metadata": {
        "id": "R1aQIcWPJsdR"
      }
    },
    {
      "cell_type": "code",
      "execution_count": 24,
      "metadata": {
        "colab": {
          "base_uri": "https://localhost:8080/"
        },
        "id": "7sLM_aBE1XSO",
        "outputId": "991b7560-536e-4b4e-e9cc-e2fbabec5fbe"
      },
      "outputs": [
        {
          "output_type": "stream",
          "name": "stdout",
          "text": [
            "Drive already mounted at /content/drive; to attempt to forcibly remount, call drive.mount(\"/content/drive\", force_remount=True).\n"
          ]
        }
      ],
      "source": [
        "from google.colab import drive\n",
        "drive.mount('/content/drive')"
      ]
    },
    {
      "cell_type": "code",
      "source": [
        "from pathlib import Path\n",
        "import pandas as pd\n",
        "import numpy as np\n",
        "import math\n",
        "import pylab as pl\n",
        "import seaborn as sns\n",
        "%pylab inline"
      ],
      "metadata": {
        "colab": {
          "base_uri": "https://localhost:8080/"
        },
        "id": "aaZC6otb1s12",
        "outputId": "2336043d-3108-432d-c242-d9e44bbf289a"
      },
      "execution_count": 25,
      "outputs": [
        {
          "output_type": "stream",
          "name": "stdout",
          "text": [
            "Populating the interactive namespace from numpy and matplotlib\n"
          ]
        }
      ]
    },
    {
      "cell_type": "code",
      "source": [
        "sns.set()"
      ],
      "metadata": {
        "id": "lAeNDY5uJvVf"
      },
      "execution_count": null,
      "outputs": []
    },
    {
      "cell_type": "code",
      "source": [
        "working_path = Path('/content/drive/MyDrive/KKNV')"
      ],
      "metadata": {
        "id": "aonUk2xG1llO"
      },
      "execution_count": null,
      "outputs": []
    },
    {
      "cell_type": "code",
      "source": [
        "cd /content/drive/MyDrive/KKNV"
      ],
      "metadata": {
        "colab": {
          "base_uri": "https://localhost:8080/"
        },
        "id": "z9Xbaxjz1yH3",
        "outputId": "0c4a0a4a-d416-4d80-9565-4d7ceddeb05f"
      },
      "execution_count": null,
      "outputs": [
        {
          "output_type": "stream",
          "name": "stdout",
          "text": [
            "/content/drive/MyDrive/KKNV\n"
          ]
        }
      ]
    },
    {
      "cell_type": "code",
      "source": [
        "!ls /content/drive/MyDrive/KKNV"
      ],
      "metadata": {
        "colab": {
          "base_uri": "https://localhost:8080/"
        },
        "id": "5zZW_4I4NS1u",
        "outputId": "dc5c10c5-293d-4ed9-c98a-6be1e952976c"
      },
      "execution_count": null,
      "outputs": [
        {
          "output_type": "stream",
          "name": "stdout",
          "text": [
            " 11a5490b-0e2d-4fd7-b54e-e2ebd0a72df6.zip   HBN_R8_Pheno.csv\n",
            " behaviorals\t\t\t\t    HBN_R9_Pheno.csv\n",
            " change_of_diagnosis.csv\t\t    iq_overview.csv\n",
            " comorbidity\t\t\t\t    iq_overview.gsheet\n",
            " data26.02.2024.csv\t\t\t    Pheno.csv\n",
            " data_Rachel.csv\t\t\t    pheno_mri.csv\n",
            " diagnoses_1906.csv\t\t\t    Pilot.csv\n",
            " full_pheno.csv\t\t\t\t   'Pilot reading task.gsheet'\n",
            " HBN_R10_Pheno.csv\t\t\t    Query1.csv\n",
            " HBN_R1_1_Pheno.csv\t\t\t   'Query 1.Dot values.csv'\n",
            " HBN_R2_1_Pheno.csv\t\t\t    Query2.csv\n",
            " HBN_R3_Pheno.csv\t\t\t   'Query 2.Dot values.csv'\n",
            " HBN_R4_Pheno.csv\t\t\t    Query_final.csv\n",
            " HBN_R5_Pheno.csv\t\t\t    sites.csv\n",
            " HBN_R6_Pheno.csv\t\t\t    Temporal_Frequency_Staircase_V3_gamified_L2R_Ilia.eve\n",
            " HBN_R7_Pheno.csv\n"
          ]
        }
      ]
    },
    {
      "cell_type": "markdown",
      "source": [
        "## Pipeline to make the data convinient to use"
      ],
      "metadata": {
        "id": "nLkYOzzUGnRy"
      }
    },
    {
      "cell_type": "markdown",
      "source": [
        "Here we are going to work on the database from the 2nd query where all of the visits are combined within their original identifier."
      ],
      "metadata": {
        "id": "D2gWtrKvyMr-"
      }
    },
    {
      "cell_type": "code",
      "source": [
        "# our dataset\n",
        "data = pd.read_csv(\n",
        "    working_path.joinpath('data26.02.2024.csv'),\n",
        "    index_col=None,\n",
        "    low_memory=False\n",
        ")"
      ],
      "metadata": {
        "id": "V4z2UsT-zTlp"
      },
      "execution_count": null,
      "outputs": []
    },
    {
      "cell_type": "code",
      "source": [
        "data.shape"
      ],
      "metadata": {
        "id": "Y_RRV98FUjpE",
        "outputId": "5479be05-f1cd-4ba7-ddd9-72261a88bbd3",
        "colab": {
          "base_uri": "https://localhost:8080/"
        }
      },
      "execution_count": null,
      "outputs": [
        {
          "output_type": "execute_result",
          "data": {
            "text/plain": [
              "(6689, 572)"
            ]
          },
          "metadata": {},
          "execution_count": 8
        }
      ]
    },
    {
      "cell_type": "code",
      "source": [
        "ids = data.Identifiers.values\n",
        "new_ids = []\n",
        "for i in ids:\n",
        "  new_i = i.replace(',assessment', '')\n",
        "  new_ids.append(new_i)\n",
        "print(len(ids))\n",
        "print(len(new_ids))\n",
        "\n",
        "data['Identifiers'] = new_ids"
      ],
      "metadata": {
        "id": "jjGb6Cr0HxgJ",
        "outputId": "022d1e0c-a70d-4ad5-d2cb-7a0d89b0668e",
        "colab": {
          "base_uri": "https://localhost:8080/"
        }
      },
      "execution_count": null,
      "outputs": [
        {
          "output_type": "stream",
          "name": "stdout",
          "text": [
            "6689\n",
            "6689\n"
          ]
        }
      ]
    },
    {
      "cell_type": "code",
      "source": [
        "data = data.drop(labels=0, axis=0)"
      ],
      "metadata": {
        "id": "guq6tU-bH1Z6"
      },
      "execution_count": null,
      "outputs": []
    },
    {
      "cell_type": "code",
      "source": [
        "data.head()"
      ],
      "metadata": {
        "id": "G_UNZ36Kntli",
        "outputId": "1e30e87f-a4a3-4286-c2e4-c9e71b06d72f",
        "colab": {
          "base_uri": "https://localhost:8080/",
          "height": 256
        }
      },
      "execution_count": 26,
      "outputs": [
        {
          "output_type": "execute_result",
          "data": {
            "text/plain": [
              "    Identifiers AUDIT,AUDIT_Total_Score Audit,AUDIT_Total_Score  \\\n",
              "1  NDARAA075AMK                       .                       .   \n",
              "2  NDARAA112DMH                       .                       .   \n",
              "3  NDARAA117NEJ                       .                       .   \n",
              "4  NDARAA306NT2                       0                       0   \n",
              "5  NDARAA358BPN                       .                       .   \n",
              "\n",
              "  Barratt,Barratt_Total Barratt,Barratt_Total_Edu Barratt,Barratt_Total_Occ  \\\n",
              "1                  58.5                        21                      37.5   \n",
              "2                  37.5                        15                      22.5   \n",
              "3                  12.5                       7.5                         5   \n",
              "4                    33                        18                        15   \n",
              "5                     .                         .                         .   \n",
              "\n",
              "  Basic_Demos,Age Basic_Demos,EID Basic_Demos,Patient_ID Basic_Demos,Sex  ...  \\\n",
              "1         6.72804    NDARAA075AMK           NDARAA075AMK               1  ...   \n",
              "2        5.545744    NDARAA112DMH           NDARAA112DMH               0  ...   \n",
              "3        7.475929    NDARAA117NEJ           NDARAA117NEJ               0  ...   \n",
              "4       21.216746    NDARAA306NT2           NDARAA306NT2               1  ...   \n",
              "5       11.853296    NDARAA358BPN           NDARAA358BPN               0  ...   \n",
              "\n",
              "  WISC_Remote,WISC_VCI_Percentile WISC_Remote,WISC_VCI_Sum  \\\n",
              "1                               .                        .   \n",
              "2                               .                        .   \n",
              "3                               .                        .   \n",
              "4                               .                        .   \n",
              "5                               .                        .   \n",
              "\n",
              "  WISC_Remote,WISC_VP_Raw WISC_Remote,WISC_VP_Scaled  \\\n",
              "1                       .                          .   \n",
              "2                       .                          .   \n",
              "3                       .                          .   \n",
              "4                       .                          .   \n",
              "5                       .                          .   \n",
              "\n",
              "  WISC_Remote,WISC_Vocab_Raw WISC_Remote,WISC_Vocab_Scaled  \\\n",
              "1                          .                             .   \n",
              "2                          .                             .   \n",
              "3                          .                             .   \n",
              "4                          .                             .   \n",
              "5                          .                             .   \n",
              "\n",
              "  WISC_Remote,WISC_WMI WISC_Remote,WISC_WMI_Percentile  \\\n",
              "1                    .                               .   \n",
              "2                    .                               .   \n",
              "3                    .                               .   \n",
              "4                    .                               .   \n",
              "5                    .                               .   \n",
              "\n",
              "  WISC_Remote,WISC_WMI_Sum WISC_Remote,WISC_complete  \n",
              "1                        .                         .  \n",
              "2                        .                         .  \n",
              "3                        .                         .  \n",
              "4                        .                         .  \n",
              "5                        .                         .  \n",
              "\n",
              "[5 rows x 572 columns]"
            ],
            "text/html": [
              "\n",
              "  <div id=\"df-9fb57807-d0fc-4261-8cea-12013d63f551\" class=\"colab-df-container\">\n",
              "    <div>\n",
              "<style scoped>\n",
              "    .dataframe tbody tr th:only-of-type {\n",
              "        vertical-align: middle;\n",
              "    }\n",
              "\n",
              "    .dataframe tbody tr th {\n",
              "        vertical-align: top;\n",
              "    }\n",
              "\n",
              "    .dataframe thead th {\n",
              "        text-align: right;\n",
              "    }\n",
              "</style>\n",
              "<table border=\"1\" class=\"dataframe\">\n",
              "  <thead>\n",
              "    <tr style=\"text-align: right;\">\n",
              "      <th></th>\n",
              "      <th>Identifiers</th>\n",
              "      <th>AUDIT,AUDIT_Total_Score</th>\n",
              "      <th>Audit,AUDIT_Total_Score</th>\n",
              "      <th>Barratt,Barratt_Total</th>\n",
              "      <th>Barratt,Barratt_Total_Edu</th>\n",
              "      <th>Barratt,Barratt_Total_Occ</th>\n",
              "      <th>Basic_Demos,Age</th>\n",
              "      <th>Basic_Demos,EID</th>\n",
              "      <th>Basic_Demos,Patient_ID</th>\n",
              "      <th>Basic_Demos,Sex</th>\n",
              "      <th>...</th>\n",
              "      <th>WISC_Remote,WISC_VCI_Percentile</th>\n",
              "      <th>WISC_Remote,WISC_VCI_Sum</th>\n",
              "      <th>WISC_Remote,WISC_VP_Raw</th>\n",
              "      <th>WISC_Remote,WISC_VP_Scaled</th>\n",
              "      <th>WISC_Remote,WISC_Vocab_Raw</th>\n",
              "      <th>WISC_Remote,WISC_Vocab_Scaled</th>\n",
              "      <th>WISC_Remote,WISC_WMI</th>\n",
              "      <th>WISC_Remote,WISC_WMI_Percentile</th>\n",
              "      <th>WISC_Remote,WISC_WMI_Sum</th>\n",
              "      <th>WISC_Remote,WISC_complete</th>\n",
              "    </tr>\n",
              "  </thead>\n",
              "  <tbody>\n",
              "    <tr>\n",
              "      <th>1</th>\n",
              "      <td>NDARAA075AMK</td>\n",
              "      <td>.</td>\n",
              "      <td>.</td>\n",
              "      <td>58.5</td>\n",
              "      <td>21</td>\n",
              "      <td>37.5</td>\n",
              "      <td>6.72804</td>\n",
              "      <td>NDARAA075AMK</td>\n",
              "      <td>NDARAA075AMK</td>\n",
              "      <td>1</td>\n",
              "      <td>...</td>\n",
              "      <td>.</td>\n",
              "      <td>.</td>\n",
              "      <td>.</td>\n",
              "      <td>.</td>\n",
              "      <td>.</td>\n",
              "      <td>.</td>\n",
              "      <td>.</td>\n",
              "      <td>.</td>\n",
              "      <td>.</td>\n",
              "      <td>.</td>\n",
              "    </tr>\n",
              "    <tr>\n",
              "      <th>2</th>\n",
              "      <td>NDARAA112DMH</td>\n",
              "      <td>.</td>\n",
              "      <td>.</td>\n",
              "      <td>37.5</td>\n",
              "      <td>15</td>\n",
              "      <td>22.5</td>\n",
              "      <td>5.545744</td>\n",
              "      <td>NDARAA112DMH</td>\n",
              "      <td>NDARAA112DMH</td>\n",
              "      <td>0</td>\n",
              "      <td>...</td>\n",
              "      <td>.</td>\n",
              "      <td>.</td>\n",
              "      <td>.</td>\n",
              "      <td>.</td>\n",
              "      <td>.</td>\n",
              "      <td>.</td>\n",
              "      <td>.</td>\n",
              "      <td>.</td>\n",
              "      <td>.</td>\n",
              "      <td>.</td>\n",
              "    </tr>\n",
              "    <tr>\n",
              "      <th>3</th>\n",
              "      <td>NDARAA117NEJ</td>\n",
              "      <td>.</td>\n",
              "      <td>.</td>\n",
              "      <td>12.5</td>\n",
              "      <td>7.5</td>\n",
              "      <td>5</td>\n",
              "      <td>7.475929</td>\n",
              "      <td>NDARAA117NEJ</td>\n",
              "      <td>NDARAA117NEJ</td>\n",
              "      <td>0</td>\n",
              "      <td>...</td>\n",
              "      <td>.</td>\n",
              "      <td>.</td>\n",
              "      <td>.</td>\n",
              "      <td>.</td>\n",
              "      <td>.</td>\n",
              "      <td>.</td>\n",
              "      <td>.</td>\n",
              "      <td>.</td>\n",
              "      <td>.</td>\n",
              "      <td>.</td>\n",
              "    </tr>\n",
              "    <tr>\n",
              "      <th>4</th>\n",
              "      <td>NDARAA306NT2</td>\n",
              "      <td>0</td>\n",
              "      <td>0</td>\n",
              "      <td>33</td>\n",
              "      <td>18</td>\n",
              "      <td>15</td>\n",
              "      <td>21.216746</td>\n",
              "      <td>NDARAA306NT2</td>\n",
              "      <td>NDARAA306NT2</td>\n",
              "      <td>1</td>\n",
              "      <td>...</td>\n",
              "      <td>.</td>\n",
              "      <td>.</td>\n",
              "      <td>.</td>\n",
              "      <td>.</td>\n",
              "      <td>.</td>\n",
              "      <td>.</td>\n",
              "      <td>.</td>\n",
              "      <td>.</td>\n",
              "      <td>.</td>\n",
              "      <td>.</td>\n",
              "    </tr>\n",
              "    <tr>\n",
              "      <th>5</th>\n",
              "      <td>NDARAA358BPN</td>\n",
              "      <td>.</td>\n",
              "      <td>.</td>\n",
              "      <td>.</td>\n",
              "      <td>.</td>\n",
              "      <td>.</td>\n",
              "      <td>11.853296</td>\n",
              "      <td>NDARAA358BPN</td>\n",
              "      <td>NDARAA358BPN</td>\n",
              "      <td>0</td>\n",
              "      <td>...</td>\n",
              "      <td>.</td>\n",
              "      <td>.</td>\n",
              "      <td>.</td>\n",
              "      <td>.</td>\n",
              "      <td>.</td>\n",
              "      <td>.</td>\n",
              "      <td>.</td>\n",
              "      <td>.</td>\n",
              "      <td>.</td>\n",
              "      <td>.</td>\n",
              "    </tr>\n",
              "  </tbody>\n",
              "</table>\n",
              "<p>5 rows × 572 columns</p>\n",
              "</div>\n",
              "    <div class=\"colab-df-buttons\">\n",
              "\n",
              "  <div class=\"colab-df-container\">\n",
              "    <button class=\"colab-df-convert\" onclick=\"convertToInteractive('df-9fb57807-d0fc-4261-8cea-12013d63f551')\"\n",
              "            title=\"Convert this dataframe to an interactive table.\"\n",
              "            style=\"display:none;\">\n",
              "\n",
              "  <svg xmlns=\"http://www.w3.org/2000/svg\" height=\"24px\" viewBox=\"0 -960 960 960\">\n",
              "    <path d=\"M120-120v-720h720v720H120Zm60-500h600v-160H180v160Zm220 220h160v-160H400v160Zm0 220h160v-160H400v160ZM180-400h160v-160H180v160Zm440 0h160v-160H620v160ZM180-180h160v-160H180v160Zm440 0h160v-160H620v160Z\"/>\n",
              "  </svg>\n",
              "    </button>\n",
              "\n",
              "  <style>\n",
              "    .colab-df-container {\n",
              "      display:flex;\n",
              "      gap: 12px;\n",
              "    }\n",
              "\n",
              "    .colab-df-convert {\n",
              "      background-color: #E8F0FE;\n",
              "      border: none;\n",
              "      border-radius: 50%;\n",
              "      cursor: pointer;\n",
              "      display: none;\n",
              "      fill: #1967D2;\n",
              "      height: 32px;\n",
              "      padding: 0 0 0 0;\n",
              "      width: 32px;\n",
              "    }\n",
              "\n",
              "    .colab-df-convert:hover {\n",
              "      background-color: #E2EBFA;\n",
              "      box-shadow: 0px 1px 2px rgba(60, 64, 67, 0.3), 0px 1px 3px 1px rgba(60, 64, 67, 0.15);\n",
              "      fill: #174EA6;\n",
              "    }\n",
              "\n",
              "    .colab-df-buttons div {\n",
              "      margin-bottom: 4px;\n",
              "    }\n",
              "\n",
              "    [theme=dark] .colab-df-convert {\n",
              "      background-color: #3B4455;\n",
              "      fill: #D2E3FC;\n",
              "    }\n",
              "\n",
              "    [theme=dark] .colab-df-convert:hover {\n",
              "      background-color: #434B5C;\n",
              "      box-shadow: 0px 1px 3px 1px rgba(0, 0, 0, 0.15);\n",
              "      filter: drop-shadow(0px 1px 2px rgba(0, 0, 0, 0.3));\n",
              "      fill: #FFFFFF;\n",
              "    }\n",
              "  </style>\n",
              "\n",
              "    <script>\n",
              "      const buttonEl =\n",
              "        document.querySelector('#df-9fb57807-d0fc-4261-8cea-12013d63f551 button.colab-df-convert');\n",
              "      buttonEl.style.display =\n",
              "        google.colab.kernel.accessAllowed ? 'block' : 'none';\n",
              "\n",
              "      async function convertToInteractive(key) {\n",
              "        const element = document.querySelector('#df-9fb57807-d0fc-4261-8cea-12013d63f551');\n",
              "        const dataTable =\n",
              "          await google.colab.kernel.invokeFunction('convertToInteractive',\n",
              "                                                    [key], {});\n",
              "        if (!dataTable) return;\n",
              "\n",
              "        const docLinkHtml = 'Like what you see? Visit the ' +\n",
              "          '<a target=\"_blank\" href=https://colab.research.google.com/notebooks/data_table.ipynb>data table notebook</a>'\n",
              "          + ' to learn more about interactive tables.';\n",
              "        element.innerHTML = '';\n",
              "        dataTable['output_type'] = 'display_data';\n",
              "        await google.colab.output.renderOutput(dataTable, element);\n",
              "        const docLink = document.createElement('div');\n",
              "        docLink.innerHTML = docLinkHtml;\n",
              "        element.appendChild(docLink);\n",
              "      }\n",
              "    </script>\n",
              "  </div>\n",
              "\n",
              "\n",
              "<div id=\"df-6a37a6d6-a61b-4dd8-b882-034a39319826\">\n",
              "  <button class=\"colab-df-quickchart\" onclick=\"quickchart('df-6a37a6d6-a61b-4dd8-b882-034a39319826')\"\n",
              "            title=\"Suggest charts\"\n",
              "            style=\"display:none;\">\n",
              "\n",
              "<svg xmlns=\"http://www.w3.org/2000/svg\" height=\"24px\"viewBox=\"0 0 24 24\"\n",
              "     width=\"24px\">\n",
              "    <g>\n",
              "        <path d=\"M19 3H5c-1.1 0-2 .9-2 2v14c0 1.1.9 2 2 2h14c1.1 0 2-.9 2-2V5c0-1.1-.9-2-2-2zM9 17H7v-7h2v7zm4 0h-2V7h2v10zm4 0h-2v-4h2v4z\"/>\n",
              "    </g>\n",
              "</svg>\n",
              "  </button>\n",
              "\n",
              "<style>\n",
              "  .colab-df-quickchart {\n",
              "      --bg-color: #E8F0FE;\n",
              "      --fill-color: #1967D2;\n",
              "      --hover-bg-color: #E2EBFA;\n",
              "      --hover-fill-color: #174EA6;\n",
              "      --disabled-fill-color: #AAA;\n",
              "      --disabled-bg-color: #DDD;\n",
              "  }\n",
              "\n",
              "  [theme=dark] .colab-df-quickchart {\n",
              "      --bg-color: #3B4455;\n",
              "      --fill-color: #D2E3FC;\n",
              "      --hover-bg-color: #434B5C;\n",
              "      --hover-fill-color: #FFFFFF;\n",
              "      --disabled-bg-color: #3B4455;\n",
              "      --disabled-fill-color: #666;\n",
              "  }\n",
              "\n",
              "  .colab-df-quickchart {\n",
              "    background-color: var(--bg-color);\n",
              "    border: none;\n",
              "    border-radius: 50%;\n",
              "    cursor: pointer;\n",
              "    display: none;\n",
              "    fill: var(--fill-color);\n",
              "    height: 32px;\n",
              "    padding: 0;\n",
              "    width: 32px;\n",
              "  }\n",
              "\n",
              "  .colab-df-quickchart:hover {\n",
              "    background-color: var(--hover-bg-color);\n",
              "    box-shadow: 0 1px 2px rgba(60, 64, 67, 0.3), 0 1px 3px 1px rgba(60, 64, 67, 0.15);\n",
              "    fill: var(--button-hover-fill-color);\n",
              "  }\n",
              "\n",
              "  .colab-df-quickchart-complete:disabled,\n",
              "  .colab-df-quickchart-complete:disabled:hover {\n",
              "    background-color: var(--disabled-bg-color);\n",
              "    fill: var(--disabled-fill-color);\n",
              "    box-shadow: none;\n",
              "  }\n",
              "\n",
              "  .colab-df-spinner {\n",
              "    border: 2px solid var(--fill-color);\n",
              "    border-color: transparent;\n",
              "    border-bottom-color: var(--fill-color);\n",
              "    animation:\n",
              "      spin 1s steps(1) infinite;\n",
              "  }\n",
              "\n",
              "  @keyframes spin {\n",
              "    0% {\n",
              "      border-color: transparent;\n",
              "      border-bottom-color: var(--fill-color);\n",
              "      border-left-color: var(--fill-color);\n",
              "    }\n",
              "    20% {\n",
              "      border-color: transparent;\n",
              "      border-left-color: var(--fill-color);\n",
              "      border-top-color: var(--fill-color);\n",
              "    }\n",
              "    30% {\n",
              "      border-color: transparent;\n",
              "      border-left-color: var(--fill-color);\n",
              "      border-top-color: var(--fill-color);\n",
              "      border-right-color: var(--fill-color);\n",
              "    }\n",
              "    40% {\n",
              "      border-color: transparent;\n",
              "      border-right-color: var(--fill-color);\n",
              "      border-top-color: var(--fill-color);\n",
              "    }\n",
              "    60% {\n",
              "      border-color: transparent;\n",
              "      border-right-color: var(--fill-color);\n",
              "    }\n",
              "    80% {\n",
              "      border-color: transparent;\n",
              "      border-right-color: var(--fill-color);\n",
              "      border-bottom-color: var(--fill-color);\n",
              "    }\n",
              "    90% {\n",
              "      border-color: transparent;\n",
              "      border-bottom-color: var(--fill-color);\n",
              "    }\n",
              "  }\n",
              "</style>\n",
              "\n",
              "  <script>\n",
              "    async function quickchart(key) {\n",
              "      const quickchartButtonEl =\n",
              "        document.querySelector('#' + key + ' button');\n",
              "      quickchartButtonEl.disabled = true;  // To prevent multiple clicks.\n",
              "      quickchartButtonEl.classList.add('colab-df-spinner');\n",
              "      try {\n",
              "        const charts = await google.colab.kernel.invokeFunction(\n",
              "            'suggestCharts', [key], {});\n",
              "      } catch (error) {\n",
              "        console.error('Error during call to suggestCharts:', error);\n",
              "      }\n",
              "      quickchartButtonEl.classList.remove('colab-df-spinner');\n",
              "      quickchartButtonEl.classList.add('colab-df-quickchart-complete');\n",
              "    }\n",
              "    (() => {\n",
              "      let quickchartButtonEl =\n",
              "        document.querySelector('#df-6a37a6d6-a61b-4dd8-b882-034a39319826 button');\n",
              "      quickchartButtonEl.style.display =\n",
              "        google.colab.kernel.accessAllowed ? 'block' : 'none';\n",
              "    })();\n",
              "  </script>\n",
              "</div>\n",
              "    </div>\n",
              "  </div>\n"
            ],
            "application/vnd.google.colaboratory.intrinsic+json": {
              "type": "dataframe",
              "variable_name": "data"
            }
          },
          "metadata": {},
          "execution_count": 26
        }
      ]
    },
    {
      "cell_type": "code",
      "source": [
        "versions = []\n",
        "for i in data.Identifiers.values.tolist():\n",
        "  if '_' in i:\n",
        "    versions.append(i)\n",
        "print(len(versions))"
      ],
      "metadata": {
        "id": "jiE0_9kVIeRS",
        "outputId": "3f9592b4-62b6-4c24-9cf2-8b4f125b8641",
        "colab": {
          "base_uri": "https://localhost:8080/"
        }
      },
      "execution_count": null,
      "outputs": [
        {
          "output_type": "stream",
          "name": "stdout",
          "text": [
            "1819\n"
          ]
        }
      ]
    },
    {
      "cell_type": "code",
      "source": [
        "columns = data.columns\n",
        "i = 0\n",
        "for id in versions:\n",
        "  values = data[data['Identifiers'] == id].values.tolist()\n",
        "  while len(values) == 1:\n",
        "    values = values[0]\n",
        "  for value in values[1:]:\n",
        "    if value != '.':\n",
        "      if type(value) == str:\n",
        "        column_number = values.index(value)\n",
        "        row_number = data[data['Identifiers'] == id[:12]].index[0]\n",
        "        data.at[row_number, columns[column_number]] = value\n",
        "      elif type(value) != str and math.isnan(value) is not True:\n",
        "        column_number = values.index(value)\n",
        "        row_number = data[data['Identifiers'] == id[:12]].index[0]\n",
        "        data.at[row_number, columns[column_number]] = value\n",
        "      else:\n",
        "        if math.isnan(value) is not True:\n",
        "          print(value, type(value))\n",
        "  i += 1\n",
        "print(i)"
      ],
      "metadata": {
        "id": "i4bFXlFQH1cX",
        "outputId": "28a25ece-0776-4dae-db7c-ebd7769fda1d",
        "colab": {
          "base_uri": "https://localhost:8080/"
        }
      },
      "execution_count": null,
      "outputs": [
        {
          "output_type": "stream",
          "name": "stdout",
          "text": [
            "1819\n"
          ]
        }
      ]
    },
    {
      "cell_type": "code",
      "source": [
        "for id in versions:\n",
        "  data = data[data['Identifiers'] != id]\n",
        "data.shape"
      ],
      "metadata": {
        "id": "dCCDlIDLH_HE",
        "outputId": "935d0e62-c32b-419c-dc1d-fb54ec4f4a4c",
        "colab": {
          "base_uri": "https://localhost:8080/"
        }
      },
      "execution_count": null,
      "outputs": [
        {
          "output_type": "execute_result",
          "data": {
            "text/plain": [
              "(4869, 572)"
            ]
          },
          "metadata": {},
          "execution_count": 14
        }
      ]
    },
    {
      "cell_type": "code",
      "source": [
        "data.columns"
      ],
      "metadata": {
        "id": "voTcJ9yprtqv",
        "outputId": "5dbc0d52-78e6-4bb2-a2be-21e2de625874",
        "colab": {
          "base_uri": "https://localhost:8080/"
        }
      },
      "execution_count": 27,
      "outputs": [
        {
          "output_type": "execute_result",
          "data": {
            "text/plain": [
              "Index(['Identifiers', 'AUDIT,AUDIT_Total_Score', 'Audit,AUDIT_Total_Score',\n",
              "       'Barratt,Barratt_Total', 'Barratt,Barratt_Total_Edu',\n",
              "       'Barratt,Barratt_Total_Occ', 'Basic_Demos,Age', 'Basic_Demos,EID',\n",
              "       'Basic_Demos,Patient_ID', 'Basic_Demos,Sex',\n",
              "       ...\n",
              "       'WISC_Remote,WISC_VCI_Percentile', 'WISC_Remote,WISC_VCI_Sum',\n",
              "       'WISC_Remote,WISC_VP_Raw', 'WISC_Remote,WISC_VP_Scaled',\n",
              "       'WISC_Remote,WISC_Vocab_Raw', 'WISC_Remote,WISC_Vocab_Scaled',\n",
              "       'WISC_Remote,WISC_WMI', 'WISC_Remote,WISC_WMI_Percentile',\n",
              "       'WISC_Remote,WISC_WMI_Sum', 'WISC_Remote,WISC_complete'],\n",
              "      dtype='object', length=572)"
            ]
          },
          "metadata": {},
          "execution_count": 27
        }
      ]
    },
    {
      "cell_type": "code",
      "source": [
        "# weird subject that doesn't have any data in\n",
        "data = data[data['Identifiers'] != 'NDARXP325YLV']"
      ],
      "metadata": {
        "id": "lp7OR10yJM0V"
      },
      "execution_count": 28,
      "outputs": []
    },
    {
      "cell_type": "code",
      "source": [
        "data.columns[:50]"
      ],
      "metadata": {
        "id": "xINZ9Im8PSn4",
        "outputId": "edf6c750-854a-4ddc-ed38-3ba62d70706c",
        "colab": {
          "base_uri": "https://localhost:8080/"
        }
      },
      "execution_count": 29,
      "outputs": [
        {
          "output_type": "execute_result",
          "data": {
            "text/plain": [
              "Index(['Identifiers', 'AUDIT,AUDIT_Total_Score', 'Audit,AUDIT_Total_Score',\n",
              "       'Barratt,Barratt_Total', 'Barratt,Barratt_Total_Edu',\n",
              "       'Barratt,Barratt_Total_Occ', 'Basic_Demos,Age', 'Basic_Demos,EID',\n",
              "       'Basic_Demos,Patient_ID', 'Basic_Demos,Sex', 'Basic_Demos,Site',\n",
              "       'Basic_Demos,Study_Site', 'CELF,CELF_Complete', 'CELF,CELF_Total',\n",
              "       'CELF5_Meta,CLEF5M_CS_Rank', 'CELF5_Meta,CLEF5M_CS_Raw',\n",
              "       'CELF5_Meta,CLEF5M_CS_Scale', 'CELF5_Meta,CLEF5M_FL_Rank',\n",
              "       'CELF5_Meta,CLEF5M_FL_Raw', 'CELF5_Meta,CLEF5M_FL_Scale',\n",
              "       'CELF5_Meta,CLEF5M_MI_Rank', 'CELF5_Meta,CLEF5M_MI_Raw',\n",
              "       'CELF5_Meta,CLEF5M_MI_S', 'CELF5_Meta,CLEF5M_MM_Rank',\n",
              "       'CELF5_Meta,CLEF5M_MM_Raw', 'CELF5_Meta,CLEF5M_MM_Scale',\n",
              "       'CELF5_Meta,CLEF5M_MPI_Rank', 'CELF5_Meta,CLEF5M_MPI_Stnd',\n",
              "       'CELF5_Meta,CLEF5M_MPI_Sum', 'CELF5_Meta,CLEF5M_MSI_Rank',\n",
              "       'CELF5_Meta,CLEF5M_MSI_Stnd', 'CELF5_Meta,CLEF5M_MSI_Sum',\n",
              "       'CELF5_Meta,CLEF5M_TMI_Rank', 'CELF5_Meta,CLEF5M_TMI_Stnd',\n",
              "       'CELF5_Meta,CLEF5M_TMI_Sum', 'CELF_Full_5to8,CELF_CLS_P',\n",
              "       'CELF_Full_5to8,CELF_CLS_Stnd', 'CELF_Full_5to8,CELF_Complete',\n",
              "       'CELF_Full_5to8,CELF_ELI_P', 'CELF_Full_5to8,CELF_ELI_Stnd',\n",
              "       'CELF_Full_5to8,CELF_FD_P', 'CELF_Full_5to8,CELF_FD_R',\n",
              "       'CELF_Full_5to8,CELF_FD_S', 'CELF_Full_5to8,CELF_FS_P',\n",
              "       'CELF_Full_5to8,CELF_FS_R', 'CELF_Full_5to8,CELF_FS_S',\n",
              "       'CELF_Full_5to8,CELF_Inc_Reason', 'CELF_Full_5to8,CELF_Invalid_Reason',\n",
              "       'CELF_Full_5to8,CELF_LCI_P', 'CELF_Full_5to8,CELF_LCI_Stnd'],\n",
              "      dtype='object')"
            ]
          },
          "metadata": {},
          "execution_count": 29
        }
      ]
    },
    {
      "cell_type": "code",
      "source": [
        "data = data.rename(columns={'Basic_Demos,Study_Site':'Site'})"
      ],
      "metadata": {
        "id": "ECbe8adWPUsW"
      },
      "execution_count": 33,
      "outputs": []
    },
    {
      "cell_type": "markdown",
      "source": [
        "Let's now work on individual columns to make them more convinient for screening"
      ],
      "metadata": {
        "id": "6Sq56HJ0GBBF"
      }
    },
    {
      "cell_type": "code",
      "source": [
        "# work on Age column\n",
        "data['Basic_Demos,Age'] = data['Basic_Demos,Age'].astype(float)"
      ],
      "metadata": {
        "id": "Fsbq32NVOUbG"
      },
      "execution_count": 39,
      "outputs": []
    },
    {
      "cell_type": "code",
      "source": [
        "# work on Sex column\n",
        "data['Basic_Demos,Sex'] = data['Basic_Demos,Sex'].astype(int)"
      ],
      "metadata": {
        "id": "3xJBdz9Bfg2t"
      },
      "execution_count": 40,
      "outputs": []
    },
    {
      "cell_type": "code",
      "source": [
        "# work on Site column\n",
        "data['Site'] = data['Site'].astype(int)\n",
        "data.drop(['Basic_Demos,Site'], axis=1, inplace=True)"
      ],
      "metadata": {
        "id": "87ptehgEfsu_"
      },
      "execution_count": 41,
      "outputs": []
    },
    {
      "cell_type": "code",
      "source": [
        "data['Diagnosis_ClinicianConsensus,DX_01'] = data['Diagnosis_ClinicianConsensus,DX_01'].fillna('.')\n",
        "data['Diagnosis_ClinicianConsensus,DX_02'] = data['Diagnosis_ClinicianConsensus,DX_02'].fillna('.')\n",
        "data['Diagnosis_ClinicianConsensus,DX_03'] = data['Diagnosis_ClinicianConsensus,DX_03'].fillna('.')\n",
        "data['Diagnosis_ClinicianConsensus,DX_04'] = data['Diagnosis_ClinicianConsensus,DX_04'].fillna('.')\n",
        "data['Diagnosis_ClinicianConsensus,DX_05'] = data['Diagnosis_ClinicianConsensus,DX_05'].fillna('.')\n",
        "data['Diagnosis_ClinicianConsensus,DX_06'] = data['Diagnosis_ClinicianConsensus,DX_06'].fillna('.')\n",
        "data['Diagnosis_ClinicianConsensus,DX_07'] = data['Diagnosis_ClinicianConsensus,DX_07'].fillna('.')\n",
        "data['Diagnosis_ClinicianConsensus,DX_08'] = data['Diagnosis_ClinicianConsensus,DX_08'].fillna('.')\n",
        "data['Diagnosis_ClinicianConsensus,DX_09'] = data['Diagnosis_ClinicianConsensus,DX_09'].fillna('.')\n",
        "data['Diagnosis_ClinicianConsensus,DX_10'] = data['Diagnosis_ClinicianConsensus,DX_10'].fillna('.')"
      ],
      "metadata": {
        "id": "9sdk9Fi1J0be"
      },
      "execution_count": 42,
      "outputs": []
    },
    {
      "cell_type": "code",
      "source": [
        "# work on Diagnosis column\n",
        "# looks like a dot could be no diagnosis as it seems to be consistent across the columns\n",
        "# there are also nan values in confirmed column\n",
        "# throw away this 'No Diagnosis Given: Incomplete Eval'\n",
        "# give 0 to these 'No Diagnosis Given'\n",
        "def diagnosis(df, number):\n",
        "  name_diag = 'Diagnosis_ClinicianConsensus,DX_0' + str(number)\n",
        "  name_conf = 'Diagnosis_ClinicianConsensus,DX_0' + str(number) + '_Confirmed'\n",
        "  diagnosis = df[name_diag].values\n",
        "  confirmed = df[name_conf].values\n",
        "\n",
        "  dyslexia = []\n",
        "  new_diagnosis = []\n",
        "  for i in range(0, df.shape[0]):\n",
        "    # if it's '.', ' ' value or incomplete eval\n",
        "    if diagnosis[i] == '.' or diagnosis[i] == ' ':\n",
        "      dyslexia.append('.')\n",
        "      new_diagnosis.append('.')\n",
        "    elif  'Incomplete' in diagnosis[i]:\n",
        "      dyslexia.append('Incomplete')\n",
        "      new_diagnosis.append('Incomplete')\n",
        "    # if it is no diagnisis given\n",
        "    elif diagnosis[i] == 'No Diagnosis Given':\n",
        "      dyslexia.append('Control')\n",
        "      new_diagnosis.append('Control')\n",
        "    # if it's SLD\n",
        "    elif 'Specific Learning Disorder with' in diagnosis[i]:\n",
        "      if confirmed[i] != '0':\n",
        "        dyslexia.append('dys')\n",
        "        new_diagnosis.append(diagnosis[i])\n",
        "      elif confirmed[i] == '0':\n",
        "        dyslexia.append(0)\n",
        "        new_diagnosis.append(0)\n",
        "    # if some other diagnosis\n",
        "    else:\n",
        "      if confirmed[i] != '0':\n",
        "        dyslexia.append(0)\n",
        "        new_diagnosis.append(diagnosis[i])\n",
        "      elif confirmed[i] == '0':\n",
        "        dyslexia.append(0)\n",
        "        new_diagnosis.append(0)\n",
        "\n",
        "  return dyslexia, new_diagnosis"
      ],
      "metadata": {
        "id": "QVbnLuo6f3it"
      },
      "execution_count": 43,
      "outputs": []
    },
    {
      "cell_type": "code",
      "source": [
        "# for all data\n",
        "all_diagnosis = {}\n",
        "all_dys = {}\n",
        "for i in range(1, 10):\n",
        "  dyslexia, new_diagnosis = diagnosis(data, i)\n",
        "  all_dys['diag_%s' % i] = dyslexia\n",
        "  all_diagnosis['diag_%s' % i] = new_diagnosis\n",
        "\n",
        "dys_status = []\n",
        "for i in range(0, data.shape[0]):\n",
        "  participant = []\n",
        "  for sublist in all_dys:\n",
        "    subset = all_dys[sublist][i]\n",
        "    participant.append(subset)\n",
        "\n",
        "  if 'Incomplete' in participant:\n",
        "    dys_status.append('Incomplete')\n",
        "  elif 'Control' in participant:\n",
        "    dys_status.append(0)\n",
        "  elif 'dys' in participant:\n",
        "    dys_status.append(1)\n",
        "  else:\n",
        "    dys_status.append(0)\n",
        "\n",
        "all_status = []\n",
        "for i in range(0, data.shape[0]):\n",
        "  participant = []\n",
        "  add = []\n",
        "  for sublist in all_diagnosis:\n",
        "    subset = all_diagnosis[sublist][i]\n",
        "    participant.append(subset)\n",
        "\n",
        "  if 'Incomplete' in participant:\n",
        "    all_status.append('Incomplete')\n",
        "  elif 'Control' in participant:\n",
        "    all_status.append(0)\n",
        "  else:\n",
        "    for each in participant:\n",
        "      if each != '.' and each != 0:\n",
        "        add.append(each)\n",
        "    if len(add) == 0:\n",
        "      if (i == '.' for i in participant):\n",
        "        all_status.append('.')\n",
        "      else:\n",
        "        print(participant)\n",
        "        print(add)\n",
        "        break\n",
        "    elif len(add) == 1:\n",
        "      all_status.append(add[0])\n",
        "    else:\n",
        "      all_status.append(add)"
      ],
      "metadata": {
        "id": "bJNFKETQVhgX"
      },
      "execution_count": 44,
      "outputs": []
    },
    {
      "cell_type": "code",
      "source": [
        "data['DD'] = dys_status\n",
        "data['Diagnosis'] = all_status"
      ],
      "metadata": {
        "id": "XdoRP9DWVizk"
      },
      "execution_count": 45,
      "outputs": []
    },
    {
      "cell_type": "code",
      "source": [
        "for i in range(1,10):\n",
        "  name_diag = 'Diagnosis_ClinicianConsensus,DX_0' + str(i)\n",
        "  name_conf = 'Diagnosis_ClinicianConsensus,DX_0' + str(i) + '_Confirmed'\n",
        "  name_code = 'Diagnosis_ClinicianConsensus,DX_0' + str(i) + '_Code'\n",
        "  data.drop([name_diag], axis=1, inplace=True)\n",
        "  data.drop([name_conf], axis=1, inplace=True)\n",
        "  data.drop([name_code], axis=1, inplace=True)\n",
        "data.drop(['Diagnosis_ClinicianConsensus,DX_10'], axis=1, inplace=True)\n",
        "data.drop(['Diagnosis_ClinicianConsensus,DX_10_Code'], axis=1, inplace=True)\n",
        "data.drop(['Diagnosis_ClinicianConsensus,DX_10_Confirmed'], axis=1, inplace=True)"
      ],
      "metadata": {
        "id": "ULH8IqPOWllD"
      },
      "execution_count": 46,
      "outputs": []
    },
    {
      "cell_type": "code",
      "source": [
        "print('Control subjects')\n",
        "print(data[(data['DD'] == 0) & (data['Diagnosis'] == 0)].shape[0])\n",
        "print('Disorders w/out DD')\n",
        "print(data[(data['DD'] == 0) & (data['Diagnosis'] != 0)].shape[0])\n",
        "print('Disorders w DD')\n",
        "print(data[data['DD'] == 1].shape[0])"
      ],
      "metadata": {
        "id": "95ks0qPKZjZB",
        "outputId": "26cfb293-7e53-4fe2-efae-87ae824e9201",
        "colab": {
          "base_uri": "https://localhost:8080/"
        }
      },
      "execution_count": 47,
      "outputs": [
        {
          "output_type": "stream",
          "name": "stdout",
          "text": [
            "Control subjects\n",
            "373\n",
            "Disorders w/out DD\n",
            "3320\n",
            "Disorders w DD\n",
            "649\n"
          ]
        }
      ]
    },
    {
      "cell_type": "code",
      "source": [
        "new_diag = []\n",
        "new_dtypes = []\n",
        "diag = data.Diagnosis.values\n",
        "for i in diag:\n",
        "  if i == 0:\n",
        "    new_diag.append(i)\n",
        "    new_dtypes.append(i)\n",
        "  # one diagnosis\n",
        "  elif type(i) == str:\n",
        "    if 'Specific Learning Disorder with Impairment' in i:\n",
        "      new_diag.append('SLD')\n",
        "      if 'Reading' in i:\n",
        "        new_dtypes.append('Reading')\n",
        "      elif 'Written' in i:\n",
        "        new_dtypes.append('Writing')\n",
        "      elif 'Mathematics' in i:\n",
        "        new_dtypes.append('Math')\n",
        "    else:\n",
        "      new_diag.append(i)\n",
        "      new_dtypes.append(0)\n",
        "  # multiple diagnoses\n",
        "  elif type(i) == list:\n",
        "    name_diag = ''\n",
        "    name_dys = ''\n",
        "    for element in i:\n",
        "      if 'Specific Learning Disorder with Impairment' in element:\n",
        "        name_diag = name_diag + 'SLD' + '. '\n",
        "        if 'Reading' in element:\n",
        "          name_dys = name_dys + 'Reading '\n",
        "        elif 'Written' in element:\n",
        "          name_dys = name_dys + 'Writing '\n",
        "        elif 'Mathematics' in element:\n",
        "          name_dys = name_dys + 'Math '\n",
        "      elif type(element) is str:\n",
        "        name_diag = name_diag + element + '.'\n",
        "      else:\n",
        "        print(i)\n",
        "        break\n",
        "    if name_diag == '':\n",
        "      print(i)\n",
        "      break\n",
        "    new_diag.append(name_diag)\n",
        "\n",
        "    if name_dys == '':\n",
        "      new_dtypes.append(0)\n",
        "    else:\n",
        "      new_dtypes.append(name_dys)"
      ],
      "metadata": {
        "id": "9DBzegrJahCQ"
      },
      "execution_count": 48,
      "outputs": []
    },
    {
      "cell_type": "code",
      "source": [
        "data['Diagnosis'] = new_diag\n",
        "data['DD type'] = new_dtypes"
      ],
      "metadata": {
        "id": "3F_wRREne6dT"
      },
      "execution_count": 49,
      "outputs": []
    },
    {
      "cell_type": "code",
      "source": [
        "def meds(df, number):\n",
        "  medname = 'DailyMeds,med_name_0' + str(number)\n",
        "  meds = df[medname].values\n",
        "  new_meds = []\n",
        "\n",
        "  for i in range(0, df.shape[0]):\n",
        "    if meds[i] == '.':\n",
        "      new_meds.append(0)\n",
        "    elif type(meds[i]) == float:\n",
        "      new_meds.append(0)\n",
        "    elif type(meds[i]) == str:\n",
        "      new_meds.append(meds[i])\n",
        "    else:\n",
        "      print(meds[i], i)\n",
        "      break\n",
        "  return new_meds"
      ],
      "metadata": {
        "id": "y3Y8GkTGOOB9"
      },
      "execution_count": 50,
      "outputs": []
    },
    {
      "cell_type": "code",
      "source": [
        "all_meds = {}\n",
        "for i in range(1, 4):\n",
        "  all_meds['med_%s' % i] = meds(data, i)"
      ],
      "metadata": {
        "id": "ufmhhKVvPHDa"
      },
      "execution_count": 51,
      "outputs": []
    },
    {
      "cell_type": "code",
      "source": [
        "meds_in_one = []\n",
        "for i in range(0, data.shape[0]):\n",
        "  participant = []\n",
        "  for sublist in all_meds:\n",
        "    subset = all_meds[sublist][i]\n",
        "    if type(subset) == str:\n",
        "      participant.append(subset)\n",
        "  if len(participant) == 0:\n",
        "    meds_in_one.append(0)\n",
        "  elif len(participant) == 1:\n",
        "    meds_in_one.append(participant[0])\n",
        "  else:\n",
        "    name = ''\n",
        "    for part in participant:\n",
        "      name = name + part + ' '\n",
        "    meds_in_one.append(name)"
      ],
      "metadata": {
        "id": "NdsIsF2yP5xK"
      },
      "execution_count": 52,
      "outputs": []
    },
    {
      "cell_type": "code",
      "source": [
        "data['Medicine'] = meds_in_one"
      ],
      "metadata": {
        "id": "nokonDf4RMXd"
      },
      "execution_count": 53,
      "outputs": []
    },
    {
      "cell_type": "markdown",
      "source": [
        "Working with the DD type columns"
      ],
      "metadata": {
        "id": "49bc1LLWDJZb"
      }
    },
    {
      "cell_type": "code",
      "source": [
        "dd = data['DD type'].values\n",
        "new_dd = []\n",
        "for i in dd:\n",
        "  if i == 'Reading ' or i == 'Reading Reading ':\n",
        "    new_dd.append('Reading')\n",
        "  elif i == 'Reading Writing Math ' or i == 'Reading Math Writing ':\n",
        "    new_dd.append('Reading, Writing, Math')\n",
        "  elif i == 'Reading Math ' or i == 'Reading Math Math ' or i == 'Math Reading Reading ' or i == 'Math Reading ':\n",
        "    new_dd.append('Reading, Math')\n",
        "  elif i == 'Math ':\n",
        "    new_dd.append('Math')\n",
        "  elif i == 'Writing ':\n",
        "    new_dd.append('Writing')\n",
        "  elif i == 'Reading Writing ':\n",
        "    new_dd.append('Reading, Writing')\n",
        "  elif i == 'Math Writing ' or i == 'Writing Math ':\n",
        "    new_dd.append('Writing, Math')\n",
        "  else:\n",
        "    new_dd.append(i)"
      ],
      "metadata": {
        "id": "23OMCV6gDPXr"
      },
      "execution_count": 54,
      "outputs": []
    },
    {
      "cell_type": "code",
      "source": [
        "data['DD type'] = new_dd"
      ],
      "metadata": {
        "id": "QpB_bk5FHXH1"
      },
      "execution_count": 55,
      "outputs": []
    },
    {
      "cell_type": "code",
      "source": [
        "# adding the status of patients to exclude the cases with the diagnosis but w/out DD\n",
        "status = []\n",
        "dd = data['DD'].values\n",
        "diag = data['Diagnosis'].values\n",
        "for i in range(0, data.shape[0]):\n",
        "  if dd[i] == 1:\n",
        "    if diag[i] == 'SLD':\n",
        "      status.append('only DD')\n",
        "    elif 'Autism' in diag[i] or 'Intellectual' in diag[i]:\n",
        "      status.append('DD with autism or intellectual')\n",
        "    else:\n",
        "      status.append('DD with comorbidities')\n",
        "  else:\n",
        "    if diag[i] == 0:\n",
        "      status.append('control')\n",
        "    else:\n",
        "      status.append('without DD')"
      ],
      "metadata": {
        "id": "Aa1-s-AwIsSS"
      },
      "execution_count": 56,
      "outputs": []
    },
    {
      "cell_type": "code",
      "source": [
        "data['Status'] = status"
      ],
      "metadata": {
        "id": "aQhEIZ1HNHRV"
      },
      "execution_count": 57,
      "outputs": []
    },
    {
      "cell_type": "code",
      "source": [
        "# dealing with CTOPP results\n",
        "names = ['CTOPP,CTOPP_BW_D', 'CTOPP,CTOPP_BW_P', 'CTOPP,CTOPP_BW_R',\n",
        "       'CTOPP,CTOPP_BW_S', 'CTOPP,CTOPP_EL_D', 'CTOPP,CTOPP_EL_P',\n",
        "       'CTOPP,CTOPP_EL_R', 'CTOPP,CTOPP_EL_S', 'CTOPP,CTOPP_NR_D',\n",
        "       'CTOPP,CTOPP_NR_P', 'CTOPP,CTOPP_NR_R', 'CTOPP,CTOPP_NR_S',\n",
        "       'CTOPP,CTOPP_RD_D', 'CTOPP,CTOPP_RD_P', 'CTOPP,CTOPP_RD_R',\n",
        "       'CTOPP,CTOPP_RD_S', 'CTOPP,CTOPP_RL_D', 'CTOPP,CTOPP_RL_P',\n",
        "       'CTOPP,CTOPP_RL_R', 'CTOPP,CTOPP_RL_S', 'CTOPP,CTOPP_RO_D',\n",
        "       'CTOPP,CTOPP_RO_P', 'CTOPP,CTOPP_RO_R', 'CTOPP,CTOPP_RO_S',\n",
        "       'CTOPP,CTOPP_RSN_Comp', 'CTOPP,CTOPP_RSN_D', 'CTOPP,CTOPP_RSN_P',\n",
        "       'CTOPP,CTOPP_RSN_Sum']\n",
        "\n",
        "# data full\n",
        "for i in names:\n",
        "  data[i] = data[i].fillna('.')"
      ],
      "metadata": {
        "id": "9vn2kbMRNE4w"
      },
      "execution_count": 58,
      "outputs": []
    },
    {
      "cell_type": "code",
      "source": [
        "ctopp = []\n",
        "ids = data.Identifiers.values.tolist()\n",
        "for id in ids:\n",
        "  subset = data[data['Identifiers'] == id]\n",
        "  tests = []\n",
        "  for name in names:\n",
        "    if subset[name].values[0] == '.':\n",
        "      tests.append(name)\n",
        "  new_tests = ''\n",
        "  if len(tests) == 0:\n",
        "    ctopp.append('full')\n",
        "  elif len(tests) == 28:\n",
        "    ctopp.append('missing')\n",
        "  else:\n",
        "    for test in tests:\n",
        "      new_tests = new_tests + ', ' + test.replace('CTOPP,CTOPP_', '')\n",
        "    ctopp.append(new_tests[2:])\n",
        "data['CTOPP'] = ctopp"
      ],
      "metadata": {
        "id": "G5bqLXgANe9H"
      },
      "execution_count": 59,
      "outputs": []
    },
    {
      "cell_type": "code",
      "source": [
        "diag = data.Diagnosis.values\n",
        "adhd = []\n",
        "for i in diag:\n",
        "  if i == 0:\n",
        "    adhd.append(0)\n",
        "  elif 'ADHD' in i:\n",
        "    if 'ADHD-Inattentive Type' in i:\n",
        "      adhd.append('ADHD-Inattentive Type')\n",
        "    elif 'ADHD-Combined Type' in i:\n",
        "      adhd.append('ADHD-Combined Type')\n",
        "    elif 'ADHD-Hyperactive/Impulsive Type' in i:\n",
        "      adhd.append('ADHD-Hyperactive/Impulsive Type')\n",
        "    elif 'Unspecified Attention-Deficit/Hyperactivity Disorder' in i:\n",
        "      adhd.append('Unspecified ADHD')\n",
        "    elif 'Other Specified Attention-Deficit/Hyperactivity Disorder' in i:\n",
        "      adhd.append('Specified ADHD')\n",
        "  else:\n",
        "    adhd.append(0)"
      ],
      "metadata": {
        "id": "oJpYadSIQQH7"
      },
      "execution_count": 60,
      "outputs": []
    },
    {
      "cell_type": "code",
      "source": [
        "data['ADHD'] = adhd"
      ],
      "metadata": {
        "id": "eGvZSRmyQR97"
      },
      "execution_count": 61,
      "outputs": []
    },
    {
      "cell_type": "markdown",
      "source": [
        "## Exclusion"
      ],
      "metadata": {
        "id": "SKLY8kv0GHLO"
      }
    },
    {
      "cell_type": "code",
      "source": [
        "data_filtered = data.copy() # full"
      ],
      "metadata": {
        "id": "BDavNtBpXy1W"
      },
      "execution_count": 75,
      "outputs": []
    },
    {
      "cell_type": "code",
      "source": [
        "# leaving only right-handed\n",
        "data_filtered = data_filtered[data_filtered['EHQ,EHQ_Total'] != '.']\n",
        "data_filtered['EHQ,EHQ_Total'] = data_filtered['EHQ,EHQ_Total'].astype(float)\n",
        "data_filtered = data_filtered[data_filtered['EHQ,EHQ_Total'] >= 40]"
      ],
      "metadata": {
        "id": "_tWi-3-jWxRg",
        "outputId": "1b3c4f7e-299d-42cb-f64c-6698ce81e8e5",
        "colab": {
          "base_uri": "https://localhost:8080/"
        }
      },
      "execution_count": 76,
      "outputs": [
        {
          "output_type": "stream",
          "name": "stderr",
          "text": [
            "<ipython-input-76-210d3af4d312>:3: SettingWithCopyWarning: \n",
            "A value is trying to be set on a copy of a slice from a DataFrame.\n",
            "Try using .loc[row_indexer,col_indexer] = value instead\n",
            "\n",
            "See the caveats in the documentation: https://pandas.pydata.org/pandas-docs/stable/user_guide/indexing.html#returning-a-view-versus-a-copy\n",
            "  data_filtered['EHQ,EHQ_Total'] = data_filtered['EHQ,EHQ_Total'].astype(float)\n"
          ]
        }
      ]
    },
    {
      "cell_type": "code",
      "source": [
        "# without Math, Writing, Math+Writing in DD diagnosis\n",
        "data_filtered = data_filtered[data_filtered['DD type'] != 'Math']\n",
        "data_filtered = data_filtered[data_filtered['DD type'] != 'Writing']\n",
        "data_filtered = data_filtered[data_filtered['DD type'] != 'Writing, Math']"
      ],
      "metadata": {
        "id": "cd8tC0UBH95E"
      },
      "execution_count": 77,
      "outputs": []
    },
    {
      "cell_type": "code",
      "source": [
        "# data full\n",
        "# excluding people older than 18\n",
        "data_filtered = data_filtered[data_filtered['Basic_Demos,Age'] <= 18]"
      ],
      "metadata": {
        "id": "p1HIlfhAIP67"
      },
      "execution_count": 78,
      "outputs": []
    },
    {
      "cell_type": "code",
      "source": [
        "# excluding people who have some medicine recorded\n",
        "data_filtered = data_filtered[data_filtered['Medicine'] == 0]"
      ],
      "metadata": {
        "id": "MQLMitlBIV5a"
      },
      "execution_count": 79,
      "outputs": []
    },
    {
      "cell_type": "code",
      "source": [
        "# excluding those who are not controls or people with dd\n",
        "data_filtered = data_filtered[data_filtered['Status'] != 'without DD']"
      ],
      "metadata": {
        "id": "lNyLp8vRIi57"
      },
      "execution_count": 80,
      "outputs": []
    },
    {
      "cell_type": "code",
      "source": [
        "# excluding those with autism and intellectual disorder\n",
        "data_filtered = data_filtered[data_filtered['Status'] != 'DD with autism or intellectual']"
      ],
      "metadata": {
        "id": "ClHulJ4RObos"
      },
      "execution_count": 81,
      "outputs": []
    },
    {
      "cell_type": "code",
      "source": [
        "# data full\n",
        "# excluding amphetamines, benzaozepines, tca, thc\n",
        "data_filtered = data_filtered[data_filtered['DrugScreen,AMP500'] != '1']\n",
        "data_filtered = data_filtered[data_filtered['DrugScreen,TCA1000'] != '1']\n",
        "data_filtered = data_filtered[data_filtered['DrugScreen,THC50'] != '1']"
      ],
      "metadata": {
        "id": "LjUjle3xAN1p"
      },
      "execution_count": 149,
      "outputs": []
    },
    {
      "cell_type": "markdown",
      "source": [
        "Checking whether there any other criteria that we should consider for filtering the data."
      ],
      "metadata": {
        "id": "8UfKPeg3hfNS"
      }
    },
    {
      "cell_type": "markdown",
      "source": [
        "Documenting what I checked and what looks okay:\n",
        "\n",
        "1.   Audit - okay, no values greater than 15\n",
        "2.   Barrat test - impulsiveness\n",
        "3.   Daily meds - checked\n",
        "4.   Drug screen - checked\n",
        "5.   MRI information - there, might be used if necessary\n",
        "6.   PreInt - background information - 'PreInt_EduHx,reading' - describes exposure to reading\n",
        "\n"
      ],
      "metadata": {
        "id": "excsarvoh-6i"
      }
    },
    {
      "cell_type": "code",
      "source": [
        "data_filtered.columns[250:300]"
      ],
      "metadata": {
        "id": "PLlmH4vtUCpk",
        "outputId": "64f9695b-6809-4cab-872c-b2d1e0af3560",
        "colab": {
          "base_uri": "https://localhost:8080/"
        }
      },
      "execution_count": 158,
      "outputs": [
        {
          "output_type": "execute_result",
          "data": {
            "text/plain": [
              "Index(['NIH_final,NIH_Card_Sort_Uncorr_Stnd',\n",
              "       'NIH_final,NIH_Flanker_Age_Corr_Stnd', 'NIH_final,NIH_Flanker_Raw',\n",
              "       'NIH_final,NIH_Flanker_Uncorr_Stnd',\n",
              "       'NIH_final,NIH_List_Sort_Age_Corr_Stnd',\n",
              "       'NIH_final,NIH_List_Sort_Computed_Score', 'NIH_final,NIH_List_Sort_Raw',\n",
              "       'NIH_final,NIH_List_Sort_Uncorr_Stnd',\n",
              "       'NIH_final,NIH_Picture_Seq_Age_Corr_Stnd',\n",
              "       'NIH_final,NIH_Picture_Seq_Computed_Score',\n",
              "       'NIH_final,NIH_Picture_Seq_Raw',\n",
              "       'NIH_final,NIH_Picture_Seq_Uncorr_Stnd',\n",
              "       'NIH_final,NIH_Picture_Vocab_Age_Corr_Stnd',\n",
              "       'NIH_final,NIH_Picture_Vocab_Computed_Score',\n",
              "       'NIH_final,NIH_Picture_Vocab_Raw',\n",
              "       'NIH_final,NIH_Picture_Vocab_Uncorr_Stnd',\n",
              "       'NIH_final,NIH_Processing_Age_Corr_Stnd',\n",
              "       'NIH_final,NIH_Processing_Computed_Score',\n",
              "       'NIH_final,NIH_Processing_Raw', 'NIH_final,NIH_Processing_Uncorr_Stnd',\n",
              "       'PPVT,PPVT4_Percentile', 'PPVT,PPVT4_RawScore',\n",
              "       'PPVT,PPVT4_StandardScore', 'PreInt_EduHx,learning_disability',\n",
              "       'PreInt_EduHx,reading', 'PreInt_FamHx,f_adhd', 'PreInt_FamHx,f_autism',\n",
              "       'PreInt_FamHx,f_learn', 'PreInt_FamHx,f_neuro_other',\n",
              "       'PreInt_FamHx,f_seizures', 'PreInt_FamHx,m_adhd',\n",
              "       'PreInt_FamHx,m_autism', 'PreInt_FamHx,m_learn',\n",
              "       'PreInt_FamHx,m_neuro_other', 'PreInt_FamHx,or_adhd',\n",
              "       'PreInt_FamHx,or_autism', 'PreInt_FamHx,or_learn',\n",
              "       'PreInt_FamHx,or_neuro_other', 'PreInt_FamHx,p_adhd',\n",
              "       'PreInt_FamHx,p_autism', 'PreInt_FamHx,p_learn',\n",
              "       'PreInt_FamHx,p_neuro_other', 'PreInt_FamHx,s_adhd',\n",
              "       'PreInt_FamHx,s_autism', 'PreInt_FamHx,s_learn',\n",
              "       'PreInt_FamHx,s_neuro_other', 'PreInt_FamHx_RDC,fdxpsych',\n",
              "       'PreInt_FamHx_RDC,fepilep', 'PreInt_FamHx_RDC,ffhxautism',\n",
              "       'PreInt_FamHx_RDC,mdxpsych'],\n",
              "      dtype='object')"
            ]
          },
          "metadata": {},
          "execution_count": 158
        }
      ]
    },
    {
      "cell_type": "code",
      "source": [
        "data_filtered['PreInt_FamHx_RDC,fepilep'].unique()"
      ],
      "metadata": {
        "id": "M1q1-U72hq7R",
        "outputId": "5766976b-f9ba-4394-d986-d297f21817eb",
        "colab": {
          "base_uri": "https://localhost:8080/"
        }
      },
      "execution_count": 164,
      "outputs": [
        {
          "output_type": "execute_result",
          "data": {
            "text/plain": [
              "array(['No', '.', nan, 'No response', 'Possible/mild', 'Definite/severe'],\n",
              "      dtype=object)"
            ]
          },
          "metadata": {},
          "execution_count": 164
        }
      ]
    },
    {
      "cell_type": "code",
      "source": [
        "data_filtered[data_filtered['PreInt_FamHx,f_adhd'] == '1']"
      ],
      "metadata": {
        "id": "RBIg0wSAlHDQ",
        "outputId": "f61aaef7-dbe9-4128-80dd-a9a486d581b8",
        "colab": {
          "base_uri": "https://localhost:8080/",
          "height": 669
        }
      },
      "execution_count": 163,
      "outputs": [
        {
          "output_type": "execute_result",
          "data": {
            "text/plain": [
              "       Identifiers AUDIT,AUDIT_Total_Score Audit,AUDIT_Total_Score  \\\n",
              "2054  NDARKR010EN7                       .                       .   \n",
              "2118  NDARLA516PH1                       .                       .   \n",
              "4707  NDARCA186WGH                       0                       0   \n",
              "4737  NDARFW130NGG                       .                       .   \n",
              "4772  NDARKM551DA4                       .                       .   \n",
              "4856  NDARYP516VUU                       .                       .   \n",
              "\n",
              "     Barratt,Barratt_Total Barratt,Barratt_Total_Edu  \\\n",
              "2054                    48                        18   \n",
              "2118                    48                        18   \n",
              "4707                  10.5                      10.5   \n",
              "4737                    44                      16.5   \n",
              "4772                    27                        12   \n",
              "4856                  64.5                      19.5   \n",
              "\n",
              "     Barratt,Barratt_Total_Occ  Basic_Demos,Age Basic_Demos,EID  \\\n",
              "2054                        30         8.034109    NDARKR010EN7   \n",
              "2118                        30         8.034109    NDARLA516PH1   \n",
              "4707                         0        15.268195    NDARCA186WGH   \n",
              "4737                      27.5         8.316107    NDARFW130NGG   \n",
              "4772                        15         9.252338    NDARKM551DA4   \n",
              "4856                        45        10.758156    NDARYP516VUU   \n",
              "\n",
              "     Basic_Demos,Patient_ID  Basic_Demos,Sex  ...  WISC_Remote,WISC_complete  \\\n",
              "2054           NDARKR010EN7                0  ...                          .   \n",
              "2118           NDARLA516PH1                0  ...                          .   \n",
              "4707           NDARCA186WGH                0  ...                          .   \n",
              "4737           NDARFW130NGG                1  ...                          .   \n",
              "4772           NDARKM551DA4                0  ...                          .   \n",
              "4856           NDARYP516VUU                1  ...                          .   \n",
              "\n",
              "     DD                                          Diagnosis        DD type  \\\n",
              "2054  0                                                  0              0   \n",
              "2118  0                                                  0              0   \n",
              "4707  1  Unspecified Attention-Deficit/Hyperactivity Di...  Reading, Math   \n",
              "4737  1  Intermittent Explosive Disorder.Other Specifie...        Reading   \n",
              "4772  1  ADHD-Inattentive Type.Oppositional Defiant Dis...        Reading   \n",
              "4856  0                                                  0              0   \n",
              "\n",
              "     Medicine                 Status  \\\n",
              "2054        0                control   \n",
              "2118        0                control   \n",
              "4707        0  DD with comorbidities   \n",
              "4737        0  DD with comorbidities   \n",
              "4772        0  DD with comorbidities   \n",
              "4856        0                control   \n",
              "\n",
              "                                                  CTOPP  \\\n",
              "2054  BW_D, BW_P, BW_R, BW_S, EL_D, EL_P, EL_R, EL_S...   \n",
              "2118  BW_D, BW_P, BW_R, BW_S, EL_D, EL_P, EL_R, EL_S...   \n",
              "4707                                            missing   \n",
              "4737                                            missing   \n",
              "4772                                            missing   \n",
              "4856                                            missing   \n",
              "\n",
              "                       ADHD   IQ  Test  \n",
              "2054                      0  115  wisc  \n",
              "2118                      0  110  wisc  \n",
              "4707                      0   83  wasi  \n",
              "4737                      0   86  wasi  \n",
              "4772  ADHD-Inattentive Type   76  wasi  \n",
              "4856                      0   94  wasi  \n",
              "\n",
              "[6 rows x 550 columns]"
            ],
            "text/html": [
              "\n",
              "  <div id=\"df-186c55ee-1926-4645-b29c-01e9e0adcbd6\" class=\"colab-df-container\">\n",
              "    <div>\n",
              "<style scoped>\n",
              "    .dataframe tbody tr th:only-of-type {\n",
              "        vertical-align: middle;\n",
              "    }\n",
              "\n",
              "    .dataframe tbody tr th {\n",
              "        vertical-align: top;\n",
              "    }\n",
              "\n",
              "    .dataframe thead th {\n",
              "        text-align: right;\n",
              "    }\n",
              "</style>\n",
              "<table border=\"1\" class=\"dataframe\">\n",
              "  <thead>\n",
              "    <tr style=\"text-align: right;\">\n",
              "      <th></th>\n",
              "      <th>Identifiers</th>\n",
              "      <th>AUDIT,AUDIT_Total_Score</th>\n",
              "      <th>Audit,AUDIT_Total_Score</th>\n",
              "      <th>Barratt,Barratt_Total</th>\n",
              "      <th>Barratt,Barratt_Total_Edu</th>\n",
              "      <th>Barratt,Barratt_Total_Occ</th>\n",
              "      <th>Basic_Demos,Age</th>\n",
              "      <th>Basic_Demos,EID</th>\n",
              "      <th>Basic_Demos,Patient_ID</th>\n",
              "      <th>Basic_Demos,Sex</th>\n",
              "      <th>...</th>\n",
              "      <th>WISC_Remote,WISC_complete</th>\n",
              "      <th>DD</th>\n",
              "      <th>Diagnosis</th>\n",
              "      <th>DD type</th>\n",
              "      <th>Medicine</th>\n",
              "      <th>Status</th>\n",
              "      <th>CTOPP</th>\n",
              "      <th>ADHD</th>\n",
              "      <th>IQ</th>\n",
              "      <th>Test</th>\n",
              "    </tr>\n",
              "  </thead>\n",
              "  <tbody>\n",
              "    <tr>\n",
              "      <th>2054</th>\n",
              "      <td>NDARKR010EN7</td>\n",
              "      <td>.</td>\n",
              "      <td>.</td>\n",
              "      <td>48</td>\n",
              "      <td>18</td>\n",
              "      <td>30</td>\n",
              "      <td>8.034109</td>\n",
              "      <td>NDARKR010EN7</td>\n",
              "      <td>NDARKR010EN7</td>\n",
              "      <td>0</td>\n",
              "      <td>...</td>\n",
              "      <td>.</td>\n",
              "      <td>0</td>\n",
              "      <td>0</td>\n",
              "      <td>0</td>\n",
              "      <td>0</td>\n",
              "      <td>control</td>\n",
              "      <td>BW_D, BW_P, BW_R, BW_S, EL_D, EL_P, EL_R, EL_S...</td>\n",
              "      <td>0</td>\n",
              "      <td>115</td>\n",
              "      <td>wisc</td>\n",
              "    </tr>\n",
              "    <tr>\n",
              "      <th>2118</th>\n",
              "      <td>NDARLA516PH1</td>\n",
              "      <td>.</td>\n",
              "      <td>.</td>\n",
              "      <td>48</td>\n",
              "      <td>18</td>\n",
              "      <td>30</td>\n",
              "      <td>8.034109</td>\n",
              "      <td>NDARLA516PH1</td>\n",
              "      <td>NDARLA516PH1</td>\n",
              "      <td>0</td>\n",
              "      <td>...</td>\n",
              "      <td>.</td>\n",
              "      <td>0</td>\n",
              "      <td>0</td>\n",
              "      <td>0</td>\n",
              "      <td>0</td>\n",
              "      <td>control</td>\n",
              "      <td>BW_D, BW_P, BW_R, BW_S, EL_D, EL_P, EL_R, EL_S...</td>\n",
              "      <td>0</td>\n",
              "      <td>110</td>\n",
              "      <td>wisc</td>\n",
              "    </tr>\n",
              "    <tr>\n",
              "      <th>4707</th>\n",
              "      <td>NDARCA186WGH</td>\n",
              "      <td>0</td>\n",
              "      <td>0</td>\n",
              "      <td>10.5</td>\n",
              "      <td>10.5</td>\n",
              "      <td>0</td>\n",
              "      <td>15.268195</td>\n",
              "      <td>NDARCA186WGH</td>\n",
              "      <td>NDARCA186WGH</td>\n",
              "      <td>0</td>\n",
              "      <td>...</td>\n",
              "      <td>.</td>\n",
              "      <td>1</td>\n",
              "      <td>Unspecified Attention-Deficit/Hyperactivity Di...</td>\n",
              "      <td>Reading, Math</td>\n",
              "      <td>0</td>\n",
              "      <td>DD with comorbidities</td>\n",
              "      <td>missing</td>\n",
              "      <td>0</td>\n",
              "      <td>83</td>\n",
              "      <td>wasi</td>\n",
              "    </tr>\n",
              "    <tr>\n",
              "      <th>4737</th>\n",
              "      <td>NDARFW130NGG</td>\n",
              "      <td>.</td>\n",
              "      <td>.</td>\n",
              "      <td>44</td>\n",
              "      <td>16.5</td>\n",
              "      <td>27.5</td>\n",
              "      <td>8.316107</td>\n",
              "      <td>NDARFW130NGG</td>\n",
              "      <td>NDARFW130NGG</td>\n",
              "      <td>1</td>\n",
              "      <td>...</td>\n",
              "      <td>.</td>\n",
              "      <td>1</td>\n",
              "      <td>Intermittent Explosive Disorder.Other Specifie...</td>\n",
              "      <td>Reading</td>\n",
              "      <td>0</td>\n",
              "      <td>DD with comorbidities</td>\n",
              "      <td>missing</td>\n",
              "      <td>0</td>\n",
              "      <td>86</td>\n",
              "      <td>wasi</td>\n",
              "    </tr>\n",
              "    <tr>\n",
              "      <th>4772</th>\n",
              "      <td>NDARKM551DA4</td>\n",
              "      <td>.</td>\n",
              "      <td>.</td>\n",
              "      <td>27</td>\n",
              "      <td>12</td>\n",
              "      <td>15</td>\n",
              "      <td>9.252338</td>\n",
              "      <td>NDARKM551DA4</td>\n",
              "      <td>NDARKM551DA4</td>\n",
              "      <td>0</td>\n",
              "      <td>...</td>\n",
              "      <td>.</td>\n",
              "      <td>1</td>\n",
              "      <td>ADHD-Inattentive Type.Oppositional Defiant Dis...</td>\n",
              "      <td>Reading</td>\n",
              "      <td>0</td>\n",
              "      <td>DD with comorbidities</td>\n",
              "      <td>missing</td>\n",
              "      <td>ADHD-Inattentive Type</td>\n",
              "      <td>76</td>\n",
              "      <td>wasi</td>\n",
              "    </tr>\n",
              "    <tr>\n",
              "      <th>4856</th>\n",
              "      <td>NDARYP516VUU</td>\n",
              "      <td>.</td>\n",
              "      <td>.</td>\n",
              "      <td>64.5</td>\n",
              "      <td>19.5</td>\n",
              "      <td>45</td>\n",
              "      <td>10.758156</td>\n",
              "      <td>NDARYP516VUU</td>\n",
              "      <td>NDARYP516VUU</td>\n",
              "      <td>1</td>\n",
              "      <td>...</td>\n",
              "      <td>.</td>\n",
              "      <td>0</td>\n",
              "      <td>0</td>\n",
              "      <td>0</td>\n",
              "      <td>0</td>\n",
              "      <td>control</td>\n",
              "      <td>missing</td>\n",
              "      <td>0</td>\n",
              "      <td>94</td>\n",
              "      <td>wasi</td>\n",
              "    </tr>\n",
              "  </tbody>\n",
              "</table>\n",
              "<p>6 rows × 550 columns</p>\n",
              "</div>\n",
              "    <div class=\"colab-df-buttons\">\n",
              "\n",
              "  <div class=\"colab-df-container\">\n",
              "    <button class=\"colab-df-convert\" onclick=\"convertToInteractive('df-186c55ee-1926-4645-b29c-01e9e0adcbd6')\"\n",
              "            title=\"Convert this dataframe to an interactive table.\"\n",
              "            style=\"display:none;\">\n",
              "\n",
              "  <svg xmlns=\"http://www.w3.org/2000/svg\" height=\"24px\" viewBox=\"0 -960 960 960\">\n",
              "    <path d=\"M120-120v-720h720v720H120Zm60-500h600v-160H180v160Zm220 220h160v-160H400v160Zm0 220h160v-160H400v160ZM180-400h160v-160H180v160Zm440 0h160v-160H620v160ZM180-180h160v-160H180v160Zm440 0h160v-160H620v160Z\"/>\n",
              "  </svg>\n",
              "    </button>\n",
              "\n",
              "  <style>\n",
              "    .colab-df-container {\n",
              "      display:flex;\n",
              "      gap: 12px;\n",
              "    }\n",
              "\n",
              "    .colab-df-convert {\n",
              "      background-color: #E8F0FE;\n",
              "      border: none;\n",
              "      border-radius: 50%;\n",
              "      cursor: pointer;\n",
              "      display: none;\n",
              "      fill: #1967D2;\n",
              "      height: 32px;\n",
              "      padding: 0 0 0 0;\n",
              "      width: 32px;\n",
              "    }\n",
              "\n",
              "    .colab-df-convert:hover {\n",
              "      background-color: #E2EBFA;\n",
              "      box-shadow: 0px 1px 2px rgba(60, 64, 67, 0.3), 0px 1px 3px 1px rgba(60, 64, 67, 0.15);\n",
              "      fill: #174EA6;\n",
              "    }\n",
              "\n",
              "    .colab-df-buttons div {\n",
              "      margin-bottom: 4px;\n",
              "    }\n",
              "\n",
              "    [theme=dark] .colab-df-convert {\n",
              "      background-color: #3B4455;\n",
              "      fill: #D2E3FC;\n",
              "    }\n",
              "\n",
              "    [theme=dark] .colab-df-convert:hover {\n",
              "      background-color: #434B5C;\n",
              "      box-shadow: 0px 1px 3px 1px rgba(0, 0, 0, 0.15);\n",
              "      filter: drop-shadow(0px 1px 2px rgba(0, 0, 0, 0.3));\n",
              "      fill: #FFFFFF;\n",
              "    }\n",
              "  </style>\n",
              "\n",
              "    <script>\n",
              "      const buttonEl =\n",
              "        document.querySelector('#df-186c55ee-1926-4645-b29c-01e9e0adcbd6 button.colab-df-convert');\n",
              "      buttonEl.style.display =\n",
              "        google.colab.kernel.accessAllowed ? 'block' : 'none';\n",
              "\n",
              "      async function convertToInteractive(key) {\n",
              "        const element = document.querySelector('#df-186c55ee-1926-4645-b29c-01e9e0adcbd6');\n",
              "        const dataTable =\n",
              "          await google.colab.kernel.invokeFunction('convertToInteractive',\n",
              "                                                    [key], {});\n",
              "        if (!dataTable) return;\n",
              "\n",
              "        const docLinkHtml = 'Like what you see? Visit the ' +\n",
              "          '<a target=\"_blank\" href=https://colab.research.google.com/notebooks/data_table.ipynb>data table notebook</a>'\n",
              "          + ' to learn more about interactive tables.';\n",
              "        element.innerHTML = '';\n",
              "        dataTable['output_type'] = 'display_data';\n",
              "        await google.colab.output.renderOutput(dataTable, element);\n",
              "        const docLink = document.createElement('div');\n",
              "        docLink.innerHTML = docLinkHtml;\n",
              "        element.appendChild(docLink);\n",
              "      }\n",
              "    </script>\n",
              "  </div>\n",
              "\n",
              "\n",
              "<div id=\"df-3129cc98-645d-4688-a653-6bb1030c8f73\">\n",
              "  <button class=\"colab-df-quickchart\" onclick=\"quickchart('df-3129cc98-645d-4688-a653-6bb1030c8f73')\"\n",
              "            title=\"Suggest charts\"\n",
              "            style=\"display:none;\">\n",
              "\n",
              "<svg xmlns=\"http://www.w3.org/2000/svg\" height=\"24px\"viewBox=\"0 0 24 24\"\n",
              "     width=\"24px\">\n",
              "    <g>\n",
              "        <path d=\"M19 3H5c-1.1 0-2 .9-2 2v14c0 1.1.9 2 2 2h14c1.1 0 2-.9 2-2V5c0-1.1-.9-2-2-2zM9 17H7v-7h2v7zm4 0h-2V7h2v10zm4 0h-2v-4h2v4z\"/>\n",
              "    </g>\n",
              "</svg>\n",
              "  </button>\n",
              "\n",
              "<style>\n",
              "  .colab-df-quickchart {\n",
              "      --bg-color: #E8F0FE;\n",
              "      --fill-color: #1967D2;\n",
              "      --hover-bg-color: #E2EBFA;\n",
              "      --hover-fill-color: #174EA6;\n",
              "      --disabled-fill-color: #AAA;\n",
              "      --disabled-bg-color: #DDD;\n",
              "  }\n",
              "\n",
              "  [theme=dark] .colab-df-quickchart {\n",
              "      --bg-color: #3B4455;\n",
              "      --fill-color: #D2E3FC;\n",
              "      --hover-bg-color: #434B5C;\n",
              "      --hover-fill-color: #FFFFFF;\n",
              "      --disabled-bg-color: #3B4455;\n",
              "      --disabled-fill-color: #666;\n",
              "  }\n",
              "\n",
              "  .colab-df-quickchart {\n",
              "    background-color: var(--bg-color);\n",
              "    border: none;\n",
              "    border-radius: 50%;\n",
              "    cursor: pointer;\n",
              "    display: none;\n",
              "    fill: var(--fill-color);\n",
              "    height: 32px;\n",
              "    padding: 0;\n",
              "    width: 32px;\n",
              "  }\n",
              "\n",
              "  .colab-df-quickchart:hover {\n",
              "    background-color: var(--hover-bg-color);\n",
              "    box-shadow: 0 1px 2px rgba(60, 64, 67, 0.3), 0 1px 3px 1px rgba(60, 64, 67, 0.15);\n",
              "    fill: var(--button-hover-fill-color);\n",
              "  }\n",
              "\n",
              "  .colab-df-quickchart-complete:disabled,\n",
              "  .colab-df-quickchart-complete:disabled:hover {\n",
              "    background-color: var(--disabled-bg-color);\n",
              "    fill: var(--disabled-fill-color);\n",
              "    box-shadow: none;\n",
              "  }\n",
              "\n",
              "  .colab-df-spinner {\n",
              "    border: 2px solid var(--fill-color);\n",
              "    border-color: transparent;\n",
              "    border-bottom-color: var(--fill-color);\n",
              "    animation:\n",
              "      spin 1s steps(1) infinite;\n",
              "  }\n",
              "\n",
              "  @keyframes spin {\n",
              "    0% {\n",
              "      border-color: transparent;\n",
              "      border-bottom-color: var(--fill-color);\n",
              "      border-left-color: var(--fill-color);\n",
              "    }\n",
              "    20% {\n",
              "      border-color: transparent;\n",
              "      border-left-color: var(--fill-color);\n",
              "      border-top-color: var(--fill-color);\n",
              "    }\n",
              "    30% {\n",
              "      border-color: transparent;\n",
              "      border-left-color: var(--fill-color);\n",
              "      border-top-color: var(--fill-color);\n",
              "      border-right-color: var(--fill-color);\n",
              "    }\n",
              "    40% {\n",
              "      border-color: transparent;\n",
              "      border-right-color: var(--fill-color);\n",
              "      border-top-color: var(--fill-color);\n",
              "    }\n",
              "    60% {\n",
              "      border-color: transparent;\n",
              "      border-right-color: var(--fill-color);\n",
              "    }\n",
              "    80% {\n",
              "      border-color: transparent;\n",
              "      border-right-color: var(--fill-color);\n",
              "      border-bottom-color: var(--fill-color);\n",
              "    }\n",
              "    90% {\n",
              "      border-color: transparent;\n",
              "      border-bottom-color: var(--fill-color);\n",
              "    }\n",
              "  }\n",
              "</style>\n",
              "\n",
              "  <script>\n",
              "    async function quickchart(key) {\n",
              "      const quickchartButtonEl =\n",
              "        document.querySelector('#' + key + ' button');\n",
              "      quickchartButtonEl.disabled = true;  // To prevent multiple clicks.\n",
              "      quickchartButtonEl.classList.add('colab-df-spinner');\n",
              "      try {\n",
              "        const charts = await google.colab.kernel.invokeFunction(\n",
              "            'suggestCharts', [key], {});\n",
              "      } catch (error) {\n",
              "        console.error('Error during call to suggestCharts:', error);\n",
              "      }\n",
              "      quickchartButtonEl.classList.remove('colab-df-spinner');\n",
              "      quickchartButtonEl.classList.add('colab-df-quickchart-complete');\n",
              "    }\n",
              "    (() => {\n",
              "      let quickchartButtonEl =\n",
              "        document.querySelector('#df-3129cc98-645d-4688-a653-6bb1030c8f73 button');\n",
              "      quickchartButtonEl.style.display =\n",
              "        google.colab.kernel.accessAllowed ? 'block' : 'none';\n",
              "    })();\n",
              "  </script>\n",
              "</div>\n",
              "    </div>\n",
              "  </div>\n"
            ],
            "application/vnd.google.colaboratory.intrinsic+json": {
              "type": "dataframe"
            }
          },
          "metadata": {},
          "execution_count": 163
        }
      ]
    },
    {
      "cell_type": "markdown",
      "source": [
        "Standardizing the IQ scores and Excluding people with the IQ scores less than 70. The main test is WISC. All others are additional."
      ],
      "metadata": {
        "id": "qssmlJVdWbYG"
      }
    },
    {
      "cell_type": "code",
      "source": [],
      "metadata": {
        "id": "nZkVFc7khbip"
      },
      "execution_count": null,
      "outputs": []
    },
    {
      "cell_type": "code",
      "source": [
        "# data full\n",
        "# substituting rare nan values with '.' for the standardisation of missing values\n",
        "data_filtered['KBIT,KBIT_IQ_Comp'] = data_filtered['KBIT,KBIT_IQ_Comp'].fillna('.')\n",
        "data_filtered['WASI,WASI_FSIQ'] = data_filtered['WASI,WASI_FSIQ'].fillna('.')\n",
        "data_filtered['WAIS,WAIS_FSIQ_SCALE'] = data_filtered['WAIS,WAIS_FSIQ_SCALE'].fillna('.')\n",
        "data_filtered['WISC,WISC_FSIQ'] = data_filtered['WISC,WISC_FSIQ'].fillna('.')"
      ],
      "metadata": {
        "id": "GE-mrHMjgzsG"
      },
      "execution_count": 82,
      "outputs": []
    },
    {
      "cell_type": "code",
      "source": [
        "# data full\n",
        "reference_test = []\n",
        "iq_value = []\n",
        "wisc = data_filtered['WISC,WISC_FSIQ'].values\n",
        "kbit = data_filtered['KBIT,KBIT_IQ_Comp'].values\n",
        "wasi = data_filtered['WASI,WASI_FSIQ'].values\n",
        "wais = data_filtered['WAIS,WAIS_FSIQ_SCALE'].values\n",
        "age = data_filtered['Basic_Demos,Age'].values\n",
        "\n",
        "for i in range(0, data_filtered.shape[0]):\n",
        "  # if there are no iq results\n",
        "  if wisc[i] == '.' and kbit[i] == '.' and wais[i] == '.' and wasi[i] == '.':\n",
        "    iq_value.append('none')\n",
        "    reference_test.append('none')\n",
        "  # if we have wisc\n",
        "  elif wisc[i] != '.':\n",
        "    if kbit[i] == '.':\n",
        "      iq_value.append(int(wisc[i]))\n",
        "      reference_test.append('wisc')\n",
        "    # if we also have kbit\n",
        "    else:\n",
        "      if age[i] < 6:\n",
        "        iq_value.append(int(kbit[i]))\n",
        "        reference_test.append('kbit')\n",
        "      else:\n",
        "        iq_value.append(int(wisc[i]))\n",
        "        reference_test.append('wisc')\n",
        "  # if we don't have wisc\n",
        "  else:\n",
        "    if kbit[i] != '.' and wasi[i] != '.':\n",
        "      if int(wasi[i]) > 70:\n",
        "        iq_value.append(int(wasi[i]))\n",
        "        reference_test.append('wasi')\n",
        "      else:\n",
        "        iq_value.append(int(kbit[i]))\n",
        "        reference_test.append('kbit')\n",
        "    elif kbit[i] != '.':\n",
        "      iq_value.append(int(kbit[i]))\n",
        "      reference_test.append('kbit')\n",
        "    elif wasi[i] != '.':\n",
        "      iq_value.append(int(wasi[i]))\n",
        "      reference_test.append('wasi')\n",
        "    elif wais[i] != '.':\n",
        "      iq_value.append(int(wais[i]))\n",
        "      reference_test.append('wais')"
      ],
      "metadata": {
        "id": "ISliL9sLYeWG"
      },
      "execution_count": 83,
      "outputs": []
    },
    {
      "cell_type": "code",
      "source": [
        "data_filtered['IQ'] = iq_value\n",
        "data_filtered['Test'] = reference_test"
      ],
      "metadata": {
        "id": "4UJUqyl0pj5d"
      },
      "execution_count": 84,
      "outputs": []
    },
    {
      "cell_type": "code",
      "source": [
        "data_filtered.columns[500:550]"
      ],
      "metadata": {
        "id": "GBH7Gy6_RkNt",
        "outputId": "05694c9e-c679-4050-d8fc-3719dee92a44",
        "colab": {
          "base_uri": "https://localhost:8080/"
        }
      },
      "execution_count": 106,
      "outputs": [
        {
          "output_type": "execute_result",
          "data": {
            "text/plain": [
              "Index(['WISC,WISC_complete', 'WISC_Remote,WISC_DS_Raw',\n",
              "       'WISC_Remote,WISC_DS_Scaled', 'WISC_Remote,WISC_FRI',\n",
              "       'WISC_Remote,WISC_FRI_Percentile', 'WISC_Remote,WISC_FRI_Sum',\n",
              "       'WISC_Remote,WISC_FW_Raw', 'WISC_Remote,WISC_FW_Scaled',\n",
              "       'WISC_Remote,WISC_Int_BD_Raw', 'WISC_Remote,WISC_Int_BD_Scaled',\n",
              "       'WISC_Remote,WISC_LNS_Raw', 'WISC_Remote,WISC_LNS_Scaled',\n",
              "       'WISC_Remote,WISC_MR_Raw', 'WISC_Remote,WISC_MR_Scaled',\n",
              "       'WISC_Remote,WISC_NMFSIQ', 'WISC_Remote,WISC_NMFSIQ_Percentile',\n",
              "       'WISC_Remote,WISC_NMFSIQ_Sum', 'WISC_Remote,WISC_NMVSI',\n",
              "       'WISC_Remote,WISC_NMVSI_Percentile', 'WISC_Remote,WISC_NMVSI_Sum',\n",
              "       'WISC_Remote,WISC_NSI', 'WISC_Remote,WISC_NSI_Percentile',\n",
              "       'WISC_Remote,WISC_NSI_Sum', 'WISC_Remote,WISC_NSL_Raw',\n",
              "       'WISC_Remote,WISC_NSL_Stnd', 'WISC_Remote,WISC_NSQ_Raw',\n",
              "       'WISC_Remote,WISC_NSQ_Scaled', 'WISC_Remote,WISC_NSQ_Stnd',\n",
              "       'WISC_Remote,WISC_Similarities_Raw',\n",
              "       'WISC_Remote,WISC_Similarities_Scaled', 'WISC_Remote,WISC_VCI',\n",
              "       'WISC_Remote,WISC_VCI_Percentile', 'WISC_Remote,WISC_VCI_Sum',\n",
              "       'WISC_Remote,WISC_VP_Raw', 'WISC_Remote,WISC_VP_Scaled',\n",
              "       'WISC_Remote,WISC_Vocab_Raw', 'WISC_Remote,WISC_Vocab_Scaled',\n",
              "       'WISC_Remote,WISC_WMI', 'WISC_Remote,WISC_WMI_Percentile',\n",
              "       'WISC_Remote,WISC_WMI_Sum', 'WISC_Remote,WISC_complete', 'DD',\n",
              "       'Diagnosis', 'DD type', 'Medicine', 'Status', 'CTOPP', 'ADHD', 'IQ',\n",
              "       'Test'],\n",
              "      dtype='object')"
            ]
          },
          "metadata": {},
          "execution_count": 106
        }
      ]
    },
    {
      "cell_type": "code",
      "source": [],
      "metadata": {
        "id": "VlR7HW10RouV"
      },
      "execution_count": null,
      "outputs": []
    },
    {
      "cell_type": "code",
      "source": [
        "data_filtered[data_filtered['IQ'] == 'none'][['WISC,WISC_complete', 'WISC_Remote,WISC_DS_Raw',\n",
        "       'WISC_Remote,WISC_DS_Scaled', 'WISC_Remote,WISC_FRI',\n",
        "       'WISC_Remote,WISC_FRI_Percentile', 'WISC_Remote,WISC_FRI_Sum',\n",
        "       'WISC_Remote,WISC_FW_Raw', 'WISC_Remote,WISC_FW_Scaled',\n",
        "       'WISC_Remote,WISC_Int_BD_Raw', 'WISC_Remote,WISC_Int_BD_Scaled',\n",
        "       'WISC_Remote,WISC_LNS_Raw', 'WISC_Remote,WISC_LNS_Scaled',\n",
        "       'WISC_Remote,WISC_MR_Raw', 'WISC_Remote,WISC_MR_Scaled',\n",
        "       'WISC_Remote,WISC_NMFSIQ', 'WISC_Remote,WISC_NMFSIQ_Percentile',\n",
        "       'WISC_Remote,WISC_NMFSIQ_Sum', 'WISC_Remote,WISC_NMVSI',\n",
        "       'WISC_Remote,WISC_NMVSI_Percentile', 'WISC_Remote,WISC_NMVSI_Sum',\n",
        "       'WISC_Remote,WISC_NSI']]"
      ],
      "metadata": {
        "id": "7sDj-24sRXne",
        "outputId": "b34276be-1817-46ce-deac-7859e174371c",
        "colab": {
          "base_uri": "https://localhost:8080/",
          "height": 444
        }
      },
      "execution_count": 107,
      "outputs": [
        {
          "output_type": "execute_result",
          "data": {
            "text/plain": [
              "     WISC,WISC_complete WISC_Remote,WISC_DS_Raw WISC_Remote,WISC_DS_Scaled  \\\n",
              "686                   0                      24                          8   \n",
              "1260                  0                       .                          .   \n",
              "1446                  0                      25                          8   \n",
              "2040                  0                       .                          .   \n",
              "2378                  0                      20                          9   \n",
              "3660                  0                       .                          .   \n",
              "3975                  0                       .                          .   \n",
              "4425                  0                      27                         10   \n",
              "4820                  .                       .                          .   \n",
              "4838                  .                       .                          .   \n",
              "4849                  .                       .                          .   \n",
              "\n",
              "     WISC_Remote,WISC_FRI WISC_Remote,WISC_FRI_Percentile  \\\n",
              "686                   106                              66   \n",
              "1260                    .                               .   \n",
              "1446                  115                              84   \n",
              "2040                    .                               .   \n",
              "2378                   97                              42   \n",
              "3660                    .                               .   \n",
              "3975                    .                               .   \n",
              "4425                  123                              94   \n",
              "4820                    .                               .   \n",
              "4838                    .                               .   \n",
              "4849                    .                               .   \n",
              "\n",
              "     WISC_Remote,WISC_FRI_Sum WISC_Remote,WISC_FW_Raw  \\\n",
              "686                        22                      25   \n",
              "1260                        .                       .   \n",
              "1446                       25                      28   \n",
              "2040                        .                       .   \n",
              "2378                       19                      12   \n",
              "3660                        .                       .   \n",
              "3975                        .                       .   \n",
              "4425                       28                      28   \n",
              "4820                        .                       .   \n",
              "4838                        .                       .   \n",
              "4849                        .                       .   \n",
              "\n",
              "     WISC_Remote,WISC_FW_Scaled WISC_Remote,WISC_Int_BD_Raw  \\\n",
              "686                          10                          17   \n",
              "1260                          .                           .   \n",
              "1446                         13                          21   \n",
              "2040                          .                           .   \n",
              "2378                          7                          17   \n",
              "3660                          .                           .   \n",
              "3975                          .                           .   \n",
              "4425                         14                          20   \n",
              "4820                          .                           .   \n",
              "4838                          .                           .   \n",
              "4849                          .                           .   \n",
              "\n",
              "     WISC_Remote,WISC_Int_BD_Scaled  ... WISC_Remote,WISC_LNS_Scaled  \\\n",
              "686                               8  ...                         NaN   \n",
              "1260                              .  ...                           .   \n",
              "1446                             12  ...                           5   \n",
              "2040                              .  ...                           .   \n",
              "2378                             13  ...                          11   \n",
              "3660                              .  ...                           .   \n",
              "3975                              .  ...                           .   \n",
              "4425                             11  ...                          13   \n",
              "4820                              .  ...                           .   \n",
              "4838                              .  ...                           .   \n",
              "4849                              .  ...                           .   \n",
              "\n",
              "     WISC_Remote,WISC_MR_Raw WISC_Remote,WISC_MR_Scaled  \\\n",
              "686                       23                         12   \n",
              "1260                       .                          .   \n",
              "1446                      23                         12   \n",
              "2040                       .                          .   \n",
              "2378                      18                         12   \n",
              "3660                       .                          .   \n",
              "3975                       .                          .   \n",
              "4425                      25                         14   \n",
              "4820                       .                          .   \n",
              "4838                       .                          .   \n",
              "4849                       .                          .   \n",
              "\n",
              "     WISC_Remote,WISC_NMFSIQ WISC_Remote,WISC_NMFSIQ_Percentile  \\\n",
              "686                       92                                 30   \n",
              "1260                       .                                  .   \n",
              "1446                     105                                 63   \n",
              "2040                       .                                  .   \n",
              "2378                     101                                 53   \n",
              "3660                       .                                  .   \n",
              "3975                       .                                  .   \n",
              "4425                     115                                 84   \n",
              "4820                       .                                  .   \n",
              "4838                       .                                  .   \n",
              "4849                       .                                  .   \n",
              "\n",
              "     WISC_Remote,WISC_NMFSIQ_Sum WISC_Remote,WISC_NMVSI  \\\n",
              "686                           63                     83   \n",
              "1260                           .                      .   \n",
              "1446                          73                    106   \n",
              "2040                           .                      .   \n",
              "2378                          70                    113   \n",
              "3660                           .                      .   \n",
              "3975                           .                      .   \n",
              "4425                          83                     90   \n",
              "4820                           .                      .   \n",
              "4838                           .                      .   \n",
              "4849                           .                      .   \n",
              "\n",
              "     WISC_Remote,WISC_NMVSI_Percentile WISC_Remote,WISC_NMVSI_Sum  \\\n",
              "686                                 13                         14   \n",
              "1260                                 .                          .   \n",
              "1446                                66                         22   \n",
              "2040                                 .                          .   \n",
              "2378                                81                         24   \n",
              "3660                                 .                          .   \n",
              "3975                                 .                          .   \n",
              "4425                                25                         17   \n",
              "4820                                 .                          .   \n",
              "4838                                 .                          .   \n",
              "4849                                 .                          .   \n",
              "\n",
              "     WISC_Remote,WISC_NSI  \n",
              "686                    98  \n",
              "1260                    .  \n",
              "1446                  100  \n",
              "2040                    .  \n",
              "2378                   95  \n",
              "3660                    .  \n",
              "3975                    .  \n",
              "4425                   74  \n",
              "4820                    .  \n",
              "4838                    .  \n",
              "4849                    .  \n",
              "\n",
              "[11 rows x 21 columns]"
            ],
            "text/html": [
              "\n",
              "  <div id=\"df-4ca8aca5-6670-4952-bb4e-14e9ce25e69e\" class=\"colab-df-container\">\n",
              "    <div>\n",
              "<style scoped>\n",
              "    .dataframe tbody tr th:only-of-type {\n",
              "        vertical-align: middle;\n",
              "    }\n",
              "\n",
              "    .dataframe tbody tr th {\n",
              "        vertical-align: top;\n",
              "    }\n",
              "\n",
              "    .dataframe thead th {\n",
              "        text-align: right;\n",
              "    }\n",
              "</style>\n",
              "<table border=\"1\" class=\"dataframe\">\n",
              "  <thead>\n",
              "    <tr style=\"text-align: right;\">\n",
              "      <th></th>\n",
              "      <th>WISC,WISC_complete</th>\n",
              "      <th>WISC_Remote,WISC_DS_Raw</th>\n",
              "      <th>WISC_Remote,WISC_DS_Scaled</th>\n",
              "      <th>WISC_Remote,WISC_FRI</th>\n",
              "      <th>WISC_Remote,WISC_FRI_Percentile</th>\n",
              "      <th>WISC_Remote,WISC_FRI_Sum</th>\n",
              "      <th>WISC_Remote,WISC_FW_Raw</th>\n",
              "      <th>WISC_Remote,WISC_FW_Scaled</th>\n",
              "      <th>WISC_Remote,WISC_Int_BD_Raw</th>\n",
              "      <th>WISC_Remote,WISC_Int_BD_Scaled</th>\n",
              "      <th>...</th>\n",
              "      <th>WISC_Remote,WISC_LNS_Scaled</th>\n",
              "      <th>WISC_Remote,WISC_MR_Raw</th>\n",
              "      <th>WISC_Remote,WISC_MR_Scaled</th>\n",
              "      <th>WISC_Remote,WISC_NMFSIQ</th>\n",
              "      <th>WISC_Remote,WISC_NMFSIQ_Percentile</th>\n",
              "      <th>WISC_Remote,WISC_NMFSIQ_Sum</th>\n",
              "      <th>WISC_Remote,WISC_NMVSI</th>\n",
              "      <th>WISC_Remote,WISC_NMVSI_Percentile</th>\n",
              "      <th>WISC_Remote,WISC_NMVSI_Sum</th>\n",
              "      <th>WISC_Remote,WISC_NSI</th>\n",
              "    </tr>\n",
              "  </thead>\n",
              "  <tbody>\n",
              "    <tr>\n",
              "      <th>686</th>\n",
              "      <td>0</td>\n",
              "      <td>24</td>\n",
              "      <td>8</td>\n",
              "      <td>106</td>\n",
              "      <td>66</td>\n",
              "      <td>22</td>\n",
              "      <td>25</td>\n",
              "      <td>10</td>\n",
              "      <td>17</td>\n",
              "      <td>8</td>\n",
              "      <td>...</td>\n",
              "      <td>NaN</td>\n",
              "      <td>23</td>\n",
              "      <td>12</td>\n",
              "      <td>92</td>\n",
              "      <td>30</td>\n",
              "      <td>63</td>\n",
              "      <td>83</td>\n",
              "      <td>13</td>\n",
              "      <td>14</td>\n",
              "      <td>98</td>\n",
              "    </tr>\n",
              "    <tr>\n",
              "      <th>1260</th>\n",
              "      <td>0</td>\n",
              "      <td>.</td>\n",
              "      <td>.</td>\n",
              "      <td>.</td>\n",
              "      <td>.</td>\n",
              "      <td>.</td>\n",
              "      <td>.</td>\n",
              "      <td>.</td>\n",
              "      <td>.</td>\n",
              "      <td>.</td>\n",
              "      <td>...</td>\n",
              "      <td>.</td>\n",
              "      <td>.</td>\n",
              "      <td>.</td>\n",
              "      <td>.</td>\n",
              "      <td>.</td>\n",
              "      <td>.</td>\n",
              "      <td>.</td>\n",
              "      <td>.</td>\n",
              "      <td>.</td>\n",
              "      <td>.</td>\n",
              "    </tr>\n",
              "    <tr>\n",
              "      <th>1446</th>\n",
              "      <td>0</td>\n",
              "      <td>25</td>\n",
              "      <td>8</td>\n",
              "      <td>115</td>\n",
              "      <td>84</td>\n",
              "      <td>25</td>\n",
              "      <td>28</td>\n",
              "      <td>13</td>\n",
              "      <td>21</td>\n",
              "      <td>12</td>\n",
              "      <td>...</td>\n",
              "      <td>5</td>\n",
              "      <td>23</td>\n",
              "      <td>12</td>\n",
              "      <td>105</td>\n",
              "      <td>63</td>\n",
              "      <td>73</td>\n",
              "      <td>106</td>\n",
              "      <td>66</td>\n",
              "      <td>22</td>\n",
              "      <td>100</td>\n",
              "    </tr>\n",
              "    <tr>\n",
              "      <th>2040</th>\n",
              "      <td>0</td>\n",
              "      <td>.</td>\n",
              "      <td>.</td>\n",
              "      <td>.</td>\n",
              "      <td>.</td>\n",
              "      <td>.</td>\n",
              "      <td>.</td>\n",
              "      <td>.</td>\n",
              "      <td>.</td>\n",
              "      <td>.</td>\n",
              "      <td>...</td>\n",
              "      <td>.</td>\n",
              "      <td>.</td>\n",
              "      <td>.</td>\n",
              "      <td>.</td>\n",
              "      <td>.</td>\n",
              "      <td>.</td>\n",
              "      <td>.</td>\n",
              "      <td>.</td>\n",
              "      <td>.</td>\n",
              "      <td>.</td>\n",
              "    </tr>\n",
              "    <tr>\n",
              "      <th>2378</th>\n",
              "      <td>0</td>\n",
              "      <td>20</td>\n",
              "      <td>9</td>\n",
              "      <td>97</td>\n",
              "      <td>42</td>\n",
              "      <td>19</td>\n",
              "      <td>12</td>\n",
              "      <td>7</td>\n",
              "      <td>17</td>\n",
              "      <td>13</td>\n",
              "      <td>...</td>\n",
              "      <td>11</td>\n",
              "      <td>18</td>\n",
              "      <td>12</td>\n",
              "      <td>101</td>\n",
              "      <td>53</td>\n",
              "      <td>70</td>\n",
              "      <td>113</td>\n",
              "      <td>81</td>\n",
              "      <td>24</td>\n",
              "      <td>95</td>\n",
              "    </tr>\n",
              "    <tr>\n",
              "      <th>3660</th>\n",
              "      <td>0</td>\n",
              "      <td>.</td>\n",
              "      <td>.</td>\n",
              "      <td>.</td>\n",
              "      <td>.</td>\n",
              "      <td>.</td>\n",
              "      <td>.</td>\n",
              "      <td>.</td>\n",
              "      <td>.</td>\n",
              "      <td>.</td>\n",
              "      <td>...</td>\n",
              "      <td>.</td>\n",
              "      <td>.</td>\n",
              "      <td>.</td>\n",
              "      <td>.</td>\n",
              "      <td>.</td>\n",
              "      <td>.</td>\n",
              "      <td>.</td>\n",
              "      <td>.</td>\n",
              "      <td>.</td>\n",
              "      <td>.</td>\n",
              "    </tr>\n",
              "    <tr>\n",
              "      <th>3975</th>\n",
              "      <td>0</td>\n",
              "      <td>.</td>\n",
              "      <td>.</td>\n",
              "      <td>.</td>\n",
              "      <td>.</td>\n",
              "      <td>.</td>\n",
              "      <td>.</td>\n",
              "      <td>.</td>\n",
              "      <td>.</td>\n",
              "      <td>.</td>\n",
              "      <td>...</td>\n",
              "      <td>.</td>\n",
              "      <td>.</td>\n",
              "      <td>.</td>\n",
              "      <td>.</td>\n",
              "      <td>.</td>\n",
              "      <td>.</td>\n",
              "      <td>.</td>\n",
              "      <td>.</td>\n",
              "      <td>.</td>\n",
              "      <td>.</td>\n",
              "    </tr>\n",
              "    <tr>\n",
              "      <th>4425</th>\n",
              "      <td>0</td>\n",
              "      <td>27</td>\n",
              "      <td>10</td>\n",
              "      <td>123</td>\n",
              "      <td>94</td>\n",
              "      <td>28</td>\n",
              "      <td>28</td>\n",
              "      <td>14</td>\n",
              "      <td>20</td>\n",
              "      <td>11</td>\n",
              "      <td>...</td>\n",
              "      <td>13</td>\n",
              "      <td>25</td>\n",
              "      <td>14</td>\n",
              "      <td>115</td>\n",
              "      <td>84</td>\n",
              "      <td>83</td>\n",
              "      <td>90</td>\n",
              "      <td>25</td>\n",
              "      <td>17</td>\n",
              "      <td>74</td>\n",
              "    </tr>\n",
              "    <tr>\n",
              "      <th>4820</th>\n",
              "      <td>.</td>\n",
              "      <td>.</td>\n",
              "      <td>.</td>\n",
              "      <td>.</td>\n",
              "      <td>.</td>\n",
              "      <td>.</td>\n",
              "      <td>.</td>\n",
              "      <td>.</td>\n",
              "      <td>.</td>\n",
              "      <td>.</td>\n",
              "      <td>...</td>\n",
              "      <td>.</td>\n",
              "      <td>.</td>\n",
              "      <td>.</td>\n",
              "      <td>.</td>\n",
              "      <td>.</td>\n",
              "      <td>.</td>\n",
              "      <td>.</td>\n",
              "      <td>.</td>\n",
              "      <td>.</td>\n",
              "      <td>.</td>\n",
              "    </tr>\n",
              "    <tr>\n",
              "      <th>4838</th>\n",
              "      <td>.</td>\n",
              "      <td>.</td>\n",
              "      <td>.</td>\n",
              "      <td>.</td>\n",
              "      <td>.</td>\n",
              "      <td>.</td>\n",
              "      <td>.</td>\n",
              "      <td>.</td>\n",
              "      <td>.</td>\n",
              "      <td>.</td>\n",
              "      <td>...</td>\n",
              "      <td>.</td>\n",
              "      <td>.</td>\n",
              "      <td>.</td>\n",
              "      <td>.</td>\n",
              "      <td>.</td>\n",
              "      <td>.</td>\n",
              "      <td>.</td>\n",
              "      <td>.</td>\n",
              "      <td>.</td>\n",
              "      <td>.</td>\n",
              "    </tr>\n",
              "    <tr>\n",
              "      <th>4849</th>\n",
              "      <td>.</td>\n",
              "      <td>.</td>\n",
              "      <td>.</td>\n",
              "      <td>.</td>\n",
              "      <td>.</td>\n",
              "      <td>.</td>\n",
              "      <td>.</td>\n",
              "      <td>.</td>\n",
              "      <td>.</td>\n",
              "      <td>.</td>\n",
              "      <td>...</td>\n",
              "      <td>.</td>\n",
              "      <td>.</td>\n",
              "      <td>.</td>\n",
              "      <td>.</td>\n",
              "      <td>.</td>\n",
              "      <td>.</td>\n",
              "      <td>.</td>\n",
              "      <td>.</td>\n",
              "      <td>.</td>\n",
              "      <td>.</td>\n",
              "    </tr>\n",
              "  </tbody>\n",
              "</table>\n",
              "<p>11 rows × 21 columns</p>\n",
              "</div>\n",
              "    <div class=\"colab-df-buttons\">\n",
              "\n",
              "  <div class=\"colab-df-container\">\n",
              "    <button class=\"colab-df-convert\" onclick=\"convertToInteractive('df-4ca8aca5-6670-4952-bb4e-14e9ce25e69e')\"\n",
              "            title=\"Convert this dataframe to an interactive table.\"\n",
              "            style=\"display:none;\">\n",
              "\n",
              "  <svg xmlns=\"http://www.w3.org/2000/svg\" height=\"24px\" viewBox=\"0 -960 960 960\">\n",
              "    <path d=\"M120-120v-720h720v720H120Zm60-500h600v-160H180v160Zm220 220h160v-160H400v160Zm0 220h160v-160H400v160ZM180-400h160v-160H180v160Zm440 0h160v-160H620v160ZM180-180h160v-160H180v160Zm440 0h160v-160H620v160Z\"/>\n",
              "  </svg>\n",
              "    </button>\n",
              "\n",
              "  <style>\n",
              "    .colab-df-container {\n",
              "      display:flex;\n",
              "      gap: 12px;\n",
              "    }\n",
              "\n",
              "    .colab-df-convert {\n",
              "      background-color: #E8F0FE;\n",
              "      border: none;\n",
              "      border-radius: 50%;\n",
              "      cursor: pointer;\n",
              "      display: none;\n",
              "      fill: #1967D2;\n",
              "      height: 32px;\n",
              "      padding: 0 0 0 0;\n",
              "      width: 32px;\n",
              "    }\n",
              "\n",
              "    .colab-df-convert:hover {\n",
              "      background-color: #E2EBFA;\n",
              "      box-shadow: 0px 1px 2px rgba(60, 64, 67, 0.3), 0px 1px 3px 1px rgba(60, 64, 67, 0.15);\n",
              "      fill: #174EA6;\n",
              "    }\n",
              "\n",
              "    .colab-df-buttons div {\n",
              "      margin-bottom: 4px;\n",
              "    }\n",
              "\n",
              "    [theme=dark] .colab-df-convert {\n",
              "      background-color: #3B4455;\n",
              "      fill: #D2E3FC;\n",
              "    }\n",
              "\n",
              "    [theme=dark] .colab-df-convert:hover {\n",
              "      background-color: #434B5C;\n",
              "      box-shadow: 0px 1px 3px 1px rgba(0, 0, 0, 0.15);\n",
              "      filter: drop-shadow(0px 1px 2px rgba(0, 0, 0, 0.3));\n",
              "      fill: #FFFFFF;\n",
              "    }\n",
              "  </style>\n",
              "\n",
              "    <script>\n",
              "      const buttonEl =\n",
              "        document.querySelector('#df-4ca8aca5-6670-4952-bb4e-14e9ce25e69e button.colab-df-convert');\n",
              "      buttonEl.style.display =\n",
              "        google.colab.kernel.accessAllowed ? 'block' : 'none';\n",
              "\n",
              "      async function convertToInteractive(key) {\n",
              "        const element = document.querySelector('#df-4ca8aca5-6670-4952-bb4e-14e9ce25e69e');\n",
              "        const dataTable =\n",
              "          await google.colab.kernel.invokeFunction('convertToInteractive',\n",
              "                                                    [key], {});\n",
              "        if (!dataTable) return;\n",
              "\n",
              "        const docLinkHtml = 'Like what you see? Visit the ' +\n",
              "          '<a target=\"_blank\" href=https://colab.research.google.com/notebooks/data_table.ipynb>data table notebook</a>'\n",
              "          + ' to learn more about interactive tables.';\n",
              "        element.innerHTML = '';\n",
              "        dataTable['output_type'] = 'display_data';\n",
              "        await google.colab.output.renderOutput(dataTable, element);\n",
              "        const docLink = document.createElement('div');\n",
              "        docLink.innerHTML = docLinkHtml;\n",
              "        element.appendChild(docLink);\n",
              "      }\n",
              "    </script>\n",
              "  </div>\n",
              "\n",
              "\n",
              "<div id=\"df-a8d09904-8922-4252-b28d-367685b3b90a\">\n",
              "  <button class=\"colab-df-quickchart\" onclick=\"quickchart('df-a8d09904-8922-4252-b28d-367685b3b90a')\"\n",
              "            title=\"Suggest charts\"\n",
              "            style=\"display:none;\">\n",
              "\n",
              "<svg xmlns=\"http://www.w3.org/2000/svg\" height=\"24px\"viewBox=\"0 0 24 24\"\n",
              "     width=\"24px\">\n",
              "    <g>\n",
              "        <path d=\"M19 3H5c-1.1 0-2 .9-2 2v14c0 1.1.9 2 2 2h14c1.1 0 2-.9 2-2V5c0-1.1-.9-2-2-2zM9 17H7v-7h2v7zm4 0h-2V7h2v10zm4 0h-2v-4h2v4z\"/>\n",
              "    </g>\n",
              "</svg>\n",
              "  </button>\n",
              "\n",
              "<style>\n",
              "  .colab-df-quickchart {\n",
              "      --bg-color: #E8F0FE;\n",
              "      --fill-color: #1967D2;\n",
              "      --hover-bg-color: #E2EBFA;\n",
              "      --hover-fill-color: #174EA6;\n",
              "      --disabled-fill-color: #AAA;\n",
              "      --disabled-bg-color: #DDD;\n",
              "  }\n",
              "\n",
              "  [theme=dark] .colab-df-quickchart {\n",
              "      --bg-color: #3B4455;\n",
              "      --fill-color: #D2E3FC;\n",
              "      --hover-bg-color: #434B5C;\n",
              "      --hover-fill-color: #FFFFFF;\n",
              "      --disabled-bg-color: #3B4455;\n",
              "      --disabled-fill-color: #666;\n",
              "  }\n",
              "\n",
              "  .colab-df-quickchart {\n",
              "    background-color: var(--bg-color);\n",
              "    border: none;\n",
              "    border-radius: 50%;\n",
              "    cursor: pointer;\n",
              "    display: none;\n",
              "    fill: var(--fill-color);\n",
              "    height: 32px;\n",
              "    padding: 0;\n",
              "    width: 32px;\n",
              "  }\n",
              "\n",
              "  .colab-df-quickchart:hover {\n",
              "    background-color: var(--hover-bg-color);\n",
              "    box-shadow: 0 1px 2px rgba(60, 64, 67, 0.3), 0 1px 3px 1px rgba(60, 64, 67, 0.15);\n",
              "    fill: var(--button-hover-fill-color);\n",
              "  }\n",
              "\n",
              "  .colab-df-quickchart-complete:disabled,\n",
              "  .colab-df-quickchart-complete:disabled:hover {\n",
              "    background-color: var(--disabled-bg-color);\n",
              "    fill: var(--disabled-fill-color);\n",
              "    box-shadow: none;\n",
              "  }\n",
              "\n",
              "  .colab-df-spinner {\n",
              "    border: 2px solid var(--fill-color);\n",
              "    border-color: transparent;\n",
              "    border-bottom-color: var(--fill-color);\n",
              "    animation:\n",
              "      spin 1s steps(1) infinite;\n",
              "  }\n",
              "\n",
              "  @keyframes spin {\n",
              "    0% {\n",
              "      border-color: transparent;\n",
              "      border-bottom-color: var(--fill-color);\n",
              "      border-left-color: var(--fill-color);\n",
              "    }\n",
              "    20% {\n",
              "      border-color: transparent;\n",
              "      border-left-color: var(--fill-color);\n",
              "      border-top-color: var(--fill-color);\n",
              "    }\n",
              "    30% {\n",
              "      border-color: transparent;\n",
              "      border-left-color: var(--fill-color);\n",
              "      border-top-color: var(--fill-color);\n",
              "      border-right-color: var(--fill-color);\n",
              "    }\n",
              "    40% {\n",
              "      border-color: transparent;\n",
              "      border-right-color: var(--fill-color);\n",
              "      border-top-color: var(--fill-color);\n",
              "    }\n",
              "    60% {\n",
              "      border-color: transparent;\n",
              "      border-right-color: var(--fill-color);\n",
              "    }\n",
              "    80% {\n",
              "      border-color: transparent;\n",
              "      border-right-color: var(--fill-color);\n",
              "      border-bottom-color: var(--fill-color);\n",
              "    }\n",
              "    90% {\n",
              "      border-color: transparent;\n",
              "      border-bottom-color: var(--fill-color);\n",
              "    }\n",
              "  }\n",
              "</style>\n",
              "\n",
              "  <script>\n",
              "    async function quickchart(key) {\n",
              "      const quickchartButtonEl =\n",
              "        document.querySelector('#' + key + ' button');\n",
              "      quickchartButtonEl.disabled = true;  // To prevent multiple clicks.\n",
              "      quickchartButtonEl.classList.add('colab-df-spinner');\n",
              "      try {\n",
              "        const charts = await google.colab.kernel.invokeFunction(\n",
              "            'suggestCharts', [key], {});\n",
              "      } catch (error) {\n",
              "        console.error('Error during call to suggestCharts:', error);\n",
              "      }\n",
              "      quickchartButtonEl.classList.remove('colab-df-spinner');\n",
              "      quickchartButtonEl.classList.add('colab-df-quickchart-complete');\n",
              "    }\n",
              "    (() => {\n",
              "      let quickchartButtonEl =\n",
              "        document.querySelector('#df-a8d09904-8922-4252-b28d-367685b3b90a button');\n",
              "      quickchartButtonEl.style.display =\n",
              "        google.colab.kernel.accessAllowed ? 'block' : 'none';\n",
              "    })();\n",
              "  </script>\n",
              "</div>\n",
              "    </div>\n",
              "  </div>\n"
            ],
            "application/vnd.google.colaboratory.intrinsic+json": {
              "type": "dataframe"
            }
          },
          "metadata": {},
          "execution_count": 107
        }
      ]
    },
    {
      "cell_type": "code",
      "source": [
        "# deleting people with no iq\n",
        "data_filtered = data_filtered[data_filtered['IQ'] != 'none']"
      ],
      "metadata": {
        "id": "TbJrfkf6REXe"
      },
      "execution_count": 73,
      "outputs": []
    },
    {
      "cell_type": "code",
      "source": [
        "# deleting people with iq < 70\n",
        "data_filtered = data_filtered[data_filtered['IQ'] >= 70]"
      ],
      "metadata": {
        "id": "7BjXOm-WQDpH"
      },
      "execution_count": 74,
      "outputs": []
    },
    {
      "cell_type": "markdown",
      "source": [
        "# Characteristics of the ready dataset"
      ],
      "metadata": {
        "id": "6FVNklI1tBUP"
      }
    },
    {
      "cell_type": "code",
      "source": [
        "print('Full dataset')\n",
        "print('Controls')\n",
        "print(data_filtered[data_filtered['Status'] == 'control'].shape[0])\n",
        "print('DD without comorbidities')\n",
        "print(data_filtered[data_filtered['Status'] == 'only DD'].shape[0])\n",
        "print('DD with comorbidities')\n",
        "print(data_filtered[data_filtered['Status'] == 'DD with comorbidities'].shape[0])"
      ],
      "metadata": {
        "id": "S-ZOMySlUyJL",
        "outputId": "2aebd752-6027-4841-c082-5999145ac65d",
        "colab": {
          "base_uri": "https://localhost:8080/"
        }
      },
      "execution_count": null,
      "outputs": [
        {
          "output_type": "stream",
          "name": "stdout",
          "text": [
            "Full dataset\n",
            "Controls\n",
            "260\n",
            "DD without comorbidities\n",
            "64\n",
            "DD with comorbidities\n",
            "294\n"
          ]
        }
      ]
    },
    {
      "cell_type": "code",
      "source": [
        "data_filtered[data_filtered['DD'] == 1].groupby(['DD type'])[['Identifiers']].count()"
      ],
      "metadata": {
        "id": "9z3GH4VTVTma",
        "outputId": "6a8073a2-00ca-4efd-dc85-4fd852ba550c",
        "colab": {
          "base_uri": "https://localhost:8080/",
          "height": 206
        }
      },
      "execution_count": null,
      "outputs": [
        {
          "output_type": "execute_result",
          "data": {
            "text/plain": [
              "                        Identifiers\n",
              "DD type                            \n",
              "Reading                         295\n",
              "Reading, Math                    45\n",
              "Reading, Writing                  9\n",
              "Reading, Writing, Math            9"
            ],
            "text/html": [
              "\n",
              "  <div id=\"df-086c9587-a12b-4edb-a7b7-93bbc6640555\" class=\"colab-df-container\">\n",
              "    <div>\n",
              "<style scoped>\n",
              "    .dataframe tbody tr th:only-of-type {\n",
              "        vertical-align: middle;\n",
              "    }\n",
              "\n",
              "    .dataframe tbody tr th {\n",
              "        vertical-align: top;\n",
              "    }\n",
              "\n",
              "    .dataframe thead th {\n",
              "        text-align: right;\n",
              "    }\n",
              "</style>\n",
              "<table border=\"1\" class=\"dataframe\">\n",
              "  <thead>\n",
              "    <tr style=\"text-align: right;\">\n",
              "      <th></th>\n",
              "      <th>Identifiers</th>\n",
              "    </tr>\n",
              "    <tr>\n",
              "      <th>DD type</th>\n",
              "      <th></th>\n",
              "    </tr>\n",
              "  </thead>\n",
              "  <tbody>\n",
              "    <tr>\n",
              "      <th>Reading</th>\n",
              "      <td>295</td>\n",
              "    </tr>\n",
              "    <tr>\n",
              "      <th>Reading, Math</th>\n",
              "      <td>45</td>\n",
              "    </tr>\n",
              "    <tr>\n",
              "      <th>Reading, Writing</th>\n",
              "      <td>9</td>\n",
              "    </tr>\n",
              "    <tr>\n",
              "      <th>Reading, Writing, Math</th>\n",
              "      <td>9</td>\n",
              "    </tr>\n",
              "  </tbody>\n",
              "</table>\n",
              "</div>\n",
              "    <div class=\"colab-df-buttons\">\n",
              "\n",
              "  <div class=\"colab-df-container\">\n",
              "    <button class=\"colab-df-convert\" onclick=\"convertToInteractive('df-086c9587-a12b-4edb-a7b7-93bbc6640555')\"\n",
              "            title=\"Convert this dataframe to an interactive table.\"\n",
              "            style=\"display:none;\">\n",
              "\n",
              "  <svg xmlns=\"http://www.w3.org/2000/svg\" height=\"24px\" viewBox=\"0 -960 960 960\">\n",
              "    <path d=\"M120-120v-720h720v720H120Zm60-500h600v-160H180v160Zm220 220h160v-160H400v160Zm0 220h160v-160H400v160ZM180-400h160v-160H180v160Zm440 0h160v-160H620v160ZM180-180h160v-160H180v160Zm440 0h160v-160H620v160Z\"/>\n",
              "  </svg>\n",
              "    </button>\n",
              "\n",
              "  <style>\n",
              "    .colab-df-container {\n",
              "      display:flex;\n",
              "      gap: 12px;\n",
              "    }\n",
              "\n",
              "    .colab-df-convert {\n",
              "      background-color: #E8F0FE;\n",
              "      border: none;\n",
              "      border-radius: 50%;\n",
              "      cursor: pointer;\n",
              "      display: none;\n",
              "      fill: #1967D2;\n",
              "      height: 32px;\n",
              "      padding: 0 0 0 0;\n",
              "      width: 32px;\n",
              "    }\n",
              "\n",
              "    .colab-df-convert:hover {\n",
              "      background-color: #E2EBFA;\n",
              "      box-shadow: 0px 1px 2px rgba(60, 64, 67, 0.3), 0px 1px 3px 1px rgba(60, 64, 67, 0.15);\n",
              "      fill: #174EA6;\n",
              "    }\n",
              "\n",
              "    .colab-df-buttons div {\n",
              "      margin-bottom: 4px;\n",
              "    }\n",
              "\n",
              "    [theme=dark] .colab-df-convert {\n",
              "      background-color: #3B4455;\n",
              "      fill: #D2E3FC;\n",
              "    }\n",
              "\n",
              "    [theme=dark] .colab-df-convert:hover {\n",
              "      background-color: #434B5C;\n",
              "      box-shadow: 0px 1px 3px 1px rgba(0, 0, 0, 0.15);\n",
              "      filter: drop-shadow(0px 1px 2px rgba(0, 0, 0, 0.3));\n",
              "      fill: #FFFFFF;\n",
              "    }\n",
              "  </style>\n",
              "\n",
              "    <script>\n",
              "      const buttonEl =\n",
              "        document.querySelector('#df-086c9587-a12b-4edb-a7b7-93bbc6640555 button.colab-df-convert');\n",
              "      buttonEl.style.display =\n",
              "        google.colab.kernel.accessAllowed ? 'block' : 'none';\n",
              "\n",
              "      async function convertToInteractive(key) {\n",
              "        const element = document.querySelector('#df-086c9587-a12b-4edb-a7b7-93bbc6640555');\n",
              "        const dataTable =\n",
              "          await google.colab.kernel.invokeFunction('convertToInteractive',\n",
              "                                                    [key], {});\n",
              "        if (!dataTable) return;\n",
              "\n",
              "        const docLinkHtml = 'Like what you see? Visit the ' +\n",
              "          '<a target=\"_blank\" href=https://colab.research.google.com/notebooks/data_table.ipynb>data table notebook</a>'\n",
              "          + ' to learn more about interactive tables.';\n",
              "        element.innerHTML = '';\n",
              "        dataTable['output_type'] = 'display_data';\n",
              "        await google.colab.output.renderOutput(dataTable, element);\n",
              "        const docLink = document.createElement('div');\n",
              "        docLink.innerHTML = docLinkHtml;\n",
              "        element.appendChild(docLink);\n",
              "      }\n",
              "    </script>\n",
              "  </div>\n",
              "\n",
              "\n",
              "<div id=\"df-6129b547-84f2-427b-bf6f-eb9ad0dd2677\">\n",
              "  <button class=\"colab-df-quickchart\" onclick=\"quickchart('df-6129b547-84f2-427b-bf6f-eb9ad0dd2677')\"\n",
              "            title=\"Suggest charts\"\n",
              "            style=\"display:none;\">\n",
              "\n",
              "<svg xmlns=\"http://www.w3.org/2000/svg\" height=\"24px\"viewBox=\"0 0 24 24\"\n",
              "     width=\"24px\">\n",
              "    <g>\n",
              "        <path d=\"M19 3H5c-1.1 0-2 .9-2 2v14c0 1.1.9 2 2 2h14c1.1 0 2-.9 2-2V5c0-1.1-.9-2-2-2zM9 17H7v-7h2v7zm4 0h-2V7h2v10zm4 0h-2v-4h2v4z\"/>\n",
              "    </g>\n",
              "</svg>\n",
              "  </button>\n",
              "\n",
              "<style>\n",
              "  .colab-df-quickchart {\n",
              "      --bg-color: #E8F0FE;\n",
              "      --fill-color: #1967D2;\n",
              "      --hover-bg-color: #E2EBFA;\n",
              "      --hover-fill-color: #174EA6;\n",
              "      --disabled-fill-color: #AAA;\n",
              "      --disabled-bg-color: #DDD;\n",
              "  }\n",
              "\n",
              "  [theme=dark] .colab-df-quickchart {\n",
              "      --bg-color: #3B4455;\n",
              "      --fill-color: #D2E3FC;\n",
              "      --hover-bg-color: #434B5C;\n",
              "      --hover-fill-color: #FFFFFF;\n",
              "      --disabled-bg-color: #3B4455;\n",
              "      --disabled-fill-color: #666;\n",
              "  }\n",
              "\n",
              "  .colab-df-quickchart {\n",
              "    background-color: var(--bg-color);\n",
              "    border: none;\n",
              "    border-radius: 50%;\n",
              "    cursor: pointer;\n",
              "    display: none;\n",
              "    fill: var(--fill-color);\n",
              "    height: 32px;\n",
              "    padding: 0;\n",
              "    width: 32px;\n",
              "  }\n",
              "\n",
              "  .colab-df-quickchart:hover {\n",
              "    background-color: var(--hover-bg-color);\n",
              "    box-shadow: 0 1px 2px rgba(60, 64, 67, 0.3), 0 1px 3px 1px rgba(60, 64, 67, 0.15);\n",
              "    fill: var(--button-hover-fill-color);\n",
              "  }\n",
              "\n",
              "  .colab-df-quickchart-complete:disabled,\n",
              "  .colab-df-quickchart-complete:disabled:hover {\n",
              "    background-color: var(--disabled-bg-color);\n",
              "    fill: var(--disabled-fill-color);\n",
              "    box-shadow: none;\n",
              "  }\n",
              "\n",
              "  .colab-df-spinner {\n",
              "    border: 2px solid var(--fill-color);\n",
              "    border-color: transparent;\n",
              "    border-bottom-color: var(--fill-color);\n",
              "    animation:\n",
              "      spin 1s steps(1) infinite;\n",
              "  }\n",
              "\n",
              "  @keyframes spin {\n",
              "    0% {\n",
              "      border-color: transparent;\n",
              "      border-bottom-color: var(--fill-color);\n",
              "      border-left-color: var(--fill-color);\n",
              "    }\n",
              "    20% {\n",
              "      border-color: transparent;\n",
              "      border-left-color: var(--fill-color);\n",
              "      border-top-color: var(--fill-color);\n",
              "    }\n",
              "    30% {\n",
              "      border-color: transparent;\n",
              "      border-left-color: var(--fill-color);\n",
              "      border-top-color: var(--fill-color);\n",
              "      border-right-color: var(--fill-color);\n",
              "    }\n",
              "    40% {\n",
              "      border-color: transparent;\n",
              "      border-right-color: var(--fill-color);\n",
              "      border-top-color: var(--fill-color);\n",
              "    }\n",
              "    60% {\n",
              "      border-color: transparent;\n",
              "      border-right-color: var(--fill-color);\n",
              "    }\n",
              "    80% {\n",
              "      border-color: transparent;\n",
              "      border-right-color: var(--fill-color);\n",
              "      border-bottom-color: var(--fill-color);\n",
              "    }\n",
              "    90% {\n",
              "      border-color: transparent;\n",
              "      border-bottom-color: var(--fill-color);\n",
              "    }\n",
              "  }\n",
              "</style>\n",
              "\n",
              "  <script>\n",
              "    async function quickchart(key) {\n",
              "      const quickchartButtonEl =\n",
              "        document.querySelector('#' + key + ' button');\n",
              "      quickchartButtonEl.disabled = true;  // To prevent multiple clicks.\n",
              "      quickchartButtonEl.classList.add('colab-df-spinner');\n",
              "      try {\n",
              "        const charts = await google.colab.kernel.invokeFunction(\n",
              "            'suggestCharts', [key], {});\n",
              "      } catch (error) {\n",
              "        console.error('Error during call to suggestCharts:', error);\n",
              "      }\n",
              "      quickchartButtonEl.classList.remove('colab-df-spinner');\n",
              "      quickchartButtonEl.classList.add('colab-df-quickchart-complete');\n",
              "    }\n",
              "    (() => {\n",
              "      let quickchartButtonEl =\n",
              "        document.querySelector('#df-6129b547-84f2-427b-bf6f-eb9ad0dd2677 button');\n",
              "      quickchartButtonEl.style.display =\n",
              "        google.colab.kernel.accessAllowed ? 'block' : 'none';\n",
              "    })();\n",
              "  </script>\n",
              "</div>\n",
              "    </div>\n",
              "  </div>\n"
            ]
          },
          "metadata": {},
          "execution_count": 106
        }
      ]
    },
    {
      "cell_type": "code",
      "source": [
        "sns.displot(data_filtered[data_filtered['DD'] == 1]['Basic_Demos,Age'],\n",
        "             binwidth = 1)\n",
        "pl.title('Age distribution in DD group');"
      ],
      "metadata": {
        "id": "uT9jzc6Y75CJ",
        "outputId": "de24bb58-06b6-44bd-8dca-ebbd664bb2b1",
        "colab": {
          "base_uri": "https://localhost:8080/",
          "height": 523
        }
      },
      "execution_count": null,
      "outputs": [
        {
          "output_type": "display_data",
          "data": {
            "text/plain": [
              "<Figure size 500x500 with 1 Axes>"
            ],
            "image/png": "[encoded data removed]"
          },
          "metadata": {}
        }
      ]
    },
    {
      "cell_type": "code",
      "source": [
        "sns.displot(data_filtered[data_filtered['Status'] == 'control']['Basic_Demos,Age'],\n",
        "             binwidth = 1)\n",
        "pl.title('Age distribution in TD group');"
      ],
      "metadata": {
        "id": "0zf_Vly3VsAZ",
        "outputId": "e0e4ef48-819e-47b4-9dbe-311f07f0597c",
        "colab": {
          "base_uri": "https://localhost:8080/",
          "height": 523
        }
      },
      "execution_count": null,
      "outputs": [
        {
          "output_type": "display_data",
          "data": {
            "text/plain": [
              "<Figure size 500x500 with 1 Axes>"
            ],
            "image/png": "[encoded data removed]"
          },
          "metadata": {}
        }
      ]
    },
    {
      "cell_type": "code",
      "source": [
        "data_filtered.groupby(['CTOPP'])['Identifiers'].count()"
      ],
      "metadata": {
        "id": "Pc7PVvJBN1NG",
        "outputId": "18483b70-4f62-4986-894b-98aea9e8f3db",
        "colab": {
          "base_uri": "https://localhost:8080/"
        }
      },
      "execution_count": null,
      "outputs": [
        {
          "output_type": "execute_result",
          "data": {
            "text/plain": [
              "CTOPP\n",
              "BW_D, BW_P, BW_R, BW_S, EL_D, EL_P, EL_R, EL_S, NR_D, NR_P, NR_R, NR_S, RD_D, RL_D, RO_D, RO_P, RO_R, RO_S, RSN_D      2\n",
              "BW_D, BW_P, BW_R, BW_S, EL_D, EL_P, EL_R, EL_S, NR_D, NR_P, NR_R, NR_S, RO_D, RO_P, RO_R, RO_S                         3\n",
              "BW_D, EL_D, NR_D, NR_P, NR_R, NR_S, RD_D, RL_D, RO_D, RO_P, RO_R, RO_S, RSN_D                                          1\n",
              "BW_D, EL_D, NR_D, RD_D, RL_D, RO_D, RO_P, RO_R, RO_S, RSN_D                                                            4\n",
              "RD_D, RD_P, RD_R, RD_S, RL_D, RL_P, RL_R, RL_S, RO_D, RO_P, RO_R, RO_S, RSN_Comp, RSN_D, RSN_P, RSN_Sum                2\n",
              "RD_D, RD_P, RD_R, RD_S, RL_D, RL_P, RL_R, RL_S, RSN_Comp, RSN_D, RSN_P, RSN_Sum                                        2\n",
              "RD_D, RD_P, RD_R, RD_S, RO_D, RO_P, RO_R, RO_S, RSN_Comp, RSN_D, RSN_P, RSN_Sum                                        1\n",
              "RL_D, RL_P, RL_R, RL_S, RO_D, RO_P, RO_R, RO_S, RSN_Comp, RSN_D, RSN_P, RSN_Sum                                        1\n",
              "RL_D, RL_P, RL_R, RL_S, RSN_Comp, RSN_D, RSN_P, RSN_Sum                                                                1\n",
              "RL_R, RO_D, RO_P, RO_R, RO_S                                                                                           1\n",
              "RO_D, RO_P, RO_R, RO_S                                                                                               506\n",
              "RO_D, RO_P, RO_R, RO_S, RSN_Comp, RSN_D, RSN_P, RSN_Sum                                                                2\n",
              "RO_D, RO_P, RO_R, RO_S, RSN_D                                                                                          1\n",
              "RO_P, RO_R, RO_S                                                                                                       1\n",
              "full                                                                                                                  34\n",
              "missing                                                                                                               56\n",
              "Name: Identifiers, dtype: int64"
            ]
          },
          "metadata": {},
          "execution_count": 110
        }
      ]
    },
    {
      "cell_type": "code",
      "source": [
        "# subset of people without ctopp score\n",
        "# bw = blending words, el = elision, nr = non word repetition, rd = rapid digit naming\n",
        "# rl = rapid letters, ro = rapid objects, rsn = symbol naming??\n",
        "data_no_ctopp = data_filtered.copy()\n",
        "data_no_ctopp = data_no_ctopp[data_no_ctopp['CTOPP'] != 'missing']"
      ],
      "metadata": {
        "id": "mUZuVNpLM9XR"
      },
      "execution_count": null,
      "outputs": []
    },
    {
      "cell_type": "code",
      "source": [
        "print('Dataset w/out CTOPP scores')\n",
        "print('Controls')\n",
        "print(data_no_ctopp[data_no_ctopp['Status'] == 'control'].shape[0])\n",
        "print('DD without comorbidities')\n",
        "print(data_no_ctopp[data_no_ctopp['Status'] == 'only DD'].shape[0])\n",
        "print('DD with comorbidities')\n",
        "print(data_no_ctopp[data_no_ctopp['Status'] == 'DD with comorbidities'].shape[0])"
      ],
      "metadata": {
        "id": "XVncSNs0e2bv",
        "outputId": "5195a6e9-c36f-4f3e-d59a-7c8a78543fb8",
        "colab": {
          "base_uri": "https://localhost:8080/"
        }
      },
      "execution_count": null,
      "outputs": [
        {
          "output_type": "stream",
          "name": "stdout",
          "text": [
            "Dataset w/out CTOPP scores\n",
            "Controls\n",
            "227\n",
            "DD without comorbidities\n",
            "64\n",
            "DD with comorbidities\n",
            "271\n"
          ]
        }
      ]
    }
  ]
}