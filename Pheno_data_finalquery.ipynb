{
  "nbformat": 4,
  "nbformat_minor": 0,
  "metadata": {
    "colab": {
      "provenance": [],
      "toc_visible": true,
      "authorship_tag": "ABX9TyMNPE7Ls70JfOAxW0XXUHrr",
      "include_colab_link": true
    },
    "kernelspec": {
      "name": "python3",
      "display_name": "Python 3"
    },
    "language_info": {
      "name": "python"
    }
  },
  "cells": [
    {
      "cell_type": "markdown",
      "metadata": {
        "id": "view-in-github",
        "colab_type": "text"
      },
      "source": [
        "<a href=\"https://colab.research.google.com/github/cristinarainich/Child-Mind-Institute-Project/blob/main/Pheno_data_finalquery.ipynb\" target=\"_parent\"><img src=\"https://colab.research.google.com/assets/colab-badge.svg\" alt=\"Open In Colab\"/></a>"
      ]
    },
    {
      "cell_type": "markdown",
      "source": [
        "**Updated** 23/09/2024"
      ],
      "metadata": {
        "id": "R1aQIcWPJsdR"
      }
    },
    {
      "cell_type": "code",
      "execution_count": 1,
      "metadata": {
        "colab": {
          "base_uri": "https://localhost:8080/"
        },
        "id": "7sLM_aBE1XSO",
        "outputId": "3e42d6f4-7c33-4f2c-a6ff-f9793c542db1"
      },
      "outputs": [
        {
          "output_type": "stream",
          "name": "stdout",
          "text": [
            "Mounted at /content/drive\n"
          ]
        }
      ],
      "source": [
        "from google.colab import drive\n",
        "drive.mount('/content/drive')"
      ]
    },
    {
      "cell_type": "code",
      "source": [
        "from pathlib import Path\n",
        "import pandas as pd\n",
        "import numpy as np\n",
        "import math\n",
        "import pylab as pl\n",
        "import seaborn as sns\n",
        "from scipy import stats\n",
        "%pylab inline"
      ],
      "metadata": {
        "colab": {
          "base_uri": "https://localhost:8080/"
        },
        "id": "aaZC6otb1s12",
        "outputId": "c0be09e5-ce92-40d0-e12e-3b721f35590d"
      },
      "execution_count": 2,
      "outputs": [
        {
          "output_type": "stream",
          "name": "stdout",
          "text": [
            "Populating the interactive namespace from numpy and matplotlib\n"
          ]
        }
      ]
    },
    {
      "cell_type": "code",
      "source": [
        "sns.set()"
      ],
      "metadata": {
        "id": "lAeNDY5uJvVf"
      },
      "execution_count": 3,
      "outputs": []
    },
    {
      "cell_type": "code",
      "source": [
        "working_path = Path('/content/drive/MyDrive/KKNV')"
      ],
      "metadata": {
        "id": "aonUk2xG1llO"
      },
      "execution_count": 4,
      "outputs": []
    },
    {
      "cell_type": "code",
      "source": [
        "cd /content/drive/MyDrive/KKNV"
      ],
      "metadata": {
        "colab": {
          "base_uri": "https://localhost:8080/"
        },
        "id": "z9Xbaxjz1yH3",
        "outputId": "a152be21-417a-46fe-8b94-ec0ec2d0d208"
      },
      "execution_count": 5,
      "outputs": [
        {
          "output_type": "stream",
          "name": "stdout",
          "text": [
            "/content/drive/MyDrive/KKNV\n"
          ]
        }
      ]
    },
    {
      "cell_type": "code",
      "source": [
        "!ls /content/drive/MyDrive/KKNV"
      ],
      "metadata": {
        "colab": {
          "base_uri": "https://localhost:8080/"
        },
        "id": "5zZW_4I4NS1u",
        "outputId": "c7604d7e-d585-4384-cbd6-a4453dc3fd80"
      },
      "execution_count": 6,
      "outputs": [
        {
          "output_type": "stream",
          "name": "stdout",
          "text": [
            " 11a5490b-0e2d-4fd7-b54e-e2ebd0a72df6.zip   Pilot.csv\n",
            " comorbidity\t\t\t\t   'Pilot reading task.gsheet'\n",
            " data\t\t\t\t\t    protocols\n",
            " data26.02.2024.csv\t\t\t    Query1.csv\n",
            " data_filtered_done.csv\t\t\t   'Query 1.Dot values.csv'\n",
            "'files sharing.docx'\t\t\t    Query2.csv\n",
            " ids.csv\t\t\t\t   'Query 2.Dot values.csv'\n",
            " iq_overview.csv\t\t\t    Query_final.csv\n",
            " iq_overview.gsheet\t\t\t    query_September2024.csv\n",
            " old\t\t\t\t\t    sites.csv\n",
            " Pheno.csv\t\t\t\t    tasks\n",
            " pheno_mri.csv\t\t\t\t    Temporal_Frequency_Staircase_V3_gamified_L2R_Ilia.eve\n"
          ]
        }
      ]
    },
    {
      "cell_type": "markdown",
      "source": [
        "## Pipeline to make the data convinient to use"
      ],
      "metadata": {
        "id": "nLkYOzzUGnRy"
      }
    },
    {
      "cell_type": "markdown",
      "source": [
        "Here we are going to use the full and the most recent dataset."
      ],
      "metadata": {
        "id": "D2gWtrKvyMr-"
      }
    },
    {
      "cell_type": "code",
      "source": [
        "# our dataset\n",
        "data = pd.read_csv(\n",
        "    working_path.joinpath('query_September2024.csv'),\n",
        "    index_col=None,\n",
        "    low_memory=False\n",
        ")"
      ],
      "metadata": {
        "id": "V4z2UsT-zTlp"
      },
      "execution_count": 7,
      "outputs": []
    },
    {
      "cell_type": "code",
      "source": [
        "data.shape"
      ],
      "metadata": {
        "id": "Y_RRV98FUjpE",
        "outputId": "19ead4e1-443a-49f3-aa91-b68cef60121c",
        "colab": {
          "base_uri": "https://localhost:8080/"
        }
      },
      "execution_count": 8,
      "outputs": [
        {
          "output_type": "execute_result",
          "data": {
            "text/plain": [
              "(6687, 791)"
            ]
          },
          "metadata": {},
          "execution_count": 8
        }
      ]
    },
    {
      "cell_type": "code",
      "source": [
        "ids = data.Identifiers.values\n",
        "new_ids = []\n",
        "for i in ids:\n",
        "  new_i = i.replace(',assessment', '')\n",
        "  new_ids.append(new_i)\n",
        "print(len(ids))\n",
        "print(len(new_ids))\n",
        "\n",
        "data['Identifiers'] = new_ids"
      ],
      "metadata": {
        "id": "jjGb6Cr0HxgJ",
        "outputId": "3f9e7b2f-b25f-4787-924d-008b9ebc61f5",
        "colab": {
          "base_uri": "https://localhost:8080/"
        }
      },
      "execution_count": 9,
      "outputs": [
        {
          "output_type": "stream",
          "name": "stdout",
          "text": [
            "6687\n",
            "6687\n"
          ]
        }
      ]
    },
    {
      "cell_type": "code",
      "source": [
        "data = data.drop(labels=0, axis=0)"
      ],
      "metadata": {
        "id": "guq6tU-bH1Z6"
      },
      "execution_count": 10,
      "outputs": []
    },
    {
      "cell_type": "code",
      "source": [
        "data.head()"
      ],
      "metadata": {
        "id": "G_UNZ36Kntli",
        "outputId": "60c85bbb-ced1-459b-d667-cb00eee2b12c",
        "colab": {
          "base_uri": "https://localhost:8080/",
          "height": 256
        }
      },
      "execution_count": 11,
      "outputs": [
        {
          "output_type": "execute_result",
          "data": {
            "text/plain": [
              "    Identifiers Barratt,Barratt_P1_Edu Barratt,Barratt_P1_Occ  \\\n",
              "1  NDARAA075AMK                     21                     30   \n",
              "2  NDARAA112DMH                     18                     30   \n",
              "3  NDARAA117NEJ                     12                      5   \n",
              "4  NDARAA306NT2                     21                     15   \n",
              "5  NDARAA504CRN                     21                     40   \n",
              "\n",
              "  Barratt,Barratt_P2_Edu Barratt,Barratt_P2_Occ Barratt,Barratt_Total  \\\n",
              "1                     21                     45                  58.5   \n",
              "2                     12                     15                  37.5   \n",
              "3                      3                      5                  12.5   \n",
              "4                     15                     15                    33   \n",
              "5                    NaN                    NaN                    61   \n",
              "\n",
              "  Barratt,Barratt_Total_Edu Barratt,Barratt_Total_Occ  \\\n",
              "1                        21                      37.5   \n",
              "2                        15                      22.5   \n",
              "3                       7.5                         5   \n",
              "4                        18                        15   \n",
              "5                        21                        40   \n",
              "\n",
              "  Barratt,financialsupport Basic_Demos,Age  ... WISC_Remote,WISC_VCI_Sum  \\\n",
              "1                        3         6.72804  ...                        .   \n",
              "2                        3        5.545744  ...                        .   \n",
              "3                        3        7.475929  ...                        .   \n",
              "4                        3       21.216746  ...                        .   \n",
              "5                        1        9.165297  ...                        .   \n",
              "\n",
              "  WISC_Remote,WISC_VP_Raw WISC_Remote,WISC_VP_Scaled  \\\n",
              "1                       .                          .   \n",
              "2                       .                          .   \n",
              "3                       .                          .   \n",
              "4                       .                          .   \n",
              "5                       .                          .   \n",
              "\n",
              "  WISC_Remote,WISC_Vocab_Raw WISC_Remote,WISC_Vocab_Scaled  \\\n",
              "1                          .                             .   \n",
              "2                          .                             .   \n",
              "3                          .                             .   \n",
              "4                          .                             .   \n",
              "5                          .                             .   \n",
              "\n",
              "  WISC_Remote,WISC_WMI WISC_Remote,WISC_WMI_Percentile  \\\n",
              "1                    .                               .   \n",
              "2                    .                               .   \n",
              "3                    .                               .   \n",
              "4                    .                               .   \n",
              "5                    .                               .   \n",
              "\n",
              "  WISC_Remote,WISC_WMI_Sum WISC_Remote,WISC_complete  \\\n",
              "1                        .                         .   \n",
              "2                        .                         .   \n",
              "3                        .                         .   \n",
              "4                        .                         .   \n",
              "5                        .                         .   \n",
              "\n",
              "  WISC_Remote,WISC_incomplete_reason  \n",
              "1                                  .  \n",
              "2                                  .  \n",
              "3                                  .  \n",
              "4                                  .  \n",
              "5                                  .  \n",
              "\n",
              "[5 rows x 791 columns]"
            ],
            "text/html": [
              "\n",
              "  <div id=\"df-6d5e2aab-4533-4de2-9671-59774c7143cb\" class=\"colab-df-container\">\n",
              "    <div>\n",
              "<style scoped>\n",
              "    .dataframe tbody tr th:only-of-type {\n",
              "        vertical-align: middle;\n",
              "    }\n",
              "\n",
              "    .dataframe tbody tr th {\n",
              "        vertical-align: top;\n",
              "    }\n",
              "\n",
              "    .dataframe thead th {\n",
              "        text-align: right;\n",
              "    }\n",
              "</style>\n",
              "<table border=\"1\" class=\"dataframe\">\n",
              "  <thead>\n",
              "    <tr style=\"text-align: right;\">\n",
              "      <th></th>\n",
              "      <th>Identifiers</th>\n",
              "      <th>Barratt,Barratt_P1_Edu</th>\n",
              "      <th>Barratt,Barratt_P1_Occ</th>\n",
              "      <th>Barratt,Barratt_P2_Edu</th>\n",
              "      <th>Barratt,Barratt_P2_Occ</th>\n",
              "      <th>Barratt,Barratt_Total</th>\n",
              "      <th>Barratt,Barratt_Total_Edu</th>\n",
              "      <th>Barratt,Barratt_Total_Occ</th>\n",
              "      <th>Barratt,financialsupport</th>\n",
              "      <th>Basic_Demos,Age</th>\n",
              "      <th>...</th>\n",
              "      <th>WISC_Remote,WISC_VCI_Sum</th>\n",
              "      <th>WISC_Remote,WISC_VP_Raw</th>\n",
              "      <th>WISC_Remote,WISC_VP_Scaled</th>\n",
              "      <th>WISC_Remote,WISC_Vocab_Raw</th>\n",
              "      <th>WISC_Remote,WISC_Vocab_Scaled</th>\n",
              "      <th>WISC_Remote,WISC_WMI</th>\n",
              "      <th>WISC_Remote,WISC_WMI_Percentile</th>\n",
              "      <th>WISC_Remote,WISC_WMI_Sum</th>\n",
              "      <th>WISC_Remote,WISC_complete</th>\n",
              "      <th>WISC_Remote,WISC_incomplete_reason</th>\n",
              "    </tr>\n",
              "  </thead>\n",
              "  <tbody>\n",
              "    <tr>\n",
              "      <th>1</th>\n",
              "      <td>NDARAA075AMK</td>\n",
              "      <td>21</td>\n",
              "      <td>30</td>\n",
              "      <td>21</td>\n",
              "      <td>45</td>\n",
              "      <td>58.5</td>\n",
              "      <td>21</td>\n",
              "      <td>37.5</td>\n",
              "      <td>3</td>\n",
              "      <td>6.72804</td>\n",
              "      <td>...</td>\n",
              "      <td>.</td>\n",
              "      <td>.</td>\n",
              "      <td>.</td>\n",
              "      <td>.</td>\n",
              "      <td>.</td>\n",
              "      <td>.</td>\n",
              "      <td>.</td>\n",
              "      <td>.</td>\n",
              "      <td>.</td>\n",
              "      <td>.</td>\n",
              "    </tr>\n",
              "    <tr>\n",
              "      <th>2</th>\n",
              "      <td>NDARAA112DMH</td>\n",
              "      <td>18</td>\n",
              "      <td>30</td>\n",
              "      <td>12</td>\n",
              "      <td>15</td>\n",
              "      <td>37.5</td>\n",
              "      <td>15</td>\n",
              "      <td>22.5</td>\n",
              "      <td>3</td>\n",
              "      <td>5.545744</td>\n",
              "      <td>...</td>\n",
              "      <td>.</td>\n",
              "      <td>.</td>\n",
              "      <td>.</td>\n",
              "      <td>.</td>\n",
              "      <td>.</td>\n",
              "      <td>.</td>\n",
              "      <td>.</td>\n",
              "      <td>.</td>\n",
              "      <td>.</td>\n",
              "      <td>.</td>\n",
              "    </tr>\n",
              "    <tr>\n",
              "      <th>3</th>\n",
              "      <td>NDARAA117NEJ</td>\n",
              "      <td>12</td>\n",
              "      <td>5</td>\n",
              "      <td>3</td>\n",
              "      <td>5</td>\n",
              "      <td>12.5</td>\n",
              "      <td>7.5</td>\n",
              "      <td>5</td>\n",
              "      <td>3</td>\n",
              "      <td>7.475929</td>\n",
              "      <td>...</td>\n",
              "      <td>.</td>\n",
              "      <td>.</td>\n",
              "      <td>.</td>\n",
              "      <td>.</td>\n",
              "      <td>.</td>\n",
              "      <td>.</td>\n",
              "      <td>.</td>\n",
              "      <td>.</td>\n",
              "      <td>.</td>\n",
              "      <td>.</td>\n",
              "    </tr>\n",
              "    <tr>\n",
              "      <th>4</th>\n",
              "      <td>NDARAA306NT2</td>\n",
              "      <td>21</td>\n",
              "      <td>15</td>\n",
              "      <td>15</td>\n",
              "      <td>15</td>\n",
              "      <td>33</td>\n",
              "      <td>18</td>\n",
              "      <td>15</td>\n",
              "      <td>3</td>\n",
              "      <td>21.216746</td>\n",
              "      <td>...</td>\n",
              "      <td>.</td>\n",
              "      <td>.</td>\n",
              "      <td>.</td>\n",
              "      <td>.</td>\n",
              "      <td>.</td>\n",
              "      <td>.</td>\n",
              "      <td>.</td>\n",
              "      <td>.</td>\n",
              "      <td>.</td>\n",
              "      <td>.</td>\n",
              "    </tr>\n",
              "    <tr>\n",
              "      <th>5</th>\n",
              "      <td>NDARAA504CRN</td>\n",
              "      <td>21</td>\n",
              "      <td>40</td>\n",
              "      <td>NaN</td>\n",
              "      <td>NaN</td>\n",
              "      <td>61</td>\n",
              "      <td>21</td>\n",
              "      <td>40</td>\n",
              "      <td>1</td>\n",
              "      <td>9.165297</td>\n",
              "      <td>...</td>\n",
              "      <td>.</td>\n",
              "      <td>.</td>\n",
              "      <td>.</td>\n",
              "      <td>.</td>\n",
              "      <td>.</td>\n",
              "      <td>.</td>\n",
              "      <td>.</td>\n",
              "      <td>.</td>\n",
              "      <td>.</td>\n",
              "      <td>.</td>\n",
              "    </tr>\n",
              "  </tbody>\n",
              "</table>\n",
              "<p>5 rows × 791 columns</p>\n",
              "</div>\n",
              "    <div class=\"colab-df-buttons\">\n",
              "\n",
              "  <div class=\"colab-df-container\">\n",
              "    <button class=\"colab-df-convert\" onclick=\"convertToInteractive('df-6d5e2aab-4533-4de2-9671-59774c7143cb')\"\n",
              "            title=\"Convert this dataframe to an interactive table.\"\n",
              "            style=\"display:none;\">\n",
              "\n",
              "  <svg xmlns=\"http://www.w3.org/2000/svg\" height=\"24px\" viewBox=\"0 -960 960 960\">\n",
              "    <path d=\"M120-120v-720h720v720H120Zm60-500h600v-160H180v160Zm220 220h160v-160H400v160Zm0 220h160v-160H400v160ZM180-400h160v-160H180v160Zm440 0h160v-160H620v160ZM180-180h160v-160H180v160Zm440 0h160v-160H620v160Z\"/>\n",
              "  </svg>\n",
              "    </button>\n",
              "\n",
              "  <style>\n",
              "    .colab-df-container {\n",
              "      display:flex;\n",
              "      gap: 12px;\n",
              "    }\n",
              "\n",
              "    .colab-df-convert {\n",
              "      background-color: #E8F0FE;\n",
              "      border: none;\n",
              "      border-radius: 50%;\n",
              "      cursor: pointer;\n",
              "      display: none;\n",
              "      fill: #1967D2;\n",
              "      height: 32px;\n",
              "      padding: 0 0 0 0;\n",
              "      width: 32px;\n",
              "    }\n",
              "\n",
              "    .colab-df-convert:hover {\n",
              "      background-color: #E2EBFA;\n",
              "      box-shadow: 0px 1px 2px rgba(60, 64, 67, 0.3), 0px 1px 3px 1px rgba(60, 64, 67, 0.15);\n",
              "      fill: #174EA6;\n",
              "    }\n",
              "\n",
              "    .colab-df-buttons div {\n",
              "      margin-bottom: 4px;\n",
              "    }\n",
              "\n",
              "    [theme=dark] .colab-df-convert {\n",
              "      background-color: #3B4455;\n",
              "      fill: #D2E3FC;\n",
              "    }\n",
              "\n",
              "    [theme=dark] .colab-df-convert:hover {\n",
              "      background-color: #434B5C;\n",
              "      box-shadow: 0px 1px 3px 1px rgba(0, 0, 0, 0.15);\n",
              "      filter: drop-shadow(0px 1px 2px rgba(0, 0, 0, 0.3));\n",
              "      fill: #FFFFFF;\n",
              "    }\n",
              "  </style>\n",
              "\n",
              "    <script>\n",
              "      const buttonEl =\n",
              "        document.querySelector('#df-6d5e2aab-4533-4de2-9671-59774c7143cb button.colab-df-convert');\n",
              "      buttonEl.style.display =\n",
              "        google.colab.kernel.accessAllowed ? 'block' : 'none';\n",
              "\n",
              "      async function convertToInteractive(key) {\n",
              "        const element = document.querySelector('#df-6d5e2aab-4533-4de2-9671-59774c7143cb');\n",
              "        const dataTable =\n",
              "          await google.colab.kernel.invokeFunction('convertToInteractive',\n",
              "                                                    [key], {});\n",
              "        if (!dataTable) return;\n",
              "\n",
              "        const docLinkHtml = 'Like what you see? Visit the ' +\n",
              "          '<a target=\"_blank\" href=https://colab.research.google.com/notebooks/data_table.ipynb>data table notebook</a>'\n",
              "          + ' to learn more about interactive tables.';\n",
              "        element.innerHTML = '';\n",
              "        dataTable['output_type'] = 'display_data';\n",
              "        await google.colab.output.renderOutput(dataTable, element);\n",
              "        const docLink = document.createElement('div');\n",
              "        docLink.innerHTML = docLinkHtml;\n",
              "        element.appendChild(docLink);\n",
              "      }\n",
              "    </script>\n",
              "  </div>\n",
              "\n",
              "\n",
              "<div id=\"df-24ef614b-2c3c-4418-bcea-5dc4c926149d\">\n",
              "  <button class=\"colab-df-quickchart\" onclick=\"quickchart('df-24ef614b-2c3c-4418-bcea-5dc4c926149d')\"\n",
              "            title=\"Suggest charts\"\n",
              "            style=\"display:none;\">\n",
              "\n",
              "<svg xmlns=\"http://www.w3.org/2000/svg\" height=\"24px\"viewBox=\"0 0 24 24\"\n",
              "     width=\"24px\">\n",
              "    <g>\n",
              "        <path d=\"M19 3H5c-1.1 0-2 .9-2 2v14c0 1.1.9 2 2 2h14c1.1 0 2-.9 2-2V5c0-1.1-.9-2-2-2zM9 17H7v-7h2v7zm4 0h-2V7h2v10zm4 0h-2v-4h2v4z\"/>\n",
              "    </g>\n",
              "</svg>\n",
              "  </button>\n",
              "\n",
              "<style>\n",
              "  .colab-df-quickchart {\n",
              "      --bg-color: #E8F0FE;\n",
              "      --fill-color: #1967D2;\n",
              "      --hover-bg-color: #E2EBFA;\n",
              "      --hover-fill-color: #174EA6;\n",
              "      --disabled-fill-color: #AAA;\n",
              "      --disabled-bg-color: #DDD;\n",
              "  }\n",
              "\n",
              "  [theme=dark] .colab-df-quickchart {\n",
              "      --bg-color: #3B4455;\n",
              "      --fill-color: #D2E3FC;\n",
              "      --hover-bg-color: #434B5C;\n",
              "      --hover-fill-color: #FFFFFF;\n",
              "      --disabled-bg-color: #3B4455;\n",
              "      --disabled-fill-color: #666;\n",
              "  }\n",
              "\n",
              "  .colab-df-quickchart {\n",
              "    background-color: var(--bg-color);\n",
              "    border: none;\n",
              "    border-radius: 50%;\n",
              "    cursor: pointer;\n",
              "    display: none;\n",
              "    fill: var(--fill-color);\n",
              "    height: 32px;\n",
              "    padding: 0;\n",
              "    width: 32px;\n",
              "  }\n",
              "\n",
              "  .colab-df-quickchart:hover {\n",
              "    background-color: var(--hover-bg-color);\n",
              "    box-shadow: 0 1px 2px rgba(60, 64, 67, 0.3), 0 1px 3px 1px rgba(60, 64, 67, 0.15);\n",
              "    fill: var(--button-hover-fill-color);\n",
              "  }\n",
              "\n",
              "  .colab-df-quickchart-complete:disabled,\n",
              "  .colab-df-quickchart-complete:disabled:hover {\n",
              "    background-color: var(--disabled-bg-color);\n",
              "    fill: var(--disabled-fill-color);\n",
              "    box-shadow: none;\n",
              "  }\n",
              "\n",
              "  .colab-df-spinner {\n",
              "    border: 2px solid var(--fill-color);\n",
              "    border-color: transparent;\n",
              "    border-bottom-color: var(--fill-color);\n",
              "    animation:\n",
              "      spin 1s steps(1) infinite;\n",
              "  }\n",
              "\n",
              "  @keyframes spin {\n",
              "    0% {\n",
              "      border-color: transparent;\n",
              "      border-bottom-color: var(--fill-color);\n",
              "      border-left-color: var(--fill-color);\n",
              "    }\n",
              "    20% {\n",
              "      border-color: transparent;\n",
              "      border-left-color: var(--fill-color);\n",
              "      border-top-color: var(--fill-color);\n",
              "    }\n",
              "    30% {\n",
              "      border-color: transparent;\n",
              "      border-left-color: var(--fill-color);\n",
              "      border-top-color: var(--fill-color);\n",
              "      border-right-color: var(--fill-color);\n",
              "    }\n",
              "    40% {\n",
              "      border-color: transparent;\n",
              "      border-right-color: var(--fill-color);\n",
              "      border-top-color: var(--fill-color);\n",
              "    }\n",
              "    60% {\n",
              "      border-color: transparent;\n",
              "      border-right-color: var(--fill-color);\n",
              "    }\n",
              "    80% {\n",
              "      border-color: transparent;\n",
              "      border-right-color: var(--fill-color);\n",
              "      border-bottom-color: var(--fill-color);\n",
              "    }\n",
              "    90% {\n",
              "      border-color: transparent;\n",
              "      border-bottom-color: var(--fill-color);\n",
              "    }\n",
              "  }\n",
              "</style>\n",
              "\n",
              "  <script>\n",
              "    async function quickchart(key) {\n",
              "      const quickchartButtonEl =\n",
              "        document.querySelector('#' + key + ' button');\n",
              "      quickchartButtonEl.disabled = true;  // To prevent multiple clicks.\n",
              "      quickchartButtonEl.classList.add('colab-df-spinner');\n",
              "      try {\n",
              "        const charts = await google.colab.kernel.invokeFunction(\n",
              "            'suggestCharts', [key], {});\n",
              "      } catch (error) {\n",
              "        console.error('Error during call to suggestCharts:', error);\n",
              "      }\n",
              "      quickchartButtonEl.classList.remove('colab-df-spinner');\n",
              "      quickchartButtonEl.classList.add('colab-df-quickchart-complete');\n",
              "    }\n",
              "    (() => {\n",
              "      let quickchartButtonEl =\n",
              "        document.querySelector('#df-24ef614b-2c3c-4418-bcea-5dc4c926149d button');\n",
              "      quickchartButtonEl.style.display =\n",
              "        google.colab.kernel.accessAllowed ? 'block' : 'none';\n",
              "    })();\n",
              "  </script>\n",
              "</div>\n",
              "\n",
              "    </div>\n",
              "  </div>\n"
            ],
            "application/vnd.google.colaboratory.intrinsic+json": {
              "type": "dataframe",
              "variable_name": "data"
            }
          },
          "metadata": {},
          "execution_count": 11
        }
      ]
    },
    {
      "cell_type": "markdown",
      "source": [
        "The Identifiers at the end of the table contain additional visits of some of the subjects. We need to incorporate this information to the original data entries. The snap of the code below is an example of this occuring in the data."
      ],
      "metadata": {
        "id": "1E4y14VywHO5"
      }
    },
    {
      "cell_type": "code",
      "source": [
        "data['Identifiers'].values[6000:6200]"
      ],
      "metadata": {
        "id": "fSWigPsdv6XD",
        "outputId": "7e165401-1c79-40b4-e51d-5afc95c01d4b",
        "colab": {
          "base_uri": "https://localhost:8080/"
        }
      },
      "execution_count": 12,
      "outputs": [
        {
          "output_type": "execute_result",
          "data": {
            "text/plain": [
              "array(['NDARPX155RF3_Visit_2', 'NDARPX155RF3_Visit_3',\n",
              "       'NDARPX219TW0_Visit_1', 'NDARPX219TW0_Visit_2',\n",
              "       'NDARPX219TW0_Visit_3', 'NDARPZ621ZLE_Visit_3',\n",
              "       'NDARRA717GYV_Visit_1', 'NDARRA717GYV_Visit_2',\n",
              "       'NDARRA733VWX_Visit_1', 'NDARRA733VWX_Visit_2',\n",
              "       'NDARRA733VWX_Visit_3', 'NDARRA733VWX_Visit_4',\n",
              "       'NDARRB942UWU_Visit_1', 'NDARRB942UWU_Visit_2',\n",
              "       'NDARRB942UWU_Visit_3', 'NDARRC190NKB_Visit_1',\n",
              "       'NDARRC190NKB_Visit_2', 'NDARRC190NKB_Visit_3',\n",
              "       'NDARRC819NLC_Visit_1', 'NDARRC819NLC_Visit_2',\n",
              "       'NDARRC819NLC_Visit_3', 'NDARRD326KB9_Visit_1',\n",
              "       'NDARRD326KB9_Visit_2', 'NDARRD326KB9_Visit_3',\n",
              "       'NDARRD720XZK_Visit_1', 'NDARRD720XZK_Visit_2',\n",
              "       'NDARRD720XZK_Visit_3', 'NDARRF897HB5_Visit_1',\n",
              "       'NDARRF897HB5_Visit_2', 'NDARRF897HB5_Visit_3',\n",
              "       'NDARRG199RU4_Visit_2', 'NDARRG199RU4_Visit_3',\n",
              "       'NDARRG415BJM_Visit_1', 'NDARRG415BJM_Visit_2',\n",
              "       'NDARRG415BJM_Visit_3', 'NDARRH407MEY_Visit_1',\n",
              "       'NDARRH407MEY_Visit_2', 'NDARRH407MEY_Visit_3',\n",
              "       'NDARRH725XYA_Visit_2', 'NDARRH725XYA_Visit_3',\n",
              "       'NDARRH725XYA_Visit_4', 'NDARRH732EVM_Visit_1',\n",
              "       'NDARRH732EVM_Visit_2', 'NDARRJ137CH3_Visit_1',\n",
              "       'NDARRJ137CH3_Visit_2', 'NDARRJ728NMD_Visit_1',\n",
              "       'NDARRJ728NMD_Visit_2', 'NDARRJ728NMD_Visit_3',\n",
              "       'NDARRJ989YPA_Visit_1', 'NDARRJ989YPA_Visit_2',\n",
              "       'NDARRK213WCF_Visit_1', 'NDARRL218DJ5_Visit_1',\n",
              "       'NDARRL218DJ5_Visit_2', 'NDARRL218DJ5_Visit_3',\n",
              "       'NDARRL660CME_No_Visi', 'NDARRL660CME_Visit_2',\n",
              "       'NDARRL660CME_Visit_3', 'NDARRL685WB7_Visit_1',\n",
              "       'NDARRL685WB7_Visit_2', 'NDARRM467NP2_SL_Eval',\n",
              "       'NDARRM467NP2_Visit_1', 'NDARRM467NP2_Visit_2',\n",
              "       'NDARRN444MJG_Visit_1', 'NDARRN444MJG_Visit_2',\n",
              "       'NDARRN444MJG_Visit_3', 'NDARRP163YRC_Visit_1',\n",
              "       'NDARRP163YRC_Visit_2', 'NDARRP163YRC_Visit_3',\n",
              "       'NDARRP818DWL_Visit_1', 'NDARRP818DWL_Visit_2',\n",
              "       'NDARRR450VUU_Visit_1', 'NDARRR450VUU_Visit_2',\n",
              "       'NDARRR450VUU_Visit_3', 'NDARRT038VG1_SL_Eval',\n",
              "       'NDARRT038VG1_Visit_2', 'NDARRT038VG1_Visit_3',\n",
              "       'NDARRU501YED_Visit_1', 'NDARRU501YED_Visit_2',\n",
              "       'NDARRU501YED_Visit_3', 'NDARRU720LG4_Visit_1',\n",
              "       'NDARRU720LG4_Visit_2', 'NDARRV480PU1_Visit_1',\n",
              "       'NDARRV480PU1_Visit_2', 'NDARRV638MJV_Visit_1',\n",
              "       'NDARRV638MJV_Visit_2', 'NDARRW100AU0_Visit_2',\n",
              "       'NDARRW100AU0_Visit_3', 'NDARRW940BL6_Visit_1',\n",
              "       'NDARRW940BL6_Visit_2', 'NDARRX999BX0_Visit_3',\n",
              "       'NDARRX999BX0_Visit_5', 'NDARRY006EMB_MRI', 'NDARRY112RAK_Visit_1',\n",
              "       'NDARRY112RAK_Visit_2', 'NDARRY112RAK_Visit_3',\n",
              "       'NDARRY280KNW_Visit_1', 'NDARRY280KNW_Visit_2',\n",
              "       'NDARRY280KNW_Visit_3', 'NDARRY715CY4_Visit_1',\n",
              "       'NDARRY867DY4_Visit_1', 'NDARRZ653HKY_Visit_1',\n",
              "       'NDARRZ653HKY_Visit_2', 'NDARRZ979FZ4_SL_Eval',\n",
              "       'NDARTA808DEQ_Visit_1', 'NDARTA808DEQ_Visit_3', 'NDARTB219AJV_SLP',\n",
              "       'NDARTB219AJV_Visit_1', 'NDARTB219AJV_Visit_2',\n",
              "       'NDARTB219AJV_Visit_3', 'NDARTB329GFY_SL_Eval',\n",
              "       'NDARTB329GFY_Visit_1', 'NDARTB329GFY_Visit_2',\n",
              "       'NDARTB329GFY_Visit_3', 'NDARTB552HP0_Visit_2',\n",
              "       'NDARTB552HP0_Visit_3', 'NDARTD468TUH_Visit_1',\n",
              "       'NDARTD468TUH_Visit_2', 'NDARTD468TUH_Visit_3',\n",
              "       'NDARTE785ZMJ_Visit_1', 'NDARTE785ZMJ_Visit_2',\n",
              "       'NDARTF133LLM_Visit_1', 'NDARTF133LLM_Visit_2',\n",
              "       'NDARTF133LLM_Visit_3', 'NDARTF833WXB_Visit_1',\n",
              "       'NDARTF833WXB_Visit_2', 'NDARTG035JK8_Visit_1',\n",
              "       'NDARTG464MWG_SL_Eval', 'NDARTG464MWG_Visit_1',\n",
              "       'NDARTG464MWG_Visit_2', 'NDARTG464MWG_Visit_3',\n",
              "       'NDARTG623PUH_Visit_1', 'NDARTG623PUH_Visit_2',\n",
              "       'NDARTG762KJC_Visit_1', 'NDARTG762KJC_Visit_2',\n",
              "       'NDARTG762KJC_Visit_4', 'NDARTH610GMK_Visit_1',\n",
              "       'NDARTH610GMK_Visit_2', 'NDARTH610GMK_Visit_3',\n",
              "       'NDARTJ032FJ2_Visit_1', 'NDARTJ032FJ2_Visit_2',\n",
              "       'NDARTJ418GP0_Visit_1', 'NDARTJ418GP0_Visit_2',\n",
              "       'NDARTJ418GP0_Visit_3', 'NDARTJ702KNP_Visit_1',\n",
              "       'NDARTJ702KNP_Visit_2', 'NDARTK435YWU_Visit_3',\n",
              "       'NDARTK882BHQ_Visit_1', 'NDARTK933KL9_Visit_1',\n",
              "       'NDARTK933KL9_Visit_2', 'NDARTK933KL9_Visit_3',\n",
              "       'NDARTL336THT_SL_Eval', 'NDARTL336THT_Visit_1',\n",
              "       'NDARTL336THT_Visit_2', 'NDARTN158LRF_Visit_1',\n",
              "       'NDARTN487KDK_Visit_1', 'NDARTP190KAN_Visit_1',\n",
              "       'NDARTP190KAN_Visit_2', 'NDARTP190KAN_Visit_3',\n",
              "       'NDARTP313AGH_Visit_2', 'NDARTP313AGH_Visit_3',\n",
              "       'NDARTR365NCY_Visit_1', 'NDARTR365NCY_Visit_2',\n",
              "       'NDARTR651DEH_Visit_1', 'NDARTR840XP1_Visit_1',\n",
              "       'NDARTR840XP1_Visit_2', 'NDARTR840XP1_Visit_3',\n",
              "       'NDARTT194LTU_Visit_1', 'NDARTT242GNN_Visit_1',\n",
              "       'NDARTT242GNN_Visit_2', 'NDARTT242GNN_Visit_3',\n",
              "       'NDARTT759PC5_Visit_1', 'NDARTT759PC5_Visit_2',\n",
              "       'NDARTU777GVV_Visit_1', 'NDARTU777GVV_Visit_2',\n",
              "       'NDARTU777GVV_Visit_3', 'NDARTW855BPJ_MRI', 'NDARTW855BPJ_No_Visi',\n",
              "       'NDARTW855BPJ_Visit_1', 'NDARTW855BPJ_Visit_2',\n",
              "       'NDARTX659HAF_Visit_1', 'NDARTX659HAF_Visit_3',\n",
              "       'NDARTX795AKR_Visit_1', 'NDARTX934NH6_Visit_1',\n",
              "       'NDARTX934NH6_Visit_2', 'NDARTX934NH6_Visit_3',\n",
              "       'NDARTZ634BAN_Visit_1', 'NDARTZ634BAN_Visit_2', 'NDARTZ926NMZ_SLP',\n",
              "       'NDARTZ926NMZ_Visit_1', 'NDARTZ926NMZ_Visit_2',\n",
              "       'NDARTZ926NMZ_Visit_3', 'NDARUA481FK4_Visit_1',\n",
              "       'NDARUA481FK4_Visit_2', 'NDARUD776KFT_COG', 'NDARUE533XNH_Visit_1',\n",
              "       'NDARUE533XNH_Visit_2', 'NDARUE533XNH_Visit_3',\n",
              "       'NDARUF069EHR_Visit_3', 'NDARUF069EHR_Visit_5',\n",
              "       'NDARUF389TXE_SL_Eval'], dtype=object)"
            ]
          },
          "metadata": {},
          "execution_count": 12
        }
      ]
    },
    {
      "cell_type": "code",
      "source": [
        "versions = []\n",
        "for i in data.Identifiers.values.tolist():\n",
        "  if '_' in i:\n",
        "    versions.append(i)\n",
        "print(len(versions))"
      ],
      "metadata": {
        "id": "jiE0_9kVIeRS",
        "outputId": "af114ab6-9f34-42cf-8578-1bb2e5a8bc08",
        "colab": {
          "base_uri": "https://localhost:8080/"
        }
      },
      "execution_count": 13,
      "outputs": [
        {
          "output_type": "stream",
          "name": "stdout",
          "text": [
            "1819\n"
          ]
        }
      ]
    },
    {
      "cell_type": "code",
      "source": [
        "columns = data.columns\n",
        "i = 0\n",
        "for id in versions:\n",
        "  values = data[data['Identifiers'] == id].values.tolist()\n",
        "  while len(values) == 1:\n",
        "    values = values[0]\n",
        "  for value in values[1:]:\n",
        "    if value != '.':\n",
        "      if type(value) == str:\n",
        "        column_number = values.index(value)\n",
        "        row_number = data[data['Identifiers'] == id[:12]].index[0]\n",
        "        data.at[row_number, columns[column_number]] = value\n",
        "      elif type(value) != str and math.isnan(value) is not True:\n",
        "        column_number = values.index(value)\n",
        "        row_number = data[data['Identifiers'] == id[:12]].index[0]\n",
        "        data.at[row_number, columns[column_number]] = value\n",
        "      else:\n",
        "        if math.isnan(value) is not True:\n",
        "          print(value, type(value))\n",
        "  i += 1\n",
        "print(i)"
      ],
      "metadata": {
        "id": "i4bFXlFQH1cX",
        "outputId": "65de50b7-764a-4020-dff5-7ee6b36c1267",
        "colab": {
          "base_uri": "https://localhost:8080/"
        }
      },
      "execution_count": 14,
      "outputs": [
        {
          "output_type": "stream",
          "name": "stdout",
          "text": [
            "1819\n"
          ]
        }
      ]
    },
    {
      "cell_type": "code",
      "source": [
        "for id in versions:\n",
        "  data = data[data['Identifiers'] != id]\n",
        "data.shape"
      ],
      "metadata": {
        "id": "dCCDlIDLH_HE",
        "outputId": "9f74f7db-912b-4d22-ee16-dbb963f80451",
        "colab": {
          "base_uri": "https://localhost:8080/"
        }
      },
      "execution_count": 15,
      "outputs": [
        {
          "output_type": "execute_result",
          "data": {
            "text/plain": [
              "(4867, 791)"
            ]
          },
          "metadata": {},
          "execution_count": 15
        }
      ]
    },
    {
      "cell_type": "code",
      "source": [
        "# checking for duplicates\n",
        "num_col_duplicates = data['Identifiers'].duplicated().sum()\n",
        "print(f'Number of duplicates in column \"Identifiers\": {num_col_duplicates}')"
      ],
      "metadata": {
        "id": "zCd3qYXkzuQB",
        "outputId": "ca883936-3df7-47ea-f079-0c446ead7d4b",
        "colab": {
          "base_uri": "https://localhost:8080/"
        }
      },
      "execution_count": 16,
      "outputs": [
        {
          "output_type": "stream",
          "name": "stdout",
          "text": [
            "Number of duplicates in column \"Identifiers\": 0\n"
          ]
        }
      ]
    },
    {
      "cell_type": "code",
      "source": [
        "# we also have a column Basic Demos, EID that contain identifiers. Let's cross reference to check whether there are any discrepancies\n",
        "ids1 = data['Identifiers'].values\n",
        "ids2 = data['Basic_Demos,EID'].values\n",
        "print(len(ids1))\n",
        "print(len(ids2))\n",
        "for i in range(0, len(ids1)):\n",
        "  if ids1[i] != ids2[i]:\n",
        "    print(ids1, ids2)\n",
        "    break"
      ],
      "metadata": {
        "id": "hTtspmKKHKwA",
        "outputId": "2335cf05-1418-4df8-85d5-7e7488790e22",
        "colab": {
          "base_uri": "https://localhost:8080/"
        }
      },
      "execution_count": 17,
      "outputs": [
        {
          "output_type": "stream",
          "name": "stdout",
          "text": [
            "4867\n",
            "4867\n"
          ]
        }
      ]
    },
    {
      "cell_type": "code",
      "source": [
        "data.columns"
      ],
      "metadata": {
        "id": "voTcJ9yprtqv",
        "outputId": "7f8e57cd-afa5-450b-b6c8-0b2f20f44503",
        "colab": {
          "base_uri": "https://localhost:8080/"
        }
      },
      "execution_count": 18,
      "outputs": [
        {
          "output_type": "execute_result",
          "data": {
            "text/plain": [
              "Index(['Identifiers', 'Barratt,Barratt_P1_Edu', 'Barratt,Barratt_P1_Occ',\n",
              "       'Barratt,Barratt_P2_Edu', 'Barratt,Barratt_P2_Occ',\n",
              "       'Barratt,Barratt_Total', 'Barratt,Barratt_Total_Edu',\n",
              "       'Barratt,Barratt_Total_Occ', 'Barratt,financialsupport',\n",
              "       'Basic_Demos,Age',\n",
              "       ...\n",
              "       'WISC_Remote,WISC_VCI_Sum', 'WISC_Remote,WISC_VP_Raw',\n",
              "       'WISC_Remote,WISC_VP_Scaled', 'WISC_Remote,WISC_Vocab_Raw',\n",
              "       'WISC_Remote,WISC_Vocab_Scaled', 'WISC_Remote,WISC_WMI',\n",
              "       'WISC_Remote,WISC_WMI_Percentile', 'WISC_Remote,WISC_WMI_Sum',\n",
              "       'WISC_Remote,WISC_complete', 'WISC_Remote,WISC_incomplete_reason'],\n",
              "      dtype='object', length=791)"
            ]
          },
          "metadata": {},
          "execution_count": 18
        }
      ]
    },
    {
      "cell_type": "markdown",
      "source": [
        "Let's now work on individual columns to make them more convinient for screening"
      ],
      "metadata": {
        "id": "6Sq56HJ0GBBF"
      }
    },
    {
      "cell_type": "code",
      "source": [
        "# we have a column \"Participant Status\" that contains information on whether\n",
        "# a person dropped out or been lost to follow up\n",
        "status = data['Basic_Demos,Participant_Status'].unique()\n",
        "for each in status:\n",
        "  number = data[data['Basic_Demos,Participant_Status'] == each].shape[0]\n",
        "  print('Number of ' + each + ': ' + str(number))"
      ],
      "metadata": {
        "id": "aGyJtuXjIaSQ",
        "outputId": "988e9656-3a9d-40a5-fc1e-3837ba88a006",
        "colab": {
          "base_uri": "https://localhost:8080/"
        }
      },
      "execution_count": 19,
      "outputs": [
        {
          "output_type": "stream",
          "name": "stdout",
          "text": [
            "Number of Complete: 4241\n",
            "Number of Lost to follow-up: 269\n",
            "Number of Dropout: 357\n"
          ]
        }
      ]
    },
    {
      "cell_type": "code",
      "source": [
        "#working on Basic_Demos columns\n",
        "data['Basic_Demos,Age'] = data['Basic_Demos,Age'].astype(float)\n",
        "data['Basic_Demos,Sex'] = data['Basic_Demos,Sex'].astype(int)\n",
        "data.drop(['Basic_Demos,Site'], axis=1, inplace = True) # contain only nan values\n",
        "data['Basic_Demos,Study_Site'] = data['Basic_Demos,Study_Site'].astype(int)"
      ],
      "metadata": {
        "id": "cHr_mN-E4tNS"
      },
      "execution_count": 20,
      "outputs": []
    },
    {
      "cell_type": "code",
      "source": [
        "# Barrat score\n",
        "number = data[data['Barratt,Barratt_Total'] == '.'].shape[0]\n",
        "print('Missing values for Barrat scores: ' + str(number) + ' out of ' + str(data.shape[0]))"
      ],
      "metadata": {
        "id": "apLu3SfCMMtQ",
        "outputId": "ad3206ad-c649-4445-b82d-df3e4b9de387",
        "colab": {
          "base_uri": "https://localhost:8080/"
        }
      },
      "execution_count": 21,
      "outputs": [
        {
          "output_type": "stream",
          "name": "stdout",
          "text": [
            "Missing values for Barrat scores: 434 out of 4867\n"
          ]
        }
      ]
    },
    {
      "cell_type": "code",
      "source": [
        "# CELF tests\n",
        "# if we end up using it, it might make sense to check the validity first in CELF_Valid\n",
        "data['CELF,CELF_Total'] = data['CELF,CELF_Total'].fillna('.')\n",
        "number = data[data['CELF,CELF_Total'] == '.'].shape[0]\n",
        "print('Missing values for CELF scores: ' + str(number) + ' out of ' + str(data.shape[0]))"
      ],
      "metadata": {
        "id": "o73rj6_5MypJ",
        "outputId": "e7fe8029-c206-421d-9b01-e3674e0a3f97",
        "colab": {
          "base_uri": "https://localhost:8080/"
        }
      },
      "execution_count": 22,
      "outputs": [
        {
          "output_type": "stream",
          "name": "stdout",
          "text": [
            "Missing values for CELF scores: 662 out of 4867\n"
          ]
        }
      ]
    },
    {
      "cell_type": "code",
      "source": [
        "# CTOPP-2\n",
        "# don't trust the 'complete' field, the ones with number 2 are both who completed some sets and who did nothing\n",
        "data['CTOPP,CTOPP_Complete'] = data['CTOPP,CTOPP_Complete'].fillna('.')\n",
        "number = data[data['CTOPP,CTOPP_Complete'] != '1'].shape[0]\n",
        "print('Missing values for CTOPP-2 scores: ' + str(number) + ' out of ' + str(data.shape[0]))\n",
        "\n",
        "names = ['CTOPP,CTOPP_BW_D', 'CTOPP,CTOPP_BW_P',\n",
        "       'CTOPP,CTOPP_BW_R', 'CTOPP,CTOPP_BW_S',\n",
        "       'CTOPP,CTOPP_EL_D', 'CTOPP,CTOPP_EL_P', 'CTOPP,CTOPP_EL_R',\n",
        "       'CTOPP,CTOPP_EL_S', 'CTOPP,CTOPP_NR_D', 'CTOPP,CTOPP_NR_P',\n",
        "       'CTOPP,CTOPP_NR_R', 'CTOPP,CTOPP_NR_S', 'CTOPP,CTOPP_RD_D',\n",
        "       'CTOPP,CTOPP_RD_P', 'CTOPP,CTOPP_RD_R', 'CTOPP,CTOPP_RD_S',\n",
        "       'CTOPP,CTOPP_RL_D', 'CTOPP,CTOPP_RL_P', 'CTOPP,CTOPP_RL_R',\n",
        "       'CTOPP,CTOPP_RL_S', 'CTOPP,CTOPP_RO_D', 'CTOPP,CTOPP_RO_P',\n",
        "       'CTOPP,CTOPP_RO_R', 'CTOPP,CTOPP_RO_S', 'CTOPP,CTOPP_RSN_Comp',\n",
        "       'CTOPP,CTOPP_RSN_D', 'CTOPP,CTOPP_RSN_P', 'CTOPP,CTOPP_RSN_Sum']\n",
        "\n",
        "for name in names:\n",
        "  data[name] = data[name].fillna('.') # filling nan values if any\n",
        "\n",
        "ctopp = []\n",
        "ids = data.Identifiers.values.tolist()\n",
        "for id in ids:\n",
        "  subset = data[data['Identifiers'] == id]\n",
        "  tests = []\n",
        "  for name in names:\n",
        "    if subset[name].values[0] != '.':\n",
        "      tests.append(name)\n",
        "  if len(tests) == 28:\n",
        "    ctopp.append('full')\n",
        "  elif len(tests) == 0:\n",
        "    ctopp.append('missing')\n",
        "  else:\n",
        "    new_tests = ''\n",
        "    for each in tests:\n",
        "      new_tests = new_tests + each[12:] + ', '\n",
        "    ctopp.append(new_tests)\n",
        "data['CTOPP'] = ctopp"
      ],
      "metadata": {
        "id": "w3_oj5bWOFpX",
        "outputId": "4a24e35a-21ea-4754-ec02-71187ef31dc9",
        "colab": {
          "base_uri": "https://localhost:8080/"
        }
      },
      "execution_count": 23,
      "outputs": [
        {
          "output_type": "stream",
          "name": "stdout",
          "text": [
            "Missing values for CTOPP-2 scores: 805 out of 4867\n"
          ]
        }
      ]
    },
    {
      "cell_type": "code",
      "source": [
        "# DailyMeds\n",
        "# we have people who have taken medication, drugs, or alcohol\n",
        "\n",
        "print('Drugs: ', data['DailyMeds,drugs'].unique()) # value '.' and 2 contains only nan values and '.'\n",
        "#data[data['DailyMeds,drugs'] == '1'][['DailyMeds,drugs_01', 'DailyMeds,drugs_02']] # to check the drugs\n",
        "\n",
        "print('Alcohol: ', data['DailyMeds,alcohol'].unique()) # value '.' and 2 contains only nan values and '.'\n",
        "#data[data['DailyMeds,alcohol'] == '1'][['DailyMeds,alc_01', 'DailyMeds,alc_02']] # to check alcohol (only one person)\n",
        "\n",
        "print('Meds: ', data['DailyMeds,medications'].unique()) # DO NOT TRUST THE SCORES, only look at the names and doses\n",
        "\n",
        "data['DailyMeds,med_name_01'] = data['DailyMeds,med_name_01'].fillna('.') # have ' ', nan, and '.' values\n",
        "data['DailyMeds,med_name_02'] = data['DailyMeds,med_name_02'].fillna('.') # have '.' and nan values\n",
        "data['DailyMeds,med_name_03'] = data['DailyMeds,med_name_03'].fillna('.') # have '.' and nan values\n",
        "\n",
        "meds1 = data['DailyMeds,med_name_01'].values.tolist() # have ' ' and '.' values\n",
        "meds2 = data['DailyMeds,med_name_02'].values.tolist() # have '.' values\n",
        "meds3 = data['DailyMeds,med_name_03'].values.tolist() # have '.' values\n",
        "medications = []\n",
        "for i in range(0, data.shape[0]):\n",
        "  status = 0\n",
        "  if meds1[i] != '.':\n",
        "    if meds1[i] != ' ':\n",
        "      status += 1\n",
        "    elif meds1[i] == ' ':\n",
        "      status = 0\n",
        "  elif meds1[i] == '.':\n",
        "    if meds2[i] != '.':\n",
        "      status += 1\n",
        "    elif meds2[i] == '.':\n",
        "      if meds3[i] != '.':\n",
        "        status += 1\n",
        "  if status != 0:\n",
        "    medications.append(1)\n",
        "  else:\n",
        "    medications.append(0)\n",
        "\n",
        "data['DailyMeds,medications'] = medications # created a new coding depending on whether there are any entries in drug names"
      ],
      "metadata": {
        "id": "afrTD-ALXm0h",
        "outputId": "b2dc9172-aeb5-4045-dd50-fec690fa0ac6",
        "colab": {
          "base_uri": "https://localhost:8080/"
        }
      },
      "execution_count": 24,
      "outputs": [
        {
          "output_type": "stream",
          "name": "stdout",
          "text": [
            "Drugs:  ['2' '.' '0' '1']\n",
            "Alcohol:  ['2' '.' '0' '1']\n",
            "Meds:  ['1' '.' '0']\n"
          ]
        }
      ]
    },
    {
      "cell_type": "code",
      "source": [
        "# Diagnosis_ClinicianConsensus\n",
        "data['Diagnosis_ClinicianConsensus,NoDX'] = data['Diagnosis_ClinicianConsensus,NoDX'].fillna('.')\n",
        "data['Diagnosis_ClinicianConsensus,DX_01'] = data['Diagnosis_ClinicianConsensus,DX_01'].fillna('.') # have ' ' and '.'\n",
        "data['Diagnosis_ClinicianConsensus,DX_02'] = data['Diagnosis_ClinicianConsensus,DX_02'].fillna('.') # have nan, '.', and ' '\n",
        "data['Diagnosis_ClinicianConsensus,DX_03'] = data['Diagnosis_ClinicianConsensus,DX_03'].fillna('.') # have nan, '.', and ' '\n",
        "data['Diagnosis_ClinicianConsensus,DX_04'] = data['Diagnosis_ClinicianConsensus,DX_04'].fillna('.') # have nan, '.', and ' '\n",
        "data['Diagnosis_ClinicianConsensus,DX_05'] = data['Diagnosis_ClinicianConsensus,DX_05'].fillna('.') # have nan, and '.'\n",
        "data['Diagnosis_ClinicianConsensus,DX_06'] = data['Diagnosis_ClinicianConsensus,DX_06'].fillna('.') # have nan, and '.'\n",
        "data['Diagnosis_ClinicianConsensus,DX_07'] = data['Diagnosis_ClinicianConsensus,DX_07'].fillna('.') # have nan, and '.'\n",
        "data['Diagnosis_ClinicianConsensus,DX_08'] = data['Diagnosis_ClinicianConsensus,DX_08'].fillna('.') # have nan, and '.'\n",
        "data['Diagnosis_ClinicianConsensus,DX_09'] = data['Diagnosis_ClinicianConsensus,DX_09'].fillna('.') # have nan, and '.'\n",
        "data['Diagnosis_ClinicianConsensus,DX_10'] = data['Diagnosis_ClinicianConsensus,DX_10'].fillna('.') # have nan, and '.'\n",
        "\n",
        "# DX_01: have 5 ' ' entries - 2 of those contain diagnosis in other fields, 101 '.' entries, 373 No Diagnosis Given, 526 No Diagnosis Given: Incomplete Eval\n",
        "# All the people who dropped out of the study, do have a status 'No Diagnosis Given: Incomplete Eval' - 526 people\n",
        "print('The values for whether the diagnosis is given or not:', data['Diagnosis_ClinicianConsensus,NoDX'].unique()) # 1 No Diagnosis Given (Control), 2 Yes, 3 Dropped out of the study, '.' remaining a mystery\n",
        "data[data['Diagnosis_ClinicianConsensus,NoDX'] == '3'].groupby(['Diagnosis_ClinicianConsensus,DX_01'])['Identifiers'].count() # we will exclude them in the exclusion section"
      ],
      "metadata": {
        "id": "9sdk9Fi1J0be",
        "outputId": "cdc6ae42-e4a2-4c73-b33e-f13e13cf0518",
        "colab": {
          "base_uri": "https://localhost:8080/",
          "height": 164
        }
      },
      "execution_count": 42,
      "outputs": [
        {
          "output_type": "stream",
          "name": "stdout",
          "text": [
            "The values for whether the diagnosis is given or not: ['1' '2' '.' '3']\n"
          ]
        },
        {
          "output_type": "execute_result",
          "data": {
            "text/plain": [
              "Diagnosis_ClinicianConsensus,DX_01\n",
              "No Diagnosis Given: Incomplete Eval    526\n",
              "Name: Identifiers, dtype: int64"
            ],
            "text/html": [
              "<div>\n",
              "<style scoped>\n",
              "    .dataframe tbody tr th:only-of-type {\n",
              "        vertical-align: middle;\n",
              "    }\n",
              "\n",
              "    .dataframe tbody tr th {\n",
              "        vertical-align: top;\n",
              "    }\n",
              "\n",
              "    .dataframe thead th {\n",
              "        text-align: right;\n",
              "    }\n",
              "</style>\n",
              "<table border=\"1\" class=\"dataframe\">\n",
              "  <thead>\n",
              "    <tr style=\"text-align: right;\">\n",
              "      <th></th>\n",
              "      <th>Identifiers</th>\n",
              "    </tr>\n",
              "    <tr>\n",
              "      <th>Diagnosis_ClinicianConsensus,DX_01</th>\n",
              "      <th></th>\n",
              "    </tr>\n",
              "  </thead>\n",
              "  <tbody>\n",
              "    <tr>\n",
              "      <th>No Diagnosis Given: Incomplete Eval</th>\n",
              "      <td>526</td>\n",
              "    </tr>\n",
              "  </tbody>\n",
              "</table>\n",
              "</div><br><label><b>dtype:</b> int64</label>"
            ]
          },
          "metadata": {},
          "execution_count": 42
        }
      ]
    },
    {
      "cell_type": "markdown",
      "source": [
        "We need to identify who is control and who is dyslexic and who has nothing to do with these categories. Control participants have the status of 'No Diagnosis Given' in the DX_01 and in the NoDX (the indicator 1). We need to push together the diagnoses from all of the 10 columns, consider the degree of certainty for these diagnosis and whether it is a confirmed status or not, and then create the column with values stating what group a particular participant is attributed to. As a result, I would like to have a status column saying that it is a drop out, control, just dyslexic, dyslexic with comorbidities or orther disorder. And then I would like to have a separate column that would include all the list of diagnoses for people who are not drop outs and controls."
      ],
      "metadata": {
        "id": "OgcugYzyaf5G"
      }
    },
    {
      "cell_type": "code",
      "source": [
        "data['Diagnosis_ClinicianConsensus,DX_01'].unique()"
      ],
      "metadata": {
        "id": "WRj2dNVOuNIJ",
        "outputId": "5e4732f1-0f09-4e11-a594-efa82985c4e8",
        "colab": {
          "base_uri": "https://localhost:8080/"
        }
      },
      "execution_count": 51,
      "outputs": [
        {
          "output_type": "execute_result",
          "data": {
            "text/plain": [
              "array(['No Diagnosis Given', 'ADHD-Combined Type',\n",
              "       'Generalized Anxiety Disorder', 'ADHD-Inattentive Type',\n",
              "       'Specific Learning Disorder with Impairment in Reading',\n",
              "       'Other Specified Depressive Disorder',\n",
              "       'Other Specified Attention-Deficit/Hyperactivity Disorder',\n",
              "       'Disruptive Mood Dysregulation Disorder',\n",
              "       'Oppositional Defiant Disorder', 'Major Depressive Disorder',\n",
              "       'Tourettes Disorder', 'Other Specified Anxiety Disorder',\n",
              "       'Speech Sound Disorder', 'Autism Spectrum Disorder', '.',\n",
              "       'No Diagnosis Given: Incomplete Eval', 'Language Disorder',\n",
              "       'Social Anxiety (Social Phobia)',\n",
              "       'Specific Learning Disorder with Impairment in Mathematics',\n",
              "       'Separation Anxiety', 'Social (Pragmatic) Communication Disorder',\n",
              "       'Provisional Tic Disorder', 'Specific Phobia',\n",
              "       'Borderline Intellectual Functioning',\n",
              "       'ADHD-Hyperactive/Impulsive Type',\n",
              "       'Gender Dysphoria in Adolescents and Adults',\n",
              "       'Intellectual Disability-Moderate', 'Cannabis Use Disorder',\n",
              "       'Persistent Depressive Disorder (Dysthymia)',\n",
              "       'Intellectual Disability-Mild', 'Adjustment Disorders',\n",
              "       'Bipolar I Disorder', 'Obsessive-Compulsive Disorder',\n",
              "       'Conduct Disorder-Childhood-onset type', 'Selective Mutism',\n",
              "       'Unspecified Attention-Deficit/Hyperactivity Disorder',\n",
              "       'Other Specified Disruptive, Impulse-Control, and Conduct Disorder',\n",
              "       'Other Specified Trauma- and Stressor-Related Disorder',\n",
              "       'Other Specified Tic Disorder', 'Posttraumatic Stress Disorder',\n",
              "       'Other Specified Obsessive-Compulsive and Related Disorder',\n",
              "       'Excoriation (Skin-Picking) Disorder',\n",
              "       'Substance/Medication-Induced Bipolar and Related Disorder',\n",
              "       'Specific Learning Disorder with Impairment in Written Expression',\n",
              "       'Enuresis', 'Major Neurocognitive Disorder Due to Epilepsy',\n",
              "       'Developmental Coordination Disorder', 'Encopresis',\n",
              "       'Other Specified Schizophrenia Spectrum and Other Psychotic Disorder',\n",
              "       'Bipolar II Disorder', 'Intermittent Explosive Disorder',\n",
              "       'Persistent (Chronic) Motor or Vocal Tic Disorder',\n",
              "       'Schizophrenia', 'Other Specified Neurodevelopmental Disorder',\n",
              "       'Unspecified Anxiety Disorder', 'Reactive Attachment Disorder',\n",
              "       'Other Specified Feeding or Eating Disorder', 'Bulimia Nervosa',\n",
              "       'Avoidant/Restrictive Food Intake Disorder',\n",
              "       'Acute Stress Disorder', ' ', 'Panic Disorder',\n",
              "       'Unspecified Neurodevelopmental Disorder', 'Agoraphobia',\n",
              "       'Intellectual Disability-Severe',\n",
              "       'Depressive Disorder Due to Another Medical Condition',\n",
              "       'Delirium due to another medical condition',\n",
              "       'Gender Dysphoria in Children',\n",
              "       'Delirium due to multiple etiologies',\n",
              "       'Specific Learning Disorder with Impairment in Reading ',\n",
              "       'Parent-Child Relational Problem', 'Cyclothymic Disorder',\n",
              "       'Alcohol Use Disorder'], dtype=object)"
            ]
          },
          "metadata": {},
          "execution_count": 51
        }
      ]
    },
    {
      "cell_type": "code",
      "source": [
        " # Diagnosis_ClinicianConsensus\n",
        "def diagnosis(df):\n",
        "  df['Diagnosis_ClinicianConsensus,NoDX'] = df['Diagnosis_ClinicianConsensus,NoDX'].fillna('.')\n",
        "\n",
        "  status = [] # will contain information on whether it is control, dropout, DD with/without comorbidities, other\n",
        "  all_diagnoses = [] # will contain all the diagnoses\n",
        "\n",
        "  for i in range(0, df.shape[0]): # going through all the data\n",
        "    subset = df.iloc[i] # a particular raw will all the values\n",
        "    noDX = subset['Diagnosis_ClinicianConsensus,NoDX'] # 3 - drop out; 1 - control; 2, ' ', '.' - some diagnosis\n",
        "    if noDX == '3': # drop out\n",
        "      status.append('Dropout')\n",
        "      all_diagnoses.append('N/A')\n",
        "    elif noDX == '1': # No Diagnosis Given\n",
        "      status.append('Control')\n",
        "      all_diagnoses.append('N/A')\n",
        "    else: # when noDX = 2, '.', or ' ' it has a diagnosis\n",
        "      # here we are going to consider all the columns that contain the name of diagnosis\n",
        "      for number in range(0, 11): # we are going one by one through all the diagnosis columns\n",
        "        inter_diag = []\n",
        "        if number != 10: #ADD IF == 10 LATER\n",
        "          name_diag = 'Diagnosis_ClinicianConsensus,DX_0' + str(number)\n",
        "          name_conf = 'Diagnosis_ClinicianConsensus,DX_0' + str(number) + '_Confirmed'\n",
        "          all_names = []\n",
        "          for each in all_names:\n",
        "            subset[each] = subset[each].fillna('.') # getting rid of na values in all the necessary columns\n",
        "\n",
        "          diagnosis = subset[name_diag]\n",
        "          if 'No Diagnosis' in diagnosis: # when something is off and no diagnosis detected outside of the noDX values 1 and 3\n",
        "            print('ERROR: No Diagnosis detected')\n",
        "            print('The raw: ', i, ' ', name_diag, diagnosis)\n",
        "            break\n",
        "          # now we should cover all the cases with the type of diagnosis\n",
        "          elif diagnosis == '.':\n",
        "\n",
        "          elif diagnosis == ' ':\n",
        "\n",
        "          else:\n",
        "            # dont forget to check wheteher they have dyslexia\n",
        "\n",
        "\n",
        "\n",
        "          diagnosis = df[name_diag].values # will take the values from a particular diagnosis column\n",
        "          confirmed = .... # will take the degree of certainty for this diagnosis\n",
        "\n",
        "\n",
        "\n",
        "\n",
        "\n",
        "\n",
        "        diagnosis[i] # a particualr i\n",
        "\n",
        "\n",
        "\n",
        "\n",
        "\n",
        "\n",
        "\n",
        "\n",
        "\n",
        "\n",
        "\n",
        "\n",
        "\n",
        "\n",
        "\n",
        "\n",
        "\n",
        "\n",
        "    else:\n",
        "      name_diag = 'Diagnosis_ClinicianConsensus,DX_10'\n",
        "      name_conf\n",
        "\n",
        "\n",
        "  for i in range(0, df.shape[0]):\n",
        "    # if it's '.', ' ' value or incomplete eval\n",
        "    if diagnosis[i] == '.' or diagnosis[i] == ' ':\n",
        "      dyslexia.append('.')\n",
        "      new_diagnosis.append('.')\n",
        "    elif  'Incomplete' in diagnosis[i]:\n",
        "      dyslexia.append('Incomplete')\n",
        "      new_diagnosis.append('Incomplete')\n",
        "    # if it is no diagnisis given\n",
        "    elif diagnosis[i] == 'No Diagnosis Given':\n",
        "      dyslexia.append('Control')\n",
        "      new_diagnosis.append('Control')\n",
        "    # if it's SLD\n",
        "    elif 'Specific Learning Disorder with' in diagnosis[i]:\n",
        "      if confirmed[i] != '0':\n",
        "        dyslexia.append('dys')\n",
        "        new_diagnosis.append(diagnosis[i])\n",
        "      elif confirmed[i] == '0':\n",
        "        dyslexia.append(0)\n",
        "        new_diagnosis.append(0)\n",
        "    # if some other diagnosis\n",
        "    else:\n",
        "      if confirmed[i] != '0':\n",
        "        dyslexia.append(0)\n",
        "        new_diagnosis.append(diagnosis[i])\n",
        "      elif confirmed[i] == '0':\n",
        "        dyslexia.append(0)\n",
        "        new_diagnosis.append(0)\n",
        "\n",
        "  return dyslexia, new_diagnosis\n",
        "\n",
        "\n"
      ],
      "metadata": {
        "id": "QJcwHxq7aL9l"
      },
      "execution_count": null,
      "outputs": []
    },
    {
      "cell_type": "code",
      "source": [
        "# work on Diagnosis column\n",
        "# looks like a dot could be no diagnosis as it seems to be consistent across the columns\n",
        "# there are also nan values in confirmed column\n",
        "# throw away this 'No Diagnosis Given: Incomplete Eval'\n",
        "# give 0 to these 'No Diagnosis Given'\n",
        "def diagnosis(df, number):\n",
        "  name_diag = 'Diagnosis_ClinicianConsensus,DX_0' + str(number)\n",
        "  name_conf = 'Diagnosis_ClinicianConsensus,DX_0' + str(number) + '_Confirmed'\n",
        "  diagnosis = df[name_diag].values\n",
        "  confirmed = df[name_conf].values\n",
        "\n",
        "  dyslexia = []\n",
        "  new_diagnosis = []\n",
        "\n",
        "  for i in range(0, df.shape[0]):\n",
        "    # if it's '.', ' ' value or incomplete eval\n",
        "    if diagnosis[i] == '.' or diagnosis[i] == ' ':\n",
        "      dyslexia.append('.')\n",
        "      new_diagnosis.append('.')\n",
        "    elif  'Incomplete' in diagnosis[i]:\n",
        "      dyslexia.append('Incomplete')\n",
        "      new_diagnosis.append('Incomplete')\n",
        "    # if it is no diagnisis given\n",
        "    elif diagnosis[i] == 'No Diagnosis Given':\n",
        "      dyslexia.append('Control')\n",
        "      new_diagnosis.append('Control')\n",
        "    # if it's SLD\n",
        "    elif 'Specific Learning Disorder with' in diagnosis[i]:\n",
        "      if confirmed[i] != '0':\n",
        "        dyslexia.append('dys')\n",
        "        new_diagnosis.append(diagnosis[i])\n",
        "      elif confirmed[i] == '0':\n",
        "        dyslexia.append(0)\n",
        "        new_diagnosis.append(0)\n",
        "    # if some other diagnosis\n",
        "    else:\n",
        "      if confirmed[i] != '0':\n",
        "        dyslexia.append(0)\n",
        "        new_diagnosis.append(diagnosis[i])\n",
        "      elif confirmed[i] == '0':\n",
        "        dyslexia.append(0)\n",
        "        new_diagnosis.append(0)\n",
        "\n",
        "  return dyslexia, new_diagnosis\n",
        "# for all data\n",
        "all_diagnosis = {}\n",
        "all_dys = {}\n",
        "for i in range(1, 10):\n",
        "  dyslexia, new_diagnosis = diagnosis(data, i)\n",
        "  all_dys['diag_%s' % i] = dyslexia\n",
        "  all_diagnosis['diag_%s' % i] = new_diagnosis\n",
        "\n",
        "dys_status = []\n",
        "for i in range(0, data.shape[0]):\n",
        "  participant = []\n",
        "  for sublist in all_dys:\n",
        "    subset = all_dys[sublist][i]\n",
        "    participant.append(subset)\n",
        "\n",
        "  if 'Incomplete' in participant:\n",
        "    dys_status.append('Incomplete')\n",
        "  elif 'Control' in participant:\n",
        "    dys_status.append(0)\n",
        "  elif 'dys' in participant:\n",
        "    dys_status.append(1)\n",
        "  else:\n",
        "    dys_status.append(0)\n",
        "\n",
        "all_status = []\n",
        "for i in range(0, data.shape[0]):\n",
        "  participant = []\n",
        "  add = []\n",
        "  for sublist in all_diagnosis:\n",
        "    subset = all_diagnosis[sublist][i]\n",
        "    participant.append(subset)\n",
        "\n",
        "  if 'Incomplete' in participant:\n",
        "    all_status.append('Incomplete')\n",
        "  elif 'Control' in participant:\n",
        "    all_status.append(0)\n",
        "  else:\n",
        "    for each in participant:\n",
        "      if each != '.' and each != 0:\n",
        "        add.append(each)\n",
        "    if len(add) == 0:\n",
        "      if (i == '.' for i in participant):\n",
        "        all_status.append('.')\n",
        "      else:\n",
        "        print(participant)\n",
        "        print(add)\n",
        "        break\n",
        "    elif len(add) == 1:\n",
        "      all_status.append(add[0])\n",
        "    else:\n",
        "      all_status.append(add)\n",
        "\n",
        "data['DD'] = dys_status\n",
        "data['Diagnosis'] = all_status\n",
        "\n",
        "for i in range(1,10):\n",
        "  name_diag = 'Diagnosis_ClinicianConsensus,DX_0' + str(i)\n",
        "  name_conf = 'Diagnosis_ClinicianConsensus,DX_0' + str(i) + '_Confirmed'\n",
        "  name_code = 'Diagnosis_ClinicianConsensus,DX_0' + str(i) + '_Code'\n",
        "  data.drop([name_diag], axis=1, inplace=True)\n",
        "  data.drop([name_conf], axis=1, inplace=True)\n",
        "  data.drop([name_code], axis=1, inplace=True)\n",
        "data.drop(['Diagnosis_ClinicianConsensus,DX_10'], axis=1, inplace=True)\n",
        "data.drop(['Diagnosis_ClinicianConsensus,DX_10_Code'], axis=1, inplace=True)\n",
        "data.drop(['Diagnosis_ClinicianConsensus,DX_10_Confirmed'], axis=1, inplace=True)"
      ],
      "metadata": {
        "id": "bJNFKETQVhgX"
      },
      "execution_count": null,
      "outputs": []
    },
    {
      "cell_type": "code",
      "source": [
        "data[['Diagnosis_ClinicianConsensus,DX_01', 'Diagnosis_ClinicianConsensus,DX_01_ByHx',\n",
        "       'Diagnosis_ClinicianConsensus,DX_01_Cat',\n",
        "       'Diagnosis_ClinicianConsensus,DX_01_Code',\n",
        "       'Diagnosis_ClinicianConsensus,DX_01_Confirmed',\n",
        "       'Diagnosis_ClinicianConsensus,DX_01_New',\n",
        "       'Diagnosis_ClinicianConsensus,DX_01_PRem',\n",
        "       'Diagnosis_ClinicianConsensus,DX_01_Past_Doc',\n",
        "       'Diagnosis_ClinicianConsensus,DX_01_Presum',\n",
        "       'Diagnosis_ClinicianConsensus,DX_01_RC',\n",
        "       'Diagnosis_ClinicianConsensus,DX_01_Rem',\n",
        "       'Diagnosis_ClinicianConsensus,DX_01_RuleOut',\n",
        "       'Diagnosis_ClinicianConsensus,DX_01_Spec',\n",
        "       'Diagnosis_ClinicianConsensus,DX_01_Sub',\n",
        "       'Diagnosis_ClinicianConsensus,DX_01_Time']]"
      ],
      "metadata": {
        "id": "NFgzUY5bmCMj",
        "outputId": "460c7a71-3bdd-40f4-dfc0-7d613eabfe71",
        "colab": {
          "base_uri": "https://localhost:8080/",
          "height": 444
        }
      },
      "execution_count": 40,
      "outputs": [
        {
          "output_type": "execute_result",
          "data": {
            "text/plain": [
              "       Diagnosis_ClinicianConsensus,DX_01  \\\n",
              "1                      No Diagnosis Given   \n",
              "2                      ADHD-Combined Type   \n",
              "3                      ADHD-Combined Type   \n",
              "4            Generalized Anxiety Disorder   \n",
              "5                   ADHD-Inattentive Type   \n",
              "...                                   ...   \n",
              "4863  No Diagnosis Given: Incomplete Eval   \n",
              "4864                                    .   \n",
              "4865                                    .   \n",
              "4866  No Diagnosis Given: Incomplete Eval   \n",
              "4867  No Diagnosis Given: Incomplete Eval   \n",
              "\n",
              "     Diagnosis_ClinicianConsensus,DX_01_ByHx  \\\n",
              "1                                          0   \n",
              "2                                          0   \n",
              "3                                          0   \n",
              "4                                          0   \n",
              "5                                          0   \n",
              "...                                      ...   \n",
              "4863                                       0   \n",
              "4864                                       .   \n",
              "4865                                       .   \n",
              "4866                                     NaN   \n",
              "4867                                     NaN   \n",
              "\n",
              "     Diagnosis_ClinicianConsensus,DX_01_Cat  \\\n",
              "1                        No Diagnosis Given   \n",
              "2              Neurodevelopmental Disorders   \n",
              "3              Neurodevelopmental Disorders   \n",
              "4                         Anxiety Disorders   \n",
              "5              Neurodevelopmental Disorders   \n",
              "...                                     ...   \n",
              "4863    No Diagnosis Given: Incomplete Eval   \n",
              "4864                                      .   \n",
              "4865                                      .   \n",
              "4866    No Diagnosis Given: Incomplete Eval   \n",
              "4867    No Diagnosis Given: Incomplete Eval   \n",
              "\n",
              "     Diagnosis_ClinicianConsensus,DX_01_Code  \\\n",
              "1                         No Diagnosis Given   \n",
              "2                                      F90.2   \n",
              "3                                      F90.2   \n",
              "4                                        NaN   \n",
              "5                                      F90.0   \n",
              "...                                      ...   \n",
              "4863     No Diagnosis Given: Incomplete Eval   \n",
              "4864                                       .   \n",
              "4865                                       .   \n",
              "4866     No Diagnosis Given: Incomplete Eval   \n",
              "4867     No Diagnosis Given: Incomplete Eval   \n",
              "\n",
              "     Diagnosis_ClinicianConsensus,DX_01_Confirmed  \\\n",
              "1                                             NaN   \n",
              "2                                             NaN   \n",
              "3                                             NaN   \n",
              "4                                               1   \n",
              "5                                               1   \n",
              "...                                           ...   \n",
              "4863                                            0   \n",
              "4864                                            .   \n",
              "4865                                            .   \n",
              "4866                                            0   \n",
              "4867                                            0   \n",
              "\n",
              "     Diagnosis_ClinicianConsensus,DX_01_New  \\\n",
              "1                                         0   \n",
              "2                                         0   \n",
              "3                                         1   \n",
              "4                                       NaN   \n",
              "5                                       NaN   \n",
              "...                                     ...   \n",
              "4863                                    NaN   \n",
              "4864                                      .   \n",
              "4865                                      .   \n",
              "4866                                    NaN   \n",
              "4867                                    NaN   \n",
              "\n",
              "     Diagnosis_ClinicianConsensus,DX_01_PRem  \\\n",
              "1                                          0   \n",
              "2                                          0   \n",
              "3                                          0   \n",
              "4                                        NaN   \n",
              "5                                        NaN   \n",
              "...                                      ...   \n",
              "4863                                     NaN   \n",
              "4864                                       .   \n",
              "4865                                       .   \n",
              "4866                                     NaN   \n",
              "4867                                     NaN   \n",
              "\n",
              "     Diagnosis_ClinicianConsensus,DX_01_Past_Doc  \\\n",
              "1                                            NaN   \n",
              "2                                            NaN   \n",
              "3                                            NaN   \n",
              "4                                            NaN   \n",
              "5                                            NaN   \n",
              "...                                          ...   \n",
              "4863                                         NaN   \n",
              "4864                                           .   \n",
              "4865                                           .   \n",
              "4866                                         NaN   \n",
              "4867                                         NaN   \n",
              "\n",
              "     Diagnosis_ClinicianConsensus,DX_01_Presum  \\\n",
              "1                                          NaN   \n",
              "2                                          NaN   \n",
              "3                                          NaN   \n",
              "4                                            0   \n",
              "5                                            0   \n",
              "...                                        ...   \n",
              "4863                                         0   \n",
              "4864                                         .   \n",
              "4865                                         .   \n",
              "4866                                         0   \n",
              "4867                                         0   \n",
              "\n",
              "     Diagnosis_ClinicianConsensus,DX_01_RC  \\\n",
              "1                                        0   \n",
              "2                                        0   \n",
              "3                                        0   \n",
              "4                                        0   \n",
              "5                                        0   \n",
              "...                                    ...   \n",
              "4863                                     0   \n",
              "4864                                     .   \n",
              "4865                                     .   \n",
              "4866                                     0   \n",
              "4867                                     0   \n",
              "\n",
              "     Diagnosis_ClinicianConsensus,DX_01_Rem  \\\n",
              "1                                         0   \n",
              "2                                         0   \n",
              "3                                         0   \n",
              "4                                       NaN   \n",
              "5                                       NaN   \n",
              "...                                     ...   \n",
              "4863                                    NaN   \n",
              "4864                                      .   \n",
              "4865                                      .   \n",
              "4866                                    NaN   \n",
              "4867                                    NaN   \n",
              "\n",
              "     Diagnosis_ClinicianConsensus,DX_01_RuleOut  \\\n",
              "1                                             0   \n",
              "2                                             0   \n",
              "3                                             0   \n",
              "4                                             0   \n",
              "5                                             0   \n",
              "...                                         ...   \n",
              "4863                                          0   \n",
              "4864                                          .   \n",
              "4865                                          .   \n",
              "4866                                          0   \n",
              "4867                                          0   \n",
              "\n",
              "     Diagnosis_ClinicianConsensus,DX_01_Spec  \\\n",
              "1                                        NaN   \n",
              "2                                        NaN   \n",
              "3                                        NaN   \n",
              "4                                        NaN   \n",
              "5                                        NaN   \n",
              "...                                      ...   \n",
              "4863                                     NaN   \n",
              "4864                                       .   \n",
              "4865                                       .   \n",
              "4866                                     NaN   \n",
              "4867                                     NaN   \n",
              "\n",
              "        Diagnosis_ClinicianConsensus,DX_01_Sub  \\\n",
              "1                                          NaN   \n",
              "2     Attention-Deficit/Hyperactivity Disorder   \n",
              "3     Attention-Deficit/Hyperactivity Disorder   \n",
              "4                                          NaN   \n",
              "5     Attention-Deficit/Hyperactivity Disorder   \n",
              "...                                        ...   \n",
              "4863                                       NaN   \n",
              "4864                                         .   \n",
              "4865                                         .   \n",
              "4866                                       NaN   \n",
              "4867                                       NaN   \n",
              "\n",
              "     Diagnosis_ClinicianConsensus,DX_01_Time  \n",
              "1                                          1  \n",
              "2                                          1  \n",
              "3                                          1  \n",
              "4                                          1  \n",
              "5                                          1  \n",
              "...                                      ...  \n",
              "4863                                       1  \n",
              "4864                                       .  \n",
              "4865                                       .  \n",
              "4866                                       1  \n",
              "4867                                       1  \n",
              "\n",
              "[4867 rows x 15 columns]"
            ],
            "text/html": [
              "\n",
              "  <div id=\"df-b689f11f-8c94-4e96-b8ae-d7c48926ea96\" class=\"colab-df-container\">\n",
              "    <div>\n",
              "<style scoped>\n",
              "    .dataframe tbody tr th:only-of-type {\n",
              "        vertical-align: middle;\n",
              "    }\n",
              "\n",
              "    .dataframe tbody tr th {\n",
              "        vertical-align: top;\n",
              "    }\n",
              "\n",
              "    .dataframe thead th {\n",
              "        text-align: right;\n",
              "    }\n",
              "</style>\n",
              "<table border=\"1\" class=\"dataframe\">\n",
              "  <thead>\n",
              "    <tr style=\"text-align: right;\">\n",
              "      <th></th>\n",
              "      <th>Diagnosis_ClinicianConsensus,DX_01</th>\n",
              "      <th>Diagnosis_ClinicianConsensus,DX_01_ByHx</th>\n",
              "      <th>Diagnosis_ClinicianConsensus,DX_01_Cat</th>\n",
              "      <th>Diagnosis_ClinicianConsensus,DX_01_Code</th>\n",
              "      <th>Diagnosis_ClinicianConsensus,DX_01_Confirmed</th>\n",
              "      <th>Diagnosis_ClinicianConsensus,DX_01_New</th>\n",
              "      <th>Diagnosis_ClinicianConsensus,DX_01_PRem</th>\n",
              "      <th>Diagnosis_ClinicianConsensus,DX_01_Past_Doc</th>\n",
              "      <th>Diagnosis_ClinicianConsensus,DX_01_Presum</th>\n",
              "      <th>Diagnosis_ClinicianConsensus,DX_01_RC</th>\n",
              "      <th>Diagnosis_ClinicianConsensus,DX_01_Rem</th>\n",
              "      <th>Diagnosis_ClinicianConsensus,DX_01_RuleOut</th>\n",
              "      <th>Diagnosis_ClinicianConsensus,DX_01_Spec</th>\n",
              "      <th>Diagnosis_ClinicianConsensus,DX_01_Sub</th>\n",
              "      <th>Diagnosis_ClinicianConsensus,DX_01_Time</th>\n",
              "    </tr>\n",
              "  </thead>\n",
              "  <tbody>\n",
              "    <tr>\n",
              "      <th>1</th>\n",
              "      <td>No Diagnosis Given</td>\n",
              "      <td>0</td>\n",
              "      <td>No Diagnosis Given</td>\n",
              "      <td>No Diagnosis Given</td>\n",
              "      <td>NaN</td>\n",
              "      <td>0</td>\n",
              "      <td>0</td>\n",
              "      <td>NaN</td>\n",
              "      <td>NaN</td>\n",
              "      <td>0</td>\n",
              "      <td>0</td>\n",
              "      <td>0</td>\n",
              "      <td>NaN</td>\n",
              "      <td>NaN</td>\n",
              "      <td>1</td>\n",
              "    </tr>\n",
              "    <tr>\n",
              "      <th>2</th>\n",
              "      <td>ADHD-Combined Type</td>\n",
              "      <td>0</td>\n",
              "      <td>Neurodevelopmental Disorders</td>\n",
              "      <td>F90.2</td>\n",
              "      <td>NaN</td>\n",
              "      <td>0</td>\n",
              "      <td>0</td>\n",
              "      <td>NaN</td>\n",
              "      <td>NaN</td>\n",
              "      <td>0</td>\n",
              "      <td>0</td>\n",
              "      <td>0</td>\n",
              "      <td>NaN</td>\n",
              "      <td>Attention-Deficit/Hyperactivity Disorder</td>\n",
              "      <td>1</td>\n",
              "    </tr>\n",
              "    <tr>\n",
              "      <th>3</th>\n",
              "      <td>ADHD-Combined Type</td>\n",
              "      <td>0</td>\n",
              "      <td>Neurodevelopmental Disorders</td>\n",
              "      <td>F90.2</td>\n",
              "      <td>NaN</td>\n",
              "      <td>1</td>\n",
              "      <td>0</td>\n",
              "      <td>NaN</td>\n",
              "      <td>NaN</td>\n",
              "      <td>0</td>\n",
              "      <td>0</td>\n",
              "      <td>0</td>\n",
              "      <td>NaN</td>\n",
              "      <td>Attention-Deficit/Hyperactivity Disorder</td>\n",
              "      <td>1</td>\n",
              "    </tr>\n",
              "    <tr>\n",
              "      <th>4</th>\n",
              "      <td>Generalized Anxiety Disorder</td>\n",
              "      <td>0</td>\n",
              "      <td>Anxiety Disorders</td>\n",
              "      <td>NaN</td>\n",
              "      <td>1</td>\n",
              "      <td>NaN</td>\n",
              "      <td>NaN</td>\n",
              "      <td>NaN</td>\n",
              "      <td>0</td>\n",
              "      <td>0</td>\n",
              "      <td>NaN</td>\n",
              "      <td>0</td>\n",
              "      <td>NaN</td>\n",
              "      <td>NaN</td>\n",
              "      <td>1</td>\n",
              "    </tr>\n",
              "    <tr>\n",
              "      <th>5</th>\n",
              "      <td>ADHD-Inattentive Type</td>\n",
              "      <td>0</td>\n",
              "      <td>Neurodevelopmental Disorders</td>\n",
              "      <td>F90.0</td>\n",
              "      <td>1</td>\n",
              "      <td>NaN</td>\n",
              "      <td>NaN</td>\n",
              "      <td>NaN</td>\n",
              "      <td>0</td>\n",
              "      <td>0</td>\n",
              "      <td>NaN</td>\n",
              "      <td>0</td>\n",
              "      <td>NaN</td>\n",
              "      <td>Attention-Deficit/Hyperactivity Disorder</td>\n",
              "      <td>1</td>\n",
              "    </tr>\n",
              "    <tr>\n",
              "      <th>...</th>\n",
              "      <td>...</td>\n",
              "      <td>...</td>\n",
              "      <td>...</td>\n",
              "      <td>...</td>\n",
              "      <td>...</td>\n",
              "      <td>...</td>\n",
              "      <td>...</td>\n",
              "      <td>...</td>\n",
              "      <td>...</td>\n",
              "      <td>...</td>\n",
              "      <td>...</td>\n",
              "      <td>...</td>\n",
              "      <td>...</td>\n",
              "      <td>...</td>\n",
              "      <td>...</td>\n",
              "    </tr>\n",
              "    <tr>\n",
              "      <th>4863</th>\n",
              "      <td>No Diagnosis Given: Incomplete Eval</td>\n",
              "      <td>0</td>\n",
              "      <td>No Diagnosis Given: Incomplete Eval</td>\n",
              "      <td>No Diagnosis Given: Incomplete Eval</td>\n",
              "      <td>0</td>\n",
              "      <td>NaN</td>\n",
              "      <td>NaN</td>\n",
              "      <td>NaN</td>\n",
              "      <td>0</td>\n",
              "      <td>0</td>\n",
              "      <td>NaN</td>\n",
              "      <td>0</td>\n",
              "      <td>NaN</td>\n",
              "      <td>NaN</td>\n",
              "      <td>1</td>\n",
              "    </tr>\n",
              "    <tr>\n",
              "      <th>4864</th>\n",
              "      <td>.</td>\n",
              "      <td>.</td>\n",
              "      <td>.</td>\n",
              "      <td>.</td>\n",
              "      <td>.</td>\n",
              "      <td>.</td>\n",
              "      <td>.</td>\n",
              "      <td>.</td>\n",
              "      <td>.</td>\n",
              "      <td>.</td>\n",
              "      <td>.</td>\n",
              "      <td>.</td>\n",
              "      <td>.</td>\n",
              "      <td>.</td>\n",
              "      <td>.</td>\n",
              "    </tr>\n",
              "    <tr>\n",
              "      <th>4865</th>\n",
              "      <td>.</td>\n",
              "      <td>.</td>\n",
              "      <td>.</td>\n",
              "      <td>.</td>\n",
              "      <td>.</td>\n",
              "      <td>.</td>\n",
              "      <td>.</td>\n",
              "      <td>.</td>\n",
              "      <td>.</td>\n",
              "      <td>.</td>\n",
              "      <td>.</td>\n",
              "      <td>.</td>\n",
              "      <td>.</td>\n",
              "      <td>.</td>\n",
              "      <td>.</td>\n",
              "    </tr>\n",
              "    <tr>\n",
              "      <th>4866</th>\n",
              "      <td>No Diagnosis Given: Incomplete Eval</td>\n",
              "      <td>NaN</td>\n",
              "      <td>No Diagnosis Given: Incomplete Eval</td>\n",
              "      <td>No Diagnosis Given: Incomplete Eval</td>\n",
              "      <td>0</td>\n",
              "      <td>NaN</td>\n",
              "      <td>NaN</td>\n",
              "      <td>NaN</td>\n",
              "      <td>0</td>\n",
              "      <td>0</td>\n",
              "      <td>NaN</td>\n",
              "      <td>0</td>\n",
              "      <td>NaN</td>\n",
              "      <td>NaN</td>\n",
              "      <td>1</td>\n",
              "    </tr>\n",
              "    <tr>\n",
              "      <th>4867</th>\n",
              "      <td>No Diagnosis Given: Incomplete Eval</td>\n",
              "      <td>NaN</td>\n",
              "      <td>No Diagnosis Given: Incomplete Eval</td>\n",
              "      <td>No Diagnosis Given: Incomplete Eval</td>\n",
              "      <td>0</td>\n",
              "      <td>NaN</td>\n",
              "      <td>NaN</td>\n",
              "      <td>NaN</td>\n",
              "      <td>0</td>\n",
              "      <td>0</td>\n",
              "      <td>NaN</td>\n",
              "      <td>0</td>\n",
              "      <td>NaN</td>\n",
              "      <td>NaN</td>\n",
              "      <td>1</td>\n",
              "    </tr>\n",
              "  </tbody>\n",
              "</table>\n",
              "<p>4867 rows × 15 columns</p>\n",
              "</div>\n",
              "    <div class=\"colab-df-buttons\">\n",
              "\n",
              "  <div class=\"colab-df-container\">\n",
              "    <button class=\"colab-df-convert\" onclick=\"convertToInteractive('df-b689f11f-8c94-4e96-b8ae-d7c48926ea96')\"\n",
              "            title=\"Convert this dataframe to an interactive table.\"\n",
              "            style=\"display:none;\">\n",
              "\n",
              "  <svg xmlns=\"http://www.w3.org/2000/svg\" height=\"24px\" viewBox=\"0 -960 960 960\">\n",
              "    <path d=\"M120-120v-720h720v720H120Zm60-500h600v-160H180v160Zm220 220h160v-160H400v160Zm0 220h160v-160H400v160ZM180-400h160v-160H180v160Zm440 0h160v-160H620v160ZM180-180h160v-160H180v160Zm440 0h160v-160H620v160Z\"/>\n",
              "  </svg>\n",
              "    </button>\n",
              "\n",
              "  <style>\n",
              "    .colab-df-container {\n",
              "      display:flex;\n",
              "      gap: 12px;\n",
              "    }\n",
              "\n",
              "    .colab-df-convert {\n",
              "      background-color: #E8F0FE;\n",
              "      border: none;\n",
              "      border-radius: 50%;\n",
              "      cursor: pointer;\n",
              "      display: none;\n",
              "      fill: #1967D2;\n",
              "      height: 32px;\n",
              "      padding: 0 0 0 0;\n",
              "      width: 32px;\n",
              "    }\n",
              "\n",
              "    .colab-df-convert:hover {\n",
              "      background-color: #E2EBFA;\n",
              "      box-shadow: 0px 1px 2px rgba(60, 64, 67, 0.3), 0px 1px 3px 1px rgba(60, 64, 67, 0.15);\n",
              "      fill: #174EA6;\n",
              "    }\n",
              "\n",
              "    .colab-df-buttons div {\n",
              "      margin-bottom: 4px;\n",
              "    }\n",
              "\n",
              "    [theme=dark] .colab-df-convert {\n",
              "      background-color: #3B4455;\n",
              "      fill: #D2E3FC;\n",
              "    }\n",
              "\n",
              "    [theme=dark] .colab-df-convert:hover {\n",
              "      background-color: #434B5C;\n",
              "      box-shadow: 0px 1px 3px 1px rgba(0, 0, 0, 0.15);\n",
              "      filter: drop-shadow(0px 1px 2px rgba(0, 0, 0, 0.3));\n",
              "      fill: #FFFFFF;\n",
              "    }\n",
              "  </style>\n",
              "\n",
              "    <script>\n",
              "      const buttonEl =\n",
              "        document.querySelector('#df-b689f11f-8c94-4e96-b8ae-d7c48926ea96 button.colab-df-convert');\n",
              "      buttonEl.style.display =\n",
              "        google.colab.kernel.accessAllowed ? 'block' : 'none';\n",
              "\n",
              "      async function convertToInteractive(key) {\n",
              "        const element = document.querySelector('#df-b689f11f-8c94-4e96-b8ae-d7c48926ea96');\n",
              "        const dataTable =\n",
              "          await google.colab.kernel.invokeFunction('convertToInteractive',\n",
              "                                                    [key], {});\n",
              "        if (!dataTable) return;\n",
              "\n",
              "        const docLinkHtml = 'Like what you see? Visit the ' +\n",
              "          '<a target=\"_blank\" href=https://colab.research.google.com/notebooks/data_table.ipynb>data table notebook</a>'\n",
              "          + ' to learn more about interactive tables.';\n",
              "        element.innerHTML = '';\n",
              "        dataTable['output_type'] = 'display_data';\n",
              "        await google.colab.output.renderOutput(dataTable, element);\n",
              "        const docLink = document.createElement('div');\n",
              "        docLink.innerHTML = docLinkHtml;\n",
              "        element.appendChild(docLink);\n",
              "      }\n",
              "    </script>\n",
              "  </div>\n",
              "\n",
              "\n",
              "<div id=\"df-e8fc6ba3-6b93-467e-abb1-3e1886433e16\">\n",
              "  <button class=\"colab-df-quickchart\" onclick=\"quickchart('df-e8fc6ba3-6b93-467e-abb1-3e1886433e16')\"\n",
              "            title=\"Suggest charts\"\n",
              "            style=\"display:none;\">\n",
              "\n",
              "<svg xmlns=\"http://www.w3.org/2000/svg\" height=\"24px\"viewBox=\"0 0 24 24\"\n",
              "     width=\"24px\">\n",
              "    <g>\n",
              "        <path d=\"M19 3H5c-1.1 0-2 .9-2 2v14c0 1.1.9 2 2 2h14c1.1 0 2-.9 2-2V5c0-1.1-.9-2-2-2zM9 17H7v-7h2v7zm4 0h-2V7h2v10zm4 0h-2v-4h2v4z\"/>\n",
              "    </g>\n",
              "</svg>\n",
              "  </button>\n",
              "\n",
              "<style>\n",
              "  .colab-df-quickchart {\n",
              "      --bg-color: #E8F0FE;\n",
              "      --fill-color: #1967D2;\n",
              "      --hover-bg-color: #E2EBFA;\n",
              "      --hover-fill-color: #174EA6;\n",
              "      --disabled-fill-color: #AAA;\n",
              "      --disabled-bg-color: #DDD;\n",
              "  }\n",
              "\n",
              "  [theme=dark] .colab-df-quickchart {\n",
              "      --bg-color: #3B4455;\n",
              "      --fill-color: #D2E3FC;\n",
              "      --hover-bg-color: #434B5C;\n",
              "      --hover-fill-color: #FFFFFF;\n",
              "      --disabled-bg-color: #3B4455;\n",
              "      --disabled-fill-color: #666;\n",
              "  }\n",
              "\n",
              "  .colab-df-quickchart {\n",
              "    background-color: var(--bg-color);\n",
              "    border: none;\n",
              "    border-radius: 50%;\n",
              "    cursor: pointer;\n",
              "    display: none;\n",
              "    fill: var(--fill-color);\n",
              "    height: 32px;\n",
              "    padding: 0;\n",
              "    width: 32px;\n",
              "  }\n",
              "\n",
              "  .colab-df-quickchart:hover {\n",
              "    background-color: var(--hover-bg-color);\n",
              "    box-shadow: 0 1px 2px rgba(60, 64, 67, 0.3), 0 1px 3px 1px rgba(60, 64, 67, 0.15);\n",
              "    fill: var(--button-hover-fill-color);\n",
              "  }\n",
              "\n",
              "  .colab-df-quickchart-complete:disabled,\n",
              "  .colab-df-quickchart-complete:disabled:hover {\n",
              "    background-color: var(--disabled-bg-color);\n",
              "    fill: var(--disabled-fill-color);\n",
              "    box-shadow: none;\n",
              "  }\n",
              "\n",
              "  .colab-df-spinner {\n",
              "    border: 2px solid var(--fill-color);\n",
              "    border-color: transparent;\n",
              "    border-bottom-color: var(--fill-color);\n",
              "    animation:\n",
              "      spin 1s steps(1) infinite;\n",
              "  }\n",
              "\n",
              "  @keyframes spin {\n",
              "    0% {\n",
              "      border-color: transparent;\n",
              "      border-bottom-color: var(--fill-color);\n",
              "      border-left-color: var(--fill-color);\n",
              "    }\n",
              "    20% {\n",
              "      border-color: transparent;\n",
              "      border-left-color: var(--fill-color);\n",
              "      border-top-color: var(--fill-color);\n",
              "    }\n",
              "    30% {\n",
              "      border-color: transparent;\n",
              "      border-left-color: var(--fill-color);\n",
              "      border-top-color: var(--fill-color);\n",
              "      border-right-color: var(--fill-color);\n",
              "    }\n",
              "    40% {\n",
              "      border-color: transparent;\n",
              "      border-right-color: var(--fill-color);\n",
              "      border-top-color: var(--fill-color);\n",
              "    }\n",
              "    60% {\n",
              "      border-color: transparent;\n",
              "      border-right-color: var(--fill-color);\n",
              "    }\n",
              "    80% {\n",
              "      border-color: transparent;\n",
              "      border-right-color: var(--fill-color);\n",
              "      border-bottom-color: var(--fill-color);\n",
              "    }\n",
              "    90% {\n",
              "      border-color: transparent;\n",
              "      border-bottom-color: var(--fill-color);\n",
              "    }\n",
              "  }\n",
              "</style>\n",
              "\n",
              "  <script>\n",
              "    async function quickchart(key) {\n",
              "      const quickchartButtonEl =\n",
              "        document.querySelector('#' + key + ' button');\n",
              "      quickchartButtonEl.disabled = true;  // To prevent multiple clicks.\n",
              "      quickchartButtonEl.classList.add('colab-df-spinner');\n",
              "      try {\n",
              "        const charts = await google.colab.kernel.invokeFunction(\n",
              "            'suggestCharts', [key], {});\n",
              "      } catch (error) {\n",
              "        console.error('Error during call to suggestCharts:', error);\n",
              "      }\n",
              "      quickchartButtonEl.classList.remove('colab-df-spinner');\n",
              "      quickchartButtonEl.classList.add('colab-df-quickchart-complete');\n",
              "    }\n",
              "    (() => {\n",
              "      let quickchartButtonEl =\n",
              "        document.querySelector('#df-e8fc6ba3-6b93-467e-abb1-3e1886433e16 button');\n",
              "      quickchartButtonEl.style.display =\n",
              "        google.colab.kernel.accessAllowed ? 'block' : 'none';\n",
              "    })();\n",
              "  </script>\n",
              "</div>\n",
              "\n",
              "    </div>\n",
              "  </div>\n"
            ],
            "application/vnd.google.colaboratory.intrinsic+json": {
              "type": "dataframe",
              "summary": "{\n  \"name\": \"       'Diagnosis_ClinicianConsensus,DX_01_Time']]\",\n  \"rows\": 4867,\n  \"fields\": [\n    {\n      \"column\": \"Diagnosis_ClinicianConsensus,DX_01\",\n      \"properties\": {\n        \"dtype\": \"category\",\n        \"num_unique_values\": 73,\n        \"samples\": [\n          \"Specific Learning Disorder with Impairment in Reading\",\n          \"Agoraphobia\",\n          \"Specific Learning Disorder with Impairment in Mathematics\"\n        ],\n        \"semantic_type\": \"\",\n        \"description\": \"\"\n      }\n    },\n    {\n      \"column\": \"Diagnosis_ClinicianConsensus,DX_01_ByHx\",\n      \"properties\": {\n        \"dtype\": \"category\",\n        \"num_unique_values\": 3,\n        \"samples\": [\n          \"0\",\n          \"1\",\n          \".\"\n        ],\n        \"semantic_type\": \"\",\n        \"description\": \"\"\n      }\n    },\n    {\n      \"column\": \"Diagnosis_ClinicianConsensus,DX_01_Cat\",\n      \"properties\": {\n        \"dtype\": \"category\",\n        \"num_unique_values\": 17,\n        \"samples\": [\n          \"No Diagnosis Given\",\n          \"Neurodevelopmental Disorders\",\n          \".\"\n        ],\n        \"semantic_type\": \"\",\n        \"description\": \"\"\n      }\n    },\n    {\n      \"column\": \"Diagnosis_ClinicianConsensus,DX_01_Code\",\n      \"properties\": {\n        \"dtype\": \"category\",\n        \"num_unique_values\": 90,\n        \"samples\": [\n          \"F32.5\",\n          \"F95.0\",\n          \"F82\"\n        ],\n        \"semantic_type\": \"\",\n        \"description\": \"\"\n      }\n    },\n    {\n      \"column\": \"Diagnosis_ClinicianConsensus,DX_01_Confirmed\",\n      \"properties\": {\n        \"dtype\": \"category\",\n        \"num_unique_values\": 3,\n        \"samples\": [\n          \"1\",\n          \"0\",\n          \".\"\n        ],\n        \"semantic_type\": \"\",\n        \"description\": \"\"\n      }\n    },\n    {\n      \"column\": \"Diagnosis_ClinicianConsensus,DX_01_New\",\n      \"properties\": {\n        \"dtype\": \"category\",\n        \"num_unique_values\": 3,\n        \"samples\": [\n          \"0\",\n          \"1\",\n          \".\"\n        ],\n        \"semantic_type\": \"\",\n        \"description\": \"\"\n      }\n    },\n    {\n      \"column\": \"Diagnosis_ClinicianConsensus,DX_01_PRem\",\n      \"properties\": {\n        \"dtype\": \"category\",\n        \"num_unique_values\": 3,\n        \"samples\": [\n          \"0\",\n          \".\",\n          \"1\"\n        ],\n        \"semantic_type\": \"\",\n        \"description\": \"\"\n      }\n    },\n    {\n      \"column\": \"Diagnosis_ClinicianConsensus,DX_01_Past_Doc\",\n      \"properties\": {\n        \"dtype\": \"category\",\n        \"num_unique_values\": 4,\n        \"samples\": [\n          \".\",\n          \"1\",\n          \"3\"\n        ],\n        \"semantic_type\": \"\",\n        \"description\": \"\"\n      }\n    },\n    {\n      \"column\": \"Diagnosis_ClinicianConsensus,DX_01_Presum\",\n      \"properties\": {\n        \"dtype\": \"category\",\n        \"num_unique_values\": 3,\n        \"samples\": [\n          \"0\",\n          \".\",\n          \"1\"\n        ],\n        \"semantic_type\": \"\",\n        \"description\": \"\"\n      }\n    },\n    {\n      \"column\": \"Diagnosis_ClinicianConsensus,DX_01_RC\",\n      \"properties\": {\n        \"dtype\": \"category\",\n        \"num_unique_values\": 3,\n        \"samples\": [\n          \"0\",\n          \".\",\n          \"1\"\n        ],\n        \"semantic_type\": \"\",\n        \"description\": \"\"\n      }\n    },\n    {\n      \"column\": \"Diagnosis_ClinicianConsensus,DX_01_Rem\",\n      \"properties\": {\n        \"dtype\": \"category\",\n        \"num_unique_values\": 3,\n        \"samples\": [\n          \"0\",\n          \".\",\n          \"1\"\n        ],\n        \"semantic_type\": \"\",\n        \"description\": \"\"\n      }\n    },\n    {\n      \"column\": \"Diagnosis_ClinicianConsensus,DX_01_RuleOut\",\n      \"properties\": {\n        \"dtype\": \"category\",\n        \"num_unique_values\": 3,\n        \"samples\": [\n          \"0\",\n          \".\",\n          \"1\"\n        ],\n        \"semantic_type\": \"\",\n        \"description\": \"\"\n      }\n    },\n    {\n      \"column\": \"Diagnosis_ClinicianConsensus,DX_01_Spec\",\n      \"properties\": {\n        \"dtype\": \"category\",\n        \"num_unique_values\": 199,\n        \"samples\": [\n          \"with accompanying language impairment\",\n          \"Severe\",\n          \"level 2 with language impairment\"\n        ],\n        \"semantic_type\": \"\",\n        \"description\": \"\"\n      }\n    },\n    {\n      \"column\": \"Diagnosis_ClinicianConsensus,DX_01_Sub\",\n      \"properties\": {\n        \"dtype\": \"category\",\n        \"num_unique_values\": 12,\n        \"samples\": [\n          \"Past\",\n          \"Other Neurodevelopmental Disorders\",\n          \"Attention-Deficit/Hyperactivity Disorder\"\n        ],\n        \"semantic_type\": \"\",\n        \"description\": \"\"\n      }\n    },\n    {\n      \"column\": \"Diagnosis_ClinicianConsensus,DX_01_Time\",\n      \"properties\": {\n        \"dtype\": \"category\",\n        \"num_unique_values\": 3,\n        \"samples\": [\n          \"1\",\n          \".\",\n          \"2\"\n        ],\n        \"semantic_type\": \"\",\n        \"description\": \"\"\n      }\n    }\n  ]\n}"
            }
          },
          "metadata": {},
          "execution_count": 40
        }
      ]
    },
    {
      "cell_type": "code",
      "source": [
        "data['Diagnosis_ClinicianConsensus,NoDX'].unique() # 1 No, 2 Yes, 3 Dropped out of the study"
      ],
      "metadata": {
        "id": "J0wa8KK0jU8z",
        "outputId": "607068a7-c725-44f6-d582-f19c66702c87",
        "colab": {
          "base_uri": "https://localhost:8080/"
        }
      },
      "execution_count": 30,
      "outputs": [
        {
          "output_type": "execute_result",
          "data": {
            "text/plain": [
              "array(['1', '2', '.', '3'], dtype=object)"
            ]
          },
          "metadata": {},
          "execution_count": 30
        }
      ]
    },
    {
      "cell_type": "code",
      "source": [
        "data[data['Diagnosis_ClinicianConsensus,NoDX'] == '.'].groupby([\n",
        "    'Diagnosis_ClinicianConsensus,DX_01'])['Identifiers'].count()"
      ],
      "metadata": {
        "id": "iWCNEHcXUEHP",
        "outputId": "601704e7-15ea-45a8-c7b4-d9b8ba68c94e",
        "colab": {
          "base_uri": "https://localhost:8080/",
          "height": 178
        }
      },
      "execution_count": 36,
      "outputs": [
        {
          "output_type": "execute_result",
          "data": {
            "text/plain": [
              "Diagnosis_ClinicianConsensus,DX_01\n",
              "       2\n",
              ".    101\n",
              "Name: Identifiers, dtype: int64"
            ],
            "text/html": [
              "<div>\n",
              "<style scoped>\n",
              "    .dataframe tbody tr th:only-of-type {\n",
              "        vertical-align: middle;\n",
              "    }\n",
              "\n",
              "    .dataframe tbody tr th {\n",
              "        vertical-align: top;\n",
              "    }\n",
              "\n",
              "    .dataframe thead th {\n",
              "        text-align: right;\n",
              "    }\n",
              "</style>\n",
              "<table border=\"1\" class=\"dataframe\">\n",
              "  <thead>\n",
              "    <tr style=\"text-align: right;\">\n",
              "      <th></th>\n",
              "      <th>Identifiers</th>\n",
              "    </tr>\n",
              "    <tr>\n",
              "      <th>Diagnosis_ClinicianConsensus,DX_01</th>\n",
              "      <th></th>\n",
              "    </tr>\n",
              "  </thead>\n",
              "  <tbody>\n",
              "    <tr>\n",
              "      <th></th>\n",
              "      <td>2</td>\n",
              "    </tr>\n",
              "    <tr>\n",
              "      <th>.</th>\n",
              "      <td>101</td>\n",
              "    </tr>\n",
              "  </tbody>\n",
              "</table>\n",
              "</div><br><label><b>dtype:</b> int64</label>"
            ]
          },
          "metadata": {},
          "execution_count": 36
        }
      ]
    },
    {
      "cell_type": "code",
      "source": [
        "data[data['Diagnosis_ClinicianConsensus,DX_01'] == ' '][[\n",
        "    'Diagnosis_ClinicianConsensus,DX_01', 'Diagnosis_ClinicianConsensus,DX_02',\n",
        "    'Diagnosis_ClinicianConsensus,DX_03', 'Diagnosis_ClinicianConsensus,DX_04',\n",
        "    'Diagnosis_ClinicianConsensus,DX_05', 'Diagnosis_ClinicianConsensus,DX_06',\n",
        "    'Diagnosis_ClinicianConsensus,DX_07', 'Diagnosis_ClinicianConsensus,DX_08',\n",
        "    'Diagnosis_ClinicianConsensus,DX_09', 'Diagnosis_ClinicianConsensus,DX_10'\n",
        "]]"
      ],
      "metadata": {
        "id": "RwgogwUoku7z",
        "outputId": "8c02f42a-f3b9-44a0-a476-10e89226df30",
        "colab": {
          "base_uri": "https://localhost:8080/",
          "height": 244
        }
      },
      "execution_count": 37,
      "outputs": [
        {
          "output_type": "execute_result",
          "data": {
            "text/plain": [
              "     Diagnosis_ClinicianConsensus,DX_01 Diagnosis_ClinicianConsensus,DX_02  \\\n",
              "1758                                                                     .   \n",
              "1860                                                    ADHD-Combined Type   \n",
              "2453                                                                     .   \n",
              "4096                                                                     .   \n",
              "4465                                                                     .   \n",
              "\n",
              "     Diagnosis_ClinicianConsensus,DX_03 Diagnosis_ClinicianConsensus,DX_04  \\\n",
              "1758                                  .                                  .   \n",
              "1860      Oppositional Defiant Disorder                    Specific Phobia   \n",
              "2453                                  .                                  .   \n",
              "4096                                  .                                  .   \n",
              "4465                                  .                                  .   \n",
              "\n",
              "                     Diagnosis_ClinicianConsensus,DX_05  \\\n",
              "1758                                                  .   \n",
              "1860  Specific Learning Disorder with Impairment in ...   \n",
              "2453                                                  .   \n",
              "4096                                                  .   \n",
              "4465                                                  .   \n",
              "\n",
              "                     Diagnosis_ClinicianConsensus,DX_06  \\\n",
              "1758                                                  .   \n",
              "1860  Specific Learning Disorder with Impairment in ...   \n",
              "2453                                                  .   \n",
              "4096                                                  .   \n",
              "4465                                                  .   \n",
              "\n",
              "     Diagnosis_ClinicianConsensus,DX_07 Diagnosis_ClinicianConsensus,DX_08  \\\n",
              "1758                                  .                                  .   \n",
              "1860                                  .                                  .   \n",
              "2453                                  .                                  .   \n",
              "4096                                  .                                  .   \n",
              "4465                                  .                                  .   \n",
              "\n",
              "     Diagnosis_ClinicianConsensus,DX_09 Diagnosis_ClinicianConsensus,DX_10  \n",
              "1758                                  .                                  .  \n",
              "1860                                  .                                  .  \n",
              "2453                                  .                                  .  \n",
              "4096                                  .                                  .  \n",
              "4465                                  .                                  .  "
            ],
            "text/html": [
              "\n",
              "  <div id=\"df-5934ab34-cc14-4287-8858-c5193254a8bb\" class=\"colab-df-container\">\n",
              "    <div>\n",
              "<style scoped>\n",
              "    .dataframe tbody tr th:only-of-type {\n",
              "        vertical-align: middle;\n",
              "    }\n",
              "\n",
              "    .dataframe tbody tr th {\n",
              "        vertical-align: top;\n",
              "    }\n",
              "\n",
              "    .dataframe thead th {\n",
              "        text-align: right;\n",
              "    }\n",
              "</style>\n",
              "<table border=\"1\" class=\"dataframe\">\n",
              "  <thead>\n",
              "    <tr style=\"text-align: right;\">\n",
              "      <th></th>\n",
              "      <th>Diagnosis_ClinicianConsensus,DX_01</th>\n",
              "      <th>Diagnosis_ClinicianConsensus,DX_02</th>\n",
              "      <th>Diagnosis_ClinicianConsensus,DX_03</th>\n",
              "      <th>Diagnosis_ClinicianConsensus,DX_04</th>\n",
              "      <th>Diagnosis_ClinicianConsensus,DX_05</th>\n",
              "      <th>Diagnosis_ClinicianConsensus,DX_06</th>\n",
              "      <th>Diagnosis_ClinicianConsensus,DX_07</th>\n",
              "      <th>Diagnosis_ClinicianConsensus,DX_08</th>\n",
              "      <th>Diagnosis_ClinicianConsensus,DX_09</th>\n",
              "      <th>Diagnosis_ClinicianConsensus,DX_10</th>\n",
              "    </tr>\n",
              "  </thead>\n",
              "  <tbody>\n",
              "    <tr>\n",
              "      <th>1758</th>\n",
              "      <td></td>\n",
              "      <td>.</td>\n",
              "      <td>.</td>\n",
              "      <td>.</td>\n",
              "      <td>.</td>\n",
              "      <td>.</td>\n",
              "      <td>.</td>\n",
              "      <td>.</td>\n",
              "      <td>.</td>\n",
              "      <td>.</td>\n",
              "    </tr>\n",
              "    <tr>\n",
              "      <th>1860</th>\n",
              "      <td></td>\n",
              "      <td>ADHD-Combined Type</td>\n",
              "      <td>Oppositional Defiant Disorder</td>\n",
              "      <td>Specific Phobia</td>\n",
              "      <td>Specific Learning Disorder with Impairment in ...</td>\n",
              "      <td>Specific Learning Disorder with Impairment in ...</td>\n",
              "      <td>.</td>\n",
              "      <td>.</td>\n",
              "      <td>.</td>\n",
              "      <td>.</td>\n",
              "    </tr>\n",
              "    <tr>\n",
              "      <th>2453</th>\n",
              "      <td></td>\n",
              "      <td>.</td>\n",
              "      <td>.</td>\n",
              "      <td>.</td>\n",
              "      <td>.</td>\n",
              "      <td>.</td>\n",
              "      <td>.</td>\n",
              "      <td>.</td>\n",
              "      <td>.</td>\n",
              "      <td>.</td>\n",
              "    </tr>\n",
              "    <tr>\n",
              "      <th>4096</th>\n",
              "      <td></td>\n",
              "      <td>.</td>\n",
              "      <td>.</td>\n",
              "      <td>.</td>\n",
              "      <td>.</td>\n",
              "      <td>.</td>\n",
              "      <td>.</td>\n",
              "      <td>.</td>\n",
              "      <td>.</td>\n",
              "      <td>.</td>\n",
              "    </tr>\n",
              "    <tr>\n",
              "      <th>4465</th>\n",
              "      <td></td>\n",
              "      <td>.</td>\n",
              "      <td>.</td>\n",
              "      <td>.</td>\n",
              "      <td>.</td>\n",
              "      <td>.</td>\n",
              "      <td>.</td>\n",
              "      <td>.</td>\n",
              "      <td>.</td>\n",
              "      <td>.</td>\n",
              "    </tr>\n",
              "  </tbody>\n",
              "</table>\n",
              "</div>\n",
              "    <div class=\"colab-df-buttons\">\n",
              "\n",
              "  <div class=\"colab-df-container\">\n",
              "    <button class=\"colab-df-convert\" onclick=\"convertToInteractive('df-5934ab34-cc14-4287-8858-c5193254a8bb')\"\n",
              "            title=\"Convert this dataframe to an interactive table.\"\n",
              "            style=\"display:none;\">\n",
              "\n",
              "  <svg xmlns=\"http://www.w3.org/2000/svg\" height=\"24px\" viewBox=\"0 -960 960 960\">\n",
              "    <path d=\"M120-120v-720h720v720H120Zm60-500h600v-160H180v160Zm220 220h160v-160H400v160Zm0 220h160v-160H400v160ZM180-400h160v-160H180v160Zm440 0h160v-160H620v160ZM180-180h160v-160H180v160Zm440 0h160v-160H620v160Z\"/>\n",
              "  </svg>\n",
              "    </button>\n",
              "\n",
              "  <style>\n",
              "    .colab-df-container {\n",
              "      display:flex;\n",
              "      gap: 12px;\n",
              "    }\n",
              "\n",
              "    .colab-df-convert {\n",
              "      background-color: #E8F0FE;\n",
              "      border: none;\n",
              "      border-radius: 50%;\n",
              "      cursor: pointer;\n",
              "      display: none;\n",
              "      fill: #1967D2;\n",
              "      height: 32px;\n",
              "      padding: 0 0 0 0;\n",
              "      width: 32px;\n",
              "    }\n",
              "\n",
              "    .colab-df-convert:hover {\n",
              "      background-color: #E2EBFA;\n",
              "      box-shadow: 0px 1px 2px rgba(60, 64, 67, 0.3), 0px 1px 3px 1px rgba(60, 64, 67, 0.15);\n",
              "      fill: #174EA6;\n",
              "    }\n",
              "\n",
              "    .colab-df-buttons div {\n",
              "      margin-bottom: 4px;\n",
              "    }\n",
              "\n",
              "    [theme=dark] .colab-df-convert {\n",
              "      background-color: #3B4455;\n",
              "      fill: #D2E3FC;\n",
              "    }\n",
              "\n",
              "    [theme=dark] .colab-df-convert:hover {\n",
              "      background-color: #434B5C;\n",
              "      box-shadow: 0px 1px 3px 1px rgba(0, 0, 0, 0.15);\n",
              "      filter: drop-shadow(0px 1px 2px rgba(0, 0, 0, 0.3));\n",
              "      fill: #FFFFFF;\n",
              "    }\n",
              "  </style>\n",
              "\n",
              "    <script>\n",
              "      const buttonEl =\n",
              "        document.querySelector('#df-5934ab34-cc14-4287-8858-c5193254a8bb button.colab-df-convert');\n",
              "      buttonEl.style.display =\n",
              "        google.colab.kernel.accessAllowed ? 'block' : 'none';\n",
              "\n",
              "      async function convertToInteractive(key) {\n",
              "        const element = document.querySelector('#df-5934ab34-cc14-4287-8858-c5193254a8bb');\n",
              "        const dataTable =\n",
              "          await google.colab.kernel.invokeFunction('convertToInteractive',\n",
              "                                                    [key], {});\n",
              "        if (!dataTable) return;\n",
              "\n",
              "        const docLinkHtml = 'Like what you see? Visit the ' +\n",
              "          '<a target=\"_blank\" href=https://colab.research.google.com/notebooks/data_table.ipynb>data table notebook</a>'\n",
              "          + ' to learn more about interactive tables.';\n",
              "        element.innerHTML = '';\n",
              "        dataTable['output_type'] = 'display_data';\n",
              "        await google.colab.output.renderOutput(dataTable, element);\n",
              "        const docLink = document.createElement('div');\n",
              "        docLink.innerHTML = docLinkHtml;\n",
              "        element.appendChild(docLink);\n",
              "      }\n",
              "    </script>\n",
              "  </div>\n",
              "\n",
              "\n",
              "<div id=\"df-1579dc3d-1621-49c0-93b2-3103a21dfd46\">\n",
              "  <button class=\"colab-df-quickchart\" onclick=\"quickchart('df-1579dc3d-1621-49c0-93b2-3103a21dfd46')\"\n",
              "            title=\"Suggest charts\"\n",
              "            style=\"display:none;\">\n",
              "\n",
              "<svg xmlns=\"http://www.w3.org/2000/svg\" height=\"24px\"viewBox=\"0 0 24 24\"\n",
              "     width=\"24px\">\n",
              "    <g>\n",
              "        <path d=\"M19 3H5c-1.1 0-2 .9-2 2v14c0 1.1.9 2 2 2h14c1.1 0 2-.9 2-2V5c0-1.1-.9-2-2-2zM9 17H7v-7h2v7zm4 0h-2V7h2v10zm4 0h-2v-4h2v4z\"/>\n",
              "    </g>\n",
              "</svg>\n",
              "  </button>\n",
              "\n",
              "<style>\n",
              "  .colab-df-quickchart {\n",
              "      --bg-color: #E8F0FE;\n",
              "      --fill-color: #1967D2;\n",
              "      --hover-bg-color: #E2EBFA;\n",
              "      --hover-fill-color: #174EA6;\n",
              "      --disabled-fill-color: #AAA;\n",
              "      --disabled-bg-color: #DDD;\n",
              "  }\n",
              "\n",
              "  [theme=dark] .colab-df-quickchart {\n",
              "      --bg-color: #3B4455;\n",
              "      --fill-color: #D2E3FC;\n",
              "      --hover-bg-color: #434B5C;\n",
              "      --hover-fill-color: #FFFFFF;\n",
              "      --disabled-bg-color: #3B4455;\n",
              "      --disabled-fill-color: #666;\n",
              "  }\n",
              "\n",
              "  .colab-df-quickchart {\n",
              "    background-color: var(--bg-color);\n",
              "    border: none;\n",
              "    border-radius: 50%;\n",
              "    cursor: pointer;\n",
              "    display: none;\n",
              "    fill: var(--fill-color);\n",
              "    height: 32px;\n",
              "    padding: 0;\n",
              "    width: 32px;\n",
              "  }\n",
              "\n",
              "  .colab-df-quickchart:hover {\n",
              "    background-color: var(--hover-bg-color);\n",
              "    box-shadow: 0 1px 2px rgba(60, 64, 67, 0.3), 0 1px 3px 1px rgba(60, 64, 67, 0.15);\n",
              "    fill: var(--button-hover-fill-color);\n",
              "  }\n",
              "\n",
              "  .colab-df-quickchart-complete:disabled,\n",
              "  .colab-df-quickchart-complete:disabled:hover {\n",
              "    background-color: var(--disabled-bg-color);\n",
              "    fill: var(--disabled-fill-color);\n",
              "    box-shadow: none;\n",
              "  }\n",
              "\n",
              "  .colab-df-spinner {\n",
              "    border: 2px solid var(--fill-color);\n",
              "    border-color: transparent;\n",
              "    border-bottom-color: var(--fill-color);\n",
              "    animation:\n",
              "      spin 1s steps(1) infinite;\n",
              "  }\n",
              "\n",
              "  @keyframes spin {\n",
              "    0% {\n",
              "      border-color: transparent;\n",
              "      border-bottom-color: var(--fill-color);\n",
              "      border-left-color: var(--fill-color);\n",
              "    }\n",
              "    20% {\n",
              "      border-color: transparent;\n",
              "      border-left-color: var(--fill-color);\n",
              "      border-top-color: var(--fill-color);\n",
              "    }\n",
              "    30% {\n",
              "      border-color: transparent;\n",
              "      border-left-color: var(--fill-color);\n",
              "      border-top-color: var(--fill-color);\n",
              "      border-right-color: var(--fill-color);\n",
              "    }\n",
              "    40% {\n",
              "      border-color: transparent;\n",
              "      border-right-color: var(--fill-color);\n",
              "      border-top-color: var(--fill-color);\n",
              "    }\n",
              "    60% {\n",
              "      border-color: transparent;\n",
              "      border-right-color: var(--fill-color);\n",
              "    }\n",
              "    80% {\n",
              "      border-color: transparent;\n",
              "      border-right-color: var(--fill-color);\n",
              "      border-bottom-color: var(--fill-color);\n",
              "    }\n",
              "    90% {\n",
              "      border-color: transparent;\n",
              "      border-bottom-color: var(--fill-color);\n",
              "    }\n",
              "  }\n",
              "</style>\n",
              "\n",
              "  <script>\n",
              "    async function quickchart(key) {\n",
              "      const quickchartButtonEl =\n",
              "        document.querySelector('#' + key + ' button');\n",
              "      quickchartButtonEl.disabled = true;  // To prevent multiple clicks.\n",
              "      quickchartButtonEl.classList.add('colab-df-spinner');\n",
              "      try {\n",
              "        const charts = await google.colab.kernel.invokeFunction(\n",
              "            'suggestCharts', [key], {});\n",
              "      } catch (error) {\n",
              "        console.error('Error during call to suggestCharts:', error);\n",
              "      }\n",
              "      quickchartButtonEl.classList.remove('colab-df-spinner');\n",
              "      quickchartButtonEl.classList.add('colab-df-quickchart-complete');\n",
              "    }\n",
              "    (() => {\n",
              "      let quickchartButtonEl =\n",
              "        document.querySelector('#df-1579dc3d-1621-49c0-93b2-3103a21dfd46 button');\n",
              "      quickchartButtonEl.style.display =\n",
              "        google.colab.kernel.accessAllowed ? 'block' : 'none';\n",
              "    })();\n",
              "  </script>\n",
              "</div>\n",
              "\n",
              "    </div>\n",
              "  </div>\n"
            ],
            "application/vnd.google.colaboratory.intrinsic+json": {
              "type": "dataframe",
              "summary": "{\n  \"name\": \"]]\",\n  \"rows\": 5,\n  \"fields\": [\n    {\n      \"column\": \"Diagnosis_ClinicianConsensus,DX_01\",\n      \"properties\": {\n        \"dtype\": \"category\",\n        \"num_unique_values\": 1,\n        \"samples\": [\n          \" \"\n        ],\n        \"semantic_type\": \"\",\n        \"description\": \"\"\n      }\n    },\n    {\n      \"column\": \"Diagnosis_ClinicianConsensus,DX_02\",\n      \"properties\": {\n        \"dtype\": \"category\",\n        \"num_unique_values\": 2,\n        \"samples\": [\n          \"ADHD-Combined Type\"\n        ],\n        \"semantic_type\": \"\",\n        \"description\": \"\"\n      }\n    },\n    {\n      \"column\": \"Diagnosis_ClinicianConsensus,DX_03\",\n      \"properties\": {\n        \"dtype\": \"category\",\n        \"num_unique_values\": 2,\n        \"samples\": [\n          \"Oppositional Defiant Disorder\"\n        ],\n        \"semantic_type\": \"\",\n        \"description\": \"\"\n      }\n    },\n    {\n      \"column\": \"Diagnosis_ClinicianConsensus,DX_04\",\n      \"properties\": {\n        \"dtype\": \"category\",\n        \"num_unique_values\": 2,\n        \"samples\": [\n          \"Specific Phobia\"\n        ],\n        \"semantic_type\": \"\",\n        \"description\": \"\"\n      }\n    },\n    {\n      \"column\": \"Diagnosis_ClinicianConsensus,DX_05\",\n      \"properties\": {\n        \"dtype\": \"category\",\n        \"num_unique_values\": 2,\n        \"samples\": [\n          \"Specific Learning Disorder with Impairment in Reading\"\n        ],\n        \"semantic_type\": \"\",\n        \"description\": \"\"\n      }\n    },\n    {\n      \"column\": \"Diagnosis_ClinicianConsensus,DX_06\",\n      \"properties\": {\n        \"dtype\": \"category\",\n        \"num_unique_values\": 2,\n        \"samples\": [\n          \"Specific Learning Disorder with Impairment in Mathematics\"\n        ],\n        \"semantic_type\": \"\",\n        \"description\": \"\"\n      }\n    },\n    {\n      \"column\": \"Diagnosis_ClinicianConsensus,DX_07\",\n      \"properties\": {\n        \"dtype\": \"category\",\n        \"num_unique_values\": 1,\n        \"samples\": [\n          \".\"\n        ],\n        \"semantic_type\": \"\",\n        \"description\": \"\"\n      }\n    },\n    {\n      \"column\": \"Diagnosis_ClinicianConsensus,DX_08\",\n      \"properties\": {\n        \"dtype\": \"category\",\n        \"num_unique_values\": 1,\n        \"samples\": [\n          \".\"\n        ],\n        \"semantic_type\": \"\",\n        \"description\": \"\"\n      }\n    },\n    {\n      \"column\": \"Diagnosis_ClinicianConsensus,DX_09\",\n      \"properties\": {\n        \"dtype\": \"category\",\n        \"num_unique_values\": 1,\n        \"samples\": [\n          \".\"\n        ],\n        \"semantic_type\": \"\",\n        \"description\": \"\"\n      }\n    },\n    {\n      \"column\": \"Diagnosis_ClinicianConsensus,DX_10\",\n      \"properties\": {\n        \"dtype\": \"category\",\n        \"num_unique_values\": 1,\n        \"samples\": [\n          \".\"\n        ],\n        \"semantic_type\": \"\",\n        \"description\": \"\"\n      }\n    }\n  ]\n}"
            }
          },
          "metadata": {},
          "execution_count": 37
        }
      ]
    },
    {
      "cell_type": "code",
      "source": [
        "data.columns[180:250]"
      ],
      "metadata": {
        "id": "xINZ9Im8PSn4",
        "outputId": "0f6a9ffa-4e76-4a3c-dc0b-2b62a27de81d",
        "colab": {
          "base_uri": "https://localhost:8080/"
        }
      },
      "execution_count": null,
      "outputs": [
        {
          "output_type": "execute_result",
          "data": {
            "text/plain": [
              "Index(['DailyMeds,drugs', 'DailyMeds,drugs_01', 'DailyMeds,drugs_02',\n",
              "       'DailyMeds,med_dose_01', 'DailyMeds,med_dose_02',\n",
              "       'DailyMeds,med_dose_03', 'DailyMeds,med_name_01',\n",
              "       'DailyMeds,med_name_02', 'DailyMeds,med_name_03',\n",
              "       'DailyMeds,med_type_01', 'DailyMeds,med_type_02',\n",
              "       'DailyMeds,med_type_03', 'DailyMeds,medications',\n",
              "       'Diagnosis_ClinicianConsensus,DX_01',\n",
              "       'Diagnosis_ClinicianConsensus,DX_01_ByHx',\n",
              "       'Diagnosis_ClinicianConsensus,DX_01_Cat',\n",
              "       'Diagnosis_ClinicianConsensus,DX_01_Code',\n",
              "       'Diagnosis_ClinicianConsensus,DX_01_Confirmed',\n",
              "       'Diagnosis_ClinicianConsensus,DX_01_New',\n",
              "       'Diagnosis_ClinicianConsensus,DX_01_PRem',\n",
              "       'Diagnosis_ClinicianConsensus,DX_01_Past_Doc',\n",
              "       'Diagnosis_ClinicianConsensus,DX_01_Presum',\n",
              "       'Diagnosis_ClinicianConsensus,DX_01_RC',\n",
              "       'Diagnosis_ClinicianConsensus,DX_01_Rem',\n",
              "       'Diagnosis_ClinicianConsensus,DX_01_RuleOut',\n",
              "       'Diagnosis_ClinicianConsensus,DX_01_Spec',\n",
              "       'Diagnosis_ClinicianConsensus,DX_01_Sub',\n",
              "       'Diagnosis_ClinicianConsensus,DX_01_Time',\n",
              "       'Diagnosis_ClinicianConsensus,DX_02',\n",
              "       'Diagnosis_ClinicianConsensus,DX_02_ByHx',\n",
              "       'Diagnosis_ClinicianConsensus,DX_02_Cat',\n",
              "       'Diagnosis_ClinicianConsensus,DX_02_Code',\n",
              "       'Diagnosis_ClinicianConsensus,DX_02_Confirmed',\n",
              "       'Diagnosis_ClinicianConsensus,DX_02_New',\n",
              "       'Diagnosis_ClinicianConsensus,DX_02_PRem',\n",
              "       'Diagnosis_ClinicianConsensus,DX_02_Past_Doc',\n",
              "       'Diagnosis_ClinicianConsensus,DX_02_Presum',\n",
              "       'Diagnosis_ClinicianConsensus,DX_02_RC',\n",
              "       'Diagnosis_ClinicianConsensus,DX_02_Rem',\n",
              "       'Diagnosis_ClinicianConsensus,DX_02_RuleOut',\n",
              "       'Diagnosis_ClinicianConsensus,DX_02_Spec',\n",
              "       'Diagnosis_ClinicianConsensus,DX_02_Sub',\n",
              "       'Diagnosis_ClinicianConsensus,DX_02_Time',\n",
              "       'Diagnosis_ClinicianConsensus,DX_03',\n",
              "       'Diagnosis_ClinicianConsensus,DX_03_ByHx',\n",
              "       'Diagnosis_ClinicianConsensus,DX_03_Cat',\n",
              "       'Diagnosis_ClinicianConsensus,DX_03_Code',\n",
              "       'Diagnosis_ClinicianConsensus,DX_03_Confirmed',\n",
              "       'Diagnosis_ClinicianConsensus,DX_03_New',\n",
              "       'Diagnosis_ClinicianConsensus,DX_03_PRem',\n",
              "       'Diagnosis_ClinicianConsensus,DX_03_Past_Doc',\n",
              "       'Diagnosis_ClinicianConsensus,DX_03_Presum',\n",
              "       'Diagnosis_ClinicianConsensus,DX_03_RC',\n",
              "       'Diagnosis_ClinicianConsensus,DX_03_Rem',\n",
              "       'Diagnosis_ClinicianConsensus,DX_03_RuleOut',\n",
              "       'Diagnosis_ClinicianConsensus,DX_03_Spec',\n",
              "       'Diagnosis_ClinicianConsensus,DX_03_Sub',\n",
              "       'Diagnosis_ClinicianConsensus,DX_03_Time',\n",
              "       'Diagnosis_ClinicianConsensus,DX_04',\n",
              "       'Diagnosis_ClinicianConsensus,DX_04_ByHx',\n",
              "       'Diagnosis_ClinicianConsensus,DX_04_Cat',\n",
              "       'Diagnosis_ClinicianConsensus,DX_04_Code',\n",
              "       'Diagnosis_ClinicianConsensus,DX_04_Confirmed',\n",
              "       'Diagnosis_ClinicianConsensus,DX_04_New',\n",
              "       'Diagnosis_ClinicianConsensus,DX_04_PRem',\n",
              "       'Diagnosis_ClinicianConsensus,DX_04_Past_Doc',\n",
              "       'Diagnosis_ClinicianConsensus,DX_04_Presum',\n",
              "       'Diagnosis_ClinicianConsensus,DX_04_RC',\n",
              "       'Diagnosis_ClinicianConsensus,DX_04_Rem',\n",
              "       'Diagnosis_ClinicianConsensus,DX_04_RuleOut'],\n",
              "      dtype='object')"
            ]
          },
          "metadata": {},
          "execution_count": 198
        }
      ]
    },
    {
      "cell_type": "code",
      "source": [
        "data.columns[300:350]"
      ],
      "metadata": {
        "id": "ovskDSjVTim2",
        "outputId": "1f275470-67ec-47cf-da10-d88d761d89ce",
        "colab": {
          "base_uri": "https://localhost:8080/"
        }
      },
      "execution_count": 27,
      "outputs": [
        {
          "output_type": "execute_result",
          "data": {
            "text/plain": [
              "Index(['Diagnosis_ClinicianConsensus,DX_08_Cat',\n",
              "       'Diagnosis_ClinicianConsensus,DX_08_Code',\n",
              "       'Diagnosis_ClinicianConsensus,DX_08_Confirmed',\n",
              "       'Diagnosis_ClinicianConsensus,DX_08_New',\n",
              "       'Diagnosis_ClinicianConsensus,DX_08_PRem',\n",
              "       'Diagnosis_ClinicianConsensus,DX_08_Past_Doc',\n",
              "       'Diagnosis_ClinicianConsensus,DX_08_Presum',\n",
              "       'Diagnosis_ClinicianConsensus,DX_08_RC',\n",
              "       'Diagnosis_ClinicianConsensus,DX_08_Rem',\n",
              "       'Diagnosis_ClinicianConsensus,DX_08_RuleOut',\n",
              "       'Diagnosis_ClinicianConsensus,DX_08_Spec',\n",
              "       'Diagnosis_ClinicianConsensus,DX_08_Sub',\n",
              "       'Diagnosis_ClinicianConsensus,DX_08_Time',\n",
              "       'Diagnosis_ClinicianConsensus,DX_09',\n",
              "       'Diagnosis_ClinicianConsensus,DX_09_ByHx',\n",
              "       'Diagnosis_ClinicianConsensus,DX_09_Cat',\n",
              "       'Diagnosis_ClinicianConsensus,DX_09_Code',\n",
              "       'Diagnosis_ClinicianConsensus,DX_09_Confirmed',\n",
              "       'Diagnosis_ClinicianConsensus,DX_09_New',\n",
              "       'Diagnosis_ClinicianConsensus,DX_09_PRem',\n",
              "       'Diagnosis_ClinicianConsensus,DX_09_Past_Doc',\n",
              "       'Diagnosis_ClinicianConsensus,DX_09_Presum',\n",
              "       'Diagnosis_ClinicianConsensus,DX_09_RC',\n",
              "       'Diagnosis_ClinicianConsensus,DX_09_Rem',\n",
              "       'Diagnosis_ClinicianConsensus,DX_09_RuleOut',\n",
              "       'Diagnosis_ClinicianConsensus,DX_09_Spec',\n",
              "       'Diagnosis_ClinicianConsensus,DX_09_Sub',\n",
              "       'Diagnosis_ClinicianConsensus,DX_09_Time',\n",
              "       'Diagnosis_ClinicianConsensus,DX_10',\n",
              "       'Diagnosis_ClinicianConsensus,DX_10_ByHx',\n",
              "       'Diagnosis_ClinicianConsensus,DX_10_Cat',\n",
              "       'Diagnosis_ClinicianConsensus,DX_10_Code',\n",
              "       'Diagnosis_ClinicianConsensus,DX_10_Confirmed',\n",
              "       'Diagnosis_ClinicianConsensus,DX_10_New',\n",
              "       'Diagnosis_ClinicianConsensus,DX_10_PRem',\n",
              "       'Diagnosis_ClinicianConsensus,DX_10_Past_Doc',\n",
              "       'Diagnosis_ClinicianConsensus,DX_10_Presum',\n",
              "       'Diagnosis_ClinicianConsensus,DX_10_RC',\n",
              "       'Diagnosis_ClinicianConsensus,DX_10_Rem',\n",
              "       'Diagnosis_ClinicianConsensus,DX_10_RuleOut',\n",
              "       'Diagnosis_ClinicianConsensus,DX_10_Spec',\n",
              "       'Diagnosis_ClinicianConsensus,DX_10_Sub',\n",
              "       'Diagnosis_ClinicianConsensus,DX_10_Time',\n",
              "       'Diagnosis_ClinicianConsensus,EID', 'Diagnosis_ClinicianConsensus,NoDX',\n",
              "       'DrugScreen,AMP500', 'DrugScreen,BAR300', 'DrugScreen,BUP10',\n",
              "       'DrugScreen,BZO300', 'DrugScreen,COC150'],\n",
              "      dtype='object')"
            ]
          },
          "metadata": {},
          "execution_count": 27
        }
      ]
    },
    {
      "cell_type": "code",
      "source": [],
      "metadata": {
        "id": "QVbnLuo6f3it"
      },
      "execution_count": null,
      "outputs": []
    },
    {
      "cell_type": "code",
      "source": [],
      "metadata": {
        "id": "XdoRP9DWVizk"
      },
      "execution_count": null,
      "outputs": []
    },
    {
      "cell_type": "code",
      "source": [
        "for i in range(1,10):\n",
        "  name_diag = 'Diagnosis_ClinicianConsensus,DX_0' + str(i)\n",
        "  name_conf = 'Diagnosis_ClinicianConsensus,DX_0' + str(i) + '_Confirmed'\n",
        "  name_code = 'Diagnosis_ClinicianConsensus,DX_0' + str(i) + '_Code'\n",
        "  data.drop([name_diag], axis=1, inplace=True)\n",
        "  data.drop([name_conf], axis=1, inplace=True)\n",
        "  data.drop([name_code], axis=1, inplace=True)\n",
        "data.drop(['Diagnosis_ClinicianConsensus,DX_10'], axis=1, inplace=True)\n",
        "data.drop(['Diagnosis_ClinicianConsensus,DX_10_Code'], axis=1, inplace=True)\n",
        "data.drop(['Diagnosis_ClinicianConsensus,DX_10_Confirmed'], axis=1, inplace=True)"
      ],
      "metadata": {
        "id": "ULH8IqPOWllD"
      },
      "execution_count": null,
      "outputs": []
    },
    {
      "cell_type": "code",
      "source": [
        "print('Control subjects')\n",
        "print(data[(data['DD'] == 0) & (data['Diagnosis'] == 0)].shape[0])\n",
        "print('Disorders w/out DD')\n",
        "print(data[(data['DD'] == 0) & (data['Diagnosis'] != 0)].shape[0])\n",
        "print('Disorders w DD')\n",
        "print(data[data['DD'] == 1].shape[0])"
      ],
      "metadata": {
        "id": "95ks0qPKZjZB",
        "outputId": "04479038-42c8-4203-d7c4-e674fc0f4bc6",
        "colab": {
          "base_uri": "https://localhost:8080/"
        }
      },
      "execution_count": null,
      "outputs": [
        {
          "output_type": "stream",
          "name": "stdout",
          "text": [
            "Control subjects\n",
            "373\n",
            "Disorders w/out DD\n",
            "3320\n",
            "Disorders w DD\n",
            "649\n"
          ]
        }
      ]
    },
    {
      "cell_type": "code",
      "source": [
        "new_diag = []\n",
        "new_dtypes = []\n",
        "diag = data.Diagnosis.values\n",
        "for i in diag:\n",
        "  if i == 0:\n",
        "    new_diag.append(i)\n",
        "    new_dtypes.append(i)\n",
        "  # one diagnosis\n",
        "  elif type(i) == str:\n",
        "    if 'Specific Learning Disorder with Impairment' in i:\n",
        "      new_diag.append('SLD')\n",
        "      if 'Reading' in i:\n",
        "        new_dtypes.append('Reading')\n",
        "      elif 'Written' in i:\n",
        "        new_dtypes.append('Writing')\n",
        "      elif 'Mathematics' in i:\n",
        "        new_dtypes.append('Math')\n",
        "    else:\n",
        "      new_diag.append(i)\n",
        "      new_dtypes.append(0)\n",
        "  # multiple diagnoses\n",
        "  elif type(i) == list:\n",
        "    name_diag = ''\n",
        "    name_dys = ''\n",
        "    for element in i:\n",
        "      if 'Specific Learning Disorder with Impairment' in element:\n",
        "        name_diag = name_diag + 'SLD' + '. '\n",
        "        if 'Reading' in element:\n",
        "          name_dys = name_dys + 'Reading '\n",
        "        elif 'Written' in element:\n",
        "          name_dys = name_dys + 'Writing '\n",
        "        elif 'Mathematics' in element:\n",
        "          name_dys = name_dys + 'Math '\n",
        "      elif type(element) is str:\n",
        "        name_diag = name_diag + element + '.'\n",
        "      else:\n",
        "        print(i)\n",
        "        break\n",
        "    if name_diag == '':\n",
        "      print(i)\n",
        "      break\n",
        "    new_diag.append(name_diag)\n",
        "\n",
        "    if name_dys == '':\n",
        "      new_dtypes.append(0)\n",
        "    else:\n",
        "      new_dtypes.append(name_dys)"
      ],
      "metadata": {
        "id": "9DBzegrJahCQ"
      },
      "execution_count": null,
      "outputs": []
    },
    {
      "cell_type": "code",
      "source": [
        "data['Diagnosis'] = new_diag\n",
        "data['DD type'] = new_dtypes"
      ],
      "metadata": {
        "id": "3F_wRREne6dT"
      },
      "execution_count": null,
      "outputs": []
    },
    {
      "cell_type": "code",
      "source": [
        "def meds(df, number):\n",
        "  medname = 'DailyMeds,med_name_0' + str(number)\n",
        "  meds = df[medname].values\n",
        "  new_meds = []\n",
        "\n",
        "  for i in range(0, df.shape[0]):\n",
        "    if meds[i] == '.':\n",
        "      new_meds.append(0)\n",
        "    elif type(meds[i]) == float:\n",
        "      new_meds.append(0)\n",
        "    elif type(meds[i]) == str:\n",
        "      new_meds.append(meds[i])\n",
        "    else:\n",
        "      print(meds[i], i)\n",
        "      break\n",
        "  return new_meds"
      ],
      "metadata": {
        "id": "y3Y8GkTGOOB9"
      },
      "execution_count": null,
      "outputs": []
    },
    {
      "cell_type": "code",
      "source": [
        "all_meds = {}\n",
        "for i in range(1, 4):\n",
        "  all_meds['med_%s' % i] = meds(data, i)"
      ],
      "metadata": {
        "id": "ufmhhKVvPHDa"
      },
      "execution_count": null,
      "outputs": []
    },
    {
      "cell_type": "code",
      "source": [
        "meds_in_one = []\n",
        "for i in range(0, data.shape[0]):\n",
        "  participant = []\n",
        "  for sublist in all_meds:\n",
        "    subset = all_meds[sublist][i]\n",
        "    if type(subset) == str:\n",
        "      participant.append(subset)\n",
        "  if len(participant) == 0:\n",
        "    meds_in_one.append(0)\n",
        "  elif len(participant) == 1:\n",
        "    meds_in_one.append(participant[0])\n",
        "  else:\n",
        "    name = ''\n",
        "    for part in participant:\n",
        "      name = name + part + ' '\n",
        "    meds_in_one.append(name)"
      ],
      "metadata": {
        "id": "NdsIsF2yP5xK"
      },
      "execution_count": null,
      "outputs": []
    },
    {
      "cell_type": "code",
      "source": [
        "data['Medicine'] = meds_in_one"
      ],
      "metadata": {
        "id": "nokonDf4RMXd"
      },
      "execution_count": null,
      "outputs": []
    },
    {
      "cell_type": "markdown",
      "source": [
        "Working with the DD type columns"
      ],
      "metadata": {
        "id": "49bc1LLWDJZb"
      }
    },
    {
      "cell_type": "code",
      "source": [
        "dd = data['DD type'].values\n",
        "new_dd = []\n",
        "for i in dd:\n",
        "  if i == 'Reading ' or i == 'Reading Reading ':\n",
        "    new_dd.append('Reading')\n",
        "  elif i == 'Reading Writing Math ' or i == 'Reading Math Writing ':\n",
        "    new_dd.append('Reading, Writing, Math')\n",
        "  elif i == 'Reading Math ' or i == 'Reading Math Math ' or i == 'Math Reading Reading ' or i == 'Math Reading ':\n",
        "    new_dd.append('Reading, Math')\n",
        "  elif i == 'Math ':\n",
        "    new_dd.append('Math')\n",
        "  elif i == 'Writing ':\n",
        "    new_dd.append('Writing')\n",
        "  elif i == 'Reading Writing ':\n",
        "    new_dd.append('Reading, Writing')\n",
        "  elif i == 'Math Writing ' or i == 'Writing Math ':\n",
        "    new_dd.append('Writing, Math')\n",
        "  else:\n",
        "    new_dd.append(i)"
      ],
      "metadata": {
        "id": "23OMCV6gDPXr"
      },
      "execution_count": null,
      "outputs": []
    },
    {
      "cell_type": "code",
      "source": [
        "data['DD type'] = new_dd"
      ],
      "metadata": {
        "id": "QpB_bk5FHXH1"
      },
      "execution_count": null,
      "outputs": []
    },
    {
      "cell_type": "code",
      "source": [
        "# adding the status of patients to exclude the cases with the diagnosis but w/out DD\n",
        "status = []\n",
        "dd = data['DD'].values\n",
        "diag = data['Diagnosis'].values\n",
        "for i in range(0, data.shape[0]):\n",
        "  if dd[i] == 1:\n",
        "    if diag[i] == 'SLD':\n",
        "      status.append('only DD')\n",
        "    elif 'Autism' in diag[i] or 'Intellectual' in diag[i]:\n",
        "      status.append('DD with autism or intellectual')\n",
        "    else:\n",
        "      status.append('DD with comorbidities')\n",
        "  else:\n",
        "    if diag[i] == 0:\n",
        "      status.append('control')\n",
        "    else:\n",
        "      status.append('without DD')"
      ],
      "metadata": {
        "id": "Aa1-s-AwIsSS"
      },
      "execution_count": null,
      "outputs": []
    },
    {
      "cell_type": "code",
      "source": [
        "data['Status'] = status"
      ],
      "metadata": {
        "id": "aQhEIZ1HNHRV"
      },
      "execution_count": null,
      "outputs": []
    },
    {
      "cell_type": "code",
      "source": [
        "diag = data.Diagnosis.values\n",
        "adhd = []\n",
        "for i in diag:\n",
        "  if i == 0:\n",
        "    adhd.append(0)\n",
        "  elif 'ADHD' in i:\n",
        "    if 'ADHD-Inattentive Type' in i:\n",
        "      adhd.append('ADHD-Inattentive Type')\n",
        "    elif 'ADHD-Combined Type' in i:\n",
        "      adhd.append('ADHD-Combined Type')\n",
        "    elif 'ADHD-Hyperactive/Impulsive Type' in i:\n",
        "      adhd.append('ADHD-Hyperactive/Impulsive Type')\n",
        "    elif 'Unspecified Attention-Deficit/Hyperactivity Disorder' in i:\n",
        "      adhd.append('Unspecified ADHD')\n",
        "    elif 'Other Specified Attention-Deficit/Hyperactivity Disorder' in i:\n",
        "      adhd.append('Specified ADHD')\n",
        "  else:\n",
        "    adhd.append(0)"
      ],
      "metadata": {
        "id": "oJpYadSIQQH7"
      },
      "execution_count": null,
      "outputs": []
    },
    {
      "cell_type": "code",
      "source": [
        "data['ADHD'] = adhd"
      ],
      "metadata": {
        "id": "eGvZSRmyQR97"
      },
      "execution_count": null,
      "outputs": []
    },
    {
      "cell_type": "markdown",
      "source": [
        "## Exclusion"
      ],
      "metadata": {
        "id": "SKLY8kv0GHLO"
      }
    },
    {
      "cell_type": "code",
      "source": [
        "data[data['Diagnosis_ClinicianConsensus,NoDX'] == '3'].groupby(['Diagnosis_ClinicianConsensus,DX_01'])['Identifiers'].count() # we will exclude them in the exclusion section"
      ],
      "metadata": {
        "id": "gv2bosGlXVnm"
      },
      "execution_count": null,
      "outputs": []
    },
    {
      "cell_type": "code",
      "source": [
        "data_filtered = data.copy() # full"
      ],
      "metadata": {
        "id": "BDavNtBpXy1W"
      },
      "execution_count": null,
      "outputs": []
    },
    {
      "cell_type": "code",
      "source": [
        "# leaving only right-handed\n",
        "data_filtered = data_filtered[data_filtered['EHQ,EHQ_Total'] != '.']\n",
        "data_filtered['EHQ,EHQ_Total'] = data_filtered['EHQ,EHQ_Total'].astype(float)\n",
        "data_filtered = data_filtered[data_filtered['EHQ,EHQ_Total'] >= 40]"
      ],
      "metadata": {
        "id": "_tWi-3-jWxRg",
        "outputId": "9aa064d3-46b3-480e-ca87-2c6317ed36e7",
        "colab": {
          "base_uri": "https://localhost:8080/"
        }
      },
      "execution_count": null,
      "outputs": [
        {
          "output_type": "stream",
          "name": "stderr",
          "text": [
            "<ipython-input-43-210d3af4d312>:3: SettingWithCopyWarning: \n",
            "A value is trying to be set on a copy of a slice from a DataFrame.\n",
            "Try using .loc[row_indexer,col_indexer] = value instead\n",
            "\n",
            "See the caveats in the documentation: https://pandas.pydata.org/pandas-docs/stable/user_guide/indexing.html#returning-a-view-versus-a-copy\n",
            "  data_filtered['EHQ,EHQ_Total'] = data_filtered['EHQ,EHQ_Total'].astype(float)\n"
          ]
        }
      ]
    },
    {
      "cell_type": "code",
      "source": [
        "# without Math, Writing, Math+Writing in DD diagnosis\n",
        "data_filtered = data_filtered[data_filtered['DD type'] != 'Math']\n",
        "data_filtered = data_filtered[data_filtered['DD type'] != 'Writing']\n",
        "data_filtered = data_filtered[data_filtered['DD type'] != 'Writing, Math']"
      ],
      "metadata": {
        "id": "cd8tC0UBH95E"
      },
      "execution_count": null,
      "outputs": []
    },
    {
      "cell_type": "code",
      "source": [
        "# data full\n",
        "# excluding people older than 18\n",
        "data_filtered = data_filtered[data_filtered['Basic_Demos,Age'] <= 18]"
      ],
      "metadata": {
        "id": "p1HIlfhAIP67"
      },
      "execution_count": null,
      "outputs": []
    },
    {
      "cell_type": "code",
      "source": [
        "# excluding people who have some medicine recorded\n",
        "data_filtered = data_filtered[data_filtered['Medicine'] == 0]"
      ],
      "metadata": {
        "id": "MQLMitlBIV5a"
      },
      "execution_count": null,
      "outputs": []
    },
    {
      "cell_type": "code",
      "source": [
        "# excluding those who are not controls or people with dd\n",
        "data_filtered = data_filtered[data_filtered['Status'] != 'without DD']"
      ],
      "metadata": {
        "id": "lNyLp8vRIi57"
      },
      "execution_count": null,
      "outputs": []
    },
    {
      "cell_type": "code",
      "source": [
        "# excluding those with autism and intellectual disorder\n",
        "data_filtered = data_filtered[data_filtered['Status'] != 'DD with autism or intellectual']"
      ],
      "metadata": {
        "id": "ClHulJ4RObos"
      },
      "execution_count": null,
      "outputs": []
    },
    {
      "cell_type": "code",
      "source": [
        "# data full\n",
        "# excluding amphetamines, benzaozepines, tca, thc\n",
        "data_filtered = data_filtered[data_filtered['DrugScreen,AMP500'] != '1']\n",
        "data_filtered = data_filtered[data_filtered['DrugScreen,TCA1000'] != '1']\n",
        "data_filtered = data_filtered[data_filtered['DrugScreen,THC50'] != '1']"
      ],
      "metadata": {
        "id": "LjUjle3xAN1p"
      },
      "execution_count": null,
      "outputs": []
    },
    {
      "cell_type": "markdown",
      "source": [
        "Checking whether there any other criteria that we should consider for filtering the data."
      ],
      "metadata": {
        "id": "8UfKPeg3hfNS"
      }
    },
    {
      "cell_type": "markdown",
      "source": [
        "Documenting what I checked and what looks okay:\n",
        "\n",
        "1.   Audit - okay, no values greater than 15\n",
        "2.   Barrat test - impulsiveness\n",
        "3.   Daily meds - checked\n",
        "4.   Drug screen - checked\n",
        "5.   MRI information - there, might be used if necessary\n",
        "6.   PreInt - background information - 'PreInt_EduHx,reading' - describes exposure to reading\n",
        "7.   PreINT_Lang - whether bilingual or not. What do we do if the primary language is not English?\n",
        "8.   RAN RAS - only 47 people for letters and 14 for numbers\n",
        "\n"
      ],
      "metadata": {
        "id": "excsarvoh-6i"
      }
    },
    {
      "cell_type": "code",
      "source": [
        "data_filtered = data_filtered[data_filtered['PreInt_Lang,Child_Primary_Lang'] != 'Spanish']\n",
        "data_filtered = data_filtered[data_filtered['PreInt_Lang,Child_Primary_Lang'] != 'Portuguese']"
      ],
      "metadata": {
        "id": "rDsV6MofI95Z"
      },
      "execution_count": null,
      "outputs": []
    },
    {
      "cell_type": "markdown",
      "source": [
        "Standardizing the IQ scores and Excluding people with the IQ scores less than 70. The main test is WISC. All others are additional."
      ],
      "metadata": {
        "id": "qssmlJVdWbYG"
      }
    },
    {
      "cell_type": "code",
      "source": [
        "# data full\n",
        "# substituting rare nan values with '.' for the standardisation of missing values\n",
        "# dealing with FSIQ scores at first\n",
        "data_filtered['KBIT,KBIT_IQ_Comp'] = data_filtered['KBIT,KBIT_IQ_Comp'].fillna('.')\n",
        "data_filtered['WASI,WASI_FSIQ'] = data_filtered['WASI,WASI_FSIQ'].fillna('.')\n",
        "data_filtered['WAIS,WAIS_FSIQ_COMP'] = data_filtered['WAIS,WAIS_FSIQ_COMP'].fillna('.')\n",
        "data_filtered['WISC,WISC_FSIQ'] = data_filtered['WISC,WISC_FSIQ'].fillna('.')\n",
        "data_filtered['WISC,WISC_FSIQ_Sum'] = data_filtered['WISC,WISC_FSIQ_Sum'].fillna('.')\n",
        "data_filtered['WISC_Remote,WISC_NMFSIQ'] = data_filtered['WISC_Remote,WISC_NMFSIQ'].fillna('.')\n",
        "data_filtered['WISC_Remote,WISC_NMFSIQ_Sum'] = data_filtered['WISC_Remote,WISC_NMFSIQ_Sum'].fillna('.')"
      ],
      "metadata": {
        "id": "GE-mrHMjgzsG"
      },
      "execution_count": null,
      "outputs": []
    },
    {
      "cell_type": "code",
      "source": [
        "# data full\n",
        "reference_test = []\n",
        "iq_value = []\n",
        "wisc = data_filtered['WISC,WISC_FSIQ'].values\n",
        "kbit = data_filtered['KBIT,KBIT_IQ_Comp'].values\n",
        "wasi = data_filtered['WASI,WASI_FSIQ'].values\n",
        "wais = data_filtered['WAIS,WAIS_FSIQ_COMP'].values\n",
        "wisc_remote = data_filtered['WISC_Remote,WISC_NMFSIQ'].values\n",
        "age = data_filtered['Basic_Demos,Age'].values\n",
        "\n",
        "for i in range(0, data_filtered.shape[0]):\n",
        "  # if there are no iq results\n",
        "  if wisc[i] == '.' and kbit[i] == '.' and wais[i] == '.' and wasi[i] == '.' and wisc_remote[i] == '.':\n",
        "    iq_value.append('none')\n",
        "    reference_test.append('none')\n",
        "  # if we have wisc\n",
        "  elif wisc[i] != '.':\n",
        "    if kbit[i] == '.':\n",
        "      iq_value.append(int(wisc[i]))\n",
        "      reference_test.append('wisc')\n",
        "    # if we also have kbit\n",
        "    else:\n",
        "      if age[i] < 6:\n",
        "        iq_value.append(int(kbit[i]))\n",
        "        reference_test.append('kbit')\n",
        "      else:\n",
        "        iq_value.append(int(wisc[i]))\n",
        "        reference_test.append('wisc')\n",
        "  # if we don't have wisc\n",
        "  else:\n",
        "    if kbit[i] != '.' and wasi[i] != '.':\n",
        "      if int(wasi[i]) > 70:\n",
        "        iq_value.append(int(wasi[i]))\n",
        "        reference_test.append('wasi')\n",
        "      else:\n",
        "        iq_value.append(int(kbit[i]))\n",
        "        reference_test.append('kbit')\n",
        "    elif kbit[i] != '.':\n",
        "      iq_value.append(int(kbit[i]))\n",
        "      reference_test.append('kbit')\n",
        "    elif wasi[i] != '.':\n",
        "      iq_value.append(int(wasi[i]))\n",
        "      reference_test.append('wasi')\n",
        "    elif wais[i] != '.':\n",
        "      iq_value.append(int(wais[i]))\n",
        "      reference_test.append('wais')\n",
        "    elif wisc_remote[i] != '.':\n",
        "      iq_value.append(int(wisc_remote[i]))\n",
        "      reference_test.append('wisc_remote')"
      ],
      "metadata": {
        "id": "q1-4tvpGOUcH"
      },
      "execution_count": null,
      "outputs": []
    },
    {
      "cell_type": "code",
      "source": [
        "data_filtered['IQ'] = iq_value\n",
        "data_filtered['Test'] = reference_test"
      ],
      "metadata": {
        "id": "4UJUqyl0pj5d"
      },
      "execution_count": null,
      "outputs": []
    },
    {
      "cell_type": "code",
      "source": [
        "# deleting people with no iq\n",
        "data_filtered = data_filtered[data_filtered['IQ'] != 'none']"
      ],
      "metadata": {
        "id": "TbJrfkf6REXe"
      },
      "execution_count": null,
      "outputs": []
    },
    {
      "cell_type": "code",
      "source": [
        "# deleting people with iq < 70\n",
        "data_filtered = data_filtered[data_filtered['IQ'] >= 70]"
      ],
      "metadata": {
        "id": "7BjXOm-WQDpH"
      },
      "execution_count": null,
      "outputs": []
    },
    {
      "cell_type": "markdown",
      "source": [
        "# Characteristics of the ready dataset"
      ],
      "metadata": {
        "id": "6FVNklI1tBUP"
      }
    },
    {
      "cell_type": "code",
      "source": [
        "print('Full dataset')\n",
        "print('Controls')\n",
        "print(data_filtered[data_filtered['Status'] == 'control'].shape[0])\n",
        "print('DD without comorbidities')\n",
        "print(data_filtered[data_filtered['Status'] == 'only DD'].shape[0])\n",
        "print('DD with comorbidities')\n",
        "print(data_filtered[data_filtered['Status'] == 'DD with comorbidities'].shape[0])"
      ],
      "metadata": {
        "id": "S-ZOMySlUyJL",
        "outputId": "6e40ab86-2b85-4f64-f156-1081a03ffd00",
        "colab": {
          "base_uri": "https://localhost:8080/"
        }
      },
      "execution_count": null,
      "outputs": [
        {
          "output_type": "stream",
          "name": "stdout",
          "text": [
            "Full dataset\n",
            "Controls\n",
            "261\n",
            "DD without comorbidities\n",
            "65\n",
            "DD with comorbidities\n",
            "297\n"
          ]
        }
      ]
    },
    {
      "cell_type": "code",
      "source": [
        "data_filtered[data_filtered['DD'] == 1].groupby(['DD type'])[['Identifiers']].count()"
      ],
      "metadata": {
        "id": "9z3GH4VTVTma",
        "outputId": "9f627b0d-4747-45e2-92a0-5d852fb8c969",
        "colab": {
          "base_uri": "https://localhost:8080/",
          "height": 206
        }
      },
      "execution_count": null,
      "outputs": [
        {
          "output_type": "execute_result",
          "data": {
            "text/plain": [
              "                        Identifiers\n",
              "DD type                            \n",
              "Reading                         299\n",
              "Reading, Math                    45\n",
              "Reading, Writing                  9\n",
              "Reading, Writing, Math            9"
            ],
            "text/html": [
              "\n",
              "  <div id=\"df-c9079573-645f-428f-9903-4e40cd72fe91\" class=\"colab-df-container\">\n",
              "    <div>\n",
              "<style scoped>\n",
              "    .dataframe tbody tr th:only-of-type {\n",
              "        vertical-align: middle;\n",
              "    }\n",
              "\n",
              "    .dataframe tbody tr th {\n",
              "        vertical-align: top;\n",
              "    }\n",
              "\n",
              "    .dataframe thead th {\n",
              "        text-align: right;\n",
              "    }\n",
              "</style>\n",
              "<table border=\"1\" class=\"dataframe\">\n",
              "  <thead>\n",
              "    <tr style=\"text-align: right;\">\n",
              "      <th></th>\n",
              "      <th>Identifiers</th>\n",
              "    </tr>\n",
              "    <tr>\n",
              "      <th>DD type</th>\n",
              "      <th></th>\n",
              "    </tr>\n",
              "  </thead>\n",
              "  <tbody>\n",
              "    <tr>\n",
              "      <th>Reading</th>\n",
              "      <td>299</td>\n",
              "    </tr>\n",
              "    <tr>\n",
              "      <th>Reading, Math</th>\n",
              "      <td>45</td>\n",
              "    </tr>\n",
              "    <tr>\n",
              "      <th>Reading, Writing</th>\n",
              "      <td>9</td>\n",
              "    </tr>\n",
              "    <tr>\n",
              "      <th>Reading, Writing, Math</th>\n",
              "      <td>9</td>\n",
              "    </tr>\n",
              "  </tbody>\n",
              "</table>\n",
              "</div>\n",
              "    <div class=\"colab-df-buttons\">\n",
              "\n",
              "  <div class=\"colab-df-container\">\n",
              "    <button class=\"colab-df-convert\" onclick=\"convertToInteractive('df-c9079573-645f-428f-9903-4e40cd72fe91')\"\n",
              "            title=\"Convert this dataframe to an interactive table.\"\n",
              "            style=\"display:none;\">\n",
              "\n",
              "  <svg xmlns=\"http://www.w3.org/2000/svg\" height=\"24px\" viewBox=\"0 -960 960 960\">\n",
              "    <path d=\"M120-120v-720h720v720H120Zm60-500h600v-160H180v160Zm220 220h160v-160H400v160Zm0 220h160v-160H400v160ZM180-400h160v-160H180v160Zm440 0h160v-160H620v160ZM180-180h160v-160H180v160Zm440 0h160v-160H620v160Z\"/>\n",
              "  </svg>\n",
              "    </button>\n",
              "\n",
              "  <style>\n",
              "    .colab-df-container {\n",
              "      display:flex;\n",
              "      gap: 12px;\n",
              "    }\n",
              "\n",
              "    .colab-df-convert {\n",
              "      background-color: #E8F0FE;\n",
              "      border: none;\n",
              "      border-radius: 50%;\n",
              "      cursor: pointer;\n",
              "      display: none;\n",
              "      fill: #1967D2;\n",
              "      height: 32px;\n",
              "      padding: 0 0 0 0;\n",
              "      width: 32px;\n",
              "    }\n",
              "\n",
              "    .colab-df-convert:hover {\n",
              "      background-color: #E2EBFA;\n",
              "      box-shadow: 0px 1px 2px rgba(60, 64, 67, 0.3), 0px 1px 3px 1px rgba(60, 64, 67, 0.15);\n",
              "      fill: #174EA6;\n",
              "    }\n",
              "\n",
              "    .colab-df-buttons div {\n",
              "      margin-bottom: 4px;\n",
              "    }\n",
              "\n",
              "    [theme=dark] .colab-df-convert {\n",
              "      background-color: #3B4455;\n",
              "      fill: #D2E3FC;\n",
              "    }\n",
              "\n",
              "    [theme=dark] .colab-df-convert:hover {\n",
              "      background-color: #434B5C;\n",
              "      box-shadow: 0px 1px 3px 1px rgba(0, 0, 0, 0.15);\n",
              "      filter: drop-shadow(0px 1px 2px rgba(0, 0, 0, 0.3));\n",
              "      fill: #FFFFFF;\n",
              "    }\n",
              "  </style>\n",
              "\n",
              "    <script>\n",
              "      const buttonEl =\n",
              "        document.querySelector('#df-c9079573-645f-428f-9903-4e40cd72fe91 button.colab-df-convert');\n",
              "      buttonEl.style.display =\n",
              "        google.colab.kernel.accessAllowed ? 'block' : 'none';\n",
              "\n",
              "      async function convertToInteractive(key) {\n",
              "        const element = document.querySelector('#df-c9079573-645f-428f-9903-4e40cd72fe91');\n",
              "        const dataTable =\n",
              "          await google.colab.kernel.invokeFunction('convertToInteractive',\n",
              "                                                    [key], {});\n",
              "        if (!dataTable) return;\n",
              "\n",
              "        const docLinkHtml = 'Like what you see? Visit the ' +\n",
              "          '<a target=\"_blank\" href=https://colab.research.google.com/notebooks/data_table.ipynb>data table notebook</a>'\n",
              "          + ' to learn more about interactive tables.';\n",
              "        element.innerHTML = '';\n",
              "        dataTable['output_type'] = 'display_data';\n",
              "        await google.colab.output.renderOutput(dataTable, element);\n",
              "        const docLink = document.createElement('div');\n",
              "        docLink.innerHTML = docLinkHtml;\n",
              "        element.appendChild(docLink);\n",
              "      }\n",
              "    </script>\n",
              "  </div>\n",
              "\n",
              "\n",
              "<div id=\"df-cf4b1ad7-977e-44ff-9c5a-651e3aaa69d5\">\n",
              "  <button class=\"colab-df-quickchart\" onclick=\"quickchart('df-cf4b1ad7-977e-44ff-9c5a-651e3aaa69d5')\"\n",
              "            title=\"Suggest charts\"\n",
              "            style=\"display:none;\">\n",
              "\n",
              "<svg xmlns=\"http://www.w3.org/2000/svg\" height=\"24px\"viewBox=\"0 0 24 24\"\n",
              "     width=\"24px\">\n",
              "    <g>\n",
              "        <path d=\"M19 3H5c-1.1 0-2 .9-2 2v14c0 1.1.9 2 2 2h14c1.1 0 2-.9 2-2V5c0-1.1-.9-2-2-2zM9 17H7v-7h2v7zm4 0h-2V7h2v10zm4 0h-2v-4h2v4z\"/>\n",
              "    </g>\n",
              "</svg>\n",
              "  </button>\n",
              "\n",
              "<style>\n",
              "  .colab-df-quickchart {\n",
              "      --bg-color: #E8F0FE;\n",
              "      --fill-color: #1967D2;\n",
              "      --hover-bg-color: #E2EBFA;\n",
              "      --hover-fill-color: #174EA6;\n",
              "      --disabled-fill-color: #AAA;\n",
              "      --disabled-bg-color: #DDD;\n",
              "  }\n",
              "\n",
              "  [theme=dark] .colab-df-quickchart {\n",
              "      --bg-color: #3B4455;\n",
              "      --fill-color: #D2E3FC;\n",
              "      --hover-bg-color: #434B5C;\n",
              "      --hover-fill-color: #FFFFFF;\n",
              "      --disabled-bg-color: #3B4455;\n",
              "      --disabled-fill-color: #666;\n",
              "  }\n",
              "\n",
              "  .colab-df-quickchart {\n",
              "    background-color: var(--bg-color);\n",
              "    border: none;\n",
              "    border-radius: 50%;\n",
              "    cursor: pointer;\n",
              "    display: none;\n",
              "    fill: var(--fill-color);\n",
              "    height: 32px;\n",
              "    padding: 0;\n",
              "    width: 32px;\n",
              "  }\n",
              "\n",
              "  .colab-df-quickchart:hover {\n",
              "    background-color: var(--hover-bg-color);\n",
              "    box-shadow: 0 1px 2px rgba(60, 64, 67, 0.3), 0 1px 3px 1px rgba(60, 64, 67, 0.15);\n",
              "    fill: var(--button-hover-fill-color);\n",
              "  }\n",
              "\n",
              "  .colab-df-quickchart-complete:disabled,\n",
              "  .colab-df-quickchart-complete:disabled:hover {\n",
              "    background-color: var(--disabled-bg-color);\n",
              "    fill: var(--disabled-fill-color);\n",
              "    box-shadow: none;\n",
              "  }\n",
              "\n",
              "  .colab-df-spinner {\n",
              "    border: 2px solid var(--fill-color);\n",
              "    border-color: transparent;\n",
              "    border-bottom-color: var(--fill-color);\n",
              "    animation:\n",
              "      spin 1s steps(1) infinite;\n",
              "  }\n",
              "\n",
              "  @keyframes spin {\n",
              "    0% {\n",
              "      border-color: transparent;\n",
              "      border-bottom-color: var(--fill-color);\n",
              "      border-left-color: var(--fill-color);\n",
              "    }\n",
              "    20% {\n",
              "      border-color: transparent;\n",
              "      border-left-color: var(--fill-color);\n",
              "      border-top-color: var(--fill-color);\n",
              "    }\n",
              "    30% {\n",
              "      border-color: transparent;\n",
              "      border-left-color: var(--fill-color);\n",
              "      border-top-color: var(--fill-color);\n",
              "      border-right-color: var(--fill-color);\n",
              "    }\n",
              "    40% {\n",
              "      border-color: transparent;\n",
              "      border-right-color: var(--fill-color);\n",
              "      border-top-color: var(--fill-color);\n",
              "    }\n",
              "    60% {\n",
              "      border-color: transparent;\n",
              "      border-right-color: var(--fill-color);\n",
              "    }\n",
              "    80% {\n",
              "      border-color: transparent;\n",
              "      border-right-color: var(--fill-color);\n",
              "      border-bottom-color: var(--fill-color);\n",
              "    }\n",
              "    90% {\n",
              "      border-color: transparent;\n",
              "      border-bottom-color: var(--fill-color);\n",
              "    }\n",
              "  }\n",
              "</style>\n",
              "\n",
              "  <script>\n",
              "    async function quickchart(key) {\n",
              "      const quickchartButtonEl =\n",
              "        document.querySelector('#' + key + ' button');\n",
              "      quickchartButtonEl.disabled = true;  // To prevent multiple clicks.\n",
              "      quickchartButtonEl.classList.add('colab-df-spinner');\n",
              "      try {\n",
              "        const charts = await google.colab.kernel.invokeFunction(\n",
              "            'suggestCharts', [key], {});\n",
              "      } catch (error) {\n",
              "        console.error('Error during call to suggestCharts:', error);\n",
              "      }\n",
              "      quickchartButtonEl.classList.remove('colab-df-spinner');\n",
              "      quickchartButtonEl.classList.add('colab-df-quickchart-complete');\n",
              "    }\n",
              "    (() => {\n",
              "      let quickchartButtonEl =\n",
              "        document.querySelector('#df-cf4b1ad7-977e-44ff-9c5a-651e3aaa69d5 button');\n",
              "      quickchartButtonEl.style.display =\n",
              "        google.colab.kernel.accessAllowed ? 'block' : 'none';\n",
              "    })();\n",
              "  </script>\n",
              "</div>\n",
              "    </div>\n",
              "  </div>\n"
            ],
            "application/vnd.google.colaboratory.intrinsic+json": {
              "type": "dataframe",
              "summary": "{\n  \"name\": \"data_filtered[data_filtered['DD'] == 1]\",\n  \"rows\": 4,\n  \"fields\": [\n    {\n      \"column\": \"DD type\",\n      \"properties\": {\n        \"dtype\": \"string\",\n        \"num_unique_values\": 4,\n        \"samples\": [\n          \"Reading, Math\",\n          \"Reading, Writing, Math\",\n          \"Reading\"\n        ],\n        \"semantic_type\": \"\",\n        \"description\": \"\"\n      }\n    },\n    {\n      \"column\": \"Identifiers\",\n      \"properties\": {\n        \"dtype\": \"number\",\n        \"std\": 140,\n        \"min\": 9,\n        \"max\": 299,\n        \"num_unique_values\": 3,\n        \"samples\": [\n          299,\n          45,\n          9\n        ],\n        \"semantic_type\": \"\",\n        \"description\": \"\"\n      }\n    }\n  ]\n}"
            }
          },
          "metadata": {},
          "execution_count": 60
        }
      ]
    },
    {
      "cell_type": "code",
      "source": [
        "sns.displot(data_filtered[data_filtered['DD'] == 1]['Basic_Demos,Age'],\n",
        "             binwidth = 1)\n",
        "pl.title('Age distribution in the DD group');"
      ],
      "metadata": {
        "id": "uT9jzc6Y75CJ",
        "outputId": "793a3f2b-ccb1-4c66-b6bc-1ec1a4c52ccd",
        "colab": {
          "base_uri": "https://localhost:8080/",
          "height": 523
        }
      },
      "execution_count": null,
      "outputs": [
        {
          "output_type": "display_data",
          "data": {
            "text/plain": [
              "<Figure size 500x500 with 1 Axes>"
            ],
            "image/png": "[encoded data removed]"
          },
          "metadata": {}
        }
      ]
    },
    {
      "cell_type": "code",
      "source": [
        "print('Number of DD participants: ', data_filtered[data_filtered['DD'] == 1].shape[0])\n",
        "print('Number of DD participants younger than 8 y.o.: ', data_filtered[(data_filtered['DD'] == 1) & (data_filtered['Basic_Demos,Age'] < 8)].shape[0])\n",
        "print('Number of DD participants older than 8 y.o.: ', data_filtered[(data_filtered['DD'] == 1) & (data_filtered['Basic_Demos,Age'] >= 8)].shape[0])"
      ],
      "metadata": {
        "id": "njhhsdZfufnV",
        "outputId": "312f5135-0b47-4d33-a8e3-dc8af454b7a7",
        "colab": {
          "base_uri": "https://localhost:8080/"
        }
      },
      "execution_count": null,
      "outputs": [
        {
          "output_type": "stream",
          "name": "stdout",
          "text": [
            "Number of DD participants:  362\n",
            "Number of DD participants younger than 8 y.o.:  102\n",
            "Number of DD participants older than 8 y.o.:  260\n"
          ]
        }
      ]
    },
    {
      "cell_type": "code",
      "source": [
        "# testing the difference between males and females in DD subset younger than 8 y.o.\n",
        "subset = data_filtered[(data_filtered['DD'] == 1) & (data_filtered['Basic_Demos,Age'] < 7)]\n",
        "subset_males = subset[subset['Basic_Demos,Sex'] == 0]\n",
        "subset_females = subset[subset['Basic_Demos,Sex'] == 1]\n",
        "subset_males_letters = subset_males[subset_males['CTOPP,CTOPP_RL_R'] != '.']\n",
        "subset_males_digits = subset_males[subset_males['CTOPP,CTOPP_RD_R'] != '.']\n",
        "subset_females_letters = subset_females[subset_females['CTOPP,CTOPP_RL_R'] != '.']\n",
        "subset_females_digits = subset_females[subset_females['CTOPP,CTOPP_RD_R'] != '.']\n",
        "\n",
        "males_letters = subset_males_letters['CTOPP,CTOPP_RL_R'].astype(int).values\n",
        "males_digits = subset_males_digits['CTOPP,CTOPP_RD_R'].astype(int).values\n",
        "females_letters = subset_females_letters['CTOPP,CTOPP_RL_R'].astype(int).values\n",
        "females_digits = subset_females_digits['CTOPP,CTOPP_RD_R'].astype(int).values"
      ],
      "metadata": {
        "id": "uMdeUzJHvFbU"
      },
      "execution_count": null,
      "outputs": []
    },
    {
      "cell_type": "code",
      "source": [
        "# Perform Welch's t-test\n",
        "# CTOPP letters\n",
        "t_stat, p_value = stats.ttest_ind(males_letters, females_letters, equal_var=False)\n",
        "\n",
        "# Print results\n",
        "print(\"Welch's t-test results:\")\n",
        "print(f\"T-statistic: {t_stat}\")\n",
        "print(f\"P-value: {p_value}\")\n",
        "\n",
        "# Interpret results\n",
        "if p_value < 0.05:\n",
        "    print(\"The difference in scores between males and females is statistically significant.\")\n",
        "else:\n",
        "    print(\"There is no statistically significant difference in scores between males and females.\")"
      ],
      "metadata": {
        "id": "mFkGaT2M1yLh",
        "outputId": "2f7d40b9-6146-4a6a-e83e-c0719625e07e",
        "colab": {
          "base_uri": "https://localhost:8080/"
        }
      },
      "execution_count": null,
      "outputs": [
        {
          "output_type": "stream",
          "name": "stdout",
          "text": [
            "Welch's t-test results:\n",
            "T-statistic: -0.9533340039450828\n",
            "P-value: 0.3491192572870345\n",
            "There is no statistically significant difference in scores between males and females.\n"
          ]
        }
      ]
    },
    {
      "cell_type": "code",
      "source": [
        "# Perform Welch's t-test\n",
        "# CTOPP digits\n",
        "t_stat, p_value = stats.ttest_ind(males_digits, females_digits, equal_var=False)\n",
        "\n",
        "# Print results\n",
        "print(\"Welch's t-test results:\")\n",
        "print(f\"T-statistic: {t_stat}\")\n",
        "print(f\"P-value: {p_value}\")\n",
        "\n",
        "# Interpret results\n",
        "if p_value < 0.05:\n",
        "    print(\"The difference in scores between males and females is statistically significant.\")\n",
        "else:\n",
        "    print(\"There is no statistically significant difference in scores between males and females.\")"
      ],
      "metadata": {
        "id": "U8KPsakH1yOD",
        "outputId": "dc30e0c5-8b11-404c-e183-897f450771f5",
        "colab": {
          "base_uri": "https://localhost:8080/"
        }
      },
      "execution_count": null,
      "outputs": [
        {
          "output_type": "stream",
          "name": "stdout",
          "text": [
            "Welch's t-test results:\n",
            "T-statistic: -1.051977476649695\n",
            "P-value: 0.3072900235825161\n",
            "There is no statistically significant difference in scores between males and females.\n"
          ]
        }
      ]
    },
    {
      "cell_type": "code",
      "source": [
        "# testing the difference between males and females in DD subset\n",
        "subset = data_filtered[data_filtered['DD'] == 1]\n",
        "subset_males = subset[subset['Basic_Demos,Sex'] == 0]\n",
        "subset_females = subset[subset['Basic_Demos,Sex'] == 1]\n",
        "subset_males_letters = subset_males[subset_males['CTOPP,CTOPP_RL_R'] != '.']\n",
        "subset_males_digits = subset_males[subset_males['CTOPP,CTOPP_RD_R'] != '.']\n",
        "subset_females_letters = subset_females[subset_females['CTOPP,CTOPP_RL_R'] != '.']\n",
        "subset_females_digits = subset_females[subset_females['CTOPP,CTOPP_RD_R'] != '.']\n",
        "\n",
        "males_letters = subset_males_letters['CTOPP,CTOPP_RL_R'].astype(int).values\n",
        "males_digits = subset_males_digits['CTOPP,CTOPP_RD_R'].astype(int).values\n",
        "females_letters = subset_females_letters['CTOPP,CTOPP_RL_R'].astype(int).values\n",
        "females_digits = subset_females_digits['CTOPP,CTOPP_RD_R'].astype(int).values"
      ],
      "metadata": {
        "id": "exiPD9LURHhY"
      },
      "execution_count": null,
      "outputs": []
    },
    {
      "cell_type": "code",
      "source": [
        "# Perform Welch's t-test\n",
        "# CTOPP letters\n",
        "t_stat, p_value = stats.ttest_ind(males_letters, females_letters, equal_var=False)\n",
        "\n",
        "# Print results\n",
        "print(\"Welch's t-test results:\")\n",
        "print(f\"T-statistic: {t_stat}\")\n",
        "print(f\"P-value: {p_value}\")\n",
        "\n",
        "# Interpret results\n",
        "if p_value < 0.05:\n",
        "    print(\"The difference in scores between males and females is statistically significant.\")\n",
        "else:\n",
        "    print(\"There is no statistically significant difference in scores between males and females.\")\n"
      ],
      "metadata": {
        "id": "GBD4vE09UvV2",
        "outputId": "8f9c4a7c-4333-4a51-c55c-dfacffb7683e",
        "colab": {
          "base_uri": "https://localhost:8080/"
        }
      },
      "execution_count": null,
      "outputs": [
        {
          "output_type": "stream",
          "name": "stdout",
          "text": [
            "Welch's t-test results:\n",
            "T-statistic: -0.8760792212277849\n",
            "P-value: 0.38176295985599185\n",
            "There is no statistically significant difference in scores between males and females.\n"
          ]
        }
      ]
    },
    {
      "cell_type": "code",
      "source": [
        "# Perform Welch's t-test\n",
        "# CTOPP digits\n",
        "t_stat, p_value = stats.ttest_ind(males_digits, females_digits, equal_var=False)\n",
        "\n",
        "# Print results\n",
        "print(\"Welch's t-test results:\")\n",
        "print(f\"T-statistic: {t_stat}\")\n",
        "print(f\"P-value: {p_value}\")\n",
        "\n",
        "# Interpret results\n",
        "if p_value < 0.05:\n",
        "    print(\"The difference in scores between males and females is statistically significant.\")\n",
        "else:\n",
        "    print(\"There is no statistically significant difference in scores between males and females.\")"
      ],
      "metadata": {
        "id": "SJZDJQquVas2",
        "outputId": "422ec9b6-1f74-454a-c58d-3bf805e06a29",
        "colab": {
          "base_uri": "https://localhost:8080/"
        }
      },
      "execution_count": null,
      "outputs": [
        {
          "output_type": "stream",
          "name": "stdout",
          "text": [
            "Welch's t-test results:\n",
            "T-statistic: -1.4729884161052258\n",
            "P-value: 0.14220410121734603\n",
            "There is no statistically significant difference in scores between males and females.\n"
          ]
        }
      ]
    },
    {
      "cell_type": "code",
      "source": [
        "subset1 = subset[subset['CTOPP,CTOPP_RL_R'] != '.']\n",
        "subset1['CTOPP,CTOPP_RL_R'] = subset1['CTOPP,CTOPP_RL_R'].astype(int).values\n",
        "sns.scatterplot(data=subset1,\n",
        "                x='Basic_Demos,Age',\n",
        "                y='CTOPP,CTOPP_RL_R');\n",
        "pl.title('The distribution of raw scores on rapid letters naming subset within the CTOPP in the DD group');"
      ],
      "metadata": {
        "id": "dGlBoIha1cjy",
        "outputId": "4ccd5524-6e2f-44cc-eb6c-a227cd647191",
        "colab": {
          "base_uri": "https://localhost:8080/",
          "height": 584
        }
      },
      "execution_count": null,
      "outputs": [
        {
          "output_type": "stream",
          "name": "stderr",
          "text": [
            "<ipython-input-82-ccf3a593be78>:2: SettingWithCopyWarning: \n",
            "A value is trying to be set on a copy of a slice from a DataFrame.\n",
            "Try using .loc[row_indexer,col_indexer] = value instead\n",
            "\n",
            "See the caveats in the documentation: https://pandas.pydata.org/pandas-docs/stable/user_guide/indexing.html#returning-a-view-versus-a-copy\n",
            "  subset1['CTOPP,CTOPP_RL_R'] = subset1['CTOPP,CTOPP_RL_R'].astype(int).values\n"
          ]
        },
        {
          "output_type": "display_data",
          "data": {
            "text/plain": [
              "<Figure size 640x480 with 1 Axes>"
            ],
            "image/png": "[encoded data removed]"
          },
          "metadata": {}
        }
      ]
    },
    {
      "cell_type": "code",
      "source": [
        "subset2 = subset[subset['CTOPP,CTOPP_RD_R'] != '.']\n",
        "subset2['CTOPP,CTOPP_RD_R'] = subset2['CTOPP,CTOPP_RD_R'].astype(int).values\n",
        "sns.scatterplot(data=subset2,\n",
        "                x='Basic_Demos,Age',\n",
        "                y='CTOPP,CTOPP_RD_R');\n",
        "pl.title('The distribution of raw scores on rapid digits naming subset within the CTOPP in the DD group');"
      ],
      "metadata": {
        "id": "L6QjWNJK2jJx",
        "outputId": "20d74e21-a9c5-4f1b-c63d-37f8b98aeb1e",
        "colab": {
          "base_uri": "https://localhost:8080/",
          "height": 584
        }
      },
      "execution_count": null,
      "outputs": [
        {
          "output_type": "stream",
          "name": "stderr",
          "text": [
            "<ipython-input-85-4d2c296c58b2>:2: SettingWithCopyWarning: \n",
            "A value is trying to be set on a copy of a slice from a DataFrame.\n",
            "Try using .loc[row_indexer,col_indexer] = value instead\n",
            "\n",
            "See the caveats in the documentation: https://pandas.pydata.org/pandas-docs/stable/user_guide/indexing.html#returning-a-view-versus-a-copy\n",
            "  subset2['CTOPP,CTOPP_RD_R'] = subset2['CTOPP,CTOPP_RD_R'].astype(int).values\n"
          ]
        },
        {
          "output_type": "display_data",
          "data": {
            "text/plain": [
              "<Figure size 640x480 with 1 Axes>"
            ],
            "image/png": "[encoded data removed]"
          },
          "metadata": {}
        }
      ]
    },
    {
      "cell_type": "code",
      "source": [],
      "metadata": {
        "id": "CQ50c40C2ZdK"
      },
      "execution_count": null,
      "outputs": []
    },
    {
      "cell_type": "code",
      "source": [
        "data_filtered.to_csv(\n",
        "    Path(working_path).joinpath('data_filtered_done.csv')\n",
        ")\n",
        "data_filtered['Identifiers'].to_csv(\n",
        "    Path(working_path).joinpath('ids.csv')\n",
        ")"
      ],
      "metadata": {
        "id": "uz36YChcWxi9"
      },
      "execution_count": null,
      "outputs": []
    }
  ]
}