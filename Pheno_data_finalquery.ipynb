{
  "nbformat": 4,
  "nbformat_minor": 0,
  "metadata": {
    "colab": {
      "provenance": [],
      "toc_visible": true,
      "authorship_tag": "ABX9TyNphqS8ggc84DHGxv1uVPZ0",
      "include_colab_link": true
    },
    "kernelspec": {
      "name": "python3",
      "display_name": "Python 3"
    },
    "language_info": {
      "name": "python"
    }
  },
  "cells": [
    {
      "cell_type": "markdown",
      "metadata": {
        "id": "view-in-github",
        "colab_type": "text"
      },
      "source": [
        "<a href=\"https://colab.research.google.com/github/cristinarainich/Child-Mind-Institute-Project/blob/main/Pheno_data_finalquery.ipynb\" target=\"_parent\"><img src=\"https://colab.research.google.com/assets/colab-badge.svg\" alt=\"Open In Colab\"/></a>"
      ]
    },
    {
      "cell_type": "markdown",
      "source": [
        "**Updated** 02/10/2024 17:00"
      ],
      "metadata": {
        "id": "R1aQIcWPJsdR"
      }
    },
    {
      "cell_type": "code",
      "execution_count": 1,
      "metadata": {
        "colab": {
          "base_uri": "https://localhost:8080/"
        },
        "id": "7sLM_aBE1XSO",
        "outputId": "d82af961-b0aa-4905-833f-28b6a9b8a2a0"
      },
      "outputs": [
        {
          "output_type": "stream",
          "name": "stdout",
          "text": [
            "Mounted at /content/drive\n"
          ]
        }
      ],
      "source": [
        "from google.colab import drive\n",
        "drive.mount('/content/drive')"
      ]
    },
    {
      "cell_type": "code",
      "source": [
        "from pathlib import Path\n",
        "import pandas as pd\n",
        "import numpy as np\n",
        "import math\n",
        "import pylab as pl\n",
        "import seaborn as sns\n",
        "from scipy import stats\n",
        "%pylab inline"
      ],
      "metadata": {
        "colab": {
          "base_uri": "https://localhost:8080/"
        },
        "id": "aaZC6otb1s12",
        "outputId": "346143fc-b744-4720-b57e-6d1fb6407483"
      },
      "execution_count": 2,
      "outputs": [
        {
          "output_type": "stream",
          "name": "stdout",
          "text": [
            "Populating the interactive namespace from numpy and matplotlib\n"
          ]
        }
      ]
    },
    {
      "cell_type": "code",
      "source": [
        "sns.set()"
      ],
      "metadata": {
        "id": "lAeNDY5uJvVf"
      },
      "execution_count": 3,
      "outputs": []
    },
    {
      "cell_type": "code",
      "source": [
        "working_path = Path('/content/drive/MyDrive/KKNV')"
      ],
      "metadata": {
        "id": "aonUk2xG1llO"
      },
      "execution_count": 4,
      "outputs": []
    },
    {
      "cell_type": "code",
      "source": [
        "cd /content/drive/MyDrive/KKNV"
      ],
      "metadata": {
        "colab": {
          "base_uri": "https://localhost:8080/"
        },
        "id": "z9Xbaxjz1yH3",
        "outputId": "86d90dbe-0066-4baa-f053-04d98a05b316"
      },
      "execution_count": 5,
      "outputs": [
        {
          "output_type": "stream",
          "name": "stdout",
          "text": [
            "/content/drive/MyDrive/KKNV\n"
          ]
        }
      ]
    },
    {
      "cell_type": "code",
      "source": [
        "!ls /content/drive/MyDrive/KKNV"
      ],
      "metadata": {
        "colab": {
          "base_uri": "https://localhost:8080/"
        },
        "id": "5zZW_4I4NS1u",
        "outputId": "edede603-3561-4b54-d1e3-78fe35b480c1"
      },
      "execution_count": 6,
      "outputs": [
        {
          "output_type": "stream",
          "name": "stdout",
          "text": [
            " 11a5490b-0e2d-4fd7-b54e-e2ebd0a72df6.zip   Pilot.csv\n",
            " comorbidity\t\t\t\t   'Pilot reading task.gsheet'\n",
            " data\t\t\t\t\t    protocols\n",
            " data26.02.2024.csv\t\t\t    Query1.csv\n",
            " data_filtered_done.csv\t\t\t   'Query 1.Dot values.csv'\n",
            "'files sharing.docx'\t\t\t    Query2.csv\n",
            " ids.csv\t\t\t\t   'Query 2.Dot values.csv'\n",
            " iq_overview.csv\t\t\t    Query_final.csv\n",
            " iq_overview.gsheet\t\t\t    query_September2024.csv\n",
            "'JC 1.10 AF.pptx'\t\t\t    sites.csv\n",
            " old\t\t\t\t\t    tasks\n",
            " Pheno.csv\t\t\t\t    Temporal_Frequency_Staircase_V3_gamified_L2R_Ilia.eve\n",
            " pheno_mri.csv\n"
          ]
        }
      ]
    },
    {
      "cell_type": "markdown",
      "source": [
        "## Pipeline to make the data convinient to use"
      ],
      "metadata": {
        "id": "nLkYOzzUGnRy"
      }
    },
    {
      "cell_type": "markdown",
      "source": [
        "Here we are going to use the full and the most recent dataset."
      ],
      "metadata": {
        "id": "D2gWtrKvyMr-"
      }
    },
    {
      "cell_type": "code",
      "source": [
        "# our dataset\n",
        "data = pd.read_csv(\n",
        "    working_path.joinpath('query_September2024.csv'),\n",
        "    index_col=None,\n",
        "    low_memory=False\n",
        ")"
      ],
      "metadata": {
        "id": "V4z2UsT-zTlp"
      },
      "execution_count": 220,
      "outputs": []
    },
    {
      "cell_type": "code",
      "source": [
        "data.shape"
      ],
      "metadata": {
        "id": "Y_RRV98FUjpE",
        "outputId": "75b25eec-f1d4-4a93-ddc3-6a2f6eb02a07",
        "colab": {
          "base_uri": "https://localhost:8080/"
        }
      },
      "execution_count": 221,
      "outputs": [
        {
          "output_type": "execute_result",
          "data": {
            "text/plain": [
              "(6687, 791)"
            ]
          },
          "metadata": {},
          "execution_count": 221
        }
      ]
    },
    {
      "cell_type": "code",
      "source": [
        "ids = data.Identifiers.values\n",
        "new_ids = []\n",
        "for i in ids:\n",
        "  new_i = i.replace(',assessment', '')\n",
        "  new_ids.append(new_i)\n",
        "print(len(ids))\n",
        "print(len(new_ids))\n",
        "\n",
        "data['Identifiers'] = new_ids"
      ],
      "metadata": {
        "id": "jjGb6Cr0HxgJ",
        "outputId": "32d1877d-d2db-4d4b-ada6-a3084054659d",
        "colab": {
          "base_uri": "https://localhost:8080/"
        }
      },
      "execution_count": 222,
      "outputs": [
        {
          "output_type": "stream",
          "name": "stdout",
          "text": [
            "6687\n",
            "6687\n"
          ]
        }
      ]
    },
    {
      "cell_type": "code",
      "source": [
        "data = data.drop(labels=0, axis=0)"
      ],
      "metadata": {
        "id": "guq6tU-bH1Z6"
      },
      "execution_count": 223,
      "outputs": []
    },
    {
      "cell_type": "code",
      "source": [
        "data.head()"
      ],
      "metadata": {
        "id": "G_UNZ36Kntli",
        "outputId": "7471adbf-ac36-4918-f16d-0618864ee42e",
        "colab": {
          "base_uri": "https://localhost:8080/",
          "height": 256
        }
      },
      "execution_count": 224,
      "outputs": [
        {
          "output_type": "execute_result",
          "data": {
            "text/plain": [
              "    Identifiers Barratt,Barratt_P1_Edu Barratt,Barratt_P1_Occ  \\\n",
              "1  NDARAA075AMK                     21                     30   \n",
              "2  NDARAA112DMH                     18                     30   \n",
              "3  NDARAA117NEJ                     12                      5   \n",
              "4  NDARAA306NT2                     21                     15   \n",
              "5  NDARAA504CRN                     21                     40   \n",
              "\n",
              "  Barratt,Barratt_P2_Edu Barratt,Barratt_P2_Occ Barratt,Barratt_Total  \\\n",
              "1                     21                     45                  58.5   \n",
              "2                     12                     15                  37.5   \n",
              "3                      3                      5                  12.5   \n",
              "4                     15                     15                    33   \n",
              "5                    NaN                    NaN                    61   \n",
              "\n",
              "  Barratt,Barratt_Total_Edu Barratt,Barratt_Total_Occ  \\\n",
              "1                        21                      37.5   \n",
              "2                        15                      22.5   \n",
              "3                       7.5                         5   \n",
              "4                        18                        15   \n",
              "5                        21                        40   \n",
              "\n",
              "  Barratt,financialsupport Basic_Demos,Age  ... WISC_Remote,WISC_VCI_Sum  \\\n",
              "1                        3         6.72804  ...                        .   \n",
              "2                        3        5.545744  ...                        .   \n",
              "3                        3        7.475929  ...                        .   \n",
              "4                        3       21.216746  ...                        .   \n",
              "5                        1        9.165297  ...                        .   \n",
              "\n",
              "  WISC_Remote,WISC_VP_Raw WISC_Remote,WISC_VP_Scaled  \\\n",
              "1                       .                          .   \n",
              "2                       .                          .   \n",
              "3                       .                          .   \n",
              "4                       .                          .   \n",
              "5                       .                          .   \n",
              "\n",
              "  WISC_Remote,WISC_Vocab_Raw WISC_Remote,WISC_Vocab_Scaled  \\\n",
              "1                          .                             .   \n",
              "2                          .                             .   \n",
              "3                          .                             .   \n",
              "4                          .                             .   \n",
              "5                          .                             .   \n",
              "\n",
              "  WISC_Remote,WISC_WMI WISC_Remote,WISC_WMI_Percentile  \\\n",
              "1                    .                               .   \n",
              "2                    .                               .   \n",
              "3                    .                               .   \n",
              "4                    .                               .   \n",
              "5                    .                               .   \n",
              "\n",
              "  WISC_Remote,WISC_WMI_Sum WISC_Remote,WISC_complete  \\\n",
              "1                        .                         .   \n",
              "2                        .                         .   \n",
              "3                        .                         .   \n",
              "4                        .                         .   \n",
              "5                        .                         .   \n",
              "\n",
              "  WISC_Remote,WISC_incomplete_reason  \n",
              "1                                  .  \n",
              "2                                  .  \n",
              "3                                  .  \n",
              "4                                  .  \n",
              "5                                  .  \n",
              "\n",
              "[5 rows x 791 columns]"
            ],
            "text/html": [
              "\n",
              "  <div id=\"df-fd384f11-fa68-425a-917a-194bb711872c\" class=\"colab-df-container\">\n",
              "    <div>\n",
              "<style scoped>\n",
              "    .dataframe tbody tr th:only-of-type {\n",
              "        vertical-align: middle;\n",
              "    }\n",
              "\n",
              "    .dataframe tbody tr th {\n",
              "        vertical-align: top;\n",
              "    }\n",
              "\n",
              "    .dataframe thead th {\n",
              "        text-align: right;\n",
              "    }\n",
              "</style>\n",
              "<table border=\"1\" class=\"dataframe\">\n",
              "  <thead>\n",
              "    <tr style=\"text-align: right;\">\n",
              "      <th></th>\n",
              "      <th>Identifiers</th>\n",
              "      <th>Barratt,Barratt_P1_Edu</th>\n",
              "      <th>Barratt,Barratt_P1_Occ</th>\n",
              "      <th>Barratt,Barratt_P2_Edu</th>\n",
              "      <th>Barratt,Barratt_P2_Occ</th>\n",
              "      <th>Barratt,Barratt_Total</th>\n",
              "      <th>Barratt,Barratt_Total_Edu</th>\n",
              "      <th>Barratt,Barratt_Total_Occ</th>\n",
              "      <th>Barratt,financialsupport</th>\n",
              "      <th>Basic_Demos,Age</th>\n",
              "      <th>...</th>\n",
              "      <th>WISC_Remote,WISC_VCI_Sum</th>\n",
              "      <th>WISC_Remote,WISC_VP_Raw</th>\n",
              "      <th>WISC_Remote,WISC_VP_Scaled</th>\n",
              "      <th>WISC_Remote,WISC_Vocab_Raw</th>\n",
              "      <th>WISC_Remote,WISC_Vocab_Scaled</th>\n",
              "      <th>WISC_Remote,WISC_WMI</th>\n",
              "      <th>WISC_Remote,WISC_WMI_Percentile</th>\n",
              "      <th>WISC_Remote,WISC_WMI_Sum</th>\n",
              "      <th>WISC_Remote,WISC_complete</th>\n",
              "      <th>WISC_Remote,WISC_incomplete_reason</th>\n",
              "    </tr>\n",
              "  </thead>\n",
              "  <tbody>\n",
              "    <tr>\n",
              "      <th>1</th>\n",
              "      <td>NDARAA075AMK</td>\n",
              "      <td>21</td>\n",
              "      <td>30</td>\n",
              "      <td>21</td>\n",
              "      <td>45</td>\n",
              "      <td>58.5</td>\n",
              "      <td>21</td>\n",
              "      <td>37.5</td>\n",
              "      <td>3</td>\n",
              "      <td>6.72804</td>\n",
              "      <td>...</td>\n",
              "      <td>.</td>\n",
              "      <td>.</td>\n",
              "      <td>.</td>\n",
              "      <td>.</td>\n",
              "      <td>.</td>\n",
              "      <td>.</td>\n",
              "      <td>.</td>\n",
              "      <td>.</td>\n",
              "      <td>.</td>\n",
              "      <td>.</td>\n",
              "    </tr>\n",
              "    <tr>\n",
              "      <th>2</th>\n",
              "      <td>NDARAA112DMH</td>\n",
              "      <td>18</td>\n",
              "      <td>30</td>\n",
              "      <td>12</td>\n",
              "      <td>15</td>\n",
              "      <td>37.5</td>\n",
              "      <td>15</td>\n",
              "      <td>22.5</td>\n",
              "      <td>3</td>\n",
              "      <td>5.545744</td>\n",
              "      <td>...</td>\n",
              "      <td>.</td>\n",
              "      <td>.</td>\n",
              "      <td>.</td>\n",
              "      <td>.</td>\n",
              "      <td>.</td>\n",
              "      <td>.</td>\n",
              "      <td>.</td>\n",
              "      <td>.</td>\n",
              "      <td>.</td>\n",
              "      <td>.</td>\n",
              "    </tr>\n",
              "    <tr>\n",
              "      <th>3</th>\n",
              "      <td>NDARAA117NEJ</td>\n",
              "      <td>12</td>\n",
              "      <td>5</td>\n",
              "      <td>3</td>\n",
              "      <td>5</td>\n",
              "      <td>12.5</td>\n",
              "      <td>7.5</td>\n",
              "      <td>5</td>\n",
              "      <td>3</td>\n",
              "      <td>7.475929</td>\n",
              "      <td>...</td>\n",
              "      <td>.</td>\n",
              "      <td>.</td>\n",
              "      <td>.</td>\n",
              "      <td>.</td>\n",
              "      <td>.</td>\n",
              "      <td>.</td>\n",
              "      <td>.</td>\n",
              "      <td>.</td>\n",
              "      <td>.</td>\n",
              "      <td>.</td>\n",
              "    </tr>\n",
              "    <tr>\n",
              "      <th>4</th>\n",
              "      <td>NDARAA306NT2</td>\n",
              "      <td>21</td>\n",
              "      <td>15</td>\n",
              "      <td>15</td>\n",
              "      <td>15</td>\n",
              "      <td>33</td>\n",
              "      <td>18</td>\n",
              "      <td>15</td>\n",
              "      <td>3</td>\n",
              "      <td>21.216746</td>\n",
              "      <td>...</td>\n",
              "      <td>.</td>\n",
              "      <td>.</td>\n",
              "      <td>.</td>\n",
              "      <td>.</td>\n",
              "      <td>.</td>\n",
              "      <td>.</td>\n",
              "      <td>.</td>\n",
              "      <td>.</td>\n",
              "      <td>.</td>\n",
              "      <td>.</td>\n",
              "    </tr>\n",
              "    <tr>\n",
              "      <th>5</th>\n",
              "      <td>NDARAA504CRN</td>\n",
              "      <td>21</td>\n",
              "      <td>40</td>\n",
              "      <td>NaN</td>\n",
              "      <td>NaN</td>\n",
              "      <td>61</td>\n",
              "      <td>21</td>\n",
              "      <td>40</td>\n",
              "      <td>1</td>\n",
              "      <td>9.165297</td>\n",
              "      <td>...</td>\n",
              "      <td>.</td>\n",
              "      <td>.</td>\n",
              "      <td>.</td>\n",
              "      <td>.</td>\n",
              "      <td>.</td>\n",
              "      <td>.</td>\n",
              "      <td>.</td>\n",
              "      <td>.</td>\n",
              "      <td>.</td>\n",
              "      <td>.</td>\n",
              "    </tr>\n",
              "  </tbody>\n",
              "</table>\n",
              "<p>5 rows × 791 columns</p>\n",
              "</div>\n",
              "    <div class=\"colab-df-buttons\">\n",
              "\n",
              "  <div class=\"colab-df-container\">\n",
              "    <button class=\"colab-df-convert\" onclick=\"convertToInteractive('df-fd384f11-fa68-425a-917a-194bb711872c')\"\n",
              "            title=\"Convert this dataframe to an interactive table.\"\n",
              "            style=\"display:none;\">\n",
              "\n",
              "  <svg xmlns=\"http://www.w3.org/2000/svg\" height=\"24px\" viewBox=\"0 -960 960 960\">\n",
              "    <path d=\"M120-120v-720h720v720H120Zm60-500h600v-160H180v160Zm220 220h160v-160H400v160Zm0 220h160v-160H400v160ZM180-400h160v-160H180v160Zm440 0h160v-160H620v160ZM180-180h160v-160H180v160Zm440 0h160v-160H620v160Z\"/>\n",
              "  </svg>\n",
              "    </button>\n",
              "\n",
              "  <style>\n",
              "    .colab-df-container {\n",
              "      display:flex;\n",
              "      gap: 12px;\n",
              "    }\n",
              "\n",
              "    .colab-df-convert {\n",
              "      background-color: #E8F0FE;\n",
              "      border: none;\n",
              "      border-radius: 50%;\n",
              "      cursor: pointer;\n",
              "      display: none;\n",
              "      fill: #1967D2;\n",
              "      height: 32px;\n",
              "      padding: 0 0 0 0;\n",
              "      width: 32px;\n",
              "    }\n",
              "\n",
              "    .colab-df-convert:hover {\n",
              "      background-color: #E2EBFA;\n",
              "      box-shadow: 0px 1px 2px rgba(60, 64, 67, 0.3), 0px 1px 3px 1px rgba(60, 64, 67, 0.15);\n",
              "      fill: #174EA6;\n",
              "    }\n",
              "\n",
              "    .colab-df-buttons div {\n",
              "      margin-bottom: 4px;\n",
              "    }\n",
              "\n",
              "    [theme=dark] .colab-df-convert {\n",
              "      background-color: #3B4455;\n",
              "      fill: #D2E3FC;\n",
              "    }\n",
              "\n",
              "    [theme=dark] .colab-df-convert:hover {\n",
              "      background-color: #434B5C;\n",
              "      box-shadow: 0px 1px 3px 1px rgba(0, 0, 0, 0.15);\n",
              "      filter: drop-shadow(0px 1px 2px rgba(0, 0, 0, 0.3));\n",
              "      fill: #FFFFFF;\n",
              "    }\n",
              "  </style>\n",
              "\n",
              "    <script>\n",
              "      const buttonEl =\n",
              "        document.querySelector('#df-fd384f11-fa68-425a-917a-194bb711872c button.colab-df-convert');\n",
              "      buttonEl.style.display =\n",
              "        google.colab.kernel.accessAllowed ? 'block' : 'none';\n",
              "\n",
              "      async function convertToInteractive(key) {\n",
              "        const element = document.querySelector('#df-fd384f11-fa68-425a-917a-194bb711872c');\n",
              "        const dataTable =\n",
              "          await google.colab.kernel.invokeFunction('convertToInteractive',\n",
              "                                                    [key], {});\n",
              "        if (!dataTable) return;\n",
              "\n",
              "        const docLinkHtml = 'Like what you see? Visit the ' +\n",
              "          '<a target=\"_blank\" href=https://colab.research.google.com/notebooks/data_table.ipynb>data table notebook</a>'\n",
              "          + ' to learn more about interactive tables.';\n",
              "        element.innerHTML = '';\n",
              "        dataTable['output_type'] = 'display_data';\n",
              "        await google.colab.output.renderOutput(dataTable, element);\n",
              "        const docLink = document.createElement('div');\n",
              "        docLink.innerHTML = docLinkHtml;\n",
              "        element.appendChild(docLink);\n",
              "      }\n",
              "    </script>\n",
              "  </div>\n",
              "\n",
              "\n",
              "<div id=\"df-a6b2ee1d-2245-4d3e-91b4-87d69ba3eb8b\">\n",
              "  <button class=\"colab-df-quickchart\" onclick=\"quickchart('df-a6b2ee1d-2245-4d3e-91b4-87d69ba3eb8b')\"\n",
              "            title=\"Suggest charts\"\n",
              "            style=\"display:none;\">\n",
              "\n",
              "<svg xmlns=\"http://www.w3.org/2000/svg\" height=\"24px\"viewBox=\"0 0 24 24\"\n",
              "     width=\"24px\">\n",
              "    <g>\n",
              "        <path d=\"M19 3H5c-1.1 0-2 .9-2 2v14c0 1.1.9 2 2 2h14c1.1 0 2-.9 2-2V5c0-1.1-.9-2-2-2zM9 17H7v-7h2v7zm4 0h-2V7h2v10zm4 0h-2v-4h2v4z\"/>\n",
              "    </g>\n",
              "</svg>\n",
              "  </button>\n",
              "\n",
              "<style>\n",
              "  .colab-df-quickchart {\n",
              "      --bg-color: #E8F0FE;\n",
              "      --fill-color: #1967D2;\n",
              "      --hover-bg-color: #E2EBFA;\n",
              "      --hover-fill-color: #174EA6;\n",
              "      --disabled-fill-color: #AAA;\n",
              "      --disabled-bg-color: #DDD;\n",
              "  }\n",
              "\n",
              "  [theme=dark] .colab-df-quickchart {\n",
              "      --bg-color: #3B4455;\n",
              "      --fill-color: #D2E3FC;\n",
              "      --hover-bg-color: #434B5C;\n",
              "      --hover-fill-color: #FFFFFF;\n",
              "      --disabled-bg-color: #3B4455;\n",
              "      --disabled-fill-color: #666;\n",
              "  }\n",
              "\n",
              "  .colab-df-quickchart {\n",
              "    background-color: var(--bg-color);\n",
              "    border: none;\n",
              "    border-radius: 50%;\n",
              "    cursor: pointer;\n",
              "    display: none;\n",
              "    fill: var(--fill-color);\n",
              "    height: 32px;\n",
              "    padding: 0;\n",
              "    width: 32px;\n",
              "  }\n",
              "\n",
              "  .colab-df-quickchart:hover {\n",
              "    background-color: var(--hover-bg-color);\n",
              "    box-shadow: 0 1px 2px rgba(60, 64, 67, 0.3), 0 1px 3px 1px rgba(60, 64, 67, 0.15);\n",
              "    fill: var(--button-hover-fill-color);\n",
              "  }\n",
              "\n",
              "  .colab-df-quickchart-complete:disabled,\n",
              "  .colab-df-quickchart-complete:disabled:hover {\n",
              "    background-color: var(--disabled-bg-color);\n",
              "    fill: var(--disabled-fill-color);\n",
              "    box-shadow: none;\n",
              "  }\n",
              "\n",
              "  .colab-df-spinner {\n",
              "    border: 2px solid var(--fill-color);\n",
              "    border-color: transparent;\n",
              "    border-bottom-color: var(--fill-color);\n",
              "    animation:\n",
              "      spin 1s steps(1) infinite;\n",
              "  }\n",
              "\n",
              "  @keyframes spin {\n",
              "    0% {\n",
              "      border-color: transparent;\n",
              "      border-bottom-color: var(--fill-color);\n",
              "      border-left-color: var(--fill-color);\n",
              "    }\n",
              "    20% {\n",
              "      border-color: transparent;\n",
              "      border-left-color: var(--fill-color);\n",
              "      border-top-color: var(--fill-color);\n",
              "    }\n",
              "    30% {\n",
              "      border-color: transparent;\n",
              "      border-left-color: var(--fill-color);\n",
              "      border-top-color: var(--fill-color);\n",
              "      border-right-color: var(--fill-color);\n",
              "    }\n",
              "    40% {\n",
              "      border-color: transparent;\n",
              "      border-right-color: var(--fill-color);\n",
              "      border-top-color: var(--fill-color);\n",
              "    }\n",
              "    60% {\n",
              "      border-color: transparent;\n",
              "      border-right-color: var(--fill-color);\n",
              "    }\n",
              "    80% {\n",
              "      border-color: transparent;\n",
              "      border-right-color: var(--fill-color);\n",
              "      border-bottom-color: var(--fill-color);\n",
              "    }\n",
              "    90% {\n",
              "      border-color: transparent;\n",
              "      border-bottom-color: var(--fill-color);\n",
              "    }\n",
              "  }\n",
              "</style>\n",
              "\n",
              "  <script>\n",
              "    async function quickchart(key) {\n",
              "      const quickchartButtonEl =\n",
              "        document.querySelector('#' + key + ' button');\n",
              "      quickchartButtonEl.disabled = true;  // To prevent multiple clicks.\n",
              "      quickchartButtonEl.classList.add('colab-df-spinner');\n",
              "      try {\n",
              "        const charts = await google.colab.kernel.invokeFunction(\n",
              "            'suggestCharts', [key], {});\n",
              "      } catch (error) {\n",
              "        console.error('Error during call to suggestCharts:', error);\n",
              "      }\n",
              "      quickchartButtonEl.classList.remove('colab-df-spinner');\n",
              "      quickchartButtonEl.classList.add('colab-df-quickchart-complete');\n",
              "    }\n",
              "    (() => {\n",
              "      let quickchartButtonEl =\n",
              "        document.querySelector('#df-a6b2ee1d-2245-4d3e-91b4-87d69ba3eb8b button');\n",
              "      quickchartButtonEl.style.display =\n",
              "        google.colab.kernel.accessAllowed ? 'block' : 'none';\n",
              "    })();\n",
              "  </script>\n",
              "</div>\n",
              "\n",
              "    </div>\n",
              "  </div>\n"
            ],
            "application/vnd.google.colaboratory.intrinsic+json": {
              "type": "dataframe",
              "variable_name": "data"
            }
          },
          "metadata": {},
          "execution_count": 224
        }
      ]
    },
    {
      "cell_type": "markdown",
      "source": [
        "The Identifiers at the end of the table contain additional visits of some of the subjects. We need to incorporate this information to the original data entries. The snap of the code below is an example of this occuring in the data."
      ],
      "metadata": {
        "id": "1E4y14VywHO5"
      }
    },
    {
      "cell_type": "code",
      "source": [
        "data['Identifiers'].values[6000:6200]"
      ],
      "metadata": {
        "id": "fSWigPsdv6XD",
        "outputId": "5853742e-203a-431e-a324-ddb04d1b20dd",
        "colab": {
          "base_uri": "https://localhost:8080/"
        }
      },
      "execution_count": 225,
      "outputs": [
        {
          "output_type": "execute_result",
          "data": {
            "text/plain": [
              "array(['NDARPX155RF3_Visit_2', 'NDARPX155RF3_Visit_3',\n",
              "       'NDARPX219TW0_Visit_1', 'NDARPX219TW0_Visit_2',\n",
              "       'NDARPX219TW0_Visit_3', 'NDARPZ621ZLE_Visit_3',\n",
              "       'NDARRA717GYV_Visit_1', 'NDARRA717GYV_Visit_2',\n",
              "       'NDARRA733VWX_Visit_1', 'NDARRA733VWX_Visit_2',\n",
              "       'NDARRA733VWX_Visit_3', 'NDARRA733VWX_Visit_4',\n",
              "       'NDARRB942UWU_Visit_1', 'NDARRB942UWU_Visit_2',\n",
              "       'NDARRB942UWU_Visit_3', 'NDARRC190NKB_Visit_1',\n",
              "       'NDARRC190NKB_Visit_2', 'NDARRC190NKB_Visit_3',\n",
              "       'NDARRC819NLC_Visit_1', 'NDARRC819NLC_Visit_2',\n",
              "       'NDARRC819NLC_Visit_3', 'NDARRD326KB9_Visit_1',\n",
              "       'NDARRD326KB9_Visit_2', 'NDARRD326KB9_Visit_3',\n",
              "       'NDARRD720XZK_Visit_1', 'NDARRD720XZK_Visit_2',\n",
              "       'NDARRD720XZK_Visit_3', 'NDARRF897HB5_Visit_1',\n",
              "       'NDARRF897HB5_Visit_2', 'NDARRF897HB5_Visit_3',\n",
              "       'NDARRG199RU4_Visit_2', 'NDARRG199RU4_Visit_3',\n",
              "       'NDARRG415BJM_Visit_1', 'NDARRG415BJM_Visit_2',\n",
              "       'NDARRG415BJM_Visit_3', 'NDARRH407MEY_Visit_1',\n",
              "       'NDARRH407MEY_Visit_2', 'NDARRH407MEY_Visit_3',\n",
              "       'NDARRH725XYA_Visit_2', 'NDARRH725XYA_Visit_3',\n",
              "       'NDARRH725XYA_Visit_4', 'NDARRH732EVM_Visit_1',\n",
              "       'NDARRH732EVM_Visit_2', 'NDARRJ137CH3_Visit_1',\n",
              "       'NDARRJ137CH3_Visit_2', 'NDARRJ728NMD_Visit_1',\n",
              "       'NDARRJ728NMD_Visit_2', 'NDARRJ728NMD_Visit_3',\n",
              "       'NDARRJ989YPA_Visit_1', 'NDARRJ989YPA_Visit_2',\n",
              "       'NDARRK213WCF_Visit_1', 'NDARRL218DJ5_Visit_1',\n",
              "       'NDARRL218DJ5_Visit_2', 'NDARRL218DJ5_Visit_3',\n",
              "       'NDARRL660CME_No_Visi', 'NDARRL660CME_Visit_2',\n",
              "       'NDARRL660CME_Visit_3', 'NDARRL685WB7_Visit_1',\n",
              "       'NDARRL685WB7_Visit_2', 'NDARRM467NP2_SL_Eval',\n",
              "       'NDARRM467NP2_Visit_1', 'NDARRM467NP2_Visit_2',\n",
              "       'NDARRN444MJG_Visit_1', 'NDARRN444MJG_Visit_2',\n",
              "       'NDARRN444MJG_Visit_3', 'NDARRP163YRC_Visit_1',\n",
              "       'NDARRP163YRC_Visit_2', 'NDARRP163YRC_Visit_3',\n",
              "       'NDARRP818DWL_Visit_1', 'NDARRP818DWL_Visit_2',\n",
              "       'NDARRR450VUU_Visit_1', 'NDARRR450VUU_Visit_2',\n",
              "       'NDARRR450VUU_Visit_3', 'NDARRT038VG1_SL_Eval',\n",
              "       'NDARRT038VG1_Visit_2', 'NDARRT038VG1_Visit_3',\n",
              "       'NDARRU501YED_Visit_1', 'NDARRU501YED_Visit_2',\n",
              "       'NDARRU501YED_Visit_3', 'NDARRU720LG4_Visit_1',\n",
              "       'NDARRU720LG4_Visit_2', 'NDARRV480PU1_Visit_1',\n",
              "       'NDARRV480PU1_Visit_2', 'NDARRV638MJV_Visit_1',\n",
              "       'NDARRV638MJV_Visit_2', 'NDARRW100AU0_Visit_2',\n",
              "       'NDARRW100AU0_Visit_3', 'NDARRW940BL6_Visit_1',\n",
              "       'NDARRW940BL6_Visit_2', 'NDARRX999BX0_Visit_3',\n",
              "       'NDARRX999BX0_Visit_5', 'NDARRY006EMB_MRI', 'NDARRY112RAK_Visit_1',\n",
              "       'NDARRY112RAK_Visit_2', 'NDARRY112RAK_Visit_3',\n",
              "       'NDARRY280KNW_Visit_1', 'NDARRY280KNW_Visit_2',\n",
              "       'NDARRY280KNW_Visit_3', 'NDARRY715CY4_Visit_1',\n",
              "       'NDARRY867DY4_Visit_1', 'NDARRZ653HKY_Visit_1',\n",
              "       'NDARRZ653HKY_Visit_2', 'NDARRZ979FZ4_SL_Eval',\n",
              "       'NDARTA808DEQ_Visit_1', 'NDARTA808DEQ_Visit_3', 'NDARTB219AJV_SLP',\n",
              "       'NDARTB219AJV_Visit_1', 'NDARTB219AJV_Visit_2',\n",
              "       'NDARTB219AJV_Visit_3', 'NDARTB329GFY_SL_Eval',\n",
              "       'NDARTB329GFY_Visit_1', 'NDARTB329GFY_Visit_2',\n",
              "       'NDARTB329GFY_Visit_3', 'NDARTB552HP0_Visit_2',\n",
              "       'NDARTB552HP0_Visit_3', 'NDARTD468TUH_Visit_1',\n",
              "       'NDARTD468TUH_Visit_2', 'NDARTD468TUH_Visit_3',\n",
              "       'NDARTE785ZMJ_Visit_1', 'NDARTE785ZMJ_Visit_2',\n",
              "       'NDARTF133LLM_Visit_1', 'NDARTF133LLM_Visit_2',\n",
              "       'NDARTF133LLM_Visit_3', 'NDARTF833WXB_Visit_1',\n",
              "       'NDARTF833WXB_Visit_2', 'NDARTG035JK8_Visit_1',\n",
              "       'NDARTG464MWG_SL_Eval', 'NDARTG464MWG_Visit_1',\n",
              "       'NDARTG464MWG_Visit_2', 'NDARTG464MWG_Visit_3',\n",
              "       'NDARTG623PUH_Visit_1', 'NDARTG623PUH_Visit_2',\n",
              "       'NDARTG762KJC_Visit_1', 'NDARTG762KJC_Visit_2',\n",
              "       'NDARTG762KJC_Visit_4', 'NDARTH610GMK_Visit_1',\n",
              "       'NDARTH610GMK_Visit_2', 'NDARTH610GMK_Visit_3',\n",
              "       'NDARTJ032FJ2_Visit_1', 'NDARTJ032FJ2_Visit_2',\n",
              "       'NDARTJ418GP0_Visit_1', 'NDARTJ418GP0_Visit_2',\n",
              "       'NDARTJ418GP0_Visit_3', 'NDARTJ702KNP_Visit_1',\n",
              "       'NDARTJ702KNP_Visit_2', 'NDARTK435YWU_Visit_3',\n",
              "       'NDARTK882BHQ_Visit_1', 'NDARTK933KL9_Visit_1',\n",
              "       'NDARTK933KL9_Visit_2', 'NDARTK933KL9_Visit_3',\n",
              "       'NDARTL336THT_SL_Eval', 'NDARTL336THT_Visit_1',\n",
              "       'NDARTL336THT_Visit_2', 'NDARTN158LRF_Visit_1',\n",
              "       'NDARTN487KDK_Visit_1', 'NDARTP190KAN_Visit_1',\n",
              "       'NDARTP190KAN_Visit_2', 'NDARTP190KAN_Visit_3',\n",
              "       'NDARTP313AGH_Visit_2', 'NDARTP313AGH_Visit_3',\n",
              "       'NDARTR365NCY_Visit_1', 'NDARTR365NCY_Visit_2',\n",
              "       'NDARTR651DEH_Visit_1', 'NDARTR840XP1_Visit_1',\n",
              "       'NDARTR840XP1_Visit_2', 'NDARTR840XP1_Visit_3',\n",
              "       'NDARTT194LTU_Visit_1', 'NDARTT242GNN_Visit_1',\n",
              "       'NDARTT242GNN_Visit_2', 'NDARTT242GNN_Visit_3',\n",
              "       'NDARTT759PC5_Visit_1', 'NDARTT759PC5_Visit_2',\n",
              "       'NDARTU777GVV_Visit_1', 'NDARTU777GVV_Visit_2',\n",
              "       'NDARTU777GVV_Visit_3', 'NDARTW855BPJ_MRI', 'NDARTW855BPJ_No_Visi',\n",
              "       'NDARTW855BPJ_Visit_1', 'NDARTW855BPJ_Visit_2',\n",
              "       'NDARTX659HAF_Visit_1', 'NDARTX659HAF_Visit_3',\n",
              "       'NDARTX795AKR_Visit_1', 'NDARTX934NH6_Visit_1',\n",
              "       'NDARTX934NH6_Visit_2', 'NDARTX934NH6_Visit_3',\n",
              "       'NDARTZ634BAN_Visit_1', 'NDARTZ634BAN_Visit_2', 'NDARTZ926NMZ_SLP',\n",
              "       'NDARTZ926NMZ_Visit_1', 'NDARTZ926NMZ_Visit_2',\n",
              "       'NDARTZ926NMZ_Visit_3', 'NDARUA481FK4_Visit_1',\n",
              "       'NDARUA481FK4_Visit_2', 'NDARUD776KFT_COG', 'NDARUE533XNH_Visit_1',\n",
              "       'NDARUE533XNH_Visit_2', 'NDARUE533XNH_Visit_3',\n",
              "       'NDARUF069EHR_Visit_3', 'NDARUF069EHR_Visit_5',\n",
              "       'NDARUF389TXE_SL_Eval'], dtype=object)"
            ]
          },
          "metadata": {},
          "execution_count": 225
        }
      ]
    },
    {
      "cell_type": "code",
      "source": [
        "versions = []\n",
        "for i in data.Identifiers.values.tolist():\n",
        "  if '_' in i:\n",
        "    versions.append(i)\n",
        "print(len(versions))"
      ],
      "metadata": {
        "id": "jiE0_9kVIeRS",
        "outputId": "0b1c9c3f-ea5d-4b4a-9ccb-fe45f79d2243",
        "colab": {
          "base_uri": "https://localhost:8080/"
        }
      },
      "execution_count": 226,
      "outputs": [
        {
          "output_type": "stream",
          "name": "stdout",
          "text": [
            "1819\n"
          ]
        }
      ]
    },
    {
      "cell_type": "code",
      "source": [
        "columns = data.columns\n",
        "i = 0\n",
        "for id in versions:\n",
        "  values = data[data['Identifiers'] == id].values.tolist()\n",
        "  while len(values) == 1:\n",
        "    values = values[0]\n",
        "  for value in values[1:]:\n",
        "    if value != '.':\n",
        "      if type(value) == str:\n",
        "        column_number = values.index(value)\n",
        "        row_number = data[data['Identifiers'] == id[:12]].index[0]\n",
        "        data.at[row_number, columns[column_number]] = value\n",
        "      elif type(value) != str and math.isnan(value) is not True:\n",
        "        column_number = values.index(value)\n",
        "        row_number = data[data['Identifiers'] == id[:12]].index[0]\n",
        "        data.at[row_number, columns[column_number]] = value\n",
        "      else:\n",
        "        if math.isnan(value) is not True:\n",
        "          print(value, type(value))\n",
        "  i += 1\n",
        "print(i)"
      ],
      "metadata": {
        "id": "i4bFXlFQH1cX",
        "outputId": "bbdd0d39-e2d6-48ff-e878-e86c1c5bd617",
        "colab": {
          "base_uri": "https://localhost:8080/"
        }
      },
      "execution_count": 227,
      "outputs": [
        {
          "output_type": "stream",
          "name": "stdout",
          "text": [
            "1819\n"
          ]
        }
      ]
    },
    {
      "cell_type": "code",
      "source": [
        "for id in versions:\n",
        "  data = data[data['Identifiers'] != id]\n",
        "data.shape"
      ],
      "metadata": {
        "id": "dCCDlIDLH_HE",
        "outputId": "73434232-e45a-4988-91ce-b39d132fba9f",
        "colab": {
          "base_uri": "https://localhost:8080/"
        }
      },
      "execution_count": 228,
      "outputs": [
        {
          "output_type": "execute_result",
          "data": {
            "text/plain": [
              "(4867, 791)"
            ]
          },
          "metadata": {},
          "execution_count": 228
        }
      ]
    },
    {
      "cell_type": "code",
      "source": [
        "# checking for duplicates\n",
        "num_col_duplicates = data['Identifiers'].duplicated().sum()\n",
        "print(f'Number of duplicates in column \"Identifiers\": {num_col_duplicates}')"
      ],
      "metadata": {
        "id": "zCd3qYXkzuQB",
        "outputId": "30601b60-4d67-482f-be22-9f9d0303b76d",
        "colab": {
          "base_uri": "https://localhost:8080/"
        }
      },
      "execution_count": 229,
      "outputs": [
        {
          "output_type": "stream",
          "name": "stdout",
          "text": [
            "Number of duplicates in column \"Identifiers\": 0\n"
          ]
        }
      ]
    },
    {
      "cell_type": "code",
      "source": [
        "# we also have a column Basic Demos, EID that contain identifiers. Let's cross reference to check whether there are any discrepancies\n",
        "ids1 = data['Identifiers'].values\n",
        "ids2 = data['Basic_Demos,EID'].values\n",
        "print(len(ids1))\n",
        "print(len(ids2))\n",
        "for i in range(0, len(ids1)):\n",
        "  if ids1[i] != ids2[i]:\n",
        "    print(ids1, ids2)\n",
        "    break"
      ],
      "metadata": {
        "id": "hTtspmKKHKwA",
        "outputId": "919829a1-3d0d-45cf-a76e-a3978c3aea32",
        "colab": {
          "base_uri": "https://localhost:8080/"
        }
      },
      "execution_count": 230,
      "outputs": [
        {
          "output_type": "stream",
          "name": "stdout",
          "text": [
            "4867\n",
            "4867\n"
          ]
        }
      ]
    },
    {
      "cell_type": "code",
      "source": [
        "data.columns"
      ],
      "metadata": {
        "id": "voTcJ9yprtqv",
        "outputId": "7d6d427b-ac89-4d09-bdd5-16b5566072ea",
        "colab": {
          "base_uri": "https://localhost:8080/"
        }
      },
      "execution_count": 231,
      "outputs": [
        {
          "output_type": "execute_result",
          "data": {
            "text/plain": [
              "Index(['Identifiers', 'Barratt,Barratt_P1_Edu', 'Barratt,Barratt_P1_Occ',\n",
              "       'Barratt,Barratt_P2_Edu', 'Barratt,Barratt_P2_Occ',\n",
              "       'Barratt,Barratt_Total', 'Barratt,Barratt_Total_Edu',\n",
              "       'Barratt,Barratt_Total_Occ', 'Barratt,financialsupport',\n",
              "       'Basic_Demos,Age',\n",
              "       ...\n",
              "       'WISC_Remote,WISC_VCI_Sum', 'WISC_Remote,WISC_VP_Raw',\n",
              "       'WISC_Remote,WISC_VP_Scaled', 'WISC_Remote,WISC_Vocab_Raw',\n",
              "       'WISC_Remote,WISC_Vocab_Scaled', 'WISC_Remote,WISC_WMI',\n",
              "       'WISC_Remote,WISC_WMI_Percentile', 'WISC_Remote,WISC_WMI_Sum',\n",
              "       'WISC_Remote,WISC_complete', 'WISC_Remote,WISC_incomplete_reason'],\n",
              "      dtype='object', length=791)"
            ]
          },
          "metadata": {},
          "execution_count": 231
        }
      ]
    },
    {
      "cell_type": "markdown",
      "source": [
        "Let's now work on individual columns to make them more convinient for screening"
      ],
      "metadata": {
        "id": "6Sq56HJ0GBBF"
      }
    },
    {
      "cell_type": "code",
      "source": [
        "# we have a column \"Participant Status\" that contains information on whether\n",
        "# a person dropped out or been lost to follow up\n",
        "status = data['Basic_Demos,Participant_Status'].unique()\n",
        "for each in status:\n",
        "  number = data[data['Basic_Demos,Participant_Status'] == each].shape[0]\n",
        "  print('Number of ' + each + ': ' + str(number))"
      ],
      "metadata": {
        "id": "aGyJtuXjIaSQ",
        "outputId": "52cc72c0-cf4a-4e1c-eb19-8c2325b1c629",
        "colab": {
          "base_uri": "https://localhost:8080/"
        }
      },
      "execution_count": 232,
      "outputs": [
        {
          "output_type": "stream",
          "name": "stdout",
          "text": [
            "Number of Complete: 4241\n",
            "Number of Lost to follow-up: 269\n",
            "Number of Dropout: 357\n"
          ]
        }
      ]
    },
    {
      "cell_type": "code",
      "source": [
        "#working on Basic_Demos columns\n",
        "data['Basic_Demos,Age'] = data['Basic_Demos,Age'].astype(float)\n",
        "data['Basic_Demos,Sex'] = data['Basic_Demos,Sex'].astype(int)\n",
        "data.drop(['Basic_Demos,Site'], axis=1, inplace = True) # contain only nan values\n",
        "data['Basic_Demos,Study_Site'] = data['Basic_Demos,Study_Site'].astype(int)"
      ],
      "metadata": {
        "id": "cHr_mN-E4tNS",
        "colab": {
          "base_uri": "https://localhost:8080/"
        },
        "outputId": "df672c0d-7224-446e-9e3e-2327c0c5ceab"
      },
      "execution_count": 233,
      "outputs": [
        {
          "output_type": "stream",
          "name": "stderr",
          "text": [
            "<ipython-input-233-836fa1bb65de>:2: SettingWithCopyWarning: \n",
            "A value is trying to be set on a copy of a slice from a DataFrame.\n",
            "Try using .loc[row_indexer,col_indexer] = value instead\n",
            "\n",
            "See the caveats in the documentation: https://pandas.pydata.org/pandas-docs/stable/user_guide/indexing.html#returning-a-view-versus-a-copy\n",
            "  data['Basic_Demos,Age'] = data['Basic_Demos,Age'].astype(float)\n",
            "<ipython-input-233-836fa1bb65de>:3: SettingWithCopyWarning: \n",
            "A value is trying to be set on a copy of a slice from a DataFrame.\n",
            "Try using .loc[row_indexer,col_indexer] = value instead\n",
            "\n",
            "See the caveats in the documentation: https://pandas.pydata.org/pandas-docs/stable/user_guide/indexing.html#returning-a-view-versus-a-copy\n",
            "  data['Basic_Demos,Sex'] = data['Basic_Demos,Sex'].astype(int)\n",
            "<ipython-input-233-836fa1bb65de>:4: SettingWithCopyWarning: \n",
            "A value is trying to be set on a copy of a slice from a DataFrame\n",
            "\n",
            "See the caveats in the documentation: https://pandas.pydata.org/pandas-docs/stable/user_guide/indexing.html#returning-a-view-versus-a-copy\n",
            "  data.drop(['Basic_Demos,Site'], axis=1, inplace = True) # contain only nan values\n",
            "<ipython-input-233-836fa1bb65de>:5: SettingWithCopyWarning: \n",
            "A value is trying to be set on a copy of a slice from a DataFrame.\n",
            "Try using .loc[row_indexer,col_indexer] = value instead\n",
            "\n",
            "See the caveats in the documentation: https://pandas.pydata.org/pandas-docs/stable/user_guide/indexing.html#returning-a-view-versus-a-copy\n",
            "  data['Basic_Demos,Study_Site'] = data['Basic_Demos,Study_Site'].astype(int)\n"
          ]
        }
      ]
    },
    {
      "cell_type": "code",
      "source": [
        "# Barrat score\n",
        "number = data[data['Barratt,Barratt_Total'] == '.'].shape[0]\n",
        "print('Missing values for Barrat scores: ' + str(number) + ' out of ' + str(data.shape[0]))"
      ],
      "metadata": {
        "id": "apLu3SfCMMtQ",
        "outputId": "cdd42d7a-666d-455e-f594-4db04d45e403",
        "colab": {
          "base_uri": "https://localhost:8080/"
        }
      },
      "execution_count": 234,
      "outputs": [
        {
          "output_type": "stream",
          "name": "stdout",
          "text": [
            "Missing values for Barrat scores: 434 out of 4867\n"
          ]
        }
      ]
    },
    {
      "cell_type": "code",
      "source": [
        "# CELF tests\n",
        "# if we end up using it, it might make sense to check the validity first in CELF_Valid\n",
        "data['CELF,CELF_Total'] = data['CELF,CELF_Total'].fillna('.')\n",
        "number = data[data['CELF,CELF_Total'] == '.'].shape[0]\n",
        "print('Missing values for CELF scores: ' + str(number) + ' out of ' + str(data.shape[0]))"
      ],
      "metadata": {
        "id": "o73rj6_5MypJ",
        "outputId": "17cdb8ed-dbfe-4c99-f153-2c85b7931551",
        "colab": {
          "base_uri": "https://localhost:8080/"
        }
      },
      "execution_count": 235,
      "outputs": [
        {
          "output_type": "stream",
          "name": "stdout",
          "text": [
            "Missing values for CELF scores: 662 out of 4867\n"
          ]
        }
      ]
    },
    {
      "cell_type": "code",
      "source": [
        "# CTOPP-2\n",
        "# don't trust the 'complete' field, the ones with number 2 are both who completed some sets and who did nothing\n",
        "data['CTOPP,CTOPP_Complete'] = data['CTOPP,CTOPP_Complete'].fillna('.')\n",
        "number = data[data['CTOPP,CTOPP_Complete'] != '1'].shape[0]\n",
        "print('Missing values for CTOPP-2 scores: ' + str(number) + ' out of ' + str(data.shape[0]))\n",
        "\n",
        "names = ['CTOPP,CTOPP_BW_D', 'CTOPP,CTOPP_BW_P',\n",
        "       'CTOPP,CTOPP_BW_R', 'CTOPP,CTOPP_BW_S',\n",
        "       'CTOPP,CTOPP_EL_D', 'CTOPP,CTOPP_EL_P', 'CTOPP,CTOPP_EL_R',\n",
        "       'CTOPP,CTOPP_EL_S', 'CTOPP,CTOPP_NR_D', 'CTOPP,CTOPP_NR_P',\n",
        "       'CTOPP,CTOPP_NR_R', 'CTOPP,CTOPP_NR_S', 'CTOPP,CTOPP_RD_D',\n",
        "       'CTOPP,CTOPP_RD_P', 'CTOPP,CTOPP_RD_R', 'CTOPP,CTOPP_RD_S',\n",
        "       'CTOPP,CTOPP_RL_D', 'CTOPP,CTOPP_RL_P', 'CTOPP,CTOPP_RL_R',\n",
        "       'CTOPP,CTOPP_RL_S', 'CTOPP,CTOPP_RO_D', 'CTOPP,CTOPP_RO_P',\n",
        "       'CTOPP,CTOPP_RO_R', 'CTOPP,CTOPP_RO_S', 'CTOPP,CTOPP_RSN_Comp',\n",
        "       'CTOPP,CTOPP_RSN_D', 'CTOPP,CTOPP_RSN_P', 'CTOPP,CTOPP_RSN_Sum']\n",
        "\n",
        "for name in names:\n",
        "  data[name] = data[name].fillna('.') # filling nan values if any\n",
        "\n",
        "ctopp = []\n",
        "ids = data.Identifiers.values.tolist()\n",
        "for id in ids:\n",
        "  subset = data[data['Identifiers'] == id]\n",
        "  tests = []\n",
        "  for name in names:\n",
        "    if subset[name].values[0] != '.':\n",
        "      tests.append(name)\n",
        "  if len(tests) == 28:\n",
        "    ctopp.append('full')\n",
        "  elif len(tests) == 0:\n",
        "    ctopp.append('missing')\n",
        "  else:\n",
        "    new_tests = ''\n",
        "    for each in tests:\n",
        "      new_tests = new_tests + each[12:] + ', '\n",
        "    ctopp.append(new_tests)\n",
        "data['CTOPP'] = ctopp"
      ],
      "metadata": {
        "id": "w3_oj5bWOFpX",
        "outputId": "40641235-021f-428f-aa9e-4f8f74545d78",
        "colab": {
          "base_uri": "https://localhost:8080/"
        }
      },
      "execution_count": 236,
      "outputs": [
        {
          "output_type": "stream",
          "name": "stdout",
          "text": [
            "Missing values for CTOPP-2 scores: 805 out of 4867\n"
          ]
        }
      ]
    },
    {
      "cell_type": "code",
      "source": [
        "# DailyMeds\n",
        "# we have people who have taken medication, drugs, or alcohol\n",
        "\n",
        "print('Drugs: ', data['DailyMeds,drugs'].unique()) # value '.' and 2 contains only nan values and '.'\n",
        "#data[data['DailyMeds,drugs'] == '1'][['DailyMeds,drugs_01', 'DailyMeds,drugs_02']] # to check the drugs\n",
        "\n",
        "print('Alcohol: ', data['DailyMeds,alcohol'].unique()) # value '.' and 2 contains only nan values and '.'\n",
        "#data[data['DailyMeds,alcohol'] == '1'][['DailyMeds,alc_01', 'DailyMeds,alc_02']] # to check alcohol (only one person)\n",
        "\n",
        "print('Meds: ', data['DailyMeds,medications'].unique()) # DO NOT TRUST THE SCORES, only look at the names and doses\n",
        "\n",
        "data['DailyMeds,med_name_01'] = data['DailyMeds,med_name_01'].fillna('.') # have ' ', nan, and '.' values\n",
        "data['DailyMeds,med_name_02'] = data['DailyMeds,med_name_02'].fillna('.') # have '.' and nan values\n",
        "data['DailyMeds,med_name_03'] = data['DailyMeds,med_name_03'].fillna('.') # have '.' and nan values\n",
        "\n",
        "meds1 = data['DailyMeds,med_name_01'].values.tolist() # have ' ' and '.' values\n",
        "meds2 = data['DailyMeds,med_name_02'].values.tolist() # have '.' values\n",
        "meds3 = data['DailyMeds,med_name_03'].values.tolist() # have '.' values\n",
        "medications = []\n",
        "for i in range(0, data.shape[0]):\n",
        "  status = 0\n",
        "  if meds1[i] != '.':\n",
        "    if meds1[i] != ' ':\n",
        "      status += 1\n",
        "    elif meds1[i] == ' ':\n",
        "      status = 0\n",
        "  elif meds1[i] == '.':\n",
        "    if meds2[i] != '.':\n",
        "      status += 1\n",
        "    elif meds2[i] == '.':\n",
        "      if meds3[i] != '.':\n",
        "        status += 1\n",
        "  if status != 0:\n",
        "    medications.append(1)\n",
        "  else:\n",
        "    medications.append(0)\n",
        "\n",
        "data['DailyMeds,medications'] = medications # created a new coding depending on whether there are any entries in drug names"
      ],
      "metadata": {
        "id": "afrTD-ALXm0h",
        "outputId": "23690250-8c4f-402e-daca-a93ea415ac36",
        "colab": {
          "base_uri": "https://localhost:8080/"
        }
      },
      "execution_count": 237,
      "outputs": [
        {
          "output_type": "stream",
          "name": "stdout",
          "text": [
            "Drugs:  ['2' '.' '0' '1']\n",
            "Alcohol:  ['2' '.' '0' '1']\n",
            "Meds:  ['1' '.' '0']\n"
          ]
        }
      ]
    },
    {
      "cell_type": "code",
      "source": [
        "# Diagnosis_ClinicianConsensus\n",
        "# getting rid of nan values everywhere\n",
        "names = ['ByHx', 'Cat', 'Code', 'Confirmed', 'New', 'PRem', 'Past_Doc', 'Presum', 'RC', 'Rem', 'RuleOut', 'Spec', 'Sub', 'Time']\n",
        "data['Diagnosis_ClinicianConsensus,NoDX'] = data['Diagnosis_ClinicianConsensus,NoDX'].fillna('.')\n",
        "for number in range(1, 11):\n",
        "  if number != 10:\n",
        "    column = 'Diagnosis_ClinicianConsensus,DX_0' + str(number)\n",
        "  else:\n",
        "    column = 'Diagnosis_ClinicianConsensus,DX_10'\n",
        "  data[column] = data[column].fillna('.') # here we deal with only main column names\n",
        "  for name in names:\n",
        "    column_add = column + '_' + name\n",
        "    data[column_add] = data[column_add].fillna('.')"
      ],
      "metadata": {
        "id": "9sdk9Fi1J0be"
      },
      "execution_count": 238,
      "outputs": []
    },
    {
      "cell_type": "markdown",
      "source": [
        "We need to identify who is control and who is dyslexic and who has nothing to do with these categories. Control participants have the status of 'No Diagnosis Given' in the DX_01 and in the NoDX (the indicator 1). We need to push together the diagnoses from all of the 10 columns, consider the degree of certainty for these diagnosis and whether it is a confirmed status or not, and then create the column with values stating what group a particular participant is attributed to. As a result, I would like to have a status column saying that it is a drop out, control, just dyslexic, dyslexic with comorbidities or orther disorder. And then I would like to have a separate column that would include all the list of diagnoses for people who are not drop outs and controls."
      ],
      "metadata": {
        "id": "OgcugYzyaf5G"
      }
    },
    {
      "cell_type": "markdown",
      "source": [
        "We have the following variabilities in the diagnosis of SLI: ['Specific Learning Disorder with Impairment in Reading',\n",
        " 'Specific Learning Disorder with Impairment in Mathematics',\n",
        " 'Specific Learning Disorder with Impairment in Written Expression',\n",
        " 'Specific Learning Disorder with Impairment in Reading ',\n",
        " 'Specific Learning Disorder with Impairment in Mathematics ']. In the code we will account for this, as we would like to have the specific type of DD known."
      ],
      "metadata": {
        "id": "60Prdf1BaIHC"
      }
    },
    {
      "cell_type": "code",
      "source": [
        " # Diagnosis_ClinicianConsensus\n",
        "def diagnosis(df):\n",
        "  df['Diagnosis_ClinicianConsensus,NoDX'] = df['Diagnosis_ClinicianConsensus,NoDX'].fillna('.')\n",
        "\n",
        "  status = [] # will contain information on whether it is control, dropout, DD with/without comorbidities, other\n",
        "  all_diagnoses = [] # will contain all the diagnoses\n",
        "  type_DD = [] # will contain the type of DD\n",
        "  DD_certainty = [] # will contain the info on whether the diagnosis is confirmed\n",
        "  adhd = [] # will contain the infor whether there is an adhd diagnosis\n",
        "  intel_disability = [] # intellectual disability or autism\n",
        "\n",
        "  for i in range(0, data.shape[0]): # going through all the data\n",
        "    #print('New Subject')\n",
        "    subset = df.iloc[i] # a particular raw will all the values\n",
        "    #print(subset[['Diagnosis_ClinicianConsensus,DX_01', 'Diagnosis_ClinicianConsensus,DX_02', 'Diagnosis_ClinicianConsensus,DX_03',\n",
        "    #              'Diagnosis_ClinicianConsensus,DX_04', 'Diagnosis_ClinicianConsensus,DX_05', 'Diagnosis_ClinicianConsensus,DX_06',\n",
        "    #              'Diagnosis_ClinicianConsensus,DX_07', 'Diagnosis_ClinicianConsensus,DX_08', 'Diagnosis_ClinicianConsensus,DX_09',\n",
        "    #              'Diagnosis_ClinicianConsensus,DX_10']])\n",
        "    noDX = subset['Diagnosis_ClinicianConsensus,NoDX'] # 3 - drop out; 1 - control; 2, ' ', '.' - some diagnosis\n",
        "    if noDX == '3': # drop out\n",
        "      status.append('Dropout')\n",
        "      all_diagnoses.append('N/A')\n",
        "      type_DD.append('N/A')\n",
        "      adhd.append('N/A')\n",
        "      intel_disability.append('N/A')\n",
        "      DD_certainty.append('N/A')\n",
        "    elif noDX == '1': # No Diagnosis Given\n",
        "      status.append('Control')\n",
        "      all_diagnoses.append('N/A')\n",
        "      type_DD.append('N/A')\n",
        "      DD_certainty.append('N/A')\n",
        "      adhd.append('N/A')\n",
        "      intel_disability.append('N/A')\n",
        "    else: # when noDX = 2, '.', or ' ' it has a diagnosis\n",
        "      # here we are going to consider all the columns that contain the name of diagnosis\n",
        "      dys = 0\n",
        "      dys_type = ''\n",
        "      inter_diag = ''\n",
        "      index = 0\n",
        "      inter_certainty = ''\n",
        "      certainty_index = 0\n",
        "      adhd_index = 0 #adhd index\n",
        "      disability_index = 0\n",
        "      for number in range(1, 11): # we are going one by one through all the diagnosis columns\n",
        "        if number != 10:\n",
        "          name_diag = 'Diagnosis_ClinicianConsensus,DX_0' + str(number)\n",
        "          name_conf = 'Diagnosis_ClinicianConsensus,DX_0' + str(number) + '_Confirmed'\n",
        "          name_presum = 'Diagnosis_ClinicianConsensus,DX_0' + str(number) + '_Presum'\n",
        "          name_rc = 'Diagnosis_ClinicianConsensus,DX_0' + str(number) + '_RC'\n",
        "          name_ruleout = 'Diagnosis_ClinicianConsensus,DX_0' + str(number) + '_RuleOut'\n",
        "        elif number == 10:\n",
        "          name_diag = 'Diagnosis_ClinicianConsensus,DX_10'\n",
        "          name_conf = 'Diagnosis_ClinicianConsensus,DX_10' + '_Confirmed'\n",
        "          name_presum = 'Diagnosis_ClinicianConsensus,DX_10' + '_Presum'\n",
        "          name_rc = 'Diagnosis_ClinicianConsensus,DX_10' + '_RC'\n",
        "          name_ruleout = 'Diagnosis_ClinicianConsensus,DX_10' + '_RuleOut'\n",
        "\n",
        "        diagnosis = subset[name_diag]\n",
        "        conf = subset[name_conf]\n",
        "        presum = subset[name_presum]\n",
        "        rc = subset[name_rc]\n",
        "        ruleout = subset[name_ruleout]\n",
        "\n",
        "        if 'No Diagnosis' in diagnosis: # when something is off and no diagnosis detected outside of the noDX values 1 and 3\n",
        "            print('ERROR: No Diagnosis detected')\n",
        "            print('The raw: ', i, ' ', name_diag, diagnosis)\n",
        "            break\n",
        "          # now we should cover all the cases with the type of diagnosis\n",
        "        elif diagnosis == '.':\n",
        "            index += 1\n",
        "        elif diagnosis == ' ':\n",
        "            index += 1\n",
        "        else:\n",
        "          if 'Specific Learning Disorder with' in diagnosis:\n",
        "              dys += 1\n",
        "              dys_type = dys_type + diagnosis + '; '\n",
        "              # here we need to understand the certainty of the DD diagnosis\n",
        "              if conf == '1':\n",
        "                certainty_index += 1\n",
        "                inter_certainty = inter_certainty + 'Confirmed, '\n",
        "              if presum == '1':\n",
        "                certainty_index += 1\n",
        "                inter_certainty = inter_certainty + 'Presumptive, '\n",
        "              if rc == '1':\n",
        "                certainty_index += 1\n",
        "                inter_certainty = inter_certainty + 'RConfirm, '\n",
        "              if ruleout == '1':\n",
        "                certainty_index += 1\n",
        "                inter_certainty = inter_certainty + 'Ruleout, '\n",
        "              if certainty_index != 1:\n",
        "                inter_certainty = inter_certainty + 'Unclear, '\n",
        "                break\n",
        "          else:\n",
        "            inter_diag = inter_diag + diagnosis + '; '\n",
        "            if 'Attention-Deficit' in diagnosis:\n",
        "              adhd_index += 1\n",
        "            elif 'ADHD' in diagnosis:\n",
        "              adhd_index += 1\n",
        "            if 'Intellectual Disability' in diagnosis:\n",
        "              disability_index += 1\n",
        "            if 'Autism' in diagnosis:\n",
        "              disability_index += 1\n",
        "\n",
        "\n",
        "      #print('Inter_diag', inter_diag) # indicates all the diagnoses except for SLI\n",
        "      #print('Dys_type', dys_type) # type of SLI\n",
        "      #print(dys) # how many SLIs\n",
        "      #print(index) # how many ' ' or '.' values for this subject\n",
        "\n",
        "      # we need to differentiate between no diagnosis if none is given byt they're not reported control\n",
        "      # dyslexic without comorbidities\n",
        "      # dyslexic with comorbidities\n",
        "      # other diagnosis\n",
        "      if dys == 0:\n",
        "        if dys_type == '':\n",
        "          if inter_diag != '':\n",
        "            status.append('Other diagnosis')\n",
        "            all_diagnoses.append(inter_diag)\n",
        "            type_DD.append('N/A')\n",
        "            DD_certainty.append('N/A')\n",
        "          else:\n",
        "            status.append('All dots')\n",
        "            all_diagnoses.append('N/A')\n",
        "            type_DD.append('N/A')\n",
        "            DD_certainty.append('N/A')\n",
        "        else:\n",
        "          print('ERROR: dys = 0 but dys type not')\n",
        "          print(i, subset, dys_type, dys)\n",
        "          break\n",
        "\n",
        "      elif dys != 0: # if there is a DD diagnosis\n",
        "        if inter_diag == '':\n",
        "          status.append('DD')\n",
        "          all_diagnoses.append(dys_type)\n",
        "          DD_certainty.append(inter_certainty)\n",
        "        elif inter_diag != '':\n",
        "          status.append('DD with comorbidities')\n",
        "          new_inter_diag = dys_type + inter_diag\n",
        "          all_diagnoses.append(new_inter_diag)\n",
        "          DD_certainty.append(inter_certainty)\n",
        "        if dys == 1:\n",
        "          if 'Written' in dys_type:\n",
        "            type_DD.append('Writing')\n",
        "          elif 'Reading' in dys_type:\n",
        "            type_DD.append('Reading')\n",
        "          elif 'Mathematics' in dys_type:\n",
        "            type_DD.append('Math')\n",
        "          else:\n",
        "            print('ERROR: unknown type of DD')\n",
        "            print(i, dys_type, inter_diag, dys)\n",
        "            break\n",
        "        elif dys == 2:\n",
        "          if 'Mathematics' and 'Reading' in dys_type:\n",
        "            type_DD.append('Reading and Math')\n",
        "          elif 'Mathematics' and 'Written' in dys_type:\n",
        "            type_DD.append('Math and Writing')\n",
        "          elif 'Written' and 'Reading' in dys_type:\n",
        "            type_DD.append('Reading and Writing')\n",
        "          else:\n",
        "            print('ERROR: unknown type of DD')\n",
        "            print(i, dys_type, inter_diag, dys)\n",
        "            break\n",
        "        elif dys == 3:\n",
        "          if 'Mathematics' and 'Reading' and 'Written' in dys_type:\n",
        "            type_DD.append('Reading, Writing, and Math')\n",
        "          elif subset['Identifiers'] == 'NDARDV222JZ6': # for one subject there are accidently two diagnoses for SLI with impairment in math\n",
        "            type_DD.append('Reading and Math')\n",
        "          elif subset['Identifiers'] == 'NDARGX583YNZ': # accidently two reading diagnoses\n",
        "            type_DD.append('Reading and Math')\n",
        "          else:\n",
        "            print('ERROR: unknown type of DD')\n",
        "            print(i, dys_type, inter_diag, dys)\n",
        "            print(subset)\n",
        "            break\n",
        "        else:\n",
        "          print('ERROR: more than 3 dys types')\n",
        "          print(i, dys_type, inter_diag, dys)\n",
        "          print(subset)\n",
        "          break\n",
        "      if adhd_index == 0:\n",
        "        adhd.append(0)\n",
        "      else:\n",
        "        adhd.append(adhd_index)\n",
        "      if disability_index == 0:\n",
        "        intel_disability.append(0)\n",
        "      else:\n",
        "        intel_disability.append(disability_index)\n",
        "\n",
        "\n",
        "\n",
        "    #print('ALL DONE')\n",
        "    #print(len(status))\n",
        "    #print(status)\n",
        "    #print(len(all_diagnoses))\n",
        "    #print(all_diagnoses)\n",
        "  return status, all_diagnoses, type_DD, DD_certainty, adhd, intel_disability"
      ],
      "metadata": {
        "id": "QJcwHxq7aL9l"
      },
      "execution_count": 239,
      "outputs": []
    },
    {
      "cell_type": "code",
      "source": [
        " status, all_diagnoses, type_DD, DD_certainty, adhd, intel_disability = diagnosis(data)\n",
        " data['Group'] = status\n",
        " data['Diagnosis'] = all_diagnoses\n",
        " data['DD'] = type_DD\n",
        " data['DD_Certainty'] = DD_certainty\n",
        " data['ADHD'] = adhd\n",
        " data['Intellectual_Disability'] = intel_disability"
      ],
      "metadata": {
        "id": "ABqiIDuMPqcH",
        "outputId": "90848e1a-8519-4aa2-e786-46a0300c92d1",
        "colab": {
          "base_uri": "https://localhost:8080/"
        }
      },
      "execution_count": 240,
      "outputs": [
        {
          "output_type": "stream",
          "name": "stderr",
          "text": [
            "<ipython-input-240-3d717b81eb3c>:2: PerformanceWarning: DataFrame is highly fragmented.  This is usually the result of calling `frame.insert` many times, which has poor performance.  Consider joining all columns at once using pd.concat(axis=1) instead. To get a de-fragmented frame, use `newframe = frame.copy()`\n",
            "  data['Group'] = status\n",
            "<ipython-input-240-3d717b81eb3c>:3: PerformanceWarning: DataFrame is highly fragmented.  This is usually the result of calling `frame.insert` many times, which has poor performance.  Consider joining all columns at once using pd.concat(axis=1) instead. To get a de-fragmented frame, use `newframe = frame.copy()`\n",
            "  data['Diagnosis'] = all_diagnoses\n",
            "<ipython-input-240-3d717b81eb3c>:4: PerformanceWarning: DataFrame is highly fragmented.  This is usually the result of calling `frame.insert` many times, which has poor performance.  Consider joining all columns at once using pd.concat(axis=1) instead. To get a de-fragmented frame, use `newframe = frame.copy()`\n",
            "  data['DD'] = type_DD\n",
            "<ipython-input-240-3d717b81eb3c>:5: PerformanceWarning: DataFrame is highly fragmented.  This is usually the result of calling `frame.insert` many times, which has poor performance.  Consider joining all columns at once using pd.concat(axis=1) instead. To get a de-fragmented frame, use `newframe = frame.copy()`\n",
            "  data['DD_Certainty'] = DD_certainty\n",
            "<ipython-input-240-3d717b81eb3c>:6: PerformanceWarning: DataFrame is highly fragmented.  This is usually the result of calling `frame.insert` many times, which has poor performance.  Consider joining all columns at once using pd.concat(axis=1) instead. To get a de-fragmented frame, use `newframe = frame.copy()`\n",
            "  data['ADHD'] = adhd\n",
            "<ipython-input-240-3d717b81eb3c>:7: PerformanceWarning: DataFrame is highly fragmented.  This is usually the result of calling `frame.insert` many times, which has poor performance.  Consider joining all columns at once using pd.concat(axis=1) instead. To get a de-fragmented frame, use `newframe = frame.copy()`\n",
            "  data['Intellectual_Disability'] = intel_disability\n"
          ]
        }
      ]
    },
    {
      "cell_type": "code",
      "source": [
        "data.groupby(['Group'])[['Identifiers']].count()"
      ],
      "metadata": {
        "id": "5cmePo2sQqG2",
        "outputId": "5ded4a2e-a70c-48c9-da94-cf7c9aa4c8cd",
        "colab": {
          "base_uri": "https://localhost:8080/",
          "height": 269
        }
      },
      "execution_count": 241,
      "outputs": [
        {
          "output_type": "execute_result",
          "data": {
            "text/plain": [
              "                       Identifiers\n",
              "Group                             \n",
              "All dots                       105\n",
              "Control                        373\n",
              "DD                             201\n",
              "DD with comorbidities          879\n",
              "Dropout                        526\n",
              "Other diagnosis               2783"
            ],
            "text/html": [
              "\n",
              "  <div id=\"df-fc8175af-f4f1-4a91-902f-ab6daa067f5c\" class=\"colab-df-container\">\n",
              "    <div>\n",
              "<style scoped>\n",
              "    .dataframe tbody tr th:only-of-type {\n",
              "        vertical-align: middle;\n",
              "    }\n",
              "\n",
              "    .dataframe tbody tr th {\n",
              "        vertical-align: top;\n",
              "    }\n",
              "\n",
              "    .dataframe thead th {\n",
              "        text-align: right;\n",
              "    }\n",
              "</style>\n",
              "<table border=\"1\" class=\"dataframe\">\n",
              "  <thead>\n",
              "    <tr style=\"text-align: right;\">\n",
              "      <th></th>\n",
              "      <th>Identifiers</th>\n",
              "    </tr>\n",
              "    <tr>\n",
              "      <th>Group</th>\n",
              "      <th></th>\n",
              "    </tr>\n",
              "  </thead>\n",
              "  <tbody>\n",
              "    <tr>\n",
              "      <th>All dots</th>\n",
              "      <td>105</td>\n",
              "    </tr>\n",
              "    <tr>\n",
              "      <th>Control</th>\n",
              "      <td>373</td>\n",
              "    </tr>\n",
              "    <tr>\n",
              "      <th>DD</th>\n",
              "      <td>201</td>\n",
              "    </tr>\n",
              "    <tr>\n",
              "      <th>DD with comorbidities</th>\n",
              "      <td>879</td>\n",
              "    </tr>\n",
              "    <tr>\n",
              "      <th>Dropout</th>\n",
              "      <td>526</td>\n",
              "    </tr>\n",
              "    <tr>\n",
              "      <th>Other diagnosis</th>\n",
              "      <td>2783</td>\n",
              "    </tr>\n",
              "  </tbody>\n",
              "</table>\n",
              "</div>\n",
              "    <div class=\"colab-df-buttons\">\n",
              "\n",
              "  <div class=\"colab-df-container\">\n",
              "    <button class=\"colab-df-convert\" onclick=\"convertToInteractive('df-fc8175af-f4f1-4a91-902f-ab6daa067f5c')\"\n",
              "            title=\"Convert this dataframe to an interactive table.\"\n",
              "            style=\"display:none;\">\n",
              "\n",
              "  <svg xmlns=\"http://www.w3.org/2000/svg\" height=\"24px\" viewBox=\"0 -960 960 960\">\n",
              "    <path d=\"M120-120v-720h720v720H120Zm60-500h600v-160H180v160Zm220 220h160v-160H400v160Zm0 220h160v-160H400v160ZM180-400h160v-160H180v160Zm440 0h160v-160H620v160ZM180-180h160v-160H180v160Zm440 0h160v-160H620v160Z\"/>\n",
              "  </svg>\n",
              "    </button>\n",
              "\n",
              "  <style>\n",
              "    .colab-df-container {\n",
              "      display:flex;\n",
              "      gap: 12px;\n",
              "    }\n",
              "\n",
              "    .colab-df-convert {\n",
              "      background-color: #E8F0FE;\n",
              "      border: none;\n",
              "      border-radius: 50%;\n",
              "      cursor: pointer;\n",
              "      display: none;\n",
              "      fill: #1967D2;\n",
              "      height: 32px;\n",
              "      padding: 0 0 0 0;\n",
              "      width: 32px;\n",
              "    }\n",
              "\n",
              "    .colab-df-convert:hover {\n",
              "      background-color: #E2EBFA;\n",
              "      box-shadow: 0px 1px 2px rgba(60, 64, 67, 0.3), 0px 1px 3px 1px rgba(60, 64, 67, 0.15);\n",
              "      fill: #174EA6;\n",
              "    }\n",
              "\n",
              "    .colab-df-buttons div {\n",
              "      margin-bottom: 4px;\n",
              "    }\n",
              "\n",
              "    [theme=dark] .colab-df-convert {\n",
              "      background-color: #3B4455;\n",
              "      fill: #D2E3FC;\n",
              "    }\n",
              "\n",
              "    [theme=dark] .colab-df-convert:hover {\n",
              "      background-color: #434B5C;\n",
              "      box-shadow: 0px 1px 3px 1px rgba(0, 0, 0, 0.15);\n",
              "      filter: drop-shadow(0px 1px 2px rgba(0, 0, 0, 0.3));\n",
              "      fill: #FFFFFF;\n",
              "    }\n",
              "  </style>\n",
              "\n",
              "    <script>\n",
              "      const buttonEl =\n",
              "        document.querySelector('#df-fc8175af-f4f1-4a91-902f-ab6daa067f5c button.colab-df-convert');\n",
              "      buttonEl.style.display =\n",
              "        google.colab.kernel.accessAllowed ? 'block' : 'none';\n",
              "\n",
              "      async function convertToInteractive(key) {\n",
              "        const element = document.querySelector('#df-fc8175af-f4f1-4a91-902f-ab6daa067f5c');\n",
              "        const dataTable =\n",
              "          await google.colab.kernel.invokeFunction('convertToInteractive',\n",
              "                                                    [key], {});\n",
              "        if (!dataTable) return;\n",
              "\n",
              "        const docLinkHtml = 'Like what you see? Visit the ' +\n",
              "          '<a target=\"_blank\" href=https://colab.research.google.com/notebooks/data_table.ipynb>data table notebook</a>'\n",
              "          + ' to learn more about interactive tables.';\n",
              "        element.innerHTML = '';\n",
              "        dataTable['output_type'] = 'display_data';\n",
              "        await google.colab.output.renderOutput(dataTable, element);\n",
              "        const docLink = document.createElement('div');\n",
              "        docLink.innerHTML = docLinkHtml;\n",
              "        element.appendChild(docLink);\n",
              "      }\n",
              "    </script>\n",
              "  </div>\n",
              "\n",
              "\n",
              "<div id=\"df-1da4052c-f1e7-430b-b5d2-663c08cfd84b\">\n",
              "  <button class=\"colab-df-quickchart\" onclick=\"quickchart('df-1da4052c-f1e7-430b-b5d2-663c08cfd84b')\"\n",
              "            title=\"Suggest charts\"\n",
              "            style=\"display:none;\">\n",
              "\n",
              "<svg xmlns=\"http://www.w3.org/2000/svg\" height=\"24px\"viewBox=\"0 0 24 24\"\n",
              "     width=\"24px\">\n",
              "    <g>\n",
              "        <path d=\"M19 3H5c-1.1 0-2 .9-2 2v14c0 1.1.9 2 2 2h14c1.1 0 2-.9 2-2V5c0-1.1-.9-2-2-2zM9 17H7v-7h2v7zm4 0h-2V7h2v10zm4 0h-2v-4h2v4z\"/>\n",
              "    </g>\n",
              "</svg>\n",
              "  </button>\n",
              "\n",
              "<style>\n",
              "  .colab-df-quickchart {\n",
              "      --bg-color: #E8F0FE;\n",
              "      --fill-color: #1967D2;\n",
              "      --hover-bg-color: #E2EBFA;\n",
              "      --hover-fill-color: #174EA6;\n",
              "      --disabled-fill-color: #AAA;\n",
              "      --disabled-bg-color: #DDD;\n",
              "  }\n",
              "\n",
              "  [theme=dark] .colab-df-quickchart {\n",
              "      --bg-color: #3B4455;\n",
              "      --fill-color: #D2E3FC;\n",
              "      --hover-bg-color: #434B5C;\n",
              "      --hover-fill-color: #FFFFFF;\n",
              "      --disabled-bg-color: #3B4455;\n",
              "      --disabled-fill-color: #666;\n",
              "  }\n",
              "\n",
              "  .colab-df-quickchart {\n",
              "    background-color: var(--bg-color);\n",
              "    border: none;\n",
              "    border-radius: 50%;\n",
              "    cursor: pointer;\n",
              "    display: none;\n",
              "    fill: var(--fill-color);\n",
              "    height: 32px;\n",
              "    padding: 0;\n",
              "    width: 32px;\n",
              "  }\n",
              "\n",
              "  .colab-df-quickchart:hover {\n",
              "    background-color: var(--hover-bg-color);\n",
              "    box-shadow: 0 1px 2px rgba(60, 64, 67, 0.3), 0 1px 3px 1px rgba(60, 64, 67, 0.15);\n",
              "    fill: var(--button-hover-fill-color);\n",
              "  }\n",
              "\n",
              "  .colab-df-quickchart-complete:disabled,\n",
              "  .colab-df-quickchart-complete:disabled:hover {\n",
              "    background-color: var(--disabled-bg-color);\n",
              "    fill: var(--disabled-fill-color);\n",
              "    box-shadow: none;\n",
              "  }\n",
              "\n",
              "  .colab-df-spinner {\n",
              "    border: 2px solid var(--fill-color);\n",
              "    border-color: transparent;\n",
              "    border-bottom-color: var(--fill-color);\n",
              "    animation:\n",
              "      spin 1s steps(1) infinite;\n",
              "  }\n",
              "\n",
              "  @keyframes spin {\n",
              "    0% {\n",
              "      border-color: transparent;\n",
              "      border-bottom-color: var(--fill-color);\n",
              "      border-left-color: var(--fill-color);\n",
              "    }\n",
              "    20% {\n",
              "      border-color: transparent;\n",
              "      border-left-color: var(--fill-color);\n",
              "      border-top-color: var(--fill-color);\n",
              "    }\n",
              "    30% {\n",
              "      border-color: transparent;\n",
              "      border-left-color: var(--fill-color);\n",
              "      border-top-color: var(--fill-color);\n",
              "      border-right-color: var(--fill-color);\n",
              "    }\n",
              "    40% {\n",
              "      border-color: transparent;\n",
              "      border-right-color: var(--fill-color);\n",
              "      border-top-color: var(--fill-color);\n",
              "    }\n",
              "    60% {\n",
              "      border-color: transparent;\n",
              "      border-right-color: var(--fill-color);\n",
              "    }\n",
              "    80% {\n",
              "      border-color: transparent;\n",
              "      border-right-color: var(--fill-color);\n",
              "      border-bottom-color: var(--fill-color);\n",
              "    }\n",
              "    90% {\n",
              "      border-color: transparent;\n",
              "      border-bottom-color: var(--fill-color);\n",
              "    }\n",
              "  }\n",
              "</style>\n",
              "\n",
              "  <script>\n",
              "    async function quickchart(key) {\n",
              "      const quickchartButtonEl =\n",
              "        document.querySelector('#' + key + ' button');\n",
              "      quickchartButtonEl.disabled = true;  // To prevent multiple clicks.\n",
              "      quickchartButtonEl.classList.add('colab-df-spinner');\n",
              "      try {\n",
              "        const charts = await google.colab.kernel.invokeFunction(\n",
              "            'suggestCharts', [key], {});\n",
              "      } catch (error) {\n",
              "        console.error('Error during call to suggestCharts:', error);\n",
              "      }\n",
              "      quickchartButtonEl.classList.remove('colab-df-spinner');\n",
              "      quickchartButtonEl.classList.add('colab-df-quickchart-complete');\n",
              "    }\n",
              "    (() => {\n",
              "      let quickchartButtonEl =\n",
              "        document.querySelector('#df-1da4052c-f1e7-430b-b5d2-663c08cfd84b button');\n",
              "      quickchartButtonEl.style.display =\n",
              "        google.colab.kernel.accessAllowed ? 'block' : 'none';\n",
              "    })();\n",
              "  </script>\n",
              "</div>\n",
              "\n",
              "    </div>\n",
              "  </div>\n"
            ],
            "application/vnd.google.colaboratory.intrinsic+json": {
              "type": "dataframe",
              "summary": "{\n  \"name\": \"data\",\n  \"rows\": 6,\n  \"fields\": [\n    {\n      \"column\": \"Group\",\n      \"properties\": {\n        \"dtype\": \"string\",\n        \"num_unique_values\": 6,\n        \"samples\": [\n          \"All dots\",\n          \"Control\",\n          \"Other diagnosis\"\n        ],\n        \"semantic_type\": \"\",\n        \"description\": \"\"\n      }\n    },\n    {\n      \"column\": \"Identifiers\",\n      \"properties\": {\n        \"dtype\": \"number\",\n        \"std\": 1003,\n        \"min\": 105,\n        \"max\": 2783,\n        \"num_unique_values\": 6,\n        \"samples\": [\n          105,\n          373,\n          2783\n        ],\n        \"semantic_type\": \"\",\n        \"description\": \"\"\n      }\n    }\n  ]\n}"
            }
          },
          "metadata": {},
          "execution_count": 241
        }
      ]
    },
    {
      "cell_type": "code",
      "source": [
        "# Drug Screen\n",
        "# 0 = negative, 1 = positive\n",
        "drugscreens = ['DrugScreen,AMP500', 'DrugScreen,BAR300', 'DrugScreen,BUP10',\n",
        "       'DrugScreen,BZO300', 'DrugScreen,COC150', 'DrugScreen,MAMP500',\n",
        "       'DrugScreen,MDMA500', 'DrugScreen,MTD300', 'DrugScreen,OPI300',\n",
        "       'DrugScreen,OXY100', 'DrugScreen,PCP25', 'DrugScreen,PPX300',\n",
        "       'DrugScreen,TCA1000', 'DrugScreen,THC50', 'DrugScreen,perscribed']\n",
        "for drug in drugscreens:\n",
        "  data[drug] = data[drug].fillna('.')\n",
        "  print('Name of the screen: ', drug, 'Number of subjects with positive test: ', data[data[drug] == '1'].shape[0])\n"
      ],
      "metadata": {
        "id": "CY7ty6g6RWMb",
        "outputId": "528fdc46-d9a1-48e7-9dfd-275c3b6ca578",
        "colab": {
          "base_uri": "https://localhost:8080/"
        }
      },
      "execution_count": 242,
      "outputs": [
        {
          "output_type": "stream",
          "name": "stdout",
          "text": [
            "Name of the screen:  DrugScreen,AMP500 Number of subjects with positive test:  51\n",
            "Name of the screen:  DrugScreen,BAR300 Number of subjects with positive test:  2\n",
            "Name of the screen:  DrugScreen,BUP10 Number of subjects with positive test:  1\n",
            "Name of the screen:  DrugScreen,BZO300 Number of subjects with positive test:  10\n",
            "Name of the screen:  DrugScreen,COC150 Number of subjects with positive test:  1\n",
            "Name of the screen:  DrugScreen,MAMP500 Number of subjects with positive test:  3\n",
            "Name of the screen:  DrugScreen,MDMA500 Number of subjects with positive test:  1\n",
            "Name of the screen:  DrugScreen,MTD300 Number of subjects with positive test:  1\n",
            "Name of the screen:  DrugScreen,OPI300 Number of subjects with positive test:  16\n",
            "Name of the screen:  DrugScreen,OXY100 Number of subjects with positive test:  2\n",
            "Name of the screen:  DrugScreen,PCP25 Number of subjects with positive test:  1\n",
            "Name of the screen:  DrugScreen,PPX300 Number of subjects with positive test:  1\n",
            "Name of the screen:  DrugScreen,TCA1000 Number of subjects with positive test:  5\n",
            "Name of the screen:  DrugScreen,THC50 Number of subjects with positive test:  49\n",
            "Name of the screen:  DrugScreen,perscribed Number of subjects with positive test:  41\n"
          ]
        }
      ]
    },
    {
      "cell_type": "code",
      "source": [
        "# EHQ\n",
        "handedness = data['EHQ,EHQ_Total'].values\n",
        "new_handedness = []\n",
        "for value in handedness:\n",
        "  if value != '.':\n",
        "    new_handedness.append(float(value))\n",
        "  else:\n",
        "    new_handedness.append(value)\n",
        "data['EHQ,EHQ_Total'] = new_handedness"
      ],
      "metadata": {
        "id": "S0Z2jmmJ9NDj"
      },
      "execution_count": 243,
      "outputs": []
    },
    {
      "cell_type": "code",
      "source": [
        "# EVT\n",
        "# if we end up using it, it might make sense to check the validity first in EVT_Valid\n",
        "data['EVT,EVT_Valid'] = data['EVT,EVT_Valid'].fillna('.')\n",
        "number = data[data['EVT,EVT_Complete'] != '1'].shape[0]\n",
        "print('Missing values for EVT scores: ' + str(number) + ' out of ' + str(data.shape[0]))"
      ],
      "metadata": {
        "colab": {
          "base_uri": "https://localhost:8080/"
        },
        "id": "bSYf2r1l_Eqw",
        "outputId": "62e0b965-86f7-4e72-9de6-7621f6a32d9d"
      },
      "execution_count": 244,
      "outputs": [
        {
          "output_type": "stream",
          "name": "stdout",
          "text": [
            "Missing values for EVT scores: 4528 out of 4867\n"
          ]
        }
      ]
    },
    {
      "cell_type": "code",
      "source": [
        "# GFTA\n",
        "data['GFTA,GFTA_2_Complete'] = data['GFTA,GFTA_2_Complete'].fillna('.')\n",
        "number = data[data['GFTA,GFTA_2_Complete'] != '1'].shape[0]\n",
        "print('Missing values for GFTA_2 scores: ' + str(number) + ' out of ' + str(data.shape[0]))"
      ],
      "metadata": {
        "colab": {
          "base_uri": "https://localhost:8080/"
        },
        "id": "GnAbvf_v_iLY",
        "outputId": "67237dbb-93a8-44aa-b142-ee8e0e311522"
      },
      "execution_count": 245,
      "outputs": [
        {
          "output_type": "stream",
          "name": "stdout",
          "text": [
            "Missing values for GFTA_2 scores: 4832 out of 4867\n"
          ]
        }
      ]
    },
    {
      "cell_type": "code",
      "source": [
        "# MRI Track\n",
        "# Complete: 1 = All done, 2 = some scans complete, 3 = no scanc complete\n",
        "# Clinical Impression: 1 = Within Normal Limits, 2 = Findings Not Clinically Significant, 3 = Abnormal\n",
        "# RS: resting state complete 0 = No 1 = Yes 2 = Partial\n",
        "# Movie, T1-W, T2 Flair, DWI_PAAX, DWI_APAX\n",
        "names = ['Clinical_Impression', 'Complete', 'DKI64', 'DWI_APAX', 'DWI_PAAX', 'RS']\n",
        "for name in names:\n",
        "  col_name = 'MRI_Track,' + name\n",
        "  data[col_name] = data[col_name].fillna('.')\n",
        "  if name == 'Complete':\n",
        "    print('Completed ', data[data[col_name] == '1'].shape[0], ' participants out of ', data.shape[0])\n",
        "  elif name == 'Clinical_Impression':\n",
        "    print('Within normal limits: ', data[data[col_name] == '1'].shape[0])\n",
        "    print('Findings Not Clinically Significant: ', data[data[col_name] == '2'].shape[0])\n",
        "    print('Abnormal: ', data[data[col_name] == '3'].shape[0])\n",
        "  else:\n",
        "    print(name, 'done ', data[data[col_name] == '1'].shape[0], 'out of ', data.shape[0])"
      ],
      "metadata": {
        "id": "0g0sKMafBXio",
        "outputId": "344accaa-2dc0-4ca7-e1d3-e4198624b22e",
        "colab": {
          "base_uri": "https://localhost:8080/"
        }
      },
      "execution_count": 246,
      "outputs": [
        {
          "output_type": "stream",
          "name": "stdout",
          "text": [
            "Within normal limits:  2924\n",
            "Findings Not Clinically Significant:  281\n",
            "Abnormal:  207\n",
            "Completed  2635  participants out of  4867\n",
            "DKI64 done  2968 out of  4867\n",
            "DWI_APAX done  682 out of  4867\n",
            "DWI_PAAX done  942 out of  4867\n",
            "RS done  3015 out of  4867\n"
          ]
        }
      ]
    },
    {
      "cell_type": "code",
      "source": [
        "# PreInt Language\n",
        "data['PreInt_Lang,Child_Primary_Lang'] = data['PreInt_Lang,Child_Primary_Lang'].fillna('.')\n",
        "data[data['PreInt_Lang,Child_Primary_Lang'] != '.'].groupby(['PreInt_Lang,Child_Primary_Lang'])['Identifiers'].count()"
      ],
      "metadata": {
        "id": "vGpQYthtiILH",
        "outputId": "1c09b596-bdb6-421d-c6ed-af99a54fb567",
        "colab": {
          "base_uri": "https://localhost:8080/",
          "height": 994
        }
      },
      "execution_count": 247,
      "outputs": [
        {
          "output_type": "execute_result",
          "data": {
            "text/plain": [
              "PreInt_Lang,Child_Primary_Lang\n",
              "Bilingual                1\n",
              "Bilungual                1\n",
              "Both (B+E)               1\n",
              "Bulgarian                1\n",
              "Chinese - Mandarin       1\n",
              "ENglish                  1\n",
              "English               3135\n",
              "English                 38\n",
              "English and French       1\n",
              "English/French           1\n",
              "Englsh                   1\n",
              "Englush                  1\n",
              "French                   4\n",
              "Hebrew                   1\n",
              "Hungarian                1\n",
              "Italian                  1\n",
              "Korean                   1\n",
              "Other                    2\n",
              "Polish                   1\n",
              "Portuguese               1\n",
              "Russian                  1\n",
              "Russian                  1\n",
              "Spanish                  7\n",
              "Turkish                  1\n",
              "both                     1\n",
              "both equally             1\n",
              "english                  3\n",
              "v                        1\n",
              "Name: Identifiers, dtype: int64"
            ],
            "text/html": [
              "<div>\n",
              "<style scoped>\n",
              "    .dataframe tbody tr th:only-of-type {\n",
              "        vertical-align: middle;\n",
              "    }\n",
              "\n",
              "    .dataframe tbody tr th {\n",
              "        vertical-align: top;\n",
              "    }\n",
              "\n",
              "    .dataframe thead th {\n",
              "        text-align: right;\n",
              "    }\n",
              "</style>\n",
              "<table border=\"1\" class=\"dataframe\">\n",
              "  <thead>\n",
              "    <tr style=\"text-align: right;\">\n",
              "      <th></th>\n",
              "      <th>Identifiers</th>\n",
              "    </tr>\n",
              "    <tr>\n",
              "      <th>PreInt_Lang,Child_Primary_Lang</th>\n",
              "      <th></th>\n",
              "    </tr>\n",
              "  </thead>\n",
              "  <tbody>\n",
              "    <tr>\n",
              "      <th>Bilingual</th>\n",
              "      <td>1</td>\n",
              "    </tr>\n",
              "    <tr>\n",
              "      <th>Bilungual</th>\n",
              "      <td>1</td>\n",
              "    </tr>\n",
              "    <tr>\n",
              "      <th>Both (B+E)</th>\n",
              "      <td>1</td>\n",
              "    </tr>\n",
              "    <tr>\n",
              "      <th>Bulgarian</th>\n",
              "      <td>1</td>\n",
              "    </tr>\n",
              "    <tr>\n",
              "      <th>Chinese - Mandarin</th>\n",
              "      <td>1</td>\n",
              "    </tr>\n",
              "    <tr>\n",
              "      <th>ENglish</th>\n",
              "      <td>1</td>\n",
              "    </tr>\n",
              "    <tr>\n",
              "      <th>English</th>\n",
              "      <td>3135</td>\n",
              "    </tr>\n",
              "    <tr>\n",
              "      <th>English</th>\n",
              "      <td>38</td>\n",
              "    </tr>\n",
              "    <tr>\n",
              "      <th>English and French</th>\n",
              "      <td>1</td>\n",
              "    </tr>\n",
              "    <tr>\n",
              "      <th>English/French</th>\n",
              "      <td>1</td>\n",
              "    </tr>\n",
              "    <tr>\n",
              "      <th>Englsh</th>\n",
              "      <td>1</td>\n",
              "    </tr>\n",
              "    <tr>\n",
              "      <th>Englush</th>\n",
              "      <td>1</td>\n",
              "    </tr>\n",
              "    <tr>\n",
              "      <th>French</th>\n",
              "      <td>4</td>\n",
              "    </tr>\n",
              "    <tr>\n",
              "      <th>Hebrew</th>\n",
              "      <td>1</td>\n",
              "    </tr>\n",
              "    <tr>\n",
              "      <th>Hungarian</th>\n",
              "      <td>1</td>\n",
              "    </tr>\n",
              "    <tr>\n",
              "      <th>Italian</th>\n",
              "      <td>1</td>\n",
              "    </tr>\n",
              "    <tr>\n",
              "      <th>Korean</th>\n",
              "      <td>1</td>\n",
              "    </tr>\n",
              "    <tr>\n",
              "      <th>Other</th>\n",
              "      <td>2</td>\n",
              "    </tr>\n",
              "    <tr>\n",
              "      <th>Polish</th>\n",
              "      <td>1</td>\n",
              "    </tr>\n",
              "    <tr>\n",
              "      <th>Portuguese</th>\n",
              "      <td>1</td>\n",
              "    </tr>\n",
              "    <tr>\n",
              "      <th>Russian</th>\n",
              "      <td>1</td>\n",
              "    </tr>\n",
              "    <tr>\n",
              "      <th>Russian</th>\n",
              "      <td>1</td>\n",
              "    </tr>\n",
              "    <tr>\n",
              "      <th>Spanish</th>\n",
              "      <td>7</td>\n",
              "    </tr>\n",
              "    <tr>\n",
              "      <th>Turkish</th>\n",
              "      <td>1</td>\n",
              "    </tr>\n",
              "    <tr>\n",
              "      <th>both</th>\n",
              "      <td>1</td>\n",
              "    </tr>\n",
              "    <tr>\n",
              "      <th>both equally</th>\n",
              "      <td>1</td>\n",
              "    </tr>\n",
              "    <tr>\n",
              "      <th>english</th>\n",
              "      <td>3</td>\n",
              "    </tr>\n",
              "    <tr>\n",
              "      <th>v</th>\n",
              "      <td>1</td>\n",
              "    </tr>\n",
              "  </tbody>\n",
              "</table>\n",
              "</div><br><label><b>dtype:</b> int64</label>"
            ]
          },
          "metadata": {},
          "execution_count": 247
        }
      ]
    },
    {
      "cell_type": "code",
      "source": [
        "# PreINT, past head injuries\n",
        "data['PreInt_TxHx,head_injuries'] = data['PreInt_TxHx,head_injuries'].fillna('.')\n",
        "print('Head injuries: ', data[data['PreInt_TxHx,head_injuries'] == '1'].shape[0])"
      ],
      "metadata": {
        "id": "O2RJ5Q09jNJF",
        "outputId": "da247343-d69d-4640-ce8c-8990948060ee",
        "colab": {
          "base_uri": "https://localhost:8080/"
        }
      },
      "execution_count": 248,
      "outputs": [
        {
          "output_type": "stream",
          "name": "stdout",
          "text": [
            "Head injuries:  629\n"
          ]
        }
      ]
    },
    {
      "cell_type": "code",
      "source": [
        "# PreInt psych meds curr\n",
        "data['PreInt_TxHx,psych_meds_cur'] = data['PreInt_TxHx,psych_meds_cur'].fillna('.')\n",
        "print('Psych meds: ', data[data['PreInt_TxHx,psych_meds_cur'] == '1'].shape[0])"
      ],
      "metadata": {
        "id": "8epbBLxvjnCd",
        "outputId": "7e1b80a5-299b-4e66-fe8d-5f230d6e46d1",
        "colab": {
          "base_uri": "https://localhost:8080/"
        }
      },
      "execution_count": 249,
      "outputs": [
        {
          "output_type": "stream",
          "name": "stdout",
          "text": [
            "Psych meds:  794\n"
          ]
        }
      ]
    },
    {
      "cell_type": "code",
      "source": [
        "# RAN-RAS\n",
        "# numbers:\n",
        "# letters:\n",
        "data['RANRAS,RR_Let_Stnd'] = data['RANRAS,RR_Let_Stnd'].fillna('.') # letters\n",
        "data['RANRAS,RR_Num_Stnd'] = data['RANRAS,RR_Num_Stnd'].fillna('.') # numbers\n",
        "data['RANRAS,RR_Let_Raw'] = data['RANRAS,RR_Let_Raw'].fillna('.')\n",
        "data['RANRAS,RR_Num_Raw'] = data['RANRAS,RR_Num_Raw'].fillna('.')\n",
        "\n",
        "print('RAN letters (stnd.): ', data[data['RANRAS,RR_Let_Stnd'] != '.'].shape[0], 'out of ', data.shape[0])\n",
        "print('RAN letters (raw): ', data[data['RANRAS,RR_Let_Raw'] != '.'].shape[0], 'out of ', data.shape[0])\n",
        "print('RAN numbers (stnd.): ', data[data['RANRAS,RR_Num_Stnd'] != '.'].shape[0], 'out of ', data.shape[0])\n",
        "print('RAN numbers (raw): ', data[data['RANRAS,RR_Num_Raw'] != '.'].shape[0], 'out of ', data.shape[0])"
      ],
      "metadata": {
        "id": "99JYvFw3iKBl",
        "colab": {
          "base_uri": "https://localhost:8080/"
        },
        "outputId": "1779671d-d048-4376-bfe0-63fbaddcadb6"
      },
      "execution_count": 250,
      "outputs": [
        {
          "output_type": "stream",
          "name": "stdout",
          "text": [
            "RAN letters (stnd.):  235 out of  4867\n",
            "RAN letters (raw):  235 out of  4867\n",
            "RAN numbers (stnd.):  51 out of  4867\n",
            "RAN numbers (raw):  51 out of  4867\n"
          ]
        }
      ]
    },
    {
      "cell_type": "code",
      "source": [
        "# IQ tests\n",
        "def IQ_tests(df):\n",
        "  kbit_columns = ['IQ_Comp', 'Incomplete_Reason', 'Invalid_Reason', 'Valid', 'Complete',\n",
        "             'NV_Standard', 'V_Standard']\n",
        "  wasi_columns = ['Complete', 'Valid', 'incomplete_reason', 'Invalid_Reason',\n",
        "                  'FSIQ', 'PRI_Comp', 'VCI_Comp']\n",
        "  wais_columns = ['Complete', 'Valid', 'Incomplete_Reason', 'Invalid_Reason',\n",
        "                  'FSIQ_COMP', 'PRI_COMP', 'VCI_COMP']\n",
        "  wisc_columns = ['complete', 'incomplete_reason', 'VCI', 'PSI', 'FSIQ']\n",
        "  wisc_remote_columns = ['complete', 'incomplete_reason', 'VCI', 'NSI', 'NMFSIQ'] # NSI instead of PSI, no processing speed in this one, only naming speed\n",
        "  wiat_columns = ['Complete', 'Valid', 'Incomplete_reason', 'Invalid_Reason',\n",
        "                  'Pseudo_Stnd', 'Word_Stnd', 'RC_Stnd'] # decide on the subtests and whether standard\n",
        "\n",
        "  columns = [kbit_columns, wasi_columns, wais_columns, wisc_columns, wisc_remote_columns, wiat_columns]\n",
        "  col_names = ['KBIT,KBIT_', 'WASI,WASI_', 'WAIS,WAIS_', 'WISC,WISC_', 'WISC_Remote,WISC_', 'WIAT,WIAT_']\n",
        "  for col_list in columns:\n",
        "    ind_name = columns.index(col_list)\n",
        "    for name in col_list:\n",
        "      col_name = col_names[ind_name] + name\n",
        "      df[col_name] = df[col_name].fillna('.')\n",
        "\n",
        "  all_iq_tests = []\n",
        "  iq_tests = []\n",
        "  iq_score = []\n",
        "  nv_iq = []\n",
        "  v_iq = []\n",
        "  status = []\n",
        "  total_reading = []\n",
        "  total_reading_status = []\n",
        "  for i in range(0, data.shape[0]):\n",
        "    subset = df.iloc[i] # a particular raw will all the values\n",
        "    age = subset['Basic_Demos,Age']\n",
        "    inter_iq_test = []\n",
        "    inter_iq_score = []\n",
        "    inter_iq_status = []\n",
        "    inter_nv = []\n",
        "    inter_v = []\n",
        "\n",
        "    # KBIT\n",
        "    kbit_score = subset['KBIT,KBIT_IQ_Comp']\n",
        "    kbit_complete = subset['KBIT,KBIT_Complete']\n",
        "    kbit_valid = subset['KBIT,KBIT_Valid']\n",
        "    kbit_nv = subset['KBIT,KBIT_NV_Standard']\n",
        "    kbit_v = subset['KBIT,KBIT_V_Standard']\n",
        "    if kbit_score != '.': # only if we have a calculated composite score\n",
        "      inter_iq_test.append('KBIT')\n",
        "      inter_iq_score.append(int(kbit_score))\n",
        "      inter_nv.append(int(kbit_nv)) # need to check whether there are cases where we have composite score, but do not have separate v erbal and non verbal scores\n",
        "      inter_v.append(int(kbit_v))\n",
        "      if kbit_complete == '1' and kbit_valid == '1':\n",
        "        inter_iq_status.append('Complete and Valid')\n",
        "      elif kbit_complete == '1' and kbit_valid == '0':\n",
        "        inter_iq_status.append('Complete and Not valid')\n",
        "      elif kbit_complete == '0' and kbit_valid == '0':\n",
        "        inter_iq_status.append('Not complete and Not valid')\n",
        "      else:\n",
        "         inter_iq_status.append('N/A')\n",
        "\n",
        "    # WASI\n",
        "    wasi_score = subset['WASI,WASI_FSIQ']\n",
        "    wasi_complete = subset['WASI,WASI_Complete']\n",
        "    wasi_valid = subset['WASI,WASI_Valid']\n",
        "    wasi_nv = subset['WASI,WASI_PRI_Comp']\n",
        "    wasi_v = subset['WASI,WASI_VCI_Comp']\n",
        "    if wasi_score != '.': # only if we have a calculated composite score\n",
        "      inter_iq_test.append('WASI')\n",
        "      inter_iq_score.append(int(wasi_score))\n",
        "      inter_nv.append(int(wasi_nv)) # need to check whether there are cases where we have composite score, but do not have separate v erbal and non verbal scores\n",
        "      inter_v.append(int(wasi_v))\n",
        "      if wasi_complete == '1' and wasi_valid == '1':\n",
        "        inter_iq_status.append('Complete and Valid')\n",
        "      elif wasi_complete == '1' and wasi_valid == '0':\n",
        "        inter_iq_status.append('Complete and Not valid')\n",
        "      elif wasi_complete == '0' and wasi_valid == '0':\n",
        "        inter_iq_status.append('Not complete and Not valid')\n",
        "      else:\n",
        "         inter_iq_status.append('N/A')\n",
        "\n",
        "    # WAIS\n",
        "    wais_score = subset['WAIS,WAIS_FSIQ_COMP']\n",
        "    wais_complete = subset['WAIS,WAIS_Complete']\n",
        "    wais_valid = subset['WAIS,WAIS_Valid']\n",
        "    wais_nv = subset['WAIS,WAIS_PRI_COMP']\n",
        "    wais_v = subset['WAIS,WAIS_VCI_COMP']\n",
        "    if wais_score != '.': # only if we have a calculated composite score\n",
        "      inter_iq_test.append('WAIS')\n",
        "      inter_iq_score.append(int(wais_score))\n",
        "      inter_nv.append(int(wais_nv)) # need to check whether there are cases where we have composite score, but do not have separate v erbal and non verbal scores\n",
        "      inter_v.append(int(wais_v))\n",
        "      if wais_complete == '1' and wais_valid == '1':\n",
        "        inter_iq_status.append('Complete and Valid')\n",
        "      elif wais_complete == '1' and wais_valid == '0':\n",
        "        inter_iq_status.append('Complete and Not valid')\n",
        "      elif wais_complete == '0' and wais_valid == '0':\n",
        "        inter_iq_status.append('Not complete and Not valid')\n",
        "      else:\n",
        "         inter_iq_status.append('N/A')\n",
        "\n",
        "    # WISC\n",
        "    wisc_score = subset['WISC,WISC_FSIQ']\n",
        "    wisc_complete = subset['WISC,WISC_complete']\n",
        "    wisc_nv = subset['WISC,WISC_PSI']\n",
        "    wisc_v = subset['WISC,WISC_VCI']\n",
        "    if wisc_score != '.': # only if we have a calculated composite score\n",
        "      inter_iq_test.append('WISC')\n",
        "      inter_iq_score.append(int(wisc_score))\n",
        "      if wisc_nv != '.':\n",
        "        inter_nv.append(int(wisc_nv)) # need to check whether there are cases where we have composite score, but do not have separate v erbal and non verbal scores\n",
        "      else:\n",
        "        inter_nv.append('N/A')\n",
        "      if wisc_v != '.':\n",
        "        inter_v.append(int(wisc_v))\n",
        "      else:\n",
        "        inter_v.append('N/A')\n",
        "      if wisc_complete == '0':\n",
        "        inter_iq_status.append('Not complete')\n",
        "      elif wisc_complete == '1':\n",
        "        inter_iq_status.append('Complete')\n",
        "      else:\n",
        "         inter_iq_status.append('N/A')\n",
        "\n",
        "\n",
        "    # WISC_Remote\n",
        "    wisc_remote_score = subset['WISC_Remote,WISC_NMFSIQ']\n",
        "    wisc_remote_complete = subset['WISC_Remote,WISC_complete']\n",
        "    wisc_remote_nv = subset['WISC_Remote,WISC_NSI']\n",
        "    wisc_remote_v = subset['WISC_Remote,WISC_VCI']\n",
        "    if wisc_remote_score != '.': # only if we have a calculated composite score\n",
        "      inter_iq_test.append('WISC')\n",
        "      inter_iq_score.append(int(wisc_remote_score))\n",
        "      if wisc_remote_nv != '.':\n",
        "        inter_nv.append(int(wisc_remote_nv)) # need to check whether there are cases where we have composite score, but do not have separate v erbal and non verbal scores\n",
        "      else:\n",
        "        inter_nv.append('N/A')\n",
        "      if wisc_remote_v != '.':\n",
        "        inter_v.append(int(wisc_remote_v))\n",
        "      else:\n",
        "        inter_v.append('N/A')\n",
        "      if wisc_remote_complete == '0':\n",
        "        inter_iq_status.append('Not complete')\n",
        "      elif wisc_remote_complete == '1':\n",
        "        inter_iq_status.append('Complete')\n",
        "      else:\n",
        "         inter_iq_status.append('N/A')\n",
        "\n",
        "    # outcome iq for each subject\n",
        "    if len(inter_iq_score) == 1:\n",
        "      all_iq_tests.append(inter_iq_test[0])\n",
        "      iq_tests.append(inter_iq_test[0])\n",
        "      iq_score.append(inter_iq_score[0])\n",
        "      status.append(inter_iq_status[0])\n",
        "      nv_iq.append(inter_nv[0])\n",
        "      v_iq.append(inter_v[0])\n",
        "    else:\n",
        "      if 'KBIT' and 'WISC' in inter_iq_test:\n",
        "        if age < 6:\n",
        "          all_iq_tests.append('KBIT, WISC')\n",
        "          ind = inter_iq_test.index('KBIT')\n",
        "          iq_tests.append(inter_iq_test[ind])\n",
        "          iq_score.append(inter_iq_score[ind])\n",
        "          status.append(inter_iq_status[ind])\n",
        "          nv_iq.append(inter_nv[ind])\n",
        "          v_iq.append(inter_v[ind])\n",
        "        else:\n",
        "          ind = inter_iq_test.index('WISC')\n",
        "          all_iq_tests.append('KBIT, WISC')\n",
        "          iq_tests.append(inter_iq_test[ind])\n",
        "          iq_score.append(inter_iq_score[ind])\n",
        "          status.append(inter_iq_status[ind])\n",
        "          nv_iq.append(inter_nv[ind])\n",
        "          v_iq.append(inter_v[ind])\n",
        "      elif 'KBIT' and 'WASI' in inter_iq_test:\n",
        "        if age < 6:\n",
        "          all_iq_tests.append('KBIT, WASI')\n",
        "          ind = inter_iq_test.index('KBIT')\n",
        "          iq_tests.append(inter_iq_test[ind])\n",
        "          iq_score.append(inter_iq_score[ind])\n",
        "          status.append(inter_iq_status[ind])\n",
        "          nv_iq.append(inter_nv[ind])\n",
        "          v_iq.append(inter_v[ind])\n",
        "        else:\n",
        "          all_iq_tests.append('KBIT, WASI')\n",
        "          ind = inter_iq_test.index('WASI')\n",
        "          iq_tests.append(inter_iq_test[ind])\n",
        "          iq_score.append(inter_iq_score[ind])\n",
        "          status.append(inter_iq_status[ind])\n",
        "          nv_iq.append(inter_nv[ind])\n",
        "          v_iq.append(inter_v[ind])\n",
        "      elif len(inter_iq_test) == 0:\n",
        "        all_iq_tests.append('No IQ')\n",
        "        iq_tests.append('No IQ')\n",
        "        iq_score.append('No IQ')\n",
        "        nv_iq.append('No IQ')\n",
        "        v_iq.append('No IQ')\n",
        "        status.append('No IQ')\n",
        "\n",
        "      else: # in case there are results on different tests - what do we do now\n",
        "        print('Subject ', subset['Identifiers'], 'Tests done: ', inter_iq_test)\n",
        "        print('Subject ', i, 'Score for the tests: ', inter_iq_score)\n",
        "        print('Subject ', i, 'Status of the test results: ', inter_iq_status)\n",
        "        print('Subject ', i, 'Nonverbal scores: ', inter_nv)\n",
        "        print('Subject ', i, 'Verbal scores: ', inter_v)\n",
        "        break\n",
        "\n",
        "      # WIAT\n",
        "      # Total Reading score calculation\n",
        "    wiat_pseudo = subset['WIAT,WIAT_Pseudo_Stnd']\n",
        "    wiat_word = subset['WIAT,WIAT_Word_Stnd']\n",
        "    wiat_rc = subset['WIAT,WIAT_RC_Stnd']\n",
        "    wiat_complete = subset['WIAT,WIAT_Complete']\n",
        "    wiat_valid = subset['WIAT,WIAT_Valid']\n",
        "    if wiat_pseudo != '.' and wiat_word != '.' and wiat_rc != '.':\n",
        "        score = (int(wiat_pseudo) + int(wiat_word) + int(wiat_rc)) / 3\n",
        "        total_reading.append(score)\n",
        "    else:\n",
        "      elements = [('pseudo', wiat_pseudo), ('word', wiat_word), ('rc', wiat_rc)]\n",
        "      existing_elements = ', '.join(name for name, value in elements if value != '.')\n",
        "      total_reading.append(existing_elements)\n",
        "    if wiat_complete == '1' and wiat_valid == '1':\n",
        "          total_reading_status.append('Complete and Valid')\n",
        "    elif wiat_complete == '1' and wiat_valid == '3':\n",
        "          total_reading_status.append('Complete and Valid')\n",
        "    elif wiat_complete == '1' and wiat_valid == '0':\n",
        "          total_reading_status.append('Complete and Not valid')\n",
        "    elif wiat_complete == '0' and wiat_valid == '1':\n",
        "          total_reading_status.append('Not complete and Valid')\n",
        "    elif wiat_complete == '0' and wiat_valid == '0':\n",
        "          total_reading_status.append('Not complete and Not valid')\n",
        "    else:\n",
        "          total_reading_status.append('N/A')\n",
        "\n",
        "\n",
        "  return all_iq_tests, iq_tests, iq_score, nv_iq, v_iq, status, total_reading, total_reading_status"
      ],
      "metadata": {
        "id": "BngkfgIABVpx"
      },
      "execution_count": 253,
      "outputs": []
    },
    {
      "cell_type": "code",
      "source": [
        "all_iq_tests, iq_tests, iq_score, nv_iq, v_iq, status, total_reading, total_reading_status = IQ_tests(data)\n",
        "data['All_IQ_done'] = all_iq_tests\n",
        "data['IQ_test'] = iq_tests\n",
        "data['IQ'] = iq_score\n",
        "data['nvIQ'] = nv_iq\n",
        "data['vIQ'] = v_iq\n",
        "data['IQ_status'] = status\n",
        "data['Total_Reading'] = total_reading\n",
        "data['Total_Reading_Status'] = total_reading_status"
      ],
      "metadata": {
        "id": "CwRpnU51__ft",
        "outputId": "9cf48e25-c27f-430c-d7a6-43d6df9150fe",
        "colab": {
          "base_uri": "https://localhost:8080/"
        }
      },
      "execution_count": 254,
      "outputs": [
        {
          "output_type": "stream",
          "name": "stderr",
          "text": [
            "<ipython-input-254-845386b4e373>:2: PerformanceWarning: DataFrame is highly fragmented.  This is usually the result of calling `frame.insert` many times, which has poor performance.  Consider joining all columns at once using pd.concat(axis=1) instead. To get a de-fragmented frame, use `newframe = frame.copy()`\n",
            "  data['All_IQ_done'] = all_iq_tests\n",
            "<ipython-input-254-845386b4e373>:3: PerformanceWarning: DataFrame is highly fragmented.  This is usually the result of calling `frame.insert` many times, which has poor performance.  Consider joining all columns at once using pd.concat(axis=1) instead. To get a de-fragmented frame, use `newframe = frame.copy()`\n",
            "  data['IQ_test'] = iq_tests\n",
            "<ipython-input-254-845386b4e373>:4: PerformanceWarning: DataFrame is highly fragmented.  This is usually the result of calling `frame.insert` many times, which has poor performance.  Consider joining all columns at once using pd.concat(axis=1) instead. To get a de-fragmented frame, use `newframe = frame.copy()`\n",
            "  data['IQ'] = iq_score\n",
            "<ipython-input-254-845386b4e373>:5: PerformanceWarning: DataFrame is highly fragmented.  This is usually the result of calling `frame.insert` many times, which has poor performance.  Consider joining all columns at once using pd.concat(axis=1) instead. To get a de-fragmented frame, use `newframe = frame.copy()`\n",
            "  data['nvIQ'] = nv_iq\n",
            "<ipython-input-254-845386b4e373>:6: PerformanceWarning: DataFrame is highly fragmented.  This is usually the result of calling `frame.insert` many times, which has poor performance.  Consider joining all columns at once using pd.concat(axis=1) instead. To get a de-fragmented frame, use `newframe = frame.copy()`\n",
            "  data['vIQ'] = v_iq\n",
            "<ipython-input-254-845386b4e373>:7: PerformanceWarning: DataFrame is highly fragmented.  This is usually the result of calling `frame.insert` many times, which has poor performance.  Consider joining all columns at once using pd.concat(axis=1) instead. To get a de-fragmented frame, use `newframe = frame.copy()`\n",
            "  data['IQ_status'] = status\n",
            "<ipython-input-254-845386b4e373>:8: PerformanceWarning: DataFrame is highly fragmented.  This is usually the result of calling `frame.insert` many times, which has poor performance.  Consider joining all columns at once using pd.concat(axis=1) instead. To get a de-fragmented frame, use `newframe = frame.copy()`\n",
            "  data['Total_Reading'] = total_reading\n",
            "<ipython-input-254-845386b4e373>:9: PerformanceWarning: DataFrame is highly fragmented.  This is usually the result of calling `frame.insert` many times, which has poor performance.  Consider joining all columns at once using pd.concat(axis=1) instead. To get a de-fragmented frame, use `newframe = frame.copy()`\n",
            "  data['Total_Reading_Status'] = total_reading_status\n"
          ]
        }
      ]
    },
    {
      "cell_type": "markdown",
      "source": [
        "## Exclusion"
      ],
      "metadata": {
        "id": "SKLY8kv0GHLO"
      }
    },
    {
      "cell_type": "code",
      "source": [
        "data_filtered = data.copy() # full"
      ],
      "metadata": {
        "id": "BDavNtBpXy1W"
      },
      "execution_count": 255,
      "outputs": []
    },
    {
      "cell_type": "code",
      "source": [
        "# only right-handed\n",
        "# in the original test, people are considered to be right-handed when the score >= 40\n",
        "# in the materials to the dataset, people above 48 >= considered right-handed\n",
        "subset = data_filtered[(data_filtered['EHQ,EHQ_Total'] != '.') & (data_filtered['Group'].isin(['Control', 'DD', 'DD with comorbidities']))]\n",
        "print('Missing values for handedness who didnot dropped out, and control or DD: ',\n",
        "      data_filtered[(data_filtered['EHQ,EHQ_Total'] == '.') & (data_filtered['Basic_Demos,Participant_Status'] == 'Complete') &\n",
        "      (data_filtered['Group'].isin(['Control', 'DD', 'DD with comorbidities']))].shape[0])\n",
        "print('People with EHQ score above 40: ',\n",
        "    subset[subset['EHQ,EHQ_Total'] >= 40].shape[0])\n",
        "print('People with EHQ score above 48: ',\n",
        "    subset[subset['EHQ,EHQ_Total'] >= 48].shape[0])\n",
        "\n",
        "# So the difference is in 72 people. Let's stick to 40 for now:\n",
        "data_filtered = data_filtered[data_filtered['EHQ,EHQ_Total'] != '.'] # Losing 19 people from our sample here\n",
        "data_filtered = data_filtered[data_filtered['EHQ,EHQ_Total'] >= 40]"
      ],
      "metadata": {
        "colab": {
          "base_uri": "https://localhost:8080/"
        },
        "id": "4enadjWmla4z",
        "outputId": "72baa330-3974-4754-ae1b-23a6da0c37a8"
      },
      "execution_count": 256,
      "outputs": [
        {
          "output_type": "stream",
          "name": "stdout",
          "text": [
            "Missing values for handedness who didnot dropped out, and control or DD:  19\n",
            "People with EHQ score above 40:  1117\n",
            "People with EHQ score above 48:  1045\n"
          ]
        }
      ]
    },
    {
      "cell_type": "code",
      "source": [
        "# Age, not older than 18 years old\n",
        "data_filtered = data_filtered[data_filtered['Basic_Demos,Age'] <= 18]"
      ],
      "metadata": {
        "id": "8scSlXqJFsfH"
      },
      "execution_count": 257,
      "outputs": []
    },
    {
      "cell_type": "code",
      "source": [
        "# Choosing the ones with Dyslexia and comorbidities\n",
        "data_filtered.groupby(['Group'])[['Identifiers']].count()"
      ],
      "metadata": {
        "id": "jQgOhENiA79n",
        "outputId": "34a62a68-cfdd-4253-ca81-a4a1c9118b1d",
        "colab": {
          "base_uri": "https://localhost:8080/",
          "height": 269
        }
      },
      "execution_count": 258,
      "outputs": [
        {
          "output_type": "execute_result",
          "data": {
            "text/plain": [
              "                       Identifiers\n",
              "Group                             \n",
              "All dots                        72\n",
              "Control                        280\n",
              "DD                             157\n",
              "DD with comorbidities          660\n",
              "Dropout                        304\n",
              "Other diagnosis               2048"
            ],
            "text/html": [
              "\n",
              "  <div id=\"df-150ee4dd-0a7e-45c7-b24b-82b750edc1f4\" class=\"colab-df-container\">\n",
              "    <div>\n",
              "<style scoped>\n",
              "    .dataframe tbody tr th:only-of-type {\n",
              "        vertical-align: middle;\n",
              "    }\n",
              "\n",
              "    .dataframe tbody tr th {\n",
              "        vertical-align: top;\n",
              "    }\n",
              "\n",
              "    .dataframe thead th {\n",
              "        text-align: right;\n",
              "    }\n",
              "</style>\n",
              "<table border=\"1\" class=\"dataframe\">\n",
              "  <thead>\n",
              "    <tr style=\"text-align: right;\">\n",
              "      <th></th>\n",
              "      <th>Identifiers</th>\n",
              "    </tr>\n",
              "    <tr>\n",
              "      <th>Group</th>\n",
              "      <th></th>\n",
              "    </tr>\n",
              "  </thead>\n",
              "  <tbody>\n",
              "    <tr>\n",
              "      <th>All dots</th>\n",
              "      <td>72</td>\n",
              "    </tr>\n",
              "    <tr>\n",
              "      <th>Control</th>\n",
              "      <td>280</td>\n",
              "    </tr>\n",
              "    <tr>\n",
              "      <th>DD</th>\n",
              "      <td>157</td>\n",
              "    </tr>\n",
              "    <tr>\n",
              "      <th>DD with comorbidities</th>\n",
              "      <td>660</td>\n",
              "    </tr>\n",
              "    <tr>\n",
              "      <th>Dropout</th>\n",
              "      <td>304</td>\n",
              "    </tr>\n",
              "    <tr>\n",
              "      <th>Other diagnosis</th>\n",
              "      <td>2048</td>\n",
              "    </tr>\n",
              "  </tbody>\n",
              "</table>\n",
              "</div>\n",
              "    <div class=\"colab-df-buttons\">\n",
              "\n",
              "  <div class=\"colab-df-container\">\n",
              "    <button class=\"colab-df-convert\" onclick=\"convertToInteractive('df-150ee4dd-0a7e-45c7-b24b-82b750edc1f4')\"\n",
              "            title=\"Convert this dataframe to an interactive table.\"\n",
              "            style=\"display:none;\">\n",
              "\n",
              "  <svg xmlns=\"http://www.w3.org/2000/svg\" height=\"24px\" viewBox=\"0 -960 960 960\">\n",
              "    <path d=\"M120-120v-720h720v720H120Zm60-500h600v-160H180v160Zm220 220h160v-160H400v160Zm0 220h160v-160H400v160ZM180-400h160v-160H180v160Zm440 0h160v-160H620v160ZM180-180h160v-160H180v160Zm440 0h160v-160H620v160Z\"/>\n",
              "  </svg>\n",
              "    </button>\n",
              "\n",
              "  <style>\n",
              "    .colab-df-container {\n",
              "      display:flex;\n",
              "      gap: 12px;\n",
              "    }\n",
              "\n",
              "    .colab-df-convert {\n",
              "      background-color: #E8F0FE;\n",
              "      border: none;\n",
              "      border-radius: 50%;\n",
              "      cursor: pointer;\n",
              "      display: none;\n",
              "      fill: #1967D2;\n",
              "      height: 32px;\n",
              "      padding: 0 0 0 0;\n",
              "      width: 32px;\n",
              "    }\n",
              "\n",
              "    .colab-df-convert:hover {\n",
              "      background-color: #E2EBFA;\n",
              "      box-shadow: 0px 1px 2px rgba(60, 64, 67, 0.3), 0px 1px 3px 1px rgba(60, 64, 67, 0.15);\n",
              "      fill: #174EA6;\n",
              "    }\n",
              "\n",
              "    .colab-df-buttons div {\n",
              "      margin-bottom: 4px;\n",
              "    }\n",
              "\n",
              "    [theme=dark] .colab-df-convert {\n",
              "      background-color: #3B4455;\n",
              "      fill: #D2E3FC;\n",
              "    }\n",
              "\n",
              "    [theme=dark] .colab-df-convert:hover {\n",
              "      background-color: #434B5C;\n",
              "      box-shadow: 0px 1px 3px 1px rgba(0, 0, 0, 0.15);\n",
              "      filter: drop-shadow(0px 1px 2px rgba(0, 0, 0, 0.3));\n",
              "      fill: #FFFFFF;\n",
              "    }\n",
              "  </style>\n",
              "\n",
              "    <script>\n",
              "      const buttonEl =\n",
              "        document.querySelector('#df-150ee4dd-0a7e-45c7-b24b-82b750edc1f4 button.colab-df-convert');\n",
              "      buttonEl.style.display =\n",
              "        google.colab.kernel.accessAllowed ? 'block' : 'none';\n",
              "\n",
              "      async function convertToInteractive(key) {\n",
              "        const element = document.querySelector('#df-150ee4dd-0a7e-45c7-b24b-82b750edc1f4');\n",
              "        const dataTable =\n",
              "          await google.colab.kernel.invokeFunction('convertToInteractive',\n",
              "                                                    [key], {});\n",
              "        if (!dataTable) return;\n",
              "\n",
              "        const docLinkHtml = 'Like what you see? Visit the ' +\n",
              "          '<a target=\"_blank\" href=https://colab.research.google.com/notebooks/data_table.ipynb>data table notebook</a>'\n",
              "          + ' to learn more about interactive tables.';\n",
              "        element.innerHTML = '';\n",
              "        dataTable['output_type'] = 'display_data';\n",
              "        await google.colab.output.renderOutput(dataTable, element);\n",
              "        const docLink = document.createElement('div');\n",
              "        docLink.innerHTML = docLinkHtml;\n",
              "        element.appendChild(docLink);\n",
              "      }\n",
              "    </script>\n",
              "  </div>\n",
              "\n",
              "\n",
              "<div id=\"df-d2192f29-64e2-4794-939b-982ff227ba18\">\n",
              "  <button class=\"colab-df-quickchart\" onclick=\"quickchart('df-d2192f29-64e2-4794-939b-982ff227ba18')\"\n",
              "            title=\"Suggest charts\"\n",
              "            style=\"display:none;\">\n",
              "\n",
              "<svg xmlns=\"http://www.w3.org/2000/svg\" height=\"24px\"viewBox=\"0 0 24 24\"\n",
              "     width=\"24px\">\n",
              "    <g>\n",
              "        <path d=\"M19 3H5c-1.1 0-2 .9-2 2v14c0 1.1.9 2 2 2h14c1.1 0 2-.9 2-2V5c0-1.1-.9-2-2-2zM9 17H7v-7h2v7zm4 0h-2V7h2v10zm4 0h-2v-4h2v4z\"/>\n",
              "    </g>\n",
              "</svg>\n",
              "  </button>\n",
              "\n",
              "<style>\n",
              "  .colab-df-quickchart {\n",
              "      --bg-color: #E8F0FE;\n",
              "      --fill-color: #1967D2;\n",
              "      --hover-bg-color: #E2EBFA;\n",
              "      --hover-fill-color: #174EA6;\n",
              "      --disabled-fill-color: #AAA;\n",
              "      --disabled-bg-color: #DDD;\n",
              "  }\n",
              "\n",
              "  [theme=dark] .colab-df-quickchart {\n",
              "      --bg-color: #3B4455;\n",
              "      --fill-color: #D2E3FC;\n",
              "      --hover-bg-color: #434B5C;\n",
              "      --hover-fill-color: #FFFFFF;\n",
              "      --disabled-bg-color: #3B4455;\n",
              "      --disabled-fill-color: #666;\n",
              "  }\n",
              "\n",
              "  .colab-df-quickchart {\n",
              "    background-color: var(--bg-color);\n",
              "    border: none;\n",
              "    border-radius: 50%;\n",
              "    cursor: pointer;\n",
              "    display: none;\n",
              "    fill: var(--fill-color);\n",
              "    height: 32px;\n",
              "    padding: 0;\n",
              "    width: 32px;\n",
              "  }\n",
              "\n",
              "  .colab-df-quickchart:hover {\n",
              "    background-color: var(--hover-bg-color);\n",
              "    box-shadow: 0 1px 2px rgba(60, 64, 67, 0.3), 0 1px 3px 1px rgba(60, 64, 67, 0.15);\n",
              "    fill: var(--button-hover-fill-color);\n",
              "  }\n",
              "\n",
              "  .colab-df-quickchart-complete:disabled,\n",
              "  .colab-df-quickchart-complete:disabled:hover {\n",
              "    background-color: var(--disabled-bg-color);\n",
              "    fill: var(--disabled-fill-color);\n",
              "    box-shadow: none;\n",
              "  }\n",
              "\n",
              "  .colab-df-spinner {\n",
              "    border: 2px solid var(--fill-color);\n",
              "    border-color: transparent;\n",
              "    border-bottom-color: var(--fill-color);\n",
              "    animation:\n",
              "      spin 1s steps(1) infinite;\n",
              "  }\n",
              "\n",
              "  @keyframes spin {\n",
              "    0% {\n",
              "      border-color: transparent;\n",
              "      border-bottom-color: var(--fill-color);\n",
              "      border-left-color: var(--fill-color);\n",
              "    }\n",
              "    20% {\n",
              "      border-color: transparent;\n",
              "      border-left-color: var(--fill-color);\n",
              "      border-top-color: var(--fill-color);\n",
              "    }\n",
              "    30% {\n",
              "      border-color: transparent;\n",
              "      border-left-color: var(--fill-color);\n",
              "      border-top-color: var(--fill-color);\n",
              "      border-right-color: var(--fill-color);\n",
              "    }\n",
              "    40% {\n",
              "      border-color: transparent;\n",
              "      border-right-color: var(--fill-color);\n",
              "      border-top-color: var(--fill-color);\n",
              "    }\n",
              "    60% {\n",
              "      border-color: transparent;\n",
              "      border-right-color: var(--fill-color);\n",
              "    }\n",
              "    80% {\n",
              "      border-color: transparent;\n",
              "      border-right-color: var(--fill-color);\n",
              "      border-bottom-color: var(--fill-color);\n",
              "    }\n",
              "    90% {\n",
              "      border-color: transparent;\n",
              "      border-bottom-color: var(--fill-color);\n",
              "    }\n",
              "  }\n",
              "</style>\n",
              "\n",
              "  <script>\n",
              "    async function quickchart(key) {\n",
              "      const quickchartButtonEl =\n",
              "        document.querySelector('#' + key + ' button');\n",
              "      quickchartButtonEl.disabled = true;  // To prevent multiple clicks.\n",
              "      quickchartButtonEl.classList.add('colab-df-spinner');\n",
              "      try {\n",
              "        const charts = await google.colab.kernel.invokeFunction(\n",
              "            'suggestCharts', [key], {});\n",
              "      } catch (error) {\n",
              "        console.error('Error during call to suggestCharts:', error);\n",
              "      }\n",
              "      quickchartButtonEl.classList.remove('colab-df-spinner');\n",
              "      quickchartButtonEl.classList.add('colab-df-quickchart-complete');\n",
              "    }\n",
              "    (() => {\n",
              "      let quickchartButtonEl =\n",
              "        document.querySelector('#df-d2192f29-64e2-4794-939b-982ff227ba18 button');\n",
              "      quickchartButtonEl.style.display =\n",
              "        google.colab.kernel.accessAllowed ? 'block' : 'none';\n",
              "    })();\n",
              "  </script>\n",
              "</div>\n",
              "\n",
              "    </div>\n",
              "  </div>\n"
            ],
            "application/vnd.google.colaboratory.intrinsic+json": {
              "type": "dataframe",
              "summary": "{\n  \"name\": \"data_filtered\",\n  \"rows\": 6,\n  \"fields\": [\n    {\n      \"column\": \"Group\",\n      \"properties\": {\n        \"dtype\": \"string\",\n        \"num_unique_values\": 6,\n        \"samples\": [\n          \"All dots\",\n          \"Control\",\n          \"Other diagnosis\"\n        ],\n        \"semantic_type\": \"\",\n        \"description\": \"\"\n      }\n    },\n    {\n      \"column\": \"Identifiers\",\n      \"properties\": {\n        \"dtype\": \"number\",\n        \"std\": 743,\n        \"min\": 72,\n        \"max\": 2048,\n        \"num_unique_values\": 6,\n        \"samples\": [\n          72,\n          280,\n          2048\n        ],\n        \"semantic_type\": \"\",\n        \"description\": \"\"\n      }\n    }\n  ]\n}"
            }
          },
          "metadata": {},
          "execution_count": 258
        }
      ]
    },
    {
      "cell_type": "code",
      "source": [
        "# Choosing the ones with Dyslexia and comorbidities\n",
        "data_filtered = data_filtered[data_filtered['Group'].isin(['Control', 'DD', 'DD with comorbidities'])]\n",
        "print('Participants with dyslexia: ', data_filtered[data_filtered['Group'] == 'DD'].shape[0])\n",
        "print('Participants with dyslexia with comorbidities: ', data_filtered[data_filtered['Group'] == 'DD with comorbidities'].shape[0])\n",
        "print('Participants with dyslexia: ', data_filtered[data_filtered['Group'] == 'Control'].shape[0])"
      ],
      "metadata": {
        "id": "4BAGfT6HFNhe",
        "outputId": "531f8011-9270-4005-883d-679c311b6b9a",
        "colab": {
          "base_uri": "https://localhost:8080/"
        }
      },
      "execution_count": 259,
      "outputs": [
        {
          "output_type": "stream",
          "name": "stdout",
          "text": [
            "Participants with dyslexia:  157\n",
            "Participants with dyslexia with comorbidities:  660\n",
            "Participants with dyslexia:  280\n"
          ]
        }
      ]
    },
    {
      "cell_type": "code",
      "source": [
        "# Excluding people with intellectual disabilities and autism\n",
        "print(data_filtered[data_filtered['Intellectual_Disability'] == 1].shape[0])\n",
        "data_filtered = data_filtered[~data_filtered['Intellectual_Disability'].isin([1, 2])]"
      ],
      "metadata": {
        "id": "199IqIdMGOBM",
        "outputId": "f17bf7c1-3d79-4531-d217-d9d8e0930553",
        "colab": {
          "base_uri": "https://localhost:8080/"
        }
      },
      "execution_count": 260,
      "outputs": [
        {
          "output_type": "stream",
          "name": "stdout",
          "text": [
            "76\n"
          ]
        }
      ]
    },
    {
      "cell_type": "code",
      "source": [
        "# DD types\n",
        "# we are excluding pure math and writing, and combination of these two\n",
        "print('DD Math type: ', data_filtered[data_filtered['DD'] == 'Math'].shape[0])\n",
        "print('DD Writing type: ', data_filtered[data_filtered['DD'] == 'Writing'].shape[0])\n",
        "print('DD Math+Writing type: ', data_filtered[data_filtered['DD'] == 'Math and Writing'].shape[0])\n",
        "\n",
        "data_filtered = data_filtered[data_filtered['DD'] != 'Math']\n",
        "data_filtered = data_filtered[data_filtered['DD'] != 'Writing']\n",
        "data_filtered = data_filtered[data_filtered['DD'] != 'Math and Writing']"
      ],
      "metadata": {
        "id": "1V7idvA4G4MZ",
        "outputId": "4bc5b1f3-59d0-467c-d935-53a6e97ec3ff",
        "colab": {
          "base_uri": "https://localhost:8080/"
        }
      },
      "execution_count": 261,
      "outputs": [
        {
          "output_type": "stream",
          "name": "stdout",
          "text": [
            "DD Math type:  107\n",
            "DD Writing type:  70\n",
            "DD Math+Writing type:  11\n"
          ]
        }
      ]
    },
    {
      "cell_type": "code",
      "source": [
        "# Medications\n",
        "# vyvanse - stimulant for ADHD, propranolol - heart problems and anxiety\n",
        "# Zyrtec - antihistamine, QVAR - asthma drug, Flovent - asthma drug\n",
        "# Montelukast inflammation, asthma, Zantac - antihistamine, synthroid - thyroid drug\n",
        "# diphacalydramine - antihistamine and sedative, Claritin - antihistamine\n",
        "# Flonase - nasal spray, Folin - vitamin, for C deficiency, guanfacine - blood pressure\n",
        "# Robitussin - coughing drug, Sudafed - bronchite, Albuterol - bronchite\n",
        "# Singular - asthma drug, Lamictal - epileptic seizures, Benadryl - antihistamine\n",
        "# Albuteroc - bronchitis, depakote - migrane, epilepsy, bypolar, Motrin - antiinflamatory\n",
        "# Focalin - ADHD drug, Ketotifen  - asthma\n",
        "print('People taking medications: ', data_filtered[data_filtered['DailyMeds,medications'] == 1].shape[0])\n",
        "data_filtered = data_filtered[~data_filtered['Identifiers'].isin(\n",
        "    ['NDARAA075AMK', 'NDAREM155HGQ', 'NDARFG114VB1', 'NDARFN452VPC',\n",
        "     'NDARJW315BUA', 'NDARNZ615UEU', 'NDARRW940BL6', 'NDARRG415BJM',\n",
        "     'NDARUL224GN6', 'NDARVX850JU5', 'NDARXK462WRZ', 'NDARZL724HAX'])] # review\n",
        "'''data_filtered[data_filtered['DailyMeds,medications'] == 1][['DailyMeds,alc_01', 'DailyMeds,alc_02',\n",
        "       'DailyMeds,alcohol', 'DailyMeds,drugs', 'DailyMeds,drugs_01',\n",
        "       'DailyMeds,drugs_02', 'DailyMeds,med_dose_01', 'DailyMeds,med_dose_02',\n",
        "       'DailyMeds,med_dose_03', 'DailyMeds,med_name_01',\n",
        "       'DailyMeds,med_name_02', 'DailyMeds,med_name_03',\n",
        "       'DailyMeds,med_type_01', 'DailyMeds,med_type_02',\n",
        "       'DailyMeds,med_type_03']]'''"
      ],
      "metadata": {
        "id": "Gv8tB4PThNZX",
        "outputId": "43dc1a57-3791-426a-a175-9ec8634f0a1a",
        "colab": {
          "base_uri": "https://localhost:8080/",
          "height": 87
        }
      },
      "execution_count": 262,
      "outputs": [
        {
          "output_type": "stream",
          "name": "stdout",
          "text": [
            "People taking medications:  24\n"
          ]
        },
        {
          "output_type": "execute_result",
          "data": {
            "text/plain": [
              "\"data_filtered[data_filtered['DailyMeds,medications'] == 1][['DailyMeds,alc_01', 'DailyMeds,alc_02',\\n       'DailyMeds,alcohol', 'DailyMeds,drugs', 'DailyMeds,drugs_01',\\n       'DailyMeds,drugs_02', 'DailyMeds,med_dose_01', 'DailyMeds,med_dose_02',\\n       'DailyMeds,med_dose_03', 'DailyMeds,med_name_01',\\n       'DailyMeds,med_name_02', 'DailyMeds,med_name_03',\\n       'DailyMeds,med_type_01', 'DailyMeds,med_type_02',\\n       'DailyMeds,med_type_03']]\""
            ],
            "application/vnd.google.colaboratory.intrinsic+json": {
              "type": "string"
            }
          },
          "metadata": {},
          "execution_count": 262
        }
      ]
    },
    {
      "cell_type": "code",
      "source": [
        "# Drug Screen\n",
        "drugscreens = ['DrugScreen,AMP500', 'DrugScreen,BAR300', 'DrugScreen,BUP10',\n",
        "       'DrugScreen,BZO300', 'DrugScreen,COC150', 'DrugScreen,MAMP500',\n",
        "       'DrugScreen,MDMA500', 'DrugScreen,MTD300', 'DrugScreen,OPI300',\n",
        "       'DrugScreen,OXY100', 'DrugScreen,PCP25', 'DrugScreen,PPX300',\n",
        "       'DrugScreen,TCA1000', 'DrugScreen,THC50', 'DrugScreen,perscribed']\n",
        "for drug in drugscreens:\n",
        "  if data_filtered[data_filtered[drug] == '1'].shape[0] != 0:\n",
        "    print('Name of the screen: ', drug, 'Number of subjects with positive test: ', data_filtered[data_filtered[drug] == '1'].shape[0])\n",
        "data_filtered = data_filtered[data_filtered['DrugScreen,AMP500'] != '1']\n",
        "data_filtered = data_filtered[data_filtered['DrugScreen,TCA1000'] != '1']\n",
        "data_filtered = data_filtered[data_filtered['DrugScreen,THC50'] != '1']"
      ],
      "metadata": {
        "id": "jhOO_WVfoatX",
        "outputId": "5a4900c6-26c7-4514-ab9a-ae5b142327b7",
        "colab": {
          "base_uri": "https://localhost:8080/"
        }
      },
      "execution_count": 263,
      "outputs": [
        {
          "output_type": "stream",
          "name": "stdout",
          "text": [
            "Name of the screen:  DrugScreen,AMP500 Number of subjects with positive test:  4\n",
            "Name of the screen:  DrugScreen,TCA1000 Number of subjects with positive test:  1\n",
            "Name of the screen:  DrugScreen,THC50 Number of subjects with positive test:  6\n",
            "Name of the screen:  DrugScreen,perscribed Number of subjects with positive test:  3\n"
          ]
        }
      ]
    },
    {
      "cell_type": "code",
      "source": [
        "# IQ > 70\n",
        "print('No IQ done: ', data_filtered[data_filtered['IQ_test'] == 'No IQ'].shape[0])\n",
        "data_filtered = data_filtered[data_filtered['IQ_test'] != 'No IQ']\n",
        "\n",
        "print('IQ < 70: ', data_filtered[data_filtered['IQ'] < 70].shape[0])\n",
        "data_filtered = data_filtered[data_filtered['IQ'] >= 70]"
      ],
      "metadata": {
        "id": "DynVuGGdpJPn",
        "outputId": "5fed2583-38ba-4ff4-d6c1-2663e312b92b",
        "colab": {
          "base_uri": "https://localhost:8080/"
        }
      },
      "execution_count": 264,
      "outputs": [
        {
          "output_type": "stream",
          "name": "stdout",
          "text": [
            "No IQ done:  7\n",
            "IQ < 70:  10\n"
          ]
        }
      ]
    },
    {
      "cell_type": "code",
      "source": [
        "# PreInt Language\n",
        "data_filtered[data_filtered['PreInt_Lang,Child_Primary_Lang'] != '.'].groupby(['PreInt_Lang,Child_Primary_Lang'])['Identifiers'].count()\n",
        "# if we decide to delete non-native speakers of english then\n",
        "data_filtered = data_filtered[data_filtered['PreInt_Lang,Child_Primary_Lang'] != 'Spanish']\n",
        "data_filtered = data_filtered[data_filtered['PreInt_Lang,Child_Primary_Lang'] != 'Portuguese']\n",
        "data_filtered = data_filtered[data_filtered['PreInt_Lang,Child_Primary_Lang'] != 'Italian']"
      ],
      "metadata": {
        "id": "IODUmetopZwO"
      },
      "execution_count": 265,
      "outputs": []
    },
    {
      "cell_type": "markdown",
      "source": [
        "# Characteristics of the ready dataset"
      ],
      "metadata": {
        "id": "6FVNklI1tBUP"
      }
    },
    {
      "cell_type": "code",
      "source": [
        "print('Full dataset')\n",
        "print('Controls: ', data_filtered[data_filtered['Group'] == 'Control'].shape[0])\n",
        "print('DD without comorbidities: ', data_filtered[data_filtered['Group'] == 'DD'].shape[0])\n",
        "print('DD with comorbidities', data_filtered[data_filtered['Group'] == 'DD with comorbidities'].shape[0])"
      ],
      "metadata": {
        "id": "S-ZOMySlUyJL",
        "outputId": "d75b0fa7-5257-4dd6-c839-f86bf0c75bf9",
        "colab": {
          "base_uri": "https://localhost:8080/"
        }
      },
      "execution_count": 266,
      "outputs": [
        {
          "output_type": "stream",
          "name": "stdout",
          "text": [
            "Full dataset\n",
            "Controls:  265\n",
            "DD without comorbidities:  127\n",
            "DD with comorbidities 395\n"
          ]
        }
      ]
    },
    {
      "cell_type": "code",
      "source": [
        "# ADHD statistics\n",
        "# People who have ADHD\n",
        "data_filtered.groupby(['ADHD'])[['Identifiers']].count()\n",
        "print('DD with comorbid ADHD: ', data_filtered[data_filtered['ADHD'].isin([1, 2])].shape[0], ' out of ',\n",
        "      data_filtered[data_filtered['Group'] != 'Control'].shape[0])"
      ],
      "metadata": {
        "id": "sBo37GZRGaoP",
        "outputId": "a625ec7b-3d47-47ba-f3c5-6a868bd84327",
        "colab": {
          "base_uri": "https://localhost:8080/"
        }
      },
      "execution_count": 267,
      "outputs": [
        {
          "output_type": "stream",
          "name": "stdout",
          "text": [
            "DD with comorbid ADHD:  290  out of  522\n"
          ]
        }
      ]
    },
    {
      "cell_type": "code",
      "source": [
        "# Types of DD stats\n",
        "data_filtered[data_filtered['Group'] != 'Control'].groupby(['DD'])[['Identifiers']].count()"
      ],
      "metadata": {
        "id": "9z3GH4VTVTma",
        "outputId": "3dc163f0-4d07-415c-c8fe-847974712c66",
        "colab": {
          "base_uri": "https://localhost:8080/",
          "height": 175
        }
      },
      "execution_count": 268,
      "outputs": [
        {
          "output_type": "execute_result",
          "data": {
            "text/plain": [
              "                            Identifiers\n",
              "DD                                     \n",
              "Reading                             364\n",
              "Reading and Math                    149\n",
              "Reading, Writing, and Math            9"
            ],
            "text/html": [
              "\n",
              "  <div id=\"df-9c2b5e10-2eb3-4d46-a8a8-ec248d8f85f0\" class=\"colab-df-container\">\n",
              "    <div>\n",
              "<style scoped>\n",
              "    .dataframe tbody tr th:only-of-type {\n",
              "        vertical-align: middle;\n",
              "    }\n",
              "\n",
              "    .dataframe tbody tr th {\n",
              "        vertical-align: top;\n",
              "    }\n",
              "\n",
              "    .dataframe thead th {\n",
              "        text-align: right;\n",
              "    }\n",
              "</style>\n",
              "<table border=\"1\" class=\"dataframe\">\n",
              "  <thead>\n",
              "    <tr style=\"text-align: right;\">\n",
              "      <th></th>\n",
              "      <th>Identifiers</th>\n",
              "    </tr>\n",
              "    <tr>\n",
              "      <th>DD</th>\n",
              "      <th></th>\n",
              "    </tr>\n",
              "  </thead>\n",
              "  <tbody>\n",
              "    <tr>\n",
              "      <th>Reading</th>\n",
              "      <td>364</td>\n",
              "    </tr>\n",
              "    <tr>\n",
              "      <th>Reading and Math</th>\n",
              "      <td>149</td>\n",
              "    </tr>\n",
              "    <tr>\n",
              "      <th>Reading, Writing, and Math</th>\n",
              "      <td>9</td>\n",
              "    </tr>\n",
              "  </tbody>\n",
              "</table>\n",
              "</div>\n",
              "    <div class=\"colab-df-buttons\">\n",
              "\n",
              "  <div class=\"colab-df-container\">\n",
              "    <button class=\"colab-df-convert\" onclick=\"convertToInteractive('df-9c2b5e10-2eb3-4d46-a8a8-ec248d8f85f0')\"\n",
              "            title=\"Convert this dataframe to an interactive table.\"\n",
              "            style=\"display:none;\">\n",
              "\n",
              "  <svg xmlns=\"http://www.w3.org/2000/svg\" height=\"24px\" viewBox=\"0 -960 960 960\">\n",
              "    <path d=\"M120-120v-720h720v720H120Zm60-500h600v-160H180v160Zm220 220h160v-160H400v160Zm0 220h160v-160H400v160ZM180-400h160v-160H180v160Zm440 0h160v-160H620v160ZM180-180h160v-160H180v160Zm440 0h160v-160H620v160Z\"/>\n",
              "  </svg>\n",
              "    </button>\n",
              "\n",
              "  <style>\n",
              "    .colab-df-container {\n",
              "      display:flex;\n",
              "      gap: 12px;\n",
              "    }\n",
              "\n",
              "    .colab-df-convert {\n",
              "      background-color: #E8F0FE;\n",
              "      border: none;\n",
              "      border-radius: 50%;\n",
              "      cursor: pointer;\n",
              "      display: none;\n",
              "      fill: #1967D2;\n",
              "      height: 32px;\n",
              "      padding: 0 0 0 0;\n",
              "      width: 32px;\n",
              "    }\n",
              "\n",
              "    .colab-df-convert:hover {\n",
              "      background-color: #E2EBFA;\n",
              "      box-shadow: 0px 1px 2px rgba(60, 64, 67, 0.3), 0px 1px 3px 1px rgba(60, 64, 67, 0.15);\n",
              "      fill: #174EA6;\n",
              "    }\n",
              "\n",
              "    .colab-df-buttons div {\n",
              "      margin-bottom: 4px;\n",
              "    }\n",
              "\n",
              "    [theme=dark] .colab-df-convert {\n",
              "      background-color: #3B4455;\n",
              "      fill: #D2E3FC;\n",
              "    }\n",
              "\n",
              "    [theme=dark] .colab-df-convert:hover {\n",
              "      background-color: #434B5C;\n",
              "      box-shadow: 0px 1px 3px 1px rgba(0, 0, 0, 0.15);\n",
              "      filter: drop-shadow(0px 1px 2px rgba(0, 0, 0, 0.3));\n",
              "      fill: #FFFFFF;\n",
              "    }\n",
              "  </style>\n",
              "\n",
              "    <script>\n",
              "      const buttonEl =\n",
              "        document.querySelector('#df-9c2b5e10-2eb3-4d46-a8a8-ec248d8f85f0 button.colab-df-convert');\n",
              "      buttonEl.style.display =\n",
              "        google.colab.kernel.accessAllowed ? 'block' : 'none';\n",
              "\n",
              "      async function convertToInteractive(key) {\n",
              "        const element = document.querySelector('#df-9c2b5e10-2eb3-4d46-a8a8-ec248d8f85f0');\n",
              "        const dataTable =\n",
              "          await google.colab.kernel.invokeFunction('convertToInteractive',\n",
              "                                                    [key], {});\n",
              "        if (!dataTable) return;\n",
              "\n",
              "        const docLinkHtml = 'Like what you see? Visit the ' +\n",
              "          '<a target=\"_blank\" href=https://colab.research.google.com/notebooks/data_table.ipynb>data table notebook</a>'\n",
              "          + ' to learn more about interactive tables.';\n",
              "        element.innerHTML = '';\n",
              "        dataTable['output_type'] = 'display_data';\n",
              "        await google.colab.output.renderOutput(dataTable, element);\n",
              "        const docLink = document.createElement('div');\n",
              "        docLink.innerHTML = docLinkHtml;\n",
              "        element.appendChild(docLink);\n",
              "      }\n",
              "    </script>\n",
              "  </div>\n",
              "\n",
              "\n",
              "<div id=\"df-e64aec30-1c02-437a-b566-1910ec1adb4e\">\n",
              "  <button class=\"colab-df-quickchart\" onclick=\"quickchart('df-e64aec30-1c02-437a-b566-1910ec1adb4e')\"\n",
              "            title=\"Suggest charts\"\n",
              "            style=\"display:none;\">\n",
              "\n",
              "<svg xmlns=\"http://www.w3.org/2000/svg\" height=\"24px\"viewBox=\"0 0 24 24\"\n",
              "     width=\"24px\">\n",
              "    <g>\n",
              "        <path d=\"M19 3H5c-1.1 0-2 .9-2 2v14c0 1.1.9 2 2 2h14c1.1 0 2-.9 2-2V5c0-1.1-.9-2-2-2zM9 17H7v-7h2v7zm4 0h-2V7h2v10zm4 0h-2v-4h2v4z\"/>\n",
              "    </g>\n",
              "</svg>\n",
              "  </button>\n",
              "\n",
              "<style>\n",
              "  .colab-df-quickchart {\n",
              "      --bg-color: #E8F0FE;\n",
              "      --fill-color: #1967D2;\n",
              "      --hover-bg-color: #E2EBFA;\n",
              "      --hover-fill-color: #174EA6;\n",
              "      --disabled-fill-color: #AAA;\n",
              "      --disabled-bg-color: #DDD;\n",
              "  }\n",
              "\n",
              "  [theme=dark] .colab-df-quickchart {\n",
              "      --bg-color: #3B4455;\n",
              "      --fill-color: #D2E3FC;\n",
              "      --hover-bg-color: #434B5C;\n",
              "      --hover-fill-color: #FFFFFF;\n",
              "      --disabled-bg-color: #3B4455;\n",
              "      --disabled-fill-color: #666;\n",
              "  }\n",
              "\n",
              "  .colab-df-quickchart {\n",
              "    background-color: var(--bg-color);\n",
              "    border: none;\n",
              "    border-radius: 50%;\n",
              "    cursor: pointer;\n",
              "    display: none;\n",
              "    fill: var(--fill-color);\n",
              "    height: 32px;\n",
              "    padding: 0;\n",
              "    width: 32px;\n",
              "  }\n",
              "\n",
              "  .colab-df-quickchart:hover {\n",
              "    background-color: var(--hover-bg-color);\n",
              "    box-shadow: 0 1px 2px rgba(60, 64, 67, 0.3), 0 1px 3px 1px rgba(60, 64, 67, 0.15);\n",
              "    fill: var(--button-hover-fill-color);\n",
              "  }\n",
              "\n",
              "  .colab-df-quickchart-complete:disabled,\n",
              "  .colab-df-quickchart-complete:disabled:hover {\n",
              "    background-color: var(--disabled-bg-color);\n",
              "    fill: var(--disabled-fill-color);\n",
              "    box-shadow: none;\n",
              "  }\n",
              "\n",
              "  .colab-df-spinner {\n",
              "    border: 2px solid var(--fill-color);\n",
              "    border-color: transparent;\n",
              "    border-bottom-color: var(--fill-color);\n",
              "    animation:\n",
              "      spin 1s steps(1) infinite;\n",
              "  }\n",
              "\n",
              "  @keyframes spin {\n",
              "    0% {\n",
              "      border-color: transparent;\n",
              "      border-bottom-color: var(--fill-color);\n",
              "      border-left-color: var(--fill-color);\n",
              "    }\n",
              "    20% {\n",
              "      border-color: transparent;\n",
              "      border-left-color: var(--fill-color);\n",
              "      border-top-color: var(--fill-color);\n",
              "    }\n",
              "    30% {\n",
              "      border-color: transparent;\n",
              "      border-left-color: var(--fill-color);\n",
              "      border-top-color: var(--fill-color);\n",
              "      border-right-color: var(--fill-color);\n",
              "    }\n",
              "    40% {\n",
              "      border-color: transparent;\n",
              "      border-right-color: var(--fill-color);\n",
              "      border-top-color: var(--fill-color);\n",
              "    }\n",
              "    60% {\n",
              "      border-color: transparent;\n",
              "      border-right-color: var(--fill-color);\n",
              "    }\n",
              "    80% {\n",
              "      border-color: transparent;\n",
              "      border-right-color: var(--fill-color);\n",
              "      border-bottom-color: var(--fill-color);\n",
              "    }\n",
              "    90% {\n",
              "      border-color: transparent;\n",
              "      border-bottom-color: var(--fill-color);\n",
              "    }\n",
              "  }\n",
              "</style>\n",
              "\n",
              "  <script>\n",
              "    async function quickchart(key) {\n",
              "      const quickchartButtonEl =\n",
              "        document.querySelector('#' + key + ' button');\n",
              "      quickchartButtonEl.disabled = true;  // To prevent multiple clicks.\n",
              "      quickchartButtonEl.classList.add('colab-df-spinner');\n",
              "      try {\n",
              "        const charts = await google.colab.kernel.invokeFunction(\n",
              "            'suggestCharts', [key], {});\n",
              "      } catch (error) {\n",
              "        console.error('Error during call to suggestCharts:', error);\n",
              "      }\n",
              "      quickchartButtonEl.classList.remove('colab-df-spinner');\n",
              "      quickchartButtonEl.classList.add('colab-df-quickchart-complete');\n",
              "    }\n",
              "    (() => {\n",
              "      let quickchartButtonEl =\n",
              "        document.querySelector('#df-e64aec30-1c02-437a-b566-1910ec1adb4e button');\n",
              "      quickchartButtonEl.style.display =\n",
              "        google.colab.kernel.accessAllowed ? 'block' : 'none';\n",
              "    })();\n",
              "  </script>\n",
              "</div>\n",
              "\n",
              "    </div>\n",
              "  </div>\n"
            ],
            "application/vnd.google.colaboratory.intrinsic+json": {
              "type": "dataframe",
              "summary": "{\n  \"name\": \"data_filtered[data_filtered['Group'] != 'Control']\",\n  \"rows\": 3,\n  \"fields\": [\n    {\n      \"column\": \"DD\",\n      \"properties\": {\n        \"dtype\": \"string\",\n        \"num_unique_values\": 3,\n        \"samples\": [\n          \"Reading\",\n          \"Reading and Math\",\n          \"Reading, Writing, and Math\"\n        ],\n        \"semantic_type\": \"\",\n        \"description\": \"\"\n      }\n    },\n    {\n      \"column\": \"Identifiers\",\n      \"properties\": {\n        \"dtype\": \"number\",\n        \"std\": 178,\n        \"min\": 9,\n        \"max\": 364,\n        \"num_unique_values\": 3,\n        \"samples\": [\n          364,\n          149,\n          9\n        ],\n        \"semantic_type\": \"\",\n        \"description\": \"\"\n      }\n    }\n  ]\n}"
            }
          },
          "metadata": {},
          "execution_count": 268
        }
      ]
    },
    {
      "cell_type": "code",
      "source": [
        "# Drop outs and lost to follow up\n",
        "print('Lost or drop outs: ',\n",
        "      data_filtered[data_filtered['Basic_Demos,Participant_Status'].isin(['Lost to follow-up', 'Dropout'])].shape[0])"
      ],
      "metadata": {
        "id": "GQOfDZ43rzi2",
        "outputId": "c1cbd5a5-8ce0-4dcd-f58c-098e2faf9f17",
        "colab": {
          "base_uri": "https://localhost:8080/"
        }
      },
      "execution_count": 269,
      "outputs": [
        {
          "output_type": "stream",
          "name": "stdout",
          "text": [
            "Lost or drop outs:  12\n"
          ]
        }
      ]
    },
    {
      "cell_type": "code",
      "source": [
        "# head injuries\n",
        "print('Head injuries: ', data_filtered[data_filtered['PreInt_TxHx,head_injuries'] == '1'].shape[0])"
      ],
      "metadata": {
        "id": "-92y0_W_sMr2",
        "outputId": "4aee41ee-6b8d-4aac-e18d-194ebde1e830",
        "colab": {
          "base_uri": "https://localhost:8080/"
        }
      },
      "execution_count": 270,
      "outputs": [
        {
          "output_type": "stream",
          "name": "stdout",
          "text": [
            "Head injuries:  92\n"
          ]
        }
      ]
    },
    {
      "cell_type": "code",
      "source": [
        "# the certainty and validity of the IQ tests\n",
        "data_filtered['IQ_status'].unique()"
      ],
      "metadata": {
        "id": "W9UD6_ovsbPd",
        "outputId": "6ac9fef0-5e96-41ad-e425-9a17523e435a",
        "colab": {
          "base_uri": "https://localhost:8080/"
        }
      },
      "execution_count": 272,
      "outputs": [
        {
          "output_type": "execute_result",
          "data": {
            "text/plain": [
              "array(['Complete', 'N/A', 'Complete and Valid'], dtype=object)"
            ]
          },
          "metadata": {},
          "execution_count": 272
        }
      ]
    },
    {
      "cell_type": "code",
      "source": [
        "# nvIQ and vIQ\n",
        "print('No scores for nvIQ: ', data_filtered[data_filtered['nvIQ'] == 'N/A'].shape[0])\n",
        "print('No scores for vIQ: ', data_filtered[data_filtered['vIQ'] == 'N/A'].shape[0])"
      ],
      "metadata": {
        "id": "Wd3LsnIJt0Yb",
        "outputId": "6b37e5ce-f956-47b4-b3f8-9871f98e7806",
        "colab": {
          "base_uri": "https://localhost:8080/"
        }
      },
      "execution_count": 276,
      "outputs": [
        {
          "output_type": "stream",
          "name": "stdout",
          "text": [
            "No scores for nvIQ:  3\n",
            "No scores for vIQ:  0\n"
          ]
        }
      ]
    },
    {
      "cell_type": "code",
      "source": [
        "# MRI Track\n",
        "names = ['Clinical_Impression', 'Complete', 'DKI64', 'DWI_APAX', 'DWI_PAAX', 'RS']\n",
        "for name in names:\n",
        "  if name == 'Complete':\n",
        "    print('Completed ', data_filtered[data_filtered[col_name] == '1'].shape[0], ' participants out of ', data_filtered.shape[0])\n",
        "  elif name == 'Clinical_Impression':\n",
        "    print('Within normal limits: ', data_filtered[data_filtered[col_name] == '1'].shape[0])\n",
        "    print('Findings Not Clinically Significant: ', data_filtered[data_filtered[col_name] == '2'].shape[0])\n",
        "    print('Abnormal: ', data_filtered[data_filtered[col_name] == '3'].shape[0])\n",
        "  else:\n",
        "    print(name, 'done ', data_filtered[data_filtered[col_name] == '1'].shape[0], 'out of ', data_filtered.shape[0])"
      ],
      "metadata": {
        "id": "00Vu0J-jur0E",
        "outputId": "6b24438b-10ae-41ed-e93f-9691c55b2453",
        "colab": {
          "base_uri": "https://localhost:8080/"
        }
      },
      "execution_count": 277,
      "outputs": [
        {
          "output_type": "stream",
          "name": "stdout",
          "text": [
            "Within normal limits:  550\n",
            "Findings Not Clinically Significant:  10\n",
            "Abnormal:  0\n",
            "Completed  550  participants out of  787\n",
            "DKI64 done  550 out of  787\n",
            "DWI_APAX done  550 out of  787\n",
            "DWI_PAAX done  550 out of  787\n",
            "RS done  550 out of  787\n"
          ]
        }
      ]
    },
    {
      "cell_type": "code",
      "source": [
        "# the certainty of the diagnosis\n",
        "data_filtered[data_filtered['Group'] != 'Control'].groupby(['DD_Certainty'])[['Identifiers']].count()"
      ],
      "metadata": {
        "id": "yEGvTEQFtcXT",
        "outputId": "279346e2-b11b-452d-8602-7b2e9acc8b71",
        "colab": {
          "base_uri": "https://localhost:8080/",
          "height": 520
        }
      },
      "execution_count": 282,
      "outputs": [
        {
          "output_type": "execute_result",
          "data": {
            "text/plain": [
              "                                   Identifiers\n",
              "DD_Certainty                                  \n",
              "Confirmed,                                 176\n",
              "Confirmed, Confirmed, Unclear,              35\n",
              "Confirmed, Presumptive, Unclear,            22\n",
              "Confirmed, RConfirm, Unclear,                3\n",
              "Confirmed, Ruleout, Unclear,                35\n",
              "Presumptive,                                31\n",
              "Presumptive, Ruleout, Unclear,               9\n",
              "RConfirm,                                   19\n",
              "RConfirm, Presumptive, Unclear,              1\n",
              "RConfirm, RConfirm, Unclear,                 2\n",
              "RConfirm, Ruleout, Unclear,                  2\n",
              "Ruleout,                                    69\n",
              "Ruleout, Ruleout, Unclear,                  38\n",
              "Unclear,                                    80"
            ],
            "text/html": [
              "\n",
              "  <div id=\"df-a3fefba8-d77f-40d6-9797-6d21e441b4f4\" class=\"colab-df-container\">\n",
              "    <div>\n",
              "<style scoped>\n",
              "    .dataframe tbody tr th:only-of-type {\n",
              "        vertical-align: middle;\n",
              "    }\n",
              "\n",
              "    .dataframe tbody tr th {\n",
              "        vertical-align: top;\n",
              "    }\n",
              "\n",
              "    .dataframe thead th {\n",
              "        text-align: right;\n",
              "    }\n",
              "</style>\n",
              "<table border=\"1\" class=\"dataframe\">\n",
              "  <thead>\n",
              "    <tr style=\"text-align: right;\">\n",
              "      <th></th>\n",
              "      <th>Identifiers</th>\n",
              "    </tr>\n",
              "    <tr>\n",
              "      <th>DD_Certainty</th>\n",
              "      <th></th>\n",
              "    </tr>\n",
              "  </thead>\n",
              "  <tbody>\n",
              "    <tr>\n",
              "      <th>Confirmed,</th>\n",
              "      <td>176</td>\n",
              "    </tr>\n",
              "    <tr>\n",
              "      <th>Confirmed, Confirmed, Unclear,</th>\n",
              "      <td>35</td>\n",
              "    </tr>\n",
              "    <tr>\n",
              "      <th>Confirmed, Presumptive, Unclear,</th>\n",
              "      <td>22</td>\n",
              "    </tr>\n",
              "    <tr>\n",
              "      <th>Confirmed, RConfirm, Unclear,</th>\n",
              "      <td>3</td>\n",
              "    </tr>\n",
              "    <tr>\n",
              "      <th>Confirmed, Ruleout, Unclear,</th>\n",
              "      <td>35</td>\n",
              "    </tr>\n",
              "    <tr>\n",
              "      <th>Presumptive,</th>\n",
              "      <td>31</td>\n",
              "    </tr>\n",
              "    <tr>\n",
              "      <th>Presumptive, Ruleout, Unclear,</th>\n",
              "      <td>9</td>\n",
              "    </tr>\n",
              "    <tr>\n",
              "      <th>RConfirm,</th>\n",
              "      <td>19</td>\n",
              "    </tr>\n",
              "    <tr>\n",
              "      <th>RConfirm, Presumptive, Unclear,</th>\n",
              "      <td>1</td>\n",
              "    </tr>\n",
              "    <tr>\n",
              "      <th>RConfirm, RConfirm, Unclear,</th>\n",
              "      <td>2</td>\n",
              "    </tr>\n",
              "    <tr>\n",
              "      <th>RConfirm, Ruleout, Unclear,</th>\n",
              "      <td>2</td>\n",
              "    </tr>\n",
              "    <tr>\n",
              "      <th>Ruleout,</th>\n",
              "      <td>69</td>\n",
              "    </tr>\n",
              "    <tr>\n",
              "      <th>Ruleout, Ruleout, Unclear,</th>\n",
              "      <td>38</td>\n",
              "    </tr>\n",
              "    <tr>\n",
              "      <th>Unclear,</th>\n",
              "      <td>80</td>\n",
              "    </tr>\n",
              "  </tbody>\n",
              "</table>\n",
              "</div>\n",
              "    <div class=\"colab-df-buttons\">\n",
              "\n",
              "  <div class=\"colab-df-container\">\n",
              "    <button class=\"colab-df-convert\" onclick=\"convertToInteractive('df-a3fefba8-d77f-40d6-9797-6d21e441b4f4')\"\n",
              "            title=\"Convert this dataframe to an interactive table.\"\n",
              "            style=\"display:none;\">\n",
              "\n",
              "  <svg xmlns=\"http://www.w3.org/2000/svg\" height=\"24px\" viewBox=\"0 -960 960 960\">\n",
              "    <path d=\"M120-120v-720h720v720H120Zm60-500h600v-160H180v160Zm220 220h160v-160H400v160Zm0 220h160v-160H400v160ZM180-400h160v-160H180v160Zm440 0h160v-160H620v160ZM180-180h160v-160H180v160Zm440 0h160v-160H620v160Z\"/>\n",
              "  </svg>\n",
              "    </button>\n",
              "\n",
              "  <style>\n",
              "    .colab-df-container {\n",
              "      display:flex;\n",
              "      gap: 12px;\n",
              "    }\n",
              "\n",
              "    .colab-df-convert {\n",
              "      background-color: #E8F0FE;\n",
              "      border: none;\n",
              "      border-radius: 50%;\n",
              "      cursor: pointer;\n",
              "      display: none;\n",
              "      fill: #1967D2;\n",
              "      height: 32px;\n",
              "      padding: 0 0 0 0;\n",
              "      width: 32px;\n",
              "    }\n",
              "\n",
              "    .colab-df-convert:hover {\n",
              "      background-color: #E2EBFA;\n",
              "      box-shadow: 0px 1px 2px rgba(60, 64, 67, 0.3), 0px 1px 3px 1px rgba(60, 64, 67, 0.15);\n",
              "      fill: #174EA6;\n",
              "    }\n",
              "\n",
              "    .colab-df-buttons div {\n",
              "      margin-bottom: 4px;\n",
              "    }\n",
              "\n",
              "    [theme=dark] .colab-df-convert {\n",
              "      background-color: #3B4455;\n",
              "      fill: #D2E3FC;\n",
              "    }\n",
              "\n",
              "    [theme=dark] .colab-df-convert:hover {\n",
              "      background-color: #434B5C;\n",
              "      box-shadow: 0px 1px 3px 1px rgba(0, 0, 0, 0.15);\n",
              "      filter: drop-shadow(0px 1px 2px rgba(0, 0, 0, 0.3));\n",
              "      fill: #FFFFFF;\n",
              "    }\n",
              "  </style>\n",
              "\n",
              "    <script>\n",
              "      const buttonEl =\n",
              "        document.querySelector('#df-a3fefba8-d77f-40d6-9797-6d21e441b4f4 button.colab-df-convert');\n",
              "      buttonEl.style.display =\n",
              "        google.colab.kernel.accessAllowed ? 'block' : 'none';\n",
              "\n",
              "      async function convertToInteractive(key) {\n",
              "        const element = document.querySelector('#df-a3fefba8-d77f-40d6-9797-6d21e441b4f4');\n",
              "        const dataTable =\n",
              "          await google.colab.kernel.invokeFunction('convertToInteractive',\n",
              "                                                    [key], {});\n",
              "        if (!dataTable) return;\n",
              "\n",
              "        const docLinkHtml = 'Like what you see? Visit the ' +\n",
              "          '<a target=\"_blank\" href=https://colab.research.google.com/notebooks/data_table.ipynb>data table notebook</a>'\n",
              "          + ' to learn more about interactive tables.';\n",
              "        element.innerHTML = '';\n",
              "        dataTable['output_type'] = 'display_data';\n",
              "        await google.colab.output.renderOutput(dataTable, element);\n",
              "        const docLink = document.createElement('div');\n",
              "        docLink.innerHTML = docLinkHtml;\n",
              "        element.appendChild(docLink);\n",
              "      }\n",
              "    </script>\n",
              "  </div>\n",
              "\n",
              "\n",
              "<div id=\"df-da23dd1e-698b-48d0-aff8-0eefc358b31e\">\n",
              "  <button class=\"colab-df-quickchart\" onclick=\"quickchart('df-da23dd1e-698b-48d0-aff8-0eefc358b31e')\"\n",
              "            title=\"Suggest charts\"\n",
              "            style=\"display:none;\">\n",
              "\n",
              "<svg xmlns=\"http://www.w3.org/2000/svg\" height=\"24px\"viewBox=\"0 0 24 24\"\n",
              "     width=\"24px\">\n",
              "    <g>\n",
              "        <path d=\"M19 3H5c-1.1 0-2 .9-2 2v14c0 1.1.9 2 2 2h14c1.1 0 2-.9 2-2V5c0-1.1-.9-2-2-2zM9 17H7v-7h2v7zm4 0h-2V7h2v10zm4 0h-2v-4h2v4z\"/>\n",
              "    </g>\n",
              "</svg>\n",
              "  </button>\n",
              "\n",
              "<style>\n",
              "  .colab-df-quickchart {\n",
              "      --bg-color: #E8F0FE;\n",
              "      --fill-color: #1967D2;\n",
              "      --hover-bg-color: #E2EBFA;\n",
              "      --hover-fill-color: #174EA6;\n",
              "      --disabled-fill-color: #AAA;\n",
              "      --disabled-bg-color: #DDD;\n",
              "  }\n",
              "\n",
              "  [theme=dark] .colab-df-quickchart {\n",
              "      --bg-color: #3B4455;\n",
              "      --fill-color: #D2E3FC;\n",
              "      --hover-bg-color: #434B5C;\n",
              "      --hover-fill-color: #FFFFFF;\n",
              "      --disabled-bg-color: #3B4455;\n",
              "      --disabled-fill-color: #666;\n",
              "  }\n",
              "\n",
              "  .colab-df-quickchart {\n",
              "    background-color: var(--bg-color);\n",
              "    border: none;\n",
              "    border-radius: 50%;\n",
              "    cursor: pointer;\n",
              "    display: none;\n",
              "    fill: var(--fill-color);\n",
              "    height: 32px;\n",
              "    padding: 0;\n",
              "    width: 32px;\n",
              "  }\n",
              "\n",
              "  .colab-df-quickchart:hover {\n",
              "    background-color: var(--hover-bg-color);\n",
              "    box-shadow: 0 1px 2px rgba(60, 64, 67, 0.3), 0 1px 3px 1px rgba(60, 64, 67, 0.15);\n",
              "    fill: var(--button-hover-fill-color);\n",
              "  }\n",
              "\n",
              "  .colab-df-quickchart-complete:disabled,\n",
              "  .colab-df-quickchart-complete:disabled:hover {\n",
              "    background-color: var(--disabled-bg-color);\n",
              "    fill: var(--disabled-fill-color);\n",
              "    box-shadow: none;\n",
              "  }\n",
              "\n",
              "  .colab-df-spinner {\n",
              "    border: 2px solid var(--fill-color);\n",
              "    border-color: transparent;\n",
              "    border-bottom-color: var(--fill-color);\n",
              "    animation:\n",
              "      spin 1s steps(1) infinite;\n",
              "  }\n",
              "\n",
              "  @keyframes spin {\n",
              "    0% {\n",
              "      border-color: transparent;\n",
              "      border-bottom-color: var(--fill-color);\n",
              "      border-left-color: var(--fill-color);\n",
              "    }\n",
              "    20% {\n",
              "      border-color: transparent;\n",
              "      border-left-color: var(--fill-color);\n",
              "      border-top-color: var(--fill-color);\n",
              "    }\n",
              "    30% {\n",
              "      border-color: transparent;\n",
              "      border-left-color: var(--fill-color);\n",
              "      border-top-color: var(--fill-color);\n",
              "      border-right-color: var(--fill-color);\n",
              "    }\n",
              "    40% {\n",
              "      border-color: transparent;\n",
              "      border-right-color: var(--fill-color);\n",
              "      border-top-color: var(--fill-color);\n",
              "    }\n",
              "    60% {\n",
              "      border-color: transparent;\n",
              "      border-right-color: var(--fill-color);\n",
              "    }\n",
              "    80% {\n",
              "      border-color: transparent;\n",
              "      border-right-color: var(--fill-color);\n",
              "      border-bottom-color: var(--fill-color);\n",
              "    }\n",
              "    90% {\n",
              "      border-color: transparent;\n",
              "      border-bottom-color: var(--fill-color);\n",
              "    }\n",
              "  }\n",
              "</style>\n",
              "\n",
              "  <script>\n",
              "    async function quickchart(key) {\n",
              "      const quickchartButtonEl =\n",
              "        document.querySelector('#' + key + ' button');\n",
              "      quickchartButtonEl.disabled = true;  // To prevent multiple clicks.\n",
              "      quickchartButtonEl.classList.add('colab-df-spinner');\n",
              "      try {\n",
              "        const charts = await google.colab.kernel.invokeFunction(\n",
              "            'suggestCharts', [key], {});\n",
              "      } catch (error) {\n",
              "        console.error('Error during call to suggestCharts:', error);\n",
              "      }\n",
              "      quickchartButtonEl.classList.remove('colab-df-spinner');\n",
              "      quickchartButtonEl.classList.add('colab-df-quickchart-complete');\n",
              "    }\n",
              "    (() => {\n",
              "      let quickchartButtonEl =\n",
              "        document.querySelector('#df-da23dd1e-698b-48d0-aff8-0eefc358b31e button');\n",
              "      quickchartButtonEl.style.display =\n",
              "        google.colab.kernel.accessAllowed ? 'block' : 'none';\n",
              "    })();\n",
              "  </script>\n",
              "</div>\n",
              "\n",
              "    </div>\n",
              "  </div>\n"
            ],
            "application/vnd.google.colaboratory.intrinsic+json": {
              "type": "dataframe",
              "summary": "{\n  \"name\": \"data_filtered[data_filtered['Group'] != 'Control']\",\n  \"rows\": 14,\n  \"fields\": [\n    {\n      \"column\": \"DD_Certainty\",\n      \"properties\": {\n        \"dtype\": \"string\",\n        \"num_unique_values\": 14,\n        \"samples\": [\n          \"RConfirm, RConfirm, Unclear, \",\n          \"Ruleout, \",\n          \"Confirmed, \"\n        ],\n        \"semantic_type\": \"\",\n        \"description\": \"\"\n      }\n    },\n    {\n      \"column\": \"Identifiers\",\n      \"properties\": {\n        \"dtype\": \"number\",\n        \"std\": 46,\n        \"min\": 1,\n        \"max\": 176,\n        \"num_unique_values\": 12,\n        \"samples\": [\n          38,\n          69,\n          176\n        ],\n        \"semantic_type\": \"\",\n        \"description\": \"\"\n      }\n    }\n  ]\n}"
            }
          },
          "metadata": {},
          "execution_count": 282
        }
      ]
    },
    {
      "cell_type": "code",
      "source": [
        "# CTOPP test\n",
        "# RL_raw, RL_scaled, RD_raw, RD_scaled\n",
        "print('All dataset: ', data_filtered.shape[0])\n",
        "print('Letters raw: ', data_filtered[data_filtered['CTOPP,CTOPP_RL_R'] != '.'].shape[0])\n",
        "print('Letters scaled: ', data_filtered[data_filtered['CTOPP,CTOPP_RL_S'] != '.'].shape[0])\n",
        "print('Numbers raw: ', data_filtered[data_filtered['CTOPP,CTOPP_RD_R'] != '.'].shape[0])\n",
        "print('Numbers scaled: ', data_filtered[data_filtered['CTOPP,CTOPP_RD_S'] != '.'].shape[0])"
      ],
      "metadata": {
        "id": "gpfpklxOtwu0",
        "outputId": "533de50d-35d0-4e52-bbea-8acaeee8d937",
        "colab": {
          "base_uri": "https://localhost:8080/"
        }
      },
      "execution_count": 291,
      "outputs": [
        {
          "output_type": "stream",
          "name": "stdout",
          "text": [
            "All dataset:  787\n",
            "Letters raw:  726\n",
            "Letters scaled:  727\n",
            "Numbers raw:  728\n",
            "Numbers scaled:  728\n"
          ]
        }
      ]
    },
    {
      "cell_type": "code",
      "source": [
        "# RANRAS\n",
        "print('RAN letters (stnd.): ', data_filtered[data_filtered['RANRAS,RR_Let_Stnd'] != '.'].shape[0], 'out of ', data_filtered.shape[0])\n",
        "print('RAN letters (raw): ',data_filtered[data_filtered['RANRAS,RR_Let_Raw'] != '.'].shape[0], 'out of ', data_filtered.shape[0])\n",
        "print('RAN numbers (stnd.): ', data_filtered[data_filtered['RANRAS,RR_Num_Stnd'] != '.'].shape[0], 'out of ', data_filtered.shape[0])\n",
        "print('RAN numbers (raw): ', data_filtered[data_filtered['RANRAS,RR_Num_Raw'] != '.'].shape[0], 'out of ', data_filtered.shape[0])"
      ],
      "metadata": {
        "id": "NK-KucastzA7",
        "outputId": "d3cfc749-3ae0-4ec1-f749-dfb1f59c72a8",
        "colab": {
          "base_uri": "https://localhost:8080/"
        }
      },
      "execution_count": 284,
      "outputs": [
        {
          "output_type": "stream",
          "name": "stdout",
          "text": [
            "RAN letters (stnd.):  45 out of  787\n",
            "RAN letters (raw):  45 out of  787\n",
            "RAN numbers (stnd.):  12 out of  787\n",
            "RAN numbers (raw):  12 out of  787\n"
          ]
        }
      ]
    },
    {
      "cell_type": "code",
      "source": [
        "sns.displot(data_filtered[data_filtered['Group'] != 'Control']['Basic_Demos,Age'],\n",
        "             binwidth = 1)\n",
        "pl.title('Age distribution in the DD group');"
      ],
      "metadata": {
        "id": "uT9jzc6Y75CJ",
        "outputId": "303f4024-0140-4c24-b111-4eb4f366216f",
        "colab": {
          "base_uri": "https://localhost:8080/",
          "height": 523
        }
      },
      "execution_count": 285,
      "outputs": [
        {
          "output_type": "display_data",
          "data": {
            "text/plain": [
              "<Figure size 500x500 with 1 Axes>"
            ],
            "image/png": "[encoded data removed]"
          },
          "metadata": {}
        }
      ]
    },
    {
      "cell_type": "code",
      "source": [
        "print('Number of DD participants: ', data_filtered[data_filtered['Group'] != 'Control'].shape[0])\n",
        "print('Number of DD participants younger than 8 y.o.: ', data_filtered[(data_filtered['Group'] != 'Control') & (data_filtered['Basic_Demos,Age'] < 8)].shape[0])\n",
        "print('Number of DD participants older than 8 y.o.: ', data_filtered[(data_filtered['Group'] != 'Control') & (data_filtered['Basic_Demos,Age'] >= 8)].shape[0])"
      ],
      "metadata": {
        "id": "njhhsdZfufnV",
        "outputId": "b0d06d7e-5801-4b5d-fe92-b40e64a46b1d",
        "colab": {
          "base_uri": "https://localhost:8080/"
        }
      },
      "execution_count": 286,
      "outputs": [
        {
          "output_type": "stream",
          "name": "stdout",
          "text": [
            "Number of DD participants:  522\n",
            "Number of DD participants younger than 8 y.o.:  163\n",
            "Number of DD participants older than 8 y.o.:  359\n"
          ]
        }
      ]
    },
    {
      "cell_type": "code",
      "source": [],
      "metadata": {
        "id": "CQ50c40C2ZdK"
      },
      "execution_count": null,
      "outputs": []
    },
    {
      "cell_type": "code",
      "source": [
        "'''data_filtered.to_csv(\n",
        "    Path(working_path).joinpath('data_filtered_done.csv')\n",
        ")\n",
        "data_filtered['Identifiers'].to_csv(\n",
        "    Path(working_path).joinpath('ids.csv')\n",
        ")'''"
      ],
      "metadata": {
        "id": "uz36YChcWxi9"
      },
      "execution_count": null,
      "outputs": []
    }
  ]
}