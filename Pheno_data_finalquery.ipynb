{
  "nbformat": 4,
  "nbformat_minor": 0,
  "metadata": {
    "colab": {
      "provenance": [],
      "toc_visible": true,
      "authorship_tag": "ABX9TyN057//1ZsEh/0/Lw5ZHuKX",
      "include_colab_link": true
    },
    "kernelspec": {
      "name": "python3",
      "display_name": "Python 3"
    },
    "language_info": {
      "name": "python"
    }
  },
  "cells": [
    {
      "cell_type": "markdown",
      "metadata": {
        "id": "view-in-github",
        "colab_type": "text"
      },
      "source": [
        "<a href=\"https://colab.research.google.com/github/cristinarainich/Child-Mind-Institute-Project/blob/main/Pheno_data_finalquery.ipynb\" target=\"_parent\"><img src=\"https://colab.research.google.com/assets/colab-badge.svg\" alt=\"Open In Colab\"/></a>"
      ]
    },
    {
      "cell_type": "markdown",
      "source": [
        "**Updated** 17/10/2024 17:00"
      ],
      "metadata": {
        "id": "R1aQIcWPJsdR"
      }
    },
    {
      "cell_type": "code",
      "execution_count": 1,
      "metadata": {
        "colab": {
          "base_uri": "https://localhost:8080/"
        },
        "id": "7sLM_aBE1XSO",
        "outputId": "c3c23dce-b066-4d49-eb85-b74d48bbb08c"
      },
      "outputs": [
        {
          "output_type": "stream",
          "name": "stdout",
          "text": [
            "Mounted at /content/drive\n"
          ]
        }
      ],
      "source": [
        "from google.colab import drive\n",
        "drive.mount('/content/drive')"
      ]
    },
    {
      "cell_type": "code",
      "source": [
        "from pathlib import Path\n",
        "import pandas as pd\n",
        "import numpy as np\n",
        "import math\n",
        "import pylab as pl\n",
        "import seaborn as sns\n",
        "from scipy import stats\n",
        "%pylab inline"
      ],
      "metadata": {
        "colab": {
          "base_uri": "https://localhost:8080/"
        },
        "id": "aaZC6otb1s12",
        "outputId": "c6eecfc9-b5e3-4783-f5ec-37ee6a419d61"
      },
      "execution_count": 2,
      "outputs": [
        {
          "output_type": "stream",
          "name": "stdout",
          "text": [
            "Populating the interactive namespace from numpy and matplotlib\n"
          ]
        }
      ]
    },
    {
      "cell_type": "code",
      "source": [
        "sns.set()"
      ],
      "metadata": {
        "id": "lAeNDY5uJvVf"
      },
      "execution_count": 3,
      "outputs": []
    },
    {
      "cell_type": "code",
      "source": [
        "working_path = Path('/content/drive/MyDrive/KKNV')"
      ],
      "metadata": {
        "id": "aonUk2xG1llO"
      },
      "execution_count": 4,
      "outputs": []
    },
    {
      "cell_type": "code",
      "source": [
        "cd /content/drive/MyDrive/KKNV"
      ],
      "metadata": {
        "colab": {
          "base_uri": "https://localhost:8080/"
        },
        "id": "z9Xbaxjz1yH3",
        "outputId": "aeb1432c-c801-4ca7-92f9-1ebdb96e32dc"
      },
      "execution_count": 5,
      "outputs": [
        {
          "output_type": "stream",
          "name": "stdout",
          "text": [
            "/content/drive/MyDrive/KKNV\n"
          ]
        }
      ]
    },
    {
      "cell_type": "code",
      "source": [
        "!ls /content/drive/MyDrive/KKNV"
      ],
      "metadata": {
        "colab": {
          "base_uri": "https://localhost:8080/"
        },
        "id": "5zZW_4I4NS1u",
        "outputId": "954bb845-72bf-4861-95d1-5e5a57eb4552"
      },
      "execution_count": 6,
      "outputs": [
        {
          "output_type": "stream",
          "name": "stdout",
          "text": [
            " 11a5490b-0e2d-4fd7-b54e-e2ebd0a72df6.zip   Pilot.csv\n",
            " comorbidity\t\t\t\t   'Pilot reading task.gsheet'\n",
            " data\t\t\t\t\t    protocols\n",
            " data26.02.2024.csv\t\t\t    Query1.csv\n",
            " data_filtered_done.csv\t\t\t   'Query 1.Dot values.csv'\n",
            "'files sharing.docx'\t\t\t    Query2.csv\n",
            " ids.csv\t\t\t\t   'Query 2.Dot values.csv'\n",
            " iq_overview.csv\t\t\t    Query_final.csv\n",
            " iq_overview.gsheet\t\t\t    query_September2024.csv\n",
            "'JC 1.10 AF.pptx'\t\t\t    sites.csv\n",
            " old\t\t\t\t\t    tasks\n",
            " Pheno.csv\t\t\t\t    Temporal_Frequency_Staircase_V3_gamified_L2R_Ilia.eve\n",
            " pheno_mri.csv\n"
          ]
        }
      ]
    },
    {
      "cell_type": "markdown",
      "source": [
        "## Pipeline to make the data convinient to use"
      ],
      "metadata": {
        "id": "nLkYOzzUGnRy"
      }
    },
    {
      "cell_type": "markdown",
      "source": [
        "Here we are going to use the full and the most recent dataset."
      ],
      "metadata": {
        "id": "D2gWtrKvyMr-"
      }
    },
    {
      "cell_type": "code",
      "source": [
        "# our dataset\n",
        "data = pd.read_csv(\n",
        "    working_path.joinpath('query_September2024.csv'),\n",
        "    index_col=None,\n",
        "    low_memory=False\n",
        ")"
      ],
      "metadata": {
        "id": "V4z2UsT-zTlp"
      },
      "execution_count": 7,
      "outputs": []
    },
    {
      "cell_type": "code",
      "source": [
        "data.shape"
      ],
      "metadata": {
        "id": "Y_RRV98FUjpE",
        "outputId": "9f11f18e-5c67-4a1e-ddca-d6bf0bcfdde2",
        "colab": {
          "base_uri": "https://localhost:8080/"
        }
      },
      "execution_count": 8,
      "outputs": [
        {
          "output_type": "execute_result",
          "data": {
            "text/plain": [
              "(6687, 791)"
            ]
          },
          "metadata": {},
          "execution_count": 8
        }
      ]
    },
    {
      "cell_type": "code",
      "source": [
        "ids = data.Identifiers.values\n",
        "new_ids = []\n",
        "for i in ids:\n",
        "  new_i = i.replace(',assessment', '')\n",
        "  new_ids.append(new_i)\n",
        "print(len(ids))\n",
        "print(len(new_ids))\n",
        "\n",
        "data['Identifiers'] = new_ids"
      ],
      "metadata": {
        "id": "jjGb6Cr0HxgJ",
        "outputId": "ef414242-2c4e-4f9b-9172-0223dc2af66f",
        "colab": {
          "base_uri": "https://localhost:8080/"
        }
      },
      "execution_count": 9,
      "outputs": [
        {
          "output_type": "stream",
          "name": "stdout",
          "text": [
            "6687\n",
            "6687\n"
          ]
        }
      ]
    },
    {
      "cell_type": "code",
      "source": [
        "data = data.drop(labels=0, axis=0)"
      ],
      "metadata": {
        "id": "guq6tU-bH1Z6"
      },
      "execution_count": 10,
      "outputs": []
    },
    {
      "cell_type": "code",
      "source": [
        "data.head()"
      ],
      "metadata": {
        "id": "G_UNZ36Kntli",
        "outputId": "ab3f87d5-934a-4ff7-8ebd-3c64e8077d7f",
        "colab": {
          "base_uri": "https://localhost:8080/",
          "height": 255
        }
      },
      "execution_count": 11,
      "outputs": [
        {
          "output_type": "execute_result",
          "data": {
            "text/plain": [
              "    Identifiers Barratt,Barratt_P1_Edu Barratt,Barratt_P1_Occ  \\\n",
              "1  NDARAA075AMK                     21                     30   \n",
              "2  NDARAA112DMH                     18                     30   \n",
              "3  NDARAA117NEJ                     12                      5   \n",
              "4  NDARAA306NT2                     21                     15   \n",
              "5  NDARAA504CRN                     21                     40   \n",
              "\n",
              "  Barratt,Barratt_P2_Edu Barratt,Barratt_P2_Occ Barratt,Barratt_Total  \\\n",
              "1                     21                     45                  58.5   \n",
              "2                     12                     15                  37.5   \n",
              "3                      3                      5                  12.5   \n",
              "4                     15                     15                    33   \n",
              "5                    NaN                    NaN                    61   \n",
              "\n",
              "  Barratt,Barratt_Total_Edu Barratt,Barratt_Total_Occ  \\\n",
              "1                        21                      37.5   \n",
              "2                        15                      22.5   \n",
              "3                       7.5                         5   \n",
              "4                        18                        15   \n",
              "5                        21                        40   \n",
              "\n",
              "  Barratt,financialsupport Basic_Demos,Age  ... WISC_Remote,WISC_VCI_Sum  \\\n",
              "1                        3         6.72804  ...                        .   \n",
              "2                        3        5.545744  ...                        .   \n",
              "3                        3        7.475929  ...                        .   \n",
              "4                        3       21.216746  ...                        .   \n",
              "5                        1        9.165297  ...                        .   \n",
              "\n",
              "  WISC_Remote,WISC_VP_Raw WISC_Remote,WISC_VP_Scaled  \\\n",
              "1                       .                          .   \n",
              "2                       .                          .   \n",
              "3                       .                          .   \n",
              "4                       .                          .   \n",
              "5                       .                          .   \n",
              "\n",
              "  WISC_Remote,WISC_Vocab_Raw WISC_Remote,WISC_Vocab_Scaled  \\\n",
              "1                          .                             .   \n",
              "2                          .                             .   \n",
              "3                          .                             .   \n",
              "4                          .                             .   \n",
              "5                          .                             .   \n",
              "\n",
              "  WISC_Remote,WISC_WMI WISC_Remote,WISC_WMI_Percentile  \\\n",
              "1                    .                               .   \n",
              "2                    .                               .   \n",
              "3                    .                               .   \n",
              "4                    .                               .   \n",
              "5                    .                               .   \n",
              "\n",
              "  WISC_Remote,WISC_WMI_Sum WISC_Remote,WISC_complete  \\\n",
              "1                        .                         .   \n",
              "2                        .                         .   \n",
              "3                        .                         .   \n",
              "4                        .                         .   \n",
              "5                        .                         .   \n",
              "\n",
              "  WISC_Remote,WISC_incomplete_reason  \n",
              "1                                  .  \n",
              "2                                  .  \n",
              "3                                  .  \n",
              "4                                  .  \n",
              "5                                  .  \n",
              "\n",
              "[5 rows x 791 columns]"
            ],
            "text/html": [
              "\n",
              "  <div id=\"df-4dbf5774-fa06-465e-bd82-0c6a96734058\" class=\"colab-df-container\">\n",
              "    <div>\n",
              "<style scoped>\n",
              "    .dataframe tbody tr th:only-of-type {\n",
              "        vertical-align: middle;\n",
              "    }\n",
              "\n",
              "    .dataframe tbody tr th {\n",
              "        vertical-align: top;\n",
              "    }\n",
              "\n",
              "    .dataframe thead th {\n",
              "        text-align: right;\n",
              "    }\n",
              "</style>\n",
              "<table border=\"1\" class=\"dataframe\">\n",
              "  <thead>\n",
              "    <tr style=\"text-align: right;\">\n",
              "      <th></th>\n",
              "      <th>Identifiers</th>\n",
              "      <th>Barratt,Barratt_P1_Edu</th>\n",
              "      <th>Barratt,Barratt_P1_Occ</th>\n",
              "      <th>Barratt,Barratt_P2_Edu</th>\n",
              "      <th>Barratt,Barratt_P2_Occ</th>\n",
              "      <th>Barratt,Barratt_Total</th>\n",
              "      <th>Barratt,Barratt_Total_Edu</th>\n",
              "      <th>Barratt,Barratt_Total_Occ</th>\n",
              "      <th>Barratt,financialsupport</th>\n",
              "      <th>Basic_Demos,Age</th>\n",
              "      <th>...</th>\n",
              "      <th>WISC_Remote,WISC_VCI_Sum</th>\n",
              "      <th>WISC_Remote,WISC_VP_Raw</th>\n",
              "      <th>WISC_Remote,WISC_VP_Scaled</th>\n",
              "      <th>WISC_Remote,WISC_Vocab_Raw</th>\n",
              "      <th>WISC_Remote,WISC_Vocab_Scaled</th>\n",
              "      <th>WISC_Remote,WISC_WMI</th>\n",
              "      <th>WISC_Remote,WISC_WMI_Percentile</th>\n",
              "      <th>WISC_Remote,WISC_WMI_Sum</th>\n",
              "      <th>WISC_Remote,WISC_complete</th>\n",
              "      <th>WISC_Remote,WISC_incomplete_reason</th>\n",
              "    </tr>\n",
              "  </thead>\n",
              "  <tbody>\n",
              "    <tr>\n",
              "      <th>1</th>\n",
              "      <td>NDARAA075AMK</td>\n",
              "      <td>21</td>\n",
              "      <td>30</td>\n",
              "      <td>21</td>\n",
              "      <td>45</td>\n",
              "      <td>58.5</td>\n",
              "      <td>21</td>\n",
              "      <td>37.5</td>\n",
              "      <td>3</td>\n",
              "      <td>6.72804</td>\n",
              "      <td>...</td>\n",
              "      <td>.</td>\n",
              "      <td>.</td>\n",
              "      <td>.</td>\n",
              "      <td>.</td>\n",
              "      <td>.</td>\n",
              "      <td>.</td>\n",
              "      <td>.</td>\n",
              "      <td>.</td>\n",
              "      <td>.</td>\n",
              "      <td>.</td>\n",
              "    </tr>\n",
              "    <tr>\n",
              "      <th>2</th>\n",
              "      <td>NDARAA112DMH</td>\n",
              "      <td>18</td>\n",
              "      <td>30</td>\n",
              "      <td>12</td>\n",
              "      <td>15</td>\n",
              "      <td>37.5</td>\n",
              "      <td>15</td>\n",
              "      <td>22.5</td>\n",
              "      <td>3</td>\n",
              "      <td>5.545744</td>\n",
              "      <td>...</td>\n",
              "      <td>.</td>\n",
              "      <td>.</td>\n",
              "      <td>.</td>\n",
              "      <td>.</td>\n",
              "      <td>.</td>\n",
              "      <td>.</td>\n",
              "      <td>.</td>\n",
              "      <td>.</td>\n",
              "      <td>.</td>\n",
              "      <td>.</td>\n",
              "    </tr>\n",
              "    <tr>\n",
              "      <th>3</th>\n",
              "      <td>NDARAA117NEJ</td>\n",
              "      <td>12</td>\n",
              "      <td>5</td>\n",
              "      <td>3</td>\n",
              "      <td>5</td>\n",
              "      <td>12.5</td>\n",
              "      <td>7.5</td>\n",
              "      <td>5</td>\n",
              "      <td>3</td>\n",
              "      <td>7.475929</td>\n",
              "      <td>...</td>\n",
              "      <td>.</td>\n",
              "      <td>.</td>\n",
              "      <td>.</td>\n",
              "      <td>.</td>\n",
              "      <td>.</td>\n",
              "      <td>.</td>\n",
              "      <td>.</td>\n",
              "      <td>.</td>\n",
              "      <td>.</td>\n",
              "      <td>.</td>\n",
              "    </tr>\n",
              "    <tr>\n",
              "      <th>4</th>\n",
              "      <td>NDARAA306NT2</td>\n",
              "      <td>21</td>\n",
              "      <td>15</td>\n",
              "      <td>15</td>\n",
              "      <td>15</td>\n",
              "      <td>33</td>\n",
              "      <td>18</td>\n",
              "      <td>15</td>\n",
              "      <td>3</td>\n",
              "      <td>21.216746</td>\n",
              "      <td>...</td>\n",
              "      <td>.</td>\n",
              "      <td>.</td>\n",
              "      <td>.</td>\n",
              "      <td>.</td>\n",
              "      <td>.</td>\n",
              "      <td>.</td>\n",
              "      <td>.</td>\n",
              "      <td>.</td>\n",
              "      <td>.</td>\n",
              "      <td>.</td>\n",
              "    </tr>\n",
              "    <tr>\n",
              "      <th>5</th>\n",
              "      <td>NDARAA504CRN</td>\n",
              "      <td>21</td>\n",
              "      <td>40</td>\n",
              "      <td>NaN</td>\n",
              "      <td>NaN</td>\n",
              "      <td>61</td>\n",
              "      <td>21</td>\n",
              "      <td>40</td>\n",
              "      <td>1</td>\n",
              "      <td>9.165297</td>\n",
              "      <td>...</td>\n",
              "      <td>.</td>\n",
              "      <td>.</td>\n",
              "      <td>.</td>\n",
              "      <td>.</td>\n",
              "      <td>.</td>\n",
              "      <td>.</td>\n",
              "      <td>.</td>\n",
              "      <td>.</td>\n",
              "      <td>.</td>\n",
              "      <td>.</td>\n",
              "    </tr>\n",
              "  </tbody>\n",
              "</table>\n",
              "<p>5 rows × 791 columns</p>\n",
              "</div>\n",
              "    <div class=\"colab-df-buttons\">\n",
              "\n",
              "  <div class=\"colab-df-container\">\n",
              "    <button class=\"colab-df-convert\" onclick=\"convertToInteractive('df-4dbf5774-fa06-465e-bd82-0c6a96734058')\"\n",
              "            title=\"Convert this dataframe to an interactive table.\"\n",
              "            style=\"display:none;\">\n",
              "\n",
              "  <svg xmlns=\"http://www.w3.org/2000/svg\" height=\"24px\" viewBox=\"0 -960 960 960\">\n",
              "    <path d=\"M120-120v-720h720v720H120Zm60-500h600v-160H180v160Zm220 220h160v-160H400v160Zm0 220h160v-160H400v160ZM180-400h160v-160H180v160Zm440 0h160v-160H620v160ZM180-180h160v-160H180v160Zm440 0h160v-160H620v160Z\"/>\n",
              "  </svg>\n",
              "    </button>\n",
              "\n",
              "  <style>\n",
              "    .colab-df-container {\n",
              "      display:flex;\n",
              "      gap: 12px;\n",
              "    }\n",
              "\n",
              "    .colab-df-convert {\n",
              "      background-color: #E8F0FE;\n",
              "      border: none;\n",
              "      border-radius: 50%;\n",
              "      cursor: pointer;\n",
              "      display: none;\n",
              "      fill: #1967D2;\n",
              "      height: 32px;\n",
              "      padding: 0 0 0 0;\n",
              "      width: 32px;\n",
              "    }\n",
              "\n",
              "    .colab-df-convert:hover {\n",
              "      background-color: #E2EBFA;\n",
              "      box-shadow: 0px 1px 2px rgba(60, 64, 67, 0.3), 0px 1px 3px 1px rgba(60, 64, 67, 0.15);\n",
              "      fill: #174EA6;\n",
              "    }\n",
              "\n",
              "    .colab-df-buttons div {\n",
              "      margin-bottom: 4px;\n",
              "    }\n",
              "\n",
              "    [theme=dark] .colab-df-convert {\n",
              "      background-color: #3B4455;\n",
              "      fill: #D2E3FC;\n",
              "    }\n",
              "\n",
              "    [theme=dark] .colab-df-convert:hover {\n",
              "      background-color: #434B5C;\n",
              "      box-shadow: 0px 1px 3px 1px rgba(0, 0, 0, 0.15);\n",
              "      filter: drop-shadow(0px 1px 2px rgba(0, 0, 0, 0.3));\n",
              "      fill: #FFFFFF;\n",
              "    }\n",
              "  </style>\n",
              "\n",
              "    <script>\n",
              "      const buttonEl =\n",
              "        document.querySelector('#df-4dbf5774-fa06-465e-bd82-0c6a96734058 button.colab-df-convert');\n",
              "      buttonEl.style.display =\n",
              "        google.colab.kernel.accessAllowed ? 'block' : 'none';\n",
              "\n",
              "      async function convertToInteractive(key) {\n",
              "        const element = document.querySelector('#df-4dbf5774-fa06-465e-bd82-0c6a96734058');\n",
              "        const dataTable =\n",
              "          await google.colab.kernel.invokeFunction('convertToInteractive',\n",
              "                                                    [key], {});\n",
              "        if (!dataTable) return;\n",
              "\n",
              "        const docLinkHtml = 'Like what you see? Visit the ' +\n",
              "          '<a target=\"_blank\" href=https://colab.research.google.com/notebooks/data_table.ipynb>data table notebook</a>'\n",
              "          + ' to learn more about interactive tables.';\n",
              "        element.innerHTML = '';\n",
              "        dataTable['output_type'] = 'display_data';\n",
              "        await google.colab.output.renderOutput(dataTable, element);\n",
              "        const docLink = document.createElement('div');\n",
              "        docLink.innerHTML = docLinkHtml;\n",
              "        element.appendChild(docLink);\n",
              "      }\n",
              "    </script>\n",
              "  </div>\n",
              "\n",
              "\n",
              "<div id=\"df-afc0e099-0b55-4b83-83c7-c9f21652f458\">\n",
              "  <button class=\"colab-df-quickchart\" onclick=\"quickchart('df-afc0e099-0b55-4b83-83c7-c9f21652f458')\"\n",
              "            title=\"Suggest charts\"\n",
              "            style=\"display:none;\">\n",
              "\n",
              "<svg xmlns=\"http://www.w3.org/2000/svg\" height=\"24px\"viewBox=\"0 0 24 24\"\n",
              "     width=\"24px\">\n",
              "    <g>\n",
              "        <path d=\"M19 3H5c-1.1 0-2 .9-2 2v14c0 1.1.9 2 2 2h14c1.1 0 2-.9 2-2V5c0-1.1-.9-2-2-2zM9 17H7v-7h2v7zm4 0h-2V7h2v10zm4 0h-2v-4h2v4z\"/>\n",
              "    </g>\n",
              "</svg>\n",
              "  </button>\n",
              "\n",
              "<style>\n",
              "  .colab-df-quickchart {\n",
              "      --bg-color: #E8F0FE;\n",
              "      --fill-color: #1967D2;\n",
              "      --hover-bg-color: #E2EBFA;\n",
              "      --hover-fill-color: #174EA6;\n",
              "      --disabled-fill-color: #AAA;\n",
              "      --disabled-bg-color: #DDD;\n",
              "  }\n",
              "\n",
              "  [theme=dark] .colab-df-quickchart {\n",
              "      --bg-color: #3B4455;\n",
              "      --fill-color: #D2E3FC;\n",
              "      --hover-bg-color: #434B5C;\n",
              "      --hover-fill-color: #FFFFFF;\n",
              "      --disabled-bg-color: #3B4455;\n",
              "      --disabled-fill-color: #666;\n",
              "  }\n",
              "\n",
              "  .colab-df-quickchart {\n",
              "    background-color: var(--bg-color);\n",
              "    border: none;\n",
              "    border-radius: 50%;\n",
              "    cursor: pointer;\n",
              "    display: none;\n",
              "    fill: var(--fill-color);\n",
              "    height: 32px;\n",
              "    padding: 0;\n",
              "    width: 32px;\n",
              "  }\n",
              "\n",
              "  .colab-df-quickchart:hover {\n",
              "    background-color: var(--hover-bg-color);\n",
              "    box-shadow: 0 1px 2px rgba(60, 64, 67, 0.3), 0 1px 3px 1px rgba(60, 64, 67, 0.15);\n",
              "    fill: var(--button-hover-fill-color);\n",
              "  }\n",
              "\n",
              "  .colab-df-quickchart-complete:disabled,\n",
              "  .colab-df-quickchart-complete:disabled:hover {\n",
              "    background-color: var(--disabled-bg-color);\n",
              "    fill: var(--disabled-fill-color);\n",
              "    box-shadow: none;\n",
              "  }\n",
              "\n",
              "  .colab-df-spinner {\n",
              "    border: 2px solid var(--fill-color);\n",
              "    border-color: transparent;\n",
              "    border-bottom-color: var(--fill-color);\n",
              "    animation:\n",
              "      spin 1s steps(1) infinite;\n",
              "  }\n",
              "\n",
              "  @keyframes spin {\n",
              "    0% {\n",
              "      border-color: transparent;\n",
              "      border-bottom-color: var(--fill-color);\n",
              "      border-left-color: var(--fill-color);\n",
              "    }\n",
              "    20% {\n",
              "      border-color: transparent;\n",
              "      border-left-color: var(--fill-color);\n",
              "      border-top-color: var(--fill-color);\n",
              "    }\n",
              "    30% {\n",
              "      border-color: transparent;\n",
              "      border-left-color: var(--fill-color);\n",
              "      border-top-color: var(--fill-color);\n",
              "      border-right-color: var(--fill-color);\n",
              "    }\n",
              "    40% {\n",
              "      border-color: transparent;\n",
              "      border-right-color: var(--fill-color);\n",
              "      border-top-color: var(--fill-color);\n",
              "    }\n",
              "    60% {\n",
              "      border-color: transparent;\n",
              "      border-right-color: var(--fill-color);\n",
              "    }\n",
              "    80% {\n",
              "      border-color: transparent;\n",
              "      border-right-color: var(--fill-color);\n",
              "      border-bottom-color: var(--fill-color);\n",
              "    }\n",
              "    90% {\n",
              "      border-color: transparent;\n",
              "      border-bottom-color: var(--fill-color);\n",
              "    }\n",
              "  }\n",
              "</style>\n",
              "\n",
              "  <script>\n",
              "    async function quickchart(key) {\n",
              "      const quickchartButtonEl =\n",
              "        document.querySelector('#' + key + ' button');\n",
              "      quickchartButtonEl.disabled = true;  // To prevent multiple clicks.\n",
              "      quickchartButtonEl.classList.add('colab-df-spinner');\n",
              "      try {\n",
              "        const charts = await google.colab.kernel.invokeFunction(\n",
              "            'suggestCharts', [key], {});\n",
              "      } catch (error) {\n",
              "        console.error('Error during call to suggestCharts:', error);\n",
              "      }\n",
              "      quickchartButtonEl.classList.remove('colab-df-spinner');\n",
              "      quickchartButtonEl.classList.add('colab-df-quickchart-complete');\n",
              "    }\n",
              "    (() => {\n",
              "      let quickchartButtonEl =\n",
              "        document.querySelector('#df-afc0e099-0b55-4b83-83c7-c9f21652f458 button');\n",
              "      quickchartButtonEl.style.display =\n",
              "        google.colab.kernel.accessAllowed ? 'block' : 'none';\n",
              "    })();\n",
              "  </script>\n",
              "</div>\n",
              "\n",
              "    </div>\n",
              "  </div>\n"
            ],
            "application/vnd.google.colaboratory.intrinsic+json": {
              "type": "dataframe",
              "variable_name": "data"
            }
          },
          "metadata": {},
          "execution_count": 11
        }
      ]
    },
    {
      "cell_type": "markdown",
      "source": [
        "The Identifiers at the end of the table contain additional visits of some of the subjects. We need to incorporate this information to the original data entries. The snap of the code below is an example of this occuring in the data."
      ],
      "metadata": {
        "id": "1E4y14VywHO5"
      }
    },
    {
      "cell_type": "code",
      "source": [
        "data['Identifiers'].values[6000:6200]"
      ],
      "metadata": {
        "id": "fSWigPsdv6XD",
        "outputId": "f884623b-d38c-433b-8c10-3851eb11df86",
        "colab": {
          "base_uri": "https://localhost:8080/"
        }
      },
      "execution_count": 12,
      "outputs": [
        {
          "output_type": "execute_result",
          "data": {
            "text/plain": [
              "array(['NDARPX155RF3_Visit_2', 'NDARPX155RF3_Visit_3',\n",
              "       'NDARPX219TW0_Visit_1', 'NDARPX219TW0_Visit_2',\n",
              "       'NDARPX219TW0_Visit_3', 'NDARPZ621ZLE_Visit_3',\n",
              "       'NDARRA717GYV_Visit_1', 'NDARRA717GYV_Visit_2',\n",
              "       'NDARRA733VWX_Visit_1', 'NDARRA733VWX_Visit_2',\n",
              "       'NDARRA733VWX_Visit_3', 'NDARRA733VWX_Visit_4',\n",
              "       'NDARRB942UWU_Visit_1', 'NDARRB942UWU_Visit_2',\n",
              "       'NDARRB942UWU_Visit_3', 'NDARRC190NKB_Visit_1',\n",
              "       'NDARRC190NKB_Visit_2', 'NDARRC190NKB_Visit_3',\n",
              "       'NDARRC819NLC_Visit_1', 'NDARRC819NLC_Visit_2',\n",
              "       'NDARRC819NLC_Visit_3', 'NDARRD326KB9_Visit_1',\n",
              "       'NDARRD326KB9_Visit_2', 'NDARRD326KB9_Visit_3',\n",
              "       'NDARRD720XZK_Visit_1', 'NDARRD720XZK_Visit_2',\n",
              "       'NDARRD720XZK_Visit_3', 'NDARRF897HB5_Visit_1',\n",
              "       'NDARRF897HB5_Visit_2', 'NDARRF897HB5_Visit_3',\n",
              "       'NDARRG199RU4_Visit_2', 'NDARRG199RU4_Visit_3',\n",
              "       'NDARRG415BJM_Visit_1', 'NDARRG415BJM_Visit_2',\n",
              "       'NDARRG415BJM_Visit_3', 'NDARRH407MEY_Visit_1',\n",
              "       'NDARRH407MEY_Visit_2', 'NDARRH407MEY_Visit_3',\n",
              "       'NDARRH725XYA_Visit_2', 'NDARRH725XYA_Visit_3',\n",
              "       'NDARRH725XYA_Visit_4', 'NDARRH732EVM_Visit_1',\n",
              "       'NDARRH732EVM_Visit_2', 'NDARRJ137CH3_Visit_1',\n",
              "       'NDARRJ137CH3_Visit_2', 'NDARRJ728NMD_Visit_1',\n",
              "       'NDARRJ728NMD_Visit_2', 'NDARRJ728NMD_Visit_3',\n",
              "       'NDARRJ989YPA_Visit_1', 'NDARRJ989YPA_Visit_2',\n",
              "       'NDARRK213WCF_Visit_1', 'NDARRL218DJ5_Visit_1',\n",
              "       'NDARRL218DJ5_Visit_2', 'NDARRL218DJ5_Visit_3',\n",
              "       'NDARRL660CME_No_Visi', 'NDARRL660CME_Visit_2',\n",
              "       'NDARRL660CME_Visit_3', 'NDARRL685WB7_Visit_1',\n",
              "       'NDARRL685WB7_Visit_2', 'NDARRM467NP2_SL_Eval',\n",
              "       'NDARRM467NP2_Visit_1', 'NDARRM467NP2_Visit_2',\n",
              "       'NDARRN444MJG_Visit_1', 'NDARRN444MJG_Visit_2',\n",
              "       'NDARRN444MJG_Visit_3', 'NDARRP163YRC_Visit_1',\n",
              "       'NDARRP163YRC_Visit_2', 'NDARRP163YRC_Visit_3',\n",
              "       'NDARRP818DWL_Visit_1', 'NDARRP818DWL_Visit_2',\n",
              "       'NDARRR450VUU_Visit_1', 'NDARRR450VUU_Visit_2',\n",
              "       'NDARRR450VUU_Visit_3', 'NDARRT038VG1_SL_Eval',\n",
              "       'NDARRT038VG1_Visit_2', 'NDARRT038VG1_Visit_3',\n",
              "       'NDARRU501YED_Visit_1', 'NDARRU501YED_Visit_2',\n",
              "       'NDARRU501YED_Visit_3', 'NDARRU720LG4_Visit_1',\n",
              "       'NDARRU720LG4_Visit_2', 'NDARRV480PU1_Visit_1',\n",
              "       'NDARRV480PU1_Visit_2', 'NDARRV638MJV_Visit_1',\n",
              "       'NDARRV638MJV_Visit_2', 'NDARRW100AU0_Visit_2',\n",
              "       'NDARRW100AU0_Visit_3', 'NDARRW940BL6_Visit_1',\n",
              "       'NDARRW940BL6_Visit_2', 'NDARRX999BX0_Visit_3',\n",
              "       'NDARRX999BX0_Visit_5', 'NDARRY006EMB_MRI', 'NDARRY112RAK_Visit_1',\n",
              "       'NDARRY112RAK_Visit_2', 'NDARRY112RAK_Visit_3',\n",
              "       'NDARRY280KNW_Visit_1', 'NDARRY280KNW_Visit_2',\n",
              "       'NDARRY280KNW_Visit_3', 'NDARRY715CY4_Visit_1',\n",
              "       'NDARRY867DY4_Visit_1', 'NDARRZ653HKY_Visit_1',\n",
              "       'NDARRZ653HKY_Visit_2', 'NDARRZ979FZ4_SL_Eval',\n",
              "       'NDARTA808DEQ_Visit_1', 'NDARTA808DEQ_Visit_3', 'NDARTB219AJV_SLP',\n",
              "       'NDARTB219AJV_Visit_1', 'NDARTB219AJV_Visit_2',\n",
              "       'NDARTB219AJV_Visit_3', 'NDARTB329GFY_SL_Eval',\n",
              "       'NDARTB329GFY_Visit_1', 'NDARTB329GFY_Visit_2',\n",
              "       'NDARTB329GFY_Visit_3', 'NDARTB552HP0_Visit_2',\n",
              "       'NDARTB552HP0_Visit_3', 'NDARTD468TUH_Visit_1',\n",
              "       'NDARTD468TUH_Visit_2', 'NDARTD468TUH_Visit_3',\n",
              "       'NDARTE785ZMJ_Visit_1', 'NDARTE785ZMJ_Visit_2',\n",
              "       'NDARTF133LLM_Visit_1', 'NDARTF133LLM_Visit_2',\n",
              "       'NDARTF133LLM_Visit_3', 'NDARTF833WXB_Visit_1',\n",
              "       'NDARTF833WXB_Visit_2', 'NDARTG035JK8_Visit_1',\n",
              "       'NDARTG464MWG_SL_Eval', 'NDARTG464MWG_Visit_1',\n",
              "       'NDARTG464MWG_Visit_2', 'NDARTG464MWG_Visit_3',\n",
              "       'NDARTG623PUH_Visit_1', 'NDARTG623PUH_Visit_2',\n",
              "       'NDARTG762KJC_Visit_1', 'NDARTG762KJC_Visit_2',\n",
              "       'NDARTG762KJC_Visit_4', 'NDARTH610GMK_Visit_1',\n",
              "       'NDARTH610GMK_Visit_2', 'NDARTH610GMK_Visit_3',\n",
              "       'NDARTJ032FJ2_Visit_1', 'NDARTJ032FJ2_Visit_2',\n",
              "       'NDARTJ418GP0_Visit_1', 'NDARTJ418GP0_Visit_2',\n",
              "       'NDARTJ418GP0_Visit_3', 'NDARTJ702KNP_Visit_1',\n",
              "       'NDARTJ702KNP_Visit_2', 'NDARTK435YWU_Visit_3',\n",
              "       'NDARTK882BHQ_Visit_1', 'NDARTK933KL9_Visit_1',\n",
              "       'NDARTK933KL9_Visit_2', 'NDARTK933KL9_Visit_3',\n",
              "       'NDARTL336THT_SL_Eval', 'NDARTL336THT_Visit_1',\n",
              "       'NDARTL336THT_Visit_2', 'NDARTN158LRF_Visit_1',\n",
              "       'NDARTN487KDK_Visit_1', 'NDARTP190KAN_Visit_1',\n",
              "       'NDARTP190KAN_Visit_2', 'NDARTP190KAN_Visit_3',\n",
              "       'NDARTP313AGH_Visit_2', 'NDARTP313AGH_Visit_3',\n",
              "       'NDARTR365NCY_Visit_1', 'NDARTR365NCY_Visit_2',\n",
              "       'NDARTR651DEH_Visit_1', 'NDARTR840XP1_Visit_1',\n",
              "       'NDARTR840XP1_Visit_2', 'NDARTR840XP1_Visit_3',\n",
              "       'NDARTT194LTU_Visit_1', 'NDARTT242GNN_Visit_1',\n",
              "       'NDARTT242GNN_Visit_2', 'NDARTT242GNN_Visit_3',\n",
              "       'NDARTT759PC5_Visit_1', 'NDARTT759PC5_Visit_2',\n",
              "       'NDARTU777GVV_Visit_1', 'NDARTU777GVV_Visit_2',\n",
              "       'NDARTU777GVV_Visit_3', 'NDARTW855BPJ_MRI', 'NDARTW855BPJ_No_Visi',\n",
              "       'NDARTW855BPJ_Visit_1', 'NDARTW855BPJ_Visit_2',\n",
              "       'NDARTX659HAF_Visit_1', 'NDARTX659HAF_Visit_3',\n",
              "       'NDARTX795AKR_Visit_1', 'NDARTX934NH6_Visit_1',\n",
              "       'NDARTX934NH6_Visit_2', 'NDARTX934NH6_Visit_3',\n",
              "       'NDARTZ634BAN_Visit_1', 'NDARTZ634BAN_Visit_2', 'NDARTZ926NMZ_SLP',\n",
              "       'NDARTZ926NMZ_Visit_1', 'NDARTZ926NMZ_Visit_2',\n",
              "       'NDARTZ926NMZ_Visit_3', 'NDARUA481FK4_Visit_1',\n",
              "       'NDARUA481FK4_Visit_2', 'NDARUD776KFT_COG', 'NDARUE533XNH_Visit_1',\n",
              "       'NDARUE533XNH_Visit_2', 'NDARUE533XNH_Visit_3',\n",
              "       'NDARUF069EHR_Visit_3', 'NDARUF069EHR_Visit_5',\n",
              "       'NDARUF389TXE_SL_Eval'], dtype=object)"
            ]
          },
          "metadata": {},
          "execution_count": 12
        }
      ]
    },
    {
      "cell_type": "code",
      "source": [
        "versions = []\n",
        "for i in data.Identifiers.values.tolist():\n",
        "  if '_' in i:\n",
        "    versions.append(i)\n",
        "print(len(versions))"
      ],
      "metadata": {
        "id": "jiE0_9kVIeRS",
        "outputId": "91b1aa28-37ee-4b36-dbf0-0f061b0bc01b",
        "colab": {
          "base_uri": "https://localhost:8080/"
        }
      },
      "execution_count": 13,
      "outputs": [
        {
          "output_type": "stream",
          "name": "stdout",
          "text": [
            "1819\n"
          ]
        }
      ]
    },
    {
      "cell_type": "code",
      "source": [
        "columns = data.columns\n",
        "i = 0\n",
        "for id in versions:\n",
        "  values = data[data['Identifiers'] == id].values.tolist()\n",
        "  while len(values) == 1:\n",
        "    values = values[0]\n",
        "  for value in values[1:]:\n",
        "    if value != '.':\n",
        "      if type(value) == str:\n",
        "        column_number = values.index(value)\n",
        "        row_number = data[data['Identifiers'] == id[:12]].index[0]\n",
        "        data.at[row_number, columns[column_number]] = value\n",
        "      elif type(value) != str and math.isnan(value) is not True:\n",
        "        column_number = values.index(value)\n",
        "        row_number = data[data['Identifiers'] == id[:12]].index[0]\n",
        "        data.at[row_number, columns[column_number]] = value\n",
        "      else:\n",
        "        if math.isnan(value) is not True:\n",
        "          print(value, type(value))\n",
        "  i += 1\n",
        "print(i)"
      ],
      "metadata": {
        "id": "i4bFXlFQH1cX",
        "outputId": "329dcdb1-169e-4bd0-ad41-f1e0324582aa",
        "colab": {
          "base_uri": "https://localhost:8080/"
        }
      },
      "execution_count": 14,
      "outputs": [
        {
          "output_type": "stream",
          "name": "stdout",
          "text": [
            "1819\n"
          ]
        }
      ]
    },
    {
      "cell_type": "code",
      "source": [
        "for id in versions:\n",
        "  data = data[data['Identifiers'] != id]\n",
        "data.shape"
      ],
      "metadata": {
        "id": "dCCDlIDLH_HE",
        "outputId": "27080198-540d-49b5-b446-836a1f0f0d9a",
        "colab": {
          "base_uri": "https://localhost:8080/"
        }
      },
      "execution_count": 15,
      "outputs": [
        {
          "output_type": "execute_result",
          "data": {
            "text/plain": [
              "(4867, 791)"
            ]
          },
          "metadata": {},
          "execution_count": 15
        }
      ]
    },
    {
      "cell_type": "code",
      "source": [
        "# checking for duplicates\n",
        "num_col_duplicates = data['Identifiers'].duplicated().sum()\n",
        "print(f'Number of duplicates in column \"Identifiers\": {num_col_duplicates}')"
      ],
      "metadata": {
        "id": "zCd3qYXkzuQB",
        "outputId": "8b2db70b-8250-4887-e88d-fea5989538f4",
        "colab": {
          "base_uri": "https://localhost:8080/"
        }
      },
      "execution_count": 16,
      "outputs": [
        {
          "output_type": "stream",
          "name": "stdout",
          "text": [
            "Number of duplicates in column \"Identifiers\": 0\n"
          ]
        }
      ]
    },
    {
      "cell_type": "code",
      "source": [
        "# we also have a column Basic Demos, EID that contain identifiers. Let's cross reference to check whether there are any discrepancies\n",
        "ids1 = data['Identifiers'].values\n",
        "ids2 = data['Basic_Demos,EID'].values\n",
        "print(len(ids1))\n",
        "print(len(ids2))\n",
        "for i in range(0, len(ids1)):\n",
        "  if ids1[i] != ids2[i]:\n",
        "    print(ids1, ids2)\n",
        "    break"
      ],
      "metadata": {
        "id": "hTtspmKKHKwA",
        "outputId": "5a31ed40-7d1e-4048-991f-fac67e6792eb",
        "colab": {
          "base_uri": "https://localhost:8080/"
        }
      },
      "execution_count": 17,
      "outputs": [
        {
          "output_type": "stream",
          "name": "stdout",
          "text": [
            "4867\n",
            "4867\n"
          ]
        }
      ]
    },
    {
      "cell_type": "code",
      "source": [
        "data.columns"
      ],
      "metadata": {
        "id": "voTcJ9yprtqv",
        "outputId": "47d0c1a5-b46c-4026-a670-77d805c3315c",
        "colab": {
          "base_uri": "https://localhost:8080/"
        }
      },
      "execution_count": 18,
      "outputs": [
        {
          "output_type": "execute_result",
          "data": {
            "text/plain": [
              "Index(['Identifiers', 'Barratt,Barratt_P1_Edu', 'Barratt,Barratt_P1_Occ',\n",
              "       'Barratt,Barratt_P2_Edu', 'Barratt,Barratt_P2_Occ',\n",
              "       'Barratt,Barratt_Total', 'Barratt,Barratt_Total_Edu',\n",
              "       'Barratt,Barratt_Total_Occ', 'Barratt,financialsupport',\n",
              "       'Basic_Demos,Age',\n",
              "       ...\n",
              "       'WISC_Remote,WISC_VCI_Sum', 'WISC_Remote,WISC_VP_Raw',\n",
              "       'WISC_Remote,WISC_VP_Scaled', 'WISC_Remote,WISC_Vocab_Raw',\n",
              "       'WISC_Remote,WISC_Vocab_Scaled', 'WISC_Remote,WISC_WMI',\n",
              "       'WISC_Remote,WISC_WMI_Percentile', 'WISC_Remote,WISC_WMI_Sum',\n",
              "       'WISC_Remote,WISC_complete', 'WISC_Remote,WISC_incomplete_reason'],\n",
              "      dtype='object', length=791)"
            ]
          },
          "metadata": {},
          "execution_count": 18
        }
      ]
    },
    {
      "cell_type": "markdown",
      "source": [
        "Let's now work on individual columns to make them more convinient for screening"
      ],
      "metadata": {
        "id": "6Sq56HJ0GBBF"
      }
    },
    {
      "cell_type": "code",
      "source": [
        "# we have a column \"Participant Status\" that contains information on whether\n",
        "# a person dropped out or been lost to follow up\n",
        "status = data['Basic_Demos,Participant_Status'].unique()\n",
        "for each in status:\n",
        "  number = data[data['Basic_Demos,Participant_Status'] == each].shape[0]\n",
        "  print('Number of ' + each + ': ' + str(number))"
      ],
      "metadata": {
        "id": "aGyJtuXjIaSQ",
        "outputId": "46b805a7-050a-4322-d3d2-da5d167ffe40",
        "colab": {
          "base_uri": "https://localhost:8080/"
        }
      },
      "execution_count": 19,
      "outputs": [
        {
          "output_type": "stream",
          "name": "stdout",
          "text": [
            "Number of Complete: 4241\n",
            "Number of Lost to follow-up: 269\n",
            "Number of Dropout: 357\n"
          ]
        }
      ]
    },
    {
      "cell_type": "code",
      "source": [
        "#working on Basic_Demos columns\n",
        "data['Basic_Demos,Age'] = data['Basic_Demos,Age'].astype(float)\n",
        "data['Basic_Demos,Sex'] = data['Basic_Demos,Sex'].astype(int)\n",
        "data.drop(['Basic_Demos,Site'], axis=1, inplace = True) # contain only nan values\n",
        "data['Basic_Demos,Study_Site'] = data['Basic_Demos,Study_Site'].astype(int)"
      ],
      "metadata": {
        "id": "cHr_mN-E4tNS"
      },
      "execution_count": 20,
      "outputs": []
    },
    {
      "cell_type": "code",
      "source": [
        "# Barrat score\n",
        "number = data[data['Barratt,Barratt_Total'] == '.'].shape[0]\n",
        "print('Missing values for Barrat scores: ' + str(number) + ' out of ' + str(data.shape[0]))"
      ],
      "metadata": {
        "id": "apLu3SfCMMtQ",
        "outputId": "e08e1559-a3a3-406c-f5ab-d8809dc1f9d2",
        "colab": {
          "base_uri": "https://localhost:8080/"
        }
      },
      "execution_count": 21,
      "outputs": [
        {
          "output_type": "stream",
          "name": "stdout",
          "text": [
            "Missing values for Barrat scores: 434 out of 4867\n"
          ]
        }
      ]
    },
    {
      "cell_type": "code",
      "source": [
        "# CELF tests\n",
        "# if we end up using it, it might make sense to check the validity first in CELF_Valid\n",
        "data['CELF,CELF_Total'] = data['CELF,CELF_Total'].fillna('.')\n",
        "number = data[data['CELF,CELF_Total'] == '.'].shape[0]\n",
        "print('Missing values for CELF scores: ' + str(number) + ' out of ' + str(data.shape[0]))"
      ],
      "metadata": {
        "id": "o73rj6_5MypJ",
        "outputId": "034bfdf7-fe00-4c4b-a35c-97b36f68534b",
        "colab": {
          "base_uri": "https://localhost:8080/"
        }
      },
      "execution_count": 22,
      "outputs": [
        {
          "output_type": "stream",
          "name": "stdout",
          "text": [
            "Missing values for CELF scores: 662 out of 4867\n"
          ]
        }
      ]
    },
    {
      "cell_type": "code",
      "source": [
        "# CTOPP-2\n",
        "# don't trust the 'complete' field, the ones with number 2 are both who completed some sets and who did nothing\n",
        "data['CTOPP,CTOPP_Complete'] = data['CTOPP,CTOPP_Complete'].fillna('.')\n",
        "number = data[data['CTOPP,CTOPP_Complete'] != '1'].shape[0]\n",
        "print('Missing values for CTOPP-2 scores: ' + str(number) + ' out of ' + str(data.shape[0]))\n",
        "\n",
        "names = ['CTOPP,CTOPP_BW_D', 'CTOPP,CTOPP_BW_P',\n",
        "       'CTOPP,CTOPP_BW_R', 'CTOPP,CTOPP_BW_S',\n",
        "       'CTOPP,CTOPP_EL_D', 'CTOPP,CTOPP_EL_P', 'CTOPP,CTOPP_EL_R',\n",
        "       'CTOPP,CTOPP_EL_S', 'CTOPP,CTOPP_NR_D', 'CTOPP,CTOPP_NR_P',\n",
        "       'CTOPP,CTOPP_NR_R', 'CTOPP,CTOPP_NR_S', 'CTOPP,CTOPP_RD_D',\n",
        "       'CTOPP,CTOPP_RD_P', 'CTOPP,CTOPP_RD_R', 'CTOPP,CTOPP_RD_S',\n",
        "       'CTOPP,CTOPP_RL_D', 'CTOPP,CTOPP_RL_P', 'CTOPP,CTOPP_RL_R',\n",
        "       'CTOPP,CTOPP_RL_S', 'CTOPP,CTOPP_RO_D', 'CTOPP,CTOPP_RO_P',\n",
        "       'CTOPP,CTOPP_RO_R', 'CTOPP,CTOPP_RO_S', 'CTOPP,CTOPP_RSN_Comp',\n",
        "       'CTOPP,CTOPP_RSN_D', 'CTOPP,CTOPP_RSN_P', 'CTOPP,CTOPP_RSN_Sum']\n",
        "\n",
        "for name in names:\n",
        "  data[name] = data[name].fillna('.') # filling nan values if any\n",
        "\n",
        "ctopp = []\n",
        "ids = data.Identifiers.values.tolist()\n",
        "for id in ids:\n",
        "  subset = data[data['Identifiers'] == id]\n",
        "  tests = []\n",
        "  for name in names:\n",
        "    if subset[name].values[0] != '.':\n",
        "      tests.append(name)\n",
        "  if len(tests) == 28:\n",
        "    ctopp.append('full')\n",
        "  elif len(tests) == 0:\n",
        "    ctopp.append('missing')\n",
        "  else:\n",
        "    new_tests = ''\n",
        "    for each in tests:\n",
        "      new_tests = new_tests + each[12:] + ', '\n",
        "    ctopp.append(new_tests)\n",
        "data['CTOPP'] = ctopp"
      ],
      "metadata": {
        "id": "w3_oj5bWOFpX",
        "outputId": "1eca4937-cb1d-4a7e-8d43-e4ef70f85d8a",
        "colab": {
          "base_uri": "https://localhost:8080/"
        }
      },
      "execution_count": 23,
      "outputs": [
        {
          "output_type": "stream",
          "name": "stdout",
          "text": [
            "Missing values for CTOPP-2 scores: 805 out of 4867\n"
          ]
        }
      ]
    },
    {
      "cell_type": "code",
      "source": [
        "# DailyMeds\n",
        "# we have people who have taken medication, drugs, or alcohol\n",
        "\n",
        "print('Drugs: ', data['DailyMeds,drugs'].unique()) # value '.' and 2 contains only nan values and '.'\n",
        "#data[data['DailyMeds,drugs'] == '1'][['DailyMeds,drugs_01', 'DailyMeds,drugs_02']] # to check the drugs\n",
        "\n",
        "print('Alcohol: ', data['DailyMeds,alcohol'].unique()) # value '.' and 2 contains only nan values and '.'\n",
        "#data[data['DailyMeds,alcohol'] == '1'][['DailyMeds,alc_01', 'DailyMeds,alc_02']] # to check alcohol (only one person)\n",
        "\n",
        "print('Meds: ', data['DailyMeds,medications'].unique()) # DO NOT TRUST THE SCORES, only look at the names and doses\n",
        "\n",
        "data['DailyMeds,med_name_01'] = data['DailyMeds,med_name_01'].fillna('.') # have ' ', nan, and '.' values\n",
        "data['DailyMeds,med_name_02'] = data['DailyMeds,med_name_02'].fillna('.') # have '.' and nan values\n",
        "data['DailyMeds,med_name_03'] = data['DailyMeds,med_name_03'].fillna('.') # have '.' and nan values\n",
        "\n",
        "meds1 = data['DailyMeds,med_name_01'].values.tolist() # have ' ' and '.' values\n",
        "meds2 = data['DailyMeds,med_name_02'].values.tolist() # have '.' values\n",
        "meds3 = data['DailyMeds,med_name_03'].values.tolist() # have '.' values\n",
        "medications = []\n",
        "for i in range(0, data.shape[0]):\n",
        "  status = 0\n",
        "  if meds1[i] != '.':\n",
        "    if meds1[i] != ' ':\n",
        "      status += 1\n",
        "    elif meds1[i] == ' ':\n",
        "      status = 0\n",
        "  elif meds1[i] == '.':\n",
        "    if meds2[i] != '.':\n",
        "      status += 1\n",
        "    elif meds2[i] == '.':\n",
        "      if meds3[i] != '.':\n",
        "        status += 1\n",
        "  if status != 0:\n",
        "    medications.append(1)\n",
        "  else:\n",
        "    medications.append(0)\n",
        "\n",
        "data['DailyMeds,medications'] = medications # created a new coding depending on whether there are any entries in drug names"
      ],
      "metadata": {
        "id": "afrTD-ALXm0h",
        "outputId": "d91bd4dc-aaa5-4f46-c2a4-45a37a046eb1",
        "colab": {
          "base_uri": "https://localhost:8080/"
        }
      },
      "execution_count": 24,
      "outputs": [
        {
          "output_type": "stream",
          "name": "stdout",
          "text": [
            "Drugs:  ['2' '.' '0' '1']\n",
            "Alcohol:  ['2' '.' '0' '1']\n",
            "Meds:  ['1' '.' '0']\n"
          ]
        }
      ]
    },
    {
      "cell_type": "code",
      "source": [
        "# Diagnosis_ClinicianConsensus\n",
        "# getting rid of nan values everywhere\n",
        "names = ['ByHx', 'Cat', 'Code', 'Confirmed', 'New', 'PRem', 'Past_Doc', 'Presum', 'RC', 'Rem', 'RuleOut', 'Spec', 'Sub', 'Time']\n",
        "data['Diagnosis_ClinicianConsensus,NoDX'] = data['Diagnosis_ClinicianConsensus,NoDX'].fillna('.')\n",
        "for number in range(1, 11):\n",
        "  if number != 10:\n",
        "    column = 'Diagnosis_ClinicianConsensus,DX_0' + str(number)\n",
        "  else:\n",
        "    column = 'Diagnosis_ClinicianConsensus,DX_10'\n",
        "  data[column] = data[column].fillna('.') # here we deal with only main column names\n",
        "  for name in names:\n",
        "    column_add = column + '_' + name\n",
        "    data[column_add] = data[column_add].fillna('.')"
      ],
      "metadata": {
        "id": "9sdk9Fi1J0be"
      },
      "execution_count": 25,
      "outputs": []
    },
    {
      "cell_type": "markdown",
      "source": [
        "We need to identify who is control and who is dyslexic and who has nothing to do with these categories. Control participants have the status of 'No Diagnosis Given' in the DX_01 and in the NoDX (the indicator 1). We need to push together the diagnoses from all of the 10 columns, consider the degree of certainty for these diagnosis and whether it is a confirmed status or not, and then create the column with values stating what group a particular participant is attributed to. As a result, I would like to have a status column saying that it is a drop out, control, just dyslexic, dyslexic with comorbidities or orther disorder. And then I would like to have a separate column that would include all the list of diagnoses for people who are not drop outs and controls."
      ],
      "metadata": {
        "id": "OgcugYzyaf5G"
      }
    },
    {
      "cell_type": "markdown",
      "source": [
        "We have the following variabilities in the diagnosis of SLI: ['Specific Learning Disorder with Impairment in Reading',\n",
        " 'Specific Learning Disorder with Impairment in Mathematics',\n",
        " 'Specific Learning Disorder with Impairment in Written Expression',\n",
        " 'Specific Learning Disorder with Impairment in Reading ',\n",
        " 'Specific Learning Disorder with Impairment in Mathematics ']. In the code we will account for this, as we would like to have the specific type of DD known."
      ],
      "metadata": {
        "id": "60Prdf1BaIHC"
      }
    },
    {
      "cell_type": "code",
      "source": [
        "check1 = data[(data['Diagnosis_ClinicianConsensus,DX_01'] == 'Specific Learning Disorder with Impairment in Reading') &\n",
        "     (data['Diagnosis_ClinicianConsensus,DX_02'] == 'Specific Learning Disorder with Impairment in Written Expression')][['Identifiers']].values"
      ],
      "metadata": {
        "id": "sGdBwZHHgbc6"
      },
      "execution_count": 245,
      "outputs": []
    },
    {
      "cell_type": "code",
      "source": [
        "check2 = data[(data['Diagnosis_ClinicianConsensus,DX_03'] == 'Specific Learning Disorder with Impairment in Reading') &\n",
        "     (data['Diagnosis_ClinicianConsensus,DX_02'] == 'Specific Learning Disorder with Impairment in Written Expression')][['Identifiers']].values"
      ],
      "metadata": {
        "id": "lg6ckfShg7Jo"
      },
      "execution_count": 246,
      "outputs": []
    },
    {
      "cell_type": "code",
      "source": [
        "check3 = data[(data['Diagnosis_ClinicianConsensus,DX_02'] == 'Specific Learning Disorder with Impairment in Reading') &\n",
        "     (data['Diagnosis_ClinicianConsensus,DX_03'] == 'Specific Learning Disorder with Impairment in Written Expression')][['Identifiers']].values"
      ],
      "metadata": {
        "id": "bfZaqpYvhZ6o"
      },
      "execution_count": 247,
      "outputs": []
    },
    {
      "cell_type": "code",
      "source": [
        "check4 = data[(data['Diagnosis_ClinicianConsensus,DX_01'] == 'Specific Learning Disorder with Impairment in Reading') &\n",
        "     (data['Diagnosis_ClinicianConsensus,DX_03'] == 'Specific Learning Disorder with Impairment in Written Expression')][['Identifiers']].values"
      ],
      "metadata": {
        "id": "NIhjNvkphmml"
      },
      "execution_count": 248,
      "outputs": []
    },
    {
      "cell_type": "code",
      "source": [
        "check5 = data[(data['Diagnosis_ClinicianConsensus,DX_01'] == 'Specific Learning Disorder with Impairment in Reading') &\n",
        "     (data['Diagnosis_ClinicianConsensus,DX_04'] == 'Specific Learning Disorder with Impairment in Written Expression')][['Identifiers']].values"
      ],
      "metadata": {
        "id": "045FeQ17hz6F"
      },
      "execution_count": 249,
      "outputs": []
    },
    {
      "cell_type": "code",
      "source": [
        "check6 = data[(data['Diagnosis_ClinicianConsensus,DX_02'] == 'Specific Learning Disorder with Impairment in Reading') &\n",
        "     (data['Diagnosis_ClinicianConsensus,DX_04'] == 'Specific Learning Disorder with Impairment in Written Expression')][['Identifiers']].values"
      ],
      "metadata": {
        "id": "_Rzt_ubGh34G"
      },
      "execution_count": 250,
      "outputs": []
    },
    {
      "cell_type": "code",
      "source": [
        "check7 = data[(data['Diagnosis_ClinicianConsensus,DX_03'] == 'Specific Learning Disorder with Impairment in Reading') &\n",
        "     (data['Diagnosis_ClinicianConsensus,DX_04'] == 'Specific Learning Disorder with Impairment in Written Expression')][['Identifiers']].values"
      ],
      "metadata": {
        "id": "gMQw7uW1h948"
      },
      "execution_count": 251,
      "outputs": []
    },
    {
      "cell_type": "code",
      "source": [
        "check8 = data[(data['Diagnosis_ClinicianConsensus,DX_04'] == 'Specific Learning Disorder with Impairment in Reading') &\n",
        "     (data['Diagnosis_ClinicianConsensus,DX_05'] == 'Specific Learning Disorder with Impairment in Written Expression')][['Identifiers']].values"
      ],
      "metadata": {
        "id": "ccKmispNiC7P"
      },
      "execution_count": 252,
      "outputs": []
    },
    {
      "cell_type": "code",
      "source": [
        "check_writtentwice = data[(data['Diagnosis_ClinicianConsensus,DX_07'] == 'Specific Learning Disorder with Impairment in Written Expression') &\n",
        "     (data['Diagnosis_ClinicianConsensus,DX_05'] == 'Specific Learning Disorder with Impairment in Written Expression')][['Identifiers']].values"
      ],
      "metadata": {
        "id": "bFjBEq96iX7Z"
      },
      "execution_count": 253,
      "outputs": []
    },
    {
      "cell_type": "code",
      "source": [
        "check9 = data[(data['Diagnosis_ClinicianConsensus,DX_03'] == 'Specific Learning Disorder with Impairment in Reading') &\n",
        "     (data['Diagnosis_ClinicianConsensus,DX_05'] == 'Specific Learning Disorder with Impairment in Written Expression')][['Identifiers']].values"
      ],
      "metadata": {
        "id": "t6dnoKbIiplP"
      },
      "execution_count": 254,
      "outputs": []
    },
    {
      "cell_type": "code",
      "source": [
        "check10 = data[(data['Diagnosis_ClinicianConsensus,DX_02'] == 'Specific Learning Disorder with Impairment in Reading') &\n",
        "     (data['Diagnosis_ClinicianConsensus,DX_05'] == 'Specific Learning Disorder with Impairment in Written Expression')][['Identifiers']].values"
      ],
      "metadata": {
        "id": "bpbuEQaziwCL"
      },
      "execution_count": 255,
      "outputs": []
    },
    {
      "cell_type": "code",
      "source": [
        "check11 = data[(data['Diagnosis_ClinicianConsensus,DX_01'] == 'Specific Learning Disorder with Impairment in Reading') &\n",
        "     (data['Diagnosis_ClinicianConsensus,DX_05'] == 'Specific Learning Disorder with Impairment in Written Expression')][['Identifiers']].values"
      ],
      "metadata": {
        "id": "MuV6Akl2i01F"
      },
      "execution_count": 256,
      "outputs": []
    },
    {
      "cell_type": "code",
      "source": [
        "check12 = data[(data['Diagnosis_ClinicianConsensus,DX_01'] == 'Specific Learning Disorder with Impairment in Reading') &\n",
        "     (data['Diagnosis_ClinicianConsensus,DX_06'] == 'Specific Learning Disorder with Impairment in Written Expression')][['Identifiers']].values"
      ],
      "metadata": {
        "id": "CMUhSH0-sRuO"
      },
      "execution_count": 257,
      "outputs": []
    },
    {
      "cell_type": "code",
      "source": [
        "check13 = data[(data['Diagnosis_ClinicianConsensus,DX_02'] == 'Specific Learning Disorder with Impairment in Reading') &\n",
        "     (data['Diagnosis_ClinicianConsensus,DX_06'] == 'Specific Learning Disorder with Impairment in Written Expression')][['Identifiers']].values"
      ],
      "metadata": {
        "id": "FxdtSUrTsWL7"
      },
      "execution_count": 258,
      "outputs": []
    },
    {
      "cell_type": "code",
      "source": [
        "check14 = data[(data['Diagnosis_ClinicianConsensus,DX_03'] == 'Specific Learning Disorder with Impairment in Reading') &\n",
        "     (data['Diagnosis_ClinicianConsensus,DX_06'] == 'Specific Learning Disorder with Impairment in Written Expression')][['Identifiers']].values"
      ],
      "metadata": {
        "id": "wQzNGJ8Ssbas"
      },
      "execution_count": 259,
      "outputs": []
    },
    {
      "cell_type": "code",
      "source": [
        "check15 = data[(data['Diagnosis_ClinicianConsensus,DX_04'] == 'Specific Learning Disorder with Impairment in Reading') &\n",
        "     (data['Diagnosis_ClinicianConsensus,DX_06'] == 'Specific Learning Disorder with Impairment in Written Expression')][['Identifiers']].values"
      ],
      "metadata": {
        "id": "MCkah_yksgGb"
      },
      "execution_count": 260,
      "outputs": []
    },
    {
      "cell_type": "code",
      "source": [
        "check16 = data[(data['Diagnosis_ClinicianConsensus,DX_05'] == 'Specific Learning Disorder with Impairment in Reading') &\n",
        "     (data['Diagnosis_ClinicianConsensus,DX_06'] == 'Specific Learning Disorder with Impairment in Written Expression')][['Identifiers']].values"
      ],
      "metadata": {
        "id": "hkUM6QcOsjIY"
      },
      "execution_count": 261,
      "outputs": []
    },
    {
      "cell_type": "code",
      "source": [
        "check17 = data[(data['Diagnosis_ClinicianConsensus,DX_07'] == 'Specific Learning Disorder with Impairment in Reading') &\n",
        "     (data['Diagnosis_ClinicianConsensus,DX_06'] == 'Specific Learning Disorder with Impairment in Written Expression')][['Identifiers']].values"
      ],
      "metadata": {
        "id": "jY4mfXYssmXw"
      },
      "execution_count": 262,
      "outputs": []
    },
    {
      "cell_type": "code",
      "source": [
        "check18 = data[(data['Diagnosis_ClinicianConsensus,DX_06'] == 'Specific Learning Disorder with Impairment in Reading') &\n",
        "     (data['Diagnosis_ClinicianConsensus,DX_07'] == 'Specific Learning Disorder with Impairment in Written Expression')][['Identifiers']].values"
      ],
      "metadata": {
        "id": "ItUG8-HWsony"
      },
      "execution_count": 263,
      "outputs": []
    },
    {
      "cell_type": "code",
      "source": [
        "check19 = data[(data['Diagnosis_ClinicianConsensus,DX_03'] == 'Specific Learning Disorder with Impairment in Reading') &\n",
        "     (data['Diagnosis_ClinicianConsensus,DX_07'] == 'Specific Learning Disorder with Impairment in Written Expression')][['Identifiers']].values"
      ],
      "metadata": {
        "id": "epqwfpRos1sX"
      },
      "execution_count": 264,
      "outputs": []
    },
    {
      "cell_type": "code",
      "source": [
        "check20 = data[(data['Diagnosis_ClinicianConsensus,DX_02'] == 'Specific Learning Disorder with Impairment in Reading') &\n",
        "     (data['Diagnosis_ClinicianConsensus,DX_07'] == 'Specific Learning Disorder with Impairment in Written Expression')][['Identifiers']].values"
      ],
      "metadata": {
        "id": "tlo3lm_VtHaZ"
      },
      "execution_count": 265,
      "outputs": []
    },
    {
      "cell_type": "code",
      "source": [
        "check21 = data[(data['Diagnosis_ClinicianConsensus,DX_01'] == 'Specific Learning Disorder with Impairment in Reading') &\n",
        "     (data['Diagnosis_ClinicianConsensus,DX_07'] == 'Specific Learning Disorder with Impairment in Written Expression')][['Identifiers']].values"
      ],
      "metadata": {
        "id": "9hR6Na4_tKw1"
      },
      "execution_count": 266,
      "outputs": []
    },
    {
      "cell_type": "code",
      "source": [
        "check22 = data[(data['Diagnosis_ClinicianConsensus,DX_04'] == 'Specific Learning Disorder with Impairment in Reading') &\n",
        "     (data['Diagnosis_ClinicianConsensus,DX_08'] == 'Specific Learning Disorder with Impairment in Written Expression')][['Identifiers']].values"
      ],
      "metadata": {
        "id": "f6Oe0ef-tY0B"
      },
      "execution_count": 267,
      "outputs": []
    },
    {
      "cell_type": "code",
      "source": [
        "check23 = data[(data['Diagnosis_ClinicianConsensus,DX_06'] == 'Specific Learning Disorder with Impairment in Reading') &\n",
        "     (data['Diagnosis_ClinicianConsensus,DX_08'] == 'Specific Learning Disorder with Impairment in Written Expression')][['Identifiers']].values"
      ],
      "metadata": {
        "id": "whN3FmYCteEv"
      },
      "execution_count": 268,
      "outputs": []
    },
    {
      "cell_type": "code",
      "source": [
        "check24 = data[(data['Diagnosis_ClinicianConsensus,DX_07'] == 'Specific Learning Disorder with Impairment in Reading') &\n",
        "     (data['Diagnosis_ClinicianConsensus,DX_08'] == 'Specific Learning Disorder with Impairment in Written Expression')][['Identifiers']].values"
      ],
      "metadata": {
        "id": "66xwXOXRthiB"
      },
      "execution_count": 269,
      "outputs": []
    },
    {
      "cell_type": "code",
      "source": [
        "check25 = data[(data['Diagnosis_ClinicianConsensus,DX_07'] == 'Specific Learning Disorder with Impairment in Reading') &\n",
        "     (data['Diagnosis_ClinicianConsensus,DX_09'] == 'Specific Learning Disorder with Impairment in Written Expression')][['Identifiers']].values"
      ],
      "metadata": {
        "id": "c5XT2IbetrJ5"
      },
      "execution_count": 270,
      "outputs": []
    },
    {
      "cell_type": "code",
      "source": [
        "check26 = data[(data['Diagnosis_ClinicianConsensus,DX_01'] == 'Specific Learning Disorder with Impairment in Reading') &\n",
        "     (data['Diagnosis_ClinicianConsensus,DX_09'] == 'Specific Learning Disorder with Impairment in Written Expression')][['Identifiers']].values"
      ],
      "metadata": {
        "id": "oOBXNkd9tywo"
      },
      "execution_count": 271,
      "outputs": []
    },
    {
      "cell_type": "code",
      "source": [
        "check27 = data[(data['Diagnosis_ClinicianConsensus,DX_09'] == 'Specific Learning Disorder with Impairment in Reading') &\n",
        "     (data['Diagnosis_ClinicianConsensus,DX_10'] == 'Specific Learning Disorder with Impairment in Written Expression')][['Identifiers']].values"
      ],
      "metadata": {
        "id": "hEzGvscYuBFD"
      },
      "execution_count": 272,
      "outputs": []
    },
    {
      "cell_type": "code",
      "source": [
        " # Diagnosis_ClinicianConsensus\n",
        "def diagnosis(df):\n",
        "  df['Diagnosis_ClinicianConsensus,NoDX'] = df['Diagnosis_ClinicianConsensus,NoDX'].fillna('.')\n",
        "\n",
        "  status = [] # will contain information on whether it is control, dropout, DD with/without comorbidities, other\n",
        "  all_diagnoses = [] # will contain all the diagnoses\n",
        "  type_DD = [] # will contain the type of DD\n",
        "  DD_certainty = [] # will contain the info on whether the diagnosis is confirmed\n",
        "  adhd = [] # will contain the infor whether there is an adhd diagnosis\n",
        "  intel_disability = [] # intellectual disability or autism\n",
        "\n",
        "  for i in range(0, data.shape[0]): # going through all the data\n",
        "    #print('New Subject')\n",
        "    subset = df.iloc[i] # a particular raw will all the values\n",
        "    #print(subset[['Diagnosis_ClinicianConsensus,DX_01', 'Diagnosis_ClinicianConsensus,DX_02', 'Diagnosis_ClinicianConsensus,DX_03',\n",
        "    #              'Diagnosis_ClinicianConsensus,DX_04', 'Diagnosis_ClinicianConsensus,DX_05', 'Diagnosis_ClinicianConsensus,DX_06',\n",
        "    #              'Diagnosis_ClinicianConsensus,DX_07', 'Diagnosis_ClinicianConsensus,DX_08', 'Diagnosis_ClinicianConsensus,DX_09',\n",
        "    #              'Diagnosis_ClinicianConsensus,DX_10']])\n",
        "    noDX = subset['Diagnosis_ClinicianConsensus,NoDX'] # 3 - drop out; 1 - control; 2, ' ', '.' - some diagnosis\n",
        "    if noDX == '3': # drop out\n",
        "      status.append('Dropout')\n",
        "      all_diagnoses.append('N/A')\n",
        "      type_DD.append('N/A')\n",
        "      adhd.append('N/A')\n",
        "      intel_disability.append('N/A')\n",
        "      DD_certainty.append('N/A')\n",
        "    elif noDX == '1': # No Diagnosis Given\n",
        "      status.append('Control')\n",
        "      all_diagnoses.append('N/A')\n",
        "      type_DD.append('N/A')\n",
        "      DD_certainty.append('N/A')\n",
        "      adhd.append('N/A')\n",
        "      intel_disability.append('N/A')\n",
        "    else: # when noDX = 2, '.', or ' ' it has a diagnosis\n",
        "      # here we are going to consider all the columns that contain the name of diagnosis\n",
        "      dys = 0\n",
        "      dys_type = ''\n",
        "      inter_diag = ''\n",
        "      index = 0\n",
        "      inter_certainty = ''\n",
        "      certainty_index = 0\n",
        "      adhd_index = 0 #adhd index\n",
        "      disability_index = 0\n",
        "      for number in range(1, 11): # we are going one by one through all the diagnosis columns\n",
        "        if number != 10:\n",
        "          name_diag = 'Diagnosis_ClinicianConsensus,DX_0' + str(number)\n",
        "          name_conf = 'Diagnosis_ClinicianConsensus,DX_0' + str(number) + '_Confirmed'\n",
        "          name_presum = 'Diagnosis_ClinicianConsensus,DX_0' + str(number) + '_Presum'\n",
        "          name_rc = 'Diagnosis_ClinicianConsensus,DX_0' + str(number) + '_RC'\n",
        "          name_ruleout = 'Diagnosis_ClinicianConsensus,DX_0' + str(number) + '_RuleOut'\n",
        "        elif number == 10:\n",
        "          name_diag = 'Diagnosis_ClinicianConsensus,DX_10'\n",
        "          name_conf = 'Diagnosis_ClinicianConsensus,DX_10' + '_Confirmed'\n",
        "          name_presum = 'Diagnosis_ClinicianConsensus,DX_10' + '_Presum'\n",
        "          name_rc = 'Diagnosis_ClinicianConsensus,DX_10' + '_RC'\n",
        "          name_ruleout = 'Diagnosis_ClinicianConsensus,DX_10' + '_RuleOut'\n",
        "\n",
        "        diagnosis = subset[name_diag]\n",
        "        conf = subset[name_conf]\n",
        "        presum = subset[name_presum]\n",
        "        rc = subset[name_rc]\n",
        "        ruleout = subset[name_ruleout]\n",
        "\n",
        "        if 'No Diagnosis' in diagnosis: # when something is off and no diagnosis detected outside of the noDX values 1 and 3\n",
        "            print('ERROR: No Diagnosis detected')\n",
        "            print('The raw: ', i, ' ', name_diag, diagnosis)\n",
        "            break\n",
        "          # now we should cover all the cases with the type of diagnosis\n",
        "        elif diagnosis == '.':\n",
        "            index += 1\n",
        "        elif diagnosis == ' ':\n",
        "            index += 1\n",
        "        else:\n",
        "          if 'Specific Learning Disorder with' in diagnosis:\n",
        "              dys += 1\n",
        "              dys_type = dys_type + diagnosis + '; '\n",
        "              # here we need to understand the certainty of the DD diagnosis\n",
        "              if conf == '1':\n",
        "                certainty_index += 1\n",
        "                inter_certainty = inter_certainty + 'Confirmed, '\n",
        "              if presum == '1':\n",
        "                certainty_index += 1\n",
        "                inter_certainty = inter_certainty + 'Presumptive, '\n",
        "              if rc == '1':\n",
        "                certainty_index += 1\n",
        "                inter_certainty = inter_certainty + 'RConfirm, '\n",
        "              if ruleout == '1':\n",
        "                certainty_index += 1\n",
        "                inter_certainty = inter_certainty + 'Ruleout, '\n",
        "              if certainty_index != 1:\n",
        "                inter_certainty = inter_certainty + 'Unclear, '\n",
        "                break\n",
        "          else:\n",
        "            inter_diag = inter_diag + diagnosis + '; '\n",
        "            if 'Attention-Deficit' in diagnosis:\n",
        "              adhd_index += 1\n",
        "            elif 'ADHD' in diagnosis:\n",
        "              adhd_index += 1\n",
        "            if 'Intellectual Disability' in diagnosis:\n",
        "              disability_index += 1\n",
        "            if 'Autism' in diagnosis:\n",
        "              disability_index += 1\n",
        "\n",
        "\n",
        "      #print('Inter_diag', inter_diag) # indicates all the diagnoses except for SLI\n",
        "      #print('Dys_type', dys_type) # type of SLI\n",
        "      #print(dys) # how many SLIs\n",
        "      #print(index) # how many ' ' or '.' values for this subject\n",
        "\n",
        "      # we need to differentiate between no diagnosis if none is given byt they're not reported control\n",
        "      # dyslexic without comorbidities\n",
        "      # dyslexic with comorbidities\n",
        "      # other diagnosis\n",
        "      counter = 0\n",
        "      if dys == 0:\n",
        "        if dys_type == '':\n",
        "          if inter_diag != '':\n",
        "            status.append('Other diagnosis')\n",
        "            all_diagnoses.append(inter_diag)\n",
        "            type_DD.append('N/A')\n",
        "            DD_certainty.append('N/A')\n",
        "          else:\n",
        "            status.append('All dots')\n",
        "            all_diagnoses.append('N/A')\n",
        "            type_DD.append('N/A')\n",
        "            DD_certainty.append('N/A')\n",
        "        else:\n",
        "          print('ERROR: dys = 0 but dys type not')\n",
        "          print(i, subset, dys_type, dys)\n",
        "          break\n",
        "\n",
        "      elif dys != 0: # if there is a DD diagnosis\n",
        "        if inter_diag == '':\n",
        "          status.append('DD')\n",
        "          all_diagnoses.append(dys_type)\n",
        "          DD_certainty.append(inter_certainty)\n",
        "        elif inter_diag != '':\n",
        "          status.append('DD with comorbidities')\n",
        "          new_inter_diag = dys_type + inter_diag\n",
        "          all_diagnoses.append(new_inter_diag)\n",
        "          DD_certainty.append(inter_certainty)\n",
        "        if dys == 1:\n",
        "          if 'Written' in dys_type:\n",
        "            type_DD.append('Writing')\n",
        "          elif 'Reading' in dys_type:\n",
        "            type_DD.append('Reading')\n",
        "          elif 'Mathematics' in dys_type:\n",
        "            type_DD.append('Math')\n",
        "          else:\n",
        "            print('ERROR: unknown type of DD')\n",
        "            print(i, dys_type, inter_diag, dys)\n",
        "            break\n",
        "        elif dys == 2:\n",
        "          if 'Mathematics' and 'Reading' in dys_type:\n",
        "            type_DD.append('Reading and Math')\n",
        "          elif 'Mathematics' and 'Written' in dys_type:\n",
        "            type_DD.append('Math and Writing')\n",
        "          elif 'Written' and 'Reading' in dys_type:\n",
        "            type_DD.append('Reading and Writing')\n",
        "            counter += 1\n",
        "\n",
        "          else:\n",
        "            print('ERROR: unknown type of DD')\n",
        "            print(i, dys_type, inter_diag, dys)\n",
        "            break\n",
        "        elif dys == 3:\n",
        "          if 'Mathematics' and 'Reading' and 'Written' in dys_type:\n",
        "            type_DD.append('Reading, Writing, and Math')\n",
        "          elif subset['Identifiers'] == 'NDARDV222JZ6': # for one subject there are accidently two diagnoses for SLI with impairment in math\n",
        "            type_DD.append('Reading and Math')\n",
        "          elif subset['Identifiers'] == 'NDARGX583YNZ': # accidently two reading diagnoses\n",
        "            type_DD.append('Reading and Math')\n",
        "          else:\n",
        "            print('ERROR: unknown type of DD')\n",
        "            print(i, dys_type, inter_diag, dys)\n",
        "            print(subset)\n",
        "            break\n",
        "        else:\n",
        "          print('ERROR: more than 3 dys types')\n",
        "          print(i, dys_type, inter_diag, dys)\n",
        "          print(subset)\n",
        "          break\n",
        "      if adhd_index == 0:\n",
        "        adhd.append(0)\n",
        "      else:\n",
        "        adhd.append(adhd_index)\n",
        "      if disability_index == 0:\n",
        "        intel_disability.append(0)\n",
        "      else:\n",
        "        intel_disability.append(disability_index)\n",
        "\n",
        "\n",
        "\n",
        "    #print('ALL DONE')\n",
        "    #print(len(status))\n",
        "    #print(status)\n",
        "    #print(len(all_diagnoses))\n",
        "    #print(all_diagnoses)\n",
        "  return status, all_diagnoses, type_DD, DD_certainty, adhd, intel_disability, counter"
      ],
      "metadata": {
        "id": "QJcwHxq7aL9l"
      },
      "execution_count": 122,
      "outputs": []
    },
    {
      "cell_type": "code",
      "source": [
        " status, all_diagnoses, type_DD, DD_certainty, adhd, intel_disability = diagnosis(data)\n",
        " data['Group'] = status\n",
        " data['Diagnosis'] = all_diagnoses\n",
        " data['DD'] = type_DD\n",
        " data['DD_Certainty'] = DD_certainty\n",
        " data['ADHD'] = adhd\n",
        " data['Intellectual_Disability'] = intel_disability"
      ],
      "metadata": {
        "id": "ABqiIDuMPqcH",
        "outputId": "36b5a688-4ff0-46f4-cfd0-a3f1f5b0338a",
        "colab": {
          "base_uri": "https://localhost:8080/"
        }
      },
      "execution_count": 27,
      "outputs": [
        {
          "output_type": "stream",
          "name": "stderr",
          "text": [
            "<ipython-input-27-3d717b81eb3c>:2: PerformanceWarning: DataFrame is highly fragmented.  This is usually the result of calling `frame.insert` many times, which has poor performance.  Consider joining all columns at once using pd.concat(axis=1) instead. To get a de-fragmented frame, use `newframe = frame.copy()`\n",
            "  data['Group'] = status\n",
            "<ipython-input-27-3d717b81eb3c>:3: PerformanceWarning: DataFrame is highly fragmented.  This is usually the result of calling `frame.insert` many times, which has poor performance.  Consider joining all columns at once using pd.concat(axis=1) instead. To get a de-fragmented frame, use `newframe = frame.copy()`\n",
            "  data['Diagnosis'] = all_diagnoses\n",
            "<ipython-input-27-3d717b81eb3c>:4: PerformanceWarning: DataFrame is highly fragmented.  This is usually the result of calling `frame.insert` many times, which has poor performance.  Consider joining all columns at once using pd.concat(axis=1) instead. To get a de-fragmented frame, use `newframe = frame.copy()`\n",
            "  data['DD'] = type_DD\n",
            "<ipython-input-27-3d717b81eb3c>:5: PerformanceWarning: DataFrame is highly fragmented.  This is usually the result of calling `frame.insert` many times, which has poor performance.  Consider joining all columns at once using pd.concat(axis=1) instead. To get a de-fragmented frame, use `newframe = frame.copy()`\n",
            "  data['DD_Certainty'] = DD_certainty\n",
            "<ipython-input-27-3d717b81eb3c>:6: PerformanceWarning: DataFrame is highly fragmented.  This is usually the result of calling `frame.insert` many times, which has poor performance.  Consider joining all columns at once using pd.concat(axis=1) instead. To get a de-fragmented frame, use `newframe = frame.copy()`\n",
            "  data['ADHD'] = adhd\n",
            "<ipython-input-27-3d717b81eb3c>:7: PerformanceWarning: DataFrame is highly fragmented.  This is usually the result of calling `frame.insert` many times, which has poor performance.  Consider joining all columns at once using pd.concat(axis=1) instead. To get a de-fragmented frame, use `newframe = frame.copy()`\n",
            "  data['Intellectual_Disability'] = intel_disability\n"
          ]
        }
      ]
    },
    {
      "cell_type": "code",
      "source": [
        "data.groupby(['Group'])[['Identifiers']].count()"
      ],
      "metadata": {
        "id": "5cmePo2sQqG2",
        "outputId": "2a7d80fb-465b-43aa-c0b1-412c8c9a7a78",
        "colab": {
          "base_uri": "https://localhost:8080/",
          "height": 268
        }
      },
      "execution_count": 28,
      "outputs": [
        {
          "output_type": "execute_result",
          "data": {
            "text/plain": [
              "                       Identifiers\n",
              "Group                             \n",
              "All dots                       105\n",
              "Control                        373\n",
              "DD                             201\n",
              "DD with comorbidities          879\n",
              "Dropout                        526\n",
              "Other diagnosis               2783"
            ],
            "text/html": [
              "\n",
              "  <div id=\"df-56dfc4d7-c5b9-45c8-a537-3629c6512378\" class=\"colab-df-container\">\n",
              "    <div>\n",
              "<style scoped>\n",
              "    .dataframe tbody tr th:only-of-type {\n",
              "        vertical-align: middle;\n",
              "    }\n",
              "\n",
              "    .dataframe tbody tr th {\n",
              "        vertical-align: top;\n",
              "    }\n",
              "\n",
              "    .dataframe thead th {\n",
              "        text-align: right;\n",
              "    }\n",
              "</style>\n",
              "<table border=\"1\" class=\"dataframe\">\n",
              "  <thead>\n",
              "    <tr style=\"text-align: right;\">\n",
              "      <th></th>\n",
              "      <th>Identifiers</th>\n",
              "    </tr>\n",
              "    <tr>\n",
              "      <th>Group</th>\n",
              "      <th></th>\n",
              "    </tr>\n",
              "  </thead>\n",
              "  <tbody>\n",
              "    <tr>\n",
              "      <th>All dots</th>\n",
              "      <td>105</td>\n",
              "    </tr>\n",
              "    <tr>\n",
              "      <th>Control</th>\n",
              "      <td>373</td>\n",
              "    </tr>\n",
              "    <tr>\n",
              "      <th>DD</th>\n",
              "      <td>201</td>\n",
              "    </tr>\n",
              "    <tr>\n",
              "      <th>DD with comorbidities</th>\n",
              "      <td>879</td>\n",
              "    </tr>\n",
              "    <tr>\n",
              "      <th>Dropout</th>\n",
              "      <td>526</td>\n",
              "    </tr>\n",
              "    <tr>\n",
              "      <th>Other diagnosis</th>\n",
              "      <td>2783</td>\n",
              "    </tr>\n",
              "  </tbody>\n",
              "</table>\n",
              "</div>\n",
              "    <div class=\"colab-df-buttons\">\n",
              "\n",
              "  <div class=\"colab-df-container\">\n",
              "    <button class=\"colab-df-convert\" onclick=\"convertToInteractive('df-56dfc4d7-c5b9-45c8-a537-3629c6512378')\"\n",
              "            title=\"Convert this dataframe to an interactive table.\"\n",
              "            style=\"display:none;\">\n",
              "\n",
              "  <svg xmlns=\"http://www.w3.org/2000/svg\" height=\"24px\" viewBox=\"0 -960 960 960\">\n",
              "    <path d=\"M120-120v-720h720v720H120Zm60-500h600v-160H180v160Zm220 220h160v-160H400v160Zm0 220h160v-160H400v160ZM180-400h160v-160H180v160Zm440 0h160v-160H620v160ZM180-180h160v-160H180v160Zm440 0h160v-160H620v160Z\"/>\n",
              "  </svg>\n",
              "    </button>\n",
              "\n",
              "  <style>\n",
              "    .colab-df-container {\n",
              "      display:flex;\n",
              "      gap: 12px;\n",
              "    }\n",
              "\n",
              "    .colab-df-convert {\n",
              "      background-color: #E8F0FE;\n",
              "      border: none;\n",
              "      border-radius: 50%;\n",
              "      cursor: pointer;\n",
              "      display: none;\n",
              "      fill: #1967D2;\n",
              "      height: 32px;\n",
              "      padding: 0 0 0 0;\n",
              "      width: 32px;\n",
              "    }\n",
              "\n",
              "    .colab-df-convert:hover {\n",
              "      background-color: #E2EBFA;\n",
              "      box-shadow: 0px 1px 2px rgba(60, 64, 67, 0.3), 0px 1px 3px 1px rgba(60, 64, 67, 0.15);\n",
              "      fill: #174EA6;\n",
              "    }\n",
              "\n",
              "    .colab-df-buttons div {\n",
              "      margin-bottom: 4px;\n",
              "    }\n",
              "\n",
              "    [theme=dark] .colab-df-convert {\n",
              "      background-color: #3B4455;\n",
              "      fill: #D2E3FC;\n",
              "    }\n",
              "\n",
              "    [theme=dark] .colab-df-convert:hover {\n",
              "      background-color: #434B5C;\n",
              "      box-shadow: 0px 1px 3px 1px rgba(0, 0, 0, 0.15);\n",
              "      filter: drop-shadow(0px 1px 2px rgba(0, 0, 0, 0.3));\n",
              "      fill: #FFFFFF;\n",
              "    }\n",
              "  </style>\n",
              "\n",
              "    <script>\n",
              "      const buttonEl =\n",
              "        document.querySelector('#df-56dfc4d7-c5b9-45c8-a537-3629c6512378 button.colab-df-convert');\n",
              "      buttonEl.style.display =\n",
              "        google.colab.kernel.accessAllowed ? 'block' : 'none';\n",
              "\n",
              "      async function convertToInteractive(key) {\n",
              "        const element = document.querySelector('#df-56dfc4d7-c5b9-45c8-a537-3629c6512378');\n",
              "        const dataTable =\n",
              "          await google.colab.kernel.invokeFunction('convertToInteractive',\n",
              "                                                    [key], {});\n",
              "        if (!dataTable) return;\n",
              "\n",
              "        const docLinkHtml = 'Like what you see? Visit the ' +\n",
              "          '<a target=\"_blank\" href=https://colab.research.google.com/notebooks/data_table.ipynb>data table notebook</a>'\n",
              "          + ' to learn more about interactive tables.';\n",
              "        element.innerHTML = '';\n",
              "        dataTable['output_type'] = 'display_data';\n",
              "        await google.colab.output.renderOutput(dataTable, element);\n",
              "        const docLink = document.createElement('div');\n",
              "        docLink.innerHTML = docLinkHtml;\n",
              "        element.appendChild(docLink);\n",
              "      }\n",
              "    </script>\n",
              "  </div>\n",
              "\n",
              "\n",
              "<div id=\"df-4ad0463a-0e50-4e8c-8811-12fe1ac5533e\">\n",
              "  <button class=\"colab-df-quickchart\" onclick=\"quickchart('df-4ad0463a-0e50-4e8c-8811-12fe1ac5533e')\"\n",
              "            title=\"Suggest charts\"\n",
              "            style=\"display:none;\">\n",
              "\n",
              "<svg xmlns=\"http://www.w3.org/2000/svg\" height=\"24px\"viewBox=\"0 0 24 24\"\n",
              "     width=\"24px\">\n",
              "    <g>\n",
              "        <path d=\"M19 3H5c-1.1 0-2 .9-2 2v14c0 1.1.9 2 2 2h14c1.1 0 2-.9 2-2V5c0-1.1-.9-2-2-2zM9 17H7v-7h2v7zm4 0h-2V7h2v10zm4 0h-2v-4h2v4z\"/>\n",
              "    </g>\n",
              "</svg>\n",
              "  </button>\n",
              "\n",
              "<style>\n",
              "  .colab-df-quickchart {\n",
              "      --bg-color: #E8F0FE;\n",
              "      --fill-color: #1967D2;\n",
              "      --hover-bg-color: #E2EBFA;\n",
              "      --hover-fill-color: #174EA6;\n",
              "      --disabled-fill-color: #AAA;\n",
              "      --disabled-bg-color: #DDD;\n",
              "  }\n",
              "\n",
              "  [theme=dark] .colab-df-quickchart {\n",
              "      --bg-color: #3B4455;\n",
              "      --fill-color: #D2E3FC;\n",
              "      --hover-bg-color: #434B5C;\n",
              "      --hover-fill-color: #FFFFFF;\n",
              "      --disabled-bg-color: #3B4455;\n",
              "      --disabled-fill-color: #666;\n",
              "  }\n",
              "\n",
              "  .colab-df-quickchart {\n",
              "    background-color: var(--bg-color);\n",
              "    border: none;\n",
              "    border-radius: 50%;\n",
              "    cursor: pointer;\n",
              "    display: none;\n",
              "    fill: var(--fill-color);\n",
              "    height: 32px;\n",
              "    padding: 0;\n",
              "    width: 32px;\n",
              "  }\n",
              "\n",
              "  .colab-df-quickchart:hover {\n",
              "    background-color: var(--hover-bg-color);\n",
              "    box-shadow: 0 1px 2px rgba(60, 64, 67, 0.3), 0 1px 3px 1px rgba(60, 64, 67, 0.15);\n",
              "    fill: var(--button-hover-fill-color);\n",
              "  }\n",
              "\n",
              "  .colab-df-quickchart-complete:disabled,\n",
              "  .colab-df-quickchart-complete:disabled:hover {\n",
              "    background-color: var(--disabled-bg-color);\n",
              "    fill: var(--disabled-fill-color);\n",
              "    box-shadow: none;\n",
              "  }\n",
              "\n",
              "  .colab-df-spinner {\n",
              "    border: 2px solid var(--fill-color);\n",
              "    border-color: transparent;\n",
              "    border-bottom-color: var(--fill-color);\n",
              "    animation:\n",
              "      spin 1s steps(1) infinite;\n",
              "  }\n",
              "\n",
              "  @keyframes spin {\n",
              "    0% {\n",
              "      border-color: transparent;\n",
              "      border-bottom-color: var(--fill-color);\n",
              "      border-left-color: var(--fill-color);\n",
              "    }\n",
              "    20% {\n",
              "      border-color: transparent;\n",
              "      border-left-color: var(--fill-color);\n",
              "      border-top-color: var(--fill-color);\n",
              "    }\n",
              "    30% {\n",
              "      border-color: transparent;\n",
              "      border-left-color: var(--fill-color);\n",
              "      border-top-color: var(--fill-color);\n",
              "      border-right-color: var(--fill-color);\n",
              "    }\n",
              "    40% {\n",
              "      border-color: transparent;\n",
              "      border-right-color: var(--fill-color);\n",
              "      border-top-color: var(--fill-color);\n",
              "    }\n",
              "    60% {\n",
              "      border-color: transparent;\n",
              "      border-right-color: var(--fill-color);\n",
              "    }\n",
              "    80% {\n",
              "      border-color: transparent;\n",
              "      border-right-color: var(--fill-color);\n",
              "      border-bottom-color: var(--fill-color);\n",
              "    }\n",
              "    90% {\n",
              "      border-color: transparent;\n",
              "      border-bottom-color: var(--fill-color);\n",
              "    }\n",
              "  }\n",
              "</style>\n",
              "\n",
              "  <script>\n",
              "    async function quickchart(key) {\n",
              "      const quickchartButtonEl =\n",
              "        document.querySelector('#' + key + ' button');\n",
              "      quickchartButtonEl.disabled = true;  // To prevent multiple clicks.\n",
              "      quickchartButtonEl.classList.add('colab-df-spinner');\n",
              "      try {\n",
              "        const charts = await google.colab.kernel.invokeFunction(\n",
              "            'suggestCharts', [key], {});\n",
              "      } catch (error) {\n",
              "        console.error('Error during call to suggestCharts:', error);\n",
              "      }\n",
              "      quickchartButtonEl.classList.remove('colab-df-spinner');\n",
              "      quickchartButtonEl.classList.add('colab-df-quickchart-complete');\n",
              "    }\n",
              "    (() => {\n",
              "      let quickchartButtonEl =\n",
              "        document.querySelector('#df-4ad0463a-0e50-4e8c-8811-12fe1ac5533e button');\n",
              "      quickchartButtonEl.style.display =\n",
              "        google.colab.kernel.accessAllowed ? 'block' : 'none';\n",
              "    })();\n",
              "  </script>\n",
              "</div>\n",
              "\n",
              "    </div>\n",
              "  </div>\n"
            ],
            "application/vnd.google.colaboratory.intrinsic+json": {
              "type": "dataframe",
              "summary": "{\n  \"name\": \"data\",\n  \"rows\": 6,\n  \"fields\": [\n    {\n      \"column\": \"Group\",\n      \"properties\": {\n        \"dtype\": \"string\",\n        \"num_unique_values\": 6,\n        \"samples\": [\n          \"All dots\",\n          \"Control\",\n          \"Other diagnosis\"\n        ],\n        \"semantic_type\": \"\",\n        \"description\": \"\"\n      }\n    },\n    {\n      \"column\": \"Identifiers\",\n      \"properties\": {\n        \"dtype\": \"number\",\n        \"std\": 1003,\n        \"min\": 105,\n        \"max\": 2783,\n        \"num_unique_values\": 6,\n        \"samples\": [\n          105,\n          373,\n          2783\n        ],\n        \"semantic_type\": \"\",\n        \"description\": \"\"\n      }\n    }\n  ]\n}"
            }
          },
          "metadata": {},
          "execution_count": 28
        }
      ]
    },
    {
      "cell_type": "code",
      "source": [
        "# Drug Screen\n",
        "# 0 = negative, 1 = positive\n",
        "drugscreens = ['DrugScreen,AMP500', 'DrugScreen,BAR300', 'DrugScreen,BUP10',\n",
        "       'DrugScreen,BZO300', 'DrugScreen,COC150', 'DrugScreen,MAMP500',\n",
        "       'DrugScreen,MDMA500', 'DrugScreen,MTD300', 'DrugScreen,OPI300',\n",
        "       'DrugScreen,OXY100', 'DrugScreen,PCP25', 'DrugScreen,PPX300',\n",
        "       'DrugScreen,TCA1000', 'DrugScreen,THC50', 'DrugScreen,perscribed']\n",
        "for drug in drugscreens:\n",
        "  data[drug] = data[drug].fillna('.')\n",
        "  print('Name of the screen: ', drug, 'Number of subjects with positive test: ', data[data[drug] == '1'].shape[0])\n"
      ],
      "metadata": {
        "id": "CY7ty6g6RWMb",
        "outputId": "5fe8ae9f-8b25-455b-f9aa-611d781f7f6c",
        "colab": {
          "base_uri": "https://localhost:8080/"
        }
      },
      "execution_count": 29,
      "outputs": [
        {
          "output_type": "stream",
          "name": "stdout",
          "text": [
            "Name of the screen:  DrugScreen,AMP500 Number of subjects with positive test:  51\n",
            "Name of the screen:  DrugScreen,BAR300 Number of subjects with positive test:  2\n",
            "Name of the screen:  DrugScreen,BUP10 Number of subjects with positive test:  1\n",
            "Name of the screen:  DrugScreen,BZO300 Number of subjects with positive test:  10\n",
            "Name of the screen:  DrugScreen,COC150 Number of subjects with positive test:  1\n",
            "Name of the screen:  DrugScreen,MAMP500 Number of subjects with positive test:  3\n",
            "Name of the screen:  DrugScreen,MDMA500 Number of subjects with positive test:  1\n",
            "Name of the screen:  DrugScreen,MTD300 Number of subjects with positive test:  1\n",
            "Name of the screen:  DrugScreen,OPI300 Number of subjects with positive test:  16\n",
            "Name of the screen:  DrugScreen,OXY100 Number of subjects with positive test:  2\n",
            "Name of the screen:  DrugScreen,PCP25 Number of subjects with positive test:  1\n",
            "Name of the screen:  DrugScreen,PPX300 Number of subjects with positive test:  1\n",
            "Name of the screen:  DrugScreen,TCA1000 Number of subjects with positive test:  5\n",
            "Name of the screen:  DrugScreen,THC50 Number of subjects with positive test:  49\n",
            "Name of the screen:  DrugScreen,perscribed Number of subjects with positive test:  41\n"
          ]
        }
      ]
    },
    {
      "cell_type": "code",
      "source": [
        "# EHQ\n",
        "handedness = data['EHQ,EHQ_Total'].values\n",
        "new_handedness = []\n",
        "for value in handedness:\n",
        "  if value != '.':\n",
        "    new_handedness.append(float(value))\n",
        "  else:\n",
        "    new_handedness.append(value)\n",
        "data['EHQ,EHQ_Total'] = new_handedness"
      ],
      "metadata": {
        "id": "S0Z2jmmJ9NDj"
      },
      "execution_count": 30,
      "outputs": []
    },
    {
      "cell_type": "code",
      "source": [
        "# EVT\n",
        "# if we end up using it, it might make sense to check the validity first in EVT_Valid\n",
        "data['EVT,EVT_Valid'] = data['EVT,EVT_Valid'].fillna('.')\n",
        "number = data[data['EVT,EVT_Complete'] != '1'].shape[0]\n",
        "print('Missing values for EVT scores: ' + str(number) + ' out of ' + str(data.shape[0]))"
      ],
      "metadata": {
        "colab": {
          "base_uri": "https://localhost:8080/"
        },
        "id": "bSYf2r1l_Eqw",
        "outputId": "a20849d1-942e-4828-be69-0a0efd054b55"
      },
      "execution_count": 31,
      "outputs": [
        {
          "output_type": "stream",
          "name": "stdout",
          "text": [
            "Missing values for EVT scores: 4528 out of 4867\n"
          ]
        }
      ]
    },
    {
      "cell_type": "code",
      "source": [
        "# GFTA\n",
        "data['GFTA,GFTA_2_Complete'] = data['GFTA,GFTA_2_Complete'].fillna('.')\n",
        "number = data[data['GFTA,GFTA_2_Complete'] != '1'].shape[0]\n",
        "print('Missing values for GFTA_2 scores: ' + str(number) + ' out of ' + str(data.shape[0]))"
      ],
      "metadata": {
        "colab": {
          "base_uri": "https://localhost:8080/"
        },
        "id": "GnAbvf_v_iLY",
        "outputId": "f6564006-3938-4adc-d899-a471d0f3c586"
      },
      "execution_count": 32,
      "outputs": [
        {
          "output_type": "stream",
          "name": "stdout",
          "text": [
            "Missing values for GFTA_2 scores: 4832 out of 4867\n"
          ]
        }
      ]
    },
    {
      "cell_type": "code",
      "source": [
        "# MRI Track\n",
        "# Complete: 1 = All done, 2 = some scans complete, 3 = no scanc complete\n",
        "# Clinical Impression: 1 = Within Normal Limits, 2 = Findings Not Clinically Significant, 3 = Abnormal\n",
        "# RS: resting state complete 0 = No 1 = Yes 2 = Partial\n",
        "# Movie, T1-W, T2 Flair, DWI_PAAX, DWI_APAX\n",
        "names = ['Clinical_Impression', 'Complete', 'DKI64', 'DWI_APAX', 'DWI_PAAX', 'RS']\n",
        "for name in names:\n",
        "  col_name = 'MRI_Track,' + name\n",
        "  data[col_name] = data[col_name].fillna('.')\n",
        "  if name == 'Complete':\n",
        "    print('Completed ', data[data[col_name] == '1'].shape[0], ' participants out of ', data.shape[0])\n",
        "  elif name == 'Clinical_Impression':\n",
        "    print('Within normal limits: ', data[data[col_name] == '1'].shape[0])\n",
        "    print('Findings Not Clinically Significant: ', data[data[col_name] == '2'].shape[0])\n",
        "    print('Abnormal: ', data[data[col_name] == '3'].shape[0])\n",
        "  else:\n",
        "    print(name, 'done ', data[data[col_name] == '1'].shape[0], 'out of ', data.shape[0])"
      ],
      "metadata": {
        "id": "0g0sKMafBXio",
        "outputId": "25e2566b-36c4-41fa-994b-3c8e398d10f2",
        "colab": {
          "base_uri": "https://localhost:8080/"
        }
      },
      "execution_count": 33,
      "outputs": [
        {
          "output_type": "stream",
          "name": "stdout",
          "text": [
            "Within normal limits:  2924\n",
            "Findings Not Clinically Significant:  281\n",
            "Abnormal:  207\n",
            "Completed  2635  participants out of  4867\n",
            "DKI64 done  2968 out of  4867\n",
            "DWI_APAX done  682 out of  4867\n",
            "DWI_PAAX done  942 out of  4867\n",
            "RS done  3015 out of  4867\n"
          ]
        }
      ]
    },
    {
      "cell_type": "code",
      "source": [
        "# PreInt Language\n",
        "data['PreInt_Lang,Child_Primary_Lang'] = data['PreInt_Lang,Child_Primary_Lang'].fillna('.')\n",
        "data[data['PreInt_Lang,Child_Primary_Lang'] != '.'].groupby(['PreInt_Lang,Child_Primary_Lang'])['Identifiers'].count()"
      ],
      "metadata": {
        "id": "vGpQYthtiILH",
        "outputId": "dde639ba-1bd7-4c5d-d0d8-65c332c01e5c",
        "colab": {
          "base_uri": "https://localhost:8080/",
          "height": 993
        }
      },
      "execution_count": 34,
      "outputs": [
        {
          "output_type": "execute_result",
          "data": {
            "text/plain": [
              "PreInt_Lang,Child_Primary_Lang\n",
              "Bilingual                1\n",
              "Bilungual                1\n",
              "Both (B+E)               1\n",
              "Bulgarian                1\n",
              "Chinese - Mandarin       1\n",
              "ENglish                  1\n",
              "English               3135\n",
              "English                 38\n",
              "English and French       1\n",
              "English/French           1\n",
              "Englsh                   1\n",
              "Englush                  1\n",
              "French                   4\n",
              "Hebrew                   1\n",
              "Hungarian                1\n",
              "Italian                  1\n",
              "Korean                   1\n",
              "Other                    2\n",
              "Polish                   1\n",
              "Portuguese               1\n",
              "Russian                  1\n",
              "Russian                  1\n",
              "Spanish                  7\n",
              "Turkish                  1\n",
              "both                     1\n",
              "both equally             1\n",
              "english                  3\n",
              "v                        1\n",
              "Name: Identifiers, dtype: int64"
            ],
            "text/html": [
              "<div>\n",
              "<style scoped>\n",
              "    .dataframe tbody tr th:only-of-type {\n",
              "        vertical-align: middle;\n",
              "    }\n",
              "\n",
              "    .dataframe tbody tr th {\n",
              "        vertical-align: top;\n",
              "    }\n",
              "\n",
              "    .dataframe thead th {\n",
              "        text-align: right;\n",
              "    }\n",
              "</style>\n",
              "<table border=\"1\" class=\"dataframe\">\n",
              "  <thead>\n",
              "    <tr style=\"text-align: right;\">\n",
              "      <th></th>\n",
              "      <th>Identifiers</th>\n",
              "    </tr>\n",
              "    <tr>\n",
              "      <th>PreInt_Lang,Child_Primary_Lang</th>\n",
              "      <th></th>\n",
              "    </tr>\n",
              "  </thead>\n",
              "  <tbody>\n",
              "    <tr>\n",
              "      <th>Bilingual</th>\n",
              "      <td>1</td>\n",
              "    </tr>\n",
              "    <tr>\n",
              "      <th>Bilungual</th>\n",
              "      <td>1</td>\n",
              "    </tr>\n",
              "    <tr>\n",
              "      <th>Both (B+E)</th>\n",
              "      <td>1</td>\n",
              "    </tr>\n",
              "    <tr>\n",
              "      <th>Bulgarian</th>\n",
              "      <td>1</td>\n",
              "    </tr>\n",
              "    <tr>\n",
              "      <th>Chinese - Mandarin</th>\n",
              "      <td>1</td>\n",
              "    </tr>\n",
              "    <tr>\n",
              "      <th>ENglish</th>\n",
              "      <td>1</td>\n",
              "    </tr>\n",
              "    <tr>\n",
              "      <th>English</th>\n",
              "      <td>3135</td>\n",
              "    </tr>\n",
              "    <tr>\n",
              "      <th>English</th>\n",
              "      <td>38</td>\n",
              "    </tr>\n",
              "    <tr>\n",
              "      <th>English and French</th>\n",
              "      <td>1</td>\n",
              "    </tr>\n",
              "    <tr>\n",
              "      <th>English/French</th>\n",
              "      <td>1</td>\n",
              "    </tr>\n",
              "    <tr>\n",
              "      <th>Englsh</th>\n",
              "      <td>1</td>\n",
              "    </tr>\n",
              "    <tr>\n",
              "      <th>Englush</th>\n",
              "      <td>1</td>\n",
              "    </tr>\n",
              "    <tr>\n",
              "      <th>French</th>\n",
              "      <td>4</td>\n",
              "    </tr>\n",
              "    <tr>\n",
              "      <th>Hebrew</th>\n",
              "      <td>1</td>\n",
              "    </tr>\n",
              "    <tr>\n",
              "      <th>Hungarian</th>\n",
              "      <td>1</td>\n",
              "    </tr>\n",
              "    <tr>\n",
              "      <th>Italian</th>\n",
              "      <td>1</td>\n",
              "    </tr>\n",
              "    <tr>\n",
              "      <th>Korean</th>\n",
              "      <td>1</td>\n",
              "    </tr>\n",
              "    <tr>\n",
              "      <th>Other</th>\n",
              "      <td>2</td>\n",
              "    </tr>\n",
              "    <tr>\n",
              "      <th>Polish</th>\n",
              "      <td>1</td>\n",
              "    </tr>\n",
              "    <tr>\n",
              "      <th>Portuguese</th>\n",
              "      <td>1</td>\n",
              "    </tr>\n",
              "    <tr>\n",
              "      <th>Russian</th>\n",
              "      <td>1</td>\n",
              "    </tr>\n",
              "    <tr>\n",
              "      <th>Russian</th>\n",
              "      <td>1</td>\n",
              "    </tr>\n",
              "    <tr>\n",
              "      <th>Spanish</th>\n",
              "      <td>7</td>\n",
              "    </tr>\n",
              "    <tr>\n",
              "      <th>Turkish</th>\n",
              "      <td>1</td>\n",
              "    </tr>\n",
              "    <tr>\n",
              "      <th>both</th>\n",
              "      <td>1</td>\n",
              "    </tr>\n",
              "    <tr>\n",
              "      <th>both equally</th>\n",
              "      <td>1</td>\n",
              "    </tr>\n",
              "    <tr>\n",
              "      <th>english</th>\n",
              "      <td>3</td>\n",
              "    </tr>\n",
              "    <tr>\n",
              "      <th>v</th>\n",
              "      <td>1</td>\n",
              "    </tr>\n",
              "  </tbody>\n",
              "</table>\n",
              "</div><br><label><b>dtype:</b> int64</label>"
            ]
          },
          "metadata": {},
          "execution_count": 34
        }
      ]
    },
    {
      "cell_type": "code",
      "source": [
        "# PreINT, past head injuries\n",
        "data['PreInt_TxHx,head_injuries'] = data['PreInt_TxHx,head_injuries'].fillna('.')\n",
        "print('Head injuries: ', data[data['PreInt_TxHx,head_injuries'] == '1'].shape[0])"
      ],
      "metadata": {
        "id": "O2RJ5Q09jNJF",
        "outputId": "8edf2bce-ad5c-4ab1-ed39-3aa520bb96d3",
        "colab": {
          "base_uri": "https://localhost:8080/"
        }
      },
      "execution_count": 35,
      "outputs": [
        {
          "output_type": "stream",
          "name": "stdout",
          "text": [
            "Head injuries:  629\n"
          ]
        }
      ]
    },
    {
      "cell_type": "code",
      "source": [
        "# PreInt psych meds curr\n",
        "data['PreInt_TxHx,psych_meds_cur'] = data['PreInt_TxHx,psych_meds_cur'].fillna('.')\n",
        "print('Psych meds: ', data[data['PreInt_TxHx,psych_meds_cur'] == '1'].shape[0])"
      ],
      "metadata": {
        "id": "8epbBLxvjnCd",
        "outputId": "854e6594-f1e5-4b10-be86-a3b0c879af41",
        "colab": {
          "base_uri": "https://localhost:8080/"
        }
      },
      "execution_count": 36,
      "outputs": [
        {
          "output_type": "stream",
          "name": "stdout",
          "text": [
            "Psych meds:  794\n"
          ]
        }
      ]
    },
    {
      "cell_type": "code",
      "source": [
        "# RAN-RAS\n",
        "# numbers:\n",
        "# letters:\n",
        "data['RANRAS,RR_Let_Stnd'] = data['RANRAS,RR_Let_Stnd'].fillna('.') # letters\n",
        "data['RANRAS,RR_Num_Stnd'] = data['RANRAS,RR_Num_Stnd'].fillna('.') # numbers\n",
        "data['RANRAS,RR_Let_Raw'] = data['RANRAS,RR_Let_Raw'].fillna('.')\n",
        "data['RANRAS,RR_Num_Raw'] = data['RANRAS,RR_Num_Raw'].fillna('.')\n",
        "\n",
        "print('RAN letters (stnd.): ', data[data['RANRAS,RR_Let_Stnd'] != '.'].shape[0], 'out of ', data.shape[0])\n",
        "print('RAN letters (raw): ', data[data['RANRAS,RR_Let_Raw'] != '.'].shape[0], 'out of ', data.shape[0])\n",
        "print('RAN numbers (stnd.): ', data[data['RANRAS,RR_Num_Stnd'] != '.'].shape[0], 'out of ', data.shape[0])\n",
        "print('RAN numbers (raw): ', data[data['RANRAS,RR_Num_Raw'] != '.'].shape[0], 'out of ', data.shape[0])"
      ],
      "metadata": {
        "id": "99JYvFw3iKBl",
        "colab": {
          "base_uri": "https://localhost:8080/"
        },
        "outputId": "cc6a0f39-8c78-4843-835e-605ed3a16a19"
      },
      "execution_count": 37,
      "outputs": [
        {
          "output_type": "stream",
          "name": "stdout",
          "text": [
            "RAN letters (stnd.):  235 out of  4867\n",
            "RAN letters (raw):  235 out of  4867\n",
            "RAN numbers (stnd.):  51 out of  4867\n",
            "RAN numbers (raw):  51 out of  4867\n"
          ]
        }
      ]
    },
    {
      "cell_type": "code",
      "source": [
        "# IQ tests\n",
        "def IQ_tests(df):\n",
        "  kbit_columns = ['IQ_Comp', 'Incomplete_Reason', 'Invalid_Reason', 'Valid', 'Complete',\n",
        "             'NV_Standard', 'V_Standard']\n",
        "  wasi_columns = ['Complete', 'Valid', 'incomplete_reason', 'Invalid_Reason',\n",
        "                  'FSIQ', 'PRI_Comp', 'VCI_Comp']\n",
        "  wais_columns = ['Complete', 'Valid', 'Incomplete_Reason', 'Invalid_Reason',\n",
        "                  'FSIQ_COMP', 'PRI_COMP', 'VCI_COMP']\n",
        "  wisc_columns = ['complete', 'incomplete_reason', 'VCI', 'PSI', 'FSIQ']\n",
        "  wisc_remote_columns = ['complete', 'incomplete_reason', 'VCI', 'NSI', 'NMFSIQ'] # NSI instead of PSI, no processing speed in this one, only naming speed\n",
        "  wiat_columns = ['Complete', 'Valid', 'Incomplete_reason', 'Invalid_Reason',\n",
        "                  'Pseudo_Stnd', 'Word_Stnd', 'RC_Stnd'] # decide on the subtests and whether standard\n",
        "\n",
        "  columns = [kbit_columns, wasi_columns, wais_columns, wisc_columns, wisc_remote_columns, wiat_columns]\n",
        "  col_names = ['KBIT,KBIT_', 'WASI,WASI_', 'WAIS,WAIS_', 'WISC,WISC_', 'WISC_Remote,WISC_', 'WIAT,WIAT_']\n",
        "  for col_list in columns:\n",
        "    ind_name = columns.index(col_list)\n",
        "    for name in col_list:\n",
        "      col_name = col_names[ind_name] + name\n",
        "      df[col_name] = df[col_name].fillna('.')\n",
        "\n",
        "  all_iq_tests = []\n",
        "  iq_tests = []\n",
        "  iq_score = []\n",
        "  nv_iq = []\n",
        "  v_iq = []\n",
        "  status = []\n",
        "  total_reading = []\n",
        "  total_reading_status = []\n",
        "  for i in range(0, data.shape[0]):\n",
        "    subset = df.iloc[i] # a particular raw will all the values\n",
        "    age = subset['Basic_Demos,Age']\n",
        "    inter_iq_test = []\n",
        "    inter_iq_score = []\n",
        "    inter_iq_status = []\n",
        "    inter_nv = []\n",
        "    inter_v = []\n",
        "\n",
        "    # KBIT\n",
        "    kbit_score = subset['KBIT,KBIT_IQ_Comp']\n",
        "    kbit_complete = subset['KBIT,KBIT_Complete']\n",
        "    kbit_valid = subset['KBIT,KBIT_Valid']\n",
        "    kbit_nv = subset['KBIT,KBIT_NV_Standard']\n",
        "    kbit_v = subset['KBIT,KBIT_V_Standard']\n",
        "    if kbit_score != '.': # only if we have a calculated composite score\n",
        "      inter_iq_test.append('KBIT')\n",
        "      inter_iq_score.append(int(kbit_score))\n",
        "      inter_nv.append(int(kbit_nv)) # need to check whether there are cases where we have composite score, but do not have separate v erbal and non verbal scores\n",
        "      inter_v.append(int(kbit_v))\n",
        "      if kbit_complete == '1' and kbit_valid == '1':\n",
        "        inter_iq_status.append('Complete and Valid')\n",
        "      elif kbit_complete == '1' and kbit_valid == '0':\n",
        "        inter_iq_status.append('Complete and Not valid')\n",
        "      elif kbit_complete == '0' and kbit_valid == '0':\n",
        "        inter_iq_status.append('Not complete and Not valid')\n",
        "      else:\n",
        "         inter_iq_status.append('N/A')\n",
        "\n",
        "    # WASI\n",
        "    wasi_score = subset['WASI,WASI_FSIQ']\n",
        "    wasi_complete = subset['WASI,WASI_Complete']\n",
        "    wasi_valid = subset['WASI,WASI_Valid']\n",
        "    wasi_nv = subset['WASI,WASI_PRI_Comp']\n",
        "    wasi_v = subset['WASI,WASI_VCI_Comp']\n",
        "    if wasi_score != '.': # only if we have a calculated composite score\n",
        "      inter_iq_test.append('WASI')\n",
        "      inter_iq_score.append(int(wasi_score))\n",
        "      inter_nv.append(int(wasi_nv)) # need to check whether there are cases where we have composite score, but do not have separate v erbal and non verbal scores\n",
        "      inter_v.append(int(wasi_v))\n",
        "      if wasi_complete == '1' and wasi_valid == '1':\n",
        "        inter_iq_status.append('Complete and Valid')\n",
        "      elif wasi_complete == '1' and wasi_valid == '0':\n",
        "        inter_iq_status.append('Complete and Not valid')\n",
        "      elif wasi_complete == '0' and wasi_valid == '0':\n",
        "        inter_iq_status.append('Not complete and Not valid')\n",
        "      else:\n",
        "         inter_iq_status.append('N/A')\n",
        "\n",
        "    # WAIS\n",
        "    wais_score = subset['WAIS,WAIS_FSIQ_COMP']\n",
        "    wais_complete = subset['WAIS,WAIS_Complete']\n",
        "    wais_valid = subset['WAIS,WAIS_Valid']\n",
        "    wais_nv = subset['WAIS,WAIS_PRI_COMP']\n",
        "    wais_v = subset['WAIS,WAIS_VCI_COMP']\n",
        "    if wais_score != '.': # only if we have a calculated composite score\n",
        "      inter_iq_test.append('WAIS')\n",
        "      inter_iq_score.append(int(wais_score))\n",
        "      inter_nv.append(int(wais_nv)) # need to check whether there are cases where we have composite score, but do not have separate v erbal and non verbal scores\n",
        "      inter_v.append(int(wais_v))\n",
        "      if wais_complete == '1' and wais_valid == '1':\n",
        "        inter_iq_status.append('Complete and Valid')\n",
        "      elif wais_complete == '1' and wais_valid == '0':\n",
        "        inter_iq_status.append('Complete and Not valid')\n",
        "      elif wais_complete == '0' and wais_valid == '0':\n",
        "        inter_iq_status.append('Not complete and Not valid')\n",
        "      else:\n",
        "         inter_iq_status.append('N/A')\n",
        "\n",
        "    # WISC\n",
        "    wisc_score = subset['WISC,WISC_FSIQ']\n",
        "    wisc_complete = subset['WISC,WISC_complete']\n",
        "    wisc_nv = subset['WISC,WISC_PSI']\n",
        "    wisc_v = subset['WISC,WISC_VCI']\n",
        "    if wisc_score != '.': # only if we have a calculated composite score\n",
        "      inter_iq_test.append('WISC')\n",
        "      inter_iq_score.append(int(wisc_score))\n",
        "      if wisc_nv != '.':\n",
        "        inter_nv.append(int(wisc_nv)) # need to check whether there are cases where we have composite score, but do not have separate v erbal and non verbal scores\n",
        "      else:\n",
        "        inter_nv.append('N/A')\n",
        "      if wisc_v != '.':\n",
        "        inter_v.append(int(wisc_v))\n",
        "      else:\n",
        "        inter_v.append('N/A')\n",
        "      if wisc_complete == '0':\n",
        "        inter_iq_status.append('Not complete')\n",
        "      elif wisc_complete == '1':\n",
        "        inter_iq_status.append('Complete')\n",
        "      else:\n",
        "         inter_iq_status.append('N/A')\n",
        "\n",
        "\n",
        "    # WISC_Remote\n",
        "    wisc_remote_score = subset['WISC_Remote,WISC_NMFSIQ']\n",
        "    wisc_remote_complete = subset['WISC_Remote,WISC_complete']\n",
        "    wisc_remote_nv = subset['WISC_Remote,WISC_NSI']\n",
        "    wisc_remote_v = subset['WISC_Remote,WISC_VCI']\n",
        "    if wisc_remote_score != '.': # only if we have a calculated composite score\n",
        "      inter_iq_test.append('WISC')\n",
        "      inter_iq_score.append(int(wisc_remote_score))\n",
        "      if wisc_remote_nv != '.':\n",
        "        inter_nv.append(int(wisc_remote_nv)) # need to check whether there are cases where we have composite score, but do not have separate v erbal and non verbal scores\n",
        "      else:\n",
        "        inter_nv.append('N/A')\n",
        "      if wisc_remote_v != '.':\n",
        "        inter_v.append(int(wisc_remote_v))\n",
        "      else:\n",
        "        inter_v.append('N/A')\n",
        "      if wisc_remote_complete == '0':\n",
        "        inter_iq_status.append('Not complete')\n",
        "      elif wisc_remote_complete == '1':\n",
        "        inter_iq_status.append('Complete')\n",
        "      else:\n",
        "         inter_iq_status.append('N/A')\n",
        "\n",
        "    # outcome iq for each subject\n",
        "    if len(inter_iq_score) == 1:\n",
        "      all_iq_tests.append(inter_iq_test[0])\n",
        "      iq_tests.append(inter_iq_test[0])\n",
        "      iq_score.append(inter_iq_score[0])\n",
        "      status.append(inter_iq_status[0])\n",
        "      nv_iq.append(inter_nv[0])\n",
        "      v_iq.append(inter_v[0])\n",
        "    else:\n",
        "      if 'KBIT' and 'WISC' in inter_iq_test:\n",
        "        if age < 6:\n",
        "          all_iq_tests.append('KBIT, WISC')\n",
        "          ind = inter_iq_test.index('KBIT')\n",
        "          iq_tests.append(inter_iq_test[ind])\n",
        "          iq_score.append(inter_iq_score[ind])\n",
        "          status.append(inter_iq_status[ind])\n",
        "          nv_iq.append(inter_nv[ind])\n",
        "          v_iq.append(inter_v[ind])\n",
        "        else:\n",
        "          ind = inter_iq_test.index('WISC')\n",
        "          all_iq_tests.append('KBIT, WISC')\n",
        "          iq_tests.append(inter_iq_test[ind])\n",
        "          iq_score.append(inter_iq_score[ind])\n",
        "          status.append(inter_iq_status[ind])\n",
        "          nv_iq.append(inter_nv[ind])\n",
        "          v_iq.append(inter_v[ind])\n",
        "      elif 'KBIT' and 'WASI' in inter_iq_test:\n",
        "        if age < 6:\n",
        "          all_iq_tests.append('KBIT, WASI')\n",
        "          ind = inter_iq_test.index('KBIT')\n",
        "          iq_tests.append(inter_iq_test[ind])\n",
        "          iq_score.append(inter_iq_score[ind])\n",
        "          status.append(inter_iq_status[ind])\n",
        "          nv_iq.append(inter_nv[ind])\n",
        "          v_iq.append(inter_v[ind])\n",
        "        else:\n",
        "          all_iq_tests.append('KBIT, WASI')\n",
        "          ind = inter_iq_test.index('WASI')\n",
        "          iq_tests.append(inter_iq_test[ind])\n",
        "          iq_score.append(inter_iq_score[ind])\n",
        "          status.append(inter_iq_status[ind])\n",
        "          nv_iq.append(inter_nv[ind])\n",
        "          v_iq.append(inter_v[ind])\n",
        "      elif len(inter_iq_test) == 0:\n",
        "        all_iq_tests.append('No IQ')\n",
        "        iq_tests.append('No IQ')\n",
        "        iq_score.append('No IQ')\n",
        "        nv_iq.append('No IQ')\n",
        "        v_iq.append('No IQ')\n",
        "        status.append('No IQ')\n",
        "\n",
        "      else: # in case there are results on different tests - what do we do now\n",
        "        print('Subject ', subset['Identifiers'], 'Tests done: ', inter_iq_test)\n",
        "        print('Subject ', i, 'Score for the tests: ', inter_iq_score)\n",
        "        print('Subject ', i, 'Status of the test results: ', inter_iq_status)\n",
        "        print('Subject ', i, 'Nonverbal scores: ', inter_nv)\n",
        "        print('Subject ', i, 'Verbal scores: ', inter_v)\n",
        "        break\n",
        "\n",
        "      # WIAT\n",
        "      # Total Reading score calculation\n",
        "    wiat_pseudo = subset['WIAT,WIAT_Pseudo_Stnd']\n",
        "    wiat_word = subset['WIAT,WIAT_Word_Stnd']\n",
        "    wiat_rc = subset['WIAT,WIAT_RC_Stnd']\n",
        "    wiat_complete = subset['WIAT,WIAT_Complete']\n",
        "    wiat_valid = subset['WIAT,WIAT_Valid']\n",
        "    if wiat_pseudo != '.' and wiat_word != '.' and wiat_rc != '.':\n",
        "        score = (int(wiat_pseudo) + int(wiat_word) + int(wiat_rc)) / 3\n",
        "        total_reading.append(score)\n",
        "    else:\n",
        "      elements = [('pseudo', wiat_pseudo), ('word', wiat_word), ('rc', wiat_rc)]\n",
        "      existing_elements = ', '.join(name for name, value in elements if value != '.')\n",
        "      total_reading.append(existing_elements)\n",
        "    if wiat_complete == '1' and wiat_valid == '1':\n",
        "          total_reading_status.append('Complete and Valid')\n",
        "    elif wiat_complete == '1' and wiat_valid == '3':\n",
        "          total_reading_status.append('Complete and Valid')\n",
        "    elif wiat_complete == '1' and wiat_valid == '0':\n",
        "          total_reading_status.append('Complete and Not valid')\n",
        "    elif wiat_complete == '0' and wiat_valid == '1':\n",
        "          total_reading_status.append('Not complete and Valid')\n",
        "    elif wiat_complete == '0' and wiat_valid == '0':\n",
        "          total_reading_status.append('Not complete and Not valid')\n",
        "    else:\n",
        "          total_reading_status.append('N/A')\n",
        "\n",
        "\n",
        "  return all_iq_tests, iq_tests, iq_score, nv_iq, v_iq, status, total_reading, total_reading_status"
      ],
      "metadata": {
        "id": "BngkfgIABVpx"
      },
      "execution_count": 38,
      "outputs": []
    },
    {
      "cell_type": "code",
      "source": [
        "all_iq_tests, iq_tests, iq_score, nv_iq, v_iq, status, total_reading, total_reading_status = IQ_tests(data)\n",
        "data['All_IQ_done'] = all_iq_tests\n",
        "data['IQ_test'] = iq_tests\n",
        "data['IQ'] = iq_score\n",
        "data['nvIQ'] = nv_iq\n",
        "data['vIQ'] = v_iq\n",
        "data['IQ_status'] = status\n",
        "data['Total_Reading'] = total_reading\n",
        "data['Total_Reading_Status'] = total_reading_status"
      ],
      "metadata": {
        "id": "CwRpnU51__ft",
        "outputId": "9a8b82d0-8fbf-4a33-a890-4748c4bb75d8",
        "colab": {
          "base_uri": "https://localhost:8080/"
        }
      },
      "execution_count": 39,
      "outputs": [
        {
          "output_type": "stream",
          "name": "stderr",
          "text": [
            "<ipython-input-39-845386b4e373>:2: PerformanceWarning: DataFrame is highly fragmented.  This is usually the result of calling `frame.insert` many times, which has poor performance.  Consider joining all columns at once using pd.concat(axis=1) instead. To get a de-fragmented frame, use `newframe = frame.copy()`\n",
            "  data['All_IQ_done'] = all_iq_tests\n",
            "<ipython-input-39-845386b4e373>:3: PerformanceWarning: DataFrame is highly fragmented.  This is usually the result of calling `frame.insert` many times, which has poor performance.  Consider joining all columns at once using pd.concat(axis=1) instead. To get a de-fragmented frame, use `newframe = frame.copy()`\n",
            "  data['IQ_test'] = iq_tests\n",
            "<ipython-input-39-845386b4e373>:4: PerformanceWarning: DataFrame is highly fragmented.  This is usually the result of calling `frame.insert` many times, which has poor performance.  Consider joining all columns at once using pd.concat(axis=1) instead. To get a de-fragmented frame, use `newframe = frame.copy()`\n",
            "  data['IQ'] = iq_score\n",
            "<ipython-input-39-845386b4e373>:5: PerformanceWarning: DataFrame is highly fragmented.  This is usually the result of calling `frame.insert` many times, which has poor performance.  Consider joining all columns at once using pd.concat(axis=1) instead. To get a de-fragmented frame, use `newframe = frame.copy()`\n",
            "  data['nvIQ'] = nv_iq\n",
            "<ipython-input-39-845386b4e373>:6: PerformanceWarning: DataFrame is highly fragmented.  This is usually the result of calling `frame.insert` many times, which has poor performance.  Consider joining all columns at once using pd.concat(axis=1) instead. To get a de-fragmented frame, use `newframe = frame.copy()`\n",
            "  data['vIQ'] = v_iq\n",
            "<ipython-input-39-845386b4e373>:7: PerformanceWarning: DataFrame is highly fragmented.  This is usually the result of calling `frame.insert` many times, which has poor performance.  Consider joining all columns at once using pd.concat(axis=1) instead. To get a de-fragmented frame, use `newframe = frame.copy()`\n",
            "  data['IQ_status'] = status\n",
            "<ipython-input-39-845386b4e373>:8: PerformanceWarning: DataFrame is highly fragmented.  This is usually the result of calling `frame.insert` many times, which has poor performance.  Consider joining all columns at once using pd.concat(axis=1) instead. To get a de-fragmented frame, use `newframe = frame.copy()`\n",
            "  data['Total_Reading'] = total_reading\n",
            "<ipython-input-39-845386b4e373>:9: PerformanceWarning: DataFrame is highly fragmented.  This is usually the result of calling `frame.insert` many times, which has poor performance.  Consider joining all columns at once using pd.concat(axis=1) instead. To get a de-fragmented frame, use `newframe = frame.copy()`\n",
            "  data['Total_Reading_Status'] = total_reading_status\n"
          ]
        }
      ]
    },
    {
      "cell_type": "markdown",
      "source": [
        "## Exclusion"
      ],
      "metadata": {
        "id": "SKLY8kv0GHLO"
      }
    },
    {
      "cell_type": "code",
      "source": [
        "data_filtered = data.copy() # full"
      ],
      "metadata": {
        "id": "BDavNtBpXy1W"
      },
      "execution_count": 105,
      "outputs": []
    },
    {
      "cell_type": "code",
      "source": [
        "check_writtentwice"
      ],
      "metadata": {
        "id": "eABykU7quJwP",
        "outputId": "e0515e2c-d5dc-4b10-c501-c71effd5b767",
        "colab": {
          "base_uri": "https://localhost:8080/"
        }
      },
      "execution_count": 274,
      "outputs": [
        {
          "output_type": "execute_result",
          "data": {
            "text/plain": [
              "array([['NDARGZ357FBX']], dtype=object)"
            ]
          },
          "metadata": {},
          "execution_count": 274
        }
      ]
    },
    {
      "cell_type": "code",
      "source": [
        "data_filtered[data_filtered['Identifiers'] == 'NDARGZ357FBX'][['Diagnosis']].values !!!!"
      ],
      "metadata": {
        "id": "LuBPHRoQ8g95",
        "outputId": "a4151465-a26b-4dd9-cc02-1f1b1e897eb5",
        "colab": {
          "base_uri": "https://localhost:8080/"
        }
      },
      "execution_count": 279,
      "outputs": [
        {
          "output_type": "execute_result",
          "data": {
            "text/plain": [
              "array([['Specific Learning Disorder with Impairment in Mathematics; Specific Learning Disorder with Impairment in Written Expression; Specific Learning Disorder with Impairment in Written Expression; Major Depressive Disorder; Persistent Depressive Disorder (Dysthymia); ADHD-Combined Type; Generalized Anxiety Disorder; ']],\n",
              "      dtype=object)"
            ]
          },
          "metadata": {},
          "execution_count": 279
        }
      ]
    },
    {
      "cell_type": "code",
      "source": [
        "check27"
      ],
      "metadata": {
        "id": "9oaRHAxouKJw",
        "outputId": "3efb8374-dbef-44d6-e1f2-0bd7aec84bd7",
        "colab": {
          "base_uri": "https://localhost:8080/"
        }
      },
      "execution_count": 273,
      "outputs": [
        {
          "output_type": "execute_result",
          "data": {
            "text/plain": [
              "array([['NDARLA048NYE']], dtype=object)"
            ]
          },
          "metadata": {},
          "execution_count": 273
        }
      ]
    },
    {
      "cell_type": "code",
      "source": [
        "# only right-handed\n",
        "# in the original test, people are considered to be right-handed when the score >= 40\n",
        "# in the materials to the dataset, people above 48 >= considered right-handed\n",
        "subset = data_filtered[(data_filtered['EHQ,EHQ_Total'] != '.') & (data_filtered['Group'].isin(['Control', 'DD', 'DD with comorbidities']))]\n",
        "print('Missing values for handedness who didnot dropped out, and control or DD: ',\n",
        "      data_filtered[(data_filtered['EHQ,EHQ_Total'] == '.') & (data_filtered['Basic_Demos,Participant_Status'] == 'Complete') &\n",
        "      (data_filtered['Group'].isin(['Control', 'DD', 'DD with comorbidities']))].shape[0])\n",
        "print('People with EHQ score above 40: ',\n",
        "    subset[subset['EHQ,EHQ_Total'] >= 40].shape[0])\n",
        "print('People with EHQ score above 48: ',\n",
        "    subset[subset['EHQ,EHQ_Total'] >= 48].shape[0])\n",
        "\n",
        "# So the difference is in 72 people. Let's stick to 40 for now:\n",
        "data_filtered = data_filtered[data_filtered['EHQ,EHQ_Total'] != '.'] # Losing 19 people from our sample here\n",
        "data_filtered = data_filtered[data_filtered['EHQ,EHQ_Total'] >= 40]"
      ],
      "metadata": {
        "colab": {
          "base_uri": "https://localhost:8080/"
        },
        "id": "4enadjWmla4z",
        "outputId": "1ffa246a-2a0d-4a8f-fe8f-3d2f66c15044"
      },
      "execution_count": 106,
      "outputs": [
        {
          "output_type": "stream",
          "name": "stdout",
          "text": [
            "Missing values for handedness who didnot dropped out, and control or DD:  19\n",
            "People with EHQ score above 40:  1117\n",
            "People with EHQ score above 48:  1045\n"
          ]
        }
      ]
    },
    {
      "cell_type": "code",
      "source": [
        "# Age, not older than 18 years old\n",
        "data_filtered = data_filtered[data_filtered['Basic_Demos,Age'] <= 18]"
      ],
      "metadata": {
        "id": "8scSlXqJFsfH"
      },
      "execution_count": 107,
      "outputs": []
    },
    {
      "cell_type": "code",
      "source": [
        "# Choosing the ones with Dyslexia and comorbidities\n",
        "data_filtered.groupby(['Group'])[['Identifiers']].count()"
      ],
      "metadata": {
        "id": "jQgOhENiA79n",
        "outputId": "7295bc70-c406-4cf1-b8bb-0db09b656867",
        "colab": {
          "base_uri": "https://localhost:8080/",
          "height": 268
        }
      },
      "execution_count": 108,
      "outputs": [
        {
          "output_type": "execute_result",
          "data": {
            "text/plain": [
              "                       Identifiers\n",
              "Group                             \n",
              "All dots                        72\n",
              "Control                        280\n",
              "DD                             157\n",
              "DD with comorbidities          660\n",
              "Dropout                        304\n",
              "Other diagnosis               2048"
            ],
            "text/html": [
              "\n",
              "  <div id=\"df-6451a75d-29ab-4186-92e6-98bd7affe67d\" class=\"colab-df-container\">\n",
              "    <div>\n",
              "<style scoped>\n",
              "    .dataframe tbody tr th:only-of-type {\n",
              "        vertical-align: middle;\n",
              "    }\n",
              "\n",
              "    .dataframe tbody tr th {\n",
              "        vertical-align: top;\n",
              "    }\n",
              "\n",
              "    .dataframe thead th {\n",
              "        text-align: right;\n",
              "    }\n",
              "</style>\n",
              "<table border=\"1\" class=\"dataframe\">\n",
              "  <thead>\n",
              "    <tr style=\"text-align: right;\">\n",
              "      <th></th>\n",
              "      <th>Identifiers</th>\n",
              "    </tr>\n",
              "    <tr>\n",
              "      <th>Group</th>\n",
              "      <th></th>\n",
              "    </tr>\n",
              "  </thead>\n",
              "  <tbody>\n",
              "    <tr>\n",
              "      <th>All dots</th>\n",
              "      <td>72</td>\n",
              "    </tr>\n",
              "    <tr>\n",
              "      <th>Control</th>\n",
              "      <td>280</td>\n",
              "    </tr>\n",
              "    <tr>\n",
              "      <th>DD</th>\n",
              "      <td>157</td>\n",
              "    </tr>\n",
              "    <tr>\n",
              "      <th>DD with comorbidities</th>\n",
              "      <td>660</td>\n",
              "    </tr>\n",
              "    <tr>\n",
              "      <th>Dropout</th>\n",
              "      <td>304</td>\n",
              "    </tr>\n",
              "    <tr>\n",
              "      <th>Other diagnosis</th>\n",
              "      <td>2048</td>\n",
              "    </tr>\n",
              "  </tbody>\n",
              "</table>\n",
              "</div>\n",
              "    <div class=\"colab-df-buttons\">\n",
              "\n",
              "  <div class=\"colab-df-container\">\n",
              "    <button class=\"colab-df-convert\" onclick=\"convertToInteractive('df-6451a75d-29ab-4186-92e6-98bd7affe67d')\"\n",
              "            title=\"Convert this dataframe to an interactive table.\"\n",
              "            style=\"display:none;\">\n",
              "\n",
              "  <svg xmlns=\"http://www.w3.org/2000/svg\" height=\"24px\" viewBox=\"0 -960 960 960\">\n",
              "    <path d=\"M120-120v-720h720v720H120Zm60-500h600v-160H180v160Zm220 220h160v-160H400v160Zm0 220h160v-160H400v160ZM180-400h160v-160H180v160Zm440 0h160v-160H620v160ZM180-180h160v-160H180v160Zm440 0h160v-160H620v160Z\"/>\n",
              "  </svg>\n",
              "    </button>\n",
              "\n",
              "  <style>\n",
              "    .colab-df-container {\n",
              "      display:flex;\n",
              "      gap: 12px;\n",
              "    }\n",
              "\n",
              "    .colab-df-convert {\n",
              "      background-color: #E8F0FE;\n",
              "      border: none;\n",
              "      border-radius: 50%;\n",
              "      cursor: pointer;\n",
              "      display: none;\n",
              "      fill: #1967D2;\n",
              "      height: 32px;\n",
              "      padding: 0 0 0 0;\n",
              "      width: 32px;\n",
              "    }\n",
              "\n",
              "    .colab-df-convert:hover {\n",
              "      background-color: #E2EBFA;\n",
              "      box-shadow: 0px 1px 2px rgba(60, 64, 67, 0.3), 0px 1px 3px 1px rgba(60, 64, 67, 0.15);\n",
              "      fill: #174EA6;\n",
              "    }\n",
              "\n",
              "    .colab-df-buttons div {\n",
              "      margin-bottom: 4px;\n",
              "    }\n",
              "\n",
              "    [theme=dark] .colab-df-convert {\n",
              "      background-color: #3B4455;\n",
              "      fill: #D2E3FC;\n",
              "    }\n",
              "\n",
              "    [theme=dark] .colab-df-convert:hover {\n",
              "      background-color: #434B5C;\n",
              "      box-shadow: 0px 1px 3px 1px rgba(0, 0, 0, 0.15);\n",
              "      filter: drop-shadow(0px 1px 2px rgba(0, 0, 0, 0.3));\n",
              "      fill: #FFFFFF;\n",
              "    }\n",
              "  </style>\n",
              "\n",
              "    <script>\n",
              "      const buttonEl =\n",
              "        document.querySelector('#df-6451a75d-29ab-4186-92e6-98bd7affe67d button.colab-df-convert');\n",
              "      buttonEl.style.display =\n",
              "        google.colab.kernel.accessAllowed ? 'block' : 'none';\n",
              "\n",
              "      async function convertToInteractive(key) {\n",
              "        const element = document.querySelector('#df-6451a75d-29ab-4186-92e6-98bd7affe67d');\n",
              "        const dataTable =\n",
              "          await google.colab.kernel.invokeFunction('convertToInteractive',\n",
              "                                                    [key], {});\n",
              "        if (!dataTable) return;\n",
              "\n",
              "        const docLinkHtml = 'Like what you see? Visit the ' +\n",
              "          '<a target=\"_blank\" href=https://colab.research.google.com/notebooks/data_table.ipynb>data table notebook</a>'\n",
              "          + ' to learn more about interactive tables.';\n",
              "        element.innerHTML = '';\n",
              "        dataTable['output_type'] = 'display_data';\n",
              "        await google.colab.output.renderOutput(dataTable, element);\n",
              "        const docLink = document.createElement('div');\n",
              "        docLink.innerHTML = docLinkHtml;\n",
              "        element.appendChild(docLink);\n",
              "      }\n",
              "    </script>\n",
              "  </div>\n",
              "\n",
              "\n",
              "<div id=\"df-f449c6e1-0dbc-4876-8636-37c0cfe641aa\">\n",
              "  <button class=\"colab-df-quickchart\" onclick=\"quickchart('df-f449c6e1-0dbc-4876-8636-37c0cfe641aa')\"\n",
              "            title=\"Suggest charts\"\n",
              "            style=\"display:none;\">\n",
              "\n",
              "<svg xmlns=\"http://www.w3.org/2000/svg\" height=\"24px\"viewBox=\"0 0 24 24\"\n",
              "     width=\"24px\">\n",
              "    <g>\n",
              "        <path d=\"M19 3H5c-1.1 0-2 .9-2 2v14c0 1.1.9 2 2 2h14c1.1 0 2-.9 2-2V5c0-1.1-.9-2-2-2zM9 17H7v-7h2v7zm4 0h-2V7h2v10zm4 0h-2v-4h2v4z\"/>\n",
              "    </g>\n",
              "</svg>\n",
              "  </button>\n",
              "\n",
              "<style>\n",
              "  .colab-df-quickchart {\n",
              "      --bg-color: #E8F0FE;\n",
              "      --fill-color: #1967D2;\n",
              "      --hover-bg-color: #E2EBFA;\n",
              "      --hover-fill-color: #174EA6;\n",
              "      --disabled-fill-color: #AAA;\n",
              "      --disabled-bg-color: #DDD;\n",
              "  }\n",
              "\n",
              "  [theme=dark] .colab-df-quickchart {\n",
              "      --bg-color: #3B4455;\n",
              "      --fill-color: #D2E3FC;\n",
              "      --hover-bg-color: #434B5C;\n",
              "      --hover-fill-color: #FFFFFF;\n",
              "      --disabled-bg-color: #3B4455;\n",
              "      --disabled-fill-color: #666;\n",
              "  }\n",
              "\n",
              "  .colab-df-quickchart {\n",
              "    background-color: var(--bg-color);\n",
              "    border: none;\n",
              "    border-radius: 50%;\n",
              "    cursor: pointer;\n",
              "    display: none;\n",
              "    fill: var(--fill-color);\n",
              "    height: 32px;\n",
              "    padding: 0;\n",
              "    width: 32px;\n",
              "  }\n",
              "\n",
              "  .colab-df-quickchart:hover {\n",
              "    background-color: var(--hover-bg-color);\n",
              "    box-shadow: 0 1px 2px rgba(60, 64, 67, 0.3), 0 1px 3px 1px rgba(60, 64, 67, 0.15);\n",
              "    fill: var(--button-hover-fill-color);\n",
              "  }\n",
              "\n",
              "  .colab-df-quickchart-complete:disabled,\n",
              "  .colab-df-quickchart-complete:disabled:hover {\n",
              "    background-color: var(--disabled-bg-color);\n",
              "    fill: var(--disabled-fill-color);\n",
              "    box-shadow: none;\n",
              "  }\n",
              "\n",
              "  .colab-df-spinner {\n",
              "    border: 2px solid var(--fill-color);\n",
              "    border-color: transparent;\n",
              "    border-bottom-color: var(--fill-color);\n",
              "    animation:\n",
              "      spin 1s steps(1) infinite;\n",
              "  }\n",
              "\n",
              "  @keyframes spin {\n",
              "    0% {\n",
              "      border-color: transparent;\n",
              "      border-bottom-color: var(--fill-color);\n",
              "      border-left-color: var(--fill-color);\n",
              "    }\n",
              "    20% {\n",
              "      border-color: transparent;\n",
              "      border-left-color: var(--fill-color);\n",
              "      border-top-color: var(--fill-color);\n",
              "    }\n",
              "    30% {\n",
              "      border-color: transparent;\n",
              "      border-left-color: var(--fill-color);\n",
              "      border-top-color: var(--fill-color);\n",
              "      border-right-color: var(--fill-color);\n",
              "    }\n",
              "    40% {\n",
              "      border-color: transparent;\n",
              "      border-right-color: var(--fill-color);\n",
              "      border-top-color: var(--fill-color);\n",
              "    }\n",
              "    60% {\n",
              "      border-color: transparent;\n",
              "      border-right-color: var(--fill-color);\n",
              "    }\n",
              "    80% {\n",
              "      border-color: transparent;\n",
              "      border-right-color: var(--fill-color);\n",
              "      border-bottom-color: var(--fill-color);\n",
              "    }\n",
              "    90% {\n",
              "      border-color: transparent;\n",
              "      border-bottom-color: var(--fill-color);\n",
              "    }\n",
              "  }\n",
              "</style>\n",
              "\n",
              "  <script>\n",
              "    async function quickchart(key) {\n",
              "      const quickchartButtonEl =\n",
              "        document.querySelector('#' + key + ' button');\n",
              "      quickchartButtonEl.disabled = true;  // To prevent multiple clicks.\n",
              "      quickchartButtonEl.classList.add('colab-df-spinner');\n",
              "      try {\n",
              "        const charts = await google.colab.kernel.invokeFunction(\n",
              "            'suggestCharts', [key], {});\n",
              "      } catch (error) {\n",
              "        console.error('Error during call to suggestCharts:', error);\n",
              "      }\n",
              "      quickchartButtonEl.classList.remove('colab-df-spinner');\n",
              "      quickchartButtonEl.classList.add('colab-df-quickchart-complete');\n",
              "    }\n",
              "    (() => {\n",
              "      let quickchartButtonEl =\n",
              "        document.querySelector('#df-f449c6e1-0dbc-4876-8636-37c0cfe641aa button');\n",
              "      quickchartButtonEl.style.display =\n",
              "        google.colab.kernel.accessAllowed ? 'block' : 'none';\n",
              "    })();\n",
              "  </script>\n",
              "</div>\n",
              "\n",
              "    </div>\n",
              "  </div>\n"
            ],
            "application/vnd.google.colaboratory.intrinsic+json": {
              "type": "dataframe",
              "summary": "{\n  \"name\": \"data_filtered\",\n  \"rows\": 6,\n  \"fields\": [\n    {\n      \"column\": \"Group\",\n      \"properties\": {\n        \"dtype\": \"string\",\n        \"num_unique_values\": 6,\n        \"samples\": [\n          \"All dots\",\n          \"Control\",\n          \"Other diagnosis\"\n        ],\n        \"semantic_type\": \"\",\n        \"description\": \"\"\n      }\n    },\n    {\n      \"column\": \"Identifiers\",\n      \"properties\": {\n        \"dtype\": \"number\",\n        \"std\": 743,\n        \"min\": 72,\n        \"max\": 2048,\n        \"num_unique_values\": 6,\n        \"samples\": [\n          72,\n          280,\n          2048\n        ],\n        \"semantic_type\": \"\",\n        \"description\": \"\"\n      }\n    }\n  ]\n}"
            }
          },
          "metadata": {},
          "execution_count": 108
        }
      ]
    },
    {
      "cell_type": "code",
      "source": [
        "# Choosing the ones with Dyslexia and comorbidities\n",
        "data_filtered = data_filtered[data_filtered['Group'].isin(['Control', 'DD', 'DD with comorbidities'])]\n",
        "print('Participants with dyslexia: ', data_filtered[data_filtered['Group'] == 'DD'].shape[0])\n",
        "print('Participants with dyslexia with comorbidities: ', data_filtered[data_filtered['Group'] == 'DD with comorbidities'].shape[0])\n",
        "print('Participants controls: ', data_filtered[data_filtered['Group'] == 'Control'].shape[0])"
      ],
      "metadata": {
        "id": "4BAGfT6HFNhe",
        "outputId": "b77034ff-7c61-43a4-87e9-5dd7c3971f5e",
        "colab": {
          "base_uri": "https://localhost:8080/"
        }
      },
      "execution_count": 119,
      "outputs": [
        {
          "output_type": "stream",
          "name": "stdout",
          "text": [
            "Participants with dyslexia:  127\n",
            "Participants with dyslexia with comorbidities:  395\n",
            "Participants controls:  265\n"
          ]
        }
      ]
    },
    {
      "cell_type": "code",
      "source": [
        "# Excluding people with intellectual disabilities and autism\n",
        "print(data_filtered[data_filtered['Intellectual_Disability'] == 1].shape[0])\n",
        "data_filtered = data_filtered[~data_filtered['Intellectual_Disability'].isin([1, 2])]"
      ],
      "metadata": {
        "id": "199IqIdMGOBM",
        "outputId": "bba643f6-4dd1-4e90-89fd-63e6c89341e7",
        "colab": {
          "base_uri": "https://localhost:8080/"
        }
      },
      "execution_count": 110,
      "outputs": [
        {
          "output_type": "stream",
          "name": "stdout",
          "text": [
            "76\n"
          ]
        }
      ]
    },
    {
      "cell_type": "code",
      "source": [
        "# DD types\n",
        "# we are excluding pure math and writing, and combination of these two\n",
        "print('DD Math type: ', data_filtered[data_filtered['DD'] == 'Math'].shape[0])\n",
        "print('DD Writing type: ', data_filtered[data_filtered['DD'] == 'Writing'].shape[0])\n",
        "print('DD Math+Writing type: ', data_filtered[data_filtered['DD'] == 'Math and Writing'].shape[0])\n",
        "\n",
        "data_filtered = data_filtered[data_filtered['DD'] != 'Math']\n",
        "data_filtered = data_filtered[data_filtered['DD'] != 'Writing']\n",
        "data_filtered = data_filtered[data_filtered['DD'] != 'Math and Writing']"
      ],
      "metadata": {
        "id": "1V7idvA4G4MZ",
        "outputId": "d60838c5-c9f5-4757-e5b9-8ddafc7b7e73",
        "colab": {
          "base_uri": "https://localhost:8080/"
        }
      },
      "execution_count": 111,
      "outputs": [
        {
          "output_type": "stream",
          "name": "stdout",
          "text": [
            "DD Math type:  107\n",
            "DD Writing type:  70\n",
            "DD Math+Writing type:  11\n"
          ]
        }
      ]
    },
    {
      "cell_type": "code",
      "source": [
        "'''data_filtered[data_filtered['DailyMeds,medications'] == 1][['DailyMeds,alc_01', 'DailyMeds,alc_02',\n",
        "       'DailyMeds,alcohol', 'DailyMeds,drugs', 'DailyMeds,drugs_01',\n",
        "       'DailyMeds,drugs_02', 'DailyMeds,med_dose_01', 'DailyMeds,med_dose_02',\n",
        "       'DailyMeds,med_dose_03', 'DailyMeds,med_name_01',\n",
        "       'DailyMeds,med_name_02', 'DailyMeds,med_name_03',\n",
        "       'DailyMeds,med_type_01', 'DailyMeds,med_type_02',\n",
        "       'DailyMeds,med_type_03']]'''"
      ],
      "metadata": {
        "id": "jAcIOJckVwf0",
        "outputId": "1826e58d-4ee4-434d-d9e0-6faa2eba5d5a",
        "colab": {
          "base_uri": "https://localhost:8080/",
          "height": 87
        }
      },
      "execution_count": 112,
      "outputs": [
        {
          "output_type": "execute_result",
          "data": {
            "text/plain": [
              "\"data_filtered[data_filtered['DailyMeds,medications'] == 1][['DailyMeds,alc_01', 'DailyMeds,alc_02',\\n       'DailyMeds,alcohol', 'DailyMeds,drugs', 'DailyMeds,drugs_01',\\n       'DailyMeds,drugs_02', 'DailyMeds,med_dose_01', 'DailyMeds,med_dose_02',\\n       'DailyMeds,med_dose_03', 'DailyMeds,med_name_01',\\n       'DailyMeds,med_name_02', 'DailyMeds,med_name_03',\\n       'DailyMeds,med_type_01', 'DailyMeds,med_type_02',\\n       'DailyMeds,med_type_03']]\""
            ],
            "application/vnd.google.colaboratory.intrinsic+json": {
              "type": "string"
            }
          },
          "metadata": {},
          "execution_count": 112
        }
      ]
    },
    {
      "cell_type": "code",
      "source": [
        "# Medications\n",
        "# vyvanse - stimulant for ADHD, propranolol - heart problems and anxiety\n",
        "# Zyrtec - antihistamine, QVAR - asthma drug, Flovent - asthma drug\n",
        "# Montelukast inflammation, asthma, Zantac - antihistamine, synthroid - thyroid drug\n",
        "# diphacalydramine - antihistamine and sedative, Claritin - antihistamine\n",
        "# Flonase - nasal spray, Folin - vitamin, for C deficiency, guanfacine - EXCUDE blood pressure\n",
        "# Robitussin - coughing drug, Sudafed - bronchite, Albuterol - bronchite\n",
        "# Singular - asthma drug, Lamictal - epileptic seizures, Benadryl - antihistamine\n",
        "# Albuteroc - bronchitis, depakote - migrane, epilepsy, bypolar, Motrin - antiinflamatory\n",
        "# Focalin - ADHD drug, Ketotifen  - asthma\n",
        "print('People taking medications: ', data_filtered[data_filtered['DailyMeds,medications'] == 1].shape[0])\n",
        "data_filtered[data_filtered['DailyMeds,medications'] == 1][['Identifiers', 'DailyMeds,med_name_01',\n",
        "       'DailyMeds,med_name_02', 'DailyMeds,med_name_03',\n",
        "       'DailyMeds,med_type_01', 'DailyMeds,med_type_02',\n",
        "       'DailyMeds,med_type_03']]"
      ],
      "metadata": {
        "id": "Gv8tB4PThNZX",
        "outputId": "5b6f90a2-85c4-45f1-d294-ccbdec269947",
        "colab": {
          "base_uri": "https://localhost:8080/",
          "height": 839
        }
      },
      "execution_count": 113,
      "outputs": [
        {
          "output_type": "stream",
          "name": "stdout",
          "text": [
            "People taking medications:  24\n"
          ]
        },
        {
          "output_type": "execute_result",
          "data": {
            "text/plain": [
              "       Identifiers DailyMeds,med_name_01 DailyMeds,med_name_02  \\\n",
              "1     NDARAA075AMK               Zyrteck                  QVAR   \n",
              "664   NDARDJ825GBP                Zyrtec                     .   \n",
              "882   NDAREM155HGQ               vyvanse           propranolol   \n",
              "1039  NDARFG114VB1               Vyvance                     .   \n",
              "1088  NDARFN452VPC               Flovent                Alegra   \n",
              "1152  NDARFW292PBD           Montelukast                     .   \n",
              "1498  NDARHN131ZP6                Zantac                     .   \n",
              "1674  NDARJG821GH3      diphacalydramine                     .   \n",
              "1780  NDARJW315BUA             synthroid                     .   \n",
              "1881  NDARKH837TB2              Claritin               Flonase   \n",
              "2114  NDARLN658KCD                 Folin                Folin    \n",
              "2347  NDARMT784NED              Claritin                     .   \n",
              "2645  NDARNZ615UEU            guanfacine            Robitussin   \n",
              "2670  NDARPC817XZ5               Sudafed                     .   \n",
              "2885  NDARRG415BJM              Singular                     .   \n",
              "3006  NDARRW940BL6               Flovent                     .   \n",
              "3132  NDARTH610GMK                Zyrtek             Ibuprofen   \n",
              "3170  NDARTN158LRF                Zyrtec                     .   \n",
              "3341  NDARUL224GN6              Lamictal                     .   \n",
              "3587  NDARVP281CJ4              Benadryl             Albuteroc   \n",
              "3631  NDARVX850JU5              depakote                     .   \n",
              "3940  NDARXK462WRZ               Flovent                     .   \n",
              "3984  NDARXR965TFK                Motrin                     .   \n",
              "4335  NDARZL724HAX               Focalin                     .   \n",
              "\n",
              "           DailyMeds,med_name_03 DailyMeds,med_type_01 DailyMeds,med_type_02  \\\n",
              "1                              .                   NaN                   NaN   \n",
              "664                            .                   NaN                   NaN   \n",
              "882                            .        ADHD-Stimulant  Non-Psychiatric Drug   \n",
              "1039                           .                     .                     .   \n",
              "1088                     Flovent  Non-Psychiatric Drug                     .   \n",
              "1152                           .                     .                     .   \n",
              "1498                           .                     .                     .   \n",
              "1674                           .  Non-Psychiatric Drug                   NaN   \n",
              "1780                           .  Non-Psychiatric Drug                     .   \n",
              "1881  Ketotifen Fuarate Eyedrops  Non-Psychiatric Drug                   NaN   \n",
              "2114                           .                   NaN                   NaN   \n",
              "2347                           .  Non-Psychiatric Drug                     .   \n",
              "2645     Multivitamin, probiotic    ADHD-Non Stimulant  Non-Psychiatric Drug   \n",
              "2670                           .  Non-Psychiatric Drug                   NaN   \n",
              "2885                           .                   NaN                   NaN   \n",
              "3006                           .  Non-Psychiatric Drug                     .   \n",
              "3132                           .                   NaN                   NaN   \n",
              "3170                           .  Non-Psychiatric Drug                   NaN   \n",
              "3341                           .    Anti anxiety Drugs                   NaN   \n",
              "3587                           .  Non-Psychiatric Drug                     .   \n",
              "3631                           .      Mood Stabilizers                     .   \n",
              "3940                           .                     .                     .   \n",
              "3984                           .  Non-Psychiatric Drug                     .   \n",
              "4335                           .        ADHD-Stimulant                   NaN   \n",
              "\n",
              "     DailyMeds,med_type_03  \n",
              "1                      NaN  \n",
              "664                    NaN  \n",
              "882                    NaN  \n",
              "1039                     .  \n",
              "1088                     .  \n",
              "1152                     .  \n",
              "1498                     .  \n",
              "1674                   NaN  \n",
              "1780                     .  \n",
              "1881                   NaN  \n",
              "2114                   NaN  \n",
              "2347                     .  \n",
              "2645  Non-Psychiatric Drug  \n",
              "2670                   NaN  \n",
              "2885                   NaN  \n",
              "3006                     .  \n",
              "3132                   NaN  \n",
              "3170                   NaN  \n",
              "3341                   NaN  \n",
              "3587                     .  \n",
              "3631                     .  \n",
              "3940                     .  \n",
              "3984                     .  \n",
              "4335                   NaN  "
            ],
            "text/html": [
              "\n",
              "  <div id=\"df-15fd9108-b8f8-4faf-89ff-7752cb96e4a1\" class=\"colab-df-container\">\n",
              "    <div>\n",
              "<style scoped>\n",
              "    .dataframe tbody tr th:only-of-type {\n",
              "        vertical-align: middle;\n",
              "    }\n",
              "\n",
              "    .dataframe tbody tr th {\n",
              "        vertical-align: top;\n",
              "    }\n",
              "\n",
              "    .dataframe thead th {\n",
              "        text-align: right;\n",
              "    }\n",
              "</style>\n",
              "<table border=\"1\" class=\"dataframe\">\n",
              "  <thead>\n",
              "    <tr style=\"text-align: right;\">\n",
              "      <th></th>\n",
              "      <th>Identifiers</th>\n",
              "      <th>DailyMeds,med_name_01</th>\n",
              "      <th>DailyMeds,med_name_02</th>\n",
              "      <th>DailyMeds,med_name_03</th>\n",
              "      <th>DailyMeds,med_type_01</th>\n",
              "      <th>DailyMeds,med_type_02</th>\n",
              "      <th>DailyMeds,med_type_03</th>\n",
              "    </tr>\n",
              "  </thead>\n",
              "  <tbody>\n",
              "    <tr>\n",
              "      <th>1</th>\n",
              "      <td>NDARAA075AMK</td>\n",
              "      <td>Zyrteck</td>\n",
              "      <td>QVAR</td>\n",
              "      <td>.</td>\n",
              "      <td>NaN</td>\n",
              "      <td>NaN</td>\n",
              "      <td>NaN</td>\n",
              "    </tr>\n",
              "    <tr>\n",
              "      <th>664</th>\n",
              "      <td>NDARDJ825GBP</td>\n",
              "      <td>Zyrtec</td>\n",
              "      <td>.</td>\n",
              "      <td>.</td>\n",
              "      <td>NaN</td>\n",
              "      <td>NaN</td>\n",
              "      <td>NaN</td>\n",
              "    </tr>\n",
              "    <tr>\n",
              "      <th>882</th>\n",
              "      <td>NDAREM155HGQ</td>\n",
              "      <td>vyvanse</td>\n",
              "      <td>propranolol</td>\n",
              "      <td>.</td>\n",
              "      <td>ADHD-Stimulant</td>\n",
              "      <td>Non-Psychiatric Drug</td>\n",
              "      <td>NaN</td>\n",
              "    </tr>\n",
              "    <tr>\n",
              "      <th>1039</th>\n",
              "      <td>NDARFG114VB1</td>\n",
              "      <td>Vyvance</td>\n",
              "      <td>.</td>\n",
              "      <td>.</td>\n",
              "      <td>.</td>\n",
              "      <td>.</td>\n",
              "      <td>.</td>\n",
              "    </tr>\n",
              "    <tr>\n",
              "      <th>1088</th>\n",
              "      <td>NDARFN452VPC</td>\n",
              "      <td>Flovent</td>\n",
              "      <td>Alegra</td>\n",
              "      <td>Flovent</td>\n",
              "      <td>Non-Psychiatric Drug</td>\n",
              "      <td>.</td>\n",
              "      <td>.</td>\n",
              "    </tr>\n",
              "    <tr>\n",
              "      <th>1152</th>\n",
              "      <td>NDARFW292PBD</td>\n",
              "      <td>Montelukast</td>\n",
              "      <td>.</td>\n",
              "      <td>.</td>\n",
              "      <td>.</td>\n",
              "      <td>.</td>\n",
              "      <td>.</td>\n",
              "    </tr>\n",
              "    <tr>\n",
              "      <th>1498</th>\n",
              "      <td>NDARHN131ZP6</td>\n",
              "      <td>Zantac</td>\n",
              "      <td>.</td>\n",
              "      <td>.</td>\n",
              "      <td>.</td>\n",
              "      <td>.</td>\n",
              "      <td>.</td>\n",
              "    </tr>\n",
              "    <tr>\n",
              "      <th>1674</th>\n",
              "      <td>NDARJG821GH3</td>\n",
              "      <td>diphacalydramine</td>\n",
              "      <td>.</td>\n",
              "      <td>.</td>\n",
              "      <td>Non-Psychiatric Drug</td>\n",
              "      <td>NaN</td>\n",
              "      <td>NaN</td>\n",
              "    </tr>\n",
              "    <tr>\n",
              "      <th>1780</th>\n",
              "      <td>NDARJW315BUA</td>\n",
              "      <td>synthroid</td>\n",
              "      <td>.</td>\n",
              "      <td>.</td>\n",
              "      <td>Non-Psychiatric Drug</td>\n",
              "      <td>.</td>\n",
              "      <td>.</td>\n",
              "    </tr>\n",
              "    <tr>\n",
              "      <th>1881</th>\n",
              "      <td>NDARKH837TB2</td>\n",
              "      <td>Claritin</td>\n",
              "      <td>Flonase</td>\n",
              "      <td>Ketotifen Fuarate Eyedrops</td>\n",
              "      <td>Non-Psychiatric Drug</td>\n",
              "      <td>NaN</td>\n",
              "      <td>NaN</td>\n",
              "    </tr>\n",
              "    <tr>\n",
              "      <th>2114</th>\n",
              "      <td>NDARLN658KCD</td>\n",
              "      <td>Folin</td>\n",
              "      <td>Folin</td>\n",
              "      <td>.</td>\n",
              "      <td>NaN</td>\n",
              "      <td>NaN</td>\n",
              "      <td>NaN</td>\n",
              "    </tr>\n",
              "    <tr>\n",
              "      <th>2347</th>\n",
              "      <td>NDARMT784NED</td>\n",
              "      <td>Claritin</td>\n",
              "      <td>.</td>\n",
              "      <td>.</td>\n",
              "      <td>Non-Psychiatric Drug</td>\n",
              "      <td>.</td>\n",
              "      <td>.</td>\n",
              "    </tr>\n",
              "    <tr>\n",
              "      <th>2645</th>\n",
              "      <td>NDARNZ615UEU</td>\n",
              "      <td>guanfacine</td>\n",
              "      <td>Robitussin</td>\n",
              "      <td>Multivitamin, probiotic</td>\n",
              "      <td>ADHD-Non Stimulant</td>\n",
              "      <td>Non-Psychiatric Drug</td>\n",
              "      <td>Non-Psychiatric Drug</td>\n",
              "    </tr>\n",
              "    <tr>\n",
              "      <th>2670</th>\n",
              "      <td>NDARPC817XZ5</td>\n",
              "      <td>Sudafed</td>\n",
              "      <td>.</td>\n",
              "      <td>.</td>\n",
              "      <td>Non-Psychiatric Drug</td>\n",
              "      <td>NaN</td>\n",
              "      <td>NaN</td>\n",
              "    </tr>\n",
              "    <tr>\n",
              "      <th>2885</th>\n",
              "      <td>NDARRG415BJM</td>\n",
              "      <td>Singular</td>\n",
              "      <td>.</td>\n",
              "      <td>.</td>\n",
              "      <td>NaN</td>\n",
              "      <td>NaN</td>\n",
              "      <td>NaN</td>\n",
              "    </tr>\n",
              "    <tr>\n",
              "      <th>3006</th>\n",
              "      <td>NDARRW940BL6</td>\n",
              "      <td>Flovent</td>\n",
              "      <td>.</td>\n",
              "      <td>.</td>\n",
              "      <td>Non-Psychiatric Drug</td>\n",
              "      <td>.</td>\n",
              "      <td>.</td>\n",
              "    </tr>\n",
              "    <tr>\n",
              "      <th>3132</th>\n",
              "      <td>NDARTH610GMK</td>\n",
              "      <td>Zyrtek</td>\n",
              "      <td>Ibuprofen</td>\n",
              "      <td>.</td>\n",
              "      <td>NaN</td>\n",
              "      <td>NaN</td>\n",
              "      <td>NaN</td>\n",
              "    </tr>\n",
              "    <tr>\n",
              "      <th>3170</th>\n",
              "      <td>NDARTN158LRF</td>\n",
              "      <td>Zyrtec</td>\n",
              "      <td>.</td>\n",
              "      <td>.</td>\n",
              "      <td>Non-Psychiatric Drug</td>\n",
              "      <td>NaN</td>\n",
              "      <td>NaN</td>\n",
              "    </tr>\n",
              "    <tr>\n",
              "      <th>3341</th>\n",
              "      <td>NDARUL224GN6</td>\n",
              "      <td>Lamictal</td>\n",
              "      <td>.</td>\n",
              "      <td>.</td>\n",
              "      <td>Anti anxiety Drugs</td>\n",
              "      <td>NaN</td>\n",
              "      <td>NaN</td>\n",
              "    </tr>\n",
              "    <tr>\n",
              "      <th>3587</th>\n",
              "      <td>NDARVP281CJ4</td>\n",
              "      <td>Benadryl</td>\n",
              "      <td>Albuteroc</td>\n",
              "      <td>.</td>\n",
              "      <td>Non-Psychiatric Drug</td>\n",
              "      <td>.</td>\n",
              "      <td>.</td>\n",
              "    </tr>\n",
              "    <tr>\n",
              "      <th>3631</th>\n",
              "      <td>NDARVX850JU5</td>\n",
              "      <td>depakote</td>\n",
              "      <td>.</td>\n",
              "      <td>.</td>\n",
              "      <td>Mood Stabilizers</td>\n",
              "      <td>.</td>\n",
              "      <td>.</td>\n",
              "    </tr>\n",
              "    <tr>\n",
              "      <th>3940</th>\n",
              "      <td>NDARXK462WRZ</td>\n",
              "      <td>Flovent</td>\n",
              "      <td>.</td>\n",
              "      <td>.</td>\n",
              "      <td>.</td>\n",
              "      <td>.</td>\n",
              "      <td>.</td>\n",
              "    </tr>\n",
              "    <tr>\n",
              "      <th>3984</th>\n",
              "      <td>NDARXR965TFK</td>\n",
              "      <td>Motrin</td>\n",
              "      <td>.</td>\n",
              "      <td>.</td>\n",
              "      <td>Non-Psychiatric Drug</td>\n",
              "      <td>.</td>\n",
              "      <td>.</td>\n",
              "    </tr>\n",
              "    <tr>\n",
              "      <th>4335</th>\n",
              "      <td>NDARZL724HAX</td>\n",
              "      <td>Focalin</td>\n",
              "      <td>.</td>\n",
              "      <td>.</td>\n",
              "      <td>ADHD-Stimulant</td>\n",
              "      <td>NaN</td>\n",
              "      <td>NaN</td>\n",
              "    </tr>\n",
              "  </tbody>\n",
              "</table>\n",
              "</div>\n",
              "    <div class=\"colab-df-buttons\">\n",
              "\n",
              "  <div class=\"colab-df-container\">\n",
              "    <button class=\"colab-df-convert\" onclick=\"convertToInteractive('df-15fd9108-b8f8-4faf-89ff-7752cb96e4a1')\"\n",
              "            title=\"Convert this dataframe to an interactive table.\"\n",
              "            style=\"display:none;\">\n",
              "\n",
              "  <svg xmlns=\"http://www.w3.org/2000/svg\" height=\"24px\" viewBox=\"0 -960 960 960\">\n",
              "    <path d=\"M120-120v-720h720v720H120Zm60-500h600v-160H180v160Zm220 220h160v-160H400v160Zm0 220h160v-160H400v160ZM180-400h160v-160H180v160Zm440 0h160v-160H620v160ZM180-180h160v-160H180v160Zm440 0h160v-160H620v160Z\"/>\n",
              "  </svg>\n",
              "    </button>\n",
              "\n",
              "  <style>\n",
              "    .colab-df-container {\n",
              "      display:flex;\n",
              "      gap: 12px;\n",
              "    }\n",
              "\n",
              "    .colab-df-convert {\n",
              "      background-color: #E8F0FE;\n",
              "      border: none;\n",
              "      border-radius: 50%;\n",
              "      cursor: pointer;\n",
              "      display: none;\n",
              "      fill: #1967D2;\n",
              "      height: 32px;\n",
              "      padding: 0 0 0 0;\n",
              "      width: 32px;\n",
              "    }\n",
              "\n",
              "    .colab-df-convert:hover {\n",
              "      background-color: #E2EBFA;\n",
              "      box-shadow: 0px 1px 2px rgba(60, 64, 67, 0.3), 0px 1px 3px 1px rgba(60, 64, 67, 0.15);\n",
              "      fill: #174EA6;\n",
              "    }\n",
              "\n",
              "    .colab-df-buttons div {\n",
              "      margin-bottom: 4px;\n",
              "    }\n",
              "\n",
              "    [theme=dark] .colab-df-convert {\n",
              "      background-color: #3B4455;\n",
              "      fill: #D2E3FC;\n",
              "    }\n",
              "\n",
              "    [theme=dark] .colab-df-convert:hover {\n",
              "      background-color: #434B5C;\n",
              "      box-shadow: 0px 1px 3px 1px rgba(0, 0, 0, 0.15);\n",
              "      filter: drop-shadow(0px 1px 2px rgba(0, 0, 0, 0.3));\n",
              "      fill: #FFFFFF;\n",
              "    }\n",
              "  </style>\n",
              "\n",
              "    <script>\n",
              "      const buttonEl =\n",
              "        document.querySelector('#df-15fd9108-b8f8-4faf-89ff-7752cb96e4a1 button.colab-df-convert');\n",
              "      buttonEl.style.display =\n",
              "        google.colab.kernel.accessAllowed ? 'block' : 'none';\n",
              "\n",
              "      async function convertToInteractive(key) {\n",
              "        const element = document.querySelector('#df-15fd9108-b8f8-4faf-89ff-7752cb96e4a1');\n",
              "        const dataTable =\n",
              "          await google.colab.kernel.invokeFunction('convertToInteractive',\n",
              "                                                    [key], {});\n",
              "        if (!dataTable) return;\n",
              "\n",
              "        const docLinkHtml = 'Like what you see? Visit the ' +\n",
              "          '<a target=\"_blank\" href=https://colab.research.google.com/notebooks/data_table.ipynb>data table notebook</a>'\n",
              "          + ' to learn more about interactive tables.';\n",
              "        element.innerHTML = '';\n",
              "        dataTable['output_type'] = 'display_data';\n",
              "        await google.colab.output.renderOutput(dataTable, element);\n",
              "        const docLink = document.createElement('div');\n",
              "        docLink.innerHTML = docLinkHtml;\n",
              "        element.appendChild(docLink);\n",
              "      }\n",
              "    </script>\n",
              "  </div>\n",
              "\n",
              "\n",
              "<div id=\"df-f8296d17-e2cf-4abd-9f98-1c636a8c847c\">\n",
              "  <button class=\"colab-df-quickchart\" onclick=\"quickchart('df-f8296d17-e2cf-4abd-9f98-1c636a8c847c')\"\n",
              "            title=\"Suggest charts\"\n",
              "            style=\"display:none;\">\n",
              "\n",
              "<svg xmlns=\"http://www.w3.org/2000/svg\" height=\"24px\"viewBox=\"0 0 24 24\"\n",
              "     width=\"24px\">\n",
              "    <g>\n",
              "        <path d=\"M19 3H5c-1.1 0-2 .9-2 2v14c0 1.1.9 2 2 2h14c1.1 0 2-.9 2-2V5c0-1.1-.9-2-2-2zM9 17H7v-7h2v7zm4 0h-2V7h2v10zm4 0h-2v-4h2v4z\"/>\n",
              "    </g>\n",
              "</svg>\n",
              "  </button>\n",
              "\n",
              "<style>\n",
              "  .colab-df-quickchart {\n",
              "      --bg-color: #E8F0FE;\n",
              "      --fill-color: #1967D2;\n",
              "      --hover-bg-color: #E2EBFA;\n",
              "      --hover-fill-color: #174EA6;\n",
              "      --disabled-fill-color: #AAA;\n",
              "      --disabled-bg-color: #DDD;\n",
              "  }\n",
              "\n",
              "  [theme=dark] .colab-df-quickchart {\n",
              "      --bg-color: #3B4455;\n",
              "      --fill-color: #D2E3FC;\n",
              "      --hover-bg-color: #434B5C;\n",
              "      --hover-fill-color: #FFFFFF;\n",
              "      --disabled-bg-color: #3B4455;\n",
              "      --disabled-fill-color: #666;\n",
              "  }\n",
              "\n",
              "  .colab-df-quickchart {\n",
              "    background-color: var(--bg-color);\n",
              "    border: none;\n",
              "    border-radius: 50%;\n",
              "    cursor: pointer;\n",
              "    display: none;\n",
              "    fill: var(--fill-color);\n",
              "    height: 32px;\n",
              "    padding: 0;\n",
              "    width: 32px;\n",
              "  }\n",
              "\n",
              "  .colab-df-quickchart:hover {\n",
              "    background-color: var(--hover-bg-color);\n",
              "    box-shadow: 0 1px 2px rgba(60, 64, 67, 0.3), 0 1px 3px 1px rgba(60, 64, 67, 0.15);\n",
              "    fill: var(--button-hover-fill-color);\n",
              "  }\n",
              "\n",
              "  .colab-df-quickchart-complete:disabled,\n",
              "  .colab-df-quickchart-complete:disabled:hover {\n",
              "    background-color: var(--disabled-bg-color);\n",
              "    fill: var(--disabled-fill-color);\n",
              "    box-shadow: none;\n",
              "  }\n",
              "\n",
              "  .colab-df-spinner {\n",
              "    border: 2px solid var(--fill-color);\n",
              "    border-color: transparent;\n",
              "    border-bottom-color: var(--fill-color);\n",
              "    animation:\n",
              "      spin 1s steps(1) infinite;\n",
              "  }\n",
              "\n",
              "  @keyframes spin {\n",
              "    0% {\n",
              "      border-color: transparent;\n",
              "      border-bottom-color: var(--fill-color);\n",
              "      border-left-color: var(--fill-color);\n",
              "    }\n",
              "    20% {\n",
              "      border-color: transparent;\n",
              "      border-left-color: var(--fill-color);\n",
              "      border-top-color: var(--fill-color);\n",
              "    }\n",
              "    30% {\n",
              "      border-color: transparent;\n",
              "      border-left-color: var(--fill-color);\n",
              "      border-top-color: var(--fill-color);\n",
              "      border-right-color: var(--fill-color);\n",
              "    }\n",
              "    40% {\n",
              "      border-color: transparent;\n",
              "      border-right-color: var(--fill-color);\n",
              "      border-top-color: var(--fill-color);\n",
              "    }\n",
              "    60% {\n",
              "      border-color: transparent;\n",
              "      border-right-color: var(--fill-color);\n",
              "    }\n",
              "    80% {\n",
              "      border-color: transparent;\n",
              "      border-right-color: var(--fill-color);\n",
              "      border-bottom-color: var(--fill-color);\n",
              "    }\n",
              "    90% {\n",
              "      border-color: transparent;\n",
              "      border-bottom-color: var(--fill-color);\n",
              "    }\n",
              "  }\n",
              "</style>\n",
              "\n",
              "  <script>\n",
              "    async function quickchart(key) {\n",
              "      const quickchartButtonEl =\n",
              "        document.querySelector('#' + key + ' button');\n",
              "      quickchartButtonEl.disabled = true;  // To prevent multiple clicks.\n",
              "      quickchartButtonEl.classList.add('colab-df-spinner');\n",
              "      try {\n",
              "        const charts = await google.colab.kernel.invokeFunction(\n",
              "            'suggestCharts', [key], {});\n",
              "      } catch (error) {\n",
              "        console.error('Error during call to suggestCharts:', error);\n",
              "      }\n",
              "      quickchartButtonEl.classList.remove('colab-df-spinner');\n",
              "      quickchartButtonEl.classList.add('colab-df-quickchart-complete');\n",
              "    }\n",
              "    (() => {\n",
              "      let quickchartButtonEl =\n",
              "        document.querySelector('#df-f8296d17-e2cf-4abd-9f98-1c636a8c847c button');\n",
              "      quickchartButtonEl.style.display =\n",
              "        google.colab.kernel.accessAllowed ? 'block' : 'none';\n",
              "    })();\n",
              "  </script>\n",
              "</div>\n",
              "\n",
              "    </div>\n",
              "  </div>\n"
            ],
            "application/vnd.google.colaboratory.intrinsic+json": {
              "type": "dataframe",
              "summary": "{\n  \"name\": \"       'DailyMeds,med_type_03']]\",\n  \"rows\": 24,\n  \"fields\": [\n    {\n      \"column\": \"Identifiers\",\n      \"properties\": {\n        \"dtype\": \"string\",\n        \"num_unique_values\": 24,\n        \"samples\": [\n          \"NDARJW315BUA\",\n          \"NDARTH610GMK\",\n          \"NDARAA075AMK\"\n        ],\n        \"semantic_type\": \"\",\n        \"description\": \"\"\n      }\n    },\n    {\n      \"column\": \"DailyMeds,med_name_01\",\n      \"properties\": {\n        \"dtype\": \"string\",\n        \"num_unique_values\": 20,\n        \"samples\": [\n          \"Zyrteck\",\n          \"depakote\",\n          \"Lamictal\"\n        ],\n        \"semantic_type\": \"\",\n        \"description\": \"\"\n      }\n    },\n    {\n      \"column\": \"DailyMeds,med_name_02\",\n      \"properties\": {\n        \"dtype\": \"category\",\n        \"num_unique_values\": 9,\n        \"samples\": [\n          \"Ibuprofen\",\n          \".\",\n          \"Folin \"\n        ],\n        \"semantic_type\": \"\",\n        \"description\": \"\"\n      }\n    },\n    {\n      \"column\": \"DailyMeds,med_name_03\",\n      \"properties\": {\n        \"dtype\": \"category\",\n        \"num_unique_values\": 4,\n        \"samples\": [\n          \"Flovent\",\n          \"Multivitamin, probiotic\",\n          \".\"\n        ],\n        \"semantic_type\": \"\",\n        \"description\": \"\"\n      }\n    },\n    {\n      \"column\": \"DailyMeds,med_type_01\",\n      \"properties\": {\n        \"dtype\": \"category\",\n        \"num_unique_values\": 6,\n        \"samples\": [\n          \"ADHD-Stimulant\",\n          \".\",\n          \"Mood Stabilizers\"\n        ],\n        \"semantic_type\": \"\",\n        \"description\": \"\"\n      }\n    },\n    {\n      \"column\": \"DailyMeds,med_type_02\",\n      \"properties\": {\n        \"dtype\": \"category\",\n        \"num_unique_values\": 2,\n        \"samples\": [\n          \".\",\n          \"Non-Psychiatric Drug\"\n        ],\n        \"semantic_type\": \"\",\n        \"description\": \"\"\n      }\n    },\n    {\n      \"column\": \"DailyMeds,med_type_03\",\n      \"properties\": {\n        \"dtype\": \"category\",\n        \"num_unique_values\": 2,\n        \"samples\": [\n          \"Non-Psychiatric Drug\",\n          \".\"\n        ],\n        \"semantic_type\": \"\",\n        \"description\": \"\"\n      }\n    }\n  ]\n}"
            }
          },
          "metadata": {},
          "execution_count": 113
        }
      ]
    },
    {
      "cell_type": "code",
      "source": [
        "data_filtered = data_filtered[~data_filtered['Identifiers'].isin(\n",
        "    ['NDARAA075AMK', 'NDAREM155HGQ', 'NDARFG114VB1', 'NDARFN452VPC',\n",
        "     'NDARJW315BUA', 'NDARNZ615UEU', 'NDARRW940BL6', 'NDARRG415BJM',\n",
        "     'NDARUL224GN6', 'NDARVX850JU5', 'NDARXK462WRZ', 'NDARZL724HAX'])] # review"
      ],
      "metadata": {
        "id": "Gy4OSO7xVTT-"
      },
      "execution_count": 114,
      "outputs": []
    },
    {
      "cell_type": "code",
      "source": [
        "# Drug Screen\n",
        "drugscreens = ['DrugScreen,AMP500', 'DrugScreen,BAR300', 'DrugScreen,BUP10',\n",
        "       'DrugScreen,BZO300', 'DrugScreen,COC150', 'DrugScreen,MAMP500',\n",
        "       'DrugScreen,MDMA500', 'DrugScreen,MTD300', 'DrugScreen,OPI300',\n",
        "       'DrugScreen,OXY100', 'DrugScreen,PCP25', 'DrugScreen,PPX300',\n",
        "       'DrugScreen,TCA1000', 'DrugScreen,THC50', 'DrugScreen,perscribed']\n",
        "for drug in drugscreens:\n",
        "  if data_filtered[data_filtered[drug] == '1'].shape[0] != 0:\n",
        "    print('Name of the screen: ', drug, 'Number of subjects with positive test: ', data_filtered[data_filtered[drug] == '1'].shape[0])\n",
        "data_filtered = data_filtered[data_filtered['DrugScreen,AMP500'] != '1']\n",
        "data_filtered = data_filtered[data_filtered['DrugScreen,TCA1000'] != '1']\n",
        "data_filtered = data_filtered[data_filtered['DrugScreen,THC50'] != '1']"
      ],
      "metadata": {
        "id": "jhOO_WVfoatX",
        "outputId": "e42a2d72-764d-472f-bb7a-8823be6f3ded",
        "colab": {
          "base_uri": "https://localhost:8080/"
        }
      },
      "execution_count": 115,
      "outputs": [
        {
          "output_type": "stream",
          "name": "stdout",
          "text": [
            "Name of the screen:  DrugScreen,AMP500 Number of subjects with positive test:  4\n",
            "Name of the screen:  DrugScreen,TCA1000 Number of subjects with positive test:  1\n",
            "Name of the screen:  DrugScreen,THC50 Number of subjects with positive test:  6\n",
            "Name of the screen:  DrugScreen,perscribed Number of subjects with positive test:  3\n"
          ]
        }
      ]
    },
    {
      "cell_type": "code",
      "source": [
        "# IQ > 70\n",
        "print('No IQ done: ', data_filtered[data_filtered['IQ_test'] == 'No IQ'].shape[0])\n",
        "data_filtered = data_filtered[data_filtered['IQ_test'] != 'No IQ']\n",
        "\n",
        "print('IQ < 70: ', data_filtered[data_filtered['IQ'] < 70].shape[0])\n",
        "data_filtered = data_filtered[data_filtered['IQ'] >= 70]"
      ],
      "metadata": {
        "id": "DynVuGGdpJPn",
        "outputId": "a67d3cfa-f794-411d-cd87-bff09169031e",
        "colab": {
          "base_uri": "https://localhost:8080/"
        }
      },
      "execution_count": 116,
      "outputs": [
        {
          "output_type": "stream",
          "name": "stdout",
          "text": [
            "No IQ done:  7\n",
            "IQ < 70:  10\n"
          ]
        }
      ]
    },
    {
      "cell_type": "code",
      "source": [
        "# PreInt Language\n",
        "data_filtered[data_filtered['PreInt_Lang,Child_Primary_Lang'] != '.'].groupby(['PreInt_Lang,Child_Primary_Lang'])['Identifiers'].count()"
      ],
      "metadata": {
        "id": "IODUmetopZwO",
        "outputId": "30108d45-c44d-49be-d0e4-950901644ba9",
        "colab": {
          "base_uri": "https://localhost:8080/",
          "height": 272
        }
      },
      "execution_count": 117,
      "outputs": [
        {
          "output_type": "execute_result",
          "data": {
            "text/plain": [
              "PreInt_Lang,Child_Primary_Lang\n",
              "English       507\n",
              "English         6\n",
              "Italian         1\n",
              "Portuguese      1\n",
              "Spanish         3\n",
              "Name: Identifiers, dtype: int64"
            ],
            "text/html": [
              "<div>\n",
              "<style scoped>\n",
              "    .dataframe tbody tr th:only-of-type {\n",
              "        vertical-align: middle;\n",
              "    }\n",
              "\n",
              "    .dataframe tbody tr th {\n",
              "        vertical-align: top;\n",
              "    }\n",
              "\n",
              "    .dataframe thead th {\n",
              "        text-align: right;\n",
              "    }\n",
              "</style>\n",
              "<table border=\"1\" class=\"dataframe\">\n",
              "  <thead>\n",
              "    <tr style=\"text-align: right;\">\n",
              "      <th></th>\n",
              "      <th>Identifiers</th>\n",
              "    </tr>\n",
              "    <tr>\n",
              "      <th>PreInt_Lang,Child_Primary_Lang</th>\n",
              "      <th></th>\n",
              "    </tr>\n",
              "  </thead>\n",
              "  <tbody>\n",
              "    <tr>\n",
              "      <th>English</th>\n",
              "      <td>507</td>\n",
              "    </tr>\n",
              "    <tr>\n",
              "      <th>English</th>\n",
              "      <td>6</td>\n",
              "    </tr>\n",
              "    <tr>\n",
              "      <th>Italian</th>\n",
              "      <td>1</td>\n",
              "    </tr>\n",
              "    <tr>\n",
              "      <th>Portuguese</th>\n",
              "      <td>1</td>\n",
              "    </tr>\n",
              "    <tr>\n",
              "      <th>Spanish</th>\n",
              "      <td>3</td>\n",
              "    </tr>\n",
              "  </tbody>\n",
              "</table>\n",
              "</div><br><label><b>dtype:</b> int64</label>"
            ]
          },
          "metadata": {},
          "execution_count": 117
        }
      ]
    },
    {
      "cell_type": "code",
      "source": [
        "# if we decide to delete non-native speakers of english then\n",
        "data_filtered = data_filtered[data_filtered['PreInt_Lang,Child_Primary_Lang'] != 'Spanish']\n",
        "data_filtered = data_filtered[data_filtered['PreInt_Lang,Child_Primary_Lang'] != 'Portuguese']\n",
        "data_filtered = data_filtered[data_filtered['PreInt_Lang,Child_Primary_Lang'] != 'Italian']"
      ],
      "metadata": {
        "id": "PXvkRUmYUuqy"
      },
      "execution_count": 118,
      "outputs": []
    },
    {
      "cell_type": "markdown",
      "source": [
        "# Characteristics of the ready dataset"
      ],
      "metadata": {
        "id": "6FVNklI1tBUP"
      }
    },
    {
      "cell_type": "code",
      "source": [
        "print('Full dataset')\n",
        "print('Controls: ', data_filtered[data_filtered['Group'] == 'Control'].shape[0])\n",
        "print('DD without comorbidities: ', data_filtered[data_filtered['Group'] == 'DD'].shape[0])\n",
        "print('DD with comorbidities', data_filtered[data_filtered['Group'] == 'DD with comorbidities'].shape[0])"
      ],
      "metadata": {
        "id": "S-ZOMySlUyJL",
        "outputId": "61d4f507-b009-4010-b0c9-43365772d6db",
        "colab": {
          "base_uri": "https://localhost:8080/"
        }
      },
      "execution_count": 120,
      "outputs": [
        {
          "output_type": "stream",
          "name": "stdout",
          "text": [
            "Full dataset\n",
            "Controls:  265\n",
            "DD without comorbidities:  127\n",
            "DD with comorbidities 395\n"
          ]
        }
      ]
    },
    {
      "cell_type": "code",
      "source": [
        "# ADHD statistics\n",
        "# People who have ADHD\n",
        "data_filtered.groupby(['ADHD'])[['Identifiers']].count()\n",
        "print('DD with comorbid ADHD: ', data_filtered[data_filtered['ADHD'].isin([1, 2])].shape[0], ' out of ',\n",
        "      data_filtered[data_filtered['Group'] != 'Control'].shape[0])"
      ],
      "metadata": {
        "id": "sBo37GZRGaoP",
        "outputId": "6034830d-f46d-48ca-e39d-5d49be32933d",
        "colab": {
          "base_uri": "https://localhost:8080/"
        }
      },
      "execution_count": 79,
      "outputs": [
        {
          "output_type": "stream",
          "name": "stdout",
          "text": [
            "DD with comorbid ADHD:  290  out of  522\n"
          ]
        }
      ]
    },
    {
      "cell_type": "code",
      "source": [
        "# Types of DD stats\n",
        "data_filtered[data_filtered['Group'] != 'Control'].groupby(['DD'])[['Identifiers']].count()"
      ],
      "metadata": {
        "id": "9z3GH4VTVTma",
        "outputId": "4f8d9ffb-5a1d-484c-c3ba-a2ca4c632e50",
        "colab": {
          "base_uri": "https://localhost:8080/",
          "height": 174
        }
      },
      "execution_count": 80,
      "outputs": [
        {
          "output_type": "execute_result",
          "data": {
            "text/plain": [
              "                            Identifiers\n",
              "DD                                     \n",
              "Reading                             364\n",
              "Reading and Math                    149\n",
              "Reading, Writing, and Math            9"
            ],
            "text/html": [
              "\n",
              "  <div id=\"df-7aca5a9e-9694-417d-b7c6-542f9b2f863f\" class=\"colab-df-container\">\n",
              "    <div>\n",
              "<style scoped>\n",
              "    .dataframe tbody tr th:only-of-type {\n",
              "        vertical-align: middle;\n",
              "    }\n",
              "\n",
              "    .dataframe tbody tr th {\n",
              "        vertical-align: top;\n",
              "    }\n",
              "\n",
              "    .dataframe thead th {\n",
              "        text-align: right;\n",
              "    }\n",
              "</style>\n",
              "<table border=\"1\" class=\"dataframe\">\n",
              "  <thead>\n",
              "    <tr style=\"text-align: right;\">\n",
              "      <th></th>\n",
              "      <th>Identifiers</th>\n",
              "    </tr>\n",
              "    <tr>\n",
              "      <th>DD</th>\n",
              "      <th></th>\n",
              "    </tr>\n",
              "  </thead>\n",
              "  <tbody>\n",
              "    <tr>\n",
              "      <th>Reading</th>\n",
              "      <td>364</td>\n",
              "    </tr>\n",
              "    <tr>\n",
              "      <th>Reading and Math</th>\n",
              "      <td>149</td>\n",
              "    </tr>\n",
              "    <tr>\n",
              "      <th>Reading, Writing, and Math</th>\n",
              "      <td>9</td>\n",
              "    </tr>\n",
              "  </tbody>\n",
              "</table>\n",
              "</div>\n",
              "    <div class=\"colab-df-buttons\">\n",
              "\n",
              "  <div class=\"colab-df-container\">\n",
              "    <button class=\"colab-df-convert\" onclick=\"convertToInteractive('df-7aca5a9e-9694-417d-b7c6-542f9b2f863f')\"\n",
              "            title=\"Convert this dataframe to an interactive table.\"\n",
              "            style=\"display:none;\">\n",
              "\n",
              "  <svg xmlns=\"http://www.w3.org/2000/svg\" height=\"24px\" viewBox=\"0 -960 960 960\">\n",
              "    <path d=\"M120-120v-720h720v720H120Zm60-500h600v-160H180v160Zm220 220h160v-160H400v160Zm0 220h160v-160H400v160ZM180-400h160v-160H180v160Zm440 0h160v-160H620v160ZM180-180h160v-160H180v160Zm440 0h160v-160H620v160Z\"/>\n",
              "  </svg>\n",
              "    </button>\n",
              "\n",
              "  <style>\n",
              "    .colab-df-container {\n",
              "      display:flex;\n",
              "      gap: 12px;\n",
              "    }\n",
              "\n",
              "    .colab-df-convert {\n",
              "      background-color: #E8F0FE;\n",
              "      border: none;\n",
              "      border-radius: 50%;\n",
              "      cursor: pointer;\n",
              "      display: none;\n",
              "      fill: #1967D2;\n",
              "      height: 32px;\n",
              "      padding: 0 0 0 0;\n",
              "      width: 32px;\n",
              "    }\n",
              "\n",
              "    .colab-df-convert:hover {\n",
              "      background-color: #E2EBFA;\n",
              "      box-shadow: 0px 1px 2px rgba(60, 64, 67, 0.3), 0px 1px 3px 1px rgba(60, 64, 67, 0.15);\n",
              "      fill: #174EA6;\n",
              "    }\n",
              "\n",
              "    .colab-df-buttons div {\n",
              "      margin-bottom: 4px;\n",
              "    }\n",
              "\n",
              "    [theme=dark] .colab-df-convert {\n",
              "      background-color: #3B4455;\n",
              "      fill: #D2E3FC;\n",
              "    }\n",
              "\n",
              "    [theme=dark] .colab-df-convert:hover {\n",
              "      background-color: #434B5C;\n",
              "      box-shadow: 0px 1px 3px 1px rgba(0, 0, 0, 0.15);\n",
              "      filter: drop-shadow(0px 1px 2px rgba(0, 0, 0, 0.3));\n",
              "      fill: #FFFFFF;\n",
              "    }\n",
              "  </style>\n",
              "\n",
              "    <script>\n",
              "      const buttonEl =\n",
              "        document.querySelector('#df-7aca5a9e-9694-417d-b7c6-542f9b2f863f button.colab-df-convert');\n",
              "      buttonEl.style.display =\n",
              "        google.colab.kernel.accessAllowed ? 'block' : 'none';\n",
              "\n",
              "      async function convertToInteractive(key) {\n",
              "        const element = document.querySelector('#df-7aca5a9e-9694-417d-b7c6-542f9b2f863f');\n",
              "        const dataTable =\n",
              "          await google.colab.kernel.invokeFunction('convertToInteractive',\n",
              "                                                    [key], {});\n",
              "        if (!dataTable) return;\n",
              "\n",
              "        const docLinkHtml = 'Like what you see? Visit the ' +\n",
              "          '<a target=\"_blank\" href=https://colab.research.google.com/notebooks/data_table.ipynb>data table notebook</a>'\n",
              "          + ' to learn more about interactive tables.';\n",
              "        element.innerHTML = '';\n",
              "        dataTable['output_type'] = 'display_data';\n",
              "        await google.colab.output.renderOutput(dataTable, element);\n",
              "        const docLink = document.createElement('div');\n",
              "        docLink.innerHTML = docLinkHtml;\n",
              "        element.appendChild(docLink);\n",
              "      }\n",
              "    </script>\n",
              "  </div>\n",
              "\n",
              "\n",
              "<div id=\"df-b0da80ff-4d41-4d8f-b23e-c48708bfa2da\">\n",
              "  <button class=\"colab-df-quickchart\" onclick=\"quickchart('df-b0da80ff-4d41-4d8f-b23e-c48708bfa2da')\"\n",
              "            title=\"Suggest charts\"\n",
              "            style=\"display:none;\">\n",
              "\n",
              "<svg xmlns=\"http://www.w3.org/2000/svg\" height=\"24px\"viewBox=\"0 0 24 24\"\n",
              "     width=\"24px\">\n",
              "    <g>\n",
              "        <path d=\"M19 3H5c-1.1 0-2 .9-2 2v14c0 1.1.9 2 2 2h14c1.1 0 2-.9 2-2V5c0-1.1-.9-2-2-2zM9 17H7v-7h2v7zm4 0h-2V7h2v10zm4 0h-2v-4h2v4z\"/>\n",
              "    </g>\n",
              "</svg>\n",
              "  </button>\n",
              "\n",
              "<style>\n",
              "  .colab-df-quickchart {\n",
              "      --bg-color: #E8F0FE;\n",
              "      --fill-color: #1967D2;\n",
              "      --hover-bg-color: #E2EBFA;\n",
              "      --hover-fill-color: #174EA6;\n",
              "      --disabled-fill-color: #AAA;\n",
              "      --disabled-bg-color: #DDD;\n",
              "  }\n",
              "\n",
              "  [theme=dark] .colab-df-quickchart {\n",
              "      --bg-color: #3B4455;\n",
              "      --fill-color: #D2E3FC;\n",
              "      --hover-bg-color: #434B5C;\n",
              "      --hover-fill-color: #FFFFFF;\n",
              "      --disabled-bg-color: #3B4455;\n",
              "      --disabled-fill-color: #666;\n",
              "  }\n",
              "\n",
              "  .colab-df-quickchart {\n",
              "    background-color: var(--bg-color);\n",
              "    border: none;\n",
              "    border-radius: 50%;\n",
              "    cursor: pointer;\n",
              "    display: none;\n",
              "    fill: var(--fill-color);\n",
              "    height: 32px;\n",
              "    padding: 0;\n",
              "    width: 32px;\n",
              "  }\n",
              "\n",
              "  .colab-df-quickchart:hover {\n",
              "    background-color: var(--hover-bg-color);\n",
              "    box-shadow: 0 1px 2px rgba(60, 64, 67, 0.3), 0 1px 3px 1px rgba(60, 64, 67, 0.15);\n",
              "    fill: var(--button-hover-fill-color);\n",
              "  }\n",
              "\n",
              "  .colab-df-quickchart-complete:disabled,\n",
              "  .colab-df-quickchart-complete:disabled:hover {\n",
              "    background-color: var(--disabled-bg-color);\n",
              "    fill: var(--disabled-fill-color);\n",
              "    box-shadow: none;\n",
              "  }\n",
              "\n",
              "  .colab-df-spinner {\n",
              "    border: 2px solid var(--fill-color);\n",
              "    border-color: transparent;\n",
              "    border-bottom-color: var(--fill-color);\n",
              "    animation:\n",
              "      spin 1s steps(1) infinite;\n",
              "  }\n",
              "\n",
              "  @keyframes spin {\n",
              "    0% {\n",
              "      border-color: transparent;\n",
              "      border-bottom-color: var(--fill-color);\n",
              "      border-left-color: var(--fill-color);\n",
              "    }\n",
              "    20% {\n",
              "      border-color: transparent;\n",
              "      border-left-color: var(--fill-color);\n",
              "      border-top-color: var(--fill-color);\n",
              "    }\n",
              "    30% {\n",
              "      border-color: transparent;\n",
              "      border-left-color: var(--fill-color);\n",
              "      border-top-color: var(--fill-color);\n",
              "      border-right-color: var(--fill-color);\n",
              "    }\n",
              "    40% {\n",
              "      border-color: transparent;\n",
              "      border-right-color: var(--fill-color);\n",
              "      border-top-color: var(--fill-color);\n",
              "    }\n",
              "    60% {\n",
              "      border-color: transparent;\n",
              "      border-right-color: var(--fill-color);\n",
              "    }\n",
              "    80% {\n",
              "      border-color: transparent;\n",
              "      border-right-color: var(--fill-color);\n",
              "      border-bottom-color: var(--fill-color);\n",
              "    }\n",
              "    90% {\n",
              "      border-color: transparent;\n",
              "      border-bottom-color: var(--fill-color);\n",
              "    }\n",
              "  }\n",
              "</style>\n",
              "\n",
              "  <script>\n",
              "    async function quickchart(key) {\n",
              "      const quickchartButtonEl =\n",
              "        document.querySelector('#' + key + ' button');\n",
              "      quickchartButtonEl.disabled = true;  // To prevent multiple clicks.\n",
              "      quickchartButtonEl.classList.add('colab-df-spinner');\n",
              "      try {\n",
              "        const charts = await google.colab.kernel.invokeFunction(\n",
              "            'suggestCharts', [key], {});\n",
              "      } catch (error) {\n",
              "        console.error('Error during call to suggestCharts:', error);\n",
              "      }\n",
              "      quickchartButtonEl.classList.remove('colab-df-spinner');\n",
              "      quickchartButtonEl.classList.add('colab-df-quickchart-complete');\n",
              "    }\n",
              "    (() => {\n",
              "      let quickchartButtonEl =\n",
              "        document.querySelector('#df-b0da80ff-4d41-4d8f-b23e-c48708bfa2da button');\n",
              "      quickchartButtonEl.style.display =\n",
              "        google.colab.kernel.accessAllowed ? 'block' : 'none';\n",
              "    })();\n",
              "  </script>\n",
              "</div>\n",
              "\n",
              "    </div>\n",
              "  </div>\n"
            ],
            "application/vnd.google.colaboratory.intrinsic+json": {
              "type": "dataframe",
              "summary": "{\n  \"name\": \"data_filtered[data_filtered['Group'] != 'Control']\",\n  \"rows\": 3,\n  \"fields\": [\n    {\n      \"column\": \"DD\",\n      \"properties\": {\n        \"dtype\": \"string\",\n        \"num_unique_values\": 3,\n        \"samples\": [\n          \"Reading\",\n          \"Reading and Math\",\n          \"Reading, Writing, and Math\"\n        ],\n        \"semantic_type\": \"\",\n        \"description\": \"\"\n      }\n    },\n    {\n      \"column\": \"Identifiers\",\n      \"properties\": {\n        \"dtype\": \"number\",\n        \"std\": 178,\n        \"min\": 9,\n        \"max\": 364,\n        \"num_unique_values\": 3,\n        \"samples\": [\n          364,\n          149,\n          9\n        ],\n        \"semantic_type\": \"\",\n        \"description\": \"\"\n      }\n    }\n  ]\n}"
            }
          },
          "metadata": {},
          "execution_count": 80
        }
      ]
    },
    {
      "cell_type": "code",
      "source": [
        "# Drop outs and lost to follow up\n",
        "print('Lost or drop outs: ',\n",
        "      data_filtered[data_filtered['Basic_Demos,Participant_Status'].isin(['Lost to follow-up', 'Dropout'])].shape[0])"
      ],
      "metadata": {
        "id": "GQOfDZ43rzi2",
        "outputId": "b73e294b-075a-48ba-b896-d817ddcbc541",
        "colab": {
          "base_uri": "https://localhost:8080/"
        }
      },
      "execution_count": 81,
      "outputs": [
        {
          "output_type": "stream",
          "name": "stdout",
          "text": [
            "Lost or drop outs:  12\n"
          ]
        }
      ]
    },
    {
      "cell_type": "code",
      "source": [
        "# head injuries\n",
        "print('Head injuries: ', data_filtered[data_filtered['PreInt_TxHx,head_injuries'] == '1'].shape[0])"
      ],
      "metadata": {
        "id": "-92y0_W_sMr2",
        "outputId": "87a81d2a-1a6e-4f90-a27d-f925acc41c8a",
        "colab": {
          "base_uri": "https://localhost:8080/"
        }
      },
      "execution_count": 82,
      "outputs": [
        {
          "output_type": "stream",
          "name": "stdout",
          "text": [
            "Head injuries:  92\n"
          ]
        }
      ]
    },
    {
      "cell_type": "code",
      "source": [
        "# the certainty and validity of the IQ tests\n",
        "data_filtered['IQ_status'].unique()"
      ],
      "metadata": {
        "id": "W9UD6_ovsbPd",
        "outputId": "cebb4131-6e5a-4c5e-b14f-86a12d0eb3a8",
        "colab": {
          "base_uri": "https://localhost:8080/"
        }
      },
      "execution_count": 83,
      "outputs": [
        {
          "output_type": "execute_result",
          "data": {
            "text/plain": [
              "array(['Complete', 'N/A', 'Complete and Valid'], dtype=object)"
            ]
          },
          "metadata": {},
          "execution_count": 83
        }
      ]
    },
    {
      "cell_type": "code",
      "source": [
        "# nvIQ and vIQ\n",
        "print('No scores for nvIQ: ', data_filtered[data_filtered['nvIQ'] == 'N/A'].shape[0])\n",
        "print('No scores for vIQ: ', data_filtered[data_filtered['vIQ'] == 'N/A'].shape[0])"
      ],
      "metadata": {
        "id": "Wd3LsnIJt0Yb",
        "outputId": "f808e090-1562-4c55-d920-95ba76a12574",
        "colab": {
          "base_uri": "https://localhost:8080/"
        }
      },
      "execution_count": 84,
      "outputs": [
        {
          "output_type": "stream",
          "name": "stdout",
          "text": [
            "No scores for nvIQ:  3\n",
            "No scores for vIQ:  0\n"
          ]
        }
      ]
    },
    {
      "cell_type": "code",
      "source": [
        "data_filtered[data_filtered['nvIQ'] == 'N/A'] # check who exactly missing nv IQ scores and whether we could restore those"
      ],
      "metadata": {
        "id": "n-b5ovNWkOwa"
      },
      "execution_count": null,
      "outputs": []
    },
    {
      "cell_type": "code",
      "source": [
        "# MRI Track\n",
        "names = ['Clinical_Impression', 'Complete', 'DKI64', 'DWI_APAX', 'DWI_PAAX', 'RS']\n",
        "for name in names:\n",
        "  if name == 'Complete':\n",
        "    print('Completed ', data_filtered[data_filtered[col_name] == '1'].shape[0], ' participants out of ', data_filtered.shape[0])\n",
        "  elif name == 'Clinical_Impression':\n",
        "    print('Within normal limits: ', data_filtered[data_filtered[col_name] == '1'].shape[0])\n",
        "    print('Findings Not Clinically Significant: ', data_filtered[data_filtered[col_name] == '2'].shape[0])\n",
        "    print('Abnormal: ', data_filtered[data_filtered[col_name] == '3'].shape[0])\n",
        "  else:\n",
        "    print(name, 'done ', data_filtered[data_filtered[col_name] == '1'].shape[0], 'out of ', data_filtered.shape[0])"
      ],
      "metadata": {
        "id": "00Vu0J-jur0E",
        "outputId": "2159161f-edd7-44cb-85af-a62ec7f4a9d1",
        "colab": {
          "base_uri": "https://localhost:8080/"
        }
      },
      "execution_count": 85,
      "outputs": [
        {
          "output_type": "stream",
          "name": "stdout",
          "text": [
            "Within normal limits:  550\n",
            "Findings Not Clinically Significant:  10\n",
            "Abnormal:  0\n",
            "Completed  550  participants out of  787\n",
            "DKI64 done  550 out of  787\n",
            "DWI_APAX done  550 out of  787\n",
            "DWI_PAAX done  550 out of  787\n",
            "RS done  550 out of  787\n"
          ]
        }
      ]
    },
    {
      "cell_type": "code",
      "source": [
        "data_filtered['Group'].unique()"
      ],
      "metadata": {
        "id": "HE9IH2qynEz1",
        "outputId": "9e8a137a-2a7a-42e2-e963-f7b1252e3ca6",
        "colab": {
          "base_uri": "https://localhost:8080/"
        }
      },
      "execution_count": 192,
      "outputs": [
        {
          "output_type": "execute_result",
          "data": {
            "text/plain": [
              "array(['DD with comorbidities', 'Control', 'DD'], dtype=object)"
            ]
          },
          "metadata": {},
          "execution_count": 192
        }
      ]
    },
    {
      "cell_type": "code",
      "source": [
        "# the certainty of the diagnosis\n",
        "data_filtered[data_filtered['Group'] != 'Control'].groupby(['DD_Certainty'])[['Identifiers']].count()"
      ],
      "metadata": {
        "id": "yEGvTEQFtcXT",
        "outputId": "af783b9e-20fd-45d2-f663-408dc72d4234",
        "colab": {
          "base_uri": "https://localhost:8080/",
          "height": 519
        }
      },
      "execution_count": 194,
      "outputs": [
        {
          "output_type": "execute_result",
          "data": {
            "text/plain": [
              "                                   Identifiers\n",
              "DD_Certainty                                  \n",
              "Confirmed,                                 176\n",
              "Confirmed, Confirmed, Unclear,              35\n",
              "Confirmed, Presumptive, Unclear,            22\n",
              "Confirmed, RConfirm, Unclear,                3\n",
              "Confirmed, Ruleout, Unclear,                35\n",
              "Presumptive,                                31\n",
              "Presumptive, Ruleout, Unclear,               9\n",
              "RConfirm,                                   19\n",
              "RConfirm, Presumptive, Unclear,              1\n",
              "RConfirm, RConfirm, Unclear,                 2\n",
              "RConfirm, Ruleout, Unclear,                  2\n",
              "Ruleout,                                    69\n",
              "Ruleout, Ruleout, Unclear,                  38\n",
              "Unclear,                                    80"
            ],
            "text/html": [
              "\n",
              "  <div id=\"df-2282d160-64d5-454b-b6b1-bc3f23cd732a\" class=\"colab-df-container\">\n",
              "    <div>\n",
              "<style scoped>\n",
              "    .dataframe tbody tr th:only-of-type {\n",
              "        vertical-align: middle;\n",
              "    }\n",
              "\n",
              "    .dataframe tbody tr th {\n",
              "        vertical-align: top;\n",
              "    }\n",
              "\n",
              "    .dataframe thead th {\n",
              "        text-align: right;\n",
              "    }\n",
              "</style>\n",
              "<table border=\"1\" class=\"dataframe\">\n",
              "  <thead>\n",
              "    <tr style=\"text-align: right;\">\n",
              "      <th></th>\n",
              "      <th>Identifiers</th>\n",
              "    </tr>\n",
              "    <tr>\n",
              "      <th>DD_Certainty</th>\n",
              "      <th></th>\n",
              "    </tr>\n",
              "  </thead>\n",
              "  <tbody>\n",
              "    <tr>\n",
              "      <th>Confirmed,</th>\n",
              "      <td>176</td>\n",
              "    </tr>\n",
              "    <tr>\n",
              "      <th>Confirmed, Confirmed, Unclear,</th>\n",
              "      <td>35</td>\n",
              "    </tr>\n",
              "    <tr>\n",
              "      <th>Confirmed, Presumptive, Unclear,</th>\n",
              "      <td>22</td>\n",
              "    </tr>\n",
              "    <tr>\n",
              "      <th>Confirmed, RConfirm, Unclear,</th>\n",
              "      <td>3</td>\n",
              "    </tr>\n",
              "    <tr>\n",
              "      <th>Confirmed, Ruleout, Unclear,</th>\n",
              "      <td>35</td>\n",
              "    </tr>\n",
              "    <tr>\n",
              "      <th>Presumptive,</th>\n",
              "      <td>31</td>\n",
              "    </tr>\n",
              "    <tr>\n",
              "      <th>Presumptive, Ruleout, Unclear,</th>\n",
              "      <td>9</td>\n",
              "    </tr>\n",
              "    <tr>\n",
              "      <th>RConfirm,</th>\n",
              "      <td>19</td>\n",
              "    </tr>\n",
              "    <tr>\n",
              "      <th>RConfirm, Presumptive, Unclear,</th>\n",
              "      <td>1</td>\n",
              "    </tr>\n",
              "    <tr>\n",
              "      <th>RConfirm, RConfirm, Unclear,</th>\n",
              "      <td>2</td>\n",
              "    </tr>\n",
              "    <tr>\n",
              "      <th>RConfirm, Ruleout, Unclear,</th>\n",
              "      <td>2</td>\n",
              "    </tr>\n",
              "    <tr>\n",
              "      <th>Ruleout,</th>\n",
              "      <td>69</td>\n",
              "    </tr>\n",
              "    <tr>\n",
              "      <th>Ruleout, Ruleout, Unclear,</th>\n",
              "      <td>38</td>\n",
              "    </tr>\n",
              "    <tr>\n",
              "      <th>Unclear,</th>\n",
              "      <td>80</td>\n",
              "    </tr>\n",
              "  </tbody>\n",
              "</table>\n",
              "</div>\n",
              "    <div class=\"colab-df-buttons\">\n",
              "\n",
              "  <div class=\"colab-df-container\">\n",
              "    <button class=\"colab-df-convert\" onclick=\"convertToInteractive('df-2282d160-64d5-454b-b6b1-bc3f23cd732a')\"\n",
              "            title=\"Convert this dataframe to an interactive table.\"\n",
              "            style=\"display:none;\">\n",
              "\n",
              "  <svg xmlns=\"http://www.w3.org/2000/svg\" height=\"24px\" viewBox=\"0 -960 960 960\">\n",
              "    <path d=\"M120-120v-720h720v720H120Zm60-500h600v-160H180v160Zm220 220h160v-160H400v160Zm0 220h160v-160H400v160ZM180-400h160v-160H180v160Zm440 0h160v-160H620v160ZM180-180h160v-160H180v160Zm440 0h160v-160H620v160Z\"/>\n",
              "  </svg>\n",
              "    </button>\n",
              "\n",
              "  <style>\n",
              "    .colab-df-container {\n",
              "      display:flex;\n",
              "      gap: 12px;\n",
              "    }\n",
              "\n",
              "    .colab-df-convert {\n",
              "      background-color: #E8F0FE;\n",
              "      border: none;\n",
              "      border-radius: 50%;\n",
              "      cursor: pointer;\n",
              "      display: none;\n",
              "      fill: #1967D2;\n",
              "      height: 32px;\n",
              "      padding: 0 0 0 0;\n",
              "      width: 32px;\n",
              "    }\n",
              "\n",
              "    .colab-df-convert:hover {\n",
              "      background-color: #E2EBFA;\n",
              "      box-shadow: 0px 1px 2px rgba(60, 64, 67, 0.3), 0px 1px 3px 1px rgba(60, 64, 67, 0.15);\n",
              "      fill: #174EA6;\n",
              "    }\n",
              "\n",
              "    .colab-df-buttons div {\n",
              "      margin-bottom: 4px;\n",
              "    }\n",
              "\n",
              "    [theme=dark] .colab-df-convert {\n",
              "      background-color: #3B4455;\n",
              "      fill: #D2E3FC;\n",
              "    }\n",
              "\n",
              "    [theme=dark] .colab-df-convert:hover {\n",
              "      background-color: #434B5C;\n",
              "      box-shadow: 0px 1px 3px 1px rgba(0, 0, 0, 0.15);\n",
              "      filter: drop-shadow(0px 1px 2px rgba(0, 0, 0, 0.3));\n",
              "      fill: #FFFFFF;\n",
              "    }\n",
              "  </style>\n",
              "\n",
              "    <script>\n",
              "      const buttonEl =\n",
              "        document.querySelector('#df-2282d160-64d5-454b-b6b1-bc3f23cd732a button.colab-df-convert');\n",
              "      buttonEl.style.display =\n",
              "        google.colab.kernel.accessAllowed ? 'block' : 'none';\n",
              "\n",
              "      async function convertToInteractive(key) {\n",
              "        const element = document.querySelector('#df-2282d160-64d5-454b-b6b1-bc3f23cd732a');\n",
              "        const dataTable =\n",
              "          await google.colab.kernel.invokeFunction('convertToInteractive',\n",
              "                                                    [key], {});\n",
              "        if (!dataTable) return;\n",
              "\n",
              "        const docLinkHtml = 'Like what you see? Visit the ' +\n",
              "          '<a target=\"_blank\" href=https://colab.research.google.com/notebooks/data_table.ipynb>data table notebook</a>'\n",
              "          + ' to learn more about interactive tables.';\n",
              "        element.innerHTML = '';\n",
              "        dataTable['output_type'] = 'display_data';\n",
              "        await google.colab.output.renderOutput(dataTable, element);\n",
              "        const docLink = document.createElement('div');\n",
              "        docLink.innerHTML = docLinkHtml;\n",
              "        element.appendChild(docLink);\n",
              "      }\n",
              "    </script>\n",
              "  </div>\n",
              "\n",
              "\n",
              "<div id=\"df-364be880-d4a4-4c87-b828-6490720ef776\">\n",
              "  <button class=\"colab-df-quickchart\" onclick=\"quickchart('df-364be880-d4a4-4c87-b828-6490720ef776')\"\n",
              "            title=\"Suggest charts\"\n",
              "            style=\"display:none;\">\n",
              "\n",
              "<svg xmlns=\"http://www.w3.org/2000/svg\" height=\"24px\"viewBox=\"0 0 24 24\"\n",
              "     width=\"24px\">\n",
              "    <g>\n",
              "        <path d=\"M19 3H5c-1.1 0-2 .9-2 2v14c0 1.1.9 2 2 2h14c1.1 0 2-.9 2-2V5c0-1.1-.9-2-2-2zM9 17H7v-7h2v7zm4 0h-2V7h2v10zm4 0h-2v-4h2v4z\"/>\n",
              "    </g>\n",
              "</svg>\n",
              "  </button>\n",
              "\n",
              "<style>\n",
              "  .colab-df-quickchart {\n",
              "      --bg-color: #E8F0FE;\n",
              "      --fill-color: #1967D2;\n",
              "      --hover-bg-color: #E2EBFA;\n",
              "      --hover-fill-color: #174EA6;\n",
              "      --disabled-fill-color: #AAA;\n",
              "      --disabled-bg-color: #DDD;\n",
              "  }\n",
              "\n",
              "  [theme=dark] .colab-df-quickchart {\n",
              "      --bg-color: #3B4455;\n",
              "      --fill-color: #D2E3FC;\n",
              "      --hover-bg-color: #434B5C;\n",
              "      --hover-fill-color: #FFFFFF;\n",
              "      --disabled-bg-color: #3B4455;\n",
              "      --disabled-fill-color: #666;\n",
              "  }\n",
              "\n",
              "  .colab-df-quickchart {\n",
              "    background-color: var(--bg-color);\n",
              "    border: none;\n",
              "    border-radius: 50%;\n",
              "    cursor: pointer;\n",
              "    display: none;\n",
              "    fill: var(--fill-color);\n",
              "    height: 32px;\n",
              "    padding: 0;\n",
              "    width: 32px;\n",
              "  }\n",
              "\n",
              "  .colab-df-quickchart:hover {\n",
              "    background-color: var(--hover-bg-color);\n",
              "    box-shadow: 0 1px 2px rgba(60, 64, 67, 0.3), 0 1px 3px 1px rgba(60, 64, 67, 0.15);\n",
              "    fill: var(--button-hover-fill-color);\n",
              "  }\n",
              "\n",
              "  .colab-df-quickchart-complete:disabled,\n",
              "  .colab-df-quickchart-complete:disabled:hover {\n",
              "    background-color: var(--disabled-bg-color);\n",
              "    fill: var(--disabled-fill-color);\n",
              "    box-shadow: none;\n",
              "  }\n",
              "\n",
              "  .colab-df-spinner {\n",
              "    border: 2px solid var(--fill-color);\n",
              "    border-color: transparent;\n",
              "    border-bottom-color: var(--fill-color);\n",
              "    animation:\n",
              "      spin 1s steps(1) infinite;\n",
              "  }\n",
              "\n",
              "  @keyframes spin {\n",
              "    0% {\n",
              "      border-color: transparent;\n",
              "      border-bottom-color: var(--fill-color);\n",
              "      border-left-color: var(--fill-color);\n",
              "    }\n",
              "    20% {\n",
              "      border-color: transparent;\n",
              "      border-left-color: var(--fill-color);\n",
              "      border-top-color: var(--fill-color);\n",
              "    }\n",
              "    30% {\n",
              "      border-color: transparent;\n",
              "      border-left-color: var(--fill-color);\n",
              "      border-top-color: var(--fill-color);\n",
              "      border-right-color: var(--fill-color);\n",
              "    }\n",
              "    40% {\n",
              "      border-color: transparent;\n",
              "      border-right-color: var(--fill-color);\n",
              "      border-top-color: var(--fill-color);\n",
              "    }\n",
              "    60% {\n",
              "      border-color: transparent;\n",
              "      border-right-color: var(--fill-color);\n",
              "    }\n",
              "    80% {\n",
              "      border-color: transparent;\n",
              "      border-right-color: var(--fill-color);\n",
              "      border-bottom-color: var(--fill-color);\n",
              "    }\n",
              "    90% {\n",
              "      border-color: transparent;\n",
              "      border-bottom-color: var(--fill-color);\n",
              "    }\n",
              "  }\n",
              "</style>\n",
              "\n",
              "  <script>\n",
              "    async function quickchart(key) {\n",
              "      const quickchartButtonEl =\n",
              "        document.querySelector('#' + key + ' button');\n",
              "      quickchartButtonEl.disabled = true;  // To prevent multiple clicks.\n",
              "      quickchartButtonEl.classList.add('colab-df-spinner');\n",
              "      try {\n",
              "        const charts = await google.colab.kernel.invokeFunction(\n",
              "            'suggestCharts', [key], {});\n",
              "      } catch (error) {\n",
              "        console.error('Error during call to suggestCharts:', error);\n",
              "      }\n",
              "      quickchartButtonEl.classList.remove('colab-df-spinner');\n",
              "      quickchartButtonEl.classList.add('colab-df-quickchart-complete');\n",
              "    }\n",
              "    (() => {\n",
              "      let quickchartButtonEl =\n",
              "        document.querySelector('#df-364be880-d4a4-4c87-b828-6490720ef776 button');\n",
              "      quickchartButtonEl.style.display =\n",
              "        google.colab.kernel.accessAllowed ? 'block' : 'none';\n",
              "    })();\n",
              "  </script>\n",
              "</div>\n",
              "\n",
              "    </div>\n",
              "  </div>\n"
            ],
            "application/vnd.google.colaboratory.intrinsic+json": {
              "type": "dataframe",
              "summary": "{\n  \"name\": \"data_filtered[data_filtered['Group'] != 'Control']\",\n  \"rows\": 14,\n  \"fields\": [\n    {\n      \"column\": \"DD_Certainty\",\n      \"properties\": {\n        \"dtype\": \"string\",\n        \"num_unique_values\": 14,\n        \"samples\": [\n          \"RConfirm, RConfirm, Unclear, \",\n          \"Ruleout, \",\n          \"Confirmed, \"\n        ],\n        \"semantic_type\": \"\",\n        \"description\": \"\"\n      }\n    },\n    {\n      \"column\": \"Identifiers\",\n      \"properties\": {\n        \"dtype\": \"number\",\n        \"std\": 46,\n        \"min\": 1,\n        \"max\": 176,\n        \"num_unique_values\": 12,\n        \"samples\": [\n          38,\n          69,\n          176\n        ],\n        \"semantic_type\": \"\",\n        \"description\": \"\"\n      }\n    }\n  ]\n}"
            }
          },
          "metadata": {},
          "execution_count": 194
        }
      ]
    },
    {
      "cell_type": "code",
      "source": [
        "# CTOPP test\n",
        "# RL_raw, RL_scaled, RD_raw, RD_scaled\n",
        "print('All dataset: ', data_filtered.shape[0])\n",
        "print('Letters raw: ', data_filtered[data_filtered['CTOPP,CTOPP_RL_R'] != '.'].shape[0])\n",
        "print('Letters scaled: ', data_filtered[data_filtered['CTOPP,CTOPP_RL_S'] != '.'].shape[0])\n",
        "print('Numbers raw: ', data_filtered[data_filtered['CTOPP,CTOPP_RD_R'] != '.'].shape[0])\n",
        "print('Numbers scaled: ', data_filtered[data_filtered['CTOPP,CTOPP_RD_S'] != '.'].shape[0])"
      ],
      "metadata": {
        "id": "gpfpklxOtwu0",
        "outputId": "bdec26a4-a4a5-4308-a4b0-74f2bd9f695b",
        "colab": {
          "base_uri": "https://localhost:8080/"
        }
      },
      "execution_count": 87,
      "outputs": [
        {
          "output_type": "stream",
          "name": "stdout",
          "text": [
            "All dataset:  787\n",
            "Letters raw:  726\n",
            "Letters scaled:  727\n",
            "Numbers raw:  728\n",
            "Numbers scaled:  728\n"
          ]
        }
      ]
    },
    {
      "cell_type": "code",
      "source": [
        "# RANRAS\n",
        "print('RAN letters (stnd.): ', data_filtered[data_filtered['RANRAS,RR_Let_Stnd'] != '.'].shape[0], 'out of ', data_filtered.shape[0])\n",
        "print('RAN letters (raw): ',data_filtered[data_filtered['RANRAS,RR_Let_Raw'] != '.'].shape[0], 'out of ', data_filtered.shape[0])\n",
        "print('RAN numbers (stnd.): ', data_filtered[data_filtered['RANRAS,RR_Num_Stnd'] != '.'].shape[0], 'out of ', data_filtered.shape[0])\n",
        "print('RAN numbers (raw): ', data_filtered[data_filtered['RANRAS,RR_Num_Raw'] != '.'].shape[0], 'out of ', data_filtered.shape[0])"
      ],
      "metadata": {
        "id": "NK-KucastzA7",
        "outputId": "325aa5eb-1153-41ff-ad8c-86970c3702a3",
        "colab": {
          "base_uri": "https://localhost:8080/"
        }
      },
      "execution_count": 88,
      "outputs": [
        {
          "output_type": "stream",
          "name": "stdout",
          "text": [
            "RAN letters (stnd.):  45 out of  787\n",
            "RAN letters (raw):  45 out of  787\n",
            "RAN numbers (stnd.):  12 out of  787\n",
            "RAN numbers (raw):  12 out of  787\n"
          ]
        }
      ]
    },
    {
      "cell_type": "code",
      "source": [
        "sns.displot(data_filtered[data_filtered['Group'] == 'DD']['Basic_Demos,Age'],\n",
        "             binwidth = 1)\n",
        "pl.title('Age distribution in the DD group');"
      ],
      "metadata": {
        "id": "uT9jzc6Y75CJ",
        "outputId": "2663f05d-8b31-4f9c-9652-e2f6f6951936",
        "colab": {
          "base_uri": "https://localhost:8080/",
          "height": 523
        }
      },
      "execution_count": 195,
      "outputs": [
        {
          "output_type": "display_data",
          "data": {
            "text/plain": [
              "<Figure size 500x500 with 1 Axes>"
            ],
            "image/png": "[encoded data removed]"
          },
          "metadata": {}
        }
      ]
    },
    {
      "cell_type": "code",
      "source": [
        "print('Number of DD participants: ', data_filtered[data_filtered['Group'] != 'Control'].shape[0])\n",
        "print('Number of DD participants younger than 8 y.o.: ', data_filtered[(data_filtered['Group'] != 'Control') & (data_filtered['Basic_Demos,Age'] < 8)].shape[0])\n",
        "print('Number of DD participants older than 8 y.o.: ', data_filtered[(data_filtered['Group'] != 'Control') & (data_filtered['Basic_Demos,Age'] >= 8)].shape[0])"
      ],
      "metadata": {
        "id": "njhhsdZfufnV",
        "outputId": "5ce2738c-9acf-4f49-c0bc-cf3fd83e5b1d",
        "colab": {
          "base_uri": "https://localhost:8080/"
        }
      },
      "execution_count": 90,
      "outputs": [
        {
          "output_type": "stream",
          "name": "stdout",
          "text": [
            "Number of DD participants:  522\n",
            "Number of DD participants younger than 8 y.o.:  163\n",
            "Number of DD participants older than 8 y.o.:  359\n"
          ]
        }
      ]
    },
    {
      "cell_type": "code",
      "source": [],
      "metadata": {
        "id": "CQ50c40C2ZdK"
      },
      "execution_count": 90,
      "outputs": []
    },
    {
      "cell_type": "code",
      "source": [
        "'''data_filtered.to_csv(\n",
        "    Path(working_path).joinpath('data_filtered_done.csv')\n",
        ")\n",
        "data_filtered['Identifiers'].to_csv(\n",
        "    Path(working_path).joinpath('ids.csv')\n",
        ")'''"
      ],
      "metadata": {
        "id": "uz36YChcWxi9",
        "outputId": "b8fb59bf-0b23-4afa-de7e-319dcbbf6c01",
        "colab": {
          "base_uri": "https://localhost:8080/",
          "height": 52
        }
      },
      "execution_count": 91,
      "outputs": [
        {
          "output_type": "execute_result",
          "data": {
            "text/plain": [
              "\"data_filtered.to_csv(\\n    Path(working_path).joinpath('data_filtered_done.csv')\\n)\\ndata_filtered['Identifiers'].to_csv(\\n    Path(working_path).joinpath('ids.csv')\\n)\""
            ],
            "application/vnd.google.colaboratory.intrinsic+json": {
              "type": "string"
            }
          },
          "metadata": {},
          "execution_count": 91
        }
      ]
    }
  ]
}