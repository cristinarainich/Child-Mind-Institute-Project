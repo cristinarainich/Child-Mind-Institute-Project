{
  "nbformat": 4,
  "nbformat_minor": 0,
  "metadata": {
    "colab": {
      "provenance": [],
      "toc_visible": true,
      "authorship_tag": "ABX9TyMZeGJTdYd6GyG+gUFM1Mhg",
      "include_colab_link": true
    },
    "kernelspec": {
      "name": "python3",
      "display_name": "Python 3"
    },
    "language_info": {
      "name": "python"
    }
  },
  "cells": [
    {
      "cell_type": "markdown",
      "metadata": {
        "id": "view-in-github",
        "colab_type": "text"
      },
      "source": [
        "<a href=\"https://colab.research.google.com/github/cristinarainich/Child-Mind-Institute-Project/blob/main/Pheno_data_finalquery.ipynb\" target=\"_parent\"><img src=\"https://colab.research.google.com/assets/colab-badge.svg\" alt=\"Open In Colab\"/></a>"
      ]
    },
    {
      "cell_type": "markdown",
      "source": [
        "**Updated** 26/02/2024"
      ],
      "metadata": {
        "id": "R1aQIcWPJsdR"
      }
    },
    {
      "cell_type": "code",
      "execution_count": 1,
      "metadata": {
        "colab": {
          "base_uri": "https://localhost:8080/"
        },
        "id": "7sLM_aBE1XSO",
        "outputId": "a545d7ce-d9a3-4de5-c742-b0d8a7e924ea"
      },
      "outputs": [
        {
          "output_type": "stream",
          "name": "stdout",
          "text": [
            "Mounted at /content/drive\n"
          ]
        }
      ],
      "source": [
        "from google.colab import drive\n",
        "drive.mount('/content/drive')"
      ]
    },
    {
      "cell_type": "code",
      "source": [
        "from pathlib import Path\n",
        "import pandas as pd\n",
        "import numpy as np\n",
        "import math\n",
        "import pylab as pl\n",
        "import seaborn as sns\n",
        "from scipy import stats\n",
        "%pylab inline"
      ],
      "metadata": {
        "colab": {
          "base_uri": "https://localhost:8080/"
        },
        "id": "aaZC6otb1s12",
        "outputId": "f757dfdb-de1d-41a1-8e53-c6a6ac9aeede"
      },
      "execution_count": 156,
      "outputs": [
        {
          "output_type": "stream",
          "name": "stdout",
          "text": [
            "Populating the interactive namespace from numpy and matplotlib\n"
          ]
        },
        {
          "output_type": "stream",
          "name": "stderr",
          "text": [
            "/usr/local/lib/python3.10/dist-packages/IPython/core/magics/pylab.py:159: UserWarning: pylab import has clobbered these variables: ['diag', 'add']\n",
            "`%matplotlib` prevents importing * from pylab and numpy\n",
            "  warn(\"pylab import has clobbered these variables: %s\"  % clobbered +\n"
          ]
        }
      ]
    },
    {
      "cell_type": "code",
      "source": [
        "sns.set()"
      ],
      "metadata": {
        "id": "lAeNDY5uJvVf"
      },
      "execution_count": 3,
      "outputs": []
    },
    {
      "cell_type": "code",
      "source": [
        "working_path = Path('/content/drive/MyDrive/KKNV')"
      ],
      "metadata": {
        "id": "aonUk2xG1llO"
      },
      "execution_count": 4,
      "outputs": []
    },
    {
      "cell_type": "code",
      "source": [
        "cd /content/drive/MyDrive/KKNV"
      ],
      "metadata": {
        "colab": {
          "base_uri": "https://localhost:8080/"
        },
        "id": "z9Xbaxjz1yH3",
        "outputId": "1b0b8067-f18e-4dac-86f4-2c4bdfb6e68c"
      },
      "execution_count": 5,
      "outputs": [
        {
          "output_type": "stream",
          "name": "stdout",
          "text": [
            "/content/drive/MyDrive/KKNV\n"
          ]
        }
      ]
    },
    {
      "cell_type": "code",
      "source": [
        "!ls /content/drive/MyDrive/KKNV"
      ],
      "metadata": {
        "colab": {
          "base_uri": "https://localhost:8080/"
        },
        "id": "5zZW_4I4NS1u",
        "outputId": "e4293842-1ef9-4fab-c96f-5b91f581a420"
      },
      "execution_count": 6,
      "outputs": [
        {
          "output_type": "stream",
          "name": "stdout",
          "text": [
            " 11a5490b-0e2d-4fd7-b54e-e2ebd0a72df6.zip  'Pilot reading task.gsheet'\n",
            " behaviorals\t\t\t\t    protocols\n",
            " comorbidity\t\t\t\t    Query1.csv\n",
            " data26.02.2024.csv\t\t\t   'Query 1.Dot values.csv'\n",
            " iq_overview.csv\t\t\t    Query2.csv\n",
            " iq_overview.gsheet\t\t\t   'Query 2.Dot values.csv'\n",
            " old\t\t\t\t\t    Query_final.csv\n",
            " Pheno.csv\t\t\t\t    sites.csv\n",
            " pheno_mri.csv\t\t\t\t    tasks\n",
            " Pilot.csv\t\t\t\t    Temporal_Frequency_Staircase_V3_gamified_L2R_Ilia.eve\n"
          ]
        }
      ]
    },
    {
      "cell_type": "markdown",
      "source": [
        "## Pipeline to make the data convinient to use"
      ],
      "metadata": {
        "id": "nLkYOzzUGnRy"
      }
    },
    {
      "cell_type": "markdown",
      "source": [
        "Here we are going to work on the database from the 2nd query where all of the visits are combined within their original identifier."
      ],
      "metadata": {
        "id": "D2gWtrKvyMr-"
      }
    },
    {
      "cell_type": "code",
      "source": [
        "# our dataset\n",
        "data = pd.read_csv(\n",
        "    working_path.joinpath('data26.02.2024.csv'),\n",
        "    index_col=None,\n",
        "    low_memory=False\n",
        ")"
      ],
      "metadata": {
        "id": "V4z2UsT-zTlp"
      },
      "execution_count": 7,
      "outputs": []
    },
    {
      "cell_type": "code",
      "source": [
        "data.shape"
      ],
      "metadata": {
        "id": "Y_RRV98FUjpE",
        "outputId": "95241cc1-d64b-4603-d145-5eacd6270dec",
        "colab": {
          "base_uri": "https://localhost:8080/"
        }
      },
      "execution_count": 8,
      "outputs": [
        {
          "output_type": "execute_result",
          "data": {
            "text/plain": [
              "(6689, 572)"
            ]
          },
          "metadata": {},
          "execution_count": 8
        }
      ]
    },
    {
      "cell_type": "code",
      "source": [
        "ids = data.Identifiers.values\n",
        "new_ids = []\n",
        "for i in ids:\n",
        "  new_i = i.replace(',assessment', '')\n",
        "  new_ids.append(new_i)\n",
        "print(len(ids))\n",
        "print(len(new_ids))\n",
        "\n",
        "data['Identifiers'] = new_ids"
      ],
      "metadata": {
        "id": "jjGb6Cr0HxgJ",
        "outputId": "61142ec9-274c-4d88-fec0-1b88da098321",
        "colab": {
          "base_uri": "https://localhost:8080/"
        }
      },
      "execution_count": 9,
      "outputs": [
        {
          "output_type": "stream",
          "name": "stdout",
          "text": [
            "6689\n",
            "6689\n"
          ]
        }
      ]
    },
    {
      "cell_type": "code",
      "source": [
        "data = data.drop(labels=0, axis=0)"
      ],
      "metadata": {
        "id": "guq6tU-bH1Z6"
      },
      "execution_count": 10,
      "outputs": []
    },
    {
      "cell_type": "code",
      "source": [
        "data.head()"
      ],
      "metadata": {
        "id": "G_UNZ36Kntli",
        "outputId": "257e5374-4225-4875-ce89-204f798ae59a",
        "colab": {
          "base_uri": "https://localhost:8080/",
          "height": 0
        }
      },
      "execution_count": 11,
      "outputs": [
        {
          "output_type": "execute_result",
          "data": {
            "text/plain": [
              "    Identifiers AUDIT,AUDIT_Total_Score Audit,AUDIT_Total_Score  \\\n",
              "1  NDARAA075AMK                       .                       .   \n",
              "2  NDARAA112DMH                       .                       .   \n",
              "3  NDARAA117NEJ                       .                       .   \n",
              "4  NDARAA306NT2                       0                       0   \n",
              "5  NDARAA358BPN                       .                       .   \n",
              "\n",
              "  Barratt,Barratt_Total Barratt,Barratt_Total_Edu Barratt,Barratt_Total_Occ  \\\n",
              "1                  58.5                        21                      37.5   \n",
              "2                  37.5                        15                      22.5   \n",
              "3                  12.5                       7.5                         5   \n",
              "4                    33                        18                        15   \n",
              "5                     .                         .                         .   \n",
              "\n",
              "  Basic_Demos,Age Basic_Demos,EID Basic_Demos,Patient_ID Basic_Demos,Sex  ...  \\\n",
              "1         6.72804    NDARAA075AMK           NDARAA075AMK               1  ...   \n",
              "2        5.545744    NDARAA112DMH           NDARAA112DMH               0  ...   \n",
              "3        7.475929    NDARAA117NEJ           NDARAA117NEJ               0  ...   \n",
              "4       21.216746    NDARAA306NT2           NDARAA306NT2               1  ...   \n",
              "5       11.853296    NDARAA358BPN           NDARAA358BPN               0  ...   \n",
              "\n",
              "  WISC_Remote,WISC_VCI_Percentile WISC_Remote,WISC_VCI_Sum  \\\n",
              "1                               .                        .   \n",
              "2                               .                        .   \n",
              "3                               .                        .   \n",
              "4                               .                        .   \n",
              "5                               .                        .   \n",
              "\n",
              "  WISC_Remote,WISC_VP_Raw WISC_Remote,WISC_VP_Scaled  \\\n",
              "1                       .                          .   \n",
              "2                       .                          .   \n",
              "3                       .                          .   \n",
              "4                       .                          .   \n",
              "5                       .                          .   \n",
              "\n",
              "  WISC_Remote,WISC_Vocab_Raw WISC_Remote,WISC_Vocab_Scaled  \\\n",
              "1                          .                             .   \n",
              "2                          .                             .   \n",
              "3                          .                             .   \n",
              "4                          .                             .   \n",
              "5                          .                             .   \n",
              "\n",
              "  WISC_Remote,WISC_WMI WISC_Remote,WISC_WMI_Percentile  \\\n",
              "1                    .                               .   \n",
              "2                    .                               .   \n",
              "3                    .                               .   \n",
              "4                    .                               .   \n",
              "5                    .                               .   \n",
              "\n",
              "  WISC_Remote,WISC_WMI_Sum WISC_Remote,WISC_complete  \n",
              "1                        .                         .  \n",
              "2                        .                         .  \n",
              "3                        .                         .  \n",
              "4                        .                         .  \n",
              "5                        .                         .  \n",
              "\n",
              "[5 rows x 572 columns]"
            ],
            "text/html": [
              "\n",
              "  <div id=\"df-c7717ce7-6163-486f-8c31-66504c6a11e5\" class=\"colab-df-container\">\n",
              "    <div>\n",
              "<style scoped>\n",
              "    .dataframe tbody tr th:only-of-type {\n",
              "        vertical-align: middle;\n",
              "    }\n",
              "\n",
              "    .dataframe tbody tr th {\n",
              "        vertical-align: top;\n",
              "    }\n",
              "\n",
              "    .dataframe thead th {\n",
              "        text-align: right;\n",
              "    }\n",
              "</style>\n",
              "<table border=\"1\" class=\"dataframe\">\n",
              "  <thead>\n",
              "    <tr style=\"text-align: right;\">\n",
              "      <th></th>\n",
              "      <th>Identifiers</th>\n",
              "      <th>AUDIT,AUDIT_Total_Score</th>\n",
              "      <th>Audit,AUDIT_Total_Score</th>\n",
              "      <th>Barratt,Barratt_Total</th>\n",
              "      <th>Barratt,Barratt_Total_Edu</th>\n",
              "      <th>Barratt,Barratt_Total_Occ</th>\n",
              "      <th>Basic_Demos,Age</th>\n",
              "      <th>Basic_Demos,EID</th>\n",
              "      <th>Basic_Demos,Patient_ID</th>\n",
              "      <th>Basic_Demos,Sex</th>\n",
              "      <th>...</th>\n",
              "      <th>WISC_Remote,WISC_VCI_Percentile</th>\n",
              "      <th>WISC_Remote,WISC_VCI_Sum</th>\n",
              "      <th>WISC_Remote,WISC_VP_Raw</th>\n",
              "      <th>WISC_Remote,WISC_VP_Scaled</th>\n",
              "      <th>WISC_Remote,WISC_Vocab_Raw</th>\n",
              "      <th>WISC_Remote,WISC_Vocab_Scaled</th>\n",
              "      <th>WISC_Remote,WISC_WMI</th>\n",
              "      <th>WISC_Remote,WISC_WMI_Percentile</th>\n",
              "      <th>WISC_Remote,WISC_WMI_Sum</th>\n",
              "      <th>WISC_Remote,WISC_complete</th>\n",
              "    </tr>\n",
              "  </thead>\n",
              "  <tbody>\n",
              "    <tr>\n",
              "      <th>1</th>\n",
              "      <td>NDARAA075AMK</td>\n",
              "      <td>.</td>\n",
              "      <td>.</td>\n",
              "      <td>58.5</td>\n",
              "      <td>21</td>\n",
              "      <td>37.5</td>\n",
              "      <td>6.72804</td>\n",
              "      <td>NDARAA075AMK</td>\n",
              "      <td>NDARAA075AMK</td>\n",
              "      <td>1</td>\n",
              "      <td>...</td>\n",
              "      <td>.</td>\n",
              "      <td>.</td>\n",
              "      <td>.</td>\n",
              "      <td>.</td>\n",
              "      <td>.</td>\n",
              "      <td>.</td>\n",
              "      <td>.</td>\n",
              "      <td>.</td>\n",
              "      <td>.</td>\n",
              "      <td>.</td>\n",
              "    </tr>\n",
              "    <tr>\n",
              "      <th>2</th>\n",
              "      <td>NDARAA112DMH</td>\n",
              "      <td>.</td>\n",
              "      <td>.</td>\n",
              "      <td>37.5</td>\n",
              "      <td>15</td>\n",
              "      <td>22.5</td>\n",
              "      <td>5.545744</td>\n",
              "      <td>NDARAA112DMH</td>\n",
              "      <td>NDARAA112DMH</td>\n",
              "      <td>0</td>\n",
              "      <td>...</td>\n",
              "      <td>.</td>\n",
              "      <td>.</td>\n",
              "      <td>.</td>\n",
              "      <td>.</td>\n",
              "      <td>.</td>\n",
              "      <td>.</td>\n",
              "      <td>.</td>\n",
              "      <td>.</td>\n",
              "      <td>.</td>\n",
              "      <td>.</td>\n",
              "    </tr>\n",
              "    <tr>\n",
              "      <th>3</th>\n",
              "      <td>NDARAA117NEJ</td>\n",
              "      <td>.</td>\n",
              "      <td>.</td>\n",
              "      <td>12.5</td>\n",
              "      <td>7.5</td>\n",
              "      <td>5</td>\n",
              "      <td>7.475929</td>\n",
              "      <td>NDARAA117NEJ</td>\n",
              "      <td>NDARAA117NEJ</td>\n",
              "      <td>0</td>\n",
              "      <td>...</td>\n",
              "      <td>.</td>\n",
              "      <td>.</td>\n",
              "      <td>.</td>\n",
              "      <td>.</td>\n",
              "      <td>.</td>\n",
              "      <td>.</td>\n",
              "      <td>.</td>\n",
              "      <td>.</td>\n",
              "      <td>.</td>\n",
              "      <td>.</td>\n",
              "    </tr>\n",
              "    <tr>\n",
              "      <th>4</th>\n",
              "      <td>NDARAA306NT2</td>\n",
              "      <td>0</td>\n",
              "      <td>0</td>\n",
              "      <td>33</td>\n",
              "      <td>18</td>\n",
              "      <td>15</td>\n",
              "      <td>21.216746</td>\n",
              "      <td>NDARAA306NT2</td>\n",
              "      <td>NDARAA306NT2</td>\n",
              "      <td>1</td>\n",
              "      <td>...</td>\n",
              "      <td>.</td>\n",
              "      <td>.</td>\n",
              "      <td>.</td>\n",
              "      <td>.</td>\n",
              "      <td>.</td>\n",
              "      <td>.</td>\n",
              "      <td>.</td>\n",
              "      <td>.</td>\n",
              "      <td>.</td>\n",
              "      <td>.</td>\n",
              "    </tr>\n",
              "    <tr>\n",
              "      <th>5</th>\n",
              "      <td>NDARAA358BPN</td>\n",
              "      <td>.</td>\n",
              "      <td>.</td>\n",
              "      <td>.</td>\n",
              "      <td>.</td>\n",
              "      <td>.</td>\n",
              "      <td>11.853296</td>\n",
              "      <td>NDARAA358BPN</td>\n",
              "      <td>NDARAA358BPN</td>\n",
              "      <td>0</td>\n",
              "      <td>...</td>\n",
              "      <td>.</td>\n",
              "      <td>.</td>\n",
              "      <td>.</td>\n",
              "      <td>.</td>\n",
              "      <td>.</td>\n",
              "      <td>.</td>\n",
              "      <td>.</td>\n",
              "      <td>.</td>\n",
              "      <td>.</td>\n",
              "      <td>.</td>\n",
              "    </tr>\n",
              "  </tbody>\n",
              "</table>\n",
              "<p>5 rows × 572 columns</p>\n",
              "</div>\n",
              "    <div class=\"colab-df-buttons\">\n",
              "\n",
              "  <div class=\"colab-df-container\">\n",
              "    <button class=\"colab-df-convert\" onclick=\"convertToInteractive('df-c7717ce7-6163-486f-8c31-66504c6a11e5')\"\n",
              "            title=\"Convert this dataframe to an interactive table.\"\n",
              "            style=\"display:none;\">\n",
              "\n",
              "  <svg xmlns=\"http://www.w3.org/2000/svg\" height=\"24px\" viewBox=\"0 -960 960 960\">\n",
              "    <path d=\"M120-120v-720h720v720H120Zm60-500h600v-160H180v160Zm220 220h160v-160H400v160Zm0 220h160v-160H400v160ZM180-400h160v-160H180v160Zm440 0h160v-160H620v160ZM180-180h160v-160H180v160Zm440 0h160v-160H620v160Z\"/>\n",
              "  </svg>\n",
              "    </button>\n",
              "\n",
              "  <style>\n",
              "    .colab-df-container {\n",
              "      display:flex;\n",
              "      gap: 12px;\n",
              "    }\n",
              "\n",
              "    .colab-df-convert {\n",
              "      background-color: #E8F0FE;\n",
              "      border: none;\n",
              "      border-radius: 50%;\n",
              "      cursor: pointer;\n",
              "      display: none;\n",
              "      fill: #1967D2;\n",
              "      height: 32px;\n",
              "      padding: 0 0 0 0;\n",
              "      width: 32px;\n",
              "    }\n",
              "\n",
              "    .colab-df-convert:hover {\n",
              "      background-color: #E2EBFA;\n",
              "      box-shadow: 0px 1px 2px rgba(60, 64, 67, 0.3), 0px 1px 3px 1px rgba(60, 64, 67, 0.15);\n",
              "      fill: #174EA6;\n",
              "    }\n",
              "\n",
              "    .colab-df-buttons div {\n",
              "      margin-bottom: 4px;\n",
              "    }\n",
              "\n",
              "    [theme=dark] .colab-df-convert {\n",
              "      background-color: #3B4455;\n",
              "      fill: #D2E3FC;\n",
              "    }\n",
              "\n",
              "    [theme=dark] .colab-df-convert:hover {\n",
              "      background-color: #434B5C;\n",
              "      box-shadow: 0px 1px 3px 1px rgba(0, 0, 0, 0.15);\n",
              "      filter: drop-shadow(0px 1px 2px rgba(0, 0, 0, 0.3));\n",
              "      fill: #FFFFFF;\n",
              "    }\n",
              "  </style>\n",
              "\n",
              "    <script>\n",
              "      const buttonEl =\n",
              "        document.querySelector('#df-c7717ce7-6163-486f-8c31-66504c6a11e5 button.colab-df-convert');\n",
              "      buttonEl.style.display =\n",
              "        google.colab.kernel.accessAllowed ? 'block' : 'none';\n",
              "\n",
              "      async function convertToInteractive(key) {\n",
              "        const element = document.querySelector('#df-c7717ce7-6163-486f-8c31-66504c6a11e5');\n",
              "        const dataTable =\n",
              "          await google.colab.kernel.invokeFunction('convertToInteractive',\n",
              "                                                    [key], {});\n",
              "        if (!dataTable) return;\n",
              "\n",
              "        const docLinkHtml = 'Like what you see? Visit the ' +\n",
              "          '<a target=\"_blank\" href=https://colab.research.google.com/notebooks/data_table.ipynb>data table notebook</a>'\n",
              "          + ' to learn more about interactive tables.';\n",
              "        element.innerHTML = '';\n",
              "        dataTable['output_type'] = 'display_data';\n",
              "        await google.colab.output.renderOutput(dataTable, element);\n",
              "        const docLink = document.createElement('div');\n",
              "        docLink.innerHTML = docLinkHtml;\n",
              "        element.appendChild(docLink);\n",
              "      }\n",
              "    </script>\n",
              "  </div>\n",
              "\n",
              "\n",
              "<div id=\"df-11a54865-4994-4a65-b9d7-0a511a473cd4\">\n",
              "  <button class=\"colab-df-quickchart\" onclick=\"quickchart('df-11a54865-4994-4a65-b9d7-0a511a473cd4')\"\n",
              "            title=\"Suggest charts\"\n",
              "            style=\"display:none;\">\n",
              "\n",
              "<svg xmlns=\"http://www.w3.org/2000/svg\" height=\"24px\"viewBox=\"0 0 24 24\"\n",
              "     width=\"24px\">\n",
              "    <g>\n",
              "        <path d=\"M19 3H5c-1.1 0-2 .9-2 2v14c0 1.1.9 2 2 2h14c1.1 0 2-.9 2-2V5c0-1.1-.9-2-2-2zM9 17H7v-7h2v7zm4 0h-2V7h2v10zm4 0h-2v-4h2v4z\"/>\n",
              "    </g>\n",
              "</svg>\n",
              "  </button>\n",
              "\n",
              "<style>\n",
              "  .colab-df-quickchart {\n",
              "      --bg-color: #E8F0FE;\n",
              "      --fill-color: #1967D2;\n",
              "      --hover-bg-color: #E2EBFA;\n",
              "      --hover-fill-color: #174EA6;\n",
              "      --disabled-fill-color: #AAA;\n",
              "      --disabled-bg-color: #DDD;\n",
              "  }\n",
              "\n",
              "  [theme=dark] .colab-df-quickchart {\n",
              "      --bg-color: #3B4455;\n",
              "      --fill-color: #D2E3FC;\n",
              "      --hover-bg-color: #434B5C;\n",
              "      --hover-fill-color: #FFFFFF;\n",
              "      --disabled-bg-color: #3B4455;\n",
              "      --disabled-fill-color: #666;\n",
              "  }\n",
              "\n",
              "  .colab-df-quickchart {\n",
              "    background-color: var(--bg-color);\n",
              "    border: none;\n",
              "    border-radius: 50%;\n",
              "    cursor: pointer;\n",
              "    display: none;\n",
              "    fill: var(--fill-color);\n",
              "    height: 32px;\n",
              "    padding: 0;\n",
              "    width: 32px;\n",
              "  }\n",
              "\n",
              "  .colab-df-quickchart:hover {\n",
              "    background-color: var(--hover-bg-color);\n",
              "    box-shadow: 0 1px 2px rgba(60, 64, 67, 0.3), 0 1px 3px 1px rgba(60, 64, 67, 0.15);\n",
              "    fill: var(--button-hover-fill-color);\n",
              "  }\n",
              "\n",
              "  .colab-df-quickchart-complete:disabled,\n",
              "  .colab-df-quickchart-complete:disabled:hover {\n",
              "    background-color: var(--disabled-bg-color);\n",
              "    fill: var(--disabled-fill-color);\n",
              "    box-shadow: none;\n",
              "  }\n",
              "\n",
              "  .colab-df-spinner {\n",
              "    border: 2px solid var(--fill-color);\n",
              "    border-color: transparent;\n",
              "    border-bottom-color: var(--fill-color);\n",
              "    animation:\n",
              "      spin 1s steps(1) infinite;\n",
              "  }\n",
              "\n",
              "  @keyframes spin {\n",
              "    0% {\n",
              "      border-color: transparent;\n",
              "      border-bottom-color: var(--fill-color);\n",
              "      border-left-color: var(--fill-color);\n",
              "    }\n",
              "    20% {\n",
              "      border-color: transparent;\n",
              "      border-left-color: var(--fill-color);\n",
              "      border-top-color: var(--fill-color);\n",
              "    }\n",
              "    30% {\n",
              "      border-color: transparent;\n",
              "      border-left-color: var(--fill-color);\n",
              "      border-top-color: var(--fill-color);\n",
              "      border-right-color: var(--fill-color);\n",
              "    }\n",
              "    40% {\n",
              "      border-color: transparent;\n",
              "      border-right-color: var(--fill-color);\n",
              "      border-top-color: var(--fill-color);\n",
              "    }\n",
              "    60% {\n",
              "      border-color: transparent;\n",
              "      border-right-color: var(--fill-color);\n",
              "    }\n",
              "    80% {\n",
              "      border-color: transparent;\n",
              "      border-right-color: var(--fill-color);\n",
              "      border-bottom-color: var(--fill-color);\n",
              "    }\n",
              "    90% {\n",
              "      border-color: transparent;\n",
              "      border-bottom-color: var(--fill-color);\n",
              "    }\n",
              "  }\n",
              "</style>\n",
              "\n",
              "  <script>\n",
              "    async function quickchart(key) {\n",
              "      const quickchartButtonEl =\n",
              "        document.querySelector('#' + key + ' button');\n",
              "      quickchartButtonEl.disabled = true;  // To prevent multiple clicks.\n",
              "      quickchartButtonEl.classList.add('colab-df-spinner');\n",
              "      try {\n",
              "        const charts = await google.colab.kernel.invokeFunction(\n",
              "            'suggestCharts', [key], {});\n",
              "      } catch (error) {\n",
              "        console.error('Error during call to suggestCharts:', error);\n",
              "      }\n",
              "      quickchartButtonEl.classList.remove('colab-df-spinner');\n",
              "      quickchartButtonEl.classList.add('colab-df-quickchart-complete');\n",
              "    }\n",
              "    (() => {\n",
              "      let quickchartButtonEl =\n",
              "        document.querySelector('#df-11a54865-4994-4a65-b9d7-0a511a473cd4 button');\n",
              "      quickchartButtonEl.style.display =\n",
              "        google.colab.kernel.accessAllowed ? 'block' : 'none';\n",
              "    })();\n",
              "  </script>\n",
              "</div>\n",
              "    </div>\n",
              "  </div>\n"
            ],
            "application/vnd.google.colaboratory.intrinsic+json": {
              "type": "dataframe",
              "variable_name": "data"
            }
          },
          "metadata": {},
          "execution_count": 11
        }
      ]
    },
    {
      "cell_type": "code",
      "source": [
        "versions = []\n",
        "for i in data.Identifiers.values.tolist():\n",
        "  if '_' in i:\n",
        "    versions.append(i)\n",
        "print(len(versions))"
      ],
      "metadata": {
        "id": "jiE0_9kVIeRS",
        "outputId": "201768ce-b7c4-4660-eb54-e852a80cc2f9",
        "colab": {
          "base_uri": "https://localhost:8080/"
        }
      },
      "execution_count": 12,
      "outputs": [
        {
          "output_type": "stream",
          "name": "stdout",
          "text": [
            "1819\n"
          ]
        }
      ]
    },
    {
      "cell_type": "code",
      "source": [
        "columns = data.columns\n",
        "i = 0\n",
        "for id in versions:\n",
        "  values = data[data['Identifiers'] == id].values.tolist()\n",
        "  while len(values) == 1:\n",
        "    values = values[0]\n",
        "  for value in values[1:]:\n",
        "    if value != '.':\n",
        "      if type(value) == str:\n",
        "        column_number = values.index(value)\n",
        "        row_number = data[data['Identifiers'] == id[:12]].index[0]\n",
        "        data.at[row_number, columns[column_number]] = value\n",
        "      elif type(value) != str and math.isnan(value) is not True:\n",
        "        column_number = values.index(value)\n",
        "        row_number = data[data['Identifiers'] == id[:12]].index[0]\n",
        "        data.at[row_number, columns[column_number]] = value\n",
        "      else:\n",
        "        if math.isnan(value) is not True:\n",
        "          print(value, type(value))\n",
        "  i += 1\n",
        "print(i)"
      ],
      "metadata": {
        "id": "i4bFXlFQH1cX",
        "outputId": "6089a258-fa77-43b2-baa9-40b519f6add5",
        "colab": {
          "base_uri": "https://localhost:8080/"
        }
      },
      "execution_count": 13,
      "outputs": [
        {
          "output_type": "stream",
          "name": "stdout",
          "text": [
            "1819\n"
          ]
        }
      ]
    },
    {
      "cell_type": "code",
      "source": [
        "for id in versions:\n",
        "  data = data[data['Identifiers'] != id]\n",
        "data.shape"
      ],
      "metadata": {
        "id": "dCCDlIDLH_HE",
        "outputId": "047b491d-9d5c-474e-8d94-bf96b46fe315",
        "colab": {
          "base_uri": "https://localhost:8080/"
        }
      },
      "execution_count": 14,
      "outputs": [
        {
          "output_type": "execute_result",
          "data": {
            "text/plain": [
              "(4869, 572)"
            ]
          },
          "metadata": {},
          "execution_count": 14
        }
      ]
    },
    {
      "cell_type": "code",
      "source": [
        "data.columns"
      ],
      "metadata": {
        "id": "voTcJ9yprtqv",
        "outputId": "6eafd3a9-7359-4110-bffe-5d5b107d1b62",
        "colab": {
          "base_uri": "https://localhost:8080/"
        }
      },
      "execution_count": 15,
      "outputs": [
        {
          "output_type": "execute_result",
          "data": {
            "text/plain": [
              "Index(['Identifiers', 'AUDIT,AUDIT_Total_Score', 'Audit,AUDIT_Total_Score',\n",
              "       'Barratt,Barratt_Total', 'Barratt,Barratt_Total_Edu',\n",
              "       'Barratt,Barratt_Total_Occ', 'Basic_Demos,Age', 'Basic_Demos,EID',\n",
              "       'Basic_Demos,Patient_ID', 'Basic_Demos,Sex',\n",
              "       ...\n",
              "       'WISC_Remote,WISC_VCI_Percentile', 'WISC_Remote,WISC_VCI_Sum',\n",
              "       'WISC_Remote,WISC_VP_Raw', 'WISC_Remote,WISC_VP_Scaled',\n",
              "       'WISC_Remote,WISC_Vocab_Raw', 'WISC_Remote,WISC_Vocab_Scaled',\n",
              "       'WISC_Remote,WISC_WMI', 'WISC_Remote,WISC_WMI_Percentile',\n",
              "       'WISC_Remote,WISC_WMI_Sum', 'WISC_Remote,WISC_complete'],\n",
              "      dtype='object', length=572)"
            ]
          },
          "metadata": {},
          "execution_count": 15
        }
      ]
    },
    {
      "cell_type": "code",
      "source": [
        "# weird subject that doesn't have any data in\n",
        "data = data[data['Identifiers'] != 'NDARXP325YLV']"
      ],
      "metadata": {
        "id": "lp7OR10yJM0V"
      },
      "execution_count": 16,
      "outputs": []
    },
    {
      "cell_type": "code",
      "source": [
        "data.columns[:50]"
      ],
      "metadata": {
        "id": "xINZ9Im8PSn4",
        "outputId": "5360fd8a-40bf-4e58-be19-99ab7989f013",
        "colab": {
          "base_uri": "https://localhost:8080/"
        }
      },
      "execution_count": 17,
      "outputs": [
        {
          "output_type": "execute_result",
          "data": {
            "text/plain": [
              "Index(['Identifiers', 'AUDIT,AUDIT_Total_Score', 'Audit,AUDIT_Total_Score',\n",
              "       'Barratt,Barratt_Total', 'Barratt,Barratt_Total_Edu',\n",
              "       'Barratt,Barratt_Total_Occ', 'Basic_Demos,Age', 'Basic_Demos,EID',\n",
              "       'Basic_Demos,Patient_ID', 'Basic_Demos,Sex', 'Basic_Demos,Site',\n",
              "       'Basic_Demos,Study_Site', 'CELF,CELF_Complete', 'CELF,CELF_Total',\n",
              "       'CELF5_Meta,CLEF5M_CS_Rank', 'CELF5_Meta,CLEF5M_CS_Raw',\n",
              "       'CELF5_Meta,CLEF5M_CS_Scale', 'CELF5_Meta,CLEF5M_FL_Rank',\n",
              "       'CELF5_Meta,CLEF5M_FL_Raw', 'CELF5_Meta,CLEF5M_FL_Scale',\n",
              "       'CELF5_Meta,CLEF5M_MI_Rank', 'CELF5_Meta,CLEF5M_MI_Raw',\n",
              "       'CELF5_Meta,CLEF5M_MI_S', 'CELF5_Meta,CLEF5M_MM_Rank',\n",
              "       'CELF5_Meta,CLEF5M_MM_Raw', 'CELF5_Meta,CLEF5M_MM_Scale',\n",
              "       'CELF5_Meta,CLEF5M_MPI_Rank', 'CELF5_Meta,CLEF5M_MPI_Stnd',\n",
              "       'CELF5_Meta,CLEF5M_MPI_Sum', 'CELF5_Meta,CLEF5M_MSI_Rank',\n",
              "       'CELF5_Meta,CLEF5M_MSI_Stnd', 'CELF5_Meta,CLEF5M_MSI_Sum',\n",
              "       'CELF5_Meta,CLEF5M_TMI_Rank', 'CELF5_Meta,CLEF5M_TMI_Stnd',\n",
              "       'CELF5_Meta,CLEF5M_TMI_Sum', 'CELF_Full_5to8,CELF_CLS_P',\n",
              "       'CELF_Full_5to8,CELF_CLS_Stnd', 'CELF_Full_5to8,CELF_Complete',\n",
              "       'CELF_Full_5to8,CELF_ELI_P', 'CELF_Full_5to8,CELF_ELI_Stnd',\n",
              "       'CELF_Full_5to8,CELF_FD_P', 'CELF_Full_5to8,CELF_FD_R',\n",
              "       'CELF_Full_5to8,CELF_FD_S', 'CELF_Full_5to8,CELF_FS_P',\n",
              "       'CELF_Full_5to8,CELF_FS_R', 'CELF_Full_5to8,CELF_FS_S',\n",
              "       'CELF_Full_5to8,CELF_Inc_Reason', 'CELF_Full_5to8,CELF_Invalid_Reason',\n",
              "       'CELF_Full_5to8,CELF_LCI_P', 'CELF_Full_5to8,CELF_LCI_Stnd'],\n",
              "      dtype='object')"
            ]
          },
          "metadata": {},
          "execution_count": 17
        }
      ]
    },
    {
      "cell_type": "code",
      "source": [
        "data = data.rename(columns={'Basic_Demos,Study_Site':'Site'})"
      ],
      "metadata": {
        "id": "ECbe8adWPUsW"
      },
      "execution_count": 18,
      "outputs": []
    },
    {
      "cell_type": "markdown",
      "source": [
        "Let's now work on individual columns to make them more convinient for screening"
      ],
      "metadata": {
        "id": "6Sq56HJ0GBBF"
      }
    },
    {
      "cell_type": "code",
      "source": [
        "# work on Age column\n",
        "data['Basic_Demos,Age'] = data['Basic_Demos,Age'].astype(float)"
      ],
      "metadata": {
        "id": "Fsbq32NVOUbG"
      },
      "execution_count": 19,
      "outputs": []
    },
    {
      "cell_type": "code",
      "source": [
        "# work on Sex column\n",
        "data['Basic_Demos,Sex'] = data['Basic_Demos,Sex'].astype(int)"
      ],
      "metadata": {
        "id": "3xJBdz9Bfg2t"
      },
      "execution_count": 20,
      "outputs": []
    },
    {
      "cell_type": "code",
      "source": [
        "# work on Site column\n",
        "data['Site'] = data['Site'].astype(int)\n",
        "data.drop(['Basic_Demos,Site'], axis=1, inplace=True)"
      ],
      "metadata": {
        "id": "87ptehgEfsu_"
      },
      "execution_count": 21,
      "outputs": []
    },
    {
      "cell_type": "code",
      "source": [
        "data['Diagnosis_ClinicianConsensus,DX_01'] = data['Diagnosis_ClinicianConsensus,DX_01'].fillna('.')\n",
        "data['Diagnosis_ClinicianConsensus,DX_02'] = data['Diagnosis_ClinicianConsensus,DX_02'].fillna('.')\n",
        "data['Diagnosis_ClinicianConsensus,DX_03'] = data['Diagnosis_ClinicianConsensus,DX_03'].fillna('.')\n",
        "data['Diagnosis_ClinicianConsensus,DX_04'] = data['Diagnosis_ClinicianConsensus,DX_04'].fillna('.')\n",
        "data['Diagnosis_ClinicianConsensus,DX_05'] = data['Diagnosis_ClinicianConsensus,DX_05'].fillna('.')\n",
        "data['Diagnosis_ClinicianConsensus,DX_06'] = data['Diagnosis_ClinicianConsensus,DX_06'].fillna('.')\n",
        "data['Diagnosis_ClinicianConsensus,DX_07'] = data['Diagnosis_ClinicianConsensus,DX_07'].fillna('.')\n",
        "data['Diagnosis_ClinicianConsensus,DX_08'] = data['Diagnosis_ClinicianConsensus,DX_08'].fillna('.')\n",
        "data['Diagnosis_ClinicianConsensus,DX_09'] = data['Diagnosis_ClinicianConsensus,DX_09'].fillna('.')\n",
        "data['Diagnosis_ClinicianConsensus,DX_10'] = data['Diagnosis_ClinicianConsensus,DX_10'].fillna('.')"
      ],
      "metadata": {
        "id": "9sdk9Fi1J0be"
      },
      "execution_count": 22,
      "outputs": []
    },
    {
      "cell_type": "code",
      "source": [
        "# work on Diagnosis column\n",
        "# looks like a dot could be no diagnosis as it seems to be consistent across the columns\n",
        "# there are also nan values in confirmed column\n",
        "# throw away this 'No Diagnosis Given: Incomplete Eval'\n",
        "# give 0 to these 'No Diagnosis Given'\n",
        "def diagnosis(df, number):\n",
        "  name_diag = 'Diagnosis_ClinicianConsensus,DX_0' + str(number)\n",
        "  name_conf = 'Diagnosis_ClinicianConsensus,DX_0' + str(number) + '_Confirmed'\n",
        "  diagnosis = df[name_diag].values\n",
        "  confirmed = df[name_conf].values\n",
        "\n",
        "  dyslexia = []\n",
        "  new_diagnosis = []\n",
        "  for i in range(0, df.shape[0]):\n",
        "    # if it's '.', ' ' value or incomplete eval\n",
        "    if diagnosis[i] == '.' or diagnosis[i] == ' ':\n",
        "      dyslexia.append('.')\n",
        "      new_diagnosis.append('.')\n",
        "    elif  'Incomplete' in diagnosis[i]:\n",
        "      dyslexia.append('Incomplete')\n",
        "      new_diagnosis.append('Incomplete')\n",
        "    # if it is no diagnisis given\n",
        "    elif diagnosis[i] == 'No Diagnosis Given':\n",
        "      dyslexia.append('Control')\n",
        "      new_diagnosis.append('Control')\n",
        "    # if it's SLD\n",
        "    elif 'Specific Learning Disorder with' in diagnosis[i]:\n",
        "      if confirmed[i] != '0':\n",
        "        dyslexia.append('dys')\n",
        "        new_diagnosis.append(diagnosis[i])\n",
        "      elif confirmed[i] == '0':\n",
        "        dyslexia.append(0)\n",
        "        new_diagnosis.append(0)\n",
        "    # if some other diagnosis\n",
        "    else:\n",
        "      if confirmed[i] != '0':\n",
        "        dyslexia.append(0)\n",
        "        new_diagnosis.append(diagnosis[i])\n",
        "      elif confirmed[i] == '0':\n",
        "        dyslexia.append(0)\n",
        "        new_diagnosis.append(0)\n",
        "\n",
        "  return dyslexia, new_diagnosis"
      ],
      "metadata": {
        "id": "QVbnLuo6f3it"
      },
      "execution_count": 23,
      "outputs": []
    },
    {
      "cell_type": "code",
      "source": [
        "# for all data\n",
        "all_diagnosis = {}\n",
        "all_dys = {}\n",
        "for i in range(1, 10):\n",
        "  dyslexia, new_diagnosis = diagnosis(data, i)\n",
        "  all_dys['diag_%s' % i] = dyslexia\n",
        "  all_diagnosis['diag_%s' % i] = new_diagnosis\n",
        "\n",
        "dys_status = []\n",
        "for i in range(0, data.shape[0]):\n",
        "  participant = []\n",
        "  for sublist in all_dys:\n",
        "    subset = all_dys[sublist][i]\n",
        "    participant.append(subset)\n",
        "\n",
        "  if 'Incomplete' in participant:\n",
        "    dys_status.append('Incomplete')\n",
        "  elif 'Control' in participant:\n",
        "    dys_status.append(0)\n",
        "  elif 'dys' in participant:\n",
        "    dys_status.append(1)\n",
        "  else:\n",
        "    dys_status.append(0)\n",
        "\n",
        "all_status = []\n",
        "for i in range(0, data.shape[0]):\n",
        "  participant = []\n",
        "  add = []\n",
        "  for sublist in all_diagnosis:\n",
        "    subset = all_diagnosis[sublist][i]\n",
        "    participant.append(subset)\n",
        "\n",
        "  if 'Incomplete' in participant:\n",
        "    all_status.append('Incomplete')\n",
        "  elif 'Control' in participant:\n",
        "    all_status.append(0)\n",
        "  else:\n",
        "    for each in participant:\n",
        "      if each != '.' and each != 0:\n",
        "        add.append(each)\n",
        "    if len(add) == 0:\n",
        "      if (i == '.' for i in participant):\n",
        "        all_status.append('.')\n",
        "      else:\n",
        "        print(participant)\n",
        "        print(add)\n",
        "        break\n",
        "    elif len(add) == 1:\n",
        "      all_status.append(add[0])\n",
        "    else:\n",
        "      all_status.append(add)"
      ],
      "metadata": {
        "id": "bJNFKETQVhgX"
      },
      "execution_count": 24,
      "outputs": []
    },
    {
      "cell_type": "code",
      "source": [
        "data['DD'] = dys_status\n",
        "data['Diagnosis'] = all_status"
      ],
      "metadata": {
        "id": "XdoRP9DWVizk"
      },
      "execution_count": 25,
      "outputs": []
    },
    {
      "cell_type": "code",
      "source": [
        "for i in range(1,10):\n",
        "  name_diag = 'Diagnosis_ClinicianConsensus,DX_0' + str(i)\n",
        "  name_conf = 'Diagnosis_ClinicianConsensus,DX_0' + str(i) + '_Confirmed'\n",
        "  name_code = 'Diagnosis_ClinicianConsensus,DX_0' + str(i) + '_Code'\n",
        "  data.drop([name_diag], axis=1, inplace=True)\n",
        "  data.drop([name_conf], axis=1, inplace=True)\n",
        "  data.drop([name_code], axis=1, inplace=True)\n",
        "data.drop(['Diagnosis_ClinicianConsensus,DX_10'], axis=1, inplace=True)\n",
        "data.drop(['Diagnosis_ClinicianConsensus,DX_10_Code'], axis=1, inplace=True)\n",
        "data.drop(['Diagnosis_ClinicianConsensus,DX_10_Confirmed'], axis=1, inplace=True)"
      ],
      "metadata": {
        "id": "ULH8IqPOWllD"
      },
      "execution_count": 26,
      "outputs": []
    },
    {
      "cell_type": "code",
      "source": [
        "print('Control subjects')\n",
        "print(data[(data['DD'] == 0) & (data['Diagnosis'] == 0)].shape[0])\n",
        "print('Disorders w/out DD')\n",
        "print(data[(data['DD'] == 0) & (data['Diagnosis'] != 0)].shape[0])\n",
        "print('Disorders w DD')\n",
        "print(data[data['DD'] == 1].shape[0])"
      ],
      "metadata": {
        "id": "95ks0qPKZjZB",
        "outputId": "2b1a3241-8834-4501-987e-ea1225430f49",
        "colab": {
          "base_uri": "https://localhost:8080/"
        }
      },
      "execution_count": 27,
      "outputs": [
        {
          "output_type": "stream",
          "name": "stdout",
          "text": [
            "Control subjects\n",
            "373\n",
            "Disorders w/out DD\n",
            "3320\n",
            "Disorders w DD\n",
            "649\n"
          ]
        }
      ]
    },
    {
      "cell_type": "code",
      "source": [
        "new_diag = []\n",
        "new_dtypes = []\n",
        "diag = data.Diagnosis.values\n",
        "for i in diag:\n",
        "  if i == 0:\n",
        "    new_diag.append(i)\n",
        "    new_dtypes.append(i)\n",
        "  # one diagnosis\n",
        "  elif type(i) == str:\n",
        "    if 'Specific Learning Disorder with Impairment' in i:\n",
        "      new_diag.append('SLD')\n",
        "      if 'Reading' in i:\n",
        "        new_dtypes.append('Reading')\n",
        "      elif 'Written' in i:\n",
        "        new_dtypes.append('Writing')\n",
        "      elif 'Mathematics' in i:\n",
        "        new_dtypes.append('Math')\n",
        "    else:\n",
        "      new_diag.append(i)\n",
        "      new_dtypes.append(0)\n",
        "  # multiple diagnoses\n",
        "  elif type(i) == list:\n",
        "    name_diag = ''\n",
        "    name_dys = ''\n",
        "    for element in i:\n",
        "      if 'Specific Learning Disorder with Impairment' in element:\n",
        "        name_diag = name_diag + 'SLD' + '. '\n",
        "        if 'Reading' in element:\n",
        "          name_dys = name_dys + 'Reading '\n",
        "        elif 'Written' in element:\n",
        "          name_dys = name_dys + 'Writing '\n",
        "        elif 'Mathematics' in element:\n",
        "          name_dys = name_dys + 'Math '\n",
        "      elif type(element) is str:\n",
        "        name_diag = name_diag + element + '.'\n",
        "      else:\n",
        "        print(i)\n",
        "        break\n",
        "    if name_diag == '':\n",
        "      print(i)\n",
        "      break\n",
        "    new_diag.append(name_diag)\n",
        "\n",
        "    if name_dys == '':\n",
        "      new_dtypes.append(0)\n",
        "    else:\n",
        "      new_dtypes.append(name_dys)"
      ],
      "metadata": {
        "id": "9DBzegrJahCQ"
      },
      "execution_count": 28,
      "outputs": []
    },
    {
      "cell_type": "code",
      "source": [
        "data['Diagnosis'] = new_diag\n",
        "data['DD type'] = new_dtypes"
      ],
      "metadata": {
        "id": "3F_wRREne6dT"
      },
      "execution_count": 29,
      "outputs": []
    },
    {
      "cell_type": "code",
      "source": [
        "def meds(df, number):\n",
        "  medname = 'DailyMeds,med_name_0' + str(number)\n",
        "  meds = df[medname].values\n",
        "  new_meds = []\n",
        "\n",
        "  for i in range(0, df.shape[0]):\n",
        "    if meds[i] == '.':\n",
        "      new_meds.append(0)\n",
        "    elif type(meds[i]) == float:\n",
        "      new_meds.append(0)\n",
        "    elif type(meds[i]) == str:\n",
        "      new_meds.append(meds[i])\n",
        "    else:\n",
        "      print(meds[i], i)\n",
        "      break\n",
        "  return new_meds"
      ],
      "metadata": {
        "id": "y3Y8GkTGOOB9"
      },
      "execution_count": 30,
      "outputs": []
    },
    {
      "cell_type": "code",
      "source": [
        "all_meds = {}\n",
        "for i in range(1, 4):\n",
        "  all_meds['med_%s' % i] = meds(data, i)"
      ],
      "metadata": {
        "id": "ufmhhKVvPHDa"
      },
      "execution_count": 31,
      "outputs": []
    },
    {
      "cell_type": "code",
      "source": [
        "meds_in_one = []\n",
        "for i in range(0, data.shape[0]):\n",
        "  participant = []\n",
        "  for sublist in all_meds:\n",
        "    subset = all_meds[sublist][i]\n",
        "    if type(subset) == str:\n",
        "      participant.append(subset)\n",
        "  if len(participant) == 0:\n",
        "    meds_in_one.append(0)\n",
        "  elif len(participant) == 1:\n",
        "    meds_in_one.append(participant[0])\n",
        "  else:\n",
        "    name = ''\n",
        "    for part in participant:\n",
        "      name = name + part + ' '\n",
        "    meds_in_one.append(name)"
      ],
      "metadata": {
        "id": "NdsIsF2yP5xK"
      },
      "execution_count": 32,
      "outputs": []
    },
    {
      "cell_type": "code",
      "source": [
        "data['Medicine'] = meds_in_one"
      ],
      "metadata": {
        "id": "nokonDf4RMXd"
      },
      "execution_count": 33,
      "outputs": []
    },
    {
      "cell_type": "markdown",
      "source": [
        "Working with the DD type columns"
      ],
      "metadata": {
        "id": "49bc1LLWDJZb"
      }
    },
    {
      "cell_type": "code",
      "source": [
        "dd = data['DD type'].values\n",
        "new_dd = []\n",
        "for i in dd:\n",
        "  if i == 'Reading ' or i == 'Reading Reading ':\n",
        "    new_dd.append('Reading')\n",
        "  elif i == 'Reading Writing Math ' or i == 'Reading Math Writing ':\n",
        "    new_dd.append('Reading, Writing, Math')\n",
        "  elif i == 'Reading Math ' or i == 'Reading Math Math ' or i == 'Math Reading Reading ' or i == 'Math Reading ':\n",
        "    new_dd.append('Reading, Math')\n",
        "  elif i == 'Math ':\n",
        "    new_dd.append('Math')\n",
        "  elif i == 'Writing ':\n",
        "    new_dd.append('Writing')\n",
        "  elif i == 'Reading Writing ':\n",
        "    new_dd.append('Reading, Writing')\n",
        "  elif i == 'Math Writing ' or i == 'Writing Math ':\n",
        "    new_dd.append('Writing, Math')\n",
        "  else:\n",
        "    new_dd.append(i)"
      ],
      "metadata": {
        "id": "23OMCV6gDPXr"
      },
      "execution_count": 34,
      "outputs": []
    },
    {
      "cell_type": "code",
      "source": [
        "data['DD type'] = new_dd"
      ],
      "metadata": {
        "id": "QpB_bk5FHXH1"
      },
      "execution_count": 35,
      "outputs": []
    },
    {
      "cell_type": "code",
      "source": [
        "# adding the status of patients to exclude the cases with the diagnosis but w/out DD\n",
        "status = []\n",
        "dd = data['DD'].values\n",
        "diag = data['Diagnosis'].values\n",
        "for i in range(0, data.shape[0]):\n",
        "  if dd[i] == 1:\n",
        "    if diag[i] == 'SLD':\n",
        "      status.append('only DD')\n",
        "    elif 'Autism' in diag[i] or 'Intellectual' in diag[i]:\n",
        "      status.append('DD with autism or intellectual')\n",
        "    else:\n",
        "      status.append('DD with comorbidities')\n",
        "  else:\n",
        "    if diag[i] == 0:\n",
        "      status.append('control')\n",
        "    else:\n",
        "      status.append('without DD')"
      ],
      "metadata": {
        "id": "Aa1-s-AwIsSS"
      },
      "execution_count": 36,
      "outputs": []
    },
    {
      "cell_type": "code",
      "source": [
        "data['Status'] = status"
      ],
      "metadata": {
        "id": "aQhEIZ1HNHRV"
      },
      "execution_count": 37,
      "outputs": []
    },
    {
      "cell_type": "code",
      "source": [
        "# dealing with CTOPP results\n",
        "names = ['CTOPP,CTOPP_BW_D', 'CTOPP,CTOPP_BW_P', 'CTOPP,CTOPP_BW_R',\n",
        "       'CTOPP,CTOPP_BW_S', 'CTOPP,CTOPP_EL_D', 'CTOPP,CTOPP_EL_P',\n",
        "       'CTOPP,CTOPP_EL_R', 'CTOPP,CTOPP_EL_S', 'CTOPP,CTOPP_NR_D',\n",
        "       'CTOPP,CTOPP_NR_P', 'CTOPP,CTOPP_NR_R', 'CTOPP,CTOPP_NR_S',\n",
        "       'CTOPP,CTOPP_RD_D', 'CTOPP,CTOPP_RD_P', 'CTOPP,CTOPP_RD_R',\n",
        "       'CTOPP,CTOPP_RD_S', 'CTOPP,CTOPP_RL_D', 'CTOPP,CTOPP_RL_P',\n",
        "       'CTOPP,CTOPP_RL_R', 'CTOPP,CTOPP_RL_S', 'CTOPP,CTOPP_RO_D',\n",
        "       'CTOPP,CTOPP_RO_P', 'CTOPP,CTOPP_RO_R', 'CTOPP,CTOPP_RO_S',\n",
        "       'CTOPP,CTOPP_RSN_Comp', 'CTOPP,CTOPP_RSN_D', 'CTOPP,CTOPP_RSN_P',\n",
        "       'CTOPP,CTOPP_RSN_Sum']\n",
        "\n",
        "# data full\n",
        "for i in names:\n",
        "  data[i] = data[i].fillna('.')"
      ],
      "metadata": {
        "id": "9vn2kbMRNE4w"
      },
      "execution_count": 38,
      "outputs": []
    },
    {
      "cell_type": "code",
      "source": [
        "ctopp = []\n",
        "ids = data.Identifiers.values.tolist()\n",
        "for id in ids:\n",
        "  subset = data[data['Identifiers'] == id]\n",
        "  tests = []\n",
        "  for name in names:\n",
        "    if subset[name].values[0] == '.':\n",
        "      tests.append(name)\n",
        "  new_tests = ''\n",
        "  if len(tests) == 0:\n",
        "    ctopp.append('full')\n",
        "  elif len(tests) == 28:\n",
        "    ctopp.append('missing')\n",
        "  else:\n",
        "    for test in tests:\n",
        "      new_tests = new_tests + ', ' + test.replace('CTOPP,CTOPP_', '')\n",
        "    ctopp.append(new_tests[2:])\n",
        "data['CTOPP'] = ctopp"
      ],
      "metadata": {
        "id": "G5bqLXgANe9H"
      },
      "execution_count": 39,
      "outputs": []
    },
    {
      "cell_type": "code",
      "source": [
        "diag = data.Diagnosis.values\n",
        "adhd = []\n",
        "for i in diag:\n",
        "  if i == 0:\n",
        "    adhd.append(0)\n",
        "  elif 'ADHD' in i:\n",
        "    if 'ADHD-Inattentive Type' in i:\n",
        "      adhd.append('ADHD-Inattentive Type')\n",
        "    elif 'ADHD-Combined Type' in i:\n",
        "      adhd.append('ADHD-Combined Type')\n",
        "    elif 'ADHD-Hyperactive/Impulsive Type' in i:\n",
        "      adhd.append('ADHD-Hyperactive/Impulsive Type')\n",
        "    elif 'Unspecified Attention-Deficit/Hyperactivity Disorder' in i:\n",
        "      adhd.append('Unspecified ADHD')\n",
        "    elif 'Other Specified Attention-Deficit/Hyperactivity Disorder' in i:\n",
        "      adhd.append('Specified ADHD')\n",
        "  else:\n",
        "    adhd.append(0)"
      ],
      "metadata": {
        "id": "oJpYadSIQQH7"
      },
      "execution_count": 40,
      "outputs": []
    },
    {
      "cell_type": "code",
      "source": [
        "data['ADHD'] = adhd"
      ],
      "metadata": {
        "id": "eGvZSRmyQR97"
      },
      "execution_count": 41,
      "outputs": []
    },
    {
      "cell_type": "markdown",
      "source": [
        "## Exclusion"
      ],
      "metadata": {
        "id": "SKLY8kv0GHLO"
      }
    },
    {
      "cell_type": "code",
      "source": [
        "data_filtered = data.copy() # full"
      ],
      "metadata": {
        "id": "BDavNtBpXy1W"
      },
      "execution_count": 42,
      "outputs": []
    },
    {
      "cell_type": "code",
      "source": [
        "# leaving only right-handed\n",
        "data_filtered = data_filtered[data_filtered['EHQ,EHQ_Total'] != '.']\n",
        "data_filtered['EHQ,EHQ_Total'] = data_filtered['EHQ,EHQ_Total'].astype(float)\n",
        "data_filtered = data_filtered[data_filtered['EHQ,EHQ_Total'] >= 40]"
      ],
      "metadata": {
        "id": "_tWi-3-jWxRg",
        "outputId": "c89ea911-17cd-423c-dc86-4822ce810500",
        "colab": {
          "base_uri": "https://localhost:8080/"
        }
      },
      "execution_count": 43,
      "outputs": [
        {
          "output_type": "stream",
          "name": "stderr",
          "text": [
            "<ipython-input-43-210d3af4d312>:3: SettingWithCopyWarning: \n",
            "A value is trying to be set on a copy of a slice from a DataFrame.\n",
            "Try using .loc[row_indexer,col_indexer] = value instead\n",
            "\n",
            "See the caveats in the documentation: https://pandas.pydata.org/pandas-docs/stable/user_guide/indexing.html#returning-a-view-versus-a-copy\n",
            "  data_filtered['EHQ,EHQ_Total'] = data_filtered['EHQ,EHQ_Total'].astype(float)\n"
          ]
        }
      ]
    },
    {
      "cell_type": "code",
      "source": [
        "# without Math, Writing, Math+Writing in DD diagnosis\n",
        "data_filtered = data_filtered[data_filtered['DD type'] != 'Math']\n",
        "data_filtered = data_filtered[data_filtered['DD type'] != 'Writing']\n",
        "data_filtered = data_filtered[data_filtered['DD type'] != 'Writing, Math']"
      ],
      "metadata": {
        "id": "cd8tC0UBH95E"
      },
      "execution_count": 44,
      "outputs": []
    },
    {
      "cell_type": "code",
      "source": [
        "# data full\n",
        "# excluding people older than 18\n",
        "data_filtered = data_filtered[data_filtered['Basic_Demos,Age'] <= 18]"
      ],
      "metadata": {
        "id": "p1HIlfhAIP67"
      },
      "execution_count": 45,
      "outputs": []
    },
    {
      "cell_type": "code",
      "source": [
        "# excluding people who have some medicine recorded\n",
        "data_filtered = data_filtered[data_filtered['Medicine'] == 0]"
      ],
      "metadata": {
        "id": "MQLMitlBIV5a"
      },
      "execution_count": 46,
      "outputs": []
    },
    {
      "cell_type": "code",
      "source": [
        "# excluding those who are not controls or people with dd\n",
        "data_filtered = data_filtered[data_filtered['Status'] != 'without DD']"
      ],
      "metadata": {
        "id": "lNyLp8vRIi57"
      },
      "execution_count": 47,
      "outputs": []
    },
    {
      "cell_type": "code",
      "source": [
        "# excluding those with autism and intellectual disorder\n",
        "data_filtered = data_filtered[data_filtered['Status'] != 'DD with autism or intellectual']"
      ],
      "metadata": {
        "id": "ClHulJ4RObos"
      },
      "execution_count": 48,
      "outputs": []
    },
    {
      "cell_type": "code",
      "source": [
        "# data full\n",
        "# excluding amphetamines, benzaozepines, tca, thc\n",
        "data_filtered = data_filtered[data_filtered['DrugScreen,AMP500'] != '1']\n",
        "data_filtered = data_filtered[data_filtered['DrugScreen,TCA1000'] != '1']\n",
        "data_filtered = data_filtered[data_filtered['DrugScreen,THC50'] != '1']"
      ],
      "metadata": {
        "id": "LjUjle3xAN1p"
      },
      "execution_count": 49,
      "outputs": []
    },
    {
      "cell_type": "markdown",
      "source": [
        "Checking whether there any other criteria that we should consider for filtering the data."
      ],
      "metadata": {
        "id": "8UfKPeg3hfNS"
      }
    },
    {
      "cell_type": "markdown",
      "source": [
        "Documenting what I checked and what looks okay:\n",
        "\n",
        "1.   Audit - okay, no values greater than 15\n",
        "2.   Barrat test - impulsiveness\n",
        "3.   Daily meds - checked\n",
        "4.   Drug screen - checked\n",
        "5.   MRI information - there, might be used if necessary\n",
        "6.   PreInt - background information - 'PreInt_EduHx,reading' - describes exposure to reading\n",
        "7.   PreINT_Lang - whether bilingual or not. What do we do if the primary language is not English?\n",
        "8.   RAN RAS - only 47 people for letters and 14 for numbers\n",
        "\n"
      ],
      "metadata": {
        "id": "excsarvoh-6i"
      }
    },
    {
      "cell_type": "code",
      "source": [
        "data_filtered.groupby(['PreInt_Lang,Child_Primary_Lang'])[['Identifiers']].count()"
      ],
      "metadata": {
        "id": "5kXvmFtiBNNU",
        "outputId": "938bff42-e255-4579-abd1-2fc5467dc0ac",
        "colab": {
          "base_uri": "https://localhost:8080/",
          "height": 238
        }
      },
      "execution_count": 55,
      "outputs": [
        {
          "output_type": "execute_result",
          "data": {
            "text/plain": [
              "                                Identifiers\n",
              "PreInt_Lang,Child_Primary_Lang             \n",
              ".                                       112\n",
              "English                                 396\n",
              "English                                   6\n",
              "Portuguese                                1\n",
              "Spanish                                   2"
            ],
            "text/html": [
              "\n",
              "  <div id=\"df-9250fbbf-1822-4484-8cc2-7dfb02f969d9\" class=\"colab-df-container\">\n",
              "    <div>\n",
              "<style scoped>\n",
              "    .dataframe tbody tr th:only-of-type {\n",
              "        vertical-align: middle;\n",
              "    }\n",
              "\n",
              "    .dataframe tbody tr th {\n",
              "        vertical-align: top;\n",
              "    }\n",
              "\n",
              "    .dataframe thead th {\n",
              "        text-align: right;\n",
              "    }\n",
              "</style>\n",
              "<table border=\"1\" class=\"dataframe\">\n",
              "  <thead>\n",
              "    <tr style=\"text-align: right;\">\n",
              "      <th></th>\n",
              "      <th>Identifiers</th>\n",
              "    </tr>\n",
              "    <tr>\n",
              "      <th>PreInt_Lang,Child_Primary_Lang</th>\n",
              "      <th></th>\n",
              "    </tr>\n",
              "  </thead>\n",
              "  <tbody>\n",
              "    <tr>\n",
              "      <th>.</th>\n",
              "      <td>112</td>\n",
              "    </tr>\n",
              "    <tr>\n",
              "      <th>English</th>\n",
              "      <td>396</td>\n",
              "    </tr>\n",
              "    <tr>\n",
              "      <th>English</th>\n",
              "      <td>6</td>\n",
              "    </tr>\n",
              "    <tr>\n",
              "      <th>Portuguese</th>\n",
              "      <td>1</td>\n",
              "    </tr>\n",
              "    <tr>\n",
              "      <th>Spanish</th>\n",
              "      <td>2</td>\n",
              "    </tr>\n",
              "  </tbody>\n",
              "</table>\n",
              "</div>\n",
              "    <div class=\"colab-df-buttons\">\n",
              "\n",
              "  <div class=\"colab-df-container\">\n",
              "    <button class=\"colab-df-convert\" onclick=\"convertToInteractive('df-9250fbbf-1822-4484-8cc2-7dfb02f969d9')\"\n",
              "            title=\"Convert this dataframe to an interactive table.\"\n",
              "            style=\"display:none;\">\n",
              "\n",
              "  <svg xmlns=\"http://www.w3.org/2000/svg\" height=\"24px\" viewBox=\"0 -960 960 960\">\n",
              "    <path d=\"M120-120v-720h720v720H120Zm60-500h600v-160H180v160Zm220 220h160v-160H400v160Zm0 220h160v-160H400v160ZM180-400h160v-160H180v160Zm440 0h160v-160H620v160ZM180-180h160v-160H180v160Zm440 0h160v-160H620v160Z\"/>\n",
              "  </svg>\n",
              "    </button>\n",
              "\n",
              "  <style>\n",
              "    .colab-df-container {\n",
              "      display:flex;\n",
              "      gap: 12px;\n",
              "    }\n",
              "\n",
              "    .colab-df-convert {\n",
              "      background-color: #E8F0FE;\n",
              "      border: none;\n",
              "      border-radius: 50%;\n",
              "      cursor: pointer;\n",
              "      display: none;\n",
              "      fill: #1967D2;\n",
              "      height: 32px;\n",
              "      padding: 0 0 0 0;\n",
              "      width: 32px;\n",
              "    }\n",
              "\n",
              "    .colab-df-convert:hover {\n",
              "      background-color: #E2EBFA;\n",
              "      box-shadow: 0px 1px 2px rgba(60, 64, 67, 0.3), 0px 1px 3px 1px rgba(60, 64, 67, 0.15);\n",
              "      fill: #174EA6;\n",
              "    }\n",
              "\n",
              "    .colab-df-buttons div {\n",
              "      margin-bottom: 4px;\n",
              "    }\n",
              "\n",
              "    [theme=dark] .colab-df-convert {\n",
              "      background-color: #3B4455;\n",
              "      fill: #D2E3FC;\n",
              "    }\n",
              "\n",
              "    [theme=dark] .colab-df-convert:hover {\n",
              "      background-color: #434B5C;\n",
              "      box-shadow: 0px 1px 3px 1px rgba(0, 0, 0, 0.15);\n",
              "      filter: drop-shadow(0px 1px 2px rgba(0, 0, 0, 0.3));\n",
              "      fill: #FFFFFF;\n",
              "    }\n",
              "  </style>\n",
              "\n",
              "    <script>\n",
              "      const buttonEl =\n",
              "        document.querySelector('#df-9250fbbf-1822-4484-8cc2-7dfb02f969d9 button.colab-df-convert');\n",
              "      buttonEl.style.display =\n",
              "        google.colab.kernel.accessAllowed ? 'block' : 'none';\n",
              "\n",
              "      async function convertToInteractive(key) {\n",
              "        const element = document.querySelector('#df-9250fbbf-1822-4484-8cc2-7dfb02f969d9');\n",
              "        const dataTable =\n",
              "          await google.colab.kernel.invokeFunction('convertToInteractive',\n",
              "                                                    [key], {});\n",
              "        if (!dataTable) return;\n",
              "\n",
              "        const docLinkHtml = 'Like what you see? Visit the ' +\n",
              "          '<a target=\"_blank\" href=https://colab.research.google.com/notebooks/data_table.ipynb>data table notebook</a>'\n",
              "          + ' to learn more about interactive tables.';\n",
              "        element.innerHTML = '';\n",
              "        dataTable['output_type'] = 'display_data';\n",
              "        await google.colab.output.renderOutput(dataTable, element);\n",
              "        const docLink = document.createElement('div');\n",
              "        docLink.innerHTML = docLinkHtml;\n",
              "        element.appendChild(docLink);\n",
              "      }\n",
              "    </script>\n",
              "  </div>\n",
              "\n",
              "\n",
              "<div id=\"df-ec81fe38-3ff1-499d-ab7a-128706ce6aa5\">\n",
              "  <button class=\"colab-df-quickchart\" onclick=\"quickchart('df-ec81fe38-3ff1-499d-ab7a-128706ce6aa5')\"\n",
              "            title=\"Suggest charts\"\n",
              "            style=\"display:none;\">\n",
              "\n",
              "<svg xmlns=\"http://www.w3.org/2000/svg\" height=\"24px\"viewBox=\"0 0 24 24\"\n",
              "     width=\"24px\">\n",
              "    <g>\n",
              "        <path d=\"M19 3H5c-1.1 0-2 .9-2 2v14c0 1.1.9 2 2 2h14c1.1 0 2-.9 2-2V5c0-1.1-.9-2-2-2zM9 17H7v-7h2v7zm4 0h-2V7h2v10zm4 0h-2v-4h2v4z\"/>\n",
              "    </g>\n",
              "</svg>\n",
              "  </button>\n",
              "\n",
              "<style>\n",
              "  .colab-df-quickchart {\n",
              "      --bg-color: #E8F0FE;\n",
              "      --fill-color: #1967D2;\n",
              "      --hover-bg-color: #E2EBFA;\n",
              "      --hover-fill-color: #174EA6;\n",
              "      --disabled-fill-color: #AAA;\n",
              "      --disabled-bg-color: #DDD;\n",
              "  }\n",
              "\n",
              "  [theme=dark] .colab-df-quickchart {\n",
              "      --bg-color: #3B4455;\n",
              "      --fill-color: #D2E3FC;\n",
              "      --hover-bg-color: #434B5C;\n",
              "      --hover-fill-color: #FFFFFF;\n",
              "      --disabled-bg-color: #3B4455;\n",
              "      --disabled-fill-color: #666;\n",
              "  }\n",
              "\n",
              "  .colab-df-quickchart {\n",
              "    background-color: var(--bg-color);\n",
              "    border: none;\n",
              "    border-radius: 50%;\n",
              "    cursor: pointer;\n",
              "    display: none;\n",
              "    fill: var(--fill-color);\n",
              "    height: 32px;\n",
              "    padding: 0;\n",
              "    width: 32px;\n",
              "  }\n",
              "\n",
              "  .colab-df-quickchart:hover {\n",
              "    background-color: var(--hover-bg-color);\n",
              "    box-shadow: 0 1px 2px rgba(60, 64, 67, 0.3), 0 1px 3px 1px rgba(60, 64, 67, 0.15);\n",
              "    fill: var(--button-hover-fill-color);\n",
              "  }\n",
              "\n",
              "  .colab-df-quickchart-complete:disabled,\n",
              "  .colab-df-quickchart-complete:disabled:hover {\n",
              "    background-color: var(--disabled-bg-color);\n",
              "    fill: var(--disabled-fill-color);\n",
              "    box-shadow: none;\n",
              "  }\n",
              "\n",
              "  .colab-df-spinner {\n",
              "    border: 2px solid var(--fill-color);\n",
              "    border-color: transparent;\n",
              "    border-bottom-color: var(--fill-color);\n",
              "    animation:\n",
              "      spin 1s steps(1) infinite;\n",
              "  }\n",
              "\n",
              "  @keyframes spin {\n",
              "    0% {\n",
              "      border-color: transparent;\n",
              "      border-bottom-color: var(--fill-color);\n",
              "      border-left-color: var(--fill-color);\n",
              "    }\n",
              "    20% {\n",
              "      border-color: transparent;\n",
              "      border-left-color: var(--fill-color);\n",
              "      border-top-color: var(--fill-color);\n",
              "    }\n",
              "    30% {\n",
              "      border-color: transparent;\n",
              "      border-left-color: var(--fill-color);\n",
              "      border-top-color: var(--fill-color);\n",
              "      border-right-color: var(--fill-color);\n",
              "    }\n",
              "    40% {\n",
              "      border-color: transparent;\n",
              "      border-right-color: var(--fill-color);\n",
              "      border-top-color: var(--fill-color);\n",
              "    }\n",
              "    60% {\n",
              "      border-color: transparent;\n",
              "      border-right-color: var(--fill-color);\n",
              "    }\n",
              "    80% {\n",
              "      border-color: transparent;\n",
              "      border-right-color: var(--fill-color);\n",
              "      border-bottom-color: var(--fill-color);\n",
              "    }\n",
              "    90% {\n",
              "      border-color: transparent;\n",
              "      border-bottom-color: var(--fill-color);\n",
              "    }\n",
              "  }\n",
              "</style>\n",
              "\n",
              "  <script>\n",
              "    async function quickchart(key) {\n",
              "      const quickchartButtonEl =\n",
              "        document.querySelector('#' + key + ' button');\n",
              "      quickchartButtonEl.disabled = true;  // To prevent multiple clicks.\n",
              "      quickchartButtonEl.classList.add('colab-df-spinner');\n",
              "      try {\n",
              "        const charts = await google.colab.kernel.invokeFunction(\n",
              "            'suggestCharts', [key], {});\n",
              "      } catch (error) {\n",
              "        console.error('Error during call to suggestCharts:', error);\n",
              "      }\n",
              "      quickchartButtonEl.classList.remove('colab-df-spinner');\n",
              "      quickchartButtonEl.classList.add('colab-df-quickchart-complete');\n",
              "    }\n",
              "    (() => {\n",
              "      let quickchartButtonEl =\n",
              "        document.querySelector('#df-ec81fe38-3ff1-499d-ab7a-128706ce6aa5 button');\n",
              "      quickchartButtonEl.style.display =\n",
              "        google.colab.kernel.accessAllowed ? 'block' : 'none';\n",
              "    })();\n",
              "  </script>\n",
              "</div>\n",
              "    </div>\n",
              "  </div>\n"
            ],
            "application/vnd.google.colaboratory.intrinsic+json": {
              "type": "dataframe",
              "summary": "{\n  \"name\": \"data_filtered\",\n  \"rows\": 5,\n  \"fields\": [\n    {\n      \"column\": \"PreInt_Lang,Child_Primary_Lang\",\n      \"properties\": {\n        \"dtype\": \"string\",\n        \"num_unique_values\": 5,\n        \"samples\": [\n          \"English\",\n          \"Spanish\",\n          \"English \"\n        ],\n        \"semantic_type\": \"\",\n        \"description\": \"\"\n      }\n    },\n    {\n      \"column\": \"Identifiers\",\n      \"properties\": {\n        \"dtype\": \"number\",\n        \"std\": 170,\n        \"min\": 1,\n        \"max\": 396,\n        \"num_unique_values\": 5,\n        \"samples\": [\n          396,\n          2,\n          6\n        ],\n        \"semantic_type\": \"\",\n        \"description\": \"\"\n      }\n    }\n  ]\n}"
            }
          },
          "metadata": {},
          "execution_count": 55
        }
      ]
    },
    {
      "cell_type": "code",
      "source": [
        "data_filtered[data_filtered['PreInt_Lang,Child_Primary_Lang'] == 'Portuguese'][['PreInt_Lang,Child_Lang1', 'PreInt_Lang,Child_Lang1_Age',\n",
        "       'PreInt_Lang,Child_Lang2', 'PreInt_Lang,Child_Lang2_Age',\n",
        "       'PreInt_Lang,Child_Lang3', 'PreInt_Lang,Child_Lang3_Age',\n",
        "       'PreInt_Lang,Child_Lang_Understood', 'PreInt_Lang,Child_Primary_Lang']]"
      ],
      "metadata": {
        "id": "jfLPJ6S5H-7u",
        "outputId": "5bf3b778-2314-4c70-f14f-083a24eac1bd",
        "colab": {
          "base_uri": "https://localhost:8080/",
          "height": 101
        }
      },
      "execution_count": 62,
      "outputs": [
        {
          "output_type": "execute_result",
          "data": {
            "text/plain": [
              "     PreInt_Lang,Child_Lang1 PreInt_Lang,Child_Lang1_Age  \\\n",
              "1470              Portuguese                         NaN   \n",
              "\n",
              "     PreInt_Lang,Child_Lang2 PreInt_Lang,Child_Lang2_Age  \\\n",
              "1470                 English                           2   \n",
              "\n",
              "     PreInt_Lang,Child_Lang3 PreInt_Lang,Child_Lang3_Age  \\\n",
              "1470                     NaN                         NaN   \n",
              "\n",
              "     PreInt_Lang,Child_Lang_Understood PreInt_Lang,Child_Primary_Lang  \n",
              "1470                        Portuguese                     Portuguese  "
            ],
            "text/html": [
              "\n",
              "  <div id=\"df-202679a1-26bb-4752-b6cd-5925b9a4a97d\" class=\"colab-df-container\">\n",
              "    <div>\n",
              "<style scoped>\n",
              "    .dataframe tbody tr th:only-of-type {\n",
              "        vertical-align: middle;\n",
              "    }\n",
              "\n",
              "    .dataframe tbody tr th {\n",
              "        vertical-align: top;\n",
              "    }\n",
              "\n",
              "    .dataframe thead th {\n",
              "        text-align: right;\n",
              "    }\n",
              "</style>\n",
              "<table border=\"1\" class=\"dataframe\">\n",
              "  <thead>\n",
              "    <tr style=\"text-align: right;\">\n",
              "      <th></th>\n",
              "      <th>PreInt_Lang,Child_Lang1</th>\n",
              "      <th>PreInt_Lang,Child_Lang1_Age</th>\n",
              "      <th>PreInt_Lang,Child_Lang2</th>\n",
              "      <th>PreInt_Lang,Child_Lang2_Age</th>\n",
              "      <th>PreInt_Lang,Child_Lang3</th>\n",
              "      <th>PreInt_Lang,Child_Lang3_Age</th>\n",
              "      <th>PreInt_Lang,Child_Lang_Understood</th>\n",
              "      <th>PreInt_Lang,Child_Primary_Lang</th>\n",
              "    </tr>\n",
              "  </thead>\n",
              "  <tbody>\n",
              "    <tr>\n",
              "      <th>1470</th>\n",
              "      <td>Portuguese</td>\n",
              "      <td>NaN</td>\n",
              "      <td>English</td>\n",
              "      <td>2</td>\n",
              "      <td>NaN</td>\n",
              "      <td>NaN</td>\n",
              "      <td>Portuguese</td>\n",
              "      <td>Portuguese</td>\n",
              "    </tr>\n",
              "  </tbody>\n",
              "</table>\n",
              "</div>\n",
              "    <div class=\"colab-df-buttons\">\n",
              "\n",
              "  <div class=\"colab-df-container\">\n",
              "    <button class=\"colab-df-convert\" onclick=\"convertToInteractive('df-202679a1-26bb-4752-b6cd-5925b9a4a97d')\"\n",
              "            title=\"Convert this dataframe to an interactive table.\"\n",
              "            style=\"display:none;\">\n",
              "\n",
              "  <svg xmlns=\"http://www.w3.org/2000/svg\" height=\"24px\" viewBox=\"0 -960 960 960\">\n",
              "    <path d=\"M120-120v-720h720v720H120Zm60-500h600v-160H180v160Zm220 220h160v-160H400v160Zm0 220h160v-160H400v160ZM180-400h160v-160H180v160Zm440 0h160v-160H620v160ZM180-180h160v-160H180v160Zm440 0h160v-160H620v160Z\"/>\n",
              "  </svg>\n",
              "    </button>\n",
              "\n",
              "  <style>\n",
              "    .colab-df-container {\n",
              "      display:flex;\n",
              "      gap: 12px;\n",
              "    }\n",
              "\n",
              "    .colab-df-convert {\n",
              "      background-color: #E8F0FE;\n",
              "      border: none;\n",
              "      border-radius: 50%;\n",
              "      cursor: pointer;\n",
              "      display: none;\n",
              "      fill: #1967D2;\n",
              "      height: 32px;\n",
              "      padding: 0 0 0 0;\n",
              "      width: 32px;\n",
              "    }\n",
              "\n",
              "    .colab-df-convert:hover {\n",
              "      background-color: #E2EBFA;\n",
              "      box-shadow: 0px 1px 2px rgba(60, 64, 67, 0.3), 0px 1px 3px 1px rgba(60, 64, 67, 0.15);\n",
              "      fill: #174EA6;\n",
              "    }\n",
              "\n",
              "    .colab-df-buttons div {\n",
              "      margin-bottom: 4px;\n",
              "    }\n",
              "\n",
              "    [theme=dark] .colab-df-convert {\n",
              "      background-color: #3B4455;\n",
              "      fill: #D2E3FC;\n",
              "    }\n",
              "\n",
              "    [theme=dark] .colab-df-convert:hover {\n",
              "      background-color: #434B5C;\n",
              "      box-shadow: 0px 1px 3px 1px rgba(0, 0, 0, 0.15);\n",
              "      filter: drop-shadow(0px 1px 2px rgba(0, 0, 0, 0.3));\n",
              "      fill: #FFFFFF;\n",
              "    }\n",
              "  </style>\n",
              "\n",
              "    <script>\n",
              "      const buttonEl =\n",
              "        document.querySelector('#df-202679a1-26bb-4752-b6cd-5925b9a4a97d button.colab-df-convert');\n",
              "      buttonEl.style.display =\n",
              "        google.colab.kernel.accessAllowed ? 'block' : 'none';\n",
              "\n",
              "      async function convertToInteractive(key) {\n",
              "        const element = document.querySelector('#df-202679a1-26bb-4752-b6cd-5925b9a4a97d');\n",
              "        const dataTable =\n",
              "          await google.colab.kernel.invokeFunction('convertToInteractive',\n",
              "                                                    [key], {});\n",
              "        if (!dataTable) return;\n",
              "\n",
              "        const docLinkHtml = 'Like what you see? Visit the ' +\n",
              "          '<a target=\"_blank\" href=https://colab.research.google.com/notebooks/data_table.ipynb>data table notebook</a>'\n",
              "          + ' to learn more about interactive tables.';\n",
              "        element.innerHTML = '';\n",
              "        dataTable['output_type'] = 'display_data';\n",
              "        await google.colab.output.renderOutput(dataTable, element);\n",
              "        const docLink = document.createElement('div');\n",
              "        docLink.innerHTML = docLinkHtml;\n",
              "        element.appendChild(docLink);\n",
              "      }\n",
              "    </script>\n",
              "  </div>\n",
              "\n",
              "    </div>\n",
              "  </div>\n"
            ],
            "application/vnd.google.colaboratory.intrinsic+json": {
              "type": "dataframe",
              "repr_error": "0"
            }
          },
          "metadata": {},
          "execution_count": 62
        }
      ]
    },
    {
      "cell_type": "markdown",
      "source": [
        "Standardizing the IQ scores and Excluding people with the IQ scores less than 70. The main test is WISC. All others are additional."
      ],
      "metadata": {
        "id": "qssmlJVdWbYG"
      }
    },
    {
      "cell_type": "code",
      "source": [
        "# data full\n",
        "# substituting rare nan values with '.' for the standardisation of missing values\n",
        "# dealing with FSIQ scores at first\n",
        "data_filtered['KBIT,KBIT_IQ_Comp'] = data_filtered['KBIT,KBIT_IQ_Comp'].fillna('.')\n",
        "data_filtered['WASI,WASI_FSIQ'] = data_filtered['WASI,WASI_FSIQ'].fillna('.')\n",
        "data_filtered['WAIS,WAIS_FSIQ_COMP'] = data_filtered['WAIS,WAIS_FSIQ_COMP'].fillna('.')\n",
        "data_filtered['WISC,WISC_FSIQ'] = data_filtered['WISC,WISC_FSIQ'].fillna('.')\n",
        "data_filtered['WISC,WISC_FSIQ_Sum'] = data_filtered['WISC,WISC_FSIQ_Sum'].fillna('.')\n",
        "data_filtered['WISC_Remote,WISC_NMFSIQ'] = data_filtered['WISC_Remote,WISC_NMFSIQ'].fillna('.')\n",
        "data_filtered['WISC_Remote,WISC_NMFSIQ_Sum'] = data_filtered['WISC_Remote,WISC_NMFSIQ_Sum'].fillna('.')"
      ],
      "metadata": {
        "id": "GE-mrHMjgzsG"
      },
      "execution_count": 94,
      "outputs": []
    },
    {
      "cell_type": "code",
      "source": [
        "# data full\n",
        "reference_test = []\n",
        "iq_value = []\n",
        "wisc = data_filtered['WISC,WISC_FSIQ'].values\n",
        "kbit = data_filtered['KBIT,KBIT_IQ_Comp'].values\n",
        "wasi = data_filtered['WASI,WASI_FSIQ'].values\n",
        "wais = data_filtered['WAIS,WAIS_FSIQ_COMP'].values\n",
        "wisc_remote = data_filtered['WISC_Remote,WISC_NMFSIQ'].values\n",
        "age = data_filtered['Basic_Demos,Age'].values\n",
        "\n",
        "for i in range(0, data_filtered.shape[0]):\n",
        "  # if there are no iq results\n",
        "  if wisc[i] == '.' and kbit[i] == '.' and wais[i] == '.' and wasi[i] == '.' and wisc_remote[i] == '.':\n",
        "    iq_value.append('none')\n",
        "    reference_test.append('none')\n",
        "  # if we have wisc\n",
        "  elif wisc[i] != '.':\n",
        "    if kbit[i] == '.':\n",
        "      iq_value.append(int(wisc[i]))\n",
        "      reference_test.append('wisc')\n",
        "    # if we also have kbit\n",
        "    else:\n",
        "      if age[i] < 6:\n",
        "        iq_value.append(int(kbit[i]))\n",
        "        reference_test.append('kbit')\n",
        "      else:\n",
        "        iq_value.append(int(wisc[i]))\n",
        "        reference_test.append('wisc')\n",
        "  # if we don't have wisc\n",
        "  else:\n",
        "    if kbit[i] != '.' and wasi[i] != '.':\n",
        "      if int(wasi[i]) > 70:\n",
        "        iq_value.append(int(wasi[i]))\n",
        "        reference_test.append('wasi')\n",
        "      else:\n",
        "        iq_value.append(int(kbit[i]))\n",
        "        reference_test.append('kbit')\n",
        "    elif kbit[i] != '.':\n",
        "      iq_value.append(int(kbit[i]))\n",
        "      reference_test.append('kbit')\n",
        "    elif wasi[i] != '.':\n",
        "      iq_value.append(int(wasi[i]))\n",
        "      reference_test.append('wasi')\n",
        "    elif wais[i] != '.':\n",
        "      iq_value.append(int(wais[i]))\n",
        "      reference_test.append('wais')\n",
        "    elif wisc_remote[i] != '.':\n",
        "      iq_value.append(int(wisc_remote[i]))\n",
        "      reference_test.append('wisc_remote')"
      ],
      "metadata": {
        "id": "q1-4tvpGOUcH"
      },
      "execution_count": 107,
      "outputs": []
    },
    {
      "cell_type": "code",
      "source": [
        "data_filtered['IQ'] = iq_value\n",
        "data_filtered['Test'] = reference_test"
      ],
      "metadata": {
        "id": "4UJUqyl0pj5d"
      },
      "execution_count": 108,
      "outputs": []
    },
    {
      "cell_type": "code",
      "source": [
        "# deleting people with no iq\n",
        "data_filtered = data_filtered[data_filtered['IQ'] != 'none']"
      ],
      "metadata": {
        "id": "TbJrfkf6REXe"
      },
      "execution_count": 117,
      "outputs": []
    },
    {
      "cell_type": "code",
      "source": [
        "# deleting people with iq < 70\n",
        "data_filtered = data_filtered[data_filtered['IQ'] >= 70]"
      ],
      "metadata": {
        "id": "7BjXOm-WQDpH"
      },
      "execution_count": 119,
      "outputs": []
    },
    {
      "cell_type": "markdown",
      "source": [
        "# Characteristics of the ready dataset"
      ],
      "metadata": {
        "id": "6FVNklI1tBUP"
      }
    },
    {
      "cell_type": "code",
      "source": [
        "print('Full dataset')\n",
        "print('Controls')\n",
        "print(data_filtered[data_filtered['Status'] == 'control'].shape[0])\n",
        "print('DD without comorbidities')\n",
        "print(data_filtered[data_filtered['Status'] == 'only DD'].shape[0])\n",
        "print('DD with comorbidities')\n",
        "print(data_filtered[data_filtered['Status'] == 'DD with comorbidities'].shape[0])"
      ],
      "metadata": {
        "id": "S-ZOMySlUyJL",
        "outputId": "4fa5e59c-5a0a-416c-d4ad-0367861f82ca",
        "colab": {
          "base_uri": "https://localhost:8080/"
        }
      },
      "execution_count": 120,
      "outputs": [
        {
          "output_type": "stream",
          "name": "stdout",
          "text": [
            "Full dataset\n",
            "Controls\n",
            "261\n",
            "DD without comorbidities\n",
            "65\n",
            "DD with comorbidities\n",
            "297\n"
          ]
        }
      ]
    },
    {
      "cell_type": "code",
      "source": [
        "data_filtered[data_filtered['DD'] == 1].groupby(['DD type'])[['Identifiers']].count()"
      ],
      "metadata": {
        "id": "9z3GH4VTVTma",
        "outputId": "89762521-6b2a-4438-d795-40515d319273",
        "colab": {
          "base_uri": "https://localhost:8080/",
          "height": 206
        }
      },
      "execution_count": 121,
      "outputs": [
        {
          "output_type": "execute_result",
          "data": {
            "text/plain": [
              "                        Identifiers\n",
              "DD type                            \n",
              "Reading                         299\n",
              "Reading, Math                    45\n",
              "Reading, Writing                  9\n",
              "Reading, Writing, Math            9"
            ],
            "text/html": [
              "\n",
              "  <div id=\"df-66ba7e66-0ecd-4ff0-b4f9-c434f24f85b6\" class=\"colab-df-container\">\n",
              "    <div>\n",
              "<style scoped>\n",
              "    .dataframe tbody tr th:only-of-type {\n",
              "        vertical-align: middle;\n",
              "    }\n",
              "\n",
              "    .dataframe tbody tr th {\n",
              "        vertical-align: top;\n",
              "    }\n",
              "\n",
              "    .dataframe thead th {\n",
              "        text-align: right;\n",
              "    }\n",
              "</style>\n",
              "<table border=\"1\" class=\"dataframe\">\n",
              "  <thead>\n",
              "    <tr style=\"text-align: right;\">\n",
              "      <th></th>\n",
              "      <th>Identifiers</th>\n",
              "    </tr>\n",
              "    <tr>\n",
              "      <th>DD type</th>\n",
              "      <th></th>\n",
              "    </tr>\n",
              "  </thead>\n",
              "  <tbody>\n",
              "    <tr>\n",
              "      <th>Reading</th>\n",
              "      <td>299</td>\n",
              "    </tr>\n",
              "    <tr>\n",
              "      <th>Reading, Math</th>\n",
              "      <td>45</td>\n",
              "    </tr>\n",
              "    <tr>\n",
              "      <th>Reading, Writing</th>\n",
              "      <td>9</td>\n",
              "    </tr>\n",
              "    <tr>\n",
              "      <th>Reading, Writing, Math</th>\n",
              "      <td>9</td>\n",
              "    </tr>\n",
              "  </tbody>\n",
              "</table>\n",
              "</div>\n",
              "    <div class=\"colab-df-buttons\">\n",
              "\n",
              "  <div class=\"colab-df-container\">\n",
              "    <button class=\"colab-df-convert\" onclick=\"convertToInteractive('df-66ba7e66-0ecd-4ff0-b4f9-c434f24f85b6')\"\n",
              "            title=\"Convert this dataframe to an interactive table.\"\n",
              "            style=\"display:none;\">\n",
              "\n",
              "  <svg xmlns=\"http://www.w3.org/2000/svg\" height=\"24px\" viewBox=\"0 -960 960 960\">\n",
              "    <path d=\"M120-120v-720h720v720H120Zm60-500h600v-160H180v160Zm220 220h160v-160H400v160Zm0 220h160v-160H400v160ZM180-400h160v-160H180v160Zm440 0h160v-160H620v160ZM180-180h160v-160H180v160Zm440 0h160v-160H620v160Z\"/>\n",
              "  </svg>\n",
              "    </button>\n",
              "\n",
              "  <style>\n",
              "    .colab-df-container {\n",
              "      display:flex;\n",
              "      gap: 12px;\n",
              "    }\n",
              "\n",
              "    .colab-df-convert {\n",
              "      background-color: #E8F0FE;\n",
              "      border: none;\n",
              "      border-radius: 50%;\n",
              "      cursor: pointer;\n",
              "      display: none;\n",
              "      fill: #1967D2;\n",
              "      height: 32px;\n",
              "      padding: 0 0 0 0;\n",
              "      width: 32px;\n",
              "    }\n",
              "\n",
              "    .colab-df-convert:hover {\n",
              "      background-color: #E2EBFA;\n",
              "      box-shadow: 0px 1px 2px rgba(60, 64, 67, 0.3), 0px 1px 3px 1px rgba(60, 64, 67, 0.15);\n",
              "      fill: #174EA6;\n",
              "    }\n",
              "\n",
              "    .colab-df-buttons div {\n",
              "      margin-bottom: 4px;\n",
              "    }\n",
              "\n",
              "    [theme=dark] .colab-df-convert {\n",
              "      background-color: #3B4455;\n",
              "      fill: #D2E3FC;\n",
              "    }\n",
              "\n",
              "    [theme=dark] .colab-df-convert:hover {\n",
              "      background-color: #434B5C;\n",
              "      box-shadow: 0px 1px 3px 1px rgba(0, 0, 0, 0.15);\n",
              "      filter: drop-shadow(0px 1px 2px rgba(0, 0, 0, 0.3));\n",
              "      fill: #FFFFFF;\n",
              "    }\n",
              "  </style>\n",
              "\n",
              "    <script>\n",
              "      const buttonEl =\n",
              "        document.querySelector('#df-66ba7e66-0ecd-4ff0-b4f9-c434f24f85b6 button.colab-df-convert');\n",
              "      buttonEl.style.display =\n",
              "        google.colab.kernel.accessAllowed ? 'block' : 'none';\n",
              "\n",
              "      async function convertToInteractive(key) {\n",
              "        const element = document.querySelector('#df-66ba7e66-0ecd-4ff0-b4f9-c434f24f85b6');\n",
              "        const dataTable =\n",
              "          await google.colab.kernel.invokeFunction('convertToInteractive',\n",
              "                                                    [key], {});\n",
              "        if (!dataTable) return;\n",
              "\n",
              "        const docLinkHtml = 'Like what you see? Visit the ' +\n",
              "          '<a target=\"_blank\" href=https://colab.research.google.com/notebooks/data_table.ipynb>data table notebook</a>'\n",
              "          + ' to learn more about interactive tables.';\n",
              "        element.innerHTML = '';\n",
              "        dataTable['output_type'] = 'display_data';\n",
              "        await google.colab.output.renderOutput(dataTable, element);\n",
              "        const docLink = document.createElement('div');\n",
              "        docLink.innerHTML = docLinkHtml;\n",
              "        element.appendChild(docLink);\n",
              "      }\n",
              "    </script>\n",
              "  </div>\n",
              "\n",
              "\n",
              "<div id=\"df-736bd1bd-94dd-4a04-bb8d-d43dddc50996\">\n",
              "  <button class=\"colab-df-quickchart\" onclick=\"quickchart('df-736bd1bd-94dd-4a04-bb8d-d43dddc50996')\"\n",
              "            title=\"Suggest charts\"\n",
              "            style=\"display:none;\">\n",
              "\n",
              "<svg xmlns=\"http://www.w3.org/2000/svg\" height=\"24px\"viewBox=\"0 0 24 24\"\n",
              "     width=\"24px\">\n",
              "    <g>\n",
              "        <path d=\"M19 3H5c-1.1 0-2 .9-2 2v14c0 1.1.9 2 2 2h14c1.1 0 2-.9 2-2V5c0-1.1-.9-2-2-2zM9 17H7v-7h2v7zm4 0h-2V7h2v10zm4 0h-2v-4h2v4z\"/>\n",
              "    </g>\n",
              "</svg>\n",
              "  </button>\n",
              "\n",
              "<style>\n",
              "  .colab-df-quickchart {\n",
              "      --bg-color: #E8F0FE;\n",
              "      --fill-color: #1967D2;\n",
              "      --hover-bg-color: #E2EBFA;\n",
              "      --hover-fill-color: #174EA6;\n",
              "      --disabled-fill-color: #AAA;\n",
              "      --disabled-bg-color: #DDD;\n",
              "  }\n",
              "\n",
              "  [theme=dark] .colab-df-quickchart {\n",
              "      --bg-color: #3B4455;\n",
              "      --fill-color: #D2E3FC;\n",
              "      --hover-bg-color: #434B5C;\n",
              "      --hover-fill-color: #FFFFFF;\n",
              "      --disabled-bg-color: #3B4455;\n",
              "      --disabled-fill-color: #666;\n",
              "  }\n",
              "\n",
              "  .colab-df-quickchart {\n",
              "    background-color: var(--bg-color);\n",
              "    border: none;\n",
              "    border-radius: 50%;\n",
              "    cursor: pointer;\n",
              "    display: none;\n",
              "    fill: var(--fill-color);\n",
              "    height: 32px;\n",
              "    padding: 0;\n",
              "    width: 32px;\n",
              "  }\n",
              "\n",
              "  .colab-df-quickchart:hover {\n",
              "    background-color: var(--hover-bg-color);\n",
              "    box-shadow: 0 1px 2px rgba(60, 64, 67, 0.3), 0 1px 3px 1px rgba(60, 64, 67, 0.15);\n",
              "    fill: var(--button-hover-fill-color);\n",
              "  }\n",
              "\n",
              "  .colab-df-quickchart-complete:disabled,\n",
              "  .colab-df-quickchart-complete:disabled:hover {\n",
              "    background-color: var(--disabled-bg-color);\n",
              "    fill: var(--disabled-fill-color);\n",
              "    box-shadow: none;\n",
              "  }\n",
              "\n",
              "  .colab-df-spinner {\n",
              "    border: 2px solid var(--fill-color);\n",
              "    border-color: transparent;\n",
              "    border-bottom-color: var(--fill-color);\n",
              "    animation:\n",
              "      spin 1s steps(1) infinite;\n",
              "  }\n",
              "\n",
              "  @keyframes spin {\n",
              "    0% {\n",
              "      border-color: transparent;\n",
              "      border-bottom-color: var(--fill-color);\n",
              "      border-left-color: var(--fill-color);\n",
              "    }\n",
              "    20% {\n",
              "      border-color: transparent;\n",
              "      border-left-color: var(--fill-color);\n",
              "      border-top-color: var(--fill-color);\n",
              "    }\n",
              "    30% {\n",
              "      border-color: transparent;\n",
              "      border-left-color: var(--fill-color);\n",
              "      border-top-color: var(--fill-color);\n",
              "      border-right-color: var(--fill-color);\n",
              "    }\n",
              "    40% {\n",
              "      border-color: transparent;\n",
              "      border-right-color: var(--fill-color);\n",
              "      border-top-color: var(--fill-color);\n",
              "    }\n",
              "    60% {\n",
              "      border-color: transparent;\n",
              "      border-right-color: var(--fill-color);\n",
              "    }\n",
              "    80% {\n",
              "      border-color: transparent;\n",
              "      border-right-color: var(--fill-color);\n",
              "      border-bottom-color: var(--fill-color);\n",
              "    }\n",
              "    90% {\n",
              "      border-color: transparent;\n",
              "      border-bottom-color: var(--fill-color);\n",
              "    }\n",
              "  }\n",
              "</style>\n",
              "\n",
              "  <script>\n",
              "    async function quickchart(key) {\n",
              "      const quickchartButtonEl =\n",
              "        document.querySelector('#' + key + ' button');\n",
              "      quickchartButtonEl.disabled = true;  // To prevent multiple clicks.\n",
              "      quickchartButtonEl.classList.add('colab-df-spinner');\n",
              "      try {\n",
              "        const charts = await google.colab.kernel.invokeFunction(\n",
              "            'suggestCharts', [key], {});\n",
              "      } catch (error) {\n",
              "        console.error('Error during call to suggestCharts:', error);\n",
              "      }\n",
              "      quickchartButtonEl.classList.remove('colab-df-spinner');\n",
              "      quickchartButtonEl.classList.add('colab-df-quickchart-complete');\n",
              "    }\n",
              "    (() => {\n",
              "      let quickchartButtonEl =\n",
              "        document.querySelector('#df-736bd1bd-94dd-4a04-bb8d-d43dddc50996 button');\n",
              "      quickchartButtonEl.style.display =\n",
              "        google.colab.kernel.accessAllowed ? 'block' : 'none';\n",
              "    })();\n",
              "  </script>\n",
              "</div>\n",
              "    </div>\n",
              "  </div>\n"
            ],
            "application/vnd.google.colaboratory.intrinsic+json": {
              "type": "dataframe",
              "summary": "{\n  \"name\": \"data_filtered[data_filtered['DD'] == 1]\",\n  \"rows\": 4,\n  \"fields\": [\n    {\n      \"column\": \"DD type\",\n      \"properties\": {\n        \"dtype\": \"string\",\n        \"num_unique_values\": 4,\n        \"samples\": [\n          \"Reading, Math\",\n          \"Reading, Writing, Math\",\n          \"Reading\"\n        ],\n        \"semantic_type\": \"\",\n        \"description\": \"\"\n      }\n    },\n    {\n      \"column\": \"Identifiers\",\n      \"properties\": {\n        \"dtype\": \"number\",\n        \"std\": 140,\n        \"min\": 9,\n        \"max\": 299,\n        \"num_unique_values\": 3,\n        \"samples\": [\n          299,\n          45,\n          9\n        ],\n        \"semantic_type\": \"\",\n        \"description\": \"\"\n      }\n    }\n  ]\n}"
            }
          },
          "metadata": {},
          "execution_count": 121
        }
      ]
    },
    {
      "cell_type": "code",
      "source": [
        "sns.displot(data_filtered[data_filtered['DD'] == 1]['Basic_Demos,Age'],\n",
        "             binwidth = 1)\n",
        "pl.title('Age distribution in the DD group');"
      ],
      "metadata": {
        "id": "uT9jzc6Y75CJ",
        "outputId": "f162bf66-0209-4bc4-b761-b82064e42269",
        "colab": {
          "base_uri": "https://localhost:8080/",
          "height": 523
        }
      },
      "execution_count": 122,
      "outputs": [
        {
          "output_type": "display_data",
          "data": {
            "text/plain": [
              "<Figure size 500x500 with 1 Axes>"
            ],
            "image/png": "[encoded data removed]"
          },
          "metadata": {}
        }
      ]
    },
    {
      "cell_type": "code",
      "source": [
        "# testing the difference between males and females in DD subset\n",
        "subset = data_filtered[data_filtered['DD'] == 1]\n",
        "subset_males = subset[subset['Basic_Demos,Sex'] == 0]\n",
        "subset_females = subset[subset['Basic_Demos,Sex'] == 1]\n",
        "subset_males_letters = subset_males[subset_males['CTOPP,CTOPP_RL_R'] != '.']\n",
        "subset_males_digits = subset_males[subset_males['CTOPP,CTOPP_RD_R'] != '.']\n",
        "subset_females_letters = subset_females[subset_females['CTOPP,CTOPP_RL_R'] != '.']\n",
        "subset_females_digits = subset_females[subset_females['CTOPP,CTOPP_RD_R'] != '.']\n",
        "\n",
        "males_letters = subset_males_letters['CTOPP,CTOPP_RL_R'].astype(int).values\n",
        "males_digits = subset_males_digits['CTOPP,CTOPP_RD_R'].astype(int).values\n",
        "females_letters = subset_females_letters['CTOPP,CTOPP_RL_R'].astype(int).values\n",
        "females_digits = subset_females_digits['CTOPP,CTOPP_RD_R'].astype(int).values"
      ],
      "metadata": {
        "id": "exiPD9LURHhY"
      },
      "execution_count": 155,
      "outputs": []
    },
    {
      "cell_type": "code",
      "source": [
        "# Perform Welch's t-test\n",
        "# CTOPP letters\n",
        "t_stat, p_value = stats.ttest_ind(males_letters, females_letters, equal_var=False)\n",
        "\n",
        "# Print results\n",
        "print(\"Welch's t-test results:\")\n",
        "print(f\"T-statistic: {t_stat}\")\n",
        "print(f\"P-value: {p_value}\")\n",
        "\n",
        "# Interpret results\n",
        "if p_value < 0.05:\n",
        "    print(\"The difference in scores between males and females is statistically significant.\")\n",
        "else:\n",
        "    print(\"There is no statistically significant difference in scores between males and females.\")\n"
      ],
      "metadata": {
        "id": "GBD4vE09UvV2",
        "outputId": "22205090-cc4a-41e2-ef83-8693555e3a82",
        "colab": {
          "base_uri": "https://localhost:8080/"
        }
      },
      "execution_count": 157,
      "outputs": [
        {
          "output_type": "stream",
          "name": "stdout",
          "text": [
            "Welch's t-test results:\n",
            "T-statistic: -0.8760792212277849\n",
            "P-value: 0.38176295985599185\n",
            "There is no statistically significant difference in scores between males and females.\n"
          ]
        }
      ]
    },
    {
      "cell_type": "code",
      "source": [
        "# Perform Welch's t-test\n",
        "# CTOPP digits\n",
        "t_stat, p_value = stats.ttest_ind(males_digits, females_digits, equal_var=False)\n",
        "\n",
        "# Print results\n",
        "print(\"Welch's t-test results:\")\n",
        "print(f\"T-statistic: {t_stat}\")\n",
        "print(f\"P-value: {p_value}\")\n",
        "\n",
        "# Interpret results\n",
        "if p_value < 0.05:\n",
        "    print(\"The difference in scores between males and females is statistically significant.\")\n",
        "else:\n",
        "    print(\"There is no statistically significant difference in scores between males and females.\")"
      ],
      "metadata": {
        "id": "SJZDJQquVas2",
        "outputId": "07b83e8a-2bcb-4afe-d6ab-e275a256c7de",
        "colab": {
          "base_uri": "https://localhost:8080/"
        }
      },
      "execution_count": 158,
      "outputs": [
        {
          "output_type": "stream",
          "name": "stdout",
          "text": [
            "Welch's t-test results:\n",
            "T-statistic: -1.4729884161052258\n",
            "P-value: 0.14220410121734603\n",
            "There is no statistically significant difference in scores between males and females.\n"
          ]
        }
      ]
    },
    {
      "cell_type": "code",
      "source": [
        "sns.scatterplot(data=subset,\n",
        "                x='Basic_Demos,Age',\n",
        "                y='CTOPP,CTOPP_RL_R');\n",
        "pl.title('The distribution of raw scores on rapid letters naming subset within the CTOPP in the DD group (only females)');"
      ],
      "metadata": {
        "id": "dGlBoIha1cjy",
        "outputId": "fbe1f0bc-a0bc-43dd-b020-3f33773ec4fe",
        "colab": {
          "base_uri": "https://localhost:8080/",
          "height": 480
        }
      },
      "execution_count": null,
      "outputs": [
        {
          "output_type": "display_data",
          "data": {
            "text/plain": [
              "<Figure size 640x480 with 1 Axes>"
            ],
            "image/png": "[encoded data removed]"
          },
          "metadata": {}
        }
      ]
    },
    {
      "cell_type": "code",
      "source": [
        "data_filtered.to_csv(\n",
        "    Path(working_path).joinpath('data_filtered_done.csv')\n",
        ")\n",
        "data_filtered['Identifiers'].to_csv(\n",
        "    Path(working_path).joinpath('ids.csv')\n",
        ")"
      ],
      "metadata": {
        "id": "uz36YChcWxi9"
      },
      "execution_count": 167,
      "outputs": []
    }
  ]
}