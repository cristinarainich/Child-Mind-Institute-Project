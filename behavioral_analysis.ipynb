{
  "nbformat": 4,
  "nbformat_minor": 0,
  "metadata": {
    "colab": {
      "provenance": [],
      "authorship_tag": "ABX9TyMi2Jw6VAL3ujf3wOQbtjlj",
      "include_colab_link": true
    },
    "kernelspec": {
      "name": "python3",
      "display_name": "Python 3"
    },
    "language_info": {
      "name": "python"
    }
  },
  "cells": [
    {
      "cell_type": "markdown",
      "metadata": {
        "id": "view-in-github",
        "colab_type": "text"
      },
      "source": [
        "<a href=\"https://colab.research.google.com/github/cristinarainich/Child-Mind-Institute-Project/blob/main/behavioral_analysis.ipynb\" target=\"_parent\"><img src=\"https://colab.research.google.com/assets/colab-badge.svg\" alt=\"Open In Colab\"/></a>"
      ]
    },
    {
      "cell_type": "code",
      "execution_count": 1,
      "metadata": {
        "colab": {
          "base_uri": "https://localhost:8080/"
        },
        "id": "qHeFXTeN4M9g",
        "outputId": "6b86dc30-49ed-41a4-adc2-041b055318fd"
      },
      "outputs": [
        {
          "output_type": "stream",
          "name": "stdout",
          "text": [
            "Mounted at /content/drive\n"
          ]
        }
      ],
      "source": [
        "from google.colab import drive\n",
        "drive.mount('/content/drive')"
      ]
    },
    {
      "cell_type": "code",
      "source": [
        "from pathlib import Path\n",
        "import pandas as pd\n",
        "import numpy as np\n",
        "import math\n",
        "import pylab as pl\n",
        "import seaborn as sns\n",
        "from scipy import stats\n",
        "%pylab inline"
      ],
      "metadata": {
        "colab": {
          "base_uri": "https://localhost:8080/"
        },
        "id": "JIhyU4T84RHw",
        "outputId": "a98cf0c6-69fb-4a15-b59e-1b7c38fc1572"
      },
      "execution_count": 2,
      "outputs": [
        {
          "output_type": "stream",
          "name": "stdout",
          "text": [
            "Populating the interactive namespace from numpy and matplotlib\n"
          ]
        }
      ]
    },
    {
      "cell_type": "code",
      "source": [
        "sns.set()"
      ],
      "metadata": {
        "id": "19dPEskf4U_n"
      },
      "execution_count": 3,
      "outputs": []
    },
    {
      "cell_type": "code",
      "source": [
        "working_path = Path('/content/drive/MyDrive/KKNV/CMI')"
      ],
      "metadata": {
        "id": "yr7e57VzyGwt"
      },
      "execution_count": 4,
      "outputs": []
    },
    {
      "cell_type": "code",
      "source": [
        "cd /content/drive/MyDrive/KKNV/CMI"
      ],
      "metadata": {
        "colab": {
          "base_uri": "https://localhost:8080/"
        },
        "id": "DqBlSCfl4Z33",
        "outputId": "f994411a-8064-496f-9f58-2a442433c901"
      },
      "execution_count": 5,
      "outputs": [
        {
          "output_type": "stream",
          "name": "stdout",
          "text": [
            "/content/drive/MyDrive/KKNV/CMI\n"
          ]
        }
      ]
    },
    {
      "cell_type": "code",
      "source": [
        "!ls /content/drive/MyDrive/KKNV/CMI"
      ],
      "metadata": {
        "colab": {
          "base_uri": "https://localhost:8080/"
        },
        "id": "LzoAsgwe4Z64",
        "outputId": "b96e828d-1b7e-491d-af93-1bf484e7453c"
      },
      "execution_count": 6,
      "outputs": [
        {
          "output_type": "stream",
          "name": "stdout",
          "text": [
            "'CMI Project. Updates.gslides'\t HBN_R1_1_Pheno.csv   HBN_R6_Pheno.csv\t old\n",
            " data_summary.csv\t\t HBN_R11_Pheno.csv    HBN_R7_Pheno.csv\t participants.tsv\n",
            " data_summary_updated.csv\t HBN_R2_1_Pheno.csv   HBN_R8_Pheno.csv\t query_September2024.csv\n",
            " final_data.csv\t\t\t HBN_R3_Pheno.csv     HBN_R9_Pheno.csv\n",
            " final_ids.csv\t\t\t HBN_R4_Pheno.csv     id_list.txt\n",
            " HBN_R10_Pheno.csv\t\t HBN_R5_Pheno.csv     missing_ids.txt\n"
          ]
        }
      ]
    },
    {
      "cell_type": "markdown",
      "source": [
        "## Where to download subject's data\n"
      ],
      "metadata": {
        "id": "jbOyv8jHSVzX"
      }
    },
    {
      "cell_type": "code",
      "source": [
        "# info on whether there are phenotypical full files and imaging data availale\n",
        "file1 = pd.read_csv(\n",
        "    working_path.joinpath('HBN_R1_1_Pheno.csv'),\n",
        "    index_col=None\n",
        ")\n",
        "file2 = pd.read_csv(\n",
        "    working_path.joinpath('HBN_R2_1_Pheno.csv'),\n",
        "    index_col=None\n",
        ")\n",
        "file3 = pd.read_csv(\n",
        "    working_path.joinpath('HBN_R3_Pheno.csv'),\n",
        "    index_col=None\n",
        ")\n",
        "file4 = pd.read_csv(\n",
        "    working_path.joinpath('HBN_R4_Pheno.csv'),\n",
        "    index_col=None\n",
        ")\n",
        "file5 = pd.read_csv(\n",
        "    working_path.joinpath('HBN_R5_Pheno.csv'),\n",
        "    index_col=None\n",
        ")\n",
        "file6 = pd.read_csv(\n",
        "    working_path.joinpath('HBN_R6_Pheno.csv'),\n",
        "    index_col=None\n",
        ")\n",
        "file7 = pd.read_csv(\n",
        "    working_path.joinpath('HBN_R7_Pheno.csv'),\n",
        "    index_col=None\n",
        ")\n",
        "file8 = pd.read_csv(\n",
        "    working_path.joinpath('HBN_R8_Pheno.csv'),\n",
        "    index_col=None\n",
        ")\n",
        "file9 = pd.read_csv(\n",
        "    working_path.joinpath('HBN_R9_Pheno.csv'),\n",
        "    index_col=None\n",
        ")\n",
        "file10 = pd.read_csv(\n",
        "    working_path.joinpath('HBN_R10_Pheno.csv'),\n",
        "    index_col=None\n",
        ")\n",
        "file11 = pd.read_csv(\n",
        "    working_path.joinpath('HBN_R11_Pheno.csv'),\n",
        "    index_col=None\n",
        ")"
      ],
      "metadata": {
        "id": "s8QqO0lrB3Sg"
      },
      "execution_count": null,
      "outputs": []
    },
    {
      "cell_type": "code",
      "source": [
        "files = [\n",
        "    file1, file2, file3, file4, file5, file6, file7, file8, file9, file10, file11\n",
        "    ]\n",
        "for i in range(0, 11):\n",
        "  release_info = files[i]\n",
        "  release_info['Release'] = i + 1"
      ],
      "metadata": {
        "id": "diuREpQTv9n0"
      },
      "execution_count": null,
      "outputs": []
    },
    {
      "cell_type": "code",
      "source": [
        "# creating a common df on the info from all the releases\n",
        "fullpheno = pd.DataFrame()\n",
        "for i in files:\n",
        "  fullpheno = pd.concat([fullpheno, i])"
      ],
      "metadata": {
        "id": "DhE2z1j_xAK_"
      },
      "execution_count": null,
      "outputs": []
    },
    {
      "cell_type": "code",
      "source": [
        "print('The shape of the fullpheno file :', fullpheno.shape)\n",
        "print('The number of duplicated entries in the fullpheno file: ', fullpheno['EID'].duplicated().sum())\n",
        "# this basically means that the neuroimaging data from the same participants could be in different releases"
      ],
      "metadata": {
        "colab": {
          "base_uri": "https://localhost:8080/"
        },
        "id": "NigweXgSwIdq",
        "outputId": "d9ca74a5-ce7d-417a-bc05-68da142d959f"
      },
      "execution_count": null,
      "outputs": [
        {
          "output_type": "stream",
          "name": "stdout",
          "text": [
            "The shape of the fullpheno file : (5810, 7)\n",
            "The number of duplicated entries in the fullpheno file:  1246\n"
          ]
        }
      ]
    },
    {
      "cell_type": "code",
      "source": [
        "ids = pd.read_csv(\n",
        "    working_path.joinpath('final_ids.csv'),\n",
        "    index_col=None\n",
        ")"
      ],
      "metadata": {
        "id": "wZ3ClhVjw7Lq"
      },
      "execution_count": null,
      "outputs": []
    },
    {
      "cell_type": "code",
      "source": [
        "final_ids = ids['Identifiers'].values.tolist()\n",
        "print('The number of sibjects in our sample: ', len(final_ids))"
      ],
      "metadata": {
        "colab": {
          "base_uri": "https://localhost:8080/"
        },
        "id": "qCAeJO6GyNhp",
        "outputId": "41348929-58f0-48b7-d68d-cc9272e72fe3"
      },
      "execution_count": null,
      "outputs": [
        {
          "output_type": "stream",
          "name": "stdout",
          "text": [
            "The number of sibjects in our sample:  619\n"
          ]
        }
      ]
    },
    {
      "cell_type": "code",
      "source": [
        "# Write the IDs to a text file in Colab\n",
        "with open('id_list.txt', 'w') as file:\n",
        "    for id in final_ids:\n",
        "        file.write(id + '\\n')\n"
      ],
      "metadata": {
        "id": "lXsqFhdKpwcv"
      },
      "execution_count": null,
      "outputs": []
    },
    {
      "cell_type": "code",
      "source": [
        "from google.colab import files\n",
        "files.download('id_list.txt')"
      ],
      "metadata": {
        "colab": {
          "base_uri": "https://localhost:8080/",
          "height": 17
        },
        "id": "McC3KTvtqT8R",
        "outputId": "034ef4dc-2622-41b2-9663-8e7bed0d355a"
      },
      "execution_count": null,
      "outputs": [
        {
          "output_type": "display_data",
          "data": {
            "text/plain": [
              "<IPython.core.display.Javascript object>"
            ],
            "application/javascript": [
              "\n",
              "    async function download(id, filename, size) {\n",
              "      if (!google.colab.kernel.accessAllowed) {\n",
              "        return;\n",
              "      }\n",
              "      const div = document.createElement('div');\n",
              "      const label = document.createElement('label');\n",
              "      label.textContent = `Downloading \"${filename}\": `;\n",
              "      div.appendChild(label);\n",
              "      const progress = document.createElement('progress');\n",
              "      progress.max = size;\n",
              "      div.appendChild(progress);\n",
              "      document.body.appendChild(div);\n",
              "\n",
              "      const buffers = [];\n",
              "      let downloaded = 0;\n",
              "\n",
              "      const channel = await google.colab.kernel.comms.open(id);\n",
              "      // Send a message to notify the kernel that we're ready.\n",
              "      channel.send({})\n",
              "\n",
              "      for await (const message of channel.messages) {\n",
              "        // Send a message to notify the kernel that we're ready.\n",
              "        channel.send({})\n",
              "        if (message.buffers) {\n",
              "          for (const buffer of message.buffers) {\n",
              "            buffers.push(buffer);\n",
              "            downloaded += buffer.byteLength;\n",
              "            progress.value = downloaded;\n",
              "          }\n",
              "        }\n",
              "      }\n",
              "      const blob = new Blob(buffers, {type: 'application/binary'});\n",
              "      const a = document.createElement('a');\n",
              "      a.href = window.URL.createObjectURL(blob);\n",
              "      a.download = filename;\n",
              "      div.appendChild(a);\n",
              "      a.click();\n",
              "      div.remove();\n",
              "    }\n",
              "  "
            ]
          },
          "metadata": {}
        },
        {
          "output_type": "display_data",
          "data": {
            "text/plain": [
              "<IPython.core.display.Javascript object>"
            ],
            "application/javascript": [
              "download(\"download_1658818d-4772-4b69-8fd7-5bd1c747735f\", \"id_list.txt\", 8047)"
            ]
          },
          "metadata": {}
        }
      ]
    },
    {
      "cell_type": "code",
      "source": [
        "# so now we need to compare our subjects and see in what releases we might have their data\n",
        "release = []\n",
        "no_release_ids = [] # ids that are in final id .csv and in our sample, but absent from pheno data files\n",
        "for id in final_ids:\n",
        "  subset = fullpheno[fullpheno['EID'] == id]\n",
        "  release_info = subset['Release'].values.tolist()\n",
        "  if len(release_info) == 1:\n",
        "    release.append(release_info[0])\n",
        "  elif len(release_info) == 0:\n",
        "    no_release_ids.append(id)\n",
        "    release.append('No release information')\n",
        "  else:\n",
        "    name = ''\n",
        "    for i in release_info:\n",
        "      name = name + str(i) + ' '\n",
        "    release.append(name)\n",
        "\n",
        "ids['Release'] = release"
      ],
      "metadata": {
        "id": "MYm82z0nyOfZ"
      },
      "execution_count": null,
      "outputs": []
    },
    {
      "cell_type": "code",
      "source": [
        "ids.groupby(['Release'])[['Identifiers']].count()"
      ],
      "metadata": {
        "colab": {
          "base_uri": "https://localhost:8080/",
          "height": 1000
        },
        "id": "XBj8XxVUzJux",
        "outputId": "997bc7e7-12ed-4519-ebe7-d1f1d90449b1"
      },
      "execution_count": null,
      "outputs": [
        {
          "output_type": "execute_result",
          "data": {
            "text/plain": [
              "                        Identifiers\n",
              "Release                            \n",
              "1                               120\n",
              "2                                15\n",
              "3                                13\n",
              "4                                39\n",
              "5                                22\n",
              "6                                16\n",
              "7                                50\n",
              "8                                51\n",
              "9                                38\n",
              "10                               32\n",
              "11                               29\n",
              "1 2                              11\n",
              "1 3                               1\n",
              "10 11                            42\n",
              "2 3                               8\n",
              "2 4                               1\n",
              "3 4                              19\n",
              "4 5                              19\n",
              "4 6                               3\n",
              "5 6                              12\n",
              "5 7                               1\n",
              "6 7                              22\n",
              "7 8                              20\n",
              "7 9                               2\n",
              "8 11                              1\n",
              "8 9                               1\n",
              "9 10                              5\n",
              "9 10 11                           3\n",
              "9 11                              4\n",
              "No release information           19"
            ],
            "text/html": [
              "\n",
              "  <div id=\"df-42461c0b-fd8e-4617-840b-514dff47d959\" class=\"colab-df-container\">\n",
              "    <div>\n",
              "<style scoped>\n",
              "    .dataframe tbody tr th:only-of-type {\n",
              "        vertical-align: middle;\n",
              "    }\n",
              "\n",
              "    .dataframe tbody tr th {\n",
              "        vertical-align: top;\n",
              "    }\n",
              "\n",
              "    .dataframe thead th {\n",
              "        text-align: right;\n",
              "    }\n",
              "</style>\n",
              "<table border=\"1\" class=\"dataframe\">\n",
              "  <thead>\n",
              "    <tr style=\"text-align: right;\">\n",
              "      <th></th>\n",
              "      <th>Identifiers</th>\n",
              "    </tr>\n",
              "    <tr>\n",
              "      <th>Release</th>\n",
              "      <th></th>\n",
              "    </tr>\n",
              "  </thead>\n",
              "  <tbody>\n",
              "    <tr>\n",
              "      <th>1</th>\n",
              "      <td>120</td>\n",
              "    </tr>\n",
              "    <tr>\n",
              "      <th>2</th>\n",
              "      <td>15</td>\n",
              "    </tr>\n",
              "    <tr>\n",
              "      <th>3</th>\n",
              "      <td>13</td>\n",
              "    </tr>\n",
              "    <tr>\n",
              "      <th>4</th>\n",
              "      <td>39</td>\n",
              "    </tr>\n",
              "    <tr>\n",
              "      <th>5</th>\n",
              "      <td>22</td>\n",
              "    </tr>\n",
              "    <tr>\n",
              "      <th>6</th>\n",
              "      <td>16</td>\n",
              "    </tr>\n",
              "    <tr>\n",
              "      <th>7</th>\n",
              "      <td>50</td>\n",
              "    </tr>\n",
              "    <tr>\n",
              "      <th>8</th>\n",
              "      <td>51</td>\n",
              "    </tr>\n",
              "    <tr>\n",
              "      <th>9</th>\n",
              "      <td>38</td>\n",
              "    </tr>\n",
              "    <tr>\n",
              "      <th>10</th>\n",
              "      <td>32</td>\n",
              "    </tr>\n",
              "    <tr>\n",
              "      <th>11</th>\n",
              "      <td>29</td>\n",
              "    </tr>\n",
              "    <tr>\n",
              "      <th>1 2</th>\n",
              "      <td>11</td>\n",
              "    </tr>\n",
              "    <tr>\n",
              "      <th>1 3</th>\n",
              "      <td>1</td>\n",
              "    </tr>\n",
              "    <tr>\n",
              "      <th>10 11</th>\n",
              "      <td>42</td>\n",
              "    </tr>\n",
              "    <tr>\n",
              "      <th>2 3</th>\n",
              "      <td>8</td>\n",
              "    </tr>\n",
              "    <tr>\n",
              "      <th>2 4</th>\n",
              "      <td>1</td>\n",
              "    </tr>\n",
              "    <tr>\n",
              "      <th>3 4</th>\n",
              "      <td>19</td>\n",
              "    </tr>\n",
              "    <tr>\n",
              "      <th>4 5</th>\n",
              "      <td>19</td>\n",
              "    </tr>\n",
              "    <tr>\n",
              "      <th>4 6</th>\n",
              "      <td>3</td>\n",
              "    </tr>\n",
              "    <tr>\n",
              "      <th>5 6</th>\n",
              "      <td>12</td>\n",
              "    </tr>\n",
              "    <tr>\n",
              "      <th>5 7</th>\n",
              "      <td>1</td>\n",
              "    </tr>\n",
              "    <tr>\n",
              "      <th>6 7</th>\n",
              "      <td>22</td>\n",
              "    </tr>\n",
              "    <tr>\n",
              "      <th>7 8</th>\n",
              "      <td>20</td>\n",
              "    </tr>\n",
              "    <tr>\n",
              "      <th>7 9</th>\n",
              "      <td>2</td>\n",
              "    </tr>\n",
              "    <tr>\n",
              "      <th>8 11</th>\n",
              "      <td>1</td>\n",
              "    </tr>\n",
              "    <tr>\n",
              "      <th>8 9</th>\n",
              "      <td>1</td>\n",
              "    </tr>\n",
              "    <tr>\n",
              "      <th>9 10</th>\n",
              "      <td>5</td>\n",
              "    </tr>\n",
              "    <tr>\n",
              "      <th>9 10 11</th>\n",
              "      <td>3</td>\n",
              "    </tr>\n",
              "    <tr>\n",
              "      <th>9 11</th>\n",
              "      <td>4</td>\n",
              "    </tr>\n",
              "    <tr>\n",
              "      <th>No release information</th>\n",
              "      <td>19</td>\n",
              "    </tr>\n",
              "  </tbody>\n",
              "</table>\n",
              "</div>\n",
              "    <div class=\"colab-df-buttons\">\n",
              "\n",
              "  <div class=\"colab-df-container\">\n",
              "    <button class=\"colab-df-convert\" onclick=\"convertToInteractive('df-42461c0b-fd8e-4617-840b-514dff47d959')\"\n",
              "            title=\"Convert this dataframe to an interactive table.\"\n",
              "            style=\"display:none;\">\n",
              "\n",
              "  <svg xmlns=\"http://www.w3.org/2000/svg\" height=\"24px\" viewBox=\"0 -960 960 960\">\n",
              "    <path d=\"M120-120v-720h720v720H120Zm60-500h600v-160H180v160Zm220 220h160v-160H400v160Zm0 220h160v-160H400v160ZM180-400h160v-160H180v160Zm440 0h160v-160H620v160ZM180-180h160v-160H180v160Zm440 0h160v-160H620v160Z\"/>\n",
              "  </svg>\n",
              "    </button>\n",
              "\n",
              "  <style>\n",
              "    .colab-df-container {\n",
              "      display:flex;\n",
              "      gap: 12px;\n",
              "    }\n",
              "\n",
              "    .colab-df-convert {\n",
              "      background-color: #E8F0FE;\n",
              "      border: none;\n",
              "      border-radius: 50%;\n",
              "      cursor: pointer;\n",
              "      display: none;\n",
              "      fill: #1967D2;\n",
              "      height: 32px;\n",
              "      padding: 0 0 0 0;\n",
              "      width: 32px;\n",
              "    }\n",
              "\n",
              "    .colab-df-convert:hover {\n",
              "      background-color: #E2EBFA;\n",
              "      box-shadow: 0px 1px 2px rgba(60, 64, 67, 0.3), 0px 1px 3px 1px rgba(60, 64, 67, 0.15);\n",
              "      fill: #174EA6;\n",
              "    }\n",
              "\n",
              "    .colab-df-buttons div {\n",
              "      margin-bottom: 4px;\n",
              "    }\n",
              "\n",
              "    [theme=dark] .colab-df-convert {\n",
              "      background-color: #3B4455;\n",
              "      fill: #D2E3FC;\n",
              "    }\n",
              "\n",
              "    [theme=dark] .colab-df-convert:hover {\n",
              "      background-color: #434B5C;\n",
              "      box-shadow: 0px 1px 3px 1px rgba(0, 0, 0, 0.15);\n",
              "      filter: drop-shadow(0px 1px 2px rgba(0, 0, 0, 0.3));\n",
              "      fill: #FFFFFF;\n",
              "    }\n",
              "  </style>\n",
              "\n",
              "    <script>\n",
              "      const buttonEl =\n",
              "        document.querySelector('#df-42461c0b-fd8e-4617-840b-514dff47d959 button.colab-df-convert');\n",
              "      buttonEl.style.display =\n",
              "        google.colab.kernel.accessAllowed ? 'block' : 'none';\n",
              "\n",
              "      async function convertToInteractive(key) {\n",
              "        const element = document.querySelector('#df-42461c0b-fd8e-4617-840b-514dff47d959');\n",
              "        const dataTable =\n",
              "          await google.colab.kernel.invokeFunction('convertToInteractive',\n",
              "                                                    [key], {});\n",
              "        if (!dataTable) return;\n",
              "\n",
              "        const docLinkHtml = 'Like what you see? Visit the ' +\n",
              "          '<a target=\"_blank\" href=https://colab.research.google.com/notebooks/data_table.ipynb>data table notebook</a>'\n",
              "          + ' to learn more about interactive tables.';\n",
              "        element.innerHTML = '';\n",
              "        dataTable['output_type'] = 'display_data';\n",
              "        await google.colab.output.renderOutput(dataTable, element);\n",
              "        const docLink = document.createElement('div');\n",
              "        docLink.innerHTML = docLinkHtml;\n",
              "        element.appendChild(docLink);\n",
              "      }\n",
              "    </script>\n",
              "  </div>\n",
              "\n",
              "\n",
              "<div id=\"df-7bfa88e1-ba84-475d-92ff-3f4c789502c9\">\n",
              "  <button class=\"colab-df-quickchart\" onclick=\"quickchart('df-7bfa88e1-ba84-475d-92ff-3f4c789502c9')\"\n",
              "            title=\"Suggest charts\"\n",
              "            style=\"display:none;\">\n",
              "\n",
              "<svg xmlns=\"http://www.w3.org/2000/svg\" height=\"24px\"viewBox=\"0 0 24 24\"\n",
              "     width=\"24px\">\n",
              "    <g>\n",
              "        <path d=\"M19 3H5c-1.1 0-2 .9-2 2v14c0 1.1.9 2 2 2h14c1.1 0 2-.9 2-2V5c0-1.1-.9-2-2-2zM9 17H7v-7h2v7zm4 0h-2V7h2v10zm4 0h-2v-4h2v4z\"/>\n",
              "    </g>\n",
              "</svg>\n",
              "  </button>\n",
              "\n",
              "<style>\n",
              "  .colab-df-quickchart {\n",
              "      --bg-color: #E8F0FE;\n",
              "      --fill-color: #1967D2;\n",
              "      --hover-bg-color: #E2EBFA;\n",
              "      --hover-fill-color: #174EA6;\n",
              "      --disabled-fill-color: #AAA;\n",
              "      --disabled-bg-color: #DDD;\n",
              "  }\n",
              "\n",
              "  [theme=dark] .colab-df-quickchart {\n",
              "      --bg-color: #3B4455;\n",
              "      --fill-color: #D2E3FC;\n",
              "      --hover-bg-color: #434B5C;\n",
              "      --hover-fill-color: #FFFFFF;\n",
              "      --disabled-bg-color: #3B4455;\n",
              "      --disabled-fill-color: #666;\n",
              "  }\n",
              "\n",
              "  .colab-df-quickchart {\n",
              "    background-color: var(--bg-color);\n",
              "    border: none;\n",
              "    border-radius: 50%;\n",
              "    cursor: pointer;\n",
              "    display: none;\n",
              "    fill: var(--fill-color);\n",
              "    height: 32px;\n",
              "    padding: 0;\n",
              "    width: 32px;\n",
              "  }\n",
              "\n",
              "  .colab-df-quickchart:hover {\n",
              "    background-color: var(--hover-bg-color);\n",
              "    box-shadow: 0 1px 2px rgba(60, 64, 67, 0.3), 0 1px 3px 1px rgba(60, 64, 67, 0.15);\n",
              "    fill: var(--button-hover-fill-color);\n",
              "  }\n",
              "\n",
              "  .colab-df-quickchart-complete:disabled,\n",
              "  .colab-df-quickchart-complete:disabled:hover {\n",
              "    background-color: var(--disabled-bg-color);\n",
              "    fill: var(--disabled-fill-color);\n",
              "    box-shadow: none;\n",
              "  }\n",
              "\n",
              "  .colab-df-spinner {\n",
              "    border: 2px solid var(--fill-color);\n",
              "    border-color: transparent;\n",
              "    border-bottom-color: var(--fill-color);\n",
              "    animation:\n",
              "      spin 1s steps(1) infinite;\n",
              "  }\n",
              "\n",
              "  @keyframes spin {\n",
              "    0% {\n",
              "      border-color: transparent;\n",
              "      border-bottom-color: var(--fill-color);\n",
              "      border-left-color: var(--fill-color);\n",
              "    }\n",
              "    20% {\n",
              "      border-color: transparent;\n",
              "      border-left-color: var(--fill-color);\n",
              "      border-top-color: var(--fill-color);\n",
              "    }\n",
              "    30% {\n",
              "      border-color: transparent;\n",
              "      border-left-color: var(--fill-color);\n",
              "      border-top-color: var(--fill-color);\n",
              "      border-right-color: var(--fill-color);\n",
              "    }\n",
              "    40% {\n",
              "      border-color: transparent;\n",
              "      border-right-color: var(--fill-color);\n",
              "      border-top-color: var(--fill-color);\n",
              "    }\n",
              "    60% {\n",
              "      border-color: transparent;\n",
              "      border-right-color: var(--fill-color);\n",
              "    }\n",
              "    80% {\n",
              "      border-color: transparent;\n",
              "      border-right-color: var(--fill-color);\n",
              "      border-bottom-color: var(--fill-color);\n",
              "    }\n",
              "    90% {\n",
              "      border-color: transparent;\n",
              "      border-bottom-color: var(--fill-color);\n",
              "    }\n",
              "  }\n",
              "</style>\n",
              "\n",
              "  <script>\n",
              "    async function quickchart(key) {\n",
              "      const quickchartButtonEl =\n",
              "        document.querySelector('#' + key + ' button');\n",
              "      quickchartButtonEl.disabled = true;  // To prevent multiple clicks.\n",
              "      quickchartButtonEl.classList.add('colab-df-spinner');\n",
              "      try {\n",
              "        const charts = await google.colab.kernel.invokeFunction(\n",
              "            'suggestCharts', [key], {});\n",
              "      } catch (error) {\n",
              "        console.error('Error during call to suggestCharts:', error);\n",
              "      }\n",
              "      quickchartButtonEl.classList.remove('colab-df-spinner');\n",
              "      quickchartButtonEl.classList.add('colab-df-quickchart-complete');\n",
              "    }\n",
              "    (() => {\n",
              "      let quickchartButtonEl =\n",
              "        document.querySelector('#df-7bfa88e1-ba84-475d-92ff-3f4c789502c9 button');\n",
              "      quickchartButtonEl.style.display =\n",
              "        google.colab.kernel.accessAllowed ? 'block' : 'none';\n",
              "    })();\n",
              "  </script>\n",
              "</div>\n",
              "\n",
              "    </div>\n",
              "  </div>\n"
            ],
            "application/vnd.google.colaboratory.intrinsic+json": {
              "type": "dataframe",
              "summary": "{\n  \"name\": \"ids\",\n  \"rows\": 30,\n  \"fields\": [\n    {\n      \"column\": \"Release\",\n      \"properties\": {\n        \"dtype\": \"string\",\n        \"num_unique_values\": 30,\n        \"samples\": [\n          \"9 10 11 \",\n          \"2 4 \",\n          \"7 9 \"\n        ],\n        \"semantic_type\": \"\",\n        \"description\": \"\"\n      }\n    },\n    {\n      \"column\": \"Identifiers\",\n      \"properties\": {\n        \"dtype\": \"number\",\n        \"std\": 24,\n        \"min\": 1,\n        \"max\": 120,\n        \"num_unique_values\": 22,\n        \"samples\": [\n          120,\n          42,\n          38\n        ],\n        \"semantic_type\": \"\",\n        \"description\": \"\"\n      }\n    }\n  ]\n}"
            }
          },
          "metadata": {},
          "execution_count": 20
        }
      ]
    },
    {
      "cell_type": "code",
      "source": [
        "# manual search in the database - where they could be if they are there at all\n",
        "no_release_ids"
      ],
      "metadata": {
        "colab": {
          "base_uri": "https://localhost:8080/"
        },
        "id": "f7BIGbaHzkKh",
        "outputId": "3028a373-8135-471e-9e01-2a3929acf045"
      },
      "execution_count": null,
      "outputs": [
        {
          "output_type": "execute_result",
          "data": {
            "text/plain": [
              "['NDARAE264WPZ',\n",
              " 'NDARBE220VRK',\n",
              " 'NDARCU811WCY',\n",
              " 'NDARDX969ECK',\n",
              " 'NDAREA136BDX',\n",
              " 'NDAREY721PVD',\n",
              " 'NDARKK745DHA',\n",
              " 'NDARLN658KCD',\n",
              " 'NDARMG114FCW',\n",
              " 'NDARNK354JWK',\n",
              " 'NDARRY217HD3',\n",
              " 'NDARTK435YWU',\n",
              " 'NDARVN280JTN',\n",
              " 'NDARWP864WGV',\n",
              " 'NDARZT011LBZ',\n",
              " 'NDARBV503LF7',\n",
              " 'NDARFB784LDG',\n",
              " 'NDARPK265ZXW',\n",
              " 'NDARUL596DY9']"
            ]
          },
          "metadata": {},
          "execution_count": 21
        }
      ]
    },
    {
      "cell_type": "markdown",
      "source": [
        "I checked and downloaded the MRI datasets that we have. Here is the file called missing_ids.txt with the identifiers for whome we don't have an MRI set."
      ],
      "metadata": {
        "id": "tNYslwdkvZI4"
      }
    },
    {
      "cell_type": "code",
      "source": [
        "with open(working_path.joinpath('missing_ids.txt'), 'r') as file:\n",
        "    content = file.read()\n",
        "\n",
        "# Convert content into a list by splitting on new lines\n",
        "missing_ids = content.splitlines()  # This will create a list of items\n",
        "print('The number of missing ids: ', len(missing_ids))"
      ],
      "metadata": {
        "id": "nADS61Nz2Uqp",
        "colab": {
          "base_uri": "https://localhost:8080/"
        },
        "outputId": "b3a1c4ac-57b8-4b56-d8ee-7c5e24f865d2"
      },
      "execution_count": null,
      "outputs": [
        {
          "output_type": "stream",
          "name": "stdout",
          "text": [
            "<class 'str'>\n",
            "The number of missing ids:  139\n"
          ]
        }
      ]
    },
    {
      "cell_type": "code",
      "source": [
        "notes_missing_ids_1 = ['NDARAE264WPZ',\n",
        " 'NDARBE220VRK',\n",
        " 'NDARCU811WCY',\n",
        " 'NDARDX969ECK',\n",
        " 'NDAREA136BDX',\n",
        " 'NDAREY721PVD',\n",
        " 'NDARKK745DHA',\n",
        " 'NDARLN658KCD',\n",
        " 'NDARMG114FCW',\n",
        " 'NDARNK354JWK',\n",
        " 'NDARRY217HD3',\n",
        " 'NDARTK435YWU',\n",
        " 'NDARWP864WGV',\n",
        " 'NDARZT011LBZ',\n",
        " 'NDARBV503LF7',\n",
        " 'NDARFB784LDG',\n",
        " 'NDARPK265ZXW',\n",
        " 'NDARUL596DY9']"
      ],
      "metadata": {
        "id": "R-han2jxv0Sd"
      },
      "execution_count": null,
      "outputs": []
    },
    {
      "cell_type": "code",
      "source": [
        "notes_missing_ids_2 = 'NDARAN385MDH, NDARBH024NH2, NDAREL622FA6, NDAREW976FNL, NDARFF598HGT, NDARFY075REK, NDARGR875AXY, NDARGV956EGX, NDARHB000YF8, NDARHN131ZP6, NDARHW650FXU, NDARJH441HJD, NDARKU278YRR, NDARLA395AG8, NDARLC358CYJ, NDARLX816JUZ, NDARMH625WKL, NDARNP399JVF, NDARRG415BJM, NDARTX934NH6, NDARUV418FB8, NDARUX114RGJ, NDARVV248VW0, NDARVX337AC0, NDARWZ495PG4, NDARYJ389DWX, NDARYP516VUU, NDARAU447JZH, NDARVM025NCF, NDARDR296XHN, NDARTF566PYH, NDARXT325FV6, NDARAG584XLU, NDARDJ092YKH, NDARDN924BV2, NDAREW201WD9, NDARGZ282DLD, NDARMV575DC1, NDARTC707KPU, NDARVX856RHN, NDARWX051KEV, NDARYY694NE7, NDARDV245WJG, NDARJH763NPD, NDARLE091XAZ, NDARPE551CK7, NDARPL596YTD, NDARRV505ND6, NDARYJ735XPK, NDARHP039DBU, NDARJJ817UP1, NDARLJ168LXY, NDARWF205BUM, NDARWN424BPK, NDAREU438HAF, NDARGN721GKT, NDARJV411EH6, NDARKH291KRE, NDARME573TRB, NDARPC931KR1, NDARTL667CCG,NDARUV147TDD, NDARVF039ZLX, NDARXG799KWJ, NDARZK891FTB, NDARZM580BG2, NDARBJ016AKE, NDARFJ988HKR, NDARGV263ZRY, NDARHA780UYE, NDARMH488KY0, NDARRH199NCH, NDARRV410KY1, NDARTF150VPJ, NDARTH529YKZ, NDARVK196LEK, NDARWB903FVY, NDARYG172DBJ, NDARZK709KEY, NDARAE710YWG, NDARAH239PGG, NDARAU939WUK, NDARCD453JG4, NDARET484TTP, NDARFR601RDQ, NDARGJ653MG2, NDARJC299PRZ, NDARJW989EM6, NDARLC655XBR, NDARLK690ZK9, NDARNM838ABN, NDARTC527WPZ, NDARTL878RZ2, NDARZB345GKD, NDARCM677TC1, NDARDG644LJX, NDARHL237MPV, NDARLK034DJB, NDARYR692VVC, NDARAT696TMM, NDARBH536UD3, NDARCH084YL1, NDARFE593CUC, NDARFF757TUX, NDARGW785MWF, NDARJK827DBP, NDARLB930UWR, NDARMJ741DZB, NDARRR351RXB, NDARTF250GYT, NDARTH373NE7, NDARVM414ZWU, NDARWR139LVZ, NDARZW623WYG, NDARAA773LUW, NDARAG644KE3, NDARBH701KA1, NDARCE788KXW, NDARJT819VAX, NDARPB701XDP, NDARTH261GB5'"
      ],
      "metadata": {
        "id": "S36g-tigykzV"
      },
      "execution_count": null,
      "outputs": []
    },
    {
      "cell_type": "code",
      "source": [
        "# Convert content into a list by splitting on commas\n",
        "notes_2 = notes_missing_ids_2.split(',')  # This will create a list of items\n",
        "notes = notes_missing_ids_1 + notes_2\n",
        "notes = [note.strip() for note in notes]"
      ],
      "metadata": {
        "id": "ycyaoNRhviGP"
      },
      "execution_count": null,
      "outputs": []
    },
    {
      "cell_type": "code",
      "source": [
        "print(len(notes))\n",
        "print(len(missing_ids))"
      ],
      "metadata": {
        "colab": {
          "base_uri": "https://localhost:8080/"
        },
        "id": "uX_CMbqWxEUL",
        "outputId": "0827d4da-a82d-40ca-dd9c-d4452e93b2b2"
      },
      "execution_count": null,
      "outputs": [
        {
          "output_type": "stream",
          "name": "stdout",
          "text": [
            "139\n",
            "139\n"
          ]
        }
      ]
    },
    {
      "cell_type": "code",
      "source": [
        "missing_from_notes = [id for id in missing_ids if id not in notes]\n",
        "\n",
        "# Display the result\n",
        "print(\"Missing IDs from notes:\", missing_from_notes)"
      ],
      "metadata": {
        "colab": {
          "base_uri": "https://localhost:8080/"
        },
        "id": "Qq-n_hH3vDsv",
        "outputId": "dfd9a9b9-91b5-4cad-a738-423853228304"
      },
      "execution_count": null,
      "outputs": [
        {
          "output_type": "stream",
          "name": "stdout",
          "text": [
            "Missing IDs from notes: ['NDARDR804MFE', '']\n"
          ]
        }
      ]
    },
    {
      "cell_type": "code",
      "source": [
        "missing_from_missing_ids = [id for id in notes if id not in missing_ids]\n",
        "\n",
        "# Display the result\n",
        "print(\"Missing IDs from notes:\", missing_from_missing_ids)"
      ],
      "metadata": {
        "colab": {
          "base_uri": "https://localhost:8080/"
        },
        "id": "ZzPyvp28zAEX",
        "outputId": "f7595cc2-7724-4f66-9419-b866ebeb159a"
      },
      "execution_count": null,
      "outputs": [
        {
          "output_type": "stream",
          "name": "stdout",
          "text": [
            "Missing IDs from notes: ['NDARDV245WJG', 'NDARAG644KE3']\n"
          ]
        }
      ]
    },
    {
      "cell_type": "code",
      "source": [
        "ids[ids['Identifiers'] == 'NDARDR804MFE']"
      ],
      "metadata": {
        "colab": {
          "base_uri": "https://localhost:8080/",
          "height": 81
        },
        "id": "xvpy_5nMzgNB",
        "outputId": "2bd5ae6e-79ef-49b8-ce5a-a5809c9bd677"
      },
      "execution_count": null,
      "outputs": [
        {
          "output_type": "execute_result",
          "data": {
            "text/plain": [
              "     Unnamed: 0   Identifiers Release\n",
              "107         714  NDARDR804MFE       5"
            ],
            "text/html": [
              "\n",
              "  <div id=\"df-8b794769-7ddd-4917-9080-bc24e4f9e113\" class=\"colab-df-container\">\n",
              "    <div>\n",
              "<style scoped>\n",
              "    .dataframe tbody tr th:only-of-type {\n",
              "        vertical-align: middle;\n",
              "    }\n",
              "\n",
              "    .dataframe tbody tr th {\n",
              "        vertical-align: top;\n",
              "    }\n",
              "\n",
              "    .dataframe thead th {\n",
              "        text-align: right;\n",
              "    }\n",
              "</style>\n",
              "<table border=\"1\" class=\"dataframe\">\n",
              "  <thead>\n",
              "    <tr style=\"text-align: right;\">\n",
              "      <th></th>\n",
              "      <th>Unnamed: 0</th>\n",
              "      <th>Identifiers</th>\n",
              "      <th>Release</th>\n",
              "    </tr>\n",
              "  </thead>\n",
              "  <tbody>\n",
              "    <tr>\n",
              "      <th>107</th>\n",
              "      <td>714</td>\n",
              "      <td>NDARDR804MFE</td>\n",
              "      <td>5</td>\n",
              "    </tr>\n",
              "  </tbody>\n",
              "</table>\n",
              "</div>\n",
              "    <div class=\"colab-df-buttons\">\n",
              "\n",
              "  <div class=\"colab-df-container\">\n",
              "    <button class=\"colab-df-convert\" onclick=\"convertToInteractive('df-8b794769-7ddd-4917-9080-bc24e4f9e113')\"\n",
              "            title=\"Convert this dataframe to an interactive table.\"\n",
              "            style=\"display:none;\">\n",
              "\n",
              "  <svg xmlns=\"http://www.w3.org/2000/svg\" height=\"24px\" viewBox=\"0 -960 960 960\">\n",
              "    <path d=\"M120-120v-720h720v720H120Zm60-500h600v-160H180v160Zm220 220h160v-160H400v160Zm0 220h160v-160H400v160ZM180-400h160v-160H180v160Zm440 0h160v-160H620v160ZM180-180h160v-160H180v160Zm440 0h160v-160H620v160Z\"/>\n",
              "  </svg>\n",
              "    </button>\n",
              "\n",
              "  <style>\n",
              "    .colab-df-container {\n",
              "      display:flex;\n",
              "      gap: 12px;\n",
              "    }\n",
              "\n",
              "    .colab-df-convert {\n",
              "      background-color: #E8F0FE;\n",
              "      border: none;\n",
              "      border-radius: 50%;\n",
              "      cursor: pointer;\n",
              "      display: none;\n",
              "      fill: #1967D2;\n",
              "      height: 32px;\n",
              "      padding: 0 0 0 0;\n",
              "      width: 32px;\n",
              "    }\n",
              "\n",
              "    .colab-df-convert:hover {\n",
              "      background-color: #E2EBFA;\n",
              "      box-shadow: 0px 1px 2px rgba(60, 64, 67, 0.3), 0px 1px 3px 1px rgba(60, 64, 67, 0.15);\n",
              "      fill: #174EA6;\n",
              "    }\n",
              "\n",
              "    .colab-df-buttons div {\n",
              "      margin-bottom: 4px;\n",
              "    }\n",
              "\n",
              "    [theme=dark] .colab-df-convert {\n",
              "      background-color: #3B4455;\n",
              "      fill: #D2E3FC;\n",
              "    }\n",
              "\n",
              "    [theme=dark] .colab-df-convert:hover {\n",
              "      background-color: #434B5C;\n",
              "      box-shadow: 0px 1px 3px 1px rgba(0, 0, 0, 0.15);\n",
              "      filter: drop-shadow(0px 1px 2px rgba(0, 0, 0, 0.3));\n",
              "      fill: #FFFFFF;\n",
              "    }\n",
              "  </style>\n",
              "\n",
              "    <script>\n",
              "      const buttonEl =\n",
              "        document.querySelector('#df-8b794769-7ddd-4917-9080-bc24e4f9e113 button.colab-df-convert');\n",
              "      buttonEl.style.display =\n",
              "        google.colab.kernel.accessAllowed ? 'block' : 'none';\n",
              "\n",
              "      async function convertToInteractive(key) {\n",
              "        const element = document.querySelector('#df-8b794769-7ddd-4917-9080-bc24e4f9e113');\n",
              "        const dataTable =\n",
              "          await google.colab.kernel.invokeFunction('convertToInteractive',\n",
              "                                                    [key], {});\n",
              "        if (!dataTable) return;\n",
              "\n",
              "        const docLinkHtml = 'Like what you see? Visit the ' +\n",
              "          '<a target=\"_blank\" href=https://colab.research.google.com/notebooks/data_table.ipynb>data table notebook</a>'\n",
              "          + ' to learn more about interactive tables.';\n",
              "        element.innerHTML = '';\n",
              "        dataTable['output_type'] = 'display_data';\n",
              "        await google.colab.output.renderOutput(dataTable, element);\n",
              "        const docLink = document.createElement('div');\n",
              "        docLink.innerHTML = docLinkHtml;\n",
              "        element.appendChild(docLink);\n",
              "      }\n",
              "    </script>\n",
              "  </div>\n",
              "\n",
              "\n",
              "    </div>\n",
              "  </div>\n"
            ],
            "application/vnd.google.colaboratory.intrinsic+json": {
              "type": "dataframe",
              "repr_error": "0"
            }
          },
          "metadata": {},
          "execution_count": 66
        }
      ]
    },
    {
      "cell_type": "code",
      "source": [
        "print(len(missing_ids[:-1]))"
      ],
      "metadata": {
        "id": "IClVCLHuEqNK",
        "outputId": "ed72034d-e5d0-4681-dcdb-657bcbdf1989",
        "colab": {
          "base_uri": "https://localhost:8080/"
        }
      },
      "execution_count": null,
      "outputs": [
        {
          "output_type": "stream",
          "name": "stdout",
          "text": [
            "138\n"
          ]
        }
      ]
    },
    {
      "cell_type": "code",
      "source": [
        "missing_ids = missing_ids[:-1]\n",
        "values = ids['Identifiers'].values.tolist()\n",
        "mri_present = []\n",
        "for id in values:\n",
        "  if id not in missing_ids:\n",
        "    mri_present.append('Yes')\n",
        "  else:\n",
        "    mri_present.append('No')\n",
        "print(len(mri_present))"
      ],
      "metadata": {
        "colab": {
          "base_uri": "https://localhost:8080/"
        },
        "id": "sPP-XrTJEM63",
        "outputId": "15abe65c-b4be-48f3-aa96-1e239f9e0ea1"
      },
      "execution_count": null,
      "outputs": [
        {
          "output_type": "stream",
          "name": "stdout",
          "text": [
            "619\n"
          ]
        }
      ]
    },
    {
      "cell_type": "code",
      "source": [
        "ids['MRI_status'] = mri_present"
      ],
      "metadata": {
        "id": "etCZsGSHGHms"
      },
      "execution_count": null,
      "outputs": []
    },
    {
      "cell_type": "code",
      "source": [
        "ids.groupby(['MRI_status'])[['Identifiers']].count()"
      ],
      "metadata": {
        "id": "LstPPCyjGK2T",
        "outputId": "46122edd-3b17-48e3-b2cf-feb21ec2ed7b",
        "colab": {
          "base_uri": "https://localhost:8080/",
          "height": 143
        }
      },
      "execution_count": null,
      "outputs": [
        {
          "output_type": "execute_result",
          "data": {
            "text/plain": [
              "            Identifiers\n",
              "MRI_status             \n",
              "No                  138\n",
              "Yes                 481"
            ],
            "text/html": [
              "\n",
              "  <div id=\"df-785e106f-443f-4e25-a18e-fdd2e298871e\" class=\"colab-df-container\">\n",
              "    <div>\n",
              "<style scoped>\n",
              "    .dataframe tbody tr th:only-of-type {\n",
              "        vertical-align: middle;\n",
              "    }\n",
              "\n",
              "    .dataframe tbody tr th {\n",
              "        vertical-align: top;\n",
              "    }\n",
              "\n",
              "    .dataframe thead th {\n",
              "        text-align: right;\n",
              "    }\n",
              "</style>\n",
              "<table border=\"1\" class=\"dataframe\">\n",
              "  <thead>\n",
              "    <tr style=\"text-align: right;\">\n",
              "      <th></th>\n",
              "      <th>Identifiers</th>\n",
              "    </tr>\n",
              "    <tr>\n",
              "      <th>MRI_status</th>\n",
              "      <th></th>\n",
              "    </tr>\n",
              "  </thead>\n",
              "  <tbody>\n",
              "    <tr>\n",
              "      <th>No</th>\n",
              "      <td>138</td>\n",
              "    </tr>\n",
              "    <tr>\n",
              "      <th>Yes</th>\n",
              "      <td>481</td>\n",
              "    </tr>\n",
              "  </tbody>\n",
              "</table>\n",
              "</div>\n",
              "    <div class=\"colab-df-buttons\">\n",
              "\n",
              "  <div class=\"colab-df-container\">\n",
              "    <button class=\"colab-df-convert\" onclick=\"convertToInteractive('df-785e106f-443f-4e25-a18e-fdd2e298871e')\"\n",
              "            title=\"Convert this dataframe to an interactive table.\"\n",
              "            style=\"display:none;\">\n",
              "\n",
              "  <svg xmlns=\"http://www.w3.org/2000/svg\" height=\"24px\" viewBox=\"0 -960 960 960\">\n",
              "    <path d=\"M120-120v-720h720v720H120Zm60-500h600v-160H180v160Zm220 220h160v-160H400v160Zm0 220h160v-160H400v160ZM180-400h160v-160H180v160Zm440 0h160v-160H620v160ZM180-180h160v-160H180v160Zm440 0h160v-160H620v160Z\"/>\n",
              "  </svg>\n",
              "    </button>\n",
              "\n",
              "  <style>\n",
              "    .colab-df-container {\n",
              "      display:flex;\n",
              "      gap: 12px;\n",
              "    }\n",
              "\n",
              "    .colab-df-convert {\n",
              "      background-color: #E8F0FE;\n",
              "      border: none;\n",
              "      border-radius: 50%;\n",
              "      cursor: pointer;\n",
              "      display: none;\n",
              "      fill: #1967D2;\n",
              "      height: 32px;\n",
              "      padding: 0 0 0 0;\n",
              "      width: 32px;\n",
              "    }\n",
              "\n",
              "    .colab-df-convert:hover {\n",
              "      background-color: #E2EBFA;\n",
              "      box-shadow: 0px 1px 2px rgba(60, 64, 67, 0.3), 0px 1px 3px 1px rgba(60, 64, 67, 0.15);\n",
              "      fill: #174EA6;\n",
              "    }\n",
              "\n",
              "    .colab-df-buttons div {\n",
              "      margin-bottom: 4px;\n",
              "    }\n",
              "\n",
              "    [theme=dark] .colab-df-convert {\n",
              "      background-color: #3B4455;\n",
              "      fill: #D2E3FC;\n",
              "    }\n",
              "\n",
              "    [theme=dark] .colab-df-convert:hover {\n",
              "      background-color: #434B5C;\n",
              "      box-shadow: 0px 1px 3px 1px rgba(0, 0, 0, 0.15);\n",
              "      filter: drop-shadow(0px 1px 2px rgba(0, 0, 0, 0.3));\n",
              "      fill: #FFFFFF;\n",
              "    }\n",
              "  </style>\n",
              "\n",
              "    <script>\n",
              "      const buttonEl =\n",
              "        document.querySelector('#df-785e106f-443f-4e25-a18e-fdd2e298871e button.colab-df-convert');\n",
              "      buttonEl.style.display =\n",
              "        google.colab.kernel.accessAllowed ? 'block' : 'none';\n",
              "\n",
              "      async function convertToInteractive(key) {\n",
              "        const element = document.querySelector('#df-785e106f-443f-4e25-a18e-fdd2e298871e');\n",
              "        const dataTable =\n",
              "          await google.colab.kernel.invokeFunction('convertToInteractive',\n",
              "                                                    [key], {});\n",
              "        if (!dataTable) return;\n",
              "\n",
              "        const docLinkHtml = 'Like what you see? Visit the ' +\n",
              "          '<a target=\"_blank\" href=https://colab.research.google.com/notebooks/data_table.ipynb>data table notebook</a>'\n",
              "          + ' to learn more about interactive tables.';\n",
              "        element.innerHTML = '';\n",
              "        dataTable['output_type'] = 'display_data';\n",
              "        await google.colab.output.renderOutput(dataTable, element);\n",
              "        const docLink = document.createElement('div');\n",
              "        docLink.innerHTML = docLinkHtml;\n",
              "        element.appendChild(docLink);\n",
              "      }\n",
              "    </script>\n",
              "  </div>\n",
              "\n",
              "\n",
              "<div id=\"df-e12e2dce-a37c-45d8-8c47-45a645cd2c33\">\n",
              "  <button class=\"colab-df-quickchart\" onclick=\"quickchart('df-e12e2dce-a37c-45d8-8c47-45a645cd2c33')\"\n",
              "            title=\"Suggest charts\"\n",
              "            style=\"display:none;\">\n",
              "\n",
              "<svg xmlns=\"http://www.w3.org/2000/svg\" height=\"24px\"viewBox=\"0 0 24 24\"\n",
              "     width=\"24px\">\n",
              "    <g>\n",
              "        <path d=\"M19 3H5c-1.1 0-2 .9-2 2v14c0 1.1.9 2 2 2h14c1.1 0 2-.9 2-2V5c0-1.1-.9-2-2-2zM9 17H7v-7h2v7zm4 0h-2V7h2v10zm4 0h-2v-4h2v4z\"/>\n",
              "    </g>\n",
              "</svg>\n",
              "  </button>\n",
              "\n",
              "<style>\n",
              "  .colab-df-quickchart {\n",
              "      --bg-color: #E8F0FE;\n",
              "      --fill-color: #1967D2;\n",
              "      --hover-bg-color: #E2EBFA;\n",
              "      --hover-fill-color: #174EA6;\n",
              "      --disabled-fill-color: #AAA;\n",
              "      --disabled-bg-color: #DDD;\n",
              "  }\n",
              "\n",
              "  [theme=dark] .colab-df-quickchart {\n",
              "      --bg-color: #3B4455;\n",
              "      --fill-color: #D2E3FC;\n",
              "      --hover-bg-color: #434B5C;\n",
              "      --hover-fill-color: #FFFFFF;\n",
              "      --disabled-bg-color: #3B4455;\n",
              "      --disabled-fill-color: #666;\n",
              "  }\n",
              "\n",
              "  .colab-df-quickchart {\n",
              "    background-color: var(--bg-color);\n",
              "    border: none;\n",
              "    border-radius: 50%;\n",
              "    cursor: pointer;\n",
              "    display: none;\n",
              "    fill: var(--fill-color);\n",
              "    height: 32px;\n",
              "    padding: 0;\n",
              "    width: 32px;\n",
              "  }\n",
              "\n",
              "  .colab-df-quickchart:hover {\n",
              "    background-color: var(--hover-bg-color);\n",
              "    box-shadow: 0 1px 2px rgba(60, 64, 67, 0.3), 0 1px 3px 1px rgba(60, 64, 67, 0.15);\n",
              "    fill: var(--button-hover-fill-color);\n",
              "  }\n",
              "\n",
              "  .colab-df-quickchart-complete:disabled,\n",
              "  .colab-df-quickchart-complete:disabled:hover {\n",
              "    background-color: var(--disabled-bg-color);\n",
              "    fill: var(--disabled-fill-color);\n",
              "    box-shadow: none;\n",
              "  }\n",
              "\n",
              "  .colab-df-spinner {\n",
              "    border: 2px solid var(--fill-color);\n",
              "    border-color: transparent;\n",
              "    border-bottom-color: var(--fill-color);\n",
              "    animation:\n",
              "      spin 1s steps(1) infinite;\n",
              "  }\n",
              "\n",
              "  @keyframes spin {\n",
              "    0% {\n",
              "      border-color: transparent;\n",
              "      border-bottom-color: var(--fill-color);\n",
              "      border-left-color: var(--fill-color);\n",
              "    }\n",
              "    20% {\n",
              "      border-color: transparent;\n",
              "      border-left-color: var(--fill-color);\n",
              "      border-top-color: var(--fill-color);\n",
              "    }\n",
              "    30% {\n",
              "      border-color: transparent;\n",
              "      border-left-color: var(--fill-color);\n",
              "      border-top-color: var(--fill-color);\n",
              "      border-right-color: var(--fill-color);\n",
              "    }\n",
              "    40% {\n",
              "      border-color: transparent;\n",
              "      border-right-color: var(--fill-color);\n",
              "      border-top-color: var(--fill-color);\n",
              "    }\n",
              "    60% {\n",
              "      border-color: transparent;\n",
              "      border-right-color: var(--fill-color);\n",
              "    }\n",
              "    80% {\n",
              "      border-color: transparent;\n",
              "      border-right-color: var(--fill-color);\n",
              "      border-bottom-color: var(--fill-color);\n",
              "    }\n",
              "    90% {\n",
              "      border-color: transparent;\n",
              "      border-bottom-color: var(--fill-color);\n",
              "    }\n",
              "  }\n",
              "</style>\n",
              "\n",
              "  <script>\n",
              "    async function quickchart(key) {\n",
              "      const quickchartButtonEl =\n",
              "        document.querySelector('#' + key + ' button');\n",
              "      quickchartButtonEl.disabled = true;  // To prevent multiple clicks.\n",
              "      quickchartButtonEl.classList.add('colab-df-spinner');\n",
              "      try {\n",
              "        const charts = await google.colab.kernel.invokeFunction(\n",
              "            'suggestCharts', [key], {});\n",
              "      } catch (error) {\n",
              "        console.error('Error during call to suggestCharts:', error);\n",
              "      }\n",
              "      quickchartButtonEl.classList.remove('colab-df-spinner');\n",
              "      quickchartButtonEl.classList.add('colab-df-quickchart-complete');\n",
              "    }\n",
              "    (() => {\n",
              "      let quickchartButtonEl =\n",
              "        document.querySelector('#df-e12e2dce-a37c-45d8-8c47-45a645cd2c33 button');\n",
              "      quickchartButtonEl.style.display =\n",
              "        google.colab.kernel.accessAllowed ? 'block' : 'none';\n",
              "    })();\n",
              "  </script>\n",
              "</div>\n",
              "\n",
              "    </div>\n",
              "  </div>\n"
            ],
            "application/vnd.google.colaboratory.intrinsic+json": {
              "type": "dataframe",
              "summary": "{\n  \"name\": \"ids\",\n  \"rows\": 2,\n  \"fields\": [\n    {\n      \"column\": \"MRI_status\",\n      \"properties\": {\n        \"dtype\": \"string\",\n        \"num_unique_values\": 2,\n        \"samples\": [\n          \"Yes\",\n          \"No\"\n        ],\n        \"semantic_type\": \"\",\n        \"description\": \"\"\n      }\n    },\n    {\n      \"column\": \"Identifiers\",\n      \"properties\": {\n        \"dtype\": \"number\",\n        \"std\": 242,\n        \"min\": 138,\n        \"max\": 481,\n        \"num_unique_values\": 2,\n        \"samples\": [\n          481,\n          138\n        ],\n        \"semantic_type\": \"\",\n        \"description\": \"\"\n      }\n    }\n  ]\n}"
            }
          },
          "metadata": {},
          "execution_count": 73
        }
      ]
    },
    {
      "cell_type": "markdown",
      "source": [
        "## Plots"
      ],
      "metadata": {
        "id": "Hp1QgMsjZxJp"
      }
    },
    {
      "cell_type": "code",
      "source": [
        "final_data = pd.read_csv(\n",
        "    working_path.joinpath('final_data.csv'),\n",
        "    index_col=None\n",
        ")"
      ],
      "metadata": {
        "id": "Jhe96lShZ0Ga"
      },
      "execution_count": null,
      "outputs": []
    },
    {
      "cell_type": "code",
      "source": [
        "final_data['Group1'] = final_data[\"Group\"].replace({\"DD with comorbidities\": \"DD\",\n",
        "                                   \"DD without comorbidities\": \"DD\",\n",
        "                                   \"Control\": \"TD\"})"
      ],
      "metadata": {
        "id": "JEL2VWyheeV8"
      },
      "execution_count": null,
      "outputs": []
    },
    {
      "cell_type": "code",
      "source": [
        "final_data['CTOPP,CTOPP_RL_R'].unique()"
      ],
      "metadata": {
        "colab": {
          "base_uri": "https://localhost:8080/"
        },
        "id": "nUZnqtvxf-yL",
        "outputId": "301483fc-8be2-4668-f825-589ab96a2780"
      },
      "execution_count": null,
      "outputs": [
        {
          "output_type": "execute_result",
          "data": {
            "text/plain": [
              "array(['18', '19', '10', '15', '22', '33', '36', '27', '28', '.', '14',\n",
              "       '23', '48', '11', '31', '21', '30', '65', '12', '25', '35', '24',\n",
              "       '16', '20', '13', '54', '17', '83', '34', '45', '26', '81', '32',\n",
              "       '97', '38', '40', '37', '67', '46', '39', '29', '96', '8', '59',\n",
              "       '66', '80', '69', '44', '57', '68', '42', '41', '79', '52', '53',\n",
              "       '49', '50', '77', '43', '103'], dtype=object)"
            ]
          },
          "metadata": {},
          "execution_count": 72
        }
      ]
    },
    {
      "cell_type": "code",
      "source": [
        "ctopp = final_data[(final_data['CTOPP,CTOPP_RL_R'] != '.') &\n",
        "                   (final_data['CTOPP,CTOPP_RD_R'] != '.')]\n",
        "ctopp['CTOPP,CTOPP_RL_R'] = ctopp['CTOPP,CTOPP_RL_R'].astype(int)\n",
        "ctopp['CTOPP,CTOPP_RD_R'] = ctopp['CTOPP,CTOPP_RD_R'].astype(int)\n",
        "\n",
        "ctopp[\"CTOPP_Avg\"] = (ctopp[\"CTOPP,CTOPP_RL_R\"] + ctopp[\"CTOPP,CTOPP_RD_R\"]) / 2\n",
        "# Map 0 → Male, 1 → Female\n",
        "ctopp[\"Sex_Label\"] = ctopp[\"Basic_Demos,Sex\"].map({0: \"Male\", 1: \"Female\"})"
      ],
      "metadata": {
        "colab": {
          "base_uri": "https://localhost:8080/"
        },
        "id": "YQ1D5Venf1J8",
        "outputId": "d66f6ce6-754e-426d-a980-19e908ea9894"
      },
      "execution_count": null,
      "outputs": [
        {
          "output_type": "stream",
          "name": "stderr",
          "text": [
            "<ipython-input-81-37b175da4eaa>:3: SettingWithCopyWarning: \n",
            "A value is trying to be set on a copy of a slice from a DataFrame.\n",
            "Try using .loc[row_indexer,col_indexer] = value instead\n",
            "\n",
            "See the caveats in the documentation: https://pandas.pydata.org/pandas-docs/stable/user_guide/indexing.html#returning-a-view-versus-a-copy\n",
            "  ctopp['CTOPP,CTOPP_RL_R'] = ctopp['CTOPP,CTOPP_RL_R'].astype(int)\n",
            "<ipython-input-81-37b175da4eaa>:4: SettingWithCopyWarning: \n",
            "A value is trying to be set on a copy of a slice from a DataFrame.\n",
            "Try using .loc[row_indexer,col_indexer] = value instead\n",
            "\n",
            "See the caveats in the documentation: https://pandas.pydata.org/pandas-docs/stable/user_guide/indexing.html#returning-a-view-versus-a-copy\n",
            "  ctopp['CTOPP,CTOPP_RD_R'] = ctopp['CTOPP,CTOPP_RD_R'].astype(int)\n",
            "<ipython-input-81-37b175da4eaa>:6: SettingWithCopyWarning: \n",
            "A value is trying to be set on a copy of a slice from a DataFrame.\n",
            "Try using .loc[row_indexer,col_indexer] = value instead\n",
            "\n",
            "See the caveats in the documentation: https://pandas.pydata.org/pandas-docs/stable/user_guide/indexing.html#returning-a-view-versus-a-copy\n",
            "  ctopp[\"CTOPP_Avg\"] = (ctopp[\"CTOPP,CTOPP_RL_R\"] + ctopp[\"CTOPP,CTOPP_RD_R\"]) / 2\n",
            "<ipython-input-81-37b175da4eaa>:8: SettingWithCopyWarning: \n",
            "A value is trying to be set on a copy of a slice from a DataFrame.\n",
            "Try using .loc[row_indexer,col_indexer] = value instead\n",
            "\n",
            "See the caveats in the documentation: https://pandas.pydata.org/pandas-docs/stable/user_guide/indexing.html#returning-a-view-versus-a-copy\n",
            "  ctopp[\"Sex_Label\"] = ctopp[\"Basic_Demos,Sex\"].map({0: \"Male\", 1: \"Female\"})\n"
          ]
        }
      ]
    },
    {
      "cell_type": "code",
      "source": [
        "pastel_palette = {\"Male\": \"#FF6F61\",  # Brighter soft red\n",
        "                  \"Female\": \"#4DB8B0\"}  # Brighter soft blue\n",
        "\n",
        "\n",
        "plt.figure(figsize=(8, 6))\n",
        "sns.boxplot(x=\"Group1\", y=\"CTOPP_Avg\", hue=\"Sex_Label\", data=ctopp, palette=pastel_palette)\n",
        "\n",
        "plt.title(\"CTOPP Scores by Sex for DD and TD Groups\")\n",
        "plt.xlabel(\"Group\")\n",
        "plt.ylabel(\"CTOPP Score\")\n",
        "plt.legend(title=\"Sex\")\n",
        "plt.show()\n"
      ],
      "metadata": {
        "colab": {
          "base_uri": "https://localhost:8080/",
          "height": 573
        },
        "id": "oKFi15y2eUV4",
        "outputId": "eecd15c2-814b-4d38-d0c2-5e83128c1432"
      },
      "execution_count": null,
      "outputs": [
        {
          "output_type": "display_data",
          "data": {
            "text/plain": [
              "<Figure size 800x600 with 1 Axes>"
            ],
            "image/png": "[encoded data removed]"
          },
          "metadata": {}
        }
      ]
    },
    {
      "cell_type": "code",
      "source": [
        "import scipy.stats as stats\n",
        "\n",
        "# Define pairs to compare\n",
        "pairwise_comparisons = [\n",
        "    (\"Male DD\", \"Male TD\"),  # Male DD vs Male TD\n",
        "    (\"Female DD\", \"Female TD\"),  # Female DD vs Female TD\n",
        "    (\"Male TD\", \"Female TD\"),  # Male TD vs Female TD\n",
        "    (\"Male DD\", \"Female DD\")  # Male DD vs Female DD\n",
        "]\n",
        "\n",
        "# Create empty dictionary to store p-values\n",
        "p_values = {}\n",
        "\n",
        "# Perform t-tests for each pair\n",
        "for comparison in pairwise_comparisons:\n",
        "    group_1, group_2 = comparison\n",
        "    sex_1, group_1_type = group_1.split()\n",
        "    sex_2, group_2_type = group_2.split()\n",
        "\n",
        "    # Select the corresponding group for each sex\n",
        "    group_1_data = ctopp[(ctopp[\"Group1\"] == group_1_type) & (ctopp[\"Sex_Label\"] == sex_1)][\"CTOPP_Avg\"]\n",
        "    group_2_data = ctopp[(ctopp[\"Group1\"] == group_2_type) & (ctopp[\"Sex_Label\"] == sex_2)][\"CTOPP_Avg\"]\n",
        "\n",
        "    # Perform t-test\n",
        "    t_stat, p_val = stats.ttest_ind(group_1_data, group_2_data)\n",
        "    p_values[(group_1, group_2)] = p_val\n",
        "    print(f\"T-test for {group_1} vs {group_2}: p-value = {p_val}\")\n",
        "\n"
      ],
      "metadata": {
        "colab": {
          "base_uri": "https://localhost:8080/"
        },
        "id": "TbewCMfliyD7",
        "outputId": "6055ad4b-c246-4439-86f0-33b83150500d"
      },
      "execution_count": null,
      "outputs": [
        {
          "output_type": "stream",
          "name": "stdout",
          "text": [
            "T-test for Male DD vs Male TD: p-value = 0.03176114127280176\n",
            "T-test for Female DD vs Female TD: p-value = 3.3900917268970365e-05\n",
            "T-test for Male TD vs Female TD: p-value = 0.21493688377494138\n",
            "T-test for Male DD vs Female DD: p-value = 0.18950235574704627\n"
          ]
        }
      ]
    },
    {
      "cell_type": "code",
      "source": [
        "sns.displot(final_data[final_data['Group'] == 'DD']['Basic_Demos,Age'],\n",
        "             binwidth = 1)\n",
        "pl.title('Age distribution in the DD group');"
      ],
      "metadata": {
        "colab": {
          "base_uri": "https://localhost:8080/",
          "height": 523
        },
        "id": "Cadb5OWLZzXR",
        "outputId": "1a720d83-e520-4aac-9083-f7b042479c51"
      },
      "execution_count": null,
      "outputs": [
        {
          "output_type": "display_data",
          "data": {
            "text/plain": [
              "<Figure size 500x500 with 1 Axes>"
            ],
            "image/png": "[encoded data removed]"
          },
          "metadata": {}
        }
      ]
    },
    {
      "cell_type": "code",
      "source": [
        "# look at the differences in the Reading level b/w DD and TD\n",
        "dd = final_data[final_data['Group'] != 'Control']\n",
        "td = final_data[final_data['Group'] == 'Control']\n",
        "dd['Total_Reading'] = dd['Total_Reading'].fillna('.')\n",
        "td['Total_Reading'] = td['Total_Reading'].fillna('.')"
      ],
      "metadata": {
        "colab": {
          "base_uri": "https://localhost:8080/"
        },
        "id": "xLLaHe8dZ3ha",
        "outputId": "1aa87810-b3a7-4726-ee04-6ac14ec51281"
      },
      "execution_count": null,
      "outputs": [
        {
          "output_type": "stream",
          "name": "stderr",
          "text": [
            "<ipython-input-46-5f0d84eefc10>:4: SettingWithCopyWarning: \n",
            "A value is trying to be set on a copy of a slice from a DataFrame.\n",
            "Try using .loc[row_indexer,col_indexer] = value instead\n",
            "\n",
            "See the caveats in the documentation: https://pandas.pydata.org/pandas-docs/stable/user_guide/indexing.html#returning-a-view-versus-a-copy\n",
            "  dd['Total_Reading'] = dd['Total_Reading'].fillna('.')\n",
            "<ipython-input-46-5f0d84eefc10>:5: SettingWithCopyWarning: \n",
            "A value is trying to be set on a copy of a slice from a DataFrame.\n",
            "Try using .loc[row_indexer,col_indexer] = value instead\n",
            "\n",
            "See the caveats in the documentation: https://pandas.pydata.org/pandas-docs/stable/user_guide/indexing.html#returning-a-view-versus-a-copy\n",
            "  td['Total_Reading'] = td['Total_Reading'].fillna('.')\n"
          ]
        }
      ]
    },
    {
      "cell_type": "code",
      "source": [
        "dd_read = dd[(dd['Total_Reading'] != '.') &\n",
        "                  (dd['Total_Reading'] != 'pseudo, word') &\n",
        "                  (dd['Total_Reading'] != 'word')]\n",
        "\n",
        "dd_read['Total_Reading'] = dd_read['Total_Reading'].astype(float)\n",
        "dd_read = dd_read['Total_Reading'].values.tolist()\n",
        "\n",
        "td['Total_Reading'].fillna('.')\n",
        "td_read = td[(td['Total_Reading'] != '.') &\n",
        "                  (td['Total_Reading'] != 'pseudo, word') &\n",
        "                  (td['Total_Reading'] != 'word')]\n",
        "\n",
        "td_read['Total_Reading'] = td_read['Total_Reading'].astype(float)\n",
        "td_read = td_read['Total_Reading'].values.tolist()"
      ],
      "metadata": {
        "colab": {
          "base_uri": "https://localhost:8080/"
        },
        "id": "Tcc9BOUOagVY",
        "outputId": "fb518e55-3f3a-4ede-8203-f5cbe123388c"
      },
      "execution_count": null,
      "outputs": [
        {
          "output_type": "stream",
          "name": "stderr",
          "text": [
            "<ipython-input-51-cbc461bac37a>:5: SettingWithCopyWarning: \n",
            "A value is trying to be set on a copy of a slice from a DataFrame.\n",
            "Try using .loc[row_indexer,col_indexer] = value instead\n",
            "\n",
            "See the caveats in the documentation: https://pandas.pydata.org/pandas-docs/stable/user_guide/indexing.html#returning-a-view-versus-a-copy\n",
            "  dd_read['Total_Reading'] = dd_read['Total_Reading'].astype(float)\n",
            "<ipython-input-51-cbc461bac37a>:13: SettingWithCopyWarning: \n",
            "A value is trying to be set on a copy of a slice from a DataFrame.\n",
            "Try using .loc[row_indexer,col_indexer] = value instead\n",
            "\n",
            "See the caveats in the documentation: https://pandas.pydata.org/pandas-docs/stable/user_guide/indexing.html#returning-a-view-versus-a-copy\n",
            "  td_read['Total_Reading'] = td_read['Total_Reading'].astype(float)\n"
          ]
        }
      ]
    },
    {
      "cell_type": "code",
      "source": [
        "import numpy as np\n",
        "import matplotlib.pyplot as plt\n",
        "\n",
        "# Compute means\n",
        "TD_mean = np.mean(td_read)\n",
        "DD_mean = np.mean(dd_read)\n",
        "\n",
        "# Compute standard deviations\n",
        "TD_std = np.std(td_read)\n",
        "DD_std = np.std(dd_read)\n",
        "\n",
        "# Bar plot\n",
        "plt.bar([\"TD\", \"DD\"], [TD_mean, DD_mean], yerr=[TD_std, DD_std], alpha=0.7, capsize=5)\n",
        "\n",
        "plt.ylabel(\"Reading Scores\")\n",
        "plt.title(\"Comparison of Reading Scores Between Groups\")\n",
        "plt.show()"
      ],
      "metadata": {
        "colab": {
          "base_uri": "https://localhost:8080/",
          "height": 457
        },
        "id": "QRQZ5kovaLxf",
        "outputId": "2bd31eda-6567-4c32-9a31-9ef461e07b8d"
      },
      "execution_count": null,
      "outputs": [
        {
          "output_type": "display_data",
          "data": {
            "text/plain": [
              "<Figure size 640x480 with 1 Axes>"
            ],
            "image/png": "[encoded data removed]"
          },
          "metadata": {}
        }
      ]
    },
    {
      "cell_type": "markdown",
      "source": [
        "## Preprocessing pipeline: Combining the data_summary.csv with sites information"
      ],
      "metadata": {
        "id": "gkK_BOEYSe6O"
      }
    },
    {
      "cell_type": "code",
      "source": [
        "# in this file, there is a summary on what kind of data I have for each of the subjects\n",
        "# and what are the names of the files\n",
        "data_summary = pd.read_csv(\n",
        "    working_path.joinpath('data_summary.csv'),\n",
        "    index_col=None\n",
        ")\n",
        "\n",
        "# here is the final dataset that I have with the information on sites and MRI parameters\n",
        "final_data = pd.read_csv(\n",
        "    working_path.joinpath('final_data.csv'),\n",
        "    index_col=None\n",
        ")"
      ],
      "metadata": {
        "id": "PuKEe2HzSosS"
      },
      "execution_count": null,
      "outputs": []
    },
    {
      "cell_type": "code",
      "source": [
        "# ids for whom i didn't find the data in the HBN data storage\n",
        "missing_ids = ['NDARHP039DBU', 'NDARBE220VRK', 'NDARJC299PRZ', 'NDARGV263ZRY',\n",
        "               'NDARYR692VVC', 'NDARCM677TC1', 'NDARJK827DBP', 'NDARAT696TMM', 'NDARLA395AG8',\n",
        "               'NDARZK709KEY', 'NDARVF039ZLX', 'NDARUX114RGJ', 'NDARGW785MWF', 'NDARWF205BUM',\n",
        "               'NDARFF757TUX', 'NDARLC358CYJ', 'NDARVM414ZWU', 'NDARWB903FVY', 'NDARKU278YRR',\n",
        "               'NDARJH441HJD', 'NDARDJ092YKH', 'NDARTH373NE7', 'NDARVX337AC0', 'NDARYG172DBJ',\n",
        "               'NDARJH763NPD', 'NDARWZ495PG4', 'NDARAA773LUW', 'NDARYP516VUU', 'NDARHW650FXU',\n",
        "               'NDARRG415BJM', 'NDARPE551CK7', 'NDARYY694NE7', 'NDAREW976FNL', 'NDARDR804MFE',\n",
        "               'NDARNP399JVF', 'NDARGZ282DLD', 'NDARHL237MPV', 'NDARZB345GKD', 'NDARZW623WYG',\n",
        "               'NDARHB000YF8', 'NDARFE593CUC', 'NDARJT819VAX', 'NDARAG584XLU', 'NDARDN924BV2',\n",
        "               'NDARRV410KY1', 'NDARUL596DY9', 'NDARBV503LF7', 'NDARWR139LVZ', 'NDARLC655XBR',\n",
        "               'NDARFY075REK', 'NDARRH199NCH', 'NDAREY721PVD', 'NDARYJ389DWX', 'NDAREW201WD9',\n",
        "               'NDARMV575DC1', 'NDARXG799KWJ', 'NDARRR351RXB', 'NDARTX934NH6', 'NDARFF598HGT',\n",
        "               'NDARVV248VW0', 'NDARTH529YKZ', 'NDARZT011LBZ', 'NDARME573TRB', 'NDARAU447JZH',\n",
        "               'NDARWN424BPK', 'NDARCE788KXW', 'NDARGN721GKT', 'NDARMJ741DZB', 'NDARBH701KA1',\n",
        "               'NDARNM838ABN', 'NDARKK745DHA', 'NDAREA136BDX', 'NDARWX051KEV', 'NDARZK891FTB',\n",
        "               'NDARAN385MDH', 'NDARPB701XDP', 'NDARGR875AXY', 'NDARTF250GYT', 'NDARYJ735XPK',\n",
        "               'NDARAH239PGG', 'NDARAE710YWG', 'NDARUV418FB8', 'NDARNK354JWK', 'NDAREL622FA6',\n",
        "               'NDARCH084YL1', 'NDARFB784LDG', 'NDARJV411EH6', 'NDARDX969ECK', 'NDARPK265ZXW',\n",
        "               'NDARTF150VPJ', 'NDARRV505ND6', 'NDAREU438HAF', 'NDARDG644LJX', 'NDARVK196LEK',\n",
        "               'NDARHN131ZP6', 'NDARJJ817UP1', 'NDARLE091XAZ', 'NDARLB930UWR', 'NDARLX816JUZ',\n",
        "               'NDARWP864WGV', 'NDARTC707KPU', 'NDARKH291KRE', 'NDARBH024NH2', 'NDARHA780UYE',\n",
        "               'NDARBJ016AKE', 'NDARMH488KY0', 'NDARTH261GB5', 'NDARET484TTP', 'NDARVM025NCF',\n",
        "               'NDARRY217HD3', 'NDARDR296XHN', 'NDARMH625WKL', 'NDARFJ988HKR', 'NDARCU811WCY',\n",
        "               'NDARBH536UD3', 'NDARLJ168LXY', 'NDARTK435YWU', 'NDARVX856RHN', 'NDARPC931KR1',\n",
        "               'NDARUV147TDD', 'NDARMG114FCW', 'NDARGV956EGX', 'NDARLK034DJB', 'NDARXT325FV6',\n",
        "               'NDARAE264WPZ', 'NDARLN658KCD', 'NDARTL667CCG']"
      ],
      "metadata": {
        "id": "DZ96aKBZV_9l"
      },
      "execution_count": null,
      "outputs": []
    },
    {
      "cell_type": "code",
      "source": [
        "# Normalize IDs by removing \"sub-\" prefix in data_summary\n",
        "data_summary['Identifiers'] = data_summary['Subject ID'].str.replace(\"sub-\", \"\")\n",
        "\n",
        "# Identify missing IDs\n",
        "missing_from_summary = set(final_data['Identifiers']) - set(data_summary['Identifiers'])\n",
        "\n",
        "# Compare with existing missing IDs list\n",
        "new_missing_ids = list(missing_from_summary - set(missing_ids))\n",
        "print(f\"New missing IDs: {new_missing_ids}\")"
      ],
      "metadata": {
        "colab": {
          "base_uri": "https://localhost:8080/"
        },
        "id": "amMaMI1IYvXV",
        "outputId": "275ecdfb-e0c1-449e-ffcf-b2d790915349"
      },
      "execution_count": null,
      "outputs": [
        {
          "output_type": "stream",
          "name": "stdout",
          "text": [
            "New missing IDs: []\n"
          ]
        }
      ]
    },
    {
      "cell_type": "code",
      "source": [
        "# first, let's add the necessary information to our summary table\n",
        "# that would help us in building a preprocessing pipeline\n",
        "# different centers - different scanning parameters\n",
        "\n",
        "# Select relevant columns from final_data\n",
        "columns_to_add = [\n",
        "    'Basic_Demos,Study_Site',\n",
        "    'Basic_Demos,Age',\n",
        "    'MRI_Track,Age_at_Scan',\n",
        "    'MRI_Track,Scan_Location',\n",
        "    'MRI_Track,Clinical_Impression',\n",
        "    'Group',\n",
        "    'IQ'\n",
        "]\n",
        "\n",
        "# Merge the required columns based on ID\n",
        "merged_data = data_summary.merge(\n",
        "    final_data[['Identifiers'] + columns_to_add],\n",
        "    on='Identifiers',\n",
        "    how='left'\n",
        ")\n",
        "\n",
        "print(\"Merging complete!\")"
      ],
      "metadata": {
        "colab": {
          "base_uri": "https://localhost:8080/"
        },
        "id": "E0Q7tQFMZLCJ",
        "outputId": "b77e3fbf-c918-48c2-dc18-e139578b4662"
      },
      "execution_count": null,
      "outputs": [
        {
          "output_type": "stream",
          "name": "stdout",
          "text": [
            "Merging complete!\n"
          ]
        }
      ]
    },
    {
      "cell_type": "code",
      "source": [
        "merged_data.shape"
      ],
      "metadata": {
        "id": "-xCciZAVGRgf",
        "colab": {
          "base_uri": "https://localhost:8080/"
        },
        "outputId": "7cb7b1f3-f9df-4d3c-95b9-de7d5fdc5502"
      },
      "execution_count": null,
      "outputs": [
        {
          "output_type": "execute_result",
          "data": {
            "text/plain": [
              "(492, 17)"
            ]
          },
          "metadata": {},
          "execution_count": 49
        }
      ]
    },
    {
      "cell_type": "code",
      "source": [
        "# Looks like the numbers for study sites in MRI track scan location and Basic Demos Study site are different\n",
        "# and this can not be explained only with the different coding\n",
        "# in the corresponding documents, study site within basic demos is not mentioned anymore\n",
        "# Will use MRI scan location 1=Staten Island,2=RUBIC,3=CBIC, 4=CUNY???\n",
        "merged_data.groupby('MRI_Track,Scan_Location')['Identifiers'].count()\n",
        "# checking number 4 - CUNY\n",
        "# checking number 3 - CBIC\n",
        "# checking number 2 - RUBIC\n",
        "# checking number 1 - Staten Island"
      ],
      "metadata": {
        "colab": {
          "base_uri": "https://localhost:8080/",
          "height": 272
        },
        "id": "-sk7bKNPTsCy",
        "outputId": "626dd5d4-ff3d-4804-c77d-6c1a18fedb00"
      },
      "execution_count": null,
      "outputs": [
        {
          "output_type": "execute_result",
          "data": {
            "text/plain": [
              "MRI_Track,Scan_Location\n",
              ".      2\n",
              "1     55\n",
              "2    189\n",
              "3    202\n",
              "4     44\n",
              "Name: Identifiers, dtype: int64"
            ],
            "text/html": [
              "<div>\n",
              "<style scoped>\n",
              "    .dataframe tbody tr th:only-of-type {\n",
              "        vertical-align: middle;\n",
              "    }\n",
              "\n",
              "    .dataframe tbody tr th {\n",
              "        vertical-align: top;\n",
              "    }\n",
              "\n",
              "    .dataframe thead th {\n",
              "        text-align: right;\n",
              "    }\n",
              "</style>\n",
              "<table border=\"1\" class=\"dataframe\">\n",
              "  <thead>\n",
              "    <tr style=\"text-align: right;\">\n",
              "      <th></th>\n",
              "      <th>Identifiers</th>\n",
              "    </tr>\n",
              "    <tr>\n",
              "      <th>MRI_Track,Scan_Location</th>\n",
              "      <th></th>\n",
              "    </tr>\n",
              "  </thead>\n",
              "  <tbody>\n",
              "    <tr>\n",
              "      <th>.</th>\n",
              "      <td>2</td>\n",
              "    </tr>\n",
              "    <tr>\n",
              "      <th>1</th>\n",
              "      <td>55</td>\n",
              "    </tr>\n",
              "    <tr>\n",
              "      <th>2</th>\n",
              "      <td>189</td>\n",
              "    </tr>\n",
              "    <tr>\n",
              "      <th>3</th>\n",
              "      <td>202</td>\n",
              "    </tr>\n",
              "    <tr>\n",
              "      <th>4</th>\n",
              "      <td>44</td>\n",
              "    </tr>\n",
              "  </tbody>\n",
              "</table>\n",
              "</div><br><label><b>dtype:</b> int64</label>"
            ]
          },
          "metadata": {},
          "execution_count": 50
        }
      ]
    },
    {
      "cell_type": "code",
      "source": [
        "# let's replace \".\" value with the actual scanner site based on the .json information\n",
        "# both of them from Rutgers\n",
        "merged_data['MRI_Track,Scan_Location'] = merged_data['MRI_Track,Scan_Location'].replace('.', '2')  # Replace with 0 or any number\n"
      ],
      "metadata": {
        "id": "JhDOqEJppqoP"
      },
      "execution_count": null,
      "outputs": []
    },
    {
      "cell_type": "code",
      "source": [
        "merged_data.groupby('MRI_Track,Scan_Location')['Identifiers'].count()"
      ],
      "metadata": {
        "colab": {
          "base_uri": "https://localhost:8080/",
          "height": 240
        },
        "id": "dYrjZn7RxHAy",
        "outputId": "8aba904a-d44a-4ac9-9e3b-ed9666260355"
      },
      "execution_count": null,
      "outputs": [
        {
          "output_type": "execute_result",
          "data": {
            "text/plain": [
              "MRI_Track,Scan_Location\n",
              "1     55\n",
              "2    191\n",
              "3    202\n",
              "4     44\n",
              "Name: Identifiers, dtype: int64"
            ],
            "text/html": [
              "<div>\n",
              "<style scoped>\n",
              "    .dataframe tbody tr th:only-of-type {\n",
              "        vertical-align: middle;\n",
              "    }\n",
              "\n",
              "    .dataframe tbody tr th {\n",
              "        vertical-align: top;\n",
              "    }\n",
              "\n",
              "    .dataframe thead th {\n",
              "        text-align: right;\n",
              "    }\n",
              "</style>\n",
              "<table border=\"1\" class=\"dataframe\">\n",
              "  <thead>\n",
              "    <tr style=\"text-align: right;\">\n",
              "      <th></th>\n",
              "      <th>Identifiers</th>\n",
              "    </tr>\n",
              "    <tr>\n",
              "      <th>MRI_Track,Scan_Location</th>\n",
              "      <th></th>\n",
              "    </tr>\n",
              "  </thead>\n",
              "  <tbody>\n",
              "    <tr>\n",
              "      <th>1</th>\n",
              "      <td>55</td>\n",
              "    </tr>\n",
              "    <tr>\n",
              "      <th>2</th>\n",
              "      <td>191</td>\n",
              "    </tr>\n",
              "    <tr>\n",
              "      <th>3</th>\n",
              "      <td>202</td>\n",
              "    </tr>\n",
              "    <tr>\n",
              "      <th>4</th>\n",
              "      <td>44</td>\n",
              "    </tr>\n",
              "  </tbody>\n",
              "</table>\n",
              "</div><br><label><b>dtype:</b> int64</label>"
            ]
          },
          "metadata": {},
          "execution_count": 52
        }
      ]
    },
    {
      "cell_type": "code",
      "source": [
        "merged_data.to_csv(\n",
        "    Path(working_path).joinpath('data_summary_updated.csv')\n",
        ")"
      ],
      "metadata": {
        "id": "ef358wjaYoyq"
      },
      "execution_count": null,
      "outputs": []
    },
    {
      "cell_type": "markdown",
      "source": [
        "## Additional characteristics of the dataset"
      ],
      "metadata": {
        "id": "FARdoXXiYb_y"
      }
    },
    {
      "cell_type": "code",
      "source": [
        "qc_ratings = pd.read_csv(\"participants.tsv\", sep=\"\\t\")\n",
        "merged_data = pd.read_csv('data_summary_updated.csv', index_col=None)\n",
        "final_data = pd.read_csv(\n",
        "    working_path.joinpath('final_data.csv'),\n",
        "    index_col=None\n",
        ")"
      ],
      "metadata": {
        "id": "oMN1dyenYitR"
      },
      "execution_count": null,
      "outputs": []
    },
    {
      "cell_type": "code",
      "source": [
        "# looking into the values from the paper\n",
        "qc_subset = qc_ratings[qc_ratings[\"subject_id\"].isin(merged_data[\"Subject ID\"])]\n",
        "\n",
        "\n",
        "# there are much less subjects because not all of the merged_data ones have dwi data\n",
        "# and some of those were not prerpocessed because they were released later\n",
        "qc_subset.shape\n",
        "\n",
        "# 0-0.2 - definitely fail, 0.2-0.4 - probably fail, 0.4-0.6 - not sure, 0.6-0.8 probably pass, 0.8-1.0 - pass\n",
        "# expert rating - mean expert ratings\n",
        "# xgb_qsiprep_score - XGB-q model’s positive class probabilities\n",
        "# dl_score - CNN-i + q model’s positive class probabilities\n",
        "qc_subset.head()"
      ],
      "metadata": {
        "id": "i6ywDskZ0vcI"
      },
      "execution_count": null,
      "outputs": []
    },
    {
      "cell_type": "code",
      "source": [
        "print(qc_subset.age.max())\n",
        "print(qc_subset.age.min())"
      ],
      "metadata": {
        "colab": {
          "base_uri": "https://localhost:8080/"
        },
        "id": "A1rmf_fToowI",
        "outputId": "10390c17-746b-4312-cf7a-85d05a67e605"
      },
      "execution_count": null,
      "outputs": [
        {
          "output_type": "stream",
          "name": "stdout",
          "text": [
            "17.348163\n",
            "5.189368\n"
          ]
        }
      ]
    },
    {
      "cell_type": "code",
      "source": [
        "# Based on experts scores\n",
        "experts = qc_subset[qc_subset['expert_qc_score'].notna()]\n",
        "print('Out of ', experts.shape[0], ' available subjects, ',\n",
        "      experts[experts['expert_qc_score'] >= 0.6].shape[0],\n",
        "      ' are of good quality')\n",
        "print('')\n",
        "print('Good quality: ',\n",
        "    experts[experts['expert_qc_score'] >= 0.6]['subject_id'].values.tolist())\n",
        "print('')\n",
        "print('Needs to be doublechecked and probably excluded: ',\n",
        "      experts[experts['expert_qc_score'] < 0.6]['subject_id'].values.tolist())\n"
      ],
      "metadata": {
        "colab": {
          "base_uri": "https://localhost:8080/"
        },
        "id": "8buSNx71mFPo",
        "outputId": "28894132-9f16-495f-f0e8-f3625a14aaa7"
      },
      "execution_count": null,
      "outputs": [
        {
          "output_type": "stream",
          "name": "stdout",
          "text": [
            "Out of  34  subjects,  21  are of good quality\n",
            "\n",
            "Good quality:  ['sub-NDARAH304ED7', 'sub-NDARBW026UGE', 'sub-NDARCD182XT1', 'sub-NDARDE319VD1', 'sub-NDARDJ204EPU', 'sub-NDAREC277JCP', 'sub-NDAREF624KJN', 'sub-NDAREV848HWX', 'sub-NDARFG943GVZ', 'sub-NDARFW253GZM', 'sub-NDARGB528CP8', 'sub-NDARJH492TVW', 'sub-NDARJH707GJM', 'sub-NDARKK392ZX2', 'sub-NDARKV807EMJ', 'sub-NDARND697FLK', 'sub-NDARRB901DWV', 'sub-NDARTZ018PD5', 'sub-NDARUP249AMD', 'sub-NDARXB023AMW', 'sub-NDARYW789GNP']\n",
            "\n",
            "Needs to be doublechecked and probably excluded:  ['sub-NDARAC857HDB', 'sub-NDARBW268XPY', 'sub-NDARDU853XZ6', 'sub-NDAREG590BNY', 'sub-NDAREX065KJU', 'sub-NDARPF042DD2', 'sub-NDARTC527WPZ', 'sub-NDARTL084LYM', 'sub-NDARXM571XCC', 'sub-NDARXZ850KHQ', 'sub-NDARZC058BA5', 'sub-NDARZR968TLL', 'sub-NDARZV421TCZ']\n"
          ]
        }
      ]
    },
    {
      "cell_type": "code",
      "source": [
        "# Based on the dl model (should be checked whether the nodel fit is good)\n",
        "print('Based on dl model, out of', qc_subset.shape[0], ', ',\n",
        "      qc_subset[qc_subset['dl_qc_score'] >= 0.6].shape[0], ' are of good quality')\n",
        "print('Based on dl model, out of', qc_subset.shape[0], ', ',\n",
        "      qc_subset[qc_subset['dl_qc_score'] < 0.6].shape[0],\n",
        "      ' should be doublechecked or excluded')"
      ],
      "metadata": {
        "colab": {
          "base_uri": "https://localhost:8080/"
        },
        "id": "Gp54o9yUmUZ3",
        "outputId": "c6c5ec57-59f9-4b19-fe24-1261aa3935fb"
      },
      "execution_count": null,
      "outputs": [
        {
          "output_type": "stream",
          "name": "stdout",
          "text": [
            "Based on dl model, out of 322 ,  221  are of good quality\n",
            "Based on dl model, out of 322 ,  99  should be doublechecked or excluded\n"
          ]
        }
      ]
    },
    {
      "cell_type": "code",
      "source": [
        "merged_data.groupby(['Has DWI', 'Has FUNC', 'Has ANAT', 'Has FMAP']).size().reset_index(name='Subject Count')"
      ],
      "metadata": {
        "colab": {
          "base_uri": "https://localhost:8080/"
        },
        "id": "BcemZ2yZIp9i",
        "outputId": "3610a25a-0136-41bd-85a9-c05bf7640694"
      },
      "execution_count": null,
      "outputs": [
        {
          "output_type": "execute_result",
          "data": {
            "text/plain": [
              "  Has DWI Has FUNC Has ANAT Has FMAP  Subject Count\n",
              "0      No       No       No      Yes              2\n",
              "1      No       No      Yes       No              3\n",
              "2      No       No      Yes      Yes              1\n",
              "3      No      Yes       No       No              3\n",
              "4      No      Yes       No      Yes              2\n",
              "5      No      Yes      Yes       No              3\n",
              "6      No      Yes      Yes      Yes             56\n",
              "7     Yes       No      Yes      Yes              3\n",
              "8     Yes      Yes      Yes       No             20\n",
              "9     Yes      Yes      Yes      Yes            399"
            ],
            "text/html": [
              "\n",
              "  <div id=\"df-8b662095-09e7-4193-8f28-d7194eec35cc\" class=\"colab-df-container\">\n",
              "    <div>\n",
              "<style scoped>\n",
              "    .dataframe tbody tr th:only-of-type {\n",
              "        vertical-align: middle;\n",
              "    }\n",
              "\n",
              "    .dataframe tbody tr th {\n",
              "        vertical-align: top;\n",
              "    }\n",
              "\n",
              "    .dataframe thead th {\n",
              "        text-align: right;\n",
              "    }\n",
              "</style>\n",
              "<table border=\"1\" class=\"dataframe\">\n",
              "  <thead>\n",
              "    <tr style=\"text-align: right;\">\n",
              "      <th></th>\n",
              "      <th>Has DWI</th>\n",
              "      <th>Has FUNC</th>\n",
              "      <th>Has ANAT</th>\n",
              "      <th>Has FMAP</th>\n",
              "      <th>Subject Count</th>\n",
              "    </tr>\n",
              "  </thead>\n",
              "  <tbody>\n",
              "    <tr>\n",
              "      <th>0</th>\n",
              "      <td>No</td>\n",
              "      <td>No</td>\n",
              "      <td>No</td>\n",
              "      <td>Yes</td>\n",
              "      <td>2</td>\n",
              "    </tr>\n",
              "    <tr>\n",
              "      <th>1</th>\n",
              "      <td>No</td>\n",
              "      <td>No</td>\n",
              "      <td>Yes</td>\n",
              "      <td>No</td>\n",
              "      <td>3</td>\n",
              "    </tr>\n",
              "    <tr>\n",
              "      <th>2</th>\n",
              "      <td>No</td>\n",
              "      <td>No</td>\n",
              "      <td>Yes</td>\n",
              "      <td>Yes</td>\n",
              "      <td>1</td>\n",
              "    </tr>\n",
              "    <tr>\n",
              "      <th>3</th>\n",
              "      <td>No</td>\n",
              "      <td>Yes</td>\n",
              "      <td>No</td>\n",
              "      <td>No</td>\n",
              "      <td>3</td>\n",
              "    </tr>\n",
              "    <tr>\n",
              "      <th>4</th>\n",
              "      <td>No</td>\n",
              "      <td>Yes</td>\n",
              "      <td>No</td>\n",
              "      <td>Yes</td>\n",
              "      <td>2</td>\n",
              "    </tr>\n",
              "    <tr>\n",
              "      <th>5</th>\n",
              "      <td>No</td>\n",
              "      <td>Yes</td>\n",
              "      <td>Yes</td>\n",
              "      <td>No</td>\n",
              "      <td>3</td>\n",
              "    </tr>\n",
              "    <tr>\n",
              "      <th>6</th>\n",
              "      <td>No</td>\n",
              "      <td>Yes</td>\n",
              "      <td>Yes</td>\n",
              "      <td>Yes</td>\n",
              "      <td>56</td>\n",
              "    </tr>\n",
              "    <tr>\n",
              "      <th>7</th>\n",
              "      <td>Yes</td>\n",
              "      <td>No</td>\n",
              "      <td>Yes</td>\n",
              "      <td>Yes</td>\n",
              "      <td>3</td>\n",
              "    </tr>\n",
              "    <tr>\n",
              "      <th>8</th>\n",
              "      <td>Yes</td>\n",
              "      <td>Yes</td>\n",
              "      <td>Yes</td>\n",
              "      <td>No</td>\n",
              "      <td>20</td>\n",
              "    </tr>\n",
              "    <tr>\n",
              "      <th>9</th>\n",
              "      <td>Yes</td>\n",
              "      <td>Yes</td>\n",
              "      <td>Yes</td>\n",
              "      <td>Yes</td>\n",
              "      <td>399</td>\n",
              "    </tr>\n",
              "  </tbody>\n",
              "</table>\n",
              "</div>\n",
              "    <div class=\"colab-df-buttons\">\n",
              "\n",
              "  <div class=\"colab-df-container\">\n",
              "    <button class=\"colab-df-convert\" onclick=\"convertToInteractive('df-8b662095-09e7-4193-8f28-d7194eec35cc')\"\n",
              "            title=\"Convert this dataframe to an interactive table.\"\n",
              "            style=\"display:none;\">\n",
              "\n",
              "  <svg xmlns=\"http://www.w3.org/2000/svg\" height=\"24px\" viewBox=\"0 -960 960 960\">\n",
              "    <path d=\"M120-120v-720h720v720H120Zm60-500h600v-160H180v160Zm220 220h160v-160H400v160Zm0 220h160v-160H400v160ZM180-400h160v-160H180v160Zm440 0h160v-160H620v160ZM180-180h160v-160H180v160Zm440 0h160v-160H620v160Z\"/>\n",
              "  </svg>\n",
              "    </button>\n",
              "\n",
              "  <style>\n",
              "    .colab-df-container {\n",
              "      display:flex;\n",
              "      gap: 12px;\n",
              "    }\n",
              "\n",
              "    .colab-df-convert {\n",
              "      background-color: #E8F0FE;\n",
              "      border: none;\n",
              "      border-radius: 50%;\n",
              "      cursor: pointer;\n",
              "      display: none;\n",
              "      fill: #1967D2;\n",
              "      height: 32px;\n",
              "      padding: 0 0 0 0;\n",
              "      width: 32px;\n",
              "    }\n",
              "\n",
              "    .colab-df-convert:hover {\n",
              "      background-color: #E2EBFA;\n",
              "      box-shadow: 0px 1px 2px rgba(60, 64, 67, 0.3), 0px 1px 3px 1px rgba(60, 64, 67, 0.15);\n",
              "      fill: #174EA6;\n",
              "    }\n",
              "\n",
              "    .colab-df-buttons div {\n",
              "      margin-bottom: 4px;\n",
              "    }\n",
              "\n",
              "    [theme=dark] .colab-df-convert {\n",
              "      background-color: #3B4455;\n",
              "      fill: #D2E3FC;\n",
              "    }\n",
              "\n",
              "    [theme=dark] .colab-df-convert:hover {\n",
              "      background-color: #434B5C;\n",
              "      box-shadow: 0px 1px 3px 1px rgba(0, 0, 0, 0.15);\n",
              "      filter: drop-shadow(0px 1px 2px rgba(0, 0, 0, 0.3));\n",
              "      fill: #FFFFFF;\n",
              "    }\n",
              "  </style>\n",
              "\n",
              "    <script>\n",
              "      const buttonEl =\n",
              "        document.querySelector('#df-8b662095-09e7-4193-8f28-d7194eec35cc button.colab-df-convert');\n",
              "      buttonEl.style.display =\n",
              "        google.colab.kernel.accessAllowed ? 'block' : 'none';\n",
              "\n",
              "      async function convertToInteractive(key) {\n",
              "        const element = document.querySelector('#df-8b662095-09e7-4193-8f28-d7194eec35cc');\n",
              "        const dataTable =\n",
              "          await google.colab.kernel.invokeFunction('convertToInteractive',\n",
              "                                                    [key], {});\n",
              "        if (!dataTable) return;\n",
              "\n",
              "        const docLinkHtml = 'Like what you see? Visit the ' +\n",
              "          '<a target=\"_blank\" href=https://colab.research.google.com/notebooks/data_table.ipynb>data table notebook</a>'\n",
              "          + ' to learn more about interactive tables.';\n",
              "        element.innerHTML = '';\n",
              "        dataTable['output_type'] = 'display_data';\n",
              "        await google.colab.output.renderOutput(dataTable, element);\n",
              "        const docLink = document.createElement('div');\n",
              "        docLink.innerHTML = docLinkHtml;\n",
              "        element.appendChild(docLink);\n",
              "      }\n",
              "    </script>\n",
              "  </div>\n",
              "\n",
              "\n",
              "<div id=\"df-e593ff25-781e-4280-b4bb-371842915385\">\n",
              "  <button class=\"colab-df-quickchart\" onclick=\"quickchart('df-e593ff25-781e-4280-b4bb-371842915385')\"\n",
              "            title=\"Suggest charts\"\n",
              "            style=\"display:none;\">\n",
              "\n",
              "<svg xmlns=\"http://www.w3.org/2000/svg\" height=\"24px\"viewBox=\"0 0 24 24\"\n",
              "     width=\"24px\">\n",
              "    <g>\n",
              "        <path d=\"M19 3H5c-1.1 0-2 .9-2 2v14c0 1.1.9 2 2 2h14c1.1 0 2-.9 2-2V5c0-1.1-.9-2-2-2zM9 17H7v-7h2v7zm4 0h-2V7h2v10zm4 0h-2v-4h2v4z\"/>\n",
              "    </g>\n",
              "</svg>\n",
              "  </button>\n",
              "\n",
              "<style>\n",
              "  .colab-df-quickchart {\n",
              "      --bg-color: #E8F0FE;\n",
              "      --fill-color: #1967D2;\n",
              "      --hover-bg-color: #E2EBFA;\n",
              "      --hover-fill-color: #174EA6;\n",
              "      --disabled-fill-color: #AAA;\n",
              "      --disabled-bg-color: #DDD;\n",
              "  }\n",
              "\n",
              "  [theme=dark] .colab-df-quickchart {\n",
              "      --bg-color: #3B4455;\n",
              "      --fill-color: #D2E3FC;\n",
              "      --hover-bg-color: #434B5C;\n",
              "      --hover-fill-color: #FFFFFF;\n",
              "      --disabled-bg-color: #3B4455;\n",
              "      --disabled-fill-color: #666;\n",
              "  }\n",
              "\n",
              "  .colab-df-quickchart {\n",
              "    background-color: var(--bg-color);\n",
              "    border: none;\n",
              "    border-radius: 50%;\n",
              "    cursor: pointer;\n",
              "    display: none;\n",
              "    fill: var(--fill-color);\n",
              "    height: 32px;\n",
              "    padding: 0;\n",
              "    width: 32px;\n",
              "  }\n",
              "\n",
              "  .colab-df-quickchart:hover {\n",
              "    background-color: var(--hover-bg-color);\n",
              "    box-shadow: 0 1px 2px rgba(60, 64, 67, 0.3), 0 1px 3px 1px rgba(60, 64, 67, 0.15);\n",
              "    fill: var(--button-hover-fill-color);\n",
              "  }\n",
              "\n",
              "  .colab-df-quickchart-complete:disabled,\n",
              "  .colab-df-quickchart-complete:disabled:hover {\n",
              "    background-color: var(--disabled-bg-color);\n",
              "    fill: var(--disabled-fill-color);\n",
              "    box-shadow: none;\n",
              "  }\n",
              "\n",
              "  .colab-df-spinner {\n",
              "    border: 2px solid var(--fill-color);\n",
              "    border-color: transparent;\n",
              "    border-bottom-color: var(--fill-color);\n",
              "    animation:\n",
              "      spin 1s steps(1) infinite;\n",
              "  }\n",
              "\n",
              "  @keyframes spin {\n",
              "    0% {\n",
              "      border-color: transparent;\n",
              "      border-bottom-color: var(--fill-color);\n",
              "      border-left-color: var(--fill-color);\n",
              "    }\n",
              "    20% {\n",
              "      border-color: transparent;\n",
              "      border-left-color: var(--fill-color);\n",
              "      border-top-color: var(--fill-color);\n",
              "    }\n",
              "    30% {\n",
              "      border-color: transparent;\n",
              "      border-left-color: var(--fill-color);\n",
              "      border-top-color: var(--fill-color);\n",
              "      border-right-color: var(--fill-color);\n",
              "    }\n",
              "    40% {\n",
              "      border-color: transparent;\n",
              "      border-right-color: var(--fill-color);\n",
              "      border-top-color: var(--fill-color);\n",
              "    }\n",
              "    60% {\n",
              "      border-color: transparent;\n",
              "      border-right-color: var(--fill-color);\n",
              "    }\n",
              "    80% {\n",
              "      border-color: transparent;\n",
              "      border-right-color: var(--fill-color);\n",
              "      border-bottom-color: var(--fill-color);\n",
              "    }\n",
              "    90% {\n",
              "      border-color: transparent;\n",
              "      border-bottom-color: var(--fill-color);\n",
              "    }\n",
              "  }\n",
              "</style>\n",
              "\n",
              "  <script>\n",
              "    async function quickchart(key) {\n",
              "      const quickchartButtonEl =\n",
              "        document.querySelector('#' + key + ' button');\n",
              "      quickchartButtonEl.disabled = true;  // To prevent multiple clicks.\n",
              "      quickchartButtonEl.classList.add('colab-df-spinner');\n",
              "      try {\n",
              "        const charts = await google.colab.kernel.invokeFunction(\n",
              "            'suggestCharts', [key], {});\n",
              "      } catch (error) {\n",
              "        console.error('Error during call to suggestCharts:', error);\n",
              "      }\n",
              "      quickchartButtonEl.classList.remove('colab-df-spinner');\n",
              "      quickchartButtonEl.classList.add('colab-df-quickchart-complete');\n",
              "    }\n",
              "    (() => {\n",
              "      let quickchartButtonEl =\n",
              "        document.querySelector('#df-e593ff25-781e-4280-b4bb-371842915385 button');\n",
              "      quickchartButtonEl.style.display =\n",
              "        google.colab.kernel.accessAllowed ? 'block' : 'none';\n",
              "    })();\n",
              "  </script>\n",
              "</div>\n",
              "\n",
              "    </div>\n",
              "  </div>\n"
            ],
            "application/vnd.google.colaboratory.intrinsic+json": {
              "type": "dataframe",
              "summary": "{\n  \"name\": \"merged_data\",\n  \"rows\": 10,\n  \"fields\": [\n    {\n      \"column\": \"Has DWI\",\n      \"properties\": {\n        \"dtype\": \"category\",\n        \"num_unique_values\": 2,\n        \"samples\": [\n          \"Yes\",\n          \"No\"\n        ],\n        \"semantic_type\": \"\",\n        \"description\": \"\"\n      }\n    },\n    {\n      \"column\": \"Has FUNC\",\n      \"properties\": {\n        \"dtype\": \"category\",\n        \"num_unique_values\": 2,\n        \"samples\": [\n          \"Yes\",\n          \"No\"\n        ],\n        \"semantic_type\": \"\",\n        \"description\": \"\"\n      }\n    },\n    {\n      \"column\": \"Has ANAT\",\n      \"properties\": {\n        \"dtype\": \"category\",\n        \"num_unique_values\": 2,\n        \"samples\": [\n          \"Yes\",\n          \"No\"\n        ],\n        \"semantic_type\": \"\",\n        \"description\": \"\"\n      }\n    },\n    {\n      \"column\": \"Has FMAP\",\n      \"properties\": {\n        \"dtype\": \"category\",\n        \"num_unique_values\": 2,\n        \"samples\": [\n          \"No\",\n          \"Yes\"\n        ],\n        \"semantic_type\": \"\",\n        \"description\": \"\"\n      }\n    },\n    {\n      \"column\": \"Subject Count\",\n      \"properties\": {\n        \"dtype\": \"number\",\n        \"std\": 124,\n        \"min\": 1,\n        \"max\": 399,\n        \"num_unique_values\": 6,\n        \"samples\": [\n          2,\n          3\n        ],\n        \"semantic_type\": \"\",\n        \"description\": \"\"\n      }\n    }\n  ]\n}"
            }
          },
          "metadata": {},
          "execution_count": 24
        }
      ]
    },
    {
      "cell_type": "code",
      "source": [],
      "metadata": {
        "id": "STbnWs1qKjrR"
      },
      "execution_count": null,
      "outputs": []
    },
    {
      "cell_type": "markdown",
      "source": [
        "## DWI Sample"
      ],
      "metadata": {
        "id": "XA_qAwv06hwl"
      }
    },
    {
      "cell_type": "code",
      "source": [
        "merged_data = pd.read_csv('data_summary_updated.csv', index_col=None)\n",
        "final_data = pd.read_csv(\n",
        "    working_path.joinpath('final_data.csv'),\n",
        "    index_col=None\n",
        ")"
      ],
      "metadata": {
        "id": "8bJJm6Jn6jFE"
      },
      "execution_count": 7,
      "outputs": []
    },
    {
      "cell_type": "code",
      "source": [
        "# people for whom we don't have neuroimaging data\n",
        "missing_ids = ['NDARHP039DBU', 'NDARBE220VRK', 'NDARJC299PRZ', 'NDARGV263ZRY',\n",
        "               'NDARYR692VVC', 'NDARCM677TC1', 'NDARJK827DBP', 'NDARAT696TMM', 'NDARLA395AG8',\n",
        "               'NDARZK709KEY', 'NDARVF039ZLX', 'NDARUX114RGJ', 'NDARGW785MWF', 'NDARWF205BUM',\n",
        "               'NDARFF757TUX', 'NDARLC358CYJ', 'NDARVM414ZWU', 'NDARWB903FVY', 'NDARKU278YRR',\n",
        "               'NDARJH441HJD', 'NDARDJ092YKH', 'NDARTH373NE7', 'NDARVX337AC0', 'NDARYG172DBJ',\n",
        "               'NDARJH763NPD', 'NDARWZ495PG4', 'NDARAA773LUW', 'NDARYP516VUU', 'NDARHW650FXU',\n",
        "               'NDARRG415BJM', 'NDARPE551CK7', 'NDARYY694NE7', 'NDAREW976FNL', 'NDARDR804MFE',\n",
        "               'NDARNP399JVF', 'NDARGZ282DLD', 'NDARHL237MPV', 'NDARZB345GKD', 'NDARZW623WYG',\n",
        "               'NDARHB000YF8', 'NDARFE593CUC', 'NDARJT819VAX', 'NDARAG584XLU', 'NDARDN924BV2',\n",
        "               'NDARRV410KY1', 'NDARUL596DY9', 'NDARBV503LF7', 'NDARWR139LVZ', 'NDARLC655XBR',\n",
        "               'NDARFY075REK', 'NDARRH199NCH', 'NDAREY721PVD', 'NDARYJ389DWX', 'NDAREW201WD9',\n",
        "               'NDARMV575DC1', 'NDARXG799KWJ', 'NDARRR351RXB', 'NDARTX934NH6', 'NDARFF598HGT',\n",
        "               'NDARVV248VW0', 'NDARTH529YKZ', 'NDARZT011LBZ', 'NDARME573TRB', 'NDARAU447JZH',\n",
        "               'NDARWN424BPK', 'NDARCE788KXW', 'NDARGN721GKT', 'NDARMJ741DZB', 'NDARBH701KA1',\n",
        "               'NDARNM838ABN', 'NDARKK745DHA', 'NDAREA136BDX', 'NDARWX051KEV', 'NDARZK891FTB',\n",
        "               'NDARAN385MDH', 'NDARPB701XDP', 'NDARGR875AXY', 'NDARTF250GYT', 'NDARYJ735XPK',\n",
        "               'NDARAH239PGG', 'NDARAE710YWG', 'NDARUV418FB8', 'NDARNK354JWK', 'NDAREL622FA6',\n",
        "               'NDARCH084YL1', 'NDARFB784LDG', 'NDARJV411EH6', 'NDARDX969ECK', 'NDARPK265ZXW',\n",
        "               'NDARTF150VPJ', 'NDARRV505ND6', 'NDAREU438HAF', 'NDARDG644LJX', 'NDARVK196LEK',\n",
        "               'NDARHN131ZP6', 'NDARJJ817UP1', 'NDARLE091XAZ', 'NDARLB930UWR', 'NDARLX816JUZ',\n",
        "               'NDARWP864WGV', 'NDARTC707KPU', 'NDARKH291KRE', 'NDARBH024NH2', 'NDARHA780UYE',\n",
        "               'NDARBJ016AKE', 'NDARMH488KY0', 'NDARTH261GB5', 'NDARET484TTP', 'NDARVM025NCF',\n",
        "               'NDARRY217HD3', 'NDARDR296XHN', 'NDARMH625WKL', 'NDARFJ988HKR', 'NDARCU811WCY',\n",
        "               'NDARBH536UD3', 'NDARLJ168LXY', 'NDARTK435YWU', 'NDARVX856RHN', 'NDARPC931KR1',\n",
        "               'NDARUV147TDD', 'NDARMG114FCW', 'NDARGV956EGX', 'NDARLK034DJB', 'NDARXT325FV6',\n",
        "               'NDARAE264WPZ', 'NDARLN658KCD', 'NDARTL667CCG']"
      ],
      "metadata": {
        "id": "6FHtAZGR6nDF"
      },
      "execution_count": 8,
      "outputs": []
    },
    {
      "cell_type": "markdown",
      "source": [
        "**Step 1. all the neuroimaging dataset**"
      ],
      "metadata": {
        "id": "LbmfgjK0WTK8"
      }
    },
    {
      "cell_type": "code",
      "source": [
        "dwi_sample = merged_data[merged_data['Has DWI'] == 'Yes']\n",
        "print(\"Total sample\", dwi_sample.shape[0], 'particpants')\n",
        "print(dwi_sample[dwi_sample['Group'] != 'Control'].shape[0], 'dyslexics')\n",
        "print(dwi_sample[dwi_sample['Group'] == 'Control'].shape[0], 'controls')"
      ],
      "metadata": {
        "colab": {
          "base_uri": "https://localhost:8080/"
        },
        "id": "qsEplYAz6tWx",
        "outputId": "dbd567a5-0e0a-421f-eee4-e3ac9d9a7d3e"
      },
      "execution_count": 9,
      "outputs": [
        {
          "output_type": "stream",
          "name": "stdout",
          "text": [
            "Total sample 422 particpants\n",
            "243 dyslexics\n",
            "179 controls\n"
          ]
        }
      ]
    },
    {
      "cell_type": "code",
      "source": [
        "dwi_sample['MRI_Track,Age_at_Scan'] = dwi_sample['MRI_Track,Age_at_Scan'].astype(float)"
      ],
      "metadata": {
        "colab": {
          "base_uri": "https://localhost:8080/"
        },
        "id": "dhFZovgC3e2P",
        "outputId": "5f7f069c-a6f7-4ce3-bc84-4e1f3942e2a9"
      },
      "execution_count": 10,
      "outputs": [
        {
          "output_type": "stream",
          "name": "stderr",
          "text": [
            "<ipython-input-10-9ed95a0c6240>:1: SettingWithCopyWarning: \n",
            "A value is trying to be set on a copy of a slice from a DataFrame.\n",
            "Try using .loc[row_indexer,col_indexer] = value instead\n",
            "\n",
            "See the caveats in the documentation: https://pandas.pydata.org/pandas-docs/stable/user_guide/indexing.html#returning-a-view-versus-a-copy\n",
            "  dwi_sample['MRI_Track,Age_at_Scan'] = dwi_sample['MRI_Track,Age_at_Scan'].astype(float)\n"
          ]
        }
      ]
    },
    {
      "cell_type": "code",
      "source": [
        "dwi_sample.groupby('MRI_Track,Scan_Location')['Identifiers'].count()"
      ],
      "metadata": {
        "colab": {
          "base_uri": "https://localhost:8080/",
          "height": 241
        },
        "id": "DNeREXW27PF2",
        "outputId": "5eb09f12-e549-47c6-8f87-c5034f5756f4"
      },
      "execution_count": 11,
      "outputs": [
        {
          "output_type": "execute_result",
          "data": {
            "text/plain": [
              "MRI_Track,Scan_Location\n",
              "1     51\n",
              "2    141\n",
              "3    191\n",
              "4     39\n",
              "Name: Identifiers, dtype: int64"
            ],
            "text/html": [
              "<div>\n",
              "<style scoped>\n",
              "    .dataframe tbody tr th:only-of-type {\n",
              "        vertical-align: middle;\n",
              "    }\n",
              "\n",
              "    .dataframe tbody tr th {\n",
              "        vertical-align: top;\n",
              "    }\n",
              "\n",
              "    .dataframe thead th {\n",
              "        text-align: right;\n",
              "    }\n",
              "</style>\n",
              "<table border=\"1\" class=\"dataframe\">\n",
              "  <thead>\n",
              "    <tr style=\"text-align: right;\">\n",
              "      <th></th>\n",
              "      <th>Identifiers</th>\n",
              "    </tr>\n",
              "    <tr>\n",
              "      <th>MRI_Track,Scan_Location</th>\n",
              "      <th></th>\n",
              "    </tr>\n",
              "  </thead>\n",
              "  <tbody>\n",
              "    <tr>\n",
              "      <th>1</th>\n",
              "      <td>51</td>\n",
              "    </tr>\n",
              "    <tr>\n",
              "      <th>2</th>\n",
              "      <td>141</td>\n",
              "    </tr>\n",
              "    <tr>\n",
              "      <th>3</th>\n",
              "      <td>191</td>\n",
              "    </tr>\n",
              "    <tr>\n",
              "      <th>4</th>\n",
              "      <td>39</td>\n",
              "    </tr>\n",
              "  </tbody>\n",
              "</table>\n",
              "</div><br><label><b>dtype:</b> int64</label>"
            ]
          },
          "metadata": {},
          "execution_count": 11
        }
      ]
    },
    {
      "cell_type": "code",
      "source": [
        "# Staten Island 1\n",
        "dwi_sample[dwi_sample['MRI_Track,Scan_Location'] == 1].groupby(['Group'])['Identifiers'].count()"
      ],
      "metadata": {
        "colab": {
          "base_uri": "https://localhost:8080/",
          "height": 209
        },
        "id": "GAF8Y1OBWa7C",
        "outputId": "8d6105d2-5f35-447b-a5cb-e3b11c0291ed"
      },
      "execution_count": 12,
      "outputs": [
        {
          "output_type": "execute_result",
          "data": {
            "text/plain": [
              "Group\n",
              "Control                  36\n",
              "DD                        3\n",
              "DD with comorbidities    12\n",
              "Name: Identifiers, dtype: int64"
            ],
            "text/html": [
              "<div>\n",
              "<style scoped>\n",
              "    .dataframe tbody tr th:only-of-type {\n",
              "        vertical-align: middle;\n",
              "    }\n",
              "\n",
              "    .dataframe tbody tr th {\n",
              "        vertical-align: top;\n",
              "    }\n",
              "\n",
              "    .dataframe thead th {\n",
              "        text-align: right;\n",
              "    }\n",
              "</style>\n",
              "<table border=\"1\" class=\"dataframe\">\n",
              "  <thead>\n",
              "    <tr style=\"text-align: right;\">\n",
              "      <th></th>\n",
              "      <th>Identifiers</th>\n",
              "    </tr>\n",
              "    <tr>\n",
              "      <th>Group</th>\n",
              "      <th></th>\n",
              "    </tr>\n",
              "  </thead>\n",
              "  <tbody>\n",
              "    <tr>\n",
              "      <th>Control</th>\n",
              "      <td>36</td>\n",
              "    </tr>\n",
              "    <tr>\n",
              "      <th>DD</th>\n",
              "      <td>3</td>\n",
              "    </tr>\n",
              "    <tr>\n",
              "      <th>DD with comorbidities</th>\n",
              "      <td>12</td>\n",
              "    </tr>\n",
              "  </tbody>\n",
              "</table>\n",
              "</div><br><label><b>dtype:</b> int64</label>"
            ]
          },
          "metadata": {},
          "execution_count": 12
        }
      ]
    },
    {
      "cell_type": "code",
      "source": [
        "dwi_sample[dwi_sample['MRI_Track,Scan_Location'] == 1]['MRI_Track,Age_at_Scan'].hist(bins=range(5, 19), edgecolor='black')\n",
        "plt.title('Age Distribution')\n",
        "plt.xlabel('Age')\n",
        "plt.ylabel('Number of Participants')\n",
        "plt.show()"
      ],
      "metadata": {
        "colab": {
          "base_uri": "https://localhost:8080/",
          "height": 480
        },
        "id": "VQskX6TJ3UvQ",
        "outputId": "65103ac1-7786-4c01-b6ed-8a42f75bc9ee"
      },
      "execution_count": 13,
      "outputs": [
        {
          "output_type": "display_data",
          "data": {
            "text/plain": [
              "<Figure size 640x480 with 1 Axes>"
            ],
            "image/png": "[encoded data removed]"
          },
          "metadata": {}
        }
      ]
    },
    {
      "cell_type": "code",
      "source": [
        "bins = list(range(5, 19))  # Bins from 5 to 18 (inclusive of 5, exclusive of 19)\n",
        "labels = [f\"{i}-{i+1}\" for i in bins[:-1]]  # Label for each age bin\n",
        "\n",
        "# Use pd.cut without assigning a new column\n",
        "age_group_counts = pd.cut(dwi_sample[dwi_sample['MRI_Track,Scan_Location'] == 1]['MRI_Track,Age_at_Scan'], bins=bins, right=False, labels=labels).value_counts().sort_index()\n",
        "\n",
        "# Print the result\n",
        "print(age_group_counts)"
      ],
      "metadata": {
        "colab": {
          "base_uri": "https://localhost:8080/"
        },
        "id": "cwN7Ii0XUSx1",
        "outputId": "e9b0a8e0-ee4f-4d99-b57e-2c240e2ce173"
      },
      "execution_count": null,
      "outputs": [
        {
          "output_type": "stream",
          "name": "stdout",
          "text": [
            "MRI_Track,Age_at_Scan\n",
            "5-6      0\n",
            "6-7      0\n",
            "7-8      3\n",
            "8-9      7\n",
            "9-10     3\n",
            "10-11    8\n",
            "11-12    7\n",
            "12-13    5\n",
            "13-14    5\n",
            "14-15    3\n",
            "15-16    6\n",
            "16-17    3\n",
            "17-18    1\n",
            "Name: count, dtype: int64\n"
          ]
        }
      ]
    },
    {
      "cell_type": "code",
      "source": [
        "# Rutgers 2\n",
        "dwi_sample[dwi_sample['MRI_Track,Scan_Location'] == 2].groupby(['Group'])['Identifiers'].count()"
      ],
      "metadata": {
        "colab": {
          "base_uri": "https://localhost:8080/",
          "height": 209
        },
        "id": "8ACt87qY84Vc",
        "outputId": "9ef3a852-9c57-4e56-8a28-600fa80c2f22"
      },
      "execution_count": null,
      "outputs": [
        {
          "output_type": "execute_result",
          "data": {
            "text/plain": [
              "Group\n",
              "Control                  63\n",
              "DD                       19\n",
              "DD with comorbidities    59\n",
              "Name: Identifiers, dtype: int64"
            ],
            "text/html": [
              "<div>\n",
              "<style scoped>\n",
              "    .dataframe tbody tr th:only-of-type {\n",
              "        vertical-align: middle;\n",
              "    }\n",
              "\n",
              "    .dataframe tbody tr th {\n",
              "        vertical-align: top;\n",
              "    }\n",
              "\n",
              "    .dataframe thead th {\n",
              "        text-align: right;\n",
              "    }\n",
              "</style>\n",
              "<table border=\"1\" class=\"dataframe\">\n",
              "  <thead>\n",
              "    <tr style=\"text-align: right;\">\n",
              "      <th></th>\n",
              "      <th>Identifiers</th>\n",
              "    </tr>\n",
              "    <tr>\n",
              "      <th>Group</th>\n",
              "      <th></th>\n",
              "    </tr>\n",
              "  </thead>\n",
              "  <tbody>\n",
              "    <tr>\n",
              "      <th>Control</th>\n",
              "      <td>63</td>\n",
              "    </tr>\n",
              "    <tr>\n",
              "      <th>DD</th>\n",
              "      <td>19</td>\n",
              "    </tr>\n",
              "    <tr>\n",
              "      <th>DD with comorbidities</th>\n",
              "      <td>59</td>\n",
              "    </tr>\n",
              "  </tbody>\n",
              "</table>\n",
              "</div><br><label><b>dtype:</b> int64</label>"
            ]
          },
          "metadata": {},
          "execution_count": 70
        }
      ]
    },
    {
      "cell_type": "code",
      "source": [
        "# CBIC 3\n",
        "dwi_sample[dwi_sample['MRI_Track,Scan_Location'] == 3].groupby(['Group'])['Identifiers'].count()"
      ],
      "metadata": {
        "colab": {
          "base_uri": "https://localhost:8080/",
          "height": 209
        },
        "id": "d5VgdEegW4Q3",
        "outputId": "be9bdb78-1eeb-422c-be53-15618f3708e1"
      },
      "execution_count": null,
      "outputs": [
        {
          "output_type": "execute_result",
          "data": {
            "text/plain": [
              "Group\n",
              "Control                   64\n",
              "DD                        14\n",
              "DD with comorbidities    113\n",
              "Name: Identifiers, dtype: int64"
            ],
            "text/html": [
              "<div>\n",
              "<style scoped>\n",
              "    .dataframe tbody tr th:only-of-type {\n",
              "        vertical-align: middle;\n",
              "    }\n",
              "\n",
              "    .dataframe tbody tr th {\n",
              "        vertical-align: top;\n",
              "    }\n",
              "\n",
              "    .dataframe thead th {\n",
              "        text-align: right;\n",
              "    }\n",
              "</style>\n",
              "<table border=\"1\" class=\"dataframe\">\n",
              "  <thead>\n",
              "    <tr style=\"text-align: right;\">\n",
              "      <th></th>\n",
              "      <th>Identifiers</th>\n",
              "    </tr>\n",
              "    <tr>\n",
              "      <th>Group</th>\n",
              "      <th></th>\n",
              "    </tr>\n",
              "  </thead>\n",
              "  <tbody>\n",
              "    <tr>\n",
              "      <th>Control</th>\n",
              "      <td>64</td>\n",
              "    </tr>\n",
              "    <tr>\n",
              "      <th>DD</th>\n",
              "      <td>14</td>\n",
              "    </tr>\n",
              "    <tr>\n",
              "      <th>DD with comorbidities</th>\n",
              "      <td>113</td>\n",
              "    </tr>\n",
              "  </tbody>\n",
              "</table>\n",
              "</div><br><label><b>dtype:</b> int64</label>"
            ]
          },
          "metadata": {},
          "execution_count": 71
        }
      ]
    },
    {
      "cell_type": "code",
      "source": [
        "# CUNY 4\n",
        "dwi_sample[dwi_sample['MRI_Track,Scan_Location'] == 4].groupby(['Group'])['Identifiers'].count()"
      ],
      "metadata": {
        "colab": {
          "base_uri": "https://localhost:8080/",
          "height": 209
        },
        "id": "90NAKSvPXHQf",
        "outputId": "5dc7bed8-3fe0-46c5-b88a-0942d70083fb"
      },
      "execution_count": null,
      "outputs": [
        {
          "output_type": "execute_result",
          "data": {
            "text/plain": [
              "Group\n",
              "Control                  16\n",
              "DD                        4\n",
              "DD with comorbidities    19\n",
              "Name: Identifiers, dtype: int64"
            ],
            "text/html": [
              "<div>\n",
              "<style scoped>\n",
              "    .dataframe tbody tr th:only-of-type {\n",
              "        vertical-align: middle;\n",
              "    }\n",
              "\n",
              "    .dataframe tbody tr th {\n",
              "        vertical-align: top;\n",
              "    }\n",
              "\n",
              "    .dataframe thead th {\n",
              "        text-align: right;\n",
              "    }\n",
              "</style>\n",
              "<table border=\"1\" class=\"dataframe\">\n",
              "  <thead>\n",
              "    <tr style=\"text-align: right;\">\n",
              "      <th></th>\n",
              "      <th>Identifiers</th>\n",
              "    </tr>\n",
              "    <tr>\n",
              "      <th>Group</th>\n",
              "      <th></th>\n",
              "    </tr>\n",
              "  </thead>\n",
              "  <tbody>\n",
              "    <tr>\n",
              "      <th>Control</th>\n",
              "      <td>16</td>\n",
              "    </tr>\n",
              "    <tr>\n",
              "      <th>DD</th>\n",
              "      <td>4</td>\n",
              "    </tr>\n",
              "    <tr>\n",
              "      <th>DD with comorbidities</th>\n",
              "      <td>19</td>\n",
              "    </tr>\n",
              "  </tbody>\n",
              "</table>\n",
              "</div><br><label><b>dtype:</b> int64</label>"
            ]
          },
          "metadata": {},
          "execution_count": 72
        }
      ]
    },
    {
      "cell_type": "markdown",
      "source": [
        "**Step 2. We are getting rid of Staten Island data because we have too different neuroimaging parameters at this site compared to all the others.**"
      ],
      "metadata": {
        "id": "TLx4T2eTuaGI"
      }
    },
    {
      "cell_type": "code",
      "source": [
        "dwi_sample = dwi_sample[dwi_sample['MRI_Track,Scan_Location'] != 1]"
      ],
      "metadata": {
        "id": "ppfTnGW3uZrz"
      },
      "execution_count": 14,
      "outputs": []
    },
    {
      "cell_type": "code",
      "source": [
        "print(\"Total sample\", dwi_sample.shape[0], 'particpants')\n",
        "print(dwi_sample[dwi_sample['Group'] != 'Control'].shape[0], 'dyslexics')\n",
        "print(dwi_sample[dwi_sample['Group'] == 'Control'].shape[0], 'controls')"
      ],
      "metadata": {
        "colab": {
          "base_uri": "https://localhost:8080/"
        },
        "id": "bn2UFPppuy5O",
        "outputId": "b66cf6b4-4ab1-47fb-dac9-5c0a6938bf89"
      },
      "execution_count": 15,
      "outputs": [
        {
          "output_type": "stream",
          "name": "stdout",
          "text": [
            "Total sample 371 particpants\n",
            "228 dyslexics\n",
            "143 controls\n"
          ]
        }
      ]
    },
    {
      "cell_type": "markdown",
      "source": [
        "**Step 3. We might wanna exclude people with no FMAP.**"
      ],
      "metadata": {
        "id": "SctH2sK6rM2w"
      }
    },
    {
      "cell_type": "code",
      "source": [
        "# people without fieldmaps\n",
        "bins = list(range(5, 19))  # Bins from 5 to 18 (inclusive of 5, exclusive of 19)\n",
        "labels = [f\"{i}-{i+1}\" for i in bins[:-1]]  # Label for each age bin\n",
        "\n",
        "# Use pd.cut without assigning a new column\n",
        "age_group_counts = pd.cut(dwi_sample[dwi_sample['Has FMAP'] == 'No']['MRI_Track,Age_at_Scan'], bins=bins, right=False, labels=labels).value_counts().sort_index()\n",
        "\n",
        "# Print the result\n",
        "print(age_group_counts)"
      ],
      "metadata": {
        "colab": {
          "base_uri": "https://localhost:8080/"
        },
        "id": "273XjlA5wBHK",
        "outputId": "9a0941e3-df34-42dd-89ee-a78abad7f72e"
      },
      "execution_count": null,
      "outputs": [
        {
          "output_type": "stream",
          "name": "stdout",
          "text": [
            "MRI_Track,Age_at_Scan\n",
            "5-6      0\n",
            "6-7      2\n",
            "7-8      3\n",
            "8-9      2\n",
            "9-10     4\n",
            "10-11    4\n",
            "11-12    1\n",
            "12-13    0\n",
            "13-14    1\n",
            "14-15    2\n",
            "15-16    0\n",
            "16-17    1\n",
            "17-18    0\n",
            "Name: count, dtype: int64\n"
          ]
        }
      ]
    },
    {
      "cell_type": "code",
      "source": [
        "no_fmap_excluded = dwi_sample[dwi_sample['Has FMAP'] != 'No']\n",
        "all_fmap_options = dwi_sample.copy()"
      ],
      "metadata": {
        "id": "gUEKuRBzrL5Y"
      },
      "execution_count": 16,
      "outputs": []
    },
    {
      "cell_type": "code",
      "source": [
        "print(\"Total sample when fmap excluded\", no_fmap_excluded.shape[0], 'particpants')\n",
        "print(no_fmap_excluded[no_fmap_excluded['Group'] != 'Control'].shape[0], 'dyslexics')\n",
        "print(no_fmap_excluded[no_fmap_excluded['Group'] == 'Control'].shape[0], 'controls')"
      ],
      "metadata": {
        "id": "SedQ5w5brgmh",
        "outputId": "c18352cd-cb84-4377-e308-ca3b77ce715c",
        "colab": {
          "base_uri": "https://localhost:8080/"
        }
      },
      "execution_count": 17,
      "outputs": [
        {
          "output_type": "stream",
          "name": "stdout",
          "text": [
            "Total sample when fmap excluded 351 particpants\n",
            "215 dyslexics\n",
            "136 controls\n"
          ]
        }
      ]
    },
    {
      "cell_type": "code",
      "source": [
        "no_fmap_excluded.groupby('MRI_Track,Scan_Location')['Identifiers'].count()"
      ],
      "metadata": {
        "id": "xmFh_On3rqVa",
        "outputId": "4fcc79ea-70db-4814-8867-2fb80c319420",
        "colab": {
          "base_uri": "https://localhost:8080/",
          "height": 209
        }
      },
      "execution_count": 18,
      "outputs": [
        {
          "output_type": "execute_result",
          "data": {
            "text/plain": [
              "MRI_Track,Scan_Location\n",
              "2    138\n",
              "3    174\n",
              "4     39\n",
              "Name: Identifiers, dtype: int64"
            ],
            "text/html": [
              "<div>\n",
              "<style scoped>\n",
              "    .dataframe tbody tr th:only-of-type {\n",
              "        vertical-align: middle;\n",
              "    }\n",
              "\n",
              "    .dataframe tbody tr th {\n",
              "        vertical-align: top;\n",
              "    }\n",
              "\n",
              "    .dataframe thead th {\n",
              "        text-align: right;\n",
              "    }\n",
              "</style>\n",
              "<table border=\"1\" class=\"dataframe\">\n",
              "  <thead>\n",
              "    <tr style=\"text-align: right;\">\n",
              "      <th></th>\n",
              "      <th>Identifiers</th>\n",
              "    </tr>\n",
              "    <tr>\n",
              "      <th>MRI_Track,Scan_Location</th>\n",
              "      <th></th>\n",
              "    </tr>\n",
              "  </thead>\n",
              "  <tbody>\n",
              "    <tr>\n",
              "      <th>2</th>\n",
              "      <td>138</td>\n",
              "    </tr>\n",
              "    <tr>\n",
              "      <th>3</th>\n",
              "      <td>174</td>\n",
              "    </tr>\n",
              "    <tr>\n",
              "      <th>4</th>\n",
              "      <td>39</td>\n",
              "    </tr>\n",
              "  </tbody>\n",
              "</table>\n",
              "</div><br><label><b>dtype:</b> int64</label>"
            ]
          },
          "metadata": {},
          "execution_count": 18
        }
      ]
    },
    {
      "cell_type": "code",
      "source": [
        "print('When fmap excluded, Rutgers: dyslexics',\n",
        "      no_fmap_excluded[(no_fmap_excluded['MRI_Track,Scan_Location'] == 2) &\n",
        "                       (no_fmap_excluded['Group'] != 'Control')].shape[0],\n",
        "      ', controls', no_fmap_excluded[(no_fmap_excluded['MRI_Track,Scan_Location'] == 2) &\n",
        "                       (no_fmap_excluded['Group'] == 'Control')].shape[0])\n",
        "\n",
        "print('When fmap excluded, CBIC: dyslexics',\n",
        "      no_fmap_excluded[(no_fmap_excluded['MRI_Track,Scan_Location'] == 3) &\n",
        "                       (no_fmap_excluded['Group'] != 'Control')].shape[0],\n",
        "      ', controls', no_fmap_excluded[(no_fmap_excluded['MRI_Track,Scan_Location'] == 3) &\n",
        "                       (no_fmap_excluded['Group'] == 'Control')].shape[0])\n",
        "\n",
        "print('When fmap excluded, CUNY: dyslexics',\n",
        "      no_fmap_excluded[(no_fmap_excluded['MRI_Track,Scan_Location'] == 4) &\n",
        "                       (no_fmap_excluded['Group'] != 'Control')].shape[0],\n",
        "      ', controls', no_fmap_excluded[(no_fmap_excluded['MRI_Track,Scan_Location'] == 4) &\n",
        "                       (no_fmap_excluded['Group'] == 'Control')].shape[0])"
      ],
      "metadata": {
        "id": "zd-2KYGur8tG",
        "outputId": "e8eb9a9e-9576-4612-96f0-00815f086cf1",
        "colab": {
          "base_uri": "https://localhost:8080/"
        }
      },
      "execution_count": 19,
      "outputs": [
        {
          "output_type": "stream",
          "name": "stdout",
          "text": [
            "When fmap excluded, Rutgers: dyslexics 77 , controls 61\n",
            "When fmap excluded, CBIC: dyslexics 115 , controls 59\n",
            "When fmap excluded, CUNY: dyslexics 23 , controls 16\n"
          ]
        }
      ]
    },
    {
      "cell_type": "markdown",
      "source": [
        "**Step 4. We might want to exclude people with low IQ.**"
      ],
      "metadata": {
        "id": "8VG8Sg49rqv7"
      }
    },
    {
      "cell_type": "code",
      "source": [
        "# people with low IQ\n",
        "# Let's provide some more statistics on the IQ options and ranges that we have:\n",
        "bins = list(range(5, 19))  # Bins from 5 to 18 (inclusive of 5, exclusive of 19)\n",
        "labels = [f\"{i}-{i+1}\" for i in bins[:-1]]  # Label for each age bin\n",
        "\n",
        "print('IQ = 70')\n",
        "print(no_fmap_excluded[no_fmap_excluded['IQ'] == 70].shape[0], 'subjects')\n",
        "print(no_fmap_excluded[(no_fmap_excluded['IQ'] == 70) &\n",
        "                       (no_fmap_excluded['Group'] != 'Control')].shape[0], 'dyslexics')\n",
        "print(no_fmap_excluded[(no_fmap_excluded['IQ'] == 70) &\n",
        "                       (no_fmap_excluded['Group'] == 'Control')].shape[0], 'controls')\n",
        "\n",
        "age_group_counts = pd.cut(no_fmap_excluded[no_fmap_excluded['IQ'] == 70]['MRI_Track,Age_at_Scan'], bins=bins, right=False, labels=labels).value_counts().sort_index()\n",
        "print(age_group_counts)\n",
        "\n",
        "print('')\n",
        "print('70 < IQ <= 75')\n",
        "print(no_fmap_excluded[(no_fmap_excluded['IQ'] > 70) & (no_fmap_excluded['IQ'] <= 75)].shape[0])\n",
        "print(no_fmap_excluded[(no_fmap_excluded['IQ'] > 70) & (no_fmap_excluded['IQ'] <= 75) &\n",
        "                       (no_fmap_excluded['Group'] != 'Control')].shape[0], 'dyslexics')\n",
        "print(no_fmap_excluded[(no_fmap_excluded['IQ'] > 70) & (no_fmap_excluded['IQ'] <= 75) &\n",
        "                       (no_fmap_excluded['Group'] == 'Control')].shape[0], 'controls')\n",
        "age_group_counts = pd.cut(no_fmap_excluded[(no_fmap_excluded['IQ'] > 70) & (no_fmap_excluded['IQ'] <= 75)]['MRI_Track,Age_at_Scan'], bins=bins, right=False, labels=labels).value_counts().sort_index()\n",
        "print(age_group_counts)\n",
        "\n",
        "print('')\n",
        "print('75 < IQ <= 80')\n",
        "print(no_fmap_excluded[(no_fmap_excluded['IQ'] > 75) & (no_fmap_excluded['IQ'] <= 80)].shape[0])\n",
        "print(no_fmap_excluded[(no_fmap_excluded['IQ'] > 75) & (no_fmap_excluded['IQ'] <= 80) &\n",
        "                       (no_fmap_excluded['Group'] != 'Control')].shape[0], 'dyslexics')\n",
        "print(no_fmap_excluded[(no_fmap_excluded['IQ'] > 75) & (no_fmap_excluded['IQ'] <= 80) &\n",
        "                       (no_fmap_excluded['Group'] == 'Control')].shape[0], 'controls')\n",
        "age_group_counts = pd.cut(no_fmap_excluded[(no_fmap_excluded['IQ'] > 75) & (no_fmap_excluded['IQ'] <= 80)]['MRI_Track,Age_at_Scan'], bins=bins, right=False, labels=labels).value_counts().sort_index()\n",
        "print(age_group_counts)\n",
        "\n",
        "print('')\n",
        "print('80 < IQ <= 85')\n",
        "print(no_fmap_excluded[(no_fmap_excluded['IQ'] > 80) & (no_fmap_excluded['IQ'] <= 85)].shape[0])\n",
        "print(no_fmap_excluded[(no_fmap_excluded['IQ'] > 80) & (no_fmap_excluded['IQ'] <= 85) &\n",
        "                       (no_fmap_excluded['Group'] != 'Control')].shape[0], 'dyslexics')\n",
        "print(no_fmap_excluded[(no_fmap_excluded['IQ'] > 80) & (no_fmap_excluded['IQ'] <= 85) &\n",
        "                       (no_fmap_excluded['Group'] == 'Control')].shape[0], 'controls')\n",
        "age_group_counts = pd.cut(no_fmap_excluded[(no_fmap_excluded['IQ'] > 80) & (no_fmap_excluded['IQ'] <= 85)]['MRI_Track,Age_at_Scan'], bins=bins, right=False, labels=labels).value_counts().sort_index()\n",
        "print(age_group_counts)"
      ],
      "metadata": {
        "id": "qyLhsMuF2XM0",
        "outputId": "c2e1a443-8ed9-4b1a-eb2d-40d0d06fe4fb",
        "colab": {
          "base_uri": "https://localhost:8080/"
        }
      },
      "execution_count": 45,
      "outputs": [
        {
          "output_type": "stream",
          "name": "stdout",
          "text": [
            "IQ = 70\n",
            "2 subjects\n",
            "2 dyslexics\n",
            "0 controls\n",
            "MRI_Track,Age_at_Scan\n",
            "5-6      0\n",
            "6-7      0\n",
            "7-8      0\n",
            "8-9      1\n",
            "9-10     0\n",
            "10-11    0\n",
            "11-12    1\n",
            "12-13    0\n",
            "13-14    0\n",
            "14-15    0\n",
            "15-16    0\n",
            "16-17    0\n",
            "17-18    0\n",
            "Name: count, dtype: int64\n",
            "\n",
            "70 < IQ <= 75\n",
            "5\n",
            "5 dyslexics\n",
            "0 controls\n",
            "MRI_Track,Age_at_Scan\n",
            "5-6      0\n",
            "6-7      0\n",
            "7-8      0\n",
            "8-9      0\n",
            "9-10     1\n",
            "10-11    0\n",
            "11-12    1\n",
            "12-13    1\n",
            "13-14    0\n",
            "14-15    1\n",
            "15-16    1\n",
            "16-17    0\n",
            "17-18    0\n",
            "Name: count, dtype: int64\n",
            "\n",
            "75 < IQ <= 80\n",
            "24\n",
            "21 dyslexics\n",
            "3 controls\n",
            "MRI_Track,Age_at_Scan\n",
            "5-6      1\n",
            "6-7      4\n",
            "7-8      0\n",
            "8-9      4\n",
            "9-10     2\n",
            "10-11    3\n",
            "11-12    5\n",
            "12-13    1\n",
            "13-14    0\n",
            "14-15    2\n",
            "15-16    1\n",
            "16-17    0\n",
            "17-18    1\n",
            "Name: count, dtype: int64\n",
            "\n",
            "80 < IQ <= 85\n",
            "29\n",
            "24 dyslexics\n",
            "5 controls\n",
            "MRI_Track,Age_at_Scan\n",
            "5-6      0\n",
            "6-7      0\n",
            "7-8      5\n",
            "8-9      5\n",
            "9-10     8\n",
            "10-11    2\n",
            "11-12    4\n",
            "12-13    3\n",
            "13-14    0\n",
            "14-15    1\n",
            "15-16    0\n",
            "16-17    0\n",
            "17-18    1\n",
            "Name: count, dtype: int64\n"
          ]
        }
      ]
    },
    {
      "cell_type": "code",
      "source": [
        "\n",
        "print('Total sample when no fmap option included and  70 < IQ < 85',\n",
        "      all_fmap_options[all_fmap_options['IQ'] < 85].shape[0])\n",
        "print(all_fmap_options[(all_fmap_options['IQ'] < 85) & (all_fmap_options['Group'] != 'Control')].shape[0], 'dyslexics')\n",
        "print(all_fmap_options[(all_fmap_options['IQ'] < 85) & (all_fmap_options['Group'] == 'Control')].shape[0], 'controls')\n",
        "print('')\n",
        "bins = list(range(5, 19))  # Bins from 5 to 18 (inclusive of 5, exclusive of 19)\n",
        "labels = [f\"{i}-{i+1}\" for i in bins[:-1]]  # Label for each age bin\n",
        "# Use pd.cut without assigning a new column\n",
        "age_group_counts = pd.cut(all_fmap_options[all_fmap_options['IQ'] < 85]['MRI_Track,Age_at_Scan'], bins=bins, right=False, labels=labels).value_counts().sort_index()\n",
        "# Print the result\n",
        "print(age_group_counts)"
      ],
      "metadata": {
        "id": "5pn-tQLXs0qz",
        "outputId": "3d4a8416-f484-4905-bc15-89aa6e189bf6",
        "colab": {
          "base_uri": "https://localhost:8080/"
        }
      },
      "execution_count": 36,
      "outputs": [
        {
          "output_type": "stream",
          "name": "stdout",
          "text": [
            "Total sample when no fmap option included and  70 < IQ < 85 58\n",
            "50 dyslexics\n",
            "8 controls\n",
            "\n",
            "MRI_Track,Age_at_Scan\n",
            "5-6       1\n",
            "6-7       4\n",
            "7-8       5\n",
            "8-9       8\n",
            "9-10      9\n",
            "10-11     5\n",
            "11-12    11\n",
            "12-13     5\n",
            "13-14     0\n",
            "14-15     6\n",
            "15-16     2\n",
            "16-17     0\n",
            "17-18     2\n",
            "Name: count, dtype: int64\n"
          ]
        }
      ]
    },
    {
      "cell_type": "code",
      "source": [
        "# Let's provide some more statistics on the IQ options and ranges that we have:\n",
        "print('Total sample when no fmap option excluded and  70 < IQ < 85',\n",
        "      no_fmap_excluded[no_fmap_excluded['IQ'] < 85].shape[0])\n",
        "print(no_fmap_excluded[(no_fmap_excluded['IQ'] < 85) & (no_fmap_excluded['Group'] != 'Control')].shape[0], 'dyslexics')\n",
        "print(no_fmap_excluded[(no_fmap_excluded['IQ'] < 85) & (no_fmap_excluded['Group'] == 'Control')].shape[0], 'controls')\n",
        "print('')\n",
        "bins = list(range(5, 19))  # Bins from 5 to 18 (inclusive of 5, exclusive of 19)\n",
        "labels = [f\"{i}-{i+1}\" for i in bins[:-1]]  # Label for each age bin\n",
        "# Use pd.cut without assigning a new column\n",
        "age_group_counts = pd.cut(no_fmap_excluded[no_fmap_excluded['IQ'] < 85]['MRI_Track,Age_at_Scan'], bins=bins, right=False, labels=labels).value_counts().sort_index()\n",
        "# Print the result\n",
        "print(age_group_counts)"
      ],
      "metadata": {
        "id": "KE4OoXWR5J9H",
        "outputId": "44a1a26d-cf1b-4905-e3c1-ae465e0f3243",
        "colab": {
          "base_uri": "https://localhost:8080/"
        }
      },
      "execution_count": 37,
      "outputs": [
        {
          "output_type": "stream",
          "name": "stdout",
          "text": [
            "Total sample when no fmap option excluded and  70 < IQ < 85 54\n",
            "46 dyslexics\n",
            "8 controls\n",
            "\n",
            "MRI_Track,Age_at_Scan\n",
            "5-6       1\n",
            "6-7       4\n",
            "7-8       4\n",
            "8-9       8\n",
            "9-10      8\n",
            "10-11     5\n",
            "11-12    11\n",
            "12-13     5\n",
            "13-14     0\n",
            "14-15     4\n",
            "15-16     2\n",
            "16-17     0\n",
            "17-18     2\n",
            "Name: count, dtype: int64\n"
          ]
        }
      ]
    },
    {
      "cell_type": "code",
      "source": [
        "# if we exclude these IQ points between 70 and 85 and people with no fmap:\n",
        "no_fmap_excluded_iq_more_85 = no_fmap_excluded[no_fmap_excluded['IQ'] >= 85]\n",
        "\n",
        "print(\"Total sample when no fmap option excluded and IQ >= 85\",\n",
        "      no_fmap_excluded_iq_more_85.shape[0], 'particpants')\n",
        "print(no_fmap_excluded_iq_more_85[no_fmap_excluded_iq_more_85['Group'] != 'Control'].shape[0], 'dyslexics')\n",
        "print(no_fmap_excluded_iq_more_85[no_fmap_excluded_iq_more_85['Group'] == 'Control'].shape[0], 'controls')\n",
        "print('')\n",
        "# people with low IQ\n",
        "bins = list(range(5, 19))  # Bins from 5 to 18 (inclusive of 5, exclusive of 19)\n",
        "labels = [f\"{i}-{i+1}\" for i in bins[:-1]]  # Label for each age bin\n",
        "# Use pd.cut without assigning a new column\n",
        "age_group_counts = pd.cut(no_fmap_excluded_iq_more_85['MRI_Track,Age_at_Scan'], bins=bins, right=False, labels=labels).value_counts().sort_index()\n",
        "\n",
        "# Print the result\n",
        "print(age_group_counts)\n",
        "print('')\n",
        "print(no_fmap_excluded_iq_more_85.groupby('MRI_Track,Scan_Location')['Identifiers'].count())\n",
        "print('')\n",
        "print('When fmap excluded and IQ >= 85, Rutgers: dyslexics',\n",
        "      no_fmap_excluded_iq_more_85[(no_fmap_excluded_iq_more_85['MRI_Track,Scan_Location'] == 2) &\n",
        "                       (no_fmap_excluded_iq_more_85['Group'] != 'Control')].shape[0],\n",
        "      ', controls', no_fmap_excluded_iq_more_85[(no_fmap_excluded_iq_more_85['MRI_Track,Scan_Location'] == 2) &\n",
        "                       (no_fmap_excluded_iq_more_85['Group'] == 'Control')].shape[0])\n",
        "\n",
        "print('When fmap excluded and IQ >= 85, CBIC: dyslexics',\n",
        "      no_fmap_excluded_iq_more_85[(no_fmap_excluded_iq_more_85['MRI_Track,Scan_Location'] == 3) &\n",
        "                       (no_fmap_excluded_iq_more_85['Group'] != 'Control')].shape[0],\n",
        "      ', controls', no_fmap_excluded_iq_more_85[(no_fmap_excluded_iq_more_85['MRI_Track,Scan_Location'] == 3) &\n",
        "                       (no_fmap_excluded_iq_more_85['Group'] == 'Control')].shape[0])\n",
        "\n",
        "print('When fmap excluded and IQ >= 85, CUNY: dyslexics',\n",
        "      no_fmap_excluded_iq_more_85[(no_fmap_excluded_iq_more_85['MRI_Track,Scan_Location'] == 4) &\n",
        "                       (no_fmap_excluded_iq_more_85['Group'] != 'Control')].shape[0],\n",
        "      ', controls', no_fmap_excluded_iq_more_85[(no_fmap_excluded_iq_more_85['MRI_Track,Scan_Location'] == 4) &\n",
        "                       (no_fmap_excluded_iq_more_85['Group'] == 'Control')].shape[0])"
      ],
      "metadata": {
        "id": "c-0JHWl0u0Qs",
        "outputId": "382cad39-8350-45b7-85e2-e23433f6b41e",
        "colab": {
          "base_uri": "https://localhost:8080/"
        }
      },
      "execution_count": 29,
      "outputs": [
        {
          "output_type": "stream",
          "name": "stdout",
          "text": [
            "Total sample when no fmap option excluded and IQ >= 85 297 particpants\n",
            "169 dyslexics\n",
            "128 controls\n",
            "\n",
            "MRI_Track,Age_at_Scan\n",
            "5-6      15\n",
            "6-7      34\n",
            "7-8      52\n",
            "8-9      45\n",
            "9-10     39\n",
            "10-11    28\n",
            "11-12    24\n",
            "12-13    17\n",
            "13-14    10\n",
            "14-15    16\n",
            "15-16     6\n",
            "16-17     5\n",
            "17-18     6\n",
            "Name: count, dtype: int64\n",
            "\n",
            "MRI_Track,Scan_Location\n",
            "2    118\n",
            "3    146\n",
            "4     33\n",
            "Name: Identifiers, dtype: int64\n",
            "\n",
            "When fmap excluded and IQ >= 85, Rutgers: dyslexics 65 , controls 53\n",
            "When fmap excluded and IQ >= 85, CBIC: dyslexics 87 , controls 59\n",
            "When fmap excluded and IQ >= 85, CUNY: dyslexics 17 , controls 16\n"
          ]
        }
      ]
    },
    {
      "cell_type": "code",
      "source": [
        "# if we exclude these IQ points between 70 and 85 but include people with no fmap:\n",
        "all_fmap_options_iq_more_85 = all_fmap_options[all_fmap_options['IQ'] >= 85]\n",
        "\n",
        "print(\"Total sample when no fmap option included and IQ >= 85\",\n",
        "      all_fmap_options_iq_more_85.shape[0], 'particpants')\n",
        "print(all_fmap_options_iq_more_85[all_fmap_options_iq_more_85['Group'] != 'Control'].shape[0], 'dyslexics')\n",
        "print(all_fmap_options_iq_more_85[all_fmap_options_iq_more_85['Group'] == 'Control'].shape[0], 'controls')\n",
        "print('')\n",
        "# people with low IQ\n",
        "bins = list(range(5, 19))  # Bins from 5 to 18 (inclusive of 5, exclusive of 19)\n",
        "labels = [f\"{i}-{i+1}\" for i in bins[:-1]]  # Label for each age bin\n",
        "# Use pd.cut without assigning a new column\n",
        "age_group_counts = pd.cut(all_fmap_options_iq_more_85['MRI_Track,Age_at_Scan'], bins=bins, right=False, labels=labels).value_counts().sort_index()\n",
        "\n",
        "# Print the result\n",
        "print(age_group_counts)\n",
        "print('')\n",
        "print(all_fmap_options_iq_more_85.groupby('MRI_Track,Scan_Location')['Identifiers'].count())\n",
        "print('')\n",
        "print('When no fmap included and IQ >= 85, Rutgers: dyslexics',\n",
        "      all_fmap_options_iq_more_85[(all_fmap_options_iq_more_85['MRI_Track,Scan_Location'] == 2) &\n",
        "                       (all_fmap_options_iq_more_85['Group'] != 'Control')].shape[0],\n",
        "      ', controls', all_fmap_options_iq_more_85[(all_fmap_options_iq_more_85['MRI_Track,Scan_Location'] == 2) &\n",
        "                       (all_fmap_options_iq_more_85['Group'] == 'Control')].shape[0])\n",
        "\n",
        "print('When no fmap included and IQ >= 85, CBIC: dyslexics',\n",
        "      all_fmap_options_iq_more_85[(all_fmap_options_iq_more_85['MRI_Track,Scan_Location'] == 3) &\n",
        "                       (all_fmap_options_iq_more_85['Group'] != 'Control')].shape[0],\n",
        "      ', controls', all_fmap_options_iq_more_85[(all_fmap_options_iq_more_85['MRI_Track,Scan_Location'] == 3) &\n",
        "                       (all_fmap_options_iq_more_85['Group'] == 'Control')].shape[0])\n",
        "\n",
        "print('When no fmap included and IQ >= 85, CUNY: dyslexics',\n",
        "      all_fmap_options_iq_more_85[(all_fmap_options_iq_more_85['MRI_Track,Scan_Location'] == 4) &\n",
        "                       (all_fmap_options_iq_more_85['Group'] != 'Control')].shape[0],\n",
        "      ', controls', all_fmap_options_iq_more_85[(all_fmap_options_iq_more_85['MRI_Track,Scan_Location'] == 4) &\n",
        "                       (all_fmap_options_iq_more_85['Group'] == 'Control')].shape[0])"
      ],
      "metadata": {
        "id": "B1WkEQYKt6pD",
        "outputId": "c77f3879-d7aa-4bab-fc2d-2c630de6e1c4",
        "colab": {
          "base_uri": "https://localhost:8080/"
        }
      },
      "execution_count": 31,
      "outputs": [
        {
          "output_type": "stream",
          "name": "stdout",
          "text": [
            "Total sample when no fmap option included and IQ >= 85 313 particpants\n",
            "178 dyslexics\n",
            "135 controls\n",
            "\n",
            "MRI_Track,Age_at_Scan\n",
            "5-6      15\n",
            "6-7      36\n",
            "7-8      54\n",
            "8-9      47\n",
            "9-10     42\n",
            "10-11    32\n",
            "11-12    25\n",
            "12-13    17\n",
            "13-14    11\n",
            "14-15    16\n",
            "15-16     6\n",
            "16-17     6\n",
            "17-18     6\n",
            "Name: count, dtype: int64\n",
            "\n",
            "MRI_Track,Scan_Location\n",
            "2    121\n",
            "3    159\n",
            "4     33\n",
            "Name: Identifiers, dtype: int64\n",
            "\n",
            "When no fmap included and IQ >= 85, Rutgers: dyslexics 66 , controls 55\n",
            "When no fmap included and IQ >= 85, CBIC: dyslexics 95 , controls 64\n",
            "When no fmap included and IQ >= 85, CUNY: dyslexics 17 , controls 16\n"
          ]
        }
      ]
    },
    {
      "cell_type": "code",
      "source": [
        "# if we keep all the IQ points above 70. Then\n",
        "print(\"Total sample when no fmap option included and IQ > 70\",\n",
        "      all_fmap_options.shape[0], 'particpants')\n",
        "print(all_fmap_options[all_fmap_options['Group'] != 'Control'].shape[0], 'dyslexics')\n",
        "print(all_fmap_options[all_fmap_options['Group'] == 'Control'].shape[0], 'controls')\n",
        "\n",
        "# people with low IQ\n",
        "bins = list(range(5, 19))  # Bins from 5 to 18 (inclusive of 5, exclusive of 19)\n",
        "labels = [f\"{i}-{i+1}\" for i in bins[:-1]]  # Label for each age bin\n",
        "# Use pd.cut without assigning a new column\n",
        "age_group_counts = pd.cut(all_fmap_options['MRI_Track,Age_at_Scan'], bins=bins, right=False, labels=labels).value_counts().sort_index()\n",
        "\n",
        "# Print the result\n",
        "print(age_group_counts)\n",
        "\n",
        "print(all_fmap_options.groupby('MRI_Track,Scan_Location')['Identifiers'].count())"
      ],
      "metadata": {
        "id": "2Jjtfn9Ts7tI",
        "outputId": "6e2fddac-8346-469d-cd5a-f0f5f2054425",
        "colab": {
          "base_uri": "https://localhost:8080/"
        }
      },
      "execution_count": 20,
      "outputs": [
        {
          "output_type": "stream",
          "name": "stdout",
          "text": [
            "Total sample when no fmap option included and IQ > 70 371 particpants\n",
            "228 dyslexics\n",
            "143 controls\n",
            "MRI_Track,Age_at_Scan\n",
            "5-6      16\n",
            "6-7      40\n",
            "7-8      59\n",
            "8-9      55\n",
            "9-10     51\n",
            "10-11    37\n",
            "11-12    36\n",
            "12-13    22\n",
            "13-14    11\n",
            "14-15    22\n",
            "15-16     8\n",
            "16-17     6\n",
            "17-18     8\n",
            "Name: count, dtype: int64\n",
            "MRI_Track,Scan_Location\n",
            "2    141\n",
            "3    191\n",
            "4     39\n",
            "Name: Identifiers, dtype: int64\n"
          ]
        }
      ]
    },
    {
      "cell_type": "code",
      "source": [],
      "metadata": {
        "colab": {
          "base_uri": "https://localhost:8080/",
          "height": 303
        },
        "id": "JHFpR-p3yK8R",
        "outputId": "4d1fc3e2-7671-4244-9d41-0781c6f2fe7f"
      },
      "execution_count": null,
      "outputs": [
        {
          "output_type": "execute_result",
          "data": {
            "text/plain": [
              "88     14.715149\n",
              "114     7.823750\n",
              "161    11.341889\n",
              "193     8.160050\n",
              "265    12.420260\n",
              "411     9.403604\n",
              "463    15.602099\n",
              "Name: MRI_Track,Age_at_Scan, dtype: float64"
            ],
            "text/html": [
              "<div>\n",
              "<style scoped>\n",
              "    .dataframe tbody tr th:only-of-type {\n",
              "        vertical-align: middle;\n",
              "    }\n",
              "\n",
              "    .dataframe tbody tr th {\n",
              "        vertical-align: top;\n",
              "    }\n",
              "\n",
              "    .dataframe thead th {\n",
              "        text-align: right;\n",
              "    }\n",
              "</style>\n",
              "<table border=\"1\" class=\"dataframe\">\n",
              "  <thead>\n",
              "    <tr style=\"text-align: right;\">\n",
              "      <th></th>\n",
              "      <th>MRI_Track,Age_at_Scan</th>\n",
              "    </tr>\n",
              "  </thead>\n",
              "  <tbody>\n",
              "    <tr>\n",
              "      <th>88</th>\n",
              "      <td>14.715149</td>\n",
              "    </tr>\n",
              "    <tr>\n",
              "      <th>114</th>\n",
              "      <td>7.823750</td>\n",
              "    </tr>\n",
              "    <tr>\n",
              "      <th>161</th>\n",
              "      <td>11.341889</td>\n",
              "    </tr>\n",
              "    <tr>\n",
              "      <th>193</th>\n",
              "      <td>8.160050</td>\n",
              "    </tr>\n",
              "    <tr>\n",
              "      <th>265</th>\n",
              "      <td>12.420260</td>\n",
              "    </tr>\n",
              "    <tr>\n",
              "      <th>411</th>\n",
              "      <td>9.403604</td>\n",
              "    </tr>\n",
              "    <tr>\n",
              "      <th>463</th>\n",
              "      <td>15.602099</td>\n",
              "    </tr>\n",
              "  </tbody>\n",
              "</table>\n",
              "</div><br><label><b>dtype:</b> float64</label>"
            ]
          },
          "metadata": {},
          "execution_count": 75
        }
      ]
    },
    {
      "cell_type": "code",
      "source": [
        "# first, we would see what neuroimaging data we have available\n",
        "# then break down to different scanning sites and how many data points we are going to lose if we exclude SI information (age and groups)\n",
        "# checking number 4 - CUNY\n",
        "# checking number 3 - CBIC\n",
        "# checking number 2 - RUBIC\n",
        "# checking number 1 - Staten Island\n",
        "dwi_sample.head()"
      ],
      "metadata": {
        "colab": {
          "base_uri": "https://localhost:8080/",
          "height": 504
        },
        "id": "CFz-QlCI1egZ",
        "outputId": "9993112a-dc65-4d82-d1af-9bd9c331cddc"
      },
      "execution_count": null,
      "outputs": [
        {
          "output_type": "execute_result",
          "data": {
            "text/plain": [
              "   Unnamed: 0        Subject ID Has DWI Has FUNC Has ANAT Has FMAP  \\\n",
              "0           0  sub-NDARZM903TNL     Yes      Yes      Yes      Yes   \n",
              "1           1  sub-NDARFR301KKP     Yes      Yes      Yes      Yes   \n",
              "2           2  sub-NDARLT314TWP     Yes      Yes      Yes      Yes   \n",
              "3           3  sub-NDARMF230VEX     Yes      Yes      Yes      Yes   \n",
              "4           4  sub-NDAREV848HWX     Yes      Yes      Yes      Yes   \n",
              "\n",
              "                                           DWI Files  \\\n",
              "0  sub-NDARZM903TNL_acq-64dir_dwi.json, sub-NDARZ...   \n",
              "1  sub-NDARFR301KKP_acq-64dir_dwi.json, sub-NDARF...   \n",
              "2  sub-NDARLT314TWP_acq-64dir_dwi.json, sub-NDARL...   \n",
              "3  sub-NDARMF230VEX_acq-64dir_dwi.json, sub-NDARM...   \n",
              "4  sub-NDAREV848HWX_acq-64dir_dwi.json, sub-NDARE...   \n",
              "\n",
              "                                          FUNC Files  \\\n",
              "0  sub-NDARZM903TNL_task-rest_run-1_bold.json, su...   \n",
              "1  sub-NDARFR301KKP_task-rest_run-1_bold.json, su...   \n",
              "2  sub-NDARLT314TWP_task-rest_run-1_bold.json, su...   \n",
              "3  sub-NDARMF230VEX_task-peer_run-1_bold.json, su...   \n",
              "4  sub-NDAREV848HWX_task-rest_run-1_bold.json, su...   \n",
              "\n",
              "                                          ANAT Files  \\\n",
              "0  sub-NDARZM903TNL_acq-VNavNorm_T2w.json, sub-ND...   \n",
              "1  sub-NDARFR301KKP_acq-HCP_T1w.json, sub-NDARFR3...   \n",
              "2  sub-NDARLT314TWP_acq-VNavNorm_T2w.json, sub-ND...   \n",
              "3  sub-NDARMF230VEX_acq-HCP_T1w.json, sub-NDARMF2...   \n",
              "4  sub-NDAREV848HWX_acq-VNavNorm_T1w.json, sub-ND...   \n",
              "\n",
              "                                          FMAP Files   Identifiers  \\\n",
              "0  sub-NDARZM903TNL_dir-AP_acq-dwi_epi.json, sub-...  NDARZM903TNL   \n",
              "1  sub-NDARFR301KKP_dir-AP_acq-fMRI_epi.json, sub...  NDARFR301KKP   \n",
              "2  sub-NDARLT314TWP_dir-AP_acq-dwi_epi.json, sub-...  NDARLT314TWP   \n",
              "3  sub-NDARMF230VEX_dir-AP_acq-fMRI_epi.json, sub...  NDARMF230VEX   \n",
              "4  sub-NDAREV848HWX_dir-AP_acq-dwi_epi.json, sub-...  NDAREV848HWX   \n",
              "\n",
              "   Basic_Demos,Study_Site  Basic_Demos,Age  MRI_Track,Age_at_Scan  \\\n",
              "0                       3         9.586356               9.698950   \n",
              "1                       3         8.784166               8.987109   \n",
              "2                       3        14.845767              15.035363   \n",
              "3                       3         6.788386               6.862308   \n",
              "4                       3        11.557494              11.664727   \n",
              "\n",
              "   MRI_Track,Scan_Location MRI_Track,Clinical_Impression  \\\n",
              "0                        3                             1   \n",
              "1                        2                             1   \n",
              "2                        3                             2   \n",
              "3                        2                             1   \n",
              "4                        3                             1   \n",
              "\n",
              "                   Group   IQ  \n",
              "0                Control  103  \n",
              "1                     DD  102  \n",
              "2  DD with comorbidities   78  \n",
              "3                     DD  106  \n",
              "4  DD with comorbidities  102  "
            ],
            "text/html": [
              "\n",
              "  <div id=\"df-dc0eab9c-74a0-44a6-a3fd-4f5158b04d4b\" class=\"colab-df-container\">\n",
              "    <div>\n",
              "<style scoped>\n",
              "    .dataframe tbody tr th:only-of-type {\n",
              "        vertical-align: middle;\n",
              "    }\n",
              "\n",
              "    .dataframe tbody tr th {\n",
              "        vertical-align: top;\n",
              "    }\n",
              "\n",
              "    .dataframe thead th {\n",
              "        text-align: right;\n",
              "    }\n",
              "</style>\n",
              "<table border=\"1\" class=\"dataframe\">\n",
              "  <thead>\n",
              "    <tr style=\"text-align: right;\">\n",
              "      <th></th>\n",
              "      <th>Unnamed: 0</th>\n",
              "      <th>Subject ID</th>\n",
              "      <th>Has DWI</th>\n",
              "      <th>Has FUNC</th>\n",
              "      <th>Has ANAT</th>\n",
              "      <th>Has FMAP</th>\n",
              "      <th>DWI Files</th>\n",
              "      <th>FUNC Files</th>\n",
              "      <th>ANAT Files</th>\n",
              "      <th>FMAP Files</th>\n",
              "      <th>Identifiers</th>\n",
              "      <th>Basic_Demos,Study_Site</th>\n",
              "      <th>Basic_Demos,Age</th>\n",
              "      <th>MRI_Track,Age_at_Scan</th>\n",
              "      <th>MRI_Track,Scan_Location</th>\n",
              "      <th>MRI_Track,Clinical_Impression</th>\n",
              "      <th>Group</th>\n",
              "      <th>IQ</th>\n",
              "    </tr>\n",
              "  </thead>\n",
              "  <tbody>\n",
              "    <tr>\n",
              "      <th>0</th>\n",
              "      <td>0</td>\n",
              "      <td>sub-NDARZM903TNL</td>\n",
              "      <td>Yes</td>\n",
              "      <td>Yes</td>\n",
              "      <td>Yes</td>\n",
              "      <td>Yes</td>\n",
              "      <td>sub-NDARZM903TNL_acq-64dir_dwi.json, sub-NDARZ...</td>\n",
              "      <td>sub-NDARZM903TNL_task-rest_run-1_bold.json, su...</td>\n",
              "      <td>sub-NDARZM903TNL_acq-VNavNorm_T2w.json, sub-ND...</td>\n",
              "      <td>sub-NDARZM903TNL_dir-AP_acq-dwi_epi.json, sub-...</td>\n",
              "      <td>NDARZM903TNL</td>\n",
              "      <td>3</td>\n",
              "      <td>9.586356</td>\n",
              "      <td>9.698950</td>\n",
              "      <td>3</td>\n",
              "      <td>1</td>\n",
              "      <td>Control</td>\n",
              "      <td>103</td>\n",
              "    </tr>\n",
              "    <tr>\n",
              "      <th>1</th>\n",
              "      <td>1</td>\n",
              "      <td>sub-NDARFR301KKP</td>\n",
              "      <td>Yes</td>\n",
              "      <td>Yes</td>\n",
              "      <td>Yes</td>\n",
              "      <td>Yes</td>\n",
              "      <td>sub-NDARFR301KKP_acq-64dir_dwi.json, sub-NDARF...</td>\n",
              "      <td>sub-NDARFR301KKP_task-rest_run-1_bold.json, su...</td>\n",
              "      <td>sub-NDARFR301KKP_acq-HCP_T1w.json, sub-NDARFR3...</td>\n",
              "      <td>sub-NDARFR301KKP_dir-AP_acq-fMRI_epi.json, sub...</td>\n",
              "      <td>NDARFR301KKP</td>\n",
              "      <td>3</td>\n",
              "      <td>8.784166</td>\n",
              "      <td>8.987109</td>\n",
              "      <td>2</td>\n",
              "      <td>1</td>\n",
              "      <td>DD</td>\n",
              "      <td>102</td>\n",
              "    </tr>\n",
              "    <tr>\n",
              "      <th>2</th>\n",
              "      <td>2</td>\n",
              "      <td>sub-NDARLT314TWP</td>\n",
              "      <td>Yes</td>\n",
              "      <td>Yes</td>\n",
              "      <td>Yes</td>\n",
              "      <td>Yes</td>\n",
              "      <td>sub-NDARLT314TWP_acq-64dir_dwi.json, sub-NDARL...</td>\n",
              "      <td>sub-NDARLT314TWP_task-rest_run-1_bold.json, su...</td>\n",
              "      <td>sub-NDARLT314TWP_acq-VNavNorm_T2w.json, sub-ND...</td>\n",
              "      <td>sub-NDARLT314TWP_dir-AP_acq-dwi_epi.json, sub-...</td>\n",
              "      <td>NDARLT314TWP</td>\n",
              "      <td>3</td>\n",
              "      <td>14.845767</td>\n",
              "      <td>15.035363</td>\n",
              "      <td>3</td>\n",
              "      <td>2</td>\n",
              "      <td>DD with comorbidities</td>\n",
              "      <td>78</td>\n",
              "    </tr>\n",
              "    <tr>\n",
              "      <th>3</th>\n",
              "      <td>3</td>\n",
              "      <td>sub-NDARMF230VEX</td>\n",
              "      <td>Yes</td>\n",
              "      <td>Yes</td>\n",
              "      <td>Yes</td>\n",
              "      <td>Yes</td>\n",
              "      <td>sub-NDARMF230VEX_acq-64dir_dwi.json, sub-NDARM...</td>\n",
              "      <td>sub-NDARMF230VEX_task-peer_run-1_bold.json, su...</td>\n",
              "      <td>sub-NDARMF230VEX_acq-HCP_T1w.json, sub-NDARMF2...</td>\n",
              "      <td>sub-NDARMF230VEX_dir-AP_acq-fMRI_epi.json, sub...</td>\n",
              "      <td>NDARMF230VEX</td>\n",
              "      <td>3</td>\n",
              "      <td>6.788386</td>\n",
              "      <td>6.862308</td>\n",
              "      <td>2</td>\n",
              "      <td>1</td>\n",
              "      <td>DD</td>\n",
              "      <td>106</td>\n",
              "    </tr>\n",
              "    <tr>\n",
              "      <th>4</th>\n",
              "      <td>4</td>\n",
              "      <td>sub-NDAREV848HWX</td>\n",
              "      <td>Yes</td>\n",
              "      <td>Yes</td>\n",
              "      <td>Yes</td>\n",
              "      <td>Yes</td>\n",
              "      <td>sub-NDAREV848HWX_acq-64dir_dwi.json, sub-NDARE...</td>\n",
              "      <td>sub-NDAREV848HWX_task-rest_run-1_bold.json, su...</td>\n",
              "      <td>sub-NDAREV848HWX_acq-VNavNorm_T1w.json, sub-ND...</td>\n",
              "      <td>sub-NDAREV848HWX_dir-AP_acq-dwi_epi.json, sub-...</td>\n",
              "      <td>NDAREV848HWX</td>\n",
              "      <td>3</td>\n",
              "      <td>11.557494</td>\n",
              "      <td>11.664727</td>\n",
              "      <td>3</td>\n",
              "      <td>1</td>\n",
              "      <td>DD with comorbidities</td>\n",
              "      <td>102</td>\n",
              "    </tr>\n",
              "  </tbody>\n",
              "</table>\n",
              "</div>\n",
              "    <div class=\"colab-df-buttons\">\n",
              "\n",
              "  <div class=\"colab-df-container\">\n",
              "    <button class=\"colab-df-convert\" onclick=\"convertToInteractive('df-dc0eab9c-74a0-44a6-a3fd-4f5158b04d4b')\"\n",
              "            title=\"Convert this dataframe to an interactive table.\"\n",
              "            style=\"display:none;\">\n",
              "\n",
              "  <svg xmlns=\"http://www.w3.org/2000/svg\" height=\"24px\" viewBox=\"0 -960 960 960\">\n",
              "    <path d=\"M120-120v-720h720v720H120Zm60-500h600v-160H180v160Zm220 220h160v-160H400v160Zm0 220h160v-160H400v160ZM180-400h160v-160H180v160Zm440 0h160v-160H620v160ZM180-180h160v-160H180v160Zm440 0h160v-160H620v160Z\"/>\n",
              "  </svg>\n",
              "    </button>\n",
              "\n",
              "  <style>\n",
              "    .colab-df-container {\n",
              "      display:flex;\n",
              "      gap: 12px;\n",
              "    }\n",
              "\n",
              "    .colab-df-convert {\n",
              "      background-color: #E8F0FE;\n",
              "      border: none;\n",
              "      border-radius: 50%;\n",
              "      cursor: pointer;\n",
              "      display: none;\n",
              "      fill: #1967D2;\n",
              "      height: 32px;\n",
              "      padding: 0 0 0 0;\n",
              "      width: 32px;\n",
              "    }\n",
              "\n",
              "    .colab-df-convert:hover {\n",
              "      background-color: #E2EBFA;\n",
              "      box-shadow: 0px 1px 2px rgba(60, 64, 67, 0.3), 0px 1px 3px 1px rgba(60, 64, 67, 0.15);\n",
              "      fill: #174EA6;\n",
              "    }\n",
              "\n",
              "    .colab-df-buttons div {\n",
              "      margin-bottom: 4px;\n",
              "    }\n",
              "\n",
              "    [theme=dark] .colab-df-convert {\n",
              "      background-color: #3B4455;\n",
              "      fill: #D2E3FC;\n",
              "    }\n",
              "\n",
              "    [theme=dark] .colab-df-convert:hover {\n",
              "      background-color: #434B5C;\n",
              "      box-shadow: 0px 1px 3px 1px rgba(0, 0, 0, 0.15);\n",
              "      filter: drop-shadow(0px 1px 2px rgba(0, 0, 0, 0.3));\n",
              "      fill: #FFFFFF;\n",
              "    }\n",
              "  </style>\n",
              "\n",
              "    <script>\n",
              "      const buttonEl =\n",
              "        document.querySelector('#df-dc0eab9c-74a0-44a6-a3fd-4f5158b04d4b button.colab-df-convert');\n",
              "      buttonEl.style.display =\n",
              "        google.colab.kernel.accessAllowed ? 'block' : 'none';\n",
              "\n",
              "      async function convertToInteractive(key) {\n",
              "        const element = document.querySelector('#df-dc0eab9c-74a0-44a6-a3fd-4f5158b04d4b');\n",
              "        const dataTable =\n",
              "          await google.colab.kernel.invokeFunction('convertToInteractive',\n",
              "                                                    [key], {});\n",
              "        if (!dataTable) return;\n",
              "\n",
              "        const docLinkHtml = 'Like what you see? Visit the ' +\n",
              "          '<a target=\"_blank\" href=https://colab.research.google.com/notebooks/data_table.ipynb>data table notebook</a>'\n",
              "          + ' to learn more about interactive tables.';\n",
              "        element.innerHTML = '';\n",
              "        dataTable['output_type'] = 'display_data';\n",
              "        await google.colab.output.renderOutput(dataTable, element);\n",
              "        const docLink = document.createElement('div');\n",
              "        docLink.innerHTML = docLinkHtml;\n",
              "        element.appendChild(docLink);\n",
              "      }\n",
              "    </script>\n",
              "  </div>\n",
              "\n",
              "\n",
              "<div id=\"df-62e3ab90-d220-4909-accc-9b64a6003604\">\n",
              "  <button class=\"colab-df-quickchart\" onclick=\"quickchart('df-62e3ab90-d220-4909-accc-9b64a6003604')\"\n",
              "            title=\"Suggest charts\"\n",
              "            style=\"display:none;\">\n",
              "\n",
              "<svg xmlns=\"http://www.w3.org/2000/svg\" height=\"24px\"viewBox=\"0 0 24 24\"\n",
              "     width=\"24px\">\n",
              "    <g>\n",
              "        <path d=\"M19 3H5c-1.1 0-2 .9-2 2v14c0 1.1.9 2 2 2h14c1.1 0 2-.9 2-2V5c0-1.1-.9-2-2-2zM9 17H7v-7h2v7zm4 0h-2V7h2v10zm4 0h-2v-4h2v4z\"/>\n",
              "    </g>\n",
              "</svg>\n",
              "  </button>\n",
              "\n",
              "<style>\n",
              "  .colab-df-quickchart {\n",
              "      --bg-color: #E8F0FE;\n",
              "      --fill-color: #1967D2;\n",
              "      --hover-bg-color: #E2EBFA;\n",
              "      --hover-fill-color: #174EA6;\n",
              "      --disabled-fill-color: #AAA;\n",
              "      --disabled-bg-color: #DDD;\n",
              "  }\n",
              "\n",
              "  [theme=dark] .colab-df-quickchart {\n",
              "      --bg-color: #3B4455;\n",
              "      --fill-color: #D2E3FC;\n",
              "      --hover-bg-color: #434B5C;\n",
              "      --hover-fill-color: #FFFFFF;\n",
              "      --disabled-bg-color: #3B4455;\n",
              "      --disabled-fill-color: #666;\n",
              "  }\n",
              "\n",
              "  .colab-df-quickchart {\n",
              "    background-color: var(--bg-color);\n",
              "    border: none;\n",
              "    border-radius: 50%;\n",
              "    cursor: pointer;\n",
              "    display: none;\n",
              "    fill: var(--fill-color);\n",
              "    height: 32px;\n",
              "    padding: 0;\n",
              "    width: 32px;\n",
              "  }\n",
              "\n",
              "  .colab-df-quickchart:hover {\n",
              "    background-color: var(--hover-bg-color);\n",
              "    box-shadow: 0 1px 2px rgba(60, 64, 67, 0.3), 0 1px 3px 1px rgba(60, 64, 67, 0.15);\n",
              "    fill: var(--button-hover-fill-color);\n",
              "  }\n",
              "\n",
              "  .colab-df-quickchart-complete:disabled,\n",
              "  .colab-df-quickchart-complete:disabled:hover {\n",
              "    background-color: var(--disabled-bg-color);\n",
              "    fill: var(--disabled-fill-color);\n",
              "    box-shadow: none;\n",
              "  }\n",
              "\n",
              "  .colab-df-spinner {\n",
              "    border: 2px solid var(--fill-color);\n",
              "    border-color: transparent;\n",
              "    border-bottom-color: var(--fill-color);\n",
              "    animation:\n",
              "      spin 1s steps(1) infinite;\n",
              "  }\n",
              "\n",
              "  @keyframes spin {\n",
              "    0% {\n",
              "      border-color: transparent;\n",
              "      border-bottom-color: var(--fill-color);\n",
              "      border-left-color: var(--fill-color);\n",
              "    }\n",
              "    20% {\n",
              "      border-color: transparent;\n",
              "      border-left-color: var(--fill-color);\n",
              "      border-top-color: var(--fill-color);\n",
              "    }\n",
              "    30% {\n",
              "      border-color: transparent;\n",
              "      border-left-color: var(--fill-color);\n",
              "      border-top-color: var(--fill-color);\n",
              "      border-right-color: var(--fill-color);\n",
              "    }\n",
              "    40% {\n",
              "      border-color: transparent;\n",
              "      border-right-color: var(--fill-color);\n",
              "      border-top-color: var(--fill-color);\n",
              "    }\n",
              "    60% {\n",
              "      border-color: transparent;\n",
              "      border-right-color: var(--fill-color);\n",
              "    }\n",
              "    80% {\n",
              "      border-color: transparent;\n",
              "      border-right-color: var(--fill-color);\n",
              "      border-bottom-color: var(--fill-color);\n",
              "    }\n",
              "    90% {\n",
              "      border-color: transparent;\n",
              "      border-bottom-color: var(--fill-color);\n",
              "    }\n",
              "  }\n",
              "</style>\n",
              "\n",
              "  <script>\n",
              "    async function quickchart(key) {\n",
              "      const quickchartButtonEl =\n",
              "        document.querySelector('#' + key + ' button');\n",
              "      quickchartButtonEl.disabled = true;  // To prevent multiple clicks.\n",
              "      quickchartButtonEl.classList.add('colab-df-spinner');\n",
              "      try {\n",
              "        const charts = await google.colab.kernel.invokeFunction(\n",
              "            'suggestCharts', [key], {});\n",
              "      } catch (error) {\n",
              "        console.error('Error during call to suggestCharts:', error);\n",
              "      }\n",
              "      quickchartButtonEl.classList.remove('colab-df-spinner');\n",
              "      quickchartButtonEl.classList.add('colab-df-quickchart-complete');\n",
              "    }\n",
              "    (() => {\n",
              "      let quickchartButtonEl =\n",
              "        document.querySelector('#df-62e3ab90-d220-4909-accc-9b64a6003604 button');\n",
              "      quickchartButtonEl.style.display =\n",
              "        google.colab.kernel.accessAllowed ? 'block' : 'none';\n",
              "    })();\n",
              "  </script>\n",
              "</div>\n",
              "\n",
              "    </div>\n",
              "  </div>\n"
            ],
            "application/vnd.google.colaboratory.intrinsic+json": {
              "type": "dataframe",
              "variable_name": "dwi_sample",
              "summary": "{\n  \"name\": \"dwi_sample\",\n  \"rows\": 371,\n  \"fields\": [\n    {\n      \"column\": \"Unnamed: 0\",\n      \"properties\": {\n        \"dtype\": \"number\",\n        \"std\": 144,\n        \"min\": 0,\n        \"max\": 491,\n        \"num_unique_values\": 371,\n        \"samples\": [\n          440,\n          34,\n          15\n        ],\n        \"semantic_type\": \"\",\n        \"description\": \"\"\n      }\n    },\n    {\n      \"column\": \"Subject ID\",\n      \"properties\": {\n        \"dtype\": \"string\",\n        \"num_unique_values\": 371,\n        \"samples\": [\n          \"sub-NDARMG451PJA\",\n          \"sub-NDARFW253GZM\",\n          \"sub-NDARAU840EUZ\"\n        ],\n        \"semantic_type\": \"\",\n        \"description\": \"\"\n      }\n    },\n    {\n      \"column\": \"Has DWI\",\n      \"properties\": {\n        \"dtype\": \"category\",\n        \"num_unique_values\": 1,\n        \"samples\": [\n          \"Yes\"\n        ],\n        \"semantic_type\": \"\",\n        \"description\": \"\"\n      }\n    },\n    {\n      \"column\": \"Has FUNC\",\n      \"properties\": {\n        \"dtype\": \"category\",\n        \"num_unique_values\": 1,\n        \"samples\": [\n          \"Yes\"\n        ],\n        \"semantic_type\": \"\",\n        \"description\": \"\"\n      }\n    },\n    {\n      \"column\": \"Has ANAT\",\n      \"properties\": {\n        \"dtype\": \"category\",\n        \"num_unique_values\": 1,\n        \"samples\": [\n          \"Yes\"\n        ],\n        \"semantic_type\": \"\",\n        \"description\": \"\"\n      }\n    },\n    {\n      \"column\": \"Has FMAP\",\n      \"properties\": {\n        \"dtype\": \"category\",\n        \"num_unique_values\": 2,\n        \"samples\": [\n          \"No\"\n        ],\n        \"semantic_type\": \"\",\n        \"description\": \"\"\n      }\n    },\n    {\n      \"column\": \"DWI Files\",\n      \"properties\": {\n        \"dtype\": \"string\",\n        \"num_unique_values\": 371,\n        \"samples\": [\n          \"sub-NDARMG451PJA_acq-64dir_dwi.json, sub-NDARMG451PJA_acq-64dir_dwi.nii.gz, sub-NDARMG451PJA_acq-64dir_dwi.bval, sub-NDARMG451PJA_acq-64dir_dwi.bvec, sub-NDARMG451PJA_acq-64dirTRACEW_dwi.json, sub-NDARMG451PJA_acq-64dirTRACEW_dwi.nii.gz\"\n        ],\n        \"semantic_type\": \"\",\n        \"description\": \"\"\n      }\n    },\n    {\n      \"column\": \"FUNC Files\",\n      \"properties\": {\n        \"dtype\": \"string\",\n        \"num_unique_values\": 371,\n        \"samples\": [\n          \"sub-NDARMG451PJA_task-rest_run-1_bold.json, sub-NDARMG451PJA_task-rest_run-1_bold.nii.gz, sub-NDARMG451PJA_task-peer_run-1_bold.json, sub-NDARMG451PJA_task-peer_run-1_bold.nii.gz, sub-NDARMG451PJA_task-rest_run-2_bold.json, sub-NDARMG451PJA_task-rest_run-2_bold.nii.gz, sub-NDARMG451PJA_task-peer_run-2_bold.json, sub-NDARMG451PJA_task-peer_run-2_bold.nii.gz, sub-NDARMG451PJA_task-movieDM_bold.json, sub-NDARMG451PJA_task-movieDM_bold.nii.gz, sub-NDARMG451PJA_task-peer_run-3_bold.json, sub-NDARMG451PJA_task-peer_run-3_bold.nii.gz, sub-NDARMG451PJA_task-movieTP_bold.json, sub-NDARMG451PJA_task-movieTP_bold.nii.gz\"\n        ],\n        \"semantic_type\": \"\",\n        \"description\": \"\"\n      }\n    },\n    {\n      \"column\": \"ANAT Files\",\n      \"properties\": {\n        \"dtype\": \"string\",\n        \"num_unique_values\": 371,\n        \"samples\": [\n          \"sub-NDARMG451PJA_acq-VNavNorm_T2w.json, sub-NDARMG451PJA_acq-VNavNorm_T2w.nii.gz, sub-NDARMG451PJA_acq-VNavNorm_T1w.json, sub-NDARMG451PJA_acq-VNavNorm_T1w.nii.gz, sub-NDARMG451PJA_acq-HCP_T1w.json, sub-NDARMG451PJA_acq-HCP_T1w.nii.gz, sub-NDARMG451PJA_acq-VNav_T2w.json, sub-NDARMG451PJA_acq-VNav_T2w.nii.gz, sub-NDARMG451PJA_acq-VNav_T1w.json, sub-NDARMG451PJA_acq-VNav_T1w.nii.gz, sub-NDARMG451PJA_MT-on_PD.json, sub-NDARMG451PJA_MT-on_PD.nii.gz, sub-NDARMG451PJA_MT-off_PD.json, sub-NDARMG451PJA_MT-off_PD.nii.gz\"\n        ],\n        \"semantic_type\": \"\",\n        \"description\": \"\"\n      }\n    },\n    {\n      \"column\": \"FMAP Files\",\n      \"properties\": {\n        \"dtype\": \"string\",\n        \"num_unique_values\": 351,\n        \"samples\": [\n          \"sub-NDARVV926KLM_dir-AP_acq-fMRI_epi.json, sub-NDARVV926KLM_dir-AP_acq-fMRI_epi.nii.gz, sub-NDARVV926KLM_dir-PA_acq-fMRI_epi.json, sub-NDARVV926KLM_dir-PA_acq-fMRI_epi.nii.gz, sub-NDARVV926KLM_dir-AP_acq-dwi_epi.json, sub-NDARVV926KLM_dir-AP_acq-dwi_epi.nii.gz, sub-NDARVV926KLM_dir-PA_acq-dwi_epi.json, sub-NDARVV926KLM_dir-PA_acq-dwi_epi.nii.gz\"\n        ],\n        \"semantic_type\": \"\",\n        \"description\": \"\"\n      }\n    },\n    {\n      \"column\": \"Identifiers\",\n      \"properties\": {\n        \"dtype\": \"string\",\n        \"num_unique_values\": 371,\n        \"samples\": [\n          \"NDARMG451PJA\"\n        ],\n        \"semantic_type\": \"\",\n        \"description\": \"\"\n      }\n    },\n    {\n      \"column\": \"Basic_Demos,Study_Site\",\n      \"properties\": {\n        \"dtype\": \"number\",\n        \"std\": 1,\n        \"min\": 1,\n        \"max\": 4,\n        \"num_unique_values\": 3,\n        \"samples\": [\n          3\n        ],\n        \"semantic_type\": \"\",\n        \"description\": \"\"\n      }\n    },\n    {\n      \"column\": \"Basic_Demos,Age\",\n      \"properties\": {\n        \"dtype\": \"number\",\n        \"std\": 2.8169341473573977,\n        \"min\": 5.189368,\n        \"max\": 17.348163,\n        \"num_unique_values\": 366,\n        \"samples\": [\n          6.947068\n        ],\n        \"semantic_type\": \"\",\n        \"description\": \"\"\n      }\n    },\n    {\n      \"column\": \"MRI_Track,Age_at_Scan\",\n      \"properties\": {\n        \"dtype\": \"number\",\n        \"std\": 2.8223412890632273,\n        \"min\": 5.228496,\n        \"max\": 17.553844,\n        \"num_unique_values\": 368,\n        \"samples\": [\n          8.614875\n        ],\n        \"semantic_type\": \"\",\n        \"description\": \"\"\n      }\n    },\n    {\n      \"column\": \"MRI_Track,Scan_Location\",\n      \"properties\": {\n        \"dtype\": \"number\",\n        \"std\": 0,\n        \"min\": 2,\n        \"max\": 4,\n        \"num_unique_values\": 3,\n        \"samples\": [\n          3\n        ],\n        \"semantic_type\": \"\",\n        \"description\": \"\"\n      }\n    },\n    {\n      \"column\": \"MRI_Track,Clinical_Impression\",\n      \"properties\": {\n        \"dtype\": \"category\",\n        \"num_unique_values\": 4,\n        \"samples\": [\n          \"2\"\n        ],\n        \"semantic_type\": \"\",\n        \"description\": \"\"\n      }\n    },\n    {\n      \"column\": \"Group\",\n      \"properties\": {\n        \"dtype\": \"category\",\n        \"num_unique_values\": 3,\n        \"samples\": [\n          \"Control\"\n        ],\n        \"semantic_type\": \"\",\n        \"description\": \"\"\n      }\n    },\n    {\n      \"column\": \"IQ\",\n      \"properties\": {\n        \"dtype\": \"number\",\n        \"std\": 14,\n        \"min\": 70,\n        \"max\": 144,\n        \"num_unique_values\": 63,\n        \"samples\": [\n          144\n        ],\n        \"semantic_type\": \"\",\n        \"description\": \"\"\n      }\n    }\n  ]\n}"
            }
          },
          "metadata": {},
          "execution_count": 52
        }
      ]
    },
    {
      "cell_type": "code",
      "source": [],
      "metadata": {
        "id": "FjMWk9svD6Pa"
      },
      "execution_count": null,
      "outputs": []
    }
  ]
}